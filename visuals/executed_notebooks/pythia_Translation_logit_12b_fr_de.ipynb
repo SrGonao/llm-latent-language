{
 "cells": [
  {
   "cell_type": "code",
   "execution_count": 1,
   "id": "9e266eca-b017-461f-9be4-bec02cae9b28",
   "metadata": {
    "execution": {
     "iopub.execute_input": "2024-03-02T15:37:24.930745Z",
     "iopub.status.busy": "2024-03-02T15:37:24.930420Z",
     "iopub.status.idle": "2024-03-02T15:37:24.943871Z",
     "shell.execute_reply": "2024-03-02T15:37:24.943508Z"
    },
    "papermill": {
     "duration": 0.019148,
     "end_time": "2024-03-02T15:37:24.944881",
     "exception": false,
     "start_time": "2024-03-02T15:37:24.925733",
     "status": "completed"
    },
    "tags": []
   },
   "outputs": [],
   "source": [
    "%load_ext autoreload\n",
    "%autoreload 2"
   ]
  },
  {
   "cell_type": "code",
   "execution_count": 2,
   "id": "fae8a7a9-6902-424e-8e66-b107fccb361f",
   "metadata": {
    "execution": {
     "iopub.execute_input": "2024-03-02T15:37:24.952309Z",
     "iopub.status.busy": "2024-03-02T15:37:24.952022Z",
     "iopub.status.idle": "2024-03-02T15:37:27.974470Z",
     "shell.execute_reply": "2024-03-02T15:37:27.973446Z"
    },
    "papermill": {
     "duration": 3.027479,
     "end_time": "2024-03-02T15:37:27.975882",
     "exception": false,
     "start_time": "2024-03-02T15:37:24.948403",
     "status": "completed"
    },
    "tags": []
   },
   "outputs": [
    {
     "name": "stderr",
     "output_type": "stream",
     "text": [
      "/mnt/ssd-1/gpaulo/miniconda3/envs/default/lib/python3.10/site-packages/tqdm/auto.py:21: TqdmWarning: IProgress not found. Please update jupyter and ipywidgets. See https://ipywidgets.readthedocs.io/en/stable/user_install.html\n",
      "  from .autonotebook import tqdm as notebook_tqdm\n"
     ]
    }
   ],
   "source": [
    "import pandas as pd\n",
    "import sys\n",
    "import os\n",
    "from dataclasses import dataclass\n",
    "import json\n",
    "import numpy as np\n",
    "from matplotlib import pyplot as plt\n",
    "import seaborn as sns\n",
    "import torch\n",
    "import torch.nn as nn\n",
    "import seaborn as sns\n",
    "from scipy.stats import bootstrap\n",
    "from utils import plot_ci, plot_ci_plus_heatmap\n",
    "from tqdm import tqdm\n",
    "from transformers import AutoModelForCausalLM, AutoTokenizer\n",
    "# fix random seed\n",
    "seed = 42\n",
    "np.random.seed(seed)\n",
    "torch.manual_seed(seed)\n",
    "sys.path.append('../tuned-lens')\n",
    "from tuned_lens.nn.lenses import TunedLens,LogitLens"
   ]
  },
  {
   "cell_type": "code",
   "execution_count": 3,
   "id": "1fb93987",
   "metadata": {
    "execution": {
     "iopub.execute_input": "2024-03-02T15:37:27.984575Z",
     "iopub.status.busy": "2024-03-02T15:37:27.984173Z",
     "iopub.status.idle": "2024-03-02T15:37:28.021412Z",
     "shell.execute_reply": "2024-03-02T15:37:28.020721Z"
    },
    "papermill": {
     "duration": 0.042217,
     "end_time": "2024-03-02T15:37:28.022478",
     "exception": false,
     "start_time": "2024-03-02T15:37:27.980261",
     "status": "completed"
    },
    "tags": [
     "parameters"
    ]
   },
   "outputs": [],
   "source": [
    "input_lang = 'zh'\n",
    "target_lang = 'zh'\n",
    "model_size = '12b'\n",
    "prefix = \"./data/langs/\"\n",
    "type = 'tuned'\n"
   ]
  },
  {
   "cell_type": "code",
   "execution_count": 4,
   "id": "cc35fdeb",
   "metadata": {
    "execution": {
     "iopub.execute_input": "2024-03-02T15:37:28.029604Z",
     "iopub.status.busy": "2024-03-02T15:37:28.029426Z",
     "iopub.status.idle": "2024-03-02T15:37:28.058948Z",
     "shell.execute_reply": "2024-03-02T15:37:28.058240Z"
    },
    "papermill": {
     "duration": 0.034054,
     "end_time": "2024-03-02T15:37:28.059899",
     "exception": false,
     "start_time": "2024-03-02T15:37:28.025845",
     "status": "completed"
    },
    "tags": [
     "injected-parameters"
    ]
   },
   "outputs": [],
   "source": [
    "# Parameters\n",
    "model_size = \"12b\"\n",
    "target_lang = \"de\"\n",
    "input_lang = \"fr\"\n",
    "type = \"logit\"\n"
   ]
  },
  {
   "cell_type": "code",
   "execution_count": 5,
   "id": "ccb0899b",
   "metadata": {
    "execution": {
     "iopub.execute_input": "2024-03-02T15:37:28.106243Z",
     "iopub.status.busy": "2024-03-02T15:37:28.105635Z",
     "iopub.status.idle": "2024-03-02T15:37:28.136967Z",
     "shell.execute_reply": "2024-03-02T15:37:28.136270Z"
    },
    "papermill": {
     "duration": 0.074031,
     "end_time": "2024-03-02T15:37:28.138004",
     "exception": false,
     "start_time": "2024-03-02T15:37:28.063973",
     "status": "completed"
    },
    "tags": []
   },
   "outputs": [],
   "source": [
    "df_en_input = pd.read_csv(f'{prefix}{input_lang}/clean.csv').reindex()\n",
    "df_en_target = pd.read_csv(f'{prefix}{target_lang}/clean.csv').reindex()"
   ]
  },
  {
   "cell_type": "code",
   "execution_count": 6,
   "id": "33747213",
   "metadata": {
    "execution": {
     "iopub.execute_input": "2024-03-02T15:37:28.145797Z",
     "iopub.status.busy": "2024-03-02T15:37:28.145322Z",
     "iopub.status.idle": "2024-03-02T15:37:32.891046Z",
     "shell.execute_reply": "2024-03-02T15:37:32.889884Z"
    },
    "papermill": {
     "duration": 4.750585,
     "end_time": "2024-03-02T15:37:32.892286",
     "exception": false,
     "start_time": "2024-03-02T15:37:28.141701",
     "status": "completed"
    },
    "tags": []
   },
   "outputs": [
    {
     "name": "stderr",
     "output_type": "stream",
     "text": [
      "\r",
      "Loading checkpoint shards:   0%|                                                                                                                                                                              | 0/3 [00:00<?, ?it/s]"
     ]
    },
    {
     "name": "stderr",
     "output_type": "stream",
     "text": [
      "\r",
      "Loading checkpoint shards:  33%|███████████████████████████████████████████████████████▎                                                                                                              | 1/3 [00:01<00:03,  1.85s/it]"
     ]
    },
    {
     "name": "stderr",
     "output_type": "stream",
     "text": [
      "\r",
      "Loading checkpoint shards:  67%|██████████████████████████████████████████████████████████████████████████████████████████████████████████████▋                                                       | 2/3 [00:03<00:01,  1.76s/it]"
     ]
    },
    {
     "name": "stderr",
     "output_type": "stream",
     "text": [
      "\r",
      "Loading checkpoint shards: 100%|██████████████████████████████████████████████████████████████████████████████████████████████████████████████████████████████████████████████████████████████████████| 3/3 [00:04<00:00,  1.29s/it]"
     ]
    },
    {
     "name": "stderr",
     "output_type": "stream",
     "text": [
      "\r",
      "Loading checkpoint shards: 100%|██████████████████████████████████████████████████████████████████████████████████████████████████████████████████████████████████████████████████████████████████████| 3/3 [00:04<00:00,  1.42s/it]"
     ]
    },
    {
     "name": "stderr",
     "output_type": "stream",
     "text": [
      "\n",
      "Special tokens have been added in the vocabulary, make sure the associated word embeddings are fine-tuned or trained.\n"
     ]
    }
   ],
   "source": [
    "pythia = AutoModelForCausalLM.from_pretrained(  # type: ignore\n",
    "                f\"EleutherAI/pythia-{model_size}\",\n",
    "                device_map={\"\": \"cuda:0\"},\n",
    "                revision=\"main\",\n",
    "                torch_dtype=\"auto\",\n",
    "            )\n",
    "\n",
    "    \n",
    "latent=\"en\"\n",
    "if type == 'logit':\n",
    "    pythia_lens = LogitLens.from_model(pythia).to(\"cuda\")\n",
    "    out_dir = f'./visuals/logit'\n",
    "if type == 'tuned':\n",
    "    pythia_lens = TunedLens.from_model_and_pretrained(pythia,f\"EleutherAI/pythia-{model_size}-deduped\").to(\"cuda\")\n",
    "    out_dir = f'./visuals/tuned'\n",
    "tokenizer = AutoTokenizer.from_pretrained(\n",
    "                f\"EleutherAI/pythia-{model_size}\"\n",
    "            )"
   ]
  },
  {
   "cell_type": "code",
   "execution_count": 7,
   "id": "bc45e052",
   "metadata": {
    "execution": {
     "iopub.execute_input": "2024-03-02T15:37:32.901646Z",
     "iopub.status.busy": "2024-03-02T15:37:32.901054Z",
     "iopub.status.idle": "2024-03-02T15:37:35.446697Z",
     "shell.execute_reply": "2024-03-02T15:37:35.445918Z"
    },
    "papermill": {
     "duration": 2.550834,
     "end_time": "2024-03-02T15:37:35.447598",
     "exception": false,
     "start_time": "2024-03-02T15:37:32.896764",
     "status": "completed"
    },
    "tags": []
   },
   "outputs": [
    {
     "name": "stdout",
     "output_type": "stream",
     "text": [
      "Sequential(\n",
      "  (0): LayerNorm((5120,), eps=1e-05, elementwise_affine=True)\n",
      "  (1): Linear(in_features=5120, out_features=50688, bias=False)\n",
      ")\n"
     ]
    },
    {
     "name": "stdout",
     "output_type": "stream",
     "text": [
      "U torch.Size([50688, 5120]) weights torch.Size([1, 5120])\n"
     ]
    },
    {
     "name": "stdout",
     "output_type": "stream",
     "text": [
      "0.03080214373767376\n"
     ]
    }
   ],
   "source": [
    "unemb = nn.Sequential(pythia.gpt_neox.final_layer_norm, pythia.embed_out)\n",
    "print(unemb)\n",
    "# prepare for energy plots\n",
    "U = list(unemb[1].parameters())[0].detach().cpu().float()\n",
    "weights = list(unemb[0].parameters())[0].detach().cpu().float()\n",
    "print(f'U {U.shape} weights {weights.unsqueeze(0).shape}')\n",
    "U_weighted = U.clone() \n",
    "#U_weighted = U_weighted / ((U_weighted**2).mean(dim=1, keepdim=True))**0.5\n",
    "U_weighted *= weights.unsqueeze(0)\n",
    "U_normalized = U_weighted / ((U_weighted**2).sum(dim=1, keepdim=True))**0.5\n",
    "v = U.shape[0]\n",
    "TT = U_normalized.T @ U_normalized\n",
    "avgUU = (((U_normalized.T @ U_normalized)**2).sum() / v**2)**0.5\n",
    "print(avgUU.item())"
   ]
  },
  {
   "cell_type": "code",
   "execution_count": 8,
   "id": "5686a8d5",
   "metadata": {
    "execution": {
     "iopub.execute_input": "2024-03-02T15:37:35.457008Z",
     "iopub.status.busy": "2024-03-02T15:37:35.456435Z",
     "iopub.status.idle": "2024-03-02T15:37:38.040893Z",
     "shell.execute_reply": "2024-03-02T15:37:38.039728Z"
    },
    "papermill": {
     "duration": 2.590056,
     "end_time": "2024-03-02T15:37:38.042160",
     "exception": false,
     "start_time": "2024-03-02T15:37:35.452104",
     "status": "completed"
    },
    "tags": []
   },
   "outputs": [
    {
     "name": "stdout",
     "output_type": "stream",
     "text": [
      "for de 16 of 120 are single tokens\n",
      "final length of df_en_de_fr: 100\n"
     ]
    }
   ],
   "source": [
    "count = 0\n",
    "for idx, word in enumerate(df_en_target['word_translation']):\n",
    "    if word in tokenizer.get_vocab() or '▁'+word in tokenizer.get_vocab():\n",
    "        count += 1\n",
    "\n",
    "print(f'for {target_lang} {count} of {len(df_en_target)} are single tokens')\n",
    "\n",
    "if input_lang == target_lang:\n",
    "    df_en_target_input = df_en_target.copy()\n",
    "    if latent == 'zh':\n",
    "      df_en_target_input = df_en_target.copy()\n",
    "      chinese = chinese.loc[chinese[\"word_original\"].isin(df_en_input[\"word_original\"])]\n",
    "      df_en_target_input= df_en_target_input.loc[df_en_target_input[\"word_original\"].isin(chinese[\"word_original\"])]\n",
    "      chinese.sort_values(by=\"word_original\", inplace=True)\n",
    "      df_en_target_input.sort_values(by=\"word_original\", inplace=True)\n",
    "      chinese.reset_index(drop=True, inplace=True)\n",
    "      df_en_target_input.reset_index(drop=True, inplace=True)\n",
    "      df_en_target_input[\"word_original\"] = chinese[\"word_translation\"]\n",
    "    df_en_target_input.rename(columns={'word_original': latent, \n",
    "                                f'word_translation': target_lang if target_lang != latent else f'{latent}_tgt'}, \n",
    "                                inplace=True)\n",
    "    \n",
    "else:\n",
    "    df_en_target_input = df_en_target.merge(df_en_input, on=['word_original'], suffixes=(f'_{target_lang}', f'_{input_lang}'))\n",
    "    if latent == 'zh':\n",
    "      chinese = chinese.loc[chinese[\"word_original\"].isin(df_en_target_input[\"word_original\"])]\n",
    "      df_en_target_input= df_en_target_input.loc[df_en_target_input[\"word_original\"].isin(chinese[\"word_original\"])]\n",
    "      chinese.sort_values(by=\"word_original\", inplace=True)\n",
    "      df_en_target_input.sort_values(by=\"word_original\", inplace=True)\n",
    "      chinese.reset_index(drop=True, inplace=True)\n",
    "      df_en_target_input.reset_index(drop=True, inplace=True)\n",
    "      df_en_target_input[\"word_original\"] = chinese[\"word_translation\"]\n",
    "\n",
    "    df_en_target_input.rename(columns={'word_original': latent, \n",
    "                                f'word_translation_{target_lang}': target_lang if target_lang != latent else f'{latent}_tgt', \n",
    "                                f'word_translation_{input_lang}': input_lang if input_lang != latent else f'{latent}_in'}, \n",
    "                                inplace=True)\n",
    "# delete all rows where en is contained in de or fr\n",
    "if target_lang != latent:\n",
    "    for i, row in df_en_target_input.iterrows():\n",
    "        if row[latent].lower() in row[target_lang].lower():\n",
    "            df_en_target_input.drop(i, inplace=True)\n",
    "\n",
    "print(f'final length of df_{latent}_{target_lang}_{input_lang}: {len(df_en_target_input)}')"
   ]
  },
  {
   "cell_type": "code",
   "execution_count": 9,
   "id": "f0c0a52d",
   "metadata": {
    "execution": {
     "iopub.execute_input": "2024-03-02T15:37:38.051819Z",
     "iopub.status.busy": "2024-03-02T15:37:38.051477Z",
     "iopub.status.idle": "2024-03-02T15:37:38.095423Z",
     "shell.execute_reply": "2024-03-02T15:37:38.094819Z"
    },
    "papermill": {
     "duration": 0.049951,
     "end_time": "2024-03-02T15:37:38.096735",
     "exception": false,
     "start_time": "2024-03-02T15:37:38.046784",
     "status": "completed"
    },
    "tags": []
   },
   "outputs": [],
   "source": [
    "def token_prefixes(token_str: str):\n",
    "    n = len(token_str)\n",
    "    tokens = [token_str[:i] for i in range(1, n+1)]\n",
    "    return tokens \n",
    "\n",
    "def add_spaces(tokens):\n",
    "    return ['▁' + t for t in tokens] + tokens\n",
    "\n",
    "def capitalizations(tokens):\n",
    "    return list(set(tokens))\n",
    "\n",
    "def unicode_prefix_tokid(zh_char = \"云\", tokenizer=tokenizer):\n",
    "    start = zh_char.encode().__str__()[2:-1].split('\\\\x')[1]\n",
    "    unicode_format = '<0x%s>'\n",
    "    start_key = unicode_format%start.upper()\n",
    "    if start_key in tokenizer.get_vocab():\n",
    "        return tokenizer.get_vocab()[start_key]\n",
    "    return None\n",
    "\n",
    "def process_tokens(token_str: str, tokenizer, lang):\n",
    "    with_prefixes = token_prefixes(token_str)\n",
    "    with_spaces = add_spaces(with_prefixes)\n",
    "    with_capitalizations = capitalizations(with_spaces)\n",
    "    final_tokens = []\n",
    "    for tok in with_capitalizations:\n",
    "        if tok in tokenizer.get_vocab():\n",
    "            final_tokens.append(tokenizer.get_vocab()[tok])\n",
    "    if lang in ['zh', 'ru']:\n",
    "        tokid = unicode_prefix_tokid(token_str, tokenizer)\n",
    "        if tokid is not None:\n",
    "            final_tokens.append(tokid)\n",
    "    return final_tokens"
   ]
  },
  {
   "cell_type": "code",
   "execution_count": 10,
   "id": "faa7bb78",
   "metadata": {
    "execution": {
     "iopub.execute_input": "2024-03-02T15:37:38.105242Z",
     "iopub.status.busy": "2024-03-02T15:37:38.104970Z",
     "iopub.status.idle": "2024-03-02T15:37:38.159085Z",
     "shell.execute_reply": "2024-03-02T15:37:38.158126Z"
    },
    "papermill": {
     "duration": 0.059752,
     "end_time": "2024-03-02T15:37:38.160362",
     "exception": false,
     "start_time": "2024-03-02T15:37:38.100610",
     "status": "completed"
    },
    "tags": []
   },
   "outputs": [],
   "source": [
    "\n",
    "id2voc = {id:voc for voc, id in tokenizer.get_vocab().items()}\n",
    "def get_tokens(token_ids, id2voc=id2voc):\n",
    "    return [id2voc[tokid] for tokid in token_ids]\n",
    "\n",
    "def compute_entropy(probas):\n",
    "    return (-probas*torch.log2(probas)).sum(dim=-1)\n",
    "\n",
    "lang2name = {'fr': 'Français', 'de': 'Deutsch', 'ru': 'Русский', 'en': 'English', 'zh': '中文'}\n",
    "def sample(df, ind, k=5, tokenizer=tokenizer, lang1='fr', lang2='de', lang_latent=latent):\n",
    "    df = df.reset_index(drop=True)\n",
    "    temp = df[df.index!=ind]\n",
    "    sample = pd.concat([temp.sample(k-1), df[df.index==ind]], axis=0)\n",
    "    prompt = \"\"\n",
    "    for idx, (df_idx, row) in enumerate(sample.iterrows()):\n",
    "        if idx < k-1:\n",
    "            prompt += f'{lang2name[lang1]}: \"{row[lang1]}\" - {lang2name[lang2]}: \"{row[lang2]}\"\\n'\n",
    "        else:\n",
    "            prompt += f'{lang2name[lang1]}: \"{row[lang1]}\" - {lang2name[lang2]}: \"'\n",
    "            in_token_str = row[lang1]\n",
    "            out_token_str = row[lang2]\n",
    "            out_token_id = process_tokens(out_token_str, tokenizer, lang2)\n",
    "            latent_token_str = row[lang_latent]\n",
    "            latent_token_id = process_tokens(latent_token_str, tokenizer, latent)\n",
    "            intersection = set(out_token_id).intersection(set(latent_token_id))\n",
    "            if len(out_token_id) == 0 or len(latent_token_id) == 0:\n",
    "                yield None\n",
    "            if lang2 != latent and len(intersection) > 0:\n",
    "                yield None\n",
    "            yield {'prompt': prompt, \n",
    "                'out_token_id': out_token_id, \n",
    "                'out_token_str': out_token_str,\n",
    "                'latent_token_id': latent_token_id, \n",
    "                'latent_token_str': latent_token_str, \n",
    "                'in_token_str': in_token_str}"
   ]
  },
  {
   "cell_type": "code",
   "execution_count": 11,
   "id": "500641f5",
   "metadata": {
    "execution": {
     "iopub.execute_input": "2024-03-02T15:37:38.169092Z",
     "iopub.status.busy": "2024-03-02T15:37:38.168624Z",
     "iopub.status.idle": "2024-03-02T15:38:07.212628Z",
     "shell.execute_reply": "2024-03-02T15:38:07.212073Z"
    },
    "papermill": {
     "duration": 29.049235,
     "end_time": "2024-03-02T15:38:07.213622",
     "exception": false,
     "start_time": "2024-03-02T15:37:38.164387",
     "status": "completed"
    },
    "tags": []
   },
   "outputs": [
    {
     "name": "stderr",
     "output_type": "stream",
     "text": [
      "\r",
      "  0%|                                                                                                                                                                                                       | 0/100 [00:00<?, ?it/s]"
     ]
    },
    {
     "name": "stderr",
     "output_type": "stream",
     "text": [
      "\r",
      "  1%|█▉                                                                                                                                                                                             | 1/100 [00:00<00:29,  3.41it/s]"
     ]
    },
    {
     "name": "stderr",
     "output_type": "stream",
     "text": [
      "\r",
      "  2%|███▊                                                                                                                                                                                           | 2/100 [00:00<00:26,  3.72it/s]"
     ]
    },
    {
     "name": "stderr",
     "output_type": "stream",
     "text": [
      "\r",
      "  3%|█████▋                                                                                                                                                                                         | 3/100 [00:00<00:25,  3.86it/s]"
     ]
    },
    {
     "name": "stderr",
     "output_type": "stream",
     "text": [
      "\r",
      "  4%|███████▋                                                                                                                                                                                       | 4/100 [00:01<00:23,  4.01it/s]"
     ]
    },
    {
     "name": "stderr",
     "output_type": "stream",
     "text": [
      "\r",
      "  5%|█████████▌                                                                                                                                                                                     | 5/100 [00:01<00:26,  3.63it/s]"
     ]
    },
    {
     "name": "stderr",
     "output_type": "stream",
     "text": [
      "\r",
      "  6%|███████████▍                                                                                                                                                                                   | 6/100 [00:01<00:25,  3.68it/s]"
     ]
    },
    {
     "name": "stderr",
     "output_type": "stream",
     "text": [
      "\r",
      "  7%|█████████████▎                                                                                                                                                                                 | 7/100 [00:01<00:22,  4.08it/s]"
     ]
    },
    {
     "name": "stderr",
     "output_type": "stream",
     "text": [
      "\r",
      "  8%|███████████████▎                                                                                                                                                                               | 8/100 [00:02<00:23,  3.98it/s]"
     ]
    },
    {
     "name": "stderr",
     "output_type": "stream",
     "text": [
      "\r",
      "  9%|█████████████████▏                                                                                                                                                                             | 9/100 [00:02<00:25,  3.57it/s]"
     ]
    },
    {
     "name": "stderr",
     "output_type": "stream",
     "text": [
      "\r",
      " 10%|███████████████████                                                                                                                                                                           | 10/100 [00:02<00:23,  3.78it/s]"
     ]
    },
    {
     "name": "stderr",
     "output_type": "stream",
     "text": [
      "\r",
      " 11%|████████████████████▉                                                                                                                                                                         | 11/100 [00:02<00:22,  3.88it/s]"
     ]
    },
    {
     "name": "stderr",
     "output_type": "stream",
     "text": [
      "\r",
      " 12%|██████████████████████▊                                                                                                                                                                       | 12/100 [00:03<00:24,  3.63it/s]"
     ]
    },
    {
     "name": "stderr",
     "output_type": "stream",
     "text": [
      "\r",
      " 13%|████████████████████████▋                                                                                                                                                                     | 13/100 [00:03<00:24,  3.51it/s]"
     ]
    },
    {
     "name": "stderr",
     "output_type": "stream",
     "text": [
      "\r",
      " 14%|██████████████████████████▌                                                                                                                                                                   | 14/100 [00:03<00:24,  3.49it/s]"
     ]
    },
    {
     "name": "stderr",
     "output_type": "stream",
     "text": [
      "\r",
      " 15%|████████████████████████████▌                                                                                                                                                                 | 15/100 [00:04<00:23,  3.64it/s]"
     ]
    },
    {
     "name": "stderr",
     "output_type": "stream",
     "text": [
      "\r",
      " 16%|██████████████████████████████▍                                                                                                                                                               | 16/100 [00:04<00:22,  3.69it/s]"
     ]
    },
    {
     "name": "stderr",
     "output_type": "stream",
     "text": [
      "\r",
      " 17%|████████████████████████████████▎                                                                                                                                                             | 17/100 [00:04<00:22,  3.76it/s]"
     ]
    },
    {
     "name": "stderr",
     "output_type": "stream",
     "text": [
      "\r",
      " 18%|██████████████████████████████████▏                                                                                                                                                           | 18/100 [00:04<00:22,  3.68it/s]"
     ]
    },
    {
     "name": "stderr",
     "output_type": "stream",
     "text": [
      "\r",
      " 19%|████████████████████████████████████                                                                                                                                                          | 19/100 [00:05<00:21,  3.70it/s]"
     ]
    },
    {
     "name": "stderr",
     "output_type": "stream",
     "text": [
      "\r",
      " 20%|██████████████████████████████████████                                                                                                                                                        | 20/100 [00:05<00:20,  3.81it/s]"
     ]
    },
    {
     "name": "stderr",
     "output_type": "stream",
     "text": [
      "\r",
      " 21%|███████████████████████████████████████▉                                                                                                                                                      | 21/100 [00:05<00:19,  4.07it/s]"
     ]
    },
    {
     "name": "stderr",
     "output_type": "stream",
     "text": [
      "\r",
      " 22%|█████████████████████████████████████████▊                                                                                                                                                    | 22/100 [00:05<00:18,  4.22it/s]"
     ]
    },
    {
     "name": "stderr",
     "output_type": "stream",
     "text": [
      "\r",
      " 23%|███████████████████████████████████████████▋                                                                                                                                                  | 23/100 [00:06<00:20,  3.81it/s]"
     ]
    },
    {
     "name": "stderr",
     "output_type": "stream",
     "text": [
      "\r",
      " 24%|█████████████████████████████████████████████▌                                                                                                                                                | 24/100 [00:06<00:20,  3.79it/s]"
     ]
    },
    {
     "name": "stderr",
     "output_type": "stream",
     "text": [
      "\r",
      " 25%|███████████████████████████████████████████████▌                                                                                                                                              | 25/100 [00:06<00:22,  3.28it/s]"
     ]
    },
    {
     "name": "stderr",
     "output_type": "stream",
     "text": [
      "\r",
      " 26%|█████████████████████████████████████████████████▍                                                                                                                                            | 26/100 [00:07<00:21,  3.51it/s]"
     ]
    },
    {
     "name": "stderr",
     "output_type": "stream",
     "text": [
      "\r",
      " 27%|███████████████████████████████████████████████████▎                                                                                                                                          | 27/100 [00:07<00:18,  3.89it/s]"
     ]
    },
    {
     "name": "stderr",
     "output_type": "stream",
     "text": [
      "\r",
      " 28%|█████████████████████████████████████████████████████▏                                                                                                                                        | 28/100 [00:07<00:18,  3.83it/s]"
     ]
    },
    {
     "name": "stderr",
     "output_type": "stream",
     "text": [
      "\r",
      " 29%|███████████████████████████████████████████████████████                                                                                                                                       | 29/100 [00:07<00:19,  3.61it/s]"
     ]
    },
    {
     "name": "stderr",
     "output_type": "stream",
     "text": [
      "\r",
      " 30%|█████████████████████████████████████████████████████████                                                                                                                                     | 30/100 [00:07<00:17,  4.05it/s]"
     ]
    },
    {
     "name": "stderr",
     "output_type": "stream",
     "text": [
      "\r",
      " 31%|██████████████████████████████████████████████████████████▉                                                                                                                                   | 31/100 [00:08<00:16,  4.21it/s]"
     ]
    },
    {
     "name": "stderr",
     "output_type": "stream",
     "text": [
      "\r",
      " 32%|████████████████████████████████████████████████████████████▊                                                                                                                                 | 32/100 [00:08<00:15,  4.45it/s]"
     ]
    },
    {
     "name": "stderr",
     "output_type": "stream",
     "text": [
      "\r",
      " 33%|██████████████████████████████████████████████████████████████▋                                                                                                                               | 33/100 [00:08<00:15,  4.22it/s]"
     ]
    },
    {
     "name": "stderr",
     "output_type": "stream",
     "text": [
      "\r",
      " 34%|████████████████████████████████████████████████████████████████▌                                                                                                                             | 34/100 [00:08<00:17,  3.87it/s]"
     ]
    },
    {
     "name": "stderr",
     "output_type": "stream",
     "text": [
      "\r",
      " 35%|██████████████████████████████████████████████████████████████████▌                                                                                                                           | 35/100 [00:09<00:15,  4.11it/s]"
     ]
    },
    {
     "name": "stderr",
     "output_type": "stream",
     "text": [
      "\r",
      " 36%|████████████████████████████████████████████████████████████████████▍                                                                                                                         | 36/100 [00:09<00:14,  4.30it/s]"
     ]
    },
    {
     "name": "stderr",
     "output_type": "stream",
     "text": [
      "\r",
      " 37%|██████████████████████████████████████████████████████████████████████▎                                                                                                                       | 37/100 [00:09<00:14,  4.22it/s]"
     ]
    },
    {
     "name": "stderr",
     "output_type": "stream",
     "text": [
      "\r",
      " 38%|████████████████████████████████████████████████████████████████████████▏                                                                                                                     | 38/100 [00:09<00:14,  4.19it/s]"
     ]
    },
    {
     "name": "stderr",
     "output_type": "stream",
     "text": [
      "\r",
      " 39%|██████████████████████████████████████████████████████████████████████████                                                                                                                    | 39/100 [00:10<00:14,  4.29it/s]"
     ]
    },
    {
     "name": "stderr",
     "output_type": "stream",
     "text": [
      "\r",
      " 40%|████████████████████████████████████████████████████████████████████████████                                                                                                                  | 40/100 [00:10<00:14,  4.24it/s]"
     ]
    },
    {
     "name": "stderr",
     "output_type": "stream",
     "text": [
      "\r",
      " 41%|█████████████████████████████████████████████████████████████████████████████▉                                                                                                                | 41/100 [00:10<00:15,  3.86it/s]"
     ]
    },
    {
     "name": "stderr",
     "output_type": "stream",
     "text": [
      "\r",
      " 42%|███████████████████████████████████████████████████████████████████████████████▊                                                                                                              | 42/100 [00:10<00:15,  3.81it/s]"
     ]
    },
    {
     "name": "stderr",
     "output_type": "stream",
     "text": [
      "\r",
      " 43%|█████████████████████████████████████████████████████████████████████████████████▋                                                                                                            | 43/100 [00:11<00:14,  3.99it/s]"
     ]
    },
    {
     "name": "stderr",
     "output_type": "stream",
     "text": [
      "\r",
      " 44%|███████████████████████████████████████████████████████████████████████████████████▌                                                                                                          | 44/100 [00:11<00:13,  4.11it/s]"
     ]
    },
    {
     "name": "stderr",
     "output_type": "stream",
     "text": [
      "\r",
      " 45%|█████████████████████████████████████████████████████████████████████████████████████▌                                                                                                        | 45/100 [00:11<00:13,  4.17it/s]"
     ]
    },
    {
     "name": "stderr",
     "output_type": "stream",
     "text": [
      "\r",
      " 46%|███████████████████████████████████████████████████████████████████████████████████████▍                                                                                                      | 46/100 [00:11<00:14,  3.62it/s]"
     ]
    },
    {
     "name": "stderr",
     "output_type": "stream",
     "text": [
      "\r",
      " 47%|█████████████████████████████████████████████████████████████████████████████████████████▎                                                                                                    | 47/100 [00:12<00:15,  3.35it/s]"
     ]
    },
    {
     "name": "stderr",
     "output_type": "stream",
     "text": [
      "\r",
      " 48%|███████████████████████████████████████████████████████████████████████████████████████████▏                                                                                                  | 48/100 [00:12<00:14,  3.57it/s]"
     ]
    },
    {
     "name": "stderr",
     "output_type": "stream",
     "text": [
      "\r",
      " 49%|█████████████████████████████████████████████████████████████████████████████████████████████                                                                                                 | 49/100 [00:12<00:13,  3.84it/s]"
     ]
    },
    {
     "name": "stderr",
     "output_type": "stream",
     "text": [
      "\r",
      " 50%|███████████████████████████████████████████████████████████████████████████████████████████████                                                                                               | 50/100 [00:13<00:12,  3.85it/s]"
     ]
    },
    {
     "name": "stderr",
     "output_type": "stream",
     "text": [
      "\r",
      " 51%|████████████████████████████████████████████████████████████████████████████████████████████████▉                                                                                             | 51/100 [00:13<00:14,  3.47it/s]"
     ]
    },
    {
     "name": "stderr",
     "output_type": "stream",
     "text": [
      "\r",
      " 52%|██████████████████████████████████████████████████████████████████████████████████████████████████▊                                                                                           | 52/100 [00:13<00:13,  3.57it/s]"
     ]
    },
    {
     "name": "stderr",
     "output_type": "stream",
     "text": [
      "\r",
      " 53%|████████████████████████████████████████████████████████████████████████████████████████████████████▋                                                                                         | 53/100 [00:13<00:12,  3.79it/s]"
     ]
    },
    {
     "name": "stderr",
     "output_type": "stream",
     "text": [
      "\r",
      " 54%|██████████████████████████████████████████████████████████████████████████████████████████████████████▌                                                                                       | 54/100 [00:14<00:11,  3.88it/s]"
     ]
    },
    {
     "name": "stderr",
     "output_type": "stream",
     "text": [
      "\r",
      " 55%|████████████████████████████████████████████████████████████████████████████████████████████████████████▌                                                                                     | 55/100 [00:14<00:12,  3.74it/s]"
     ]
    },
    {
     "name": "stderr",
     "output_type": "stream",
     "text": [
      "\r",
      " 56%|██████████████████████████████████████████████████████████████████████████████████████████████████████████▍                                                                                   | 56/100 [00:14<00:13,  3.35it/s]"
     ]
    },
    {
     "name": "stderr",
     "output_type": "stream",
     "text": [
      "\r",
      " 57%|████████████████████████████████████████████████████████████████████████████████████████████████████████████▎                                                                                 | 57/100 [00:15<00:13,  3.29it/s]"
     ]
    },
    {
     "name": "stderr",
     "output_type": "stream",
     "text": [
      "\r",
      " 58%|██████████████████████████████████████████████████████████████████████████████████████████████████████████████▏                                                                               | 58/100 [00:15<00:13,  3.01it/s]"
     ]
    },
    {
     "name": "stderr",
     "output_type": "stream",
     "text": [
      "\r",
      " 59%|████████████████████████████████████████████████████████████████████████████████████████████████████████████████                                                                              | 59/100 [00:15<00:12,  3.29it/s]"
     ]
    },
    {
     "name": "stderr",
     "output_type": "stream",
     "text": [
      "\r",
      " 60%|██████████████████████████████████████████████████████████████████████████████████████████████████████████████████                                                                            | 60/100 [00:16<00:13,  2.96it/s]"
     ]
    },
    {
     "name": "stderr",
     "output_type": "stream",
     "text": [
      "\r",
      " 61%|███████████████████████████████████████████████████████████████████████████████████████████████████████████████████▉                                                                          | 61/100 [00:16<00:13,  2.98it/s]"
     ]
    },
    {
     "name": "stderr",
     "output_type": "stream",
     "text": [
      "\r",
      " 62%|█████████████████████████████████████████████████████████████████████████████████████████████████████████████████████▊                                                                        | 62/100 [00:16<00:12,  3.05it/s]"
     ]
    },
    {
     "name": "stderr",
     "output_type": "stream",
     "text": [
      "\r",
      " 63%|███████████████████████████████████████████████████████████████████████████████████████████████████████████████████████▋                                                                      | 63/100 [00:17<00:11,  3.17it/s]"
     ]
    },
    {
     "name": "stderr",
     "output_type": "stream",
     "text": [
      "\r",
      " 64%|█████████████████████████████████████████████████████████████████████████████████████████████████████████████████████████▌                                                                    | 64/100 [00:17<00:10,  3.44it/s]"
     ]
    },
    {
     "name": "stderr",
     "output_type": "stream",
     "text": [
      "\r",
      " 65%|███████████████████████████████████████████████████████████████████████████████████████████████████████████████████████████▌                                                                  | 65/100 [00:17<00:10,  3.27it/s]"
     ]
    },
    {
     "name": "stderr",
     "output_type": "stream",
     "text": [
      "\r",
      " 66%|█████████████████████████████████████████████████████████████████████████████████████████████████████████████████████████████▍                                                                | 66/100 [00:17<00:10,  3.18it/s]"
     ]
    },
    {
     "name": "stderr",
     "output_type": "stream",
     "text": [
      "\r",
      " 67%|███████████████████████████████████████████████████████████████████████████████████████████████████████████████████████████████▎                                                              | 67/100 [00:18<00:09,  3.30it/s]"
     ]
    },
    {
     "name": "stderr",
     "output_type": "stream",
     "text": [
      "\r",
      " 68%|█████████████████████████████████████████████████████████████████████████████████████████████████████████████████████████████████▏                                                            | 68/100 [00:18<00:10,  3.03it/s]"
     ]
    },
    {
     "name": "stderr",
     "output_type": "stream",
     "text": [
      "\r",
      " 69%|███████████████████████████████████████████████████████████████████████████████████████████████████████████████████████████████████                                                           | 69/100 [00:18<00:09,  3.12it/s]"
     ]
    },
    {
     "name": "stderr",
     "output_type": "stream",
     "text": [
      "\r",
      " 70%|█████████████████████████████████████████████████████████████████████████████████████████████████████████████████████████████████████                                                         | 70/100 [00:19<00:09,  3.13it/s]"
     ]
    },
    {
     "name": "stderr",
     "output_type": "stream",
     "text": [
      "\r",
      " 71%|██████████████████████████████████████████████████████████████████████████████████████████████████████████████████████████████████████▉                                                       | 71/100 [00:19<00:09,  3.10it/s]"
     ]
    },
    {
     "name": "stderr",
     "output_type": "stream",
     "text": [
      "\r",
      " 72%|████████████████████████████████████████████████████████████████████████████████████████████████████████████████████████████████████████▊                                                     | 72/100 [00:19<00:08,  3.17it/s]"
     ]
    },
    {
     "name": "stderr",
     "output_type": "stream",
     "text": [
      "\r",
      " 73%|██████████████████████████████████████████████████████████████████████████████████████████████████████████████████████████████████████████▋                                                   | 73/100 [00:20<00:08,  3.01it/s]"
     ]
    },
    {
     "name": "stderr",
     "output_type": "stream",
     "text": [
      "\r",
      " 74%|████████████████████████████████████████████████████████████████████████████████████████████████████████████████████████████████████████████▌                                                 | 74/100 [00:20<00:09,  2.76it/s]"
     ]
    },
    {
     "name": "stderr",
     "output_type": "stream",
     "text": [
      "\r",
      " 75%|██████████████████████████████████████████████████████████████████████████████████████████████████████████████████████████████████████████████▌                                               | 75/100 [00:20<00:08,  3.01it/s]"
     ]
    },
    {
     "name": "stderr",
     "output_type": "stream",
     "text": [
      "\r",
      " 76%|████████████████████████████████████████████████████████████████████████████████████████████████████████████████████████████████████████████████▍                                             | 76/100 [00:21<00:07,  3.29it/s]"
     ]
    },
    {
     "name": "stderr",
     "output_type": "stream",
     "text": [
      "\r",
      " 77%|██████████████████████████████████████████████████████████████████████████████████████████████████████████████████████████████████████████████████▎                                           | 77/100 [00:21<00:07,  2.89it/s]"
     ]
    },
    {
     "name": "stderr",
     "output_type": "stream",
     "text": [
      "\r",
      " 78%|████████████████████████████████████████████████████████████████████████████████████████████████████████████████████████████████████████████████████▏                                         | 78/100 [00:21<00:07,  3.05it/s]"
     ]
    },
    {
     "name": "stderr",
     "output_type": "stream",
     "text": [
      "\r",
      " 79%|██████████████████████████████████████████████████████████████████████████████████████████████████████████████████████████████████████████████████████                                        | 79/100 [00:22<00:06,  3.02it/s]"
     ]
    },
    {
     "name": "stderr",
     "output_type": "stream",
     "text": [
      "\r",
      " 80%|████████████████████████████████████████████████████████████████████████████████████████████████████████████████████████████████████████████████████████                                      | 80/100 [00:22<00:06,  3.24it/s]"
     ]
    },
    {
     "name": "stderr",
     "output_type": "stream",
     "text": [
      "\r",
      " 81%|█████████████████████████████████████████████████████████████████████████████████████████████████████████████████████████████████████████████████████████▉                                    | 81/100 [00:22<00:05,  3.19it/s]"
     ]
    },
    {
     "name": "stderr",
     "output_type": "stream",
     "text": [
      "\r",
      " 82%|███████████████████████████████████████████████████████████████████████████████████████████████████████████████████████████████████████████████████████████▊                                  | 82/100 [00:23<00:05,  3.25it/s]"
     ]
    },
    {
     "name": "stderr",
     "output_type": "stream",
     "text": [
      "\r",
      " 83%|█████████████████████████████████████████████████████████████████████████████████████████████████████████████████████████████████████████████████████████████▋                                | 83/100 [00:23<00:05,  3.38it/s]"
     ]
    },
    {
     "name": "stderr",
     "output_type": "stream",
     "text": [
      "\r",
      " 84%|███████████████████████████████████████████████████████████████████████████████████████████████████████████████████████████████████████████████████████████████▌                              | 84/100 [00:23<00:05,  2.83it/s]"
     ]
    },
    {
     "name": "stderr",
     "output_type": "stream",
     "text": [
      "\r",
      " 85%|█████████████████████████████████████████████████████████████████████████████████████████████████████████████████████████████████████████████████████████████████▌                            | 85/100 [00:24<00:05,  2.97it/s]"
     ]
    },
    {
     "name": "stderr",
     "output_type": "stream",
     "text": [
      "\r",
      " 86%|███████████████████████████████████████████████████████████████████████████████████████████████████████████████████████████████████████████████████████████████████▍                          | 86/100 [00:24<00:05,  2.80it/s]"
     ]
    },
    {
     "name": "stderr",
     "output_type": "stream",
     "text": [
      "\r",
      " 87%|█████████████████████████████████████████████████████████████████████████████████████████████████████████████████████████████████████████████████████████████████████▎                        | 87/100 [00:24<00:04,  2.73it/s]"
     ]
    },
    {
     "name": "stderr",
     "output_type": "stream",
     "text": [
      "\r",
      " 88%|███████████████████████████████████████████████████████████████████████████████████████████████████████████████████████████████████████████████████████████████████████▏                      | 88/100 [00:25<00:04,  2.89it/s]"
     ]
    },
    {
     "name": "stderr",
     "output_type": "stream",
     "text": [
      "\r",
      " 89%|█████████████████████████████████████████████████████████████████████████████████████████████████████████████████████████████████████████████████████████████████████████                     | 89/100 [00:25<00:03,  2.88it/s]"
     ]
    },
    {
     "name": "stderr",
     "output_type": "stream",
     "text": [
      "\r",
      " 90%|███████████████████████████████████████████████████████████████████████████████████████████████████████████████████████████████████████████████████████████████████████████                   | 90/100 [00:25<00:03,  3.13it/s]"
     ]
    },
    {
     "name": "stderr",
     "output_type": "stream",
     "text": [
      "\r",
      " 91%|████████████████████████████████████████████████████████████████████████████████████████████████████████████████████████████████████████████████████████████████████████████▉                 | 91/100 [00:26<00:02,  3.19it/s]"
     ]
    },
    {
     "name": "stderr",
     "output_type": "stream",
     "text": [
      "\r",
      " 92%|██████████████████████████████████████████████████████████████████████████████████████████████████████████████████████████████████████████████████████████████████████████████▊               | 92/100 [00:26<00:02,  3.31it/s]"
     ]
    },
    {
     "name": "stderr",
     "output_type": "stream",
     "text": [
      "\r",
      " 93%|████████████████████████████████████████████████████████████████████████████████████████████████████████████████████████████████████████████████████████████████████████████████▋             | 93/100 [00:26<00:02,  3.47it/s]"
     ]
    },
    {
     "name": "stderr",
     "output_type": "stream",
     "text": [
      "\r",
      " 94%|██████████████████████████████████████████████████████████████████████████████████████████████████████████████████████████████████████████████████████████████████████████████████▌           | 94/100 [00:27<00:01,  3.04it/s]"
     ]
    },
    {
     "name": "stderr",
     "output_type": "stream",
     "text": [
      "\r",
      " 95%|████████████████████████████████████████████████████████████████████████████████████████████████████████████████████████████████████████████████████████████████████████████████████▌         | 95/100 [00:27<00:01,  2.80it/s]"
     ]
    },
    {
     "name": "stderr",
     "output_type": "stream",
     "text": [
      "\r",
      " 96%|██████████████████████████████████████████████████████████████████████████████████████████████████████████████████████████████████████████████████████████████████████████████████████▍       | 96/100 [00:27<00:01,  3.00it/s]"
     ]
    },
    {
     "name": "stderr",
     "output_type": "stream",
     "text": [
      "\r",
      " 97%|████████████████████████████████████████████████████████████████████████████████████████████████████████████████████████████████████████████████████████████████████████████████████████▎     | 97/100 [00:28<00:00,  3.10it/s]"
     ]
    },
    {
     "name": "stderr",
     "output_type": "stream",
     "text": [
      "\r",
      " 98%|██████████████████████████████████████████████████████████████████████████████████████████████████████████████████████████████████████████████████████████████████████████████████████████▏   | 98/100 [00:28<00:00,  3.23it/s]"
     ]
    },
    {
     "name": "stderr",
     "output_type": "stream",
     "text": [
      "\r",
      " 99%|████████████████████████████████████████████████████████████████████████████████████████████████████████████████████████████████████████████████████████████████████████████████████████████  | 99/100 [00:28<00:00,  3.30it/s]"
     ]
    },
    {
     "name": "stderr",
     "output_type": "stream",
     "text": [
      "\r",
      "100%|█████████████████████████████████████████████████████████████████████████████████████████████████████████████████████████████████████████████████████████████████████████████████████████████| 100/100 [00:29<00:00,  3.25it/s]"
     ]
    },
    {
     "name": "stderr",
     "output_type": "stream",
     "text": [
      "\r",
      "100%|█████████████████████████████████████████████████████████████████████████████████████████████████████████████████████████████████████████████████████████████████████████████████████████████| 100/100 [00:29<00:00,  3.45it/s]"
     ]
    },
    {
     "name": "stderr",
     "output_type": "stream",
     "text": [
      "\n"
     ]
    }
   ],
   "source": [
    "dataset = []\n",
    "for ind in tqdm(range(len(df_en_target_input))):\n",
    "    d = next(sample(df_en_target_input, ind, lang1=input_lang, lang2=target_lang))\n",
    "    if d is None:\n",
    "        continue\n",
    "    dataset.append(d)"
   ]
  },
  {
   "cell_type": "code",
   "execution_count": 12,
   "id": "d786ab1b",
   "metadata": {
    "execution": {
     "iopub.execute_input": "2024-03-02T15:38:07.230027Z",
     "iopub.status.busy": "2024-03-02T15:38:07.229864Z",
     "iopub.status.idle": "2024-03-02T15:38:07.275875Z",
     "shell.execute_reply": "2024-03-02T15:38:07.275430Z"
    },
    "papermill": {
     "duration": 0.054818,
     "end_time": "2024-03-02T15:38:07.276999",
     "exception": false,
     "start_time": "2024-03-02T15:38:07.222181",
     "status": "completed"
    },
    "tags": []
   },
   "outputs": [],
   "source": [
    "df = pd.DataFrame(dataset)\n",
    "os.makedirs(f'{out_dir}/translation', exist_ok=True)\n",
    "df.to_csv(f'{out_dir}/translation/pythia-{model_size}_{input_lang}_{target_lang}_dataset.csv', index=False)"
   ]
  },
  {
   "cell_type": "code",
   "execution_count": 13,
   "id": "94fa55b7",
   "metadata": {
    "execution": {
     "iopub.execute_input": "2024-03-02T15:38:07.291646Z",
     "iopub.status.busy": "2024-03-02T15:38:07.291491Z",
     "iopub.status.idle": "2024-03-02T15:38:07.323896Z",
     "shell.execute_reply": "2024-03-02T15:38:07.323465Z"
    },
    "papermill": {
     "duration": 0.041006,
     "end_time": "2024-03-02T15:38:07.325285",
     "exception": false,
     "start_time": "2024-03-02T15:38:07.284279",
     "status": "completed"
    },
    "tags": []
   },
   "outputs": [],
   "source": [
    "def get_logits(model, prompt,lens):\n",
    "    inputs = tokenizer(prompt, return_tensors=\"pt\").to('cuda')\n",
    "    output = pythia(inputs.input_ids, output_hidden_states=True)\n",
    "    hidden_states = output.hidden_states[:-1]\n",
    "    final_lps = output.logits.log_softmax(dim=-1)\n",
    "    tensors=[]\n",
    "    hd= []\n",
    "    for i in range(len(model.gpt_neox.layers)):\n",
    "        h = hidden_states[i].squeeze(0)\n",
    "        tensors+=[lens(h, idx=i).detach().cpu()]\n",
    "        hd+=[lens.transform_hidden(h, idx=i).detach().cpu()]\n",
    "    tensors= torch.stack(tensors)  \n",
    "    hidden_states = torch.stack(hd)\n",
    "    return tensors,hidden_states\n",
    "        "
   ]
  },
  {
   "cell_type": "code",
   "execution_count": 14,
   "id": "ee982287",
   "metadata": {
    "execution": {
     "iopub.execute_input": "2024-03-02T15:38:07.340394Z",
     "iopub.status.busy": "2024-03-02T15:38:07.340091Z",
     "iopub.status.idle": "2024-03-02T15:38:07.382086Z",
     "shell.execute_reply": "2024-03-02T15:38:07.381671Z"
    },
    "papermill": {
     "duration": 0.050435,
     "end_time": "2024-03-02T15:38:07.382948",
     "exception": false,
     "start_time": "2024-03-02T15:38:07.332513",
     "status": "completed"
    },
    "tags": []
   },
   "outputs": [
    {
     "data": {
      "text/plain": [
       "[{'prompt': 'Français: \"genre\" - Deutsch: \"Art\"\\nFrançais: \"huit\" - Deutsch: \"acht\"\\nFrançais: \"hausse\" - Deutsch: \"Anstieg\"\\nFrançais: \"grotte\" - Deutsch: \"Höhle\"\\nFrançais: \"nuage\" - Deutsch: \"',\n",
       "  'out_token_id': [48252, 56],\n",
       "  'out_token_str': 'Wolke',\n",
       "  'latent_token_id': [498, 18534, 45679, 68],\n",
       "  'latent_token_str': 'cloud',\n",
       "  'in_token_str': 'nuage'},\n",
       " {'prompt': 'Français: \"sud\" - Deutsch: \"Süden\"\\nFrançais: \"cinq\" - Deutsch: \"fünf\"\\nFrançais: \"cravate\" - Deutsch: \"Krawatte\"\\nFrançais: \"mille\" - Deutsch: \"tausend\"\\nFrançais: \"sac\" - Deutsch: \"',\n",
       "  'out_token_id': [26385, 53],\n",
       "  'out_token_str': 'Tasche',\n",
       "  'latent_token_id': [5830, 67, 22738],\n",
       "  'latent_token_str': 'bag',\n",
       "  'in_token_str': 'sac'},\n",
       " {'prompt': 'Français: \"champ\" - Deutsch: \"Feld\"\\nFrançais: \"thé\" - Deutsch: \"Tee\"\\nFrançais: \"tentative\" - Deutsch: \"Versuch\"\\nFrançais: \"vitesse\" - Deutsch: \"Geschwindigkeit\"\\nFrançais: \"bouche\" - Deutsch: \"',\n",
       "  'out_token_id': [46, 31425],\n",
       "  'out_token_str': 'Mund',\n",
       "  'latent_token_id': [6972, 19845, 78],\n",
       "  'latent_token_str': 'mouth',\n",
       "  'in_token_str': 'bouche'},\n",
       " {'prompt': 'Français: \"temps\" - Deutsch: \"Zeit\"\\nFrançais: \"cœur\" - Deutsch: \"Herz\"\\nFrançais: \"un\" - Deutsch: \"eins\"\\nFrançais: \"vitesse\" - Deutsch: \"Geschwindigkeit\"\\nFrançais: \"sol\" - Deutsch: \"',\n",
       "  'out_token_id': [11478, 35],\n",
       "  'out_token_str': 'Boden',\n",
       "  'latent_token_id': [84, 601],\n",
       "  'latent_token_str': 'soil',\n",
       "  'in_token_str': 'sol'},\n",
       " {'prompt': 'Français: \"section\" - Deutsch: \"Abschnitt\"\\nFrançais: \"huit\" - Deutsch: \"acht\"\\nFrançais: \"étoile\" - Deutsch: \"Stern\"\\nFrançais: \"ligne\" - Deutsch: \"Linie\"\\nFrançais: \"montagne\" - Deutsch: \"',\n",
       "  'out_token_id': [4678, 23666, 35],\n",
       "  'out_token_str': 'Berg',\n",
       "  'latent_token_id': [6972, 16285, 78],\n",
       "  'latent_token_str': 'mountain',\n",
       "  'in_token_str': 'montagne'},\n",
       " {'prompt': 'Français: \"paire\" - Deutsch: \"Paar\"\\nFrançais: \"tête\" - Deutsch: \"Kopf\"\\nFrançais: \"nuage\" - Deutsch: \"Wolke\"\\nFrançais: \"sol\" - Deutsch: \"Boden\"\\nFrançais: \"cœur\" - Deutsch: \"',\n",
       "  'out_token_id': [1328, 10759, 41],\n",
       "  'out_token_str': 'Herz',\n",
       "  'latent_token_id': [14387, 73, 248, 21071],\n",
       "  'latent_token_str': 'heart',\n",
       "  'in_token_str': 'cœur'},\n",
       " {'prompt': 'Français: \"gauche\" - Deutsch: \"links\"\\nFrançais: \"machine\" - Deutsch: \"Maschine\"\\nFrançais: \"mot\" - Deutsch: \"Wort\"\\nFrançais: \"pied\" - Deutsch: \"Fuß\"\\nFrançais: \"jour\" - Deutsch: \"',\n",
       "  'out_token_id': [26385, 12547, 53],\n",
       "  'out_token_str': 'Tag',\n",
       "  'latent_token_id': [69, 1201, 1473],\n",
       "  'latent_token_str': 'day',\n",
       "  'in_token_str': 'jour'},\n",
       " {'prompt': 'Français: \"tribu\" - Deutsch: \"Stamm\"\\nFrançais: \"bourse\" - Deutsch: \"Börse\"\\nFrançais: \"jour\" - Deutsch: \"Tag\"\\nFrançais: \"grille\" - Deutsch: \"Gitter\"\\nFrançais: \"étoile\" - Deutsch: \"',\n",
       "  'out_token_id': [6812, 998, 52],\n",
       "  'out_token_str': 'Stern',\n",
       "  'latent_token_id': [18233, 84, 7873, 296],\n",
       "  'latent_token_str': 'star',\n",
       "  'in_token_str': 'étoile'},\n",
       " {'prompt': 'Français: \"ménage\" - Deutsch: \"Haushalt\"\\nFrançais: \"école\" - Deutsch: \"Schule\"\\nFrançais: \"défaite\" - Deutsch: \"Niederlage\"\\nFrançais: \"quatre\" - Deutsch: \"vier\"\\nFrançais: \"ressort\" - Deutsch: \"',\n",
       "  'out_token_id': [7510, 39, 28246],\n",
       "  'out_token_str': 'Feder',\n",
       "  'latent_token_id': [27375, 1033, 10167, 84],\n",
       "  'latent_token_str': 'spring',\n",
       "  'in_token_str': 'ressort'},\n",
       " {'prompt': 'Français: \"neige\" - Deutsch: \"Schnee\"\\nFrançais: \"un\" - Deutsch: \"eins\"\\nFrançais: \"jour\" - Deutsch: \"Tag\"\\nFrançais: \"est\" - Deutsch: \"Osten\"\\nFrançais: \"lune\" - Deutsch: \"',\n",
       "  'out_token_id': [46, 9304, 15155],\n",
       "  'out_token_str': 'Mond',\n",
       "  'latent_token_id': [6972, 78],\n",
       "  'latent_token_str': 'moon',\n",
       "  'in_token_str': 'lune'},\n",
       " {'prompt': 'Français: \"vallée\" - Deutsch: \"Tal\"\\nFrançais: \"œil\" - Deutsch: \"Auge\"\\nFrançais: \"lac\" - Deutsch: \"See\"\\nFrançais: \"bouche\" - Deutsch: \"Mund\"\\nFrançais: \"bois\" - Deutsch: \"',\n",
       "  'out_token_id': [24095, 41, 24721],\n",
       "  'out_token_str': 'Holz',\n",
       "  'latent_token_id': [680, 88, 5308],\n",
       "  'latent_token_str': 'wood',\n",
       "  'in_token_str': 'bois'},\n",
       " {'prompt': 'Français: \"lune\" - Deutsch: \"Mond\"\\nFrançais: \"soleil\" - Deutsch: \"Sonne\"\\nFrançais: \"pouvoir\" - Deutsch: \"Macht\"\\nFrançais: \"pont\" - Deutsch: \"Brücke\"\\nFrançais: \"village\" - Deutsch: \"',\n",
       "  'out_token_id': [37, 4045, 47424],\n",
       "  'out_token_str': 'Dorf',\n",
       "  'latent_token_id': [6584, 33745, 87, 40579],\n",
       "  'latent_token_str': 'village',\n",
       "  'in_token_str': 'village'},\n",
       " {'prompt': 'Français: \"riz\" - Deutsch: \"Reis\"\\nFrançais: \"milieu\" - Deutsch: \"Mitte\"\\nFrançais: \"porte\" - Deutsch: \"Tür\"\\nFrançais: \"pont\" - Deutsch: \"Brücke\"\\nFrançais: \"forêt\" - Deutsch: \"',\n",
       "  'out_token_id': [46725, 26366, 56],\n",
       "  'out_token_str': 'Wald',\n",
       "  'latent_token_id': [71, 4786, 38250, 1542, 922],\n",
       "  'latent_token_str': 'forest',\n",
       "  'in_token_str': 'forêt'},\n",
       " {'prompt': 'Français: \"enfant\" - Deutsch: \"Kind\"\\nFrançais: \"loi\" - Deutsch: \"Gesetz\"\\nFrançais: \"sol\" - Deutsch: \"Boden\"\\nFrançais: \"point\" - Deutsch: \"Punkt\"\\nFrançais: \"grille\" - Deutsch: \"',\n",
       "  'out_token_id': [30206, 43612, 40],\n",
       "  'out_token_str': 'Gitter',\n",
       "  'latent_token_id': [737, 72, 15476],\n",
       "  'latent_token_str': 'grid',\n",
       "  'in_token_str': 'grille'},\n",
       " {'prompt': 'Français: \"bois\" - Deutsch: \"Holz\"\\nFrançais: \"couleur\" - Deutsch: \"Farbe\"\\nFrançais: \"cœur\" - Deutsch: \"Herz\"\\nFrançais: \"école\" - Deutsch: \"Schule\"\\nFrançais: \"chanson\" - Deutsch: \"',\n",
       "  'out_token_id': [28625, 17448, 45],\n",
       "  'out_token_str': 'Lied',\n",
       "  'latent_token_id': [32429, 1665, 84, 601],\n",
       "  'latent_token_str': 'song',\n",
       "  'in_token_str': 'chanson'},\n",
       " {'prompt': 'Français: \"rouge\" - Deutsch: \"rot\"\\nFrançais: \"bande\" - Deutsch: \"Streifen\"\\nFrançais: \"jour\" - Deutsch: \"Tag\"\\nFrançais: \"ville\" - Deutsch: \"Stadt\"\\nFrançais: \"étang\" - Deutsch: \"',\n",
       "  'out_token_id': [53, 7573],\n",
       "  'out_token_str': 'Teich',\n",
       "  'latent_token_id': [5367, 81],\n",
       "  'latent_token_str': 'pond',\n",
       "  'in_token_str': 'étang'},\n",
       " {'prompt': 'Français: \"supprimer\" - Deutsch: \"löschen\"\\nFrançais: \"nord\" - Deutsch: \"Norden\"\\nFrançais: \"mille\" - Deutsch: \"tausend\"\\nFrançais: \"site\" - Deutsch: \"Standort\"\\nFrançais: \"loi\" - Deutsch: \"',\n",
       "  'out_token_id': [7559, 40],\n",
       "  'out_token_str': 'Gesetz',\n",
       "  'latent_token_id': [6937, 77, 4123],\n",
       "  'latent_token_str': 'law',\n",
       "  'in_token_str': 'loi'},\n",
       " {'prompt': 'Français: \"ville\" - Deutsch: \"Stadt\"\\nFrançais: \"trois\" - Deutsch: \"drei\"\\nFrançais: \"cheval\" - Deutsch: \"Pferd\"\\nFrançais: \"sept\" - Deutsch: \"sieben\"\\nFrançais: \"onde\" - Deutsch: \"',\n",
       "  'out_token_id': [1231, 4497, 56],\n",
       "  'out_token_str': 'Welle',\n",
       "  'latent_token_id': [8754, 88, 15007],\n",
       "  'latent_token_str': 'wave',\n",
       "  'in_token_str': 'onde'},\n",
       " {'prompt': 'Français: \"tour\" - Deutsch: \"Turm\"\\nFrançais: \"bande\" - Deutsch: \"Streifen\"\\nFrançais: \"tentative\" - Deutsch: \"Versuch\"\\nFrançais: \"machine\" - Deutsch: \"Maschine\"\\nFrançais: \"océan\" - Deutsch: \"',\n",
       "  'out_token_id': [48, 45901],\n",
       "  'out_token_str': 'Ozean',\n",
       "  'latent_token_id': [80, 406],\n",
       "  'latent_token_str': 'ocean',\n",
       "  'in_token_str': 'océan'},\n",
       " {'prompt': 'Français: \"enfant\" - Deutsch: \"Kind\"\\nFrançais: \"mille\" - Deutsch: \"tausend\"\\nFrançais: \"province\" - Deutsch: \"Provinz\"\\nFrançais: \"jour\" - Deutsch: \"Tag\"\\nFrançais: \"grotte\" - Deutsch: \"',\n",
       "  'out_token_id': [41],\n",
       "  'out_token_str': 'Höhle',\n",
       "  'latent_token_id': [43205, 6357, 68],\n",
       "  'latent_token_str': 'cave',\n",
       "  'in_token_str': 'grotte'},\n",
       " {'prompt': 'Français: \"hausse\" - Deutsch: \"Anstieg\"\\nFrançais: \"maison\" - Deutsch: \"Haus\"\\nFrançais: \"deux\" - Deutsch: \"zwei\"\\nFrançais: \"temps\" - Deutsch: \"Zeit\"\\nFrançais: \"mer\" - Deutsch: \"',\n",
       "  'out_token_id': [46, 5072],\n",
       "  'out_token_str': 'Meer',\n",
       "  'latent_token_id': [15681, 84, 339],\n",
       "  'latent_token_str': 'sea',\n",
       "  'in_token_str': 'mer'},\n",
       " {'prompt': 'Français: \"neige\" - Deutsch: \"Schnee\"\\nFrançais: \"grille\" - Deutsch: \"Gitter\"\\nFrançais: \"queue\" - Deutsch: \"Schwanz\"\\nFrançais: \"bureau\" - Deutsch: \"Büro\"\\nFrançais: \"lac\" - Deutsch: \"',\n",
       "  'out_token_id': [3251, 52, 5035],\n",
       "  'out_token_str': 'See',\n",
       "  'latent_token_id': [77, 48212, 4123],\n",
       "  'latent_token_str': 'lake',\n",
       "  'in_token_str': 'lac'},\n",
       " {'prompt': 'Français: \"tour\" - Deutsch: \"Turm\"\\nFrançais: \"fleur\" - Deutsch: \"Blume\"\\nFrançais: \"est\" - Deutsch: \"Osten\"\\nFrançais: \"étang\" - Deutsch: \"Teich\"\\nFrançais: \"source\" - Deutsch: \"',\n",
       "  'out_token_id': [3864, 50, 13561],\n",
       "  'out_token_str': 'Quelle',\n",
       "  'latent_token_id': [6756, 84, 601],\n",
       "  'latent_token_str': 'source',\n",
       "  'in_token_str': 'source'},\n",
       " {'prompt': 'Français: \"milieu\" - Deutsch: \"Mitte\"\\nFrançais: \"mot\" - Deutsch: \"Wort\"\\nFrançais: \"plate-forme\" - Deutsch: \"Plattform\"\\nFrançais: \"sud\" - Deutsch: \"Süden\"\\nFrançais: \"point\" - Deutsch: \"',\n",
       "  'out_token_id': [38863, 49],\n",
       "  'out_token_str': 'Punkt',\n",
       "  'latent_token_id': [5367, 3659, 81],\n",
       "  'latent_token_str': 'point',\n",
       "  'in_token_str': 'point'},\n",
       " {'prompt': 'Français: \"neuf\" - Deutsch: \"neun\"\\nFrançais: \"histoire\" - Deutsch: \"Geschichte\"\\nFrançais: \"étoile\" - Deutsch: \"Stern\"\\nFrançais: \"pont\" - Deutsch: \"Brücke\"\\nFrançais: \"gare\" - Deutsch: \"',\n",
       "  'out_token_id': [24348, 35],\n",
       "  'out_token_str': 'Bahnhof',\n",
       "  'latent_token_id': [18233, 20502, 84, 8766, 296],\n",
       "  'latent_token_str': 'station',\n",
       "  'in_token_str': 'gare'},\n",
       " {'prompt': 'Français: \"plate-forme\" - Deutsch: \"Plattform\"\\nFrançais: \"gauche\" - Deutsch: \"links\"\\nFrançais: \"nord\" - Deutsch: \"Norden\"\\nFrançais: \"milieu\" - Deutsch: \"Mitte\"\\nFrançais: \"riz\" - Deutsch: \"',\n",
       "  'out_token_id': [1785, 51],\n",
       "  'out_token_str': 'Reis',\n",
       "  'latent_token_id': [83, 23804, 363, 695],\n",
       "  'latent_token_str': 'rice',\n",
       "  'in_token_str': 'riz'},\n",
       " {'prompt': 'Français: \"gauche\" - Deutsch: \"links\"\\nFrançais: \"neige\" - Deutsch: \"Schnee\"\\nFrançais: \"gare\" - Deutsch: \"Bahnhof\"\\nFrançais: \"partie\" - Deutsch: \"Teil\"\\nFrançais: \"ligne\" - Deutsch: \"',\n",
       "  'out_token_id': [17448, 26433, 45],\n",
       "  'out_token_str': 'Linie',\n",
       "  'latent_token_id': [77, 1282, 3642, 965],\n",
       "  'latent_token_str': 'line',\n",
       "  'in_token_str': 'ligne'},\n",
       " {'prompt': 'Français: \"groupe\" - Deutsch: \"Gruppe\"\\nFrançais: \"un\" - Deutsch: \"eins\"\\nFrançais: \"lac\" - Deutsch: \"See\"\\nFrançais: \"milieu\" - Deutsch: \"Mitte\"\\nFrançais: \"fleur\" - Deutsch: \"',\n",
       "  'out_token_id': [5622, 35],\n",
       "  'out_token_str': 'Blume',\n",
       "  'latent_token_id': [5449, 71, 40591, 33179, 1258],\n",
       "  'latent_token_str': 'flower',\n",
       "  'in_token_str': 'fleur'},\n",
       " {'prompt': 'Français: \"trois\" - Deutsch: \"drei\"\\nFrançais: \"carré\" - Deutsch: \"Quadrat\"\\nFrançais: \"groupe\" - Deutsch: \"Gruppe\"\\nFrançais: \"vertu\" - Deutsch: \"Tugend\"\\nFrançais: \"thé\" - Deutsch: \"',\n",
       "  'out_token_id': [7573, 53],\n",
       "  'out_token_str': 'Tee',\n",
       "  'latent_token_id': [85, 442],\n",
       "  'latent_token_str': 'tea',\n",
       "  'in_token_str': 'thé'},\n",
       " {'prompt': 'Français: \"lune\" - Deutsch: \"Mond\"\\nFrançais: \"grille\" - Deutsch: \"Gitter\"\\nFrançais: \"huit\" - Deutsch: \"acht\"\\nFrançais: \"paire\" - Deutsch: \"Paar\"\\nFrançais: \"pied\" - Deutsch: \"',\n",
       "  'out_token_id': [39, 42238],\n",
       "  'out_token_str': 'Fuß',\n",
       "  'latent_token_id': [71, 4786, 8938, 12110],\n",
       "  'latent_token_str': 'foot',\n",
       "  'in_token_str': 'pied'},\n",
       " {'prompt': 'Français: \"lune\" - Deutsch: \"Mond\"\\nFrançais: \"jour\" - Deutsch: \"Tag\"\\nFrançais: \"est\" - Deutsch: \"Osten\"\\nFrançais: \"quatre\" - Deutsch: \"vier\"\\nFrançais: \"porte\" - Deutsch: \"',\n",
       "  'out_token_id': [53],\n",
       "  'out_token_str': 'Tür',\n",
       "  'latent_token_id': [69, 3088, 11806],\n",
       "  'latent_token_str': 'door',\n",
       "  'in_token_str': 'porte'},\n",
       " {'prompt': 'Français: \"sac\" - Deutsch: \"Tasche\"\\nFrançais: \"sol\" - Deutsch: \"Boden\"\\nFrançais: \"vitesse\" - Deutsch: \"Geschwindigkeit\"\\nFrançais: \"sud\" - Deutsch: \"Süden\"\\nFrançais: \"neige\" - Deutsch: \"',\n",
       "  'out_token_id': [4316, 52, 10859],\n",
       "  'out_token_str': 'Schnee',\n",
       "  'latent_token_id': [11489, 84],\n",
       "  'latent_token_str': 'snow',\n",
       "  'in_token_str': 'neige'},\n",
       " {'prompt': 'Français: \"plate-forme\" - Deutsch: \"Plattform\"\\nFrançais: \"forêt\" - Deutsch: \"Wald\"\\nFrançais: \"été\" - Deutsch: \"Sommer\"\\nFrançais: \"vertu\" - Deutsch: \"Tugend\"\\nFrançais: \"cheval\" - Deutsch: \"',\n",
       "  'out_token_id': [48680, 49],\n",
       "  'out_token_str': 'Pferd',\n",
       "  'latent_token_id': [33647, 73, 1689, 1688, 4210],\n",
       "  'latent_token_str': 'horse',\n",
       "  'in_token_str': 'cheval'},\n",
       " {'prompt': 'Français: \"étang\" - Deutsch: \"Teich\"\\nFrançais: \"grille\" - Deutsch: \"Gitter\"\\nFrançais: \"neige\" - Deutsch: \"Schnee\"\\nFrançais: \"tête\" - Deutsch: \"Kopf\"\\nFrançais: \"un\" - Deutsch: \"',\n",
       "  'out_token_id': [27116, 70],\n",
       "  'out_token_str': 'eins',\n",
       "  'latent_token_id': [80, 251, 531],\n",
       "  'latent_token_str': 'one',\n",
       "  'in_token_str': 'un'},\n",
       " {'prompt': 'Français: \"machine\" - Deutsch: \"Maschine\"\\nFrançais: \"tentative\" - Deutsch: \"Versuch\"\\nFrançais: \"exemple\" - Deutsch: \"Beispiel\"\\nFrançais: \"champ\" - Deutsch: \"Feld\"\\nFrançais: \"deux\" - Deutsch: \"',\n",
       "  'out_token_id': [40965, 91],\n",
       "  'out_token_str': 'zwei',\n",
       "  'latent_token_id': [85, 7553, 9389],\n",
       "  'latent_token_str': 'two',\n",
       "  'in_token_str': 'deux'},\n",
       " {'prompt': 'Français: \"huit\" - Deutsch: \"acht\"\\nFrançais: \"est\" - Deutsch: \"Osten\"\\nFrançais: \"défaite\" - Deutsch: \"Niederlage\"\\nFrançais: \"fleur\" - Deutsch: \"Blume\"\\nFrançais: \"trois\" - Deutsch: \"',\n",
       "  'out_token_id': [69, 5267],\n",
       "  'out_token_str': 'drei',\n",
       "  'latent_token_id': [13524, 394, 85],\n",
       "  'latent_token_str': 'three',\n",
       "  'in_token_str': 'trois'},\n",
       " {'prompt': 'Français: \"bande\" - Deutsch: \"Streifen\"\\nFrançais: \"thé\" - Deutsch: \"Tee\"\\nFrançais: \"porte\" - Deutsch: \"Tür\"\\nFrançais: \"grotte\" - Deutsch: \"Höhle\"\\nFrançais: \"quatre\" - Deutsch: \"',\n",
       "  'out_token_id': [25858, 40714, 6584, 87],\n",
       "  'out_token_str': 'vier',\n",
       "  'latent_token_id': [71, 4786, 12496],\n",
       "  'latent_token_str': 'four',\n",
       "  'in_token_str': 'quatre'},\n",
       " {'prompt': 'Français: \"étoile\" - Deutsch: \"Stern\"\\nFrançais: \"montagne\" - Deutsch: \"Berg\"\\nFrançais: \"maison\" - Deutsch: \"Haus\"\\nFrançais: \"jour\" - Deutsch: \"Tag\"\\nFrançais: \"huit\" - Deutsch: \"',\n",
       "  'out_token_id': [66, 607, 13261, 317],\n",
       "  'out_token_str': 'acht',\n",
       "  'latent_token_id': [27116, 70, 19521],\n",
       "  'latent_token_str': 'eight',\n",
       "  'in_token_str': 'huit'},\n",
       " {'prompt': 'Français: \"grille\" - Deutsch: \"Gitter\"\\nFrançais: \"juge\" - Deutsch: \"Richter\"\\nFrançais: \"visage\" - Deutsch: \"Gesicht\"\\nFrançais: \"étang\" - Deutsch: \"Teich\"\\nFrançais: \"dix\" - Deutsch: \"',\n",
       "  'out_token_id': [2721, 91],\n",
       "  'out_token_str': 'zehn',\n",
       "  'latent_token_id': [85, 1866, 442],\n",
       "  'latent_token_str': 'ten',\n",
       "  'in_token_str': 'dix'},\n",
       " {'prompt': 'Français: \"groupe\" - Deutsch: \"Gruppe\"\\nFrançais: \"rouge\" - Deutsch: \"rot\"\\nFrançais: \"source\" - Deutsch: \"Quelle\"\\nFrançais: \"siège\" - Deutsch: \"Sitz\"\\nFrançais: \"tête\" - Deutsch: \"',\n",
       "  'out_token_id': [44, 40849],\n",
       "  'out_token_str': 'Kopf',\n",
       "  'latent_token_id': [73, 248, 2522, 21071],\n",
       "  'latent_token_str': 'head',\n",
       "  'in_token_str': 'tête'},\n",
       " {'prompt': 'Français: \"école\" - Deutsch: \"Schule\"\\nFrançais: \"sol\" - Deutsch: \"Boden\"\\nFrançais: \"hausse\" - Deutsch: \"Anstieg\"\\nFrançais: \"ménage\" - Deutsch: \"Haushalt\"\\nFrançais: \"bande\" - Deutsch: \"',\n",
       "  'out_token_id': [10287, 998, 52],\n",
       "  'out_token_str': 'Streifen',\n",
       "  'latent_token_id': [25763, 1344, 84, 32182, 296],\n",
       "  'latent_token_str': 'strip',\n",
       "  'in_token_str': 'bande'},\n",
       " {'prompt': 'Français: \"queue\" - Deutsch: \"Schwanz\"\\nFrançais: \"tentative\" - Deutsch: \"Versuch\"\\nFrançais: \"mille\" - Deutsch: \"tausend\"\\nFrançais: \"tribu\" - Deutsch: \"Stamm\"\\nFrançais: \"rue\" - Deutsch: \"',\n",
       "  'out_token_id': [10287, 998, 52, 35562],\n",
       "  'out_token_str': 'Straße',\n",
       "  'latent_token_id': [32565, 33151, 1344, 84, 296],\n",
       "  'latent_token_str': 'street',\n",
       "  'in_token_str': 'rue'},\n",
       " {'prompt': 'Français: \"siège\" - Deutsch: \"Sitz\"\\nFrançais: \"trois\" - Deutsch: \"drei\"\\nFrançais: \"cheval\" - Deutsch: \"Pferd\"\\nFrançais: \"bourse\" - Deutsch: \"Börse\"\\nFrançais: \"partie\" - Deutsch: \"',\n",
       "  'out_token_id': [7573, 53],\n",
       "  'out_token_str': 'Teil',\n",
       "  'latent_token_id': [4904, 1148, 2003, 81],\n",
       "  'latent_token_str': 'part',\n",
       "  'in_token_str': 'partie'},\n",
       " {'prompt': 'Français: \"riz\" - Deutsch: \"Reis\"\\nFrançais: \"mère\" - Deutsch: \"Mutter\"\\nFrançais: \"six\" - Deutsch: \"sechs\"\\nFrançais: \"tentative\" - Deutsch: \"Versuch\"\\nFrançais: \"œil\" - Deutsch: \"',\n",
       "  'out_token_id': [34, 29165, 15853],\n",
       "  'out_token_str': 'Auge',\n",
       "  'latent_token_id': [30978, 70, 2653],\n",
       "  'latent_token_str': 'eye',\n",
       "  'in_token_str': 'œil'},\n",
       " {'prompt': 'Français: \"grille\" - Deutsch: \"Gitter\"\\nFrançais: \"machine\" - Deutsch: \"Maschine\"\\nFrançais: \"ville\" - Deutsch: \"Stadt\"\\nFrançais: \"histoire\" - Deutsch: \"Geschichte\"\\nFrançais: \"champ\" - Deutsch: \"',\n",
       "  'out_token_id': [7510, 39, 45484],\n",
       "  'out_token_str': 'Feld',\n",
       "  'latent_token_id': [71, 11125, 3423],\n",
       "  'latent_token_str': 'field',\n",
       "  'in_token_str': 'champ'},\n",
       " {'prompt': 'Français: \"nuage\" - Deutsch: \"Wolke\"\\nFrançais: \"œil\" - Deutsch: \"Auge\"\\nFrançais: \"province\" - Deutsch: \"Provinz\"\\nFrançais: \"source\" - Deutsch: \"Quelle\"\\nFrançais: \"site\" - Deutsch: \"',\n",
       "  'out_token_id': [31673, 15542, 998, 52, 36447],\n",
       "  'out_token_str': 'Standort',\n",
       "  'latent_token_id': [12198, 9245, 84, 11264],\n",
       "  'latent_token_str': 'site',\n",
       "  'in_token_str': 'site'},\n",
       " {'prompt': 'Français: \"montagne\" - Deutsch: \"Berg\"\\nFrançais: \"jour\" - Deutsch: \"Tag\"\\nFrançais: \"quatre\" - Deutsch: \"vier\"\\nFrançais: \"rouge\" - Deutsch: \"rot\"\\nFrançais: \"mot\" - Deutsch: \"',\n",
       "  'out_token_id': [56],\n",
       "  'out_token_str': 'Wort',\n",
       "  'latent_token_id': [680, 42108, 88, 3418],\n",
       "  'latent_token_str': 'word',\n",
       "  'in_token_str': 'mot'},\n",
       " {'prompt': 'Français: \"fleur\" - Deutsch: \"Blume\"\\nFrançais: \"plate-forme\" - Deutsch: \"Plattform\"\\nFrançais: \"cheval\" - Deutsch: \"Pferd\"\\nFrançais: \"chanson\" - Deutsch: \"Lied\"\\nFrançais: \"paire\" - Deutsch: \"',\n",
       "  'out_token_id': [9387, 49],\n",
       "  'out_token_str': 'Paar',\n",
       "  'latent_token_id': [13934, 4904, 81],\n",
       "  'latent_token_str': 'pair',\n",
       "  'in_token_str': 'paire'},\n",
       " {'prompt': 'Français: \"jour\" - Deutsch: \"Tag\"\\nFrançais: \"sol\" - Deutsch: \"Boden\"\\nFrançais: \"étang\" - Deutsch: \"Teich\"\\nFrançais: \"champ\" - Deutsch: \"Feld\"\\nFrançais: \"siège\" - Deutsch: \"',\n",
       "  'out_token_id': [52, 14581, 35678],\n",
       "  'out_token_str': 'Sitz',\n",
       "  'latent_token_id': [36443, 15681, 84, 339],\n",
       "  'latent_token_str': 'seat',\n",
       "  'in_token_str': 'siège'},\n",
       " {'prompt': 'Français: \"neige\" - Deutsch: \"Schnee\"\\nFrançais: \"tour\" - Deutsch: \"Turm\"\\nFrançais: \"bande\" - Deutsch: \"Streifen\"\\nFrançais: \"vertu\" - Deutsch: \"Tugend\"\\nFrançais: \"lumière\" - Deutsch: \"',\n",
       "  'out_token_id': [17448, 49124, 45],\n",
       "  'out_token_str': 'Licht',\n",
       "  'latent_token_id': [77, 965, 3243, 3372],\n",
       "  'latent_token_str': 'light',\n",
       "  'in_token_str': 'lumière'},\n",
       " {'prompt': 'Français: \"pied\" - Deutsch: \"Fuß\"\\nFrançais: \"un\" - Deutsch: \"eins\"\\nFrançais: \"vitesse\" - Deutsch: \"Geschwindigkeit\"\\nFrançais: \"nuage\" - Deutsch: \"Wolke\"\\nFrançais: \"nord\" - Deutsch: \"',\n",
       "  'out_token_id': [22427, 2302, 47],\n",
       "  'out_token_str': 'Norden',\n",
       "  'latent_token_id': [15387, 79, 37436, 2369],\n",
       "  'latent_token_str': 'north',\n",
       "  'in_token_str': 'nord'},\n",
       " {'prompt': 'Français: \"exemple\" - Deutsch: \"Beispiel\"\\nFrançais: \"mer\" - Deutsch: \"Meer\"\\nFrançais: \"pouvoir\" - Deutsch: \"Macht\"\\nFrançais: \"queue\" - Deutsch: \"Schwanz\"\\nFrançais: \"machine\" - Deutsch: \"',\n",
       "  'out_token_id': [46, 35147, 16490],\n",
       "  'out_token_str': 'Maschine',\n",
       "  'latent_token_id': [28936, 78, 12432, 785],\n",
       "  'latent_token_str': 'machine',\n",
       "  'in_token_str': 'machine'},\n",
       " {'prompt': 'Français: \"vallée\" - Deutsch: \"Tal\"\\nFrançais: \"thé\" - Deutsch: \"Tee\"\\nFrançais: \"cinq\" - Deutsch: \"fünf\"\\nFrançais: \"œil\" - Deutsch: \"Auge\"\\nFrançais: \"temps\" - Deutsch: \"',\n",
       "  'out_token_id': [59, 32462],\n",
       "  'out_token_str': 'Zeit',\n",
       "  'latent_token_id': [6811, 85, 2606, 12292],\n",
       "  'latent_token_str': 'time',\n",
       "  'in_token_str': 'temps'},\n",
       " {'prompt': 'Français: \"visage\" - Deutsch: \"Gesicht\"\\nFrançais: \"six\" - Deutsch: \"sechs\"\\nFrançais: \"bande\" - Deutsch: \"Streifen\"\\nFrançais: \"discours\" - Deutsch: \"Rede\"\\nFrançais: \"province\" - Deutsch: \"',\n",
       "  'out_token_id': [1845, 11509, 49, 6140],\n",
       "  'out_token_str': 'Provinz',\n",
       "  'latent_token_id': [1087, 81, 11404, 856],\n",
       "  'latent_token_str': 'province',\n",
       "  'in_token_str': 'province'},\n",
       " {'prompt': 'Français: \"trois\" - Deutsch: \"drei\"\\nFrançais: \"grotte\" - Deutsch: \"Höhle\"\\nFrançais: \"bande\" - Deutsch: \"Streifen\"\\nFrançais: \"pouvoir\" - Deutsch: \"Macht\"\\nFrançais: \"bourse\" - Deutsch: \"',\n",
       "  'out_token_id': [35],\n",
       "  'out_token_str': 'Börse',\n",
       "  'latent_token_id': [35757, 70, 36688, 911],\n",
       "  'latent_token_str': 'exchange',\n",
       "  'in_token_str': 'bourse'},\n",
       " {'prompt': 'Français: \"hausse\" - Deutsch: \"Anstieg\"\\nFrançais: \"genre\" - Deutsch: \"Art\"\\nFrançais: \"bureau\" - Deutsch: \"Büro\"\\nFrançais: \"nuage\" - Deutsch: \"Wolke\"\\nFrançais: \"milieu\" - Deutsch: \"',\n",
       "  'out_token_id': [46, 24711, 34967],\n",
       "  'out_token_str': 'Mitte',\n",
       "  'latent_token_id': [7373, 7893, 78, 16389],\n",
       "  'latent_token_str': 'middle',\n",
       "  'in_token_str': 'milieu'},\n",
       " {'prompt': 'Français: \"paire\" - Deutsch: \"Paar\"\\nFrançais: \"vitesse\" - Deutsch: \"Geschwindigkeit\"\\nFrançais: \"trois\" - Deutsch: \"drei\"\\nFrançais: \"quatre\" - Deutsch: \"vier\"\\nFrançais: \"couleur\" - Deutsch: \"',\n",
       "  'out_token_id': [30235, 39, 24234],\n",
       "  'out_token_str': 'Farbe',\n",
       "  'latent_token_id': [1940, 4897, 68, 2052],\n",
       "  'latent_token_str': 'color',\n",
       "  'in_token_str': 'couleur'},\n",
       " {'prompt': 'Français: \"montagne\" - Deutsch: \"Berg\"\\nFrançais: \"lune\" - Deutsch: \"Mond\"\\nFrançais: \"mot\" - Deutsch: \"Wort\"\\nFrançais: \"deux\" - Deutsch: \"zwei\"\\nFrançais: \"genre\" - Deutsch: \"',\n",
       "  'out_token_id': [34, 11796, 2906],\n",
       "  'out_token_str': 'Art',\n",
       "  'latent_token_id': [5985, 11258, 5914, 76],\n",
       "  'latent_token_str': 'kind',\n",
       "  'in_token_str': 'genre'},\n",
       " {'prompt': 'Français: \"histoire\" - Deutsch: \"Geschichte\"\\nFrançais: \"nuage\" - Deutsch: \"Wolke\"\\nFrançais: \"porte\" - Deutsch: \"Tür\"\\nFrançais: \"machine\" - Deutsch: \"Maschine\"\\nFrançais: \"juge\" - Deutsch: \"',\n",
       "  'out_token_id': [45668, 17389, 51],\n",
       "  'out_token_str': 'Richter',\n",
       "  'latent_token_id': [6881, 47075, 7589, 75],\n",
       "  'latent_token_str': 'judge',\n",
       "  'in_token_str': 'juge'},\n",
       " {'prompt': 'Français: \"sac\" - Deutsch: \"Tasche\"\\nFrançais: \"champ\" - Deutsch: \"Feld\"\\nFrançais: \"groupe\" - Deutsch: \"Gruppe\"\\nFrançais: \"trois\" - Deutsch: \"drei\"\\nFrançais: \"école\" - Deutsch: \"',\n",
       "  'out_token_id': [4316, 52, 10859],\n",
       "  'out_token_str': 'Schule',\n",
       "  'latent_token_id': [10629, 1026, 19221, 84],\n",
       "  'latent_token_str': 'school',\n",
       "  'in_token_str': 'école'},\n",
       " {'prompt': 'Français: \"tête\" - Deutsch: \"Kopf\"\\nFrançais: \"tentative\" - Deutsch: \"Versuch\"\\nFrançais: \"discours\" - Deutsch: \"Rede\"\\nFrançais: \"défaite\" - Deutsch: \"Niederlage\"\\nFrançais: \"cravate\" - Deutsch: \"',\n",
       "  'out_token_id': [44],\n",
       "  'out_token_str': 'Krawatte',\n",
       "  'latent_token_id': [6811, 85, 37678],\n",
       "  'latent_token_str': 'tie',\n",
       "  'in_token_str': 'cravate'},\n",
       " {'prompt': 'Français: \"ligne\" - Deutsch: \"Linie\"\\nFrançais: \"lune\" - Deutsch: \"Mond\"\\nFrançais: \"étang\" - Deutsch: \"Teich\"\\nFrançais: \"ville\" - Deutsch: \"Stadt\"\\nFrançais: \"exemple\" - Deutsch: \"',\n",
       "  'out_token_id': [4678, 35],\n",
       "  'out_token_str': 'Beispiel',\n",
       "  'latent_token_id': [11667, 70, 911],\n",
       "  'latent_token_str': 'example',\n",
       "  'in_token_str': 'exemple'},\n",
       " {'prompt': 'Français: \"mille\" - Deutsch: \"tausend\"\\nFrançais: \"nord\" - Deutsch: \"Norden\"\\nFrançais: \"ville\" - Deutsch: \"Stadt\"\\nFrançais: \"ligne\" - Deutsch: \"Linie\"\\nFrançais: \"visage\" - Deutsch: \"',\n",
       "  'out_token_id': [7559, 40],\n",
       "  'out_token_str': 'Gesicht',\n",
       "  'latent_token_id': [71, 6855, 1664, 28402],\n",
       "  'latent_token_str': 'face',\n",
       "  'in_token_str': 'visage'},\n",
       " {'prompt': 'Français: \"lune\" - Deutsch: \"Mond\"\\nFrançais: \"section\" - Deutsch: \"Abschnitt\"\\nFrançais: \"mère\" - Deutsch: \"Mutter\"\\nFrançais: \"hausse\" - Deutsch: \"Anstieg\"\\nFrançais: \"pont\" - Deutsch: \"',\n",
       "  'out_token_id': [8478, 35],\n",
       "  'out_token_str': 'Brücke',\n",
       "  'latent_token_id': [8298, 67, 1288, 7807],\n",
       "  'latent_token_str': 'bridge',\n",
       "  'in_token_str': 'pont'},\n",
       " {'prompt': 'Français: \"nuage\" - Deutsch: \"Wolke\"\\nFrançais: \"point\" - Deutsch: \"Punkt\"\\nFrançais: \"site\" - Deutsch: \"Standort\"\\nFrançais: \"sol\" - Deutsch: \"Boden\"\\nFrançais: \"supprimer\" - Deutsch: \"',\n",
       "  'out_token_id': [77],\n",
       "  'out_token_str': 'löschen',\n",
       "  'latent_token_id': [69, 615, 7555, 16435],\n",
       "  'latent_token_str': 'delete',\n",
       "  'in_token_str': 'supprimer'},\n",
       " {'prompt': 'Français: \"été\" - Deutsch: \"Sommer\"\\nFrançais: \"bouche\" - Deutsch: \"Mund\"\\nFrançais: \"genre\" - Deutsch: \"Art\"\\nFrançais: \"six\" - Deutsch: \"sechs\"\\nFrançais: \"groupe\" - Deutsch: \"',\n",
       "  'out_token_id': [3594, 40],\n",
       "  'out_token_str': 'Gruppe',\n",
       "  'latent_token_id': [737, 72, 26817, 4399],\n",
       "  'latent_token_str': 'group',\n",
       "  'in_token_str': 'groupe'},\n",
       " {'prompt': 'Français: \"mille\" - Deutsch: \"tausend\"\\nFrançais: \"bande\" - Deutsch: \"Streifen\"\\nFrançais: \"cinq\" - Deutsch: \"fünf\"\\nFrançais: \"mer\" - Deutsch: \"Meer\"\\nFrançais: \"beauté\" - Deutsch: \"',\n",
       "  'out_token_id': [4316, 52, 10859],\n",
       "  'out_token_str': 'Schönheit',\n",
       "  'latent_token_id': [67, 1257],\n",
       "  'latent_token_str': 'beauty',\n",
       "  'in_token_str': 'beauté'},\n",
       " {'prompt': 'Français: \"soleil\" - Deutsch: \"Sonne\"\\nFrançais: \"forêt\" - Deutsch: \"Wald\"\\nFrançais: \"mer\" - Deutsch: \"Meer\"\\nFrançais: \"province\" - Deutsch: \"Provinz\"\\nFrançais: \"plate-forme\" - Deutsch: \"',\n",
       "  'out_token_id': [49, 3493],\n",
       "  'out_token_str': 'Plattform',\n",
       "  'latent_token_id': [19161, 446, 81],\n",
       "  'latent_token_str': 'platform',\n",
       "  'in_token_str': 'plate-forme'},\n",
       " {'prompt': 'Français: \"fleur\" - Deutsch: \"Blume\"\\nFrançais: \"été\" - Deutsch: \"Sommer\"\\nFrançais: \"bouche\" - Deutsch: \"Mund\"\\nFrançais: \"lac\" - Deutsch: \"See\"\\nFrançais: \"maison\" - Deutsch: \"',\n",
       "  'out_token_id': [18853, 41],\n",
       "  'out_token_str': 'Haus',\n",
       "  'latent_token_id': [73, 1689, 14451, 5967],\n",
       "  'latent_token_str': 'house',\n",
       "  'in_token_str': 'maison'},\n",
       " {'prompt': 'Français: \"machine\" - Deutsch: \"Maschine\"\\nFrançais: \"discours\" - Deutsch: \"Rede\"\\nFrançais: \"sol\" - Deutsch: \"Boden\"\\nFrançais: \"source\" - Deutsch: \"Quelle\"\\nFrançais: \"soleil\" - Deutsch: \"',\n",
       "  'out_token_id': [30138, 52, 2598],\n",
       "  'out_token_str': 'Sonne',\n",
       "  'latent_token_id': [13998, 84, 3467],\n",
       "  'latent_token_str': 'sun',\n",
       "  'in_token_str': 'soleil'},\n",
       " {'prompt': 'Français: \"mer\" - Deutsch: \"Meer\"\\nFrançais: \"couleur\" - Deutsch: \"Farbe\"\\nFrançais: \"sud\" - Deutsch: \"Süden\"\\nFrançais: \"bois\" - Deutsch: \"Holz\"\\nFrançais: \"histoire\" - Deutsch: \"',\n",
       "  'out_token_id': [7559, 40],\n",
       "  'out_token_str': 'Geschichte',\n",
       "  'latent_token_id': [29059, 22328, 73, 5801, 15700, 8701],\n",
       "  'latent_token_str': 'history',\n",
       "  'in_token_str': 'histoire'},\n",
       " {'prompt': 'Français: \"quatre\" - Deutsch: \"vier\"\\nFrançais: \"océan\" - Deutsch: \"Ozean\"\\nFrançais: \"thé\" - Deutsch: \"Tee\"\\nFrançais: \"ménage\" - Deutsch: \"Haushalt\"\\nFrançais: \"vallée\" - Deutsch: \"',\n",
       "  'out_token_id': [26385, 41520, 53],\n",
       "  'out_token_str': 'Tal',\n",
       "  'latent_token_id': [1208, 42089, 87, 6156],\n",
       "  'latent_token_str': 'valley',\n",
       "  'in_token_str': 'vallée'},\n",
       " {'prompt': 'Français: \"cravate\" - Deutsch: \"Krawatte\"\\nFrançais: \"groupe\" - Deutsch: \"Gruppe\"\\nFrançais: \"lac\" - Deutsch: \"See\"\\nFrançais: \"deux\" - Deutsch: \"zwei\"\\nFrançais: \"carré\" - Deutsch: \"',\n",
       "  'out_token_id': [3864, 50],\n",
       "  'out_token_str': 'Quadrat',\n",
       "  'latent_token_id': [23600, 15044, 84, 18858],\n",
       "  'latent_token_str': 'square',\n",
       "  'in_token_str': 'carré'},\n",
       " {'prompt': 'Français: \"vitesse\" - Deutsch: \"Geschwindigkeit\"\\nFrançais: \"paire\" - Deutsch: \"Paar\"\\nFrançais: \"cœur\" - Deutsch: \"Herz\"\\nFrançais: \"gauche\" - Deutsch: \"links\"\\nFrançais: \"sud\" - Deutsch: \"',\n",
       "  'out_token_id': [52],\n",
       "  'out_token_str': 'Süden',\n",
       "  'latent_token_id': [84, 601, 34542],\n",
       "  'latent_token_str': 'south',\n",
       "  'in_token_str': 'sud'},\n",
       " {'prompt': 'Français: \"vallée\" - Deutsch: \"Tal\"\\nFrançais: \"histoire\" - Deutsch: \"Geschichte\"\\nFrançais: \"rouge\" - Deutsch: \"rot\"\\nFrançais: \"porte\" - Deutsch: \"Tür\"\\nFrançais: \"vertu\" - Deutsch: \"',\n",
       "  'out_token_id': [53, 37675],\n",
       "  'out_token_str': 'Tugend',\n",
       "  'latent_token_id': [6584, 12855, 87, 42446],\n",
       "  'latent_token_str': 'virtue',\n",
       "  'in_token_str': 'vertu'},\n",
       " {'prompt': 'Français: \"thé\" - Deutsch: \"Tee\"\\nFrançais: \"mère\" - Deutsch: \"Mutter\"\\nFrançais: \"tour\" - Deutsch: \"Turm\"\\nFrançais: \"nord\" - Deutsch: \"Norden\"\\nFrançais: \"tribu\" - Deutsch: \"',\n",
       "  'out_token_id': [31673, 998, 52],\n",
       "  'out_token_str': 'Stamm',\n",
       "  'latent_token_id': [1206, 85, 12512],\n",
       "  'latent_token_str': 'tribe',\n",
       "  'in_token_str': 'tribu'},\n",
       " {'prompt': 'Français: \"ménage\" - Deutsch: \"Haushalt\"\\nFrançais: \"œil\" - Deutsch: \"Auge\"\\nFrançais: \"champ\" - Deutsch: \"Feld\"\\nFrançais: \"supprimer\" - Deutsch: \"löschen\"\\nFrançais: \"ville\" - Deutsch: \"',\n",
       "  'out_token_id': [31673, 998, 52],\n",
       "  'out_token_str': 'Stadt',\n",
       "  'latent_token_id': [5297, 21280, 10179, 68],\n",
       "  'latent_token_str': 'city',\n",
       "  'in_token_str': 'ville'},\n",
       " {'prompt': 'Français: \"enfant\" - Deutsch: \"Kind\"\\nFrançais: \"visage\" - Deutsch: \"Gesicht\"\\nFrançais: \"mot\" - Deutsch: \"Wort\"\\nFrançais: \"grotte\" - Deutsch: \"Höhle\"\\nFrançais: \"vitesse\" - Deutsch: \"',\n",
       "  'out_token_id': [7559, 40],\n",
       "  'out_token_str': 'Geschwindigkeit',\n",
       "  'latent_token_id': [1033, 15507, 84, 9293],\n",
       "  'latent_token_str': 'speed',\n",
       "  'in_token_str': 'vitesse'},\n",
       " {'prompt': 'Français: \"point\" - Deutsch: \"Punkt\"\\nFrançais: \"histoire\" - Deutsch: \"Geschichte\"\\nFrançais: \"vertu\" - Deutsch: \"Tugend\"\\nFrançais: \"machine\" - Deutsch: \"Maschine\"\\nFrançais: \"sol\" - Deutsch: \"',\n",
       "  'out_token_id': [11478, 35],\n",
       "  'out_token_str': 'Boden',\n",
       "  'latent_token_id': [737, 72, 26817, 2595],\n",
       "  'latent_token_str': 'ground',\n",
       "  'in_token_str': 'sol'},\n",
       " {'prompt': 'Français: \"cravate\" - Deutsch: \"Krawatte\"\\nFrançais: \"siège\" - Deutsch: \"Sitz\"\\nFrançais: \"défaite\" - Deutsch: \"Niederlage\"\\nFrançais: \"bourse\" - Deutsch: \"Börse\"\\nFrançais: \"tentative\" - Deutsch: \"',\n",
       "  'out_token_id': [43356, 31516, 10754, 55],\n",
       "  'out_token_str': 'Versuch',\n",
       "  'latent_token_id': [255, 1595, 34015, 66, 38839],\n",
       "  'latent_token_str': 'attempt',\n",
       "  'in_token_str': 'tentative'},\n",
       " {'prompt': 'Français: \"groupe\" - Deutsch: \"Gruppe\"\\nFrançais: \"nord\" - Deutsch: \"Norden\"\\nFrançais: \"beauté\" - Deutsch: \"Schönheit\"\\nFrançais: \"mère\" - Deutsch: \"Mutter\"\\nFrançais: \"défaite\" - Deutsch: \"',\n",
       "  'out_token_id': [47, 24534],\n",
       "  'out_token_str': 'Niederlage',\n",
       "  'latent_token_id': [1545, 69, 615],\n",
       "  'latent_token_str': 'defeat',\n",
       "  'in_token_str': 'défaite'},\n",
       " {'prompt': 'Français: \"sol\" - Deutsch: \"Boden\"\\nFrançais: \"gauche\" - Deutsch: \"links\"\\nFrançais: \"mot\" - Deutsch: \"Wort\"\\nFrançais: \"bouche\" - Deutsch: \"Mund\"\\nFrançais: \"queue\" - Deutsch: \"',\n",
       "  'out_token_id': [4316, 52, 10859],\n",
       "  'out_token_str': 'Schwanz',\n",
       "  'latent_token_id': [14694, 85, 893],\n",
       "  'latent_token_str': 'tail',\n",
       "  'in_token_str': 'queue'},\n",
       " {'prompt': 'Français: \"un\" - Deutsch: \"eins\"\\nFrançais: \"été\" - Deutsch: \"Sommer\"\\nFrançais: \"étang\" - Deutsch: \"Teich\"\\nFrançais: \"milieu\" - Deutsch: \"Mitte\"\\nFrançais: \"mère\" - Deutsch: \"',\n",
       "  'out_token_id': [46, 31425, 31135],\n",
       "  'out_token_str': 'Mutter',\n",
       "  'latent_token_id': [6972, 78, 24013, 13875],\n",
       "  'latent_token_str': 'mother',\n",
       "  'in_token_str': 'mère'},\n",
       " {'prompt': 'Français: \"couleur\" - Deutsch: \"Farbe\"\\nFrançais: \"océan\" - Deutsch: \"Ozean\"\\nFrançais: \"ville\" - Deutsch: \"Stadt\"\\nFrançais: \"bouche\" - Deutsch: \"Mund\"\\nFrançais: \"est\" - Deutsch: \"',\n",
       "  'out_token_id': [17174, 48],\n",
       "  'out_token_str': 'Osten',\n",
       "  'latent_token_id': [19010, 26139, 70, 14576],\n",
       "  'latent_token_str': 'east',\n",
       "  'in_token_str': 'est'},\n",
       " {'prompt': 'Français: \"point\" - Deutsch: \"Punkt\"\\nFrançais: \"sol\" - Deutsch: \"Boden\"\\nFrançais: \"bouche\" - Deutsch: \"Mund\"\\nFrançais: \"tête\" - Deutsch: \"Kopf\"\\nFrançais: \"discours\" - Deutsch: \"',\n",
       "  'out_token_id': [1785, 10252, 51],\n",
       "  'out_token_str': 'Rede',\n",
       "  'latent_token_id': [48460, 1033, 84, 9293],\n",
       "  'latent_token_str': 'speech',\n",
       "  'in_token_str': 'discours'},\n",
       " {'prompt': 'Français: \"bouche\" - Deutsch: \"Mund\"\\nFrançais: \"grille\" - Deutsch: \"Gitter\"\\nFrançais: \"sept\" - Deutsch: \"sieben\"\\nFrançais: \"discours\" - Deutsch: \"Rede\"\\nFrançais: \"enfant\" - Deutsch: \"',\n",
       "  'out_token_id': [44, 40170, 47844, 18808],\n",
       "  'out_token_str': 'Kind',\n",
       "  'latent_token_id': [7003, 348, 4635, 68],\n",
       "  'latent_token_str': 'child',\n",
       "  'in_token_str': 'enfant'},\n",
       " {'prompt': 'Français: \"village\" - Deutsch: \"Dorf\"\\nFrançais: \"tête\" - Deutsch: \"Kopf\"\\nFrançais: \"neuf\" - Deutsch: \"neun\"\\nFrançais: \"dix\" - Deutsch: \"zehn\"\\nFrançais: \"tour\" - Deutsch: \"',\n",
       "  'out_token_id': [23992, 53, 37675],\n",
       "  'out_token_str': 'Turm',\n",
       "  'latent_token_id': [936, 85, 32289],\n",
       "  'latent_token_str': 'tower',\n",
       "  'in_token_str': 'tour'},\n",
       " {'prompt': 'Français: \"mer\" - Deutsch: \"Meer\"\\nFrançais: \"océan\" - Deutsch: \"Ozean\"\\nFrançais: \"ville\" - Deutsch: \"Stadt\"\\nFrançais: \"étang\" - Deutsch: \"Teich\"\\nFrançais: \"ménage\" - Deutsch: \"',\n",
       "  'out_token_id': [41, 18853],\n",
       "  'out_token_str': 'Haushalt',\n",
       "  'latent_token_id': [73, 1689, 14451, 5967],\n",
       "  'latent_token_str': 'household',\n",
       "  'in_token_str': 'ménage'},\n",
       " {'prompt': 'Français: \"beauté\" - Deutsch: \"Schönheit\"\\nFrançais: \"temps\" - Deutsch: \"Zeit\"\\nFrançais: \"gare\" - Deutsch: \"Bahnhof\"\\nFrançais: \"six\" - Deutsch: \"sechs\"\\nFrançais: \"section\" - Deutsch: \"',\n",
       "  'out_token_id': [34, 5039, 18310],\n",
       "  'out_token_str': 'Abschnitt',\n",
       "  'latent_token_id': [84, 7338, 339, 4674, 1704],\n",
       "  'latent_token_str': 'section',\n",
       "  'in_token_str': 'section'},\n",
       " {'prompt': 'Français: \"tête\" - Deutsch: \"Kopf\"\\nFrançais: \"cinq\" - Deutsch: \"fünf\"\\nFrançais: \"bois\" - Deutsch: \"Holz\"\\nFrançais: \"bouche\" - Deutsch: \"Mund\"\\nFrançais: \"bureau\" - Deutsch: \"',\n",
       "  'out_token_id': [35],\n",
       "  'out_token_str': 'Büro',\n",
       "  'latent_token_id': [19102, 30496, 1171, 80, 2727],\n",
       "  'latent_token_str': 'office',\n",
       "  'in_token_str': 'bureau'},\n",
       " {'prompt': 'Français: \"cravate\" - Deutsch: \"Krawatte\"\\nFrançais: \"maison\" - Deutsch: \"Haus\"\\nFrançais: \"nord\" - Deutsch: \"Norden\"\\nFrançais: \"quatre\" - Deutsch: \"vier\"\\nFrançais: \"hausse\" - Deutsch: \"',\n",
       "  'out_token_id': [34, 1145],\n",
       "  'out_token_str': 'Anstieg',\n",
       "  'latent_token_id': [4448, 83, 24078, 363],\n",
       "  'latent_token_str': 'rise',\n",
       "  'in_token_str': 'hausse'},\n",
       " {'prompt': 'Français: \"bourse\" - Deutsch: \"Börse\"\\nFrançais: \"vertu\" - Deutsch: \"Tugend\"\\nFrançais: \"deux\" - Deutsch: \"zwei\"\\nFrançais: \"dix\" - Deutsch: \"zehn\"\\nFrançais: \"pouvoir\" - Deutsch: \"',\n",
       "  'out_token_id': [46, 13815, 16490],\n",
       "  'out_token_str': 'Macht',\n",
       "  'latent_token_id': [13029, 5367, 9177, 81],\n",
       "  'latent_token_str': 'power',\n",
       "  'in_token_str': 'pouvoir'},\n",
       " {'prompt': 'Français: \"bourse\" - Deutsch: \"Börse\"\\nFrançais: \"temps\" - Deutsch: \"Zeit\"\\nFrançais: \"océan\" - Deutsch: \"Ozean\"\\nFrançais: \"sud\" - Deutsch: \"Süden\"\\nFrançais: \"été\" - Deutsch: \"',\n",
       "  'out_token_id': [52, 2598],\n",
       "  'out_token_str': 'Sommer',\n",
       "  'latent_token_id': [2204, 44830, 84, 3467],\n",
       "  'latent_token_str': 'summer',\n",
       "  'in_token_str': 'été'}]"
      ]
     },
     "execution_count": 14,
     "metadata": {},
     "output_type": "execute_result"
    }
   ],
   "source": [
    "dataset"
   ]
  },
  {
   "cell_type": "code",
   "execution_count": 15,
   "id": "25241c49",
   "metadata": {
    "execution": {
     "iopub.execute_input": "2024-03-02T15:38:07.398805Z",
     "iopub.status.busy": "2024-03-02T15:38:07.398340Z",
     "iopub.status.idle": "2024-03-02T15:38:34.278621Z",
     "shell.execute_reply": "2024-03-02T15:38:34.277833Z"
    },
    "papermill": {
     "duration": 26.890012,
     "end_time": "2024-03-02T15:38:34.280512",
     "exception": false,
     "start_time": "2024-03-02T15:38:07.390500",
     "status": "completed"
    },
    "tags": []
   },
   "outputs": [
    {
     "name": "stderr",
     "output_type": "stream",
     "text": [
      "\r",
      "0it [00:00, ?it/s]"
     ]
    },
    {
     "name": "stderr",
     "output_type": "stream",
     "text": [
      "\r",
      "1it [00:01,  1.05s/it]"
     ]
    },
    {
     "name": "stderr",
     "output_type": "stream",
     "text": [
      "\r",
      "2it [00:01,  1.48it/s]"
     ]
    },
    {
     "name": "stderr",
     "output_type": "stream",
     "text": [
      "\r",
      "3it [00:01,  1.81it/s]"
     ]
    },
    {
     "name": "stderr",
     "output_type": "stream",
     "text": [
      "\r",
      "4it [00:02,  2.09it/s]"
     ]
    },
    {
     "name": "stderr",
     "output_type": "stream",
     "text": [
      "\r",
      "5it [00:02,  2.41it/s]"
     ]
    },
    {
     "name": "stderr",
     "output_type": "stream",
     "text": [
      "\r",
      "6it [00:02,  2.69it/s]"
     ]
    },
    {
     "name": "stderr",
     "output_type": "stream",
     "text": [
      "\r",
      "7it [00:03,  2.76it/s]"
     ]
    },
    {
     "name": "stderr",
     "output_type": "stream",
     "text": [
      "\r",
      "8it [00:03,  2.91it/s]"
     ]
    },
    {
     "name": "stderr",
     "output_type": "stream",
     "text": [
      "\r",
      "9it [00:03,  3.06it/s]"
     ]
    },
    {
     "name": "stderr",
     "output_type": "stream",
     "text": [
      "\r",
      "10it [00:04,  3.20it/s]"
     ]
    },
    {
     "name": "stderr",
     "output_type": "stream",
     "text": [
      "\r",
      "11it [00:04,  3.34it/s]"
     ]
    },
    {
     "name": "stderr",
     "output_type": "stream",
     "text": [
      "\r",
      "12it [00:04,  3.41it/s]"
     ]
    },
    {
     "name": "stderr",
     "output_type": "stream",
     "text": [
      "\r",
      "13it [00:04,  3.48it/s]"
     ]
    },
    {
     "name": "stderr",
     "output_type": "stream",
     "text": [
      "\r",
      "14it [00:05,  3.53it/s]"
     ]
    },
    {
     "name": "stderr",
     "output_type": "stream",
     "text": [
      "\r",
      "15it [00:05,  3.43it/s]"
     ]
    },
    {
     "name": "stderr",
     "output_type": "stream",
     "text": [
      "\r",
      "16it [00:05,  3.42it/s]"
     ]
    },
    {
     "name": "stderr",
     "output_type": "stream",
     "text": [
      "\r",
      "17it [00:06,  3.47it/s]"
     ]
    },
    {
     "name": "stderr",
     "output_type": "stream",
     "text": [
      "\r",
      "18it [00:06,  3.52it/s]"
     ]
    },
    {
     "name": "stderr",
     "output_type": "stream",
     "text": [
      "\r",
      "19it [00:06,  3.55it/s]"
     ]
    },
    {
     "name": "stderr",
     "output_type": "stream",
     "text": [
      "\r",
      "20it [00:06,  3.58it/s]"
     ]
    },
    {
     "name": "stderr",
     "output_type": "stream",
     "text": [
      "\r",
      "21it [00:07,  3.62it/s]"
     ]
    },
    {
     "name": "stderr",
     "output_type": "stream",
     "text": [
      "\r",
      "22it [00:07,  3.71it/s]"
     ]
    },
    {
     "name": "stderr",
     "output_type": "stream",
     "text": [
      "\r",
      "23it [00:07,  3.73it/s]"
     ]
    },
    {
     "name": "stderr",
     "output_type": "stream",
     "text": [
      "\r",
      "24it [00:07,  3.74it/s]"
     ]
    },
    {
     "name": "stderr",
     "output_type": "stream",
     "text": [
      "\r",
      "25it [00:08,  3.74it/s]"
     ]
    },
    {
     "name": "stderr",
     "output_type": "stream",
     "text": [
      "\r",
      "26it [00:08,  3.72it/s]"
     ]
    },
    {
     "name": "stderr",
     "output_type": "stream",
     "text": [
      "\r",
      "27it [00:08,  3.65it/s]"
     ]
    },
    {
     "name": "stderr",
     "output_type": "stream",
     "text": [
      "\r",
      "28it [00:08,  3.69it/s]"
     ]
    },
    {
     "name": "stderr",
     "output_type": "stream",
     "text": [
      "\r",
      "29it [00:09,  3.72it/s]"
     ]
    },
    {
     "name": "stderr",
     "output_type": "stream",
     "text": [
      "\r",
      "30it [00:09,  3.75it/s]"
     ]
    },
    {
     "name": "stderr",
     "output_type": "stream",
     "text": [
      "\r",
      "31it [00:09,  3.78it/s]"
     ]
    },
    {
     "name": "stderr",
     "output_type": "stream",
     "text": [
      "\r",
      "32it [00:10,  3.80it/s]"
     ]
    },
    {
     "name": "stderr",
     "output_type": "stream",
     "text": [
      "\r",
      "33it [00:10,  3.79it/s]"
     ]
    },
    {
     "name": "stderr",
     "output_type": "stream",
     "text": [
      "\r",
      "34it [00:10,  3.80it/s]"
     ]
    },
    {
     "name": "stderr",
     "output_type": "stream",
     "text": [
      "\r",
      "35it [00:10,  3.80it/s]"
     ]
    },
    {
     "name": "stderr",
     "output_type": "stream",
     "text": [
      "\r",
      "36it [00:11,  3.73it/s]"
     ]
    },
    {
     "name": "stderr",
     "output_type": "stream",
     "text": [
      "\r",
      "37it [00:11,  3.68it/s]"
     ]
    },
    {
     "name": "stderr",
     "output_type": "stream",
     "text": [
      "\r",
      "38it [00:11,  3.62it/s]"
     ]
    },
    {
     "name": "stderr",
     "output_type": "stream",
     "text": [
      "\r",
      "39it [00:12,  3.40it/s]"
     ]
    },
    {
     "name": "stderr",
     "output_type": "stream",
     "text": [
      "\r",
      "40it [00:12,  3.31it/s]"
     ]
    },
    {
     "name": "stderr",
     "output_type": "stream",
     "text": [
      "\r",
      "41it [00:12,  3.32it/s]"
     ]
    },
    {
     "name": "stderr",
     "output_type": "stream",
     "text": [
      "\r",
      "42it [00:12,  3.38it/s]"
     ]
    },
    {
     "name": "stderr",
     "output_type": "stream",
     "text": [
      "\r",
      "43it [00:13,  3.43it/s]"
     ]
    },
    {
     "name": "stderr",
     "output_type": "stream",
     "text": [
      "\r",
      "44it [00:13,  3.46it/s]"
     ]
    },
    {
     "name": "stderr",
     "output_type": "stream",
     "text": [
      "\r",
      "45it [00:13,  3.55it/s]"
     ]
    },
    {
     "name": "stderr",
     "output_type": "stream",
     "text": [
      "\r",
      "46it [00:14,  3.62it/s]"
     ]
    },
    {
     "name": "stderr",
     "output_type": "stream",
     "text": [
      "\r",
      "47it [00:14,  3.54it/s]"
     ]
    },
    {
     "name": "stderr",
     "output_type": "stream",
     "text": [
      "\r",
      "48it [00:14,  3.53it/s]"
     ]
    },
    {
     "name": "stderr",
     "output_type": "stream",
     "text": [
      "\r",
      "49it [00:14,  3.58it/s]"
     ]
    },
    {
     "name": "stderr",
     "output_type": "stream",
     "text": [
      "\r",
      "50it [00:15,  3.60it/s]"
     ]
    },
    {
     "name": "stderr",
     "output_type": "stream",
     "text": [
      "\r",
      "51it [00:15,  3.56it/s]"
     ]
    },
    {
     "name": "stderr",
     "output_type": "stream",
     "text": [
      "\r",
      "52it [00:15,  3.39it/s]"
     ]
    },
    {
     "name": "stderr",
     "output_type": "stream",
     "text": [
      "\r",
      "53it [00:16,  3.50it/s]"
     ]
    },
    {
     "name": "stderr",
     "output_type": "stream",
     "text": [
      "\r",
      "54it [00:16,  3.58it/s]"
     ]
    },
    {
     "name": "stderr",
     "output_type": "stream",
     "text": [
      "\r",
      "55it [00:16,  3.64it/s]"
     ]
    },
    {
     "name": "stderr",
     "output_type": "stream",
     "text": [
      "\r",
      "56it [00:16,  3.68it/s]"
     ]
    },
    {
     "name": "stderr",
     "output_type": "stream",
     "text": [
      "\r",
      "57it [00:17,  3.71it/s]"
     ]
    },
    {
     "name": "stderr",
     "output_type": "stream",
     "text": [
      "\r",
      "58it [00:17,  3.67it/s]"
     ]
    },
    {
     "name": "stderr",
     "output_type": "stream",
     "text": [
      "\r",
      "59it [00:17,  3.66it/s]"
     ]
    },
    {
     "name": "stderr",
     "output_type": "stream",
     "text": [
      "\r",
      "60it [00:17,  3.67it/s]"
     ]
    },
    {
     "name": "stderr",
     "output_type": "stream",
     "text": [
      "\r",
      "61it [00:18,  3.60it/s]"
     ]
    },
    {
     "name": "stderr",
     "output_type": "stream",
     "text": [
      "\r",
      "62it [00:18,  3.62it/s]"
     ]
    },
    {
     "name": "stderr",
     "output_type": "stream",
     "text": [
      "\r",
      "63it [00:18,  3.61it/s]"
     ]
    },
    {
     "name": "stderr",
     "output_type": "stream",
     "text": [
      "\r",
      "64it [00:19,  3.64it/s]"
     ]
    },
    {
     "name": "stderr",
     "output_type": "stream",
     "text": [
      "\r",
      "65it [00:19,  3.70it/s]"
     ]
    },
    {
     "name": "stderr",
     "output_type": "stream",
     "text": [
      "\r",
      "66it [00:19,  3.69it/s]"
     ]
    },
    {
     "name": "stderr",
     "output_type": "stream",
     "text": [
      "\r",
      "67it [00:19,  3.71it/s]"
     ]
    },
    {
     "name": "stderr",
     "output_type": "stream",
     "text": [
      "\r",
      "68it [00:20,  3.69it/s]"
     ]
    },
    {
     "name": "stderr",
     "output_type": "stream",
     "text": [
      "\r",
      "69it [00:20,  3.71it/s]"
     ]
    },
    {
     "name": "stderr",
     "output_type": "stream",
     "text": [
      "\r",
      "70it [00:20,  3.70it/s]"
     ]
    },
    {
     "name": "stderr",
     "output_type": "stream",
     "text": [
      "\r",
      "71it [00:20,  3.64it/s]"
     ]
    },
    {
     "name": "stderr",
     "output_type": "stream",
     "text": [
      "\r",
      "72it [00:21,  3.66it/s]"
     ]
    },
    {
     "name": "stderr",
     "output_type": "stream",
     "text": [
      "\r",
      "73it [00:21,  3.69it/s]"
     ]
    },
    {
     "name": "stderr",
     "output_type": "stream",
     "text": [
      "\r",
      "74it [00:21,  3.73it/s]"
     ]
    },
    {
     "name": "stderr",
     "output_type": "stream",
     "text": [
      "\r",
      "75it [00:21,  3.77it/s]"
     ]
    },
    {
     "name": "stderr",
     "output_type": "stream",
     "text": [
      "\r",
      "76it [00:22,  3.81it/s]"
     ]
    },
    {
     "name": "stderr",
     "output_type": "stream",
     "text": [
      "\r",
      "77it [00:22,  3.81it/s]"
     ]
    },
    {
     "name": "stderr",
     "output_type": "stream",
     "text": [
      "\r",
      "78it [00:22,  3.81it/s]"
     ]
    },
    {
     "name": "stderr",
     "output_type": "stream",
     "text": [
      "\r",
      "79it [00:22,  3.81it/s]"
     ]
    },
    {
     "name": "stderr",
     "output_type": "stream",
     "text": [
      "\r",
      "80it [00:23,  3.60it/s]"
     ]
    },
    {
     "name": "stderr",
     "output_type": "stream",
     "text": [
      "\r",
      "81it [00:23,  3.59it/s]"
     ]
    },
    {
     "name": "stderr",
     "output_type": "stream",
     "text": [
      "\r",
      "82it [00:23,  3.61it/s]"
     ]
    },
    {
     "name": "stderr",
     "output_type": "stream",
     "text": [
      "\r",
      "83it [00:24,  3.65it/s]"
     ]
    },
    {
     "name": "stderr",
     "output_type": "stream",
     "text": [
      "\r",
      "84it [00:24,  3.65it/s]"
     ]
    },
    {
     "name": "stderr",
     "output_type": "stream",
     "text": [
      "\r",
      "85it [00:24,  3.64it/s]"
     ]
    },
    {
     "name": "stderr",
     "output_type": "stream",
     "text": [
      "\r",
      "86it [00:24,  3.65it/s]"
     ]
    },
    {
     "name": "stderr",
     "output_type": "stream",
     "text": [
      "\r",
      "87it [00:25,  3.70it/s]"
     ]
    },
    {
     "name": "stderr",
     "output_type": "stream",
     "text": [
      "\r",
      "88it [00:25,  3.65it/s]"
     ]
    },
    {
     "name": "stderr",
     "output_type": "stream",
     "text": [
      "\r",
      "89it [00:25,  3.52it/s]"
     ]
    },
    {
     "name": "stderr",
     "output_type": "stream",
     "text": [
      "\r",
      "90it [00:26,  3.62it/s]"
     ]
    },
    {
     "name": "stderr",
     "output_type": "stream",
     "text": [
      "\r",
      "91it [00:26,  3.70it/s]"
     ]
    },
    {
     "name": "stderr",
     "output_type": "stream",
     "text": [
      "\r",
      "92it [00:26,  3.76it/s]"
     ]
    },
    {
     "name": "stderr",
     "output_type": "stream",
     "text": [
      "\r",
      "93it [00:26,  3.81it/s]"
     ]
    },
    {
     "name": "stderr",
     "output_type": "stream",
     "text": [
      "\r",
      "93it [00:26,  3.47it/s]"
     ]
    },
    {
     "name": "stderr",
     "output_type": "stream",
     "text": [
      "\n"
     ]
    }
   ],
   "source": [
    "in_token_probs = []\n",
    "latent_token_probs = []\n",
    "out_token_probs = []\n",
    "entropy = []\n",
    "energy = []\n",
    "latents_all = []\n",
    "\n",
    "for idx, d in tqdm(enumerate(dataset)):\n",
    "    logits,latents = get_logits(pythia, d['prompt'],pythia_lens)\n",
    "    last = logits[:, -1, :].float().softmax(dim=-1).detach().cpu()\n",
    "    latent_token_probs += [last[:, torch.tensor(d['latent_token_id'])].sum(dim=-1)]\n",
    "    out_token_probs += [last[:, torch.tensor(d['out_token_id'])].sum(dim=-1)]\n",
    "    entropy += [compute_entropy(last)]\n",
    "    latents_all += [latents[:, -1, :].float().detach().cpu().clone()]\n",
    "    latents_normalized = latents[:, -1, :].float()\n",
    "    latents_normalized = latents_normalized / (((latents_normalized**2).mean(dim=-1, keepdim=True))**0.5)\n",
    "    latents_normalized /= (latents_normalized.norm(dim=-1, keepdim=True))\n",
    "    norm = ((U_normalized @ latents_normalized.T)**2).mean(dim=0)**0.5\n",
    "    energy += [norm/avgUU]\n",
    "\n",
    "latent_token_probs = torch.stack(latent_token_probs)\n",
    "out_token_probs = torch.stack(out_token_probs)\n",
    "entropy = torch.stack(entropy)\n",
    "energy = torch.stack(energy)\n",
    "latents = torch.stack(latents_all)"
   ]
  },
  {
   "cell_type": "code",
   "execution_count": 16,
   "id": "680ef0b2",
   "metadata": {
    "execution": {
     "iopub.execute_input": "2024-03-02T15:38:34.390422Z",
     "iopub.status.busy": "2024-03-02T15:38:34.390202Z",
     "iopub.status.idle": "2024-03-02T15:38:34.791170Z",
     "shell.execute_reply": "2024-03-02T15:38:34.790543Z"
    },
    "papermill": {
     "duration": 0.419884,
     "end_time": "2024-03-02T15:38:34.792615",
     "exception": false,
     "start_time": "2024-03-02T15:38:34.372731",
     "status": "completed"
    },
    "tags": []
   },
   "outputs": [
    {
     "name": "stderr",
     "output_type": "stream",
     "text": [
      "/mnt/ssd-1/gpaulo/llm-latent-language/utils.py:52: UserWarning: This figure includes Axes that are not compatible with tight_layout, so results might be incorrect.\n",
      "  plt.tight_layout()\n"
     ]
    },
    {
     "data": {
      "image/png": "[encoded data removed]",
      "text/plain": [
       "<Figure size 500x300 with 3 Axes>"
      ]
     },
     "metadata": {},
     "output_type": "display_data"
    }
   ],
   "source": [
    "size2tik = {'7b': 5, '13b': 5, '70b': 10, '6.9b': 10,'12b': 10}\n",
    "fig, ax, ax2 = plot_ci_plus_heatmap(latent_token_probs, entropy, latent, color='tab:orange', tik_step=size2tik[model_size], do_colorbar=True, #, do_colorbar=(model_size=='70b'),\n",
    "nums=[.99, 0.18, 0.025, 0.6])\n",
    "plot_ci(ax2, out_token_probs, target_lang, color='tab:blue', do_lines=False)\n",
    "ax2.set_xlabel('layer')\n",
    "ax2.set_ylabel('probability')\n",
    "if model_size == '7b':\n",
    "    ax2.set_xlim(0, out_token_probs.shape[1]+1)\n",
    "else:\n",
    "    ax2.set_xlim(0, round(out_token_probs.shape[1]/10)*10+1)\n",
    "ax2.set_ylim(0, 1)\n",
    "# make xticks start from 1\n",
    "# put legend on the top left\n",
    "ax2.legend(loc='upper left')\n",
    "os.makedirs(f'{out_dir}/translation', exist_ok=True)\n",
    "\n",
    "plt.savefig(f'{out_dir}/translation/pythia_{model_size}_{input_lang}_{target_lang}_probas_ent.jpg', dpi=300, bbox_inches='tight')"
   ]
  },
  {
   "cell_type": "code",
   "execution_count": 17,
   "id": "48c50e4a",
   "metadata": {
    "execution": {
     "iopub.execute_input": "2024-03-02T15:38:34.867294Z",
     "iopub.status.busy": "2024-03-02T15:38:34.866509Z",
     "iopub.status.idle": "2024-03-02T15:38:35.033984Z",
     "shell.execute_reply": "2024-03-02T15:38:35.033324Z"
    },
    "papermill": {
     "duration": 0.183117,
     "end_time": "2024-03-02T15:38:35.035022",
     "exception": false,
     "start_time": "2024-03-02T15:38:34.851905",
     "status": "completed"
    },
    "tags": []
   },
   "outputs": [
    {
     "data": {
      "image/png": "[encoded data removed]",
      "text/plain": [
       "<Figure size 500x300 with 1 Axes>"
      ]
     },
     "metadata": {},
     "output_type": "display_data"
    }
   ],
   "source": [
    "size2tik = {'7b': 5, '13b': 5, '70b': 10,'12b': 10}\n",
    "\n",
    "fig, ax2 = plt.subplots(figsize=(5,3))\n",
    "plot_ci(ax2, energy, 'energy', color='tab:green', do_lines=True, tik_step=size2tik[model_size])\n",
    "ax2.set_xlabel('layer')\n",
    "ax2.set_ylabel('energy')\n",
    "if model_size == '7b':\n",
    "    ax2.set_xlim(0, out_token_probs.shape[1]+1)\n",
    "else:\n",
    "    ax2.set_xlim(0, round(out_token_probs.shape[1]/10)*10+1)\n",
    "os.makedirs(f'{out_dir}/translation', exist_ok=True)\n",
    "plt.savefig(f'{out_dir}/translation/pythia_{model_size}_{input_lang}_{target_lang}_energy.jpg', dpi=300, bbox_inches='tight')"
   ]
  },
  {
   "cell_type": "code",
   "execution_count": null,
   "id": "de0f66f1",
   "metadata": {
    "papermill": {
     "duration": 0.015367,
     "end_time": "2024-03-02T15:38:35.095495",
     "exception": false,
     "start_time": "2024-03-02T15:38:35.080128",
     "status": "completed"
    },
    "tags": []
   },
   "outputs": [],
   "source": []
  }
 ],
 "metadata": {
  "kernelspec": {
   "display_name": "Python 3 (ipykernel)",
   "language": "python",
   "name": "python3"
  },
  "language_info": {
   "codemirror_mode": {
    "name": "ipython",
    "version": 3
   },
   "file_extension": ".py",
   "mimetype": "text/x-python",
   "name": "python",
   "nbconvert_exporter": "python",
   "pygments_lexer": "ipython3",
   "version": "3.10.13"
  },
  "papermill": {
   "default_parameters": {},
   "duration": 72.602369,
   "end_time": "2024-03-02T15:38:36.730595",
   "environment_variables": {},
   "exception": null,
   "input_path": "Translation_pythia.ipynb",
   "output_path": "visuals/executed_notebooks/pythia_Translation_logit_12b_fr_de.ipynb",
   "parameters": {
    "input_lang": "fr",
    "model_size": "12b",
    "target_lang": "de",
    "type": "logit"
   },
   "start_time": "2024-03-02T15:37:24.128226",
   "version": "2.5.0"
  }
 },
 "nbformat": 4,
 "nbformat_minor": 5
}