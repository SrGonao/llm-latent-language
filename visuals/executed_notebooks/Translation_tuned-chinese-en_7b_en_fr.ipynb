{
 "cells": [
  {
   "cell_type": "code",
   "execution_count": 1,
   "id": "9e266eca-b017-461f-9be4-bec02cae9b28",
   "metadata": {
    "execution": {
     "iopub.execute_input": "2024-02-23T23:20:19.966703Z",
     "iopub.status.busy": "2024-02-23T23:20:19.966541Z",
     "iopub.status.idle": "2024-02-23T23:20:19.978894Z",
     "shell.execute_reply": "2024-02-23T23:20:19.978489Z"
    },
    "papermill": {
     "duration": 0.019758,
     "end_time": "2024-02-23T23:20:19.979774",
     "exception": false,
     "start_time": "2024-02-23T23:20:19.960016",
     "status": "completed"
    },
    "tags": []
   },
   "outputs": [],
   "source": [
    "%load_ext autoreload\n",
    "%autoreload 2"
   ]
  },
  {
   "cell_type": "code",
   "execution_count": 2,
   "id": "fae8a7a9-6902-424e-8e66-b107fccb361f",
   "metadata": {
    "execution": {
     "iopub.execute_input": "2024-02-23T23:20:19.987867Z",
     "iopub.status.busy": "2024-02-23T23:20:19.987746Z",
     "iopub.status.idle": "2024-02-23T23:20:22.912967Z",
     "shell.execute_reply": "2024-02-23T23:20:22.912296Z"
    },
    "papermill": {
     "duration": 2.930405,
     "end_time": "2024-02-23T23:20:22.914203",
     "exception": false,
     "start_time": "2024-02-23T23:20:19.983798",
     "status": "completed"
    },
    "tags": []
   },
   "outputs": [],
   "source": [
    "import pandas as pd\n",
    "import sys\n",
    "import os\n",
    "from dataclasses import dataclass\n",
    "import json\n",
    "import numpy as np\n",
    "from matplotlib import pyplot as plt\n",
    "import seaborn as sns\n",
    "import torch\n",
    "import torch.nn as nn\n",
    "from llamawrapper import load_unemb_only, LlamaHelper\n",
    "import seaborn as sns\n",
    "from scipy.stats import bootstrap\n",
    "from utils import plot_ci, plot_ci_plus_heatmap\n",
    "from tqdm import tqdm\n",
    "from transformers import AutoModelForCausalLM, AutoTokenizer\n",
    "# fix random seed\n",
    "seed = 42\n",
    "np.random.seed(seed)\n",
    "torch.manual_seed(seed)\n",
    "sys.path.append('../tuned-lens')\n",
    "from tuned_lens.nn.lenses import TunedLens,LogitLens"
   ]
  },
  {
   "cell_type": "code",
   "execution_count": 3,
   "id": "1fb93987",
   "metadata": {
    "execution": {
     "iopub.execute_input": "2024-02-23T23:20:22.928745Z",
     "iopub.status.busy": "2024-02-23T23:20:22.928445Z",
     "iopub.status.idle": "2024-02-23T23:20:22.955962Z",
     "shell.execute_reply": "2024-02-23T23:20:22.955499Z"
    },
    "papermill": {
     "duration": 0.037003,
     "end_time": "2024-02-23T23:20:22.956847",
     "exception": false,
     "start_time": "2024-02-23T23:20:22.919844",
     "status": "completed"
    },
    "tags": [
     "parameters"
    ]
   },
   "outputs": [],
   "source": [
    "input_lang = 'zh'\n",
    "target_lang = 'fr'\n",
    "model_size = '7b'\n",
    "prefix = \"./data/langs/\"\n",
    "type = 'tuned-chinese-en'\n"
   ]
  },
  {
   "cell_type": "code",
   "execution_count": 4,
   "id": "4e842af4",
   "metadata": {
    "execution": {
     "iopub.execute_input": "2024-02-23T23:20:22.965901Z",
     "iopub.status.busy": "2024-02-23T23:20:22.965451Z",
     "iopub.status.idle": "2024-02-23T23:20:22.991625Z",
     "shell.execute_reply": "2024-02-23T23:20:22.991175Z"
    },
    "papermill": {
     "duration": 0.030864,
     "end_time": "2024-02-23T23:20:22.992439",
     "exception": false,
     "start_time": "2024-02-23T23:20:22.961575",
     "status": "completed"
    },
    "tags": [
     "injected-parameters"
    ]
   },
   "outputs": [],
   "source": [
    "# Parameters\n",
    "model_size = \"7b\"\n",
    "target_lang = \"fr\"\n",
    "input_lang = \"en\"\n",
    "type = \"tuned-chinese-en\"\n"
   ]
  },
  {
   "cell_type": "code",
   "execution_count": 5,
   "id": "ccb0899b",
   "metadata": {
    "execution": {
     "iopub.execute_input": "2024-02-23T23:20:23.000210Z",
     "iopub.status.busy": "2024-02-23T23:20:22.999861Z",
     "iopub.status.idle": "2024-02-23T23:20:23.026623Z",
     "shell.execute_reply": "2024-02-23T23:20:23.026179Z"
    },
    "papermill": {
     "duration": 0.031393,
     "end_time": "2024-02-23T23:20:23.027468",
     "exception": false,
     "start_time": "2024-02-23T23:20:22.996075",
     "status": "completed"
    },
    "tags": []
   },
   "outputs": [],
   "source": [
    "df_en_input = pd.read_csv(f'{prefix}{input_lang}/clean.csv').reindex()\n",
    "df_en_target = pd.read_csv(f'{prefix}{target_lang}/clean.csv').reindex()"
   ]
  },
  {
   "cell_type": "code",
   "execution_count": 6,
   "id": "33747213",
   "metadata": {
    "execution": {
     "iopub.execute_input": "2024-02-23T23:20:23.037749Z",
     "iopub.status.busy": "2024-02-23T23:20:23.037411Z",
     "iopub.status.idle": "2024-02-23T23:20:29.738854Z",
     "shell.execute_reply": "2024-02-23T23:20:29.738027Z"
    },
    "papermill": {
     "duration": 6.707044,
     "end_time": "2024-02-23T23:20:29.740073",
     "exception": false,
     "start_time": "2024-02-23T23:20:23.033029",
     "status": "completed"
    },
    "tags": []
   },
   "outputs": [
    {
     "data": {
      "application/vnd.jupyter.widget-view+json": {
       "model_id": "fd16215b646b4b23b6bfd6eed14e3c97",
       "version_major": 2,
       "version_minor": 0
      },
      "text/plain": [
       "Loading checkpoint shards:   0%|          | 0/2 [00:00<?, ?it/s]"
      ]
     },
     "metadata": {},
     "output_type": "display_data"
    }
   ],
   "source": [
    "\n",
    "llama = AutoModelForCausalLM.from_pretrained(  # type: ignore\n",
    "                f\"meta-llama/Llama-2-{model_size}-hf\",\n",
    "                device_map={\"\": \"cuda\"},\n",
    "                revision=\"main\",\n",
    "                torch_dtype=\"auto\",\n",
    "                local_files_only=\"true\",cache_dir=\"/mnt/ssd-1/hf_cache/\"\n",
    "            )\n",
    "latent=\"en\"\n",
    "if type == 'logit':\n",
    "    llama_lens = LogitLens.from_model(llama).to(\"cuda\")\n",
    "    out_dir = f'./visuals/logit'\n",
    "    \n",
    "if type == 'tuned':\n",
    "    llama_lens = TunedLens.from_model_and_pretrained(llama,f\"meta-llama/Llama-2-{model_size}-hf\").to(\"cuda\")\n",
    "    out_dir = f'./visuals/tuned'\n",
    "if type == 'tuned-chinese':\n",
    "    llama_lens = TunedLens.from_model_and_pretrained(llama,\"../tuned-lens/my_lenses/chinese\").to(\"cuda\")\n",
    "    out_dir = f'./visuals/tuned-chinese'\n",
    "    latent = 'zh'\n",
    "    chinese = pd.read_csv(f'{prefix}zh/clean.csv').reindex()\n",
    "if type == 'tuned-chinese-en':\n",
    "    llama_lens = TunedLens.from_model_and_pretrained(llama,\"../tuned-lens/my_lenses/chinese\").to(\"cuda\")\n",
    "    out_dir = f'./visuals/tuned-chinese-en'\n",
    "    latent = 'en'\n",
    "    chinese = pd.read_csv(f'{prefix}zh/clean.csv').reindex()\n",
    "tokenizer = AutoTokenizer.from_pretrained(\n",
    "                f\"meta-llama/Llama-2-7b-hf\",local_files_only=\"true\",cache_dir=\"/mnt/ssd-1/hf_cache/\"\n",
    "            )"
   ]
  },
  {
   "cell_type": "code",
   "execution_count": 7,
   "id": "bc45e052",
   "metadata": {
    "execution": {
     "iopub.execute_input": "2024-02-23T23:20:29.750256Z",
     "iopub.status.busy": "2024-02-23T23:20:29.749802Z",
     "iopub.status.idle": "2024-02-23T23:20:30.990213Z",
     "shell.execute_reply": "2024-02-23T23:20:30.989540Z"
    },
    "papermill": {
     "duration": 1.245806,
     "end_time": "2024-02-23T23:20:30.991073",
     "exception": false,
     "start_time": "2024-02-23T23:20:29.745267",
     "status": "completed"
    },
    "tags": []
   },
   "outputs": [
    {
     "name": "stdout",
     "output_type": "stream",
     "text": [
      "Sequential(\n",
      "  (0): LlamaRMSNorm()\n",
      "  (1): Linear(in_features=4096, out_features=32000, bias=False)\n",
      ")\n",
      "U torch.Size([32000, 4096]) weights torch.Size([1, 4096])\n"
     ]
    },
    {
     "name": "stdout",
     "output_type": "stream",
     "text": [
      "0.058621685951948166\n"
     ]
    }
   ],
   "source": [
    "unemb = nn.Sequential(llama.model.norm, llama.lm_head)\n",
    "print(unemb)\n",
    "# prepare for energy plots\n",
    "U = list(unemb[1].parameters())[0].detach().cpu().float()\n",
    "weights = list(unemb[0].parameters())[0].detach().cpu().float()\n",
    "print(f'U {U.shape} weights {weights.unsqueeze(0).shape}')\n",
    "U_weighted = U.clone() \n",
    "#U_weighted = U_weighted / ((U_weighted**2).mean(dim=1, keepdim=True))**0.5\n",
    "U_weighted *= weights.unsqueeze(0)\n",
    "U_normalized = U_weighted / ((U_weighted**2).sum(dim=1, keepdim=True))**0.5\n",
    "v = U.shape[0]\n",
    "TT = U_normalized.T @ U_normalized\n",
    "avgUU = (((U_normalized.T @ U_normalized)**2).sum() / v**2)**0.5\n",
    "print(avgUU.item())"
   ]
  },
  {
   "cell_type": "code",
   "execution_count": 8,
   "id": "5686a8d5",
   "metadata": {
    "execution": {
     "iopub.execute_input": "2024-02-23T23:20:31.008025Z",
     "iopub.status.busy": "2024-02-23T23:20:31.007681Z",
     "iopub.status.idle": "2024-02-23T23:20:32.477357Z",
     "shell.execute_reply": "2024-02-23T23:20:32.476714Z"
    },
    "papermill": {
     "duration": 1.481984,
     "end_time": "2024-02-23T23:20:32.478228",
     "exception": false,
     "start_time": "2024-02-23T23:20:30.996244",
     "status": "completed"
    },
    "tags": []
   },
   "outputs": [
    {
     "name": "stdout",
     "output_type": "stream",
     "text": [
      "for fr 68 of 118 are single tokens\n",
      "final length of df_en_fr_en: 100\n"
     ]
    }
   ],
   "source": [
    "count = 0\n",
    "for idx, word in enumerate(df_en_target['word_translation']):\n",
    "    if word in tokenizer.get_vocab() or '▁'+word in tokenizer.get_vocab():\n",
    "        count += 1\n",
    "\n",
    "print(f'for {target_lang} {count} of {len(df_en_target)} are single tokens')\n",
    "\n",
    "if input_lang == target_lang:\n",
    "    df_en_target_input = df_en_target.copy()\n",
    "    if latent == 'zh':\n",
    "      df_en_target_input = df_en_target.copy()\n",
    "      chinese = chinese.loc[chinese[\"word_original\"].isin(df_en_input[\"word_original\"])]\n",
    "      df_en_target_input= df_en_target_input.loc[df_en_target_input[\"word_original\"].isin(chinese[\"word_original\"])]\n",
    "      chinese.sort_values(by=\"word_original\", inplace=True)\n",
    "      df_en_target_input.sort_values(by=\"word_original\", inplace=True)\n",
    "      chinese.reset_index(drop=True, inplace=True)\n",
    "      df_en_target_input.reset_index(drop=True, inplace=True)\n",
    "      df_en_target_input[\"word_original\"] = chinese[\"word_translation\"]\n",
    "    df_en_target_input.rename(columns={'word_original': latent, \n",
    "                                f'word_translation': target_lang if target_lang != latent else f'{latent}_tgt'}, \n",
    "                                inplace=True)\n",
    "    \n",
    "else:\n",
    "    df_en_target_input = df_en_target.merge(df_en_input, on=['word_original'], suffixes=(f'_{target_lang}', f'_{input_lang}'))\n",
    "    if latent == 'zh':\n",
    "      chinese = chinese.loc[chinese[\"word_original\"].isin(df_en_target_input[\"word_original\"])]\n",
    "      df_en_target_input= df_en_target_input.loc[df_en_target_input[\"word_original\"].isin(chinese[\"word_original\"])]\n",
    "      chinese.sort_values(by=\"word_original\", inplace=True)\n",
    "      df_en_target_input.sort_values(by=\"word_original\", inplace=True)\n",
    "      chinese.reset_index(drop=True, inplace=True)\n",
    "      df_en_target_input.reset_index(drop=True, inplace=True)\n",
    "      df_en_target_input[\"word_original\"] = chinese[\"word_translation\"]\n",
    "\n",
    "    df_en_target_input.rename(columns={'word_original': latent, \n",
    "                                f'word_translation_{target_lang}': target_lang if target_lang != latent else f'{latent}_tgt', \n",
    "                                f'word_translation_{input_lang}': input_lang if input_lang != latent else f'{latent}_in'}, \n",
    "                                inplace=True)\n",
    "# delete all rows where en is contained in de or fr\n",
    "if target_lang != latent:\n",
    "    for i, row in df_en_target_input.iterrows():\n",
    "        if row[latent].lower() in row[target_lang].lower():\n",
    "            df_en_target_input.drop(i, inplace=True)\n",
    "\n",
    "print(f'final length of df_{latent}_{target_lang}_{input_lang}: {len(df_en_target_input)}')"
   ]
  },
  {
   "cell_type": "code",
   "execution_count": 9,
   "id": "f0c0a52d",
   "metadata": {
    "execution": {
     "iopub.execute_input": "2024-02-23T23:20:32.489852Z",
     "iopub.status.busy": "2024-02-23T23:20:32.489447Z",
     "iopub.status.idle": "2024-02-23T23:20:32.525766Z",
     "shell.execute_reply": "2024-02-23T23:20:32.525366Z"
    },
    "papermill": {
     "duration": 0.042816,
     "end_time": "2024-02-23T23:20:32.526603",
     "exception": false,
     "start_time": "2024-02-23T23:20:32.483787",
     "status": "completed"
    },
    "tags": []
   },
   "outputs": [],
   "source": [
    "def token_prefixes(token_str: str):\n",
    "    n = len(token_str)\n",
    "    tokens = [token_str[:i] for i in range(1, n+1)]\n",
    "    return tokens \n",
    "\n",
    "def add_spaces(tokens):\n",
    "    return ['▁' + t for t in tokens] + tokens\n",
    "\n",
    "def capitalizations(tokens):\n",
    "    return list(set(tokens))\n",
    "\n",
    "def unicode_prefix_tokid(zh_char = \"云\", tokenizer=tokenizer):\n",
    "    start = zh_char.encode().__str__()[2:-1].split('\\\\x')[1]\n",
    "    unicode_format = '<0x%s>'\n",
    "    start_key = unicode_format%start.upper()\n",
    "    if start_key in tokenizer.get_vocab():\n",
    "        return tokenizer.get_vocab()[start_key]\n",
    "    return None\n",
    "\n",
    "def process_tokens(token_str: str, tokenizer, lang):\n",
    "    with_prefixes = token_prefixes(token_str)\n",
    "    with_spaces = add_spaces(with_prefixes)\n",
    "    with_capitalizations = capitalizations(with_spaces)\n",
    "    final_tokens = []\n",
    "    for tok in with_capitalizations:\n",
    "        if tok in tokenizer.get_vocab():\n",
    "            final_tokens.append(tokenizer.get_vocab()[tok])\n",
    "    if lang in ['zh', 'ru']:\n",
    "        tokid = unicode_prefix_tokid(token_str, tokenizer)\n",
    "        if tokid is not None:\n",
    "            final_tokens.append(tokid)\n",
    "    return final_tokens"
   ]
  },
  {
   "cell_type": "code",
   "execution_count": 10,
   "id": "faa7bb78",
   "metadata": {
    "execution": {
     "iopub.execute_input": "2024-02-23T23:20:32.535769Z",
     "iopub.status.busy": "2024-02-23T23:20:32.535370Z",
     "iopub.status.idle": "2024-02-23T23:20:32.575321Z",
     "shell.execute_reply": "2024-02-23T23:20:32.574897Z"
    },
    "papermill": {
     "duration": 0.045357,
     "end_time": "2024-02-23T23:20:32.576169",
     "exception": false,
     "start_time": "2024-02-23T23:20:32.530812",
     "status": "completed"
    },
    "tags": []
   },
   "outputs": [],
   "source": [
    "\n",
    "id2voc = {id:voc for voc, id in tokenizer.get_vocab().items()}\n",
    "def get_tokens(token_ids, id2voc=id2voc):\n",
    "    return [id2voc[tokid] for tokid in token_ids]\n",
    "\n",
    "def compute_entropy(probas):\n",
    "    return (-probas*torch.log2(probas)).sum(dim=-1)\n",
    "\n",
    "lang2name = {'fr': 'Français', 'de': 'Deutsch', 'ru': 'Русский', 'en': 'English', 'zh': '中文'}\n",
    "def sample(df, ind, k=5, tokenizer=tokenizer, lang1='fr', lang2='de', lang_latent=latent):\n",
    "    df = df.reset_index(drop=True)\n",
    "    temp = df[df.index!=ind]\n",
    "    sample = pd.concat([temp.sample(k-1), df[df.index==ind]], axis=0)\n",
    "    prompt = \"\"\n",
    "    for idx, (df_idx, row) in enumerate(sample.iterrows()):\n",
    "        if idx < k-1:\n",
    "            prompt += f'{lang2name[lang1]}: \"{row[lang1]}\" - {lang2name[lang2]}: \"{row[lang2]}\"\\n'\n",
    "        else:\n",
    "            prompt += f'{lang2name[lang1]}: \"{row[lang1]}\" - {lang2name[lang2]}: \"'\n",
    "            in_token_str = row[lang1]\n",
    "            out_token_str = row[lang2]\n",
    "            out_token_id = process_tokens(out_token_str, tokenizer, lang2)\n",
    "            latent_token_str = row[lang_latent]\n",
    "            latent_token_id = process_tokens(latent_token_str, tokenizer, latent)\n",
    "            intersection = set(out_token_id).intersection(set(latent_token_id))\n",
    "            if len(out_token_id) == 0 or len(latent_token_id) == 0:\n",
    "                yield None\n",
    "            if lang2 != latent and len(intersection) > 0:\n",
    "                yield None\n",
    "            yield {'prompt': prompt, \n",
    "                'out_token_id': out_token_id, \n",
    "                'out_token_str': out_token_str,\n",
    "                'latent_token_id': latent_token_id, \n",
    "                'latent_token_str': latent_token_str, \n",
    "                'in_token_str': in_token_str}"
   ]
  },
  {
   "cell_type": "code",
   "execution_count": 11,
   "id": "121eec47",
   "metadata": {
    "execution": {
     "iopub.execute_input": "2024-02-23T23:20:32.585133Z",
     "iopub.status.busy": "2024-02-23T23:20:32.584973Z",
     "iopub.status.idle": "2024-02-23T23:20:32.619958Z",
     "shell.execute_reply": "2024-02-23T23:20:32.619531Z"
    },
    "papermill": {
     "duration": 0.04009,
     "end_time": "2024-02-23T23:20:32.620777",
     "exception": false,
     "start_time": "2024-02-23T23:20:32.580687",
     "status": "completed"
    },
    "tags": []
   },
   "outputs": [
    {
     "data": {
      "text/html": [
       "<div>\n",
       "<style scoped>\n",
       "    .dataframe tbody tr th:only-of-type {\n",
       "        vertical-align: middle;\n",
       "    }\n",
       "\n",
       "    .dataframe tbody tr th {\n",
       "        vertical-align: top;\n",
       "    }\n",
       "\n",
       "    .dataframe thead th {\n",
       "        text-align: right;\n",
       "    }\n",
       "</style>\n",
       "<table border=\"1\" class=\"dataframe\">\n",
       "  <thead>\n",
       "    <tr style=\"text-align: right;\">\n",
       "      <th></th>\n",
       "      <th>lang_fr</th>\n",
       "      <th>en</th>\n",
       "      <th>fr</th>\n",
       "      <th>blank_prompt_original_fr</th>\n",
       "      <th>blank_prompt_translation_fr</th>\n",
       "      <th>blank_prompt_translation_masked_fr</th>\n",
       "      <th>error_fr</th>\n",
       "      <th>lang_en</th>\n",
       "      <th>en_in</th>\n",
       "      <th>blank_prompt_original_en</th>\n",
       "      <th>blank_prompt_translation_en</th>\n",
       "      <th>blank_prompt_translation_masked_en</th>\n",
       "      <th>error_en</th>\n",
       "    </tr>\n",
       "  </thead>\n",
       "  <tbody>\n",
       "    <tr>\n",
       "      <th>0</th>\n",
       "      <td>fr</td>\n",
       "      <td>cloud</td>\n",
       "      <td>nuage</td>\n",
       "      <td>A \"cloud\" is a visible mass of condensed water...</td>\n",
       "      <td>Un \"nuage\" est une masse visible de vapeur d'e...</td>\n",
       "      <td>Un \"___\" est une masse visible de vapeur d'eau...</td>\n",
       "      <td>no error</td>\n",
       "      <td>en</td>\n",
       "      <td>cloud</td>\n",
       "      <td>A \"cloud\" is a visible mass of condensed water...</td>\n",
       "      <td>A \"cloud\" is a visible mass of condensed water...</td>\n",
       "      <td>A \"___\" is a visible mass of condensed water v...</td>\n",
       "      <td>no error</td>\n",
       "    </tr>\n",
       "    <tr>\n",
       "      <th>1</th>\n",
       "      <td>fr</td>\n",
       "      <td>bag</td>\n",
       "      <td>sac</td>\n",
       "      <td>A \"bag\" is used to carry items. Answer: \"bag\".</td>\n",
       "      <td>Un \"sac\" est utilisé pour transporter des obje...</td>\n",
       "      <td>Un \"___\" est utilisé pour transporter des obje...</td>\n",
       "      <td>no error</td>\n",
       "      <td>en</td>\n",
       "      <td>bag</td>\n",
       "      <td>A \"bag\" is used to carry items. Answer: \"bag\".</td>\n",
       "      <td>A \"bag\" is used to carry items. Answer: \"bag\".</td>\n",
       "      <td>A \"___\" is used to carry items. Answer: \"bag\".</td>\n",
       "      <td>no error</td>\n",
       "    </tr>\n",
       "    <tr>\n",
       "      <th>2</th>\n",
       "      <td>fr</td>\n",
       "      <td>mouth</td>\n",
       "      <td>bouche</td>\n",
       "      <td>A \"mouth\" is used to eat food and speak. Answe...</td>\n",
       "      <td>La \"bouche\" sert à manger et à parler. Réponse...</td>\n",
       "      <td>La \"___\" sert à manger et à parler. Réponse : ...</td>\n",
       "      <td>no error</td>\n",
       "      <td>en</td>\n",
       "      <td>mouth</td>\n",
       "      <td>A \"mouth\" is used to eat food and speak. Answe...</td>\n",
       "      <td>A \"mouth\" is used to eat food and speak. Answe...</td>\n",
       "      <td>A \"___\" is used to eat food and speak. Answer:...</td>\n",
       "      <td>no error</td>\n",
       "    </tr>\n",
       "    <tr>\n",
       "      <th>3</th>\n",
       "      <td>fr</td>\n",
       "      <td>soil</td>\n",
       "      <td>sol</td>\n",
       "      <td>\"A \"soil\" is used for planting trees and crops...</td>\n",
       "      <td>\"Un \"sol\" est utilisé pour planter des arbres ...</td>\n",
       "      <td>\"Un \"___\" est utilisé pour planter des arbres ...</td>\n",
       "      <td>no error</td>\n",
       "      <td>en</td>\n",
       "      <td>soil</td>\n",
       "      <td>\"A \"soil\" is used for planting trees and crops...</td>\n",
       "      <td>\"A \"soil\" is used for planting trees and crops...</td>\n",
       "      <td>\"A \"___\" is used for planting trees and crops....</td>\n",
       "      <td>no error</td>\n",
       "    </tr>\n",
       "    <tr>\n",
       "      <th>4</th>\n",
       "      <td>fr</td>\n",
       "      <td>mountain</td>\n",
       "      <td>montagne</td>\n",
       "      <td>A \"mountain\" is a large natural elevation of t...</td>\n",
       "      <td>Une \"montagne\" est une grande élévation nature...</td>\n",
       "      <td>Une \"___\" est une grande élévation naturelle d...</td>\n",
       "      <td>no error</td>\n",
       "      <td>en</td>\n",
       "      <td>mountain</td>\n",
       "      <td>A \"mountain\" is a large natural elevation of t...</td>\n",
       "      <td>A \"mountain\" is a large natural elevation of t...</td>\n",
       "      <td>A \"___\" is a large natural elevation of the ea...</td>\n",
       "      <td>no error</td>\n",
       "    </tr>\n",
       "    <tr>\n",
       "      <th>...</th>\n",
       "      <td>...</td>\n",
       "      <td>...</td>\n",
       "      <td>...</td>\n",
       "      <td>...</td>\n",
       "      <td>...</td>\n",
       "      <td>...</td>\n",
       "      <td>...</td>\n",
       "      <td>...</td>\n",
       "      <td>...</td>\n",
       "      <td>...</td>\n",
       "      <td>...</td>\n",
       "      <td>...</td>\n",
       "      <td>...</td>\n",
       "    </tr>\n",
       "    <tr>\n",
       "      <th>113</th>\n",
       "      <td>fr</td>\n",
       "      <td>rise</td>\n",
       "      <td>hausse</td>\n",
       "      <td>\"A \"rise\" is used to describe an increase or u...</td>\n",
       "      <td>\"Une \"hausse\" est utilisée pour décrire une au...</td>\n",
       "      <td>\"Une \"___\" est utilisée pour décrire une augme...</td>\n",
       "      <td>no error</td>\n",
       "      <td>en</td>\n",
       "      <td>rise</td>\n",
       "      <td>\"A \"rise\" is used to describe an increase or u...</td>\n",
       "      <td>\"A \"rise\" is used to describe an increase or u...</td>\n",
       "      <td>\"A \"___\" is used to describe an increase or up...</td>\n",
       "      <td>no error</td>\n",
       "    </tr>\n",
       "    <tr>\n",
       "      <th>114</th>\n",
       "      <td>fr</td>\n",
       "      <td>left</td>\n",
       "      <td>gauche</td>\n",
       "      <td>'A \"left\" is a direction opposite to right. An...</td>\n",
       "      <td>Une \"gauche\" est une direction opposée à la dr...</td>\n",
       "      <td>Une \"___\" est une direction opposée à la droit...</td>\n",
       "      <td>no error</td>\n",
       "      <td>en</td>\n",
       "      <td>left</td>\n",
       "      <td>'A \"left\" is a direction opposite to right. An...</td>\n",
       "      <td>'A \"left\" is a direction opposite to right. An...</td>\n",
       "      <td>'A \"___\" is a direction opposite to right. Ans...</td>\n",
       "      <td>no error</td>\n",
       "    </tr>\n",
       "    <tr>\n",
       "      <th>115</th>\n",
       "      <td>fr</td>\n",
       "      <td>sound</td>\n",
       "      <td>son</td>\n",
       "      <td>A \"sound\" is something we hear. Answer: \"sound\".</td>\n",
       "      <td>Un \"son\" est quelque chose que l'on entend. Ré...</td>\n",
       "      <td>Un \"___\" est quelque chose que l'on entend. Ré...</td>\n",
       "      <td>no error</td>\n",
       "      <td>en</td>\n",
       "      <td>sound</td>\n",
       "      <td>A \"sound\" is something we hear. Answer: \"sound\".</td>\n",
       "      <td>A \"sound\" is something we hear. Answer: \"sound\".</td>\n",
       "      <td>A \"___\" is something we hear. Answer: \"sound\".</td>\n",
       "      <td>no error</td>\n",
       "    </tr>\n",
       "    <tr>\n",
       "      <th>116</th>\n",
       "      <td>fr</td>\n",
       "      <td>power</td>\n",
       "      <td>pouvoir</td>\n",
       "      <td>\"A \"power\" is used to control or influence peo...</td>\n",
       "      <td>\"Un \"pouvoir\" est utilisé pour contrôler ou in...</td>\n",
       "      <td>\"Un \"___\" est utilisé pour contrôler ou influe...</td>\n",
       "      <td>no error</td>\n",
       "      <td>en</td>\n",
       "      <td>power</td>\n",
       "      <td>\"A \"power\" is used to control or influence peo...</td>\n",
       "      <td>\"A \"power\" is used to control or influence peo...</td>\n",
       "      <td>\"A \"___\" is used to control or influence peopl...</td>\n",
       "      <td>no error</td>\n",
       "    </tr>\n",
       "    <tr>\n",
       "      <th>117</th>\n",
       "      <td>fr</td>\n",
       "      <td>summer</td>\n",
       "      <td>été</td>\n",
       "      <td>\"The \"summer\" is a season known for its warm w...</td>\n",
       "      <td>\"L'\"été\" est une saison connue pour son temps ...</td>\n",
       "      <td>\"L'\"___\" est une saison connue pour son temps ...</td>\n",
       "      <td>no error</td>\n",
       "      <td>en</td>\n",
       "      <td>summer</td>\n",
       "      <td>\"The \"summer\" is a season known for its warm w...</td>\n",
       "      <td>\"The \"summer\" is a season known for its warm w...</td>\n",
       "      <td>\"The \"___\" is a season known for its warm weat...</td>\n",
       "      <td>no error</td>\n",
       "    </tr>\n",
       "  </tbody>\n",
       "</table>\n",
       "<p>100 rows × 13 columns</p>\n",
       "</div>"
      ],
      "text/plain": [
       "    lang_fr        en        fr  \\\n",
       "0        fr     cloud     nuage   \n",
       "1        fr       bag       sac   \n",
       "2        fr     mouth    bouche   \n",
       "3        fr      soil       sol   \n",
       "4        fr  mountain  montagne   \n",
       "..      ...       ...       ...   \n",
       "113      fr      rise    hausse   \n",
       "114      fr      left    gauche   \n",
       "115      fr     sound       son   \n",
       "116      fr     power   pouvoir   \n",
       "117      fr    summer       été   \n",
       "\n",
       "                              blank_prompt_original_fr  \\\n",
       "0    A \"cloud\" is a visible mass of condensed water...   \n",
       "1       A \"bag\" is used to carry items. Answer: \"bag\".   \n",
       "2    A \"mouth\" is used to eat food and speak. Answe...   \n",
       "3    \"A \"soil\" is used for planting trees and crops...   \n",
       "4    A \"mountain\" is a large natural elevation of t...   \n",
       "..                                                 ...   \n",
       "113  \"A \"rise\" is used to describe an increase or u...   \n",
       "114  'A \"left\" is a direction opposite to right. An...   \n",
       "115   A \"sound\" is something we hear. Answer: \"sound\".   \n",
       "116  \"A \"power\" is used to control or influence peo...   \n",
       "117  \"The \"summer\" is a season known for its warm w...   \n",
       "\n",
       "                           blank_prompt_translation_fr  \\\n",
       "0    Un \"nuage\" est une masse visible de vapeur d'e...   \n",
       "1    Un \"sac\" est utilisé pour transporter des obje...   \n",
       "2    La \"bouche\" sert à manger et à parler. Réponse...   \n",
       "3    \"Un \"sol\" est utilisé pour planter des arbres ...   \n",
       "4    Une \"montagne\" est une grande élévation nature...   \n",
       "..                                                 ...   \n",
       "113  \"Une \"hausse\" est utilisée pour décrire une au...   \n",
       "114  Une \"gauche\" est une direction opposée à la dr...   \n",
       "115  Un \"son\" est quelque chose que l'on entend. Ré...   \n",
       "116  \"Un \"pouvoir\" est utilisé pour contrôler ou in...   \n",
       "117  \"L'\"été\" est une saison connue pour son temps ...   \n",
       "\n",
       "                    blank_prompt_translation_masked_fr  error_fr lang_en  \\\n",
       "0    Un \"___\" est une masse visible de vapeur d'eau...  no error      en   \n",
       "1    Un \"___\" est utilisé pour transporter des obje...  no error      en   \n",
       "2    La \"___\" sert à manger et à parler. Réponse : ...  no error      en   \n",
       "3    \"Un \"___\" est utilisé pour planter des arbres ...  no error      en   \n",
       "4    Une \"___\" est une grande élévation naturelle d...  no error      en   \n",
       "..                                                 ...       ...     ...   \n",
       "113  \"Une \"___\" est utilisée pour décrire une augme...  no error      en   \n",
       "114  Une \"___\" est une direction opposée à la droit...  no error      en   \n",
       "115  Un \"___\" est quelque chose que l'on entend. Ré...  no error      en   \n",
       "116  \"Un \"___\" est utilisé pour contrôler ou influe...  no error      en   \n",
       "117  \"L'\"___\" est une saison connue pour son temps ...  no error      en   \n",
       "\n",
       "        en_in                           blank_prompt_original_en  \\\n",
       "0       cloud  A \"cloud\" is a visible mass of condensed water...   \n",
       "1         bag     A \"bag\" is used to carry items. Answer: \"bag\".   \n",
       "2       mouth  A \"mouth\" is used to eat food and speak. Answe...   \n",
       "3        soil  \"A \"soil\" is used for planting trees and crops...   \n",
       "4    mountain  A \"mountain\" is a large natural elevation of t...   \n",
       "..        ...                                                ...   \n",
       "113      rise  \"A \"rise\" is used to describe an increase or u...   \n",
       "114      left  'A \"left\" is a direction opposite to right. An...   \n",
       "115     sound   A \"sound\" is something we hear. Answer: \"sound\".   \n",
       "116     power  \"A \"power\" is used to control or influence peo...   \n",
       "117    summer  \"The \"summer\" is a season known for its warm w...   \n",
       "\n",
       "                           blank_prompt_translation_en  \\\n",
       "0    A \"cloud\" is a visible mass of condensed water...   \n",
       "1       A \"bag\" is used to carry items. Answer: \"bag\".   \n",
       "2    A \"mouth\" is used to eat food and speak. Answe...   \n",
       "3    \"A \"soil\" is used for planting trees and crops...   \n",
       "4    A \"mountain\" is a large natural elevation of t...   \n",
       "..                                                 ...   \n",
       "113  \"A \"rise\" is used to describe an increase or u...   \n",
       "114  'A \"left\" is a direction opposite to right. An...   \n",
       "115   A \"sound\" is something we hear. Answer: \"sound\".   \n",
       "116  \"A \"power\" is used to control or influence peo...   \n",
       "117  \"The \"summer\" is a season known for its warm w...   \n",
       "\n",
       "                    blank_prompt_translation_masked_en  error_en  \n",
       "0    A \"___\" is a visible mass of condensed water v...  no error  \n",
       "1       A \"___\" is used to carry items. Answer: \"bag\".  no error  \n",
       "2    A \"___\" is used to eat food and speak. Answer:...  no error  \n",
       "3    \"A \"___\" is used for planting trees and crops....  no error  \n",
       "4    A \"___\" is a large natural elevation of the ea...  no error  \n",
       "..                                                 ...       ...  \n",
       "113  \"A \"___\" is used to describe an increase or up...  no error  \n",
       "114  'A \"___\" is a direction opposite to right. Ans...  no error  \n",
       "115     A \"___\" is something we hear. Answer: \"sound\".  no error  \n",
       "116  \"A \"___\" is used to control or influence peopl...  no error  \n",
       "117  \"The \"___\" is a season known for its warm weat...  no error  \n",
       "\n",
       "[100 rows x 13 columns]"
      ]
     },
     "execution_count": 11,
     "metadata": {},
     "output_type": "execute_result"
    }
   ],
   "source": [
    "df_en_target_input"
   ]
  },
  {
   "cell_type": "code",
   "execution_count": 12,
   "id": "8037261b",
   "metadata": {
    "execution": {
     "iopub.execute_input": "2024-02-23T23:20:32.632983Z",
     "iopub.status.busy": "2024-02-23T23:20:32.632601Z",
     "iopub.status.idle": "2024-02-23T23:20:32.660863Z",
     "shell.execute_reply": "2024-02-23T23:20:32.660436Z"
    },
    "papermill": {
     "duration": 0.033772,
     "end_time": "2024-02-23T23:20:32.661700",
     "exception": false,
     "start_time": "2024-02-23T23:20:32.627928",
     "status": "completed"
    },
    "tags": []
   },
   "outputs": [
    {
     "data": {
      "text/html": [
       "<div>\n",
       "<style scoped>\n",
       "    .dataframe tbody tr th:only-of-type {\n",
       "        vertical-align: middle;\n",
       "    }\n",
       "\n",
       "    .dataframe tbody tr th {\n",
       "        vertical-align: top;\n",
       "    }\n",
       "\n",
       "    .dataframe thead th {\n",
       "        text-align: right;\n",
       "    }\n",
       "</style>\n",
       "<table border=\"1\" class=\"dataframe\">\n",
       "  <thead>\n",
       "    <tr style=\"text-align: right;\">\n",
       "      <th></th>\n",
       "      <th>lang</th>\n",
       "      <th>word_original</th>\n",
       "      <th>word_translation</th>\n",
       "      <th>blank_prompt_original</th>\n",
       "      <th>blank_prompt_translation</th>\n",
       "      <th>blank_prompt_translation_masked</th>\n",
       "    </tr>\n",
       "  </thead>\n",
       "  <tbody>\n",
       "    <tr>\n",
       "      <th>0</th>\n",
       "      <td>zh</td>\n",
       "      <td>book</td>\n",
       "      <td>书</td>\n",
       "      <td>A \"book\" is used to read stories. Answer: \"book\".</td>\n",
       "      <td>\"书\"用来阅读故事。答案：\"书\"。</td>\n",
       "      <td>\"_\"用来阅读故事。答案：\"书\"。</td>\n",
       "    </tr>\n",
       "    <tr>\n",
       "      <th>1</th>\n",
       "      <td>zh</td>\n",
       "      <td>cloud</td>\n",
       "      <td>云</td>\n",
       "      <td>A \"cloud\" is a visible mass of condensed water...</td>\n",
       "      <td>\"云\"是大气中浮动的凝结水蒸气的可见质量。答案：\"云\"。</td>\n",
       "      <td>\"_\"是大气中浮动的凝结水蒸气的可见质量。答案：\"云\"。</td>\n",
       "    </tr>\n",
       "    <tr>\n",
       "      <th>2</th>\n",
       "      <td>zh</td>\n",
       "      <td>bag</td>\n",
       "      <td>包</td>\n",
       "      <td>A \"bag\" is used to carry items. Answer: \"bag\".</td>\n",
       "      <td>\"包\"用来携带物品。答案：\"包\"。</td>\n",
       "      <td>\"_\"用来携带物品。答案：\"包\"。</td>\n",
       "    </tr>\n",
       "    <tr>\n",
       "      <th>3</th>\n",
       "      <td>zh</td>\n",
       "      <td>mouth</td>\n",
       "      <td>口</td>\n",
       "      <td>A \"mouth\" is used to eat food and speak. Answe...</td>\n",
       "      <td>\"口\"用来吃食物和说话。答案：\"口\"。</td>\n",
       "      <td>\"_\"用来吃食物和说话。答案：\"口\"。</td>\n",
       "    </tr>\n",
       "    <tr>\n",
       "      <th>4</th>\n",
       "      <td>zh</td>\n",
       "      <td>soil</td>\n",
       "      <td>土</td>\n",
       "      <td>\"A \"soil\" is used for planting trees and crops...</td>\n",
       "      <td>\"土\"用于种植树木和作物。答案：\"土\"。</td>\n",
       "      <td>\"_\"用于种植树木和作物。答案：\"土\"。</td>\n",
       "    </tr>\n",
       "    <tr>\n",
       "      <th>...</th>\n",
       "      <td>...</td>\n",
       "      <td>...</td>\n",
       "      <td>...</td>\n",
       "      <td>...</td>\n",
       "      <td>...</td>\n",
       "      <td>...</td>\n",
       "    </tr>\n",
       "    <tr>\n",
       "      <th>134</th>\n",
       "      <td>zh</td>\n",
       "      <td>rise</td>\n",
       "      <td>起</td>\n",
       "      <td>\"A \"rise\" is used to describe an increase or u...</td>\n",
       "      <td>\"起\"用来描述增加或向上移动。答案：\"起\"。</td>\n",
       "      <td>\"_\"用来描述增加或向上移动。答案：\"起\"。</td>\n",
       "    </tr>\n",
       "    <tr>\n",
       "      <th>135</th>\n",
       "      <td>zh</td>\n",
       "      <td>left</td>\n",
       "      <td>左</td>\n",
       "      <td>'A \"left\" is a direction opposite to right. An...</td>\n",
       "      <td>\"左\"是右的相反方向。答案：\"左\"。</td>\n",
       "      <td>\"_\"是右的相反方向。答案：\"左\"。</td>\n",
       "    </tr>\n",
       "    <tr>\n",
       "      <th>136</th>\n",
       "      <td>zh</td>\n",
       "      <td>sound</td>\n",
       "      <td>音</td>\n",
       "      <td>A \"sound\" is something we hear. Answer: \"sound\".</td>\n",
       "      <td>\"音\"是我们听到的东西。答案：\"音\"。</td>\n",
       "      <td>\"_\"是我们听到的东西。答案：\"音\"。</td>\n",
       "    </tr>\n",
       "    <tr>\n",
       "      <th>137</th>\n",
       "      <td>zh</td>\n",
       "      <td>power</td>\n",
       "      <td>力</td>\n",
       "      <td>\"A \"power\" is used to control or influence peo...</td>\n",
       "      <td>\"力\"用来控制或影响人或物。答案：\"力\"。</td>\n",
       "      <td>\"_\"用来控制或影响人或物。答案：\"力\"。</td>\n",
       "    </tr>\n",
       "    <tr>\n",
       "      <th>138</th>\n",
       "      <td>zh</td>\n",
       "      <td>summer</td>\n",
       "      <td>夏</td>\n",
       "      <td>\"The \"summer\" is a season known for its warm w...</td>\n",
       "      <td>\"夏\"是以温暖的天气为特征的季节。答案：\"夏\"。</td>\n",
       "      <td>\"_\"是以温暖的天气为特征的季节。答案：\"夏\"。</td>\n",
       "    </tr>\n",
       "  </tbody>\n",
       "</table>\n",
       "<p>139 rows × 6 columns</p>\n",
       "</div>"
      ],
      "text/plain": [
       "    lang word_original word_translation  \\\n",
       "0     zh          book                书   \n",
       "1     zh         cloud                云   \n",
       "2     zh           bag                包   \n",
       "3     zh         mouth                口   \n",
       "4     zh          soil                土   \n",
       "..   ...           ...              ...   \n",
       "134   zh          rise                起   \n",
       "135   zh          left                左   \n",
       "136   zh         sound                音   \n",
       "137   zh         power                力   \n",
       "138   zh        summer                夏   \n",
       "\n",
       "                                 blank_prompt_original  \\\n",
       "0    A \"book\" is used to read stories. Answer: \"book\".   \n",
       "1    A \"cloud\" is a visible mass of condensed water...   \n",
       "2       A \"bag\" is used to carry items. Answer: \"bag\".   \n",
       "3    A \"mouth\" is used to eat food and speak. Answe...   \n",
       "4    \"A \"soil\" is used for planting trees and crops...   \n",
       "..                                                 ...   \n",
       "134  \"A \"rise\" is used to describe an increase or u...   \n",
       "135  'A \"left\" is a direction opposite to right. An...   \n",
       "136   A \"sound\" is something we hear. Answer: \"sound\".   \n",
       "137  \"A \"power\" is used to control or influence peo...   \n",
       "138  \"The \"summer\" is a season known for its warm w...   \n",
       "\n",
       "         blank_prompt_translation blank_prompt_translation_masked  \n",
       "0               \"书\"用来阅读故事。答案：\"书\"。               \"_\"用来阅读故事。答案：\"书\"。  \n",
       "1    \"云\"是大气中浮动的凝结水蒸气的可见质量。答案：\"云\"。    \"_\"是大气中浮动的凝结水蒸气的可见质量。答案：\"云\"。  \n",
       "2               \"包\"用来携带物品。答案：\"包\"。               \"_\"用来携带物品。答案：\"包\"。  \n",
       "3             \"口\"用来吃食物和说话。答案：\"口\"。             \"_\"用来吃食物和说话。答案：\"口\"。  \n",
       "4            \"土\"用于种植树木和作物。答案：\"土\"。            \"_\"用于种植树木和作物。答案：\"土\"。  \n",
       "..                            ...                             ...  \n",
       "134        \"起\"用来描述增加或向上移动。答案：\"起\"。          \"_\"用来描述增加或向上移动。答案：\"起\"。  \n",
       "135            \"左\"是右的相反方向。答案：\"左\"。              \"_\"是右的相反方向。答案：\"左\"。  \n",
       "136           \"音\"是我们听到的东西。答案：\"音\"。             \"_\"是我们听到的东西。答案：\"音\"。  \n",
       "137         \"力\"用来控制或影响人或物。答案：\"力\"。           \"_\"用来控制或影响人或物。答案：\"力\"。  \n",
       "138      \"夏\"是以温暖的天气为特征的季节。答案：\"夏\"。        \"_\"是以温暖的天气为特征的季节。答案：\"夏\"。  \n",
       "\n",
       "[139 rows x 6 columns]"
      ]
     },
     "execution_count": 12,
     "metadata": {},
     "output_type": "execute_result"
    }
   ],
   "source": [
    "chinese"
   ]
  },
  {
   "cell_type": "code",
   "execution_count": 13,
   "id": "444dd726",
   "metadata": {
    "execution": {
     "iopub.execute_input": "2024-02-23T23:20:32.671536Z",
     "iopub.status.busy": "2024-02-23T23:20:32.671386Z",
     "iopub.status.idle": "2024-02-23T23:20:32.699174Z",
     "shell.execute_reply": "2024-02-23T23:20:32.698759Z"
    },
    "papermill": {
     "duration": 0.033303,
     "end_time": "2024-02-23T23:20:32.699973",
     "exception": false,
     "start_time": "2024-02-23T23:20:32.666670",
     "status": "completed"
    },
    "tags": []
   },
   "outputs": [
    {
     "data": {
      "text/html": [
       "<div>\n",
       "<style scoped>\n",
       "    .dataframe tbody tr th:only-of-type {\n",
       "        vertical-align: middle;\n",
       "    }\n",
       "\n",
       "    .dataframe tbody tr th {\n",
       "        vertical-align: top;\n",
       "    }\n",
       "\n",
       "    .dataframe thead th {\n",
       "        text-align: right;\n",
       "    }\n",
       "</style>\n",
       "<table border=\"1\" class=\"dataframe\">\n",
       "  <thead>\n",
       "    <tr style=\"text-align: right;\">\n",
       "      <th></th>\n",
       "      <th>lang_fr</th>\n",
       "      <th>en</th>\n",
       "      <th>fr</th>\n",
       "      <th>blank_prompt_original_fr</th>\n",
       "      <th>blank_prompt_translation_fr</th>\n",
       "      <th>blank_prompt_translation_masked_fr</th>\n",
       "      <th>error_fr</th>\n",
       "      <th>lang_en</th>\n",
       "      <th>en_in</th>\n",
       "      <th>blank_prompt_original_en</th>\n",
       "      <th>blank_prompt_translation_en</th>\n",
       "      <th>blank_prompt_translation_masked_en</th>\n",
       "      <th>error_en</th>\n",
       "    </tr>\n",
       "  </thead>\n",
       "  <tbody>\n",
       "    <tr>\n",
       "      <th>0</th>\n",
       "      <td>fr</td>\n",
       "      <td>cloud</td>\n",
       "      <td>nuage</td>\n",
       "      <td>A \"cloud\" is a visible mass of condensed water...</td>\n",
       "      <td>Un \"nuage\" est une masse visible de vapeur d'e...</td>\n",
       "      <td>Un \"___\" est une masse visible de vapeur d'eau...</td>\n",
       "      <td>no error</td>\n",
       "      <td>en</td>\n",
       "      <td>cloud</td>\n",
       "      <td>A \"cloud\" is a visible mass of condensed water...</td>\n",
       "      <td>A \"cloud\" is a visible mass of condensed water...</td>\n",
       "      <td>A \"___\" is a visible mass of condensed water v...</td>\n",
       "      <td>no error</td>\n",
       "    </tr>\n",
       "    <tr>\n",
       "      <th>1</th>\n",
       "      <td>fr</td>\n",
       "      <td>bag</td>\n",
       "      <td>sac</td>\n",
       "      <td>A \"bag\" is used to carry items. Answer: \"bag\".</td>\n",
       "      <td>Un \"sac\" est utilisé pour transporter des obje...</td>\n",
       "      <td>Un \"___\" est utilisé pour transporter des obje...</td>\n",
       "      <td>no error</td>\n",
       "      <td>en</td>\n",
       "      <td>bag</td>\n",
       "      <td>A \"bag\" is used to carry items. Answer: \"bag\".</td>\n",
       "      <td>A \"bag\" is used to carry items. Answer: \"bag\".</td>\n",
       "      <td>A \"___\" is used to carry items. Answer: \"bag\".</td>\n",
       "      <td>no error</td>\n",
       "    </tr>\n",
       "    <tr>\n",
       "      <th>2</th>\n",
       "      <td>fr</td>\n",
       "      <td>mouth</td>\n",
       "      <td>bouche</td>\n",
       "      <td>A \"mouth\" is used to eat food and speak. Answe...</td>\n",
       "      <td>La \"bouche\" sert à manger et à parler. Réponse...</td>\n",
       "      <td>La \"___\" sert à manger et à parler. Réponse : ...</td>\n",
       "      <td>no error</td>\n",
       "      <td>en</td>\n",
       "      <td>mouth</td>\n",
       "      <td>A \"mouth\" is used to eat food and speak. Answe...</td>\n",
       "      <td>A \"mouth\" is used to eat food and speak. Answe...</td>\n",
       "      <td>A \"___\" is used to eat food and speak. Answer:...</td>\n",
       "      <td>no error</td>\n",
       "    </tr>\n",
       "    <tr>\n",
       "      <th>3</th>\n",
       "      <td>fr</td>\n",
       "      <td>soil</td>\n",
       "      <td>sol</td>\n",
       "      <td>\"A \"soil\" is used for planting trees and crops...</td>\n",
       "      <td>\"Un \"sol\" est utilisé pour planter des arbres ...</td>\n",
       "      <td>\"Un \"___\" est utilisé pour planter des arbres ...</td>\n",
       "      <td>no error</td>\n",
       "      <td>en</td>\n",
       "      <td>soil</td>\n",
       "      <td>\"A \"soil\" is used for planting trees and crops...</td>\n",
       "      <td>\"A \"soil\" is used for planting trees and crops...</td>\n",
       "      <td>\"A \"___\" is used for planting trees and crops....</td>\n",
       "      <td>no error</td>\n",
       "    </tr>\n",
       "    <tr>\n",
       "      <th>4</th>\n",
       "      <td>fr</td>\n",
       "      <td>mountain</td>\n",
       "      <td>montagne</td>\n",
       "      <td>A \"mountain\" is a large natural elevation of t...</td>\n",
       "      <td>Une \"montagne\" est une grande élévation nature...</td>\n",
       "      <td>Une \"___\" est une grande élévation naturelle d...</td>\n",
       "      <td>no error</td>\n",
       "      <td>en</td>\n",
       "      <td>mountain</td>\n",
       "      <td>A \"mountain\" is a large natural elevation of t...</td>\n",
       "      <td>A \"mountain\" is a large natural elevation of t...</td>\n",
       "      <td>A \"___\" is a large natural elevation of the ea...</td>\n",
       "      <td>no error</td>\n",
       "    </tr>\n",
       "    <tr>\n",
       "      <th>...</th>\n",
       "      <td>...</td>\n",
       "      <td>...</td>\n",
       "      <td>...</td>\n",
       "      <td>...</td>\n",
       "      <td>...</td>\n",
       "      <td>...</td>\n",
       "      <td>...</td>\n",
       "      <td>...</td>\n",
       "      <td>...</td>\n",
       "      <td>...</td>\n",
       "      <td>...</td>\n",
       "      <td>...</td>\n",
       "      <td>...</td>\n",
       "    </tr>\n",
       "    <tr>\n",
       "      <th>113</th>\n",
       "      <td>fr</td>\n",
       "      <td>rise</td>\n",
       "      <td>hausse</td>\n",
       "      <td>\"A \"rise\" is used to describe an increase or u...</td>\n",
       "      <td>\"Une \"hausse\" est utilisée pour décrire une au...</td>\n",
       "      <td>\"Une \"___\" est utilisée pour décrire une augme...</td>\n",
       "      <td>no error</td>\n",
       "      <td>en</td>\n",
       "      <td>rise</td>\n",
       "      <td>\"A \"rise\" is used to describe an increase or u...</td>\n",
       "      <td>\"A \"rise\" is used to describe an increase or u...</td>\n",
       "      <td>\"A \"___\" is used to describe an increase or up...</td>\n",
       "      <td>no error</td>\n",
       "    </tr>\n",
       "    <tr>\n",
       "      <th>114</th>\n",
       "      <td>fr</td>\n",
       "      <td>left</td>\n",
       "      <td>gauche</td>\n",
       "      <td>'A \"left\" is a direction opposite to right. An...</td>\n",
       "      <td>Une \"gauche\" est une direction opposée à la dr...</td>\n",
       "      <td>Une \"___\" est une direction opposée à la droit...</td>\n",
       "      <td>no error</td>\n",
       "      <td>en</td>\n",
       "      <td>left</td>\n",
       "      <td>'A \"left\" is a direction opposite to right. An...</td>\n",
       "      <td>'A \"left\" is a direction opposite to right. An...</td>\n",
       "      <td>'A \"___\" is a direction opposite to right. Ans...</td>\n",
       "      <td>no error</td>\n",
       "    </tr>\n",
       "    <tr>\n",
       "      <th>115</th>\n",
       "      <td>fr</td>\n",
       "      <td>sound</td>\n",
       "      <td>son</td>\n",
       "      <td>A \"sound\" is something we hear. Answer: \"sound\".</td>\n",
       "      <td>Un \"son\" est quelque chose que l'on entend. Ré...</td>\n",
       "      <td>Un \"___\" est quelque chose que l'on entend. Ré...</td>\n",
       "      <td>no error</td>\n",
       "      <td>en</td>\n",
       "      <td>sound</td>\n",
       "      <td>A \"sound\" is something we hear. Answer: \"sound\".</td>\n",
       "      <td>A \"sound\" is something we hear. Answer: \"sound\".</td>\n",
       "      <td>A \"___\" is something we hear. Answer: \"sound\".</td>\n",
       "      <td>no error</td>\n",
       "    </tr>\n",
       "    <tr>\n",
       "      <th>116</th>\n",
       "      <td>fr</td>\n",
       "      <td>power</td>\n",
       "      <td>pouvoir</td>\n",
       "      <td>\"A \"power\" is used to control or influence peo...</td>\n",
       "      <td>\"Un \"pouvoir\" est utilisé pour contrôler ou in...</td>\n",
       "      <td>\"Un \"___\" est utilisé pour contrôler ou influe...</td>\n",
       "      <td>no error</td>\n",
       "      <td>en</td>\n",
       "      <td>power</td>\n",
       "      <td>\"A \"power\" is used to control or influence peo...</td>\n",
       "      <td>\"A \"power\" is used to control or influence peo...</td>\n",
       "      <td>\"A \"___\" is used to control or influence peopl...</td>\n",
       "      <td>no error</td>\n",
       "    </tr>\n",
       "    <tr>\n",
       "      <th>117</th>\n",
       "      <td>fr</td>\n",
       "      <td>summer</td>\n",
       "      <td>été</td>\n",
       "      <td>\"The \"summer\" is a season known for its warm w...</td>\n",
       "      <td>\"L'\"été\" est une saison connue pour son temps ...</td>\n",
       "      <td>\"L'\"___\" est une saison connue pour son temps ...</td>\n",
       "      <td>no error</td>\n",
       "      <td>en</td>\n",
       "      <td>summer</td>\n",
       "      <td>\"The \"summer\" is a season known for its warm w...</td>\n",
       "      <td>\"The \"summer\" is a season known for its warm w...</td>\n",
       "      <td>\"The \"___\" is a season known for its warm weat...</td>\n",
       "      <td>no error</td>\n",
       "    </tr>\n",
       "  </tbody>\n",
       "</table>\n",
       "<p>100 rows × 13 columns</p>\n",
       "</div>"
      ],
      "text/plain": [
       "    lang_fr        en        fr  \\\n",
       "0        fr     cloud     nuage   \n",
       "1        fr       bag       sac   \n",
       "2        fr     mouth    bouche   \n",
       "3        fr      soil       sol   \n",
       "4        fr  mountain  montagne   \n",
       "..      ...       ...       ...   \n",
       "113      fr      rise    hausse   \n",
       "114      fr      left    gauche   \n",
       "115      fr     sound       son   \n",
       "116      fr     power   pouvoir   \n",
       "117      fr    summer       été   \n",
       "\n",
       "                              blank_prompt_original_fr  \\\n",
       "0    A \"cloud\" is a visible mass of condensed water...   \n",
       "1       A \"bag\" is used to carry items. Answer: \"bag\".   \n",
       "2    A \"mouth\" is used to eat food and speak. Answe...   \n",
       "3    \"A \"soil\" is used for planting trees and crops...   \n",
       "4    A \"mountain\" is a large natural elevation of t...   \n",
       "..                                                 ...   \n",
       "113  \"A \"rise\" is used to describe an increase or u...   \n",
       "114  'A \"left\" is a direction opposite to right. An...   \n",
       "115   A \"sound\" is something we hear. Answer: \"sound\".   \n",
       "116  \"A \"power\" is used to control or influence peo...   \n",
       "117  \"The \"summer\" is a season known for its warm w...   \n",
       "\n",
       "                           blank_prompt_translation_fr  \\\n",
       "0    Un \"nuage\" est une masse visible de vapeur d'e...   \n",
       "1    Un \"sac\" est utilisé pour transporter des obje...   \n",
       "2    La \"bouche\" sert à manger et à parler. Réponse...   \n",
       "3    \"Un \"sol\" est utilisé pour planter des arbres ...   \n",
       "4    Une \"montagne\" est une grande élévation nature...   \n",
       "..                                                 ...   \n",
       "113  \"Une \"hausse\" est utilisée pour décrire une au...   \n",
       "114  Une \"gauche\" est une direction opposée à la dr...   \n",
       "115  Un \"son\" est quelque chose que l'on entend. Ré...   \n",
       "116  \"Un \"pouvoir\" est utilisé pour contrôler ou in...   \n",
       "117  \"L'\"été\" est une saison connue pour son temps ...   \n",
       "\n",
       "                    blank_prompt_translation_masked_fr  error_fr lang_en  \\\n",
       "0    Un \"___\" est une masse visible de vapeur d'eau...  no error      en   \n",
       "1    Un \"___\" est utilisé pour transporter des obje...  no error      en   \n",
       "2    La \"___\" sert à manger et à parler. Réponse : ...  no error      en   \n",
       "3    \"Un \"___\" est utilisé pour planter des arbres ...  no error      en   \n",
       "4    Une \"___\" est une grande élévation naturelle d...  no error      en   \n",
       "..                                                 ...       ...     ...   \n",
       "113  \"Une \"___\" est utilisée pour décrire une augme...  no error      en   \n",
       "114  Une \"___\" est une direction opposée à la droit...  no error      en   \n",
       "115  Un \"___\" est quelque chose que l'on entend. Ré...  no error      en   \n",
       "116  \"Un \"___\" est utilisé pour contrôler ou influe...  no error      en   \n",
       "117  \"L'\"___\" est une saison connue pour son temps ...  no error      en   \n",
       "\n",
       "        en_in                           blank_prompt_original_en  \\\n",
       "0       cloud  A \"cloud\" is a visible mass of condensed water...   \n",
       "1         bag     A \"bag\" is used to carry items. Answer: \"bag\".   \n",
       "2       mouth  A \"mouth\" is used to eat food and speak. Answe...   \n",
       "3        soil  \"A \"soil\" is used for planting trees and crops...   \n",
       "4    mountain  A \"mountain\" is a large natural elevation of t...   \n",
       "..        ...                                                ...   \n",
       "113      rise  \"A \"rise\" is used to describe an increase or u...   \n",
       "114      left  'A \"left\" is a direction opposite to right. An...   \n",
       "115     sound   A \"sound\" is something we hear. Answer: \"sound\".   \n",
       "116     power  \"A \"power\" is used to control or influence peo...   \n",
       "117    summer  \"The \"summer\" is a season known for its warm w...   \n",
       "\n",
       "                           blank_prompt_translation_en  \\\n",
       "0    A \"cloud\" is a visible mass of condensed water...   \n",
       "1       A \"bag\" is used to carry items. Answer: \"bag\".   \n",
       "2    A \"mouth\" is used to eat food and speak. Answe...   \n",
       "3    \"A \"soil\" is used for planting trees and crops...   \n",
       "4    A \"mountain\" is a large natural elevation of t...   \n",
       "..                                                 ...   \n",
       "113  \"A \"rise\" is used to describe an increase or u...   \n",
       "114  'A \"left\" is a direction opposite to right. An...   \n",
       "115   A \"sound\" is something we hear. Answer: \"sound\".   \n",
       "116  \"A \"power\" is used to control or influence peo...   \n",
       "117  \"The \"summer\" is a season known for its warm w...   \n",
       "\n",
       "                    blank_prompt_translation_masked_en  error_en  \n",
       "0    A \"___\" is a visible mass of condensed water v...  no error  \n",
       "1       A \"___\" is used to carry items. Answer: \"bag\".  no error  \n",
       "2    A \"___\" is used to eat food and speak. Answer:...  no error  \n",
       "3    \"A \"___\" is used for planting trees and crops....  no error  \n",
       "4    A \"___\" is a large natural elevation of the ea...  no error  \n",
       "..                                                 ...       ...  \n",
       "113  \"A \"___\" is used to describe an increase or up...  no error  \n",
       "114  'A \"___\" is a direction opposite to right. Ans...  no error  \n",
       "115     A \"___\" is something we hear. Answer: \"sound\".  no error  \n",
       "116  \"A \"___\" is used to control or influence peopl...  no error  \n",
       "117  \"The \"___\" is a season known for its warm weat...  no error  \n",
       "\n",
       "[100 rows x 13 columns]"
      ]
     },
     "execution_count": 13,
     "metadata": {},
     "output_type": "execute_result"
    }
   ],
   "source": [
    "df_en_target_input"
   ]
  },
  {
   "cell_type": "code",
   "execution_count": 14,
   "id": "500641f5",
   "metadata": {
    "execution": {
     "iopub.execute_input": "2024-02-23T23:20:32.711573Z",
     "iopub.status.busy": "2024-02-23T23:20:32.711230Z",
     "iopub.status.idle": "2024-02-23T23:20:54.173835Z",
     "shell.execute_reply": "2024-02-23T23:20:54.173206Z"
    },
    "papermill": {
     "duration": 21.469719,
     "end_time": "2024-02-23T23:20:54.174702",
     "exception": false,
     "start_time": "2024-02-23T23:20:32.704983",
     "status": "completed"
    },
    "tags": []
   },
   "outputs": [
    {
     "name": "stderr",
     "output_type": "stream",
     "text": [
      "\r",
      "  0%|                                                                                                                                                                                                                       | 0/100 [00:00<?, ?it/s]"
     ]
    },
    {
     "name": "stderr",
     "output_type": "stream",
     "text": [
      "\r",
      "  1%|██                                                                                                                                                                                                             | 1/100 [00:00<00:22,  4.44it/s]"
     ]
    },
    {
     "name": "stderr",
     "output_type": "stream",
     "text": [
      "\r",
      "  2%|████▏                                                                                                                                                                                                          | 2/100 [00:00<00:17,  5.46it/s]"
     ]
    },
    {
     "name": "stderr",
     "output_type": "stream",
     "text": [
      "\r",
      "  3%|██████▏                                                                                                                                                                                                        | 3/100 [00:00<00:19,  4.95it/s]"
     ]
    },
    {
     "name": "stderr",
     "output_type": "stream",
     "text": [
      "\r",
      "  4%|████████▎                                                                                                                                                                                                      | 4/100 [00:00<00:17,  5.39it/s]"
     ]
    },
    {
     "name": "stderr",
     "output_type": "stream",
     "text": [
      "\r",
      "  5%|██████████▎                                                                                                                                                                                                    | 5/100 [00:01<00:22,  4.31it/s]"
     ]
    },
    {
     "name": "stderr",
     "output_type": "stream",
     "text": [
      "\r",
      "  6%|████████████▍                                                                                                                                                                                                  | 6/100 [00:01<00:20,  4.68it/s]"
     ]
    },
    {
     "name": "stderr",
     "output_type": "stream",
     "text": [
      "\r",
      "  7%|██████████████▍                                                                                                                                                                                                | 7/100 [00:01<00:19,  4.73it/s]"
     ]
    },
    {
     "name": "stderr",
     "output_type": "stream",
     "text": [
      "\r",
      "  8%|████████████████▌                                                                                                                                                                                              | 8/100 [00:01<00:18,  5.01it/s]"
     ]
    },
    {
     "name": "stderr",
     "output_type": "stream",
     "text": [
      "\r",
      "  9%|██████████████████▋                                                                                                                                                                                            | 9/100 [00:01<00:18,  4.89it/s]"
     ]
    },
    {
     "name": "stderr",
     "output_type": "stream",
     "text": [
      "\r",
      " 10%|████████████████████▌                                                                                                                                                                                         | 10/100 [00:02<00:20,  4.40it/s]"
     ]
    },
    {
     "name": "stderr",
     "output_type": "stream",
     "text": [
      "\r",
      " 11%|██████████████████████▋                                                                                                                                                                                       | 11/100 [00:02<00:18,  4.79it/s]"
     ]
    },
    {
     "name": "stderr",
     "output_type": "stream",
     "text": [
      "\r",
      " 12%|████████████████████████▋                                                                                                                                                                                     | 12/100 [00:02<00:17,  5.03it/s]"
     ]
    },
    {
     "name": "stderr",
     "output_type": "stream",
     "text": [
      "\r",
      " 13%|██████████████████████████▊                                                                                                                                                                                   | 13/100 [00:02<00:18,  4.73it/s]"
     ]
    },
    {
     "name": "stderr",
     "output_type": "stream",
     "text": [
      "\r",
      " 14%|████████████████████████████▊                                                                                                                                                                                 | 14/100 [00:02<00:17,  4.84it/s]"
     ]
    },
    {
     "name": "stderr",
     "output_type": "stream",
     "text": [
      "\r",
      " 15%|██████████████████████████████▉                                                                                                                                                                               | 15/100 [00:03<00:18,  4.58it/s]"
     ]
    },
    {
     "name": "stderr",
     "output_type": "stream",
     "text": [
      "\r",
      " 16%|████████████████████████████████▉                                                                                                                                                                             | 16/100 [00:03<00:17,  4.74it/s]"
     ]
    },
    {
     "name": "stderr",
     "output_type": "stream",
     "text": [
      "\r",
      " 17%|███████████████████████████████████                                                                                                                                                                           | 17/100 [00:03<00:17,  4.87it/s]"
     ]
    },
    {
     "name": "stderr",
     "output_type": "stream",
     "text": [
      "\r",
      " 18%|█████████████████████████████████████                                                                                                                                                                         | 18/100 [00:03<00:15,  5.30it/s]"
     ]
    },
    {
     "name": "stderr",
     "output_type": "stream",
     "text": [
      "\r",
      " 19%|███████████████████████████████████████▏                                                                                                                                                                      | 19/100 [00:03<00:15,  5.30it/s]"
     ]
    },
    {
     "name": "stderr",
     "output_type": "stream",
     "text": [
      "\r",
      " 20%|█████████████████████████████████████████▏                                                                                                                                                                    | 20/100 [00:04<00:15,  5.28it/s]"
     ]
    },
    {
     "name": "stderr",
     "output_type": "stream",
     "text": [
      "\r",
      " 21%|███████████████████████████████████████████▎                                                                                                                                                                  | 21/100 [00:04<00:15,  5.16it/s]"
     ]
    },
    {
     "name": "stderr",
     "output_type": "stream",
     "text": [
      "\r",
      " 22%|█████████████████████████████████████████████▎                                                                                                                                                                | 22/100 [00:04<00:14,  5.56it/s]"
     ]
    },
    {
     "name": "stderr",
     "output_type": "stream",
     "text": [
      "\r",
      " 23%|███████████████████████████████████████████████▍                                                                                                                                                              | 23/100 [00:04<00:13,  5.63it/s]"
     ]
    },
    {
     "name": "stderr",
     "output_type": "stream",
     "text": [
      "\r",
      " 24%|█████████████████████████████████████████████████▍                                                                                                                                                            | 24/100 [00:04<00:15,  4.98it/s]"
     ]
    },
    {
     "name": "stderr",
     "output_type": "stream",
     "text": [
      "\r",
      " 25%|███████████████████████████████████████████████████▌                                                                                                                                                          | 25/100 [00:05<00:14,  5.20it/s]"
     ]
    },
    {
     "name": "stderr",
     "output_type": "stream",
     "text": [
      "\r",
      " 26%|█████████████████████████████████████████████████████▌                                                                                                                                                        | 26/100 [00:05<00:14,  5.28it/s]"
     ]
    },
    {
     "name": "stderr",
     "output_type": "stream",
     "text": [
      "\r",
      " 27%|███████████████████████████████████████████████████████▌                                                                                                                                                      | 27/100 [00:05<00:14,  5.10it/s]"
     ]
    },
    {
     "name": "stderr",
     "output_type": "stream",
     "text": [
      "\r",
      " 28%|█████████████████████████████████████████████████████████▋                                                                                                                                                    | 28/100 [00:05<00:14,  5.14it/s]"
     ]
    },
    {
     "name": "stderr",
     "output_type": "stream",
     "text": [
      "\r",
      " 29%|███████████████████████████████████████████████████████████▋                                                                                                                                                  | 29/100 [00:05<00:14,  4.92it/s]"
     ]
    },
    {
     "name": "stderr",
     "output_type": "stream",
     "text": [
      "\r",
      " 30%|█████████████████████████████████████████████████████████████▊                                                                                                                                                | 30/100 [00:05<00:12,  5.42it/s]"
     ]
    },
    {
     "name": "stderr",
     "output_type": "stream",
     "text": [
      "\r",
      " 31%|███████████████████████████████████████████████████████████████▊                                                                                                                                              | 31/100 [00:06<00:13,  5.30it/s]"
     ]
    },
    {
     "name": "stderr",
     "output_type": "stream",
     "text": [
      "\r",
      " 32%|█████████████████████████████████████████████████████████████████▉                                                                                                                                            | 32/100 [00:06<00:11,  5.73it/s]"
     ]
    },
    {
     "name": "stderr",
     "output_type": "stream",
     "text": [
      "\r",
      " 33%|███████████████████████████████████████████████████████████████████▉                                                                                                                                          | 33/100 [00:06<00:12,  5.34it/s]"
     ]
    },
    {
     "name": "stderr",
     "output_type": "stream",
     "text": [
      "\r",
      " 34%|██████████████████████████████████████████████████████████████████████                                                                                                                                        | 34/100 [00:06<00:12,  5.39it/s]"
     ]
    },
    {
     "name": "stderr",
     "output_type": "stream",
     "text": [
      "\r",
      " 35%|████████████████████████████████████████████████████████████████████████                                                                                                                                      | 35/100 [00:06<00:13,  4.95it/s]"
     ]
    },
    {
     "name": "stderr",
     "output_type": "stream",
     "text": [
      "\r",
      " 36%|██████████████████████████████████████████████████████████████████████████▏                                                                                                                                   | 36/100 [00:07<00:11,  5.57it/s]"
     ]
    },
    {
     "name": "stderr",
     "output_type": "stream",
     "text": [
      "\r",
      " 37%|████████████████████████████████████████████████████████████████████████████▏                                                                                                                                 | 37/100 [00:07<00:10,  5.77it/s]"
     ]
    },
    {
     "name": "stderr",
     "output_type": "stream",
     "text": [
      "\r",
      " 38%|██████████████████████████████████████████████████████████████████████████████▎                                                                                                                               | 38/100 [00:07<00:11,  5.37it/s]"
     ]
    },
    {
     "name": "stderr",
     "output_type": "stream",
     "text": [
      "\r",
      " 39%|████████████████████████████████████████████████████████████████████████████████▎                                                                                                                             | 39/100 [00:07<00:11,  5.18it/s]"
     ]
    },
    {
     "name": "stderr",
     "output_type": "stream",
     "text": [
      "\r",
      " 40%|██████████████████████████████████████████████████████████████████████████████████▍                                                                                                                           | 40/100 [00:07<00:11,  5.25it/s]"
     ]
    },
    {
     "name": "stderr",
     "output_type": "stream",
     "text": [
      "\r",
      " 41%|████████████████████████████████████████████████████████████████████████████████████▍                                                                                                                         | 41/100 [00:08<00:11,  5.24it/s]"
     ]
    },
    {
     "name": "stderr",
     "output_type": "stream",
     "text": [
      "\r",
      " 42%|██████████████████████████████████████████████████████████████████████████████████████▌                                                                                                                       | 42/100 [00:08<00:11,  5.23it/s]"
     ]
    },
    {
     "name": "stderr",
     "output_type": "stream",
     "text": [
      "\r",
      " 43%|████████████████████████████████████████████████████████████████████████████████████████▌                                                                                                                     | 43/100 [00:08<00:10,  5.37it/s]"
     ]
    },
    {
     "name": "stderr",
     "output_type": "stream",
     "text": [
      "\r",
      " 44%|██████████████████████████████████████████████████████████████████████████████████████████▋                                                                                                                   | 44/100 [00:08<00:09,  5.73it/s]"
     ]
    },
    {
     "name": "stderr",
     "output_type": "stream",
     "text": [
      "\r",
      " 45%|████████████████████████████████████████████████████████████████████████████████████████████▋                                                                                                                 | 45/100 [00:08<00:09,  5.89it/s]"
     ]
    },
    {
     "name": "stderr",
     "output_type": "stream",
     "text": [
      "\r",
      " 46%|██████████████████████████████████████████████████████████████████████████████████████████████▊                                                                                                               | 46/100 [00:08<00:10,  5.22it/s]"
     ]
    },
    {
     "name": "stderr",
     "output_type": "stream",
     "text": [
      "\r",
      " 47%|████████████████████████████████████████████████████████████████████████████████████████████████▊                                                                                                             | 47/100 [00:09<00:10,  5.07it/s]"
     ]
    },
    {
     "name": "stderr",
     "output_type": "stream",
     "text": [
      "\r",
      " 48%|██████████████████████████████████████████████████████████████████████████████████████████████████▉                                                                                                           | 48/100 [00:09<00:08,  5.86it/s]"
     ]
    },
    {
     "name": "stderr",
     "output_type": "stream",
     "text": [
      "\r",
      " 49%|████████████████████████████████████████████████████████████████████████████████████████████████████▉                                                                                                         | 49/100 [00:09<00:09,  5.36it/s]"
     ]
    },
    {
     "name": "stderr",
     "output_type": "stream",
     "text": [
      "\r",
      " 50%|███████████████████████████████████████████████████████████████████████████████████████████████████████                                                                                                       | 50/100 [00:09<00:09,  5.11it/s]"
     ]
    },
    {
     "name": "stderr",
     "output_type": "stream",
     "text": [
      "\r",
      " 51%|█████████████████████████████████████████████████████████████████████████████████████████████████████████                                                                                                     | 51/100 [00:09<00:09,  5.23it/s]"
     ]
    },
    {
     "name": "stderr",
     "output_type": "stream",
     "text": [
      "\r",
      " 52%|███████████████████████████████████████████████████████████████████████████████████████████████████████████                                                                                                   | 52/100 [00:10<00:09,  5.24it/s]"
     ]
    },
    {
     "name": "stderr",
     "output_type": "stream",
     "text": [
      "\r",
      " 53%|█████████████████████████████████████████████████████████████████████████████████████████████████████████████▏                                                                                                | 53/100 [00:10<00:09,  4.89it/s]"
     ]
    },
    {
     "name": "stderr",
     "output_type": "stream",
     "text": [
      "\r",
      " 54%|███████████████████████████████████████████████████████████████████████████████████████████████████████████████▏                                                                                              | 54/100 [00:10<00:10,  4.52it/s]"
     ]
    },
    {
     "name": "stderr",
     "output_type": "stream",
     "text": [
      "\r",
      " 55%|█████████████████████████████████████████████████████████████████████████████████████████████████████████████████▎                                                                                            | 55/100 [00:10<00:09,  4.63it/s]"
     ]
    },
    {
     "name": "stderr",
     "output_type": "stream",
     "text": [
      "\r",
      " 56%|███████████████████████████████████████████████████████████████████████████████████████████████████████████████████▎                                                                                          | 56/100 [00:11<00:09,  4.56it/s]"
     ]
    },
    {
     "name": "stderr",
     "output_type": "stream",
     "text": [
      "\r",
      " 57%|█████████████████████████████████████████████████████████████████████████████████████████████████████████████████████▍                                                                                        | 57/100 [00:11<00:10,  4.29it/s]"
     ]
    },
    {
     "name": "stderr",
     "output_type": "stream",
     "text": [
      "\r",
      " 58%|███████████████████████████████████████████████████████████████████████████████████████████████████████████████████████▍                                                                                      | 58/100 [00:11<00:09,  4.20it/s]"
     ]
    },
    {
     "name": "stderr",
     "output_type": "stream",
     "text": [
      "\r",
      " 59%|█████████████████████████████████████████████████████████████████████████████████████████████████████████████████████████▌                                                                                    | 59/100 [00:11<00:09,  4.15it/s]"
     ]
    },
    {
     "name": "stderr",
     "output_type": "stream",
     "text": [
      "\r",
      " 60%|███████████████████████████████████████████████████████████████████████████████████████████████████████████████████████████▌                                                                                  | 60/100 [00:11<00:09,  4.32it/s]"
     ]
    },
    {
     "name": "stderr",
     "output_type": "stream",
     "text": [
      "\r",
      " 61%|█████████████████████████████████████████████████████████████████████████████████████████████████████████████████████████████▋                                                                                | 61/100 [00:12<00:08,  4.56it/s]"
     ]
    },
    {
     "name": "stderr",
     "output_type": "stream",
     "text": [
      "\r",
      " 62%|███████████████████████████████████████████████████████████████████████████████████████████████████████████████████████████████▋                                                                              | 62/100 [00:12<00:08,  4.57it/s]"
     ]
    },
    {
     "name": "stderr",
     "output_type": "stream",
     "text": [
      "\r",
      " 63%|█████████████████████████████████████████████████████████████████████████████████████████████████████████████████████████████████▊                                                                            | 63/100 [00:12<00:07,  4.70it/s]"
     ]
    },
    {
     "name": "stderr",
     "output_type": "stream",
     "text": [
      "\r",
      " 64%|███████████████████████████████████████████████████████████████████████████████████████████████████████████████████████████████████▊                                                                          | 64/100 [00:12<00:08,  4.32it/s]"
     ]
    },
    {
     "name": "stderr",
     "output_type": "stream",
     "text": [
      "\r",
      " 65%|█████████████████████████████████████████████████████████████████████████████████████████████████████████████████████████████████████▉                                                                        | 65/100 [00:13<00:07,  4.41it/s]"
     ]
    },
    {
     "name": "stderr",
     "output_type": "stream",
     "text": [
      "\r",
      " 66%|███████████████████████████████████████████████████████████████████████████████████████████████████████████████████████████████████████▉                                                                      | 66/100 [00:13<00:07,  4.39it/s]"
     ]
    },
    {
     "name": "stderr",
     "output_type": "stream",
     "text": [
      "\r",
      " 67%|██████████████████████████████████████████████████████████████████████████████████████████████████████████████████████████████████████████                                                                    | 67/100 [00:13<00:08,  4.01it/s]"
     ]
    },
    {
     "name": "stderr",
     "output_type": "stream",
     "text": [
      "\r",
      " 68%|████████████████████████████████████████████████████████████████████████████████████████████████████████████████████████████████████████████                                                                  | 68/100 [00:13<00:07,  4.15it/s]"
     ]
    },
    {
     "name": "stderr",
     "output_type": "stream",
     "text": [
      "\r",
      " 69%|██████████████████████████████████████████████████████████████████████████████████████████████████████████████████████████████████████████████▏                                                               | 69/100 [00:14<00:08,  3.63it/s]"
     ]
    },
    {
     "name": "stderr",
     "output_type": "stream",
     "text": [
      "\r",
      " 70%|████████████████████████████████████████████████████████████████████████████████████████████████████████████████████████████████████████████████▏                                                             | 70/100 [00:14<00:07,  3.77it/s]"
     ]
    },
    {
     "name": "stderr",
     "output_type": "stream",
     "text": [
      "\r",
      " 71%|██████████████████████████████████████████████████████████████████████████████████████████████████████████████████████████████████████████████████▎                                                           | 71/100 [00:14<00:07,  4.05it/s]"
     ]
    },
    {
     "name": "stderr",
     "output_type": "stream",
     "text": [
      "\r",
      " 72%|████████████████████████████████████████████████████████████████████████████████████████████████████████████████████████████████████████████████████▎                                                         | 72/100 [00:14<00:06,  4.05it/s]"
     ]
    },
    {
     "name": "stderr",
     "output_type": "stream",
     "text": [
      "\r",
      " 73%|██████████████████████████████████████████████████████████████████████████████████████████████████████████████████████████████████████████████████████▍                                                       | 73/100 [00:15<00:07,  3.76it/s]"
     ]
    },
    {
     "name": "stderr",
     "output_type": "stream",
     "text": [
      "\r",
      " 74%|████████████████████████████████████████████████████████████████████████████████████████████████████████████████████████████████████████████████████████▍                                                     | 74/100 [00:15<00:06,  3.80it/s]"
     ]
    },
    {
     "name": "stderr",
     "output_type": "stream",
     "text": [
      "\r",
      " 75%|██████████████████████████████████████████████████████████████████████████████████████████████████████████████████████████████████████████████████████████▌                                                   | 75/100 [00:15<00:06,  3.95it/s]"
     ]
    },
    {
     "name": "stderr",
     "output_type": "stream",
     "text": [
      "\r",
      " 76%|████████████████████████████████████████████████████████████████████████████████████████████████████████████████████████████████████████████████████████████▌                                                 | 76/100 [00:16<00:06,  3.54it/s]"
     ]
    },
    {
     "name": "stderr",
     "output_type": "stream",
     "text": [
      "\r",
      " 77%|██████████████████████████████████████████████████████████████████████████████████████████████████████████████████████████████████████████████████████████████▌                                               | 77/100 [00:16<00:05,  3.98it/s]"
     ]
    },
    {
     "name": "stderr",
     "output_type": "stream",
     "text": [
      "\r",
      " 78%|████████████████████████████████████████████████████████████████████████████████████████████████████████████████████████████████████████████████████████████████▋                                             | 78/100 [00:16<00:05,  3.99it/s]"
     ]
    },
    {
     "name": "stderr",
     "output_type": "stream",
     "text": [
      "\r",
      " 79%|██████████████████████████████████████████████████████████████████████████████████████████████████████████████████████████████████████████████████████████████████▋                                           | 79/100 [00:16<00:05,  4.12it/s]"
     ]
    },
    {
     "name": "stderr",
     "output_type": "stream",
     "text": [
      "\r",
      " 80%|████████████████████████████████████████████████████████████████████████████████████████████████████████████████████████████████████████████████████████████████████▊                                         | 80/100 [00:16<00:04,  4.22it/s]"
     ]
    },
    {
     "name": "stderr",
     "output_type": "stream",
     "text": [
      "\r",
      " 81%|██████████████████████████████████████████████████████████████████████████████████████████████████████████████████████████████████████████████████████████████████████▊                                       | 81/100 [00:17<00:04,  4.22it/s]"
     ]
    },
    {
     "name": "stderr",
     "output_type": "stream",
     "text": [
      "\r",
      " 82%|████████████████████████████████████████████████████████████████████████████████████████████████████████████████████████████████████████████████████████████████████████▉                                     | 82/100 [00:17<00:04,  4.40it/s]"
     ]
    },
    {
     "name": "stderr",
     "output_type": "stream",
     "text": [
      "\r",
      " 83%|██████████████████████████████████████████████████████████████████████████████████████████████████████████████████████████████████████████████████████████████████████████▉                                   | 83/100 [00:17<00:04,  4.20it/s]"
     ]
    },
    {
     "name": "stderr",
     "output_type": "stream",
     "text": [
      "\r",
      " 84%|█████████████████████████████████████████████████████████████████████████████████████████████████████████████████████████████████████████████████████████████████████████████                                 | 84/100 [00:17<00:04,  3.86it/s]"
     ]
    },
    {
     "name": "stderr",
     "output_type": "stream",
     "text": [
      "\r",
      " 85%|███████████████████████████████████████████████████████████████████████████████████████████████████████████████████████████████████████████████████████████████████████████████                               | 85/100 [00:18<00:03,  3.93it/s]"
     ]
    },
    {
     "name": "stderr",
     "output_type": "stream",
     "text": [
      "\r",
      " 86%|█████████████████████████████████████████████████████████████████████████████████████████████████████████████████████████████████████████████████████████████████████████████████▏                            | 86/100 [00:18<00:03,  4.18it/s]"
     ]
    },
    {
     "name": "stderr",
     "output_type": "stream",
     "text": [
      "\r",
      " 87%|███████████████████████████████████████████████████████████████████████████████████████████████████████████████████████████████████████████████████████████████████████████████████▏                          | 87/100 [00:18<00:02,  4.39it/s]"
     ]
    },
    {
     "name": "stderr",
     "output_type": "stream",
     "text": [
      "\r",
      " 88%|█████████████████████████████████████████████████████████████████████████████████████████████████████████████████████████████████████████████████████████████████████████████████████▎                        | 88/100 [00:18<00:02,  4.77it/s]"
     ]
    },
    {
     "name": "stderr",
     "output_type": "stream",
     "text": [
      "\r",
      " 89%|███████████████████████████████████████████████████████████████████████████████████████████████████████████████████████████████████████████████████████████████████████████████████████▎                      | 89/100 [00:18<00:02,  4.52it/s]"
     ]
    },
    {
     "name": "stderr",
     "output_type": "stream",
     "text": [
      "\r",
      " 90%|█████████████████████████████████████████████████████████████████████████████████████████████████████████████████████████████████████████████████████████████████████████████████████████▍                    | 90/100 [00:19<00:02,  4.22it/s]"
     ]
    },
    {
     "name": "stderr",
     "output_type": "stream",
     "text": [
      "\r",
      " 91%|███████████████████████████████████████████████████████████████████████████████████████████████████████████████████████████████████████████████████████████████████████████████████████████▍                  | 91/100 [00:19<00:02,  4.25it/s]"
     ]
    },
    {
     "name": "stderr",
     "output_type": "stream",
     "text": [
      "\r",
      " 92%|█████████████████████████████████████████████████████████████████████████████████████████████████████████████████████████████████████████████████████████████████████████████████████████████▌                | 92/100 [00:19<00:01,  4.55it/s]"
     ]
    },
    {
     "name": "stderr",
     "output_type": "stream",
     "text": [
      "\r",
      " 93%|███████████████████████████████████████████████████████████████████████████████████████████████████████████████████████████████████████████████████████████████████████████████████████████████▌              | 93/100 [00:19<00:01,  4.24it/s]"
     ]
    },
    {
     "name": "stderr",
     "output_type": "stream",
     "text": [
      "\r",
      " 94%|█████████████████████████████████████████████████████████████████████████████████████████████████████████████████████████████████████████████████████████████████████████████████████████████████▋            | 94/100 [00:20<00:01,  4.18it/s]"
     ]
    },
    {
     "name": "stderr",
     "output_type": "stream",
     "text": [
      "\r",
      " 95%|███████████████████████████████████████████████████████████████████████████████████████████████████████████████████████████████████████████████████████████████████████████████████████████████████▋          | 95/100 [00:20<00:01,  4.45it/s]"
     ]
    },
    {
     "name": "stderr",
     "output_type": "stream",
     "text": [
      "\r",
      " 96%|█████████████████████████████████████████████████████████████████████████████████████████████████████████████████████████████████████████████████████████████████████████████████████████████████████▊        | 96/100 [00:20<00:00,  4.57it/s]"
     ]
    },
    {
     "name": "stderr",
     "output_type": "stream",
     "text": [
      "\r",
      " 97%|███████████████████████████████████████████████████████████████████████████████████████████████████████████████████████████████████████████████████████████████████████████████████████████████████████▊      | 97/100 [00:20<00:00,  4.63it/s]"
     ]
    },
    {
     "name": "stderr",
     "output_type": "stream",
     "text": [
      "\r",
      " 98%|█████████████████████████████████████████████████████████████████████████████████████████████████████████████████████████████████████████████████████████████████████████████████████████████████████████▉    | 98/100 [00:20<00:00,  4.84it/s]"
     ]
    },
    {
     "name": "stderr",
     "output_type": "stream",
     "text": [
      "\r",
      " 99%|███████████████████████████████████████████████████████████████████████████████████████████████████████████████████████████████████████████████████████████████████████████████████████████████████████████▉  | 99/100 [00:21<00:00,  4.57it/s]"
     ]
    },
    {
     "name": "stderr",
     "output_type": "stream",
     "text": [
      "\r",
      "100%|█████████████████████████████████████████████████████████████████████████████████████████████████████████████████████████████████████████████████████████████████████████████████████████████████████████████| 100/100 [00:21<00:00,  4.66it/s]"
     ]
    },
    {
     "name": "stderr",
     "output_type": "stream",
     "text": [
      "\r",
      "100%|█████████████████████████████████████████████████████████████████████████████████████████████████████████████████████████████████████████████████████████████████████████████████████████████████████████████| 100/100 [00:21<00:00,  4.67it/s]"
     ]
    },
    {
     "name": "stderr",
     "output_type": "stream",
     "text": [
      "\n"
     ]
    }
   ],
   "source": [
    "dataset = []\n",
    "for ind in tqdm(range(len(df_en_target_input))):\n",
    "    d = next(sample(df_en_target_input, ind, lang1=input_lang, lang2=target_lang))\n",
    "    if d is None:\n",
    "        continue\n",
    "    dataset.append(d)"
   ]
  },
  {
   "cell_type": "code",
   "execution_count": 15,
   "id": "d786ab1b",
   "metadata": {
    "execution": {
     "iopub.execute_input": "2024-02-23T23:20:54.195721Z",
     "iopub.status.busy": "2024-02-23T23:20:54.195522Z",
     "iopub.status.idle": "2024-02-23T23:20:54.240896Z",
     "shell.execute_reply": "2024-02-23T23:20:54.240513Z"
    },
    "papermill": {
     "duration": 0.057808,
     "end_time": "2024-02-23T23:20:54.241889",
     "exception": false,
     "start_time": "2024-02-23T23:20:54.184081",
     "status": "completed"
    },
    "tags": []
   },
   "outputs": [],
   "source": [
    "df = pd.DataFrame(dataset)\n",
    "os.makedirs(f'{out_dir}/translation', exist_ok=True)\n",
    "df.to_csv(f'{out_dir}/translation/{model_size}_{input_lang}_{target_lang}_dataset.csv', index=False)"
   ]
  },
  {
   "cell_type": "code",
   "execution_count": 16,
   "id": "00e12355",
   "metadata": {
    "execution": {
     "iopub.execute_input": "2024-02-23T23:20:54.258589Z",
     "iopub.status.busy": "2024-02-23T23:20:54.258308Z",
     "iopub.status.idle": "2024-02-23T23:20:54.286198Z",
     "shell.execute_reply": "2024-02-23T23:20:54.285835Z"
    },
    "papermill": {
     "duration": 0.036821,
     "end_time": "2024-02-23T23:20:54.286961",
     "exception": false,
     "start_time": "2024-02-23T23:20:54.250140",
     "status": "completed"
    },
    "tags": []
   },
   "outputs": [
    {
     "data": {
      "text/plain": [
       "'English: \"example\" - Français: \"exemple\"\\nEnglish: \"eight\" - Français: \"huit\"\\nEnglish: \"left\" - Français: \"gauche\"\\nEnglish: \"ocean\" - Français: \"océan\"\\nEnglish: \"cloud\" - Français: \"'"
      ]
     },
     "execution_count": 16,
     "metadata": {},
     "output_type": "execute_result"
    }
   ],
   "source": [
    "df[\"prompt\"][0]"
   ]
  },
  {
   "cell_type": "code",
   "execution_count": 17,
   "id": "94fa55b7",
   "metadata": {
    "execution": {
     "iopub.execute_input": "2024-02-23T23:20:54.304076Z",
     "iopub.status.busy": "2024-02-23T23:20:54.303862Z",
     "iopub.status.idle": "2024-02-23T23:20:54.330587Z",
     "shell.execute_reply": "2024-02-23T23:20:54.330230Z"
    },
    "papermill": {
     "duration": 0.036079,
     "end_time": "2024-02-23T23:20:54.331342",
     "exception": false,
     "start_time": "2024-02-23T23:20:54.295263",
     "status": "completed"
    },
    "tags": []
   },
   "outputs": [],
   "source": [
    "def get_logits(model, prompt,lens):\n",
    "    inputs = tokenizer(prompt, return_tensors=\"pt\").to('cuda')\n",
    "    output = llama(inputs.input_ids, output_hidden_states=True)\n",
    "    hidden_states = output.hidden_states[:-1]\n",
    "    final_lps = output.logits.log_softmax(dim=-1)\n",
    "    tensors=[]\n",
    "    for i in range(len(model.model.layers)):\n",
    "        h = hidden_states[i].squeeze(0)\n",
    "        tensors+=[lens(h, idx=i).detach().cpu()]\n",
    "    tensors= torch.stack(tensors)  \n",
    "    hidden_states = torch.stack(hidden_states).squeeze(1).detach().cpu()\n",
    "    return tensors,hidden_states\n",
    "        "
   ]
  },
  {
   "cell_type": "code",
   "execution_count": 18,
   "id": "25241c49",
   "metadata": {
    "execution": {
     "iopub.execute_input": "2024-02-23T23:20:54.349855Z",
     "iopub.status.busy": "2024-02-23T23:20:54.349624Z",
     "iopub.status.idle": "2024-02-23T23:21:03.931106Z",
     "shell.execute_reply": "2024-02-23T23:21:03.930305Z"
    },
    "papermill": {
     "duration": 9.591201,
     "end_time": "2024-02-23T23:21:03.932000",
     "exception": false,
     "start_time": "2024-02-23T23:20:54.340799",
     "status": "completed"
    },
    "tags": []
   },
   "outputs": [
    {
     "name": "stderr",
     "output_type": "stream",
     "text": [
      "\r",
      "0it [00:00, ?it/s]"
     ]
    },
    {
     "name": "stderr",
     "output_type": "stream",
     "text": [
      "\r",
      "1it [00:00,  1.22it/s]"
     ]
    },
    {
     "name": "stderr",
     "output_type": "stream",
     "text": [
      "\r",
      "2it [00:00,  2.27it/s]"
     ]
    },
    {
     "name": "stderr",
     "output_type": "stream",
     "text": [
      "\r",
      "3it [00:01,  3.15it/s]"
     ]
    },
    {
     "name": "stderr",
     "output_type": "stream",
     "text": [
      "\r",
      "4it [00:01,  3.87it/s]"
     ]
    },
    {
     "name": "stderr",
     "output_type": "stream",
     "text": [
      "\r",
      "5it [00:01,  4.51it/s]"
     ]
    },
    {
     "name": "stderr",
     "output_type": "stream",
     "text": [
      "\r",
      "6it [00:01,  4.90it/s]"
     ]
    },
    {
     "name": "stderr",
     "output_type": "stream",
     "text": [
      "\r",
      "7it [00:01,  5.22it/s]"
     ]
    },
    {
     "name": "stderr",
     "output_type": "stream",
     "text": [
      "\r",
      "8it [00:01,  5.48it/s]"
     ]
    },
    {
     "name": "stderr",
     "output_type": "stream",
     "text": [
      "\r",
      "9it [00:02,  5.61it/s]"
     ]
    },
    {
     "name": "stderr",
     "output_type": "stream",
     "text": [
      "\r",
      "10it [00:02,  5.65it/s]"
     ]
    },
    {
     "name": "stderr",
     "output_type": "stream",
     "text": [
      "\r",
      "11it [00:02,  5.63it/s]"
     ]
    },
    {
     "name": "stderr",
     "output_type": "stream",
     "text": [
      "\r",
      "12it [00:02,  5.74it/s]"
     ]
    },
    {
     "name": "stderr",
     "output_type": "stream",
     "text": [
      "\r",
      "13it [00:02,  5.77it/s]"
     ]
    },
    {
     "name": "stderr",
     "output_type": "stream",
     "text": [
      "\r",
      "14it [00:03,  5.85it/s]"
     ]
    },
    {
     "name": "stderr",
     "output_type": "stream",
     "text": [
      "\r",
      "15it [00:03,  5.90it/s]"
     ]
    },
    {
     "name": "stderr",
     "output_type": "stream",
     "text": [
      "\r",
      "16it [00:03,  5.99it/s]"
     ]
    },
    {
     "name": "stderr",
     "output_type": "stream",
     "text": [
      "\r",
      "17it [00:03,  6.07it/s]"
     ]
    },
    {
     "name": "stderr",
     "output_type": "stream",
     "text": [
      "\r",
      "18it [00:03,  6.10it/s]"
     ]
    },
    {
     "name": "stderr",
     "output_type": "stream",
     "text": [
      "\r",
      "19it [00:03,  6.14it/s]"
     ]
    },
    {
     "name": "stderr",
     "output_type": "stream",
     "text": [
      "\r",
      "20it [00:03,  6.10it/s]"
     ]
    },
    {
     "name": "stderr",
     "output_type": "stream",
     "text": [
      "\r",
      "21it [00:04,  6.11it/s]"
     ]
    },
    {
     "name": "stderr",
     "output_type": "stream",
     "text": [
      "\r",
      "22it [00:04,  6.17it/s]"
     ]
    },
    {
     "name": "stderr",
     "output_type": "stream",
     "text": [
      "\r",
      "23it [00:04,  6.23it/s]"
     ]
    },
    {
     "name": "stderr",
     "output_type": "stream",
     "text": [
      "\r",
      "24it [00:04,  6.22it/s]"
     ]
    },
    {
     "name": "stderr",
     "output_type": "stream",
     "text": [
      "\r",
      "25it [00:04,  6.22it/s]"
     ]
    },
    {
     "name": "stderr",
     "output_type": "stream",
     "text": [
      "\r",
      "26it [00:04,  6.28it/s]"
     ]
    },
    {
     "name": "stderr",
     "output_type": "stream",
     "text": [
      "\r",
      "27it [00:05,  6.32it/s]"
     ]
    },
    {
     "name": "stderr",
     "output_type": "stream",
     "text": [
      "\r",
      "28it [00:05,  6.32it/s]"
     ]
    },
    {
     "name": "stderr",
     "output_type": "stream",
     "text": [
      "\r",
      "29it [00:05,  6.38it/s]"
     ]
    },
    {
     "name": "stderr",
     "output_type": "stream",
     "text": [
      "\r",
      "30it [00:05,  6.52it/s]"
     ]
    },
    {
     "name": "stderr",
     "output_type": "stream",
     "text": [
      "\r",
      "31it [00:05,  6.40it/s]"
     ]
    },
    {
     "name": "stderr",
     "output_type": "stream",
     "text": [
      "\r",
      "32it [00:05,  5.51it/s]"
     ]
    },
    {
     "name": "stderr",
     "output_type": "stream",
     "text": [
      "\r",
      "33it [00:06,  5.20it/s]"
     ]
    },
    {
     "name": "stderr",
     "output_type": "stream",
     "text": [
      "\r",
      "34it [00:06,  5.60it/s]"
     ]
    },
    {
     "name": "stderr",
     "output_type": "stream",
     "text": [
      "\r",
      "35it [00:06,  6.06it/s]"
     ]
    },
    {
     "name": "stderr",
     "output_type": "stream",
     "text": [
      "\r",
      "36it [00:06,  6.35it/s]"
     ]
    },
    {
     "name": "stderr",
     "output_type": "stream",
     "text": [
      "\r",
      "37it [00:06,  6.57it/s]"
     ]
    },
    {
     "name": "stderr",
     "output_type": "stream",
     "text": [
      "\r",
      "38it [00:06,  6.62it/s]"
     ]
    },
    {
     "name": "stderr",
     "output_type": "stream",
     "text": [
      "\r",
      "39it [00:07,  6.79it/s]"
     ]
    },
    {
     "name": "stderr",
     "output_type": "stream",
     "text": [
      "\r",
      "40it [00:07,  6.91it/s]"
     ]
    },
    {
     "name": "stderr",
     "output_type": "stream",
     "text": [
      "\r",
      "41it [00:07,  6.79it/s]"
     ]
    },
    {
     "name": "stderr",
     "output_type": "stream",
     "text": [
      "\r",
      "42it [00:07,  6.90it/s]"
     ]
    },
    {
     "name": "stderr",
     "output_type": "stream",
     "text": [
      "\r",
      "43it [00:07,  6.97it/s]"
     ]
    },
    {
     "name": "stderr",
     "output_type": "stream",
     "text": [
      "\r",
      "44it [00:07,  6.97it/s]"
     ]
    },
    {
     "name": "stderr",
     "output_type": "stream",
     "text": [
      "\r",
      "45it [00:07,  7.06it/s]"
     ]
    },
    {
     "name": "stderr",
     "output_type": "stream",
     "text": [
      "\r",
      "46it [00:08,  7.19it/s]"
     ]
    },
    {
     "name": "stderr",
     "output_type": "stream",
     "text": [
      "\r",
      "47it [00:08,  7.26it/s]"
     ]
    },
    {
     "name": "stderr",
     "output_type": "stream",
     "text": [
      "\r",
      "48it [00:08,  7.22it/s]"
     ]
    },
    {
     "name": "stderr",
     "output_type": "stream",
     "text": [
      "\r",
      "49it [00:08,  7.03it/s]"
     ]
    },
    {
     "name": "stderr",
     "output_type": "stream",
     "text": [
      "\r",
      "50it [00:08,  6.92it/s]"
     ]
    },
    {
     "name": "stderr",
     "output_type": "stream",
     "text": [
      "\r",
      "51it [00:08,  7.02it/s]"
     ]
    },
    {
     "name": "stderr",
     "output_type": "stream",
     "text": [
      "\r",
      "52it [00:08,  7.10it/s]"
     ]
    },
    {
     "name": "stderr",
     "output_type": "stream",
     "text": [
      "\r",
      "53it [00:08,  7.19it/s]"
     ]
    },
    {
     "name": "stderr",
     "output_type": "stream",
     "text": [
      "\r",
      "54it [00:09,  7.31it/s]"
     ]
    },
    {
     "name": "stderr",
     "output_type": "stream",
     "text": [
      "\r",
      "55it [00:09,  7.39it/s]"
     ]
    },
    {
     "name": "stderr",
     "output_type": "stream",
     "text": [
      "\r",
      "56it [00:09,  7.39it/s]"
     ]
    },
    {
     "name": "stderr",
     "output_type": "stream",
     "text": [
      "\r",
      "57it [00:09,  7.25it/s]"
     ]
    },
    {
     "name": "stderr",
     "output_type": "stream",
     "text": [
      "\r",
      "57it [00:09,  5.97it/s]"
     ]
    },
    {
     "name": "stderr",
     "output_type": "stream",
     "text": [
      "\n"
     ]
    }
   ],
   "source": [
    "in_token_probs = []\n",
    "latent_token_probs = []\n",
    "out_token_probs = []\n",
    "entropy = []\n",
    "energy = []\n",
    "latents_all = []\n",
    "\n",
    "for idx, d in tqdm(enumerate(dataset)):\n",
    "    logits,latents = get_logits(llama, d['prompt'],llama_lens)\n",
    "    last = logits[:, -1, :].float().softmax(dim=-1).detach().cpu()\n",
    "    latent_token_probs += [last[:, torch.tensor(d['latent_token_id'])].sum(dim=-1)]\n",
    "    out_token_probs += [last[:, torch.tensor(d['out_token_id'])].sum(dim=-1)]\n",
    "    entropy += [compute_entropy(last)]\n",
    "    latents_all += [latents[:, -1, :].float().detach().cpu().clone()]\n",
    "    latents_normalized = latents[:, -1, :].float()\n",
    "    latents_normalized = latents_normalized / (((latents_normalized**2).mean(dim=-1, keepdim=True))**0.5)\n",
    "    latents_normalized /= (latents_normalized.norm(dim=-1, keepdim=True))\n",
    "    norm = ((U_normalized @ latents_normalized.T)**2).mean(dim=0)**0.5\n",
    "    energy += [norm/avgUU]\n",
    "\n",
    "latent_token_probs = torch.stack(latent_token_probs)\n",
    "out_token_probs = torch.stack(out_token_probs)\n",
    "entropy = torch.stack(entropy)\n",
    "energy = torch.stack(energy)\n",
    "latents = torch.stack(latents_all)"
   ]
  },
  {
   "cell_type": "code",
   "execution_count": 19,
   "id": "680ef0b2",
   "metadata": {
    "execution": {
     "iopub.execute_input": "2024-02-23T23:21:03.955878Z",
     "iopub.status.busy": "2024-02-23T23:21:03.955672Z",
     "iopub.status.idle": "2024-02-23T23:21:04.305239Z",
     "shell.execute_reply": "2024-02-23T23:21:04.304825Z"
    },
    "papermill": {
     "duration": 0.361693,
     "end_time": "2024-02-23T23:21:04.306051",
     "exception": false,
     "start_time": "2024-02-23T23:21:03.944358",
     "status": "completed"
    },
    "tags": []
   },
   "outputs": [
    {
     "name": "stderr",
     "output_type": "stream",
     "text": [
      "/mnt/ssd-1/gpaulo/llm-latent-language/utils.py:52: UserWarning: This figure includes Axes that are not compatible with tight_layout, so results might be incorrect.\n",
      "  plt.tight_layout()\n"
     ]
    },
    {
     "data": {
      "image/png": "[encoded data removed]",
      "text/plain": [
       "<Figure size 500x300 with 3 Axes>"
      ]
     },
     "metadata": {},
     "output_type": "display_data"
    }
   ],
   "source": [
    "size2tik = {'7b': 5, '13b': 5, '70b': 10}\n",
    "fig, ax, ax2 = plot_ci_plus_heatmap(latent_token_probs, entropy, latent, color='tab:orange', tik_step=size2tik[model_size], do_colorbar=True, #, do_colorbar=(model_size=='70b'),\n",
    "nums=[.99, 0.18, 0.025, 0.6])\n",
    "plot_ci(ax2, out_token_probs, target_lang, color='tab:blue', do_lines=False)\n",
    "ax2.set_xlabel('layer')\n",
    "ax2.set_ylabel('probability')\n",
    "if model_size == '7b':\n",
    "    ax2.set_xlim(0, out_token_probs.shape[1]+1)\n",
    "else:\n",
    "    ax2.set_xlim(0, round(out_token_probs.shape[1]/10)*10+1)\n",
    "ax2.set_ylim(0, 1)\n",
    "# make xticks start from 1\n",
    "# put legend on the top left\n",
    "ax2.legend(loc='upper left')\n",
    "os.makedirs(f'{out_dir}/translation', exist_ok=True)\n",
    "\n",
    "plt.savefig(f'{out_dir}/translation/{model_size}_{input_lang}_{target_lang}_probas_ent.jpg', dpi=300, bbox_inches='tight')"
   ]
  },
  {
   "cell_type": "code",
   "execution_count": 20,
   "id": "48c50e4a",
   "metadata": {
    "execution": {
     "iopub.execute_input": "2024-02-23T23:21:04.329267Z",
     "iopub.status.busy": "2024-02-23T23:21:04.329012Z",
     "iopub.status.idle": "2024-02-23T23:21:04.479505Z",
     "shell.execute_reply": "2024-02-23T23:21:04.479097Z"
    },
    "papermill": {
     "duration": 0.162604,
     "end_time": "2024-02-23T23:21:04.480279",
     "exception": false,
     "start_time": "2024-02-23T23:21:04.317675",
     "status": "completed"
    },
    "tags": []
   },
   "outputs": [
    {
     "data": {
      "image/png": "[encoded data removed]",
      "text/plain": [
       "<Figure size 500x300 with 1 Axes>"
      ]
     },
     "metadata": {},
     "output_type": "display_data"
    }
   ],
   "source": [
    "size2tik = {'7b': 5, '13b': 5, '70b': 10}\n",
    "\n",
    "fig, ax2 = plt.subplots(figsize=(5,3))\n",
    "plot_ci(ax2, energy, 'energy', color='tab:green', do_lines=True, tik_step=size2tik[model_size])\n",
    "ax2.set_xlabel('layer')\n",
    "ax2.set_ylabel('energy')\n",
    "if model_size == '7b':\n",
    "    ax2.set_xlim(0, out_token_probs.shape[1]+1)\n",
    "else:\n",
    "    ax2.set_xlim(0, round(out_token_probs.shape[1]/10)*10+1)\n",
    "os.makedirs(f'{out_dir}/translation', exist_ok=True)\n",
    "plt.savefig(f'{out_dir}/translation/{model_size}_{input_lang}_{target_lang}_energy.jpg', dpi=300, bbox_inches='tight')"
   ]
  },
  {
   "cell_type": "code",
   "execution_count": null,
   "id": "de0f66f1",
   "metadata": {
    "papermill": {
     "duration": 0.010686,
     "end_time": "2024-02-23T23:21:04.503051",
     "exception": false,
     "start_time": "2024-02-23T23:21:04.492365",
     "status": "completed"
    },
    "tags": []
   },
   "outputs": [],
   "source": []
  }
 ],
 "metadata": {
  "kernelspec": {
   "display_name": "Python 3 (ipykernel)",
   "language": "python",
   "name": "python3"
  },
  "language_info": {
   "codemirror_mode": {
    "name": "ipython",
    "version": 3
   },
   "file_extension": ".py",
   "mimetype": "text/x-python",
   "name": "python",
   "nbconvert_exporter": "python",
   "pygments_lexer": "ipython3",
   "version": "3.11.5"
  },
  "papermill": {
   "default_parameters": {},
   "duration": 46.530859,
   "end_time": "2024-02-23T23:21:05.630381",
   "environment_variables": {},
   "exception": null,
   "input_path": "Translation.ipynb",
   "output_path": "visuals/executed_notebooks/Translation_tuned-chinese-en_7b_en_fr.ipynb",
   "parameters": {
    "input_lang": "en",
    "model_size": "7b",
    "target_lang": "fr",
    "type": "tuned-chinese-en"
   },
   "start_time": "2024-02-23T23:20:19.099522",
   "version": "2.5.0"
  },
  "widgets": {
   "application/vnd.jupyter.widget-state+json": {
    "state": {
     "0a51222f1d7445a08ac60f0e1626cacc": {
      "model_module": "@jupyter-widgets/controls",
      "model_module_version": "2.0.0",
      "model_name": "HTMLStyleModel",
      "state": {
       "_model_module": "@jupyter-widgets/controls",
       "_model_module_version": "2.0.0",
       "_model_name": "HTMLStyleModel",
       "_view_count": null,
       "_view_module": "@jupyter-widgets/base",
       "_view_module_version": "2.0.0",
       "_view_name": "StyleView",
       "background": null,
       "description_width": "",
       "font_size": null,
       "text_color": null
      }
     },
     "340a5571e1b744f1a916243e706df8a1": {
      "model_module": "@jupyter-widgets/controls",
      "model_module_version": "2.0.0",
      "model_name": "FloatProgressModel",
      "state": {
       "_dom_classes": [],
       "_model_module": "@jupyter-widgets/controls",
       "_model_module_version": "2.0.0",
       "_model_name": "FloatProgressModel",
       "_view_count": null,
       "_view_module": "@jupyter-widgets/controls",
       "_view_module_version": "2.0.0",
       "_view_name": "ProgressView",
       "bar_style": "success",
       "description": "",
       "description_allow_html": false,
       "layout": "IPY_MODEL_4f7b5941a68140159fb078537706bce2",
       "max": 2.0,
       "min": 0.0,
       "orientation": "horizontal",
       "style": "IPY_MODEL_69bcab3f8df74850aa34fe84660a96e6",
       "tabbable": null,
       "tooltip": null,
       "value": 2.0
      }
     },
     "3885c28e0585407f8a8158a043884ec3": {
      "model_module": "@jupyter-widgets/base",
      "model_module_version": "2.0.0",
      "model_name": "LayoutModel",
      "state": {
       "_model_module": "@jupyter-widgets/base",
       "_model_module_version": "2.0.0",
       "_model_name": "LayoutModel",
       "_view_count": null,
       "_view_module": "@jupyter-widgets/base",
       "_view_module_version": "2.0.0",
       "_view_name": "LayoutView",
       "align_content": null,
       "align_items": null,
       "align_self": null,
       "border_bottom": null,
       "border_left": null,
       "border_right": null,
       "border_top": null,
       "bottom": null,
       "display": null,
       "flex": null,
       "flex_flow": null,
       "grid_area": null,
       "grid_auto_columns": null,
       "grid_auto_flow": null,
       "grid_auto_rows": null,
       "grid_column": null,
       "grid_gap": null,
       "grid_row": null,
       "grid_template_areas": null,
       "grid_template_columns": null,
       "grid_template_rows": null,
       "height": null,
       "justify_content": null,
       "justify_items": null,
       "left": null,
       "margin": null,
       "max_height": null,
       "max_width": null,
       "min_height": null,
       "min_width": null,
       "object_fit": null,
       "object_position": null,
       "order": null,
       "overflow": null,
       "padding": null,
       "right": null,
       "top": null,
       "visibility": null,
       "width": null
      }
     },
     "4f7b5941a68140159fb078537706bce2": {
      "model_module": "@jupyter-widgets/base",
      "model_module_version": "2.0.0",
      "model_name": "LayoutModel",
      "state": {
       "_model_module": "@jupyter-widgets/base",
       "_model_module_version": "2.0.0",
       "_model_name": "LayoutModel",
       "_view_count": null,
       "_view_module": "@jupyter-widgets/base",
       "_view_module_version": "2.0.0",
       "_view_name": "LayoutView",
       "align_content": null,
       "align_items": null,
       "align_self": null,
       "border_bottom": null,
       "border_left": null,
       "border_right": null,
       "border_top": null,
       "bottom": null,
       "display": null,
       "flex": null,
       "flex_flow": null,
       "grid_area": null,
       "grid_auto_columns": null,
       "grid_auto_flow": null,
       "grid_auto_rows": null,
       "grid_column": null,
       "grid_gap": null,
       "grid_row": null,
       "grid_template_areas": null,
       "grid_template_columns": null,
       "grid_template_rows": null,
       "height": null,
       "justify_content": null,
       "justify_items": null,
       "left": null,
       "margin": null,
       "max_height": null,
       "max_width": null,
       "min_height": null,
       "min_width": null,
       "object_fit": null,
       "object_position": null,
       "order": null,
       "overflow": null,
       "padding": null,
       "right": null,
       "top": null,
       "visibility": null,
       "width": null
      }
     },
     "67c42247640b4d10905142f8bb25956d": {
      "model_module": "@jupyter-widgets/controls",
      "model_module_version": "2.0.0",
      "model_name": "HTMLStyleModel",
      "state": {
       "_model_module": "@jupyter-widgets/controls",
       "_model_module_version": "2.0.0",
       "_model_name": "HTMLStyleModel",
       "_view_count": null,
       "_view_module": "@jupyter-widgets/base",
       "_view_module_version": "2.0.0",
       "_view_name": "StyleView",
       "background": null,
       "description_width": "",
       "font_size": null,
       "text_color": null
      }
     },
     "69bcab3f8df74850aa34fe84660a96e6": {
      "model_module": "@jupyter-widgets/controls",
      "model_module_version": "2.0.0",
      "model_name": "ProgressStyleModel",
      "state": {
       "_model_module": "@jupyter-widgets/controls",
       "_model_module_version": "2.0.0",
       "_model_name": "ProgressStyleModel",
       "_view_count": null,
       "_view_module": "@jupyter-widgets/base",
       "_view_module_version": "2.0.0",
       "_view_name": "StyleView",
       "bar_color": null,
       "description_width": ""
      }
     },
     "ccfc352779844449b64fc8ddffff9e3f": {
      "model_module": "@jupyter-widgets/base",
      "model_module_version": "2.0.0",
      "model_name": "LayoutModel",
      "state": {
       "_model_module": "@jupyter-widgets/base",
       "_model_module_version": "2.0.0",
       "_model_name": "LayoutModel",
       "_view_count": null,
       "_view_module": "@jupyter-widgets/base",
       "_view_module_version": "2.0.0",
       "_view_name": "LayoutView",
       "align_content": null,
       "align_items": null,
       "align_self": null,
       "border_bottom": null,
       "border_left": null,
       "border_right": null,
       "border_top": null,
       "bottom": null,
       "display": null,
       "flex": null,
       "flex_flow": null,
       "grid_area": null,
       "grid_auto_columns": null,
       "grid_auto_flow": null,
       "grid_auto_rows": null,
       "grid_column": null,
       "grid_gap": null,
       "grid_row": null,
       "grid_template_areas": null,
       "grid_template_columns": null,
       "grid_template_rows": null,
       "height": null,
       "justify_content": null,
       "justify_items": null,
       "left": null,
       "margin": null,
       "max_height": null,
       "max_width": null,
       "min_height": null,
       "min_width": null,
       "object_fit": null,
       "object_position": null,
       "order": null,
       "overflow": null,
       "padding": null,
       "right": null,
       "top": null,
       "visibility": null,
       "width": null
      }
     },
     "e25b8a09ac414a178605388c571c7cf5": {
      "model_module": "@jupyter-widgets/controls",
      "model_module_version": "2.0.0",
      "model_name": "HTMLModel",
      "state": {
       "_dom_classes": [],
       "_model_module": "@jupyter-widgets/controls",
       "_model_module_version": "2.0.0",
       "_model_name": "HTMLModel",
       "_view_count": null,
       "_view_module": "@jupyter-widgets/controls",
       "_view_module_version": "2.0.0",
       "_view_name": "HTMLView",
       "description": "",
       "description_allow_html": false,
       "layout": "IPY_MODEL_ccfc352779844449b64fc8ddffff9e3f",
       "placeholder": "​",
       "style": "IPY_MODEL_0a51222f1d7445a08ac60f0e1626cacc",
       "tabbable": null,
       "tooltip": null,
       "value": " 2/2 [00:05&lt;00:00,  2.32s/it]"
      }
     },
     "e6f160875d1d4edfa32c76ea89cc6c06": {
      "model_module": "@jupyter-widgets/controls",
      "model_module_version": "2.0.0",
      "model_name": "HTMLModel",
      "state": {
       "_dom_classes": [],
       "_model_module": "@jupyter-widgets/controls",
       "_model_module_version": "2.0.0",
       "_model_name": "HTMLModel",
       "_view_count": null,
       "_view_module": "@jupyter-widgets/controls",
       "_view_module_version": "2.0.0",
       "_view_name": "HTMLView",
       "description": "",
       "description_allow_html": false,
       "layout": "IPY_MODEL_3885c28e0585407f8a8158a043884ec3",
       "placeholder": "​",
       "style": "IPY_MODEL_67c42247640b4d10905142f8bb25956d",
       "tabbable": null,
       "tooltip": null,
       "value": "Loading checkpoint shards: 100%"
      }
     },
     "f30eacf89a134d47bbb5386341ececa8": {
      "model_module": "@jupyter-widgets/base",
      "model_module_version": "2.0.0",
      "model_name": "LayoutModel",
      "state": {
       "_model_module": "@jupyter-widgets/base",
       "_model_module_version": "2.0.0",
       "_model_name": "LayoutModel",
       "_view_count": null,
       "_view_module": "@jupyter-widgets/base",
       "_view_module_version": "2.0.0",
       "_view_name": "LayoutView",
       "align_content": null,
       "align_items": null,
       "align_self": null,
       "border_bottom": null,
       "border_left": null,
       "border_right": null,
       "border_top": null,
       "bottom": null,
       "display": null,
       "flex": null,
       "flex_flow": null,
       "grid_area": null,
       "grid_auto_columns": null,
       "grid_auto_flow": null,
       "grid_auto_rows": null,
       "grid_column": null,
       "grid_gap": null,
       "grid_row": null,
       "grid_template_areas": null,
       "grid_template_columns": null,
       "grid_template_rows": null,
       "height": null,
       "justify_content": null,
       "justify_items": null,
       "left": null,
       "margin": null,
       "max_height": null,
       "max_width": null,
       "min_height": null,
       "min_width": null,
       "object_fit": null,
       "object_position": null,
       "order": null,
       "overflow": null,
       "padding": null,
       "right": null,
       "top": null,
       "visibility": null,
       "width": null
      }
     },
     "fd16215b646b4b23b6bfd6eed14e3c97": {
      "model_module": "@jupyter-widgets/controls",
      "model_module_version": "2.0.0",
      "model_name": "HBoxModel",
      "state": {
       "_dom_classes": [],
       "_model_module": "@jupyter-widgets/controls",
       "_model_module_version": "2.0.0",
       "_model_name": "HBoxModel",
       "_view_count": null,
       "_view_module": "@jupyter-widgets/controls",
       "_view_module_version": "2.0.0",
       "_view_name": "HBoxView",
       "box_style": "",
       "children": [
        "IPY_MODEL_e6f160875d1d4edfa32c76ea89cc6c06",
        "IPY_MODEL_340a5571e1b744f1a916243e706df8a1",
        "IPY_MODEL_e25b8a09ac414a178605388c571c7cf5"
       ],
       "layout": "IPY_MODEL_f30eacf89a134d47bbb5386341ececa8",
       "tabbable": null,
       "tooltip": null
      }
     }
    },
    "version_major": 2,
    "version_minor": 0
   }
  }
 },
 "nbformat": 4,
 "nbformat_minor": 5
}