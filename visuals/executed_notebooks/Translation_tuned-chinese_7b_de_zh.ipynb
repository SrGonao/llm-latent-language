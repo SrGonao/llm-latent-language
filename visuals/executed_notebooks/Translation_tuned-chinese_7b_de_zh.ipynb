{
 "cells": [
  {
   "cell_type": "code",
   "execution_count": 1,
   "id": "9e266eca-b017-461f-9be4-bec02cae9b28",
   "metadata": {
    "execution": {
     "iopub.execute_input": "2024-02-23T22:35:10.407973Z",
     "iopub.status.busy": "2024-02-23T22:35:10.407800Z",
     "iopub.status.idle": "2024-02-23T22:35:10.420768Z",
     "shell.execute_reply": "2024-02-23T22:35:10.420428Z"
    },
    "papermill": {
     "duration": 0.019124,
     "end_time": "2024-02-23T22:35:10.421747",
     "exception": false,
     "start_time": "2024-02-23T22:35:10.402623",
     "status": "completed"
    },
    "tags": []
   },
   "outputs": [],
   "source": [
    "%load_ext autoreload\n",
    "%autoreload 2"
   ]
  },
  {
   "cell_type": "code",
   "execution_count": 2,
   "id": "fae8a7a9-6902-424e-8e66-b107fccb361f",
   "metadata": {
    "execution": {
     "iopub.execute_input": "2024-02-23T22:35:10.429626Z",
     "iopub.status.busy": "2024-02-23T22:35:10.429320Z",
     "iopub.status.idle": "2024-02-23T22:35:13.366304Z",
     "shell.execute_reply": "2024-02-23T22:35:13.365599Z"
    },
    "papermill": {
     "duration": 2.941984,
     "end_time": "2024-02-23T22:35:13.367617",
     "exception": false,
     "start_time": "2024-02-23T22:35:10.425633",
     "status": "completed"
    },
    "tags": []
   },
   "outputs": [],
   "source": [
    "import pandas as pd\n",
    "import sys\n",
    "import os\n",
    "from dataclasses import dataclass\n",
    "import json\n",
    "import numpy as np\n",
    "from matplotlib import pyplot as plt\n",
    "import seaborn as sns\n",
    "import torch\n",
    "import torch.nn as nn\n",
    "from llamawrapper import load_unemb_only, LlamaHelper\n",
    "import seaborn as sns\n",
    "from scipy.stats import bootstrap\n",
    "from utils import plot_ci, plot_ci_plus_heatmap\n",
    "from tqdm import tqdm\n",
    "from transformers import AutoModelForCausalLM, AutoTokenizer\n",
    "# fix random seed\n",
    "seed = 42\n",
    "np.random.seed(seed)\n",
    "torch.manual_seed(seed)\n",
    "sys.path.append('../tuned-lens')\n",
    "from tuned_lens.nn.lenses import TunedLens,LogitLens"
   ]
  },
  {
   "cell_type": "code",
   "execution_count": 3,
   "id": "1fb93987",
   "metadata": {
    "execution": {
     "iopub.execute_input": "2024-02-23T22:35:13.376670Z",
     "iopub.status.busy": "2024-02-23T22:35:13.376305Z",
     "iopub.status.idle": "2024-02-23T22:35:13.404429Z",
     "shell.execute_reply": "2024-02-23T22:35:13.403962Z"
    },
    "papermill": {
     "duration": 0.033224,
     "end_time": "2024-02-23T22:35:13.405489",
     "exception": false,
     "start_time": "2024-02-23T22:35:13.372265",
     "status": "completed"
    },
    "tags": [
     "parameters"
    ]
   },
   "outputs": [],
   "source": [
    "input_lang = 'zh'\n",
    "target_lang = 'fr'\n",
    "model_size = '7b'\n",
    "prefix = \"./data/langs/\"\n",
    "type = 'tuned-chinese'"
   ]
  },
  {
   "cell_type": "code",
   "execution_count": 4,
   "id": "4e99fe23",
   "metadata": {
    "execution": {
     "iopub.execute_input": "2024-02-23T22:35:13.414627Z",
     "iopub.status.busy": "2024-02-23T22:35:13.414461Z",
     "iopub.status.idle": "2024-02-23T22:35:13.441203Z",
     "shell.execute_reply": "2024-02-23T22:35:13.440756Z"
    },
    "papermill": {
     "duration": 0.031828,
     "end_time": "2024-02-23T22:35:13.442232",
     "exception": false,
     "start_time": "2024-02-23T22:35:13.410404",
     "status": "completed"
    },
    "tags": [
     "injected-parameters"
    ]
   },
   "outputs": [],
   "source": [
    "# Parameters\n",
    "model_size = \"7b\"\n",
    "target_lang = \"zh\"\n",
    "input_lang = \"de\"\n",
    "type = \"tuned-chinese\"\n"
   ]
  },
  {
   "cell_type": "code",
   "execution_count": 5,
   "id": "ccb0899b",
   "metadata": {
    "execution": {
     "iopub.execute_input": "2024-02-23T22:35:13.450525Z",
     "iopub.status.busy": "2024-02-23T22:35:13.450176Z",
     "iopub.status.idle": "2024-02-23T22:35:13.478649Z",
     "shell.execute_reply": "2024-02-23T22:35:13.478159Z"
    },
    "papermill": {
     "duration": 0.03346,
     "end_time": "2024-02-23T22:35:13.479468",
     "exception": false,
     "start_time": "2024-02-23T22:35:13.446008",
     "status": "completed"
    },
    "tags": []
   },
   "outputs": [],
   "source": [
    "df_en_input = pd.read_csv(f'{prefix}{input_lang}/clean.csv').reindex()\n",
    "df_en_target = pd.read_csv(f'{prefix}{target_lang}/clean.csv').reindex()"
   ]
  },
  {
   "cell_type": "code",
   "execution_count": 6,
   "id": "33747213",
   "metadata": {
    "execution": {
     "iopub.execute_input": "2024-02-23T22:35:13.488299Z",
     "iopub.status.busy": "2024-02-23T22:35:13.487864Z",
     "iopub.status.idle": "2024-02-23T22:35:19.365567Z",
     "shell.execute_reply": "2024-02-23T22:35:19.364561Z"
    },
    "papermill": {
     "duration": 5.88305,
     "end_time": "2024-02-23T22:35:19.367004",
     "exception": false,
     "start_time": "2024-02-23T22:35:13.483954",
     "status": "completed"
    },
    "tags": []
   },
   "outputs": [
    {
     "data": {
      "application/vnd.jupyter.widget-view+json": {
       "model_id": "ff7164784008451ea6d5be300d2813ed",
       "version_major": 2,
       "version_minor": 0
      },
      "text/plain": [
       "Loading checkpoint shards:   0%|          | 0/2 [00:00<?, ?it/s]"
      ]
     },
     "metadata": {},
     "output_type": "display_data"
    }
   ],
   "source": [
    "\n",
    "llama = AutoModelForCausalLM.from_pretrained(  # type: ignore\n",
    "                f\"meta-llama/Llama-2-{model_size}-hf\",\n",
    "                device_map={\"\": \"cuda\"},\n",
    "                revision=\"main\",\n",
    "                torch_dtype=\"auto\",\n",
    "                local_files_only=\"true\",cache_dir=\"/mnt/ssd-1/hf_cache/\"\n",
    "            )\n",
    "    \n",
    "latent=\"en\"\n",
    "if type == 'logit':\n",
    "    llama_lens = LogitLens.from_model(llama).to(\"cuda\")\n",
    "    out_dir = f'./visuals/logit'\n",
    "if type == 'tuned':\n",
    "    llama_lens = TunedLens.from_model_and_pretrained(llama,f\"meta-llama/Llama-2-{model_size}-hf\").to(\"cuda\")\n",
    "    out_dir = f'./visuals/tuned'\n",
    "if type == 'tuned-chinese':\n",
    "    llama_lens = TunedLens.from_model_and_pretrained(llama,\"../tuned-lens/my_lenses/chinese\").to(\"cuda\")\n",
    "    out_dir = f'./visuals/tuned-chinese'\n",
    "    latent = 'zh'\n",
    "    chinese = pd.read_csv(f'{prefix}zh/clean.csv').reindex()\n",
    "tokenizer = AutoTokenizer.from_pretrained(\n",
    "                f\"meta-llama/Llama-2-7b-hf\",local_files_only=\"true\",cache_dir=\"/mnt/ssd-1/hf_cache/\"\n",
    "            )"
   ]
  },
  {
   "cell_type": "code",
   "execution_count": 7,
   "id": "bc45e052",
   "metadata": {
    "execution": {
     "iopub.execute_input": "2024-02-23T22:35:19.376083Z",
     "iopub.status.busy": "2024-02-23T22:35:19.375913Z",
     "iopub.status.idle": "2024-02-23T22:35:20.571515Z",
     "shell.execute_reply": "2024-02-23T22:35:20.571008Z"
    },
    "papermill": {
     "duration": 1.200928,
     "end_time": "2024-02-23T22:35:20.572386",
     "exception": false,
     "start_time": "2024-02-23T22:35:19.371458",
     "status": "completed"
    },
    "tags": []
   },
   "outputs": [
    {
     "name": "stdout",
     "output_type": "stream",
     "text": [
      "Sequential(\n",
      "  (0): LlamaRMSNorm()\n",
      "  (1): Linear(in_features=4096, out_features=32000, bias=False)\n",
      ")\n",
      "U torch.Size([32000, 4096]) weights torch.Size([1, 4096])\n"
     ]
    },
    {
     "name": "stdout",
     "output_type": "stream",
     "text": [
      "0.058621685951948166\n"
     ]
    }
   ],
   "source": [
    "unemb = nn.Sequential(llama.model.norm, llama.lm_head)\n",
    "print(unemb)\n",
    "# prepare for energy plots\n",
    "U = list(unemb[1].parameters())[0].detach().cpu().float()\n",
    "weights = list(unemb[0].parameters())[0].detach().cpu().float()\n",
    "print(f'U {U.shape} weights {weights.unsqueeze(0).shape}')\n",
    "U_weighted = U.clone() \n",
    "#U_weighted = U_weighted / ((U_weighted**2).mean(dim=1, keepdim=True))**0.5\n",
    "U_weighted *= weights.unsqueeze(0)\n",
    "U_normalized = U_weighted / ((U_weighted**2).sum(dim=1, keepdim=True))**0.5\n",
    "v = U.shape[0]\n",
    "TT = U_normalized.T @ U_normalized\n",
    "avgUU = (((U_normalized.T @ U_normalized)**2).sum() / v**2)**0.5\n",
    "print(avgUU.item())"
   ]
  },
  {
   "cell_type": "code",
   "execution_count": 8,
   "id": "5686a8d5",
   "metadata": {
    "execution": {
     "iopub.execute_input": "2024-02-23T22:35:20.582873Z",
     "iopub.status.busy": "2024-02-23T22:35:20.582474Z",
     "iopub.status.idle": "2024-02-23T22:35:21.558543Z",
     "shell.execute_reply": "2024-02-23T22:35:21.557952Z"
    },
    "papermill": {
     "duration": 0.981787,
     "end_time": "2024-02-23T22:35:21.559422",
     "exception": false,
     "start_time": "2024-02-23T22:35:20.577635",
     "status": "completed"
    },
    "tags": []
   },
   "outputs": [
    {
     "name": "stdout",
     "output_type": "stream",
     "text": [
      "for zh 139 of 139 are single tokens\n",
      "final length of df_zh_zh_de: 120\n"
     ]
    }
   ],
   "source": [
    "count = 0\n",
    "for idx, word in enumerate(df_en_target['word_translation']):\n",
    "    if word in tokenizer.get_vocab() or '▁'+word in tokenizer.get_vocab():\n",
    "        count += 1\n",
    "\n",
    "print(f'for {target_lang} {count} of {len(df_en_target)} are single tokens')\n",
    "\n",
    "if input_lang == target_lang:\n",
    "    df_en_target_input = df_en_target.copy()\n",
    "    if latent == 'zh':\n",
    "      df_en_target_input = df_en_target.copy()\n",
    "      chinese = chinese.loc[chinese[\"word_original\"].isin(df_en_input[\"word_original\"])]\n",
    "      df_en_target_input= df_en_target_input.loc[df_en_target_input[\"word_original\"].isin(chinese[\"word_original\"])]\n",
    "      chinese.sort_values(by=\"word_original\", inplace=True)\n",
    "      df_en_target_input.sort_values(by=\"word_original\", inplace=True)\n",
    "      chinese.reset_index(drop=True, inplace=True)\n",
    "      df_en_target_input.reset_index(drop=True, inplace=True)\n",
    "      df_en_target_input[\"word_original\"] = chinese[\"word_translation\"]\n",
    "    df_en_target_input.rename(columns={'word_original': latent, \n",
    "                                f'word_translation': target_lang if target_lang != latent else f'{latent}_tgt'}, \n",
    "                                inplace=True)\n",
    "    \n",
    "else:\n",
    "    df_en_target_input = df_en_target.merge(df_en_input, on=['word_original'], suffixes=(f'_{target_lang}', f'_{input_lang}'))\n",
    "    if latent == 'zh':\n",
    "      chinese = chinese.loc[chinese[\"word_original\"].isin(df_en_target_input[\"word_original\"])]\n",
    "      df_en_target_input= df_en_target_input.loc[df_en_target_input[\"word_original\"].isin(chinese[\"word_original\"])]\n",
    "      chinese.sort_values(by=\"word_original\", inplace=True)\n",
    "      df_en_target_input.sort_values(by=\"word_original\", inplace=True)\n",
    "      chinese.reset_index(drop=True, inplace=True)\n",
    "      df_en_target_input.reset_index(drop=True, inplace=True)\n",
    "      df_en_target_input[\"word_original\"] = chinese[\"word_translation\"]\n",
    "\n",
    "    df_en_target_input.rename(columns={'word_original': latent, \n",
    "                                f'word_translation_{target_lang}': target_lang if target_lang != latent else f'{latent}_tgt', \n",
    "                                f'word_translation_{input_lang}': input_lang if input_lang != latent else f'{latent}_in'}, \n",
    "                                inplace=True)\n",
    "# delete all rows where en is contained in de or fr\n",
    "if target_lang != latent:\n",
    "    for i, row in df_en_target_input.iterrows():\n",
    "        if row[latent].lower() in row[target_lang].lower():\n",
    "            df_en_target_input.drop(i, inplace=True)\n",
    "\n",
    "print(f'final length of df_{latent}_{target_lang}_{input_lang}: {len(df_en_target_input)}')"
   ]
  },
  {
   "cell_type": "code",
   "execution_count": 9,
   "id": "f0c0a52d",
   "metadata": {
    "execution": {
     "iopub.execute_input": "2024-02-23T22:35:21.569955Z",
     "iopub.status.busy": "2024-02-23T22:35:21.569489Z",
     "iopub.status.idle": "2024-02-23T22:35:21.609757Z",
     "shell.execute_reply": "2024-02-23T22:35:21.609308Z"
    },
    "papermill": {
     "duration": 0.046204,
     "end_time": "2024-02-23T22:35:21.610818",
     "exception": false,
     "start_time": "2024-02-23T22:35:21.564614",
     "status": "completed"
    },
    "tags": []
   },
   "outputs": [],
   "source": [
    "def token_prefixes(token_str: str):\n",
    "    n = len(token_str)\n",
    "    tokens = [token_str[:i] for i in range(1, n+1)]\n",
    "    return tokens \n",
    "\n",
    "def add_spaces(tokens):\n",
    "    return ['▁' + t for t in tokens] + tokens\n",
    "\n",
    "def capitalizations(tokens):\n",
    "    return list(set(tokens))\n",
    "\n",
    "def unicode_prefix_tokid(zh_char = \"云\", tokenizer=tokenizer):\n",
    "    start = zh_char.encode().__str__()[2:-1].split('\\\\x')[1]\n",
    "    unicode_format = '<0x%s>'\n",
    "    start_key = unicode_format%start.upper()\n",
    "    if start_key in tokenizer.get_vocab():\n",
    "        return tokenizer.get_vocab()[start_key]\n",
    "    return None\n",
    "\n",
    "def process_tokens(token_str: str, tokenizer, lang):\n",
    "    with_prefixes = token_prefixes(token_str)\n",
    "    with_spaces = add_spaces(with_prefixes)\n",
    "    with_capitalizations = capitalizations(with_spaces)\n",
    "    final_tokens = []\n",
    "    for tok in with_capitalizations:\n",
    "        if tok in tokenizer.get_vocab():\n",
    "            final_tokens.append(tokenizer.get_vocab()[tok])\n",
    "    if lang in ['zh', 'ru']:\n",
    "        tokid = unicode_prefix_tokid(token_str, tokenizer)\n",
    "        if tokid is not None:\n",
    "            final_tokens.append(tokid)\n",
    "    return final_tokens"
   ]
  },
  {
   "cell_type": "code",
   "execution_count": 10,
   "id": "faa7bb78",
   "metadata": {
    "execution": {
     "iopub.execute_input": "2024-02-23T22:35:21.619866Z",
     "iopub.status.busy": "2024-02-23T22:35:21.619460Z",
     "iopub.status.idle": "2024-02-23T22:35:21.658072Z",
     "shell.execute_reply": "2024-02-23T22:35:21.657652Z"
    },
    "papermill": {
     "duration": 0.043372,
     "end_time": "2024-02-23T22:35:21.658914",
     "exception": false,
     "start_time": "2024-02-23T22:35:21.615542",
     "status": "completed"
    },
    "tags": []
   },
   "outputs": [],
   "source": [
    "\n",
    "id2voc = {id:voc for voc, id in tokenizer.get_vocab().items()}\n",
    "def get_tokens(token_ids, id2voc=id2voc):\n",
    "    return [id2voc[tokid] for tokid in token_ids]\n",
    "\n",
    "def compute_entropy(probas):\n",
    "    return (-probas*torch.log2(probas)).sum(dim=-1)\n",
    "\n",
    "lang2name = {'fr': 'Français', 'de': 'Deutsch', 'ru': 'Русский', 'en': 'English', 'zh': '中文'}\n",
    "def sample(df, ind, k=5, tokenizer=tokenizer, lang1='fr', lang2='de', lang_latent=latent):\n",
    "    df = df.reset_index(drop=True)\n",
    "    temp = df[df.index!=ind]\n",
    "    sample = pd.concat([temp.sample(k-1), df[df.index==ind]], axis=0)\n",
    "    prompt = \"\"\n",
    "    for idx, (df_idx, row) in enumerate(sample.iterrows()):\n",
    "        if idx < k-1:\n",
    "            prompt += f'{lang2name[lang1]}: \"{row[lang1]}\" - {lang2name[lang2]}: \"{row[lang2]}\"\\n'\n",
    "        else:\n",
    "            prompt += f'{lang2name[lang1]}: \"{row[lang1]}\" - {lang2name[lang2]}: \"'\n",
    "            in_token_str = row[lang1]\n",
    "            out_token_str = row[lang2]\n",
    "            out_token_id = process_tokens(out_token_str, tokenizer, lang2)\n",
    "            latent_token_str = row[lang_latent]\n",
    "            latent_token_id = process_tokens(latent_token_str, tokenizer, latent)\n",
    "            intersection = set(out_token_id).intersection(set(latent_token_id))\n",
    "            if len(out_token_id) == 0 or len(latent_token_id) == 0:\n",
    "                yield None\n",
    "            if lang2 != latent and len(intersection) > 0:\n",
    "                yield None\n",
    "            yield {'prompt': prompt, \n",
    "                'out_token_id': out_token_id, \n",
    "                'out_token_str': out_token_str,\n",
    "                'latent_token_id': latent_token_id, \n",
    "                'latent_token_str': latent_token_str, \n",
    "                'in_token_str': in_token_str}"
   ]
  },
  {
   "cell_type": "code",
   "execution_count": 11,
   "id": "121eec47",
   "metadata": {
    "execution": {
     "iopub.execute_input": "2024-02-23T22:35:21.669521Z",
     "iopub.status.busy": "2024-02-23T22:35:21.669047Z",
     "iopub.status.idle": "2024-02-23T22:35:21.705064Z",
     "shell.execute_reply": "2024-02-23T22:35:21.704692Z"
    },
    "papermill": {
     "duration": 0.042368,
     "end_time": "2024-02-23T22:35:21.705833",
     "exception": false,
     "start_time": "2024-02-23T22:35:21.663465",
     "status": "completed"
    },
    "tags": []
   },
   "outputs": [
    {
     "data": {
      "text/html": [
       "<div>\n",
       "<style scoped>\n",
       "    .dataframe tbody tr th:only-of-type {\n",
       "        vertical-align: middle;\n",
       "    }\n",
       "\n",
       "    .dataframe tbody tr th {\n",
       "        vertical-align: top;\n",
       "    }\n",
       "\n",
       "    .dataframe thead th {\n",
       "        text-align: right;\n",
       "    }\n",
       "</style>\n",
       "<table border=\"1\" class=\"dataframe\">\n",
       "  <thead>\n",
       "    <tr style=\"text-align: right;\">\n",
       "      <th></th>\n",
       "      <th>lang_zh</th>\n",
       "      <th>zh</th>\n",
       "      <th>zh_tgt</th>\n",
       "      <th>blank_prompt_original_zh</th>\n",
       "      <th>blank_prompt_translation_zh</th>\n",
       "      <th>blank_prompt_translation_masked_zh</th>\n",
       "      <th>lang_de</th>\n",
       "      <th>de</th>\n",
       "      <th>blank_prompt_original_de</th>\n",
       "      <th>blank_prompt_translation_de</th>\n",
       "      <th>blank_prompt_translation_masked_de</th>\n",
       "      <th>error</th>\n",
       "    </tr>\n",
       "  </thead>\n",
       "  <tbody>\n",
       "    <tr>\n",
       "      <th>0</th>\n",
       "      <td>zh</td>\n",
       "      <td>试</td>\n",
       "      <td>试</td>\n",
       "      <td>An \"attempt\" is made when trying to achieve so...</td>\n",
       "      <td>\"试\"是尝试达成某事的行为。答案：\"试\"。</td>\n",
       "      <td>\"_\"是尝试达成某事的行为。答案：\"试\"。</td>\n",
       "      <td>de</td>\n",
       "      <td>Versuch</td>\n",
       "      <td>An \"attempt\" is made when trying to achieve so...</td>\n",
       "      <td>Ein \"Versuch\" wird unternommen, wenn man versu...</td>\n",
       "      <td>Ein \"___\" wird unternommen, wenn man versucht,...</td>\n",
       "      <td>no error</td>\n",
       "    </tr>\n",
       "    <tr>\n",
       "      <th>1</th>\n",
       "      <td>zh</td>\n",
       "      <td>包</td>\n",
       "      <td>包</td>\n",
       "      <td>A \"bag\" is used to carry items. Answer: \"bag\".</td>\n",
       "      <td>\"包\"用来携带物品。答案：\"包\"。</td>\n",
       "      <td>\"_\"用来携带物品。答案：\"包\"。</td>\n",
       "      <td>de</td>\n",
       "      <td>Tasche</td>\n",
       "      <td>A \"bag\" is used to carry items. Answer: \"bag\".</td>\n",
       "      <td>Eine \"Tasche\" wird zum Tragen von Gegenständen...</td>\n",
       "      <td>Eine \"___\" wird zum Tragen von Gegenständen ve...</td>\n",
       "      <td>no error</td>\n",
       "    </tr>\n",
       "    <tr>\n",
       "      <th>2</th>\n",
       "      <td>zh</td>\n",
       "      <td>球</td>\n",
       "      <td>球</td>\n",
       "      <td>A \"ball\" is used to play sports like soccer an...</td>\n",
       "      <td>\"球\"用来进行足球和篮球等运动。答案：\"球\"。</td>\n",
       "      <td>\"_\"用来进行足球和篮球等运动。答案：\"球\"。</td>\n",
       "      <td>de</td>\n",
       "      <td>Ball</td>\n",
       "      <td>A \"ball\" is used to play sports like soccer an...</td>\n",
       "      <td>Ein \"Ball\" wird für Sportarten wie Fußball und...</td>\n",
       "      <td>Ein \"___\" wird für Sportarten wie Fußball und ...</td>\n",
       "      <td>no error</td>\n",
       "    </tr>\n",
       "    <tr>\n",
       "      <th>3</th>\n",
       "      <td>zh</td>\n",
       "      <td>美</td>\n",
       "      <td>美</td>\n",
       "      <td>'\"Beauty\" is a characteristic that provides a ...</td>\n",
       "      <td>\"美\"是提供愉悦或满足感知体验的特征。答案：\"美\"。</td>\n",
       "      <td>\"_\"是提供愉悦或满足感知体验的特征。答案：\"美\"。</td>\n",
       "      <td>de</td>\n",
       "      <td>Schönheit</td>\n",
       "      <td>'\"Beauty\" is a characteristic that provides a ...</td>\n",
       "      <td>Schönheit\" ist eine Eigenschaft, die ein Wahrn...</td>\n",
       "      <td>\"___\" ist eine Eigenschaft, die ein Wahrnehmun...</td>\n",
       "      <td>no error</td>\n",
       "    </tr>\n",
       "    <tr>\n",
       "      <th>4</th>\n",
       "      <td>zh</td>\n",
       "      <td>利</td>\n",
       "      <td>利</td>\n",
       "      <td>A \"benefit\" is something that promotes or enha...</td>\n",
       "      <td>\"利\"是促进或增强福祉的东西。答案：\"利\"。</td>\n",
       "      <td>\"_\"是促进或增强福祉的东西。答案：\"利\"。</td>\n",
       "      <td>de</td>\n",
       "      <td>Nutzen</td>\n",
       "      <td>A \"benefit\" is something that promotes or enha...</td>\n",
       "      <td>Ein \"Nutzen\" ist etwas, das das Wohlbefinden f...</td>\n",
       "      <td>Ein \"___\" ist etwas, das das Wohlbefinden förd...</td>\n",
       "      <td>no error</td>\n",
       "    </tr>\n",
       "    <tr>\n",
       "      <th>...</th>\n",
       "      <td>...</td>\n",
       "      <td>...</td>\n",
       "      <td>...</td>\n",
       "      <td>...</td>\n",
       "      <td>...</td>\n",
       "      <td>...</td>\n",
       "      <td>...</td>\n",
       "      <td>...</td>\n",
       "      <td>...</td>\n",
       "      <td>...</td>\n",
       "      <td>...</td>\n",
       "      <td>...</td>\n",
       "    </tr>\n",
       "    <tr>\n",
       "      <th>115</th>\n",
       "      <td>zh</td>\n",
       "      <td>德</td>\n",
       "      <td>德</td>\n",
       "      <td>A \"virtue\" is a quality considered morally goo...</td>\n",
       "      <td>\"德\"是人中被视为道德上好或可取的品质。答案：\"德\"。</td>\n",
       "      <td>\"_\"是人中被视为道德上好或可取的品质。答案：\"德\"。</td>\n",
       "      <td>de</td>\n",
       "      <td>Tugend</td>\n",
       "      <td>A \"virtue\" is a quality considered morally goo...</td>\n",
       "      <td>Eine \"Tugend\" ist eine Eigenschaft, die als mo...</td>\n",
       "      <td>Eine \"___\" ist eine Eigenschaft, die als moral...</td>\n",
       "      <td>no error</td>\n",
       "    </tr>\n",
       "    <tr>\n",
       "      <th>116</th>\n",
       "      <td>zh</td>\n",
       "      <td>水</td>\n",
       "      <td>水</td>\n",
       "      <td>\"A \"water\" is essential for life and is used f...</td>\n",
       "      <td>\"水\"对生命至关重要，用于饮用和清洁。答案：\"水\"。</td>\n",
       "      <td>\"_\"对生命至关重要，用于饮用和清洁。答案：\"水\"。</td>\n",
       "      <td>de</td>\n",
       "      <td>Wasser</td>\n",
       "      <td>\"A \"water\" is essential for life and is used f...</td>\n",
       "      <td>\"A \"Wasser\" ist lebensnotwendig und wird zum T...</td>\n",
       "      <td>\"A \"___\" ist lebensnotwendig und wird zum Trin...</td>\n",
       "      <td>no error</td>\n",
       "    </tr>\n",
       "    <tr>\n",
       "      <th>117</th>\n",
       "      <td>zh</td>\n",
       "      <td>波</td>\n",
       "      <td>波</td>\n",
       "      <td>A \"wave\" is a disturbance that transfers energ...</td>\n",
       "      <td>\"波\"是一种通过物质或空间传递能量的扰动。答案：\"波\"。</td>\n",
       "      <td>\"_\"是一种通过物质或空间传递能量的扰动。答案：\"波\"。</td>\n",
       "      <td>de</td>\n",
       "      <td>Welle</td>\n",
       "      <td>A \"wave\" is a disturbance that transfers energ...</td>\n",
       "      <td>Eine \"Welle\" ist eine Störung, die Energie dur...</td>\n",
       "      <td>Eine \"___\" ist eine Störung, die Energie durch...</td>\n",
       "      <td>no error</td>\n",
       "    </tr>\n",
       "    <tr>\n",
       "      <th>118</th>\n",
       "      <td>zh</td>\n",
       "      <td>木</td>\n",
       "      <td>木</td>\n",
       "      <td>A \"wood\" is used to make furniture. Answer: \"w...</td>\n",
       "      <td>\"木\"用来制作家具。答案：\"木\"。</td>\n",
       "      <td>\"_\"用来制作家具。答案：\"木\"。</td>\n",
       "      <td>de</td>\n",
       "      <td>Holz</td>\n",
       "      <td>A \"wood\" is used to make furniture. Answer: \"w...</td>\n",
       "      <td>Ein \"Holz\" wird für die Herstellung von Möbeln...</td>\n",
       "      <td>Ein \"___\" wird für die Herstellung von Möbeln ...</td>\n",
       "      <td>no error</td>\n",
       "    </tr>\n",
       "    <tr>\n",
       "      <th>119</th>\n",
       "      <td>zh</td>\n",
       "      <td>字</td>\n",
       "      <td>字</td>\n",
       "      <td>A \"word\" is a single distinct meaningful eleme...</td>\n",
       "      <td>\"字\"是语言中单独的、有意义的元素，与其他字一起（或有时单独）用来构成句子，当书写或打印时，...</td>\n",
       "      <td>\"_\"是语言中单独的、有意义的元素，与其他字一起（或有时单独）用来构成句子，当书写或打印时，...</td>\n",
       "      <td>de</td>\n",
       "      <td>Wort</td>\n",
       "      <td>A \"word\" is a single distinct meaningful eleme...</td>\n",
       "      <td>Ein \"Wort\" ist ein einzelnes bedeutungsvolles ...</td>\n",
       "      <td>Ein \"___\" ist ein einzelnes bedeutungsvolles s...</td>\n",
       "      <td>no error</td>\n",
       "    </tr>\n",
       "  </tbody>\n",
       "</table>\n",
       "<p>120 rows × 12 columns</p>\n",
       "</div>"
      ],
      "text/plain": [
       "    lang_zh zh zh_tgt                           blank_prompt_original_zh  \\\n",
       "0        zh  试      试  An \"attempt\" is made when trying to achieve so...   \n",
       "1        zh  包      包     A \"bag\" is used to carry items. Answer: \"bag\".   \n",
       "2        zh  球      球  A \"ball\" is used to play sports like soccer an...   \n",
       "3        zh  美      美  '\"Beauty\" is a characteristic that provides a ...   \n",
       "4        zh  利      利  A \"benefit\" is something that promotes or enha...   \n",
       "..      ... ..    ...                                                ...   \n",
       "115      zh  德      德  A \"virtue\" is a quality considered morally goo...   \n",
       "116      zh  水      水  \"A \"water\" is essential for life and is used f...   \n",
       "117      zh  波      波  A \"wave\" is a disturbance that transfers energ...   \n",
       "118      zh  木      木  A \"wood\" is used to make furniture. Answer: \"w...   \n",
       "119      zh  字      字  A \"word\" is a single distinct meaningful eleme...   \n",
       "\n",
       "                           blank_prompt_translation_zh  \\\n",
       "0                                \"试\"是尝试达成某事的行为。答案：\"试\"。   \n",
       "1                                    \"包\"用来携带物品。答案：\"包\"。   \n",
       "2                              \"球\"用来进行足球和篮球等运动。答案：\"球\"。   \n",
       "3                           \"美\"是提供愉悦或满足感知体验的特征。答案：\"美\"。   \n",
       "4                               \"利\"是促进或增强福祉的东西。答案：\"利\"。   \n",
       "..                                                 ...   \n",
       "115                        \"德\"是人中被视为道德上好或可取的品质。答案：\"德\"。   \n",
       "116                         \"水\"对生命至关重要，用于饮用和清洁。答案：\"水\"。   \n",
       "117                       \"波\"是一种通过物质或空间传递能量的扰动。答案：\"波\"。   \n",
       "118                                  \"木\"用来制作家具。答案：\"木\"。   \n",
       "119  \"字\"是语言中单独的、有意义的元素，与其他字一起（或有时单独）用来构成句子，当书写或打印时，...   \n",
       "\n",
       "                    blank_prompt_translation_masked_zh lang_de         de  \\\n",
       "0                                \"_\"是尝试达成某事的行为。答案：\"试\"。      de    Versuch   \n",
       "1                                    \"_\"用来携带物品。答案：\"包\"。      de     Tasche   \n",
       "2                              \"_\"用来进行足球和篮球等运动。答案：\"球\"。      de       Ball   \n",
       "3                           \"_\"是提供愉悦或满足感知体验的特征。答案：\"美\"。      de  Schönheit   \n",
       "4                               \"_\"是促进或增强福祉的东西。答案：\"利\"。      de     Nutzen   \n",
       "..                                                 ...     ...        ...   \n",
       "115                        \"_\"是人中被视为道德上好或可取的品质。答案：\"德\"。      de     Tugend   \n",
       "116                         \"_\"对生命至关重要，用于饮用和清洁。答案：\"水\"。      de     Wasser   \n",
       "117                       \"_\"是一种通过物质或空间传递能量的扰动。答案：\"波\"。      de      Welle   \n",
       "118                                  \"_\"用来制作家具。答案：\"木\"。      de       Holz   \n",
       "119  \"_\"是语言中单独的、有意义的元素，与其他字一起（或有时单独）用来构成句子，当书写或打印时，...      de       Wort   \n",
       "\n",
       "                              blank_prompt_original_de  \\\n",
       "0    An \"attempt\" is made when trying to achieve so...   \n",
       "1       A \"bag\" is used to carry items. Answer: \"bag\".   \n",
       "2    A \"ball\" is used to play sports like soccer an...   \n",
       "3    '\"Beauty\" is a characteristic that provides a ...   \n",
       "4    A \"benefit\" is something that promotes or enha...   \n",
       "..                                                 ...   \n",
       "115  A \"virtue\" is a quality considered morally goo...   \n",
       "116  \"A \"water\" is essential for life and is used f...   \n",
       "117  A \"wave\" is a disturbance that transfers energ...   \n",
       "118  A \"wood\" is used to make furniture. Answer: \"w...   \n",
       "119  A \"word\" is a single distinct meaningful eleme...   \n",
       "\n",
       "                           blank_prompt_translation_de  \\\n",
       "0    Ein \"Versuch\" wird unternommen, wenn man versu...   \n",
       "1    Eine \"Tasche\" wird zum Tragen von Gegenständen...   \n",
       "2    Ein \"Ball\" wird für Sportarten wie Fußball und...   \n",
       "3    Schönheit\" ist eine Eigenschaft, die ein Wahrn...   \n",
       "4    Ein \"Nutzen\" ist etwas, das das Wohlbefinden f...   \n",
       "..                                                 ...   \n",
       "115  Eine \"Tugend\" ist eine Eigenschaft, die als mo...   \n",
       "116  \"A \"Wasser\" ist lebensnotwendig und wird zum T...   \n",
       "117  Eine \"Welle\" ist eine Störung, die Energie dur...   \n",
       "118  Ein \"Holz\" wird für die Herstellung von Möbeln...   \n",
       "119  Ein \"Wort\" ist ein einzelnes bedeutungsvolles ...   \n",
       "\n",
       "                    blank_prompt_translation_masked_de     error  \n",
       "0    Ein \"___\" wird unternommen, wenn man versucht,...  no error  \n",
       "1    Eine \"___\" wird zum Tragen von Gegenständen ve...  no error  \n",
       "2    Ein \"___\" wird für Sportarten wie Fußball und ...  no error  \n",
       "3    \"___\" ist eine Eigenschaft, die ein Wahrnehmun...  no error  \n",
       "4    Ein \"___\" ist etwas, das das Wohlbefinden förd...  no error  \n",
       "..                                                 ...       ...  \n",
       "115  Eine \"___\" ist eine Eigenschaft, die als moral...  no error  \n",
       "116  \"A \"___\" ist lebensnotwendig und wird zum Trin...  no error  \n",
       "117  Eine \"___\" ist eine Störung, die Energie durch...  no error  \n",
       "118  Ein \"___\" wird für die Herstellung von Möbeln ...  no error  \n",
       "119  Ein \"___\" ist ein einzelnes bedeutungsvolles s...  no error  \n",
       "\n",
       "[120 rows x 12 columns]"
      ]
     },
     "execution_count": 11,
     "metadata": {},
     "output_type": "execute_result"
    }
   ],
   "source": [
    "df_en_target_input"
   ]
  },
  {
   "cell_type": "code",
   "execution_count": 12,
   "id": "8037261b",
   "metadata": {
    "execution": {
     "iopub.execute_input": "2024-02-23T22:35:21.714986Z",
     "iopub.status.busy": "2024-02-23T22:35:21.714647Z",
     "iopub.status.idle": "2024-02-23T22:35:21.743252Z",
     "shell.execute_reply": "2024-02-23T22:35:21.742854Z"
    },
    "papermill": {
     "duration": 0.033899,
     "end_time": "2024-02-23T22:35:21.744017",
     "exception": false,
     "start_time": "2024-02-23T22:35:21.710118",
     "status": "completed"
    },
    "tags": []
   },
   "outputs": [
    {
     "data": {
      "text/html": [
       "<div>\n",
       "<style scoped>\n",
       "    .dataframe tbody tr th:only-of-type {\n",
       "        vertical-align: middle;\n",
       "    }\n",
       "\n",
       "    .dataframe tbody tr th {\n",
       "        vertical-align: top;\n",
       "    }\n",
       "\n",
       "    .dataframe thead th {\n",
       "        text-align: right;\n",
       "    }\n",
       "</style>\n",
       "<table border=\"1\" class=\"dataframe\">\n",
       "  <thead>\n",
       "    <tr style=\"text-align: right;\">\n",
       "      <th></th>\n",
       "      <th>lang</th>\n",
       "      <th>word_original</th>\n",
       "      <th>word_translation</th>\n",
       "      <th>blank_prompt_original</th>\n",
       "      <th>blank_prompt_translation</th>\n",
       "      <th>blank_prompt_translation_masked</th>\n",
       "    </tr>\n",
       "  </thead>\n",
       "  <tbody>\n",
       "    <tr>\n",
       "      <th>0</th>\n",
       "      <td>zh</td>\n",
       "      <td>attempt</td>\n",
       "      <td>试</td>\n",
       "      <td>An \"attempt\" is made when trying to achieve so...</td>\n",
       "      <td>\"试\"是尝试达成某事的行为。答案：\"试\"。</td>\n",
       "      <td>\"_\"是尝试达成某事的行为。答案：\"试\"。</td>\n",
       "    </tr>\n",
       "    <tr>\n",
       "      <th>1</th>\n",
       "      <td>zh</td>\n",
       "      <td>bag</td>\n",
       "      <td>包</td>\n",
       "      <td>A \"bag\" is used to carry items. Answer: \"bag\".</td>\n",
       "      <td>\"包\"用来携带物品。答案：\"包\"。</td>\n",
       "      <td>\"_\"用来携带物品。答案：\"包\"。</td>\n",
       "    </tr>\n",
       "    <tr>\n",
       "      <th>2</th>\n",
       "      <td>zh</td>\n",
       "      <td>ball</td>\n",
       "      <td>球</td>\n",
       "      <td>A \"ball\" is used to play sports like soccer an...</td>\n",
       "      <td>\"球\"用来进行足球和篮球等运动。答案：\"球\"。</td>\n",
       "      <td>\"_\"用来进行足球和篮球等运动。答案：\"球\"。</td>\n",
       "    </tr>\n",
       "    <tr>\n",
       "      <th>3</th>\n",
       "      <td>zh</td>\n",
       "      <td>beauty</td>\n",
       "      <td>美</td>\n",
       "      <td>'\"Beauty\" is a characteristic that provides a ...</td>\n",
       "      <td>\"美\"是提供愉悦或满足感知体验的特征。答案：\"美\"。</td>\n",
       "      <td>\"_\"是提供愉悦或满足感知体验的特征。答案：\"美\"。</td>\n",
       "    </tr>\n",
       "    <tr>\n",
       "      <th>4</th>\n",
       "      <td>zh</td>\n",
       "      <td>benefit</td>\n",
       "      <td>利</td>\n",
       "      <td>A \"benefit\" is something that promotes or enha...</td>\n",
       "      <td>\"利\"是促进或增强福祉的东西。答案：\"利\"。</td>\n",
       "      <td>\"_\"是促进或增强福祉的东西。答案：\"利\"。</td>\n",
       "    </tr>\n",
       "    <tr>\n",
       "      <th>...</th>\n",
       "      <td>...</td>\n",
       "      <td>...</td>\n",
       "      <td>...</td>\n",
       "      <td>...</td>\n",
       "      <td>...</td>\n",
       "      <td>...</td>\n",
       "    </tr>\n",
       "    <tr>\n",
       "      <th>115</th>\n",
       "      <td>zh</td>\n",
       "      <td>virtue</td>\n",
       "      <td>德</td>\n",
       "      <td>A \"virtue\" is a quality considered morally goo...</td>\n",
       "      <td>\"德\"是人中被视为道德上好或可取的品质。答案：\"德\"。</td>\n",
       "      <td>\"_\"是人中被视为道德上好或可取的品质。答案：\"德\"。</td>\n",
       "    </tr>\n",
       "    <tr>\n",
       "      <th>116</th>\n",
       "      <td>zh</td>\n",
       "      <td>water</td>\n",
       "      <td>水</td>\n",
       "      <td>\"A \"water\" is essential for life and is used f...</td>\n",
       "      <td>\"水\"对生命至关重要，用于饮用和清洁。答案：\"水\"。</td>\n",
       "      <td>\"_\"对生命至关重要，用于饮用和清洁。答案：\"水\"。</td>\n",
       "    </tr>\n",
       "    <tr>\n",
       "      <th>117</th>\n",
       "      <td>zh</td>\n",
       "      <td>wave</td>\n",
       "      <td>波</td>\n",
       "      <td>A \"wave\" is a disturbance that transfers energ...</td>\n",
       "      <td>\"波\"是一种通过物质或空间传递能量的扰动。答案：\"波\"。</td>\n",
       "      <td>\"_\"是一种通过物质或空间传递能量的扰动。答案：\"波\"。</td>\n",
       "    </tr>\n",
       "    <tr>\n",
       "      <th>118</th>\n",
       "      <td>zh</td>\n",
       "      <td>wood</td>\n",
       "      <td>木</td>\n",
       "      <td>A \"wood\" is used to make furniture. Answer: \"w...</td>\n",
       "      <td>\"木\"用来制作家具。答案：\"木\"。</td>\n",
       "      <td>\"_\"用来制作家具。答案：\"木\"。</td>\n",
       "    </tr>\n",
       "    <tr>\n",
       "      <th>119</th>\n",
       "      <td>zh</td>\n",
       "      <td>word</td>\n",
       "      <td>字</td>\n",
       "      <td>A \"word\" is a single distinct meaningful eleme...</td>\n",
       "      <td>\"字\"是语言中单独的、有意义的元素，与其他字一起（或有时单独）用来构成句子，当书写或打印时，...</td>\n",
       "      <td>\"_\"是语言中单独的、有意义的元素，与其他字一起（或有时单独）用来构成句子，当书写或打印时，...</td>\n",
       "    </tr>\n",
       "  </tbody>\n",
       "</table>\n",
       "<p>120 rows × 6 columns</p>\n",
       "</div>"
      ],
      "text/plain": [
       "    lang word_original word_translation  \\\n",
       "0     zh       attempt                试   \n",
       "1     zh           bag                包   \n",
       "2     zh          ball                球   \n",
       "3     zh        beauty                美   \n",
       "4     zh       benefit                利   \n",
       "..   ...           ...              ...   \n",
       "115   zh        virtue                德   \n",
       "116   zh         water                水   \n",
       "117   zh          wave                波   \n",
       "118   zh          wood                木   \n",
       "119   zh          word                字   \n",
       "\n",
       "                                 blank_prompt_original  \\\n",
       "0    An \"attempt\" is made when trying to achieve so...   \n",
       "1       A \"bag\" is used to carry items. Answer: \"bag\".   \n",
       "2    A \"ball\" is used to play sports like soccer an...   \n",
       "3    '\"Beauty\" is a characteristic that provides a ...   \n",
       "4    A \"benefit\" is something that promotes or enha...   \n",
       "..                                                 ...   \n",
       "115  A \"virtue\" is a quality considered morally goo...   \n",
       "116  \"A \"water\" is essential for life and is used f...   \n",
       "117  A \"wave\" is a disturbance that transfers energ...   \n",
       "118  A \"wood\" is used to make furniture. Answer: \"w...   \n",
       "119  A \"word\" is a single distinct meaningful eleme...   \n",
       "\n",
       "                              blank_prompt_translation  \\\n",
       "0                                \"试\"是尝试达成某事的行为。答案：\"试\"。   \n",
       "1                                    \"包\"用来携带物品。答案：\"包\"。   \n",
       "2                              \"球\"用来进行足球和篮球等运动。答案：\"球\"。   \n",
       "3                           \"美\"是提供愉悦或满足感知体验的特征。答案：\"美\"。   \n",
       "4                               \"利\"是促进或增强福祉的东西。答案：\"利\"。   \n",
       "..                                                 ...   \n",
       "115                        \"德\"是人中被视为道德上好或可取的品质。答案：\"德\"。   \n",
       "116                         \"水\"对生命至关重要，用于饮用和清洁。答案：\"水\"。   \n",
       "117                       \"波\"是一种通过物质或空间传递能量的扰动。答案：\"波\"。   \n",
       "118                                  \"木\"用来制作家具。答案：\"木\"。   \n",
       "119  \"字\"是语言中单独的、有意义的元素，与其他字一起（或有时单独）用来构成句子，当书写或打印时，...   \n",
       "\n",
       "                       blank_prompt_translation_masked  \n",
       "0                                \"_\"是尝试达成某事的行为。答案：\"试\"。  \n",
       "1                                    \"_\"用来携带物品。答案：\"包\"。  \n",
       "2                              \"_\"用来进行足球和篮球等运动。答案：\"球\"。  \n",
       "3                           \"_\"是提供愉悦或满足感知体验的特征。答案：\"美\"。  \n",
       "4                               \"_\"是促进或增强福祉的东西。答案：\"利\"。  \n",
       "..                                                 ...  \n",
       "115                        \"_\"是人中被视为道德上好或可取的品质。答案：\"德\"。  \n",
       "116                         \"_\"对生命至关重要，用于饮用和清洁。答案：\"水\"。  \n",
       "117                       \"_\"是一种通过物质或空间传递能量的扰动。答案：\"波\"。  \n",
       "118                                  \"_\"用来制作家具。答案：\"木\"。  \n",
       "119  \"_\"是语言中单独的、有意义的元素，与其他字一起（或有时单独）用来构成句子，当书写或打印时，...  \n",
       "\n",
       "[120 rows x 6 columns]"
      ]
     },
     "execution_count": 12,
     "metadata": {},
     "output_type": "execute_result"
    }
   ],
   "source": [
    "chinese"
   ]
  },
  {
   "cell_type": "code",
   "execution_count": 13,
   "id": "444dd726",
   "metadata": {
    "execution": {
     "iopub.execute_input": "2024-02-23T22:35:21.753932Z",
     "iopub.status.busy": "2024-02-23T22:35:21.753536Z",
     "iopub.status.idle": "2024-02-23T22:35:21.781637Z",
     "shell.execute_reply": "2024-02-23T22:35:21.781227Z"
    },
    "papermill": {
     "duration": 0.040239,
     "end_time": "2024-02-23T22:35:21.788970",
     "exception": false,
     "start_time": "2024-02-23T22:35:21.748731",
     "status": "completed"
    },
    "tags": []
   },
   "outputs": [
    {
     "data": {
      "text/html": [
       "<div>\n",
       "<style scoped>\n",
       "    .dataframe tbody tr th:only-of-type {\n",
       "        vertical-align: middle;\n",
       "    }\n",
       "\n",
       "    .dataframe tbody tr th {\n",
       "        vertical-align: top;\n",
       "    }\n",
       "\n",
       "    .dataframe thead th {\n",
       "        text-align: right;\n",
       "    }\n",
       "</style>\n",
       "<table border=\"1\" class=\"dataframe\">\n",
       "  <thead>\n",
       "    <tr style=\"text-align: right;\">\n",
       "      <th></th>\n",
       "      <th>lang_zh</th>\n",
       "      <th>zh</th>\n",
       "      <th>zh_tgt</th>\n",
       "      <th>blank_prompt_original_zh</th>\n",
       "      <th>blank_prompt_translation_zh</th>\n",
       "      <th>blank_prompt_translation_masked_zh</th>\n",
       "      <th>lang_de</th>\n",
       "      <th>de</th>\n",
       "      <th>blank_prompt_original_de</th>\n",
       "      <th>blank_prompt_translation_de</th>\n",
       "      <th>blank_prompt_translation_masked_de</th>\n",
       "      <th>error</th>\n",
       "    </tr>\n",
       "  </thead>\n",
       "  <tbody>\n",
       "    <tr>\n",
       "      <th>0</th>\n",
       "      <td>zh</td>\n",
       "      <td>试</td>\n",
       "      <td>试</td>\n",
       "      <td>An \"attempt\" is made when trying to achieve so...</td>\n",
       "      <td>\"试\"是尝试达成某事的行为。答案：\"试\"。</td>\n",
       "      <td>\"_\"是尝试达成某事的行为。答案：\"试\"。</td>\n",
       "      <td>de</td>\n",
       "      <td>Versuch</td>\n",
       "      <td>An \"attempt\" is made when trying to achieve so...</td>\n",
       "      <td>Ein \"Versuch\" wird unternommen, wenn man versu...</td>\n",
       "      <td>Ein \"___\" wird unternommen, wenn man versucht,...</td>\n",
       "      <td>no error</td>\n",
       "    </tr>\n",
       "    <tr>\n",
       "      <th>1</th>\n",
       "      <td>zh</td>\n",
       "      <td>包</td>\n",
       "      <td>包</td>\n",
       "      <td>A \"bag\" is used to carry items. Answer: \"bag\".</td>\n",
       "      <td>\"包\"用来携带物品。答案：\"包\"。</td>\n",
       "      <td>\"_\"用来携带物品。答案：\"包\"。</td>\n",
       "      <td>de</td>\n",
       "      <td>Tasche</td>\n",
       "      <td>A \"bag\" is used to carry items. Answer: \"bag\".</td>\n",
       "      <td>Eine \"Tasche\" wird zum Tragen von Gegenständen...</td>\n",
       "      <td>Eine \"___\" wird zum Tragen von Gegenständen ve...</td>\n",
       "      <td>no error</td>\n",
       "    </tr>\n",
       "    <tr>\n",
       "      <th>2</th>\n",
       "      <td>zh</td>\n",
       "      <td>球</td>\n",
       "      <td>球</td>\n",
       "      <td>A \"ball\" is used to play sports like soccer an...</td>\n",
       "      <td>\"球\"用来进行足球和篮球等运动。答案：\"球\"。</td>\n",
       "      <td>\"_\"用来进行足球和篮球等运动。答案：\"球\"。</td>\n",
       "      <td>de</td>\n",
       "      <td>Ball</td>\n",
       "      <td>A \"ball\" is used to play sports like soccer an...</td>\n",
       "      <td>Ein \"Ball\" wird für Sportarten wie Fußball und...</td>\n",
       "      <td>Ein \"___\" wird für Sportarten wie Fußball und ...</td>\n",
       "      <td>no error</td>\n",
       "    </tr>\n",
       "    <tr>\n",
       "      <th>3</th>\n",
       "      <td>zh</td>\n",
       "      <td>美</td>\n",
       "      <td>美</td>\n",
       "      <td>'\"Beauty\" is a characteristic that provides a ...</td>\n",
       "      <td>\"美\"是提供愉悦或满足感知体验的特征。答案：\"美\"。</td>\n",
       "      <td>\"_\"是提供愉悦或满足感知体验的特征。答案：\"美\"。</td>\n",
       "      <td>de</td>\n",
       "      <td>Schönheit</td>\n",
       "      <td>'\"Beauty\" is a characteristic that provides a ...</td>\n",
       "      <td>Schönheit\" ist eine Eigenschaft, die ein Wahrn...</td>\n",
       "      <td>\"___\" ist eine Eigenschaft, die ein Wahrnehmun...</td>\n",
       "      <td>no error</td>\n",
       "    </tr>\n",
       "    <tr>\n",
       "      <th>4</th>\n",
       "      <td>zh</td>\n",
       "      <td>利</td>\n",
       "      <td>利</td>\n",
       "      <td>A \"benefit\" is something that promotes or enha...</td>\n",
       "      <td>\"利\"是促进或增强福祉的东西。答案：\"利\"。</td>\n",
       "      <td>\"_\"是促进或增强福祉的东西。答案：\"利\"。</td>\n",
       "      <td>de</td>\n",
       "      <td>Nutzen</td>\n",
       "      <td>A \"benefit\" is something that promotes or enha...</td>\n",
       "      <td>Ein \"Nutzen\" ist etwas, das das Wohlbefinden f...</td>\n",
       "      <td>Ein \"___\" ist etwas, das das Wohlbefinden förd...</td>\n",
       "      <td>no error</td>\n",
       "    </tr>\n",
       "    <tr>\n",
       "      <th>...</th>\n",
       "      <td>...</td>\n",
       "      <td>...</td>\n",
       "      <td>...</td>\n",
       "      <td>...</td>\n",
       "      <td>...</td>\n",
       "      <td>...</td>\n",
       "      <td>...</td>\n",
       "      <td>...</td>\n",
       "      <td>...</td>\n",
       "      <td>...</td>\n",
       "      <td>...</td>\n",
       "      <td>...</td>\n",
       "    </tr>\n",
       "    <tr>\n",
       "      <th>115</th>\n",
       "      <td>zh</td>\n",
       "      <td>德</td>\n",
       "      <td>德</td>\n",
       "      <td>A \"virtue\" is a quality considered morally goo...</td>\n",
       "      <td>\"德\"是人中被视为道德上好或可取的品质。答案：\"德\"。</td>\n",
       "      <td>\"_\"是人中被视为道德上好或可取的品质。答案：\"德\"。</td>\n",
       "      <td>de</td>\n",
       "      <td>Tugend</td>\n",
       "      <td>A \"virtue\" is a quality considered morally goo...</td>\n",
       "      <td>Eine \"Tugend\" ist eine Eigenschaft, die als mo...</td>\n",
       "      <td>Eine \"___\" ist eine Eigenschaft, die als moral...</td>\n",
       "      <td>no error</td>\n",
       "    </tr>\n",
       "    <tr>\n",
       "      <th>116</th>\n",
       "      <td>zh</td>\n",
       "      <td>水</td>\n",
       "      <td>水</td>\n",
       "      <td>\"A \"water\" is essential for life and is used f...</td>\n",
       "      <td>\"水\"对生命至关重要，用于饮用和清洁。答案：\"水\"。</td>\n",
       "      <td>\"_\"对生命至关重要，用于饮用和清洁。答案：\"水\"。</td>\n",
       "      <td>de</td>\n",
       "      <td>Wasser</td>\n",
       "      <td>\"A \"water\" is essential for life and is used f...</td>\n",
       "      <td>\"A \"Wasser\" ist lebensnotwendig und wird zum T...</td>\n",
       "      <td>\"A \"___\" ist lebensnotwendig und wird zum Trin...</td>\n",
       "      <td>no error</td>\n",
       "    </tr>\n",
       "    <tr>\n",
       "      <th>117</th>\n",
       "      <td>zh</td>\n",
       "      <td>波</td>\n",
       "      <td>波</td>\n",
       "      <td>A \"wave\" is a disturbance that transfers energ...</td>\n",
       "      <td>\"波\"是一种通过物质或空间传递能量的扰动。答案：\"波\"。</td>\n",
       "      <td>\"_\"是一种通过物质或空间传递能量的扰动。答案：\"波\"。</td>\n",
       "      <td>de</td>\n",
       "      <td>Welle</td>\n",
       "      <td>A \"wave\" is a disturbance that transfers energ...</td>\n",
       "      <td>Eine \"Welle\" ist eine Störung, die Energie dur...</td>\n",
       "      <td>Eine \"___\" ist eine Störung, die Energie durch...</td>\n",
       "      <td>no error</td>\n",
       "    </tr>\n",
       "    <tr>\n",
       "      <th>118</th>\n",
       "      <td>zh</td>\n",
       "      <td>木</td>\n",
       "      <td>木</td>\n",
       "      <td>A \"wood\" is used to make furniture. Answer: \"w...</td>\n",
       "      <td>\"木\"用来制作家具。答案：\"木\"。</td>\n",
       "      <td>\"_\"用来制作家具。答案：\"木\"。</td>\n",
       "      <td>de</td>\n",
       "      <td>Holz</td>\n",
       "      <td>A \"wood\" is used to make furniture. Answer: \"w...</td>\n",
       "      <td>Ein \"Holz\" wird für die Herstellung von Möbeln...</td>\n",
       "      <td>Ein \"___\" wird für die Herstellung von Möbeln ...</td>\n",
       "      <td>no error</td>\n",
       "    </tr>\n",
       "    <tr>\n",
       "      <th>119</th>\n",
       "      <td>zh</td>\n",
       "      <td>字</td>\n",
       "      <td>字</td>\n",
       "      <td>A \"word\" is a single distinct meaningful eleme...</td>\n",
       "      <td>\"字\"是语言中单独的、有意义的元素，与其他字一起（或有时单独）用来构成句子，当书写或打印时，...</td>\n",
       "      <td>\"_\"是语言中单独的、有意义的元素，与其他字一起（或有时单独）用来构成句子，当书写或打印时，...</td>\n",
       "      <td>de</td>\n",
       "      <td>Wort</td>\n",
       "      <td>A \"word\" is a single distinct meaningful eleme...</td>\n",
       "      <td>Ein \"Wort\" ist ein einzelnes bedeutungsvolles ...</td>\n",
       "      <td>Ein \"___\" ist ein einzelnes bedeutungsvolles s...</td>\n",
       "      <td>no error</td>\n",
       "    </tr>\n",
       "  </tbody>\n",
       "</table>\n",
       "<p>120 rows × 12 columns</p>\n",
       "</div>"
      ],
      "text/plain": [
       "    lang_zh zh zh_tgt                           blank_prompt_original_zh  \\\n",
       "0        zh  试      试  An \"attempt\" is made when trying to achieve so...   \n",
       "1        zh  包      包     A \"bag\" is used to carry items. Answer: \"bag\".   \n",
       "2        zh  球      球  A \"ball\" is used to play sports like soccer an...   \n",
       "3        zh  美      美  '\"Beauty\" is a characteristic that provides a ...   \n",
       "4        zh  利      利  A \"benefit\" is something that promotes or enha...   \n",
       "..      ... ..    ...                                                ...   \n",
       "115      zh  德      德  A \"virtue\" is a quality considered morally goo...   \n",
       "116      zh  水      水  \"A \"water\" is essential for life and is used f...   \n",
       "117      zh  波      波  A \"wave\" is a disturbance that transfers energ...   \n",
       "118      zh  木      木  A \"wood\" is used to make furniture. Answer: \"w...   \n",
       "119      zh  字      字  A \"word\" is a single distinct meaningful eleme...   \n",
       "\n",
       "                           blank_prompt_translation_zh  \\\n",
       "0                                \"试\"是尝试达成某事的行为。答案：\"试\"。   \n",
       "1                                    \"包\"用来携带物品。答案：\"包\"。   \n",
       "2                              \"球\"用来进行足球和篮球等运动。答案：\"球\"。   \n",
       "3                           \"美\"是提供愉悦或满足感知体验的特征。答案：\"美\"。   \n",
       "4                               \"利\"是促进或增强福祉的东西。答案：\"利\"。   \n",
       "..                                                 ...   \n",
       "115                        \"德\"是人中被视为道德上好或可取的品质。答案：\"德\"。   \n",
       "116                         \"水\"对生命至关重要，用于饮用和清洁。答案：\"水\"。   \n",
       "117                       \"波\"是一种通过物质或空间传递能量的扰动。答案：\"波\"。   \n",
       "118                                  \"木\"用来制作家具。答案：\"木\"。   \n",
       "119  \"字\"是语言中单独的、有意义的元素，与其他字一起（或有时单独）用来构成句子，当书写或打印时，...   \n",
       "\n",
       "                    blank_prompt_translation_masked_zh lang_de         de  \\\n",
       "0                                \"_\"是尝试达成某事的行为。答案：\"试\"。      de    Versuch   \n",
       "1                                    \"_\"用来携带物品。答案：\"包\"。      de     Tasche   \n",
       "2                              \"_\"用来进行足球和篮球等运动。答案：\"球\"。      de       Ball   \n",
       "3                           \"_\"是提供愉悦或满足感知体验的特征。答案：\"美\"。      de  Schönheit   \n",
       "4                               \"_\"是促进或增强福祉的东西。答案：\"利\"。      de     Nutzen   \n",
       "..                                                 ...     ...        ...   \n",
       "115                        \"_\"是人中被视为道德上好或可取的品质。答案：\"德\"。      de     Tugend   \n",
       "116                         \"_\"对生命至关重要，用于饮用和清洁。答案：\"水\"。      de     Wasser   \n",
       "117                       \"_\"是一种通过物质或空间传递能量的扰动。答案：\"波\"。      de      Welle   \n",
       "118                                  \"_\"用来制作家具。答案：\"木\"。      de       Holz   \n",
       "119  \"_\"是语言中单独的、有意义的元素，与其他字一起（或有时单独）用来构成句子，当书写或打印时，...      de       Wort   \n",
       "\n",
       "                              blank_prompt_original_de  \\\n",
       "0    An \"attempt\" is made when trying to achieve so...   \n",
       "1       A \"bag\" is used to carry items. Answer: \"bag\".   \n",
       "2    A \"ball\" is used to play sports like soccer an...   \n",
       "3    '\"Beauty\" is a characteristic that provides a ...   \n",
       "4    A \"benefit\" is something that promotes or enha...   \n",
       "..                                                 ...   \n",
       "115  A \"virtue\" is a quality considered morally goo...   \n",
       "116  \"A \"water\" is essential for life and is used f...   \n",
       "117  A \"wave\" is a disturbance that transfers energ...   \n",
       "118  A \"wood\" is used to make furniture. Answer: \"w...   \n",
       "119  A \"word\" is a single distinct meaningful eleme...   \n",
       "\n",
       "                           blank_prompt_translation_de  \\\n",
       "0    Ein \"Versuch\" wird unternommen, wenn man versu...   \n",
       "1    Eine \"Tasche\" wird zum Tragen von Gegenständen...   \n",
       "2    Ein \"Ball\" wird für Sportarten wie Fußball und...   \n",
       "3    Schönheit\" ist eine Eigenschaft, die ein Wahrn...   \n",
       "4    Ein \"Nutzen\" ist etwas, das das Wohlbefinden f...   \n",
       "..                                                 ...   \n",
       "115  Eine \"Tugend\" ist eine Eigenschaft, die als mo...   \n",
       "116  \"A \"Wasser\" ist lebensnotwendig und wird zum T...   \n",
       "117  Eine \"Welle\" ist eine Störung, die Energie dur...   \n",
       "118  Ein \"Holz\" wird für die Herstellung von Möbeln...   \n",
       "119  Ein \"Wort\" ist ein einzelnes bedeutungsvolles ...   \n",
       "\n",
       "                    blank_prompt_translation_masked_de     error  \n",
       "0    Ein \"___\" wird unternommen, wenn man versucht,...  no error  \n",
       "1    Eine \"___\" wird zum Tragen von Gegenständen ve...  no error  \n",
       "2    Ein \"___\" wird für Sportarten wie Fußball und ...  no error  \n",
       "3    \"___\" ist eine Eigenschaft, die ein Wahrnehmun...  no error  \n",
       "4    Ein \"___\" ist etwas, das das Wohlbefinden förd...  no error  \n",
       "..                                                 ...       ...  \n",
       "115  Eine \"___\" ist eine Eigenschaft, die als moral...  no error  \n",
       "116  \"A \"___\" ist lebensnotwendig und wird zum Trin...  no error  \n",
       "117  Eine \"___\" ist eine Störung, die Energie durch...  no error  \n",
       "118  Ein \"___\" wird für die Herstellung von Möbeln ...  no error  \n",
       "119  Ein \"___\" ist ein einzelnes bedeutungsvolles s...  no error  \n",
       "\n",
       "[120 rows x 12 columns]"
      ]
     },
     "execution_count": 13,
     "metadata": {},
     "output_type": "execute_result"
    }
   ],
   "source": [
    "df_en_target_input"
   ]
  },
  {
   "cell_type": "code",
   "execution_count": 14,
   "id": "500641f5",
   "metadata": {
    "execution": {
     "iopub.execute_input": "2024-02-23T22:35:21.799243Z",
     "iopub.status.busy": "2024-02-23T22:35:21.798887Z",
     "iopub.status.idle": "2024-02-23T22:35:29.703026Z",
     "shell.execute_reply": "2024-02-23T22:35:29.702469Z"
    },
    "papermill": {
     "duration": 7.909872,
     "end_time": "2024-02-23T22:35:29.703897",
     "exception": false,
     "start_time": "2024-02-23T22:35:21.794025",
     "status": "completed"
    },
    "tags": []
   },
   "outputs": [
    {
     "name": "stderr",
     "output_type": "stream",
     "text": [
      "\r",
      "  0%|                                                                                                                                                                                                                       | 0/120 [00:00<?, ?it/s]"
     ]
    },
    {
     "name": "stderr",
     "output_type": "stream",
     "text": [
      "\r",
      "  2%|███▍                                                                                                                                                                                                           | 2/120 [00:00<00:08, 14.37it/s]"
     ]
    },
    {
     "name": "stderr",
     "output_type": "stream",
     "text": [
      "\r",
      "  3%|██████▉                                                                                                                                                                                                        | 4/120 [00:00<00:07, 14.89it/s]"
     ]
    },
    {
     "name": "stderr",
     "output_type": "stream",
     "text": [
      "\r",
      "  5%|██████████▎                                                                                                                                                                                                    | 6/120 [00:00<00:07, 14.77it/s]"
     ]
    },
    {
     "name": "stderr",
     "output_type": "stream",
     "text": [
      "\r",
      "  7%|█████████████▊                                                                                                                                                                                                 | 8/120 [00:00<00:07, 14.95it/s]"
     ]
    },
    {
     "name": "stderr",
     "output_type": "stream",
     "text": [
      "\r",
      "  8%|█████████████████▏                                                                                                                                                                                            | 10/120 [00:00<00:07, 14.85it/s]"
     ]
    },
    {
     "name": "stderr",
     "output_type": "stream",
     "text": [
      "\r",
      " 10%|████████████████████▌                                                                                                                                                                                         | 12/120 [00:00<00:07, 14.97it/s]"
     ]
    },
    {
     "name": "stderr",
     "output_type": "stream",
     "text": [
      "\r",
      " 12%|████████████████████████                                                                                                                                                                                      | 14/120 [00:00<00:07, 14.86it/s]"
     ]
    },
    {
     "name": "stderr",
     "output_type": "stream",
     "text": [
      "\r",
      " 13%|███████████████████████████▍                                                                                                                                                                                  | 16/120 [00:01<00:06, 15.01it/s]"
     ]
    },
    {
     "name": "stderr",
     "output_type": "stream",
     "text": [
      "\r",
      " 15%|██████████████████████████████▉                                                                                                                                                                               | 18/120 [00:01<00:06, 14.90it/s]"
     ]
    },
    {
     "name": "stderr",
     "output_type": "stream",
     "text": [
      "\r",
      " 17%|██████████████████████████████████▎                                                                                                                                                                           | 20/120 [00:01<00:06, 15.02it/s]"
     ]
    },
    {
     "name": "stderr",
     "output_type": "stream",
     "text": [
      "\r",
      " 18%|█████████████████████████████████████▊                                                                                                                                                                        | 22/120 [00:01<00:06, 15.04it/s]"
     ]
    },
    {
     "name": "stderr",
     "output_type": "stream",
     "text": [
      "\r",
      " 20%|█████████████████████████████████████████▏                                                                                                                                                                    | 24/120 [00:01<00:06, 14.90it/s]"
     ]
    },
    {
     "name": "stderr",
     "output_type": "stream",
     "text": [
      "\r",
      " 22%|████████████████████████████████████████████▋                                                                                                                                                                 | 26/120 [00:01<00:06, 15.04it/s]"
     ]
    },
    {
     "name": "stderr",
     "output_type": "stream",
     "text": [
      "\r",
      " 23%|████████████████████████████████████████████████                                                                                                                                                              | 28/120 [00:01<00:06, 15.14it/s]"
     ]
    },
    {
     "name": "stderr",
     "output_type": "stream",
     "text": [
      "\r",
      " 25%|███████████████████████████████████████████████████▌                                                                                                                                                          | 30/120 [00:01<00:05, 15.23it/s]"
     ]
    },
    {
     "name": "stderr",
     "output_type": "stream",
     "text": [
      "\r",
      " 27%|██████████████████████████████████████████████████████▉                                                                                                                                                       | 32/120 [00:02<00:05, 15.27it/s]"
     ]
    },
    {
     "name": "stderr",
     "output_type": "stream",
     "text": [
      "\r",
      " 28%|██████████████████████████████████████████████████████████▎                                                                                                                                                   | 34/120 [00:02<00:05, 15.32it/s]"
     ]
    },
    {
     "name": "stderr",
     "output_type": "stream",
     "text": [
      "\r",
      " 30%|█████████████████████████████████████████████████████████████▊                                                                                                                                                | 36/120 [00:02<00:05, 15.35it/s]"
     ]
    },
    {
     "name": "stderr",
     "output_type": "stream",
     "text": [
      "\r",
      " 32%|█████████████████████████████████████████████████████████████████▏                                                                                                                                            | 38/120 [00:02<00:05, 15.36it/s]"
     ]
    },
    {
     "name": "stderr",
     "output_type": "stream",
     "text": [
      "\r",
      " 33%|████████████████████████████████████████████████████████████████████▋                                                                                                                                         | 40/120 [00:02<00:05, 15.36it/s]"
     ]
    },
    {
     "name": "stderr",
     "output_type": "stream",
     "text": [
      "\r",
      " 35%|████████████████████████████████████████████████████████████████████████                                                                                                                                      | 42/120 [00:02<00:05, 15.40it/s]"
     ]
    },
    {
     "name": "stderr",
     "output_type": "stream",
     "text": [
      "\r",
      " 37%|███████████████████████████████████████████████████████████████████████████▌                                                                                                                                  | 44/120 [00:02<00:04, 15.38it/s]"
     ]
    },
    {
     "name": "stderr",
     "output_type": "stream",
     "text": [
      "\r",
      " 38%|██████████████████████████████████████████████████████████████████████████████▉                                                                                                                               | 46/120 [00:03<00:04, 15.27it/s]"
     ]
    },
    {
     "name": "stderr",
     "output_type": "stream",
     "text": [
      "\r",
      " 40%|██████████████████████████████████████████████████████████████████████████████████▍                                                                                                                           | 48/120 [00:03<00:04, 15.31it/s]"
     ]
    },
    {
     "name": "stderr",
     "output_type": "stream",
     "text": [
      "\r",
      " 42%|█████████████████████████████████████████████████████████████████████████████████████▊                                                                                                                        | 50/120 [00:03<00:04, 15.33it/s]"
     ]
    },
    {
     "name": "stderr",
     "output_type": "stream",
     "text": [
      "\r",
      " 43%|█████████████████████████████████████████████████████████████████████████████████████████▎                                                                                                                    | 52/120 [00:03<00:04, 15.38it/s]"
     ]
    },
    {
     "name": "stderr",
     "output_type": "stream",
     "text": [
      "\r",
      " 45%|████████████████████████████████████████████████████████████████████████████████████████████▋                                                                                                                 | 54/120 [00:03<00:04, 15.40it/s]"
     ]
    },
    {
     "name": "stderr",
     "output_type": "stream",
     "text": [
      "\r",
      " 47%|████████████████████████████████████████████████████████████████████████████████████████████████▏                                                                                                             | 56/120 [00:03<00:04, 15.42it/s]"
     ]
    },
    {
     "name": "stderr",
     "output_type": "stream",
     "text": [
      "\r",
      " 48%|███████████████████████████████████████████████████████████████████████████████████████████████████▌                                                                                                          | 58/120 [00:03<00:04, 15.30it/s]"
     ]
    },
    {
     "name": "stderr",
     "output_type": "stream",
     "text": [
      "\r",
      " 50%|███████████████████████████████████████████████████████████████████████████████████████████████████████                                                                                                       | 60/120 [00:03<00:03, 15.33it/s]"
     ]
    },
    {
     "name": "stderr",
     "output_type": "stream",
     "text": [
      "\r",
      " 52%|██████████████████████████████████████████████████████████████████████████████████████████████████████████▍                                                                                                   | 62/120 [00:04<00:03, 15.37it/s]"
     ]
    },
    {
     "name": "stderr",
     "output_type": "stream",
     "text": [
      "\r",
      " 53%|█████████████████████████████████████████████████████████████████████████████████████████████████████████████▊                                                                                                | 64/120 [00:04<00:03, 15.22it/s]"
     ]
    },
    {
     "name": "stderr",
     "output_type": "stream",
     "text": [
      "\r",
      " 55%|█████████████████████████████████████████████████████████████████████████████████████████████████████████████████▎                                                                                            | 66/120 [00:04<00:03, 15.24it/s]"
     ]
    },
    {
     "name": "stderr",
     "output_type": "stream",
     "text": [
      "\r",
      " 57%|████████████████████████████████████████████████████████████████████████████████████████████████████████████████████▋                                                                                         | 68/120 [00:04<00:03, 15.28it/s]"
     ]
    },
    {
     "name": "stderr",
     "output_type": "stream",
     "text": [
      "\r",
      " 58%|████████████████████████████████████████████████████████████████████████████████████████████████████████████████████████▏                                                                                     | 70/120 [00:04<00:03, 15.28it/s]"
     ]
    },
    {
     "name": "stderr",
     "output_type": "stream",
     "text": [
      "\r",
      " 60%|███████████████████████████████████████████████████████████████████████████████████████████████████████████████████████████▌                                                                                  | 72/120 [00:04<00:03, 15.23it/s]"
     ]
    },
    {
     "name": "stderr",
     "output_type": "stream",
     "text": [
      "\r",
      " 62%|███████████████████████████████████████████████████████████████████████████████████████████████████████████████████████████████                                                                               | 74/120 [00:04<00:03, 15.21it/s]"
     ]
    },
    {
     "name": "stderr",
     "output_type": "stream",
     "text": [
      "\r",
      " 63%|██████████████████████████████████████████████████████████████████████████████████████████████████████████████████████████████████▍                                                                           | 76/120 [00:05<00:02, 15.27it/s]"
     ]
    },
    {
     "name": "stderr",
     "output_type": "stream",
     "text": [
      "\r",
      " 65%|█████████████████████████████████████████████████████████████████████████████████████████████████████████████████████████████████████▉                                                                        | 78/120 [00:05<00:02, 15.24it/s]"
     ]
    },
    {
     "name": "stderr",
     "output_type": "stream",
     "text": [
      "\r",
      " 67%|█████████████████████████████████████████████████████████████████████████████████████████████████████████████████████████████████████████▎                                                                    | 80/120 [00:05<00:02, 15.23it/s]"
     ]
    },
    {
     "name": "stderr",
     "output_type": "stream",
     "text": [
      "\r",
      " 68%|████████████████████████████████████████████████████████████████████████████████████████████████████████████████████████████████████████████▊                                                                 | 82/120 [00:05<00:02, 15.28it/s]"
     ]
    },
    {
     "name": "stderr",
     "output_type": "stream",
     "text": [
      "\r",
      " 70%|████████████████████████████████████████████████████████████████████████████████████████████████████████████████████████████████████████████████▏                                                             | 84/120 [00:05<00:02, 15.29it/s]"
     ]
    },
    {
     "name": "stderr",
     "output_type": "stream",
     "text": [
      "\r",
      " 72%|███████████████████████████████████████████████████████████████████████████████████████████████████████████████████████████████████████████████████▋                                                          | 86/120 [00:05<00:02, 15.34it/s]"
     ]
    },
    {
     "name": "stderr",
     "output_type": "stream",
     "text": [
      "\r",
      " 73%|███████████████████████████████████████████████████████████████████████████████████████████████████████████████████████████████████████████████████████                                                       | 88/120 [00:05<00:02, 15.35it/s]"
     ]
    },
    {
     "name": "stderr",
     "output_type": "stream",
     "text": [
      "\r",
      " 75%|██████████████████████████████████████████████████████████████████████████████████████████████████████████████████████████████████████████████████████████▌                                                   | 90/120 [00:05<00:01, 15.31it/s]"
     ]
    },
    {
     "name": "stderr",
     "output_type": "stream",
     "text": [
      "\r",
      " 77%|█████████████████████████████████████████████████████████████████████████████████████████████████████████████████████████████████████████████████████████████▉                                                | 92/120 [00:06<00:01, 15.32it/s]"
     ]
    },
    {
     "name": "stderr",
     "output_type": "stream",
     "text": [
      "\r",
      " 78%|█████████████████████████████████████████████████████████████████████████████████████████████████████████████████████████████████████████████████████████████████▎                                            | 94/120 [00:06<00:01, 15.38it/s]"
     ]
    },
    {
     "name": "stderr",
     "output_type": "stream",
     "text": [
      "\r",
      " 80%|████████████████████████████████████████████████████████████████████████████████████████████████████████████████████████████████████████████████████████████████████▊                                         | 96/120 [00:06<00:01, 15.36it/s]"
     ]
    },
    {
     "name": "stderr",
     "output_type": "stream",
     "text": [
      "\r",
      " 82%|████████████████████████████████████████████████████████████████████████████████████████████████████████████████████████████████████████████████████████████████████████▏                                     | 98/120 [00:06<00:01, 15.40it/s]"
     ]
    },
    {
     "name": "stderr",
     "output_type": "stream",
     "text": [
      "\r",
      " 83%|██████████████████████████████████████████████████████████████████████████████████████████████████████████████████████████████████████████████████████████████████████████▊                                  | 100/120 [00:06<00:01, 15.35it/s]"
     ]
    },
    {
     "name": "stderr",
     "output_type": "stream",
     "text": [
      "\r",
      " 85%|██████████████████████████████████████████████████████████████████████████████████████████████████████████████████████████████████████████████████████████████████████████████▎                              | 102/120 [00:06<00:01, 15.28it/s]"
     ]
    },
    {
     "name": "stderr",
     "output_type": "stream",
     "text": [
      "\r",
      " 87%|█████████████████████████████████████████████████████████████████████████████████████████████████████████████████████████████████████████████████████████████████████████████████▋                           | 104/120 [00:06<00:01, 15.23it/s]"
     ]
    },
    {
     "name": "stderr",
     "output_type": "stream",
     "text": [
      "\r",
      " 88%|█████████████████████████████████████████████████████████████████████████████████████████████████████████████████████████████████████████████████████████████████████████████████████                        | 106/120 [00:06<00:00, 15.26it/s]"
     ]
    },
    {
     "name": "stderr",
     "output_type": "stream",
     "text": [
      "\r",
      " 90%|████████████████████████████████████████████████████████████████████████████████████████████████████████████████████████████████████████████████████████████████████████████████████████▌                    | 108/120 [00:07<00:00, 15.25it/s]"
     ]
    },
    {
     "name": "stderr",
     "output_type": "stream",
     "text": [
      "\r",
      " 92%|███████████████████████████████████████████████████████████████████████████████████████████████████████████████████████████████████████████████████████████████████████████████████████████▉                 | 110/120 [00:07<00:00, 15.25it/s]"
     ]
    },
    {
     "name": "stderr",
     "output_type": "stream",
     "text": [
      "\r",
      " 93%|███████████████████████████████████████████████████████████████████████████████████████████████████████████████████████████████████████████████████████████████████████████████████████████████▎             | 112/120 [00:07<00:00, 15.29it/s]"
     ]
    },
    {
     "name": "stderr",
     "output_type": "stream",
     "text": [
      "\r",
      " 95%|██████████████████████████████████████████████████████████████████████████████████████████████████████████████████████████████████████████████████████████████████████████████████████████████████▊          | 114/120 [00:07<00:00, 15.34it/s]"
     ]
    },
    {
     "name": "stderr",
     "output_type": "stream",
     "text": [
      "\r",
      " 97%|██████████████████████████████████████████████████████████████████████████████████████████████████████████████████████████████████████████████████████████████████████████████████████████████████████▏      | 116/120 [00:07<00:00, 15.35it/s]"
     ]
    },
    {
     "name": "stderr",
     "output_type": "stream",
     "text": [
      "\r",
      " 98%|█████████████████████████████████████████████████████████████████████████████████████████████████████████████████████████████████████████████████████████████████████████████████████████████████████████▌   | 118/120 [00:07<00:00, 15.39it/s]"
     ]
    },
    {
     "name": "stderr",
     "output_type": "stream",
     "text": [
      "\r",
      "100%|█████████████████████████████████████████████████████████████████████████████████████████████████████████████████████████████████████████████████████████████████████████████████████████████████████████████| 120/120 [00:07<00:00, 15.41it/s]"
     ]
    },
    {
     "name": "stderr",
     "output_type": "stream",
     "text": [
      "\r",
      "100%|█████████████████████████████████████████████████████████████████████████████████████████████████████████████████████████████████████████████████████████████████████████████████████████████████████████████| 120/120 [00:07<00:00, 15.24it/s]"
     ]
    },
    {
     "name": "stderr",
     "output_type": "stream",
     "text": [
      "\n"
     ]
    }
   ],
   "source": [
    "dataset = []\n",
    "for ind in tqdm(range(len(df_en_target_input))):\n",
    "    d = next(sample(df_en_target_input, ind, lang1=input_lang, lang2=target_lang))\n",
    "    if d is None:\n",
    "        continue\n",
    "    dataset.append(d)"
   ]
  },
  {
   "cell_type": "code",
   "execution_count": 15,
   "id": "d786ab1b",
   "metadata": {
    "execution": {
     "iopub.execute_input": "2024-02-23T22:35:29.719276Z",
     "iopub.status.busy": "2024-02-23T22:35:29.719133Z",
     "iopub.status.idle": "2024-02-23T22:35:29.768467Z",
     "shell.execute_reply": "2024-02-23T22:35:29.768072Z"
    },
    "papermill": {
     "duration": 0.058076,
     "end_time": "2024-02-23T22:35:29.769924",
     "exception": false,
     "start_time": "2024-02-23T22:35:29.711848",
     "status": "completed"
    },
    "tags": []
   },
   "outputs": [],
   "source": [
    "df = pd.DataFrame(dataset)\n",
    "os.makedirs(f'{out_dir}/translation', exist_ok=True)\n",
    "df.to_csv(f'{out_dir}/translation/{model_size}_{input_lang}_{target_lang}_dataset.csv', index=False)"
   ]
  },
  {
   "cell_type": "code",
   "execution_count": 16,
   "id": "00e12355",
   "metadata": {
    "execution": {
     "iopub.execute_input": "2024-02-23T22:35:29.783465Z",
     "iopub.status.busy": "2024-02-23T22:35:29.783335Z",
     "iopub.status.idle": "2024-02-23T22:35:29.811177Z",
     "shell.execute_reply": "2024-02-23T22:35:29.810887Z"
    },
    "papermill": {
     "duration": 0.035351,
     "end_time": "2024-02-23T22:35:29.811888",
     "exception": false,
     "start_time": "2024-02-23T22:35:29.776537",
     "status": "completed"
    },
    "tags": []
   },
   "outputs": [
    {
     "data": {
      "text/plain": [
       "'Deutsch: \"Berg\" - 中文: \"山\"\\nDeutsch: \"Süden\" - 中文: \"南\"\\nDeutsch: \"Buch\" - 中文: \"书\"\\nDeutsch: \"Art\" - 中文: \"种\"\\nDeutsch: \"Versuch\" - 中文: \"'"
      ]
     },
     "execution_count": 16,
     "metadata": {},
     "output_type": "execute_result"
    }
   ],
   "source": [
    "df[\"prompt\"][0]"
   ]
  },
  {
   "cell_type": "code",
   "execution_count": 17,
   "id": "94fa55b7",
   "metadata": {
    "execution": {
     "iopub.execute_input": "2024-02-23T22:35:29.826199Z",
     "iopub.status.busy": "2024-02-23T22:35:29.825888Z",
     "iopub.status.idle": "2024-02-23T22:35:29.853185Z",
     "shell.execute_reply": "2024-02-23T22:35:29.852830Z"
    },
    "papermill": {
     "duration": 0.035139,
     "end_time": "2024-02-23T22:35:29.854009",
     "exception": false,
     "start_time": "2024-02-23T22:35:29.818870",
     "status": "completed"
    },
    "tags": []
   },
   "outputs": [],
   "source": [
    "def get_logits(model, prompt,lens):\n",
    "    inputs = tokenizer(prompt, return_tensors=\"pt\").to('cuda')\n",
    "    output = llama(inputs.input_ids, output_hidden_states=True)\n",
    "    hidden_states = output.hidden_states[:-1]\n",
    "    final_lps = output.logits.log_softmax(dim=-1)\n",
    "    tensors=[]\n",
    "    for i in range(len(model.model.layers)):\n",
    "        h = hidden_states[i].squeeze(0)\n",
    "        tensors+=[lens(h, idx=i).detach().cpu()]\n",
    "    tensors= torch.stack(tensors)  \n",
    "    hidden_states = torch.stack(hidden_states).squeeze(1).detach().cpu()\n",
    "    return tensors,hidden_states\n",
    "        "
   ]
  },
  {
   "cell_type": "code",
   "execution_count": 18,
   "id": "25241c49",
   "metadata": {
    "execution": {
     "iopub.execute_input": "2024-02-23T22:35:29.867976Z",
     "iopub.status.busy": "2024-02-23T22:35:29.867856Z",
     "iopub.status.idle": "2024-02-23T22:35:48.358691Z",
     "shell.execute_reply": "2024-02-23T22:35:48.358177Z"
    },
    "papermill": {
     "duration": 18.498992,
     "end_time": "2024-02-23T22:35:48.359839",
     "exception": false,
     "start_time": "2024-02-23T22:35:29.860847",
     "status": "completed"
    },
    "tags": []
   },
   "outputs": [
    {
     "name": "stderr",
     "output_type": "stream",
     "text": [
      "\r",
      "0it [00:00, ?it/s]"
     ]
    },
    {
     "name": "stderr",
     "output_type": "stream",
     "text": [
      "\r",
      "1it [00:00,  1.04it/s]"
     ]
    },
    {
     "name": "stderr",
     "output_type": "stream",
     "text": [
      "\r",
      "2it [00:01,  2.02it/s]"
     ]
    },
    {
     "name": "stderr",
     "output_type": "stream",
     "text": [
      "\r",
      "3it [00:01,  2.92it/s]"
     ]
    },
    {
     "name": "stderr",
     "output_type": "stream",
     "text": [
      "\r",
      "4it [00:01,  3.68it/s]"
     ]
    },
    {
     "name": "stderr",
     "output_type": "stream",
     "text": [
      "\r",
      "5it [00:01,  4.15it/s]"
     ]
    },
    {
     "name": "stderr",
     "output_type": "stream",
     "text": [
      "\r",
      "6it [00:01,  4.78it/s]"
     ]
    },
    {
     "name": "stderr",
     "output_type": "stream",
     "text": [
      "\r",
      "7it [00:01,  5.18it/s]"
     ]
    },
    {
     "name": "stderr",
     "output_type": "stream",
     "text": [
      "\r",
      "8it [00:02,  5.25it/s]"
     ]
    },
    {
     "name": "stderr",
     "output_type": "stream",
     "text": [
      "\r",
      "9it [00:02,  5.61it/s]"
     ]
    },
    {
     "name": "stderr",
     "output_type": "stream",
     "text": [
      "\r",
      "10it [00:02,  5.85it/s]"
     ]
    },
    {
     "name": "stderr",
     "output_type": "stream",
     "text": [
      "\r",
      "11it [00:02,  6.05it/s]"
     ]
    },
    {
     "name": "stderr",
     "output_type": "stream",
     "text": [
      "\r",
      "12it [00:02,  6.24it/s]"
     ]
    },
    {
     "name": "stderr",
     "output_type": "stream",
     "text": [
      "\r",
      "13it [00:02,  6.48it/s]"
     ]
    },
    {
     "name": "stderr",
     "output_type": "stream",
     "text": [
      "\r",
      "14it [00:03,  6.63it/s]"
     ]
    },
    {
     "name": "stderr",
     "output_type": "stream",
     "text": [
      "\r",
      "15it [00:03,  6.75it/s]"
     ]
    },
    {
     "name": "stderr",
     "output_type": "stream",
     "text": [
      "\r",
      "16it [00:03,  6.48it/s]"
     ]
    },
    {
     "name": "stderr",
     "output_type": "stream",
     "text": [
      "\r",
      "17it [00:03,  6.43it/s]"
     ]
    },
    {
     "name": "stderr",
     "output_type": "stream",
     "text": [
      "\r",
      "18it [00:03,  6.50it/s]"
     ]
    },
    {
     "name": "stderr",
     "output_type": "stream",
     "text": [
      "\r",
      "19it [00:03,  6.56it/s]"
     ]
    },
    {
     "name": "stderr",
     "output_type": "stream",
     "text": [
      "\r",
      "20it [00:03,  6.55it/s]"
     ]
    },
    {
     "name": "stderr",
     "output_type": "stream",
     "text": [
      "\r",
      "21it [00:04,  6.39it/s]"
     ]
    },
    {
     "name": "stderr",
     "output_type": "stream",
     "text": [
      "\r",
      "22it [00:04,  6.38it/s]"
     ]
    },
    {
     "name": "stderr",
     "output_type": "stream",
     "text": [
      "\r",
      "23it [00:04,  6.49it/s]"
     ]
    },
    {
     "name": "stderr",
     "output_type": "stream",
     "text": [
      "\r",
      "24it [00:04,  6.48it/s]"
     ]
    },
    {
     "name": "stderr",
     "output_type": "stream",
     "text": [
      "\r",
      "25it [00:04,  6.54it/s]"
     ]
    },
    {
     "name": "stderr",
     "output_type": "stream",
     "text": [
      "\r",
      "26it [00:04,  6.56it/s]"
     ]
    },
    {
     "name": "stderr",
     "output_type": "stream",
     "text": [
      "\r",
      "27it [00:05,  6.55it/s]"
     ]
    },
    {
     "name": "stderr",
     "output_type": "stream",
     "text": [
      "\r",
      "28it [00:05,  6.63it/s]"
     ]
    },
    {
     "name": "stderr",
     "output_type": "stream",
     "text": [
      "\r",
      "29it [00:05,  6.78it/s]"
     ]
    },
    {
     "name": "stderr",
     "output_type": "stream",
     "text": [
      "\r",
      "30it [00:05,  6.99it/s]"
     ]
    },
    {
     "name": "stderr",
     "output_type": "stream",
     "text": [
      "\r",
      "31it [00:05,  7.17it/s]"
     ]
    },
    {
     "name": "stderr",
     "output_type": "stream",
     "text": [
      "\r",
      "32it [00:05,  7.29it/s]"
     ]
    },
    {
     "name": "stderr",
     "output_type": "stream",
     "text": [
      "\r",
      "33it [00:05,  7.37it/s]"
     ]
    },
    {
     "name": "stderr",
     "output_type": "stream",
     "text": [
      "\r",
      "34it [00:05,  7.52it/s]"
     ]
    },
    {
     "name": "stderr",
     "output_type": "stream",
     "text": [
      "\r",
      "35it [00:06,  7.55it/s]"
     ]
    },
    {
     "name": "stderr",
     "output_type": "stream",
     "text": [
      "\r",
      "36it [00:06,  7.58it/s]"
     ]
    },
    {
     "name": "stderr",
     "output_type": "stream",
     "text": [
      "\r",
      "37it [00:06,  6.64it/s]"
     ]
    },
    {
     "name": "stderr",
     "output_type": "stream",
     "text": [
      "\r",
      "38it [00:06,  6.38it/s]"
     ]
    },
    {
     "name": "stderr",
     "output_type": "stream",
     "text": [
      "\r",
      "39it [00:06,  6.33it/s]"
     ]
    },
    {
     "name": "stderr",
     "output_type": "stream",
     "text": [
      "\r",
      "40it [00:06,  6.26it/s]"
     ]
    },
    {
     "name": "stderr",
     "output_type": "stream",
     "text": [
      "\r",
      "41it [00:07,  5.98it/s]"
     ]
    },
    {
     "name": "stderr",
     "output_type": "stream",
     "text": [
      "\r",
      "42it [00:07,  6.06it/s]"
     ]
    },
    {
     "name": "stderr",
     "output_type": "stream",
     "text": [
      "\r",
      "43it [00:07,  6.22it/s]"
     ]
    },
    {
     "name": "stderr",
     "output_type": "stream",
     "text": [
      "\r",
      "44it [00:07,  6.33it/s]"
     ]
    },
    {
     "name": "stderr",
     "output_type": "stream",
     "text": [
      "\r",
      "45it [00:07,  6.49it/s]"
     ]
    },
    {
     "name": "stderr",
     "output_type": "stream",
     "text": [
      "\r",
      "46it [00:07,  6.41it/s]"
     ]
    },
    {
     "name": "stderr",
     "output_type": "stream",
     "text": [
      "\r",
      "47it [00:08,  6.58it/s]"
     ]
    },
    {
     "name": "stderr",
     "output_type": "stream",
     "text": [
      "\r",
      "48it [00:08,  6.86it/s]"
     ]
    },
    {
     "name": "stderr",
     "output_type": "stream",
     "text": [
      "\r",
      "49it [00:08,  7.15it/s]"
     ]
    },
    {
     "name": "stderr",
     "output_type": "stream",
     "text": [
      "\r",
      "50it [00:08,  7.27it/s]"
     ]
    },
    {
     "name": "stderr",
     "output_type": "stream",
     "text": [
      "\r",
      "51it [00:08,  7.38it/s]"
     ]
    },
    {
     "name": "stderr",
     "output_type": "stream",
     "text": [
      "\r",
      "52it [00:08,  7.40it/s]"
     ]
    },
    {
     "name": "stderr",
     "output_type": "stream",
     "text": [
      "\r",
      "53it [00:08,  7.30it/s]"
     ]
    },
    {
     "name": "stderr",
     "output_type": "stream",
     "text": [
      "\r",
      "54it [00:08,  7.23it/s]"
     ]
    },
    {
     "name": "stderr",
     "output_type": "stream",
     "text": [
      "\r",
      "55it [00:09,  6.83it/s]"
     ]
    },
    {
     "name": "stderr",
     "output_type": "stream",
     "text": [
      "\r",
      "56it [00:09,  6.23it/s]"
     ]
    },
    {
     "name": "stderr",
     "output_type": "stream",
     "text": [
      "\r",
      "57it [00:09,  5.89it/s]"
     ]
    },
    {
     "name": "stderr",
     "output_type": "stream",
     "text": [
      "\r",
      "58it [00:09,  6.07it/s]"
     ]
    },
    {
     "name": "stderr",
     "output_type": "stream",
     "text": [
      "\r",
      "59it [00:09,  6.28it/s]"
     ]
    },
    {
     "name": "stderr",
     "output_type": "stream",
     "text": [
      "\r",
      "60it [00:09,  6.43it/s]"
     ]
    },
    {
     "name": "stderr",
     "output_type": "stream",
     "text": [
      "\r",
      "61it [00:10,  6.59it/s]"
     ]
    },
    {
     "name": "stderr",
     "output_type": "stream",
     "text": [
      "\r",
      "62it [00:10,  6.68it/s]"
     ]
    },
    {
     "name": "stderr",
     "output_type": "stream",
     "text": [
      "\r",
      "63it [00:10,  6.77it/s]"
     ]
    },
    {
     "name": "stderr",
     "output_type": "stream",
     "text": [
      "\r",
      "64it [00:10,  6.78it/s]"
     ]
    },
    {
     "name": "stderr",
     "output_type": "stream",
     "text": [
      "\r",
      "65it [00:10,  6.85it/s]"
     ]
    },
    {
     "name": "stderr",
     "output_type": "stream",
     "text": [
      "\r",
      "66it [00:10,  6.69it/s]"
     ]
    },
    {
     "name": "stderr",
     "output_type": "stream",
     "text": [
      "\r",
      "67it [00:10,  6.77it/s]"
     ]
    },
    {
     "name": "stderr",
     "output_type": "stream",
     "text": [
      "\r",
      "68it [00:11,  6.89it/s]"
     ]
    },
    {
     "name": "stderr",
     "output_type": "stream",
     "text": [
      "\r",
      "69it [00:11,  7.01it/s]"
     ]
    },
    {
     "name": "stderr",
     "output_type": "stream",
     "text": [
      "\r",
      "70it [00:11,  7.07it/s]"
     ]
    },
    {
     "name": "stderr",
     "output_type": "stream",
     "text": [
      "\r",
      "71it [00:11,  7.14it/s]"
     ]
    },
    {
     "name": "stderr",
     "output_type": "stream",
     "text": [
      "\r",
      "72it [00:11,  7.16it/s]"
     ]
    },
    {
     "name": "stderr",
     "output_type": "stream",
     "text": [
      "\r",
      "73it [00:11,  7.14it/s]"
     ]
    },
    {
     "name": "stderr",
     "output_type": "stream",
     "text": [
      "\r",
      "74it [00:11,  7.05it/s]"
     ]
    },
    {
     "name": "stderr",
     "output_type": "stream",
     "text": [
      "\r",
      "75it [00:12,  7.11it/s]"
     ]
    },
    {
     "name": "stderr",
     "output_type": "stream",
     "text": [
      "\r",
      "76it [00:12,  7.00it/s]"
     ]
    },
    {
     "name": "stderr",
     "output_type": "stream",
     "text": [
      "\r",
      "77it [00:12,  6.98it/s]"
     ]
    },
    {
     "name": "stderr",
     "output_type": "stream",
     "text": [
      "\r",
      "78it [00:12,  7.04it/s]"
     ]
    },
    {
     "name": "stderr",
     "output_type": "stream",
     "text": [
      "\r",
      "79it [00:12,  7.05it/s]"
     ]
    },
    {
     "name": "stderr",
     "output_type": "stream",
     "text": [
      "\r",
      "80it [00:12,  7.10it/s]"
     ]
    },
    {
     "name": "stderr",
     "output_type": "stream",
     "text": [
      "\r",
      "81it [00:12,  7.09it/s]"
     ]
    },
    {
     "name": "stderr",
     "output_type": "stream",
     "text": [
      "\r",
      "82it [00:13,  7.10it/s]"
     ]
    },
    {
     "name": "stderr",
     "output_type": "stream",
     "text": [
      "\r",
      "83it [00:13,  7.14it/s]"
     ]
    },
    {
     "name": "stderr",
     "output_type": "stream",
     "text": [
      "\r",
      "84it [00:13,  7.08it/s]"
     ]
    },
    {
     "name": "stderr",
     "output_type": "stream",
     "text": [
      "\r",
      "85it [00:13,  7.16it/s]"
     ]
    },
    {
     "name": "stderr",
     "output_type": "stream",
     "text": [
      "\r",
      "86it [00:13,  7.04it/s]"
     ]
    },
    {
     "name": "stderr",
     "output_type": "stream",
     "text": [
      "\r",
      "87it [00:13,  7.03it/s]"
     ]
    },
    {
     "name": "stderr",
     "output_type": "stream",
     "text": [
      "\r",
      "88it [00:13,  6.92it/s]"
     ]
    },
    {
     "name": "stderr",
     "output_type": "stream",
     "text": [
      "\r",
      "89it [00:14,  6.72it/s]"
     ]
    },
    {
     "name": "stderr",
     "output_type": "stream",
     "text": [
      "\r",
      "90it [00:14,  6.79it/s]"
     ]
    },
    {
     "name": "stderr",
     "output_type": "stream",
     "text": [
      "\r",
      "91it [00:14,  6.75it/s]"
     ]
    },
    {
     "name": "stderr",
     "output_type": "stream",
     "text": [
      "\r",
      "92it [00:14,  6.83it/s]"
     ]
    },
    {
     "name": "stderr",
     "output_type": "stream",
     "text": [
      "\r",
      "93it [00:14,  6.89it/s]"
     ]
    },
    {
     "name": "stderr",
     "output_type": "stream",
     "text": [
      "\r",
      "94it [00:14,  6.94it/s]"
     ]
    },
    {
     "name": "stderr",
     "output_type": "stream",
     "text": [
      "\r",
      "95it [00:14,  7.04it/s]"
     ]
    },
    {
     "name": "stderr",
     "output_type": "stream",
     "text": [
      "\r",
      "96it [00:15,  7.13it/s]"
     ]
    },
    {
     "name": "stderr",
     "output_type": "stream",
     "text": [
      "\r",
      "97it [00:15,  7.13it/s]"
     ]
    },
    {
     "name": "stderr",
     "output_type": "stream",
     "text": [
      "\r",
      "98it [00:15,  7.06it/s]"
     ]
    },
    {
     "name": "stderr",
     "output_type": "stream",
     "text": [
      "\r",
      "99it [00:15,  7.00it/s]"
     ]
    },
    {
     "name": "stderr",
     "output_type": "stream",
     "text": [
      "\r",
      "100it [00:15,  6.90it/s]"
     ]
    },
    {
     "name": "stderr",
     "output_type": "stream",
     "text": [
      "\r",
      "101it [00:15,  6.92it/s]"
     ]
    },
    {
     "name": "stderr",
     "output_type": "stream",
     "text": [
      "\r",
      "102it [00:15,  7.00it/s]"
     ]
    },
    {
     "name": "stderr",
     "output_type": "stream",
     "text": [
      "\r",
      "103it [00:16,  7.04it/s]"
     ]
    },
    {
     "name": "stderr",
     "output_type": "stream",
     "text": [
      "\r",
      "104it [00:16,  7.09it/s]"
     ]
    },
    {
     "name": "stderr",
     "output_type": "stream",
     "text": [
      "\r",
      "105it [00:16,  7.07it/s]"
     ]
    },
    {
     "name": "stderr",
     "output_type": "stream",
     "text": [
      "\r",
      "106it [00:16,  7.18it/s]"
     ]
    },
    {
     "name": "stderr",
     "output_type": "stream",
     "text": [
      "\r",
      "107it [00:16,  7.23it/s]"
     ]
    },
    {
     "name": "stderr",
     "output_type": "stream",
     "text": [
      "\r",
      "108it [00:16,  7.36it/s]"
     ]
    },
    {
     "name": "stderr",
     "output_type": "stream",
     "text": [
      "\r",
      "109it [00:16,  7.01it/s]"
     ]
    },
    {
     "name": "stderr",
     "output_type": "stream",
     "text": [
      "\r",
      "110it [00:17,  6.91it/s]"
     ]
    },
    {
     "name": "stderr",
     "output_type": "stream",
     "text": [
      "\r",
      "111it [00:17,  7.00it/s]"
     ]
    },
    {
     "name": "stderr",
     "output_type": "stream",
     "text": [
      "\r",
      "112it [00:17,  7.10it/s]"
     ]
    },
    {
     "name": "stderr",
     "output_type": "stream",
     "text": [
      "\r",
      "113it [00:17,  7.11it/s]"
     ]
    },
    {
     "name": "stderr",
     "output_type": "stream",
     "text": [
      "\r",
      "114it [00:17,  7.21it/s]"
     ]
    },
    {
     "name": "stderr",
     "output_type": "stream",
     "text": [
      "\r",
      "115it [00:17,  7.23it/s]"
     ]
    },
    {
     "name": "stderr",
     "output_type": "stream",
     "text": [
      "\r",
      "116it [00:17,  7.19it/s]"
     ]
    },
    {
     "name": "stderr",
     "output_type": "stream",
     "text": [
      "\r",
      "117it [00:18,  7.19it/s]"
     ]
    },
    {
     "name": "stderr",
     "output_type": "stream",
     "text": [
      "\r",
      "118it [00:18,  7.31it/s]"
     ]
    },
    {
     "name": "stderr",
     "output_type": "stream",
     "text": [
      "\r",
      "119it [00:18,  7.28it/s]"
     ]
    },
    {
     "name": "stderr",
     "output_type": "stream",
     "text": [
      "\r",
      "120it [00:18,  7.35it/s]"
     ]
    },
    {
     "name": "stderr",
     "output_type": "stream",
     "text": [
      "\r",
      "120it [00:18,  6.51it/s]"
     ]
    },
    {
     "name": "stderr",
     "output_type": "stream",
     "text": [
      "\n"
     ]
    }
   ],
   "source": [
    "in_token_probs = []\n",
    "latent_token_probs = []\n",
    "out_token_probs = []\n",
    "entropy = []\n",
    "energy = []\n",
    "latents_all = []\n",
    "\n",
    "for idx, d in tqdm(enumerate(dataset)):\n",
    "    logits,latents = get_logits(llama, d['prompt'],llama_lens)\n",
    "    last = logits[:, -1, :].float().softmax(dim=-1).detach().cpu()\n",
    "    latent_token_probs += [last[:, torch.tensor(d['latent_token_id'])].sum(dim=-1)]\n",
    "    out_token_probs += [last[:, torch.tensor(d['out_token_id'])].sum(dim=-1)]\n",
    "    entropy += [compute_entropy(last)]\n",
    "    latents_all += [latents[:, -1, :].float().detach().cpu().clone()]\n",
    "    latents_normalized = latents[:, -1, :].float()\n",
    "    latents_normalized = latents_normalized / (((latents_normalized**2).mean(dim=-1, keepdim=True))**0.5)\n",
    "    latents_normalized /= (latents_normalized.norm(dim=-1, keepdim=True))\n",
    "    norm = ((U_normalized @ latents_normalized.T)**2).mean(dim=0)**0.5\n",
    "    energy += [norm/avgUU]\n",
    "\n",
    "latent_token_probs = torch.stack(latent_token_probs)\n",
    "out_token_probs = torch.stack(out_token_probs)\n",
    "entropy = torch.stack(entropy)\n",
    "energy = torch.stack(energy)\n",
    "latents = torch.stack(latents_all)"
   ]
  },
  {
   "cell_type": "code",
   "execution_count": 19,
   "id": "680ef0b2",
   "metadata": {
    "execution": {
     "iopub.execute_input": "2024-02-23T22:35:48.385373Z",
     "iopub.status.busy": "2024-02-23T22:35:48.384817Z",
     "iopub.status.idle": "2024-02-23T22:35:48.720783Z",
     "shell.execute_reply": "2024-02-23T22:35:48.720373Z"
    },
    "papermill": {
     "duration": 0.34809,
     "end_time": "2024-02-23T22:35:48.721693",
     "exception": false,
     "start_time": "2024-02-23T22:35:48.373603",
     "status": "completed"
    },
    "tags": []
   },
   "outputs": [
    {
     "name": "stderr",
     "output_type": "stream",
     "text": [
      "/mnt/ssd-1/gpaulo/llm-latent-language/utils.py:52: UserWarning: This figure includes Axes that are not compatible with tight_layout, so results might be incorrect.\n",
      "  plt.tight_layout()\n"
     ]
    },
    {
     "data": {
      "image/png": "[encoded data removed]",
      "text/plain": [
       "<Figure size 500x300 with 3 Axes>"
      ]
     },
     "metadata": {},
     "output_type": "display_data"
    }
   ],
   "source": [
    "size2tik = {'7b': 5, '13b': 5, '70b': 10}\n",
    "fig, ax, ax2 = plot_ci_plus_heatmap(latent_token_probs, entropy, latent, color='tab:orange', tik_step=size2tik[model_size], do_colorbar=True, #, do_colorbar=(model_size=='70b'),\n",
    "nums=[.99, 0.18, 0.025, 0.6])\n",
    "plot_ci(ax2, out_token_probs, target_lang, color='tab:blue', do_lines=False)\n",
    "ax2.set_xlabel('layer')\n",
    "ax2.set_ylabel('probability')\n",
    "if model_size == '7b':\n",
    "    ax2.set_xlim(0, out_token_probs.shape[1]+1)\n",
    "else:\n",
    "    ax2.set_xlim(0, round(out_token_probs.shape[1]/10)*10+1)\n",
    "ax2.set_ylim(0, 1)\n",
    "# make xticks start from 1\n",
    "# put legend on the top left\n",
    "ax2.legend(loc='upper left')\n",
    "os.makedirs(f'{out_dir}/translation', exist_ok=True)\n",
    "\n",
    "plt.savefig(f'{out_dir}/translation/{model_size}_{input_lang}_{target_lang}_probas_ent.jpg', dpi=300, bbox_inches='tight')"
   ]
  },
  {
   "cell_type": "code",
   "execution_count": 20,
   "id": "48c50e4a",
   "metadata": {
    "execution": {
     "iopub.execute_input": "2024-02-23T22:35:48.747492Z",
     "iopub.status.busy": "2024-02-23T22:35:48.747352Z",
     "iopub.status.idle": "2024-02-23T22:35:48.899255Z",
     "shell.execute_reply": "2024-02-23T22:35:48.898857Z"
    },
    "papermill": {
     "duration": 0.16477,
     "end_time": "2024-02-23T22:35:48.900098",
     "exception": false,
     "start_time": "2024-02-23T22:35:48.735328",
     "status": "completed"
    },
    "tags": []
   },
   "outputs": [
    {
     "data": {
      "image/png": "[encoded data removed]",
      "text/plain": [
       "<Figure size 500x300 with 1 Axes>"
      ]
     },
     "metadata": {},
     "output_type": "display_data"
    }
   ],
   "source": [
    "size2tik = {'7b': 5, '13b': 5, '70b': 10}\n",
    "\n",
    "fig, ax2 = plt.subplots(figsize=(5,3))\n",
    "plot_ci(ax2, energy, 'energy', color='tab:green', do_lines=True, tik_step=size2tik[model_size])\n",
    "ax2.set_xlabel('layer')\n",
    "ax2.set_ylabel('energy')\n",
    "if model_size == '7b':\n",
    "    ax2.set_xlim(0, out_token_probs.shape[1]+1)\n",
    "else:\n",
    "    ax2.set_xlim(0, round(out_token_probs.shape[1]/10)*10+1)\n",
    "os.makedirs(f'{out_dir}/translation', exist_ok=True)\n",
    "plt.savefig(f'{out_dir}/translation/{model_size}_{input_lang}_{target_lang}_energy.jpg', dpi=300, bbox_inches='tight')"
   ]
  },
  {
   "cell_type": "code",
   "execution_count": null,
   "id": "de0f66f1",
   "metadata": {
    "papermill": {
     "duration": 0.01088,
     "end_time": "2024-02-23T22:35:48.923120",
     "exception": false,
     "start_time": "2024-02-23T22:35:48.912240",
     "status": "completed"
    },
    "tags": []
   },
   "outputs": [],
   "source": []
  }
 ],
 "metadata": {
  "kernelspec": {
   "display_name": "Python 3 (ipykernel)",
   "language": "python",
   "name": "python3"
  },
  "language_info": {
   "codemirror_mode": {
    "name": "ipython",
    "version": 3
   },
   "file_extension": ".py",
   "mimetype": "text/x-python",
   "name": "python",
   "nbconvert_exporter": "python",
   "pygments_lexer": "ipython3",
   "version": "3.11.5"
  },
  "papermill": {
   "default_parameters": {},
   "duration": 40.713765,
   "end_time": "2024-02-23T22:35:50.152359",
   "environment_variables": {},
   "exception": null,
   "input_path": "Translation.ipynb",
   "output_path": "visuals/executed_notebooks/Translation_tuned-chinese_7b_de_zh.ipynb",
   "parameters": {
    "input_lang": "de",
    "model_size": "7b",
    "target_lang": "zh",
    "type": "tuned-chinese"
   },
   "start_time": "2024-02-23T22:35:09.438594",
   "version": "2.5.0"
  },
  "widgets": {
   "application/vnd.jupyter.widget-state+json": {
    "state": {
     "1065b5e073ac431c9a8a1df9ab744c5f": {
      "model_module": "@jupyter-widgets/controls",
      "model_module_version": "2.0.0",
      "model_name": "ProgressStyleModel",
      "state": {
       "_model_module": "@jupyter-widgets/controls",
       "_model_module_version": "2.0.0",
       "_model_name": "ProgressStyleModel",
       "_view_count": null,
       "_view_module": "@jupyter-widgets/base",
       "_view_module_version": "2.0.0",
       "_view_name": "StyleView",
       "bar_color": null,
       "description_width": ""
      }
     },
     "562257abf14845819d0128174caead9b": {
      "model_module": "@jupyter-widgets/controls",
      "model_module_version": "2.0.0",
      "model_name": "HTMLModel",
      "state": {
       "_dom_classes": [],
       "_model_module": "@jupyter-widgets/controls",
       "_model_module_version": "2.0.0",
       "_model_name": "HTMLModel",
       "_view_count": null,
       "_view_module": "@jupyter-widgets/controls",
       "_view_module_version": "2.0.0",
       "_view_name": "HTMLView",
       "description": "",
       "description_allow_html": false,
       "layout": "IPY_MODEL_b887cb7948e146399c318cd69352d145",
       "placeholder": "​",
       "style": "IPY_MODEL_63aa061c401344e3b8f32572216873ab",
       "tabbable": null,
       "tooltip": null,
       "value": " 2/2 [00:04&lt;00:00,  1.94s/it]"
      }
     },
     "63aa061c401344e3b8f32572216873ab": {
      "model_module": "@jupyter-widgets/controls",
      "model_module_version": "2.0.0",
      "model_name": "HTMLStyleModel",
      "state": {
       "_model_module": "@jupyter-widgets/controls",
       "_model_module_version": "2.0.0",
       "_model_name": "HTMLStyleModel",
       "_view_count": null,
       "_view_module": "@jupyter-widgets/base",
       "_view_module_version": "2.0.0",
       "_view_name": "StyleView",
       "background": null,
       "description_width": "",
       "font_size": null,
       "text_color": null
      }
     },
     "7481b647f0ac45a0938ec5d98ed91050": {
      "model_module": "@jupyter-widgets/controls",
      "model_module_version": "2.0.0",
      "model_name": "FloatProgressModel",
      "state": {
       "_dom_classes": [],
       "_model_module": "@jupyter-widgets/controls",
       "_model_module_version": "2.0.0",
       "_model_name": "FloatProgressModel",
       "_view_count": null,
       "_view_module": "@jupyter-widgets/controls",
       "_view_module_version": "2.0.0",
       "_view_name": "ProgressView",
       "bar_style": "success",
       "description": "",
       "description_allow_html": false,
       "layout": "IPY_MODEL_a43efe20564244d3a472af1fa45e544d",
       "max": 2.0,
       "min": 0.0,
       "orientation": "horizontal",
       "style": "IPY_MODEL_1065b5e073ac431c9a8a1df9ab744c5f",
       "tabbable": null,
       "tooltip": null,
       "value": 2.0
      }
     },
     "7e1754aff9e442ff852a6cd0ab22b79b": {
      "model_module": "@jupyter-widgets/controls",
      "model_module_version": "2.0.0",
      "model_name": "HTMLModel",
      "state": {
       "_dom_classes": [],
       "_model_module": "@jupyter-widgets/controls",
       "_model_module_version": "2.0.0",
       "_model_name": "HTMLModel",
       "_view_count": null,
       "_view_module": "@jupyter-widgets/controls",
       "_view_module_version": "2.0.0",
       "_view_name": "HTMLView",
       "description": "",
       "description_allow_html": false,
       "layout": "IPY_MODEL_f6f9c3a946ba45068b1c8305c060fe37",
       "placeholder": "​",
       "style": "IPY_MODEL_f79d436bda8d4cf7945e2636d9f23630",
       "tabbable": null,
       "tooltip": null,
       "value": "Loading checkpoint shards: 100%"
      }
     },
     "9ec5104178f94c37a89a83a5e42c9df7": {
      "model_module": "@jupyter-widgets/base",
      "model_module_version": "2.0.0",
      "model_name": "LayoutModel",
      "state": {
       "_model_module": "@jupyter-widgets/base",
       "_model_module_version": "2.0.0",
       "_model_name": "LayoutModel",
       "_view_count": null,
       "_view_module": "@jupyter-widgets/base",
       "_view_module_version": "2.0.0",
       "_view_name": "LayoutView",
       "align_content": null,
       "align_items": null,
       "align_self": null,
       "border_bottom": null,
       "border_left": null,
       "border_right": null,
       "border_top": null,
       "bottom": null,
       "display": null,
       "flex": null,
       "flex_flow": null,
       "grid_area": null,
       "grid_auto_columns": null,
       "grid_auto_flow": null,
       "grid_auto_rows": null,
       "grid_column": null,
       "grid_gap": null,
       "grid_row": null,
       "grid_template_areas": null,
       "grid_template_columns": null,
       "grid_template_rows": null,
       "height": null,
       "justify_content": null,
       "justify_items": null,
       "left": null,
       "margin": null,
       "max_height": null,
       "max_width": null,
       "min_height": null,
       "min_width": null,
       "object_fit": null,
       "object_position": null,
       "order": null,
       "overflow": null,
       "padding": null,
       "right": null,
       "top": null,
       "visibility": null,
       "width": null
      }
     },
     "a43efe20564244d3a472af1fa45e544d": {
      "model_module": "@jupyter-widgets/base",
      "model_module_version": "2.0.0",
      "model_name": "LayoutModel",
      "state": {
       "_model_module": "@jupyter-widgets/base",
       "_model_module_version": "2.0.0",
       "_model_name": "LayoutModel",
       "_view_count": null,
       "_view_module": "@jupyter-widgets/base",
       "_view_module_version": "2.0.0",
       "_view_name": "LayoutView",
       "align_content": null,
       "align_items": null,
       "align_self": null,
       "border_bottom": null,
       "border_left": null,
       "border_right": null,
       "border_top": null,
       "bottom": null,
       "display": null,
       "flex": null,
       "flex_flow": null,
       "grid_area": null,
       "grid_auto_columns": null,
       "grid_auto_flow": null,
       "grid_auto_rows": null,
       "grid_column": null,
       "grid_gap": null,
       "grid_row": null,
       "grid_template_areas": null,
       "grid_template_columns": null,
       "grid_template_rows": null,
       "height": null,
       "justify_content": null,
       "justify_items": null,
       "left": null,
       "margin": null,
       "max_height": null,
       "max_width": null,
       "min_height": null,
       "min_width": null,
       "object_fit": null,
       "object_position": null,
       "order": null,
       "overflow": null,
       "padding": null,
       "right": null,
       "top": null,
       "visibility": null,
       "width": null
      }
     },
     "b887cb7948e146399c318cd69352d145": {
      "model_module": "@jupyter-widgets/base",
      "model_module_version": "2.0.0",
      "model_name": "LayoutModel",
      "state": {
       "_model_module": "@jupyter-widgets/base",
       "_model_module_version": "2.0.0",
       "_model_name": "LayoutModel",
       "_view_count": null,
       "_view_module": "@jupyter-widgets/base",
       "_view_module_version": "2.0.0",
       "_view_name": "LayoutView",
       "align_content": null,
       "align_items": null,
       "align_self": null,
       "border_bottom": null,
       "border_left": null,
       "border_right": null,
       "border_top": null,
       "bottom": null,
       "display": null,
       "flex": null,
       "flex_flow": null,
       "grid_area": null,
       "grid_auto_columns": null,
       "grid_auto_flow": null,
       "grid_auto_rows": null,
       "grid_column": null,
       "grid_gap": null,
       "grid_row": null,
       "grid_template_areas": null,
       "grid_template_columns": null,
       "grid_template_rows": null,
       "height": null,
       "justify_content": null,
       "justify_items": null,
       "left": null,
       "margin": null,
       "max_height": null,
       "max_width": null,
       "min_height": null,
       "min_width": null,
       "object_fit": null,
       "object_position": null,
       "order": null,
       "overflow": null,
       "padding": null,
       "right": null,
       "top": null,
       "visibility": null,
       "width": null
      }
     },
     "f6f9c3a946ba45068b1c8305c060fe37": {
      "model_module": "@jupyter-widgets/base",
      "model_module_version": "2.0.0",
      "model_name": "LayoutModel",
      "state": {
       "_model_module": "@jupyter-widgets/base",
       "_model_module_version": "2.0.0",
       "_model_name": "LayoutModel",
       "_view_count": null,
       "_view_module": "@jupyter-widgets/base",
       "_view_module_version": "2.0.0",
       "_view_name": "LayoutView",
       "align_content": null,
       "align_items": null,
       "align_self": null,
       "border_bottom": null,
       "border_left": null,
       "border_right": null,
       "border_top": null,
       "bottom": null,
       "display": null,
       "flex": null,
       "flex_flow": null,
       "grid_area": null,
       "grid_auto_columns": null,
       "grid_auto_flow": null,
       "grid_auto_rows": null,
       "grid_column": null,
       "grid_gap": null,
       "grid_row": null,
       "grid_template_areas": null,
       "grid_template_columns": null,
       "grid_template_rows": null,
       "height": null,
       "justify_content": null,
       "justify_items": null,
       "left": null,
       "margin": null,
       "max_height": null,
       "max_width": null,
       "min_height": null,
       "min_width": null,
       "object_fit": null,
       "object_position": null,
       "order": null,
       "overflow": null,
       "padding": null,
       "right": null,
       "top": null,
       "visibility": null,
       "width": null
      }
     },
     "f79d436bda8d4cf7945e2636d9f23630": {
      "model_module": "@jupyter-widgets/controls",
      "model_module_version": "2.0.0",
      "model_name": "HTMLStyleModel",
      "state": {
       "_model_module": "@jupyter-widgets/controls",
       "_model_module_version": "2.0.0",
       "_model_name": "HTMLStyleModel",
       "_view_count": null,
       "_view_module": "@jupyter-widgets/base",
       "_view_module_version": "2.0.0",
       "_view_name": "StyleView",
       "background": null,
       "description_width": "",
       "font_size": null,
       "text_color": null
      }
     },
     "ff7164784008451ea6d5be300d2813ed": {
      "model_module": "@jupyter-widgets/controls",
      "model_module_version": "2.0.0",
      "model_name": "HBoxModel",
      "state": {
       "_dom_classes": [],
       "_model_module": "@jupyter-widgets/controls",
       "_model_module_version": "2.0.0",
       "_model_name": "HBoxModel",
       "_view_count": null,
       "_view_module": "@jupyter-widgets/controls",
       "_view_module_version": "2.0.0",
       "_view_name": "HBoxView",
       "box_style": "",
       "children": [
        "IPY_MODEL_7e1754aff9e442ff852a6cd0ab22b79b",
        "IPY_MODEL_7481b647f0ac45a0938ec5d98ed91050",
        "IPY_MODEL_562257abf14845819d0128174caead9b"
       ],
       "layout": "IPY_MODEL_9ec5104178f94c37a89a83a5e42c9df7",
       "tabbable": null,
       "tooltip": null
      }
     }
    },
    "version_major": 2,
    "version_minor": 0
   }
  }
 },
 "nbformat": 4,
 "nbformat_minor": 5
}