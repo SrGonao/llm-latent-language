{
 "cells": [
  {
   "cell_type": "code",
   "execution_count": 1,
   "id": "9e266eca-b017-461f-9be4-bec02cae9b28",
   "metadata": {
    "execution": {
     "iopub.execute_input": "2024-02-23T16:37:29.850803Z",
     "iopub.status.busy": "2024-02-23T16:37:29.850603Z",
     "iopub.status.idle": "2024-02-23T16:37:29.863235Z",
     "shell.execute_reply": "2024-02-23T16:37:29.862958Z"
    },
    "papermill": {
     "duration": 0.020377,
     "end_time": "2024-02-23T16:37:29.864203",
     "exception": false,
     "start_time": "2024-02-23T16:37:29.843826",
     "status": "completed"
    },
    "tags": []
   },
   "outputs": [],
   "source": [
    "%load_ext autoreload\n",
    "%autoreload 2"
   ]
  },
  {
   "cell_type": "code",
   "execution_count": 2,
   "id": "fae8a7a9-6902-424e-8e66-b107fccb361f",
   "metadata": {
    "execution": {
     "iopub.execute_input": "2024-02-23T16:37:29.888059Z",
     "iopub.status.busy": "2024-02-23T16:37:29.887796Z",
     "iopub.status.idle": "2024-02-23T16:37:33.315049Z",
     "shell.execute_reply": "2024-02-23T16:37:33.314351Z"
    },
    "papermill": {
     "duration": 3.433062,
     "end_time": "2024-02-23T16:37:33.316412",
     "exception": false,
     "start_time": "2024-02-23T16:37:29.883350",
     "status": "completed"
    },
    "tags": []
   },
   "outputs": [],
   "source": [
    "import pandas as pd\n",
    "import sys\n",
    "import os\n",
    "from dataclasses import dataclass\n",
    "import json\n",
    "import numpy as np\n",
    "from matplotlib import pyplot as plt\n",
    "import seaborn as sns\n",
    "import torch\n",
    "import torch.nn as nn\n",
    "from llamawrapper import load_unemb_only, LlamaHelper\n",
    "import seaborn as sns\n",
    "from scipy.stats import bootstrap\n",
    "from utils import plot_ci, plot_ci_plus_heatmap\n",
    "from tqdm import tqdm\n",
    "from transformers import AutoModelForCausalLM, AutoTokenizer\n",
    "# fix random seed\n",
    "seed = 42\n",
    "np.random.seed(seed)\n",
    "torch.manual_seed(seed)\n",
    "sys.path.append('../tuned-lens')\n",
    "from tuned_lens.nn.lenses import TunedLens,LogitLens"
   ]
  },
  {
   "cell_type": "code",
   "execution_count": 3,
   "id": "1fb93987",
   "metadata": {
    "execution": {
     "iopub.execute_input": "2024-02-23T16:37:33.324889Z",
     "iopub.status.busy": "2024-02-23T16:37:33.324563Z",
     "iopub.status.idle": "2024-02-23T16:37:33.351787Z",
     "shell.execute_reply": "2024-02-23T16:37:33.351250Z"
    },
    "papermill": {
     "duration": 0.032219,
     "end_time": "2024-02-23T16:37:33.352837",
     "exception": false,
     "start_time": "2024-02-23T16:37:33.320618",
     "status": "completed"
    },
    "tags": [
     "parameters"
    ]
   },
   "outputs": [],
   "source": [
    "input_lang = 'fr'\n",
    "target_lang = 'fr'\n",
    "model_size = '7b'\n",
    "prefix = \"./data/langs/\"\n",
    "type = 'logit'"
   ]
  },
  {
   "cell_type": "code",
   "execution_count": 4,
   "id": "32795e60",
   "metadata": {
    "execution": {
     "iopub.execute_input": "2024-02-23T16:37:33.361136Z",
     "iopub.status.busy": "2024-02-23T16:37:33.360972Z",
     "iopub.status.idle": "2024-02-23T16:37:33.386338Z",
     "shell.execute_reply": "2024-02-23T16:37:33.385836Z"
    },
    "papermill": {
     "duration": 0.030399,
     "end_time": "2024-02-23T16:37:33.387407",
     "exception": false,
     "start_time": "2024-02-23T16:37:33.357008",
     "status": "completed"
    },
    "tags": [
     "injected-parameters"
    ]
   },
   "outputs": [],
   "source": [
    "# Parameters\n",
    "model_size = \"7b\"\n",
    "target_lang = \"fr\"\n",
    "input_lang = \"de\"\n",
    "type = \"tuned\"\n"
   ]
  },
  {
   "cell_type": "code",
   "execution_count": 5,
   "id": "33747213",
   "metadata": {
    "execution": {
     "iopub.execute_input": "2024-02-23T16:37:33.395043Z",
     "iopub.status.busy": "2024-02-23T16:37:33.394872Z",
     "iopub.status.idle": "2024-02-23T16:37:48.821004Z",
     "shell.execute_reply": "2024-02-23T16:37:48.820227Z"
    },
    "papermill": {
     "duration": 15.431409,
     "end_time": "2024-02-23T16:37:48.822428",
     "exception": false,
     "start_time": "2024-02-23T16:37:33.391019",
     "status": "completed"
    },
    "tags": []
   },
   "outputs": [
    {
     "data": {
      "application/vnd.jupyter.widget-view+json": {
       "model_id": "daee3d16b4244c75b7255b230b221f04",
       "version_major": 2,
       "version_minor": 0
      },
      "text/plain": [
       "Loading checkpoint shards:   0%|          | 0/2 [00:00<?, ?it/s]"
      ]
     },
     "metadata": {},
     "output_type": "display_data"
    },
    {
     "name": "stdout",
     "output_type": "stream",
     "text": [
      "params.pt AlignmentResearch/tuned-lens space main lens/meta-llama/Llama-2-7b-hf None\n"
     ]
    },
    {
     "data": {
      "application/vnd.jupyter.widget-view+json": {
       "model_id": "2ba2dbde0e14483c86d63f3d95a04066",
       "version_major": 2,
       "version_minor": 0
      },
      "text/plain": [
       "params.pt:   0%|          | 0.00/2.15G [00:00<?, ?B/s]"
      ]
     },
     "metadata": {},
     "output_type": "display_data"
    },
    {
     "data": {
      "application/vnd.jupyter.widget-view+json": {
       "model_id": "f223326e52b1476fa3f429ed88822608",
       "version_major": 2,
       "version_minor": 0
      },
      "text/plain": [
       "(…)ens/meta-llama/Llama-2-7b-hf/config.json:   0%|          | 0.00/258 [00:00<?, ?B/s]"
      ]
     },
     "metadata": {},
     "output_type": "display_data"
    }
   ],
   "source": [
    "df_en_input = pd.read_csv(f'{prefix}{input_lang}/clean.csv').reindex()\n",
    "df_en_target = pd.read_csv(f'{prefix}{target_lang}/clean.csv').reindex()\n",
    "llama = AutoModelForCausalLM.from_pretrained(  # type: ignore\n",
    "                f\"meta-llama/Llama-2-{model_size}-hf\",\n",
    "                device_map={\"\": \"cuda\"},\n",
    "                revision=\"main\",\n",
    "                torch_dtype=\"auto\",\n",
    "                local_files_only=\"true\",cache_dir=\"/mnt/ssd-1/hf_cache/\"\n",
    "            )\n",
    "    \n",
    "latent=\"en\"\n",
    "if type == 'logit':\n",
    "    llama_lens = LogitLens.from_model(llama).to(\"cuda\")\n",
    "    out_dir = f'./visuals/logit'\n",
    "if type == 'tuned':\n",
    "    llama_lens = TunedLens.from_model_and_pretrained(llama,f\"meta-llama/Llama-2-{model_size}-hf\").to(\"cuda\")\n",
    "    out_dir = f'./visuals/tuned'\n",
    "if type == 'tuned-chinese':\n",
    "    llama_lens = TunedLens.from_model_and_pretrained(llama,\"../tuned-lens/my_lenses/chinese\").to(\"cuda\")\n",
    "    out_dir = f'./visuals/tuned-chinese'\n",
    "    latent = 'zh'\n",
    "tokenizer = AutoTokenizer.from_pretrained(\n",
    "                f\"meta-llama/Llama-2-7b-hf\",local_files_only=\"true\",cache_dir=\"/mnt/ssd-1/hf_cache/\"\n",
    "            )"
   ]
  },
  {
   "cell_type": "code",
   "execution_count": 6,
   "id": "bc45e052",
   "metadata": {
    "execution": {
     "iopub.execute_input": "2024-02-23T16:37:48.832420Z",
     "iopub.status.busy": "2024-02-23T16:37:48.832261Z",
     "iopub.status.idle": "2024-02-23T16:37:50.032924Z",
     "shell.execute_reply": "2024-02-23T16:37:50.032295Z"
    },
    "papermill": {
     "duration": 1.205753,
     "end_time": "2024-02-23T16:37:50.033752",
     "exception": false,
     "start_time": "2024-02-23T16:37:48.827999",
     "status": "completed"
    },
    "tags": []
   },
   "outputs": [
    {
     "name": "stdout",
     "output_type": "stream",
     "text": [
      "Sequential(\n",
      "  (0): LlamaRMSNorm()\n",
      "  (1): Linear(in_features=4096, out_features=32000, bias=False)\n",
      ")\n",
      "U torch.Size([32000, 4096]) weights torch.Size([1, 4096])\n"
     ]
    },
    {
     "name": "stdout",
     "output_type": "stream",
     "text": [
      "0.058621685951948166\n"
     ]
    }
   ],
   "source": [
    "unemb = nn.Sequential(llama.model.norm, llama.lm_head)\n",
    "print(unemb)\n",
    "# prepare for energy plots\n",
    "U = list(unemb[1].parameters())[0].detach().cpu().float()\n",
    "weights = list(unemb[0].parameters())[0].detach().cpu().float()\n",
    "print(f'U {U.shape} weights {weights.unsqueeze(0).shape}')\n",
    "U_weighted = U.clone() \n",
    "#U_weighted = U_weighted / ((U_weighted**2).mean(dim=1, keepdim=True))**0.5\n",
    "U_weighted *= weights.unsqueeze(0)\n",
    "U_normalized = U_weighted / ((U_weighted**2).sum(dim=1, keepdim=True))**0.5\n",
    "v = U.shape[0]\n",
    "TT = U_normalized.T @ U_normalized\n",
    "avgUU = (((U_normalized.T @ U_normalized)**2).sum() / v**2)**0.5\n",
    "print(avgUU.item())"
   ]
  },
  {
   "cell_type": "code",
   "execution_count": 7,
   "id": "5686a8d5",
   "metadata": {
    "execution": {
     "iopub.execute_input": "2024-02-23T16:37:50.047639Z",
     "iopub.status.busy": "2024-02-23T16:37:50.047285Z",
     "iopub.status.idle": "2024-02-23T16:37:51.505050Z",
     "shell.execute_reply": "2024-02-23T16:37:51.504430Z"
    },
    "papermill": {
     "duration": 1.467129,
     "end_time": "2024-02-23T16:37:51.505920",
     "exception": false,
     "start_time": "2024-02-23T16:37:50.038791",
     "status": "completed"
    },
    "tags": []
   },
   "outputs": [
    {
     "name": "stdout",
     "output_type": "stream",
     "text": [
      "for fr 68 of 118 are single tokens\n",
      "final length of df_en_fr_de: 94\n"
     ]
    }
   ],
   "source": [
    "count = 0\n",
    "for idx, word in enumerate(df_en_target['word_translation']):\n",
    "    if word in tokenizer.get_vocab() or '▁'+word in tokenizer.get_vocab():\n",
    "        count += 1\n",
    "\n",
    "print(f'for {target_lang} {count} of {len(df_en_target)} are single tokens')\n",
    "\n",
    "if input_lang == target_lang:\n",
    "    df_en_target_input = df_en_target.copy()\n",
    "    df_en_target_input.rename(columns={'word_original': 'en', \n",
    "                                f'word_translation': target_lang if target_lang != 'en' else 'en_tgt'}, \n",
    "                                inplace=True)\n",
    "else:\n",
    "    df_en_target_input = df_en_target.merge(df_en_input, on=['word_original'], suffixes=(f'_{target_lang}', f'_{input_lang}'))\n",
    "    df_en_target_input.rename(columns={'word_original': 'en', \n",
    "                                f'word_translation_{target_lang}': target_lang if target_lang != 'en' else 'en_tgt', \n",
    "                                f'word_translation_{input_lang}': input_lang if input_lang != 'en' else 'en_in'}, \n",
    "                                inplace=True)\n",
    "# delete all rows where en is contained in de or fr\n",
    "if target_lang != 'en':\n",
    "    for i, row in df_en_target_input.iterrows():\n",
    "        if row['en'].lower() in row[target_lang].lower():\n",
    "            df_en_target_input.drop(i, inplace=True)\n",
    "\n",
    "print(f'final length of df_en_{target_lang}_{input_lang}: {len(df_en_target_input)}')"
   ]
  },
  {
   "cell_type": "code",
   "execution_count": 8,
   "id": "eed300f4",
   "metadata": {
    "execution": {
     "iopub.execute_input": "2024-02-23T16:37:51.515757Z",
     "iopub.status.busy": "2024-02-23T16:37:51.515332Z",
     "iopub.status.idle": "2024-02-23T16:37:51.552537Z",
     "shell.execute_reply": "2024-02-23T16:37:51.551968Z"
    },
    "papermill": {
     "duration": 0.042642,
     "end_time": "2024-02-23T16:37:51.553417",
     "exception": false,
     "start_time": "2024-02-23T16:37:51.510775",
     "status": "completed"
    },
    "tags": []
   },
   "outputs": [
    {
     "data": {
      "text/html": [
       "<div>\n",
       "<style scoped>\n",
       "    .dataframe tbody tr th:only-of-type {\n",
       "        vertical-align: middle;\n",
       "    }\n",
       "\n",
       "    .dataframe tbody tr th {\n",
       "        vertical-align: top;\n",
       "    }\n",
       "\n",
       "    .dataframe thead th {\n",
       "        text-align: right;\n",
       "    }\n",
       "</style>\n",
       "<table border=\"1\" class=\"dataframe\">\n",
       "  <thead>\n",
       "    <tr style=\"text-align: right;\">\n",
       "      <th></th>\n",
       "      <th>lang_fr</th>\n",
       "      <th>en</th>\n",
       "      <th>fr</th>\n",
       "      <th>blank_prompt_original_fr</th>\n",
       "      <th>blank_prompt_translation_fr</th>\n",
       "      <th>blank_prompt_translation_masked_fr</th>\n",
       "      <th>error_fr</th>\n",
       "      <th>lang_de</th>\n",
       "      <th>de</th>\n",
       "      <th>blank_prompt_original_de</th>\n",
       "      <th>blank_prompt_translation_de</th>\n",
       "      <th>blank_prompt_translation_masked_de</th>\n",
       "      <th>error_de</th>\n",
       "    </tr>\n",
       "  </thead>\n",
       "  <tbody>\n",
       "    <tr>\n",
       "      <th>0</th>\n",
       "      <td>fr</td>\n",
       "      <td>cloud</td>\n",
       "      <td>nuage</td>\n",
       "      <td>A \"cloud\" is a visible mass of condensed water...</td>\n",
       "      <td>Un \"nuage\" est une masse visible de vapeur d'e...</td>\n",
       "      <td>Un \"___\" est une masse visible de vapeur d'eau...</td>\n",
       "      <td>no error</td>\n",
       "      <td>de</td>\n",
       "      <td>Wolke</td>\n",
       "      <td>A \"cloud\" is a visible mass of condensed water...</td>\n",
       "      <td>Eine \"Wolke\" ist eine sichtbare Masse aus kond...</td>\n",
       "      <td>Eine \"___\" ist eine sichtbare Masse aus konden...</td>\n",
       "      <td>no error</td>\n",
       "    </tr>\n",
       "    <tr>\n",
       "      <th>1</th>\n",
       "      <td>fr</td>\n",
       "      <td>bag</td>\n",
       "      <td>sac</td>\n",
       "      <td>A \"bag\" is used to carry items. Answer: \"bag\".</td>\n",
       "      <td>Un \"sac\" est utilisé pour transporter des obje...</td>\n",
       "      <td>Un \"___\" est utilisé pour transporter des obje...</td>\n",
       "      <td>no error</td>\n",
       "      <td>de</td>\n",
       "      <td>Tasche</td>\n",
       "      <td>A \"bag\" is used to carry items. Answer: \"bag\".</td>\n",
       "      <td>Eine \"Tasche\" wird zum Tragen von Gegenständen...</td>\n",
       "      <td>Eine \"___\" wird zum Tragen von Gegenständen ve...</td>\n",
       "      <td>no error</td>\n",
       "    </tr>\n",
       "    <tr>\n",
       "      <th>2</th>\n",
       "      <td>fr</td>\n",
       "      <td>mouth</td>\n",
       "      <td>bouche</td>\n",
       "      <td>A \"mouth\" is used to eat food and speak. Answe...</td>\n",
       "      <td>La \"bouche\" sert à manger et à parler. Réponse...</td>\n",
       "      <td>La \"___\" sert à manger et à parler. Réponse : ...</td>\n",
       "      <td>no error</td>\n",
       "      <td>de</td>\n",
       "      <td>Mund</td>\n",
       "      <td>A \"mouth\" is used to eat food and speak. Answe...</td>\n",
       "      <td>Ein \"Mund\" wird zum Essen und Sprechen benutzt...</td>\n",
       "      <td>Ein \"___\" wird zum Essen und Sprechen benutzt....</td>\n",
       "      <td>no error</td>\n",
       "    </tr>\n",
       "    <tr>\n",
       "      <th>3</th>\n",
       "      <td>fr</td>\n",
       "      <td>soil</td>\n",
       "      <td>sol</td>\n",
       "      <td>\"A \"soil\" is used for planting trees and crops...</td>\n",
       "      <td>\"Un \"sol\" est utilisé pour planter des arbres ...</td>\n",
       "      <td>\"Un \"___\" est utilisé pour planter des arbres ...</td>\n",
       "      <td>no error</td>\n",
       "      <td>de</td>\n",
       "      <td>Boden</td>\n",
       "      <td>\"A \"soil\" is used for planting trees and crops...</td>\n",
       "      <td>\"Ein \"Boden\" wird für die Anpflanzung von Bäum...</td>\n",
       "      <td>\"Ein \"___\" wird für die Anpflanzung von Bäumen...</td>\n",
       "      <td>no error</td>\n",
       "    </tr>\n",
       "    <tr>\n",
       "      <th>4</th>\n",
       "      <td>fr</td>\n",
       "      <td>mountain</td>\n",
       "      <td>montagne</td>\n",
       "      <td>A \"mountain\" is a large natural elevation of t...</td>\n",
       "      <td>Une \"montagne\" est une grande élévation nature...</td>\n",
       "      <td>Une \"___\" est une grande élévation naturelle d...</td>\n",
       "      <td>no error</td>\n",
       "      <td>de</td>\n",
       "      <td>Berg</td>\n",
       "      <td>A \"mountain\" is a large natural elevation of t...</td>\n",
       "      <td>Ein \"Berg\" ist eine große natürliche Erhebung ...</td>\n",
       "      <td>Ein \"___\" ist eine große natürliche Erhebung a...</td>\n",
       "      <td>no error</td>\n",
       "    </tr>\n",
       "    <tr>\n",
       "      <th>...</th>\n",
       "      <td>...</td>\n",
       "      <td>...</td>\n",
       "      <td>...</td>\n",
       "      <td>...</td>\n",
       "      <td>...</td>\n",
       "      <td>...</td>\n",
       "      <td>...</td>\n",
       "      <td>...</td>\n",
       "      <td>...</td>\n",
       "      <td>...</td>\n",
       "      <td>...</td>\n",
       "      <td>...</td>\n",
       "      <td>...</td>\n",
       "    </tr>\n",
       "    <tr>\n",
       "      <th>104</th>\n",
       "      <td>fr</td>\n",
       "      <td>office</td>\n",
       "      <td>bureau</td>\n",
       "      <td>An \"office\" is a place where people usually do...</td>\n",
       "      <td>Un \"bureau\" est un endroit où les gens font ha...</td>\n",
       "      <td>Un \"___\" est un endroit où les gens font habit...</td>\n",
       "      <td>no error</td>\n",
       "      <td>de</td>\n",
       "      <td>Büro</td>\n",
       "      <td>An \"office\" is a place where people usually do...</td>\n",
       "      <td>Ein \"Büro\" ist ein Ort, an dem Menschen normal...</td>\n",
       "      <td>Ein \"___\" ist ein Ort, an dem Menschen normale...</td>\n",
       "      <td>no error</td>\n",
       "    </tr>\n",
       "    <tr>\n",
       "      <th>105</th>\n",
       "      <td>fr</td>\n",
       "      <td>rise</td>\n",
       "      <td>hausse</td>\n",
       "      <td>\"A \"rise\" is used to describe an increase or u...</td>\n",
       "      <td>\"Une \"hausse\" est utilisée pour décrire une au...</td>\n",
       "      <td>\"Une \"___\" est utilisée pour décrire une augme...</td>\n",
       "      <td>no error</td>\n",
       "      <td>de</td>\n",
       "      <td>Anstieg</td>\n",
       "      <td>\"A \"rise\" is used to describe an increase or u...</td>\n",
       "      <td>\"Ein \"Anstieg\" wird verwendet, um einen Anstie...</td>\n",
       "      <td>\"Ein \"___\" wird verwendet, um einen Anstieg od...</td>\n",
       "      <td>no error</td>\n",
       "    </tr>\n",
       "    <tr>\n",
       "      <th>106</th>\n",
       "      <td>fr</td>\n",
       "      <td>left</td>\n",
       "      <td>gauche</td>\n",
       "      <td>'A \"left\" is a direction opposite to right. An...</td>\n",
       "      <td>Une \"gauche\" est une direction opposée à la dr...</td>\n",
       "      <td>Une \"___\" est une direction opposée à la droit...</td>\n",
       "      <td>no error</td>\n",
       "      <td>de</td>\n",
       "      <td>links</td>\n",
       "      <td>'A \"left\" is a direction opposite to right. An...</td>\n",
       "      <td>Ein \"links\" ist eine Richtung, die der rechten...</td>\n",
       "      <td>Ein \"___\" ist eine Richtung, die der rechten e...</td>\n",
       "      <td>no error</td>\n",
       "    </tr>\n",
       "    <tr>\n",
       "      <th>107</th>\n",
       "      <td>fr</td>\n",
       "      <td>power</td>\n",
       "      <td>pouvoir</td>\n",
       "      <td>\"A \"power\" is used to control or influence peo...</td>\n",
       "      <td>\"Un \"pouvoir\" est utilisé pour contrôler ou in...</td>\n",
       "      <td>\"Un \"___\" est utilisé pour contrôler ou influe...</td>\n",
       "      <td>no error</td>\n",
       "      <td>de</td>\n",
       "      <td>Macht</td>\n",
       "      <td>\"A \"power\" is used to control or influence peo...</td>\n",
       "      <td>\"Eine \"Macht\" wird benutzt, um Menschen oder D...</td>\n",
       "      <td>\"Eine \"___\" wird benutzt, um Menschen oder Din...</td>\n",
       "      <td>no error</td>\n",
       "    </tr>\n",
       "    <tr>\n",
       "      <th>108</th>\n",
       "      <td>fr</td>\n",
       "      <td>summer</td>\n",
       "      <td>été</td>\n",
       "      <td>\"The \"summer\" is a season known for its warm w...</td>\n",
       "      <td>\"L'\"été\" est une saison connue pour son temps ...</td>\n",
       "      <td>\"L'\"___\" est une saison connue pour son temps ...</td>\n",
       "      <td>no error</td>\n",
       "      <td>de</td>\n",
       "      <td>Sommer</td>\n",
       "      <td>\"The \"summer\" is a season known for its warm w...</td>\n",
       "      <td>\"Der \"Sommer\" ist eine Jahreszeit, die für ihr...</td>\n",
       "      <td>\"Der \"___\" ist eine Jahreszeit, die für ihr wa...</td>\n",
       "      <td>no error</td>\n",
       "    </tr>\n",
       "  </tbody>\n",
       "</table>\n",
       "<p>94 rows × 13 columns</p>\n",
       "</div>"
      ],
      "text/plain": [
       "    lang_fr        en        fr  \\\n",
       "0        fr     cloud     nuage   \n",
       "1        fr       bag       sac   \n",
       "2        fr     mouth    bouche   \n",
       "3        fr      soil       sol   \n",
       "4        fr  mountain  montagne   \n",
       "..      ...       ...       ...   \n",
       "104      fr    office    bureau   \n",
       "105      fr      rise    hausse   \n",
       "106      fr      left    gauche   \n",
       "107      fr     power   pouvoir   \n",
       "108      fr    summer       été   \n",
       "\n",
       "                              blank_prompt_original_fr  \\\n",
       "0    A \"cloud\" is a visible mass of condensed water...   \n",
       "1       A \"bag\" is used to carry items. Answer: \"bag\".   \n",
       "2    A \"mouth\" is used to eat food and speak. Answe...   \n",
       "3    \"A \"soil\" is used for planting trees and crops...   \n",
       "4    A \"mountain\" is a large natural elevation of t...   \n",
       "..                                                 ...   \n",
       "104  An \"office\" is a place where people usually do...   \n",
       "105  \"A \"rise\" is used to describe an increase or u...   \n",
       "106  'A \"left\" is a direction opposite to right. An...   \n",
       "107  \"A \"power\" is used to control or influence peo...   \n",
       "108  \"The \"summer\" is a season known for its warm w...   \n",
       "\n",
       "                           blank_prompt_translation_fr  \\\n",
       "0    Un \"nuage\" est une masse visible de vapeur d'e...   \n",
       "1    Un \"sac\" est utilisé pour transporter des obje...   \n",
       "2    La \"bouche\" sert à manger et à parler. Réponse...   \n",
       "3    \"Un \"sol\" est utilisé pour planter des arbres ...   \n",
       "4    Une \"montagne\" est une grande élévation nature...   \n",
       "..                                                 ...   \n",
       "104  Un \"bureau\" est un endroit où les gens font ha...   \n",
       "105  \"Une \"hausse\" est utilisée pour décrire une au...   \n",
       "106  Une \"gauche\" est une direction opposée à la dr...   \n",
       "107  \"Un \"pouvoir\" est utilisé pour contrôler ou in...   \n",
       "108  \"L'\"été\" est une saison connue pour son temps ...   \n",
       "\n",
       "                    blank_prompt_translation_masked_fr  error_fr lang_de  \\\n",
       "0    Un \"___\" est une masse visible de vapeur d'eau...  no error      de   \n",
       "1    Un \"___\" est utilisé pour transporter des obje...  no error      de   \n",
       "2    La \"___\" sert à manger et à parler. Réponse : ...  no error      de   \n",
       "3    \"Un \"___\" est utilisé pour planter des arbres ...  no error      de   \n",
       "4    Une \"___\" est une grande élévation naturelle d...  no error      de   \n",
       "..                                                 ...       ...     ...   \n",
       "104  Un \"___\" est un endroit où les gens font habit...  no error      de   \n",
       "105  \"Une \"___\" est utilisée pour décrire une augme...  no error      de   \n",
       "106  Une \"___\" est une direction opposée à la droit...  no error      de   \n",
       "107  \"Un \"___\" est utilisé pour contrôler ou influe...  no error      de   \n",
       "108  \"L'\"___\" est une saison connue pour son temps ...  no error      de   \n",
       "\n",
       "          de                           blank_prompt_original_de  \\\n",
       "0      Wolke  A \"cloud\" is a visible mass of condensed water...   \n",
       "1     Tasche     A \"bag\" is used to carry items. Answer: \"bag\".   \n",
       "2       Mund  A \"mouth\" is used to eat food and speak. Answe...   \n",
       "3      Boden  \"A \"soil\" is used for planting trees and crops...   \n",
       "4       Berg  A \"mountain\" is a large natural elevation of t...   \n",
       "..       ...                                                ...   \n",
       "104     Büro  An \"office\" is a place where people usually do...   \n",
       "105  Anstieg  \"A \"rise\" is used to describe an increase or u...   \n",
       "106    links  'A \"left\" is a direction opposite to right. An...   \n",
       "107    Macht  \"A \"power\" is used to control or influence peo...   \n",
       "108   Sommer  \"The \"summer\" is a season known for its warm w...   \n",
       "\n",
       "                           blank_prompt_translation_de  \\\n",
       "0    Eine \"Wolke\" ist eine sichtbare Masse aus kond...   \n",
       "1    Eine \"Tasche\" wird zum Tragen von Gegenständen...   \n",
       "2    Ein \"Mund\" wird zum Essen und Sprechen benutzt...   \n",
       "3    \"Ein \"Boden\" wird für die Anpflanzung von Bäum...   \n",
       "4    Ein \"Berg\" ist eine große natürliche Erhebung ...   \n",
       "..                                                 ...   \n",
       "104  Ein \"Büro\" ist ein Ort, an dem Menschen normal...   \n",
       "105  \"Ein \"Anstieg\" wird verwendet, um einen Anstie...   \n",
       "106  Ein \"links\" ist eine Richtung, die der rechten...   \n",
       "107  \"Eine \"Macht\" wird benutzt, um Menschen oder D...   \n",
       "108  \"Der \"Sommer\" ist eine Jahreszeit, die für ihr...   \n",
       "\n",
       "                    blank_prompt_translation_masked_de  error_de  \n",
       "0    Eine \"___\" ist eine sichtbare Masse aus konden...  no error  \n",
       "1    Eine \"___\" wird zum Tragen von Gegenständen ve...  no error  \n",
       "2    Ein \"___\" wird zum Essen und Sprechen benutzt....  no error  \n",
       "3    \"Ein \"___\" wird für die Anpflanzung von Bäumen...  no error  \n",
       "4    Ein \"___\" ist eine große natürliche Erhebung a...  no error  \n",
       "..                                                 ...       ...  \n",
       "104  Ein \"___\" ist ein Ort, an dem Menschen normale...  no error  \n",
       "105  \"Ein \"___\" wird verwendet, um einen Anstieg od...  no error  \n",
       "106  Ein \"___\" ist eine Richtung, die der rechten e...  no error  \n",
       "107  \"Eine \"___\" wird benutzt, um Menschen oder Din...  no error  \n",
       "108  \"Der \"___\" ist eine Jahreszeit, die für ihr wa...  no error  \n",
       "\n",
       "[94 rows x 13 columns]"
      ]
     },
     "execution_count": 8,
     "metadata": {},
     "output_type": "execute_result"
    }
   ],
   "source": [
    "df_en_target_input"
   ]
  },
  {
   "cell_type": "code",
   "execution_count": 9,
   "id": "f0c0a52d",
   "metadata": {
    "execution": {
     "iopub.execute_input": "2024-02-23T16:37:51.562662Z",
     "iopub.status.busy": "2024-02-23T16:37:51.562295Z",
     "iopub.status.idle": "2024-02-23T16:37:51.594472Z",
     "shell.execute_reply": "2024-02-23T16:37:51.593828Z"
    },
    "papermill": {
     "duration": 0.037709,
     "end_time": "2024-02-23T16:37:51.595465",
     "exception": false,
     "start_time": "2024-02-23T16:37:51.557756",
     "status": "completed"
    },
    "tags": []
   },
   "outputs": [],
   "source": [
    "def token_prefixes(token_str: str):\n",
    "    n = len(token_str)\n",
    "    tokens = [token_str[:i] for i in range(1, n+1)]\n",
    "    return tokens \n",
    "\n",
    "def add_spaces(tokens):\n",
    "    return ['▁' + t for t in tokens] + tokens\n",
    "\n",
    "def capitalizations(tokens):\n",
    "    return list(set(tokens))\n",
    "\n",
    "def unicode_prefix_tokid(zh_char = \"云\", tokenizer=tokenizer):\n",
    "    start = zh_char.encode().__str__()[2:-1].split('\\\\x')[1]\n",
    "    unicode_format = '<0x%s>'\n",
    "    start_key = unicode_format%start.upper()\n",
    "    if start_key in tokenizer.get_vocab():\n",
    "        return tokenizer.get_vocab()[start_key]\n",
    "    return None\n",
    "\n",
    "def process_tokens(token_str: str, tokenizer, lang):\n",
    "    with_prefixes = token_prefixes(token_str)\n",
    "    with_spaces = add_spaces(with_prefixes)\n",
    "    with_capitalizations = capitalizations(with_spaces)\n",
    "    final_tokens = []\n",
    "    for tok in with_capitalizations:\n",
    "        if tok in tokenizer.get_vocab():\n",
    "            final_tokens.append(tokenizer.get_vocab()[tok])\n",
    "    if lang in ['zh', 'ru']:\n",
    "        tokid = unicode_prefix_tokid(token_str, tokenizer)\n",
    "        if tokid is not None:\n",
    "            final_tokens.append(tokid)\n",
    "    return final_tokens"
   ]
  },
  {
   "cell_type": "code",
   "execution_count": 10,
   "id": "faa7bb78",
   "metadata": {
    "execution": {
     "iopub.execute_input": "2024-02-23T16:37:51.604441Z",
     "iopub.status.busy": "2024-02-23T16:37:51.604081Z",
     "iopub.status.idle": "2024-02-23T16:37:51.644962Z",
     "shell.execute_reply": "2024-02-23T16:37:51.644447Z"
    },
    "papermill": {
     "duration": 0.046739,
     "end_time": "2024-02-23T16:37:51.646281",
     "exception": false,
     "start_time": "2024-02-23T16:37:51.599542",
     "status": "completed"
    },
    "tags": []
   },
   "outputs": [],
   "source": [
    "\n",
    "id2voc = {id:voc for voc, id in tokenizer.get_vocab().items()}\n",
    "def get_tokens(token_ids, id2voc=id2voc):\n",
    "    return [id2voc[tokid] for tokid in token_ids]\n",
    "\n",
    "def compute_entropy(probas):\n",
    "    return (-probas*torch.log2(probas)).sum(dim=-1)\n",
    "\n",
    "lang2name = {'fr': 'Français', 'de': 'Deutsch', 'ru': 'Русский', 'en': 'English', 'zh': '中文'}\n",
    "def sample(df, ind, k=5, tokenizer=tokenizer, lang1='fr', lang2='de', lang_latent=latent):\n",
    "    df = df.reset_index(drop=True)\n",
    "    temp = df[df.index!=ind]\n",
    "    sample = pd.concat([temp.sample(k-1), df[df.index==ind]], axis=0)\n",
    "    prompt = \"\"\n",
    "    for idx, (df_idx, row) in enumerate(sample.iterrows()):\n",
    "        if idx < k-1:\n",
    "            prompt += f'{lang2name[lang1]}: \"{row[lang1]}\" - {lang2name[lang2]}: \"{row[lang2]}\"\\n'\n",
    "        else:\n",
    "            prompt += f'{lang2name[lang1]}: \"{row[lang1]}\" - {lang2name[lang2]}: \"'\n",
    "            in_token_str = row[lang1]\n",
    "            out_token_str = row[lang2]\n",
    "            out_token_id = process_tokens(out_token_str, tokenizer, lang2)\n",
    "            latent_token_str = row[lang_latent]\n",
    "            latent_token_id = process_tokens(latent_token_str, tokenizer, latent)\n",
    "            intersection = set(out_token_id).intersection(set(latent_token_id))\n",
    "            if len(out_token_id) == 0 or len(latent_token_id) == 0:\n",
    "                yield None\n",
    "            if lang2 != 'en' and len(intersection) > 0:\n",
    "                yield None\n",
    "            yield {'prompt': prompt, \n",
    "                'out_token_id': out_token_id, \n",
    "                'out_token_str': out_token_str,\n",
    "                'latent_token_id': latent_token_id, \n",
    "                'latent_token_str': latent_token_str, \n",
    "                'in_token_str': in_token_str}"
   ]
  },
  {
   "cell_type": "code",
   "execution_count": 11,
   "id": "500641f5",
   "metadata": {
    "execution": {
     "iopub.execute_input": "2024-02-23T16:37:51.655376Z",
     "iopub.status.busy": "2024-02-23T16:37:51.655054Z",
     "iopub.status.idle": "2024-02-23T16:38:12.297069Z",
     "shell.execute_reply": "2024-02-23T16:38:12.296619Z"
    },
    "papermill": {
     "duration": 20.64713,
     "end_time": "2024-02-23T16:38:12.297801",
     "exception": false,
     "start_time": "2024-02-23T16:37:51.650671",
     "status": "completed"
    },
    "tags": []
   },
   "outputs": [
    {
     "name": "stderr",
     "output_type": "stream",
     "text": [
      "\r",
      "  0%|                                                                                                                                                                                                                        | 0/94 [00:00<?, ?it/s]"
     ]
    },
    {
     "name": "stderr",
     "output_type": "stream",
     "text": [
      "\r",
      "  1%|██▏                                                                                                                                                                                                             | 1/94 [00:00<00:20,  4.64it/s]"
     ]
    },
    {
     "name": "stderr",
     "output_type": "stream",
     "text": [
      "\r",
      "  2%|████▍                                                                                                                                                                                                           | 2/94 [00:00<00:16,  5.67it/s]"
     ]
    },
    {
     "name": "stderr",
     "output_type": "stream",
     "text": [
      "\r",
      "  3%|██████▋                                                                                                                                                                                                         | 3/94 [00:00<00:17,  5.11it/s]"
     ]
    },
    {
     "name": "stderr",
     "output_type": "stream",
     "text": [
      "\r",
      "  4%|████████▊                                                                                                                                                                                                       | 4/94 [00:00<00:16,  5.40it/s]"
     ]
    },
    {
     "name": "stderr",
     "output_type": "stream",
     "text": [
      "\r",
      "  5%|███████████                                                                                                                                                                                                     | 5/94 [00:01<00:20,  4.34it/s]"
     ]
    },
    {
     "name": "stderr",
     "output_type": "stream",
     "text": [
      "\r",
      "  6%|█████████████▎                                                                                                                                                                                                  | 6/94 [00:01<00:18,  4.73it/s]"
     ]
    },
    {
     "name": "stderr",
     "output_type": "stream",
     "text": [
      "\r",
      "  7%|███████████████▍                                                                                                                                                                                                | 7/94 [00:01<00:18,  4.76it/s]"
     ]
    },
    {
     "name": "stderr",
     "output_type": "stream",
     "text": [
      "\r",
      "  9%|█████████████████▋                                                                                                                                                                                              | 8/94 [00:01<00:17,  4.88it/s]"
     ]
    },
    {
     "name": "stderr",
     "output_type": "stream",
     "text": [
      "\r",
      " 10%|███████████████████▉                                                                                                                                                                                            | 9/94 [00:01<00:17,  4.79it/s]"
     ]
    },
    {
     "name": "stderr",
     "output_type": "stream",
     "text": [
      "\r",
      " 11%|██████████████████████                                                                                                                                                                                         | 10/94 [00:02<00:19,  4.32it/s]"
     ]
    },
    {
     "name": "stderr",
     "output_type": "stream",
     "text": [
      "\r",
      " 12%|████████████████████████▏                                                                                                                                                                                      | 11/94 [00:02<00:17,  4.68it/s]"
     ]
    },
    {
     "name": "stderr",
     "output_type": "stream",
     "text": [
      "\r",
      " 13%|██████████████████████████▍                                                                                                                                                                                    | 12/94 [00:02<00:16,  4.97it/s]"
     ]
    },
    {
     "name": "stderr",
     "output_type": "stream",
     "text": [
      "\r",
      " 14%|████████████████████████████▋                                                                                                                                                                                  | 13/94 [00:02<00:17,  4.67it/s]"
     ]
    },
    {
     "name": "stderr",
     "output_type": "stream",
     "text": [
      "\r",
      " 15%|██████████████████████████████▊                                                                                                                                                                                | 14/94 [00:02<00:16,  4.77it/s]"
     ]
    },
    {
     "name": "stderr",
     "output_type": "stream",
     "text": [
      "\r",
      " 16%|█████████████████████████████████                                                                                                                                                                              | 15/94 [00:03<00:17,  4.54it/s]"
     ]
    },
    {
     "name": "stderr",
     "output_type": "stream",
     "text": [
      "\r",
      " 17%|███████████████████████████████████▏                                                                                                                                                                           | 16/94 [00:03<00:17,  4.57it/s]"
     ]
    },
    {
     "name": "stderr",
     "output_type": "stream",
     "text": [
      "\r",
      " 18%|█████████████████████████████████████▍                                                                                                                                                                         | 17/94 [00:03<00:16,  4.70it/s]"
     ]
    },
    {
     "name": "stderr",
     "output_type": "stream",
     "text": [
      "\r",
      " 19%|███████████████████████████████████████▋                                                                                                                                                                       | 18/94 [00:03<00:14,  5.14it/s]"
     ]
    },
    {
     "name": "stderr",
     "output_type": "stream",
     "text": [
      "\r",
      " 20%|█████████████████████████████████████████▊                                                                                                                                                                     | 19/94 [00:03<00:14,  5.20it/s]"
     ]
    },
    {
     "name": "stderr",
     "output_type": "stream",
     "text": [
      "\r",
      " 21%|████████████████████████████████████████████                                                                                                                                                                   | 20/94 [00:04<00:14,  5.17it/s]"
     ]
    },
    {
     "name": "stderr",
     "output_type": "stream",
     "text": [
      "\r",
      " 22%|██████████████████████████████████████████████▏                                                                                                                                                                | 21/94 [00:04<00:14,  5.05it/s]"
     ]
    },
    {
     "name": "stderr",
     "output_type": "stream",
     "text": [
      "\r",
      " 23%|████████████████████████████████████████████████▍                                                                                                                                                              | 22/94 [00:04<00:13,  5.46it/s]"
     ]
    },
    {
     "name": "stderr",
     "output_type": "stream",
     "text": [
      "\r",
      " 24%|██████████████████████████████████████████████████▋                                                                                                                                                            | 23/94 [00:04<00:12,  5.55it/s]"
     ]
    },
    {
     "name": "stderr",
     "output_type": "stream",
     "text": [
      "\r",
      " 26%|████████████████████████████████████████████████████▊                                                                                                                                                          | 24/94 [00:04<00:14,  4.78it/s]"
     ]
    },
    {
     "name": "stderr",
     "output_type": "stream",
     "text": [
      "\r",
      " 27%|███████████████████████████████████████████████████████                                                                                                                                                        | 25/94 [00:05<00:13,  4.99it/s]"
     ]
    },
    {
     "name": "stderr",
     "output_type": "stream",
     "text": [
      "\r",
      " 28%|█████████████████████████████████████████████████████████▎                                                                                                                                                     | 26/94 [00:05<00:13,  4.92it/s]"
     ]
    },
    {
     "name": "stderr",
     "output_type": "stream",
     "text": [
      "\r",
      " 29%|███████████████████████████████████████████████████████████▍                                                                                                                                                   | 27/94 [00:05<00:13,  4.87it/s]"
     ]
    },
    {
     "name": "stderr",
     "output_type": "stream",
     "text": [
      "\r",
      " 30%|█████████████████████████████████████████████████████████████▋                                                                                                                                                 | 28/94 [00:05<00:13,  4.97it/s]"
     ]
    },
    {
     "name": "stderr",
     "output_type": "stream",
     "text": [
      "\r",
      " 31%|███████████████████████████████████████████████████████████████▊                                                                                                                                               | 29/94 [00:05<00:13,  4.81it/s]"
     ]
    },
    {
     "name": "stderr",
     "output_type": "stream",
     "text": [
      "\r",
      " 32%|██████████████████████████████████████████████████████████████████                                                                                                                                             | 30/94 [00:06<00:12,  5.33it/s]"
     ]
    },
    {
     "name": "stderr",
     "output_type": "stream",
     "text": [
      "\r",
      " 33%|████████████████████████████████████████████████████████████████████▎                                                                                                                                          | 31/94 [00:06<00:12,  5.25it/s]"
     ]
    },
    {
     "name": "stderr",
     "output_type": "stream",
     "text": [
      "\r",
      " 34%|██████████████████████████████████████████████████████████████████████▍                                                                                                                                        | 32/94 [00:06<00:10,  5.69it/s]"
     ]
    },
    {
     "name": "stderr",
     "output_type": "stream",
     "text": [
      "\r",
      " 35%|████████████████████████████████████████████████████████████████████████▋                                                                                                                                      | 33/94 [00:06<00:11,  5.31it/s]"
     ]
    },
    {
     "name": "stderr",
     "output_type": "stream",
     "text": [
      "\r",
      " 36%|██████████████████████████████████████████████████████████████████████████▊                                                                                                                                    | 34/94 [00:06<00:11,  5.40it/s]"
     ]
    },
    {
     "name": "stderr",
     "output_type": "stream",
     "text": [
      "\r",
      " 37%|█████████████████████████████████████████████████████████████████████████████                                                                                                                                  | 35/94 [00:07<00:11,  4.94it/s]"
     ]
    },
    {
     "name": "stderr",
     "output_type": "stream",
     "text": [
      "\r",
      " 38%|███████████████████████████████████████████████████████████████████████████████▎                                                                                                                               | 36/94 [00:07<00:10,  5.55it/s]"
     ]
    },
    {
     "name": "stderr",
     "output_type": "stream",
     "text": [
      "\r",
      " 39%|█████████████████████████████████████████████████████████████████████████████████▍                                                                                                                             | 37/94 [00:07<00:09,  5.73it/s]"
     ]
    },
    {
     "name": "stderr",
     "output_type": "stream",
     "text": [
      "\r",
      " 40%|███████████████████████████████████████████████████████████████████████████████████▋                                                                                                                           | 38/94 [00:07<00:10,  5.21it/s]"
     ]
    },
    {
     "name": "stderr",
     "output_type": "stream",
     "text": [
      "\r",
      " 41%|█████████████████████████████████████████████████████████████████████████████████████▉                                                                                                                         | 39/94 [00:07<00:10,  5.06it/s]"
     ]
    },
    {
     "name": "stderr",
     "output_type": "stream",
     "text": [
      "\r",
      " 43%|████████████████████████████████████████████████████████████████████████████████████████                                                                                                                       | 40/94 [00:07<00:10,  5.16it/s]"
     ]
    },
    {
     "name": "stderr",
     "output_type": "stream",
     "text": [
      "\r",
      " 44%|██████████████████████████████████████████████████████████████████████████████████████████▎                                                                                                                    | 41/94 [00:08<00:10,  5.20it/s]"
     ]
    },
    {
     "name": "stderr",
     "output_type": "stream",
     "text": [
      "\r",
      " 45%|████████████████████████████████████████████████████████████████████████████████████████████▍                                                                                                                  | 42/94 [00:08<00:09,  5.22it/s]"
     ]
    },
    {
     "name": "stderr",
     "output_type": "stream",
     "text": [
      "\r",
      " 46%|██████████████████████████████████████████████████████████████████████████████████████████████▋                                                                                                                | 43/94 [00:08<00:09,  5.38it/s]"
     ]
    },
    {
     "name": "stderr",
     "output_type": "stream",
     "text": [
      "\r",
      " 47%|████████████████████████████████████████████████████████████████████████████████████████████████▉                                                                                                              | 44/94 [00:08<00:08,  5.75it/s]"
     ]
    },
    {
     "name": "stderr",
     "output_type": "stream",
     "text": [
      "\r",
      " 48%|███████████████████████████████████████████████████████████████████████████████████████████████████                                                                                                            | 45/94 [00:08<00:08,  5.89it/s]"
     ]
    },
    {
     "name": "stderr",
     "output_type": "stream",
     "text": [
      "\r",
      " 49%|█████████████████████████████████████████████████████████████████████████████████████████████████████▎                                                                                                         | 46/94 [00:09<00:09,  5.21it/s]"
     ]
    },
    {
     "name": "stderr",
     "output_type": "stream",
     "text": [
      "\r",
      " 50%|███████████████████████████████████████████████████████████████████████████████████████████████████████▌                                                                                                       | 47/94 [00:09<00:09,  5.05it/s]"
     ]
    },
    {
     "name": "stderr",
     "output_type": "stream",
     "text": [
      "\r",
      " 51%|█████████████████████████████████████████████████████████████████████████████████████████████████████████▋                                                                                                     | 48/94 [00:09<00:07,  5.85it/s]"
     ]
    },
    {
     "name": "stderr",
     "output_type": "stream",
     "text": [
      "\r",
      " 52%|███████████████████████████████████████████████████████████████████████████████████████████████████████████▉                                                                                                   | 49/94 [00:09<00:08,  5.32it/s]"
     ]
    },
    {
     "name": "stderr",
     "output_type": "stream",
     "text": [
      "\r",
      " 53%|██████████████████████████████████████████████████████████████████████████████████████████████████████████████                                                                                                 | 50/94 [00:09<00:08,  5.39it/s]"
     ]
    },
    {
     "name": "stderr",
     "output_type": "stream",
     "text": [
      "\r",
      " 54%|████████████████████████████████████████████████████████████████████████████████████████████████████████████████▎                                                                                              | 51/94 [00:10<00:08,  4.97it/s]"
     ]
    },
    {
     "name": "stderr",
     "output_type": "stream",
     "text": [
      "\r",
      " 55%|██████████████████████████████████████████████████████████████████████████████████████████████████████████████████▌                                                                                            | 52/94 [00:10<00:08,  4.68it/s]"
     ]
    },
    {
     "name": "stderr",
     "output_type": "stream",
     "text": [
      "\r",
      " 56%|████████████████████████████████████████████████████████████████████████████████████████████████████████████████████▋                                                                                          | 53/94 [00:10<00:09,  4.32it/s]"
     ]
    },
    {
     "name": "stderr",
     "output_type": "stream",
     "text": [
      "\r",
      " 57%|██████████████████████████████████████████████████████████████████████████████████████████████████████████████████████▉                                                                                        | 54/94 [00:10<00:09,  4.42it/s]"
     ]
    },
    {
     "name": "stderr",
     "output_type": "stream",
     "text": [
      "\r",
      " 59%|█████████████████████████████████████████████████████████████████████████████████████████████████████████████████████████                                                                                      | 55/94 [00:11<00:08,  4.36it/s]"
     ]
    },
    {
     "name": "stderr",
     "output_type": "stream",
     "text": [
      "\r",
      " 60%|███████████████████████████████████████████████████████████████████████████████████████████████████████████████████████████▎                                                                                   | 56/94 [00:11<00:09,  4.16it/s]"
     ]
    },
    {
     "name": "stderr",
     "output_type": "stream",
     "text": [
      "\r",
      " 61%|█████████████████████████████████████████████████████████████████████████████████████████████████████████████████████████████▌                                                                                 | 57/94 [00:11<00:09,  4.06it/s]"
     ]
    },
    {
     "name": "stderr",
     "output_type": "stream",
     "text": [
      "\r",
      " 62%|███████████████████████████████████████████████████████████████████████████████████████████████████████████████████████████████▋                                                                               | 58/94 [00:11<00:08,  4.01it/s]"
     ]
    },
    {
     "name": "stderr",
     "output_type": "stream",
     "text": [
      "\r",
      " 63%|█████████████████████████████████████████████████████████████████████████████████████████████████████████████████████████████████▉                                                                             | 59/94 [00:12<00:08,  4.18it/s]"
     ]
    },
    {
     "name": "stderr",
     "output_type": "stream",
     "text": [
      "\r",
      " 64%|████████████████████████████████████████████████████████████████████████████████████████████████████████████████████████████████████▏                                                                          | 60/94 [00:12<00:07,  4.45it/s]"
     ]
    },
    {
     "name": "stderr",
     "output_type": "stream",
     "text": [
      "\r",
      " 65%|██████████████████████████████████████████████████████████████████████████████████████████████████████████████████████████████████████▎                                                                        | 61/94 [00:12<00:07,  4.50it/s]"
     ]
    },
    {
     "name": "stderr",
     "output_type": "stream",
     "text": [
      "\r",
      " 66%|████████████████████████████████████████████████████████████████████████████████████████████████████████████████████████████████████████▌                                                                      | 62/94 [00:12<00:06,  4.65it/s]"
     ]
    },
    {
     "name": "stderr",
     "output_type": "stream",
     "text": [
      "\r",
      " 67%|██████████████████████████████████████████████████████████████████████████████████████████████████████████████████████████████████████████▋                                                                    | 63/94 [00:12<00:07,  4.30it/s]"
     ]
    },
    {
     "name": "stderr",
     "output_type": "stream",
     "text": [
      "\r",
      " 68%|████████████████████████████████████████████████████████████████████████████████████████████████████████████████████████████████████████████▉                                                                  | 64/94 [00:13<00:06,  4.37it/s]"
     ]
    },
    {
     "name": "stderr",
     "output_type": "stream",
     "text": [
      "\r",
      " 69%|███████████████████████████████████████████████████████████████████████████████████████████████████████████████████████████████████████████████▏                                                               | 65/94 [00:13<00:06,  4.33it/s]"
     ]
    },
    {
     "name": "stderr",
     "output_type": "stream",
     "text": [
      "\r",
      " 70%|█████████████████████████████████████████████████████████████████████████████████████████████████████████████████████████████████████████████████▎                                                             | 66/94 [00:13<00:07,  3.94it/s]"
     ]
    },
    {
     "name": "stderr",
     "output_type": "stream",
     "text": [
      "\r",
      " 71%|███████████████████████████████████████████████████████████████████████████████████████████████████████████████████████████████████████████████████▌                                                           | 67/94 [00:13<00:06,  4.04it/s]"
     ]
    },
    {
     "name": "stderr",
     "output_type": "stream",
     "text": [
      "\r",
      " 72%|█████████████████████████████████████████████████████████████████████████████████████████████████████████████████████████████████████████████████████▋                                                         | 68/94 [00:14<00:07,  3.43it/s]"
     ]
    },
    {
     "name": "stderr",
     "output_type": "stream",
     "text": [
      "\r",
      " 73%|███████████████████████████████████████████████████████████████████████████████████████████████████████████████████████████████████████████████████████▉                                                       | 69/94 [00:14<00:06,  3.60it/s]"
     ]
    },
    {
     "name": "stderr",
     "output_type": "stream",
     "text": [
      "\r",
      " 74%|██████████████████████████████████████████████████████████████████████████████████████████████████████████████████████████████████████████████████████████▏                                                    | 70/94 [00:14<00:06,  3.88it/s]"
     ]
    },
    {
     "name": "stderr",
     "output_type": "stream",
     "text": [
      "\r",
      " 76%|████████████████████████████████████████████████████████████████████████████████████████████████████████████████████████████████████████████████████████████▎                                                  | 71/94 [00:15<00:06,  3.66it/s]"
     ]
    },
    {
     "name": "stderr",
     "output_type": "stream",
     "text": [
      "\r",
      " 77%|██████████████████████████████████████████████████████████████████████████████████████████████████████████████████████████████████████████████████████████████▌                                                | 72/94 [00:15<00:05,  3.71it/s]"
     ]
    },
    {
     "name": "stderr",
     "output_type": "stream",
     "text": [
      "\r",
      " 78%|████████████████████████████████████████████████████████████████████████████████████████████████████████████████████████████████████████████████████████████████▊                                              | 73/94 [00:15<00:05,  3.56it/s]"
     ]
    },
    {
     "name": "stderr",
     "output_type": "stream",
     "text": [
      "\r",
      " 79%|██████████████████████████████████████████████████████████████████████████████████████████████████████████████████████████████████████████████████████████████████▉                                            | 74/94 [00:15<00:06,  3.31it/s]"
     ]
    },
    {
     "name": "stderr",
     "output_type": "stream",
     "text": [
      "\r",
      " 80%|█████████████████████████████████████████████████████████████████████████████████████████████████████████████████████████████████████████████████████████████████████▏                                         | 75/94 [00:16<00:05,  3.76it/s]"
     ]
    },
    {
     "name": "stderr",
     "output_type": "stream",
     "text": [
      "\r",
      " 81%|███████████████████████████████████████████████████████████████████████████████████████████████████████████████████████████████████████████████████████████████████████▎                                       | 76/94 [00:16<00:04,  3.83it/s]"
     ]
    },
    {
     "name": "stderr",
     "output_type": "stream",
     "text": [
      "\r",
      " 82%|█████████████████████████████████████████████████████████████████████████████████████████████████████████████████████████████████████████████████████████████████████████▌                                     | 77/94 [00:16<00:04,  3.97it/s]"
     ]
    },
    {
     "name": "stderr",
     "output_type": "stream",
     "text": [
      "\r",
      " 83%|███████████████████████████████████████████████████████████████████████████████████████████████████████████████████████████████████████████████████████████████████████████▊                                   | 78/94 [00:16<00:03,  4.08it/s]"
     ]
    },
    {
     "name": "stderr",
     "output_type": "stream",
     "text": [
      "\r",
      " 84%|█████████████████████████████████████████████████████████████████████████████████████████████████████████████████████████████████████████████████████████████████████████████▉                                 | 79/94 [00:17<00:03,  4.10it/s]"
     ]
    },
    {
     "name": "stderr",
     "output_type": "stream",
     "text": [
      "\r",
      " 85%|████████████████████████████████████████████████████████████████████████████████████████████████████████████████████████████████████████████████████████████████████████████████▏                              | 80/94 [00:17<00:03,  4.30it/s]"
     ]
    },
    {
     "name": "stderr",
     "output_type": "stream",
     "text": [
      "\r",
      " 86%|██████████████████████████████████████████████████████████████████████████████████████████████████████████████████████████████████████████████████████████████████████████████████▎                            | 81/94 [00:17<00:03,  3.89it/s]"
     ]
    },
    {
     "name": "stderr",
     "output_type": "stream",
     "text": [
      "\r",
      " 87%|████████████████████████████████████████████████████████████████████████████████████████████████████████████████████████████████████████████████████████████████████████████████████▌                          | 82/94 [00:17<00:03,  3.86it/s]"
     ]
    },
    {
     "name": "stderr",
     "output_type": "stream",
     "text": [
      "\r",
      " 88%|██████████████████████████████████████████████████████████████████████████████████████████████████████████████████████████████████████████████████████████████████████████████████████▊                        | 83/94 [00:18<00:02,  4.12it/s]"
     ]
    },
    {
     "name": "stderr",
     "output_type": "stream",
     "text": [
      "\r",
      " 89%|████████████████████████████████████████████████████████████████████████████████████████████████████████████████████████████████████████████████████████████████████████████████████████▉                      | 84/94 [00:18<00:02,  4.30it/s]"
     ]
    },
    {
     "name": "stderr",
     "output_type": "stream",
     "text": [
      "\r",
      " 90%|███████████████████████████████████████████████████████████████████████████████████████████████████████████████████████████████████████████████████████████████████████████████████████████▏                   | 85/94 [00:18<00:01,  4.70it/s]"
     ]
    },
    {
     "name": "stderr",
     "output_type": "stream",
     "text": [
      "\r",
      " 91%|█████████████████████████████████████████████████████████████████████████████████████████████████████████████████████████████████████████████████████████████████████████████████████████████▍                 | 86/94 [00:18<00:01,  4.34it/s]"
     ]
    },
    {
     "name": "stderr",
     "output_type": "stream",
     "text": [
      "\r",
      " 93%|███████████████████████████████████████████████████████████████████████████████████████████████████████████████████████████████████████████████████████████████████████████████████████████████▌               | 87/94 [00:18<00:01,  4.31it/s]"
     ]
    },
    {
     "name": "stderr",
     "output_type": "stream",
     "text": [
      "\r",
      " 94%|█████████████████████████████████████████████████████████████████████████████████████████████████████████████████████████████████████████████████████████████████████████████████████████████████▊             | 88/94 [00:19<00:01,  4.53it/s]"
     ]
    },
    {
     "name": "stderr",
     "output_type": "stream",
     "text": [
      "\r",
      " 95%|███████████████████████████████████████████████████████████████████████████████████████████████████████████████████████████████████████████████████████████████████████████████████████████████████▉           | 89/94 [00:19<00:01,  4.18it/s]"
     ]
    },
    {
     "name": "stderr",
     "output_type": "stream",
     "text": [
      "\r",
      " 96%|██████████████████████████████████████████████████████████████████████████████████████████████████████████████████████████████████████████████████████████████████████████████████████████████████████▏        | 90/94 [00:19<00:00,  4.10it/s]"
     ]
    },
    {
     "name": "stderr",
     "output_type": "stream",
     "text": [
      "\r",
      " 97%|████████████████████████████████████████████████████████████████████████████████████████████████████████████████████████████████████████████████████████████████████████████████████████████████████████▍      | 91/94 [00:19<00:00,  4.30it/s]"
     ]
    },
    {
     "name": "stderr",
     "output_type": "stream",
     "text": [
      "\r",
      " 98%|██████████████████████████████████████████████████████████████████████████████████████████████████████████████████████████████████████████████████████████████████████████████████████████████████████████▌    | 92/94 [00:20<00:00,  4.41it/s]"
     ]
    },
    {
     "name": "stderr",
     "output_type": "stream",
     "text": [
      "\r",
      " 99%|████████████████████████████████████████████████████████████████████████████████████████████████████████████████████████████████████████████████████████████████████████████████████████████████████████████▊  | 93/94 [00:20<00:00,  4.16it/s]"
     ]
    },
    {
     "name": "stderr",
     "output_type": "stream",
     "text": [
      "\r",
      "100%|███████████████████████████████████████████████████████████████████████████████████████████████████████████████████████████████████████████████████████████████████████████████████████████████████████████████| 94/94 [00:20<00:00,  4.29it/s]"
     ]
    },
    {
     "name": "stderr",
     "output_type": "stream",
     "text": [
      "\r",
      "100%|███████████████████████████████████████████████████████████████████████████████████████████████████████████████████████████████████████████████████████████████████████████████████████████████████████████████| 94/94 [00:20<00:00,  4.56it/s]"
     ]
    },
    {
     "name": "stderr",
     "output_type": "stream",
     "text": [
      "\n"
     ]
    }
   ],
   "source": [
    "dataset = []\n",
    "for ind in tqdm(range(len(df_en_target_input))):\n",
    "    d = next(sample(df_en_target_input, ind, lang1=input_lang, lang2=target_lang))\n",
    "    if d is None:\n",
    "        continue\n",
    "    dataset.append(d)"
   ]
  },
  {
   "cell_type": "code",
   "execution_count": 12,
   "id": "d786ab1b",
   "metadata": {
    "execution": {
     "iopub.execute_input": "2024-02-23T16:38:12.315372Z",
     "iopub.status.busy": "2024-02-23T16:38:12.315225Z",
     "iopub.status.idle": "2024-02-23T16:38:12.350899Z",
     "shell.execute_reply": "2024-02-23T16:38:12.350578Z"
    },
    "papermill": {
     "duration": 0.044376,
     "end_time": "2024-02-23T16:38:12.351653",
     "exception": false,
     "start_time": "2024-02-23T16:38:12.307277",
     "status": "completed"
    },
    "tags": []
   },
   "outputs": [],
   "source": [
    "df = pd.DataFrame(dataset)\n",
    "os.makedirs(f'{out_dir}/translation', exist_ok=True)\n",
    "df.to_csv(f'{out_dir}/translation/{model_size}_{input_lang}_{target_lang}_dataset.csv', index=False)"
   ]
  },
  {
   "cell_type": "code",
   "execution_count": 13,
   "id": "00e12355",
   "metadata": {
    "execution": {
     "iopub.execute_input": "2024-02-23T16:38:12.384201Z",
     "iopub.status.busy": "2024-02-23T16:38:12.384050Z",
     "iopub.status.idle": "2024-02-23T16:38:12.433350Z",
     "shell.execute_reply": "2024-02-23T16:38:12.433028Z"
    },
    "papermill": {
     "duration": 0.077818,
     "end_time": "2024-02-23T16:38:12.437601",
     "exception": false,
     "start_time": "2024-02-23T16:38:12.359783",
     "status": "completed"
    },
    "tags": []
   },
   "outputs": [
    {
     "data": {
      "text/html": [
       "<div>\n",
       "<style scoped>\n",
       "    .dataframe tbody tr th:only-of-type {\n",
       "        vertical-align: middle;\n",
       "    }\n",
       "\n",
       "    .dataframe tbody tr th {\n",
       "        vertical-align: top;\n",
       "    }\n",
       "\n",
       "    .dataframe thead th {\n",
       "        text-align: right;\n",
       "    }\n",
       "</style>\n",
       "<table border=\"1\" class=\"dataframe\">\n",
       "  <thead>\n",
       "    <tr style=\"text-align: right;\">\n",
       "      <th></th>\n",
       "      <th>prompt</th>\n",
       "      <th>out_token_id</th>\n",
       "      <th>out_token_str</th>\n",
       "      <th>latent_token_id</th>\n",
       "      <th>latent_token_str</th>\n",
       "      <th>in_token_str</th>\n",
       "    </tr>\n",
       "  </thead>\n",
       "  <tbody>\n",
       "    <tr>\n",
       "      <th>0</th>\n",
       "      <td>Deutsch: \"acht\" - Français: \"huit\"\\nDeutsch: \"...</td>\n",
       "      <td>[302, 29876, 4948, 3433]</td>\n",
       "      <td>nuage</td>\n",
       "      <td>[9570, 9274, 1067, 15126, 29883, 274, 17184, 2...</td>\n",
       "      <td>cloud</td>\n",
       "      <td>Wolke</td>\n",
       "    </tr>\n",
       "    <tr>\n",
       "      <th>1</th>\n",
       "      <td>Deutsch: \"Meer\" - Français: \"mer\"\\nDeutsch: \"T...</td>\n",
       "      <td>[269, 29879, 7067, 872, 4977]</td>\n",
       "      <td>sac</td>\n",
       "      <td>[9922, 289, 29890, 23156, 19548, 2291]</td>\n",
       "      <td>bag</td>\n",
       "      <td>Tasche</td>\n",
       "    </tr>\n",
       "    <tr>\n",
       "      <th>2</th>\n",
       "      <td>Deutsch: \"Sommer\" - Français: \"été\"\\nDeutsch: ...</td>\n",
       "      <td>[16380, 289, 29890, 1045, 833]</td>\n",
       "      <td>bouche</td>\n",
       "      <td>[29885, 4346, 286, 21026, 29442, 2730, 13394]</td>\n",
       "      <td>mouth</td>\n",
       "      <td>Mund</td>\n",
       "    </tr>\n",
       "    <tr>\n",
       "      <th>3</th>\n",
       "      <td>Deutsch: \"Blume\" - Français: \"fleur\"\\nDeutsch:...</td>\n",
       "      <td>[29883, 274]</td>\n",
       "      <td>cœur</td>\n",
       "      <td>[23057, 354, 298, 29882, 5192, 540, 8293]</td>\n",
       "      <td>heart</td>\n",
       "      <td>Herz</td>\n",
       "    </tr>\n",
       "    <tr>\n",
       "      <th>4</th>\n",
       "      <td>Deutsch: \"Haushalt\" - Français: \"ménage\"\\nDeut...</td>\n",
       "      <td>[29885, 611, 5530, 286, 3396, 655, 24402, 1667]</td>\n",
       "      <td>main</td>\n",
       "      <td>[2350, 3179, 298, 29882, 5905, 447, 1361, 5403]</td>\n",
       "      <td>hand</td>\n",
       "      <td>Hand</td>\n",
       "    </tr>\n",
       "    <tr>\n",
       "      <th>5</th>\n",
       "      <td>Deutsch: \"Krawatte\" - Français: \"cravate\"\\nDeu...</td>\n",
       "      <td>[2212, 29926, 2958, 432, 8121, 20551, 8694]</td>\n",
       "      <td>jour</td>\n",
       "      <td>[29881, 1388, 270, 2462, 3250, 1146]</td>\n",
       "      <td>day</td>\n",
       "      <td>Tag</td>\n",
       "    </tr>\n",
       "    <tr>\n",
       "      <th>6</th>\n",
       "      <td>Deutsch: \"Straße\" - Français: \"rue\"\\nDeutsch: ...</td>\n",
       "      <td>[29948, 904, 2852, 1893]</td>\n",
       "      <td>étoile</td>\n",
       "      <td>[269, 29879, 5173, 8508, 303, 380, 5810, 9523]</td>\n",
       "      <td>star</td>\n",
       "      <td>Stern</td>\n",
       "    </tr>\n",
       "    <tr>\n",
       "      <th>7</th>\n",
       "      <td>Deutsch: \"Gesicht\" - Français: \"visage\"\\nDeuts...</td>\n",
       "      <td>[337, 1253, 276, 18475, 29878, 620, 690, 364]</td>\n",
       "      <td>ressort</td>\n",
       "      <td>[269, 29879, 805, 15099, 6709, 7689, 1028, 4278]</td>\n",
       "      <td>spring</td>\n",
       "      <td>Feder</td>\n",
       "    </tr>\n",
       "    <tr>\n",
       "      <th>8</th>\n",
       "      <td>Deutsch: \"Farbe\" - Français: \"couleur\"\\nDeutsc...</td>\n",
       "      <td>[29880, 301, 6092, 8092, 25081]</td>\n",
       "      <td>lune</td>\n",
       "      <td>[29885, 18786, 4346, 286, 2730]</td>\n",
       "      <td>moon</td>\n",
       "      <td>Mond</td>\n",
       "    </tr>\n",
       "    <tr>\n",
       "      <th>9</th>\n",
       "      <td>Deutsch: \"Kopf\" - Français: \"tête\"\\nDeutsch: \"...</td>\n",
       "      <td>[289, 29890, 1045, 23734, 833]</td>\n",
       "      <td>bois</td>\n",
       "      <td>[8879, 8112, 6115, 29893, 827, 281]</td>\n",
       "      <td>wood</td>\n",
       "      <td>Holz</td>\n",
       "    </tr>\n",
       "    <tr>\n",
       "      <th>10</th>\n",
       "      <td>Deutsch: \"Bahnhof\" - Français: \"gare\"\\nDeutsch...</td>\n",
       "      <td>[305, 5815, 5083, 29883, 274, 25875, 521, 10329]</td>\n",
       "      <td>chanson</td>\n",
       "      <td>[269, 29879, 21453, 578, 577, 1487, 4823, 1100]</td>\n",
       "      <td>song</td>\n",
       "      <td>Lied</td>\n",
       "    </tr>\n",
       "    <tr>\n",
       "      <th>11</th>\n",
       "      <td>Deutsch: \"Brücke\" - Français: \"pont\"\\nDeutsch:...</td>\n",
       "      <td>[29948, 28899, 904, 2852, 1893]</td>\n",
       "      <td>étang</td>\n",
       "      <td>[29886, 1129, 772, 1112, 12509, 282, 2818]</td>\n",
       "      <td>pond</td>\n",
       "      <td>Teich</td>\n",
       "    </tr>\n",
       "    <tr>\n",
       "      <th>12</th>\n",
       "      <td>Deutsch: \"Fuß\" - Français: \"pied\"\\nDeutsch: \"B...</td>\n",
       "      <td>[373, 16504, 29877, 265, 13469, 288, 898]</td>\n",
       "      <td>onde</td>\n",
       "      <td>[27766, 11324, 2766, 29893, 10742, 281]</td>\n",
       "      <td>wave</td>\n",
       "      <td>Welle</td>\n",
       "    </tr>\n",
       "    <tr>\n",
       "      <th>13</th>\n",
       "      <td>Deutsch: \"Auge\" - Français: \"œil\"\\nDeutsch: \"T...</td>\n",
       "      <td>[867, 330, 4071, 17170, 629, 29887]</td>\n",
       "      <td>grotte</td>\n",
       "      <td>[1113, 5777, 24230, 18346, 29883, 274]</td>\n",
       "      <td>cave</td>\n",
       "      <td>Höhle</td>\n",
       "    </tr>\n",
       "    <tr>\n",
       "      <th>14</th>\n",
       "      <td>Deutsch: \"Fuß\" - Français: \"pied\"\\nDeutsch: \"W...</td>\n",
       "      <td>[29885, 1004, 286, 592, 2778, 1050]</td>\n",
       "      <td>mer</td>\n",
       "      <td>[269, 29879, 7205, 409, 344]</td>\n",
       "      <td>sea</td>\n",
       "      <td>Meer</td>\n",
       "    </tr>\n",
       "    <tr>\n",
       "      <th>15</th>\n",
       "      <td>Deutsch: \"Netz\" - Français: \"filet\"\\nDeutsch: ...</td>\n",
       "      <td>[5397, 330, 10364, 24816, 7171, 29887, 3249]</td>\n",
       "      <td>gare</td>\n",
       "      <td>[269, 29879, 5073, 5173, 6112, 380, 303, 19569...</td>\n",
       "      <td>station</td>\n",
       "      <td>Bahnhof</td>\n",
       "    </tr>\n",
       "    <tr>\n",
       "      <th>16</th>\n",
       "      <td>Deutsch: \"Auge\" - Français: \"œil\"\\nDeutsch: \"Z...</td>\n",
       "      <td>[29888, 1445, 7241, 5713, 977, 934, 1777, 285]</td>\n",
       "      <td>filet</td>\n",
       "      <td>[302, 452, 7787, 29876, 1212, 484]</td>\n",
       "      <td>net</td>\n",
       "      <td>Netz</td>\n",
       "    </tr>\n",
       "    <tr>\n",
       "      <th>17</th>\n",
       "      <td>Deutsch: \"Haushalt\" - Français: \"ménage\"\\nDeut...</td>\n",
       "      <td>[1631, 29886, 5036, 15957, 282, 12343, 2930]</td>\n",
       "      <td>pied</td>\n",
       "      <td>[29888, 3661, 6661, 7953, 1181, 5431, 285, 1701]</td>\n",
       "      <td>foot</td>\n",
       "      <td>Fuß</td>\n",
       "    </tr>\n",
       "    <tr>\n",
       "      <th>18</th>\n",
       "      <td>Deutsch: \"Sand\" - Français: \"sable\"\\nDeutsch: ...</td>\n",
       "      <td>[272, 470, 288, 29877]</td>\n",
       "      <td>or</td>\n",
       "      <td>[330, 15192, 748, 7684, 1484, 29887]</td>\n",
       "      <td>gold</td>\n",
       "      <td>Gold</td>\n",
       "    </tr>\n",
       "    <tr>\n",
       "      <th>19</th>\n",
       "      <td>Deutsch: \"Welle\" - Français: \"onde\"\\nDeutsch: ...</td>\n",
       "      <td>[637, 29886, 1129, 772, 1277, 14931, 1971, 282...</td>\n",
       "      <td>porte</td>\n",
       "      <td>[17433, 29881, 437, 270, 3050, 1867]</td>\n",
       "      <td>door</td>\n",
       "      <td>Tür</td>\n",
       "    </tr>\n",
       "    <tr>\n",
       "      <th>20</th>\n",
       "      <td>Deutsch: \"Geschichte\" - Français: \"histoire\"\\n...</td>\n",
       "      <td>[302, 12106, 452, 29876, 484]</td>\n",
       "      <td>neige</td>\n",
       "      <td>[269, 29879, 15007, 5807, 16586]</td>\n",
       "      <td>snow</td>\n",
       "      <td>Schnee</td>\n",
       "    </tr>\n",
       "    <tr>\n",
       "      <th>21</th>\n",
       "      <td>Deutsch: \"Schwanz\" - Français: \"queue\"\\nDeutsc...</td>\n",
       "      <td>[1173, 25042, 923, 29883, 274, 29823, 521, 305]</td>\n",
       "      <td>cheval</td>\n",
       "      <td>[1251, 298, 11231, 29882, 4029, 10435, 5089, 2...</td>\n",
       "      <td>horse</td>\n",
       "      <td>Pferd</td>\n",
       "    </tr>\n",
       "    <tr>\n",
       "      <th>22</th>\n",
       "      <td>Deutsch: \"Quadrat\" - Français: \"carré\"\\nDeutsc...</td>\n",
       "      <td>[443, 348, 29884, 318]</td>\n",
       "      <td>un</td>\n",
       "      <td>[373, 29877, 265, 697, 288, 650]</td>\n",
       "      <td>one</td>\n",
       "      <td>eins</td>\n",
       "    </tr>\n",
       "    <tr>\n",
       "      <th>23</th>\n",
       "      <td>Deutsch: \"Haushalt\" - Français: \"ménage\"\\nDeut...</td>\n",
       "      <td>[29881, 270, 311, 4239, 316]</td>\n",
       "      <td>deux</td>\n",
       "      <td>[29873, 260, 7516, 3252, 10184, 1023]</td>\n",
       "      <td>two</td>\n",
       "      <td>zwei</td>\n",
       "    </tr>\n",
       "    <tr>\n",
       "      <th>24</th>\n",
       "      <td>Deutsch: \"Wort\" - Français: \"mot\"\\nDeutsch: \"a...</td>\n",
       "      <td>[3855, 12134, 21408, 339, 29939, 439]</td>\n",
       "      <td>quatre</td>\n",
       "      <td>[29888, 12584, 1181, 285, 3023, 17823, 1701]</td>\n",
       "      <td>four</td>\n",
       "      <td>vier</td>\n",
       "    </tr>\n",
       "    <tr>\n",
       "      <th>25</th>\n",
       "      <td>Deutsch: \"Turm\" - Français: \"tour\"\\nDeutsch: \"...</td>\n",
       "      <td>[4583, 4670, 29883, 455, 274, 16381, 17256]</td>\n",
       "      <td>cinq</td>\n",
       "      <td>[29888, 7241, 5713, 5320, 285, 20818]</td>\n",
       "      <td>five</td>\n",
       "      <td>fünf</td>\n",
       "    </tr>\n",
       "    <tr>\n",
       "      <th>26</th>\n",
       "      <td>Deutsch: \"Büro\" - Français: \"bureau\"\\nDeutsch:...</td>\n",
       "      <td>[6905, 298, 29882, 27052, 15669, 22888]</td>\n",
       "      <td>huit</td>\n",
       "      <td>[321, 10096, 29319, 15761, 9475, 29872]</td>\n",
       "      <td>eight</td>\n",
       "      <td>acht</td>\n",
       "    </tr>\n",
       "    <tr>\n",
       "      <th>27</th>\n",
       "      <td>Deutsch: \"Sand\" - Français: \"sable\"\\nDeutsch: ...</td>\n",
       "      <td>[23386, 652, 29881, 270, 6051]</td>\n",
       "      <td>dix</td>\n",
       "      <td>[29873, 841, 371, 260, 734, 3006]</td>\n",
       "      <td>ten</td>\n",
       "      <td>zehn</td>\n",
       "    </tr>\n",
       "    <tr>\n",
       "      <th>28</th>\n",
       "      <td>Deutsch: \"Quadrat\" - Français: \"carré\"\\nDeutsc...</td>\n",
       "      <td>[17949, 29873, 260]</td>\n",
       "      <td>tête</td>\n",
       "      <td>[2343, 354, 298, 29882, 2813, 540]</td>\n",
       "      <td>head</td>\n",
       "      <td>Kopf</td>\n",
       "    </tr>\n",
       "    <tr>\n",
       "      <th>29</th>\n",
       "      <td>Deutsch: \"Wolke\" - Français: \"nuage\"\\nDeutsch:...</td>\n",
       "      <td>[2571, 9922, 3719, 289, 29890, 4980, 27628, 98...</td>\n",
       "      <td>bande</td>\n",
       "      <td>[269, 851, 17820, 29879, 17010, 303, 380, 710,...</td>\n",
       "      <td>strip</td>\n",
       "      <td>Streifen</td>\n",
       "    </tr>\n",
       "    <tr>\n",
       "      <th>30</th>\n",
       "      <td>Deutsch: \"Fuß\" - Français: \"pied\"\\nDeutsch: \"G...</td>\n",
       "      <td>[364, 5796, 29878, 16014, 582]</td>\n",
       "      <td>rue</td>\n",
       "      <td>[269, 851, 29879, 29352, 12243, 11952, 303, 38...</td>\n",
       "      <td>street</td>\n",
       "      <td>Straße</td>\n",
       "    </tr>\n",
       "    <tr>\n",
       "      <th>31</th>\n",
       "      <td>Deutsch: \"Boden\" - Français: \"sol\"\\nDeutsch: \"...</td>\n",
       "      <td>[30106]</td>\n",
       "      <td>œil</td>\n",
       "      <td>[321, 10977, 1032, 29872]</td>\n",
       "      <td>eye</td>\n",
       "      <td>Auge</td>\n",
       "    </tr>\n",
       "    <tr>\n",
       "      <th>32</th>\n",
       "      <td>Deutsch: \"Kind\" - Français: \"enfant\"\\nDeutsch:...</td>\n",
       "      <td>[18480, 305, 5815, 29883, 11179, 274, 521, 10329]</td>\n",
       "      <td>champ</td>\n",
       "      <td>[29888, 2671, 7241, 5713, 29607, 285, 1746]</td>\n",
       "      <td>field</td>\n",
       "      <td>Feld</td>\n",
       "    </tr>\n",
       "    <tr>\n",
       "      <th>33</th>\n",
       "      <td>Deutsch: \"Plattform\" - Français: \"plate-forme\"...</td>\n",
       "      <td>[29885, 14817, 4346, 286, 3184, 2730]</td>\n",
       "      <td>mot</td>\n",
       "      <td>[1742, 8879, 1734, 13762, 29893, 827, 6365, 281]</td>\n",
       "      <td>word</td>\n",
       "      <td>Wort</td>\n",
       "    </tr>\n",
       "    <tr>\n",
       "      <th>34</th>\n",
       "      <td>Deutsch: \"Pferd\" - Français: \"cheval\"\\nDeutsch...</td>\n",
       "      <td>[3737, 29885, 286, 19958, 23853, 2460, 3533, 2...</td>\n",
       "      <td>mille</td>\n",
       "      <td>[29873, 7693, 260, 12595, 266, 10405, 386]</td>\n",
       "      <td>thousand</td>\n",
       "      <td>tausend</td>\n",
       "    </tr>\n",
       "    <tr>\n",
       "      <th>35</th>\n",
       "      <td>Deutsch: \"Hand\" - Français: \"main\"\\nDeutsch: \"...</td>\n",
       "      <td>[16380, 6526, 289, 29890, 1045, 833]</td>\n",
       "      <td>bourse</td>\n",
       "      <td>[5566, 321, 735, 14523, 6543, 429, 29872]</td>\n",
       "      <td>exchange</td>\n",
       "      <td>Börse</td>\n",
       "    </tr>\n",
       "    <tr>\n",
       "      <th>36</th>\n",
       "      <td>Deutsch: \"Mutter\" - Français: \"mère\"\\nDeutsch:...</td>\n",
       "      <td>[1737, 2531, 330, 479, 1885, 29887, 16151]</td>\n",
       "      <td>genre</td>\n",
       "      <td>[29895, 9089, 2924, 1984, 14380, 19015, 8506, ...</td>\n",
       "      <td>kind</td>\n",
       "      <td>Art</td>\n",
       "    </tr>\n",
       "    <tr>\n",
       "      <th>37</th>\n",
       "      <td>Deutsch: \"Wort\" - Français: \"mot\"\\nDeutsch: \"F...</td>\n",
       "      <td>[4582, 29948, 24618, 904]</td>\n",
       "      <td>école</td>\n",
       "      <td>[269, 29879, 3762, 1557, 885, 27041, 816, 1364]</td>\n",
       "      <td>school</td>\n",
       "      <td>Schule</td>\n",
       "    </tr>\n",
       "    <tr>\n",
       "      <th>38</th>\n",
       "      <td>Deutsch: \"Osten\" - Français: \"est\"\\nDeutsch: \"...</td>\n",
       "      <td>[26844, 7283, 2181, 29883, 274, 12220]</td>\n",
       "      <td>cravate</td>\n",
       "      <td>[19538, 29873, 22134, 260, 2034]</td>\n",
       "      <td>tie</td>\n",
       "      <td>Krawatte</td>\n",
       "    </tr>\n",
       "    <tr>\n",
       "      <th>39</th>\n",
       "      <td>Deutsch: \"Haus\" - Français: \"maison\"\\nDeutsch:...</td>\n",
       "      <td>[1730, 1998, 1403, 3516, 325, 29894]</td>\n",
       "      <td>visage</td>\n",
       "      <td>[29888, 4024, 2161, 3700, 17470, 2258, 5444, 285]</td>\n",
       "      <td>face</td>\n",
       "      <td>Gesicht</td>\n",
       "    </tr>\n",
       "    <tr>\n",
       "      <th>40</th>\n",
       "      <td>Deutsch: \"Mund\" - Français: \"bouche\"\\nDeutsch:...</td>\n",
       "      <td>[13185, 29886, 1129, 29649, 772, 1112, 12509, ...</td>\n",
       "      <td>pont</td>\n",
       "      <td>[19515, 18419, 289, 1506, 29890, 12945, 28635,...</td>\n",
       "      <td>bridge</td>\n",
       "      <td>Brücke</td>\n",
       "    </tr>\n",
       "    <tr>\n",
       "      <th>41</th>\n",
       "      <td>Deutsch: \"Wort\" - Français: \"mot\"\\nDeutsch: \"Z...</td>\n",
       "      <td>[269, 29879, 12587, 19303, 480, 1462, 13159, 2...</td>\n",
       "      <td>supprimer</td>\n",
       "      <td>[628, 29881, 5217, 6144, 270, 8143, 311, 7374,...</td>\n",
       "      <td>delete</td>\n",
       "      <td>löschen</td>\n",
       "    </tr>\n",
       "    <tr>\n",
       "      <th>42</th>\n",
       "      <td>Deutsch: \"Wort\" - Français: \"mot\"\\nDeutsch: \"B...</td>\n",
       "      <td>[29885, 3503, 611, 5530, 286, 18234, 655, 24402]</td>\n",
       "      <td>maison</td>\n",
       "      <td>[1251, 298, 29882, 8697, 10774, 5089, 9261, 3699]</td>\n",
       "      <td>house</td>\n",
       "      <td>Haus</td>\n",
       "    </tr>\n",
       "    <tr>\n",
       "      <th>43</th>\n",
       "      <td>Deutsch: \"Turm\" - Français: \"tour\"\\nDeutsch: \"...</td>\n",
       "      <td>[1113, 5777, 1559, 29883, 274, 4287]</td>\n",
       "      <td>carré</td>\n",
       "      <td>[269, 29879, 6862, 18074, 17619, 10674, 3044, ...</td>\n",
       "      <td>square</td>\n",
       "      <td>Quadrat</td>\n",
       "    </tr>\n",
       "    <tr>\n",
       "      <th>44</th>\n",
       "      <td>Deutsch: \"Sand\" - Français: \"sable\"\\nDeutsch: ...</td>\n",
       "      <td>[4909, 8441, 1403, 17191, 3516, 325, 11928, 42...</td>\n",
       "      <td>ville</td>\n",
       "      <td>[4583, 4272, 29883, 455, 274, 7537, 20752, 12690]</td>\n",
       "      <td>city</td>\n",
       "      <td>Stadt</td>\n",
       "    </tr>\n",
       "    <tr>\n",
       "      <th>45</th>\n",
       "      <td>Deutsch: \"Süden\" - Français: \"sud\"\\nDeutsch: \"...</td>\n",
       "      <td>[29894, 1403, 3516, 325, 13901]</td>\n",
       "      <td>vitesse</td>\n",
       "      <td>[269, 29879, 6210, 805, 961, 5965, 19322, 1028]</td>\n",
       "      <td>speed</td>\n",
       "      <td>Geschwindigkeit</td>\n",
       "    </tr>\n",
       "    <tr>\n",
       "      <th>46</th>\n",
       "      <td>Deutsch: \"Norden\" - Français: \"nord\"\\nDeutsch:...</td>\n",
       "      <td>[269, 29879, 578, 577, 2929, 899]</td>\n",
       "      <td>sol</td>\n",
       "      <td>[5962, 867, 330, 4071, 17170, 2057, 629, 29887]</td>\n",
       "      <td>ground</td>\n",
       "      <td>Boden</td>\n",
       "    </tr>\n",
       "    <tr>\n",
       "      <th>47</th>\n",
       "      <td>Deutsch: \"Schule\" - Français: \"école\"\\nDeutsch...</td>\n",
       "      <td>[29873, 841, 371, 260, 12033, 734, 3006]</td>\n",
       "      <td>tentative</td>\n",
       "      <td>[21609, 29874, 271, 1131, 1098, 263, 15127, 42...</td>\n",
       "      <td>attempt</td>\n",
       "      <td>Versuch</td>\n",
       "    </tr>\n",
       "    <tr>\n",
       "      <th>48</th>\n",
       "      <td>Deutsch: \"Schnee\" - Français: \"neige\"\\nDeutsch...</td>\n",
       "      <td>[712, 3855, 9990, 802, 339, 29939, 439, 9521]</td>\n",
       "      <td>queue</td>\n",
       "      <td>[29873, 12464, 260, 941, 11062, 18237]</td>\n",
       "      <td>tail</td>\n",
       "      <td>Schwanz</td>\n",
       "    </tr>\n",
       "    <tr>\n",
       "      <th>49</th>\n",
       "      <td>Deutsch: \"Gitter\" - Français: \"grille\"\\nDeutsc...</td>\n",
       "      <td>[652, 29881, 17021, 270, 766, 2218, 6051, 2313]</td>\n",
       "      <td>discours</td>\n",
       "      <td>[269, 29879, 12032, 805, 961, 5965, 1028]</td>\n",
       "      <td>speech</td>\n",
       "      <td>Rede</td>\n",
       "    </tr>\n",
       "    <tr>\n",
       "      <th>50</th>\n",
       "      <td>Deutsch: \"Mitte\" - Français: \"milieu\"\\nDeutsch...</td>\n",
       "      <td>[12377, 264, 321, 23578, 427, 29872]</td>\n",
       "      <td>enfant</td>\n",
       "      <td>[2278, 5145, 29883, 18558, 274, 4161, 521, 305]</td>\n",
       "      <td>child</td>\n",
       "      <td>Kind</td>\n",
       "    </tr>\n",
       "    <tr>\n",
       "      <th>51</th>\n",
       "      <td>Deutsch: \"drei\" - Français: \"trois\"\\nDeutsch: ...</td>\n",
       "      <td>[29885, 286, 8774, 12031]</td>\n",
       "      <td>ménage</td>\n",
       "      <td>[1251, 298, 29882, 8697, 22329, 10774, 5089, 9...</td>\n",
       "      <td>household</td>\n",
       "      <td>Haushalt</td>\n",
       "    </tr>\n",
       "    <tr>\n",
       "      <th>52</th>\n",
       "      <td>Deutsch: \"drei\" - Français: \"trois\"\\nDeutsch: ...</td>\n",
       "      <td>[1321, 8399, 2423, 289, 29890, 6866]</td>\n",
       "      <td>bureau</td>\n",
       "      <td>[974, 29877, 1283, 3344, 8034, 310, 2696, 2020...</td>\n",
       "      <td>office</td>\n",
       "      <td>Büro</td>\n",
       "    </tr>\n",
       "    <tr>\n",
       "      <th>53</th>\n",
       "      <td>Deutsch: \"Börse\" - Français: \"bourse\"\\nDeutsch...</td>\n",
       "      <td>[2350, 298, 29882, 447, 6208]</td>\n",
       "      <td>hausse</td>\n",
       "      <td>[10107, 374, 3780, 29878, 364, 14451, 5161]</td>\n",
       "      <td>rise</td>\n",
       "      <td>Anstieg</td>\n",
       "    </tr>\n",
       "    <tr>\n",
       "      <th>54</th>\n",
       "      <td>Deutsch: \"Licht\" - Français: \"lumière\"\\nDeutsc...</td>\n",
       "      <td>[330, 10364, 13395, 26003, 29887, 3249]</td>\n",
       "      <td>gauche</td>\n",
       "      <td>[29880, 301, 25874, 280, 1563, 454, 2175]</td>\n",
       "      <td>left</td>\n",
       "      <td>links</td>\n",
       "    </tr>\n",
       "    <tr>\n",
       "      <th>55</th>\n",
       "      <td>Deutsch: \"Beispiel\" - Français: \"exemple\"\\nDeu...</td>\n",
       "      <td>[4370, 29948, 7342, 904, 2852, 1893]</td>\n",
       "      <td>été</td>\n",
       "      <td>[269, 29879, 2533, 480, 2083, 22792, 11801, 2146]</td>\n",
       "      <td>summer</td>\n",
       "      <td>Sommer</td>\n",
       "    </tr>\n",
       "  </tbody>\n",
       "</table>\n",
       "</div>"
      ],
      "text/plain": [
       "                                               prompt  \\\n",
       "0   Deutsch: \"acht\" - Français: \"huit\"\\nDeutsch: \"...   \n",
       "1   Deutsch: \"Meer\" - Français: \"mer\"\\nDeutsch: \"T...   \n",
       "2   Deutsch: \"Sommer\" - Français: \"été\"\\nDeutsch: ...   \n",
       "3   Deutsch: \"Blume\" - Français: \"fleur\"\\nDeutsch:...   \n",
       "4   Deutsch: \"Haushalt\" - Français: \"ménage\"\\nDeut...   \n",
       "5   Deutsch: \"Krawatte\" - Français: \"cravate\"\\nDeu...   \n",
       "6   Deutsch: \"Straße\" - Français: \"rue\"\\nDeutsch: ...   \n",
       "7   Deutsch: \"Gesicht\" - Français: \"visage\"\\nDeuts...   \n",
       "8   Deutsch: \"Farbe\" - Français: \"couleur\"\\nDeutsc...   \n",
       "9   Deutsch: \"Kopf\" - Français: \"tête\"\\nDeutsch: \"...   \n",
       "10  Deutsch: \"Bahnhof\" - Français: \"gare\"\\nDeutsch...   \n",
       "11  Deutsch: \"Brücke\" - Français: \"pont\"\\nDeutsch:...   \n",
       "12  Deutsch: \"Fuß\" - Français: \"pied\"\\nDeutsch: \"B...   \n",
       "13  Deutsch: \"Auge\" - Français: \"œil\"\\nDeutsch: \"T...   \n",
       "14  Deutsch: \"Fuß\" - Français: \"pied\"\\nDeutsch: \"W...   \n",
       "15  Deutsch: \"Netz\" - Français: \"filet\"\\nDeutsch: ...   \n",
       "16  Deutsch: \"Auge\" - Français: \"œil\"\\nDeutsch: \"Z...   \n",
       "17  Deutsch: \"Haushalt\" - Français: \"ménage\"\\nDeut...   \n",
       "18  Deutsch: \"Sand\" - Français: \"sable\"\\nDeutsch: ...   \n",
       "19  Deutsch: \"Welle\" - Français: \"onde\"\\nDeutsch: ...   \n",
       "20  Deutsch: \"Geschichte\" - Français: \"histoire\"\\n...   \n",
       "21  Deutsch: \"Schwanz\" - Français: \"queue\"\\nDeutsc...   \n",
       "22  Deutsch: \"Quadrat\" - Français: \"carré\"\\nDeutsc...   \n",
       "23  Deutsch: \"Haushalt\" - Français: \"ménage\"\\nDeut...   \n",
       "24  Deutsch: \"Wort\" - Français: \"mot\"\\nDeutsch: \"a...   \n",
       "25  Deutsch: \"Turm\" - Français: \"tour\"\\nDeutsch: \"...   \n",
       "26  Deutsch: \"Büro\" - Français: \"bureau\"\\nDeutsch:...   \n",
       "27  Deutsch: \"Sand\" - Français: \"sable\"\\nDeutsch: ...   \n",
       "28  Deutsch: \"Quadrat\" - Français: \"carré\"\\nDeutsc...   \n",
       "29  Deutsch: \"Wolke\" - Français: \"nuage\"\\nDeutsch:...   \n",
       "30  Deutsch: \"Fuß\" - Français: \"pied\"\\nDeutsch: \"G...   \n",
       "31  Deutsch: \"Boden\" - Français: \"sol\"\\nDeutsch: \"...   \n",
       "32  Deutsch: \"Kind\" - Français: \"enfant\"\\nDeutsch:...   \n",
       "33  Deutsch: \"Plattform\" - Français: \"plate-forme\"...   \n",
       "34  Deutsch: \"Pferd\" - Français: \"cheval\"\\nDeutsch...   \n",
       "35  Deutsch: \"Hand\" - Français: \"main\"\\nDeutsch: \"...   \n",
       "36  Deutsch: \"Mutter\" - Français: \"mère\"\\nDeutsch:...   \n",
       "37  Deutsch: \"Wort\" - Français: \"mot\"\\nDeutsch: \"F...   \n",
       "38  Deutsch: \"Osten\" - Français: \"est\"\\nDeutsch: \"...   \n",
       "39  Deutsch: \"Haus\" - Français: \"maison\"\\nDeutsch:...   \n",
       "40  Deutsch: \"Mund\" - Français: \"bouche\"\\nDeutsch:...   \n",
       "41  Deutsch: \"Wort\" - Français: \"mot\"\\nDeutsch: \"Z...   \n",
       "42  Deutsch: \"Wort\" - Français: \"mot\"\\nDeutsch: \"B...   \n",
       "43  Deutsch: \"Turm\" - Français: \"tour\"\\nDeutsch: \"...   \n",
       "44  Deutsch: \"Sand\" - Français: \"sable\"\\nDeutsch: ...   \n",
       "45  Deutsch: \"Süden\" - Français: \"sud\"\\nDeutsch: \"...   \n",
       "46  Deutsch: \"Norden\" - Français: \"nord\"\\nDeutsch:...   \n",
       "47  Deutsch: \"Schule\" - Français: \"école\"\\nDeutsch...   \n",
       "48  Deutsch: \"Schnee\" - Français: \"neige\"\\nDeutsch...   \n",
       "49  Deutsch: \"Gitter\" - Français: \"grille\"\\nDeutsc...   \n",
       "50  Deutsch: \"Mitte\" - Français: \"milieu\"\\nDeutsch...   \n",
       "51  Deutsch: \"drei\" - Français: \"trois\"\\nDeutsch: ...   \n",
       "52  Deutsch: \"drei\" - Français: \"trois\"\\nDeutsch: ...   \n",
       "53  Deutsch: \"Börse\" - Français: \"bourse\"\\nDeutsch...   \n",
       "54  Deutsch: \"Licht\" - Français: \"lumière\"\\nDeutsc...   \n",
       "55  Deutsch: \"Beispiel\" - Français: \"exemple\"\\nDeu...   \n",
       "\n",
       "                                         out_token_id out_token_str  \\\n",
       "0                            [302, 29876, 4948, 3433]         nuage   \n",
       "1                       [269, 29879, 7067, 872, 4977]           sac   \n",
       "2                      [16380, 289, 29890, 1045, 833]        bouche   \n",
       "3                                        [29883, 274]          cœur   \n",
       "4     [29885, 611, 5530, 286, 3396, 655, 24402, 1667]          main   \n",
       "5         [2212, 29926, 2958, 432, 8121, 20551, 8694]          jour   \n",
       "6                            [29948, 904, 2852, 1893]        étoile   \n",
       "7       [337, 1253, 276, 18475, 29878, 620, 690, 364]       ressort   \n",
       "8                     [29880, 301, 6092, 8092, 25081]          lune   \n",
       "9                      [289, 29890, 1045, 23734, 833]          bois   \n",
       "10   [305, 5815, 5083, 29883, 274, 25875, 521, 10329]       chanson   \n",
       "11                    [29948, 28899, 904, 2852, 1893]         étang   \n",
       "12          [373, 16504, 29877, 265, 13469, 288, 898]          onde   \n",
       "13                [867, 330, 4071, 17170, 629, 29887]        grotte   \n",
       "14                [29885, 1004, 286, 592, 2778, 1050]           mer   \n",
       "15       [5397, 330, 10364, 24816, 7171, 29887, 3249]          gare   \n",
       "16     [29888, 1445, 7241, 5713, 977, 934, 1777, 285]         filet   \n",
       "17       [1631, 29886, 5036, 15957, 282, 12343, 2930]          pied   \n",
       "18                             [272, 470, 288, 29877]            or   \n",
       "19  [637, 29886, 1129, 772, 1277, 14931, 1971, 282...         porte   \n",
       "20                      [302, 12106, 452, 29876, 484]         neige   \n",
       "21    [1173, 25042, 923, 29883, 274, 29823, 521, 305]        cheval   \n",
       "22                             [443, 348, 29884, 318]            un   \n",
       "23                       [29881, 270, 311, 4239, 316]          deux   \n",
       "24              [3855, 12134, 21408, 339, 29939, 439]        quatre   \n",
       "25        [4583, 4670, 29883, 455, 274, 16381, 17256]          cinq   \n",
       "26            [6905, 298, 29882, 27052, 15669, 22888]          huit   \n",
       "27                     [23386, 652, 29881, 270, 6051]           dix   \n",
       "28                                [17949, 29873, 260]          tête   \n",
       "29  [2571, 9922, 3719, 289, 29890, 4980, 27628, 98...         bande   \n",
       "30                     [364, 5796, 29878, 16014, 582]           rue   \n",
       "31                                            [30106]           œil   \n",
       "32  [18480, 305, 5815, 29883, 11179, 274, 521, 10329]         champ   \n",
       "33              [29885, 14817, 4346, 286, 3184, 2730]           mot   \n",
       "34  [3737, 29885, 286, 19958, 23853, 2460, 3533, 2...         mille   \n",
       "35               [16380, 6526, 289, 29890, 1045, 833]        bourse   \n",
       "36         [1737, 2531, 330, 479, 1885, 29887, 16151]         genre   \n",
       "37                          [4582, 29948, 24618, 904]         école   \n",
       "38             [26844, 7283, 2181, 29883, 274, 12220]       cravate   \n",
       "39               [1730, 1998, 1403, 3516, 325, 29894]        visage   \n",
       "40  [13185, 29886, 1129, 29649, 772, 1112, 12509, ...          pont   \n",
       "41  [269, 29879, 12587, 19303, 480, 1462, 13159, 2...     supprimer   \n",
       "42   [29885, 3503, 611, 5530, 286, 18234, 655, 24402]        maison   \n",
       "43               [1113, 5777, 1559, 29883, 274, 4287]         carré   \n",
       "44  [4909, 8441, 1403, 17191, 3516, 325, 11928, 42...         ville   \n",
       "45                    [29894, 1403, 3516, 325, 13901]       vitesse   \n",
       "46                  [269, 29879, 578, 577, 2929, 899]           sol   \n",
       "47           [29873, 841, 371, 260, 12033, 734, 3006]     tentative   \n",
       "48      [712, 3855, 9990, 802, 339, 29939, 439, 9521]         queue   \n",
       "49    [652, 29881, 17021, 270, 766, 2218, 6051, 2313]      discours   \n",
       "50               [12377, 264, 321, 23578, 427, 29872]        enfant   \n",
       "51                          [29885, 286, 8774, 12031]        ménage   \n",
       "52               [1321, 8399, 2423, 289, 29890, 6866]        bureau   \n",
       "53                      [2350, 298, 29882, 447, 6208]        hausse   \n",
       "54            [330, 10364, 13395, 26003, 29887, 3249]        gauche   \n",
       "55               [4370, 29948, 7342, 904, 2852, 1893]           été   \n",
       "\n",
       "                                      latent_token_id latent_token_str  \\\n",
       "0   [9570, 9274, 1067, 15126, 29883, 274, 17184, 2...            cloud   \n",
       "1              [9922, 289, 29890, 23156, 19548, 2291]              bag   \n",
       "2       [29885, 4346, 286, 21026, 29442, 2730, 13394]            mouth   \n",
       "3           [23057, 354, 298, 29882, 5192, 540, 8293]            heart   \n",
       "4     [2350, 3179, 298, 29882, 5905, 447, 1361, 5403]             hand   \n",
       "5                [29881, 1388, 270, 2462, 3250, 1146]              day   \n",
       "6      [269, 29879, 5173, 8508, 303, 380, 5810, 9523]             star   \n",
       "7    [269, 29879, 805, 15099, 6709, 7689, 1028, 4278]           spring   \n",
       "8                     [29885, 18786, 4346, 286, 2730]             moon   \n",
       "9                 [8879, 8112, 6115, 29893, 827, 281]             wood   \n",
       "10    [269, 29879, 21453, 578, 577, 1487, 4823, 1100]             song   \n",
       "11         [29886, 1129, 772, 1112, 12509, 282, 2818]             pond   \n",
       "12            [27766, 11324, 2766, 29893, 10742, 281]             wave   \n",
       "13             [1113, 5777, 24230, 18346, 29883, 274]             cave   \n",
       "14                       [269, 29879, 7205, 409, 344]              sea   \n",
       "15  [269, 29879, 5073, 5173, 6112, 380, 303, 19569...          station   \n",
       "16                 [302, 452, 7787, 29876, 1212, 484]              net   \n",
       "17   [29888, 3661, 6661, 7953, 1181, 5431, 285, 1701]             foot   \n",
       "18               [330, 15192, 748, 7684, 1484, 29887]             gold   \n",
       "19               [17433, 29881, 437, 270, 3050, 1867]             door   \n",
       "20                   [269, 29879, 15007, 5807, 16586]             snow   \n",
       "21  [1251, 298, 11231, 29882, 4029, 10435, 5089, 2...            horse   \n",
       "22                   [373, 29877, 265, 697, 288, 650]              one   \n",
       "23              [29873, 260, 7516, 3252, 10184, 1023]              two   \n",
       "24       [29888, 12584, 1181, 285, 3023, 17823, 1701]             four   \n",
       "25              [29888, 7241, 5713, 5320, 285, 20818]             five   \n",
       "26            [321, 10096, 29319, 15761, 9475, 29872]            eight   \n",
       "27                  [29873, 841, 371, 260, 734, 3006]              ten   \n",
       "28                 [2343, 354, 298, 29882, 2813, 540]             head   \n",
       "29  [269, 851, 17820, 29879, 17010, 303, 380, 710,...            strip   \n",
       "30  [269, 851, 29879, 29352, 12243, 11952, 303, 38...           street   \n",
       "31                          [321, 10977, 1032, 29872]              eye   \n",
       "32        [29888, 2671, 7241, 5713, 29607, 285, 1746]            field   \n",
       "33   [1742, 8879, 1734, 13762, 29893, 827, 6365, 281]             word   \n",
       "34         [29873, 7693, 260, 12595, 266, 10405, 386]         thousand   \n",
       "35          [5566, 321, 735, 14523, 6543, 429, 29872]         exchange   \n",
       "36  [29895, 9089, 2924, 1984, 14380, 19015, 8506, ...             kind   \n",
       "37    [269, 29879, 3762, 1557, 885, 27041, 816, 1364]           school   \n",
       "38                   [19538, 29873, 22134, 260, 2034]              tie   \n",
       "39  [29888, 4024, 2161, 3700, 17470, 2258, 5444, 285]             face   \n",
       "40  [19515, 18419, 289, 1506, 29890, 12945, 28635,...           bridge   \n",
       "41  [628, 29881, 5217, 6144, 270, 8143, 311, 7374,...           delete   \n",
       "42  [1251, 298, 29882, 8697, 10774, 5089, 9261, 3699]            house   \n",
       "43  [269, 29879, 6862, 18074, 17619, 10674, 3044, ...           square   \n",
       "44  [4583, 4272, 29883, 455, 274, 7537, 20752, 12690]             city   \n",
       "45    [269, 29879, 6210, 805, 961, 5965, 19322, 1028]            speed   \n",
       "46    [5962, 867, 330, 4071, 17170, 2057, 629, 29887]           ground   \n",
       "47  [21609, 29874, 271, 1131, 1098, 263, 15127, 42...          attempt   \n",
       "48             [29873, 12464, 260, 941, 11062, 18237]             tail   \n",
       "49          [269, 29879, 12032, 805, 961, 5965, 1028]           speech   \n",
       "50    [2278, 5145, 29883, 18558, 274, 4161, 521, 305]            child   \n",
       "51  [1251, 298, 29882, 8697, 22329, 10774, 5089, 9...        household   \n",
       "52  [974, 29877, 1283, 3344, 8034, 310, 2696, 2020...           office   \n",
       "53        [10107, 374, 3780, 29878, 364, 14451, 5161]             rise   \n",
       "54          [29880, 301, 25874, 280, 1563, 454, 2175]             left   \n",
       "55  [269, 29879, 2533, 480, 2083, 22792, 11801, 2146]           summer   \n",
       "\n",
       "       in_token_str  \n",
       "0             Wolke  \n",
       "1            Tasche  \n",
       "2              Mund  \n",
       "3              Herz  \n",
       "4              Hand  \n",
       "5               Tag  \n",
       "6             Stern  \n",
       "7             Feder  \n",
       "8              Mond  \n",
       "9              Holz  \n",
       "10             Lied  \n",
       "11            Teich  \n",
       "12            Welle  \n",
       "13            Höhle  \n",
       "14             Meer  \n",
       "15          Bahnhof  \n",
       "16             Netz  \n",
       "17              Fuß  \n",
       "18             Gold  \n",
       "19              Tür  \n",
       "20           Schnee  \n",
       "21            Pferd  \n",
       "22             eins  \n",
       "23             zwei  \n",
       "24             vier  \n",
       "25             fünf  \n",
       "26             acht  \n",
       "27             zehn  \n",
       "28             Kopf  \n",
       "29         Streifen  \n",
       "30           Straße  \n",
       "31             Auge  \n",
       "32             Feld  \n",
       "33             Wort  \n",
       "34          tausend  \n",
       "35            Börse  \n",
       "36              Art  \n",
       "37           Schule  \n",
       "38         Krawatte  \n",
       "39          Gesicht  \n",
       "40           Brücke  \n",
       "41          löschen  \n",
       "42             Haus  \n",
       "43          Quadrat  \n",
       "44            Stadt  \n",
       "45  Geschwindigkeit  \n",
       "46            Boden  \n",
       "47          Versuch  \n",
       "48          Schwanz  \n",
       "49             Rede  \n",
       "50             Kind  \n",
       "51         Haushalt  \n",
       "52             Büro  \n",
       "53          Anstieg  \n",
       "54            links  \n",
       "55           Sommer  "
      ]
     },
     "execution_count": 13,
     "metadata": {},
     "output_type": "execute_result"
    }
   ],
   "source": [
    "df"
   ]
  },
  {
   "cell_type": "code",
   "execution_count": 14,
   "id": "94fa55b7",
   "metadata": {
    "execution": {
     "iopub.execute_input": "2024-02-23T16:38:12.476783Z",
     "iopub.status.busy": "2024-02-23T16:38:12.476628Z",
     "iopub.status.idle": "2024-02-23T16:38:12.501247Z",
     "shell.execute_reply": "2024-02-23T16:38:12.500957Z"
    },
    "papermill": {
     "duration": 0.04523,
     "end_time": "2024-02-23T16:38:12.502205",
     "exception": false,
     "start_time": "2024-02-23T16:38:12.456975",
     "status": "completed"
    },
    "tags": []
   },
   "outputs": [],
   "source": [
    "def get_logits(model, prompt,lens):\n",
    "    inputs = tokenizer(prompt, return_tensors=\"pt\").to('cuda')\n",
    "    output = llama(inputs.input_ids, output_hidden_states=True)\n",
    "    hidden_states = output.hidden_states[:-1]\n",
    "    final_lps = output.logits.log_softmax(dim=-1)\n",
    "    tensors=[]\n",
    "    for i in range(32):\n",
    "        h = hidden_states[i].squeeze(0)\n",
    "        tensors+=[lens(h, idx=i).detach().cpu()]\n",
    "    tensors= torch.stack(tensors)  \n",
    "    hidden_states = torch.stack(hidden_states).squeeze(1).detach().cpu()\n",
    "    return tensors,hidden_states\n",
    "        "
   ]
  },
  {
   "cell_type": "code",
   "execution_count": 15,
   "id": "25241c49",
   "metadata": {
    "execution": {
     "iopub.execute_input": "2024-02-23T16:38:12.521890Z",
     "iopub.status.busy": "2024-02-23T16:38:12.521614Z",
     "iopub.status.idle": "2024-02-23T16:38:23.862503Z",
     "shell.execute_reply": "2024-02-23T16:38:23.861533Z"
    },
    "papermill": {
     "duration": 11.352177,
     "end_time": "2024-02-23T16:38:23.863720",
     "exception": false,
     "start_time": "2024-02-23T16:38:12.511543",
     "status": "completed"
    },
    "tags": []
   },
   "outputs": [
    {
     "name": "stderr",
     "output_type": "stream",
     "text": [
      "\r",
      "0it [00:00, ?it/s]"
     ]
    },
    {
     "name": "stderr",
     "output_type": "stream",
     "text": [
      "\r",
      "1it [00:00,  1.30it/s]"
     ]
    },
    {
     "name": "stderr",
     "output_type": "stream",
     "text": [
      "\r",
      "2it [00:00,  2.25it/s]"
     ]
    },
    {
     "name": "stderr",
     "output_type": "stream",
     "text": [
      "\r",
      "3it [00:01,  3.16it/s]"
     ]
    },
    {
     "name": "stderr",
     "output_type": "stream",
     "text": [
      "\r",
      "4it [00:01,  3.77it/s]"
     ]
    },
    {
     "name": "stderr",
     "output_type": "stream",
     "text": [
      "\r",
      "5it [00:01,  4.10it/s]"
     ]
    },
    {
     "name": "stderr",
     "output_type": "stream",
     "text": [
      "\r",
      "6it [00:01,  4.24it/s]"
     ]
    },
    {
     "name": "stderr",
     "output_type": "stream",
     "text": [
      "\r",
      "7it [00:02,  4.21it/s]"
     ]
    },
    {
     "name": "stderr",
     "output_type": "stream",
     "text": [
      "\r",
      "8it [00:02,  4.47it/s]"
     ]
    },
    {
     "name": "stderr",
     "output_type": "stream",
     "text": [
      "\r",
      "9it [00:02,  4.89it/s]"
     ]
    },
    {
     "name": "stderr",
     "output_type": "stream",
     "text": [
      "\r",
      "10it [00:02,  5.02it/s]"
     ]
    },
    {
     "name": "stderr",
     "output_type": "stream",
     "text": [
      "\r",
      "11it [00:02,  5.06it/s]"
     ]
    },
    {
     "name": "stderr",
     "output_type": "stream",
     "text": [
      "\r",
      "12it [00:02,  5.42it/s]"
     ]
    },
    {
     "name": "stderr",
     "output_type": "stream",
     "text": [
      "\r",
      "13it [00:03,  5.57it/s]"
     ]
    },
    {
     "name": "stderr",
     "output_type": "stream",
     "text": [
      "\r",
      "14it [00:03,  5.01it/s]"
     ]
    },
    {
     "name": "stderr",
     "output_type": "stream",
     "text": [
      "\r",
      "15it [00:03,  5.05it/s]"
     ]
    },
    {
     "name": "stderr",
     "output_type": "stream",
     "text": [
      "\r",
      "16it [00:03,  4.90it/s]"
     ]
    },
    {
     "name": "stderr",
     "output_type": "stream",
     "text": [
      "\r",
      "17it [00:03,  5.24it/s]"
     ]
    },
    {
     "name": "stderr",
     "output_type": "stream",
     "text": [
      "\r",
      "18it [00:04,  5.44it/s]"
     ]
    },
    {
     "name": "stderr",
     "output_type": "stream",
     "text": [
      "\r",
      "19it [00:04,  5.27it/s]"
     ]
    },
    {
     "name": "stderr",
     "output_type": "stream",
     "text": [
      "\r",
      "20it [00:04,  5.30it/s]"
     ]
    },
    {
     "name": "stderr",
     "output_type": "stream",
     "text": [
      "\r",
      "21it [00:04,  5.52it/s]"
     ]
    },
    {
     "name": "stderr",
     "output_type": "stream",
     "text": [
      "\r",
      "22it [00:04,  5.64it/s]"
     ]
    },
    {
     "name": "stderr",
     "output_type": "stream",
     "text": [
      "\r",
      "23it [00:04,  5.62it/s]"
     ]
    },
    {
     "name": "stderr",
     "output_type": "stream",
     "text": [
      "\r",
      "24it [00:05,  5.21it/s]"
     ]
    },
    {
     "name": "stderr",
     "output_type": "stream",
     "text": [
      "\r",
      "25it [00:05,  4.88it/s]"
     ]
    },
    {
     "name": "stderr",
     "output_type": "stream",
     "text": [
      "\r",
      "26it [00:05,  5.07it/s]"
     ]
    },
    {
     "name": "stderr",
     "output_type": "stream",
     "text": [
      "\r",
      "27it [00:05,  5.05it/s]"
     ]
    },
    {
     "name": "stderr",
     "output_type": "stream",
     "text": [
      "\r",
      "28it [00:06,  4.71it/s]"
     ]
    },
    {
     "name": "stderr",
     "output_type": "stream",
     "text": [
      "\r",
      "29it [00:06,  4.55it/s]"
     ]
    },
    {
     "name": "stderr",
     "output_type": "stream",
     "text": [
      "\r",
      "30it [00:06,  4.69it/s]"
     ]
    },
    {
     "name": "stderr",
     "output_type": "stream",
     "text": [
      "\r",
      "31it [00:06,  5.07it/s]"
     ]
    },
    {
     "name": "stderr",
     "output_type": "stream",
     "text": [
      "\r",
      "32it [00:06,  5.03it/s]"
     ]
    },
    {
     "name": "stderr",
     "output_type": "stream",
     "text": [
      "\r",
      "33it [00:07,  5.03it/s]"
     ]
    },
    {
     "name": "stderr",
     "output_type": "stream",
     "text": [
      "\r",
      "34it [00:07,  5.17it/s]"
     ]
    },
    {
     "name": "stderr",
     "output_type": "stream",
     "text": [
      "\r",
      "35it [00:07,  5.28it/s]"
     ]
    },
    {
     "name": "stderr",
     "output_type": "stream",
     "text": [
      "\r",
      "36it [00:07,  4.97it/s]"
     ]
    },
    {
     "name": "stderr",
     "output_type": "stream",
     "text": [
      "\r",
      "37it [00:07,  5.42it/s]"
     ]
    },
    {
     "name": "stderr",
     "output_type": "stream",
     "text": [
      "\r",
      "38it [00:07,  5.39it/s]"
     ]
    },
    {
     "name": "stderr",
     "output_type": "stream",
     "text": [
      "\r",
      "39it [00:08,  5.36it/s]"
     ]
    },
    {
     "name": "stderr",
     "output_type": "stream",
     "text": [
      "\r",
      "40it [00:08,  5.16it/s]"
     ]
    },
    {
     "name": "stderr",
     "output_type": "stream",
     "text": [
      "\r",
      "41it [00:08,  5.14it/s]"
     ]
    },
    {
     "name": "stderr",
     "output_type": "stream",
     "text": [
      "\r",
      "42it [00:08,  5.40it/s]"
     ]
    },
    {
     "name": "stderr",
     "output_type": "stream",
     "text": [
      "\r",
      "43it [00:08,  5.46it/s]"
     ]
    },
    {
     "name": "stderr",
     "output_type": "stream",
     "text": [
      "\r",
      "44it [00:09,  5.07it/s]"
     ]
    },
    {
     "name": "stderr",
     "output_type": "stream",
     "text": [
      "\r",
      "45it [00:09,  5.45it/s]"
     ]
    },
    {
     "name": "stderr",
     "output_type": "stream",
     "text": [
      "\r",
      "46it [00:09,  5.15it/s]"
     ]
    },
    {
     "name": "stderr",
     "output_type": "stream",
     "text": [
      "\r",
      "47it [00:09,  5.30it/s]"
     ]
    },
    {
     "name": "stderr",
     "output_type": "stream",
     "text": [
      "\r",
      "48it [00:09,  5.37it/s]"
     ]
    },
    {
     "name": "stderr",
     "output_type": "stream",
     "text": [
      "\r",
      "49it [00:10,  5.32it/s]"
     ]
    },
    {
     "name": "stderr",
     "output_type": "stream",
     "text": [
      "\r",
      "50it [00:10,  5.63it/s]"
     ]
    },
    {
     "name": "stderr",
     "output_type": "stream",
     "text": [
      "\r",
      "51it [00:10,  5.77it/s]"
     ]
    },
    {
     "name": "stderr",
     "output_type": "stream",
     "text": [
      "\r",
      "52it [00:10,  5.50it/s]"
     ]
    },
    {
     "name": "stderr",
     "output_type": "stream",
     "text": [
      "\r",
      "53it [00:10,  5.31it/s]"
     ]
    },
    {
     "name": "stderr",
     "output_type": "stream",
     "text": [
      "\r",
      "54it [00:10,  5.47it/s]"
     ]
    },
    {
     "name": "stderr",
     "output_type": "stream",
     "text": [
      "\r",
      "55it [00:11,  5.57it/s]"
     ]
    },
    {
     "name": "stderr",
     "output_type": "stream",
     "text": [
      "\r",
      "56it [00:11,  5.46it/s]"
     ]
    },
    {
     "name": "stderr",
     "output_type": "stream",
     "text": [
      "\r",
      "56it [00:11,  4.96it/s]"
     ]
    },
    {
     "name": "stderr",
     "output_type": "stream",
     "text": [
      "\n"
     ]
    }
   ],
   "source": [
    "in_token_probs = []\n",
    "latent_token_probs = []\n",
    "out_token_probs = []\n",
    "entropy = []\n",
    "energy = []\n",
    "latents_all = []\n",
    "\n",
    "for idx, d in tqdm(enumerate(dataset)):\n",
    "    logits,latents = get_logits(llama, d['prompt'],llama_lens)\n",
    "    last = logits[:, -1, :].float().softmax(dim=-1).detach().cpu()\n",
    "    latent_token_probs += [last[:, torch.tensor(d['latent_token_id'])].sum(dim=-1)]\n",
    "    out_token_probs += [last[:, torch.tensor(d['out_token_id'])].sum(dim=-1)]\n",
    "    entropy += [compute_entropy(last)]\n",
    "    latents_all += [latents[:, -1, :].float().detach().cpu().clone()]\n",
    "    latents_normalized = latents[:, -1, :].float()\n",
    "    latents_normalized = latents_normalized / (((latents_normalized**2).mean(dim=-1, keepdim=True))**0.5)\n",
    "    latents_normalized /= (latents_normalized.norm(dim=-1, keepdim=True))\n",
    "    norm = ((U_normalized @ latents_normalized.T)**2).mean(dim=0)**0.5\n",
    "    energy += [norm/avgUU]\n",
    "\n",
    "latent_token_probs = torch.stack(latent_token_probs)\n",
    "out_token_probs = torch.stack(out_token_probs)\n",
    "entropy = torch.stack(entropy)\n",
    "energy = torch.stack(energy)\n",
    "latents = torch.stack(latents_all)"
   ]
  },
  {
   "cell_type": "code",
   "execution_count": 16,
   "id": "680ef0b2",
   "metadata": {
    "execution": {
     "iopub.execute_input": "2024-02-23T16:38:23.886240Z",
     "iopub.status.busy": "2024-02-23T16:38:23.885927Z",
     "iopub.status.idle": "2024-02-23T16:38:24.257414Z",
     "shell.execute_reply": "2024-02-23T16:38:24.256743Z"
    },
    "papermill": {
     "duration": 0.383333,
     "end_time": "2024-02-23T16:38:24.258589",
     "exception": false,
     "start_time": "2024-02-23T16:38:23.875256",
     "status": "completed"
    },
    "tags": []
   },
   "outputs": [
    {
     "name": "stderr",
     "output_type": "stream",
     "text": [
      "/mnt/ssd-1/gpaulo/llm-latent-language/utils.py:52: UserWarning: This figure includes Axes that are not compatible with tight_layout, so results might be incorrect.\n",
      "  plt.tight_layout()\n"
     ]
    },
    {
     "data": {
      "image/png": "[encoded data removed]",
      "text/plain": [
       "<Figure size 500x300 with 3 Axes>"
      ]
     },
     "metadata": {},
     "output_type": "display_data"
    }
   ],
   "source": [
    "size2tik = {'7b': 5, '13b': 5, '70b': 10}\n",
    "fig, ax, ax2 = plot_ci_plus_heatmap(latent_token_probs, entropy, latent, color='tab:orange', tik_step=size2tik[model_size], do_colorbar=True, #, do_colorbar=(model_size=='70b'),\n",
    "nums=[.99, 0.18, 0.025, 0.6])\n",
    "plot_ci(ax2, out_token_probs, target_lang, color='tab:blue', do_lines=False)\n",
    "ax2.set_xlabel('layer')\n",
    "ax2.set_ylabel('probability')\n",
    "if model_size == '7b':\n",
    "    ax2.set_xlim(0, out_token_probs.shape[1]+1)\n",
    "else:\n",
    "    ax2.set_xlim(0, round(out_token_probs.shape[1]/10)*10+1)\n",
    "ax2.set_ylim(0, 1)\n",
    "# make xticks start from 1\n",
    "# put legend on the top left\n",
    "ax2.legend(loc='upper left')\n",
    "os.makedirs(f'{out_dir}/translation', exist_ok=True)\n",
    "\n",
    "plt.savefig(f'{out_dir}/translation/{model_size}_{input_lang}_{target_lang}_probas_ent.jpg', dpi=300, bbox_inches='tight')"
   ]
  },
  {
   "cell_type": "code",
   "execution_count": 17,
   "id": "48c50e4a",
   "metadata": {
    "execution": {
     "iopub.execute_input": "2024-02-23T16:38:24.299034Z",
     "iopub.status.busy": "2024-02-23T16:38:24.298409Z",
     "iopub.status.idle": "2024-02-23T16:38:24.460766Z",
     "shell.execute_reply": "2024-02-23T16:38:24.460126Z"
    },
    "papermill": {
     "duration": 0.180336,
     "end_time": "2024-02-23T16:38:24.461809",
     "exception": false,
     "start_time": "2024-02-23T16:38:24.281473",
     "status": "completed"
    },
    "tags": []
   },
   "outputs": [
    {
     "data": {
      "image/png": "[encoded data removed]",
      "text/plain": [
       "<Figure size 500x300 with 1 Axes>"
      ]
     },
     "metadata": {},
     "output_type": "display_data"
    }
   ],
   "source": [
    "size2tik = {'7b': 5, '13b': 5, '70b': 10}\n",
    "\n",
    "fig, ax2 = plt.subplots(figsize=(5,3))\n",
    "plot_ci(ax2, energy, 'energy', color='tab:green', do_lines=True, tik_step=size2tik[model_size])\n",
    "ax2.set_xlabel('layer')\n",
    "ax2.set_ylabel('energy')\n",
    "if model_size == '7b':\n",
    "    ax2.set_xlim(0, out_token_probs.shape[1]+1)\n",
    "else:\n",
    "    ax2.set_xlim(0, round(out_token_probs.shape[1]/10)*10+1)\n",
    "os.makedirs(f'{out_dir}/translation', exist_ok=True)\n",
    "plt.savefig(f'{out_dir}/translation/{model_size}_{input_lang}_{target_lang}_energy.jpg', dpi=300, bbox_inches='tight')"
   ]
  },
  {
   "cell_type": "code",
   "execution_count": null,
   "id": "de0f66f1",
   "metadata": {
    "papermill": {
     "duration": 0.010587,
     "end_time": "2024-02-23T16:38:24.484784",
     "exception": false,
     "start_time": "2024-02-23T16:38:24.474197",
     "status": "completed"
    },
    "tags": []
   },
   "outputs": [],
   "source": []
  }
 ],
 "metadata": {
  "kernelspec": {
   "display_name": "Python 3 (ipykernel)",
   "language": "python",
   "name": "python3"
  },
  "language_info": {
   "codemirror_mode": {
    "name": "ipython",
    "version": 3
   },
   "file_extension": ".py",
   "mimetype": "text/x-python",
   "name": "python",
   "nbconvert_exporter": "python",
   "pygments_lexer": "ipython3",
   "version": "3.11.5"
  },
  "papermill": {
   "default_parameters": {},
   "duration": 56.941906,
   "end_time": "2024-02-23T16:38:25.915579",
   "environment_variables": {},
   "exception": null,
   "input_path": "Translation.ipynb",
   "output_path": "visuals/executed_notebooks/Translation_tuned_7b_de_fr.ipynb",
   "parameters": {
    "input_lang": "de",
    "model_size": "7b",
    "target_lang": "fr",
    "type": "tuned"
   },
   "start_time": "2024-02-23T16:37:28.973673",
   "version": "2.5.0"
  },
  "widgets": {
   "application/vnd.jupyter.widget-state+json": {
    "state": {
     "0f0ad7f671a04c99899917e2714003f9": {
      "model_module": "@jupyter-widgets/base",
      "model_module_version": "2.0.0",
      "model_name": "LayoutModel",
      "state": {
       "_model_module": "@jupyter-widgets/base",
       "_model_module_version": "2.0.0",
       "_model_name": "LayoutModel",
       "_view_count": null,
       "_view_module": "@jupyter-widgets/base",
       "_view_module_version": "2.0.0",
       "_view_name": "LayoutView",
       "align_content": null,
       "align_items": null,
       "align_self": null,
       "border_bottom": null,
       "border_left": null,
       "border_right": null,
       "border_top": null,
       "bottom": null,
       "display": null,
       "flex": null,
       "flex_flow": null,
       "grid_area": null,
       "grid_auto_columns": null,
       "grid_auto_flow": null,
       "grid_auto_rows": null,
       "grid_column": null,
       "grid_gap": null,
       "grid_row": null,
       "grid_template_areas": null,
       "grid_template_columns": null,
       "grid_template_rows": null,
       "height": null,
       "justify_content": null,
       "justify_items": null,
       "left": null,
       "margin": null,
       "max_height": null,
       "max_width": null,
       "min_height": null,
       "min_width": null,
       "object_fit": null,
       "object_position": null,
       "order": null,
       "overflow": null,
       "padding": null,
       "right": null,
       "top": null,
       "visibility": null,
       "width": null
      }
     },
     "15e9d3493a6546dc97a6981c8d21eff7": {
      "model_module": "@jupyter-widgets/base",
      "model_module_version": "2.0.0",
      "model_name": "LayoutModel",
      "state": {
       "_model_module": "@jupyter-widgets/base",
       "_model_module_version": "2.0.0",
       "_model_name": "LayoutModel",
       "_view_count": null,
       "_view_module": "@jupyter-widgets/base",
       "_view_module_version": "2.0.0",
       "_view_name": "LayoutView",
       "align_content": null,
       "align_items": null,
       "align_self": null,
       "border_bottom": null,
       "border_left": null,
       "border_right": null,
       "border_top": null,
       "bottom": null,
       "display": null,
       "flex": null,
       "flex_flow": null,
       "grid_area": null,
       "grid_auto_columns": null,
       "grid_auto_flow": null,
       "grid_auto_rows": null,
       "grid_column": null,
       "grid_gap": null,
       "grid_row": null,
       "grid_template_areas": null,
       "grid_template_columns": null,
       "grid_template_rows": null,
       "height": null,
       "justify_content": null,
       "justify_items": null,
       "left": null,
       "margin": null,
       "max_height": null,
       "max_width": null,
       "min_height": null,
       "min_width": null,
       "object_fit": null,
       "object_position": null,
       "order": null,
       "overflow": null,
       "padding": null,
       "right": null,
       "top": null,
       "visibility": null,
       "width": null
      }
     },
     "1735d27416b148308a9c4ec86c4eaf92": {
      "model_module": "@jupyter-widgets/controls",
      "model_module_version": "2.0.0",
      "model_name": "HTMLModel",
      "state": {
       "_dom_classes": [],
       "_model_module": "@jupyter-widgets/controls",
       "_model_module_version": "2.0.0",
       "_model_name": "HTMLModel",
       "_view_count": null,
       "_view_module": "@jupyter-widgets/controls",
       "_view_module_version": "2.0.0",
       "_view_name": "HTMLView",
       "description": "",
       "description_allow_html": false,
       "layout": "IPY_MODEL_68796f1a4f8745a591ddc5fe2208c2a4",
       "placeholder": "​",
       "style": "IPY_MODEL_ffa2322814364cc28c949d41a208b4c2",
       "tabbable": null,
       "tooltip": null,
       "value": " 258/258 [00:00&lt;00:00, 51.3kB/s]"
      }
     },
     "1ae968738dc6473e96de7337a457a80d": {
      "model_module": "@jupyter-widgets/controls",
      "model_module_version": "2.0.0",
      "model_name": "HTMLModel",
      "state": {
       "_dom_classes": [],
       "_model_module": "@jupyter-widgets/controls",
       "_model_module_version": "2.0.0",
       "_model_name": "HTMLModel",
       "_view_count": null,
       "_view_module": "@jupyter-widgets/controls",
       "_view_module_version": "2.0.0",
       "_view_name": "HTMLView",
       "description": "",
       "description_allow_html": false,
       "layout": "IPY_MODEL_1fd1ba587694435f92d97eac28a71883",
       "placeholder": "​",
       "style": "IPY_MODEL_6fdf2d7bb36745868b14271bdb83b770",
       "tabbable": null,
       "tooltip": null,
       "value": "params.pt: 100%"
      }
     },
     "1fd1ba587694435f92d97eac28a71883": {
      "model_module": "@jupyter-widgets/base",
      "model_module_version": "2.0.0",
      "model_name": "LayoutModel",
      "state": {
       "_model_module": "@jupyter-widgets/base",
       "_model_module_version": "2.0.0",
       "_model_name": "LayoutModel",
       "_view_count": null,
       "_view_module": "@jupyter-widgets/base",
       "_view_module_version": "2.0.0",
       "_view_name": "LayoutView",
       "align_content": null,
       "align_items": null,
       "align_self": null,
       "border_bottom": null,
       "border_left": null,
       "border_right": null,
       "border_top": null,
       "bottom": null,
       "display": null,
       "flex": null,
       "flex_flow": null,
       "grid_area": null,
       "grid_auto_columns": null,
       "grid_auto_flow": null,
       "grid_auto_rows": null,
       "grid_column": null,
       "grid_gap": null,
       "grid_row": null,
       "grid_template_areas": null,
       "grid_template_columns": null,
       "grid_template_rows": null,
       "height": null,
       "justify_content": null,
       "justify_items": null,
       "left": null,
       "margin": null,
       "max_height": null,
       "max_width": null,
       "min_height": null,
       "min_width": null,
       "object_fit": null,
       "object_position": null,
       "order": null,
       "overflow": null,
       "padding": null,
       "right": null,
       "top": null,
       "visibility": null,
       "width": null
      }
     },
     "216ef55adb4a4686a3b492db4cc06563": {
      "model_module": "@jupyter-widgets/base",
      "model_module_version": "2.0.0",
      "model_name": "LayoutModel",
      "state": {
       "_model_module": "@jupyter-widgets/base",
       "_model_module_version": "2.0.0",
       "_model_name": "LayoutModel",
       "_view_count": null,
       "_view_module": "@jupyter-widgets/base",
       "_view_module_version": "2.0.0",
       "_view_name": "LayoutView",
       "align_content": null,
       "align_items": null,
       "align_self": null,
       "border_bottom": null,
       "border_left": null,
       "border_right": null,
       "border_top": null,
       "bottom": null,
       "display": null,
       "flex": null,
       "flex_flow": null,
       "grid_area": null,
       "grid_auto_columns": null,
       "grid_auto_flow": null,
       "grid_auto_rows": null,
       "grid_column": null,
       "grid_gap": null,
       "grid_row": null,
       "grid_template_areas": null,
       "grid_template_columns": null,
       "grid_template_rows": null,
       "height": null,
       "justify_content": null,
       "justify_items": null,
       "left": null,
       "margin": null,
       "max_height": null,
       "max_width": null,
       "min_height": null,
       "min_width": null,
       "object_fit": null,
       "object_position": null,
       "order": null,
       "overflow": null,
       "padding": null,
       "right": null,
       "top": null,
       "visibility": null,
       "width": null
      }
     },
     "2ba2dbde0e14483c86d63f3d95a04066": {
      "model_module": "@jupyter-widgets/controls",
      "model_module_version": "2.0.0",
      "model_name": "HBoxModel",
      "state": {
       "_dom_classes": [],
       "_model_module": "@jupyter-widgets/controls",
       "_model_module_version": "2.0.0",
       "_model_name": "HBoxModel",
       "_view_count": null,
       "_view_module": "@jupyter-widgets/controls",
       "_view_module_version": "2.0.0",
       "_view_name": "HBoxView",
       "box_style": "",
       "children": [
        "IPY_MODEL_1ae968738dc6473e96de7337a457a80d",
        "IPY_MODEL_d770fe66d3534b3fa533b5928736ae73",
        "IPY_MODEL_2d4436ce42494fde8e034f45905a6b3a"
       ],
       "layout": "IPY_MODEL_ae996e652e1e4f7fb6a7627cf393d1f2",
       "tabbable": null,
       "tooltip": null
      }
     },
     "2c645c6913594722bdb1848e3d9d703c": {
      "model_module": "@jupyter-widgets/controls",
      "model_module_version": "2.0.0",
      "model_name": "FloatProgressModel",
      "state": {
       "_dom_classes": [],
       "_model_module": "@jupyter-widgets/controls",
       "_model_module_version": "2.0.0",
       "_model_name": "FloatProgressModel",
       "_view_count": null,
       "_view_module": "@jupyter-widgets/controls",
       "_view_module_version": "2.0.0",
       "_view_name": "ProgressView",
       "bar_style": "success",
       "description": "",
       "description_allow_html": false,
       "layout": "IPY_MODEL_83c4aaf4b5fa40c9899a9caa9d7c5b77",
       "max": 2.0,
       "min": 0.0,
       "orientation": "horizontal",
       "style": "IPY_MODEL_b67333bd387a48e88d22113de655c87d",
       "tabbable": null,
       "tooltip": null,
       "value": 2.0
      }
     },
     "2cfc651f30ad49c8ace58b193bf8b686": {
      "model_module": "@jupyter-widgets/base",
      "model_module_version": "2.0.0",
      "model_name": "LayoutModel",
      "state": {
       "_model_module": "@jupyter-widgets/base",
       "_model_module_version": "2.0.0",
       "_model_name": "LayoutModel",
       "_view_count": null,
       "_view_module": "@jupyter-widgets/base",
       "_view_module_version": "2.0.0",
       "_view_name": "LayoutView",
       "align_content": null,
       "align_items": null,
       "align_self": null,
       "border_bottom": null,
       "border_left": null,
       "border_right": null,
       "border_top": null,
       "bottom": null,
       "display": null,
       "flex": null,
       "flex_flow": null,
       "grid_area": null,
       "grid_auto_columns": null,
       "grid_auto_flow": null,
       "grid_auto_rows": null,
       "grid_column": null,
       "grid_gap": null,
       "grid_row": null,
       "grid_template_areas": null,
       "grid_template_columns": null,
       "grid_template_rows": null,
       "height": null,
       "justify_content": null,
       "justify_items": null,
       "left": null,
       "margin": null,
       "max_height": null,
       "max_width": null,
       "min_height": null,
       "min_width": null,
       "object_fit": null,
       "object_position": null,
       "order": null,
       "overflow": null,
       "padding": null,
       "right": null,
       "top": null,
       "visibility": null,
       "width": null
      }
     },
     "2d4436ce42494fde8e034f45905a6b3a": {
      "model_module": "@jupyter-widgets/controls",
      "model_module_version": "2.0.0",
      "model_name": "HTMLModel",
      "state": {
       "_dom_classes": [],
       "_model_module": "@jupyter-widgets/controls",
       "_model_module_version": "2.0.0",
       "_model_name": "HTMLModel",
       "_view_count": null,
       "_view_module": "@jupyter-widgets/controls",
       "_view_module_version": "2.0.0",
       "_view_name": "HTMLView",
       "description": "",
       "description_allow_html": false,
       "layout": "IPY_MODEL_2cfc651f30ad49c8ace58b193bf8b686",
       "placeholder": "​",
       "style": "IPY_MODEL_94f0a6b0f0dd4411a93f6bd99eba428b",
       "tabbable": null,
       "tooltip": null,
       "value": " 2.15G/2.15G [00:06&lt;00:00, 508MB/s]"
      }
     },
     "2d87d39bd5694e32af8c6970be3b0eb4": {
      "model_module": "@jupyter-widgets/controls",
      "model_module_version": "2.0.0",
      "model_name": "HTMLStyleModel",
      "state": {
       "_model_module": "@jupyter-widgets/controls",
       "_model_module_version": "2.0.0",
       "_model_name": "HTMLStyleModel",
       "_view_count": null,
       "_view_module": "@jupyter-widgets/base",
       "_view_module_version": "2.0.0",
       "_view_name": "StyleView",
       "background": null,
       "description_width": "",
       "font_size": null,
       "text_color": null
      }
     },
     "34c673a46dc64883880996cb163cfff1": {
      "model_module": "@jupyter-widgets/controls",
      "model_module_version": "2.0.0",
      "model_name": "FloatProgressModel",
      "state": {
       "_dom_classes": [],
       "_model_module": "@jupyter-widgets/controls",
       "_model_module_version": "2.0.0",
       "_model_name": "FloatProgressModel",
       "_view_count": null,
       "_view_module": "@jupyter-widgets/controls",
       "_view_module_version": "2.0.0",
       "_view_name": "ProgressView",
       "bar_style": "success",
       "description": "",
       "description_allow_html": false,
       "layout": "IPY_MODEL_b47599dea20b4d329d34fee50a8e1674",
       "max": 258.0,
       "min": 0.0,
       "orientation": "horizontal",
       "style": "IPY_MODEL_6055bdf8c01f444ba2fadf1690aef078",
       "tabbable": null,
       "tooltip": null,
       "value": 258.0
      }
     },
     "4abe6fde3abe408ebd75a00e3fe8a68f": {
      "model_module": "@jupyter-widgets/controls",
      "model_module_version": "2.0.0",
      "model_name": "HTMLStyleModel",
      "state": {
       "_model_module": "@jupyter-widgets/controls",
       "_model_module_version": "2.0.0",
       "_model_name": "HTMLStyleModel",
       "_view_count": null,
       "_view_module": "@jupyter-widgets/base",
       "_view_module_version": "2.0.0",
       "_view_name": "StyleView",
       "background": null,
       "description_width": "",
       "font_size": null,
       "text_color": null
      }
     },
     "6055bdf8c01f444ba2fadf1690aef078": {
      "model_module": "@jupyter-widgets/controls",
      "model_module_version": "2.0.0",
      "model_name": "ProgressStyleModel",
      "state": {
       "_model_module": "@jupyter-widgets/controls",
       "_model_module_version": "2.0.0",
       "_model_name": "ProgressStyleModel",
       "_view_count": null,
       "_view_module": "@jupyter-widgets/base",
       "_view_module_version": "2.0.0",
       "_view_name": "StyleView",
       "bar_color": null,
       "description_width": ""
      }
     },
     "646fe8457cb045fba9b4735f9eb68fda": {
      "model_module": "@jupyter-widgets/controls",
      "model_module_version": "2.0.0",
      "model_name": "HTMLModel",
      "state": {
       "_dom_classes": [],
       "_model_module": "@jupyter-widgets/controls",
       "_model_module_version": "2.0.0",
       "_model_name": "HTMLModel",
       "_view_count": null,
       "_view_module": "@jupyter-widgets/controls",
       "_view_module_version": "2.0.0",
       "_view_name": "HTMLView",
       "description": "",
       "description_allow_html": false,
       "layout": "IPY_MODEL_0f0ad7f671a04c99899917e2714003f9",
       "placeholder": "​",
       "style": "IPY_MODEL_4abe6fde3abe408ebd75a00e3fe8a68f",
       "tabbable": null,
       "tooltip": null,
       "value": " 2/2 [00:05&lt;00:00,  2.32s/it]"
      }
     },
     "68796f1a4f8745a591ddc5fe2208c2a4": {
      "model_module": "@jupyter-widgets/base",
      "model_module_version": "2.0.0",
      "model_name": "LayoutModel",
      "state": {
       "_model_module": "@jupyter-widgets/base",
       "_model_module_version": "2.0.0",
       "_model_name": "LayoutModel",
       "_view_count": null,
       "_view_module": "@jupyter-widgets/base",
       "_view_module_version": "2.0.0",
       "_view_name": "LayoutView",
       "align_content": null,
       "align_items": null,
       "align_self": null,
       "border_bottom": null,
       "border_left": null,
       "border_right": null,
       "border_top": null,
       "bottom": null,
       "display": null,
       "flex": null,
       "flex_flow": null,
       "grid_area": null,
       "grid_auto_columns": null,
       "grid_auto_flow": null,
       "grid_auto_rows": null,
       "grid_column": null,
       "grid_gap": null,
       "grid_row": null,
       "grid_template_areas": null,
       "grid_template_columns": null,
       "grid_template_rows": null,
       "height": null,
       "justify_content": null,
       "justify_items": null,
       "left": null,
       "margin": null,
       "max_height": null,
       "max_width": null,
       "min_height": null,
       "min_width": null,
       "object_fit": null,
       "object_position": null,
       "order": null,
       "overflow": null,
       "padding": null,
       "right": null,
       "top": null,
       "visibility": null,
       "width": null
      }
     },
     "6fdf2d7bb36745868b14271bdb83b770": {
      "model_module": "@jupyter-widgets/controls",
      "model_module_version": "2.0.0",
      "model_name": "HTMLStyleModel",
      "state": {
       "_model_module": "@jupyter-widgets/controls",
       "_model_module_version": "2.0.0",
       "_model_name": "HTMLStyleModel",
       "_view_count": null,
       "_view_module": "@jupyter-widgets/base",
       "_view_module_version": "2.0.0",
       "_view_name": "StyleView",
       "background": null,
       "description_width": "",
       "font_size": null,
       "text_color": null
      }
     },
     "77ff13d0cfb948fc8911742f46663c05": {
      "model_module": "@jupyter-widgets/controls",
      "model_module_version": "2.0.0",
      "model_name": "HTMLStyleModel",
      "state": {
       "_model_module": "@jupyter-widgets/controls",
       "_model_module_version": "2.0.0",
       "_model_name": "HTMLStyleModel",
       "_view_count": null,
       "_view_module": "@jupyter-widgets/base",
       "_view_module_version": "2.0.0",
       "_view_name": "StyleView",
       "background": null,
       "description_width": "",
       "font_size": null,
       "text_color": null
      }
     },
     "83c4aaf4b5fa40c9899a9caa9d7c5b77": {
      "model_module": "@jupyter-widgets/base",
      "model_module_version": "2.0.0",
      "model_name": "LayoutModel",
      "state": {
       "_model_module": "@jupyter-widgets/base",
       "_model_module_version": "2.0.0",
       "_model_name": "LayoutModel",
       "_view_count": null,
       "_view_module": "@jupyter-widgets/base",
       "_view_module_version": "2.0.0",
       "_view_name": "LayoutView",
       "align_content": null,
       "align_items": null,
       "align_self": null,
       "border_bottom": null,
       "border_left": null,
       "border_right": null,
       "border_top": null,
       "bottom": null,
       "display": null,
       "flex": null,
       "flex_flow": null,
       "grid_area": null,
       "grid_auto_columns": null,
       "grid_auto_flow": null,
       "grid_auto_rows": null,
       "grid_column": null,
       "grid_gap": null,
       "grid_row": null,
       "grid_template_areas": null,
       "grid_template_columns": null,
       "grid_template_rows": null,
       "height": null,
       "justify_content": null,
       "justify_items": null,
       "left": null,
       "margin": null,
       "max_height": null,
       "max_width": null,
       "min_height": null,
       "min_width": null,
       "object_fit": null,
       "object_position": null,
       "order": null,
       "overflow": null,
       "padding": null,
       "right": null,
       "top": null,
       "visibility": null,
       "width": null
      }
     },
     "8af8645371ec4969a4eae2ef76c44c0a": {
      "model_module": "@jupyter-widgets/controls",
      "model_module_version": "2.0.0",
      "model_name": "ProgressStyleModel",
      "state": {
       "_model_module": "@jupyter-widgets/controls",
       "_model_module_version": "2.0.0",
       "_model_name": "ProgressStyleModel",
       "_view_count": null,
       "_view_module": "@jupyter-widgets/base",
       "_view_module_version": "2.0.0",
       "_view_name": "StyleView",
       "bar_color": null,
       "description_width": ""
      }
     },
     "8da12a5cd5e341ed80b6f0de5638aa18": {
      "model_module": "@jupyter-widgets/controls",
      "model_module_version": "2.0.0",
      "model_name": "HTMLModel",
      "state": {
       "_dom_classes": [],
       "_model_module": "@jupyter-widgets/controls",
       "_model_module_version": "2.0.0",
       "_model_name": "HTMLModel",
       "_view_count": null,
       "_view_module": "@jupyter-widgets/controls",
       "_view_module_version": "2.0.0",
       "_view_name": "HTMLView",
       "description": "",
       "description_allow_html": false,
       "layout": "IPY_MODEL_15e9d3493a6546dc97a6981c8d21eff7",
       "placeholder": "​",
       "style": "IPY_MODEL_77ff13d0cfb948fc8911742f46663c05",
       "tabbable": null,
       "tooltip": null,
       "value": "(…)ens/meta-llama/Llama-2-7b-hf/config.json: 100%"
      }
     },
     "94f0a6b0f0dd4411a93f6bd99eba428b": {
      "model_module": "@jupyter-widgets/controls",
      "model_module_version": "2.0.0",
      "model_name": "HTMLStyleModel",
      "state": {
       "_model_module": "@jupyter-widgets/controls",
       "_model_module_version": "2.0.0",
       "_model_name": "HTMLStyleModel",
       "_view_count": null,
       "_view_module": "@jupyter-widgets/base",
       "_view_module_version": "2.0.0",
       "_view_name": "StyleView",
       "background": null,
       "description_width": "",
       "font_size": null,
       "text_color": null
      }
     },
     "a2d7a65306f143a194415f732fafa828": {
      "model_module": "@jupyter-widgets/controls",
      "model_module_version": "2.0.0",
      "model_name": "HTMLModel",
      "state": {
       "_dom_classes": [],
       "_model_module": "@jupyter-widgets/controls",
       "_model_module_version": "2.0.0",
       "_model_name": "HTMLModel",
       "_view_count": null,
       "_view_module": "@jupyter-widgets/controls",
       "_view_module_version": "2.0.0",
       "_view_name": "HTMLView",
       "description": "",
       "description_allow_html": false,
       "layout": "IPY_MODEL_216ef55adb4a4686a3b492db4cc06563",
       "placeholder": "​",
       "style": "IPY_MODEL_2d87d39bd5694e32af8c6970be3b0eb4",
       "tabbable": null,
       "tooltip": null,
       "value": "Loading checkpoint shards: 100%"
      }
     },
     "a5b42f534db3468db9ee82f49d88c58c": {
      "model_module": "@jupyter-widgets/base",
      "model_module_version": "2.0.0",
      "model_name": "LayoutModel",
      "state": {
       "_model_module": "@jupyter-widgets/base",
       "_model_module_version": "2.0.0",
       "_model_name": "LayoutModel",
       "_view_count": null,
       "_view_module": "@jupyter-widgets/base",
       "_view_module_version": "2.0.0",
       "_view_name": "LayoutView",
       "align_content": null,
       "align_items": null,
       "align_self": null,
       "border_bottom": null,
       "border_left": null,
       "border_right": null,
       "border_top": null,
       "bottom": null,
       "display": null,
       "flex": null,
       "flex_flow": null,
       "grid_area": null,
       "grid_auto_columns": null,
       "grid_auto_flow": null,
       "grid_auto_rows": null,
       "grid_column": null,
       "grid_gap": null,
       "grid_row": null,
       "grid_template_areas": null,
       "grid_template_columns": null,
       "grid_template_rows": null,
       "height": null,
       "justify_content": null,
       "justify_items": null,
       "left": null,
       "margin": null,
       "max_height": null,
       "max_width": null,
       "min_height": null,
       "min_width": null,
       "object_fit": null,
       "object_position": null,
       "order": null,
       "overflow": null,
       "padding": null,
       "right": null,
       "top": null,
       "visibility": null,
       "width": null
      }
     },
     "ae996e652e1e4f7fb6a7627cf393d1f2": {
      "model_module": "@jupyter-widgets/base",
      "model_module_version": "2.0.0",
      "model_name": "LayoutModel",
      "state": {
       "_model_module": "@jupyter-widgets/base",
       "_model_module_version": "2.0.0",
       "_model_name": "LayoutModel",
       "_view_count": null,
       "_view_module": "@jupyter-widgets/base",
       "_view_module_version": "2.0.0",
       "_view_name": "LayoutView",
       "align_content": null,
       "align_items": null,
       "align_self": null,
       "border_bottom": null,
       "border_left": null,
       "border_right": null,
       "border_top": null,
       "bottom": null,
       "display": null,
       "flex": null,
       "flex_flow": null,
       "grid_area": null,
       "grid_auto_columns": null,
       "grid_auto_flow": null,
       "grid_auto_rows": null,
       "grid_column": null,
       "grid_gap": null,
       "grid_row": null,
       "grid_template_areas": null,
       "grid_template_columns": null,
       "grid_template_rows": null,
       "height": null,
       "justify_content": null,
       "justify_items": null,
       "left": null,
       "margin": null,
       "max_height": null,
       "max_width": null,
       "min_height": null,
       "min_width": null,
       "object_fit": null,
       "object_position": null,
       "order": null,
       "overflow": null,
       "padding": null,
       "right": null,
       "top": null,
       "visibility": null,
       "width": null
      }
     },
     "b47599dea20b4d329d34fee50a8e1674": {
      "model_module": "@jupyter-widgets/base",
      "model_module_version": "2.0.0",
      "model_name": "LayoutModel",
      "state": {
       "_model_module": "@jupyter-widgets/base",
       "_model_module_version": "2.0.0",
       "_model_name": "LayoutModel",
       "_view_count": null,
       "_view_module": "@jupyter-widgets/base",
       "_view_module_version": "2.0.0",
       "_view_name": "LayoutView",
       "align_content": null,
       "align_items": null,
       "align_self": null,
       "border_bottom": null,
       "border_left": null,
       "border_right": null,
       "border_top": null,
       "bottom": null,
       "display": null,
       "flex": null,
       "flex_flow": null,
       "grid_area": null,
       "grid_auto_columns": null,
       "grid_auto_flow": null,
       "grid_auto_rows": null,
       "grid_column": null,
       "grid_gap": null,
       "grid_row": null,
       "grid_template_areas": null,
       "grid_template_columns": null,
       "grid_template_rows": null,
       "height": null,
       "justify_content": null,
       "justify_items": null,
       "left": null,
       "margin": null,
       "max_height": null,
       "max_width": null,
       "min_height": null,
       "min_width": null,
       "object_fit": null,
       "object_position": null,
       "order": null,
       "overflow": null,
       "padding": null,
       "right": null,
       "top": null,
       "visibility": null,
       "width": null
      }
     },
     "b67333bd387a48e88d22113de655c87d": {
      "model_module": "@jupyter-widgets/controls",
      "model_module_version": "2.0.0",
      "model_name": "ProgressStyleModel",
      "state": {
       "_model_module": "@jupyter-widgets/controls",
       "_model_module_version": "2.0.0",
       "_model_name": "ProgressStyleModel",
       "_view_count": null,
       "_view_module": "@jupyter-widgets/base",
       "_view_module_version": "2.0.0",
       "_view_name": "StyleView",
       "bar_color": null,
       "description_width": ""
      }
     },
     "c7e19e2d264c43d8ba8364ddb8206ab7": {
      "model_module": "@jupyter-widgets/base",
      "model_module_version": "2.0.0",
      "model_name": "LayoutModel",
      "state": {
       "_model_module": "@jupyter-widgets/base",
       "_model_module_version": "2.0.0",
       "_model_name": "LayoutModel",
       "_view_count": null,
       "_view_module": "@jupyter-widgets/base",
       "_view_module_version": "2.0.0",
       "_view_name": "LayoutView",
       "align_content": null,
       "align_items": null,
       "align_self": null,
       "border_bottom": null,
       "border_left": null,
       "border_right": null,
       "border_top": null,
       "bottom": null,
       "display": null,
       "flex": null,
       "flex_flow": null,
       "grid_area": null,
       "grid_auto_columns": null,
       "grid_auto_flow": null,
       "grid_auto_rows": null,
       "grid_column": null,
       "grid_gap": null,
       "grid_row": null,
       "grid_template_areas": null,
       "grid_template_columns": null,
       "grid_template_rows": null,
       "height": null,
       "justify_content": null,
       "justify_items": null,
       "left": null,
       "margin": null,
       "max_height": null,
       "max_width": null,
       "min_height": null,
       "min_width": null,
       "object_fit": null,
       "object_position": null,
       "order": null,
       "overflow": null,
       "padding": null,
       "right": null,
       "top": null,
       "visibility": null,
       "width": null
      }
     },
     "d770fe66d3534b3fa533b5928736ae73": {
      "model_module": "@jupyter-widgets/controls",
      "model_module_version": "2.0.0",
      "model_name": "FloatProgressModel",
      "state": {
       "_dom_classes": [],
       "_model_module": "@jupyter-widgets/controls",
       "_model_module_version": "2.0.0",
       "_model_name": "FloatProgressModel",
       "_view_count": null,
       "_view_module": "@jupyter-widgets/controls",
       "_view_module_version": "2.0.0",
       "_view_name": "ProgressView",
       "bar_style": "success",
       "description": "",
       "description_allow_html": false,
       "layout": "IPY_MODEL_c7e19e2d264c43d8ba8364ddb8206ab7",
       "max": 2148023459.0,
       "min": 0.0,
       "orientation": "horizontal",
       "style": "IPY_MODEL_8af8645371ec4969a4eae2ef76c44c0a",
       "tabbable": null,
       "tooltip": null,
       "value": 2148023459.0
      }
     },
     "daee3d16b4244c75b7255b230b221f04": {
      "model_module": "@jupyter-widgets/controls",
      "model_module_version": "2.0.0",
      "model_name": "HBoxModel",
      "state": {
       "_dom_classes": [],
       "_model_module": "@jupyter-widgets/controls",
       "_model_module_version": "2.0.0",
       "_model_name": "HBoxModel",
       "_view_count": null,
       "_view_module": "@jupyter-widgets/controls",
       "_view_module_version": "2.0.0",
       "_view_name": "HBoxView",
       "box_style": "",
       "children": [
        "IPY_MODEL_a2d7a65306f143a194415f732fafa828",
        "IPY_MODEL_2c645c6913594722bdb1848e3d9d703c",
        "IPY_MODEL_646fe8457cb045fba9b4735f9eb68fda"
       ],
       "layout": "IPY_MODEL_a5b42f534db3468db9ee82f49d88c58c",
       "tabbable": null,
       "tooltip": null
      }
     },
     "f223326e52b1476fa3f429ed88822608": {
      "model_module": "@jupyter-widgets/controls",
      "model_module_version": "2.0.0",
      "model_name": "HBoxModel",
      "state": {
       "_dom_classes": [],
       "_model_module": "@jupyter-widgets/controls",
       "_model_module_version": "2.0.0",
       "_model_name": "HBoxModel",
       "_view_count": null,
       "_view_module": "@jupyter-widgets/controls",
       "_view_module_version": "2.0.0",
       "_view_name": "HBoxView",
       "box_style": "",
       "children": [
        "IPY_MODEL_8da12a5cd5e341ed80b6f0de5638aa18",
        "IPY_MODEL_34c673a46dc64883880996cb163cfff1",
        "IPY_MODEL_1735d27416b148308a9c4ec86c4eaf92"
       ],
       "layout": "IPY_MODEL_f72874b8bea64f5781e0046da076ece2",
       "tabbable": null,
       "tooltip": null
      }
     },
     "f72874b8bea64f5781e0046da076ece2": {
      "model_module": "@jupyter-widgets/base",
      "model_module_version": "2.0.0",
      "model_name": "LayoutModel",
      "state": {
       "_model_module": "@jupyter-widgets/base",
       "_model_module_version": "2.0.0",
       "_model_name": "LayoutModel",
       "_view_count": null,
       "_view_module": "@jupyter-widgets/base",
       "_view_module_version": "2.0.0",
       "_view_name": "LayoutView",
       "align_content": null,
       "align_items": null,
       "align_self": null,
       "border_bottom": null,
       "border_left": null,
       "border_right": null,
       "border_top": null,
       "bottom": null,
       "display": null,
       "flex": null,
       "flex_flow": null,
       "grid_area": null,
       "grid_auto_columns": null,
       "grid_auto_flow": null,
       "grid_auto_rows": null,
       "grid_column": null,
       "grid_gap": null,
       "grid_row": null,
       "grid_template_areas": null,
       "grid_template_columns": null,
       "grid_template_rows": null,
       "height": null,
       "justify_content": null,
       "justify_items": null,
       "left": null,
       "margin": null,
       "max_height": null,
       "max_width": null,
       "min_height": null,
       "min_width": null,
       "object_fit": null,
       "object_position": null,
       "order": null,
       "overflow": null,
       "padding": null,
       "right": null,
       "top": null,
       "visibility": null,
       "width": null
      }
     },
     "ffa2322814364cc28c949d41a208b4c2": {
      "model_module": "@jupyter-widgets/controls",
      "model_module_version": "2.0.0",
      "model_name": "HTMLStyleModel",
      "state": {
       "_model_module": "@jupyter-widgets/controls",
       "_model_module_version": "2.0.0",
       "_model_name": "HTMLStyleModel",
       "_view_count": null,
       "_view_module": "@jupyter-widgets/base",
       "_view_module_version": "2.0.0",
       "_view_name": "StyleView",
       "background": null,
       "description_width": "",
       "font_size": null,
       "text_color": null
      }
     }
    },
    "version_major": 2,
    "version_minor": 0
   }
  }
 },
 "nbformat": 4,
 "nbformat_minor": 5
}