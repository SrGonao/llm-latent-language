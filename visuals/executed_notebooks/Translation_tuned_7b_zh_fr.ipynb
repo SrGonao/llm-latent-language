{
 "cells": [
  {
   "cell_type": "code",
   "execution_count": 1,
   "id": "9e266eca-b017-461f-9be4-bec02cae9b28",
   "metadata": {
    "execution": {
     "iopub.execute_input": "2024-02-23T16:26:31.871761Z",
     "iopub.status.busy": "2024-02-23T16:26:31.871624Z",
     "iopub.status.idle": "2024-02-23T16:26:31.885026Z",
     "shell.execute_reply": "2024-02-23T16:26:31.884707Z"
    },
    "papermill": {
     "duration": 0.019703,
     "end_time": "2024-02-23T16:26:31.885973",
     "exception": false,
     "start_time": "2024-02-23T16:26:31.866270",
     "status": "completed"
    },
    "tags": []
   },
   "outputs": [],
   "source": [
    "%load_ext autoreload\n",
    "%autoreload 2"
   ]
  },
  {
   "cell_type": "code",
   "execution_count": 2,
   "id": "fae8a7a9-6902-424e-8e66-b107fccb361f",
   "metadata": {
    "execution": {
     "iopub.execute_input": "2024-02-23T16:26:31.893348Z",
     "iopub.status.busy": "2024-02-23T16:26:31.893203Z",
     "iopub.status.idle": "2024-02-23T16:26:34.845591Z",
     "shell.execute_reply": "2024-02-23T16:26:34.845037Z"
    },
    "papermill": {
     "duration": 2.957199,
     "end_time": "2024-02-23T16:26:34.846881",
     "exception": false,
     "start_time": "2024-02-23T16:26:31.889682",
     "status": "completed"
    },
    "tags": []
   },
   "outputs": [],
   "source": [
    "import pandas as pd\n",
    "import sys\n",
    "import os\n",
    "from dataclasses import dataclass\n",
    "import json\n",
    "import numpy as np\n",
    "from matplotlib import pyplot as plt\n",
    "import seaborn as sns\n",
    "import torch\n",
    "import torch.nn as nn\n",
    "from llamawrapper import load_unemb_only, LlamaHelper\n",
    "import seaborn as sns\n",
    "from scipy.stats import bootstrap\n",
    "from utils import plot_ci, plot_ci_plus_heatmap\n",
    "from tqdm import tqdm\n",
    "from transformers import AutoModelForCausalLM, AutoTokenizer\n",
    "# fix random seed\n",
    "seed = 42\n",
    "np.random.seed(seed)\n",
    "torch.manual_seed(seed)\n",
    "sys.path.append('../tuned-lens')\n",
    "from tuned_lens.nn.lenses import TunedLens,LogitLens"
   ]
  },
  {
   "cell_type": "code",
   "execution_count": 3,
   "id": "1fb93987",
   "metadata": {
    "execution": {
     "iopub.execute_input": "2024-02-23T16:26:34.855290Z",
     "iopub.status.busy": "2024-02-23T16:26:34.855032Z",
     "iopub.status.idle": "2024-02-23T16:26:34.887925Z",
     "shell.execute_reply": "2024-02-23T16:26:34.887554Z"
    },
    "papermill": {
     "duration": 0.037853,
     "end_time": "2024-02-23T16:26:34.888853",
     "exception": false,
     "start_time": "2024-02-23T16:26:34.851000",
     "status": "completed"
    },
    "tags": [
     "parameters"
    ]
   },
   "outputs": [],
   "source": [
    "input_lang = 'fr'\n",
    "target_lang = 'fr'\n",
    "model_size = '7b'\n",
    "prefix = \"./data/langs/\"\n",
    "type = 'logit'"
   ]
  },
  {
   "cell_type": "code",
   "execution_count": 4,
   "id": "f7447cf2",
   "metadata": {
    "execution": {
     "iopub.execute_input": "2024-02-23T16:26:34.903384Z",
     "iopub.status.busy": "2024-02-23T16:26:34.903253Z",
     "iopub.status.idle": "2024-02-23T16:26:34.933181Z",
     "shell.execute_reply": "2024-02-23T16:26:34.932839Z"
    },
    "papermill": {
     "duration": 0.042072,
     "end_time": "2024-02-23T16:26:34.934157",
     "exception": false,
     "start_time": "2024-02-23T16:26:34.892085",
     "status": "completed"
    },
    "tags": [
     "injected-parameters"
    ]
   },
   "outputs": [],
   "source": [
    "# Parameters\n",
    "model_size = \"7b\"\n",
    "target_lang = \"fr\"\n",
    "input_lang = \"zh\"\n",
    "type = \"tuned\"\n"
   ]
  },
  {
   "cell_type": "code",
   "execution_count": 5,
   "id": "33747213",
   "metadata": {
    "execution": {
     "iopub.execute_input": "2024-02-23T16:26:34.947145Z",
     "iopub.status.busy": "2024-02-23T16:26:34.946772Z",
     "iopub.status.idle": "2024-02-23T16:26:48.145024Z",
     "shell.execute_reply": "2024-02-23T16:26:48.144214Z"
    },
    "papermill": {
     "duration": 13.203623,
     "end_time": "2024-02-23T16:26:48.146310",
     "exception": false,
     "start_time": "2024-02-23T16:26:34.942687",
     "status": "completed"
    },
    "tags": []
   },
   "outputs": [
    {
     "data": {
      "application/vnd.jupyter.widget-view+json": {
       "model_id": "eb833c0db54743a2bf70b1ada68104dc",
       "version_major": 2,
       "version_minor": 0
      },
      "text/plain": [
       "Loading checkpoint shards:   0%|          | 0/2 [00:00<?, ?it/s]"
      ]
     },
     "metadata": {},
     "output_type": "display_data"
    },
    {
     "name": "stdout",
     "output_type": "stream",
     "text": [
      "params.pt AlignmentResearch/tuned-lens space main lens/meta-llama/Llama-2-7b-hf None\n"
     ]
    },
    {
     "data": {
      "application/vnd.jupyter.widget-view+json": {
       "model_id": "3779197567754b5b9d757e00b00758ee",
       "version_major": 2,
       "version_minor": 0
      },
      "text/plain": [
       "params.pt:   0%|          | 0.00/2.15G [00:00<?, ?B/s]"
      ]
     },
     "metadata": {},
     "output_type": "display_data"
    },
    {
     "data": {
      "application/vnd.jupyter.widget-view+json": {
       "model_id": "0672013e75b547d38701718395e7e3a8",
       "version_major": 2,
       "version_minor": 0
      },
      "text/plain": [
       "(…)ens/meta-llama/Llama-2-7b-hf/config.json:   0%|          | 0.00/258 [00:00<?, ?B/s]"
      ]
     },
     "metadata": {},
     "output_type": "display_data"
    }
   ],
   "source": [
    "df_en_input = pd.read_csv(f'{prefix}{input_lang}/clean.csv').reindex()\n",
    "df_en_target = pd.read_csv(f'{prefix}{target_lang}/clean.csv').reindex()\n",
    "llama = AutoModelForCausalLM.from_pretrained(  # type: ignore\n",
    "                f\"meta-llama/Llama-2-{model_size}-hf\",\n",
    "                device_map={\"\": \"cuda\"},\n",
    "                revision=\"main\",\n",
    "                torch_dtype=\"auto\",\n",
    "                local_files_only=\"true\",cache_dir=\"/mnt/ssd-1/hf_cache/\"\n",
    "            )\n",
    "    \n",
    "latent=\"en\"\n",
    "if type == 'logit':\n",
    "    llama_lens = LogitLens.from_model(llama).to(\"cuda\")\n",
    "    out_dir = f'./visuals/logit'\n",
    "if type == 'tuned':\n",
    "    llama_lens = TunedLens.from_model_and_pretrained(llama,f\"meta-llama/Llama-2-{model_size}-hf\").to(\"cuda\")\n",
    "    out_dir = f'./visuals/tuned'\n",
    "if type == 'tuned-chinese':\n",
    "    llama_lens = TunedLens.from_model_and_pretrained(llama,\"../tuned-lens/my_lenses/chinese\").to(\"cuda\")\n",
    "    out_dir = f'./visuals/tuned-chinese'\n",
    "    latent = 'zh'\n",
    "tokenizer = AutoTokenizer.from_pretrained(\n",
    "                f\"meta-llama/Llama-2-7b-hf\",local_files_only=\"true\",cache_dir=\"/mnt/ssd-1/hf_cache/\"\n",
    "            )"
   ]
  },
  {
   "cell_type": "code",
   "execution_count": 6,
   "id": "bc45e052",
   "metadata": {
    "execution": {
     "iopub.execute_input": "2024-02-23T16:26:48.155972Z",
     "iopub.status.busy": "2024-02-23T16:26:48.155815Z",
     "iopub.status.idle": "2024-02-23T16:26:49.316256Z",
     "shell.execute_reply": "2024-02-23T16:26:49.315762Z"
    },
    "papermill": {
     "duration": 1.165957,
     "end_time": "2024-02-23T16:26:49.317084",
     "exception": false,
     "start_time": "2024-02-23T16:26:48.151127",
     "status": "completed"
    },
    "tags": []
   },
   "outputs": [
    {
     "name": "stdout",
     "output_type": "stream",
     "text": [
      "Sequential(\n",
      "  (0): LlamaRMSNorm()\n",
      "  (1): Linear(in_features=4096, out_features=32000, bias=False)\n",
      ")\n",
      "U torch.Size([32000, 4096]) weights torch.Size([1, 4096])\n"
     ]
    },
    {
     "name": "stdout",
     "output_type": "stream",
     "text": [
      "0.058621685951948166\n"
     ]
    }
   ],
   "source": [
    "unemb = nn.Sequential(llama.model.norm, llama.lm_head)\n",
    "print(unemb)\n",
    "# prepare for energy plots\n",
    "U = list(unemb[1].parameters())[0].detach().cpu().float()\n",
    "weights = list(unemb[0].parameters())[0].detach().cpu().float()\n",
    "print(f'U {U.shape} weights {weights.unsqueeze(0).shape}')\n",
    "U_weighted = U.clone() \n",
    "#U_weighted = U_weighted / ((U_weighted**2).mean(dim=1, keepdim=True))**0.5\n",
    "U_weighted *= weights.unsqueeze(0)\n",
    "U_normalized = U_weighted / ((U_weighted**2).sum(dim=1, keepdim=True))**0.5\n",
    "v = U.shape[0]\n",
    "TT = U_normalized.T @ U_normalized\n",
    "avgUU = (((U_normalized.T @ U_normalized)**2).sum() / v**2)**0.5\n",
    "print(avgUU.item())"
   ]
  },
  {
   "cell_type": "code",
   "execution_count": 7,
   "id": "5686a8d5",
   "metadata": {
    "execution": {
     "iopub.execute_input": "2024-02-23T16:26:49.329196Z",
     "iopub.status.busy": "2024-02-23T16:26:49.328871Z",
     "iopub.status.idle": "2024-02-23T16:26:50.714864Z",
     "shell.execute_reply": "2024-02-23T16:26:50.714364Z"
    },
    "papermill": {
     "duration": 1.394399,
     "end_time": "2024-02-23T16:26:50.715682",
     "exception": false,
     "start_time": "2024-02-23T16:26:49.321283",
     "status": "completed"
    },
    "tags": []
   },
   "outputs": [
    {
     "name": "stdout",
     "output_type": "stream",
     "text": [
      "for fr 68 of 118 are single tokens\n",
      "final length of df_en_fr_zh: 100\n"
     ]
    }
   ],
   "source": [
    "count = 0\n",
    "for idx, word in enumerate(df_en_target['word_translation']):\n",
    "    if word in tokenizer.get_vocab() or '▁'+word in tokenizer.get_vocab():\n",
    "        count += 1\n",
    "\n",
    "print(f'for {target_lang} {count} of {len(df_en_target)} are single tokens')\n",
    "\n",
    "if input_lang == target_lang:\n",
    "    df_en_target_input = df_en_target.copy()\n",
    "    df_en_target_input.rename(columns={'word_original': 'en', \n",
    "                                f'word_translation': target_lang if target_lang != 'en' else 'en_tgt'}, \n",
    "                                inplace=True)\n",
    "else:\n",
    "    df_en_target_input = df_en_target.merge(df_en_input, on=['word_original'], suffixes=(f'_{target_lang}', f'_{input_lang}'))\n",
    "    df_en_target_input.rename(columns={'word_original': 'en', \n",
    "                                f'word_translation_{target_lang}': target_lang if target_lang != 'en' else 'en_tgt', \n",
    "                                f'word_translation_{input_lang}': input_lang if input_lang != 'en' else 'en_in'}, \n",
    "                                inplace=True)\n",
    "# delete all rows where en is contained in de or fr\n",
    "if target_lang != 'en':\n",
    "    for i, row in df_en_target_input.iterrows():\n",
    "        if row['en'].lower() in row[target_lang].lower():\n",
    "            df_en_target_input.drop(i, inplace=True)\n",
    "\n",
    "print(f'final length of df_en_{target_lang}_{input_lang}: {len(df_en_target_input)}')"
   ]
  },
  {
   "cell_type": "code",
   "execution_count": 8,
   "id": "eed300f4",
   "metadata": {
    "execution": {
     "iopub.execute_input": "2024-02-23T16:26:50.724574Z",
     "iopub.status.busy": "2024-02-23T16:26:50.724405Z",
     "iopub.status.idle": "2024-02-23T16:26:50.762197Z",
     "shell.execute_reply": "2024-02-23T16:26:50.761834Z"
    },
    "papermill": {
     "duration": 0.042596,
     "end_time": "2024-02-23T16:26:50.762936",
     "exception": false,
     "start_time": "2024-02-23T16:26:50.720340",
     "status": "completed"
    },
    "tags": []
   },
   "outputs": [
    {
     "data": {
      "text/html": [
       "<div>\n",
       "<style scoped>\n",
       "    .dataframe tbody tr th:only-of-type {\n",
       "        vertical-align: middle;\n",
       "    }\n",
       "\n",
       "    .dataframe tbody tr th {\n",
       "        vertical-align: top;\n",
       "    }\n",
       "\n",
       "    .dataframe thead th {\n",
       "        text-align: right;\n",
       "    }\n",
       "</style>\n",
       "<table border=\"1\" class=\"dataframe\">\n",
       "  <thead>\n",
       "    <tr style=\"text-align: right;\">\n",
       "      <th></th>\n",
       "      <th>lang_fr</th>\n",
       "      <th>en</th>\n",
       "      <th>fr</th>\n",
       "      <th>blank_prompt_original_fr</th>\n",
       "      <th>blank_prompt_translation_fr</th>\n",
       "      <th>blank_prompt_translation_masked_fr</th>\n",
       "      <th>error</th>\n",
       "      <th>lang_zh</th>\n",
       "      <th>zh</th>\n",
       "      <th>blank_prompt_original_zh</th>\n",
       "      <th>blank_prompt_translation_zh</th>\n",
       "      <th>blank_prompt_translation_masked_zh</th>\n",
       "    </tr>\n",
       "  </thead>\n",
       "  <tbody>\n",
       "    <tr>\n",
       "      <th>0</th>\n",
       "      <td>fr</td>\n",
       "      <td>cloud</td>\n",
       "      <td>nuage</td>\n",
       "      <td>A \"cloud\" is a visible mass of condensed water...</td>\n",
       "      <td>Un \"nuage\" est une masse visible de vapeur d'e...</td>\n",
       "      <td>Un \"___\" est une masse visible de vapeur d'eau...</td>\n",
       "      <td>no error</td>\n",
       "      <td>zh</td>\n",
       "      <td>云</td>\n",
       "      <td>A \"cloud\" is a visible mass of condensed water...</td>\n",
       "      <td>\"云\"是大气中浮动的凝结水蒸气的可见质量。答案：\"云\"。</td>\n",
       "      <td>\"_\"是大气中浮动的凝结水蒸气的可见质量。答案：\"云\"。</td>\n",
       "    </tr>\n",
       "    <tr>\n",
       "      <th>1</th>\n",
       "      <td>fr</td>\n",
       "      <td>bag</td>\n",
       "      <td>sac</td>\n",
       "      <td>A \"bag\" is used to carry items. Answer: \"bag\".</td>\n",
       "      <td>Un \"sac\" est utilisé pour transporter des obje...</td>\n",
       "      <td>Un \"___\" est utilisé pour transporter des obje...</td>\n",
       "      <td>no error</td>\n",
       "      <td>zh</td>\n",
       "      <td>包</td>\n",
       "      <td>A \"bag\" is used to carry items. Answer: \"bag\".</td>\n",
       "      <td>\"包\"用来携带物品。答案：\"包\"。</td>\n",
       "      <td>\"_\"用来携带物品。答案：\"包\"。</td>\n",
       "    </tr>\n",
       "    <tr>\n",
       "      <th>2</th>\n",
       "      <td>fr</td>\n",
       "      <td>mouth</td>\n",
       "      <td>bouche</td>\n",
       "      <td>A \"mouth\" is used to eat food and speak. Answe...</td>\n",
       "      <td>La \"bouche\" sert à manger et à parler. Réponse...</td>\n",
       "      <td>La \"___\" sert à manger et à parler. Réponse : ...</td>\n",
       "      <td>no error</td>\n",
       "      <td>zh</td>\n",
       "      <td>口</td>\n",
       "      <td>A \"mouth\" is used to eat food and speak. Answe...</td>\n",
       "      <td>\"口\"用来吃食物和说话。答案：\"口\"。</td>\n",
       "      <td>\"_\"用来吃食物和说话。答案：\"口\"。</td>\n",
       "    </tr>\n",
       "    <tr>\n",
       "      <th>3</th>\n",
       "      <td>fr</td>\n",
       "      <td>soil</td>\n",
       "      <td>sol</td>\n",
       "      <td>\"A \"soil\" is used for planting trees and crops...</td>\n",
       "      <td>\"Un \"sol\" est utilisé pour planter des arbres ...</td>\n",
       "      <td>\"Un \"___\" est utilisé pour planter des arbres ...</td>\n",
       "      <td>no error</td>\n",
       "      <td>zh</td>\n",
       "      <td>土</td>\n",
       "      <td>\"A \"soil\" is used for planting trees and crops...</td>\n",
       "      <td>\"土\"用于种植树木和作物。答案：\"土\"。</td>\n",
       "      <td>\"_\"用于种植树木和作物。答案：\"土\"。</td>\n",
       "    </tr>\n",
       "    <tr>\n",
       "      <th>4</th>\n",
       "      <td>fr</td>\n",
       "      <td>mountain</td>\n",
       "      <td>montagne</td>\n",
       "      <td>A \"mountain\" is a large natural elevation of t...</td>\n",
       "      <td>Une \"montagne\" est une grande élévation nature...</td>\n",
       "      <td>Une \"___\" est une grande élévation naturelle d...</td>\n",
       "      <td>no error</td>\n",
       "      <td>zh</td>\n",
       "      <td>山</td>\n",
       "      <td>A \"mountain\" is a large natural elevation of t...</td>\n",
       "      <td>\"山\"是地球表面的大自然升高地。答案：\"山\"。</td>\n",
       "      <td>\"_\"是地球表面的大自然升高地。答案：\"山\"。</td>\n",
       "    </tr>\n",
       "    <tr>\n",
       "      <th>...</th>\n",
       "      <td>...</td>\n",
       "      <td>...</td>\n",
       "      <td>...</td>\n",
       "      <td>...</td>\n",
       "      <td>...</td>\n",
       "      <td>...</td>\n",
       "      <td>...</td>\n",
       "      <td>...</td>\n",
       "      <td>...</td>\n",
       "      <td>...</td>\n",
       "      <td>...</td>\n",
       "      <td>...</td>\n",
       "    </tr>\n",
       "    <tr>\n",
       "      <th>113</th>\n",
       "      <td>fr</td>\n",
       "      <td>rise</td>\n",
       "      <td>hausse</td>\n",
       "      <td>\"A \"rise\" is used to describe an increase or u...</td>\n",
       "      <td>\"Une \"hausse\" est utilisée pour décrire une au...</td>\n",
       "      <td>\"Une \"___\" est utilisée pour décrire une augme...</td>\n",
       "      <td>no error</td>\n",
       "      <td>zh</td>\n",
       "      <td>起</td>\n",
       "      <td>\"A \"rise\" is used to describe an increase or u...</td>\n",
       "      <td>\"起\"用来描述增加或向上移动。答案：\"起\"。</td>\n",
       "      <td>\"_\"用来描述增加或向上移动。答案：\"起\"。</td>\n",
       "    </tr>\n",
       "    <tr>\n",
       "      <th>114</th>\n",
       "      <td>fr</td>\n",
       "      <td>left</td>\n",
       "      <td>gauche</td>\n",
       "      <td>'A \"left\" is a direction opposite to right. An...</td>\n",
       "      <td>Une \"gauche\" est une direction opposée à la dr...</td>\n",
       "      <td>Une \"___\" est une direction opposée à la droit...</td>\n",
       "      <td>no error</td>\n",
       "      <td>zh</td>\n",
       "      <td>左</td>\n",
       "      <td>'A \"left\" is a direction opposite to right. An...</td>\n",
       "      <td>\"左\"是右的相反方向。答案：\"左\"。</td>\n",
       "      <td>\"_\"是右的相反方向。答案：\"左\"。</td>\n",
       "    </tr>\n",
       "    <tr>\n",
       "      <th>115</th>\n",
       "      <td>fr</td>\n",
       "      <td>sound</td>\n",
       "      <td>son</td>\n",
       "      <td>A \"sound\" is something we hear. Answer: \"sound\".</td>\n",
       "      <td>Un \"son\" est quelque chose que l'on entend. Ré...</td>\n",
       "      <td>Un \"___\" est quelque chose que l'on entend. Ré...</td>\n",
       "      <td>no error</td>\n",
       "      <td>zh</td>\n",
       "      <td>音</td>\n",
       "      <td>A \"sound\" is something we hear. Answer: \"sound\".</td>\n",
       "      <td>\"音\"是我们听到的东西。答案：\"音\"。</td>\n",
       "      <td>\"_\"是我们听到的东西。答案：\"音\"。</td>\n",
       "    </tr>\n",
       "    <tr>\n",
       "      <th>116</th>\n",
       "      <td>fr</td>\n",
       "      <td>power</td>\n",
       "      <td>pouvoir</td>\n",
       "      <td>\"A \"power\" is used to control or influence peo...</td>\n",
       "      <td>\"Un \"pouvoir\" est utilisé pour contrôler ou in...</td>\n",
       "      <td>\"Un \"___\" est utilisé pour contrôler ou influe...</td>\n",
       "      <td>no error</td>\n",
       "      <td>zh</td>\n",
       "      <td>力</td>\n",
       "      <td>\"A \"power\" is used to control or influence peo...</td>\n",
       "      <td>\"力\"用来控制或影响人或物。答案：\"力\"。</td>\n",
       "      <td>\"_\"用来控制或影响人或物。答案：\"力\"。</td>\n",
       "    </tr>\n",
       "    <tr>\n",
       "      <th>117</th>\n",
       "      <td>fr</td>\n",
       "      <td>summer</td>\n",
       "      <td>été</td>\n",
       "      <td>\"The \"summer\" is a season known for its warm w...</td>\n",
       "      <td>\"L'\"été\" est une saison connue pour son temps ...</td>\n",
       "      <td>\"L'\"___\" est une saison connue pour son temps ...</td>\n",
       "      <td>no error</td>\n",
       "      <td>zh</td>\n",
       "      <td>夏</td>\n",
       "      <td>\"The \"summer\" is a season known for its warm w...</td>\n",
       "      <td>\"夏\"是以温暖的天气为特征的季节。答案：\"夏\"。</td>\n",
       "      <td>\"_\"是以温暖的天气为特征的季节。答案：\"夏\"。</td>\n",
       "    </tr>\n",
       "  </tbody>\n",
       "</table>\n",
       "<p>100 rows × 12 columns</p>\n",
       "</div>"
      ],
      "text/plain": [
       "    lang_fr        en        fr  \\\n",
       "0        fr     cloud     nuage   \n",
       "1        fr       bag       sac   \n",
       "2        fr     mouth    bouche   \n",
       "3        fr      soil       sol   \n",
       "4        fr  mountain  montagne   \n",
       "..      ...       ...       ...   \n",
       "113      fr      rise    hausse   \n",
       "114      fr      left    gauche   \n",
       "115      fr     sound       son   \n",
       "116      fr     power   pouvoir   \n",
       "117      fr    summer       été   \n",
       "\n",
       "                              blank_prompt_original_fr  \\\n",
       "0    A \"cloud\" is a visible mass of condensed water...   \n",
       "1       A \"bag\" is used to carry items. Answer: \"bag\".   \n",
       "2    A \"mouth\" is used to eat food and speak. Answe...   \n",
       "3    \"A \"soil\" is used for planting trees and crops...   \n",
       "4    A \"mountain\" is a large natural elevation of t...   \n",
       "..                                                 ...   \n",
       "113  \"A \"rise\" is used to describe an increase or u...   \n",
       "114  'A \"left\" is a direction opposite to right. An...   \n",
       "115   A \"sound\" is something we hear. Answer: \"sound\".   \n",
       "116  \"A \"power\" is used to control or influence peo...   \n",
       "117  \"The \"summer\" is a season known for its warm w...   \n",
       "\n",
       "                           blank_prompt_translation_fr  \\\n",
       "0    Un \"nuage\" est une masse visible de vapeur d'e...   \n",
       "1    Un \"sac\" est utilisé pour transporter des obje...   \n",
       "2    La \"bouche\" sert à manger et à parler. Réponse...   \n",
       "3    \"Un \"sol\" est utilisé pour planter des arbres ...   \n",
       "4    Une \"montagne\" est une grande élévation nature...   \n",
       "..                                                 ...   \n",
       "113  \"Une \"hausse\" est utilisée pour décrire une au...   \n",
       "114  Une \"gauche\" est une direction opposée à la dr...   \n",
       "115  Un \"son\" est quelque chose que l'on entend. Ré...   \n",
       "116  \"Un \"pouvoir\" est utilisé pour contrôler ou in...   \n",
       "117  \"L'\"été\" est une saison connue pour son temps ...   \n",
       "\n",
       "                    blank_prompt_translation_masked_fr     error lang_zh zh  \\\n",
       "0    Un \"___\" est une masse visible de vapeur d'eau...  no error      zh  云   \n",
       "1    Un \"___\" est utilisé pour transporter des obje...  no error      zh  包   \n",
       "2    La \"___\" sert à manger et à parler. Réponse : ...  no error      zh  口   \n",
       "3    \"Un \"___\" est utilisé pour planter des arbres ...  no error      zh  土   \n",
       "4    Une \"___\" est une grande élévation naturelle d...  no error      zh  山   \n",
       "..                                                 ...       ...     ... ..   \n",
       "113  \"Une \"___\" est utilisée pour décrire une augme...  no error      zh  起   \n",
       "114  Une \"___\" est une direction opposée à la droit...  no error      zh  左   \n",
       "115  Un \"___\" est quelque chose que l'on entend. Ré...  no error      zh  音   \n",
       "116  \"Un \"___\" est utilisé pour contrôler ou influe...  no error      zh  力   \n",
       "117  \"L'\"___\" est une saison connue pour son temps ...  no error      zh  夏   \n",
       "\n",
       "                              blank_prompt_original_zh  \\\n",
       "0    A \"cloud\" is a visible mass of condensed water...   \n",
       "1       A \"bag\" is used to carry items. Answer: \"bag\".   \n",
       "2    A \"mouth\" is used to eat food and speak. Answe...   \n",
       "3    \"A \"soil\" is used for planting trees and crops...   \n",
       "4    A \"mountain\" is a large natural elevation of t...   \n",
       "..                                                 ...   \n",
       "113  \"A \"rise\" is used to describe an increase or u...   \n",
       "114  'A \"left\" is a direction opposite to right. An...   \n",
       "115   A \"sound\" is something we hear. Answer: \"sound\".   \n",
       "116  \"A \"power\" is used to control or influence peo...   \n",
       "117  \"The \"summer\" is a season known for its warm w...   \n",
       "\n",
       "      blank_prompt_translation_zh blank_prompt_translation_masked_zh  \n",
       "0    \"云\"是大气中浮动的凝结水蒸气的可见质量。答案：\"云\"。       \"_\"是大气中浮动的凝结水蒸气的可见质量。答案：\"云\"。  \n",
       "1               \"包\"用来携带物品。答案：\"包\"。                  \"_\"用来携带物品。答案：\"包\"。  \n",
       "2             \"口\"用来吃食物和说话。答案：\"口\"。                \"_\"用来吃食物和说话。答案：\"口\"。  \n",
       "3            \"土\"用于种植树木和作物。答案：\"土\"。               \"_\"用于种植树木和作物。答案：\"土\"。  \n",
       "4         \"山\"是地球表面的大自然升高地。答案：\"山\"。            \"_\"是地球表面的大自然升高地。答案：\"山\"。  \n",
       "..                            ...                                ...  \n",
       "113        \"起\"用来描述增加或向上移动。答案：\"起\"。             \"_\"用来描述增加或向上移动。答案：\"起\"。  \n",
       "114            \"左\"是右的相反方向。答案：\"左\"。                 \"_\"是右的相反方向。答案：\"左\"。  \n",
       "115           \"音\"是我们听到的东西。答案：\"音\"。                \"_\"是我们听到的东西。答案：\"音\"。  \n",
       "116         \"力\"用来控制或影响人或物。答案：\"力\"。              \"_\"用来控制或影响人或物。答案：\"力\"。  \n",
       "117      \"夏\"是以温暖的天气为特征的季节。答案：\"夏\"。           \"_\"是以温暖的天气为特征的季节。答案：\"夏\"。  \n",
       "\n",
       "[100 rows x 12 columns]"
      ]
     },
     "execution_count": 8,
     "metadata": {},
     "output_type": "execute_result"
    }
   ],
   "source": [
    "df_en_target_input"
   ]
  },
  {
   "cell_type": "code",
   "execution_count": 9,
   "id": "f0c0a52d",
   "metadata": {
    "execution": {
     "iopub.execute_input": "2024-02-23T16:26:50.771076Z",
     "iopub.status.busy": "2024-02-23T16:26:50.770939Z",
     "iopub.status.idle": "2024-02-23T16:26:50.804068Z",
     "shell.execute_reply": "2024-02-23T16:26:50.803660Z"
    },
    "papermill": {
     "duration": 0.038639,
     "end_time": "2024-02-23T16:26:50.805221",
     "exception": false,
     "start_time": "2024-02-23T16:26:50.766582",
     "status": "completed"
    },
    "tags": []
   },
   "outputs": [],
   "source": [
    "def token_prefixes(token_str: str):\n",
    "    n = len(token_str)\n",
    "    tokens = [token_str[:i] for i in range(1, n+1)]\n",
    "    return tokens \n",
    "\n",
    "def add_spaces(tokens):\n",
    "    return ['▁' + t for t in tokens] + tokens\n",
    "\n",
    "def capitalizations(tokens):\n",
    "    return list(set(tokens))\n",
    "\n",
    "def unicode_prefix_tokid(zh_char = \"云\", tokenizer=tokenizer):\n",
    "    start = zh_char.encode().__str__()[2:-1].split('\\\\x')[1]\n",
    "    unicode_format = '<0x%s>'\n",
    "    start_key = unicode_format%start.upper()\n",
    "    if start_key in tokenizer.get_vocab():\n",
    "        return tokenizer.get_vocab()[start_key]\n",
    "    return None\n",
    "\n",
    "def process_tokens(token_str: str, tokenizer, lang):\n",
    "    with_prefixes = token_prefixes(token_str)\n",
    "    with_spaces = add_spaces(with_prefixes)\n",
    "    with_capitalizations = capitalizations(with_spaces)\n",
    "    final_tokens = []\n",
    "    for tok in with_capitalizations:\n",
    "        if tok in tokenizer.get_vocab():\n",
    "            final_tokens.append(tokenizer.get_vocab()[tok])\n",
    "    if lang in ['zh', 'ru']:\n",
    "        tokid = unicode_prefix_tokid(token_str, tokenizer)\n",
    "        if tokid is not None:\n",
    "            final_tokens.append(tokid)\n",
    "    return final_tokens"
   ]
  },
  {
   "cell_type": "code",
   "execution_count": 10,
   "id": "faa7bb78",
   "metadata": {
    "execution": {
     "iopub.execute_input": "2024-02-23T16:26:50.813794Z",
     "iopub.status.busy": "2024-02-23T16:26:50.813495Z",
     "iopub.status.idle": "2024-02-23T16:26:50.857281Z",
     "shell.execute_reply": "2024-02-23T16:26:50.856875Z"
    },
    "papermill": {
     "duration": 0.048938,
     "end_time": "2024-02-23T16:26:50.858244",
     "exception": false,
     "start_time": "2024-02-23T16:26:50.809306",
     "status": "completed"
    },
    "tags": []
   },
   "outputs": [],
   "source": [
    "\n",
    "id2voc = {id:voc for voc, id in tokenizer.get_vocab().items()}\n",
    "def get_tokens(token_ids, id2voc=id2voc):\n",
    "    return [id2voc[tokid] for tokid in token_ids]\n",
    "\n",
    "def compute_entropy(probas):\n",
    "    return (-probas*torch.log2(probas)).sum(dim=-1)\n",
    "\n",
    "lang2name = {'fr': 'Français', 'de': 'Deutsch', 'ru': 'Русский', 'en': 'English', 'zh': '中文'}\n",
    "def sample(df, ind, k=5, tokenizer=tokenizer, lang1='fr', lang2='de', lang_latent=latent):\n",
    "    df = df.reset_index(drop=True)\n",
    "    temp = df[df.index!=ind]\n",
    "    sample = pd.concat([temp.sample(k-1), df[df.index==ind]], axis=0)\n",
    "    prompt = \"\"\n",
    "    for idx, (df_idx, row) in enumerate(sample.iterrows()):\n",
    "        if idx < k-1:\n",
    "            prompt += f'{lang2name[lang1]}: \"{row[lang1]}\" - {lang2name[lang2]}: \"{row[lang2]}\"\\n'\n",
    "        else:\n",
    "            prompt += f'{lang2name[lang1]}: \"{row[lang1]}\" - {lang2name[lang2]}: \"'\n",
    "            in_token_str = row[lang1]\n",
    "            out_token_str = row[lang2]\n",
    "            out_token_id = process_tokens(out_token_str, tokenizer, lang2)\n",
    "            latent_token_str = row[lang_latent]\n",
    "            latent_token_id = process_tokens(latent_token_str, tokenizer, latent)\n",
    "            intersection = set(out_token_id).intersection(set(latent_token_id))\n",
    "            if len(out_token_id) == 0 or len(latent_token_id) == 0:\n",
    "                yield None\n",
    "            if lang2 != 'en' and len(intersection) > 0:\n",
    "                yield None\n",
    "            yield {'prompt': prompt, \n",
    "                'out_token_id': out_token_id, \n",
    "                'out_token_str': out_token_str,\n",
    "                'latent_token_id': latent_token_id, \n",
    "                'latent_token_str': latent_token_str, \n",
    "                'in_token_str': in_token_str}"
   ]
  },
  {
   "cell_type": "code",
   "execution_count": 11,
   "id": "500641f5",
   "metadata": {
    "execution": {
     "iopub.execute_input": "2024-02-23T16:26:50.867919Z",
     "iopub.status.busy": "2024-02-23T16:26:50.867622Z",
     "iopub.status.idle": "2024-02-23T16:27:12.323475Z",
     "shell.execute_reply": "2024-02-23T16:27:12.322931Z"
    },
    "papermill": {
     "duration": 21.461043,
     "end_time": "2024-02-23T16:27:12.324288",
     "exception": false,
     "start_time": "2024-02-23T16:26:50.863245",
     "status": "completed"
    },
    "tags": []
   },
   "outputs": [
    {
     "name": "stderr",
     "output_type": "stream",
     "text": [
      "\r",
      "  0%|                                                                                                                                                                                                                       | 0/100 [00:00<?, ?it/s]"
     ]
    },
    {
     "name": "stderr",
     "output_type": "stream",
     "text": [
      "\r",
      "  1%|██                                                                                                                                                                                                             | 1/100 [00:00<00:20,  4.75it/s]"
     ]
    },
    {
     "name": "stderr",
     "output_type": "stream",
     "text": [
      "\r",
      "  2%|████▏                                                                                                                                                                                                          | 2/100 [00:00<00:17,  5.75it/s]"
     ]
    },
    {
     "name": "stderr",
     "output_type": "stream",
     "text": [
      "\r",
      "  3%|██████▏                                                                                                                                                                                                        | 3/100 [00:00<00:18,  5.21it/s]"
     ]
    },
    {
     "name": "stderr",
     "output_type": "stream",
     "text": [
      "\r",
      "  4%|████████▎                                                                                                                                                                                                      | 4/100 [00:00<00:17,  5.56it/s]"
     ]
    },
    {
     "name": "stderr",
     "output_type": "stream",
     "text": [
      "\r",
      "  5%|██████████▎                                                                                                                                                                                                    | 5/100 [00:01<00:21,  4.45it/s]"
     ]
    },
    {
     "name": "stderr",
     "output_type": "stream",
     "text": [
      "\r",
      "  6%|████████████▍                                                                                                                                                                                                  | 6/100 [00:01<00:19,  4.85it/s]"
     ]
    },
    {
     "name": "stderr",
     "output_type": "stream",
     "text": [
      "\r",
      "  7%|██████████████▍                                                                                                                                                                                                | 7/100 [00:01<00:19,  4.87it/s]"
     ]
    },
    {
     "name": "stderr",
     "output_type": "stream",
     "text": [
      "\r",
      "  8%|████████████████▌                                                                                                                                                                                              | 8/100 [00:01<00:17,  5.15it/s]"
     ]
    },
    {
     "name": "stderr",
     "output_type": "stream",
     "text": [
      "\r",
      "  9%|██████████████████▋                                                                                                                                                                                            | 9/100 [00:01<00:17,  5.07it/s]"
     ]
    },
    {
     "name": "stderr",
     "output_type": "stream",
     "text": [
      "\r",
      " 10%|████████████████████▌                                                                                                                                                                                         | 10/100 [00:02<00:19,  4.59it/s]"
     ]
    },
    {
     "name": "stderr",
     "output_type": "stream",
     "text": [
      "\r",
      " 11%|██████████████████████▋                                                                                                                                                                                       | 11/100 [00:02<00:17,  4.98it/s]"
     ]
    },
    {
     "name": "stderr",
     "output_type": "stream",
     "text": [
      "\r",
      " 12%|████████████████████████▋                                                                                                                                                                                     | 12/100 [00:02<00:16,  5.20it/s]"
     ]
    },
    {
     "name": "stderr",
     "output_type": "stream",
     "text": [
      "\r",
      " 13%|██████████████████████████▊                                                                                                                                                                                   | 13/100 [00:02<00:17,  4.89it/s]"
     ]
    },
    {
     "name": "stderr",
     "output_type": "stream",
     "text": [
      "\r",
      " 14%|████████████████████████████▊                                                                                                                                                                                 | 14/100 [00:02<00:17,  5.01it/s]"
     ]
    },
    {
     "name": "stderr",
     "output_type": "stream",
     "text": [
      "\r",
      " 15%|██████████████████████████████▉                                                                                                                                                                               | 15/100 [00:03<00:17,  4.74it/s]"
     ]
    },
    {
     "name": "stderr",
     "output_type": "stream",
     "text": [
      "\r",
      " 16%|████████████████████████████████▉                                                                                                                                                                             | 16/100 [00:03<00:17,  4.89it/s]"
     ]
    },
    {
     "name": "stderr",
     "output_type": "stream",
     "text": [
      "\r",
      " 17%|███████████████████████████████████                                                                                                                                                                           | 17/100 [00:03<00:16,  5.00it/s]"
     ]
    },
    {
     "name": "stderr",
     "output_type": "stream",
     "text": [
      "\r",
      " 18%|█████████████████████████████████████                                                                                                                                                                         | 18/100 [00:03<00:15,  5.41it/s]"
     ]
    },
    {
     "name": "stderr",
     "output_type": "stream",
     "text": [
      "\r",
      " 19%|███████████████████████████████████████▏                                                                                                                                                                      | 19/100 [00:03<00:14,  5.43it/s]"
     ]
    },
    {
     "name": "stderr",
     "output_type": "stream",
     "text": [
      "\r",
      " 20%|█████████████████████████████████████████▏                                                                                                                                                                    | 20/100 [00:03<00:14,  5.39it/s]"
     ]
    },
    {
     "name": "stderr",
     "output_type": "stream",
     "text": [
      "\r",
      " 21%|███████████████████████████████████████████▎                                                                                                                                                                  | 21/100 [00:04<00:15,  5.24it/s]"
     ]
    },
    {
     "name": "stderr",
     "output_type": "stream",
     "text": [
      "\r",
      " 22%|█████████████████████████████████████████████▎                                                                                                                                                                | 22/100 [00:04<00:13,  5.66it/s]"
     ]
    },
    {
     "name": "stderr",
     "output_type": "stream",
     "text": [
      "\r",
      " 23%|███████████████████████████████████████████████▍                                                                                                                                                              | 23/100 [00:04<00:13,  5.72it/s]"
     ]
    },
    {
     "name": "stderr",
     "output_type": "stream",
     "text": [
      "\r",
      " 24%|█████████████████████████████████████████████████▍                                                                                                                                                            | 24/100 [00:04<00:15,  5.06it/s]"
     ]
    },
    {
     "name": "stderr",
     "output_type": "stream",
     "text": [
      "\r",
      " 25%|███████████████████████████████████████████████████▌                                                                                                                                                          | 25/100 [00:04<00:14,  5.30it/s]"
     ]
    },
    {
     "name": "stderr",
     "output_type": "stream",
     "text": [
      "\r",
      " 26%|█████████████████████████████████████████████████████▌                                                                                                                                                        | 26/100 [00:05<00:13,  5.41it/s]"
     ]
    },
    {
     "name": "stderr",
     "output_type": "stream",
     "text": [
      "\r",
      " 27%|███████████████████████████████████████████████████████▌                                                                                                                                                      | 27/100 [00:05<00:14,  5.21it/s]"
     ]
    },
    {
     "name": "stderr",
     "output_type": "stream",
     "text": [
      "\r",
      " 28%|█████████████████████████████████████████████████████████▋                                                                                                                                                    | 28/100 [00:05<00:13,  5.21it/s]"
     ]
    },
    {
     "name": "stderr",
     "output_type": "stream",
     "text": [
      "\r",
      " 29%|███████████████████████████████████████████████████████████▋                                                                                                                                                  | 29/100 [00:05<00:14,  4.94it/s]"
     ]
    },
    {
     "name": "stderr",
     "output_type": "stream",
     "text": [
      "\r",
      " 30%|█████████████████████████████████████████████████████████████▊                                                                                                                                                | 30/100 [00:05<00:12,  5.42it/s]"
     ]
    },
    {
     "name": "stderr",
     "output_type": "stream",
     "text": [
      "\r",
      " 31%|███████████████████████████████████████████████████████████████▊                                                                                                                                              | 31/100 [00:06<00:12,  5.32it/s]"
     ]
    },
    {
     "name": "stderr",
     "output_type": "stream",
     "text": [
      "\r",
      " 32%|█████████████████████████████████████████████████████████████████▉                                                                                                                                            | 32/100 [00:06<00:11,  5.77it/s]"
     ]
    },
    {
     "name": "stderr",
     "output_type": "stream",
     "text": [
      "\r",
      " 33%|███████████████████████████████████████████████████████████████████▉                                                                                                                                          | 33/100 [00:06<00:12,  5.39it/s]"
     ]
    },
    {
     "name": "stderr",
     "output_type": "stream",
     "text": [
      "\r",
      " 34%|██████████████████████████████████████████████████████████████████████                                                                                                                                        | 34/100 [00:06<00:12,  5.48it/s]"
     ]
    },
    {
     "name": "stderr",
     "output_type": "stream",
     "text": [
      "\r",
      " 35%|████████████████████████████████████████████████████████████████████████                                                                                                                                      | 35/100 [00:06<00:12,  5.02it/s]"
     ]
    },
    {
     "name": "stderr",
     "output_type": "stream",
     "text": [
      "\r",
      " 36%|██████████████████████████████████████████████████████████████████████████▏                                                                                                                                   | 36/100 [00:06<00:11,  5.63it/s]"
     ]
    },
    {
     "name": "stderr",
     "output_type": "stream",
     "text": [
      "\r",
      " 37%|████████████████████████████████████████████████████████████████████████████▏                                                                                                                                 | 37/100 [00:07<00:10,  5.82it/s]"
     ]
    },
    {
     "name": "stderr",
     "output_type": "stream",
     "text": [
      "\r",
      " 38%|██████████████████████████████████████████████████████████████████████████████▎                                                                                                                               | 38/100 [00:07<00:11,  5.43it/s]"
     ]
    },
    {
     "name": "stderr",
     "output_type": "stream",
     "text": [
      "\r",
      " 39%|████████████████████████████████████████████████████████████████████████████████▎                                                                                                                             | 39/100 [00:07<00:11,  5.23it/s]"
     ]
    },
    {
     "name": "stderr",
     "output_type": "stream",
     "text": [
      "\r",
      " 40%|██████████████████████████████████████████████████████████████████████████████████▍                                                                                                                           | 40/100 [00:07<00:11,  5.29it/s]"
     ]
    },
    {
     "name": "stderr",
     "output_type": "stream",
     "text": [
      "\r",
      " 41%|████████████████████████████████████████████████████████████████████████████████████▍                                                                                                                         | 41/100 [00:07<00:11,  5.30it/s]"
     ]
    },
    {
     "name": "stderr",
     "output_type": "stream",
     "text": [
      "\r",
      " 42%|██████████████████████████████████████████████████████████████████████████████████████▌                                                                                                                       | 42/100 [00:08<00:10,  5.29it/s]"
     ]
    },
    {
     "name": "stderr",
     "output_type": "stream",
     "text": [
      "\r",
      " 43%|████████████████████████████████████████████████████████████████████████████████████████▌                                                                                                                     | 43/100 [00:08<00:10,  5.45it/s]"
     ]
    },
    {
     "name": "stderr",
     "output_type": "stream",
     "text": [
      "\r",
      " 44%|██████████████████████████████████████████████████████████████████████████████████████████▋                                                                                                                   | 44/100 [00:08<00:09,  5.82it/s]"
     ]
    },
    {
     "name": "stderr",
     "output_type": "stream",
     "text": [
      "\r",
      " 45%|████████████████████████████████████████████████████████████████████████████████████████████▋                                                                                                                 | 45/100 [00:08<00:09,  5.97it/s]"
     ]
    },
    {
     "name": "stderr",
     "output_type": "stream",
     "text": [
      "\r",
      " 46%|██████████████████████████████████████████████████████████████████████████████████████████████▊                                                                                                               | 46/100 [00:08<00:10,  5.29it/s]"
     ]
    },
    {
     "name": "stderr",
     "output_type": "stream",
     "text": [
      "\r",
      " 47%|████████████████████████████████████████████████████████████████████████████████████████████████▊                                                                                                             | 47/100 [00:08<00:10,  5.15it/s]"
     ]
    },
    {
     "name": "stderr",
     "output_type": "stream",
     "text": [
      "\r",
      " 48%|██████████████████████████████████████████████████████████████████████████████████████████████████▉                                                                                                           | 48/100 [00:09<00:08,  5.95it/s]"
     ]
    },
    {
     "name": "stderr",
     "output_type": "stream",
     "text": [
      "\r",
      " 49%|████████████████████████████████████████████████████████████████████████████████████████████████████▉                                                                                                         | 49/100 [00:09<00:09,  5.45it/s]"
     ]
    },
    {
     "name": "stderr",
     "output_type": "stream",
     "text": [
      "\r",
      " 50%|███████████████████████████████████████████████████████████████████████████████████████████████████████                                                                                                       | 50/100 [00:09<00:09,  5.20it/s]"
     ]
    },
    {
     "name": "stderr",
     "output_type": "stream",
     "text": [
      "\r",
      " 51%|█████████████████████████████████████████████████████████████████████████████████████████████████████████                                                                                                     | 51/100 [00:09<00:09,  5.33it/s]"
     ]
    },
    {
     "name": "stderr",
     "output_type": "stream",
     "text": [
      "\r",
      " 52%|███████████████████████████████████████████████████████████████████████████████████████████████████████████                                                                                                   | 52/100 [00:09<00:09,  5.33it/s]"
     ]
    },
    {
     "name": "stderr",
     "output_type": "stream",
     "text": [
      "\r",
      " 53%|█████████████████████████████████████████████████████████████████████████████████████████████████████████████▏                                                                                                | 53/100 [00:10<00:09,  4.97it/s]"
     ]
    },
    {
     "name": "stderr",
     "output_type": "stream",
     "text": [
      "\r",
      " 54%|███████████████████████████████████████████████████████████████████████████████████████████████████████████████▏                                                                                              | 54/100 [00:10<00:10,  4.59it/s]"
     ]
    },
    {
     "name": "stderr",
     "output_type": "stream",
     "text": [
      "\r",
      " 55%|█████████████████████████████████████████████████████████████████████████████████████████████████████████████████▎                                                                                            | 55/100 [00:10<00:09,  4.69it/s]"
     ]
    },
    {
     "name": "stderr",
     "output_type": "stream",
     "text": [
      "\r",
      " 56%|███████████████████████████████████████████████████████████████████████████████████████████████████████████████████▎                                                                                          | 56/100 [00:10<00:09,  4.61it/s]"
     ]
    },
    {
     "name": "stderr",
     "output_type": "stream",
     "text": [
      "\r",
      " 57%|█████████████████████████████████████████████████████████████████████████████████████████████████████████████████████▍                                                                                        | 57/100 [00:11<00:09,  4.37it/s]"
     ]
    },
    {
     "name": "stderr",
     "output_type": "stream",
     "text": [
      "\r",
      " 58%|███████████████████████████████████████████████████████████████████████████████████████████████████████████████████████▍                                                                                      | 58/100 [00:11<00:09,  4.29it/s]"
     ]
    },
    {
     "name": "stderr",
     "output_type": "stream",
     "text": [
      "\r",
      " 59%|█████████████████████████████████████████████████████████████████████████████████████████████████████████████████████████▌                                                                                    | 59/100 [00:11<00:09,  4.23it/s]"
     ]
    },
    {
     "name": "stderr",
     "output_type": "stream",
     "text": [
      "\r",
      " 60%|███████████████████████████████████████████████████████████████████████████████████████████████████████████████████████████▌                                                                                  | 60/100 [00:11<00:09,  4.40it/s]"
     ]
    },
    {
     "name": "stderr",
     "output_type": "stream",
     "text": [
      "\r",
      " 61%|█████████████████████████████████████████████████████████████████████████████████████████████████████████████████████████████▋                                                                                | 61/100 [00:11<00:08,  4.64it/s]"
     ]
    },
    {
     "name": "stderr",
     "output_type": "stream",
     "text": [
      "\r",
      " 62%|███████████████████████████████████████████████████████████████████████████████████████████████████████████████████████████████▋                                                                              | 62/100 [00:12<00:08,  4.67it/s]"
     ]
    },
    {
     "name": "stderr",
     "output_type": "stream",
     "text": [
      "\r",
      " 63%|█████████████████████████████████████████████████████████████████████████████████████████████████████████████████████████████████▊                                                                            | 63/100 [00:12<00:07,  4.81it/s]"
     ]
    },
    {
     "name": "stderr",
     "output_type": "stream",
     "text": [
      "\r",
      " 64%|███████████████████████████████████████████████████████████████████████████████████████████████████████████████████████████████████▊                                                                          | 64/100 [00:12<00:08,  4.41it/s]"
     ]
    },
    {
     "name": "stderr",
     "output_type": "stream",
     "text": [
      "\r",
      " 65%|█████████████████████████████████████████████████████████████████████████████████████████████████████████████████████████████████████▉                                                                        | 65/100 [00:12<00:07,  4.50it/s]"
     ]
    },
    {
     "name": "stderr",
     "output_type": "stream",
     "text": [
      "\r",
      " 66%|███████████████████████████████████████████████████████████████████████████████████████████████████████████████████████████████████████▉                                                                      | 66/100 [00:13<00:07,  4.48it/s]"
     ]
    },
    {
     "name": "stderr",
     "output_type": "stream",
     "text": [
      "\r",
      " 67%|██████████████████████████████████████████████████████████████████████████████████████████████████████████████████████████████████████████                                                                    | 67/100 [00:13<00:08,  4.10it/s]"
     ]
    },
    {
     "name": "stderr",
     "output_type": "stream",
     "text": [
      "\r",
      " 68%|████████████████████████████████████████████████████████████████████████████████████████████████████████████████████████████████████████████                                                                  | 68/100 [00:13<00:07,  4.18it/s]"
     ]
    },
    {
     "name": "stderr",
     "output_type": "stream",
     "text": [
      "\r",
      " 69%|██████████████████████████████████████████████████████████████████████████████████████████████████████████████████████████████████████████████▏                                                               | 69/100 [00:13<00:08,  3.62it/s]"
     ]
    },
    {
     "name": "stderr",
     "output_type": "stream",
     "text": [
      "\r",
      " 70%|████████████████████████████████████████████████████████████████████████████████████████████████████████████████████████████████████████████████▏                                                             | 70/100 [00:14<00:08,  3.73it/s]"
     ]
    },
    {
     "name": "stderr",
     "output_type": "stream",
     "text": [
      "\r",
      " 71%|██████████████████████████████████████████████████████████████████████████████████████████████████████████████████████████████████████████████████▎                                                           | 71/100 [00:14<00:07,  4.00it/s]"
     ]
    },
    {
     "name": "stderr",
     "output_type": "stream",
     "text": [
      "\r",
      " 72%|████████████████████████████████████████████████████████████████████████████████████████████████████████████████████████████████████████████████████▎                                                         | 72/100 [00:14<00:07,  3.97it/s]"
     ]
    },
    {
     "name": "stderr",
     "output_type": "stream",
     "text": [
      "\r",
      " 73%|██████████████████████████████████████████████████████████████████████████████████████████████████████████████████████████████████████████████████████▍                                                       | 73/100 [00:14<00:07,  3.68it/s]"
     ]
    },
    {
     "name": "stderr",
     "output_type": "stream",
     "text": [
      "\r",
      " 74%|████████████████████████████████████████████████████████████████████████████████████████████████████████████████████████████████████████████████████████▍                                                     | 74/100 [00:15<00:06,  3.73it/s]"
     ]
    },
    {
     "name": "stderr",
     "output_type": "stream",
     "text": [
      "\r",
      " 75%|██████████████████████████████████████████████████████████████████████████████████████████████████████████████████████████████████████████████████████████▌                                                   | 75/100 [00:15<00:06,  3.88it/s]"
     ]
    },
    {
     "name": "stderr",
     "output_type": "stream",
     "text": [
      "\r",
      " 76%|████████████████████████████████████████████████████████████████████████████████████████████████████████████████████████████████████████████████████████████▌                                                 | 76/100 [00:15<00:06,  3.47it/s]"
     ]
    },
    {
     "name": "stderr",
     "output_type": "stream",
     "text": [
      "\r",
      " 77%|██████████████████████████████████████████████████████████████████████████████████████████████████████████████████████████████████████████████████████████████▌                                               | 77/100 [00:15<00:05,  3.87it/s]"
     ]
    },
    {
     "name": "stderr",
     "output_type": "stream",
     "text": [
      "\r",
      " 78%|████████████████████████████████████████████████████████████████████████████████████████████████████████████████████████████████████████████████████████████████▋                                             | 78/100 [00:16<00:05,  3.86it/s]"
     ]
    },
    {
     "name": "stderr",
     "output_type": "stream",
     "text": [
      "\r",
      " 79%|██████████████████████████████████████████████████████████████████████████████████████████████████████████████████████████████████████████████████████████████████▋                                           | 79/100 [00:16<00:05,  3.98it/s]"
     ]
    },
    {
     "name": "stderr",
     "output_type": "stream",
     "text": [
      "\r",
      " 80%|████████████████████████████████████████████████████████████████████████████████████████████████████████████████████████████████████████████████████████████████████▊                                         | 80/100 [00:16<00:04,  4.08it/s]"
     ]
    },
    {
     "name": "stderr",
     "output_type": "stream",
     "text": [
      "\r",
      " 81%|██████████████████████████████████████████████████████████████████████████████████████████████████████████████████████████████████████████████████████████████████████▊                                       | 81/100 [00:16<00:04,  4.09it/s]"
     ]
    },
    {
     "name": "stderr",
     "output_type": "stream",
     "text": [
      "\r",
      " 82%|████████████████████████████████████████████████████████████████████████████████████████████████████████████████████████████████████████████████████████████████████████▉                                     | 82/100 [00:17<00:04,  4.28it/s]"
     ]
    },
    {
     "name": "stderr",
     "output_type": "stream",
     "text": [
      "\r",
      " 83%|██████████████████████████████████████████████████████████████████████████████████████████████████████████████████████████████████████████████████████████████████████████▉                                   | 83/100 [00:17<00:04,  4.09it/s]"
     ]
    },
    {
     "name": "stderr",
     "output_type": "stream",
     "text": [
      "\r",
      " 84%|█████████████████████████████████████████████████████████████████████████████████████████████████████████████████████████████████████████████████████████████████████████████                                 | 84/100 [00:17<00:04,  3.76it/s]"
     ]
    },
    {
     "name": "stderr",
     "output_type": "stream",
     "text": [
      "\r",
      " 85%|███████████████████████████████████████████████████████████████████████████████████████████████████████████████████████████████████████████████████████████████████████████████                               | 85/100 [00:18<00:03,  3.83it/s]"
     ]
    },
    {
     "name": "stderr",
     "output_type": "stream",
     "text": [
      "\r",
      " 86%|█████████████████████████████████████████████████████████████████████████████████████████████████████████████████████████████████████████████████████████████████████████████████▏                            | 86/100 [00:18<00:03,  4.06it/s]"
     ]
    },
    {
     "name": "stderr",
     "output_type": "stream",
     "text": [
      "\r",
      " 87%|███████████████████████████████████████████████████████████████████████████████████████████████████████████████████████████████████████████████████████████████████████████████████▏                          | 87/100 [00:18<00:03,  4.29it/s]"
     ]
    },
    {
     "name": "stderr",
     "output_type": "stream",
     "text": [
      "\r",
      " 88%|█████████████████████████████████████████████████████████████████████████████████████████████████████████████████████████████████████████████████████████████████████████████████████▎                        | 88/100 [00:18<00:02,  4.64it/s]"
     ]
    },
    {
     "name": "stderr",
     "output_type": "stream",
     "text": [
      "\r",
      " 89%|███████████████████████████████████████████████████████████████████████████████████████████████████████████████████████████████████████████████████████████████████████████████████████▎                      | 89/100 [00:18<00:02,  4.38it/s]"
     ]
    },
    {
     "name": "stderr",
     "output_type": "stream",
     "text": [
      "\r",
      " 90%|█████████████████████████████████████████████████████████████████████████████████████████████████████████████████████████████████████████████████████████████████████████████████████████▍                    | 90/100 [00:19<00:02,  4.08it/s]"
     ]
    },
    {
     "name": "stderr",
     "output_type": "stream",
     "text": [
      "\r",
      " 91%|███████████████████████████████████████████████████████████████████████████████████████████████████████████████████████████████████████████████████████████████████████████████████████████▍                  | 91/100 [00:19<00:02,  4.07it/s]"
     ]
    },
    {
     "name": "stderr",
     "output_type": "stream",
     "text": [
      "\r",
      " 92%|█████████████████████████████████████████████████████████████████████████████████████████████████████████████████████████████████████████████████████████████████████████████████████████████▌                | 92/100 [00:19<00:01,  4.35it/s]"
     ]
    },
    {
     "name": "stderr",
     "output_type": "stream",
     "text": [
      "\r",
      " 93%|███████████████████████████████████████████████████████████████████████████████████████████████████████████████████████████████████████████████████████████████████████████████████████████████▌              | 93/100 [00:19<00:01,  4.03it/s]"
     ]
    },
    {
     "name": "stderr",
     "output_type": "stream",
     "text": [
      "\r",
      " 94%|█████████████████████████████████████████████████████████████████████████████████████████████████████████████████████████████████████████████████████████████████████████████████████████████████▋            | 94/100 [00:20<00:01,  3.95it/s]"
     ]
    },
    {
     "name": "stderr",
     "output_type": "stream",
     "text": [
      "\r",
      " 95%|███████████████████████████████████████████████████████████████████████████████████████████████████████████████████████████████████████████████████████████████████████████████████████████████████▋          | 95/100 [00:20<00:01,  4.18it/s]"
     ]
    },
    {
     "name": "stderr",
     "output_type": "stream",
     "text": [
      "\r",
      " 96%|█████████████████████████████████████████████████████████████████████████████████████████████████████████████████████████████████████████████████████████████████████████████████████████████████████▊        | 96/100 [00:20<00:00,  4.32it/s]"
     ]
    },
    {
     "name": "stderr",
     "output_type": "stream",
     "text": [
      "\r",
      " 97%|███████████████████████████████████████████████████████████████████████████████████████████████████████████████████████████████████████████████████████████████████████████████████████████████████████▊      | 97/100 [00:20<00:00,  4.44it/s]"
     ]
    },
    {
     "name": "stderr",
     "output_type": "stream",
     "text": [
      "\r",
      " 98%|█████████████████████████████████████████████████████████████████████████████████████████████████████████████████████████████████████████████████████████████████████████████████████████████████████████▉    | 98/100 [00:20<00:00,  4.66it/s]"
     ]
    },
    {
     "name": "stderr",
     "output_type": "stream",
     "text": [
      "\r",
      " 99%|███████████████████████████████████████████████████████████████████████████████████████████████████████████████████████████████████████████████████████████████████████████████████████████████████████████▉  | 99/100 [00:21<00:00,  4.42it/s]"
     ]
    },
    {
     "name": "stderr",
     "output_type": "stream",
     "text": [
      "\r",
      "100%|█████████████████████████████████████████████████████████████████████████████████████████████████████████████████████████████████████████████████████████████████████████████████████████████████████████████| 100/100 [00:21<00:00,  4.51it/s]"
     ]
    },
    {
     "name": "stderr",
     "output_type": "stream",
     "text": [
      "\r",
      "100%|█████████████████████████████████████████████████████████████████████████████████████████████████████████████████████████████████████████████████████████████████████████████████████████████████████████████| 100/100 [00:21<00:00,  4.67it/s]"
     ]
    },
    {
     "name": "stderr",
     "output_type": "stream",
     "text": [
      "\n"
     ]
    }
   ],
   "source": [
    "dataset = []\n",
    "for ind in tqdm(range(len(df_en_target_input))):\n",
    "    d = next(sample(df_en_target_input, ind, lang1=input_lang, lang2=target_lang))\n",
    "    if d is None:\n",
    "        continue\n",
    "    dataset.append(d)"
   ]
  },
  {
   "cell_type": "code",
   "execution_count": 12,
   "id": "d786ab1b",
   "metadata": {
    "execution": {
     "iopub.execute_input": "2024-02-23T16:27:12.345777Z",
     "iopub.status.busy": "2024-02-23T16:27:12.345451Z",
     "iopub.status.idle": "2024-02-23T16:27:12.386548Z",
     "shell.execute_reply": "2024-02-23T16:27:12.386219Z"
    },
    "papermill": {
     "duration": 0.05312,
     "end_time": "2024-02-23T16:27:12.387310",
     "exception": false,
     "start_time": "2024-02-23T16:27:12.334190",
     "status": "completed"
    },
    "tags": []
   },
   "outputs": [],
   "source": [
    "df = pd.DataFrame(dataset)\n",
    "os.makedirs(f'{out_dir}/translation', exist_ok=True)\n",
    "df.to_csv(f'{out_dir}/translation/{model_size}_{input_lang}_{target_lang}_dataset.csv', index=False)"
   ]
  },
  {
   "cell_type": "code",
   "execution_count": 13,
   "id": "00e12355",
   "metadata": {
    "execution": {
     "iopub.execute_input": "2024-02-23T16:27:12.403012Z",
     "iopub.status.busy": "2024-02-23T16:27:12.402841Z",
     "iopub.status.idle": "2024-02-23T16:27:12.455730Z",
     "shell.execute_reply": "2024-02-23T16:27:12.455263Z"
    },
    "papermill": {
     "duration": 0.062052,
     "end_time": "2024-02-23T16:27:12.456861",
     "exception": false,
     "start_time": "2024-02-23T16:27:12.394809",
     "status": "completed"
    },
    "tags": []
   },
   "outputs": [
    {
     "data": {
      "text/html": [
       "<div>\n",
       "<style scoped>\n",
       "    .dataframe tbody tr th:only-of-type {\n",
       "        vertical-align: middle;\n",
       "    }\n",
       "\n",
       "    .dataframe tbody tr th {\n",
       "        vertical-align: top;\n",
       "    }\n",
       "\n",
       "    .dataframe thead th {\n",
       "        text-align: right;\n",
       "    }\n",
       "</style>\n",
       "<table border=\"1\" class=\"dataframe\">\n",
       "  <thead>\n",
       "    <tr style=\"text-align: right;\">\n",
       "      <th></th>\n",
       "      <th>prompt</th>\n",
       "      <th>out_token_id</th>\n",
       "      <th>out_token_str</th>\n",
       "      <th>latent_token_id</th>\n",
       "      <th>latent_token_str</th>\n",
       "      <th>in_token_str</th>\n",
       "    </tr>\n",
       "  </thead>\n",
       "  <tbody>\n",
       "    <tr>\n",
       "      <th>0</th>\n",
       "      <td>中文: \"例\" - Français: \"exemple\"\\n中文: \"八\" - Franç...</td>\n",
       "      <td>[4948, 29876, 3433, 302]</td>\n",
       "      <td>nuage</td>\n",
       "      <td>[9274, 695, 15126, 274, 23642, 29883, 1067, 95...</td>\n",
       "      <td>cloud</td>\n",
       "      <td>云</td>\n",
       "    </tr>\n",
       "    <tr>\n",
       "      <th>1</th>\n",
       "      <td>中文: \"城\" - Français: \"ville\"\\n中文: \"四\" - Françai...</td>\n",
       "      <td>[29879, 4977, 7067, 269, 872]</td>\n",
       "      <td>sac</td>\n",
       "      <td>[2291, 23156, 289, 9922, 19548, 29890]</td>\n",
       "      <td>bag</td>\n",
       "      <td>包</td>\n",
       "    </tr>\n",
       "    <tr>\n",
       "      <th>2</th>\n",
       "      <td>中文: \"舞\" - Français: \"danse\"\\n中文: \"茶\" - Françai...</td>\n",
       "      <td>[833, 289, 1045, 16380, 29890]</td>\n",
       "      <td>bouche</td>\n",
       "      <td>[4346, 286, 13394, 21026, 29885, 2730, 29442]</td>\n",
       "      <td>mouth</td>\n",
       "      <td>口</td>\n",
       "    </tr>\n",
       "    <tr>\n",
       "      <th>3</th>\n",
       "      <td>中文: \"光\" - Français: \"lumière\"\\n中文: \"头\" - Franç...</td>\n",
       "      <td>[274, 29883]</td>\n",
       "      <td>cœur</td>\n",
       "      <td>[5192, 298, 354, 29882, 8293, 540, 23057]</td>\n",
       "      <td>heart</td>\n",
       "      <td>心</td>\n",
       "    </tr>\n",
       "    <tr>\n",
       "      <th>4</th>\n",
       "      <td>中文: \"音\" - Français: \"son\"\\n中文: \"中\" - Français:...</td>\n",
       "      <td>[24402, 5530, 1667, 611, 3396, 286, 655, 29885]</td>\n",
       "      <td>main</td>\n",
       "      <td>[5905, 3179, 2350, 298, 29882, 447, 1361, 5403]</td>\n",
       "      <td>hand</td>\n",
       "      <td>手</td>\n",
       "    </tr>\n",
       "    <tr>\n",
       "      <th>5</th>\n",
       "      <td>中文: \"地\" - Français: \"sol\"\\n中文: \"判\" - Français:...</td>\n",
       "      <td>[20551, 8121, 432, 8694, 2212, 29926, 2958]</td>\n",
       "      <td>jour</td>\n",
       "      <td>[270, 1146, 3250, 2462, 1388, 29881]</td>\n",
       "      <td>day</td>\n",
       "      <td>日</td>\n",
       "    </tr>\n",
       "    <tr>\n",
       "      <th>6</th>\n",
       "      <td>中文: \"局\" - Français: \"bureau\"\\n中文: \"桥\" - França...</td>\n",
       "      <td>[1893, 29948, 2852, 904]</td>\n",
       "      <td>étoile</td>\n",
       "      <td>[8508, 29879, 5173, 5810, 303, 269, 380, 9523]</td>\n",
       "      <td>star</td>\n",
       "      <td>星</td>\n",
       "    </tr>\n",
       "    <tr>\n",
       "      <th>7</th>\n",
       "      <td>中文: \"门\" - Français: \"porte\"\\n中文: \"马\" - Françai...</td>\n",
       "      <td>[620, 690, 1253, 364, 29878, 18475, 276, 337]</td>\n",
       "      <td>ressort</td>\n",
       "      <td>[1028, 29879, 805, 7689, 15099, 4278, 269, 6709]</td>\n",
       "      <td>spring</td>\n",
       "      <td>春</td>\n",
       "    </tr>\n",
       "    <tr>\n",
       "      <th>8</th>\n",
       "      <td>中文: \"德\" - Français: \"vertu\"\\n中文: \"场\" - Françai...</td>\n",
       "      <td>[29880, 301, 6092, 25081, 8092]</td>\n",
       "      <td>lune</td>\n",
       "      <td>[4346, 286, 29885, 2730, 18786]</td>\n",
       "      <td>moon</td>\n",
       "      <td>月</td>\n",
       "    </tr>\n",
       "    <tr>\n",
       "      <th>9</th>\n",
       "      <td>中文: \"春\" - Français: \"ressort\"\\n中文: \"代\" - Franç...</td>\n",
       "      <td>[833, 289, 23734, 1045, 29890]</td>\n",
       "      <td>bois</td>\n",
       "      <td>[8879, 8112, 827, 29893, 6115, 281]</td>\n",
       "      <td>wood</td>\n",
       "      <td>木</td>\n",
       "    </tr>\n",
       "    <tr>\n",
       "      <th>10</th>\n",
       "      <td>中文: \"月\" - Français: \"lune\"\\n中文: \"结\" - Français...</td>\n",
       "      <td>[10329, 521, 5815, 274, 5083, 29883, 25875, 305]</td>\n",
       "      <td>chanson</td>\n",
       "      <td>[29879, 21453, 4823, 1487, 577, 578, 269, 1100]</td>\n",
       "      <td>song</td>\n",
       "      <td>歌</td>\n",
       "    </tr>\n",
       "    <tr>\n",
       "      <th>11</th>\n",
       "      <td>中文: \"线\" - Français: \"ligne\"\\n中文: \"条\" - Françai...</td>\n",
       "      <td>[1893, 29948, 28899, 2852, 904]</td>\n",
       "      <td>étang</td>\n",
       "      <td>[1129, 29886, 282, 1112, 772, 12509, 2818]</td>\n",
       "      <td>pond</td>\n",
       "      <td>池</td>\n",
       "    </tr>\n",
       "    <tr>\n",
       "      <th>12</th>\n",
       "      <td>中文: \"户\" - Français: \"ménage\"\\n中文: \"条\" - França...</td>\n",
       "      <td>[16504, 898, 13469, 265, 373, 288, 29877]</td>\n",
       "      <td>onde</td>\n",
       "      <td>[29893, 2766, 10742, 11324, 281, 27766]</td>\n",
       "      <td>wave</td>\n",
       "      <td>波</td>\n",
       "    </tr>\n",
       "    <tr>\n",
       "      <th>13</th>\n",
       "      <td>中文: \"左\" - Français: \"gauche\"\\n中文: \"方\" - França...</td>\n",
       "      <td>[4071, 867, 629, 29887, 330, 17170]</td>\n",
       "      <td>grotte</td>\n",
       "      <td>[18346, 274, 29883, 1113, 5777, 24230]</td>\n",
       "      <td>cave</td>\n",
       "      <td>洞</td>\n",
       "    </tr>\n",
       "    <tr>\n",
       "      <th>14</th>\n",
       "      <td>中文: \"门\" - Français: \"porte\"\\n中文: \"格\" - Françai...</td>\n",
       "      <td>[1050, 2778, 1004, 592, 286, 29885]</td>\n",
       "      <td>mer</td>\n",
       "      <td>[7205, 29879, 344, 409, 269]</td>\n",
       "      <td>sea</td>\n",
       "      <td>海</td>\n",
       "    </tr>\n",
       "    <tr>\n",
       "      <th>15</th>\n",
       "      <td>中文: \"校\" - Français: \"école\"\\n中文: \"座\" - Françai...</td>\n",
       "      <td>[330, 7171, 29887, 3249, 5397, 10364, 24816]</td>\n",
       "      <td>gare</td>\n",
       "      <td>[19569, 23436, 29879, 5173, 6112, 303, 5073, 2...</td>\n",
       "      <td>station</td>\n",
       "      <td>站</td>\n",
       "    </tr>\n",
       "    <tr>\n",
       "      <th>16</th>\n",
       "      <td>中文: \"音\" - Français: \"son\"\\n中文: \"门\" - Français:...</td>\n",
       "      <td>[29888, 5713, 285, 7241, 1777, 934, 977, 1445]</td>\n",
       "      <td>filet</td>\n",
       "      <td>[484, 452, 7787, 29876, 1212, 302]</td>\n",
       "      <td>net</td>\n",
       "      <td>网</td>\n",
       "    </tr>\n",
       "    <tr>\n",
       "      <th>17</th>\n",
       "      <td>中文: \"春\" - Français: \"ressort\"\\n中文: \"格\" - Franç...</td>\n",
       "      <td>[5036, 15957, 29886, 1631, 282, 12343, 2930]</td>\n",
       "      <td>pied</td>\n",
       "      <td>[29888, 1181, 285, 7953, 1701, 3661, 6661, 5431]</td>\n",
       "      <td>foot</td>\n",
       "      <td>足</td>\n",
       "    </tr>\n",
       "    <tr>\n",
       "      <th>18</th>\n",
       "      <td>中文: \"春\" - Français: \"ressort\"\\n中文: \"手\" - Franç...</td>\n",
       "      <td>[470, 29877, 272, 288]</td>\n",
       "      <td>or</td>\n",
       "      <td>[15192, 1484, 7684, 29887, 748, 330]</td>\n",
       "      <td>gold</td>\n",
       "      <td>金</td>\n",
       "    </tr>\n",
       "    <tr>\n",
       "      <th>19</th>\n",
       "      <td>中文: \"包\" - Français: \"sac\"\\n中文: \"败\" - Français:...</td>\n",
       "      <td>[13732, 1277, 1129, 29886, 2011, 282, 637, 197...</td>\n",
       "      <td>porte</td>\n",
       "      <td>[3050, 270, 17433, 1867, 29881, 437]</td>\n",
       "      <td>door</td>\n",
       "      <td>门</td>\n",
       "    </tr>\n",
       "    <tr>\n",
       "      <th>20</th>\n",
       "      <td>中文: \"谷\" - Français: \"vallée\"\\n中文: \"林\" - França...</td>\n",
       "      <td>[484, 452, 12106, 29876, 302]</td>\n",
       "      <td>neige</td>\n",
       "      <td>[29879, 5807, 15007, 269, 16586]</td>\n",
       "      <td>snow</td>\n",
       "      <td>雪</td>\n",
       "    </tr>\n",
       "    <tr>\n",
       "      <th>21</th>\n",
       "      <td>中文: \"池\" - Français: \"étang\"\\n中文: \"格\" - Françai...</td>\n",
       "      <td>[1173, 923, 521, 274, 29883, 29823, 25042, 305]</td>\n",
       "      <td>cheval</td>\n",
       "      <td>[298, 4029, 11231, 29882, 2015, 1251, 5089, 10...</td>\n",
       "      <td>horse</td>\n",
       "      <td>马</td>\n",
       "    </tr>\n",
       "    <tr>\n",
       "      <th>22</th>\n",
       "      <td>中文: \"中\" - Français: \"milieu\"\\n中文: \"尾\" - França...</td>\n",
       "      <td>[318, 443, 29884, 348]</td>\n",
       "      <td>un</td>\n",
       "      <td>[697, 265, 373, 288, 29877, 650]</td>\n",
       "      <td>one</td>\n",
       "      <td>一</td>\n",
       "    </tr>\n",
       "    <tr>\n",
       "      <th>23</th>\n",
       "      <td>中文: \"八\" - Français: \"huit\"\\n中文: \"话\" - Français...</td>\n",
       "      <td>[311, 4239, 270, 316, 29881]</td>\n",
       "      <td>deux</td>\n",
       "      <td>[29873, 1023, 260, 7516, 3252, 10184]</td>\n",
       "      <td>two</td>\n",
       "      <td>二</td>\n",
       "    </tr>\n",
       "    <tr>\n",
       "      <th>24</th>\n",
       "      <td>中文: \"包\" - Français: \"sac\"\\n中文: \"谷\" - Français:...</td>\n",
       "      <td>[439, 21408, 339, 3855, 29939, 12134]</td>\n",
       "      <td>quatre</td>\n",
       "      <td>[12584, 29888, 1181, 285, 1701, 17823, 3023]</td>\n",
       "      <td>four</td>\n",
       "      <td>四</td>\n",
       "    </tr>\n",
       "    <tr>\n",
       "      <th>25</th>\n",
       "      <td>中文: \"族\" - Français: \"tribu\"\\n中文: \"海\" - Françai...</td>\n",
       "      <td>[4670, 17256, 274, 29883, 4583, 455, 16381]</td>\n",
       "      <td>cinq</td>\n",
       "      <td>[29888, 5713, 285, 7241, 5320, 20818]</td>\n",
       "      <td>five</td>\n",
       "      <td>五</td>\n",
       "    </tr>\n",
       "    <tr>\n",
       "      <th>26</th>\n",
       "      <td>中文: \"日\" - Français: \"jour\"\\n中文: \"山\" - Français...</td>\n",
       "      <td>[298, 27052, 15669, 29882, 22888, 6905]</td>\n",
       "      <td>huit</td>\n",
       "      <td>[9475, 29319, 321, 10096, 29872, 15761]</td>\n",
       "      <td>eight</td>\n",
       "      <td>八</td>\n",
       "    </tr>\n",
       "    <tr>\n",
       "      <th>27</th>\n",
       "      <td>中文: \"格\" - Français: \"grille\"\\n中文: \"面\" - França...</td>\n",
       "      <td>[652, 23386, 270, 6051, 29881]</td>\n",
       "      <td>dix</td>\n",
       "      <td>[29873, 371, 260, 3006, 841, 734]</td>\n",
       "      <td>ten</td>\n",
       "      <td>十</td>\n",
       "    </tr>\n",
       "    <tr>\n",
       "      <th>28</th>\n",
       "      <td>中文: \"会\" - Français: \"réunion\"\\n中文: \"线\" - Franç...</td>\n",
       "      <td>[29873, 260, 17949]</td>\n",
       "      <td>tête</td>\n",
       "      <td>[2343, 2813, 298, 354, 29882, 540]</td>\n",
       "      <td>head</td>\n",
       "      <td>头</td>\n",
       "    </tr>\n",
       "    <tr>\n",
       "      <th>29</th>\n",
       "      <td>中文: \"桥\" - Français: \"pont\"\\n中文: \"土\" - Français...</td>\n",
       "      <td>[4980, 2291, 289, 9892, 9922, 29890, 27628, 25...</td>\n",
       "      <td>bande</td>\n",
       "      <td>[29879, 17820, 303, 710, 269, 380, 10076, 851,...</td>\n",
       "      <td>strip</td>\n",
       "      <td>条</td>\n",
       "    </tr>\n",
       "    <tr>\n",
       "      <th>30</th>\n",
       "      <td>中文: \"东\" - Français: \"est\"\\n中文: \"尾\" - Français:...</td>\n",
       "      <td>[5796, 582, 364, 29878, 16014]</td>\n",
       "      <td>rue</td>\n",
       "      <td>[29879, 29352, 12243, 303, 710, 11952, 13045, ...</td>\n",
       "      <td>street</td>\n",
       "      <td>街</td>\n",
       "    </tr>\n",
       "    <tr>\n",
       "      <th>31</th>\n",
       "      <td>中文: \"千\" - Français: \"mille\"\\n中文: \"二\" - Françai...</td>\n",
       "      <td>[30106]</td>\n",
       "      <td>œil</td>\n",
       "      <td>[1032, 10977, 321, 29872]</td>\n",
       "      <td>eye</td>\n",
       "      <td>目</td>\n",
       "    </tr>\n",
       "    <tr>\n",
       "      <th>32</th>\n",
       "      <td>中文: \"红\" - Français: \"rouge\"\\n中文: \"回\" - Françai...</td>\n",
       "      <td>[10329, 521, 5815, 274, 11179, 29883, 18480, 305]</td>\n",
       "      <td>champ</td>\n",
       "      <td>[29888, 5713, 285, 7241, 2671, 29607, 1746]</td>\n",
       "      <td>field</td>\n",
       "      <td>场</td>\n",
       "    </tr>\n",
       "    <tr>\n",
       "      <th>33</th>\n",
       "      <td>中文: \"云\" - Français: \"nuage\"\\n中文: \"场\" - Françai...</td>\n",
       "      <td>[4346, 14817, 286, 3184, 2730, 29885]</td>\n",
       "      <td>mot</td>\n",
       "      <td>[1742, 8879, 6365, 29893, 827, 13762, 281, 1734]</td>\n",
       "      <td>word</td>\n",
       "      <td>字</td>\n",
       "    </tr>\n",
       "    <tr>\n",
       "      <th>34</th>\n",
       "      <td>中文: \"手\" - Français: \"main\"\\n中文: \"土\" - Français...</td>\n",
       "      <td>[3533, 2316, 3737, 286, 2460, 23853, 19958, 29...</td>\n",
       "      <td>mille</td>\n",
       "      <td>[29873, 12595, 7693, 386, 260, 266, 10405]</td>\n",
       "      <td>thousand</td>\n",
       "      <td>千</td>\n",
       "    </tr>\n",
       "    <tr>\n",
       "      <th>35</th>\n",
       "      <td>中文: \"足\" - Français: \"pied\"\\n中文: \"马\" - Français...</td>\n",
       "      <td>[833, 289, 1045, 16380, 6526, 29890]</td>\n",
       "      <td>bourse</td>\n",
       "      <td>[14523, 429, 6543, 321, 735, 29872, 5566]</td>\n",
       "      <td>exchange</td>\n",
       "      <td>交</td>\n",
       "    </tr>\n",
       "    <tr>\n",
       "      <th>36</th>\n",
       "      <td>中文: \"台\" - Français: \"plate-forme\"\\n中文: \"五\" - F...</td>\n",
       "      <td>[2531, 1737, 16151, 479, 1885, 29887, 330]</td>\n",
       "      <td>genre</td>\n",
       "      <td>[14380, 8506, 2924, 1984, 9089, 413, 19015, 29...</td>\n",
       "      <td>kind</td>\n",
       "      <td>种</td>\n",
       "    </tr>\n",
       "    <tr>\n",
       "      <th>37</th>\n",
       "      <td>中文: \"左\" - Français: \"gauche\"\\n中文: \"例\" - França...</td>\n",
       "      <td>[24618, 4582, 29948, 904]</td>\n",
       "      <td>école</td>\n",
       "      <td>[1364, 29879, 885, 816, 27041, 269, 3762, 1557]</td>\n",
       "      <td>school</td>\n",
       "      <td>校</td>\n",
       "    </tr>\n",
       "    <tr>\n",
       "      <th>38</th>\n",
       "      <td>中文: \"光\" - Français: \"lumière\"\\n中文: \"试\" - Franç...</td>\n",
       "      <td>[2181, 12220, 26844, 274, 29883, 7283]</td>\n",
       "      <td>cravate</td>\n",
       "      <td>[29873, 22134, 260, 2034, 19538]</td>\n",
       "      <td>tie</td>\n",
       "      <td>结</td>\n",
       "    </tr>\n",
       "    <tr>\n",
       "      <th>39</th>\n",
       "      <td>中文: \"南\" - Français: \"sud\"\\n中文: \"云\" - Français:...</td>\n",
       "      <td>[325, 29894, 3516, 1998, 1403, 1730]</td>\n",
       "      <td>visage</td>\n",
       "      <td>[29888, 17470, 2258, 5444, 3700, 285, 2161, 4024]</td>\n",
       "      <td>face</td>\n",
       "      <td>面</td>\n",
       "    </tr>\n",
       "    <tr>\n",
       "      <th>40</th>\n",
       "      <td>中文: \"包\" - Français: \"sac\"\\n中文: \"舞\" - Français:...</td>\n",
       "      <td>[29649, 1129, 29886, 282, 13185, 1112, 772, 12...</td>\n",
       "      <td>pont</td>\n",
       "      <td>[18419, 289, 19515, 1182, 1506, 12945, 29890, ...</td>\n",
       "      <td>bridge</td>\n",
       "      <td>桥</td>\n",
       "    </tr>\n",
       "    <tr>\n",
       "      <th>41</th>\n",
       "      <td>中文: \"头\" - Français: \"tête\"\\n中文: \"尾\" - Français...</td>\n",
       "      <td>[29879, 480, 13159, 12587, 19303, 1462, 2146, ...</td>\n",
       "      <td>supprimer</td>\n",
       "      <td>[8143, 7374, 5217, 311, 270, 6144, 316, 628, 2...</td>\n",
       "      <td>delete</td>\n",
       "      <td>删</td>\n",
       "    </tr>\n",
       "    <tr>\n",
       "      <th>42</th>\n",
       "      <td>中文: \"春\" - Français: \"ressort\"\\n中文: \"岩\" - Franç...</td>\n",
       "      <td>[3503, 18234, 24402, 5530, 611, 286, 655, 29885]</td>\n",
       "      <td>maison</td>\n",
       "      <td>[9261, 3699, 298, 29882, 1251, 5089, 8697, 10774]</td>\n",
       "      <td>house</td>\n",
       "      <td>屋</td>\n",
       "    </tr>\n",
       "    <tr>\n",
       "      <th>43</th>\n",
       "      <td>中文: \"夏\" - Français: \"été\"\\n中文: \"口\" - Français:...</td>\n",
       "      <td>[1841, 364, 29878, 5606]</td>\n",
       "      <td>réunion</td>\n",
       "      <td>[1004, 5870, 11781, 592, 286, 17897, 29885]</td>\n",
       "      <td>meeting</td>\n",
       "      <td>会</td>\n",
       "    </tr>\n",
       "    <tr>\n",
       "      <th>44</th>\n",
       "      <td>中文: \"花\" - Français: \"fleur\"\\n中文: \"夏\" - Françai...</td>\n",
       "      <td>[1559, 274, 29883, 1113, 4287, 5777]</td>\n",
       "      <td>carré</td>\n",
       "      <td>[29879, 6862, 17619, 3044, 269, 10674, 26613, ...</td>\n",
       "      <td>square</td>\n",
       "      <td>方</td>\n",
       "    </tr>\n",
       "    <tr>\n",
       "      <th>45</th>\n",
       "      <td>中文: \"试\" - Français: \"tentative\"\\n中文: \"光\" - Fra...</td>\n",
       "      <td>[325, 29894, 3516, 17191, 8441, 1403, 11928, 4...</td>\n",
       "      <td>ville</td>\n",
       "      <td>[20752, 7537, 274, 4272, 4583, 29883, 455, 12690]</td>\n",
       "      <td>city</td>\n",
       "      <td>城</td>\n",
       "    </tr>\n",
       "    <tr>\n",
       "      <th>46</th>\n",
       "      <td>中文: \"德\" - Français: \"vertu\"\\n中文: \"南\" - Françai...</td>\n",
       "      <td>[13901, 325, 3516, 29894, 1403]</td>\n",
       "      <td>vitesse</td>\n",
       "      <td>[1028, 29879, 6210, 805, 961, 5965, 19322, 269]</td>\n",
       "      <td>speed</td>\n",
       "      <td>速</td>\n",
       "    </tr>\n",
       "    <tr>\n",
       "      <th>47</th>\n",
       "      <td>中文: \"茶\" - Français: \"thé\"\\n中文: \"回\" - Français:...</td>\n",
       "      <td>[899, 29879, 2929, 577, 578, 269]</td>\n",
       "      <td>sol</td>\n",
       "      <td>[4071, 5962, 867, 629, 2057, 29887, 330, 17170]</td>\n",
       "      <td>ground</td>\n",
       "      <td>地</td>\n",
       "    </tr>\n",
       "    <tr>\n",
       "      <th>48</th>\n",
       "      <td>中文: \"塔\" - Français: \"tour\"\\n中文: \"台\" - Français...</td>\n",
       "      <td>[12033, 29873, 371, 260, 3006, 841, 734]</td>\n",
       "      <td>tentative</td>\n",
       "      <td>[4218, 29874, 472, 263, 271, 1098, 15127, 2160...</td>\n",
       "      <td>attempt</td>\n",
       "      <td>试</td>\n",
       "    </tr>\n",
       "    <tr>\n",
       "      <th>49</th>\n",
       "      <td>中文: \"删\" - Français: \"supprimer\"\\n中文: \"千\" - Fra...</td>\n",
       "      <td>[802, 439, 9521, 9990, 339, 712, 29939, 3855]</td>\n",
       "      <td>queue</td>\n",
       "      <td>[11062, 29873, 941, 12464, 18237, 260]</td>\n",
       "      <td>tail</td>\n",
       "      <td>尾</td>\n",
       "    </tr>\n",
       "    <tr>\n",
       "      <th>50</th>\n",
       "      <td>中文: \"结\" - Français: \"cravate\"\\n中文: \"波\" - Franç...</td>\n",
       "      <td>[652, 766, 2313, 17021, 270, 6051, 29881, 2218]</td>\n",
       "      <td>discours</td>\n",
       "      <td>[1028, 29879, 805, 961, 5965, 269, 12032]</td>\n",
       "      <td>speech</td>\n",
       "      <td>话</td>\n",
       "    </tr>\n",
       "    <tr>\n",
       "      <th>51</th>\n",
       "      <td>中文: \"站\" - Français: \"gare\"\\n中文: \"土\" - Français...</td>\n",
       "      <td>[12377, 264, 23578, 427, 321, 29872]</td>\n",
       "      <td>enfant</td>\n",
       "      <td>[4161, 2278, 521, 274, 29883, 18558, 5145, 305]</td>\n",
       "      <td>child</td>\n",
       "      <td>子</td>\n",
       "    </tr>\n",
       "    <tr>\n",
       "      <th>52</th>\n",
       "      <td>中文: \"木\" - Français: \"bois\"\\n中文: \"头\" - Français...</td>\n",
       "      <td>[286, 12031, 8774, 29885]</td>\n",
       "      <td>ménage</td>\n",
       "      <td>[9261, 22329, 10774, 3699, 298, 29882, 1251, 5...</td>\n",
       "      <td>household</td>\n",
       "      <td>户</td>\n",
       "    </tr>\n",
       "    <tr>\n",
       "      <th>53</th>\n",
       "      <td>中文: \"洞\" - Français: \"grotte\"\\n中文: \"波\" - França...</td>\n",
       "      <td>[289, 8399, 29890, 2423, 6866, 1321]</td>\n",
       "      <td>bureau</td>\n",
       "      <td>[1283, 20205, 8034, 3344, 288, 974, 2696, 2987...</td>\n",
       "      <td>office</td>\n",
       "      <td>局</td>\n",
       "    </tr>\n",
       "    <tr>\n",
       "      <th>54</th>\n",
       "      <td>中文: \"头\" - Français: \"tête\"\\n中文: \"四\" - Français...</td>\n",
       "      <td>[6208, 2350, 298, 29882, 447]</td>\n",
       "      <td>hausse</td>\n",
       "      <td>[374, 3780, 5161, 14451, 364, 10107, 29878]</td>\n",
       "      <td>rise</td>\n",
       "      <td>起</td>\n",
       "    </tr>\n",
       "    <tr>\n",
       "      <th>55</th>\n",
       "      <td>中文: \"删\" - Français: \"supprimer\"\\n中文: \"方\" - Fra...</td>\n",
       "      <td>[13395, 26003, 29887, 3249, 10364, 330]</td>\n",
       "      <td>gauche</td>\n",
       "      <td>[29880, 280, 301, 1563, 25874, 2175, 454]</td>\n",
       "      <td>left</td>\n",
       "      <td>左</td>\n",
       "    </tr>\n",
       "    <tr>\n",
       "      <th>56</th>\n",
       "      <td>中文: \"判\" - Français: \"juge\"\\n中文: \"色\" - Français...</td>\n",
       "      <td>[7342, 1893, 29948, 2852, 904, 4370]</td>\n",
       "      <td>été</td>\n",
       "      <td>[2083, 29879, 480, 2533, 2146, 22792, 269, 11801]</td>\n",
       "      <td>summer</td>\n",
       "      <td>夏</td>\n",
       "    </tr>\n",
       "  </tbody>\n",
       "</table>\n",
       "</div>"
      ],
      "text/plain": [
       "                                               prompt  \\\n",
       "0   中文: \"例\" - Français: \"exemple\"\\n中文: \"八\" - Franç...   \n",
       "1   中文: \"城\" - Français: \"ville\"\\n中文: \"四\" - Françai...   \n",
       "2   中文: \"舞\" - Français: \"danse\"\\n中文: \"茶\" - Françai...   \n",
       "3   中文: \"光\" - Français: \"lumière\"\\n中文: \"头\" - Franç...   \n",
       "4   中文: \"音\" - Français: \"son\"\\n中文: \"中\" - Français:...   \n",
       "5   中文: \"地\" - Français: \"sol\"\\n中文: \"判\" - Français:...   \n",
       "6   中文: \"局\" - Français: \"bureau\"\\n中文: \"桥\" - França...   \n",
       "7   中文: \"门\" - Français: \"porte\"\\n中文: \"马\" - Françai...   \n",
       "8   中文: \"德\" - Français: \"vertu\"\\n中文: \"场\" - Françai...   \n",
       "9   中文: \"春\" - Français: \"ressort\"\\n中文: \"代\" - Franç...   \n",
       "10  中文: \"月\" - Français: \"lune\"\\n中文: \"结\" - Français...   \n",
       "11  中文: \"线\" - Français: \"ligne\"\\n中文: \"条\" - Françai...   \n",
       "12  中文: \"户\" - Français: \"ménage\"\\n中文: \"条\" - França...   \n",
       "13  中文: \"左\" - Français: \"gauche\"\\n中文: \"方\" - França...   \n",
       "14  中文: \"门\" - Français: \"porte\"\\n中文: \"格\" - Françai...   \n",
       "15  中文: \"校\" - Français: \"école\"\\n中文: \"座\" - Françai...   \n",
       "16  中文: \"音\" - Français: \"son\"\\n中文: \"门\" - Français:...   \n",
       "17  中文: \"春\" - Français: \"ressort\"\\n中文: \"格\" - Franç...   \n",
       "18  中文: \"春\" - Français: \"ressort\"\\n中文: \"手\" - Franç...   \n",
       "19  中文: \"包\" - Français: \"sac\"\\n中文: \"败\" - Français:...   \n",
       "20  中文: \"谷\" - Français: \"vallée\"\\n中文: \"林\" - França...   \n",
       "21  中文: \"池\" - Français: \"étang\"\\n中文: \"格\" - Françai...   \n",
       "22  中文: \"中\" - Français: \"milieu\"\\n中文: \"尾\" - França...   \n",
       "23  中文: \"八\" - Français: \"huit\"\\n中文: \"话\" - Français...   \n",
       "24  中文: \"包\" - Français: \"sac\"\\n中文: \"谷\" - Français:...   \n",
       "25  中文: \"族\" - Français: \"tribu\"\\n中文: \"海\" - Françai...   \n",
       "26  中文: \"日\" - Français: \"jour\"\\n中文: \"山\" - Français...   \n",
       "27  中文: \"格\" - Français: \"grille\"\\n中文: \"面\" - França...   \n",
       "28  中文: \"会\" - Français: \"réunion\"\\n中文: \"线\" - Franç...   \n",
       "29  中文: \"桥\" - Français: \"pont\"\\n中文: \"土\" - Français...   \n",
       "30  中文: \"东\" - Français: \"est\"\\n中文: \"尾\" - Français:...   \n",
       "31  中文: \"千\" - Français: \"mille\"\\n中文: \"二\" - Françai...   \n",
       "32  中文: \"红\" - Français: \"rouge\"\\n中文: \"回\" - Françai...   \n",
       "33  中文: \"云\" - Français: \"nuage\"\\n中文: \"场\" - Françai...   \n",
       "34  中文: \"手\" - Français: \"main\"\\n中文: \"土\" - Français...   \n",
       "35  中文: \"足\" - Français: \"pied\"\\n中文: \"马\" - Français...   \n",
       "36  中文: \"台\" - Français: \"plate-forme\"\\n中文: \"五\" - F...   \n",
       "37  中文: \"左\" - Français: \"gauche\"\\n中文: \"例\" - França...   \n",
       "38  中文: \"光\" - Français: \"lumière\"\\n中文: \"试\" - Franç...   \n",
       "39  中文: \"南\" - Français: \"sud\"\\n中文: \"云\" - Français:...   \n",
       "40  中文: \"包\" - Français: \"sac\"\\n中文: \"舞\" - Français:...   \n",
       "41  中文: \"头\" - Français: \"tête\"\\n中文: \"尾\" - Français...   \n",
       "42  中文: \"春\" - Français: \"ressort\"\\n中文: \"岩\" - Franç...   \n",
       "43  中文: \"夏\" - Français: \"été\"\\n中文: \"口\" - Français:...   \n",
       "44  中文: \"花\" - Français: \"fleur\"\\n中文: \"夏\" - Françai...   \n",
       "45  中文: \"试\" - Français: \"tentative\"\\n中文: \"光\" - Fra...   \n",
       "46  中文: \"德\" - Français: \"vertu\"\\n中文: \"南\" - Françai...   \n",
       "47  中文: \"茶\" - Français: \"thé\"\\n中文: \"回\" - Français:...   \n",
       "48  中文: \"塔\" - Français: \"tour\"\\n中文: \"台\" - Français...   \n",
       "49  中文: \"删\" - Français: \"supprimer\"\\n中文: \"千\" - Fra...   \n",
       "50  中文: \"结\" - Français: \"cravate\"\\n中文: \"波\" - Franç...   \n",
       "51  中文: \"站\" - Français: \"gare\"\\n中文: \"土\" - Français...   \n",
       "52  中文: \"木\" - Français: \"bois\"\\n中文: \"头\" - Français...   \n",
       "53  中文: \"洞\" - Français: \"grotte\"\\n中文: \"波\" - França...   \n",
       "54  中文: \"头\" - Français: \"tête\"\\n中文: \"四\" - Français...   \n",
       "55  中文: \"删\" - Français: \"supprimer\"\\n中文: \"方\" - Fra...   \n",
       "56  中文: \"判\" - Français: \"juge\"\\n中文: \"色\" - Français...   \n",
       "\n",
       "                                         out_token_id out_token_str  \\\n",
       "0                            [4948, 29876, 3433, 302]         nuage   \n",
       "1                       [29879, 4977, 7067, 269, 872]           sac   \n",
       "2                      [833, 289, 1045, 16380, 29890]        bouche   \n",
       "3                                        [274, 29883]          cœur   \n",
       "4     [24402, 5530, 1667, 611, 3396, 286, 655, 29885]          main   \n",
       "5         [20551, 8121, 432, 8694, 2212, 29926, 2958]          jour   \n",
       "6                            [1893, 29948, 2852, 904]        étoile   \n",
       "7       [620, 690, 1253, 364, 29878, 18475, 276, 337]       ressort   \n",
       "8                     [29880, 301, 6092, 25081, 8092]          lune   \n",
       "9                      [833, 289, 23734, 1045, 29890]          bois   \n",
       "10   [10329, 521, 5815, 274, 5083, 29883, 25875, 305]       chanson   \n",
       "11                    [1893, 29948, 28899, 2852, 904]         étang   \n",
       "12          [16504, 898, 13469, 265, 373, 288, 29877]          onde   \n",
       "13                [4071, 867, 629, 29887, 330, 17170]        grotte   \n",
       "14                [1050, 2778, 1004, 592, 286, 29885]           mer   \n",
       "15       [330, 7171, 29887, 3249, 5397, 10364, 24816]          gare   \n",
       "16     [29888, 5713, 285, 7241, 1777, 934, 977, 1445]         filet   \n",
       "17       [5036, 15957, 29886, 1631, 282, 12343, 2930]          pied   \n",
       "18                             [470, 29877, 272, 288]            or   \n",
       "19  [13732, 1277, 1129, 29886, 2011, 282, 637, 197...         porte   \n",
       "20                      [484, 452, 12106, 29876, 302]         neige   \n",
       "21    [1173, 923, 521, 274, 29883, 29823, 25042, 305]        cheval   \n",
       "22                             [318, 443, 29884, 348]            un   \n",
       "23                       [311, 4239, 270, 316, 29881]          deux   \n",
       "24              [439, 21408, 339, 3855, 29939, 12134]        quatre   \n",
       "25        [4670, 17256, 274, 29883, 4583, 455, 16381]          cinq   \n",
       "26            [298, 27052, 15669, 29882, 22888, 6905]          huit   \n",
       "27                     [652, 23386, 270, 6051, 29881]           dix   \n",
       "28                                [29873, 260, 17949]          tête   \n",
       "29  [4980, 2291, 289, 9892, 9922, 29890, 27628, 25...         bande   \n",
       "30                     [5796, 582, 364, 29878, 16014]           rue   \n",
       "31                                            [30106]           œil   \n",
       "32  [10329, 521, 5815, 274, 11179, 29883, 18480, 305]         champ   \n",
       "33              [4346, 14817, 286, 3184, 2730, 29885]           mot   \n",
       "34  [3533, 2316, 3737, 286, 2460, 23853, 19958, 29...         mille   \n",
       "35               [833, 289, 1045, 16380, 6526, 29890]        bourse   \n",
       "36         [2531, 1737, 16151, 479, 1885, 29887, 330]         genre   \n",
       "37                          [24618, 4582, 29948, 904]         école   \n",
       "38             [2181, 12220, 26844, 274, 29883, 7283]       cravate   \n",
       "39               [325, 29894, 3516, 1998, 1403, 1730]        visage   \n",
       "40  [29649, 1129, 29886, 282, 13185, 1112, 772, 12...          pont   \n",
       "41  [29879, 480, 13159, 12587, 19303, 1462, 2146, ...     supprimer   \n",
       "42   [3503, 18234, 24402, 5530, 611, 286, 655, 29885]        maison   \n",
       "43                           [1841, 364, 29878, 5606]       réunion   \n",
       "44               [1559, 274, 29883, 1113, 4287, 5777]         carré   \n",
       "45  [325, 29894, 3516, 17191, 8441, 1403, 11928, 4...         ville   \n",
       "46                    [13901, 325, 3516, 29894, 1403]       vitesse   \n",
       "47                  [899, 29879, 2929, 577, 578, 269]           sol   \n",
       "48           [12033, 29873, 371, 260, 3006, 841, 734]     tentative   \n",
       "49      [802, 439, 9521, 9990, 339, 712, 29939, 3855]         queue   \n",
       "50    [652, 766, 2313, 17021, 270, 6051, 29881, 2218]      discours   \n",
       "51               [12377, 264, 23578, 427, 321, 29872]        enfant   \n",
       "52                          [286, 12031, 8774, 29885]        ménage   \n",
       "53               [289, 8399, 29890, 2423, 6866, 1321]        bureau   \n",
       "54                      [6208, 2350, 298, 29882, 447]        hausse   \n",
       "55            [13395, 26003, 29887, 3249, 10364, 330]        gauche   \n",
       "56               [7342, 1893, 29948, 2852, 904, 4370]           été   \n",
       "\n",
       "                                      latent_token_id latent_token_str  \\\n",
       "0   [9274, 695, 15126, 274, 23642, 29883, 1067, 95...            cloud   \n",
       "1              [2291, 23156, 289, 9922, 19548, 29890]              bag   \n",
       "2       [4346, 286, 13394, 21026, 29885, 2730, 29442]            mouth   \n",
       "3           [5192, 298, 354, 29882, 8293, 540, 23057]            heart   \n",
       "4     [5905, 3179, 2350, 298, 29882, 447, 1361, 5403]             hand   \n",
       "5                [270, 1146, 3250, 2462, 1388, 29881]              day   \n",
       "6      [8508, 29879, 5173, 5810, 303, 269, 380, 9523]             star   \n",
       "7    [1028, 29879, 805, 7689, 15099, 4278, 269, 6709]           spring   \n",
       "8                     [4346, 286, 29885, 2730, 18786]             moon   \n",
       "9                 [8879, 8112, 827, 29893, 6115, 281]             wood   \n",
       "10    [29879, 21453, 4823, 1487, 577, 578, 269, 1100]             song   \n",
       "11         [1129, 29886, 282, 1112, 772, 12509, 2818]             pond   \n",
       "12            [29893, 2766, 10742, 11324, 281, 27766]             wave   \n",
       "13             [18346, 274, 29883, 1113, 5777, 24230]             cave   \n",
       "14                       [7205, 29879, 344, 409, 269]              sea   \n",
       "15  [19569, 23436, 29879, 5173, 6112, 303, 5073, 2...          station   \n",
       "16                 [484, 452, 7787, 29876, 1212, 302]              net   \n",
       "17   [29888, 1181, 285, 7953, 1701, 3661, 6661, 5431]             foot   \n",
       "18               [15192, 1484, 7684, 29887, 748, 330]             gold   \n",
       "19               [3050, 270, 17433, 1867, 29881, 437]             door   \n",
       "20                   [29879, 5807, 15007, 269, 16586]             snow   \n",
       "21  [298, 4029, 11231, 29882, 2015, 1251, 5089, 10...            horse   \n",
       "22                   [697, 265, 373, 288, 29877, 650]              one   \n",
       "23              [29873, 1023, 260, 7516, 3252, 10184]              two   \n",
       "24       [12584, 29888, 1181, 285, 1701, 17823, 3023]             four   \n",
       "25              [29888, 5713, 285, 7241, 5320, 20818]             five   \n",
       "26            [9475, 29319, 321, 10096, 29872, 15761]            eight   \n",
       "27                  [29873, 371, 260, 3006, 841, 734]              ten   \n",
       "28                 [2343, 2813, 298, 354, 29882, 540]             head   \n",
       "29  [29879, 17820, 303, 710, 269, 380, 10076, 851,...            strip   \n",
       "30  [29879, 29352, 12243, 303, 710, 11952, 13045, ...           street   \n",
       "31                          [1032, 10977, 321, 29872]              eye   \n",
       "32        [29888, 5713, 285, 7241, 2671, 29607, 1746]            field   \n",
       "33   [1742, 8879, 6365, 29893, 827, 13762, 281, 1734]             word   \n",
       "34         [29873, 12595, 7693, 386, 260, 266, 10405]         thousand   \n",
       "35          [14523, 429, 6543, 321, 735, 29872, 5566]         exchange   \n",
       "36  [14380, 8506, 2924, 1984, 9089, 413, 19015, 29...             kind   \n",
       "37    [1364, 29879, 885, 816, 27041, 269, 3762, 1557]           school   \n",
       "38                   [29873, 22134, 260, 2034, 19538]              tie   \n",
       "39  [29888, 17470, 2258, 5444, 3700, 285, 2161, 4024]             face   \n",
       "40  [18419, 289, 19515, 1182, 1506, 12945, 29890, ...           bridge   \n",
       "41  [8143, 7374, 5217, 311, 270, 6144, 316, 628, 2...           delete   \n",
       "42  [9261, 3699, 298, 29882, 1251, 5089, 8697, 10774]            house   \n",
       "43        [1004, 5870, 11781, 592, 286, 17897, 29885]          meeting   \n",
       "44  [29879, 6862, 17619, 3044, 269, 10674, 26613, ...           square   \n",
       "45  [20752, 7537, 274, 4272, 4583, 29883, 455, 12690]             city   \n",
       "46    [1028, 29879, 6210, 805, 961, 5965, 19322, 269]            speed   \n",
       "47    [4071, 5962, 867, 629, 2057, 29887, 330, 17170]           ground   \n",
       "48  [4218, 29874, 472, 263, 271, 1098, 15127, 2160...          attempt   \n",
       "49             [11062, 29873, 941, 12464, 18237, 260]             tail   \n",
       "50          [1028, 29879, 805, 961, 5965, 269, 12032]           speech   \n",
       "51    [4161, 2278, 521, 274, 29883, 18558, 5145, 305]            child   \n",
       "52  [9261, 22329, 10774, 3699, 298, 29882, 1251, 5...        household   \n",
       "53  [1283, 20205, 8034, 3344, 288, 974, 2696, 2987...           office   \n",
       "54        [374, 3780, 5161, 14451, 364, 10107, 29878]             rise   \n",
       "55          [29880, 280, 301, 1563, 25874, 2175, 454]             left   \n",
       "56  [2083, 29879, 480, 2533, 2146, 22792, 269, 11801]           summer   \n",
       "\n",
       "   in_token_str  \n",
       "0             云  \n",
       "1             包  \n",
       "2             口  \n",
       "3             心  \n",
       "4             手  \n",
       "5             日  \n",
       "6             星  \n",
       "7             春  \n",
       "8             月  \n",
       "9             木  \n",
       "10            歌  \n",
       "11            池  \n",
       "12            波  \n",
       "13            洞  \n",
       "14            海  \n",
       "15            站  \n",
       "16            网  \n",
       "17            足  \n",
       "18            金  \n",
       "19            门  \n",
       "20            雪  \n",
       "21            马  \n",
       "22            一  \n",
       "23            二  \n",
       "24            四  \n",
       "25            五  \n",
       "26            八  \n",
       "27            十  \n",
       "28            头  \n",
       "29            条  \n",
       "30            街  \n",
       "31            目  \n",
       "32            场  \n",
       "33            字  \n",
       "34            千  \n",
       "35            交  \n",
       "36            种  \n",
       "37            校  \n",
       "38            结  \n",
       "39            面  \n",
       "40            桥  \n",
       "41            删  \n",
       "42            屋  \n",
       "43            会  \n",
       "44            方  \n",
       "45            城  \n",
       "46            速  \n",
       "47            地  \n",
       "48            试  \n",
       "49            尾  \n",
       "50            话  \n",
       "51            子  \n",
       "52            户  \n",
       "53            局  \n",
       "54            起  \n",
       "55            左  \n",
       "56            夏  "
      ]
     },
     "execution_count": 13,
     "metadata": {},
     "output_type": "execute_result"
    }
   ],
   "source": [
    "df"
   ]
  },
  {
   "cell_type": "code",
   "execution_count": 14,
   "id": "94fa55b7",
   "metadata": {
    "execution": {
     "iopub.execute_input": "2024-02-23T16:27:12.475755Z",
     "iopub.status.busy": "2024-02-23T16:27:12.475627Z",
     "iopub.status.idle": "2024-02-23T16:27:12.507191Z",
     "shell.execute_reply": "2024-02-23T16:27:12.506856Z"
    },
    "papermill": {
     "duration": 0.041317,
     "end_time": "2024-02-23T16:27:12.508081",
     "exception": false,
     "start_time": "2024-02-23T16:27:12.466764",
     "status": "completed"
    },
    "tags": []
   },
   "outputs": [],
   "source": [
    "def get_logits(model, prompt,lens):\n",
    "    inputs = tokenizer(prompt, return_tensors=\"pt\").to('cuda')\n",
    "    output = llama(inputs.input_ids, output_hidden_states=True)\n",
    "    hidden_states = output.hidden_states[:-1]\n",
    "    final_lps = output.logits.log_softmax(dim=-1)\n",
    "    tensors=[]\n",
    "    for i in range(32):\n",
    "        h = hidden_states[i].squeeze(0)\n",
    "        tensors+=[lens(h, idx=i).detach().cpu()]\n",
    "    tensors= torch.stack(tensors)  \n",
    "    hidden_states = torch.stack(hidden_states).squeeze(1).detach().cpu()\n",
    "    return tensors,hidden_states\n",
    "        "
   ]
  },
  {
   "cell_type": "code",
   "execution_count": 15,
   "id": "25241c49",
   "metadata": {
    "execution": {
     "iopub.execute_input": "2024-02-23T16:27:12.534228Z",
     "iopub.status.busy": "2024-02-23T16:27:12.534074Z",
     "iopub.status.idle": "2024-02-23T16:27:22.554242Z",
     "shell.execute_reply": "2024-02-23T16:27:22.553685Z"
    },
    "papermill": {
     "duration": 10.034215,
     "end_time": "2024-02-23T16:27:22.555219",
     "exception": false,
     "start_time": "2024-02-23T16:27:12.521004",
     "status": "completed"
    },
    "tags": []
   },
   "outputs": [
    {
     "name": "stderr",
     "output_type": "stream",
     "text": [
      "\r",
      "0it [00:00, ?it/s]"
     ]
    },
    {
     "name": "stderr",
     "output_type": "stream",
     "text": [
      "\r",
      "1it [00:00,  1.04it/s]"
     ]
    },
    {
     "name": "stderr",
     "output_type": "stream",
     "text": [
      "\r",
      "2it [00:01,  2.06it/s]"
     ]
    },
    {
     "name": "stderr",
     "output_type": "stream",
     "text": [
      "\r",
      "3it [00:01,  2.99it/s]"
     ]
    },
    {
     "name": "stderr",
     "output_type": "stream",
     "text": [
      "\r",
      "4it [00:01,  3.49it/s]"
     ]
    },
    {
     "name": "stderr",
     "output_type": "stream",
     "text": [
      "\r",
      "5it [00:01,  4.29it/s]"
     ]
    },
    {
     "name": "stderr",
     "output_type": "stream",
     "text": [
      "\r",
      "6it [00:01,  4.75it/s]"
     ]
    },
    {
     "name": "stderr",
     "output_type": "stream",
     "text": [
      "\r",
      "7it [00:01,  4.79it/s]"
     ]
    },
    {
     "name": "stderr",
     "output_type": "stream",
     "text": [
      "\r",
      "8it [00:02,  5.17it/s]"
     ]
    },
    {
     "name": "stderr",
     "output_type": "stream",
     "text": [
      "\r",
      "9it [00:02,  5.33it/s]"
     ]
    },
    {
     "name": "stderr",
     "output_type": "stream",
     "text": [
      "\r",
      "10it [00:02,  5.31it/s]"
     ]
    },
    {
     "name": "stderr",
     "output_type": "stream",
     "text": [
      "\r",
      "11it [00:02,  5.74it/s]"
     ]
    },
    {
     "name": "stderr",
     "output_type": "stream",
     "text": [
      "\r",
      "12it [00:02,  5.99it/s]"
     ]
    },
    {
     "name": "stderr",
     "output_type": "stream",
     "text": [
      "\r",
      "13it [00:02,  5.80it/s]"
     ]
    },
    {
     "name": "stderr",
     "output_type": "stream",
     "text": [
      "\r",
      "14it [00:03,  6.25it/s]"
     ]
    },
    {
     "name": "stderr",
     "output_type": "stream",
     "text": [
      "\r",
      "15it [00:03,  6.34it/s]"
     ]
    },
    {
     "name": "stderr",
     "output_type": "stream",
     "text": [
      "\r",
      "16it [00:03,  6.73it/s]"
     ]
    },
    {
     "name": "stderr",
     "output_type": "stream",
     "text": [
      "\r",
      "17it [00:03,  6.74it/s]"
     ]
    },
    {
     "name": "stderr",
     "output_type": "stream",
     "text": [
      "\r",
      "18it [00:03,  6.95it/s]"
     ]
    },
    {
     "name": "stderr",
     "output_type": "stream",
     "text": [
      "\r",
      "19it [00:03,  6.67it/s]"
     ]
    },
    {
     "name": "stderr",
     "output_type": "stream",
     "text": [
      "\r",
      "20it [00:03,  6.95it/s]"
     ]
    },
    {
     "name": "stderr",
     "output_type": "stream",
     "text": [
      "\r",
      "21it [00:04,  7.06it/s]"
     ]
    },
    {
     "name": "stderr",
     "output_type": "stream",
     "text": [
      "\r",
      "22it [00:04,  6.20it/s]"
     ]
    },
    {
     "name": "stderr",
     "output_type": "stream",
     "text": [
      "\r",
      "23it [00:04,  6.36it/s]"
     ]
    },
    {
     "name": "stderr",
     "output_type": "stream",
     "text": [
      "\r",
      "24it [00:04,  6.07it/s]"
     ]
    },
    {
     "name": "stderr",
     "output_type": "stream",
     "text": [
      "\r",
      "25it [00:04,  6.04it/s]"
     ]
    },
    {
     "name": "stderr",
     "output_type": "stream",
     "text": [
      "\r",
      "26it [00:04,  6.13it/s]"
     ]
    },
    {
     "name": "stderr",
     "output_type": "stream",
     "text": [
      "\r",
      "27it [00:05,  6.16it/s]"
     ]
    },
    {
     "name": "stderr",
     "output_type": "stream",
     "text": [
      "\r",
      "28it [00:05,  5.89it/s]"
     ]
    },
    {
     "name": "stderr",
     "output_type": "stream",
     "text": [
      "\r",
      "29it [00:05,  6.21it/s]"
     ]
    },
    {
     "name": "stderr",
     "output_type": "stream",
     "text": [
      "\r",
      "30it [00:05,  6.41it/s]"
     ]
    },
    {
     "name": "stderr",
     "output_type": "stream",
     "text": [
      "\r",
      "31it [00:05,  6.03it/s]"
     ]
    },
    {
     "name": "stderr",
     "output_type": "stream",
     "text": [
      "\r",
      "32it [00:05,  6.38it/s]"
     ]
    },
    {
     "name": "stderr",
     "output_type": "stream",
     "text": [
      "\r",
      "33it [00:06,  6.12it/s]"
     ]
    },
    {
     "name": "stderr",
     "output_type": "stream",
     "text": [
      "\r",
      "34it [00:06,  5.97it/s]"
     ]
    },
    {
     "name": "stderr",
     "output_type": "stream",
     "text": [
      "\r",
      "35it [00:06,  6.35it/s]"
     ]
    },
    {
     "name": "stderr",
     "output_type": "stream",
     "text": [
      "\r",
      "36it [00:06,  6.26it/s]"
     ]
    },
    {
     "name": "stderr",
     "output_type": "stream",
     "text": [
      "\r",
      "37it [00:06,  5.67it/s]"
     ]
    },
    {
     "name": "stderr",
     "output_type": "stream",
     "text": [
      "\r",
      "38it [00:06,  6.04it/s]"
     ]
    },
    {
     "name": "stderr",
     "output_type": "stream",
     "text": [
      "\r",
      "39it [00:07,  5.89it/s]"
     ]
    },
    {
     "name": "stderr",
     "output_type": "stream",
     "text": [
      "\r",
      "40it [00:07,  6.31it/s]"
     ]
    },
    {
     "name": "stderr",
     "output_type": "stream",
     "text": [
      "\r",
      "41it [00:07,  6.42it/s]"
     ]
    },
    {
     "name": "stderr",
     "output_type": "stream",
     "text": [
      "\r",
      "42it [00:07,  6.65it/s]"
     ]
    },
    {
     "name": "stderr",
     "output_type": "stream",
     "text": [
      "\r",
      "43it [00:07,  6.32it/s]"
     ]
    },
    {
     "name": "stderr",
     "output_type": "stream",
     "text": [
      "\r",
      "44it [00:07,  5.92it/s]"
     ]
    },
    {
     "name": "stderr",
     "output_type": "stream",
     "text": [
      "\r",
      "45it [00:08,  6.11it/s]"
     ]
    },
    {
     "name": "stderr",
     "output_type": "stream",
     "text": [
      "\r",
      "46it [00:08,  6.29it/s]"
     ]
    },
    {
     "name": "stderr",
     "output_type": "stream",
     "text": [
      "\r",
      "47it [00:08,  5.84it/s]"
     ]
    },
    {
     "name": "stderr",
     "output_type": "stream",
     "text": [
      "\r",
      "48it [00:08,  5.94it/s]"
     ]
    },
    {
     "name": "stderr",
     "output_type": "stream",
     "text": [
      "\r",
      "49it [00:08,  6.31it/s]"
     ]
    },
    {
     "name": "stderr",
     "output_type": "stream",
     "text": [
      "\r",
      "50it [00:08,  6.42it/s]"
     ]
    },
    {
     "name": "stderr",
     "output_type": "stream",
     "text": [
      "\r",
      "51it [00:09,  6.28it/s]"
     ]
    },
    {
     "name": "stderr",
     "output_type": "stream",
     "text": [
      "\r",
      "52it [00:09,  6.55it/s]"
     ]
    },
    {
     "name": "stderr",
     "output_type": "stream",
     "text": [
      "\r",
      "53it [00:09,  6.34it/s]"
     ]
    },
    {
     "name": "stderr",
     "output_type": "stream",
     "text": [
      "\r",
      "54it [00:09,  6.55it/s]"
     ]
    },
    {
     "name": "stderr",
     "output_type": "stream",
     "text": [
      "\r",
      "55it [00:09,  6.59it/s]"
     ]
    },
    {
     "name": "stderr",
     "output_type": "stream",
     "text": [
      "\r",
      "56it [00:09,  5.85it/s]"
     ]
    },
    {
     "name": "stderr",
     "output_type": "stream",
     "text": [
      "\r",
      "57it [00:09,  6.25it/s]"
     ]
    },
    {
     "name": "stderr",
     "output_type": "stream",
     "text": [
      "\r",
      "57it [00:09,  5.71it/s]"
     ]
    },
    {
     "name": "stderr",
     "output_type": "stream",
     "text": [
      "\n"
     ]
    }
   ],
   "source": [
    "in_token_probs = []\n",
    "latent_token_probs = []\n",
    "out_token_probs = []\n",
    "entropy = []\n",
    "energy = []\n",
    "latents_all = []\n",
    "\n",
    "for idx, d in tqdm(enumerate(dataset)):\n",
    "    logits,latents = get_logits(llama, d['prompt'],llama_lens)\n",
    "    last = logits[:, -1, :].float().softmax(dim=-1).detach().cpu()\n",
    "    latent_token_probs += [last[:, torch.tensor(d['latent_token_id'])].sum(dim=-1)]\n",
    "    out_token_probs += [last[:, torch.tensor(d['out_token_id'])].sum(dim=-1)]\n",
    "    entropy += [compute_entropy(last)]\n",
    "    latents_all += [latents[:, -1, :].float().detach().cpu().clone()]\n",
    "    latents_normalized = latents[:, -1, :].float()\n",
    "    latents_normalized = latents_normalized / (((latents_normalized**2).mean(dim=-1, keepdim=True))**0.5)\n",
    "    latents_normalized /= (latents_normalized.norm(dim=-1, keepdim=True))\n",
    "    norm = ((U_normalized @ latents_normalized.T)**2).mean(dim=0)**0.5\n",
    "    energy += [norm/avgUU]\n",
    "\n",
    "latent_token_probs = torch.stack(latent_token_probs)\n",
    "out_token_probs = torch.stack(out_token_probs)\n",
    "entropy = torch.stack(entropy)\n",
    "energy = torch.stack(energy)\n",
    "latents = torch.stack(latents_all)"
   ]
  },
  {
   "cell_type": "code",
   "execution_count": 16,
   "id": "680ef0b2",
   "metadata": {
    "execution": {
     "iopub.execute_input": "2024-02-23T16:27:22.585950Z",
     "iopub.status.busy": "2024-02-23T16:27:22.585597Z",
     "iopub.status.idle": "2024-02-23T16:27:22.927585Z",
     "shell.execute_reply": "2024-02-23T16:27:22.927178Z"
    },
    "papermill": {
     "duration": 0.35668,
     "end_time": "2024-02-23T16:27:22.928516",
     "exception": false,
     "start_time": "2024-02-23T16:27:22.571836",
     "status": "completed"
    },
    "tags": []
   },
   "outputs": [
    {
     "name": "stderr",
     "output_type": "stream",
     "text": [
      "/mnt/ssd-1/gpaulo/llm-latent-language/utils.py:52: UserWarning: This figure includes Axes that are not compatible with tight_layout, so results might be incorrect.\n",
      "  plt.tight_layout()\n"
     ]
    },
    {
     "data": {
      "image/png": "[encoded data removed]",
      "text/plain": [
       "<Figure size 500x300 with 3 Axes>"
      ]
     },
     "metadata": {},
     "output_type": "display_data"
    }
   ],
   "source": [
    "size2tik = {'7b': 5, '13b': 5, '70b': 10}\n",
    "fig, ax, ax2 = plot_ci_plus_heatmap(latent_token_probs, entropy, latent, color='tab:orange', tik_step=size2tik[model_size], do_colorbar=True, #, do_colorbar=(model_size=='70b'),\n",
    "nums=[.99, 0.18, 0.025, 0.6])\n",
    "plot_ci(ax2, out_token_probs, target_lang, color='tab:blue', do_lines=False)\n",
    "ax2.set_xlabel('layer')\n",
    "ax2.set_ylabel('probability')\n",
    "if model_size == '7b':\n",
    "    ax2.set_xlim(0, out_token_probs.shape[1]+1)\n",
    "else:\n",
    "    ax2.set_xlim(0, round(out_token_probs.shape[1]/10)*10+1)\n",
    "ax2.set_ylim(0, 1)\n",
    "# make xticks start from 1\n",
    "# put legend on the top left\n",
    "ax2.legend(loc='upper left')\n",
    "os.makedirs(f'{out_dir}/translation', exist_ok=True)\n",
    "\n",
    "plt.savefig(f'{out_dir}/translation/{model_size}_{input_lang}_{target_lang}_probas_ent.jpg', dpi=300, bbox_inches='tight')"
   ]
  },
  {
   "cell_type": "code",
   "execution_count": 17,
   "id": "48c50e4a",
   "metadata": {
    "execution": {
     "iopub.execute_input": "2024-02-23T16:27:22.961824Z",
     "iopub.status.busy": "2024-02-23T16:27:22.961651Z",
     "iopub.status.idle": "2024-02-23T16:27:23.117121Z",
     "shell.execute_reply": "2024-02-23T16:27:23.116774Z"
    },
    "papermill": {
     "duration": 0.172467,
     "end_time": "2024-02-23T16:27:23.118089",
     "exception": false,
     "start_time": "2024-02-23T16:27:22.945622",
     "status": "completed"
    },
    "tags": []
   },
   "outputs": [
    {
     "data": {
      "image/png": "[encoded data removed]",
      "text/plain": [
       "<Figure size 500x300 with 1 Axes>"
      ]
     },
     "metadata": {},
     "output_type": "display_data"
    }
   ],
   "source": [
    "size2tik = {'7b': 5, '13b': 5, '70b': 10}\n",
    "\n",
    "fig, ax2 = plt.subplots(figsize=(5,3))\n",
    "plot_ci(ax2, energy, 'energy', color='tab:green', do_lines=True, tik_step=size2tik[model_size])\n",
    "ax2.set_xlabel('layer')\n",
    "ax2.set_ylabel('energy')\n",
    "if model_size == '7b':\n",
    "    ax2.set_xlim(0, out_token_probs.shape[1]+1)\n",
    "else:\n",
    "    ax2.set_xlim(0, round(out_token_probs.shape[1]/10)*10+1)\n",
    "os.makedirs(f'{out_dir}/translation', exist_ok=True)\n",
    "plt.savefig(f'{out_dir}/translation/{model_size}_{input_lang}_{target_lang}_energy.jpg', dpi=300, bbox_inches='tight')"
   ]
  },
  {
   "cell_type": "code",
   "execution_count": null,
   "id": "de0f66f1",
   "metadata": {
    "papermill": {
     "duration": 0.019086,
     "end_time": "2024-02-23T16:27:23.153957",
     "exception": false,
     "start_time": "2024-02-23T16:27:23.134871",
     "status": "completed"
    },
    "tags": []
   },
   "outputs": [],
   "source": []
  }
 ],
 "metadata": {
  "kernelspec": {
   "display_name": "Python 3 (ipykernel)",
   "language": "python",
   "name": "python3"
  },
  "language_info": {
   "codemirror_mode": {
    "name": "ipython",
    "version": 3
   },
   "file_extension": ".py",
   "mimetype": "text/x-python",
   "name": "python",
   "nbconvert_exporter": "python",
   "pygments_lexer": "ipython3",
   "version": "3.11.5"
  },
  "papermill": {
   "default_parameters": {},
   "duration": 53.295023,
   "end_time": "2024-02-23T16:27:24.292249",
   "environment_variables": {},
   "exception": null,
   "input_path": "Translation.ipynb",
   "output_path": "visuals/executed_notebooks/Translation_tuned_7b_zh_fr.ipynb",
   "parameters": {
    "input_lang": "zh",
    "model_size": "7b",
    "target_lang": "fr",
    "type": "tuned"
   },
   "start_time": "2024-02-23T16:26:30.997226",
   "version": "2.5.0"
  },
  "widgets": {
   "application/vnd.jupyter.widget-state+json": {
    "state": {
     "0672013e75b547d38701718395e7e3a8": {
      "model_module": "@jupyter-widgets/controls",
      "model_module_version": "2.0.0",
      "model_name": "HBoxModel",
      "state": {
       "_dom_classes": [],
       "_model_module": "@jupyter-widgets/controls",
       "_model_module_version": "2.0.0",
       "_model_name": "HBoxModel",
       "_view_count": null,
       "_view_module": "@jupyter-widgets/controls",
       "_view_module_version": "2.0.0",
       "_view_name": "HBoxView",
       "box_style": "",
       "children": [
        "IPY_MODEL_db8721df7e3047378a6503ff789b5cf3",
        "IPY_MODEL_b131945cd6e14b51b3be3d770a78399d",
        "IPY_MODEL_90327f8f1ed846c4aac55a4db1c1cfd1"
       ],
       "layout": "IPY_MODEL_16eec31468a5469e83842263c3d88b56",
       "tabbable": null,
       "tooltip": null
      }
     },
     "0c95fd1fa8784a7fb4f99a1e5cdd78be": {
      "model_module": "@jupyter-widgets/controls",
      "model_module_version": "2.0.0",
      "model_name": "HTMLStyleModel",
      "state": {
       "_model_module": "@jupyter-widgets/controls",
       "_model_module_version": "2.0.0",
       "_model_name": "HTMLStyleModel",
       "_view_count": null,
       "_view_module": "@jupyter-widgets/base",
       "_view_module_version": "2.0.0",
       "_view_name": "StyleView",
       "background": null,
       "description_width": "",
       "font_size": null,
       "text_color": null
      }
     },
     "16eec31468a5469e83842263c3d88b56": {
      "model_module": "@jupyter-widgets/base",
      "model_module_version": "2.0.0",
      "model_name": "LayoutModel",
      "state": {
       "_model_module": "@jupyter-widgets/base",
       "_model_module_version": "2.0.0",
       "_model_name": "LayoutModel",
       "_view_count": null,
       "_view_module": "@jupyter-widgets/base",
       "_view_module_version": "2.0.0",
       "_view_name": "LayoutView",
       "align_content": null,
       "align_items": null,
       "align_self": null,
       "border_bottom": null,
       "border_left": null,
       "border_right": null,
       "border_top": null,
       "bottom": null,
       "display": null,
       "flex": null,
       "flex_flow": null,
       "grid_area": null,
       "grid_auto_columns": null,
       "grid_auto_flow": null,
       "grid_auto_rows": null,
       "grid_column": null,
       "grid_gap": null,
       "grid_row": null,
       "grid_template_areas": null,
       "grid_template_columns": null,
       "grid_template_rows": null,
       "height": null,
       "justify_content": null,
       "justify_items": null,
       "left": null,
       "margin": null,
       "max_height": null,
       "max_width": null,
       "min_height": null,
       "min_width": null,
       "object_fit": null,
       "object_position": null,
       "order": null,
       "overflow": null,
       "padding": null,
       "right": null,
       "top": null,
       "visibility": null,
       "width": null
      }
     },
     "175f2bf12e194fa888f63b105830e585": {
      "model_module": "@jupyter-widgets/base",
      "model_module_version": "2.0.0",
      "model_name": "LayoutModel",
      "state": {
       "_model_module": "@jupyter-widgets/base",
       "_model_module_version": "2.0.0",
       "_model_name": "LayoutModel",
       "_view_count": null,
       "_view_module": "@jupyter-widgets/base",
       "_view_module_version": "2.0.0",
       "_view_name": "LayoutView",
       "align_content": null,
       "align_items": null,
       "align_self": null,
       "border_bottom": null,
       "border_left": null,
       "border_right": null,
       "border_top": null,
       "bottom": null,
       "display": null,
       "flex": null,
       "flex_flow": null,
       "grid_area": null,
       "grid_auto_columns": null,
       "grid_auto_flow": null,
       "grid_auto_rows": null,
       "grid_column": null,
       "grid_gap": null,
       "grid_row": null,
       "grid_template_areas": null,
       "grid_template_columns": null,
       "grid_template_rows": null,
       "height": null,
       "justify_content": null,
       "justify_items": null,
       "left": null,
       "margin": null,
       "max_height": null,
       "max_width": null,
       "min_height": null,
       "min_width": null,
       "object_fit": null,
       "object_position": null,
       "order": null,
       "overflow": null,
       "padding": null,
       "right": null,
       "top": null,
       "visibility": null,
       "width": null
      }
     },
     "1bd43c1afe6c4ed493ab3260795cf272": {
      "model_module": "@jupyter-widgets/controls",
      "model_module_version": "2.0.0",
      "model_name": "HTMLStyleModel",
      "state": {
       "_model_module": "@jupyter-widgets/controls",
       "_model_module_version": "2.0.0",
       "_model_name": "HTMLStyleModel",
       "_view_count": null,
       "_view_module": "@jupyter-widgets/base",
       "_view_module_version": "2.0.0",
       "_view_name": "StyleView",
       "background": null,
       "description_width": "",
       "font_size": null,
       "text_color": null
      }
     },
     "22f7ff1790964fba978be2355f3d448b": {
      "model_module": "@jupyter-widgets/controls",
      "model_module_version": "2.0.0",
      "model_name": "ProgressStyleModel",
      "state": {
       "_model_module": "@jupyter-widgets/controls",
       "_model_module_version": "2.0.0",
       "_model_name": "ProgressStyleModel",
       "_view_count": null,
       "_view_module": "@jupyter-widgets/base",
       "_view_module_version": "2.0.0",
       "_view_name": "StyleView",
       "bar_color": null,
       "description_width": ""
      }
     },
     "247818a27dba4078bb43944d600f77d1": {
      "model_module": "@jupyter-widgets/controls",
      "model_module_version": "2.0.0",
      "model_name": "FloatProgressModel",
      "state": {
       "_dom_classes": [],
       "_model_module": "@jupyter-widgets/controls",
       "_model_module_version": "2.0.0",
       "_model_name": "FloatProgressModel",
       "_view_count": null,
       "_view_module": "@jupyter-widgets/controls",
       "_view_module_version": "2.0.0",
       "_view_name": "ProgressView",
       "bar_style": "success",
       "description": "",
       "description_allow_html": false,
       "layout": "IPY_MODEL_c121dd42e75b48feae4155201d169e79",
       "max": 2148023459.0,
       "min": 0.0,
       "orientation": "horizontal",
       "style": "IPY_MODEL_22f7ff1790964fba978be2355f3d448b",
       "tabbable": null,
       "tooltip": null,
       "value": 2148023459.0
      }
     },
     "25fdc87744984cc4bd23cf03c68f5201": {
      "model_module": "@jupyter-widgets/base",
      "model_module_version": "2.0.0",
      "model_name": "LayoutModel",
      "state": {
       "_model_module": "@jupyter-widgets/base",
       "_model_module_version": "2.0.0",
       "_model_name": "LayoutModel",
       "_view_count": null,
       "_view_module": "@jupyter-widgets/base",
       "_view_module_version": "2.0.0",
       "_view_name": "LayoutView",
       "align_content": null,
       "align_items": null,
       "align_self": null,
       "border_bottom": null,
       "border_left": null,
       "border_right": null,
       "border_top": null,
       "bottom": null,
       "display": null,
       "flex": null,
       "flex_flow": null,
       "grid_area": null,
       "grid_auto_columns": null,
       "grid_auto_flow": null,
       "grid_auto_rows": null,
       "grid_column": null,
       "grid_gap": null,
       "grid_row": null,
       "grid_template_areas": null,
       "grid_template_columns": null,
       "grid_template_rows": null,
       "height": null,
       "justify_content": null,
       "justify_items": null,
       "left": null,
       "margin": null,
       "max_height": null,
       "max_width": null,
       "min_height": null,
       "min_width": null,
       "object_fit": null,
       "object_position": null,
       "order": null,
       "overflow": null,
       "padding": null,
       "right": null,
       "top": null,
       "visibility": null,
       "width": null
      }
     },
     "30e4dd788dd440d6845fb36269d0733e": {
      "model_module": "@jupyter-widgets/base",
      "model_module_version": "2.0.0",
      "model_name": "LayoutModel",
      "state": {
       "_model_module": "@jupyter-widgets/base",
       "_model_module_version": "2.0.0",
       "_model_name": "LayoutModel",
       "_view_count": null,
       "_view_module": "@jupyter-widgets/base",
       "_view_module_version": "2.0.0",
       "_view_name": "LayoutView",
       "align_content": null,
       "align_items": null,
       "align_self": null,
       "border_bottom": null,
       "border_left": null,
       "border_right": null,
       "border_top": null,
       "bottom": null,
       "display": null,
       "flex": null,
       "flex_flow": null,
       "grid_area": null,
       "grid_auto_columns": null,
       "grid_auto_flow": null,
       "grid_auto_rows": null,
       "grid_column": null,
       "grid_gap": null,
       "grid_row": null,
       "grid_template_areas": null,
       "grid_template_columns": null,
       "grid_template_rows": null,
       "height": null,
       "justify_content": null,
       "justify_items": null,
       "left": null,
       "margin": null,
       "max_height": null,
       "max_width": null,
       "min_height": null,
       "min_width": null,
       "object_fit": null,
       "object_position": null,
       "order": null,
       "overflow": null,
       "padding": null,
       "right": null,
       "top": null,
       "visibility": null,
       "width": null
      }
     },
     "3779197567754b5b9d757e00b00758ee": {
      "model_module": "@jupyter-widgets/controls",
      "model_module_version": "2.0.0",
      "model_name": "HBoxModel",
      "state": {
       "_dom_classes": [],
       "_model_module": "@jupyter-widgets/controls",
       "_model_module_version": "2.0.0",
       "_model_name": "HBoxModel",
       "_view_count": null,
       "_view_module": "@jupyter-widgets/controls",
       "_view_module_version": "2.0.0",
       "_view_name": "HBoxView",
       "box_style": "",
       "children": [
        "IPY_MODEL_e59df18bd471475492c486663a9d5c41",
        "IPY_MODEL_247818a27dba4078bb43944d600f77d1",
        "IPY_MODEL_f6d6a18e79c943df809a2e87abf282b0"
       ],
       "layout": "IPY_MODEL_eedc4cae76aa4f23bcb72b184599c0a2",
       "tabbable": null,
       "tooltip": null
      }
     },
     "38c971b59ae94cb79ad52f6e813840a2": {
      "model_module": "@jupyter-widgets/base",
      "model_module_version": "2.0.0",
      "model_name": "LayoutModel",
      "state": {
       "_model_module": "@jupyter-widgets/base",
       "_model_module_version": "2.0.0",
       "_model_name": "LayoutModel",
       "_view_count": null,
       "_view_module": "@jupyter-widgets/base",
       "_view_module_version": "2.0.0",
       "_view_name": "LayoutView",
       "align_content": null,
       "align_items": null,
       "align_self": null,
       "border_bottom": null,
       "border_left": null,
       "border_right": null,
       "border_top": null,
       "bottom": null,
       "display": null,
       "flex": null,
       "flex_flow": null,
       "grid_area": null,
       "grid_auto_columns": null,
       "grid_auto_flow": null,
       "grid_auto_rows": null,
       "grid_column": null,
       "grid_gap": null,
       "grid_row": null,
       "grid_template_areas": null,
       "grid_template_columns": null,
       "grid_template_rows": null,
       "height": null,
       "justify_content": null,
       "justify_items": null,
       "left": null,
       "margin": null,
       "max_height": null,
       "max_width": null,
       "min_height": null,
       "min_width": null,
       "object_fit": null,
       "object_position": null,
       "order": null,
       "overflow": null,
       "padding": null,
       "right": null,
       "top": null,
       "visibility": null,
       "width": null
      }
     },
     "4180381f533b4f9187ed7f81e7e25de1": {
      "model_module": "@jupyter-widgets/controls",
      "model_module_version": "2.0.0",
      "model_name": "HTMLModel",
      "state": {
       "_dom_classes": [],
       "_model_module": "@jupyter-widgets/controls",
       "_model_module_version": "2.0.0",
       "_model_name": "HTMLModel",
       "_view_count": null,
       "_view_module": "@jupyter-widgets/controls",
       "_view_module_version": "2.0.0",
       "_view_name": "HTMLView",
       "description": "",
       "description_allow_html": false,
       "layout": "IPY_MODEL_dbd49cba01304ce2b91abc9512ddf0d2",
       "placeholder": "​",
       "style": "IPY_MODEL_8d6cfa10a65b42f1b462c5d4495ee39a",
       "tabbable": null,
       "tooltip": null,
       "value": "Loading checkpoint shards: 100%"
      }
     },
     "4c2fda7780e14c66a6baf46eda409230": {
      "model_module": "@jupyter-widgets/controls",
      "model_module_version": "2.0.0",
      "model_name": "HTMLModel",
      "state": {
       "_dom_classes": [],
       "_model_module": "@jupyter-widgets/controls",
       "_model_module_version": "2.0.0",
       "_model_name": "HTMLModel",
       "_view_count": null,
       "_view_module": "@jupyter-widgets/controls",
       "_view_module_version": "2.0.0",
       "_view_name": "HTMLView",
       "description": "",
       "description_allow_html": false,
       "layout": "IPY_MODEL_175f2bf12e194fa888f63b105830e585",
       "placeholder": "​",
       "style": "IPY_MODEL_ced70863f44f4b0185e164f1b2d646c2",
       "tabbable": null,
       "tooltip": null,
       "value": " 2/2 [00:05&lt;00:00,  2.39s/it]"
      }
     },
     "5a088bc719e54800aa04bab43f39d20f": {
      "model_module": "@jupyter-widgets/controls",
      "model_module_version": "2.0.0",
      "model_name": "FloatProgressModel",
      "state": {
       "_dom_classes": [],
       "_model_module": "@jupyter-widgets/controls",
       "_model_module_version": "2.0.0",
       "_model_name": "FloatProgressModel",
       "_view_count": null,
       "_view_module": "@jupyter-widgets/controls",
       "_view_module_version": "2.0.0",
       "_view_name": "ProgressView",
       "bar_style": "success",
       "description": "",
       "description_allow_html": false,
       "layout": "IPY_MODEL_617edc9aab014236b303507ec5441bc6",
       "max": 2.0,
       "min": 0.0,
       "orientation": "horizontal",
       "style": "IPY_MODEL_85ae33db8f1a460284308e2e417d98ac",
       "tabbable": null,
       "tooltip": null,
       "value": 2.0
      }
     },
     "617edc9aab014236b303507ec5441bc6": {
      "model_module": "@jupyter-widgets/base",
      "model_module_version": "2.0.0",
      "model_name": "LayoutModel",
      "state": {
       "_model_module": "@jupyter-widgets/base",
       "_model_module_version": "2.0.0",
       "_model_name": "LayoutModel",
       "_view_count": null,
       "_view_module": "@jupyter-widgets/base",
       "_view_module_version": "2.0.0",
       "_view_name": "LayoutView",
       "align_content": null,
       "align_items": null,
       "align_self": null,
       "border_bottom": null,
       "border_left": null,
       "border_right": null,
       "border_top": null,
       "bottom": null,
       "display": null,
       "flex": null,
       "flex_flow": null,
       "grid_area": null,
       "grid_auto_columns": null,
       "grid_auto_flow": null,
       "grid_auto_rows": null,
       "grid_column": null,
       "grid_gap": null,
       "grid_row": null,
       "grid_template_areas": null,
       "grid_template_columns": null,
       "grid_template_rows": null,
       "height": null,
       "justify_content": null,
       "justify_items": null,
       "left": null,
       "margin": null,
       "max_height": null,
       "max_width": null,
       "min_height": null,
       "min_width": null,
       "object_fit": null,
       "object_position": null,
       "order": null,
       "overflow": null,
       "padding": null,
       "right": null,
       "top": null,
       "visibility": null,
       "width": null
      }
     },
     "673a2573f58d416987b232c4512a8658": {
      "model_module": "@jupyter-widgets/controls",
      "model_module_version": "2.0.0",
      "model_name": "HTMLStyleModel",
      "state": {
       "_model_module": "@jupyter-widgets/controls",
       "_model_module_version": "2.0.0",
       "_model_name": "HTMLStyleModel",
       "_view_count": null,
       "_view_module": "@jupyter-widgets/base",
       "_view_module_version": "2.0.0",
       "_view_name": "StyleView",
       "background": null,
       "description_width": "",
       "font_size": null,
       "text_color": null
      }
     },
     "7f199753555542aa9ee8b29676f0eeb7": {
      "model_module": "@jupyter-widgets/base",
      "model_module_version": "2.0.0",
      "model_name": "LayoutModel",
      "state": {
       "_model_module": "@jupyter-widgets/base",
       "_model_module_version": "2.0.0",
       "_model_name": "LayoutModel",
       "_view_count": null,
       "_view_module": "@jupyter-widgets/base",
       "_view_module_version": "2.0.0",
       "_view_name": "LayoutView",
       "align_content": null,
       "align_items": null,
       "align_self": null,
       "border_bottom": null,
       "border_left": null,
       "border_right": null,
       "border_top": null,
       "bottom": null,
       "display": null,
       "flex": null,
       "flex_flow": null,
       "grid_area": null,
       "grid_auto_columns": null,
       "grid_auto_flow": null,
       "grid_auto_rows": null,
       "grid_column": null,
       "grid_gap": null,
       "grid_row": null,
       "grid_template_areas": null,
       "grid_template_columns": null,
       "grid_template_rows": null,
       "height": null,
       "justify_content": null,
       "justify_items": null,
       "left": null,
       "margin": null,
       "max_height": null,
       "max_width": null,
       "min_height": null,
       "min_width": null,
       "object_fit": null,
       "object_position": null,
       "order": null,
       "overflow": null,
       "padding": null,
       "right": null,
       "top": null,
       "visibility": null,
       "width": null
      }
     },
     "806bfadb72554479ae26a1e7f54a1116": {
      "model_module": "@jupyter-widgets/controls",
      "model_module_version": "2.0.0",
      "model_name": "ProgressStyleModel",
      "state": {
       "_model_module": "@jupyter-widgets/controls",
       "_model_module_version": "2.0.0",
       "_model_name": "ProgressStyleModel",
       "_view_count": null,
       "_view_module": "@jupyter-widgets/base",
       "_view_module_version": "2.0.0",
       "_view_name": "StyleView",
       "bar_color": null,
       "description_width": ""
      }
     },
     "85ae33db8f1a460284308e2e417d98ac": {
      "model_module": "@jupyter-widgets/controls",
      "model_module_version": "2.0.0",
      "model_name": "ProgressStyleModel",
      "state": {
       "_model_module": "@jupyter-widgets/controls",
       "_model_module_version": "2.0.0",
       "_model_name": "ProgressStyleModel",
       "_view_count": null,
       "_view_module": "@jupyter-widgets/base",
       "_view_module_version": "2.0.0",
       "_view_name": "StyleView",
       "bar_color": null,
       "description_width": ""
      }
     },
     "8d6cfa10a65b42f1b462c5d4495ee39a": {
      "model_module": "@jupyter-widgets/controls",
      "model_module_version": "2.0.0",
      "model_name": "HTMLStyleModel",
      "state": {
       "_model_module": "@jupyter-widgets/controls",
       "_model_module_version": "2.0.0",
       "_model_name": "HTMLStyleModel",
       "_view_count": null,
       "_view_module": "@jupyter-widgets/base",
       "_view_module_version": "2.0.0",
       "_view_name": "StyleView",
       "background": null,
       "description_width": "",
       "font_size": null,
       "text_color": null
      }
     },
     "90327f8f1ed846c4aac55a4db1c1cfd1": {
      "model_module": "@jupyter-widgets/controls",
      "model_module_version": "2.0.0",
      "model_name": "HTMLModel",
      "state": {
       "_dom_classes": [],
       "_model_module": "@jupyter-widgets/controls",
       "_model_module_version": "2.0.0",
       "_model_name": "HTMLModel",
       "_view_count": null,
       "_view_module": "@jupyter-widgets/controls",
       "_view_module_version": "2.0.0",
       "_view_name": "HTMLView",
       "description": "",
       "description_allow_html": false,
       "layout": "IPY_MODEL_a51aa631a27c4e0b876e75b7b95b9364",
       "placeholder": "​",
       "style": "IPY_MODEL_1bd43c1afe6c4ed493ab3260795cf272",
       "tabbable": null,
       "tooltip": null,
       "value": " 258/258 [00:00&lt;00:00, 50.5kB/s]"
      }
     },
     "a51aa631a27c4e0b876e75b7b95b9364": {
      "model_module": "@jupyter-widgets/base",
      "model_module_version": "2.0.0",
      "model_name": "LayoutModel",
      "state": {
       "_model_module": "@jupyter-widgets/base",
       "_model_module_version": "2.0.0",
       "_model_name": "LayoutModel",
       "_view_count": null,
       "_view_module": "@jupyter-widgets/base",
       "_view_module_version": "2.0.0",
       "_view_name": "LayoutView",
       "align_content": null,
       "align_items": null,
       "align_self": null,
       "border_bottom": null,
       "border_left": null,
       "border_right": null,
       "border_top": null,
       "bottom": null,
       "display": null,
       "flex": null,
       "flex_flow": null,
       "grid_area": null,
       "grid_auto_columns": null,
       "grid_auto_flow": null,
       "grid_auto_rows": null,
       "grid_column": null,
       "grid_gap": null,
       "grid_row": null,
       "grid_template_areas": null,
       "grid_template_columns": null,
       "grid_template_rows": null,
       "height": null,
       "justify_content": null,
       "justify_items": null,
       "left": null,
       "margin": null,
       "max_height": null,
       "max_width": null,
       "min_height": null,
       "min_width": null,
       "object_fit": null,
       "object_position": null,
       "order": null,
       "overflow": null,
       "padding": null,
       "right": null,
       "top": null,
       "visibility": null,
       "width": null
      }
     },
     "ac1c0becf53d4daeb61ba7506714b8ed": {
      "model_module": "@jupyter-widgets/controls",
      "model_module_version": "2.0.0",
      "model_name": "HTMLStyleModel",
      "state": {
       "_model_module": "@jupyter-widgets/controls",
       "_model_module_version": "2.0.0",
       "_model_name": "HTMLStyleModel",
       "_view_count": null,
       "_view_module": "@jupyter-widgets/base",
       "_view_module_version": "2.0.0",
       "_view_name": "StyleView",
       "background": null,
       "description_width": "",
       "font_size": null,
       "text_color": null
      }
     },
     "b131945cd6e14b51b3be3d770a78399d": {
      "model_module": "@jupyter-widgets/controls",
      "model_module_version": "2.0.0",
      "model_name": "FloatProgressModel",
      "state": {
       "_dom_classes": [],
       "_model_module": "@jupyter-widgets/controls",
       "_model_module_version": "2.0.0",
       "_model_name": "FloatProgressModel",
       "_view_count": null,
       "_view_module": "@jupyter-widgets/controls",
       "_view_module_version": "2.0.0",
       "_view_name": "ProgressView",
       "bar_style": "success",
       "description": "",
       "description_allow_html": false,
       "layout": "IPY_MODEL_7f199753555542aa9ee8b29676f0eeb7",
       "max": 258.0,
       "min": 0.0,
       "orientation": "horizontal",
       "style": "IPY_MODEL_806bfadb72554479ae26a1e7f54a1116",
       "tabbable": null,
       "tooltip": null,
       "value": 258.0
      }
     },
     "c121dd42e75b48feae4155201d169e79": {
      "model_module": "@jupyter-widgets/base",
      "model_module_version": "2.0.0",
      "model_name": "LayoutModel",
      "state": {
       "_model_module": "@jupyter-widgets/base",
       "_model_module_version": "2.0.0",
       "_model_name": "LayoutModel",
       "_view_count": null,
       "_view_module": "@jupyter-widgets/base",
       "_view_module_version": "2.0.0",
       "_view_name": "LayoutView",
       "align_content": null,
       "align_items": null,
       "align_self": null,
       "border_bottom": null,
       "border_left": null,
       "border_right": null,
       "border_top": null,
       "bottom": null,
       "display": null,
       "flex": null,
       "flex_flow": null,
       "grid_area": null,
       "grid_auto_columns": null,
       "grid_auto_flow": null,
       "grid_auto_rows": null,
       "grid_column": null,
       "grid_gap": null,
       "grid_row": null,
       "grid_template_areas": null,
       "grid_template_columns": null,
       "grid_template_rows": null,
       "height": null,
       "justify_content": null,
       "justify_items": null,
       "left": null,
       "margin": null,
       "max_height": null,
       "max_width": null,
       "min_height": null,
       "min_width": null,
       "object_fit": null,
       "object_position": null,
       "order": null,
       "overflow": null,
       "padding": null,
       "right": null,
       "top": null,
       "visibility": null,
       "width": null
      }
     },
     "ced70863f44f4b0185e164f1b2d646c2": {
      "model_module": "@jupyter-widgets/controls",
      "model_module_version": "2.0.0",
      "model_name": "HTMLStyleModel",
      "state": {
       "_model_module": "@jupyter-widgets/controls",
       "_model_module_version": "2.0.0",
       "_model_name": "HTMLStyleModel",
       "_view_count": null,
       "_view_module": "@jupyter-widgets/base",
       "_view_module_version": "2.0.0",
       "_view_name": "StyleView",
       "background": null,
       "description_width": "",
       "font_size": null,
       "text_color": null
      }
     },
     "db8721df7e3047378a6503ff789b5cf3": {
      "model_module": "@jupyter-widgets/controls",
      "model_module_version": "2.0.0",
      "model_name": "HTMLModel",
      "state": {
       "_dom_classes": [],
       "_model_module": "@jupyter-widgets/controls",
       "_model_module_version": "2.0.0",
       "_model_name": "HTMLModel",
       "_view_count": null,
       "_view_module": "@jupyter-widgets/controls",
       "_view_module_version": "2.0.0",
       "_view_name": "HTMLView",
       "description": "",
       "description_allow_html": false,
       "layout": "IPY_MODEL_e09097544bcb4a3dbe5ba452d8df92f5",
       "placeholder": "​",
       "style": "IPY_MODEL_673a2573f58d416987b232c4512a8658",
       "tabbable": null,
       "tooltip": null,
       "value": "(…)ens/meta-llama/Llama-2-7b-hf/config.json: 100%"
      }
     },
     "dbd49cba01304ce2b91abc9512ddf0d2": {
      "model_module": "@jupyter-widgets/base",
      "model_module_version": "2.0.0",
      "model_name": "LayoutModel",
      "state": {
       "_model_module": "@jupyter-widgets/base",
       "_model_module_version": "2.0.0",
       "_model_name": "LayoutModel",
       "_view_count": null,
       "_view_module": "@jupyter-widgets/base",
       "_view_module_version": "2.0.0",
       "_view_name": "LayoutView",
       "align_content": null,
       "align_items": null,
       "align_self": null,
       "border_bottom": null,
       "border_left": null,
       "border_right": null,
       "border_top": null,
       "bottom": null,
       "display": null,
       "flex": null,
       "flex_flow": null,
       "grid_area": null,
       "grid_auto_columns": null,
       "grid_auto_flow": null,
       "grid_auto_rows": null,
       "grid_column": null,
       "grid_gap": null,
       "grid_row": null,
       "grid_template_areas": null,
       "grid_template_columns": null,
       "grid_template_rows": null,
       "height": null,
       "justify_content": null,
       "justify_items": null,
       "left": null,
       "margin": null,
       "max_height": null,
       "max_width": null,
       "min_height": null,
       "min_width": null,
       "object_fit": null,
       "object_position": null,
       "order": null,
       "overflow": null,
       "padding": null,
       "right": null,
       "top": null,
       "visibility": null,
       "width": null
      }
     },
     "e09097544bcb4a3dbe5ba452d8df92f5": {
      "model_module": "@jupyter-widgets/base",
      "model_module_version": "2.0.0",
      "model_name": "LayoutModel",
      "state": {
       "_model_module": "@jupyter-widgets/base",
       "_model_module_version": "2.0.0",
       "_model_name": "LayoutModel",
       "_view_count": null,
       "_view_module": "@jupyter-widgets/base",
       "_view_module_version": "2.0.0",
       "_view_name": "LayoutView",
       "align_content": null,
       "align_items": null,
       "align_self": null,
       "border_bottom": null,
       "border_left": null,
       "border_right": null,
       "border_top": null,
       "bottom": null,
       "display": null,
       "flex": null,
       "flex_flow": null,
       "grid_area": null,
       "grid_auto_columns": null,
       "grid_auto_flow": null,
       "grid_auto_rows": null,
       "grid_column": null,
       "grid_gap": null,
       "grid_row": null,
       "grid_template_areas": null,
       "grid_template_columns": null,
       "grid_template_rows": null,
       "height": null,
       "justify_content": null,
       "justify_items": null,
       "left": null,
       "margin": null,
       "max_height": null,
       "max_width": null,
       "min_height": null,
       "min_width": null,
       "object_fit": null,
       "object_position": null,
       "order": null,
       "overflow": null,
       "padding": null,
       "right": null,
       "top": null,
       "visibility": null,
       "width": null
      }
     },
     "e59df18bd471475492c486663a9d5c41": {
      "model_module": "@jupyter-widgets/controls",
      "model_module_version": "2.0.0",
      "model_name": "HTMLModel",
      "state": {
       "_dom_classes": [],
       "_model_module": "@jupyter-widgets/controls",
       "_model_module_version": "2.0.0",
       "_model_name": "HTMLModel",
       "_view_count": null,
       "_view_module": "@jupyter-widgets/controls",
       "_view_module_version": "2.0.0",
       "_view_name": "HTMLView",
       "description": "",
       "description_allow_html": false,
       "layout": "IPY_MODEL_38c971b59ae94cb79ad52f6e813840a2",
       "placeholder": "​",
       "style": "IPY_MODEL_0c95fd1fa8784a7fb4f99a1e5cdd78be",
       "tabbable": null,
       "tooltip": null,
       "value": "params.pt: 100%"
      }
     },
     "eb833c0db54743a2bf70b1ada68104dc": {
      "model_module": "@jupyter-widgets/controls",
      "model_module_version": "2.0.0",
      "model_name": "HBoxModel",
      "state": {
       "_dom_classes": [],
       "_model_module": "@jupyter-widgets/controls",
       "_model_module_version": "2.0.0",
       "_model_name": "HBoxModel",
       "_view_count": null,
       "_view_module": "@jupyter-widgets/controls",
       "_view_module_version": "2.0.0",
       "_view_name": "HBoxView",
       "box_style": "",
       "children": [
        "IPY_MODEL_4180381f533b4f9187ed7f81e7e25de1",
        "IPY_MODEL_5a088bc719e54800aa04bab43f39d20f",
        "IPY_MODEL_4c2fda7780e14c66a6baf46eda409230"
       ],
       "layout": "IPY_MODEL_25fdc87744984cc4bd23cf03c68f5201",
       "tabbable": null,
       "tooltip": null
      }
     },
     "eedc4cae76aa4f23bcb72b184599c0a2": {
      "model_module": "@jupyter-widgets/base",
      "model_module_version": "2.0.0",
      "model_name": "LayoutModel",
      "state": {
       "_model_module": "@jupyter-widgets/base",
       "_model_module_version": "2.0.0",
       "_model_name": "LayoutModel",
       "_view_count": null,
       "_view_module": "@jupyter-widgets/base",
       "_view_module_version": "2.0.0",
       "_view_name": "LayoutView",
       "align_content": null,
       "align_items": null,
       "align_self": null,
       "border_bottom": null,
       "border_left": null,
       "border_right": null,
       "border_top": null,
       "bottom": null,
       "display": null,
       "flex": null,
       "flex_flow": null,
       "grid_area": null,
       "grid_auto_columns": null,
       "grid_auto_flow": null,
       "grid_auto_rows": null,
       "grid_column": null,
       "grid_gap": null,
       "grid_row": null,
       "grid_template_areas": null,
       "grid_template_columns": null,
       "grid_template_rows": null,
       "height": null,
       "justify_content": null,
       "justify_items": null,
       "left": null,
       "margin": null,
       "max_height": null,
       "max_width": null,
       "min_height": null,
       "min_width": null,
       "object_fit": null,
       "object_position": null,
       "order": null,
       "overflow": null,
       "padding": null,
       "right": null,
       "top": null,
       "visibility": null,
       "width": null
      }
     },
     "f6d6a18e79c943df809a2e87abf282b0": {
      "model_module": "@jupyter-widgets/controls",
      "model_module_version": "2.0.0",
      "model_name": "HTMLModel",
      "state": {
       "_dom_classes": [],
       "_model_module": "@jupyter-widgets/controls",
       "_model_module_version": "2.0.0",
       "_model_name": "HTMLModel",
       "_view_count": null,
       "_view_module": "@jupyter-widgets/controls",
       "_view_module_version": "2.0.0",
       "_view_name": "HTMLView",
       "description": "",
       "description_allow_html": false,
       "layout": "IPY_MODEL_30e4dd788dd440d6845fb36269d0733e",
       "placeholder": "​",
       "style": "IPY_MODEL_ac1c0becf53d4daeb61ba7506714b8ed",
       "tabbable": null,
       "tooltip": null,
       "value": " 2.15G/2.15G [00:04&lt;00:00, 646MB/s]"
      }
     }
    },
    "version_major": 2,
    "version_minor": 0
   }
  }
 },
 "nbformat": 4,
 "nbformat_minor": 5
}