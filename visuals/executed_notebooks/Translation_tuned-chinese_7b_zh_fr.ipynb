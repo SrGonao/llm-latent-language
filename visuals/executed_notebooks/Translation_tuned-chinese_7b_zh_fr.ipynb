{
 "cells": [
  {
   "cell_type": "code",
   "execution_count": 1,
   "id": "9e266eca-b017-461f-9be4-bec02cae9b28",
   "metadata": {
    "execution": {
     "iopub.execute_input": "2024-02-23T22:27:35.980060Z",
     "iopub.status.busy": "2024-02-23T22:27:35.979904Z",
     "iopub.status.idle": "2024-02-23T22:27:35.991951Z",
     "shell.execute_reply": "2024-02-23T22:27:35.991630Z"
    },
    "papermill": {
     "duration": 0.019388,
     "end_time": "2024-02-23T22:27:35.992953",
     "exception": false,
     "start_time": "2024-02-23T22:27:35.973565",
     "status": "completed"
    },
    "tags": []
   },
   "outputs": [],
   "source": [
    "%load_ext autoreload\n",
    "%autoreload 2"
   ]
  },
  {
   "cell_type": "code",
   "execution_count": 2,
   "id": "fae8a7a9-6902-424e-8e66-b107fccb361f",
   "metadata": {
    "execution": {
     "iopub.execute_input": "2024-02-23T22:27:36.005149Z",
     "iopub.status.busy": "2024-02-23T22:27:36.005004Z",
     "iopub.status.idle": "2024-02-23T22:27:39.038594Z",
     "shell.execute_reply": "2024-02-23T22:27:39.037948Z"
    },
    "papermill": {
     "duration": 3.041485,
     "end_time": "2024-02-23T22:27:39.039793",
     "exception": false,
     "start_time": "2024-02-23T22:27:35.998308",
     "status": "completed"
    },
    "tags": []
   },
   "outputs": [],
   "source": [
    "import pandas as pd\n",
    "import sys\n",
    "import os\n",
    "from dataclasses import dataclass\n",
    "import json\n",
    "import numpy as np\n",
    "from matplotlib import pyplot as plt\n",
    "import seaborn as sns\n",
    "import torch\n",
    "import torch.nn as nn\n",
    "from llamawrapper import load_unemb_only, LlamaHelper\n",
    "import seaborn as sns\n",
    "from scipy.stats import bootstrap\n",
    "from utils import plot_ci, plot_ci_plus_heatmap\n",
    "from tqdm import tqdm\n",
    "from transformers import AutoModelForCausalLM, AutoTokenizer\n",
    "# fix random seed\n",
    "seed = 42\n",
    "np.random.seed(seed)\n",
    "torch.manual_seed(seed)\n",
    "sys.path.append('../tuned-lens')\n",
    "from tuned_lens.nn.lenses import TunedLens,LogitLens"
   ]
  },
  {
   "cell_type": "code",
   "execution_count": 3,
   "id": "1fb93987",
   "metadata": {
    "execution": {
     "iopub.execute_input": "2024-02-23T22:27:39.048612Z",
     "iopub.status.busy": "2024-02-23T22:27:39.048194Z",
     "iopub.status.idle": "2024-02-23T22:27:39.078953Z",
     "shell.execute_reply": "2024-02-23T22:27:39.078415Z"
    },
    "papermill": {
     "duration": 0.035433,
     "end_time": "2024-02-23T22:27:39.079818",
     "exception": false,
     "start_time": "2024-02-23T22:27:39.044385",
     "status": "completed"
    },
    "tags": [
     "parameters"
    ]
   },
   "outputs": [],
   "source": [
    "input_lang = 'zh'\n",
    "target_lang = 'fr'\n",
    "model_size = '7b'\n",
    "prefix = \"./data/langs/\"\n",
    "type = 'tuned-chinese'"
   ]
  },
  {
   "cell_type": "code",
   "execution_count": 4,
   "id": "49f8fd53",
   "metadata": {
    "execution": {
     "iopub.execute_input": "2024-02-23T22:27:39.088132Z",
     "iopub.status.busy": "2024-02-23T22:27:39.087748Z",
     "iopub.status.idle": "2024-02-23T22:27:39.118194Z",
     "shell.execute_reply": "2024-02-23T22:27:39.117636Z"
    },
    "papermill": {
     "duration": 0.035052,
     "end_time": "2024-02-23T22:27:39.119023",
     "exception": false,
     "start_time": "2024-02-23T22:27:39.083971",
     "status": "completed"
    },
    "tags": [
     "injected-parameters"
    ]
   },
   "outputs": [],
   "source": [
    "# Parameters\n",
    "model_size = \"7b\"\n",
    "target_lang = \"fr\"\n",
    "input_lang = \"zh\"\n",
    "type = \"tuned-chinese\"\n"
   ]
  },
  {
   "cell_type": "code",
   "execution_count": 5,
   "id": "ccb0899b",
   "metadata": {
    "execution": {
     "iopub.execute_input": "2024-02-23T22:27:39.126646Z",
     "iopub.status.busy": "2024-02-23T22:27:39.126318Z",
     "iopub.status.idle": "2024-02-23T22:27:39.158441Z",
     "shell.execute_reply": "2024-02-23T22:27:39.157987Z"
    },
    "papermill": {
     "duration": 0.036666,
     "end_time": "2024-02-23T22:27:39.159223",
     "exception": false,
     "start_time": "2024-02-23T22:27:39.122557",
     "status": "completed"
    },
    "tags": []
   },
   "outputs": [],
   "source": [
    "df_en_input = pd.read_csv(f'{prefix}{input_lang}/clean.csv').reindex()\n",
    "df_en_target = pd.read_csv(f'{prefix}{target_lang}/clean.csv').reindex()"
   ]
  },
  {
   "cell_type": "code",
   "execution_count": 6,
   "id": "33747213",
   "metadata": {
    "execution": {
     "iopub.execute_input": "2024-02-23T22:27:39.166910Z",
     "iopub.status.busy": "2024-02-23T22:27:39.166593Z",
     "iopub.status.idle": "2024-02-23T22:27:46.101961Z",
     "shell.execute_reply": "2024-02-23T22:27:46.101173Z"
    },
    "papermill": {
     "duration": 6.940434,
     "end_time": "2024-02-23T22:27:46.103267",
     "exception": false,
     "start_time": "2024-02-23T22:27:39.162833",
     "status": "completed"
    },
    "tags": []
   },
   "outputs": [
    {
     "data": {
      "application/vnd.jupyter.widget-view+json": {
       "model_id": "0a40fb7123ea426a8adbf841f30b10db",
       "version_major": 2,
       "version_minor": 0
      },
      "text/plain": [
       "Loading checkpoint shards:   0%|          | 0/2 [00:00<?, ?it/s]"
      ]
     },
     "metadata": {},
     "output_type": "display_data"
    }
   ],
   "source": [
    "\n",
    "llama = AutoModelForCausalLM.from_pretrained(  # type: ignore\n",
    "                f\"meta-llama/Llama-2-{model_size}-hf\",\n",
    "                device_map={\"\": \"cuda\"},\n",
    "                revision=\"main\",\n",
    "                torch_dtype=\"auto\",\n",
    "                local_files_only=\"true\",cache_dir=\"/mnt/ssd-1/hf_cache/\"\n",
    "            )\n",
    "    \n",
    "latent=\"en\"\n",
    "if type == 'logit':\n",
    "    llama_lens = LogitLens.from_model(llama).to(\"cuda\")\n",
    "    out_dir = f'./visuals/logit'\n",
    "if type == 'tuned':\n",
    "    llama_lens = TunedLens.from_model_and_pretrained(llama,f\"meta-llama/Llama-2-{model_size}-hf\").to(\"cuda\")\n",
    "    out_dir = f'./visuals/tuned'\n",
    "if type == 'tuned-chinese':\n",
    "    llama_lens = TunedLens.from_model_and_pretrained(llama,\"../tuned-lens/my_lenses/chinese\").to(\"cuda\")\n",
    "    out_dir = f'./visuals/tuned-chinese'\n",
    "    latent = 'zh'\n",
    "    chinese = pd.read_csv(f'{prefix}zh/clean.csv').reindex()\n",
    "tokenizer = AutoTokenizer.from_pretrained(\n",
    "                f\"meta-llama/Llama-2-7b-hf\",local_files_only=\"true\",cache_dir=\"/mnt/ssd-1/hf_cache/\"\n",
    "            )"
   ]
  },
  {
   "cell_type": "code",
   "execution_count": 7,
   "id": "bc45e052",
   "metadata": {
    "execution": {
     "iopub.execute_input": "2024-02-23T22:27:46.121010Z",
     "iopub.status.busy": "2024-02-23T22:27:46.120829Z",
     "iopub.status.idle": "2024-02-23T22:27:47.296692Z",
     "shell.execute_reply": "2024-02-23T22:27:47.296311Z"
    },
    "papermill": {
     "duration": 1.185658,
     "end_time": "2024-02-23T22:27:47.297479",
     "exception": false,
     "start_time": "2024-02-23T22:27:46.111821",
     "status": "completed"
    },
    "tags": []
   },
   "outputs": [
    {
     "name": "stdout",
     "output_type": "stream",
     "text": [
      "Sequential(\n",
      "  (0): LlamaRMSNorm()\n",
      "  (1): Linear(in_features=4096, out_features=32000, bias=False)\n",
      ")\n",
      "U torch.Size([32000, 4096]) weights torch.Size([1, 4096])\n"
     ]
    },
    {
     "name": "stdout",
     "output_type": "stream",
     "text": [
      "0.058621685951948166\n"
     ]
    }
   ],
   "source": [
    "unemb = nn.Sequential(llama.model.norm, llama.lm_head)\n",
    "print(unemb)\n",
    "# prepare for energy plots\n",
    "U = list(unemb[1].parameters())[0].detach().cpu().float()\n",
    "weights = list(unemb[0].parameters())[0].detach().cpu().float()\n",
    "print(f'U {U.shape} weights {weights.unsqueeze(0).shape}')\n",
    "U_weighted = U.clone() \n",
    "#U_weighted = U_weighted / ((U_weighted**2).mean(dim=1, keepdim=True))**0.5\n",
    "U_weighted *= weights.unsqueeze(0)\n",
    "U_normalized = U_weighted / ((U_weighted**2).sum(dim=1, keepdim=True))**0.5\n",
    "v = U.shape[0]\n",
    "TT = U_normalized.T @ U_normalized\n",
    "avgUU = (((U_normalized.T @ U_normalized)**2).sum() / v**2)**0.5\n",
    "print(avgUU.item())"
   ]
  },
  {
   "cell_type": "code",
   "execution_count": 8,
   "id": "5686a8d5",
   "metadata": {
    "execution": {
     "iopub.execute_input": "2024-02-23T22:27:47.307159Z",
     "iopub.status.busy": "2024-02-23T22:27:47.306995Z",
     "iopub.status.idle": "2024-02-23T22:27:48.768766Z",
     "shell.execute_reply": "2024-02-23T22:27:48.768223Z"
    },
    "papermill": {
     "duration": 1.466814,
     "end_time": "2024-02-23T22:27:48.769663",
     "exception": false,
     "start_time": "2024-02-23T22:27:47.302849",
     "status": "completed"
    },
    "tags": []
   },
   "outputs": [
    {
     "name": "stdout",
     "output_type": "stream",
     "text": [
      "for fr 68 of 118 are single tokens\n",
      "final length of df_zh_fr_zh: 118\n"
     ]
    }
   ],
   "source": [
    "count = 0\n",
    "for idx, word in enumerate(df_en_target['word_translation']):\n",
    "    if word in tokenizer.get_vocab() or '▁'+word in tokenizer.get_vocab():\n",
    "        count += 1\n",
    "\n",
    "print(f'for {target_lang} {count} of {len(df_en_target)} are single tokens')\n",
    "\n",
    "if input_lang == target_lang:\n",
    "    df_en_target_input = df_en_target.copy()\n",
    "    if latent == 'zh':\n",
    "      df_en_target_input = df_en_target.copy()\n",
    "      chinese = chinese.loc[chinese[\"word_original\"].isin(df_en_input[\"word_original\"])]\n",
    "      df_en_target_input= df_en_target_input.loc[df_en_target_input[\"word_original\"].isin(chinese[\"word_original\"])]\n",
    "      chinese.sort_values(by=\"word_original\", inplace=True)\n",
    "      df_en_target_input.sort_values(by=\"word_original\", inplace=True)\n",
    "      chinese.reset_index(drop=True, inplace=True)\n",
    "      df_en_target_input.reset_index(drop=True, inplace=True)\n",
    "      df_en_target_input[\"word_original\"] = chinese[\"word_translation\"]\n",
    "    df_en_target_input.rename(columns={'word_original': latent, \n",
    "                                f'word_translation': target_lang if target_lang != latent else f'{latent}_tgt'}, \n",
    "                                inplace=True)\n",
    "    \n",
    "else:\n",
    "    df_en_target_input = df_en_target.merge(df_en_input, on=['word_original'], suffixes=(f'_{target_lang}', f'_{input_lang}'))\n",
    "    if latent == 'zh':\n",
    "      chinese = chinese.loc[chinese[\"word_original\"].isin(df_en_target_input[\"word_original\"])]\n",
    "      df_en_target_input= df_en_target_input.loc[df_en_target_input[\"word_original\"].isin(chinese[\"word_original\"])]\n",
    "      chinese.sort_values(by=\"word_original\", inplace=True)\n",
    "      df_en_target_input.sort_values(by=\"word_original\", inplace=True)\n",
    "      chinese.reset_index(drop=True, inplace=True)\n",
    "      df_en_target_input.reset_index(drop=True, inplace=True)\n",
    "      df_en_target_input[\"word_original\"] = chinese[\"word_translation\"]\n",
    "\n",
    "    df_en_target_input.rename(columns={'word_original': latent, \n",
    "                                f'word_translation_{target_lang}': target_lang if target_lang != latent else f'{latent}_tgt', \n",
    "                                f'word_translation_{input_lang}': input_lang if input_lang != latent else f'{latent}_in'}, \n",
    "                                inplace=True)\n",
    "# delete all rows where en is contained in de or fr\n",
    "if target_lang != latent:\n",
    "    for i, row in df_en_target_input.iterrows():\n",
    "        if row[latent].lower() in row[target_lang].lower():\n",
    "            df_en_target_input.drop(i, inplace=True)\n",
    "\n",
    "print(f'final length of df_{latent}_{target_lang}_{input_lang}: {len(df_en_target_input)}')"
   ]
  },
  {
   "cell_type": "code",
   "execution_count": 9,
   "id": "f0c0a52d",
   "metadata": {
    "execution": {
     "iopub.execute_input": "2024-02-23T22:27:48.794487Z",
     "iopub.status.busy": "2024-02-23T22:27:48.794320Z",
     "iopub.status.idle": "2024-02-23T22:27:48.825084Z",
     "shell.execute_reply": "2024-02-23T22:27:48.824664Z"
    },
    "papermill": {
     "duration": 0.051328,
     "end_time": "2024-02-23T22:27:48.826044",
     "exception": false,
     "start_time": "2024-02-23T22:27:48.774716",
     "status": "completed"
    },
    "tags": []
   },
   "outputs": [],
   "source": [
    "def token_prefixes(token_str: str):\n",
    "    n = len(token_str)\n",
    "    tokens = [token_str[:i] for i in range(1, n+1)]\n",
    "    return tokens \n",
    "\n",
    "def add_spaces(tokens):\n",
    "    return ['▁' + t for t in tokens] + tokens\n",
    "\n",
    "def capitalizations(tokens):\n",
    "    return list(set(tokens))\n",
    "\n",
    "def unicode_prefix_tokid(zh_char = \"云\", tokenizer=tokenizer):\n",
    "    start = zh_char.encode().__str__()[2:-1].split('\\\\x')[1]\n",
    "    unicode_format = '<0x%s>'\n",
    "    start_key = unicode_format%start.upper()\n",
    "    if start_key in tokenizer.get_vocab():\n",
    "        return tokenizer.get_vocab()[start_key]\n",
    "    return None\n",
    "\n",
    "def process_tokens(token_str: str, tokenizer, lang):\n",
    "    with_prefixes = token_prefixes(token_str)\n",
    "    with_spaces = add_spaces(with_prefixes)\n",
    "    with_capitalizations = capitalizations(with_spaces)\n",
    "    final_tokens = []\n",
    "    for tok in with_capitalizations:\n",
    "        if tok in tokenizer.get_vocab():\n",
    "            final_tokens.append(tokenizer.get_vocab()[tok])\n",
    "    if lang in ['zh', 'ru']:\n",
    "        tokid = unicode_prefix_tokid(token_str, tokenizer)\n",
    "        if tokid is not None:\n",
    "            final_tokens.append(tokid)\n",
    "    return final_tokens"
   ]
  },
  {
   "cell_type": "code",
   "execution_count": 10,
   "id": "faa7bb78",
   "metadata": {
    "execution": {
     "iopub.execute_input": "2024-02-23T22:27:48.834941Z",
     "iopub.status.busy": "2024-02-23T22:27:48.834517Z",
     "iopub.status.idle": "2024-02-23T22:27:48.878560Z",
     "shell.execute_reply": "2024-02-23T22:27:48.878050Z"
    },
    "papermill": {
     "duration": 0.049173,
     "end_time": "2024-02-23T22:27:48.879385",
     "exception": false,
     "start_time": "2024-02-23T22:27:48.830212",
     "status": "completed"
    },
    "tags": []
   },
   "outputs": [],
   "source": [
    "\n",
    "id2voc = {id:voc for voc, id in tokenizer.get_vocab().items()}\n",
    "def get_tokens(token_ids, id2voc=id2voc):\n",
    "    return [id2voc[tokid] for tokid in token_ids]\n",
    "\n",
    "def compute_entropy(probas):\n",
    "    return (-probas*torch.log2(probas)).sum(dim=-1)\n",
    "\n",
    "lang2name = {'fr': 'Français', 'de': 'Deutsch', 'ru': 'Русский', 'en': 'English', 'zh': '中文'}\n",
    "def sample(df, ind, k=5, tokenizer=tokenizer, lang1='fr', lang2='de', lang_latent=latent):\n",
    "    df = df.reset_index(drop=True)\n",
    "    temp = df[df.index!=ind]\n",
    "    sample = pd.concat([temp.sample(k-1), df[df.index==ind]], axis=0)\n",
    "    prompt = \"\"\n",
    "    for idx, (df_idx, row) in enumerate(sample.iterrows()):\n",
    "        if idx < k-1:\n",
    "            prompt += f'{lang2name[lang1]}: \"{row[lang1]}\" - {lang2name[lang2]}: \"{row[lang2]}\"\\n'\n",
    "        else:\n",
    "            prompt += f'{lang2name[lang1]}: \"{row[lang1]}\" - {lang2name[lang2]}: \"'\n",
    "            in_token_str = row[lang1]\n",
    "            out_token_str = row[lang2]\n",
    "            out_token_id = process_tokens(out_token_str, tokenizer, lang2)\n",
    "            latent_token_str = row[lang_latent]\n",
    "            latent_token_id = process_tokens(latent_token_str, tokenizer, latent)\n",
    "            intersection = set(out_token_id).intersection(set(latent_token_id))\n",
    "            if len(out_token_id) == 0 or len(latent_token_id) == 0:\n",
    "                yield None\n",
    "            if lang2 != latent and len(intersection) > 0:\n",
    "                yield None\n",
    "            yield {'prompt': prompt, \n",
    "                'out_token_id': out_token_id, \n",
    "                'out_token_str': out_token_str,\n",
    "                'latent_token_id': latent_token_id, \n",
    "                'latent_token_str': latent_token_str, \n",
    "                'in_token_str': in_token_str}"
   ]
  },
  {
   "cell_type": "code",
   "execution_count": 11,
   "id": "121eec47",
   "metadata": {
    "execution": {
     "iopub.execute_input": "2024-02-23T22:27:48.887667Z",
     "iopub.status.busy": "2024-02-23T22:27:48.887274Z",
     "iopub.status.idle": "2024-02-23T22:27:48.919770Z",
     "shell.execute_reply": "2024-02-23T22:27:48.919307Z"
    },
    "papermill": {
     "duration": 0.037155,
     "end_time": "2024-02-23T22:27:48.920630",
     "exception": false,
     "start_time": "2024-02-23T22:27:48.883475",
     "status": "completed"
    },
    "tags": []
   },
   "outputs": [
    {
     "data": {
      "text/html": [
       "<div>\n",
       "<style scoped>\n",
       "    .dataframe tbody tr th:only-of-type {\n",
       "        vertical-align: middle;\n",
       "    }\n",
       "\n",
       "    .dataframe tbody tr th {\n",
       "        vertical-align: top;\n",
       "    }\n",
       "\n",
       "    .dataframe thead th {\n",
       "        text-align: right;\n",
       "    }\n",
       "</style>\n",
       "<table border=\"1\" class=\"dataframe\">\n",
       "  <thead>\n",
       "    <tr style=\"text-align: right;\">\n",
       "      <th></th>\n",
       "      <th>lang_fr</th>\n",
       "      <th>zh</th>\n",
       "      <th>fr</th>\n",
       "      <th>blank_prompt_original_fr</th>\n",
       "      <th>blank_prompt_translation_fr</th>\n",
       "      <th>blank_prompt_translation_masked_fr</th>\n",
       "      <th>error</th>\n",
       "      <th>lang_zh</th>\n",
       "      <th>zh_in</th>\n",
       "      <th>blank_prompt_original_zh</th>\n",
       "      <th>blank_prompt_translation_zh</th>\n",
       "      <th>blank_prompt_translation_masked_zh</th>\n",
       "    </tr>\n",
       "  </thead>\n",
       "  <tbody>\n",
       "    <tr>\n",
       "      <th>0</th>\n",
       "      <td>fr</td>\n",
       "      <td>进</td>\n",
       "      <td>avancer</td>\n",
       "      <td>\"Advance\" is a term used to describe moving fo...</td>\n",
       "      <td>\"Avancer\" est un terme utilisé pour décrire le...</td>\n",
       "      <td>\"___\" est un terme utilisé pour décrire le fai...</td>\n",
       "      <td>no error</td>\n",
       "      <td>zh</td>\n",
       "      <td>进</td>\n",
       "      <td>\"Advance\" is a term used to describe moving fo...</td>\n",
       "      <td>\"进\"是用来描述向前移动或取得进展的术语。答案：\"进\"。</td>\n",
       "      <td>\"_\"是用来描述向前移动或取得进展的术语。答案：\"进\"。</td>\n",
       "    </tr>\n",
       "    <tr>\n",
       "      <th>1</th>\n",
       "      <td>fr</td>\n",
       "      <td>试</td>\n",
       "      <td>tentative</td>\n",
       "      <td>An \"attempt\" is made when trying to achieve so...</td>\n",
       "      <td>On parle de \"tentative\" lorsqu'on essaie de ré...</td>\n",
       "      <td>On parle de \"___\" lorsqu'on essaie de réaliser...</td>\n",
       "      <td>no error</td>\n",
       "      <td>zh</td>\n",
       "      <td>试</td>\n",
       "      <td>An \"attempt\" is made when trying to achieve so...</td>\n",
       "      <td>\"试\"是尝试达成某事的行为。答案：\"试\"。</td>\n",
       "      <td>\"_\"是尝试达成某事的行为。答案：\"试\"。</td>\n",
       "    </tr>\n",
       "    <tr>\n",
       "      <th>2</th>\n",
       "      <td>fr</td>\n",
       "      <td>包</td>\n",
       "      <td>sac</td>\n",
       "      <td>A \"bag\" is used to carry items. Answer: \"bag\".</td>\n",
       "      <td>Un \"sac\" est utilisé pour transporter des obje...</td>\n",
       "      <td>Un \"___\" est utilisé pour transporter des obje...</td>\n",
       "      <td>no error</td>\n",
       "      <td>zh</td>\n",
       "      <td>包</td>\n",
       "      <td>A \"bag\" is used to carry items. Answer: \"bag\".</td>\n",
       "      <td>\"包\"用来携带物品。答案：\"包\"。</td>\n",
       "      <td>\"_\"用来携带物品。答案：\"包\"。</td>\n",
       "    </tr>\n",
       "    <tr>\n",
       "      <th>3</th>\n",
       "      <td>fr</td>\n",
       "      <td>球</td>\n",
       "      <td>ballon</td>\n",
       "      <td>A \"ball\" is used to play sports like soccer an...</td>\n",
       "      <td>Un \"ballon\" est utilisé pour jouer à des sport...</td>\n",
       "      <td>Un \"___\" est utilisé pour jouer à des sports c...</td>\n",
       "      <td>no error</td>\n",
       "      <td>zh</td>\n",
       "      <td>球</td>\n",
       "      <td>A \"ball\" is used to play sports like soccer an...</td>\n",
       "      <td>\"球\"用来进行足球和篮球等运动。答案：\"球\"。</td>\n",
       "      <td>\"_\"用来进行足球和篮球等运动。答案：\"球\"。</td>\n",
       "    </tr>\n",
       "    <tr>\n",
       "      <th>4</th>\n",
       "      <td>fr</td>\n",
       "      <td>美</td>\n",
       "      <td>beauté</td>\n",
       "      <td>'\"Beauty\" is a characteristic that provides a ...</td>\n",
       "      <td>La \"beauté\" est une caractéristique qui procur...</td>\n",
       "      <td>La \"___\" est une caractéristique qui procure u...</td>\n",
       "      <td>no error</td>\n",
       "      <td>zh</td>\n",
       "      <td>美</td>\n",
       "      <td>'\"Beauty\" is a characteristic that provides a ...</td>\n",
       "      <td>\"美\"是提供愉悦或满足感知体验的特征。答案：\"美\"。</td>\n",
       "      <td>\"_\"是提供愉悦或满足感知体验的特征。答案：\"美\"。</td>\n",
       "    </tr>\n",
       "    <tr>\n",
       "      <th>...</th>\n",
       "      <td>...</td>\n",
       "      <td>...</td>\n",
       "      <td>...</td>\n",
       "      <td>...</td>\n",
       "      <td>...</td>\n",
       "      <td>...</td>\n",
       "      <td>...</td>\n",
       "      <td>...</td>\n",
       "      <td>...</td>\n",
       "      <td>...</td>\n",
       "      <td>...</td>\n",
       "      <td>...</td>\n",
       "    </tr>\n",
       "    <tr>\n",
       "      <th>113</th>\n",
       "      <td>fr</td>\n",
       "      <td>村</td>\n",
       "      <td>village</td>\n",
       "      <td>A \"village\" is a small community or group of h...</td>\n",
       "      <td>Un \"village\" est une petite communauté ou un g...</td>\n",
       "      <td>Un \"___\" est une petite communauté ou un group...</td>\n",
       "      <td>no error</td>\n",
       "      <td>zh</td>\n",
       "      <td>村</td>\n",
       "      <td>A \"village\" is a small community or group of h...</td>\n",
       "      <td>\"村\"是乡村地区一小群房屋的社区或群体。答案：\"村\"。</td>\n",
       "      <td>\"_\"是乡村地区一小群房屋的社区或群体。答案：\"村\"。</td>\n",
       "    </tr>\n",
       "    <tr>\n",
       "      <th>114</th>\n",
       "      <td>fr</td>\n",
       "      <td>德</td>\n",
       "      <td>vertu</td>\n",
       "      <td>A \"virtue\" is a quality considered morally goo...</td>\n",
       "      <td>Une \"vertu\" est une qualité considérée comme m...</td>\n",
       "      <td>Une \"___\" est une qualité considérée comme mor...</td>\n",
       "      <td>no error</td>\n",
       "      <td>zh</td>\n",
       "      <td>德</td>\n",
       "      <td>A \"virtue\" is a quality considered morally goo...</td>\n",
       "      <td>\"德\"是人中被视为道德上好或可取的品质。答案：\"德\"。</td>\n",
       "      <td>\"_\"是人中被视为道德上好或可取的品质。答案：\"德\"。</td>\n",
       "    </tr>\n",
       "    <tr>\n",
       "      <th>115</th>\n",
       "      <td>fr</td>\n",
       "      <td>波</td>\n",
       "      <td>onde</td>\n",
       "      <td>A \"wave\" is a disturbance that transfers energ...</td>\n",
       "      <td>Une \"onde\" est une perturbation qui transfère ...</td>\n",
       "      <td>Une \"___\" est une perturbation qui transfère d...</td>\n",
       "      <td>no error</td>\n",
       "      <td>zh</td>\n",
       "      <td>波</td>\n",
       "      <td>A \"wave\" is a disturbance that transfers energ...</td>\n",
       "      <td>\"波\"是一种通过物质或空间传递能量的扰动。答案：\"波\"。</td>\n",
       "      <td>\"_\"是一种通过物质或空间传递能量的扰动。答案：\"波\"。</td>\n",
       "    </tr>\n",
       "    <tr>\n",
       "      <th>116</th>\n",
       "      <td>fr</td>\n",
       "      <td>木</td>\n",
       "      <td>bois</td>\n",
       "      <td>A \"wood\" is used to make furniture. Answer: \"w...</td>\n",
       "      <td>Un \"bois\" est utilisé pour fabriquer des meubl...</td>\n",
       "      <td>Un \"___\" est utilisé pour fabriquer des meuble...</td>\n",
       "      <td>no error</td>\n",
       "      <td>zh</td>\n",
       "      <td>木</td>\n",
       "      <td>A \"wood\" is used to make furniture. Answer: \"w...</td>\n",
       "      <td>\"木\"用来制作家具。答案：\"木\"。</td>\n",
       "      <td>\"_\"用来制作家具。答案：\"木\"。</td>\n",
       "    </tr>\n",
       "    <tr>\n",
       "      <th>117</th>\n",
       "      <td>fr</td>\n",
       "      <td>字</td>\n",
       "      <td>mot</td>\n",
       "      <td>A \"word\" is a single distinct meaningful eleme...</td>\n",
       "      <td>Un \"mot\" est un élément de discours ou d'écrit...</td>\n",
       "      <td>Un \"___\" est un élément de discours ou d'écrit...</td>\n",
       "      <td>no error</td>\n",
       "      <td>zh</td>\n",
       "      <td>字</td>\n",
       "      <td>A \"word\" is a single distinct meaningful eleme...</td>\n",
       "      <td>\"字\"是语言中单独的、有意义的元素，与其他字一起（或有时单独）用来构成句子，当书写或打印时，...</td>\n",
       "      <td>\"_\"是语言中单独的、有意义的元素，与其他字一起（或有时单独）用来构成句子，当书写或打印时，...</td>\n",
       "    </tr>\n",
       "  </tbody>\n",
       "</table>\n",
       "<p>118 rows × 12 columns</p>\n",
       "</div>"
      ],
      "text/plain": [
       "    lang_fr zh         fr                           blank_prompt_original_fr  \\\n",
       "0        fr  进    avancer  \"Advance\" is a term used to describe moving fo...   \n",
       "1        fr  试  tentative  An \"attempt\" is made when trying to achieve so...   \n",
       "2        fr  包        sac     A \"bag\" is used to carry items. Answer: \"bag\".   \n",
       "3        fr  球     ballon  A \"ball\" is used to play sports like soccer an...   \n",
       "4        fr  美     beauté  '\"Beauty\" is a characteristic that provides a ...   \n",
       "..      ... ..        ...                                                ...   \n",
       "113      fr  村    village  A \"village\" is a small community or group of h...   \n",
       "114      fr  德      vertu  A \"virtue\" is a quality considered morally goo...   \n",
       "115      fr  波       onde  A \"wave\" is a disturbance that transfers energ...   \n",
       "116      fr  木       bois  A \"wood\" is used to make furniture. Answer: \"w...   \n",
       "117      fr  字        mot  A \"word\" is a single distinct meaningful eleme...   \n",
       "\n",
       "                           blank_prompt_translation_fr  \\\n",
       "0    \"Avancer\" est un terme utilisé pour décrire le...   \n",
       "1    On parle de \"tentative\" lorsqu'on essaie de ré...   \n",
       "2    Un \"sac\" est utilisé pour transporter des obje...   \n",
       "3    Un \"ballon\" est utilisé pour jouer à des sport...   \n",
       "4    La \"beauté\" est une caractéristique qui procur...   \n",
       "..                                                 ...   \n",
       "113  Un \"village\" est une petite communauté ou un g...   \n",
       "114  Une \"vertu\" est une qualité considérée comme m...   \n",
       "115  Une \"onde\" est une perturbation qui transfère ...   \n",
       "116  Un \"bois\" est utilisé pour fabriquer des meubl...   \n",
       "117  Un \"mot\" est un élément de discours ou d'écrit...   \n",
       "\n",
       "                    blank_prompt_translation_masked_fr     error lang_zh  \\\n",
       "0    \"___\" est un terme utilisé pour décrire le fai...  no error      zh   \n",
       "1    On parle de \"___\" lorsqu'on essaie de réaliser...  no error      zh   \n",
       "2    Un \"___\" est utilisé pour transporter des obje...  no error      zh   \n",
       "3    Un \"___\" est utilisé pour jouer à des sports c...  no error      zh   \n",
       "4    La \"___\" est une caractéristique qui procure u...  no error      zh   \n",
       "..                                                 ...       ...     ...   \n",
       "113  Un \"___\" est une petite communauté ou un group...  no error      zh   \n",
       "114  Une \"___\" est une qualité considérée comme mor...  no error      zh   \n",
       "115  Une \"___\" est une perturbation qui transfère d...  no error      zh   \n",
       "116  Un \"___\" est utilisé pour fabriquer des meuble...  no error      zh   \n",
       "117  Un \"___\" est un élément de discours ou d'écrit...  no error      zh   \n",
       "\n",
       "    zh_in                           blank_prompt_original_zh  \\\n",
       "0       进  \"Advance\" is a term used to describe moving fo...   \n",
       "1       试  An \"attempt\" is made when trying to achieve so...   \n",
       "2       包     A \"bag\" is used to carry items. Answer: \"bag\".   \n",
       "3       球  A \"ball\" is used to play sports like soccer an...   \n",
       "4       美  '\"Beauty\" is a characteristic that provides a ...   \n",
       "..    ...                                                ...   \n",
       "113     村  A \"village\" is a small community or group of h...   \n",
       "114     德  A \"virtue\" is a quality considered morally goo...   \n",
       "115     波  A \"wave\" is a disturbance that transfers energ...   \n",
       "116     木  A \"wood\" is used to make furniture. Answer: \"w...   \n",
       "117     字  A \"word\" is a single distinct meaningful eleme...   \n",
       "\n",
       "                           blank_prompt_translation_zh  \\\n",
       "0                         \"进\"是用来描述向前移动或取得进展的术语。答案：\"进\"。   \n",
       "1                                \"试\"是尝试达成某事的行为。答案：\"试\"。   \n",
       "2                                    \"包\"用来携带物品。答案：\"包\"。   \n",
       "3                              \"球\"用来进行足球和篮球等运动。答案：\"球\"。   \n",
       "4                           \"美\"是提供愉悦或满足感知体验的特征。答案：\"美\"。   \n",
       "..                                                 ...   \n",
       "113                        \"村\"是乡村地区一小群房屋的社区或群体。答案：\"村\"。   \n",
       "114                        \"德\"是人中被视为道德上好或可取的品质。答案：\"德\"。   \n",
       "115                       \"波\"是一种通过物质或空间传递能量的扰动。答案：\"波\"。   \n",
       "116                                  \"木\"用来制作家具。答案：\"木\"。   \n",
       "117  \"字\"是语言中单独的、有意义的元素，与其他字一起（或有时单独）用来构成句子，当书写或打印时，...   \n",
       "\n",
       "                    blank_prompt_translation_masked_zh  \n",
       "0                         \"_\"是用来描述向前移动或取得进展的术语。答案：\"进\"。  \n",
       "1                                \"_\"是尝试达成某事的行为。答案：\"试\"。  \n",
       "2                                    \"_\"用来携带物品。答案：\"包\"。  \n",
       "3                              \"_\"用来进行足球和篮球等运动。答案：\"球\"。  \n",
       "4                           \"_\"是提供愉悦或满足感知体验的特征。答案：\"美\"。  \n",
       "..                                                 ...  \n",
       "113                        \"_\"是乡村地区一小群房屋的社区或群体。答案：\"村\"。  \n",
       "114                        \"_\"是人中被视为道德上好或可取的品质。答案：\"德\"。  \n",
       "115                       \"_\"是一种通过物质或空间传递能量的扰动。答案：\"波\"。  \n",
       "116                                  \"_\"用来制作家具。答案：\"木\"。  \n",
       "117  \"_\"是语言中单独的、有意义的元素，与其他字一起（或有时单独）用来构成句子，当书写或打印时，...  \n",
       "\n",
       "[118 rows x 12 columns]"
      ]
     },
     "execution_count": 11,
     "metadata": {},
     "output_type": "execute_result"
    }
   ],
   "source": [
    "df_en_target_input"
   ]
  },
  {
   "cell_type": "code",
   "execution_count": 12,
   "id": "8037261b",
   "metadata": {
    "execution": {
     "iopub.execute_input": "2024-02-23T22:27:48.930849Z",
     "iopub.status.busy": "2024-02-23T22:27:48.930401Z",
     "iopub.status.idle": "2024-02-23T22:27:48.959030Z",
     "shell.execute_reply": "2024-02-23T22:27:48.958617Z"
    },
    "papermill": {
     "duration": 0.034325,
     "end_time": "2024-02-23T22:27:48.959845",
     "exception": false,
     "start_time": "2024-02-23T22:27:48.925520",
     "status": "completed"
    },
    "tags": []
   },
   "outputs": [
    {
     "data": {
      "text/html": [
       "<div>\n",
       "<style scoped>\n",
       "    .dataframe tbody tr th:only-of-type {\n",
       "        vertical-align: middle;\n",
       "    }\n",
       "\n",
       "    .dataframe tbody tr th {\n",
       "        vertical-align: top;\n",
       "    }\n",
       "\n",
       "    .dataframe thead th {\n",
       "        text-align: right;\n",
       "    }\n",
       "</style>\n",
       "<table border=\"1\" class=\"dataframe\">\n",
       "  <thead>\n",
       "    <tr style=\"text-align: right;\">\n",
       "      <th></th>\n",
       "      <th>lang</th>\n",
       "      <th>word_original</th>\n",
       "      <th>word_translation</th>\n",
       "      <th>blank_prompt_original</th>\n",
       "      <th>blank_prompt_translation</th>\n",
       "      <th>blank_prompt_translation_masked</th>\n",
       "    </tr>\n",
       "  </thead>\n",
       "  <tbody>\n",
       "    <tr>\n",
       "      <th>0</th>\n",
       "      <td>zh</td>\n",
       "      <td>advance</td>\n",
       "      <td>进</td>\n",
       "      <td>\"Advance\" is a term used to describe moving fo...</td>\n",
       "      <td>\"进\"是用来描述向前移动或取得进展的术语。答案：\"进\"。</td>\n",
       "      <td>\"_\"是用来描述向前移动或取得进展的术语。答案：\"进\"。</td>\n",
       "    </tr>\n",
       "    <tr>\n",
       "      <th>1</th>\n",
       "      <td>zh</td>\n",
       "      <td>attempt</td>\n",
       "      <td>试</td>\n",
       "      <td>An \"attempt\" is made when trying to achieve so...</td>\n",
       "      <td>\"试\"是尝试达成某事的行为。答案：\"试\"。</td>\n",
       "      <td>\"_\"是尝试达成某事的行为。答案：\"试\"。</td>\n",
       "    </tr>\n",
       "    <tr>\n",
       "      <th>2</th>\n",
       "      <td>zh</td>\n",
       "      <td>bag</td>\n",
       "      <td>包</td>\n",
       "      <td>A \"bag\" is used to carry items. Answer: \"bag\".</td>\n",
       "      <td>\"包\"用来携带物品。答案：\"包\"。</td>\n",
       "      <td>\"_\"用来携带物品。答案：\"包\"。</td>\n",
       "    </tr>\n",
       "    <tr>\n",
       "      <th>3</th>\n",
       "      <td>zh</td>\n",
       "      <td>ball</td>\n",
       "      <td>球</td>\n",
       "      <td>A \"ball\" is used to play sports like soccer an...</td>\n",
       "      <td>\"球\"用来进行足球和篮球等运动。答案：\"球\"。</td>\n",
       "      <td>\"_\"用来进行足球和篮球等运动。答案：\"球\"。</td>\n",
       "    </tr>\n",
       "    <tr>\n",
       "      <th>4</th>\n",
       "      <td>zh</td>\n",
       "      <td>beauty</td>\n",
       "      <td>美</td>\n",
       "      <td>'\"Beauty\" is a characteristic that provides a ...</td>\n",
       "      <td>\"美\"是提供愉悦或满足感知体验的特征。答案：\"美\"。</td>\n",
       "      <td>\"_\"是提供愉悦或满足感知体验的特征。答案：\"美\"。</td>\n",
       "    </tr>\n",
       "    <tr>\n",
       "      <th>...</th>\n",
       "      <td>...</td>\n",
       "      <td>...</td>\n",
       "      <td>...</td>\n",
       "      <td>...</td>\n",
       "      <td>...</td>\n",
       "      <td>...</td>\n",
       "    </tr>\n",
       "    <tr>\n",
       "      <th>113</th>\n",
       "      <td>zh</td>\n",
       "      <td>village</td>\n",
       "      <td>村</td>\n",
       "      <td>A \"village\" is a small community or group of h...</td>\n",
       "      <td>\"村\"是乡村地区一小群房屋的社区或群体。答案：\"村\"。</td>\n",
       "      <td>\"_\"是乡村地区一小群房屋的社区或群体。答案：\"村\"。</td>\n",
       "    </tr>\n",
       "    <tr>\n",
       "      <th>114</th>\n",
       "      <td>zh</td>\n",
       "      <td>virtue</td>\n",
       "      <td>德</td>\n",
       "      <td>A \"virtue\" is a quality considered morally goo...</td>\n",
       "      <td>\"德\"是人中被视为道德上好或可取的品质。答案：\"德\"。</td>\n",
       "      <td>\"_\"是人中被视为道德上好或可取的品质。答案：\"德\"。</td>\n",
       "    </tr>\n",
       "    <tr>\n",
       "      <th>115</th>\n",
       "      <td>zh</td>\n",
       "      <td>wave</td>\n",
       "      <td>波</td>\n",
       "      <td>A \"wave\" is a disturbance that transfers energ...</td>\n",
       "      <td>\"波\"是一种通过物质或空间传递能量的扰动。答案：\"波\"。</td>\n",
       "      <td>\"_\"是一种通过物质或空间传递能量的扰动。答案：\"波\"。</td>\n",
       "    </tr>\n",
       "    <tr>\n",
       "      <th>116</th>\n",
       "      <td>zh</td>\n",
       "      <td>wood</td>\n",
       "      <td>木</td>\n",
       "      <td>A \"wood\" is used to make furniture. Answer: \"w...</td>\n",
       "      <td>\"木\"用来制作家具。答案：\"木\"。</td>\n",
       "      <td>\"_\"用来制作家具。答案：\"木\"。</td>\n",
       "    </tr>\n",
       "    <tr>\n",
       "      <th>117</th>\n",
       "      <td>zh</td>\n",
       "      <td>word</td>\n",
       "      <td>字</td>\n",
       "      <td>A \"word\" is a single distinct meaningful eleme...</td>\n",
       "      <td>\"字\"是语言中单独的、有意义的元素，与其他字一起（或有时单独）用来构成句子，当书写或打印时，...</td>\n",
       "      <td>\"_\"是语言中单独的、有意义的元素，与其他字一起（或有时单独）用来构成句子，当书写或打印时，...</td>\n",
       "    </tr>\n",
       "  </tbody>\n",
       "</table>\n",
       "<p>118 rows × 6 columns</p>\n",
       "</div>"
      ],
      "text/plain": [
       "    lang word_original word_translation  \\\n",
       "0     zh       advance                进   \n",
       "1     zh       attempt                试   \n",
       "2     zh           bag                包   \n",
       "3     zh          ball                球   \n",
       "4     zh        beauty                美   \n",
       "..   ...           ...              ...   \n",
       "113   zh       village                村   \n",
       "114   zh        virtue                德   \n",
       "115   zh          wave                波   \n",
       "116   zh          wood                木   \n",
       "117   zh          word                字   \n",
       "\n",
       "                                 blank_prompt_original  \\\n",
       "0    \"Advance\" is a term used to describe moving fo...   \n",
       "1    An \"attempt\" is made when trying to achieve so...   \n",
       "2       A \"bag\" is used to carry items. Answer: \"bag\".   \n",
       "3    A \"ball\" is used to play sports like soccer an...   \n",
       "4    '\"Beauty\" is a characteristic that provides a ...   \n",
       "..                                                 ...   \n",
       "113  A \"village\" is a small community or group of h...   \n",
       "114  A \"virtue\" is a quality considered morally goo...   \n",
       "115  A \"wave\" is a disturbance that transfers energ...   \n",
       "116  A \"wood\" is used to make furniture. Answer: \"w...   \n",
       "117  A \"word\" is a single distinct meaningful eleme...   \n",
       "\n",
       "                              blank_prompt_translation  \\\n",
       "0                         \"进\"是用来描述向前移动或取得进展的术语。答案：\"进\"。   \n",
       "1                                \"试\"是尝试达成某事的行为。答案：\"试\"。   \n",
       "2                                    \"包\"用来携带物品。答案：\"包\"。   \n",
       "3                              \"球\"用来进行足球和篮球等运动。答案：\"球\"。   \n",
       "4                           \"美\"是提供愉悦或满足感知体验的特征。答案：\"美\"。   \n",
       "..                                                 ...   \n",
       "113                        \"村\"是乡村地区一小群房屋的社区或群体。答案：\"村\"。   \n",
       "114                        \"德\"是人中被视为道德上好或可取的品质。答案：\"德\"。   \n",
       "115                       \"波\"是一种通过物质或空间传递能量的扰动。答案：\"波\"。   \n",
       "116                                  \"木\"用来制作家具。答案：\"木\"。   \n",
       "117  \"字\"是语言中单独的、有意义的元素，与其他字一起（或有时单独）用来构成句子，当书写或打印时，...   \n",
       "\n",
       "                       blank_prompt_translation_masked  \n",
       "0                         \"_\"是用来描述向前移动或取得进展的术语。答案：\"进\"。  \n",
       "1                                \"_\"是尝试达成某事的行为。答案：\"试\"。  \n",
       "2                                    \"_\"用来携带物品。答案：\"包\"。  \n",
       "3                              \"_\"用来进行足球和篮球等运动。答案：\"球\"。  \n",
       "4                           \"_\"是提供愉悦或满足感知体验的特征。答案：\"美\"。  \n",
       "..                                                 ...  \n",
       "113                        \"_\"是乡村地区一小群房屋的社区或群体。答案：\"村\"。  \n",
       "114                        \"_\"是人中被视为道德上好或可取的品质。答案：\"德\"。  \n",
       "115                       \"_\"是一种通过物质或空间传递能量的扰动。答案：\"波\"。  \n",
       "116                                  \"_\"用来制作家具。答案：\"木\"。  \n",
       "117  \"_\"是语言中单独的、有意义的元素，与其他字一起（或有时单独）用来构成句子，当书写或打印时，...  \n",
       "\n",
       "[118 rows x 6 columns]"
      ]
     },
     "execution_count": 12,
     "metadata": {},
     "output_type": "execute_result"
    }
   ],
   "source": [
    "chinese"
   ]
  },
  {
   "cell_type": "code",
   "execution_count": 13,
   "id": "444dd726",
   "metadata": {
    "execution": {
     "iopub.execute_input": "2024-02-23T22:27:48.969475Z",
     "iopub.status.busy": "2024-02-23T22:27:48.969041Z",
     "iopub.status.idle": "2024-02-23T22:27:49.003036Z",
     "shell.execute_reply": "2024-02-23T22:27:49.002583Z"
    },
    "papermill": {
     "duration": 0.039141,
     "end_time": "2024-02-23T22:27:49.003815",
     "exception": false,
     "start_time": "2024-02-23T22:27:48.964674",
     "status": "completed"
    },
    "tags": []
   },
   "outputs": [
    {
     "data": {
      "text/html": [
       "<div>\n",
       "<style scoped>\n",
       "    .dataframe tbody tr th:only-of-type {\n",
       "        vertical-align: middle;\n",
       "    }\n",
       "\n",
       "    .dataframe tbody tr th {\n",
       "        vertical-align: top;\n",
       "    }\n",
       "\n",
       "    .dataframe thead th {\n",
       "        text-align: right;\n",
       "    }\n",
       "</style>\n",
       "<table border=\"1\" class=\"dataframe\">\n",
       "  <thead>\n",
       "    <tr style=\"text-align: right;\">\n",
       "      <th></th>\n",
       "      <th>lang_fr</th>\n",
       "      <th>zh</th>\n",
       "      <th>fr</th>\n",
       "      <th>blank_prompt_original_fr</th>\n",
       "      <th>blank_prompt_translation_fr</th>\n",
       "      <th>blank_prompt_translation_masked_fr</th>\n",
       "      <th>error</th>\n",
       "      <th>lang_zh</th>\n",
       "      <th>zh_in</th>\n",
       "      <th>blank_prompt_original_zh</th>\n",
       "      <th>blank_prompt_translation_zh</th>\n",
       "      <th>blank_prompt_translation_masked_zh</th>\n",
       "    </tr>\n",
       "  </thead>\n",
       "  <tbody>\n",
       "    <tr>\n",
       "      <th>0</th>\n",
       "      <td>fr</td>\n",
       "      <td>进</td>\n",
       "      <td>avancer</td>\n",
       "      <td>\"Advance\" is a term used to describe moving fo...</td>\n",
       "      <td>\"Avancer\" est un terme utilisé pour décrire le...</td>\n",
       "      <td>\"___\" est un terme utilisé pour décrire le fai...</td>\n",
       "      <td>no error</td>\n",
       "      <td>zh</td>\n",
       "      <td>进</td>\n",
       "      <td>\"Advance\" is a term used to describe moving fo...</td>\n",
       "      <td>\"进\"是用来描述向前移动或取得进展的术语。答案：\"进\"。</td>\n",
       "      <td>\"_\"是用来描述向前移动或取得进展的术语。答案：\"进\"。</td>\n",
       "    </tr>\n",
       "    <tr>\n",
       "      <th>1</th>\n",
       "      <td>fr</td>\n",
       "      <td>试</td>\n",
       "      <td>tentative</td>\n",
       "      <td>An \"attempt\" is made when trying to achieve so...</td>\n",
       "      <td>On parle de \"tentative\" lorsqu'on essaie de ré...</td>\n",
       "      <td>On parle de \"___\" lorsqu'on essaie de réaliser...</td>\n",
       "      <td>no error</td>\n",
       "      <td>zh</td>\n",
       "      <td>试</td>\n",
       "      <td>An \"attempt\" is made when trying to achieve so...</td>\n",
       "      <td>\"试\"是尝试达成某事的行为。答案：\"试\"。</td>\n",
       "      <td>\"_\"是尝试达成某事的行为。答案：\"试\"。</td>\n",
       "    </tr>\n",
       "    <tr>\n",
       "      <th>2</th>\n",
       "      <td>fr</td>\n",
       "      <td>包</td>\n",
       "      <td>sac</td>\n",
       "      <td>A \"bag\" is used to carry items. Answer: \"bag\".</td>\n",
       "      <td>Un \"sac\" est utilisé pour transporter des obje...</td>\n",
       "      <td>Un \"___\" est utilisé pour transporter des obje...</td>\n",
       "      <td>no error</td>\n",
       "      <td>zh</td>\n",
       "      <td>包</td>\n",
       "      <td>A \"bag\" is used to carry items. Answer: \"bag\".</td>\n",
       "      <td>\"包\"用来携带物品。答案：\"包\"。</td>\n",
       "      <td>\"_\"用来携带物品。答案：\"包\"。</td>\n",
       "    </tr>\n",
       "    <tr>\n",
       "      <th>3</th>\n",
       "      <td>fr</td>\n",
       "      <td>球</td>\n",
       "      <td>ballon</td>\n",
       "      <td>A \"ball\" is used to play sports like soccer an...</td>\n",
       "      <td>Un \"ballon\" est utilisé pour jouer à des sport...</td>\n",
       "      <td>Un \"___\" est utilisé pour jouer à des sports c...</td>\n",
       "      <td>no error</td>\n",
       "      <td>zh</td>\n",
       "      <td>球</td>\n",
       "      <td>A \"ball\" is used to play sports like soccer an...</td>\n",
       "      <td>\"球\"用来进行足球和篮球等运动。答案：\"球\"。</td>\n",
       "      <td>\"_\"用来进行足球和篮球等运动。答案：\"球\"。</td>\n",
       "    </tr>\n",
       "    <tr>\n",
       "      <th>4</th>\n",
       "      <td>fr</td>\n",
       "      <td>美</td>\n",
       "      <td>beauté</td>\n",
       "      <td>'\"Beauty\" is a characteristic that provides a ...</td>\n",
       "      <td>La \"beauté\" est une caractéristique qui procur...</td>\n",
       "      <td>La \"___\" est une caractéristique qui procure u...</td>\n",
       "      <td>no error</td>\n",
       "      <td>zh</td>\n",
       "      <td>美</td>\n",
       "      <td>'\"Beauty\" is a characteristic that provides a ...</td>\n",
       "      <td>\"美\"是提供愉悦或满足感知体验的特征。答案：\"美\"。</td>\n",
       "      <td>\"_\"是提供愉悦或满足感知体验的特征。答案：\"美\"。</td>\n",
       "    </tr>\n",
       "    <tr>\n",
       "      <th>...</th>\n",
       "      <td>...</td>\n",
       "      <td>...</td>\n",
       "      <td>...</td>\n",
       "      <td>...</td>\n",
       "      <td>...</td>\n",
       "      <td>...</td>\n",
       "      <td>...</td>\n",
       "      <td>...</td>\n",
       "      <td>...</td>\n",
       "      <td>...</td>\n",
       "      <td>...</td>\n",
       "      <td>...</td>\n",
       "    </tr>\n",
       "    <tr>\n",
       "      <th>113</th>\n",
       "      <td>fr</td>\n",
       "      <td>村</td>\n",
       "      <td>village</td>\n",
       "      <td>A \"village\" is a small community or group of h...</td>\n",
       "      <td>Un \"village\" est une petite communauté ou un g...</td>\n",
       "      <td>Un \"___\" est une petite communauté ou un group...</td>\n",
       "      <td>no error</td>\n",
       "      <td>zh</td>\n",
       "      <td>村</td>\n",
       "      <td>A \"village\" is a small community or group of h...</td>\n",
       "      <td>\"村\"是乡村地区一小群房屋的社区或群体。答案：\"村\"。</td>\n",
       "      <td>\"_\"是乡村地区一小群房屋的社区或群体。答案：\"村\"。</td>\n",
       "    </tr>\n",
       "    <tr>\n",
       "      <th>114</th>\n",
       "      <td>fr</td>\n",
       "      <td>德</td>\n",
       "      <td>vertu</td>\n",
       "      <td>A \"virtue\" is a quality considered morally goo...</td>\n",
       "      <td>Une \"vertu\" est une qualité considérée comme m...</td>\n",
       "      <td>Une \"___\" est une qualité considérée comme mor...</td>\n",
       "      <td>no error</td>\n",
       "      <td>zh</td>\n",
       "      <td>德</td>\n",
       "      <td>A \"virtue\" is a quality considered morally goo...</td>\n",
       "      <td>\"德\"是人中被视为道德上好或可取的品质。答案：\"德\"。</td>\n",
       "      <td>\"_\"是人中被视为道德上好或可取的品质。答案：\"德\"。</td>\n",
       "    </tr>\n",
       "    <tr>\n",
       "      <th>115</th>\n",
       "      <td>fr</td>\n",
       "      <td>波</td>\n",
       "      <td>onde</td>\n",
       "      <td>A \"wave\" is a disturbance that transfers energ...</td>\n",
       "      <td>Une \"onde\" est une perturbation qui transfère ...</td>\n",
       "      <td>Une \"___\" est une perturbation qui transfère d...</td>\n",
       "      <td>no error</td>\n",
       "      <td>zh</td>\n",
       "      <td>波</td>\n",
       "      <td>A \"wave\" is a disturbance that transfers energ...</td>\n",
       "      <td>\"波\"是一种通过物质或空间传递能量的扰动。答案：\"波\"。</td>\n",
       "      <td>\"_\"是一种通过物质或空间传递能量的扰动。答案：\"波\"。</td>\n",
       "    </tr>\n",
       "    <tr>\n",
       "      <th>116</th>\n",
       "      <td>fr</td>\n",
       "      <td>木</td>\n",
       "      <td>bois</td>\n",
       "      <td>A \"wood\" is used to make furniture. Answer: \"w...</td>\n",
       "      <td>Un \"bois\" est utilisé pour fabriquer des meubl...</td>\n",
       "      <td>Un \"___\" est utilisé pour fabriquer des meuble...</td>\n",
       "      <td>no error</td>\n",
       "      <td>zh</td>\n",
       "      <td>木</td>\n",
       "      <td>A \"wood\" is used to make furniture. Answer: \"w...</td>\n",
       "      <td>\"木\"用来制作家具。答案：\"木\"。</td>\n",
       "      <td>\"_\"用来制作家具。答案：\"木\"。</td>\n",
       "    </tr>\n",
       "    <tr>\n",
       "      <th>117</th>\n",
       "      <td>fr</td>\n",
       "      <td>字</td>\n",
       "      <td>mot</td>\n",
       "      <td>A \"word\" is a single distinct meaningful eleme...</td>\n",
       "      <td>Un \"mot\" est un élément de discours ou d'écrit...</td>\n",
       "      <td>Un \"___\" est un élément de discours ou d'écrit...</td>\n",
       "      <td>no error</td>\n",
       "      <td>zh</td>\n",
       "      <td>字</td>\n",
       "      <td>A \"word\" is a single distinct meaningful eleme...</td>\n",
       "      <td>\"字\"是语言中单独的、有意义的元素，与其他字一起（或有时单独）用来构成句子，当书写或打印时，...</td>\n",
       "      <td>\"_\"是语言中单独的、有意义的元素，与其他字一起（或有时单独）用来构成句子，当书写或打印时，...</td>\n",
       "    </tr>\n",
       "  </tbody>\n",
       "</table>\n",
       "<p>118 rows × 12 columns</p>\n",
       "</div>"
      ],
      "text/plain": [
       "    lang_fr zh         fr                           blank_prompt_original_fr  \\\n",
       "0        fr  进    avancer  \"Advance\" is a term used to describe moving fo...   \n",
       "1        fr  试  tentative  An \"attempt\" is made when trying to achieve so...   \n",
       "2        fr  包        sac     A \"bag\" is used to carry items. Answer: \"bag\".   \n",
       "3        fr  球     ballon  A \"ball\" is used to play sports like soccer an...   \n",
       "4        fr  美     beauté  '\"Beauty\" is a characteristic that provides a ...   \n",
       "..      ... ..        ...                                                ...   \n",
       "113      fr  村    village  A \"village\" is a small community or group of h...   \n",
       "114      fr  德      vertu  A \"virtue\" is a quality considered morally goo...   \n",
       "115      fr  波       onde  A \"wave\" is a disturbance that transfers energ...   \n",
       "116      fr  木       bois  A \"wood\" is used to make furniture. Answer: \"w...   \n",
       "117      fr  字        mot  A \"word\" is a single distinct meaningful eleme...   \n",
       "\n",
       "                           blank_prompt_translation_fr  \\\n",
       "0    \"Avancer\" est un terme utilisé pour décrire le...   \n",
       "1    On parle de \"tentative\" lorsqu'on essaie de ré...   \n",
       "2    Un \"sac\" est utilisé pour transporter des obje...   \n",
       "3    Un \"ballon\" est utilisé pour jouer à des sport...   \n",
       "4    La \"beauté\" est une caractéristique qui procur...   \n",
       "..                                                 ...   \n",
       "113  Un \"village\" est une petite communauté ou un g...   \n",
       "114  Une \"vertu\" est une qualité considérée comme m...   \n",
       "115  Une \"onde\" est une perturbation qui transfère ...   \n",
       "116  Un \"bois\" est utilisé pour fabriquer des meubl...   \n",
       "117  Un \"mot\" est un élément de discours ou d'écrit...   \n",
       "\n",
       "                    blank_prompt_translation_masked_fr     error lang_zh  \\\n",
       "0    \"___\" est un terme utilisé pour décrire le fai...  no error      zh   \n",
       "1    On parle de \"___\" lorsqu'on essaie de réaliser...  no error      zh   \n",
       "2    Un \"___\" est utilisé pour transporter des obje...  no error      zh   \n",
       "3    Un \"___\" est utilisé pour jouer à des sports c...  no error      zh   \n",
       "4    La \"___\" est une caractéristique qui procure u...  no error      zh   \n",
       "..                                                 ...       ...     ...   \n",
       "113  Un \"___\" est une petite communauté ou un group...  no error      zh   \n",
       "114  Une \"___\" est une qualité considérée comme mor...  no error      zh   \n",
       "115  Une \"___\" est une perturbation qui transfère d...  no error      zh   \n",
       "116  Un \"___\" est utilisé pour fabriquer des meuble...  no error      zh   \n",
       "117  Un \"___\" est un élément de discours ou d'écrit...  no error      zh   \n",
       "\n",
       "    zh_in                           blank_prompt_original_zh  \\\n",
       "0       进  \"Advance\" is a term used to describe moving fo...   \n",
       "1       试  An \"attempt\" is made when trying to achieve so...   \n",
       "2       包     A \"bag\" is used to carry items. Answer: \"bag\".   \n",
       "3       球  A \"ball\" is used to play sports like soccer an...   \n",
       "4       美  '\"Beauty\" is a characteristic that provides a ...   \n",
       "..    ...                                                ...   \n",
       "113     村  A \"village\" is a small community or group of h...   \n",
       "114     德  A \"virtue\" is a quality considered morally goo...   \n",
       "115     波  A \"wave\" is a disturbance that transfers energ...   \n",
       "116     木  A \"wood\" is used to make furniture. Answer: \"w...   \n",
       "117     字  A \"word\" is a single distinct meaningful eleme...   \n",
       "\n",
       "                           blank_prompt_translation_zh  \\\n",
       "0                         \"进\"是用来描述向前移动或取得进展的术语。答案：\"进\"。   \n",
       "1                                \"试\"是尝试达成某事的行为。答案：\"试\"。   \n",
       "2                                    \"包\"用来携带物品。答案：\"包\"。   \n",
       "3                              \"球\"用来进行足球和篮球等运动。答案：\"球\"。   \n",
       "4                           \"美\"是提供愉悦或满足感知体验的特征。答案：\"美\"。   \n",
       "..                                                 ...   \n",
       "113                        \"村\"是乡村地区一小群房屋的社区或群体。答案：\"村\"。   \n",
       "114                        \"德\"是人中被视为道德上好或可取的品质。答案：\"德\"。   \n",
       "115                       \"波\"是一种通过物质或空间传递能量的扰动。答案：\"波\"。   \n",
       "116                                  \"木\"用来制作家具。答案：\"木\"。   \n",
       "117  \"字\"是语言中单独的、有意义的元素，与其他字一起（或有时单独）用来构成句子，当书写或打印时，...   \n",
       "\n",
       "                    blank_prompt_translation_masked_zh  \n",
       "0                         \"_\"是用来描述向前移动或取得进展的术语。答案：\"进\"。  \n",
       "1                                \"_\"是尝试达成某事的行为。答案：\"试\"。  \n",
       "2                                    \"_\"用来携带物品。答案：\"包\"。  \n",
       "3                              \"_\"用来进行足球和篮球等运动。答案：\"球\"。  \n",
       "4                           \"_\"是提供愉悦或满足感知体验的特征。答案：\"美\"。  \n",
       "..                                                 ...  \n",
       "113                        \"_\"是乡村地区一小群房屋的社区或群体。答案：\"村\"。  \n",
       "114                        \"_\"是人中被视为道德上好或可取的品质。答案：\"德\"。  \n",
       "115                       \"_\"是一种通过物质或空间传递能量的扰动。答案：\"波\"。  \n",
       "116                                  \"_\"用来制作家具。答案：\"木\"。  \n",
       "117  \"_\"是语言中单独的、有意义的元素，与其他字一起（或有时单独）用来构成句子，当书写或打印时，...  \n",
       "\n",
       "[118 rows x 12 columns]"
      ]
     },
     "execution_count": 13,
     "metadata": {},
     "output_type": "execute_result"
    }
   ],
   "source": [
    "df_en_target_input"
   ]
  },
  {
   "cell_type": "code",
   "execution_count": 14,
   "id": "500641f5",
   "metadata": {
    "execution": {
     "iopub.execute_input": "2024-02-23T22:27:49.014319Z",
     "iopub.status.busy": "2024-02-23T22:27:49.013806Z",
     "iopub.status.idle": "2024-02-23T22:28:06.352412Z",
     "shell.execute_reply": "2024-02-23T22:28:06.351734Z"
    },
    "papermill": {
     "duration": 17.344502,
     "end_time": "2024-02-23T22:28:06.353309",
     "exception": false,
     "start_time": "2024-02-23T22:27:49.008807",
     "status": "completed"
    },
    "tags": []
   },
   "outputs": [
    {
     "name": "stderr",
     "output_type": "stream",
     "text": [
      "\r",
      "  0%|                                                                                                                                                                                                                       | 0/118 [00:00<?, ?it/s]"
     ]
    },
    {
     "name": "stderr",
     "output_type": "stream",
     "text": [
      "\r",
      "  1%|█▊                                                                                                                                                                                                             | 1/118 [00:00<00:20,  5.70it/s]"
     ]
    },
    {
     "name": "stderr",
     "output_type": "stream",
     "text": [
      "\r",
      "  2%|███▌                                                                                                                                                                                                           | 2/118 [00:00<00:21,  5.31it/s]"
     ]
    },
    {
     "name": "stderr",
     "output_type": "stream",
     "text": [
      "\r",
      "  3%|█████▎                                                                                                                                                                                                         | 3/118 [00:00<00:17,  6.66it/s]"
     ]
    },
    {
     "name": "stderr",
     "output_type": "stream",
     "text": [
      "\r",
      "  3%|███████                                                                                                                                                                                                        | 4/118 [00:00<00:17,  6.44it/s]"
     ]
    },
    {
     "name": "stderr",
     "output_type": "stream",
     "text": [
      "\r",
      "  4%|████████▊                                                                                                                                                                                                      | 5/118 [00:00<00:17,  6.63it/s]"
     ]
    },
    {
     "name": "stderr",
     "output_type": "stream",
     "text": [
      "\r",
      "  5%|██████████▌                                                                                                                                                                                                    | 6/118 [00:00<00:16,  6.84it/s]"
     ]
    },
    {
     "name": "stderr",
     "output_type": "stream",
     "text": [
      "\r",
      "  6%|████████████▎                                                                                                                                                                                                  | 7/118 [00:01<00:16,  6.79it/s]"
     ]
    },
    {
     "name": "stderr",
     "output_type": "stream",
     "text": [
      "\r",
      "  7%|██████████████                                                                                                                                                                                                 | 8/118 [00:01<00:16,  6.76it/s]"
     ]
    },
    {
     "name": "stderr",
     "output_type": "stream",
     "text": [
      "\r",
      "  8%|███████████████▊                                                                                                                                                                                               | 9/118 [00:01<00:16,  6.65it/s]"
     ]
    },
    {
     "name": "stderr",
     "output_type": "stream",
     "text": [
      "\r",
      "  8%|█████████████████▍                                                                                                                                                                                            | 10/118 [00:01<00:15,  7.03it/s]"
     ]
    },
    {
     "name": "stderr",
     "output_type": "stream",
     "text": [
      "\r",
      "  9%|███████████████████▏                                                                                                                                                                                          | 11/118 [00:01<00:15,  6.72it/s]"
     ]
    },
    {
     "name": "stderr",
     "output_type": "stream",
     "text": [
      "\r",
      " 10%|████████████████████▉                                                                                                                                                                                         | 12/118 [00:01<00:15,  6.75it/s]"
     ]
    },
    {
     "name": "stderr",
     "output_type": "stream",
     "text": [
      "\r",
      " 11%|██████████████████████▋                                                                                                                                                                                       | 13/118 [00:01<00:15,  6.96it/s]"
     ]
    },
    {
     "name": "stderr",
     "output_type": "stream",
     "text": [
      "\r",
      " 12%|████████████████████████▍                                                                                                                                                                                     | 14/118 [00:02<00:15,  6.87it/s]"
     ]
    },
    {
     "name": "stderr",
     "output_type": "stream",
     "text": [
      "\r",
      " 13%|██████████████████████████▏                                                                                                                                                                                   | 15/118 [00:02<00:16,  6.08it/s]"
     ]
    },
    {
     "name": "stderr",
     "output_type": "stream",
     "text": [
      "\r",
      " 14%|███████████████████████████▉                                                                                                                                                                                  | 16/118 [00:02<00:16,  6.01it/s]"
     ]
    },
    {
     "name": "stderr",
     "output_type": "stream",
     "text": [
      "\r",
      " 14%|█████████████████████████████▋                                                                                                                                                                                | 17/118 [00:02<00:15,  6.55it/s]"
     ]
    },
    {
     "name": "stderr",
     "output_type": "stream",
     "text": [
      "\r",
      " 15%|███████████████████████████████▍                                                                                                                                                                              | 18/118 [00:02<00:14,  6.91it/s]"
     ]
    },
    {
     "name": "stderr",
     "output_type": "stream",
     "text": [
      "\r",
      " 16%|█████████████████████████████████▏                                                                                                                                                                            | 19/118 [00:02<00:15,  6.42it/s]"
     ]
    },
    {
     "name": "stderr",
     "output_type": "stream",
     "text": [
      "\r",
      " 17%|██████████████████████████████████▉                                                                                                                                                                           | 20/118 [00:03<00:15,  6.40it/s]"
     ]
    },
    {
     "name": "stderr",
     "output_type": "stream",
     "text": [
      "\r",
      " 19%|██████████████████████████████████████▍                                                                                                                                                                       | 22/118 [00:03<00:13,  7.08it/s]"
     ]
    },
    {
     "name": "stderr",
     "output_type": "stream",
     "text": [
      "\r",
      " 19%|████████████████████████████████████████▏                                                                                                                                                                     | 23/118 [00:03<00:13,  6.97it/s]"
     ]
    },
    {
     "name": "stderr",
     "output_type": "stream",
     "text": [
      "\r",
      " 20%|█████████████████████████████████████████▉                                                                                                                                                                    | 24/118 [00:03<00:13,  7.08it/s]"
     ]
    },
    {
     "name": "stderr",
     "output_type": "stream",
     "text": [
      "\r",
      " 21%|███████████████████████████████████████████▋                                                                                                                                                                  | 25/118 [00:03<00:12,  7.23it/s]"
     ]
    },
    {
     "name": "stderr",
     "output_type": "stream",
     "text": [
      "\r",
      " 22%|█████████████████████████████████████████████▍                                                                                                                                                                | 26/118 [00:03<00:12,  7.23it/s]"
     ]
    },
    {
     "name": "stderr",
     "output_type": "stream",
     "text": [
      "\r",
      " 23%|███████████████████████████████████████████████▏                                                                                                                                                              | 27/118 [00:03<00:12,  7.25it/s]"
     ]
    },
    {
     "name": "stderr",
     "output_type": "stream",
     "text": [
      "\r",
      " 24%|████████████████████████████████████████████████▉                                                                                                                                                             | 28/118 [00:04<00:12,  6.97it/s]"
     ]
    },
    {
     "name": "stderr",
     "output_type": "stream",
     "text": [
      "\r",
      " 25%|██████████████████████████████████████████████████▋                                                                                                                                                           | 29/118 [00:04<00:12,  7.15it/s]"
     ]
    },
    {
     "name": "stderr",
     "output_type": "stream",
     "text": [
      "\r",
      " 25%|████████████████████████████████████████████████████▎                                                                                                                                                         | 30/118 [00:04<00:13,  6.37it/s]"
     ]
    },
    {
     "name": "stderr",
     "output_type": "stream",
     "text": [
      "\r",
      " 27%|███████████████████████████████████████████████████████▊                                                                                                                                                      | 32/118 [00:04<00:11,  7.30it/s]"
     ]
    },
    {
     "name": "stderr",
     "output_type": "stream",
     "text": [
      "\r",
      " 28%|█████████████████████████████████████████████████████████▌                                                                                                                                                    | 33/118 [00:04<00:11,  7.64it/s]"
     ]
    },
    {
     "name": "stderr",
     "output_type": "stream",
     "text": [
      "\r",
      " 29%|███████████████████████████████████████████████████████████▎                                                                                                                                                  | 34/118 [00:04<00:11,  7.05it/s]"
     ]
    },
    {
     "name": "stderr",
     "output_type": "stream",
     "text": [
      "\r",
      " 30%|█████████████████████████████████████████████████████████████                                                                                                                                                 | 35/118 [00:05<00:11,  7.06it/s]"
     ]
    },
    {
     "name": "stderr",
     "output_type": "stream",
     "text": [
      "\r",
      " 31%|██████████████████████████████████████████████████████████████▊                                                                                                                                               | 36/118 [00:05<00:10,  7.62it/s]"
     ]
    },
    {
     "name": "stderr",
     "output_type": "stream",
     "text": [
      "\r",
      " 32%|██████████████████████████████████████████████████████████████████▎                                                                                                                                           | 38/118 [00:05<00:10,  7.30it/s]"
     ]
    },
    {
     "name": "stderr",
     "output_type": "stream",
     "text": [
      "\r",
      " 33%|████████████████████████████████████████████████████████████████████                                                                                                                                          | 39/118 [00:05<00:11,  6.93it/s]"
     ]
    },
    {
     "name": "stderr",
     "output_type": "stream",
     "text": [
      "\r",
      " 34%|█████████████████████████████████████████████████████████████████████▊                                                                                                                                        | 40/118 [00:05<00:11,  6.72it/s]"
     ]
    },
    {
     "name": "stderr",
     "output_type": "stream",
     "text": [
      "\r",
      " 35%|███████████████████████████████████████████████████████████████████████▌                                                                                                                                      | 41/118 [00:05<00:11,  6.81it/s]"
     ]
    },
    {
     "name": "stderr",
     "output_type": "stream",
     "text": [
      "\r",
      " 36%|█████████████████████████████████████████████████████████████████████████▎                                                                                                                                    | 42/118 [00:06<00:10,  7.18it/s]"
     ]
    },
    {
     "name": "stderr",
     "output_type": "stream",
     "text": [
      "\r",
      " 36%|███████████████████████████████████████████████████████████████████████████                                                                                                                                   | 43/118 [00:06<00:10,  7.03it/s]"
     ]
    },
    {
     "name": "stderr",
     "output_type": "stream",
     "text": [
      "\r",
      " 37%|████████████████████████████████████████████████████████████████████████████▊                                                                                                                                 | 44/118 [00:06<00:09,  7.53it/s]"
     ]
    },
    {
     "name": "stderr",
     "output_type": "stream",
     "text": [
      "\r",
      " 38%|██████████████████████████████████████████████████████████████████████████████▌                                                                                                                               | 45/118 [00:06<00:09,  7.93it/s]"
     ]
    },
    {
     "name": "stderr",
     "output_type": "stream",
     "text": [
      "\r",
      " 39%|████████████████████████████████████████████████████████████████████████████████▎                                                                                                                             | 46/118 [00:06<00:09,  7.54it/s]"
     ]
    },
    {
     "name": "stderr",
     "output_type": "stream",
     "text": [
      "\r",
      " 40%|██████████████████████████████████████████████████████████████████████████████████                                                                                                                            | 47/118 [00:06<00:09,  7.10it/s]"
     ]
    },
    {
     "name": "stderr",
     "output_type": "stream",
     "text": [
      "\r",
      " 41%|███████████████████████████████████████████████████████████████████████████████████▊                                                                                                                          | 48/118 [00:06<00:10,  6.99it/s]"
     ]
    },
    {
     "name": "stderr",
     "output_type": "stream",
     "text": [
      "\r",
      " 42%|█████████████████████████████████████████████████████████████████████████████████████▌                                                                                                                        | 49/118 [00:07<00:10,  6.47it/s]"
     ]
    },
    {
     "name": "stderr",
     "output_type": "stream",
     "text": [
      "\r",
      " 42%|███████████████████████████████████████████████████████████████████████████████████████▎                                                                                                                      | 50/118 [00:07<00:10,  6.48it/s]"
     ]
    },
    {
     "name": "stderr",
     "output_type": "stream",
     "text": [
      "\r",
      " 43%|█████████████████████████████████████████████████████████████████████████████████████████                                                                                                                     | 51/118 [00:07<00:10,  6.47it/s]"
     ]
    },
    {
     "name": "stderr",
     "output_type": "stream",
     "text": [
      "\r",
      " 44%|██████████████████████████████████████████████████████████████████████████████████████████▊                                                                                                                   | 52/118 [00:07<00:09,  6.91it/s]"
     ]
    },
    {
     "name": "stderr",
     "output_type": "stream",
     "text": [
      "\r",
      " 45%|████████████████████████████████████████████████████████████████████████████████████████████▌                                                                                                                 | 53/118 [00:07<00:08,  7.54it/s]"
     ]
    },
    {
     "name": "stderr",
     "output_type": "stream",
     "text": [
      "\r",
      " 46%|██████████████████████████████████████████████████████████████████████████████████████████████▎                                                                                                               | 54/118 [00:07<00:09,  6.63it/s]"
     ]
    },
    {
     "name": "stderr",
     "output_type": "stream",
     "text": [
      "\r",
      " 47%|████████████████████████████████████████████████████████████████████████████████████████████████                                                                                                              | 55/118 [00:08<00:09,  6.61it/s]"
     ]
    },
    {
     "name": "stderr",
     "output_type": "stream",
     "text": [
      "\r",
      " 47%|█████████████████████████████████████████████████████████████████████████████████████████████████▊                                                                                                            | 56/118 [00:08<00:09,  6.51it/s]"
     ]
    },
    {
     "name": "stderr",
     "output_type": "stream",
     "text": [
      "\r",
      " 48%|███████████████████████████████████████████████████████████████████████████████████████████████████▌                                                                                                          | 57/118 [00:08<00:08,  6.93it/s]"
     ]
    },
    {
     "name": "stderr",
     "output_type": "stream",
     "text": [
      "\r",
      " 49%|█████████████████████████████████████████████████████████████████████████████████████████████████████▎                                                                                                        | 58/118 [00:08<00:08,  7.11it/s]"
     ]
    },
    {
     "name": "stderr",
     "output_type": "stream",
     "text": [
      "\r",
      " 50%|███████████████████████████████████████████████████████████████████████████████████████████████████████                                                                                                       | 59/118 [00:08<00:08,  7.08it/s]"
     ]
    },
    {
     "name": "stderr",
     "output_type": "stream",
     "text": [
      "\r",
      " 51%|████████████████████████████████████████████████████████████████████████████████████████████████████████▋                                                                                                     | 60/118 [00:08<00:08,  6.89it/s]"
     ]
    },
    {
     "name": "stderr",
     "output_type": "stream",
     "text": [
      "\r",
      " 53%|████████████████████████████████████████████████████████████████████████████████████████████████████████████▏                                                                                                 | 62/118 [00:08<00:07,  7.67it/s]"
     ]
    },
    {
     "name": "stderr",
     "output_type": "stream",
     "text": [
      "\r",
      " 53%|█████████████████████████████████████████████████████████████████████████████████████████████████████████████▉                                                                                                | 63/118 [00:09<00:07,  7.01it/s]"
     ]
    },
    {
     "name": "stderr",
     "output_type": "stream",
     "text": [
      "\r",
      " 54%|███████████████████████████████████████████████████████████████████████████████████████████████████████████████▋                                                                                              | 64/118 [00:09<00:08,  6.15it/s]"
     ]
    },
    {
     "name": "stderr",
     "output_type": "stream",
     "text": [
      "\r",
      " 55%|█████████████████████████████████████████████████████████████████████████████████████████████████████████████████▍                                                                                            | 65/118 [00:09<00:09,  5.43it/s]"
     ]
    },
    {
     "name": "stderr",
     "output_type": "stream",
     "text": [
      "\r",
      " 56%|███████████████████████████████████████████████████████████████████████████████████████████████████████████████████▏                                                                                          | 66/118 [00:09<00:08,  5.79it/s]"
     ]
    },
    {
     "name": "stderr",
     "output_type": "stream",
     "text": [
      "\r",
      " 57%|████████████████████████████████████████████████████████████████████████████████████████████████████████████████████▉                                                                                         | 67/118 [00:09<00:08,  6.16it/s]"
     ]
    },
    {
     "name": "stderr",
     "output_type": "stream",
     "text": [
      "\r",
      " 58%|██████████████████████████████████████████████████████████████████████████████████████████████████████████████████████▋                                                                                       | 68/118 [00:10<00:08,  5.62it/s]"
     ]
    },
    {
     "name": "stderr",
     "output_type": "stream",
     "text": [
      "\r",
      " 58%|████████████████████████████████████████████████████████████████████████████████████████████████████████████████████████▍                                                                                     | 69/118 [00:10<00:08,  5.66it/s]"
     ]
    },
    {
     "name": "stderr",
     "output_type": "stream",
     "text": [
      "\r",
      " 59%|██████████████████████████████████████████████████████████████████████████████████████████████████████████████████████████▏                                                                                   | 70/118 [00:10<00:08,  5.42it/s]"
     ]
    },
    {
     "name": "stderr",
     "output_type": "stream",
     "text": [
      "\r",
      " 60%|███████████████████████████████████████████████████████████████████████████████████████████████████████████████████████████▉                                                                                  | 71/118 [00:10<00:08,  5.87it/s]"
     ]
    },
    {
     "name": "stderr",
     "output_type": "stream",
     "text": [
      "\r",
      " 61%|█████████████████████████████████████████████████████████████████████████████████████████████████████████████████████████████▋                                                                                | 72/118 [00:10<00:07,  6.01it/s]"
     ]
    },
    {
     "name": "stderr",
     "output_type": "stream",
     "text": [
      "\r",
      " 62%|███████████████████████████████████████████████████████████████████████████████████████████████████████████████████████████████▍                                                                              | 73/118 [00:10<00:06,  6.73it/s]"
     ]
    },
    {
     "name": "stderr",
     "output_type": "stream",
     "text": [
      "\r",
      " 63%|█████████████████████████████████████████████████████████████████████████████████████████████████████████████████████████████████▏                                                                            | 74/118 [00:10<00:06,  6.82it/s]"
     ]
    },
    {
     "name": "stderr",
     "output_type": "stream",
     "text": [
      "\r",
      " 64%|██████████████████████████████████████████████████████████████████████████████████████████████████████████████████████████████████▉                                                                           | 75/118 [00:11<00:06,  7.06it/s]"
     ]
    },
    {
     "name": "stderr",
     "output_type": "stream",
     "text": [
      "\r",
      " 64%|████████████████████████████████████████████████████████████████████████████████████████████████████████████████████████████████████▋                                                                         | 76/118 [00:11<00:05,  7.25it/s]"
     ]
    },
    {
     "name": "stderr",
     "output_type": "stream",
     "text": [
      "\r",
      " 65%|██████████████████████████████████████████████████████████████████████████████████████████████████████████████████████████████████████▍                                                                       | 77/118 [00:11<00:05,  7.48it/s]"
     ]
    },
    {
     "name": "stderr",
     "output_type": "stream",
     "text": [
      "\r",
      " 66%|████████████████████████████████████████████████████████████████████████████████████████████████████████████████████████████████████████▏                                                                     | 78/118 [00:11<00:05,  7.87it/s]"
     ]
    },
    {
     "name": "stderr",
     "output_type": "stream",
     "text": [
      "\r",
      " 67%|█████████████████████████████████████████████████████████████████████████████████████████████████████████████████████████████████████████▉                                                                    | 79/118 [00:11<00:05,  7.69it/s]"
     ]
    },
    {
     "name": "stderr",
     "output_type": "stream",
     "text": [
      "\r",
      " 68%|███████████████████████████████████████████████████████████████████████████████████████████████████████████████████████████████████████████▋                                                                  | 80/118 [00:11<00:05,  6.38it/s]"
     ]
    },
    {
     "name": "stderr",
     "output_type": "stream",
     "text": [
      "\r",
      " 69%|█████████████████████████████████████████████████████████████████████████████████████████████████████████████████████████████████████████████▍                                                                | 81/118 [00:11<00:05,  6.58it/s]"
     ]
    },
    {
     "name": "stderr",
     "output_type": "stream",
     "text": [
      "\r",
      " 69%|███████████████████████████████████████████████████████████████████████████████████████████████████████████████████████████████████████████████▏                                                              | 82/118 [00:12<00:05,  6.88it/s]"
     ]
    },
    {
     "name": "stderr",
     "output_type": "stream",
     "text": [
      "\r",
      " 70%|████████████████████████████████████████████████████████████████████████████████████████████████████████████████████████████████████████████████▉                                                             | 83/118 [00:12<00:04,  7.33it/s]"
     ]
    },
    {
     "name": "stderr",
     "output_type": "stream",
     "text": [
      "\r",
      " 71%|██████████████████████████████████████████████████████████████████████████████████████████████████████████████████████████████████████████████████▋                                                           | 84/118 [00:12<00:04,  7.46it/s]"
     ]
    },
    {
     "name": "stderr",
     "output_type": "stream",
     "text": [
      "\r",
      " 72%|████████████████████████████████████████████████████████████████████████████████████████████████████████████████████████████████████████████████████▍                                                         | 85/118 [00:12<00:04,  7.78it/s]"
     ]
    },
    {
     "name": "stderr",
     "output_type": "stream",
     "text": [
      "\r",
      " 73%|██████████████████████████████████████████████████████████████████████████████████████████████████████████████████████████████████████████████████████▏                                                       | 86/118 [00:12<00:04,  7.04it/s]"
     ]
    },
    {
     "name": "stderr",
     "output_type": "stream",
     "text": [
      "\r",
      " 74%|███████████████████████████████████████████████████████████████████████████████████████████████████████████████████████████████████████████████████████▉                                                      | 87/118 [00:12<00:04,  7.45it/s]"
     ]
    },
    {
     "name": "stderr",
     "output_type": "stream",
     "text": [
      "\r",
      " 75%|█████████████████████████████████████████████████████████████████████████████████████████████████████████████████████████████████████████████████████████▋                                                    | 88/118 [00:12<00:04,  7.12it/s]"
     ]
    },
    {
     "name": "stderr",
     "output_type": "stream",
     "text": [
      "\r",
      " 75%|███████████████████████████████████████████████████████████████████████████████████████████████████████████████████████████████████████████████████████████▎                                                  | 89/118 [00:13<00:03,  7.62it/s]"
     ]
    },
    {
     "name": "stderr",
     "output_type": "stream",
     "text": [
      "\r",
      " 76%|█████████████████████████████████████████████████████████████████████████████████████████████████████████████████████████████████████████████████████████████                                                 | 90/118 [00:13<00:04,  6.77it/s]"
     ]
    },
    {
     "name": "stderr",
     "output_type": "stream",
     "text": [
      "\r",
      " 77%|██████████████████████████████████████████████████████████████████████████████████████████████████████████████████████████████████████████████████████████████▊                                               | 91/118 [00:13<00:04,  6.61it/s]"
     ]
    },
    {
     "name": "stderr",
     "output_type": "stream",
     "text": [
      "\r",
      " 78%|████████████████████████████████████████████████████████████████████████████████████████████████████████████████████████████████████████████████████████████████▌                                             | 92/118 [00:13<00:04,  6.27it/s]"
     ]
    },
    {
     "name": "stderr",
     "output_type": "stream",
     "text": [
      "\r",
      " 79%|██████████████████████████████████████████████████████████████████████████████████████████████████████████████████████████████████████████████████████████████████▎                                           | 93/118 [00:13<00:03,  6.56it/s]"
     ]
    },
    {
     "name": "stderr",
     "output_type": "stream",
     "text": [
      "\r",
      " 80%|████████████████████████████████████████████████████████████████████████████████████████████████████████████████████████████████████████████████████████████████████                                          | 94/118 [00:13<00:03,  6.71it/s]"
     ]
    },
    {
     "name": "stderr",
     "output_type": "stream",
     "text": [
      "\r",
      " 81%|█████████████████████████████████████████████████████████████████████████████████████████████████████████████████████████████████████████████████████████████████████▊                                        | 95/118 [00:13<00:03,  6.99it/s]"
     ]
    },
    {
     "name": "stderr",
     "output_type": "stream",
     "text": [
      "\r",
      " 81%|███████████████████████████████████████████████████████████████████████████████████████████████████████████████████████████████████████████████████████████████████████▌                                      | 96/118 [00:14<00:02,  7.48it/s]"
     ]
    },
    {
     "name": "stderr",
     "output_type": "stream",
     "text": [
      "\r",
      " 82%|█████████████████████████████████████████████████████████████████████████████████████████████████████████████████████████████████████████████████████████████████████████▎                                    | 97/118 [00:14<00:02,  7.13it/s]"
     ]
    },
    {
     "name": "stderr",
     "output_type": "stream",
     "text": [
      "\r",
      " 83%|███████████████████████████████████████████████████████████████████████████████████████████████████████████████████████████████████████████████████████████████████████████                                   | 98/118 [00:14<00:03,  5.97it/s]"
     ]
    },
    {
     "name": "stderr",
     "output_type": "stream",
     "text": [
      "\r",
      " 84%|████████████████████████████████████████████████████████████████████████████████████████████████████████████████████████████████████████████████████████████████████████████▊                                 | 99/118 [00:14<00:02,  6.58it/s]"
     ]
    },
    {
     "name": "stderr",
     "output_type": "stream",
     "text": [
      "\r",
      " 85%|█████████████████████████████████████████████████████████████████████████████████████████████████████████████████████████████████████████████████████████████████████████████▋                               | 100/118 [00:14<00:02,  6.47it/s]"
     ]
    },
    {
     "name": "stderr",
     "output_type": "stream",
     "text": [
      "\r",
      " 86%|███████████████████████████████████████████████████████████████████████████████████████████████████████████████████████████████████████████████████████████████████████████████▍                             | 101/118 [00:14<00:02,  6.47it/s]"
     ]
    },
    {
     "name": "stderr",
     "output_type": "stream",
     "text": [
      "\r",
      " 86%|█████████████████████████████████████████████████████████████████████████████████████████████████████████████████████████████████████████████████████████████████████████████████▏                           | 102/118 [00:15<00:02,  6.31it/s]"
     ]
    },
    {
     "name": "stderr",
     "output_type": "stream",
     "text": [
      "\r",
      " 87%|██████████████████████████████████████████████████████████████████████████████████████████████████████████████████████████████████████████████████████████████████████████████████▉                          | 103/118 [00:15<00:02,  7.04it/s]"
     ]
    },
    {
     "name": "stderr",
     "output_type": "stream",
     "text": [
      "\r",
      " 88%|████████████████████████████████████████████████████████████████████████████████████████████████████████████████████████████████████████████████████████████████████████████████████▋                        | 104/118 [00:15<00:01,  7.67it/s]"
     ]
    },
    {
     "name": "stderr",
     "output_type": "stream",
     "text": [
      "\r",
      " 89%|██████████████████████████████████████████████████████████████████████████████████████████████████████████████████████████████████████████████████████████████████████████████████████▍                      | 105/118 [00:15<00:01,  7.24it/s]"
     ]
    },
    {
     "name": "stderr",
     "output_type": "stream",
     "text": [
      "\r",
      " 90%|████████████████████████████████████████████████████████████████████████████████████████████████████████████████████████████████████████████████████████████████████████████████████████▏                    | 106/118 [00:15<00:01,  7.28it/s]"
     ]
    },
    {
     "name": "stderr",
     "output_type": "stream",
     "text": [
      "\r",
      " 91%|█████████████████████████████████████████████████████████████████████████████████████████████████████████████████████████████████████████████████████████████████████████████████████████▉                   | 107/118 [00:15<00:01,  6.85it/s]"
     ]
    },
    {
     "name": "stderr",
     "output_type": "stream",
     "text": [
      "\r",
      " 92%|███████████████████████████████████████████████████████████████████████████████████████████████████████████████████████████████████████████████████████████████████████████████████████████▋                 | 108/118 [00:15<00:01,  6.63it/s]"
     ]
    },
    {
     "name": "stderr",
     "output_type": "stream",
     "text": [
      "\r",
      " 92%|█████████████████████████████████████████████████████████████████████████████████████████████████████████████████████████████████████████████████████████████████████████████████████████████▎               | 109/118 [00:16<00:01,  7.01it/s]"
     ]
    },
    {
     "name": "stderr",
     "output_type": "stream",
     "text": [
      "\r",
      " 93%|███████████████████████████████████████████████████████████████████████████████████████████████████████████████████████████████████████████████████████████████████████████████████████████████              | 110/118 [00:16<00:01,  7.03it/s]"
     ]
    },
    {
     "name": "stderr",
     "output_type": "stream",
     "text": [
      "\r",
      " 94%|████████████████████████████████████████████████████████████████████████████████████████████████████████████████████████████████████████████████████████████████████████████████████████████████▊            | 111/118 [00:16<00:00,  7.44it/s]"
     ]
    },
    {
     "name": "stderr",
     "output_type": "stream",
     "text": [
      "\r",
      " 95%|██████████████████████████████████████████████████████████████████████████████████████████████████████████████████████████████████████████████████████████████████████████████████████████████████▌          | 112/118 [00:16<00:00,  7.11it/s]"
     ]
    },
    {
     "name": "stderr",
     "output_type": "stream",
     "text": [
      "\r",
      " 96%|████████████████████████████████████████████████████████████████████████████████████████████████████████████████████████████████████████████████████████████████████████████████████████████████████▎        | 113/118 [00:16<00:00,  6.47it/s]"
     ]
    },
    {
     "name": "stderr",
     "output_type": "stream",
     "text": [
      "\r",
      " 97%|██████████████████████████████████████████████████████████████████████████████████████████████████████████████████████████████████████████████████████████████████████████████████████████████████████       | 114/118 [00:16<00:00,  6.07it/s]"
     ]
    },
    {
     "name": "stderr",
     "output_type": "stream",
     "text": [
      "\r",
      " 97%|███████████████████████████████████████████████████████████████████████████████████████████████████████████████████████████████████████████████████████████████████████████████████████████████████████▊     | 115/118 [00:16<00:00,  6.25it/s]"
     ]
    },
    {
     "name": "stderr",
     "output_type": "stream",
     "text": [
      "\r",
      " 98%|█████████████████████████████████████████████████████████████████████████████████████████████████████████████████████████████████████████████████████████████████████████████████████████████████████████▌   | 116/118 [00:17<00:00,  6.62it/s]"
     ]
    },
    {
     "name": "stderr",
     "output_type": "stream",
     "text": [
      "\r",
      " 99%|███████████████████████████████████████████████████████████████████████████████████████████████████████████████████████████████████████████████████████████████████████████████████████████████████████████▎ | 117/118 [00:17<00:00,  7.10it/s]"
     ]
    },
    {
     "name": "stderr",
     "output_type": "stream",
     "text": [
      "\r",
      "100%|█████████████████████████████████████████████████████████████████████████████████████████████████████████████████████████████████████████████████████████████████████████████████████████████████████████████| 118/118 [00:17<00:00,  7.60it/s]"
     ]
    },
    {
     "name": "stderr",
     "output_type": "stream",
     "text": [
      "\r",
      "100%|█████████████████████████████████████████████████████████████████████████████████████████████████████████████████████████████████████████████████████████████████████████████████████████████████████████████| 118/118 [00:17<00:00,  6.82it/s]"
     ]
    },
    {
     "name": "stderr",
     "output_type": "stream",
     "text": [
      "\n"
     ]
    }
   ],
   "source": [
    "dataset = []\n",
    "for ind in tqdm(range(len(df_en_target_input))):\n",
    "    d = next(sample(df_en_target_input, ind, lang1=input_lang, lang2=target_lang))\n",
    "    if d is None:\n",
    "        continue\n",
    "    dataset.append(d)"
   ]
  },
  {
   "cell_type": "code",
   "execution_count": 15,
   "id": "d786ab1b",
   "metadata": {
    "execution": {
     "iopub.execute_input": "2024-02-23T22:28:06.372537Z",
     "iopub.status.busy": "2024-02-23T22:28:06.372355Z",
     "iopub.status.idle": "2024-02-23T22:28:06.415134Z",
     "shell.execute_reply": "2024-02-23T22:28:06.414756Z"
    },
    "papermill": {
     "duration": 0.052529,
     "end_time": "2024-02-23T22:28:06.416006",
     "exception": false,
     "start_time": "2024-02-23T22:28:06.363477",
     "status": "completed"
    },
    "tags": []
   },
   "outputs": [],
   "source": [
    "df = pd.DataFrame(dataset)\n",
    "os.makedirs(f'{out_dir}/translation', exist_ok=True)\n",
    "df.to_csv(f'{out_dir}/translation/{model_size}_{input_lang}_{target_lang}_dataset.csv', index=False)"
   ]
  },
  {
   "cell_type": "code",
   "execution_count": 16,
   "id": "00e12355",
   "metadata": {
    "execution": {
     "iopub.execute_input": "2024-02-23T22:28:06.434141Z",
     "iopub.status.busy": "2024-02-23T22:28:06.433738Z",
     "iopub.status.idle": "2024-02-23T22:28:06.460696Z",
     "shell.execute_reply": "2024-02-23T22:28:06.460290Z"
    },
    "papermill": {
     "duration": 0.036194,
     "end_time": "2024-02-23T22:28:06.461414",
     "exception": false,
     "start_time": "2024-02-23T22:28:06.425220",
     "status": "completed"
    },
    "tags": []
   },
   "outputs": [
    {
     "data": {
      "text/plain": [
       "'中文: \"左\" - Français: \"gauche\"\\n中文: \"桥\" - Français: \"pont\"\\n中文: \"口\" - Français: \"bouche\"\\n中文: \"湖\" - Français: \"lac\"\\n中文: \"进\" - Français: \"'"
      ]
     },
     "execution_count": 16,
     "metadata": {},
     "output_type": "execute_result"
    }
   ],
   "source": [
    "df[\"prompt\"][0]"
   ]
  },
  {
   "cell_type": "code",
   "execution_count": 17,
   "id": "94fa55b7",
   "metadata": {
    "execution": {
     "iopub.execute_input": "2024-02-23T22:28:06.481990Z",
     "iopub.status.busy": "2024-02-23T22:28:06.481835Z",
     "iopub.status.idle": "2024-02-23T22:28:06.507748Z",
     "shell.execute_reply": "2024-02-23T22:28:06.507402Z"
    },
    "papermill": {
     "duration": 0.038815,
     "end_time": "2024-02-23T22:28:06.508622",
     "exception": false,
     "start_time": "2024-02-23T22:28:06.469807",
     "status": "completed"
    },
    "tags": []
   },
   "outputs": [],
   "source": [
    "def get_logits(model, prompt,lens):\n",
    "    inputs = tokenizer(prompt, return_tensors=\"pt\").to('cuda')\n",
    "    output = llama(inputs.input_ids, output_hidden_states=True)\n",
    "    hidden_states = output.hidden_states[:-1]\n",
    "    final_lps = output.logits.log_softmax(dim=-1)\n",
    "    tensors=[]\n",
    "    for i in range(len(model.model.layers)):\n",
    "        h = hidden_states[i].squeeze(0)\n",
    "        tensors+=[lens(h, idx=i).detach().cpu()]\n",
    "    tensors= torch.stack(tensors)  \n",
    "    hidden_states = torch.stack(hidden_states).squeeze(1).detach().cpu()\n",
    "    return tensors,hidden_states\n",
    "        "
   ]
  },
  {
   "cell_type": "code",
   "execution_count": 18,
   "id": "25241c49",
   "metadata": {
    "execution": {
     "iopub.execute_input": "2024-02-23T22:28:06.526047Z",
     "iopub.status.busy": "2024-02-23T22:28:06.525678Z",
     "iopub.status.idle": "2024-02-23T22:28:24.186370Z",
     "shell.execute_reply": "2024-02-23T22:28:24.185642Z"
    },
    "papermill": {
     "duration": 17.670288,
     "end_time": "2024-02-23T22:28:24.187266",
     "exception": false,
     "start_time": "2024-02-23T22:28:06.516978",
     "status": "completed"
    },
    "tags": []
   },
   "outputs": [
    {
     "name": "stderr",
     "output_type": "stream",
     "text": [
      "\r",
      "0it [00:00, ?it/s]"
     ]
    },
    {
     "name": "stderr",
     "output_type": "stream",
     "text": [
      "\r",
      "1it [00:00,  1.25it/s]"
     ]
    },
    {
     "name": "stderr",
     "output_type": "stream",
     "text": [
      "\r",
      "2it [00:00,  2.35it/s]"
     ]
    },
    {
     "name": "stderr",
     "output_type": "stream",
     "text": [
      "\r",
      "3it [00:01,  3.44it/s]"
     ]
    },
    {
     "name": "stderr",
     "output_type": "stream",
     "text": [
      "\r",
      "4it [00:01,  4.40it/s]"
     ]
    },
    {
     "name": "stderr",
     "output_type": "stream",
     "text": [
      "\r",
      "5it [00:01,  5.04it/s]"
     ]
    },
    {
     "name": "stderr",
     "output_type": "stream",
     "text": [
      "\r",
      "6it [00:01,  5.69it/s]"
     ]
    },
    {
     "name": "stderr",
     "output_type": "stream",
     "text": [
      "\r",
      "7it [00:01,  6.17it/s]"
     ]
    },
    {
     "name": "stderr",
     "output_type": "stream",
     "text": [
      "\r",
      "8it [00:01,  6.51it/s]"
     ]
    },
    {
     "name": "stderr",
     "output_type": "stream",
     "text": [
      "\r",
      "9it [00:01,  6.75it/s]"
     ]
    },
    {
     "name": "stderr",
     "output_type": "stream",
     "text": [
      "\r",
      "10it [00:02,  6.99it/s]"
     ]
    },
    {
     "name": "stderr",
     "output_type": "stream",
     "text": [
      "\r",
      "11it [00:02,  7.16it/s]"
     ]
    },
    {
     "name": "stderr",
     "output_type": "stream",
     "text": [
      "\r",
      "12it [00:02,  7.25it/s]"
     ]
    },
    {
     "name": "stderr",
     "output_type": "stream",
     "text": [
      "\r",
      "13it [00:02,  7.16it/s]"
     ]
    },
    {
     "name": "stderr",
     "output_type": "stream",
     "text": [
      "\r",
      "14it [00:02,  7.25it/s]"
     ]
    },
    {
     "name": "stderr",
     "output_type": "stream",
     "text": [
      "\r",
      "15it [00:02,  7.27it/s]"
     ]
    },
    {
     "name": "stderr",
     "output_type": "stream",
     "text": [
      "\r",
      "16it [00:02,  7.31it/s]"
     ]
    },
    {
     "name": "stderr",
     "output_type": "stream",
     "text": [
      "\r",
      "17it [00:03,  7.18it/s]"
     ]
    },
    {
     "name": "stderr",
     "output_type": "stream",
     "text": [
      "\r",
      "18it [00:03,  7.15it/s]"
     ]
    },
    {
     "name": "stderr",
     "output_type": "stream",
     "text": [
      "\r",
      "19it [00:03,  7.16it/s]"
     ]
    },
    {
     "name": "stderr",
     "output_type": "stream",
     "text": [
      "\r",
      "20it [00:03,  7.16it/s]"
     ]
    },
    {
     "name": "stderr",
     "output_type": "stream",
     "text": [
      "\r",
      "21it [00:03,  7.05it/s]"
     ]
    },
    {
     "name": "stderr",
     "output_type": "stream",
     "text": [
      "\r",
      "22it [00:03,  6.98it/s]"
     ]
    },
    {
     "name": "stderr",
     "output_type": "stream",
     "text": [
      "\r",
      "23it [00:03,  6.98it/s]"
     ]
    },
    {
     "name": "stderr",
     "output_type": "stream",
     "text": [
      "\r",
      "24it [00:03,  7.12it/s]"
     ]
    },
    {
     "name": "stderr",
     "output_type": "stream",
     "text": [
      "\r",
      "25it [00:04,  7.15it/s]"
     ]
    },
    {
     "name": "stderr",
     "output_type": "stream",
     "text": [
      "\r",
      "26it [00:04,  7.14it/s]"
     ]
    },
    {
     "name": "stderr",
     "output_type": "stream",
     "text": [
      "\r",
      "27it [00:04,  7.22it/s]"
     ]
    },
    {
     "name": "stderr",
     "output_type": "stream",
     "text": [
      "\r",
      "28it [00:04,  7.13it/s]"
     ]
    },
    {
     "name": "stderr",
     "output_type": "stream",
     "text": [
      "\r",
      "29it [00:04,  7.20it/s]"
     ]
    },
    {
     "name": "stderr",
     "output_type": "stream",
     "text": [
      "\r",
      "30it [00:04,  7.13it/s]"
     ]
    },
    {
     "name": "stderr",
     "output_type": "stream",
     "text": [
      "\r",
      "31it [00:04,  7.15it/s]"
     ]
    },
    {
     "name": "stderr",
     "output_type": "stream",
     "text": [
      "\r",
      "32it [00:05,  7.12it/s]"
     ]
    },
    {
     "name": "stderr",
     "output_type": "stream",
     "text": [
      "\r",
      "33it [00:05,  7.13it/s]"
     ]
    },
    {
     "name": "stderr",
     "output_type": "stream",
     "text": [
      "\r",
      "34it [00:05,  7.09it/s]"
     ]
    },
    {
     "name": "stderr",
     "output_type": "stream",
     "text": [
      "\r",
      "35it [00:05,  7.12it/s]"
     ]
    },
    {
     "name": "stderr",
     "output_type": "stream",
     "text": [
      "\r",
      "36it [00:05,  7.02it/s]"
     ]
    },
    {
     "name": "stderr",
     "output_type": "stream",
     "text": [
      "\r",
      "37it [00:05,  7.04it/s]"
     ]
    },
    {
     "name": "stderr",
     "output_type": "stream",
     "text": [
      "\r",
      "38it [00:05,  6.94it/s]"
     ]
    },
    {
     "name": "stderr",
     "output_type": "stream",
     "text": [
      "\r",
      "39it [00:06,  7.00it/s]"
     ]
    },
    {
     "name": "stderr",
     "output_type": "stream",
     "text": [
      "\r",
      "40it [00:06,  6.99it/s]"
     ]
    },
    {
     "name": "stderr",
     "output_type": "stream",
     "text": [
      "\r",
      "41it [00:06,  6.99it/s]"
     ]
    },
    {
     "name": "stderr",
     "output_type": "stream",
     "text": [
      "\r",
      "42it [00:06,  7.04it/s]"
     ]
    },
    {
     "name": "stderr",
     "output_type": "stream",
     "text": [
      "\r",
      "43it [00:06,  7.08it/s]"
     ]
    },
    {
     "name": "stderr",
     "output_type": "stream",
     "text": [
      "\r",
      "44it [00:06,  7.11it/s]"
     ]
    },
    {
     "name": "stderr",
     "output_type": "stream",
     "text": [
      "\r",
      "45it [00:06,  7.13it/s]"
     ]
    },
    {
     "name": "stderr",
     "output_type": "stream",
     "text": [
      "\r",
      "46it [00:07,  6.97it/s]"
     ]
    },
    {
     "name": "stderr",
     "output_type": "stream",
     "text": [
      "\r",
      "47it [00:07,  6.96it/s]"
     ]
    },
    {
     "name": "stderr",
     "output_type": "stream",
     "text": [
      "\r",
      "48it [00:07,  6.89it/s]"
     ]
    },
    {
     "name": "stderr",
     "output_type": "stream",
     "text": [
      "\r",
      "49it [00:07,  6.99it/s]"
     ]
    },
    {
     "name": "stderr",
     "output_type": "stream",
     "text": [
      "\r",
      "50it [00:07,  7.00it/s]"
     ]
    },
    {
     "name": "stderr",
     "output_type": "stream",
     "text": [
      "\r",
      "51it [00:07,  7.06it/s]"
     ]
    },
    {
     "name": "stderr",
     "output_type": "stream",
     "text": [
      "\r",
      "52it [00:07,  7.10it/s]"
     ]
    },
    {
     "name": "stderr",
     "output_type": "stream",
     "text": [
      "\r",
      "53it [00:08,  7.09it/s]"
     ]
    },
    {
     "name": "stderr",
     "output_type": "stream",
     "text": [
      "\r",
      "54it [00:08,  7.12it/s]"
     ]
    },
    {
     "name": "stderr",
     "output_type": "stream",
     "text": [
      "\r",
      "55it [00:08,  7.16it/s]"
     ]
    },
    {
     "name": "stderr",
     "output_type": "stream",
     "text": [
      "\r",
      "56it [00:08,  7.19it/s]"
     ]
    },
    {
     "name": "stderr",
     "output_type": "stream",
     "text": [
      "\r",
      "57it [00:08,  7.21it/s]"
     ]
    },
    {
     "name": "stderr",
     "output_type": "stream",
     "text": [
      "\r",
      "58it [00:08,  7.31it/s]"
     ]
    },
    {
     "name": "stderr",
     "output_type": "stream",
     "text": [
      "\r",
      "59it [00:08,  7.32it/s]"
     ]
    },
    {
     "name": "stderr",
     "output_type": "stream",
     "text": [
      "\r",
      "60it [00:09,  7.44it/s]"
     ]
    },
    {
     "name": "stderr",
     "output_type": "stream",
     "text": [
      "\r",
      "61it [00:09,  7.40it/s]"
     ]
    },
    {
     "name": "stderr",
     "output_type": "stream",
     "text": [
      "\r",
      "62it [00:09,  7.44it/s]"
     ]
    },
    {
     "name": "stderr",
     "output_type": "stream",
     "text": [
      "\r",
      "63it [00:09,  7.35it/s]"
     ]
    },
    {
     "name": "stderr",
     "output_type": "stream",
     "text": [
      "\r",
      "64it [00:09,  7.31it/s]"
     ]
    },
    {
     "name": "stderr",
     "output_type": "stream",
     "text": [
      "\r",
      "65it [00:09,  7.29it/s]"
     ]
    },
    {
     "name": "stderr",
     "output_type": "stream",
     "text": [
      "\r",
      "66it [00:09,  7.34it/s]"
     ]
    },
    {
     "name": "stderr",
     "output_type": "stream",
     "text": [
      "\r",
      "67it [00:10,  7.32it/s]"
     ]
    },
    {
     "name": "stderr",
     "output_type": "stream",
     "text": [
      "\r",
      "68it [00:10,  7.35it/s]"
     ]
    },
    {
     "name": "stderr",
     "output_type": "stream",
     "text": [
      "\r",
      "69it [00:10,  7.31it/s]"
     ]
    },
    {
     "name": "stderr",
     "output_type": "stream",
     "text": [
      "\r",
      "70it [00:10,  7.18it/s]"
     ]
    },
    {
     "name": "stderr",
     "output_type": "stream",
     "text": [
      "\r",
      "71it [00:10,  7.17it/s]"
     ]
    },
    {
     "name": "stderr",
     "output_type": "stream",
     "text": [
      "\r",
      "72it [00:10,  7.16it/s]"
     ]
    },
    {
     "name": "stderr",
     "output_type": "stream",
     "text": [
      "\r",
      "73it [00:10,  7.11it/s]"
     ]
    },
    {
     "name": "stderr",
     "output_type": "stream",
     "text": [
      "\r",
      "74it [00:10,  7.07it/s]"
     ]
    },
    {
     "name": "stderr",
     "output_type": "stream",
     "text": [
      "\r",
      "75it [00:11,  7.00it/s]"
     ]
    },
    {
     "name": "stderr",
     "output_type": "stream",
     "text": [
      "\r",
      "76it [00:11,  6.80it/s]"
     ]
    },
    {
     "name": "stderr",
     "output_type": "stream",
     "text": [
      "\r",
      "77it [00:11,  6.37it/s]"
     ]
    },
    {
     "name": "stderr",
     "output_type": "stream",
     "text": [
      "\r",
      "78it [00:11,  6.34it/s]"
     ]
    },
    {
     "name": "stderr",
     "output_type": "stream",
     "text": [
      "\r",
      "79it [00:11,  5.99it/s]"
     ]
    },
    {
     "name": "stderr",
     "output_type": "stream",
     "text": [
      "\r",
      "80it [00:11,  6.16it/s]"
     ]
    },
    {
     "name": "stderr",
     "output_type": "stream",
     "text": [
      "\r",
      "81it [00:12,  6.33it/s]"
     ]
    },
    {
     "name": "stderr",
     "output_type": "stream",
     "text": [
      "\r",
      "82it [00:12,  6.50it/s]"
     ]
    },
    {
     "name": "stderr",
     "output_type": "stream",
     "text": [
      "\r",
      "83it [00:12,  6.67it/s]"
     ]
    },
    {
     "name": "stderr",
     "output_type": "stream",
     "text": [
      "\r",
      "84it [00:12,  6.72it/s]"
     ]
    },
    {
     "name": "stderr",
     "output_type": "stream",
     "text": [
      "\r",
      "85it [00:12,  6.83it/s]"
     ]
    },
    {
     "name": "stderr",
     "output_type": "stream",
     "text": [
      "\r",
      "86it [00:12,  6.88it/s]"
     ]
    },
    {
     "name": "stderr",
     "output_type": "stream",
     "text": [
      "\r",
      "87it [00:12,  6.96it/s]"
     ]
    },
    {
     "name": "stderr",
     "output_type": "stream",
     "text": [
      "\r",
      "88it [00:13,  6.93it/s]"
     ]
    },
    {
     "name": "stderr",
     "output_type": "stream",
     "text": [
      "\r",
      "89it [00:13,  6.97it/s]"
     ]
    },
    {
     "name": "stderr",
     "output_type": "stream",
     "text": [
      "\r",
      "90it [00:13,  6.95it/s]"
     ]
    },
    {
     "name": "stderr",
     "output_type": "stream",
     "text": [
      "\r",
      "91it [00:13,  6.95it/s]"
     ]
    },
    {
     "name": "stderr",
     "output_type": "stream",
     "text": [
      "\r",
      "92it [00:13,  6.58it/s]"
     ]
    },
    {
     "name": "stderr",
     "output_type": "stream",
     "text": [
      "\r",
      "93it [00:13,  6.43it/s]"
     ]
    },
    {
     "name": "stderr",
     "output_type": "stream",
     "text": [
      "\r",
      "94it [00:14,  6.17it/s]"
     ]
    },
    {
     "name": "stderr",
     "output_type": "stream",
     "text": [
      "\r",
      "95it [00:14,  6.15it/s]"
     ]
    },
    {
     "name": "stderr",
     "output_type": "stream",
     "text": [
      "\r",
      "96it [00:14,  6.00it/s]"
     ]
    },
    {
     "name": "stderr",
     "output_type": "stream",
     "text": [
      "\r",
      "97it [00:14,  6.24it/s]"
     ]
    },
    {
     "name": "stderr",
     "output_type": "stream",
     "text": [
      "\r",
      "98it [00:14,  6.24it/s]"
     ]
    },
    {
     "name": "stderr",
     "output_type": "stream",
     "text": [
      "\r",
      "99it [00:14,  6.34it/s]"
     ]
    },
    {
     "name": "stderr",
     "output_type": "stream",
     "text": [
      "\r",
      "100it [00:15,  6.48it/s]"
     ]
    },
    {
     "name": "stderr",
     "output_type": "stream",
     "text": [
      "\r",
      "101it [00:15,  6.64it/s]"
     ]
    },
    {
     "name": "stderr",
     "output_type": "stream",
     "text": [
      "\r",
      "102it [00:15,  6.76it/s]"
     ]
    },
    {
     "name": "stderr",
     "output_type": "stream",
     "text": [
      "\r",
      "103it [00:15,  6.21it/s]"
     ]
    },
    {
     "name": "stderr",
     "output_type": "stream",
     "text": [
      "\r",
      "104it [00:15,  6.39it/s]"
     ]
    },
    {
     "name": "stderr",
     "output_type": "stream",
     "text": [
      "\r",
      "105it [00:15,  6.65it/s]"
     ]
    },
    {
     "name": "stderr",
     "output_type": "stream",
     "text": [
      "\r",
      "106it [00:15,  6.76it/s]"
     ]
    },
    {
     "name": "stderr",
     "output_type": "stream",
     "text": [
      "\r",
      "107it [00:16,  6.73it/s]"
     ]
    },
    {
     "name": "stderr",
     "output_type": "stream",
     "text": [
      "\r",
      "108it [00:16,  6.87it/s]"
     ]
    },
    {
     "name": "stderr",
     "output_type": "stream",
     "text": [
      "\r",
      "109it [00:16,  6.80it/s]"
     ]
    },
    {
     "name": "stderr",
     "output_type": "stream",
     "text": [
      "\r",
      "110it [00:16,  6.93it/s]"
     ]
    },
    {
     "name": "stderr",
     "output_type": "stream",
     "text": [
      "\r",
      "111it [00:16,  7.01it/s]"
     ]
    },
    {
     "name": "stderr",
     "output_type": "stream",
     "text": [
      "\r",
      "112it [00:16,  6.92it/s]"
     ]
    },
    {
     "name": "stderr",
     "output_type": "stream",
     "text": [
      "\r",
      "113it [00:16,  6.94it/s]"
     ]
    },
    {
     "name": "stderr",
     "output_type": "stream",
     "text": [
      "\r",
      "114it [00:17,  6.96it/s]"
     ]
    },
    {
     "name": "stderr",
     "output_type": "stream",
     "text": [
      "\r",
      "115it [00:17,  7.04it/s]"
     ]
    },
    {
     "name": "stderr",
     "output_type": "stream",
     "text": [
      "\r",
      "116it [00:17,  7.05it/s]"
     ]
    },
    {
     "name": "stderr",
     "output_type": "stream",
     "text": [
      "\r",
      "117it [00:17,  7.08it/s]"
     ]
    },
    {
     "name": "stderr",
     "output_type": "stream",
     "text": [
      "\r",
      "118it [00:17,  7.20it/s]"
     ]
    },
    {
     "name": "stderr",
     "output_type": "stream",
     "text": [
      "\r",
      "118it [00:17,  6.70it/s]"
     ]
    },
    {
     "name": "stderr",
     "output_type": "stream",
     "text": [
      "\n"
     ]
    }
   ],
   "source": [
    "in_token_probs = []\n",
    "latent_token_probs = []\n",
    "out_token_probs = []\n",
    "entropy = []\n",
    "energy = []\n",
    "latents_all = []\n",
    "\n",
    "for idx, d in tqdm(enumerate(dataset)):\n",
    "    logits,latents = get_logits(llama, d['prompt'],llama_lens)\n",
    "    last = logits[:, -1, :].float().softmax(dim=-1).detach().cpu()\n",
    "    latent_token_probs += [last[:, torch.tensor(d['latent_token_id'])].sum(dim=-1)]\n",
    "    out_token_probs += [last[:, torch.tensor(d['out_token_id'])].sum(dim=-1)]\n",
    "    entropy += [compute_entropy(last)]\n",
    "    latents_all += [latents[:, -1, :].float().detach().cpu().clone()]\n",
    "    latents_normalized = latents[:, -1, :].float()\n",
    "    latents_normalized = latents_normalized / (((latents_normalized**2).mean(dim=-1, keepdim=True))**0.5)\n",
    "    latents_normalized /= (latents_normalized.norm(dim=-1, keepdim=True))\n",
    "    norm = ((U_normalized @ latents_normalized.T)**2).mean(dim=0)**0.5\n",
    "    energy += [norm/avgUU]\n",
    "\n",
    "latent_token_probs = torch.stack(latent_token_probs)\n",
    "out_token_probs = torch.stack(out_token_probs)\n",
    "entropy = torch.stack(entropy)\n",
    "energy = torch.stack(energy)\n",
    "latents = torch.stack(latents_all)"
   ]
  },
  {
   "cell_type": "code",
   "execution_count": 19,
   "id": "680ef0b2",
   "metadata": {
    "execution": {
     "iopub.execute_input": "2024-02-23T22:28:24.217299Z",
     "iopub.status.busy": "2024-02-23T22:28:24.216939Z",
     "iopub.status.idle": "2024-02-23T22:28:24.573079Z",
     "shell.execute_reply": "2024-02-23T22:28:24.572583Z"
    },
    "papermill": {
     "duration": 0.372459,
     "end_time": "2024-02-23T22:28:24.573937",
     "exception": false,
     "start_time": "2024-02-23T22:28:24.201478",
     "status": "completed"
    },
    "tags": []
   },
   "outputs": [
    {
     "name": "stderr",
     "output_type": "stream",
     "text": [
      "/mnt/ssd-1/gpaulo/llm-latent-language/utils.py:52: UserWarning: This figure includes Axes that are not compatible with tight_layout, so results might be incorrect.\n",
      "  plt.tight_layout()\n"
     ]
    },
    {
     "data": {
      "image/png": "[encoded data removed]",
      "text/plain": [
       "<Figure size 500x300 with 3 Axes>"
      ]
     },
     "metadata": {},
     "output_type": "display_data"
    }
   ],
   "source": [
    "size2tik = {'7b': 5, '13b': 5, '70b': 10}\n",
    "fig, ax, ax2 = plot_ci_plus_heatmap(latent_token_probs, entropy, latent, color='tab:orange', tik_step=size2tik[model_size], do_colorbar=True, #, do_colorbar=(model_size=='70b'),\n",
    "nums=[.99, 0.18, 0.025, 0.6])\n",
    "plot_ci(ax2, out_token_probs, target_lang, color='tab:blue', do_lines=False)\n",
    "ax2.set_xlabel('layer')\n",
    "ax2.set_ylabel('probability')\n",
    "if model_size == '7b':\n",
    "    ax2.set_xlim(0, out_token_probs.shape[1]+1)\n",
    "else:\n",
    "    ax2.set_xlim(0, round(out_token_probs.shape[1]/10)*10+1)\n",
    "ax2.set_ylim(0, 1)\n",
    "# make xticks start from 1\n",
    "# put legend on the top left\n",
    "ax2.legend(loc='upper left')\n",
    "os.makedirs(f'{out_dir}/translation', exist_ok=True)\n",
    "\n",
    "plt.savefig(f'{out_dir}/translation/{model_size}_{input_lang}_{target_lang}_probas_ent.jpg', dpi=300, bbox_inches='tight')"
   ]
  },
  {
   "cell_type": "code",
   "execution_count": 20,
   "id": "48c50e4a",
   "metadata": {
    "execution": {
     "iopub.execute_input": "2024-02-23T22:28:24.606031Z",
     "iopub.status.busy": "2024-02-23T22:28:24.605861Z",
     "iopub.status.idle": "2024-02-23T22:28:24.757970Z",
     "shell.execute_reply": "2024-02-23T22:28:24.757451Z"
    },
    "papermill": {
     "duration": 0.170861,
     "end_time": "2024-02-23T22:28:24.758845",
     "exception": false,
     "start_time": "2024-02-23T22:28:24.587984",
     "status": "completed"
    },
    "tags": []
   },
   "outputs": [
    {
     "data": {
      "image/png": "[encoded data removed]",
      "text/plain": [
       "<Figure size 500x300 with 1 Axes>"
      ]
     },
     "metadata": {},
     "output_type": "display_data"
    }
   ],
   "source": [
    "size2tik = {'7b': 5, '13b': 5, '70b': 10}\n",
    "\n",
    "fig, ax2 = plt.subplots(figsize=(5,3))\n",
    "plot_ci(ax2, energy, 'energy', color='tab:green', do_lines=True, tik_step=size2tik[model_size])\n",
    "ax2.set_xlabel('layer')\n",
    "ax2.set_ylabel('energy')\n",
    "if model_size == '7b':\n",
    "    ax2.set_xlim(0, out_token_probs.shape[1]+1)\n",
    "else:\n",
    "    ax2.set_xlim(0, round(out_token_probs.shape[1]/10)*10+1)\n",
    "os.makedirs(f'{out_dir}/translation', exist_ok=True)\n",
    "plt.savefig(f'{out_dir}/translation/{model_size}_{input_lang}_{target_lang}_energy.jpg', dpi=300, bbox_inches='tight')"
   ]
  },
  {
   "cell_type": "code",
   "execution_count": null,
   "id": "de0f66f1",
   "metadata": {
    "papermill": {
     "duration": 0.013158,
     "end_time": "2024-02-23T22:28:24.785675",
     "exception": false,
     "start_time": "2024-02-23T22:28:24.772517",
     "status": "completed"
    },
    "tags": []
   },
   "outputs": [],
   "source": []
  }
 ],
 "metadata": {
  "kernelspec": {
   "display_name": "Python 3 (ipykernel)",
   "language": "python",
   "name": "python3"
  },
  "language_info": {
   "codemirror_mode": {
    "name": "ipython",
    "version": 3
   },
   "file_extension": ".py",
   "mimetype": "text/x-python",
   "name": "python",
   "nbconvert_exporter": "python",
   "pygments_lexer": "ipython3",
   "version": "3.11.5"
  },
  "papermill": {
   "default_parameters": {},
   "duration": 50.809487,
   "end_time": "2024-02-23T22:28:25.918212",
   "environment_variables": {},
   "exception": null,
   "input_path": "Translation.ipynb",
   "output_path": "visuals/executed_notebooks/Translation_tuned-chinese_7b_zh_fr.ipynb",
   "parameters": {
    "input_lang": "zh",
    "model_size": "7b",
    "target_lang": "fr",
    "type": "tuned-chinese"
   },
   "start_time": "2024-02-23T22:27:35.108725",
   "version": "2.5.0"
  },
  "widgets": {
   "application/vnd.jupyter.widget-state+json": {
    "state": {
     "0a40fb7123ea426a8adbf841f30b10db": {
      "model_module": "@jupyter-widgets/controls",
      "model_module_version": "2.0.0",
      "model_name": "HBoxModel",
      "state": {
       "_dom_classes": [],
       "_model_module": "@jupyter-widgets/controls",
       "_model_module_version": "2.0.0",
       "_model_name": "HBoxModel",
       "_view_count": null,
       "_view_module": "@jupyter-widgets/controls",
       "_view_module_version": "2.0.0",
       "_view_name": "HBoxView",
       "box_style": "",
       "children": [
        "IPY_MODEL_266302d0f1ee4b01b3d4f2039b4e5eb2",
        "IPY_MODEL_1c646b70665646a2a534ed51ea8eaed0",
        "IPY_MODEL_15b9848b89404ae99f114c8f7f5e3bbc"
       ],
       "layout": "IPY_MODEL_98989e4c6f5446f8b55c27fcba6c86b3",
       "tabbable": null,
       "tooltip": null
      }
     },
     "14c27f867ba54deb81b9705132cf254a": {
      "model_module": "@jupyter-widgets/controls",
      "model_module_version": "2.0.0",
      "model_name": "HTMLStyleModel",
      "state": {
       "_model_module": "@jupyter-widgets/controls",
       "_model_module_version": "2.0.0",
       "_model_name": "HTMLStyleModel",
       "_view_count": null,
       "_view_module": "@jupyter-widgets/base",
       "_view_module_version": "2.0.0",
       "_view_name": "StyleView",
       "background": null,
       "description_width": "",
       "font_size": null,
       "text_color": null
      }
     },
     "15b9848b89404ae99f114c8f7f5e3bbc": {
      "model_module": "@jupyter-widgets/controls",
      "model_module_version": "2.0.0",
      "model_name": "HTMLModel",
      "state": {
       "_dom_classes": [],
       "_model_module": "@jupyter-widgets/controls",
       "_model_module_version": "2.0.0",
       "_model_name": "HTMLModel",
       "_view_count": null,
       "_view_module": "@jupyter-widgets/controls",
       "_view_module_version": "2.0.0",
       "_view_name": "HTMLView",
       "description": "",
       "description_allow_html": false,
       "layout": "IPY_MODEL_a5a777abd8124db1b1c970f01221bd8d",
       "placeholder": "​",
       "style": "IPY_MODEL_14c27f867ba54deb81b9705132cf254a",
       "tabbable": null,
       "tooltip": null,
       "value": " 2/2 [00:05&lt;00:00,  2.46s/it]"
      }
     },
     "1c646b70665646a2a534ed51ea8eaed0": {
      "model_module": "@jupyter-widgets/controls",
      "model_module_version": "2.0.0",
      "model_name": "FloatProgressModel",
      "state": {
       "_dom_classes": [],
       "_model_module": "@jupyter-widgets/controls",
       "_model_module_version": "2.0.0",
       "_model_name": "FloatProgressModel",
       "_view_count": null,
       "_view_module": "@jupyter-widgets/controls",
       "_view_module_version": "2.0.0",
       "_view_name": "ProgressView",
       "bar_style": "success",
       "description": "",
       "description_allow_html": false,
       "layout": "IPY_MODEL_8b5fb007c92b4a518ecd5242b2b1bf8b",
       "max": 2.0,
       "min": 0.0,
       "orientation": "horizontal",
       "style": "IPY_MODEL_205419df605f4b7f8ca7ccd03581a932",
       "tabbable": null,
       "tooltip": null,
       "value": 2.0
      }
     },
     "205419df605f4b7f8ca7ccd03581a932": {
      "model_module": "@jupyter-widgets/controls",
      "model_module_version": "2.0.0",
      "model_name": "ProgressStyleModel",
      "state": {
       "_model_module": "@jupyter-widgets/controls",
       "_model_module_version": "2.0.0",
       "_model_name": "ProgressStyleModel",
       "_view_count": null,
       "_view_module": "@jupyter-widgets/base",
       "_view_module_version": "2.0.0",
       "_view_name": "StyleView",
       "bar_color": null,
       "description_width": ""
      }
     },
     "266302d0f1ee4b01b3d4f2039b4e5eb2": {
      "model_module": "@jupyter-widgets/controls",
      "model_module_version": "2.0.0",
      "model_name": "HTMLModel",
      "state": {
       "_dom_classes": [],
       "_model_module": "@jupyter-widgets/controls",
       "_model_module_version": "2.0.0",
       "_model_name": "HTMLModel",
       "_view_count": null,
       "_view_module": "@jupyter-widgets/controls",
       "_view_module_version": "2.0.0",
       "_view_name": "HTMLView",
       "description": "",
       "description_allow_html": false,
       "layout": "IPY_MODEL_5f8ecffe0d344e8697732ada7b9efd25",
       "placeholder": "​",
       "style": "IPY_MODEL_9b6003a1f7cd4248ac400549a538ea9f",
       "tabbable": null,
       "tooltip": null,
       "value": "Loading checkpoint shards: 100%"
      }
     },
     "5f8ecffe0d344e8697732ada7b9efd25": {
      "model_module": "@jupyter-widgets/base",
      "model_module_version": "2.0.0",
      "model_name": "LayoutModel",
      "state": {
       "_model_module": "@jupyter-widgets/base",
       "_model_module_version": "2.0.0",
       "_model_name": "LayoutModel",
       "_view_count": null,
       "_view_module": "@jupyter-widgets/base",
       "_view_module_version": "2.0.0",
       "_view_name": "LayoutView",
       "align_content": null,
       "align_items": null,
       "align_self": null,
       "border_bottom": null,
       "border_left": null,
       "border_right": null,
       "border_top": null,
       "bottom": null,
       "display": null,
       "flex": null,
       "flex_flow": null,
       "grid_area": null,
       "grid_auto_columns": null,
       "grid_auto_flow": null,
       "grid_auto_rows": null,
       "grid_column": null,
       "grid_gap": null,
       "grid_row": null,
       "grid_template_areas": null,
       "grid_template_columns": null,
       "grid_template_rows": null,
       "height": null,
       "justify_content": null,
       "justify_items": null,
       "left": null,
       "margin": null,
       "max_height": null,
       "max_width": null,
       "min_height": null,
       "min_width": null,
       "object_fit": null,
       "object_position": null,
       "order": null,
       "overflow": null,
       "padding": null,
       "right": null,
       "top": null,
       "visibility": null,
       "width": null
      }
     },
     "8b5fb007c92b4a518ecd5242b2b1bf8b": {
      "model_module": "@jupyter-widgets/base",
      "model_module_version": "2.0.0",
      "model_name": "LayoutModel",
      "state": {
       "_model_module": "@jupyter-widgets/base",
       "_model_module_version": "2.0.0",
       "_model_name": "LayoutModel",
       "_view_count": null,
       "_view_module": "@jupyter-widgets/base",
       "_view_module_version": "2.0.0",
       "_view_name": "LayoutView",
       "align_content": null,
       "align_items": null,
       "align_self": null,
       "border_bottom": null,
       "border_left": null,
       "border_right": null,
       "border_top": null,
       "bottom": null,
       "display": null,
       "flex": null,
       "flex_flow": null,
       "grid_area": null,
       "grid_auto_columns": null,
       "grid_auto_flow": null,
       "grid_auto_rows": null,
       "grid_column": null,
       "grid_gap": null,
       "grid_row": null,
       "grid_template_areas": null,
       "grid_template_columns": null,
       "grid_template_rows": null,
       "height": null,
       "justify_content": null,
       "justify_items": null,
       "left": null,
       "margin": null,
       "max_height": null,
       "max_width": null,
       "min_height": null,
       "min_width": null,
       "object_fit": null,
       "object_position": null,
       "order": null,
       "overflow": null,
       "padding": null,
       "right": null,
       "top": null,
       "visibility": null,
       "width": null
      }
     },
     "98989e4c6f5446f8b55c27fcba6c86b3": {
      "model_module": "@jupyter-widgets/base",
      "model_module_version": "2.0.0",
      "model_name": "LayoutModel",
      "state": {
       "_model_module": "@jupyter-widgets/base",
       "_model_module_version": "2.0.0",
       "_model_name": "LayoutModel",
       "_view_count": null,
       "_view_module": "@jupyter-widgets/base",
       "_view_module_version": "2.0.0",
       "_view_name": "LayoutView",
       "align_content": null,
       "align_items": null,
       "align_self": null,
       "border_bottom": null,
       "border_left": null,
       "border_right": null,
       "border_top": null,
       "bottom": null,
       "display": null,
       "flex": null,
       "flex_flow": null,
       "grid_area": null,
       "grid_auto_columns": null,
       "grid_auto_flow": null,
       "grid_auto_rows": null,
       "grid_column": null,
       "grid_gap": null,
       "grid_row": null,
       "grid_template_areas": null,
       "grid_template_columns": null,
       "grid_template_rows": null,
       "height": null,
       "justify_content": null,
       "justify_items": null,
       "left": null,
       "margin": null,
       "max_height": null,
       "max_width": null,
       "min_height": null,
       "min_width": null,
       "object_fit": null,
       "object_position": null,
       "order": null,
       "overflow": null,
       "padding": null,
       "right": null,
       "top": null,
       "visibility": null,
       "width": null
      }
     },
     "9b6003a1f7cd4248ac400549a538ea9f": {
      "model_module": "@jupyter-widgets/controls",
      "model_module_version": "2.0.0",
      "model_name": "HTMLStyleModel",
      "state": {
       "_model_module": "@jupyter-widgets/controls",
       "_model_module_version": "2.0.0",
       "_model_name": "HTMLStyleModel",
       "_view_count": null,
       "_view_module": "@jupyter-widgets/base",
       "_view_module_version": "2.0.0",
       "_view_name": "StyleView",
       "background": null,
       "description_width": "",
       "font_size": null,
       "text_color": null
      }
     },
     "a5a777abd8124db1b1c970f01221bd8d": {
      "model_module": "@jupyter-widgets/base",
      "model_module_version": "2.0.0",
      "model_name": "LayoutModel",
      "state": {
       "_model_module": "@jupyter-widgets/base",
       "_model_module_version": "2.0.0",
       "_model_name": "LayoutModel",
       "_view_count": null,
       "_view_module": "@jupyter-widgets/base",
       "_view_module_version": "2.0.0",
       "_view_name": "LayoutView",
       "align_content": null,
       "align_items": null,
       "align_self": null,
       "border_bottom": null,
       "border_left": null,
       "border_right": null,
       "border_top": null,
       "bottom": null,
       "display": null,
       "flex": null,
       "flex_flow": null,
       "grid_area": null,
       "grid_auto_columns": null,
       "grid_auto_flow": null,
       "grid_auto_rows": null,
       "grid_column": null,
       "grid_gap": null,
       "grid_row": null,
       "grid_template_areas": null,
       "grid_template_columns": null,
       "grid_template_rows": null,
       "height": null,
       "justify_content": null,
       "justify_items": null,
       "left": null,
       "margin": null,
       "max_height": null,
       "max_width": null,
       "min_height": null,
       "min_width": null,
       "object_fit": null,
       "object_position": null,
       "order": null,
       "overflow": null,
       "padding": null,
       "right": null,
       "top": null,
       "visibility": null,
       "width": null
      }
     }
    },
    "version_major": 2,
    "version_minor": 0
   }
  }
 },
 "nbformat": 4,
 "nbformat_minor": 5
}