{
 "cells": [
  {
   "cell_type": "code",
   "execution_count": 1,
   "id": "9e266eca-b017-461f-9be4-bec02cae9b28",
   "metadata": {
    "execution": {
     "iopub.execute_input": "2024-02-23T22:28:27.388664Z",
     "iopub.status.busy": "2024-02-23T22:28:27.388499Z",
     "iopub.status.idle": "2024-02-23T22:28:27.399970Z",
     "shell.execute_reply": "2024-02-23T22:28:27.399628Z"
    },
    "papermill": {
     "duration": 0.018102,
     "end_time": "2024-02-23T22:28:27.400954",
     "exception": false,
     "start_time": "2024-02-23T22:28:27.382852",
     "status": "completed"
    },
    "tags": []
   },
   "outputs": [],
   "source": [
    "%load_ext autoreload\n",
    "%autoreload 2"
   ]
  },
  {
   "cell_type": "code",
   "execution_count": 2,
   "id": "fae8a7a9-6902-424e-8e66-b107fccb361f",
   "metadata": {
    "execution": {
     "iopub.execute_input": "2024-02-23T22:28:27.411691Z",
     "iopub.status.busy": "2024-02-23T22:28:27.411570Z",
     "iopub.status.idle": "2024-02-23T22:28:30.268496Z",
     "shell.execute_reply": "2024-02-23T22:28:30.267933Z"
    },
    "papermill": {
     "duration": 2.864847,
     "end_time": "2024-02-23T22:28:30.269726",
     "exception": false,
     "start_time": "2024-02-23T22:28:27.404879",
     "status": "completed"
    },
    "tags": []
   },
   "outputs": [],
   "source": [
    "import pandas as pd\n",
    "import sys\n",
    "import os\n",
    "from dataclasses import dataclass\n",
    "import json\n",
    "import numpy as np\n",
    "from matplotlib import pyplot as plt\n",
    "import seaborn as sns\n",
    "import torch\n",
    "import torch.nn as nn\n",
    "from llamawrapper import load_unemb_only, LlamaHelper\n",
    "import seaborn as sns\n",
    "from scipy.stats import bootstrap\n",
    "from utils import plot_ci, plot_ci_plus_heatmap\n",
    "from tqdm import tqdm\n",
    "from transformers import AutoModelForCausalLM, AutoTokenizer\n",
    "# fix random seed\n",
    "seed = 42\n",
    "np.random.seed(seed)\n",
    "torch.manual_seed(seed)\n",
    "sys.path.append('../tuned-lens')\n",
    "from tuned_lens.nn.lenses import TunedLens,LogitLens"
   ]
  },
  {
   "cell_type": "code",
   "execution_count": 3,
   "id": "1fb93987",
   "metadata": {
    "execution": {
     "iopub.execute_input": "2024-02-23T22:28:30.279324Z",
     "iopub.status.busy": "2024-02-23T22:28:30.279053Z",
     "iopub.status.idle": "2024-02-23T22:28:30.305204Z",
     "shell.execute_reply": "2024-02-23T22:28:30.304774Z"
    },
    "papermill": {
     "duration": 0.031318,
     "end_time": "2024-02-23T22:28:30.306141",
     "exception": false,
     "start_time": "2024-02-23T22:28:30.274823",
     "status": "completed"
    },
    "tags": [
     "parameters"
    ]
   },
   "outputs": [],
   "source": [
    "input_lang = 'zh'\n",
    "target_lang = 'fr'\n",
    "model_size = '7b'\n",
    "prefix = \"./data/langs/\"\n",
    "type = 'tuned-chinese'"
   ]
  },
  {
   "cell_type": "code",
   "execution_count": 4,
   "id": "05b2fec6",
   "metadata": {
    "execution": {
     "iopub.execute_input": "2024-02-23T22:28:30.314740Z",
     "iopub.status.busy": "2024-02-23T22:28:30.314584Z",
     "iopub.status.idle": "2024-02-23T22:28:30.336727Z",
     "shell.execute_reply": "2024-02-23T22:28:30.336328Z"
    },
    "papermill": {
     "duration": 0.026939,
     "end_time": "2024-02-23T22:28:30.337651",
     "exception": false,
     "start_time": "2024-02-23T22:28:30.310712",
     "status": "completed"
    },
    "tags": [
     "injected-parameters"
    ]
   },
   "outputs": [],
   "source": [
    "# Parameters\n",
    "model_size = \"7b\"\n",
    "target_lang = \"de\"\n",
    "input_lang = \"zh\"\n",
    "type = \"tuned-chinese\"\n"
   ]
  },
  {
   "cell_type": "code",
   "execution_count": 5,
   "id": "ccb0899b",
   "metadata": {
    "execution": {
     "iopub.execute_input": "2024-02-23T22:28:30.347181Z",
     "iopub.status.busy": "2024-02-23T22:28:30.346905Z",
     "iopub.status.idle": "2024-02-23T22:28:30.371574Z",
     "shell.execute_reply": "2024-02-23T22:28:30.371170Z"
    },
    "papermill": {
     "duration": 0.029876,
     "end_time": "2024-02-23T22:28:30.372478",
     "exception": false,
     "start_time": "2024-02-23T22:28:30.342602",
     "status": "completed"
    },
    "tags": []
   },
   "outputs": [],
   "source": [
    "df_en_input = pd.read_csv(f'{prefix}{input_lang}/clean.csv').reindex()\n",
    "df_en_target = pd.read_csv(f'{prefix}{target_lang}/clean.csv').reindex()"
   ]
  },
  {
   "cell_type": "code",
   "execution_count": 6,
   "id": "33747213",
   "metadata": {
    "execution": {
     "iopub.execute_input": "2024-02-23T22:28:30.382099Z",
     "iopub.status.busy": "2024-02-23T22:28:30.381737Z",
     "iopub.status.idle": "2024-02-23T22:28:36.088253Z",
     "shell.execute_reply": "2024-02-23T22:28:36.087729Z"
    },
    "papermill": {
     "duration": 5.712518,
     "end_time": "2024-02-23T22:28:36.089417",
     "exception": false,
     "start_time": "2024-02-23T22:28:30.376899",
     "status": "completed"
    },
    "tags": []
   },
   "outputs": [
    {
     "data": {
      "application/vnd.jupyter.widget-view+json": {
       "model_id": "ace6f4df50c74f05992f21ccad5f7765",
       "version_major": 2,
       "version_minor": 0
      },
      "text/plain": [
       "Loading checkpoint shards:   0%|          | 0/2 [00:00<?, ?it/s]"
      ]
     },
     "metadata": {},
     "output_type": "display_data"
    }
   ],
   "source": [
    "\n",
    "llama = AutoModelForCausalLM.from_pretrained(  # type: ignore\n",
    "                f\"meta-llama/Llama-2-{model_size}-hf\",\n",
    "                device_map={\"\": \"cuda\"},\n",
    "                revision=\"main\",\n",
    "                torch_dtype=\"auto\",\n",
    "                local_files_only=\"true\",cache_dir=\"/mnt/ssd-1/hf_cache/\"\n",
    "            )\n",
    "    \n",
    "latent=\"en\"\n",
    "if type == 'logit':\n",
    "    llama_lens = LogitLens.from_model(llama).to(\"cuda\")\n",
    "    out_dir = f'./visuals/logit'\n",
    "if type == 'tuned':\n",
    "    llama_lens = TunedLens.from_model_and_pretrained(llama,f\"meta-llama/Llama-2-{model_size}-hf\").to(\"cuda\")\n",
    "    out_dir = f'./visuals/tuned'\n",
    "if type == 'tuned-chinese':\n",
    "    llama_lens = TunedLens.from_model_and_pretrained(llama,\"../tuned-lens/my_lenses/chinese\").to(\"cuda\")\n",
    "    out_dir = f'./visuals/tuned-chinese'\n",
    "    latent = 'zh'\n",
    "    chinese = pd.read_csv(f'{prefix}zh/clean.csv').reindex()\n",
    "tokenizer = AutoTokenizer.from_pretrained(\n",
    "                f\"meta-llama/Llama-2-7b-hf\",local_files_only=\"true\",cache_dir=\"/mnt/ssd-1/hf_cache/\"\n",
    "            )"
   ]
  },
  {
   "cell_type": "code",
   "execution_count": 7,
   "id": "bc45e052",
   "metadata": {
    "execution": {
     "iopub.execute_input": "2024-02-23T22:28:36.098350Z",
     "iopub.status.busy": "2024-02-23T22:28:36.098186Z",
     "iopub.status.idle": "2024-02-23T22:28:37.273435Z",
     "shell.execute_reply": "2024-02-23T22:28:37.272932Z"
    },
    "papermill": {
     "duration": 1.180273,
     "end_time": "2024-02-23T22:28:37.274242",
     "exception": false,
     "start_time": "2024-02-23T22:28:36.093969",
     "status": "completed"
    },
    "tags": []
   },
   "outputs": [
    {
     "name": "stdout",
     "output_type": "stream",
     "text": [
      "Sequential(\n",
      "  (0): LlamaRMSNorm()\n",
      "  (1): Linear(in_features=4096, out_features=32000, bias=False)\n",
      ")\n",
      "U torch.Size([32000, 4096]) weights torch.Size([1, 4096])\n"
     ]
    },
    {
     "name": "stdout",
     "output_type": "stream",
     "text": [
      "0.058621685951948166\n"
     ]
    }
   ],
   "source": [
    "unemb = nn.Sequential(llama.model.norm, llama.lm_head)\n",
    "print(unemb)\n",
    "# prepare for energy plots\n",
    "U = list(unemb[1].parameters())[0].detach().cpu().float()\n",
    "weights = list(unemb[0].parameters())[0].detach().cpu().float()\n",
    "print(f'U {U.shape} weights {weights.unsqueeze(0).shape}')\n",
    "U_weighted = U.clone() \n",
    "#U_weighted = U_weighted / ((U_weighted**2).mean(dim=1, keepdim=True))**0.5\n",
    "U_weighted *= weights.unsqueeze(0)\n",
    "U_normalized = U_weighted / ((U_weighted**2).sum(dim=1, keepdim=True))**0.5\n",
    "v = U.shape[0]\n",
    "TT = U_normalized.T @ U_normalized\n",
    "avgUU = (((U_normalized.T @ U_normalized)**2).sum() / v**2)**0.5\n",
    "print(avgUU.item())"
   ]
  },
  {
   "cell_type": "code",
   "execution_count": 8,
   "id": "5686a8d5",
   "metadata": {
    "execution": {
     "iopub.execute_input": "2024-02-23T22:28:37.283769Z",
     "iopub.status.busy": "2024-02-23T22:28:37.283569Z",
     "iopub.status.idle": "2024-02-23T22:28:38.827707Z",
     "shell.execute_reply": "2024-02-23T22:28:38.827236Z"
    },
    "papermill": {
     "duration": 1.548997,
     "end_time": "2024-02-23T22:28:38.828568",
     "exception": false,
     "start_time": "2024-02-23T22:28:37.279571",
     "status": "completed"
    },
    "tags": []
   },
   "outputs": [
    {
     "name": "stdout",
     "output_type": "stream",
     "text": [
      "for de 57 of 120 are single tokens\n",
      "final length of df_zh_de_zh: 120\n"
     ]
    }
   ],
   "source": [
    "count = 0\n",
    "for idx, word in enumerate(df_en_target['word_translation']):\n",
    "    if word in tokenizer.get_vocab() or '▁'+word in tokenizer.get_vocab():\n",
    "        count += 1\n",
    "\n",
    "print(f'for {target_lang} {count} of {len(df_en_target)} are single tokens')\n",
    "\n",
    "if input_lang == target_lang:\n",
    "    df_en_target_input = df_en_target.copy()\n",
    "    if latent == 'zh':\n",
    "      df_en_target_input = df_en_target.copy()\n",
    "      chinese = chinese.loc[chinese[\"word_original\"].isin(df_en_input[\"word_original\"])]\n",
    "      df_en_target_input= df_en_target_input.loc[df_en_target_input[\"word_original\"].isin(chinese[\"word_original\"])]\n",
    "      chinese.sort_values(by=\"word_original\", inplace=True)\n",
    "      df_en_target_input.sort_values(by=\"word_original\", inplace=True)\n",
    "      chinese.reset_index(drop=True, inplace=True)\n",
    "      df_en_target_input.reset_index(drop=True, inplace=True)\n",
    "      df_en_target_input[\"word_original\"] = chinese[\"word_translation\"]\n",
    "    df_en_target_input.rename(columns={'word_original': latent, \n",
    "                                f'word_translation': target_lang if target_lang != latent else f'{latent}_tgt'}, \n",
    "                                inplace=True)\n",
    "    \n",
    "else:\n",
    "    df_en_target_input = df_en_target.merge(df_en_input, on=['word_original'], suffixes=(f'_{target_lang}', f'_{input_lang}'))\n",
    "    if latent == 'zh':\n",
    "      chinese = chinese.loc[chinese[\"word_original\"].isin(df_en_target_input[\"word_original\"])]\n",
    "      df_en_target_input= df_en_target_input.loc[df_en_target_input[\"word_original\"].isin(chinese[\"word_original\"])]\n",
    "      chinese.sort_values(by=\"word_original\", inplace=True)\n",
    "      df_en_target_input.sort_values(by=\"word_original\", inplace=True)\n",
    "      chinese.reset_index(drop=True, inplace=True)\n",
    "      df_en_target_input.reset_index(drop=True, inplace=True)\n",
    "      df_en_target_input[\"word_original\"] = chinese[\"word_translation\"]\n",
    "\n",
    "    df_en_target_input.rename(columns={'word_original': latent, \n",
    "                                f'word_translation_{target_lang}': target_lang if target_lang != latent else f'{latent}_tgt', \n",
    "                                f'word_translation_{input_lang}': input_lang if input_lang != latent else f'{latent}_in'}, \n",
    "                                inplace=True)\n",
    "# delete all rows where en is contained in de or fr\n",
    "if target_lang != latent:\n",
    "    for i, row in df_en_target_input.iterrows():\n",
    "        if row[latent].lower() in row[target_lang].lower():\n",
    "            df_en_target_input.drop(i, inplace=True)\n",
    "\n",
    "print(f'final length of df_{latent}_{target_lang}_{input_lang}: {len(df_en_target_input)}')"
   ]
  },
  {
   "cell_type": "code",
   "execution_count": 9,
   "id": "f0c0a52d",
   "metadata": {
    "execution": {
     "iopub.execute_input": "2024-02-23T22:28:38.838407Z",
     "iopub.status.busy": "2024-02-23T22:28:38.838246Z",
     "iopub.status.idle": "2024-02-23T22:28:38.872305Z",
     "shell.execute_reply": "2024-02-23T22:28:38.871862Z"
    },
    "papermill": {
     "duration": 0.039089,
     "end_time": "2024-02-23T22:28:38.873177",
     "exception": false,
     "start_time": "2024-02-23T22:28:38.834088",
     "status": "completed"
    },
    "tags": []
   },
   "outputs": [],
   "source": [
    "def token_prefixes(token_str: str):\n",
    "    n = len(token_str)\n",
    "    tokens = [token_str[:i] for i in range(1, n+1)]\n",
    "    return tokens \n",
    "\n",
    "def add_spaces(tokens):\n",
    "    return ['▁' + t for t in tokens] + tokens\n",
    "\n",
    "def capitalizations(tokens):\n",
    "    return list(set(tokens))\n",
    "\n",
    "def unicode_prefix_tokid(zh_char = \"云\", tokenizer=tokenizer):\n",
    "    start = zh_char.encode().__str__()[2:-1].split('\\\\x')[1]\n",
    "    unicode_format = '<0x%s>'\n",
    "    start_key = unicode_format%start.upper()\n",
    "    if start_key in tokenizer.get_vocab():\n",
    "        return tokenizer.get_vocab()[start_key]\n",
    "    return None\n",
    "\n",
    "def process_tokens(token_str: str, tokenizer, lang):\n",
    "    with_prefixes = token_prefixes(token_str)\n",
    "    with_spaces = add_spaces(with_prefixes)\n",
    "    with_capitalizations = capitalizations(with_spaces)\n",
    "    final_tokens = []\n",
    "    for tok in with_capitalizations:\n",
    "        if tok in tokenizer.get_vocab():\n",
    "            final_tokens.append(tokenizer.get_vocab()[tok])\n",
    "    if lang in ['zh', 'ru']:\n",
    "        tokid = unicode_prefix_tokid(token_str, tokenizer)\n",
    "        if tokid is not None:\n",
    "            final_tokens.append(tokid)\n",
    "    return final_tokens"
   ]
  },
  {
   "cell_type": "code",
   "execution_count": 10,
   "id": "faa7bb78",
   "metadata": {
    "execution": {
     "iopub.execute_input": "2024-02-23T22:28:38.886242Z",
     "iopub.status.busy": "2024-02-23T22:28:38.886090Z",
     "iopub.status.idle": "2024-02-23T22:28:38.934034Z",
     "shell.execute_reply": "2024-02-23T22:28:38.932912Z"
    },
    "papermill": {
     "duration": 0.053688,
     "end_time": "2024-02-23T22:28:38.935334",
     "exception": false,
     "start_time": "2024-02-23T22:28:38.881646",
     "status": "completed"
    },
    "tags": []
   },
   "outputs": [],
   "source": [
    "\n",
    "id2voc = {id:voc for voc, id in tokenizer.get_vocab().items()}\n",
    "def get_tokens(token_ids, id2voc=id2voc):\n",
    "    return [id2voc[tokid] for tokid in token_ids]\n",
    "\n",
    "def compute_entropy(probas):\n",
    "    return (-probas*torch.log2(probas)).sum(dim=-1)\n",
    "\n",
    "lang2name = {'fr': 'Français', 'de': 'Deutsch', 'ru': 'Русский', 'en': 'English', 'zh': '中文'}\n",
    "def sample(df, ind, k=5, tokenizer=tokenizer, lang1='fr', lang2='de', lang_latent=latent):\n",
    "    df = df.reset_index(drop=True)\n",
    "    temp = df[df.index!=ind]\n",
    "    sample = pd.concat([temp.sample(k-1), df[df.index==ind]], axis=0)\n",
    "    prompt = \"\"\n",
    "    for idx, (df_idx, row) in enumerate(sample.iterrows()):\n",
    "        if idx < k-1:\n",
    "            prompt += f'{lang2name[lang1]}: \"{row[lang1]}\" - {lang2name[lang2]}: \"{row[lang2]}\"\\n'\n",
    "        else:\n",
    "            prompt += f'{lang2name[lang1]}: \"{row[lang1]}\" - {lang2name[lang2]}: \"'\n",
    "            in_token_str = row[lang1]\n",
    "            out_token_str = row[lang2]\n",
    "            out_token_id = process_tokens(out_token_str, tokenizer, lang2)\n",
    "            latent_token_str = row[lang_latent]\n",
    "            latent_token_id = process_tokens(latent_token_str, tokenizer, latent)\n",
    "            intersection = set(out_token_id).intersection(set(latent_token_id))\n",
    "            if len(out_token_id) == 0 or len(latent_token_id) == 0:\n",
    "                yield None\n",
    "            if lang2 != latent and len(intersection) > 0:\n",
    "                yield None\n",
    "            yield {'prompt': prompt, \n",
    "                'out_token_id': out_token_id, \n",
    "                'out_token_str': out_token_str,\n",
    "                'latent_token_id': latent_token_id, \n",
    "                'latent_token_str': latent_token_str, \n",
    "                'in_token_str': in_token_str}"
   ]
  },
  {
   "cell_type": "code",
   "execution_count": 11,
   "id": "121eec47",
   "metadata": {
    "execution": {
     "iopub.execute_input": "2024-02-23T22:28:38.947750Z",
     "iopub.status.busy": "2024-02-23T22:28:38.947570Z",
     "iopub.status.idle": "2024-02-23T22:28:38.996376Z",
     "shell.execute_reply": "2024-02-23T22:28:38.995923Z"
    },
    "papermill": {
     "duration": 0.055593,
     "end_time": "2024-02-23T22:28:38.997200",
     "exception": false,
     "start_time": "2024-02-23T22:28:38.941607",
     "status": "completed"
    },
    "tags": []
   },
   "outputs": [
    {
     "data": {
      "text/html": [
       "<div>\n",
       "<style scoped>\n",
       "    .dataframe tbody tr th:only-of-type {\n",
       "        vertical-align: middle;\n",
       "    }\n",
       "\n",
       "    .dataframe tbody tr th {\n",
       "        vertical-align: top;\n",
       "    }\n",
       "\n",
       "    .dataframe thead th {\n",
       "        text-align: right;\n",
       "    }\n",
       "</style>\n",
       "<table border=\"1\" class=\"dataframe\">\n",
       "  <thead>\n",
       "    <tr style=\"text-align: right;\">\n",
       "      <th></th>\n",
       "      <th>lang_de</th>\n",
       "      <th>zh</th>\n",
       "      <th>de</th>\n",
       "      <th>blank_prompt_original_de</th>\n",
       "      <th>blank_prompt_translation_de</th>\n",
       "      <th>blank_prompt_translation_masked_de</th>\n",
       "      <th>error</th>\n",
       "      <th>lang_zh</th>\n",
       "      <th>zh_in</th>\n",
       "      <th>blank_prompt_original_zh</th>\n",
       "      <th>blank_prompt_translation_zh</th>\n",
       "      <th>blank_prompt_translation_masked_zh</th>\n",
       "    </tr>\n",
       "  </thead>\n",
       "  <tbody>\n",
       "    <tr>\n",
       "      <th>0</th>\n",
       "      <td>de</td>\n",
       "      <td>试</td>\n",
       "      <td>Versuch</td>\n",
       "      <td>An \"attempt\" is made when trying to achieve so...</td>\n",
       "      <td>Ein \"Versuch\" wird unternommen, wenn man versu...</td>\n",
       "      <td>Ein \"___\" wird unternommen, wenn man versucht,...</td>\n",
       "      <td>no error</td>\n",
       "      <td>zh</td>\n",
       "      <td>试</td>\n",
       "      <td>An \"attempt\" is made when trying to achieve so...</td>\n",
       "      <td>\"试\"是尝试达成某事的行为。答案：\"试\"。</td>\n",
       "      <td>\"_\"是尝试达成某事的行为。答案：\"试\"。</td>\n",
       "    </tr>\n",
       "    <tr>\n",
       "      <th>1</th>\n",
       "      <td>de</td>\n",
       "      <td>包</td>\n",
       "      <td>Tasche</td>\n",
       "      <td>A \"bag\" is used to carry items. Answer: \"bag\".</td>\n",
       "      <td>Eine \"Tasche\" wird zum Tragen von Gegenständen...</td>\n",
       "      <td>Eine \"___\" wird zum Tragen von Gegenständen ve...</td>\n",
       "      <td>no error</td>\n",
       "      <td>zh</td>\n",
       "      <td>包</td>\n",
       "      <td>A \"bag\" is used to carry items. Answer: \"bag\".</td>\n",
       "      <td>\"包\"用来携带物品。答案：\"包\"。</td>\n",
       "      <td>\"_\"用来携带物品。答案：\"包\"。</td>\n",
       "    </tr>\n",
       "    <tr>\n",
       "      <th>2</th>\n",
       "      <td>de</td>\n",
       "      <td>球</td>\n",
       "      <td>Ball</td>\n",
       "      <td>A \"ball\" is used to play sports like soccer an...</td>\n",
       "      <td>Ein \"Ball\" wird für Sportarten wie Fußball und...</td>\n",
       "      <td>Ein \"___\" wird für Sportarten wie Fußball und ...</td>\n",
       "      <td>no error</td>\n",
       "      <td>zh</td>\n",
       "      <td>球</td>\n",
       "      <td>A \"ball\" is used to play sports like soccer an...</td>\n",
       "      <td>\"球\"用来进行足球和篮球等运动。答案：\"球\"。</td>\n",
       "      <td>\"_\"用来进行足球和篮球等运动。答案：\"球\"。</td>\n",
       "    </tr>\n",
       "    <tr>\n",
       "      <th>3</th>\n",
       "      <td>de</td>\n",
       "      <td>美</td>\n",
       "      <td>Schönheit</td>\n",
       "      <td>'\"Beauty\" is a characteristic that provides a ...</td>\n",
       "      <td>Schönheit\" ist eine Eigenschaft, die ein Wahrn...</td>\n",
       "      <td>\"___\" ist eine Eigenschaft, die ein Wahrnehmun...</td>\n",
       "      <td>no error</td>\n",
       "      <td>zh</td>\n",
       "      <td>美</td>\n",
       "      <td>'\"Beauty\" is a characteristic that provides a ...</td>\n",
       "      <td>\"美\"是提供愉悦或满足感知体验的特征。答案：\"美\"。</td>\n",
       "      <td>\"_\"是提供愉悦或满足感知体验的特征。答案：\"美\"。</td>\n",
       "    </tr>\n",
       "    <tr>\n",
       "      <th>4</th>\n",
       "      <td>de</td>\n",
       "      <td>利</td>\n",
       "      <td>Nutzen</td>\n",
       "      <td>A \"benefit\" is something that promotes or enha...</td>\n",
       "      <td>Ein \"Nutzen\" ist etwas, das das Wohlbefinden f...</td>\n",
       "      <td>Ein \"___\" ist etwas, das das Wohlbefinden förd...</td>\n",
       "      <td>no error</td>\n",
       "      <td>zh</td>\n",
       "      <td>利</td>\n",
       "      <td>A \"benefit\" is something that promotes or enha...</td>\n",
       "      <td>\"利\"是促进或增强福祉的东西。答案：\"利\"。</td>\n",
       "      <td>\"_\"是促进或增强福祉的东西。答案：\"利\"。</td>\n",
       "    </tr>\n",
       "    <tr>\n",
       "      <th>...</th>\n",
       "      <td>...</td>\n",
       "      <td>...</td>\n",
       "      <td>...</td>\n",
       "      <td>...</td>\n",
       "      <td>...</td>\n",
       "      <td>...</td>\n",
       "      <td>...</td>\n",
       "      <td>...</td>\n",
       "      <td>...</td>\n",
       "      <td>...</td>\n",
       "      <td>...</td>\n",
       "      <td>...</td>\n",
       "    </tr>\n",
       "    <tr>\n",
       "      <th>115</th>\n",
       "      <td>de</td>\n",
       "      <td>德</td>\n",
       "      <td>Tugend</td>\n",
       "      <td>A \"virtue\" is a quality considered morally goo...</td>\n",
       "      <td>Eine \"Tugend\" ist eine Eigenschaft, die als mo...</td>\n",
       "      <td>Eine \"___\" ist eine Eigenschaft, die als moral...</td>\n",
       "      <td>no error</td>\n",
       "      <td>zh</td>\n",
       "      <td>德</td>\n",
       "      <td>A \"virtue\" is a quality considered morally goo...</td>\n",
       "      <td>\"德\"是人中被视为道德上好或可取的品质。答案：\"德\"。</td>\n",
       "      <td>\"_\"是人中被视为道德上好或可取的品质。答案：\"德\"。</td>\n",
       "    </tr>\n",
       "    <tr>\n",
       "      <th>116</th>\n",
       "      <td>de</td>\n",
       "      <td>水</td>\n",
       "      <td>Wasser</td>\n",
       "      <td>\"A \"water\" is essential for life and is used f...</td>\n",
       "      <td>\"A \"Wasser\" ist lebensnotwendig und wird zum T...</td>\n",
       "      <td>\"A \"___\" ist lebensnotwendig und wird zum Trin...</td>\n",
       "      <td>no error</td>\n",
       "      <td>zh</td>\n",
       "      <td>水</td>\n",
       "      <td>\"A \"water\" is essential for life and is used f...</td>\n",
       "      <td>\"水\"对生命至关重要，用于饮用和清洁。答案：\"水\"。</td>\n",
       "      <td>\"_\"对生命至关重要，用于饮用和清洁。答案：\"水\"。</td>\n",
       "    </tr>\n",
       "    <tr>\n",
       "      <th>117</th>\n",
       "      <td>de</td>\n",
       "      <td>波</td>\n",
       "      <td>Welle</td>\n",
       "      <td>A \"wave\" is a disturbance that transfers energ...</td>\n",
       "      <td>Eine \"Welle\" ist eine Störung, die Energie dur...</td>\n",
       "      <td>Eine \"___\" ist eine Störung, die Energie durch...</td>\n",
       "      <td>no error</td>\n",
       "      <td>zh</td>\n",
       "      <td>波</td>\n",
       "      <td>A \"wave\" is a disturbance that transfers energ...</td>\n",
       "      <td>\"波\"是一种通过物质或空间传递能量的扰动。答案：\"波\"。</td>\n",
       "      <td>\"_\"是一种通过物质或空间传递能量的扰动。答案：\"波\"。</td>\n",
       "    </tr>\n",
       "    <tr>\n",
       "      <th>118</th>\n",
       "      <td>de</td>\n",
       "      <td>木</td>\n",
       "      <td>Holz</td>\n",
       "      <td>A \"wood\" is used to make furniture. Answer: \"w...</td>\n",
       "      <td>Ein \"Holz\" wird für die Herstellung von Möbeln...</td>\n",
       "      <td>Ein \"___\" wird für die Herstellung von Möbeln ...</td>\n",
       "      <td>no error</td>\n",
       "      <td>zh</td>\n",
       "      <td>木</td>\n",
       "      <td>A \"wood\" is used to make furniture. Answer: \"w...</td>\n",
       "      <td>\"木\"用来制作家具。答案：\"木\"。</td>\n",
       "      <td>\"_\"用来制作家具。答案：\"木\"。</td>\n",
       "    </tr>\n",
       "    <tr>\n",
       "      <th>119</th>\n",
       "      <td>de</td>\n",
       "      <td>字</td>\n",
       "      <td>Wort</td>\n",
       "      <td>A \"word\" is a single distinct meaningful eleme...</td>\n",
       "      <td>Ein \"Wort\" ist ein einzelnes bedeutungsvolles ...</td>\n",
       "      <td>Ein \"___\" ist ein einzelnes bedeutungsvolles s...</td>\n",
       "      <td>no error</td>\n",
       "      <td>zh</td>\n",
       "      <td>字</td>\n",
       "      <td>A \"word\" is a single distinct meaningful eleme...</td>\n",
       "      <td>\"字\"是语言中单独的、有意义的元素，与其他字一起（或有时单独）用来构成句子，当书写或打印时，...</td>\n",
       "      <td>\"_\"是语言中单独的、有意义的元素，与其他字一起（或有时单独）用来构成句子，当书写或打印时，...</td>\n",
       "    </tr>\n",
       "  </tbody>\n",
       "</table>\n",
       "<p>120 rows × 12 columns</p>\n",
       "</div>"
      ],
      "text/plain": [
       "    lang_de zh         de                           blank_prompt_original_de  \\\n",
       "0        de  试    Versuch  An \"attempt\" is made when trying to achieve so...   \n",
       "1        de  包     Tasche     A \"bag\" is used to carry items. Answer: \"bag\".   \n",
       "2        de  球       Ball  A \"ball\" is used to play sports like soccer an...   \n",
       "3        de  美  Schönheit  '\"Beauty\" is a characteristic that provides a ...   \n",
       "4        de  利     Nutzen  A \"benefit\" is something that promotes or enha...   \n",
       "..      ... ..        ...                                                ...   \n",
       "115      de  德     Tugend  A \"virtue\" is a quality considered morally goo...   \n",
       "116      de  水     Wasser  \"A \"water\" is essential for life and is used f...   \n",
       "117      de  波      Welle  A \"wave\" is a disturbance that transfers energ...   \n",
       "118      de  木       Holz  A \"wood\" is used to make furniture. Answer: \"w...   \n",
       "119      de  字       Wort  A \"word\" is a single distinct meaningful eleme...   \n",
       "\n",
       "                           blank_prompt_translation_de  \\\n",
       "0    Ein \"Versuch\" wird unternommen, wenn man versu...   \n",
       "1    Eine \"Tasche\" wird zum Tragen von Gegenständen...   \n",
       "2    Ein \"Ball\" wird für Sportarten wie Fußball und...   \n",
       "3    Schönheit\" ist eine Eigenschaft, die ein Wahrn...   \n",
       "4    Ein \"Nutzen\" ist etwas, das das Wohlbefinden f...   \n",
       "..                                                 ...   \n",
       "115  Eine \"Tugend\" ist eine Eigenschaft, die als mo...   \n",
       "116  \"A \"Wasser\" ist lebensnotwendig und wird zum T...   \n",
       "117  Eine \"Welle\" ist eine Störung, die Energie dur...   \n",
       "118  Ein \"Holz\" wird für die Herstellung von Möbeln...   \n",
       "119  Ein \"Wort\" ist ein einzelnes bedeutungsvolles ...   \n",
       "\n",
       "                    blank_prompt_translation_masked_de     error lang_zh  \\\n",
       "0    Ein \"___\" wird unternommen, wenn man versucht,...  no error      zh   \n",
       "1    Eine \"___\" wird zum Tragen von Gegenständen ve...  no error      zh   \n",
       "2    Ein \"___\" wird für Sportarten wie Fußball und ...  no error      zh   \n",
       "3    \"___\" ist eine Eigenschaft, die ein Wahrnehmun...  no error      zh   \n",
       "4    Ein \"___\" ist etwas, das das Wohlbefinden förd...  no error      zh   \n",
       "..                                                 ...       ...     ...   \n",
       "115  Eine \"___\" ist eine Eigenschaft, die als moral...  no error      zh   \n",
       "116  \"A \"___\" ist lebensnotwendig und wird zum Trin...  no error      zh   \n",
       "117  Eine \"___\" ist eine Störung, die Energie durch...  no error      zh   \n",
       "118  Ein \"___\" wird für die Herstellung von Möbeln ...  no error      zh   \n",
       "119  Ein \"___\" ist ein einzelnes bedeutungsvolles s...  no error      zh   \n",
       "\n",
       "    zh_in                           blank_prompt_original_zh  \\\n",
       "0       试  An \"attempt\" is made when trying to achieve so...   \n",
       "1       包     A \"bag\" is used to carry items. Answer: \"bag\".   \n",
       "2       球  A \"ball\" is used to play sports like soccer an...   \n",
       "3       美  '\"Beauty\" is a characteristic that provides a ...   \n",
       "4       利  A \"benefit\" is something that promotes or enha...   \n",
       "..    ...                                                ...   \n",
       "115     德  A \"virtue\" is a quality considered morally goo...   \n",
       "116     水  \"A \"water\" is essential for life and is used f...   \n",
       "117     波  A \"wave\" is a disturbance that transfers energ...   \n",
       "118     木  A \"wood\" is used to make furniture. Answer: \"w...   \n",
       "119     字  A \"word\" is a single distinct meaningful eleme...   \n",
       "\n",
       "                           blank_prompt_translation_zh  \\\n",
       "0                                \"试\"是尝试达成某事的行为。答案：\"试\"。   \n",
       "1                                    \"包\"用来携带物品。答案：\"包\"。   \n",
       "2                              \"球\"用来进行足球和篮球等运动。答案：\"球\"。   \n",
       "3                           \"美\"是提供愉悦或满足感知体验的特征。答案：\"美\"。   \n",
       "4                               \"利\"是促进或增强福祉的东西。答案：\"利\"。   \n",
       "..                                                 ...   \n",
       "115                        \"德\"是人中被视为道德上好或可取的品质。答案：\"德\"。   \n",
       "116                         \"水\"对生命至关重要，用于饮用和清洁。答案：\"水\"。   \n",
       "117                       \"波\"是一种通过物质或空间传递能量的扰动。答案：\"波\"。   \n",
       "118                                  \"木\"用来制作家具。答案：\"木\"。   \n",
       "119  \"字\"是语言中单独的、有意义的元素，与其他字一起（或有时单独）用来构成句子，当书写或打印时，...   \n",
       "\n",
       "                    blank_prompt_translation_masked_zh  \n",
       "0                                \"_\"是尝试达成某事的行为。答案：\"试\"。  \n",
       "1                                    \"_\"用来携带物品。答案：\"包\"。  \n",
       "2                              \"_\"用来进行足球和篮球等运动。答案：\"球\"。  \n",
       "3                           \"_\"是提供愉悦或满足感知体验的特征。答案：\"美\"。  \n",
       "4                               \"_\"是促进或增强福祉的东西。答案：\"利\"。  \n",
       "..                                                 ...  \n",
       "115                        \"_\"是人中被视为道德上好或可取的品质。答案：\"德\"。  \n",
       "116                         \"_\"对生命至关重要，用于饮用和清洁。答案：\"水\"。  \n",
       "117                       \"_\"是一种通过物质或空间传递能量的扰动。答案：\"波\"。  \n",
       "118                                  \"_\"用来制作家具。答案：\"木\"。  \n",
       "119  \"_\"是语言中单独的、有意义的元素，与其他字一起（或有时单独）用来构成句子，当书写或打印时，...  \n",
       "\n",
       "[120 rows x 12 columns]"
      ]
     },
     "execution_count": 11,
     "metadata": {},
     "output_type": "execute_result"
    }
   ],
   "source": [
    "df_en_target_input"
   ]
  },
  {
   "cell_type": "code",
   "execution_count": 12,
   "id": "8037261b",
   "metadata": {
    "execution": {
     "iopub.execute_input": "2024-02-23T22:28:39.006509Z",
     "iopub.status.busy": "2024-02-23T22:28:39.006366Z",
     "iopub.status.idle": "2024-02-23T22:28:39.042566Z",
     "shell.execute_reply": "2024-02-23T22:28:39.042080Z"
    },
    "papermill": {
     "duration": 0.041476,
     "end_time": "2024-02-23T22:28:39.043340",
     "exception": false,
     "start_time": "2024-02-23T22:28:39.001864",
     "status": "completed"
    },
    "tags": []
   },
   "outputs": [
    {
     "data": {
      "text/html": [
       "<div>\n",
       "<style scoped>\n",
       "    .dataframe tbody tr th:only-of-type {\n",
       "        vertical-align: middle;\n",
       "    }\n",
       "\n",
       "    .dataframe tbody tr th {\n",
       "        vertical-align: top;\n",
       "    }\n",
       "\n",
       "    .dataframe thead th {\n",
       "        text-align: right;\n",
       "    }\n",
       "</style>\n",
       "<table border=\"1\" class=\"dataframe\">\n",
       "  <thead>\n",
       "    <tr style=\"text-align: right;\">\n",
       "      <th></th>\n",
       "      <th>lang</th>\n",
       "      <th>word_original</th>\n",
       "      <th>word_translation</th>\n",
       "      <th>blank_prompt_original</th>\n",
       "      <th>blank_prompt_translation</th>\n",
       "      <th>blank_prompt_translation_masked</th>\n",
       "    </tr>\n",
       "  </thead>\n",
       "  <tbody>\n",
       "    <tr>\n",
       "      <th>0</th>\n",
       "      <td>zh</td>\n",
       "      <td>attempt</td>\n",
       "      <td>试</td>\n",
       "      <td>An \"attempt\" is made when trying to achieve so...</td>\n",
       "      <td>\"试\"是尝试达成某事的行为。答案：\"试\"。</td>\n",
       "      <td>\"_\"是尝试达成某事的行为。答案：\"试\"。</td>\n",
       "    </tr>\n",
       "    <tr>\n",
       "      <th>1</th>\n",
       "      <td>zh</td>\n",
       "      <td>bag</td>\n",
       "      <td>包</td>\n",
       "      <td>A \"bag\" is used to carry items. Answer: \"bag\".</td>\n",
       "      <td>\"包\"用来携带物品。答案：\"包\"。</td>\n",
       "      <td>\"_\"用来携带物品。答案：\"包\"。</td>\n",
       "    </tr>\n",
       "    <tr>\n",
       "      <th>2</th>\n",
       "      <td>zh</td>\n",
       "      <td>ball</td>\n",
       "      <td>球</td>\n",
       "      <td>A \"ball\" is used to play sports like soccer an...</td>\n",
       "      <td>\"球\"用来进行足球和篮球等运动。答案：\"球\"。</td>\n",
       "      <td>\"_\"用来进行足球和篮球等运动。答案：\"球\"。</td>\n",
       "    </tr>\n",
       "    <tr>\n",
       "      <th>3</th>\n",
       "      <td>zh</td>\n",
       "      <td>beauty</td>\n",
       "      <td>美</td>\n",
       "      <td>'\"Beauty\" is a characteristic that provides a ...</td>\n",
       "      <td>\"美\"是提供愉悦或满足感知体验的特征。答案：\"美\"。</td>\n",
       "      <td>\"_\"是提供愉悦或满足感知体验的特征。答案：\"美\"。</td>\n",
       "    </tr>\n",
       "    <tr>\n",
       "      <th>4</th>\n",
       "      <td>zh</td>\n",
       "      <td>benefit</td>\n",
       "      <td>利</td>\n",
       "      <td>A \"benefit\" is something that promotes or enha...</td>\n",
       "      <td>\"利\"是促进或增强福祉的东西。答案：\"利\"。</td>\n",
       "      <td>\"_\"是促进或增强福祉的东西。答案：\"利\"。</td>\n",
       "    </tr>\n",
       "    <tr>\n",
       "      <th>...</th>\n",
       "      <td>...</td>\n",
       "      <td>...</td>\n",
       "      <td>...</td>\n",
       "      <td>...</td>\n",
       "      <td>...</td>\n",
       "      <td>...</td>\n",
       "    </tr>\n",
       "    <tr>\n",
       "      <th>115</th>\n",
       "      <td>zh</td>\n",
       "      <td>virtue</td>\n",
       "      <td>德</td>\n",
       "      <td>A \"virtue\" is a quality considered morally goo...</td>\n",
       "      <td>\"德\"是人中被视为道德上好或可取的品质。答案：\"德\"。</td>\n",
       "      <td>\"_\"是人中被视为道德上好或可取的品质。答案：\"德\"。</td>\n",
       "    </tr>\n",
       "    <tr>\n",
       "      <th>116</th>\n",
       "      <td>zh</td>\n",
       "      <td>water</td>\n",
       "      <td>水</td>\n",
       "      <td>\"A \"water\" is essential for life and is used f...</td>\n",
       "      <td>\"水\"对生命至关重要，用于饮用和清洁。答案：\"水\"。</td>\n",
       "      <td>\"_\"对生命至关重要，用于饮用和清洁。答案：\"水\"。</td>\n",
       "    </tr>\n",
       "    <tr>\n",
       "      <th>117</th>\n",
       "      <td>zh</td>\n",
       "      <td>wave</td>\n",
       "      <td>波</td>\n",
       "      <td>A \"wave\" is a disturbance that transfers energ...</td>\n",
       "      <td>\"波\"是一种通过物质或空间传递能量的扰动。答案：\"波\"。</td>\n",
       "      <td>\"_\"是一种通过物质或空间传递能量的扰动。答案：\"波\"。</td>\n",
       "    </tr>\n",
       "    <tr>\n",
       "      <th>118</th>\n",
       "      <td>zh</td>\n",
       "      <td>wood</td>\n",
       "      <td>木</td>\n",
       "      <td>A \"wood\" is used to make furniture. Answer: \"w...</td>\n",
       "      <td>\"木\"用来制作家具。答案：\"木\"。</td>\n",
       "      <td>\"_\"用来制作家具。答案：\"木\"。</td>\n",
       "    </tr>\n",
       "    <tr>\n",
       "      <th>119</th>\n",
       "      <td>zh</td>\n",
       "      <td>word</td>\n",
       "      <td>字</td>\n",
       "      <td>A \"word\" is a single distinct meaningful eleme...</td>\n",
       "      <td>\"字\"是语言中单独的、有意义的元素，与其他字一起（或有时单独）用来构成句子，当书写或打印时，...</td>\n",
       "      <td>\"_\"是语言中单独的、有意义的元素，与其他字一起（或有时单独）用来构成句子，当书写或打印时，...</td>\n",
       "    </tr>\n",
       "  </tbody>\n",
       "</table>\n",
       "<p>120 rows × 6 columns</p>\n",
       "</div>"
      ],
      "text/plain": [
       "    lang word_original word_translation  \\\n",
       "0     zh       attempt                试   \n",
       "1     zh           bag                包   \n",
       "2     zh          ball                球   \n",
       "3     zh        beauty                美   \n",
       "4     zh       benefit                利   \n",
       "..   ...           ...              ...   \n",
       "115   zh        virtue                德   \n",
       "116   zh         water                水   \n",
       "117   zh          wave                波   \n",
       "118   zh          wood                木   \n",
       "119   zh          word                字   \n",
       "\n",
       "                                 blank_prompt_original  \\\n",
       "0    An \"attempt\" is made when trying to achieve so...   \n",
       "1       A \"bag\" is used to carry items. Answer: \"bag\".   \n",
       "2    A \"ball\" is used to play sports like soccer an...   \n",
       "3    '\"Beauty\" is a characteristic that provides a ...   \n",
       "4    A \"benefit\" is something that promotes or enha...   \n",
       "..                                                 ...   \n",
       "115  A \"virtue\" is a quality considered morally goo...   \n",
       "116  \"A \"water\" is essential for life and is used f...   \n",
       "117  A \"wave\" is a disturbance that transfers energ...   \n",
       "118  A \"wood\" is used to make furniture. Answer: \"w...   \n",
       "119  A \"word\" is a single distinct meaningful eleme...   \n",
       "\n",
       "                              blank_prompt_translation  \\\n",
       "0                                \"试\"是尝试达成某事的行为。答案：\"试\"。   \n",
       "1                                    \"包\"用来携带物品。答案：\"包\"。   \n",
       "2                              \"球\"用来进行足球和篮球等运动。答案：\"球\"。   \n",
       "3                           \"美\"是提供愉悦或满足感知体验的特征。答案：\"美\"。   \n",
       "4                               \"利\"是促进或增强福祉的东西。答案：\"利\"。   \n",
       "..                                                 ...   \n",
       "115                        \"德\"是人中被视为道德上好或可取的品质。答案：\"德\"。   \n",
       "116                         \"水\"对生命至关重要，用于饮用和清洁。答案：\"水\"。   \n",
       "117                       \"波\"是一种通过物质或空间传递能量的扰动。答案：\"波\"。   \n",
       "118                                  \"木\"用来制作家具。答案：\"木\"。   \n",
       "119  \"字\"是语言中单独的、有意义的元素，与其他字一起（或有时单独）用来构成句子，当书写或打印时，...   \n",
       "\n",
       "                       blank_prompt_translation_masked  \n",
       "0                                \"_\"是尝试达成某事的行为。答案：\"试\"。  \n",
       "1                                    \"_\"用来携带物品。答案：\"包\"。  \n",
       "2                              \"_\"用来进行足球和篮球等运动。答案：\"球\"。  \n",
       "3                           \"_\"是提供愉悦或满足感知体验的特征。答案：\"美\"。  \n",
       "4                               \"_\"是促进或增强福祉的东西。答案：\"利\"。  \n",
       "..                                                 ...  \n",
       "115                        \"_\"是人中被视为道德上好或可取的品质。答案：\"德\"。  \n",
       "116                         \"_\"对生命至关重要，用于饮用和清洁。答案：\"水\"。  \n",
       "117                       \"_\"是一种通过物质或空间传递能量的扰动。答案：\"波\"。  \n",
       "118                                  \"_\"用来制作家具。答案：\"木\"。  \n",
       "119  \"_\"是语言中单独的、有意义的元素，与其他字一起（或有时单独）用来构成句子，当书写或打印时，...  \n",
       "\n",
       "[120 rows x 6 columns]"
      ]
     },
     "execution_count": 12,
     "metadata": {},
     "output_type": "execute_result"
    }
   ],
   "source": [
    "chinese"
   ]
  },
  {
   "cell_type": "code",
   "execution_count": 13,
   "id": "444dd726",
   "metadata": {
    "execution": {
     "iopub.execute_input": "2024-02-23T22:28:39.052857Z",
     "iopub.status.busy": "2024-02-23T22:28:39.052693Z",
     "iopub.status.idle": "2024-02-23T22:28:39.084943Z",
     "shell.execute_reply": "2024-02-23T22:28:39.084614Z"
    },
    "papermill": {
     "duration": 0.03774,
     "end_time": "2024-02-23T22:28:39.085737",
     "exception": false,
     "start_time": "2024-02-23T22:28:39.047997",
     "status": "completed"
    },
    "tags": []
   },
   "outputs": [
    {
     "data": {
      "text/html": [
       "<div>\n",
       "<style scoped>\n",
       "    .dataframe tbody tr th:only-of-type {\n",
       "        vertical-align: middle;\n",
       "    }\n",
       "\n",
       "    .dataframe tbody tr th {\n",
       "        vertical-align: top;\n",
       "    }\n",
       "\n",
       "    .dataframe thead th {\n",
       "        text-align: right;\n",
       "    }\n",
       "</style>\n",
       "<table border=\"1\" class=\"dataframe\">\n",
       "  <thead>\n",
       "    <tr style=\"text-align: right;\">\n",
       "      <th></th>\n",
       "      <th>lang_de</th>\n",
       "      <th>zh</th>\n",
       "      <th>de</th>\n",
       "      <th>blank_prompt_original_de</th>\n",
       "      <th>blank_prompt_translation_de</th>\n",
       "      <th>blank_prompt_translation_masked_de</th>\n",
       "      <th>error</th>\n",
       "      <th>lang_zh</th>\n",
       "      <th>zh_in</th>\n",
       "      <th>blank_prompt_original_zh</th>\n",
       "      <th>blank_prompt_translation_zh</th>\n",
       "      <th>blank_prompt_translation_masked_zh</th>\n",
       "    </tr>\n",
       "  </thead>\n",
       "  <tbody>\n",
       "    <tr>\n",
       "      <th>0</th>\n",
       "      <td>de</td>\n",
       "      <td>试</td>\n",
       "      <td>Versuch</td>\n",
       "      <td>An \"attempt\" is made when trying to achieve so...</td>\n",
       "      <td>Ein \"Versuch\" wird unternommen, wenn man versu...</td>\n",
       "      <td>Ein \"___\" wird unternommen, wenn man versucht,...</td>\n",
       "      <td>no error</td>\n",
       "      <td>zh</td>\n",
       "      <td>试</td>\n",
       "      <td>An \"attempt\" is made when trying to achieve so...</td>\n",
       "      <td>\"试\"是尝试达成某事的行为。答案：\"试\"。</td>\n",
       "      <td>\"_\"是尝试达成某事的行为。答案：\"试\"。</td>\n",
       "    </tr>\n",
       "    <tr>\n",
       "      <th>1</th>\n",
       "      <td>de</td>\n",
       "      <td>包</td>\n",
       "      <td>Tasche</td>\n",
       "      <td>A \"bag\" is used to carry items. Answer: \"bag\".</td>\n",
       "      <td>Eine \"Tasche\" wird zum Tragen von Gegenständen...</td>\n",
       "      <td>Eine \"___\" wird zum Tragen von Gegenständen ve...</td>\n",
       "      <td>no error</td>\n",
       "      <td>zh</td>\n",
       "      <td>包</td>\n",
       "      <td>A \"bag\" is used to carry items. Answer: \"bag\".</td>\n",
       "      <td>\"包\"用来携带物品。答案：\"包\"。</td>\n",
       "      <td>\"_\"用来携带物品。答案：\"包\"。</td>\n",
       "    </tr>\n",
       "    <tr>\n",
       "      <th>2</th>\n",
       "      <td>de</td>\n",
       "      <td>球</td>\n",
       "      <td>Ball</td>\n",
       "      <td>A \"ball\" is used to play sports like soccer an...</td>\n",
       "      <td>Ein \"Ball\" wird für Sportarten wie Fußball und...</td>\n",
       "      <td>Ein \"___\" wird für Sportarten wie Fußball und ...</td>\n",
       "      <td>no error</td>\n",
       "      <td>zh</td>\n",
       "      <td>球</td>\n",
       "      <td>A \"ball\" is used to play sports like soccer an...</td>\n",
       "      <td>\"球\"用来进行足球和篮球等运动。答案：\"球\"。</td>\n",
       "      <td>\"_\"用来进行足球和篮球等运动。答案：\"球\"。</td>\n",
       "    </tr>\n",
       "    <tr>\n",
       "      <th>3</th>\n",
       "      <td>de</td>\n",
       "      <td>美</td>\n",
       "      <td>Schönheit</td>\n",
       "      <td>'\"Beauty\" is a characteristic that provides a ...</td>\n",
       "      <td>Schönheit\" ist eine Eigenschaft, die ein Wahrn...</td>\n",
       "      <td>\"___\" ist eine Eigenschaft, die ein Wahrnehmun...</td>\n",
       "      <td>no error</td>\n",
       "      <td>zh</td>\n",
       "      <td>美</td>\n",
       "      <td>'\"Beauty\" is a characteristic that provides a ...</td>\n",
       "      <td>\"美\"是提供愉悦或满足感知体验的特征。答案：\"美\"。</td>\n",
       "      <td>\"_\"是提供愉悦或满足感知体验的特征。答案：\"美\"。</td>\n",
       "    </tr>\n",
       "    <tr>\n",
       "      <th>4</th>\n",
       "      <td>de</td>\n",
       "      <td>利</td>\n",
       "      <td>Nutzen</td>\n",
       "      <td>A \"benefit\" is something that promotes or enha...</td>\n",
       "      <td>Ein \"Nutzen\" ist etwas, das das Wohlbefinden f...</td>\n",
       "      <td>Ein \"___\" ist etwas, das das Wohlbefinden förd...</td>\n",
       "      <td>no error</td>\n",
       "      <td>zh</td>\n",
       "      <td>利</td>\n",
       "      <td>A \"benefit\" is something that promotes or enha...</td>\n",
       "      <td>\"利\"是促进或增强福祉的东西。答案：\"利\"。</td>\n",
       "      <td>\"_\"是促进或增强福祉的东西。答案：\"利\"。</td>\n",
       "    </tr>\n",
       "    <tr>\n",
       "      <th>...</th>\n",
       "      <td>...</td>\n",
       "      <td>...</td>\n",
       "      <td>...</td>\n",
       "      <td>...</td>\n",
       "      <td>...</td>\n",
       "      <td>...</td>\n",
       "      <td>...</td>\n",
       "      <td>...</td>\n",
       "      <td>...</td>\n",
       "      <td>...</td>\n",
       "      <td>...</td>\n",
       "      <td>...</td>\n",
       "    </tr>\n",
       "    <tr>\n",
       "      <th>115</th>\n",
       "      <td>de</td>\n",
       "      <td>德</td>\n",
       "      <td>Tugend</td>\n",
       "      <td>A \"virtue\" is a quality considered morally goo...</td>\n",
       "      <td>Eine \"Tugend\" ist eine Eigenschaft, die als mo...</td>\n",
       "      <td>Eine \"___\" ist eine Eigenschaft, die als moral...</td>\n",
       "      <td>no error</td>\n",
       "      <td>zh</td>\n",
       "      <td>德</td>\n",
       "      <td>A \"virtue\" is a quality considered morally goo...</td>\n",
       "      <td>\"德\"是人中被视为道德上好或可取的品质。答案：\"德\"。</td>\n",
       "      <td>\"_\"是人中被视为道德上好或可取的品质。答案：\"德\"。</td>\n",
       "    </tr>\n",
       "    <tr>\n",
       "      <th>116</th>\n",
       "      <td>de</td>\n",
       "      <td>水</td>\n",
       "      <td>Wasser</td>\n",
       "      <td>\"A \"water\" is essential for life and is used f...</td>\n",
       "      <td>\"A \"Wasser\" ist lebensnotwendig und wird zum T...</td>\n",
       "      <td>\"A \"___\" ist lebensnotwendig und wird zum Trin...</td>\n",
       "      <td>no error</td>\n",
       "      <td>zh</td>\n",
       "      <td>水</td>\n",
       "      <td>\"A \"water\" is essential for life and is used f...</td>\n",
       "      <td>\"水\"对生命至关重要，用于饮用和清洁。答案：\"水\"。</td>\n",
       "      <td>\"_\"对生命至关重要，用于饮用和清洁。答案：\"水\"。</td>\n",
       "    </tr>\n",
       "    <tr>\n",
       "      <th>117</th>\n",
       "      <td>de</td>\n",
       "      <td>波</td>\n",
       "      <td>Welle</td>\n",
       "      <td>A \"wave\" is a disturbance that transfers energ...</td>\n",
       "      <td>Eine \"Welle\" ist eine Störung, die Energie dur...</td>\n",
       "      <td>Eine \"___\" ist eine Störung, die Energie durch...</td>\n",
       "      <td>no error</td>\n",
       "      <td>zh</td>\n",
       "      <td>波</td>\n",
       "      <td>A \"wave\" is a disturbance that transfers energ...</td>\n",
       "      <td>\"波\"是一种通过物质或空间传递能量的扰动。答案：\"波\"。</td>\n",
       "      <td>\"_\"是一种通过物质或空间传递能量的扰动。答案：\"波\"。</td>\n",
       "    </tr>\n",
       "    <tr>\n",
       "      <th>118</th>\n",
       "      <td>de</td>\n",
       "      <td>木</td>\n",
       "      <td>Holz</td>\n",
       "      <td>A \"wood\" is used to make furniture. Answer: \"w...</td>\n",
       "      <td>Ein \"Holz\" wird für die Herstellung von Möbeln...</td>\n",
       "      <td>Ein \"___\" wird für die Herstellung von Möbeln ...</td>\n",
       "      <td>no error</td>\n",
       "      <td>zh</td>\n",
       "      <td>木</td>\n",
       "      <td>A \"wood\" is used to make furniture. Answer: \"w...</td>\n",
       "      <td>\"木\"用来制作家具。答案：\"木\"。</td>\n",
       "      <td>\"_\"用来制作家具。答案：\"木\"。</td>\n",
       "    </tr>\n",
       "    <tr>\n",
       "      <th>119</th>\n",
       "      <td>de</td>\n",
       "      <td>字</td>\n",
       "      <td>Wort</td>\n",
       "      <td>A \"word\" is a single distinct meaningful eleme...</td>\n",
       "      <td>Ein \"Wort\" ist ein einzelnes bedeutungsvolles ...</td>\n",
       "      <td>Ein \"___\" ist ein einzelnes bedeutungsvolles s...</td>\n",
       "      <td>no error</td>\n",
       "      <td>zh</td>\n",
       "      <td>字</td>\n",
       "      <td>A \"word\" is a single distinct meaningful eleme...</td>\n",
       "      <td>\"字\"是语言中单独的、有意义的元素，与其他字一起（或有时单独）用来构成句子，当书写或打印时，...</td>\n",
       "      <td>\"_\"是语言中单独的、有意义的元素，与其他字一起（或有时单独）用来构成句子，当书写或打印时，...</td>\n",
       "    </tr>\n",
       "  </tbody>\n",
       "</table>\n",
       "<p>120 rows × 12 columns</p>\n",
       "</div>"
      ],
      "text/plain": [
       "    lang_de zh         de                           blank_prompt_original_de  \\\n",
       "0        de  试    Versuch  An \"attempt\" is made when trying to achieve so...   \n",
       "1        de  包     Tasche     A \"bag\" is used to carry items. Answer: \"bag\".   \n",
       "2        de  球       Ball  A \"ball\" is used to play sports like soccer an...   \n",
       "3        de  美  Schönheit  '\"Beauty\" is a characteristic that provides a ...   \n",
       "4        de  利     Nutzen  A \"benefit\" is something that promotes or enha...   \n",
       "..      ... ..        ...                                                ...   \n",
       "115      de  德     Tugend  A \"virtue\" is a quality considered morally goo...   \n",
       "116      de  水     Wasser  \"A \"water\" is essential for life and is used f...   \n",
       "117      de  波      Welle  A \"wave\" is a disturbance that transfers energ...   \n",
       "118      de  木       Holz  A \"wood\" is used to make furniture. Answer: \"w...   \n",
       "119      de  字       Wort  A \"word\" is a single distinct meaningful eleme...   \n",
       "\n",
       "                           blank_prompt_translation_de  \\\n",
       "0    Ein \"Versuch\" wird unternommen, wenn man versu...   \n",
       "1    Eine \"Tasche\" wird zum Tragen von Gegenständen...   \n",
       "2    Ein \"Ball\" wird für Sportarten wie Fußball und...   \n",
       "3    Schönheit\" ist eine Eigenschaft, die ein Wahrn...   \n",
       "4    Ein \"Nutzen\" ist etwas, das das Wohlbefinden f...   \n",
       "..                                                 ...   \n",
       "115  Eine \"Tugend\" ist eine Eigenschaft, die als mo...   \n",
       "116  \"A \"Wasser\" ist lebensnotwendig und wird zum T...   \n",
       "117  Eine \"Welle\" ist eine Störung, die Energie dur...   \n",
       "118  Ein \"Holz\" wird für die Herstellung von Möbeln...   \n",
       "119  Ein \"Wort\" ist ein einzelnes bedeutungsvolles ...   \n",
       "\n",
       "                    blank_prompt_translation_masked_de     error lang_zh  \\\n",
       "0    Ein \"___\" wird unternommen, wenn man versucht,...  no error      zh   \n",
       "1    Eine \"___\" wird zum Tragen von Gegenständen ve...  no error      zh   \n",
       "2    Ein \"___\" wird für Sportarten wie Fußball und ...  no error      zh   \n",
       "3    \"___\" ist eine Eigenschaft, die ein Wahrnehmun...  no error      zh   \n",
       "4    Ein \"___\" ist etwas, das das Wohlbefinden förd...  no error      zh   \n",
       "..                                                 ...       ...     ...   \n",
       "115  Eine \"___\" ist eine Eigenschaft, die als moral...  no error      zh   \n",
       "116  \"A \"___\" ist lebensnotwendig und wird zum Trin...  no error      zh   \n",
       "117  Eine \"___\" ist eine Störung, die Energie durch...  no error      zh   \n",
       "118  Ein \"___\" wird für die Herstellung von Möbeln ...  no error      zh   \n",
       "119  Ein \"___\" ist ein einzelnes bedeutungsvolles s...  no error      zh   \n",
       "\n",
       "    zh_in                           blank_prompt_original_zh  \\\n",
       "0       试  An \"attempt\" is made when trying to achieve so...   \n",
       "1       包     A \"bag\" is used to carry items. Answer: \"bag\".   \n",
       "2       球  A \"ball\" is used to play sports like soccer an...   \n",
       "3       美  '\"Beauty\" is a characteristic that provides a ...   \n",
       "4       利  A \"benefit\" is something that promotes or enha...   \n",
       "..    ...                                                ...   \n",
       "115     德  A \"virtue\" is a quality considered morally goo...   \n",
       "116     水  \"A \"water\" is essential for life and is used f...   \n",
       "117     波  A \"wave\" is a disturbance that transfers energ...   \n",
       "118     木  A \"wood\" is used to make furniture. Answer: \"w...   \n",
       "119     字  A \"word\" is a single distinct meaningful eleme...   \n",
       "\n",
       "                           blank_prompt_translation_zh  \\\n",
       "0                                \"试\"是尝试达成某事的行为。答案：\"试\"。   \n",
       "1                                    \"包\"用来携带物品。答案：\"包\"。   \n",
       "2                              \"球\"用来进行足球和篮球等运动。答案：\"球\"。   \n",
       "3                           \"美\"是提供愉悦或满足感知体验的特征。答案：\"美\"。   \n",
       "4                               \"利\"是促进或增强福祉的东西。答案：\"利\"。   \n",
       "..                                                 ...   \n",
       "115                        \"德\"是人中被视为道德上好或可取的品质。答案：\"德\"。   \n",
       "116                         \"水\"对生命至关重要，用于饮用和清洁。答案：\"水\"。   \n",
       "117                       \"波\"是一种通过物质或空间传递能量的扰动。答案：\"波\"。   \n",
       "118                                  \"木\"用来制作家具。答案：\"木\"。   \n",
       "119  \"字\"是语言中单独的、有意义的元素，与其他字一起（或有时单独）用来构成句子，当书写或打印时，...   \n",
       "\n",
       "                    blank_prompt_translation_masked_zh  \n",
       "0                                \"_\"是尝试达成某事的行为。答案：\"试\"。  \n",
       "1                                    \"_\"用来携带物品。答案：\"包\"。  \n",
       "2                              \"_\"用来进行足球和篮球等运动。答案：\"球\"。  \n",
       "3                           \"_\"是提供愉悦或满足感知体验的特征。答案：\"美\"。  \n",
       "4                               \"_\"是促进或增强福祉的东西。答案：\"利\"。  \n",
       "..                                                 ...  \n",
       "115                        \"_\"是人中被视为道德上好或可取的品质。答案：\"德\"。  \n",
       "116                         \"_\"对生命至关重要，用于饮用和清洁。答案：\"水\"。  \n",
       "117                       \"_\"是一种通过物质或空间传递能量的扰动。答案：\"波\"。  \n",
       "118                                  \"_\"用来制作家具。答案：\"木\"。  \n",
       "119  \"_\"是语言中单独的、有意义的元素，与其他字一起（或有时单独）用来构成句子，当书写或打印时，...  \n",
       "\n",
       "[120 rows x 12 columns]"
      ]
     },
     "execution_count": 13,
     "metadata": {},
     "output_type": "execute_result"
    }
   ],
   "source": [
    "df_en_target_input"
   ]
  },
  {
   "cell_type": "code",
   "execution_count": 14,
   "id": "500641f5",
   "metadata": {
    "execution": {
     "iopub.execute_input": "2024-02-23T22:28:39.096441Z",
     "iopub.status.busy": "2024-02-23T22:28:39.095894Z",
     "iopub.status.idle": "2024-02-23T22:28:56.179913Z",
     "shell.execute_reply": "2024-02-23T22:28:56.179320Z"
    },
    "papermill": {
     "duration": 17.090002,
     "end_time": "2024-02-23T22:28:56.180757",
     "exception": false,
     "start_time": "2024-02-23T22:28:39.090755",
     "status": "completed"
    },
    "tags": []
   },
   "outputs": [
    {
     "name": "stderr",
     "output_type": "stream",
     "text": [
      "\r",
      "  0%|                                                                                                                                                                                                                       | 0/120 [00:00<?, ?it/s]"
     ]
    },
    {
     "name": "stderr",
     "output_type": "stream",
     "text": [
      "\r",
      "  1%|█▋                                                                                                                                                                                                             | 1/120 [00:00<00:20,  5.82it/s]"
     ]
    },
    {
     "name": "stderr",
     "output_type": "stream",
     "text": [
      "\r",
      "  2%|███▍                                                                                                                                                                                                           | 2/120 [00:00<00:18,  6.55it/s]"
     ]
    },
    {
     "name": "stderr",
     "output_type": "stream",
     "text": [
      "\r",
      "  2%|█████▏                                                                                                                                                                                                         | 3/120 [00:00<00:16,  7.11it/s]"
     ]
    },
    {
     "name": "stderr",
     "output_type": "stream",
     "text": [
      "\r",
      "  3%|██████▉                                                                                                                                                                                                        | 4/120 [00:00<00:18,  6.13it/s]"
     ]
    },
    {
     "name": "stderr",
     "output_type": "stream",
     "text": [
      "\r",
      "  4%|████████▋                                                                                                                                                                                                      | 5/120 [00:00<00:17,  6.57it/s]"
     ]
    },
    {
     "name": "stderr",
     "output_type": "stream",
     "text": [
      "\r",
      "  5%|██████████▎                                                                                                                                                                                                    | 6/120 [00:00<00:16,  6.95it/s]"
     ]
    },
    {
     "name": "stderr",
     "output_type": "stream",
     "text": [
      "\r",
      "  6%|████████████                                                                                                                                                                                                   | 7/120 [00:01<00:16,  7.04it/s]"
     ]
    },
    {
     "name": "stderr",
     "output_type": "stream",
     "text": [
      "\r",
      "  7%|█████████████▊                                                                                                                                                                                                 | 8/120 [00:01<00:15,  7.43it/s]"
     ]
    },
    {
     "name": "stderr",
     "output_type": "stream",
     "text": [
      "\r",
      "  8%|███████████████▌                                                                                                                                                                                               | 9/120 [00:01<00:14,  7.54it/s]"
     ]
    },
    {
     "name": "stderr",
     "output_type": "stream",
     "text": [
      "\r",
      "  8%|█████████████████▏                                                                                                                                                                                            | 10/120 [00:01<00:15,  7.14it/s]"
     ]
    },
    {
     "name": "stderr",
     "output_type": "stream",
     "text": [
      "\r",
      "  9%|██████████████████▉                                                                                                                                                                                           | 11/120 [00:01<00:14,  7.53it/s]"
     ]
    },
    {
     "name": "stderr",
     "output_type": "stream",
     "text": [
      "\r",
      " 10%|████████████████████▌                                                                                                                                                                                         | 12/120 [00:01<00:14,  7.66it/s]"
     ]
    },
    {
     "name": "stderr",
     "output_type": "stream",
     "text": [
      "\r",
      " 11%|██████████████████████▎                                                                                                                                                                                       | 13/120 [00:01<00:14,  7.52it/s]"
     ]
    },
    {
     "name": "stderr",
     "output_type": "stream",
     "text": [
      "\r",
      " 12%|████████████████████████                                                                                                                                                                                      | 14/120 [00:01<00:13,  8.02it/s]"
     ]
    },
    {
     "name": "stderr",
     "output_type": "stream",
     "text": [
      "\r",
      " 12%|█████████████████████████▊                                                                                                                                                                                    | 15/120 [00:02<00:15,  6.78it/s]"
     ]
    },
    {
     "name": "stderr",
     "output_type": "stream",
     "text": [
      "\r",
      " 13%|███████████████████████████▍                                                                                                                                                                                  | 16/120 [00:02<00:15,  6.85it/s]"
     ]
    },
    {
     "name": "stderr",
     "output_type": "stream",
     "text": [
      "\r",
      " 15%|██████████████████████████████▉                                                                                                                                                                               | 18/120 [00:02<00:13,  7.61it/s]"
     ]
    },
    {
     "name": "stderr",
     "output_type": "stream",
     "text": [
      "\r",
      " 16%|████████████████████████████████▌                                                                                                                                                                             | 19/120 [00:02<00:13,  7.51it/s]"
     ]
    },
    {
     "name": "stderr",
     "output_type": "stream",
     "text": [
      "\r",
      " 17%|██████████████████████████████████▎                                                                                                                                                                           | 20/120 [00:02<00:14,  6.91it/s]"
     ]
    },
    {
     "name": "stderr",
     "output_type": "stream",
     "text": [
      "\r",
      " 18%|████████████████████████████████████                                                                                                                                                                          | 21/120 [00:02<00:13,  7.37it/s]"
     ]
    },
    {
     "name": "stderr",
     "output_type": "stream",
     "text": [
      "\r",
      " 18%|█████████████████████████████████████▊                                                                                                                                                                        | 22/120 [00:03<00:12,  7.77it/s]"
     ]
    },
    {
     "name": "stderr",
     "output_type": "stream",
     "text": [
      "\r",
      " 19%|███████████████████████████████████████▍                                                                                                                                                                      | 23/120 [00:03<00:13,  7.33it/s]"
     ]
    },
    {
     "name": "stderr",
     "output_type": "stream",
     "text": [
      "\r",
      " 20%|█████████████████████████████████████████▏                                                                                                                                                                    | 24/120 [00:03<00:12,  7.56it/s]"
     ]
    },
    {
     "name": "stderr",
     "output_type": "stream",
     "text": [
      "\r",
      " 21%|██████████████████████████████████████████▉                                                                                                                                                                   | 25/120 [00:03<00:13,  7.30it/s]"
     ]
    },
    {
     "name": "stderr",
     "output_type": "stream",
     "text": [
      "\r",
      " 22%|████████████████████████████████████████████▋                                                                                                                                                                 | 26/120 [00:03<00:12,  7.72it/s]"
     ]
    },
    {
     "name": "stderr",
     "output_type": "stream",
     "text": [
      "\r",
      " 22%|██████████████████████████████████████████████▎                                                                                                                                                               | 27/120 [00:03<00:11,  7.80it/s]"
     ]
    },
    {
     "name": "stderr",
     "output_type": "stream",
     "text": [
      "\r",
      " 24%|█████████████████████████████████████████████████▊                                                                                                                                                            | 29/120 [00:03<00:10,  8.38it/s]"
     ]
    },
    {
     "name": "stderr",
     "output_type": "stream",
     "text": [
      "\r",
      " 25%|███████████████████████████████████████████████████▌                                                                                                                                                          | 30/120 [00:04<00:11,  7.99it/s]"
     ]
    },
    {
     "name": "stderr",
     "output_type": "stream",
     "text": [
      "\r",
      " 26%|█████████████████████████████████████████████████████▏                                                                                                                                                        | 31/120 [00:04<00:12,  7.39it/s]"
     ]
    },
    {
     "name": "stderr",
     "output_type": "stream",
     "text": [
      "\r",
      " 27%|██████████████████████████████████████████████████████▉                                                                                                                                                       | 32/120 [00:04<00:14,  6.15it/s]"
     ]
    },
    {
     "name": "stderr",
     "output_type": "stream",
     "text": [
      "\r",
      " 28%|████████████████████████████████████████████████████████▋                                                                                                                                                     | 33/120 [00:04<00:13,  6.58it/s]"
     ]
    },
    {
     "name": "stderr",
     "output_type": "stream",
     "text": [
      "\r",
      " 28%|██████████████████████████████████████████████████████████▎                                                                                                                                                   | 34/120 [00:04<00:13,  6.26it/s]"
     ]
    },
    {
     "name": "stderr",
     "output_type": "stream",
     "text": [
      "\r",
      " 29%|████████████████████████████████████████████████████████████                                                                                                                                                  | 35/120 [00:04<00:13,  6.32it/s]"
     ]
    },
    {
     "name": "stderr",
     "output_type": "stream",
     "text": [
      "\r",
      " 30%|█████████████████████████████████████████████████████████████▊                                                                                                                                                | 36/120 [00:05<00:13,  6.40it/s]"
     ]
    },
    {
     "name": "stderr",
     "output_type": "stream",
     "text": [
      "\r",
      " 31%|███████████████████████████████████████████████████████████████▌                                                                                                                                              | 37/120 [00:05<00:11,  7.00it/s]"
     ]
    },
    {
     "name": "stderr",
     "output_type": "stream",
     "text": [
      "\r",
      " 32%|█████████████████████████████████████████████████████████████████▏                                                                                                                                            | 38/120 [00:05<00:11,  7.19it/s]"
     ]
    },
    {
     "name": "stderr",
     "output_type": "stream",
     "text": [
      "\r",
      " 32%|██████████████████████████████████████████████████████████████████▉                                                                                                                                           | 39/120 [00:05<00:10,  7.66it/s]"
     ]
    },
    {
     "name": "stderr",
     "output_type": "stream",
     "text": [
      "\r",
      " 33%|████████████████████████████████████████████████████████████████████▋                                                                                                                                         | 40/120 [00:05<00:10,  7.44it/s]"
     ]
    },
    {
     "name": "stderr",
     "output_type": "stream",
     "text": [
      "\r",
      " 34%|██████████████████████████████████████████████████████████████████████▍                                                                                                                                       | 41/120 [00:05<00:12,  6.32it/s]"
     ]
    },
    {
     "name": "stderr",
     "output_type": "stream",
     "text": [
      "\r",
      " 35%|████████████████████████████████████████████████████████████████████████                                                                                                                                      | 42/120 [00:05<00:11,  6.84it/s]"
     ]
    },
    {
     "name": "stderr",
     "output_type": "stream",
     "text": [
      "\r",
      " 36%|█████████████████████████████████████████████████████████████████████████▊                                                                                                                                    | 43/120 [00:06<00:10,  7.17it/s]"
     ]
    },
    {
     "name": "stderr",
     "output_type": "stream",
     "text": [
      "\r",
      " 37%|███████████████████████████████████████████████████████████████████████████▌                                                                                                                                  | 44/120 [00:06<00:11,  6.78it/s]"
     ]
    },
    {
     "name": "stderr",
     "output_type": "stream",
     "text": [
      "\r",
      " 38%|█████████████████████████████████████████████████████████████████████████████▎                                                                                                                                | 45/120 [00:06<00:12,  5.94it/s]"
     ]
    },
    {
     "name": "stderr",
     "output_type": "stream",
     "text": [
      "\r",
      " 38%|██████████████████████████████████████████████████████████████████████████████▉                                                                                                                               | 46/120 [00:06<00:12,  6.01it/s]"
     ]
    },
    {
     "name": "stderr",
     "output_type": "stream",
     "text": [
      "\r",
      " 39%|████████████████████████████████████████████████████████████████████████████████▋                                                                                                                             | 47/120 [00:06<00:11,  6.50it/s]"
     ]
    },
    {
     "name": "stderr",
     "output_type": "stream",
     "text": [
      "\r",
      " 40%|██████████████████████████████████████████████████████████████████████████████████▍                                                                                                                           | 48/120 [00:06<00:10,  6.90it/s]"
     ]
    },
    {
     "name": "stderr",
     "output_type": "stream",
     "text": [
      "\r",
      " 41%|████████████████████████████████████████████████████████████████████████████████████                                                                                                                          | 49/120 [00:07<00:11,  6.25it/s]"
     ]
    },
    {
     "name": "stderr",
     "output_type": "stream",
     "text": [
      "\r",
      " 42%|█████████████████████████████████████████████████████████████████████████████████████▊                                                                                                                        | 50/120 [00:07<00:11,  6.24it/s]"
     ]
    },
    {
     "name": "stderr",
     "output_type": "stream",
     "text": [
      "\r",
      " 42%|███████████████████████████████████████████████████████████████████████████████████████▌                                                                                                                      | 51/120 [00:07<00:11,  6.22it/s]"
     ]
    },
    {
     "name": "stderr",
     "output_type": "stream",
     "text": [
      "\r",
      " 43%|█████████████████████████████████████████████████████████████████████████████████████████▎                                                                                                                    | 52/120 [00:07<00:10,  6.52it/s]"
     ]
    },
    {
     "name": "stderr",
     "output_type": "stream",
     "text": [
      "\r",
      " 44%|██████████████████████████████████████████████████████████████████████████████████████████▉                                                                                                                   | 53/120 [00:07<00:10,  6.68it/s]"
     ]
    },
    {
     "name": "stderr",
     "output_type": "stream",
     "text": [
      "\r",
      " 45%|████████████████████████████████████████████████████████████████████████████████████████████▋                                                                                                                 | 54/120 [00:07<00:10,  6.33it/s]"
     ]
    },
    {
     "name": "stderr",
     "output_type": "stream",
     "text": [
      "\r",
      " 46%|██████████████████████████████████████████████████████████████████████████████████████████████▍                                                                                                               | 55/120 [00:07<00:09,  6.51it/s]"
     ]
    },
    {
     "name": "stderr",
     "output_type": "stream",
     "text": [
      "\r",
      " 47%|████████████████████████████████████████████████████████████████████████████████████████████████▏                                                                                                             | 56/120 [00:08<00:09,  6.82it/s]"
     ]
    },
    {
     "name": "stderr",
     "output_type": "stream",
     "text": [
      "\r",
      " 48%|█████████████████████████████████████████████████████████████████████████████████████████████████▊                                                                                                            | 57/120 [00:08<00:09,  6.55it/s]"
     ]
    },
    {
     "name": "stderr",
     "output_type": "stream",
     "text": [
      "\r",
      " 48%|███████████████████████████████████████████████████████████████████████████████████████████████████▌                                                                                                          | 58/120 [00:08<00:09,  6.80it/s]"
     ]
    },
    {
     "name": "stderr",
     "output_type": "stream",
     "text": [
      "\r",
      " 49%|█████████████████████████████████████████████████████████████████████████████████████████████████████▎                                                                                                        | 59/120 [00:08<00:08,  7.27it/s]"
     ]
    },
    {
     "name": "stderr",
     "output_type": "stream",
     "text": [
      "\r",
      " 50%|███████████████████████████████████████████████████████████████████████████████████████████████████████                                                                                                       | 60/120 [00:08<00:08,  7.45it/s]"
     ]
    },
    {
     "name": "stderr",
     "output_type": "stream",
     "text": [
      "\r",
      " 51%|████████████████████████████████████████████████████████████████████████████████████████████████████████▋                                                                                                     | 61/120 [00:08<00:07,  7.47it/s]"
     ]
    },
    {
     "name": "stderr",
     "output_type": "stream",
     "text": [
      "\r",
      " 52%|██████████████████████████████████████████████████████████████████████████████████████████████████████████▍                                                                                                   | 62/120 [00:08<00:08,  7.11it/s]"
     ]
    },
    {
     "name": "stderr",
     "output_type": "stream",
     "text": [
      "\r",
      " 52%|████████████████████████████████████████████████████████████████████████████████████████████████████████████▏                                                                                                 | 63/120 [00:09<00:07,  7.40it/s]"
     ]
    },
    {
     "name": "stderr",
     "output_type": "stream",
     "text": [
      "\r",
      " 53%|█████████████████████████████████████████████████████████████████████████████████████████████████████████████▊                                                                                                | 64/120 [00:09<00:07,  7.76it/s]"
     ]
    },
    {
     "name": "stderr",
     "output_type": "stream",
     "text": [
      "\r",
      " 54%|███████████████████████████████████████████████████████████████████████████████████████████████████████████████▌                                                                                              | 65/120 [00:09<00:07,  7.73it/s]"
     ]
    },
    {
     "name": "stderr",
     "output_type": "stream",
     "text": [
      "\r",
      " 55%|█████████████████████████████████████████████████████████████████████████████████████████████████████████████████▎                                                                                            | 66/120 [00:09<00:07,  7.26it/s]"
     ]
    },
    {
     "name": "stderr",
     "output_type": "stream",
     "text": [
      "\r",
      " 56%|███████████████████████████████████████████████████████████████████████████████████████████████████████████████████                                                                                           | 67/120 [00:09<00:06,  7.71it/s]"
     ]
    },
    {
     "name": "stderr",
     "output_type": "stream",
     "text": [
      "\r",
      " 57%|████████████████████████████████████████████████████████████████████████████████████████████████████████████████████▋                                                                                         | 68/120 [00:09<00:06,  7.90it/s]"
     ]
    },
    {
     "name": "stderr",
     "output_type": "stream",
     "text": [
      "\r",
      " 57%|██████████████████████████████████████████████████████████████████████████████████████████████████████████████████████▍                                                                                       | 69/120 [00:09<00:07,  7.08it/s]"
     ]
    },
    {
     "name": "stderr",
     "output_type": "stream",
     "text": [
      "\r",
      " 58%|████████████████████████████████████████████████████████████████████████████████████████████████████████████████████████▏                                                                                     | 70/120 [00:10<00:07,  6.42it/s]"
     ]
    },
    {
     "name": "stderr",
     "output_type": "stream",
     "text": [
      "\r",
      " 59%|█████████████████████████████████████████████████████████████████████████████████████████████████████████████████████████▉                                                                                    | 71/120 [00:10<00:07,  6.86it/s]"
     ]
    },
    {
     "name": "stderr",
     "output_type": "stream",
     "text": [
      "\r",
      " 60%|███████████████████████████████████████████████████████████████████████████████████████████████████████████████████████████▌                                                                                  | 72/120 [00:10<00:06,  7.21it/s]"
     ]
    },
    {
     "name": "stderr",
     "output_type": "stream",
     "text": [
      "\r",
      " 61%|█████████████████████████████████████████████████████████████████████████████████████████████████████████████████████████████▎                                                                                | 73/120 [00:10<00:06,  7.16it/s]"
     ]
    },
    {
     "name": "stderr",
     "output_type": "stream",
     "text": [
      "\r",
      " 62%|███████████████████████████████████████████████████████████████████████████████████████████████████████████████████████████████                                                                               | 74/120 [00:10<00:06,  6.59it/s]"
     ]
    },
    {
     "name": "stderr",
     "output_type": "stream",
     "text": [
      "\r",
      " 62%|████████████████████████████████████████████████████████████████████████████████████████████████████████████████████████████████▊                                                                             | 75/120 [00:10<00:06,  7.18it/s]"
     ]
    },
    {
     "name": "stderr",
     "output_type": "stream",
     "text": [
      "\r",
      " 63%|██████████████████████████████████████████████████████████████████████████████████████████████████████████████████████████████████▍                                                                           | 76/120 [00:10<00:05,  7.66it/s]"
     ]
    },
    {
     "name": "stderr",
     "output_type": "stream",
     "text": [
      "\r",
      " 64%|████████████████████████████████████████████████████████████████████████████████████████████████████████████████████████████████████▏                                                                         | 77/120 [00:10<00:05,  7.25it/s]"
     ]
    },
    {
     "name": "stderr",
     "output_type": "stream",
     "text": [
      "\r",
      " 65%|█████████████████████████████████████████████████████████████████████████████████████████████████████████████████████████████████████▉                                                                        | 78/120 [00:11<00:05,  7.50it/s]"
     ]
    },
    {
     "name": "stderr",
     "output_type": "stream",
     "text": [
      "\r",
      " 66%|███████████████████████████████████████████████████████████████████████████████████████████████████████████████████████████████████████▌                                                                      | 79/120 [00:11<00:05,  7.56it/s]"
     ]
    },
    {
     "name": "stderr",
     "output_type": "stream",
     "text": [
      "\r",
      " 67%|█████████████████████████████████████████████████████████████████████████████████████████████████████████████████████████████████████████▎                                                                    | 80/120 [00:11<00:05,  7.10it/s]"
     ]
    },
    {
     "name": "stderr",
     "output_type": "stream",
     "text": [
      "\r",
      " 68%|███████████████████████████████████████████████████████████████████████████████████████████████████████████████████████████████████████████                                                                   | 81/120 [00:11<00:05,  7.60it/s]"
     ]
    },
    {
     "name": "stderr",
     "output_type": "stream",
     "text": [
      "\r",
      " 68%|████████████████████████████████████████████████████████████████████████████████████████████████████████████████████████████████████████████▊                                                                 | 82/120 [00:11<00:04,  7.74it/s]"
     ]
    },
    {
     "name": "stderr",
     "output_type": "stream",
     "text": [
      "\r",
      " 69%|██████████████████████████████████████████████████████████████████████████████████████████████████████████████████████████████████████████████▍                                                               | 83/120 [00:11<00:05,  6.87it/s]"
     ]
    },
    {
     "name": "stderr",
     "output_type": "stream",
     "text": [
      "\r",
      " 70%|████████████████████████████████████████████████████████████████████████████████████████████████████████████████████████████████████████████████▏                                                             | 84/120 [00:11<00:05,  6.82it/s]"
     ]
    },
    {
     "name": "stderr",
     "output_type": "stream",
     "text": [
      "\r",
      " 71%|█████████████████████████████████████████████████████████████████████████████████████████████████████████████████████████████████████████████████▉                                                            | 85/120 [00:12<00:05,  6.28it/s]"
     ]
    },
    {
     "name": "stderr",
     "output_type": "stream",
     "text": [
      "\r",
      " 72%|███████████████████████████████████████████████████████████████████████████████████████████████████████████████████████████████████████████████████▋                                                          | 86/120 [00:12<00:05,  6.47it/s]"
     ]
    },
    {
     "name": "stderr",
     "output_type": "stream",
     "text": [
      "\r",
      " 72%|█████████████████████████████████████████████████████████████████████████████████████████████████████████████████████████████████████████████████████▎                                                        | 87/120 [00:12<00:05,  6.44it/s]"
     ]
    },
    {
     "name": "stderr",
     "output_type": "stream",
     "text": [
      "\r",
      " 73%|███████████████████████████████████████████████████████████████████████████████████████████████████████████████████████████████████████████████████████                                                       | 88/120 [00:12<00:04,  6.76it/s]"
     ]
    },
    {
     "name": "stderr",
     "output_type": "stream",
     "text": [
      "\r",
      " 74%|████████████████████████████████████████████████████████████████████████████████████████████████████████████████████████████████████████████████████████▊                                                     | 89/120 [00:12<00:04,  7.12it/s]"
     ]
    },
    {
     "name": "stderr",
     "output_type": "stream",
     "text": [
      "\r",
      " 75%|██████████████████████████████████████████████████████████████████████████████████████████████████████████████████████████████████████████████████████████▌                                                   | 90/120 [00:12<00:04,  6.96it/s]"
     ]
    },
    {
     "name": "stderr",
     "output_type": "stream",
     "text": [
      "\r",
      " 76%|████████████████████████████████████████████████████████████████████████████████████████████████████████████████████████████████████████████████████████████▏                                                 | 91/120 [00:12<00:04,  7.12it/s]"
     ]
    },
    {
     "name": "stderr",
     "output_type": "stream",
     "text": [
      "\r",
      " 77%|█████████████████████████████████████████████████████████████████████████████████████████████████████████████████████████████████████████████████████████████▉                                                | 92/120 [00:13<00:03,  7.40it/s]"
     ]
    },
    {
     "name": "stderr",
     "output_type": "stream",
     "text": [
      "\r",
      " 78%|███████████████████████████████████████████████████████████████████████████████████████████████████████████████████████████████████████████████████████████████▋                                              | 93/120 [00:13<00:04,  5.77it/s]"
     ]
    },
    {
     "name": "stderr",
     "output_type": "stream",
     "text": [
      "\r",
      " 78%|█████████████████████████████████████████████████████████████████████████████████████████████████████████████████████████████████████████████████████████████████▎                                            | 94/120 [00:13<00:04,  6.17it/s]"
     ]
    },
    {
     "name": "stderr",
     "output_type": "stream",
     "text": [
      "\r",
      " 79%|███████████████████████████████████████████████████████████████████████████████████████████████████████████████████████████████████████████████████████████████████                                           | 95/120 [00:13<00:03,  6.33it/s]"
     ]
    },
    {
     "name": "stderr",
     "output_type": "stream",
     "text": [
      "\r",
      " 80%|████████████████████████████████████████████████████████████████████████████████████████████████████████████████████████████████████████████████████████████████████▊                                         | 96/120 [00:13<00:03,  6.46it/s]"
     ]
    },
    {
     "name": "stderr",
     "output_type": "stream",
     "text": [
      "\r",
      " 81%|██████████████████████████████████████████████████████████████████████████████████████████████████████████████████████████████████████████████████████████████████████▌                                       | 97/120 [00:13<00:03,  6.38it/s]"
     ]
    },
    {
     "name": "stderr",
     "output_type": "stream",
     "text": [
      "\r",
      " 82%|████████████████████████████████████████████████████████████████████████████████████████████████████████████████████████████████████████████████████████████████████████▏                                     | 98/120 [00:14<00:03,  6.33it/s]"
     ]
    },
    {
     "name": "stderr",
     "output_type": "stream",
     "text": [
      "\r",
      " 82%|█████████████████████████████████████████████████████████████████████████████████████████████████████████████████████████████████████████████████████████████████████████▉                                    | 99/120 [00:14<00:03,  6.07it/s]"
     ]
    },
    {
     "name": "stderr",
     "output_type": "stream",
     "text": [
      "\r",
      " 83%|██████████████████████████████████████████████████████████████████████████████████████████████████████████████████████████████████████████████████████████████████████████▊                                  | 100/120 [00:14<00:03,  6.26it/s]"
     ]
    },
    {
     "name": "stderr",
     "output_type": "stream",
     "text": [
      "\r",
      " 84%|████████████████████████████████████████████████████████████████████████████████████████████████████████████████████████████████████████████████████████████████████████████▌                                | 101/120 [00:14<00:02,  6.65it/s]"
     ]
    },
    {
     "name": "stderr",
     "output_type": "stream",
     "text": [
      "\r",
      " 85%|██████████████████████████████████████████████████████████████████████████████████████████████████████████████████████████████████████████████████████████████████████████████▎                              | 102/120 [00:14<00:02,  6.44it/s]"
     ]
    },
    {
     "name": "stderr",
     "output_type": "stream",
     "text": [
      "\r",
      " 86%|███████████████████████████████████████████████████████████████████████████████████████████████████████████████████████████████████████████████████████████████████████████████▉                             | 103/120 [00:14<00:02,  6.70it/s]"
     ]
    },
    {
     "name": "stderr",
     "output_type": "stream",
     "text": [
      "\r",
      " 88%|███████████████████████████████████████████████████████████████████████████████████████████████████████████████████████████████████████████████████████████████████████████████████▍                         | 105/120 [00:15<00:01,  7.81it/s]"
     ]
    },
    {
     "name": "stderr",
     "output_type": "stream",
     "text": [
      "\r",
      " 88%|█████████████████████████████████████████████████████████████████████████████████████████████████████████████████████████████████████████████████████████████████████████████████████                        | 106/120 [00:15<00:01,  7.44it/s]"
     ]
    },
    {
     "name": "stderr",
     "output_type": "stream",
     "text": [
      "\r",
      " 89%|██████████████████████████████████████████████████████████████████████████████████████████████████████████████████████████████████████████████████████████████████████████████████████▊                      | 107/120 [00:15<00:01,  7.61it/s]"
     ]
    },
    {
     "name": "stderr",
     "output_type": "stream",
     "text": [
      "\r",
      " 90%|████████████████████████████████████████████████████████████████████████████████████████████████████████████████████████████████████████████████████████████████████████████████████████▌                    | 108/120 [00:15<00:01,  7.17it/s]"
     ]
    },
    {
     "name": "stderr",
     "output_type": "stream",
     "text": [
      "\r",
      " 91%|██████████████████████████████████████████████████████████████████████████████████████████████████████████████████████████████████████████████████████████████████████████████████████████▏                  | 109/120 [00:15<00:01,  7.52it/s]"
     ]
    },
    {
     "name": "stderr",
     "output_type": "stream",
     "text": [
      "\r",
      " 92%|███████████████████████████████████████████████████████████████████████████████████████████████████████████████████████████████████████████████████████████████████████████████████████████▉                 | 110/120 [00:15<00:01,  7.80it/s]"
     ]
    },
    {
     "name": "stderr",
     "output_type": "stream",
     "text": [
      "\r",
      " 92%|█████████████████████████████████████████████████████████████████████████████████████████████████████████████████████████████████████████████████████████████████████████████████████████████▋               | 111/120 [00:15<00:01,  7.77it/s]"
     ]
    },
    {
     "name": "stderr",
     "output_type": "stream",
     "text": [
      "\r",
      " 93%|███████████████████████████████████████████████████████████████████████████████████████████████████████████████████████████████████████████████████████████████████████████████████████████████▎             | 112/120 [00:15<00:01,  7.87it/s]"
     ]
    },
    {
     "name": "stderr",
     "output_type": "stream",
     "text": [
      "\r",
      " 95%|██████████████████████████████████████████████████████████████████████████████████████████████████████████████████████████████████████████████████████████████████████████████████████████████████▊          | 114/120 [00:16<00:00,  7.66it/s]"
     ]
    },
    {
     "name": "stderr",
     "output_type": "stream",
     "text": [
      "\r",
      " 96%|████████████████████████████████████████████████████████████████████████████████████████████████████████████████████████████████████████████████████████████████████████████████████████████████████▍        | 115/120 [00:16<00:00,  7.78it/s]"
     ]
    },
    {
     "name": "stderr",
     "output_type": "stream",
     "text": [
      "\r",
      " 97%|██████████████████████████████████████████████████████████████████████████████████████████████████████████████████████████████████████████████████████████████████████████████████████████████████████▏      | 116/120 [00:16<00:00,  7.67it/s]"
     ]
    },
    {
     "name": "stderr",
     "output_type": "stream",
     "text": [
      "\r",
      " 98%|███████████████████████████████████████████████████████████████████████████████████████████████████████████████████████████████████████████████████████████████████████████████████████████████████████▉     | 117/120 [00:16<00:00,  7.39it/s]"
     ]
    },
    {
     "name": "stderr",
     "output_type": "stream",
     "text": [
      "\r",
      " 98%|█████████████████████████████████████████████████████████████████████████████████████████████████████████████████████████████████████████████████████████████████████████████████████████████████████████▌   | 118/120 [00:16<00:00,  7.20it/s]"
     ]
    },
    {
     "name": "stderr",
     "output_type": "stream",
     "text": [
      "\r",
      " 99%|███████████████████████████████████████████████████████████████████████████████████████████████████████████████████████████████████████████████████████████████████████████████████████████████████████████▎ | 119/120 [00:16<00:00,  7.45it/s]"
     ]
    },
    {
     "name": "stderr",
     "output_type": "stream",
     "text": [
      "\r",
      "100%|█████████████████████████████████████████████████████████████████████████████████████████████████████████████████████████████████████████████████████████████████████████████████████████████████████████████| 120/120 [00:17<00:00,  7.74it/s]"
     ]
    },
    {
     "name": "stderr",
     "output_type": "stream",
     "text": [
      "\r",
      "100%|█████████████████████████████████████████████████████████████████████████████████████████████████████████████████████████████████████████████████████████████████████████████████████████████████████████████| 120/120 [00:17<00:00,  7.04it/s]"
     ]
    },
    {
     "name": "stderr",
     "output_type": "stream",
     "text": [
      "\n"
     ]
    }
   ],
   "source": [
    "dataset = []\n",
    "for ind in tqdm(range(len(df_en_target_input))):\n",
    "    d = next(sample(df_en_target_input, ind, lang1=input_lang, lang2=target_lang))\n",
    "    if d is None:\n",
    "        continue\n",
    "    dataset.append(d)"
   ]
  },
  {
   "cell_type": "code",
   "execution_count": 15,
   "id": "d786ab1b",
   "metadata": {
    "execution": {
     "iopub.execute_input": "2024-02-23T22:28:56.200408Z",
     "iopub.status.busy": "2024-02-23T22:28:56.200215Z",
     "iopub.status.idle": "2024-02-23T22:28:56.254351Z",
     "shell.execute_reply": "2024-02-23T22:28:56.254000Z"
    },
    "papermill": {
     "duration": 0.064303,
     "end_time": "2024-02-23T22:28:56.255213",
     "exception": false,
     "start_time": "2024-02-23T22:28:56.190910",
     "status": "completed"
    },
    "tags": []
   },
   "outputs": [],
   "source": [
    "df = pd.DataFrame(dataset)\n",
    "os.makedirs(f'{out_dir}/translation', exist_ok=True)\n",
    "df.to_csv(f'{out_dir}/translation/{model_size}_{input_lang}_{target_lang}_dataset.csv', index=False)"
   ]
  },
  {
   "cell_type": "code",
   "execution_count": 16,
   "id": "00e12355",
   "metadata": {
    "execution": {
     "iopub.execute_input": "2024-02-23T22:28:56.272642Z",
     "iopub.status.busy": "2024-02-23T22:28:56.272414Z",
     "iopub.status.idle": "2024-02-23T22:28:56.301110Z",
     "shell.execute_reply": "2024-02-23T22:28:56.300804Z"
    },
    "papermill": {
     "duration": 0.038181,
     "end_time": "2024-02-23T22:28:56.301859",
     "exception": false,
     "start_time": "2024-02-23T22:28:56.263678",
     "status": "completed"
    },
    "tags": []
   },
   "outputs": [
    {
     "data": {
      "text/plain": [
       "'中文: \"山\" - Deutsch: \"Berg\"\\n中文: \"南\" - Deutsch: \"Süden\"\\n中文: \"书\" - Deutsch: \"Buch\"\\n中文: \"种\" - Deutsch: \"Art\"\\n中文: \"试\" - Deutsch: \"'"
      ]
     },
     "execution_count": 16,
     "metadata": {},
     "output_type": "execute_result"
    }
   ],
   "source": [
    "df[\"prompt\"][0]"
   ]
  },
  {
   "cell_type": "code",
   "execution_count": 17,
   "id": "94fa55b7",
   "metadata": {
    "execution": {
     "iopub.execute_input": "2024-02-23T22:28:56.319390Z",
     "iopub.status.busy": "2024-02-23T22:28:56.319125Z",
     "iopub.status.idle": "2024-02-23T22:28:56.347145Z",
     "shell.execute_reply": "2024-02-23T22:28:56.346835Z"
    },
    "papermill": {
     "duration": 0.037589,
     "end_time": "2024-02-23T22:28:56.348016",
     "exception": false,
     "start_time": "2024-02-23T22:28:56.310427",
     "status": "completed"
    },
    "tags": []
   },
   "outputs": [],
   "source": [
    "def get_logits(model, prompt,lens):\n",
    "    inputs = tokenizer(prompt, return_tensors=\"pt\").to('cuda')\n",
    "    output = llama(inputs.input_ids, output_hidden_states=True)\n",
    "    hidden_states = output.hidden_states[:-1]\n",
    "    final_lps = output.logits.log_softmax(dim=-1)\n",
    "    tensors=[]\n",
    "    for i in range(len(model.model.layers)):\n",
    "        h = hidden_states[i].squeeze(0)\n",
    "        tensors+=[lens(h, idx=i).detach().cpu()]\n",
    "    tensors= torch.stack(tensors)  \n",
    "    hidden_states = torch.stack(hidden_states).squeeze(1).detach().cpu()\n",
    "    return tensors,hidden_states\n",
    "        "
   ]
  },
  {
   "cell_type": "code",
   "execution_count": 18,
   "id": "25241c49",
   "metadata": {
    "execution": {
     "iopub.execute_input": "2024-02-23T22:28:56.365538Z",
     "iopub.status.busy": "2024-02-23T22:28:56.365304Z",
     "iopub.status.idle": "2024-02-23T22:29:14.641485Z",
     "shell.execute_reply": "2024-02-23T22:29:14.640727Z"
    },
    "papermill": {
     "duration": 18.285959,
     "end_time": "2024-02-23T22:29:14.642494",
     "exception": false,
     "start_time": "2024-02-23T22:28:56.356535",
     "status": "completed"
    },
    "tags": []
   },
   "outputs": [
    {
     "name": "stderr",
     "output_type": "stream",
     "text": [
      "\r",
      "0it [00:00, ?it/s]"
     ]
    },
    {
     "name": "stderr",
     "output_type": "stream",
     "text": [
      "\r",
      "1it [00:00,  1.20it/s]"
     ]
    },
    {
     "name": "stderr",
     "output_type": "stream",
     "text": [
      "\r",
      "2it [00:01,  2.23it/s]"
     ]
    },
    {
     "name": "stderr",
     "output_type": "stream",
     "text": [
      "\r",
      "3it [00:01,  3.12it/s]"
     ]
    },
    {
     "name": "stderr",
     "output_type": "stream",
     "text": [
      "\r",
      "4it [00:01,  3.90it/s]"
     ]
    },
    {
     "name": "stderr",
     "output_type": "stream",
     "text": [
      "\r",
      "5it [00:01,  4.38it/s]"
     ]
    },
    {
     "name": "stderr",
     "output_type": "stream",
     "text": [
      "\r",
      "6it [00:01,  4.93it/s]"
     ]
    },
    {
     "name": "stderr",
     "output_type": "stream",
     "text": [
      "\r",
      "7it [00:01,  5.26it/s]"
     ]
    },
    {
     "name": "stderr",
     "output_type": "stream",
     "text": [
      "\r",
      "8it [00:02,  5.47it/s]"
     ]
    },
    {
     "name": "stderr",
     "output_type": "stream",
     "text": [
      "\r",
      "9it [00:02,  5.68it/s]"
     ]
    },
    {
     "name": "stderr",
     "output_type": "stream",
     "text": [
      "\r",
      "10it [00:02,  5.86it/s]"
     ]
    },
    {
     "name": "stderr",
     "output_type": "stream",
     "text": [
      "\r",
      "11it [00:02,  6.01it/s]"
     ]
    },
    {
     "name": "stderr",
     "output_type": "stream",
     "text": [
      "\r",
      "12it [00:02,  5.98it/s]"
     ]
    },
    {
     "name": "stderr",
     "output_type": "stream",
     "text": [
      "\r",
      "13it [00:02,  6.13it/s]"
     ]
    },
    {
     "name": "stderr",
     "output_type": "stream",
     "text": [
      "\r",
      "14it [00:02,  6.22it/s]"
     ]
    },
    {
     "name": "stderr",
     "output_type": "stream",
     "text": [
      "\r",
      "15it [00:03,  6.31it/s]"
     ]
    },
    {
     "name": "stderr",
     "output_type": "stream",
     "text": [
      "\r",
      "16it [00:03,  6.31it/s]"
     ]
    },
    {
     "name": "stderr",
     "output_type": "stream",
     "text": [
      "\r",
      "17it [00:03,  6.38it/s]"
     ]
    },
    {
     "name": "stderr",
     "output_type": "stream",
     "text": [
      "\r",
      "18it [00:03,  6.38it/s]"
     ]
    },
    {
     "name": "stderr",
     "output_type": "stream",
     "text": [
      "\r",
      "19it [00:03,  6.44it/s]"
     ]
    },
    {
     "name": "stderr",
     "output_type": "stream",
     "text": [
      "\r",
      "20it [00:03,  6.50it/s]"
     ]
    },
    {
     "name": "stderr",
     "output_type": "stream",
     "text": [
      "\r",
      "21it [00:04,  6.50it/s]"
     ]
    },
    {
     "name": "stderr",
     "output_type": "stream",
     "text": [
      "\r",
      "22it [00:04,  6.41it/s]"
     ]
    },
    {
     "name": "stderr",
     "output_type": "stream",
     "text": [
      "\r",
      "23it [00:04,  6.43it/s]"
     ]
    },
    {
     "name": "stderr",
     "output_type": "stream",
     "text": [
      "\r",
      "24it [00:04,  6.38it/s]"
     ]
    },
    {
     "name": "stderr",
     "output_type": "stream",
     "text": [
      "\r",
      "25it [00:04,  6.43it/s]"
     ]
    },
    {
     "name": "stderr",
     "output_type": "stream",
     "text": [
      "\r",
      "26it [00:04,  6.43it/s]"
     ]
    },
    {
     "name": "stderr",
     "output_type": "stream",
     "text": [
      "\r",
      "27it [00:04,  6.55it/s]"
     ]
    },
    {
     "name": "stderr",
     "output_type": "stream",
     "text": [
      "\r",
      "28it [00:05,  6.76it/s]"
     ]
    },
    {
     "name": "stderr",
     "output_type": "stream",
     "text": [
      "\r",
      "29it [00:05,  6.87it/s]"
     ]
    },
    {
     "name": "stderr",
     "output_type": "stream",
     "text": [
      "\r",
      "30it [00:05,  6.94it/s]"
     ]
    },
    {
     "name": "stderr",
     "output_type": "stream",
     "text": [
      "\r",
      "31it [00:05,  6.85it/s]"
     ]
    },
    {
     "name": "stderr",
     "output_type": "stream",
     "text": [
      "\r",
      "32it [00:05,  6.81it/s]"
     ]
    },
    {
     "name": "stderr",
     "output_type": "stream",
     "text": [
      "\r",
      "33it [00:05,  6.80it/s]"
     ]
    },
    {
     "name": "stderr",
     "output_type": "stream",
     "text": [
      "\r",
      "34it [00:05,  6.85it/s]"
     ]
    },
    {
     "name": "stderr",
     "output_type": "stream",
     "text": [
      "\r",
      "35it [00:06,  6.91it/s]"
     ]
    },
    {
     "name": "stderr",
     "output_type": "stream",
     "text": [
      "\r",
      "36it [00:06,  7.03it/s]"
     ]
    },
    {
     "name": "stderr",
     "output_type": "stream",
     "text": [
      "\r",
      "37it [00:06,  6.61it/s]"
     ]
    },
    {
     "name": "stderr",
     "output_type": "stream",
     "text": [
      "\r",
      "38it [00:06,  6.67it/s]"
     ]
    },
    {
     "name": "stderr",
     "output_type": "stream",
     "text": [
      "\r",
      "39it [00:06,  6.79it/s]"
     ]
    },
    {
     "name": "stderr",
     "output_type": "stream",
     "text": [
      "\r",
      "40it [00:06,  6.78it/s]"
     ]
    },
    {
     "name": "stderr",
     "output_type": "stream",
     "text": [
      "\r",
      "41it [00:07,  6.83it/s]"
     ]
    },
    {
     "name": "stderr",
     "output_type": "stream",
     "text": [
      "\r",
      "42it [00:07,  6.99it/s]"
     ]
    },
    {
     "name": "stderr",
     "output_type": "stream",
     "text": [
      "\r",
      "43it [00:07,  7.00it/s]"
     ]
    },
    {
     "name": "stderr",
     "output_type": "stream",
     "text": [
      "\r",
      "44it [00:07,  7.26it/s]"
     ]
    },
    {
     "name": "stderr",
     "output_type": "stream",
     "text": [
      "\r",
      "45it [00:07,  7.12it/s]"
     ]
    },
    {
     "name": "stderr",
     "output_type": "stream",
     "text": [
      "\r",
      "46it [00:07,  7.22it/s]"
     ]
    },
    {
     "name": "stderr",
     "output_type": "stream",
     "text": [
      "\r",
      "47it [00:07,  6.94it/s]"
     ]
    },
    {
     "name": "stderr",
     "output_type": "stream",
     "text": [
      "\r",
      "48it [00:07,  7.02it/s]"
     ]
    },
    {
     "name": "stderr",
     "output_type": "stream",
     "text": [
      "\r",
      "49it [00:08,  6.89it/s]"
     ]
    },
    {
     "name": "stderr",
     "output_type": "stream",
     "text": [
      "\r",
      "50it [00:08,  5.93it/s]"
     ]
    },
    {
     "name": "stderr",
     "output_type": "stream",
     "text": [
      "\r",
      "51it [00:08,  5.40it/s]"
     ]
    },
    {
     "name": "stderr",
     "output_type": "stream",
     "text": [
      "\r",
      "52it [00:08,  5.58it/s]"
     ]
    },
    {
     "name": "stderr",
     "output_type": "stream",
     "text": [
      "\r",
      "53it [00:08,  5.94it/s]"
     ]
    },
    {
     "name": "stderr",
     "output_type": "stream",
     "text": [
      "\r",
      "54it [00:09,  6.34it/s]"
     ]
    },
    {
     "name": "stderr",
     "output_type": "stream",
     "text": [
      "\r",
      "55it [00:09,  6.62it/s]"
     ]
    },
    {
     "name": "stderr",
     "output_type": "stream",
     "text": [
      "\r",
      "56it [00:09,  7.12it/s]"
     ]
    },
    {
     "name": "stderr",
     "output_type": "stream",
     "text": [
      "\r",
      "57it [00:09,  7.54it/s]"
     ]
    },
    {
     "name": "stderr",
     "output_type": "stream",
     "text": [
      "\r",
      "58it [00:09,  7.83it/s]"
     ]
    },
    {
     "name": "stderr",
     "output_type": "stream",
     "text": [
      "\r",
      "59it [00:09,  7.98it/s]"
     ]
    },
    {
     "name": "stderr",
     "output_type": "stream",
     "text": [
      "\r",
      "60it [00:09,  8.11it/s]"
     ]
    },
    {
     "name": "stderr",
     "output_type": "stream",
     "text": [
      "\r",
      "61it [00:09,  8.28it/s]"
     ]
    },
    {
     "name": "stderr",
     "output_type": "stream",
     "text": [
      "\r",
      "62it [00:09,  8.43it/s]"
     ]
    },
    {
     "name": "stderr",
     "output_type": "stream",
     "text": [
      "\r",
      "63it [00:10,  8.41it/s]"
     ]
    },
    {
     "name": "stderr",
     "output_type": "stream",
     "text": [
      "\r",
      "64it [00:10,  8.53it/s]"
     ]
    },
    {
     "name": "stderr",
     "output_type": "stream",
     "text": [
      "\r",
      "65it [00:10,  8.42it/s]"
     ]
    },
    {
     "name": "stderr",
     "output_type": "stream",
     "text": [
      "\r",
      "66it [00:10,  8.41it/s]"
     ]
    },
    {
     "name": "stderr",
     "output_type": "stream",
     "text": [
      "\r",
      "67it [00:10,  8.49it/s]"
     ]
    },
    {
     "name": "stderr",
     "output_type": "stream",
     "text": [
      "\r",
      "68it [00:10,  8.59it/s]"
     ]
    },
    {
     "name": "stderr",
     "output_type": "stream",
     "text": [
      "\r",
      "69it [00:10,  8.62it/s]"
     ]
    },
    {
     "name": "stderr",
     "output_type": "stream",
     "text": [
      "\r",
      "70it [00:10,  8.53it/s]"
     ]
    },
    {
     "name": "stderr",
     "output_type": "stream",
     "text": [
      "\r",
      "71it [00:11,  8.49it/s]"
     ]
    },
    {
     "name": "stderr",
     "output_type": "stream",
     "text": [
      "\r",
      "72it [00:11,  7.57it/s]"
     ]
    },
    {
     "name": "stderr",
     "output_type": "stream",
     "text": [
      "\r",
      "73it [00:11,  7.43it/s]"
     ]
    },
    {
     "name": "stderr",
     "output_type": "stream",
     "text": [
      "\r",
      "74it [00:11,  7.20it/s]"
     ]
    },
    {
     "name": "stderr",
     "output_type": "stream",
     "text": [
      "\r",
      "75it [00:11,  7.14it/s]"
     ]
    },
    {
     "name": "stderr",
     "output_type": "stream",
     "text": [
      "\r",
      "76it [00:11,  7.30it/s]"
     ]
    },
    {
     "name": "stderr",
     "output_type": "stream",
     "text": [
      "\r",
      "77it [00:11,  7.22it/s]"
     ]
    },
    {
     "name": "stderr",
     "output_type": "stream",
     "text": [
      "\r",
      "78it [00:12,  7.25it/s]"
     ]
    },
    {
     "name": "stderr",
     "output_type": "stream",
     "text": [
      "\r",
      "79it [00:12,  7.28it/s]"
     ]
    },
    {
     "name": "stderr",
     "output_type": "stream",
     "text": [
      "\r",
      "80it [00:12,  7.31it/s]"
     ]
    },
    {
     "name": "stderr",
     "output_type": "stream",
     "text": [
      "\r",
      "81it [00:12,  7.15it/s]"
     ]
    },
    {
     "name": "stderr",
     "output_type": "stream",
     "text": [
      "\r",
      "82it [00:12,  7.16it/s]"
     ]
    },
    {
     "name": "stderr",
     "output_type": "stream",
     "text": [
      "\r",
      "83it [00:12,  7.11it/s]"
     ]
    },
    {
     "name": "stderr",
     "output_type": "stream",
     "text": [
      "\r",
      "84it [00:12,  6.83it/s]"
     ]
    },
    {
     "name": "stderr",
     "output_type": "stream",
     "text": [
      "\r",
      "85it [00:13,  6.88it/s]"
     ]
    },
    {
     "name": "stderr",
     "output_type": "stream",
     "text": [
      "\r",
      "86it [00:13,  6.91it/s]"
     ]
    },
    {
     "name": "stderr",
     "output_type": "stream",
     "text": [
      "\r",
      "87it [00:13,  6.89it/s]"
     ]
    },
    {
     "name": "stderr",
     "output_type": "stream",
     "text": [
      "\r",
      "88it [00:13,  6.84it/s]"
     ]
    },
    {
     "name": "stderr",
     "output_type": "stream",
     "text": [
      "\r",
      "89it [00:13,  6.83it/s]"
     ]
    },
    {
     "name": "stderr",
     "output_type": "stream",
     "text": [
      "\r",
      "90it [00:13,  6.86it/s]"
     ]
    },
    {
     "name": "stderr",
     "output_type": "stream",
     "text": [
      "\r",
      "91it [00:13,  6.94it/s]"
     ]
    },
    {
     "name": "stderr",
     "output_type": "stream",
     "text": [
      "\r",
      "92it [00:14,  7.01it/s]"
     ]
    },
    {
     "name": "stderr",
     "output_type": "stream",
     "text": [
      "\r",
      "93it [00:14,  6.85it/s]"
     ]
    },
    {
     "name": "stderr",
     "output_type": "stream",
     "text": [
      "\r",
      "94it [00:14,  6.95it/s]"
     ]
    },
    {
     "name": "stderr",
     "output_type": "stream",
     "text": [
      "\r",
      "95it [00:14,  6.93it/s]"
     ]
    },
    {
     "name": "stderr",
     "output_type": "stream",
     "text": [
      "\r",
      "96it [00:14,  6.76it/s]"
     ]
    },
    {
     "name": "stderr",
     "output_type": "stream",
     "text": [
      "\r",
      "97it [00:14,  6.99it/s]"
     ]
    },
    {
     "name": "stderr",
     "output_type": "stream",
     "text": [
      "\r",
      "98it [00:14,  7.20it/s]"
     ]
    },
    {
     "name": "stderr",
     "output_type": "stream",
     "text": [
      "\r",
      "99it [00:15,  7.24it/s]"
     ]
    },
    {
     "name": "stderr",
     "output_type": "stream",
     "text": [
      "\r",
      "100it [00:15,  6.88it/s]"
     ]
    },
    {
     "name": "stderr",
     "output_type": "stream",
     "text": [
      "\r",
      "101it [00:15,  6.71it/s]"
     ]
    },
    {
     "name": "stderr",
     "output_type": "stream",
     "text": [
      "\r",
      "102it [00:15,  6.67it/s]"
     ]
    },
    {
     "name": "stderr",
     "output_type": "stream",
     "text": [
      "\r",
      "103it [00:15,  6.62it/s]"
     ]
    },
    {
     "name": "stderr",
     "output_type": "stream",
     "text": [
      "\r",
      "104it [00:15,  6.55it/s]"
     ]
    },
    {
     "name": "stderr",
     "output_type": "stream",
     "text": [
      "\r",
      "105it [00:15,  6.52it/s]"
     ]
    },
    {
     "name": "stderr",
     "output_type": "stream",
     "text": [
      "\r",
      "106it [00:16,  6.49it/s]"
     ]
    },
    {
     "name": "stderr",
     "output_type": "stream",
     "text": [
      "\r",
      "107it [00:16,  6.52it/s]"
     ]
    },
    {
     "name": "stderr",
     "output_type": "stream",
     "text": [
      "\r",
      "108it [00:16,  6.53it/s]"
     ]
    },
    {
     "name": "stderr",
     "output_type": "stream",
     "text": [
      "\r",
      "109it [00:16,  6.64it/s]"
     ]
    },
    {
     "name": "stderr",
     "output_type": "stream",
     "text": [
      "\r",
      "110it [00:16,  6.70it/s]"
     ]
    },
    {
     "name": "stderr",
     "output_type": "stream",
     "text": [
      "\r",
      "111it [00:16,  6.74it/s]"
     ]
    },
    {
     "name": "stderr",
     "output_type": "stream",
     "text": [
      "\r",
      "112it [00:17,  6.53it/s]"
     ]
    },
    {
     "name": "stderr",
     "output_type": "stream",
     "text": [
      "\r",
      "113it [00:17,  6.78it/s]"
     ]
    },
    {
     "name": "stderr",
     "output_type": "stream",
     "text": [
      "\r",
      "114it [00:17,  6.87it/s]"
     ]
    },
    {
     "name": "stderr",
     "output_type": "stream",
     "text": [
      "\r",
      "115it [00:17,  6.87it/s]"
     ]
    },
    {
     "name": "stderr",
     "output_type": "stream",
     "text": [
      "\r",
      "116it [00:17,  6.89it/s]"
     ]
    },
    {
     "name": "stderr",
     "output_type": "stream",
     "text": [
      "\r",
      "117it [00:17,  6.82it/s]"
     ]
    },
    {
     "name": "stderr",
     "output_type": "stream",
     "text": [
      "\r",
      "118it [00:17,  6.89it/s]"
     ]
    },
    {
     "name": "stderr",
     "output_type": "stream",
     "text": [
      "\r",
      "119it [00:18,  6.69it/s]"
     ]
    },
    {
     "name": "stderr",
     "output_type": "stream",
     "text": [
      "\r",
      "120it [00:18,  6.34it/s]"
     ]
    },
    {
     "name": "stderr",
     "output_type": "stream",
     "text": [
      "\r",
      "120it [00:18,  6.58it/s]"
     ]
    },
    {
     "name": "stderr",
     "output_type": "stream",
     "text": [
      "\n"
     ]
    }
   ],
   "source": [
    "in_token_probs = []\n",
    "latent_token_probs = []\n",
    "out_token_probs = []\n",
    "entropy = []\n",
    "energy = []\n",
    "latents_all = []\n",
    "\n",
    "for idx, d in tqdm(enumerate(dataset)):\n",
    "    logits,latents = get_logits(llama, d['prompt'],llama_lens)\n",
    "    last = logits[:, -1, :].float().softmax(dim=-1).detach().cpu()\n",
    "    latent_token_probs += [last[:, torch.tensor(d['latent_token_id'])].sum(dim=-1)]\n",
    "    out_token_probs += [last[:, torch.tensor(d['out_token_id'])].sum(dim=-1)]\n",
    "    entropy += [compute_entropy(last)]\n",
    "    latents_all += [latents[:, -1, :].float().detach().cpu().clone()]\n",
    "    latents_normalized = latents[:, -1, :].float()\n",
    "    latents_normalized = latents_normalized / (((latents_normalized**2).mean(dim=-1, keepdim=True))**0.5)\n",
    "    latents_normalized /= (latents_normalized.norm(dim=-1, keepdim=True))\n",
    "    norm = ((U_normalized @ latents_normalized.T)**2).mean(dim=0)**0.5\n",
    "    energy += [norm/avgUU]\n",
    "\n",
    "latent_token_probs = torch.stack(latent_token_probs)\n",
    "out_token_probs = torch.stack(out_token_probs)\n",
    "entropy = torch.stack(entropy)\n",
    "energy = torch.stack(energy)\n",
    "latents = torch.stack(latents_all)"
   ]
  },
  {
   "cell_type": "code",
   "execution_count": 19,
   "id": "680ef0b2",
   "metadata": {
    "execution": {
     "iopub.execute_input": "2024-02-23T22:29:14.670695Z",
     "iopub.status.busy": "2024-02-23T22:29:14.670470Z",
     "iopub.status.idle": "2024-02-23T22:29:15.020426Z",
     "shell.execute_reply": "2024-02-23T22:29:15.020011Z"
    },
    "papermill": {
     "duration": 0.36428,
     "end_time": "2024-02-23T22:29:15.021254",
     "exception": false,
     "start_time": "2024-02-23T22:29:14.656974",
     "status": "completed"
    },
    "tags": []
   },
   "outputs": [
    {
     "name": "stderr",
     "output_type": "stream",
     "text": [
      "/mnt/ssd-1/gpaulo/llm-latent-language/utils.py:52: UserWarning: This figure includes Axes that are not compatible with tight_layout, so results might be incorrect.\n",
      "  plt.tight_layout()\n"
     ]
    },
    {
     "data": {
      "image/png": "[encoded data removed]",
      "text/plain": [
       "<Figure size 500x300 with 3 Axes>"
      ]
     },
     "metadata": {},
     "output_type": "display_data"
    }
   ],
   "source": [
    "size2tik = {'7b': 5, '13b': 5, '70b': 10}\n",
    "fig, ax, ax2 = plot_ci_plus_heatmap(latent_token_probs, entropy, latent, color='tab:orange', tik_step=size2tik[model_size], do_colorbar=True, #, do_colorbar=(model_size=='70b'),\n",
    "nums=[.99, 0.18, 0.025, 0.6])\n",
    "plot_ci(ax2, out_token_probs, target_lang, color='tab:blue', do_lines=False)\n",
    "ax2.set_xlabel('layer')\n",
    "ax2.set_ylabel('probability')\n",
    "if model_size == '7b':\n",
    "    ax2.set_xlim(0, out_token_probs.shape[1]+1)\n",
    "else:\n",
    "    ax2.set_xlim(0, round(out_token_probs.shape[1]/10)*10+1)\n",
    "ax2.set_ylim(0, 1)\n",
    "# make xticks start from 1\n",
    "# put legend on the top left\n",
    "ax2.legend(loc='upper left')\n",
    "os.makedirs(f'{out_dir}/translation', exist_ok=True)\n",
    "\n",
    "plt.savefig(f'{out_dir}/translation/{model_size}_{input_lang}_{target_lang}_probas_ent.jpg', dpi=300, bbox_inches='tight')"
   ]
  },
  {
   "cell_type": "code",
   "execution_count": 20,
   "id": "48c50e4a",
   "metadata": {
    "execution": {
     "iopub.execute_input": "2024-02-23T22:29:15.048605Z",
     "iopub.status.busy": "2024-02-23T22:29:15.048413Z",
     "iopub.status.idle": "2024-02-23T22:29:15.202704Z",
     "shell.execute_reply": "2024-02-23T22:29:15.202304Z"
    },
    "papermill": {
     "duration": 0.168862,
     "end_time": "2024-02-23T22:29:15.203510",
     "exception": false,
     "start_time": "2024-02-23T22:29:15.034648",
     "status": "completed"
    },
    "tags": []
   },
   "outputs": [
    {
     "data": {
      "image/png": "[encoded data removed]",
      "text/plain": [
       "<Figure size 500x300 with 1 Axes>"
      ]
     },
     "metadata": {},
     "output_type": "display_data"
    }
   ],
   "source": [
    "size2tik = {'7b': 5, '13b': 5, '70b': 10}\n",
    "\n",
    "fig, ax2 = plt.subplots(figsize=(5,3))\n",
    "plot_ci(ax2, energy, 'energy', color='tab:green', do_lines=True, tik_step=size2tik[model_size])\n",
    "ax2.set_xlabel('layer')\n",
    "ax2.set_ylabel('energy')\n",
    "if model_size == '7b':\n",
    "    ax2.set_xlim(0, out_token_probs.shape[1]+1)\n",
    "else:\n",
    "    ax2.set_xlim(0, round(out_token_probs.shape[1]/10)*10+1)\n",
    "os.makedirs(f'{out_dir}/translation', exist_ok=True)\n",
    "plt.savefig(f'{out_dir}/translation/{model_size}_{input_lang}_{target_lang}_energy.jpg', dpi=300, bbox_inches='tight')"
   ]
  },
  {
   "cell_type": "code",
   "execution_count": null,
   "id": "de0f66f1",
   "metadata": {
    "papermill": {
     "duration": 0.012863,
     "end_time": "2024-02-23T22:29:15.230303",
     "exception": false,
     "start_time": "2024-02-23T22:29:15.217440",
     "status": "completed"
    },
    "tags": []
   },
   "outputs": [],
   "source": []
  }
 ],
 "metadata": {
  "kernelspec": {
   "display_name": "Python 3 (ipykernel)",
   "language": "python",
   "name": "python3"
  },
  "language_info": {
   "codemirror_mode": {
    "name": "ipython",
    "version": 3
   },
   "file_extension": ".py",
   "mimetype": "text/x-python",
   "name": "python",
   "nbconvert_exporter": "python",
   "pygments_lexer": "ipython3",
   "version": "3.11.5"
  },
  "papermill": {
   "default_parameters": {},
   "duration": 49.941994,
   "end_time": "2024-02-23T22:29:16.364534",
   "environment_variables": {},
   "exception": null,
   "input_path": "Translation.ipynb",
   "output_path": "visuals/executed_notebooks/Translation_tuned-chinese_7b_zh_de.ipynb",
   "parameters": {
    "input_lang": "zh",
    "model_size": "7b",
    "target_lang": "de",
    "type": "tuned-chinese"
   },
   "start_time": "2024-02-23T22:28:26.422540",
   "version": "2.5.0"
  },
  "widgets": {
   "application/vnd.jupyter.widget-state+json": {
    "state": {
     "0022014bec294e518bd085303dc1e242": {
      "model_module": "@jupyter-widgets/base",
      "model_module_version": "2.0.0",
      "model_name": "LayoutModel",
      "state": {
       "_model_module": "@jupyter-widgets/base",
       "_model_module_version": "2.0.0",
       "_model_name": "LayoutModel",
       "_view_count": null,
       "_view_module": "@jupyter-widgets/base",
       "_view_module_version": "2.0.0",
       "_view_name": "LayoutView",
       "align_content": null,
       "align_items": null,
       "align_self": null,
       "border_bottom": null,
       "border_left": null,
       "border_right": null,
       "border_top": null,
       "bottom": null,
       "display": null,
       "flex": null,
       "flex_flow": null,
       "grid_area": null,
       "grid_auto_columns": null,
       "grid_auto_flow": null,
       "grid_auto_rows": null,
       "grid_column": null,
       "grid_gap": null,
       "grid_row": null,
       "grid_template_areas": null,
       "grid_template_columns": null,
       "grid_template_rows": null,
       "height": null,
       "justify_content": null,
       "justify_items": null,
       "left": null,
       "margin": null,
       "max_height": null,
       "max_width": null,
       "min_height": null,
       "min_width": null,
       "object_fit": null,
       "object_position": null,
       "order": null,
       "overflow": null,
       "padding": null,
       "right": null,
       "top": null,
       "visibility": null,
       "width": null
      }
     },
     "16ea7005d8fd490aa5d7db1277c34251": {
      "model_module": "@jupyter-widgets/controls",
      "model_module_version": "2.0.0",
      "model_name": "ProgressStyleModel",
      "state": {
       "_model_module": "@jupyter-widgets/controls",
       "_model_module_version": "2.0.0",
       "_model_name": "ProgressStyleModel",
       "_view_count": null,
       "_view_module": "@jupyter-widgets/base",
       "_view_module_version": "2.0.0",
       "_view_name": "StyleView",
       "bar_color": null,
       "description_width": ""
      }
     },
     "4c6d63c913f146e9b0db25458d7050bc": {
      "model_module": "@jupyter-widgets/controls",
      "model_module_version": "2.0.0",
      "model_name": "HTMLStyleModel",
      "state": {
       "_model_module": "@jupyter-widgets/controls",
       "_model_module_version": "2.0.0",
       "_model_name": "HTMLStyleModel",
       "_view_count": null,
       "_view_module": "@jupyter-widgets/base",
       "_view_module_version": "2.0.0",
       "_view_name": "StyleView",
       "background": null,
       "description_width": "",
       "font_size": null,
       "text_color": null
      }
     },
     "5281b3ffc7c943ddb6fd8bd460845de5": {
      "model_module": "@jupyter-widgets/controls",
      "model_module_version": "2.0.0",
      "model_name": "HTMLModel",
      "state": {
       "_dom_classes": [],
       "_model_module": "@jupyter-widgets/controls",
       "_model_module_version": "2.0.0",
       "_model_name": "HTMLModel",
       "_view_count": null,
       "_view_module": "@jupyter-widgets/controls",
       "_view_module_version": "2.0.0",
       "_view_name": "HTMLView",
       "description": "",
       "description_allow_html": false,
       "layout": "IPY_MODEL_62181471e1604bc7a1c7dd886ab27157",
       "placeholder": "​",
       "style": "IPY_MODEL_b9fcf00ccb234c8fa3f596b9b9552dd2",
       "tabbable": null,
       "tooltip": null,
       "value": "Loading checkpoint shards: 100%"
      }
     },
     "62181471e1604bc7a1c7dd886ab27157": {
      "model_module": "@jupyter-widgets/base",
      "model_module_version": "2.0.0",
      "model_name": "LayoutModel",
      "state": {
       "_model_module": "@jupyter-widgets/base",
       "_model_module_version": "2.0.0",
       "_model_name": "LayoutModel",
       "_view_count": null,
       "_view_module": "@jupyter-widgets/base",
       "_view_module_version": "2.0.0",
       "_view_name": "LayoutView",
       "align_content": null,
       "align_items": null,
       "align_self": null,
       "border_bottom": null,
       "border_left": null,
       "border_right": null,
       "border_top": null,
       "bottom": null,
       "display": null,
       "flex": null,
       "flex_flow": null,
       "grid_area": null,
       "grid_auto_columns": null,
       "grid_auto_flow": null,
       "grid_auto_rows": null,
       "grid_column": null,
       "grid_gap": null,
       "grid_row": null,
       "grid_template_areas": null,
       "grid_template_columns": null,
       "grid_template_rows": null,
       "height": null,
       "justify_content": null,
       "justify_items": null,
       "left": null,
       "margin": null,
       "max_height": null,
       "max_width": null,
       "min_height": null,
       "min_width": null,
       "object_fit": null,
       "object_position": null,
       "order": null,
       "overflow": null,
       "padding": null,
       "right": null,
       "top": null,
       "visibility": null,
       "width": null
      }
     },
     "6c1834f853224c8dbe11eb64d07a3f24": {
      "model_module": "@jupyter-widgets/controls",
      "model_module_version": "2.0.0",
      "model_name": "HTMLModel",
      "state": {
       "_dom_classes": [],
       "_model_module": "@jupyter-widgets/controls",
       "_model_module_version": "2.0.0",
       "_model_name": "HTMLModel",
       "_view_count": null,
       "_view_module": "@jupyter-widgets/controls",
       "_view_module_version": "2.0.0",
       "_view_name": "HTMLView",
       "description": "",
       "description_allow_html": false,
       "layout": "IPY_MODEL_0022014bec294e518bd085303dc1e242",
       "placeholder": "​",
       "style": "IPY_MODEL_4c6d63c913f146e9b0db25458d7050bc",
       "tabbable": null,
       "tooltip": null,
       "value": " 2/2 [00:04&lt;00:00,  1.91s/it]"
      }
     },
     "6f1322260df048789ebc9e2d46784933": {
      "model_module": "@jupyter-widgets/controls",
      "model_module_version": "2.0.0",
      "model_name": "FloatProgressModel",
      "state": {
       "_dom_classes": [],
       "_model_module": "@jupyter-widgets/controls",
       "_model_module_version": "2.0.0",
       "_model_name": "FloatProgressModel",
       "_view_count": null,
       "_view_module": "@jupyter-widgets/controls",
       "_view_module_version": "2.0.0",
       "_view_name": "ProgressView",
       "bar_style": "success",
       "description": "",
       "description_allow_html": false,
       "layout": "IPY_MODEL_765788ac20de4d3d85af9677ccebe9d3",
       "max": 2.0,
       "min": 0.0,
       "orientation": "horizontal",
       "style": "IPY_MODEL_16ea7005d8fd490aa5d7db1277c34251",
       "tabbable": null,
       "tooltip": null,
       "value": 2.0
      }
     },
     "765788ac20de4d3d85af9677ccebe9d3": {
      "model_module": "@jupyter-widgets/base",
      "model_module_version": "2.0.0",
      "model_name": "LayoutModel",
      "state": {
       "_model_module": "@jupyter-widgets/base",
       "_model_module_version": "2.0.0",
       "_model_name": "LayoutModel",
       "_view_count": null,
       "_view_module": "@jupyter-widgets/base",
       "_view_module_version": "2.0.0",
       "_view_name": "LayoutView",
       "align_content": null,
       "align_items": null,
       "align_self": null,
       "border_bottom": null,
       "border_left": null,
       "border_right": null,
       "border_top": null,
       "bottom": null,
       "display": null,
       "flex": null,
       "flex_flow": null,
       "grid_area": null,
       "grid_auto_columns": null,
       "grid_auto_flow": null,
       "grid_auto_rows": null,
       "grid_column": null,
       "grid_gap": null,
       "grid_row": null,
       "grid_template_areas": null,
       "grid_template_columns": null,
       "grid_template_rows": null,
       "height": null,
       "justify_content": null,
       "justify_items": null,
       "left": null,
       "margin": null,
       "max_height": null,
       "max_width": null,
       "min_height": null,
       "min_width": null,
       "object_fit": null,
       "object_position": null,
       "order": null,
       "overflow": null,
       "padding": null,
       "right": null,
       "top": null,
       "visibility": null,
       "width": null
      }
     },
     "a54b7596421c4a98b7e6ed8f35d057ba": {
      "model_module": "@jupyter-widgets/base",
      "model_module_version": "2.0.0",
      "model_name": "LayoutModel",
      "state": {
       "_model_module": "@jupyter-widgets/base",
       "_model_module_version": "2.0.0",
       "_model_name": "LayoutModel",
       "_view_count": null,
       "_view_module": "@jupyter-widgets/base",
       "_view_module_version": "2.0.0",
       "_view_name": "LayoutView",
       "align_content": null,
       "align_items": null,
       "align_self": null,
       "border_bottom": null,
       "border_left": null,
       "border_right": null,
       "border_top": null,
       "bottom": null,
       "display": null,
       "flex": null,
       "flex_flow": null,
       "grid_area": null,
       "grid_auto_columns": null,
       "grid_auto_flow": null,
       "grid_auto_rows": null,
       "grid_column": null,
       "grid_gap": null,
       "grid_row": null,
       "grid_template_areas": null,
       "grid_template_columns": null,
       "grid_template_rows": null,
       "height": null,
       "justify_content": null,
       "justify_items": null,
       "left": null,
       "margin": null,
       "max_height": null,
       "max_width": null,
       "min_height": null,
       "min_width": null,
       "object_fit": null,
       "object_position": null,
       "order": null,
       "overflow": null,
       "padding": null,
       "right": null,
       "top": null,
       "visibility": null,
       "width": null
      }
     },
     "ace6f4df50c74f05992f21ccad5f7765": {
      "model_module": "@jupyter-widgets/controls",
      "model_module_version": "2.0.0",
      "model_name": "HBoxModel",
      "state": {
       "_dom_classes": [],
       "_model_module": "@jupyter-widgets/controls",
       "_model_module_version": "2.0.0",
       "_model_name": "HBoxModel",
       "_view_count": null,
       "_view_module": "@jupyter-widgets/controls",
       "_view_module_version": "2.0.0",
       "_view_name": "HBoxView",
       "box_style": "",
       "children": [
        "IPY_MODEL_5281b3ffc7c943ddb6fd8bd460845de5",
        "IPY_MODEL_6f1322260df048789ebc9e2d46784933",
        "IPY_MODEL_6c1834f853224c8dbe11eb64d07a3f24"
       ],
       "layout": "IPY_MODEL_a54b7596421c4a98b7e6ed8f35d057ba",
       "tabbable": null,
       "tooltip": null
      }
     },
     "b9fcf00ccb234c8fa3f596b9b9552dd2": {
      "model_module": "@jupyter-widgets/controls",
      "model_module_version": "2.0.0",
      "model_name": "HTMLStyleModel",
      "state": {
       "_model_module": "@jupyter-widgets/controls",
       "_model_module_version": "2.0.0",
       "_model_name": "HTMLStyleModel",
       "_view_count": null,
       "_view_module": "@jupyter-widgets/base",
       "_view_module_version": "2.0.0",
       "_view_name": "StyleView",
       "background": null,
       "description_width": "",
       "font_size": null,
       "text_color": null
      }
     }
    },
    "version_major": 2,
    "version_minor": 0
   }
  }
 },
 "nbformat": 4,
 "nbformat_minor": 5
}