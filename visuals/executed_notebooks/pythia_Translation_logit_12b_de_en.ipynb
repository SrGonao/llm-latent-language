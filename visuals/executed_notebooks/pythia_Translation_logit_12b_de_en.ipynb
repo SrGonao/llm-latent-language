{
 "cells": [
  {
   "cell_type": "code",
   "execution_count": 1,
   "id": "9e266eca-b017-461f-9be4-bec02cae9b28",
   "metadata": {
    "execution": {
     "iopub.execute_input": "2024-03-02T15:43:51.193757Z",
     "iopub.status.busy": "2024-03-02T15:43:51.193382Z",
     "iopub.status.idle": "2024-03-02T15:43:51.207190Z",
     "shell.execute_reply": "2024-03-02T15:43:51.206824Z"
    },
    "papermill": {
     "duration": 0.020311,
     "end_time": "2024-03-02T15:43:51.208293",
     "exception": false,
     "start_time": "2024-03-02T15:43:51.187982",
     "status": "completed"
    },
    "tags": []
   },
   "outputs": [],
   "source": [
    "%load_ext autoreload\n",
    "%autoreload 2"
   ]
  },
  {
   "cell_type": "code",
   "execution_count": 2,
   "id": "fae8a7a9-6902-424e-8e66-b107fccb361f",
   "metadata": {
    "execution": {
     "iopub.execute_input": "2024-03-02T15:43:51.215161Z",
     "iopub.status.busy": "2024-03-02T15:43:51.215025Z",
     "iopub.status.idle": "2024-03-02T15:43:54.267398Z",
     "shell.execute_reply": "2024-03-02T15:43:54.266376Z"
    },
    "papermill": {
     "duration": 3.05686,
     "end_time": "2024-03-02T15:43:54.268684",
     "exception": false,
     "start_time": "2024-03-02T15:43:51.211824",
     "status": "completed"
    },
    "tags": []
   },
   "outputs": [
    {
     "name": "stderr",
     "output_type": "stream",
     "text": [
      "/mnt/ssd-1/gpaulo/miniconda3/envs/default/lib/python3.10/site-packages/tqdm/auto.py:21: TqdmWarning: IProgress not found. Please update jupyter and ipywidgets. See https://ipywidgets.readthedocs.io/en/stable/user_install.html\n",
      "  from .autonotebook import tqdm as notebook_tqdm\n"
     ]
    }
   ],
   "source": [
    "import pandas as pd\n",
    "import sys\n",
    "import os\n",
    "from dataclasses import dataclass\n",
    "import json\n",
    "import numpy as np\n",
    "from matplotlib import pyplot as plt\n",
    "import seaborn as sns\n",
    "import torch\n",
    "import torch.nn as nn\n",
    "import seaborn as sns\n",
    "from scipy.stats import bootstrap\n",
    "from utils import plot_ci, plot_ci_plus_heatmap\n",
    "from tqdm import tqdm\n",
    "from transformers import AutoModelForCausalLM, AutoTokenizer\n",
    "# fix random seed\n",
    "seed = 42\n",
    "np.random.seed(seed)\n",
    "torch.manual_seed(seed)\n",
    "sys.path.append('../tuned-lens')\n",
    "from tuned_lens.nn.lenses import TunedLens,LogitLens"
   ]
  },
  {
   "cell_type": "code",
   "execution_count": 3,
   "id": "1fb93987",
   "metadata": {
    "execution": {
     "iopub.execute_input": "2024-03-02T15:43:54.277301Z",
     "iopub.status.busy": "2024-03-02T15:43:54.276758Z",
     "iopub.status.idle": "2024-03-02T15:43:54.311636Z",
     "shell.execute_reply": "2024-03-02T15:43:54.310921Z"
    },
    "papermill": {
     "duration": 0.040107,
     "end_time": "2024-03-02T15:43:54.312866",
     "exception": false,
     "start_time": "2024-03-02T15:43:54.272759",
     "status": "completed"
    },
    "tags": [
     "parameters"
    ]
   },
   "outputs": [],
   "source": [
    "input_lang = 'zh'\n",
    "target_lang = 'zh'\n",
    "model_size = '12b'\n",
    "prefix = \"./data/langs/\"\n",
    "type = 'tuned'\n"
   ]
  },
  {
   "cell_type": "code",
   "execution_count": 4,
   "id": "da6ab868",
   "metadata": {
    "execution": {
     "iopub.execute_input": "2024-03-02T15:43:54.320212Z",
     "iopub.status.busy": "2024-03-02T15:43:54.320016Z",
     "iopub.status.idle": "2024-03-02T15:43:54.348907Z",
     "shell.execute_reply": "2024-03-02T15:43:54.348268Z"
    },
    "papermill": {
     "duration": 0.033714,
     "end_time": "2024-03-02T15:43:54.350057",
     "exception": false,
     "start_time": "2024-03-02T15:43:54.316343",
     "status": "completed"
    },
    "tags": [
     "injected-parameters"
    ]
   },
   "outputs": [],
   "source": [
    "# Parameters\n",
    "model_size = \"12b\"\n",
    "target_lang = \"en\"\n",
    "input_lang = \"de\"\n",
    "type = \"logit\"\n"
   ]
  },
  {
   "cell_type": "code",
   "execution_count": 5,
   "id": "ccb0899b",
   "metadata": {
    "execution": {
     "iopub.execute_input": "2024-03-02T15:43:54.357020Z",
     "iopub.status.busy": "2024-03-02T15:43:54.356784Z",
     "iopub.status.idle": "2024-03-02T15:43:54.387029Z",
     "shell.execute_reply": "2024-03-02T15:43:54.386364Z"
    },
    "papermill": {
     "duration": 0.034956,
     "end_time": "2024-03-02T15:43:54.388150",
     "exception": false,
     "start_time": "2024-03-02T15:43:54.353194",
     "status": "completed"
    },
    "tags": []
   },
   "outputs": [],
   "source": [
    "df_en_input = pd.read_csv(f'{prefix}{input_lang}/clean.csv').reindex()\n",
    "df_en_target = pd.read_csv(f'{prefix}{target_lang}/clean.csv').reindex()"
   ]
  },
  {
   "cell_type": "code",
   "execution_count": 6,
   "id": "33747213",
   "metadata": {
    "execution": {
     "iopub.execute_input": "2024-03-02T15:43:54.395372Z",
     "iopub.status.busy": "2024-03-02T15:43:54.395209Z",
     "iopub.status.idle": "2024-03-02T15:43:59.213279Z",
     "shell.execute_reply": "2024-03-02T15:43:59.212283Z"
    },
    "papermill": {
     "duration": 4.822768,
     "end_time": "2024-03-02T15:43:59.214522",
     "exception": false,
     "start_time": "2024-03-02T15:43:54.391754",
     "status": "completed"
    },
    "tags": []
   },
   "outputs": [
    {
     "name": "stderr",
     "output_type": "stream",
     "text": [
      "\r",
      "Loading checkpoint shards:   0%|                                                                                                                                                                              | 0/3 [00:00<?, ?it/s]"
     ]
    },
    {
     "name": "stderr",
     "output_type": "stream",
     "text": [
      "\r",
      "Loading checkpoint shards:  33%|███████████████████████████████████████████████████████▎                                                                                                              | 1/3 [00:01<00:03,  1.80s/it]"
     ]
    },
    {
     "name": "stderr",
     "output_type": "stream",
     "text": [
      "\r",
      "Loading checkpoint shards:  67%|██████████████████████████████████████████████████████████████████████████████████████████████████████████████▋                                                       | 2/3 [00:03<00:01,  1.75s/it]"
     ]
    },
    {
     "name": "stderr",
     "output_type": "stream",
     "text": [
      "\r",
      "Loading checkpoint shards: 100%|██████████████████████████████████████████████████████████████████████████████████████████████████████████████████████████████████████████████████████████████████████| 3/3 [00:04<00:00,  1.31s/it]"
     ]
    },
    {
     "name": "stderr",
     "output_type": "stream",
     "text": [
      "\r",
      "Loading checkpoint shards: 100%|██████████████████████████████████████████████████████████████████████████████████████████████████████████████████████████████████████████████████████████████████████| 3/3 [00:04<00:00,  1.43s/it]"
     ]
    },
    {
     "name": "stderr",
     "output_type": "stream",
     "text": [
      "\n"
     ]
    },
    {
     "name": "stderr",
     "output_type": "stream",
     "text": [
      "Special tokens have been added in the vocabulary, make sure the associated word embeddings are fine-tuned or trained.\n"
     ]
    }
   ],
   "source": [
    "pythia = AutoModelForCausalLM.from_pretrained(  # type: ignore\n",
    "                f\"EleutherAI/pythia-{model_size}\",\n",
    "                device_map={\"\": \"cuda:0\"},\n",
    "                revision=\"main\",\n",
    "                torch_dtype=\"auto\",\n",
    "            )\n",
    "\n",
    "    \n",
    "latent=\"en\"\n",
    "if type == 'logit':\n",
    "    pythia_lens = LogitLens.from_model(pythia).to(\"cuda\")\n",
    "    out_dir = f'./visuals/logit'\n",
    "if type == 'tuned':\n",
    "    pythia_lens = TunedLens.from_model_and_pretrained(pythia,f\"EleutherAI/pythia-{model_size}-deduped\").to(\"cuda\")\n",
    "    out_dir = f'./visuals/tuned'\n",
    "tokenizer = AutoTokenizer.from_pretrained(\n",
    "                f\"EleutherAI/pythia-{model_size}\"\n",
    "            )"
   ]
  },
  {
   "cell_type": "code",
   "execution_count": 7,
   "id": "bc45e052",
   "metadata": {
    "execution": {
     "iopub.execute_input": "2024-03-02T15:43:59.223319Z",
     "iopub.status.busy": "2024-03-02T15:43:59.223125Z",
     "iopub.status.idle": "2024-03-02T15:44:01.807011Z",
     "shell.execute_reply": "2024-03-02T15:44:01.806205Z"
    },
    "papermill": {
     "duration": 2.588904,
     "end_time": "2024-03-02T15:44:01.807929",
     "exception": false,
     "start_time": "2024-03-02T15:43:59.219025",
     "status": "completed"
    },
    "tags": []
   },
   "outputs": [
    {
     "name": "stdout",
     "output_type": "stream",
     "text": [
      "Sequential(\n",
      "  (0): LayerNorm((5120,), eps=1e-05, elementwise_affine=True)\n",
      "  (1): Linear(in_features=5120, out_features=50688, bias=False)\n",
      ")\n"
     ]
    },
    {
     "name": "stdout",
     "output_type": "stream",
     "text": [
      "U torch.Size([50688, 5120]) weights torch.Size([1, 5120])\n"
     ]
    },
    {
     "name": "stdout",
     "output_type": "stream",
     "text": [
      "0.03080214373767376\n"
     ]
    }
   ],
   "source": [
    "unemb = nn.Sequential(pythia.gpt_neox.final_layer_norm, pythia.embed_out)\n",
    "print(unemb)\n",
    "# prepare for energy plots\n",
    "U = list(unemb[1].parameters())[0].detach().cpu().float()\n",
    "weights = list(unemb[0].parameters())[0].detach().cpu().float()\n",
    "print(f'U {U.shape} weights {weights.unsqueeze(0).shape}')\n",
    "U_weighted = U.clone() \n",
    "#U_weighted = U_weighted / ((U_weighted**2).mean(dim=1, keepdim=True))**0.5\n",
    "U_weighted *= weights.unsqueeze(0)\n",
    "U_normalized = U_weighted / ((U_weighted**2).sum(dim=1, keepdim=True))**0.5\n",
    "v = U.shape[0]\n",
    "TT = U_normalized.T @ U_normalized\n",
    "avgUU = (((U_normalized.T @ U_normalized)**2).sum() / v**2)**0.5\n",
    "print(avgUU.item())"
   ]
  },
  {
   "cell_type": "code",
   "execution_count": 8,
   "id": "5686a8d5",
   "metadata": {
    "execution": {
     "iopub.execute_input": "2024-03-02T15:44:01.817271Z",
     "iopub.status.busy": "2024-03-02T15:44:01.816817Z",
     "iopub.status.idle": "2024-03-02T15:44:03.688477Z",
     "shell.execute_reply": "2024-03-02T15:44:03.686646Z"
    },
    "papermill": {
     "duration": 1.877144,
     "end_time": "2024-03-02T15:44:03.689884",
     "exception": false,
     "start_time": "2024-03-02T15:44:01.812740",
     "status": "completed"
    },
    "tags": []
   },
   "outputs": [
    {
     "name": "stdout",
     "output_type": "stream",
     "text": [
      "for en 108 of 132 are single tokens\n",
      "final length of df_en_en_de: 120\n"
     ]
    }
   ],
   "source": [
    "count = 0\n",
    "for idx, word in enumerate(df_en_target['word_translation']):\n",
    "    if word in tokenizer.get_vocab() or '▁'+word in tokenizer.get_vocab():\n",
    "        count += 1\n",
    "\n",
    "print(f'for {target_lang} {count} of {len(df_en_target)} are single tokens')\n",
    "\n",
    "if input_lang == target_lang:\n",
    "    df_en_target_input = df_en_target.copy()\n",
    "    if latent == 'zh':\n",
    "      df_en_target_input = df_en_target.copy()\n",
    "      chinese = chinese.loc[chinese[\"word_original\"].isin(df_en_input[\"word_original\"])]\n",
    "      df_en_target_input= df_en_target_input.loc[df_en_target_input[\"word_original\"].isin(chinese[\"word_original\"])]\n",
    "      chinese.sort_values(by=\"word_original\", inplace=True)\n",
    "      df_en_target_input.sort_values(by=\"word_original\", inplace=True)\n",
    "      chinese.reset_index(drop=True, inplace=True)\n",
    "      df_en_target_input.reset_index(drop=True, inplace=True)\n",
    "      df_en_target_input[\"word_original\"] = chinese[\"word_translation\"]\n",
    "    df_en_target_input.rename(columns={'word_original': latent, \n",
    "                                f'word_translation': target_lang if target_lang != latent else f'{latent}_tgt'}, \n",
    "                                inplace=True)\n",
    "    \n",
    "else:\n",
    "    df_en_target_input = df_en_target.merge(df_en_input, on=['word_original'], suffixes=(f'_{target_lang}', f'_{input_lang}'))\n",
    "    if latent == 'zh':\n",
    "      chinese = chinese.loc[chinese[\"word_original\"].isin(df_en_target_input[\"word_original\"])]\n",
    "      df_en_target_input= df_en_target_input.loc[df_en_target_input[\"word_original\"].isin(chinese[\"word_original\"])]\n",
    "      chinese.sort_values(by=\"word_original\", inplace=True)\n",
    "      df_en_target_input.sort_values(by=\"word_original\", inplace=True)\n",
    "      chinese.reset_index(drop=True, inplace=True)\n",
    "      df_en_target_input.reset_index(drop=True, inplace=True)\n",
    "      df_en_target_input[\"word_original\"] = chinese[\"word_translation\"]\n",
    "\n",
    "    df_en_target_input.rename(columns={'word_original': latent, \n",
    "                                f'word_translation_{target_lang}': target_lang if target_lang != latent else f'{latent}_tgt', \n",
    "                                f'word_translation_{input_lang}': input_lang if input_lang != latent else f'{latent}_in'}, \n",
    "                                inplace=True)\n",
    "# delete all rows where en is contained in de or fr\n",
    "if target_lang != latent:\n",
    "    for i, row in df_en_target_input.iterrows():\n",
    "        if row[latent].lower() in row[target_lang].lower():\n",
    "            df_en_target_input.drop(i, inplace=True)\n",
    "\n",
    "print(f'final length of df_{latent}_{target_lang}_{input_lang}: {len(df_en_target_input)}')"
   ]
  },
  {
   "cell_type": "code",
   "execution_count": 9,
   "id": "f0c0a52d",
   "metadata": {
    "execution": {
     "iopub.execute_input": "2024-03-02T15:44:03.700025Z",
     "iopub.status.busy": "2024-03-02T15:44:03.699803Z",
     "iopub.status.idle": "2024-03-02T15:44:03.747680Z",
     "shell.execute_reply": "2024-03-02T15:44:03.746982Z"
    },
    "papermill": {
     "duration": 0.054111,
     "end_time": "2024-03-02T15:44:03.748870",
     "exception": false,
     "start_time": "2024-03-02T15:44:03.694759",
     "status": "completed"
    },
    "tags": []
   },
   "outputs": [],
   "source": [
    "def token_prefixes(token_str: str):\n",
    "    n = len(token_str)\n",
    "    tokens = [token_str[:i] for i in range(1, n+1)]\n",
    "    return tokens \n",
    "\n",
    "def add_spaces(tokens):\n",
    "    return ['▁' + t for t in tokens] + tokens\n",
    "\n",
    "def capitalizations(tokens):\n",
    "    return list(set(tokens))\n",
    "\n",
    "def unicode_prefix_tokid(zh_char = \"云\", tokenizer=tokenizer):\n",
    "    start = zh_char.encode().__str__()[2:-1].split('\\\\x')[1]\n",
    "    unicode_format = '<0x%s>'\n",
    "    start_key = unicode_format%start.upper()\n",
    "    if start_key in tokenizer.get_vocab():\n",
    "        return tokenizer.get_vocab()[start_key]\n",
    "    return None\n",
    "\n",
    "def process_tokens(token_str: str, tokenizer, lang):\n",
    "    with_prefixes = token_prefixes(token_str)\n",
    "    with_spaces = add_spaces(with_prefixes)\n",
    "    with_capitalizations = capitalizations(with_spaces)\n",
    "    final_tokens = []\n",
    "    for tok in with_capitalizations:\n",
    "        if tok in tokenizer.get_vocab():\n",
    "            final_tokens.append(tokenizer.get_vocab()[tok])\n",
    "    if lang in ['zh', 'ru']:\n",
    "        tokid = unicode_prefix_tokid(token_str, tokenizer)\n",
    "        if tokid is not None:\n",
    "            final_tokens.append(tokid)\n",
    "    return final_tokens"
   ]
  },
  {
   "cell_type": "code",
   "execution_count": 10,
   "id": "faa7bb78",
   "metadata": {
    "execution": {
     "iopub.execute_input": "2024-03-02T15:44:03.759614Z",
     "iopub.status.busy": "2024-03-02T15:44:03.758778Z",
     "iopub.status.idle": "2024-03-02T15:44:03.810462Z",
     "shell.execute_reply": "2024-03-02T15:44:03.809618Z"
    },
    "papermill": {
     "duration": 0.058632,
     "end_time": "2024-03-02T15:44:03.811567",
     "exception": false,
     "start_time": "2024-03-02T15:44:03.752935",
     "status": "completed"
    },
    "tags": []
   },
   "outputs": [],
   "source": [
    "\n",
    "id2voc = {id:voc for voc, id in tokenizer.get_vocab().items()}\n",
    "def get_tokens(token_ids, id2voc=id2voc):\n",
    "    return [id2voc[tokid] for tokid in token_ids]\n",
    "\n",
    "def compute_entropy(probas):\n",
    "    return (-probas*torch.log2(probas)).sum(dim=-1)\n",
    "\n",
    "lang2name = {'fr': 'Français', 'de': 'Deutsch', 'ru': 'Русский', 'en': 'English', 'zh': '中文'}\n",
    "def sample(df, ind, k=5, tokenizer=tokenizer, lang1='fr', lang2='de', lang_latent=latent):\n",
    "    df = df.reset_index(drop=True)\n",
    "    temp = df[df.index!=ind]\n",
    "    sample = pd.concat([temp.sample(k-1), df[df.index==ind]], axis=0)\n",
    "    prompt = \"\"\n",
    "    for idx, (df_idx, row) in enumerate(sample.iterrows()):\n",
    "        if idx < k-1:\n",
    "            prompt += f'{lang2name[lang1]}: \"{row[lang1]}\" - {lang2name[lang2]}: \"{row[lang2]}\"\\n'\n",
    "        else:\n",
    "            prompt += f'{lang2name[lang1]}: \"{row[lang1]}\" - {lang2name[lang2]}: \"'\n",
    "            in_token_str = row[lang1]\n",
    "            out_token_str = row[lang2]\n",
    "            out_token_id = process_tokens(out_token_str, tokenizer, lang2)\n",
    "            latent_token_str = row[lang_latent]\n",
    "            latent_token_id = process_tokens(latent_token_str, tokenizer, latent)\n",
    "            intersection = set(out_token_id).intersection(set(latent_token_id))\n",
    "            if len(out_token_id) == 0 or len(latent_token_id) == 0:\n",
    "                yield None\n",
    "            if lang2 != latent and len(intersection) > 0:\n",
    "                yield None\n",
    "            yield {'prompt': prompt, \n",
    "                'out_token_id': out_token_id, \n",
    "                'out_token_str': out_token_str,\n",
    "                'latent_token_id': latent_token_id, \n",
    "                'latent_token_str': latent_token_str, \n",
    "                'in_token_str': in_token_str}"
   ]
  },
  {
   "cell_type": "code",
   "execution_count": 11,
   "id": "500641f5",
   "metadata": {
    "execution": {
     "iopub.execute_input": "2024-03-02T15:44:03.819645Z",
     "iopub.status.busy": "2024-03-02T15:44:03.819433Z",
     "iopub.status.idle": "2024-03-02T15:44:40.278580Z",
     "shell.execute_reply": "2024-03-02T15:44:40.277996Z"
    },
    "papermill": {
     "duration": 36.464255,
     "end_time": "2024-03-02T15:44:40.279631",
     "exception": false,
     "start_time": "2024-03-02T15:44:03.815376",
     "status": "completed"
    },
    "tags": []
   },
   "outputs": [
    {
     "name": "stderr",
     "output_type": "stream",
     "text": [
      "\r",
      "  0%|                                                                                                                                                                                                       | 0/120 [00:00<?, ?it/s]"
     ]
    },
    {
     "name": "stderr",
     "output_type": "stream",
     "text": [
      "\r",
      "  1%|█▌                                                                                                                                                                                             | 1/120 [00:00<00:30,  3.96it/s]"
     ]
    },
    {
     "name": "stderr",
     "output_type": "stream",
     "text": [
      "\r",
      "  2%|███▏                                                                                                                                                                                           | 2/120 [00:00<00:33,  3.55it/s]"
     ]
    },
    {
     "name": "stderr",
     "output_type": "stream",
     "text": [
      "\r",
      "  2%|████▊                                                                                                                                                                                          | 3/120 [00:00<00:28,  4.12it/s]"
     ]
    },
    {
     "name": "stderr",
     "output_type": "stream",
     "text": [
      "\r",
      "  3%|██████▎                                                                                                                                                                                        | 4/120 [00:01<00:29,  3.89it/s]"
     ]
    },
    {
     "name": "stderr",
     "output_type": "stream",
     "text": [
      "\r",
      "  4%|███████▉                                                                                                                                                                                       | 5/120 [00:01<00:30,  3.82it/s]"
     ]
    },
    {
     "name": "stderr",
     "output_type": "stream",
     "text": [
      "\r",
      "  5%|█████████▌                                                                                                                                                                                     | 6/120 [00:01<00:37,  3.07it/s]"
     ]
    },
    {
     "name": "stderr",
     "output_type": "stream",
     "text": [
      "\r",
      "  6%|███████████▏                                                                                                                                                                                   | 7/120 [00:02<00:37,  3.05it/s]"
     ]
    },
    {
     "name": "stderr",
     "output_type": "stream",
     "text": [
      "\r",
      "  7%|████████████▋                                                                                                                                                                                  | 8/120 [00:02<00:37,  2.97it/s]"
     ]
    },
    {
     "name": "stderr",
     "output_type": "stream",
     "text": [
      "\r",
      "  8%|██████████████▎                                                                                                                                                                                | 9/120 [00:02<00:36,  3.03it/s]"
     ]
    },
    {
     "name": "stderr",
     "output_type": "stream",
     "text": [
      "\r",
      "  8%|███████████████▊                                                                                                                                                                              | 10/120 [00:03<00:33,  3.24it/s]"
     ]
    },
    {
     "name": "stderr",
     "output_type": "stream",
     "text": [
      "\r",
      "  9%|█████████████████▍                                                                                                                                                                            | 11/120 [00:03<00:33,  3.25it/s]"
     ]
    },
    {
     "name": "stderr",
     "output_type": "stream",
     "text": [
      "\r",
      " 10%|███████████████████                                                                                                                                                                           | 12/120 [00:03<00:35,  3.08it/s]"
     ]
    },
    {
     "name": "stderr",
     "output_type": "stream",
     "text": [
      "\r",
      " 11%|████████████████████▌                                                                                                                                                                         | 13/120 [00:03<00:31,  3.39it/s]"
     ]
    },
    {
     "name": "stderr",
     "output_type": "stream",
     "text": [
      "\r",
      " 12%|██████████████████████▏                                                                                                                                                                       | 14/120 [00:04<00:29,  3.58it/s]"
     ]
    },
    {
     "name": "stderr",
     "output_type": "stream",
     "text": [
      "\r",
      " 12%|███████████████████████▊                                                                                                                                                                      | 15/120 [00:04<00:32,  3.19it/s]"
     ]
    },
    {
     "name": "stderr",
     "output_type": "stream",
     "text": [
      "\r",
      " 13%|█████████████████████████▎                                                                                                                                                                    | 16/120 [00:04<00:34,  3.05it/s]"
     ]
    },
    {
     "name": "stderr",
     "output_type": "stream",
     "text": [
      "\r",
      " 14%|██████████████████████████▉                                                                                                                                                                   | 17/120 [00:05<00:31,  3.31it/s]"
     ]
    },
    {
     "name": "stderr",
     "output_type": "stream",
     "text": [
      "\r",
      " 15%|████████████████████████████▌                                                                                                                                                                 | 18/120 [00:05<00:30,  3.39it/s]"
     ]
    },
    {
     "name": "stderr",
     "output_type": "stream",
     "text": [
      "\r",
      " 16%|██████████████████████████████                                                                                                                                                                | 19/120 [00:05<00:30,  3.33it/s]"
     ]
    },
    {
     "name": "stderr",
     "output_type": "stream",
     "text": [
      "\r",
      " 17%|███████████████████████████████▋                                                                                                                                                              | 20/120 [00:05<00:27,  3.65it/s]"
     ]
    },
    {
     "name": "stderr",
     "output_type": "stream",
     "text": [
      "\r",
      " 18%|█████████████████████████████████▎                                                                                                                                                            | 21/120 [00:06<00:26,  3.68it/s]"
     ]
    },
    {
     "name": "stderr",
     "output_type": "stream",
     "text": [
      "\r",
      " 18%|██████████████████████████████████▊                                                                                                                                                           | 22/120 [00:06<00:28,  3.49it/s]"
     ]
    },
    {
     "name": "stderr",
     "output_type": "stream",
     "text": [
      "\r",
      " 19%|████████████████████████████████████▍                                                                                                                                                         | 23/120 [00:06<00:25,  3.83it/s]"
     ]
    },
    {
     "name": "stderr",
     "output_type": "stream",
     "text": [
      "\r",
      " 20%|██████████████████████████████████████                                                                                                                                                        | 24/120 [00:06<00:24,  3.91it/s]"
     ]
    },
    {
     "name": "stderr",
     "output_type": "stream",
     "text": [
      "\r",
      " 21%|███████████████████████████████████████▌                                                                                                                                                      | 25/120 [00:07<00:24,  3.90it/s]"
     ]
    },
    {
     "name": "stderr",
     "output_type": "stream",
     "text": [
      "\r",
      " 22%|█████████████████████████████████████████▏                                                                                                                                                    | 26/120 [00:07<00:23,  3.92it/s]"
     ]
    },
    {
     "name": "stderr",
     "output_type": "stream",
     "text": [
      "\r",
      " 22%|██████████████████████████████████████████▊                                                                                                                                                   | 27/120 [00:07<00:22,  4.19it/s]"
     ]
    },
    {
     "name": "stderr",
     "output_type": "stream",
     "text": [
      "\r",
      " 23%|████████████████████████████████████████████▎                                                                                                                                                 | 28/120 [00:07<00:21,  4.20it/s]"
     ]
    },
    {
     "name": "stderr",
     "output_type": "stream",
     "text": [
      "\r",
      " 24%|█████████████████████████████████████████████▉                                                                                                                                                | 29/120 [00:08<00:24,  3.77it/s]"
     ]
    },
    {
     "name": "stderr",
     "output_type": "stream",
     "text": [
      "\r",
      " 25%|███████████████████████████████████████████████▌                                                                                                                                              | 30/120 [00:08<00:23,  3.89it/s]"
     ]
    },
    {
     "name": "stderr",
     "output_type": "stream",
     "text": [
      "\r",
      " 26%|█████████████████████████████████████████████████                                                                                                                                             | 31/120 [00:08<00:23,  3.72it/s]"
     ]
    },
    {
     "name": "stderr",
     "output_type": "stream",
     "text": [
      "\r",
      " 27%|██████████████████████████████████████████████████▋                                                                                                                                           | 32/120 [00:09<00:27,  3.18it/s]"
     ]
    },
    {
     "name": "stderr",
     "output_type": "stream",
     "text": [
      "\r",
      " 28%|████████████████████████████████████████████████████▎                                                                                                                                         | 33/120 [00:09<00:26,  3.34it/s]"
     ]
    },
    {
     "name": "stderr",
     "output_type": "stream",
     "text": [
      "\r",
      " 28%|█████████████████████████████████████████████████████▊                                                                                                                                        | 34/120 [00:09<00:28,  3.00it/s]"
     ]
    },
    {
     "name": "stderr",
     "output_type": "stream",
     "text": [
      "\r",
      " 29%|███████████████████████████████████████████████████████▍                                                                                                                                      | 35/120 [00:10<00:30,  2.78it/s]"
     ]
    },
    {
     "name": "stderr",
     "output_type": "stream",
     "text": [
      "\r",
      " 30%|█████████████████████████████████████████████████████████                                                                                                                                     | 36/120 [00:10<00:27,  3.04it/s]"
     ]
    },
    {
     "name": "stderr",
     "output_type": "stream",
     "text": [
      "\r",
      " 31%|██████████████████████████████████████████████████████████▌                                                                                                                                   | 37/120 [00:10<00:23,  3.47it/s]"
     ]
    },
    {
     "name": "stderr",
     "output_type": "stream",
     "text": [
      "\r",
      " 32%|████████████████████████████████████████████████████████████▏                                                                                                                                 | 38/120 [00:11<00:23,  3.56it/s]"
     ]
    },
    {
     "name": "stderr",
     "output_type": "stream",
     "text": [
      "\r",
      " 32%|█████████████████████████████████████████████████████████████▊                                                                                                                                | 39/120 [00:11<00:20,  3.86it/s]"
     ]
    },
    {
     "name": "stderr",
     "output_type": "stream",
     "text": [
      "\r",
      " 33%|███████████████████████████████████████████████████████████████▎                                                                                                                              | 40/120 [00:11<00:23,  3.46it/s]"
     ]
    },
    {
     "name": "stderr",
     "output_type": "stream",
     "text": [
      "\r",
      " 34%|████████████████████████████████████████████████████████████████▉                                                                                                                             | 41/120 [00:11<00:20,  3.94it/s]"
     ]
    },
    {
     "name": "stderr",
     "output_type": "stream",
     "text": [
      "\r",
      " 35%|██████████████████████████████████████████████████████████████████▌                                                                                                                           | 42/120 [00:12<00:19,  3.93it/s]"
     ]
    },
    {
     "name": "stderr",
     "output_type": "stream",
     "text": [
      "\r",
      " 36%|████████████████████████████████████████████████████████████████████                                                                                                                          | 43/120 [00:12<00:19,  3.91it/s]"
     ]
    },
    {
     "name": "stderr",
     "output_type": "stream",
     "text": [
      "\r",
      " 37%|█████████████████████████████████████████████████████████████████████▋                                                                                                                        | 44/120 [00:12<00:18,  4.01it/s]"
     ]
    },
    {
     "name": "stderr",
     "output_type": "stream",
     "text": [
      "\r",
      " 38%|███████████████████████████████████████████████████████████████████████▎                                                                                                                      | 45/120 [00:12<00:18,  4.17it/s]"
     ]
    },
    {
     "name": "stderr",
     "output_type": "stream",
     "text": [
      "\r",
      " 38%|████████████████████████████████████████████████████████████████████████▊                                                                                                                     | 46/120 [00:13<00:19,  3.79it/s]"
     ]
    },
    {
     "name": "stderr",
     "output_type": "stream",
     "text": [
      "\r",
      " 39%|██████████████████████████████████████████████████████████████████████████▍                                                                                                                   | 47/120 [00:13<00:17,  4.08it/s]"
     ]
    },
    {
     "name": "stderr",
     "output_type": "stream",
     "text": [
      "\r",
      " 40%|████████████████████████████████████████████████████████████████████████████                                                                                                                  | 48/120 [00:13<00:16,  4.32it/s]"
     ]
    },
    {
     "name": "stderr",
     "output_type": "stream",
     "text": [
      "\r",
      " 41%|█████████████████████████████████████████████████████████████████████████████▌                                                                                                                | 49/120 [00:13<00:17,  4.02it/s]"
     ]
    },
    {
     "name": "stderr",
     "output_type": "stream",
     "text": [
      "\r",
      " 42%|███████████████████████████████████████████████████████████████████████████████▏                                                                                                              | 50/120 [00:13<00:17,  4.08it/s]"
     ]
    },
    {
     "name": "stderr",
     "output_type": "stream",
     "text": [
      "\r",
      " 42%|████████████████████████████████████████████████████████████████████████████████▊                                                                                                             | 51/120 [00:14<00:16,  4.11it/s]"
     ]
    },
    {
     "name": "stderr",
     "output_type": "stream",
     "text": [
      "\r",
      " 43%|██████████████████████████████████████████████████████████████████████████████████▎                                                                                                           | 52/120 [00:14<00:15,  4.37it/s]"
     ]
    },
    {
     "name": "stderr",
     "output_type": "stream",
     "text": [
      "\r",
      " 44%|███████████████████████████████████████████████████████████████████████████████████▉                                                                                                          | 53/120 [00:14<00:17,  3.91it/s]"
     ]
    },
    {
     "name": "stderr",
     "output_type": "stream",
     "text": [
      "\r",
      " 45%|█████████████████████████████████████████████████████████████████████████████████████▌                                                                                                        | 54/120 [00:15<00:17,  3.78it/s]"
     ]
    },
    {
     "name": "stderr",
     "output_type": "stream",
     "text": [
      "\r",
      " 46%|███████████████████████████████████████████████████████████████████████████████████████                                                                                                       | 55/120 [00:15<00:16,  3.89it/s]"
     ]
    },
    {
     "name": "stderr",
     "output_type": "stream",
     "text": [
      "\r",
      " 47%|████████████████████████████████████████████████████████████████████████████████████████▋                                                                                                     | 56/120 [00:15<00:15,  4.16it/s]"
     ]
    },
    {
     "name": "stderr",
     "output_type": "stream",
     "text": [
      "\r",
      " 48%|██████████████████████████████████████████████████████████████████████████████████████████▎                                                                                                   | 57/120 [00:15<00:15,  3.94it/s]"
     ]
    },
    {
     "name": "stderr",
     "output_type": "stream",
     "text": [
      "\r",
      " 48%|███████████████████████████████████████████████████████████████████████████████████████████▊                                                                                                  | 58/120 [00:16<00:17,  3.52it/s]"
     ]
    },
    {
     "name": "stderr",
     "output_type": "stream",
     "text": [
      "\r",
      " 49%|█████████████████████████████████████████████████████████████████████████████████████████████▍                                                                                                | 59/120 [00:16<00:19,  3.17it/s]"
     ]
    },
    {
     "name": "stderr",
     "output_type": "stream",
     "text": [
      "\r",
      " 50%|███████████████████████████████████████████████████████████████████████████████████████████████                                                                                               | 60/120 [00:16<00:18,  3.31it/s]"
     ]
    },
    {
     "name": "stderr",
     "output_type": "stream",
     "text": [
      "\r",
      " 51%|████████████████████████████████████████████████████████████████████████████████████████████████▌                                                                                             | 61/120 [00:16<00:15,  3.69it/s]"
     ]
    },
    {
     "name": "stderr",
     "output_type": "stream",
     "text": [
      "\r",
      " 52%|██████████████████████████████████████████████████████████████████████████████████████████████████▏                                                                                           | 62/120 [00:17<00:16,  3.61it/s]"
     ]
    },
    {
     "name": "stderr",
     "output_type": "stream",
     "text": [
      "\r",
      " 52%|███████████████████████████████████████████████████████████████████████████████████████████████████▊                                                                                          | 63/120 [00:17<00:15,  3.63it/s]"
     ]
    },
    {
     "name": "stderr",
     "output_type": "stream",
     "text": [
      "\r",
      " 53%|█████████████████████████████████████████████████████████████████████████████████████████████████████▎                                                                                        | 64/120 [00:17<00:15,  3.55it/s]"
     ]
    },
    {
     "name": "stderr",
     "output_type": "stream",
     "text": [
      "\r",
      " 54%|██████████████████████████████████████████████████████████████████████████████████████████████████████▉                                                                                       | 65/120 [00:18<00:14,  3.72it/s]"
     ]
    },
    {
     "name": "stderr",
     "output_type": "stream",
     "text": [
      "\r",
      " 55%|████████████████████████████████████████████████████████████████████████████████████████████████████████▌                                                                                     | 66/120 [00:18<00:14,  3.76it/s]"
     ]
    },
    {
     "name": "stderr",
     "output_type": "stream",
     "text": [
      "\r",
      " 56%|██████████████████████████████████████████████████████████████████████████████████████████████████████████                                                                                    | 67/120 [00:18<00:14,  3.55it/s]"
     ]
    },
    {
     "name": "stderr",
     "output_type": "stream",
     "text": [
      "\r",
      " 57%|███████████████████████████████████████████████████████████████████████████████████████████████████████████▋                                                                                  | 68/120 [00:19<00:16,  3.22it/s]"
     ]
    },
    {
     "name": "stderr",
     "output_type": "stream",
     "text": [
      "\r",
      " 57%|█████████████████████████████████████████████████████████████████████████████████████████████████████████████▏                                                                                | 69/120 [00:19<00:15,  3.25it/s]"
     ]
    },
    {
     "name": "stderr",
     "output_type": "stream",
     "text": [
      "\r",
      " 58%|██████████████████████████████████████████████████████████████████████████████████████████████████████████████▊                                                                               | 70/120 [00:19<00:16,  2.98it/s]"
     ]
    },
    {
     "name": "stderr",
     "output_type": "stream",
     "text": [
      "\r",
      " 59%|████████████████████████████████████████████████████████████████████████████████████████████████████████████████▍                                                                             | 71/120 [00:19<00:15,  3.21it/s]"
     ]
    },
    {
     "name": "stderr",
     "output_type": "stream",
     "text": [
      "\r",
      " 60%|██████████████████████████████████████████████████████████████████████████████████████████████████████████████████                                                                            | 72/120 [00:20<00:16,  3.00it/s]"
     ]
    },
    {
     "name": "stderr",
     "output_type": "stream",
     "text": [
      "\r",
      " 61%|███████████████████████████████████████████████████████████████████████████████████████████████████████████████████▌                                                                          | 73/120 [00:20<00:16,  2.77it/s]"
     ]
    },
    {
     "name": "stderr",
     "output_type": "stream",
     "text": [
      "\r",
      " 62%|█████████████████████████████████████████████████████████████████████████████████████████████████████████████████████▏                                                                        | 74/120 [00:21<00:17,  2.64it/s]"
     ]
    },
    {
     "name": "stderr",
     "output_type": "stream",
     "text": [
      "\r",
      " 62%|██████████████████████████████████████████████████████████████████████████████████████████████████████████████████████▊                                                                       | 75/120 [00:21<00:16,  2.73it/s]"
     ]
    },
    {
     "name": "stderr",
     "output_type": "stream",
     "text": [
      "\r",
      " 63%|████████████████████████████████████████████████████████████████████████████████████████████████████████████████████████▎                                                                     | 76/120 [00:21<00:15,  2.77it/s]"
     ]
    },
    {
     "name": "stderr",
     "output_type": "stream",
     "text": [
      "\r",
      " 64%|█████████████████████████████████████████████████████████████████████████████████████████████████████████████████████████▉                                                                    | 77/120 [00:22<00:14,  2.93it/s]"
     ]
    },
    {
     "name": "stderr",
     "output_type": "stream",
     "text": [
      "\r",
      " 65%|███████████████████████████████████████████████████████████████████████████████████████████████████████████████████████████▌                                                                  | 78/120 [00:22<00:13,  3.17it/s]"
     ]
    },
    {
     "name": "stderr",
     "output_type": "stream",
     "text": [
      "\r",
      " 66%|█████████████████████████████████████████████████████████████████████████████████████████████████████████████████████████████                                                                 | 79/120 [00:22<00:12,  3.23it/s]"
     ]
    },
    {
     "name": "stderr",
     "output_type": "stream",
     "text": [
      "\r",
      " 67%|██████████████████████████████████████████████████████████████████████████████████████████████████████████████████████████████▋                                                               | 80/120 [00:23<00:12,  3.08it/s]"
     ]
    },
    {
     "name": "stderr",
     "output_type": "stream",
     "text": [
      "\r",
      " 68%|████████████████████████████████████████████████████████████████████████████████████████████████████████████████████████████████▎                                                             | 81/120 [00:23<00:11,  3.51it/s]"
     ]
    },
    {
     "name": "stderr",
     "output_type": "stream",
     "text": [
      "\r",
      " 68%|█████████████████████████████████████████████████████████████████████████████████████████████████████████████████████████████████▊                                                            | 82/120 [00:23<00:11,  3.26it/s]"
     ]
    },
    {
     "name": "stderr",
     "output_type": "stream",
     "text": [
      "\r",
      " 69%|███████████████████████████████████████████████████████████████████████████████████████████████████████████████████████████████████▍                                                          | 83/120 [00:23<00:10,  3.44it/s]"
     ]
    },
    {
     "name": "stderr",
     "output_type": "stream",
     "text": [
      "\r",
      " 70%|█████████████████████████████████████████████████████████████████████████████████████████████████████████████████████████████████████                                                         | 84/120 [00:24<00:10,  3.27it/s]"
     ]
    },
    {
     "name": "stderr",
     "output_type": "stream",
     "text": [
      "\r",
      " 71%|██████████████████████████████████████████████████████████████████████████████████████████████████████████████████████████████████████▌                                                       | 85/120 [00:24<00:10,  3.45it/s]"
     ]
    },
    {
     "name": "stderr",
     "output_type": "stream",
     "text": [
      "\r",
      " 72%|████████████████████████████████████████████████████████████████████████████████████████████████████████████████████████████████████████▏                                                     | 86/120 [00:24<00:10,  3.28it/s]"
     ]
    },
    {
     "name": "stderr",
     "output_type": "stream",
     "text": [
      "\r",
      " 72%|█████████████████████████████████████████████████████████████████████████████████████████████████████████████████████████████████████████▊                                                    | 87/120 [00:25<00:09,  3.31it/s]"
     ]
    },
    {
     "name": "stderr",
     "output_type": "stream",
     "text": [
      "\r",
      " 73%|███████████████████████████████████████████████████████████████████████████████████████████████████████████████████████████████████████████▎                                                  | 88/120 [00:25<00:09,  3.20it/s]"
     ]
    },
    {
     "name": "stderr",
     "output_type": "stream",
     "text": [
      "\r",
      " 74%|████████████████████████████████████████████████████████████████████████████████████████████████████████████████████████████████████████████▉                                                 | 89/120 [00:25<00:09,  3.24it/s]"
     ]
    },
    {
     "name": "stderr",
     "output_type": "stream",
     "text": [
      "\r",
      " 75%|██████████████████████████████████████████████████████████████████████████████████████████████████████████████████████████████████████████████▌                                               | 90/120 [00:26<00:10,  2.97it/s]"
     ]
    },
    {
     "name": "stderr",
     "output_type": "stream",
     "text": [
      "\r",
      " 76%|████████████████████████████████████████████████████████████████████████████████████████████████████████████████████████████████████████████████                                              | 91/120 [00:26<00:09,  3.08it/s]"
     ]
    },
    {
     "name": "stderr",
     "output_type": "stream",
     "text": [
      "\r",
      " 77%|█████████████████████████████████████████████████████████████████████████████████████████████████████████████████████████████████████████████████▋                                            | 92/120 [00:26<00:07,  3.52it/s]"
     ]
    },
    {
     "name": "stderr",
     "output_type": "stream",
     "text": [
      "\r",
      " 78%|███████████████████████████████████████████████████████████████████████████████████████████████████████████████████████████████████████████████████▎                                          | 93/120 [00:27<00:08,  3.06it/s]"
     ]
    },
    {
     "name": "stderr",
     "output_type": "stream",
     "text": [
      "\r",
      " 78%|████████████████████████████████████████████████████████████████████████████████████████████████████████████████████████████████████████████████████▊                                         | 94/120 [00:27<00:08,  3.02it/s]"
     ]
    },
    {
     "name": "stderr",
     "output_type": "stream",
     "text": [
      "\r",
      " 79%|██████████████████████████████████████████████████████████████████████████████████████████████████████████████████████████████████████████████████████▍                                       | 95/120 [00:27<00:08,  3.00it/s]"
     ]
    },
    {
     "name": "stderr",
     "output_type": "stream",
     "text": [
      "\r",
      " 80%|████████████████████████████████████████████████████████████████████████████████████████████████████████████████████████████████████████████████████████                                      | 96/120 [00:28<00:09,  2.51it/s]"
     ]
    },
    {
     "name": "stderr",
     "output_type": "stream",
     "text": [
      "\r",
      " 81%|█████████████████████████████████████████████████████████████████████████████████████████████████████████████████████████████████████████████████████████▌                                    | 97/120 [00:28<00:08,  2.77it/s]"
     ]
    },
    {
     "name": "stderr",
     "output_type": "stream",
     "text": [
      "\r",
      " 82%|███████████████████████████████████████████████████████████████████████████████████████████████████████████████████████████████████████████████████████████▏                                  | 98/120 [00:28<00:07,  2.83it/s]"
     ]
    },
    {
     "name": "stderr",
     "output_type": "stream",
     "text": [
      "\r",
      " 82%|████████████████████████████████████████████████████████████████████████████████████████████████████████████████████████████████████████████████████████████▊                                 | 99/120 [00:29<00:07,  2.98it/s]"
     ]
    },
    {
     "name": "stderr",
     "output_type": "stream",
     "text": [
      "\r",
      " 83%|█████████████████████████████████████████████████████████████████████████████████████████████████████████████████████████████████████████████████████████████▌                               | 100/120 [00:29<00:06,  3.20it/s]"
     ]
    },
    {
     "name": "stderr",
     "output_type": "stream",
     "text": [
      "\r",
      " 84%|███████████████████████████████████████████████████████████████████████████████████████████████████████████████████████████████████████████████████████████████                              | 101/120 [00:29<00:06,  2.82it/s]"
     ]
    },
    {
     "name": "stderr",
     "output_type": "stream",
     "text": [
      "\r",
      " 85%|████████████████████████████████████████████████████████████████████████████████████████████████████████████████████████████████████████████████████████████████▋                            | 102/120 [00:30<00:06,  2.94it/s]"
     ]
    },
    {
     "name": "stderr",
     "output_type": "stream",
     "text": [
      "\r",
      " 86%|██████████████████████████████████████████████████████████████████████████████████████████████████████████████████████████████████████████████████████████████████▏                          | 103/120 [00:30<00:05,  2.91it/s]"
     ]
    },
    {
     "name": "stderr",
     "output_type": "stream",
     "text": [
      "\r",
      " 87%|███████████████████████████████████████████████████████████████████████████████████████████████████████████████████████████████████████████████████████████████████▊                         | 104/120 [00:30<00:05,  2.77it/s]"
     ]
    },
    {
     "name": "stderr",
     "output_type": "stream",
     "text": [
      "\r",
      " 88%|█████████████████████████████████████████████████████████████████████████████████████████████████████████████████████████████████████████████████████████████████████▍                       | 105/120 [00:31<00:05,  2.80it/s]"
     ]
    },
    {
     "name": "stderr",
     "output_type": "stream",
     "text": [
      "\r",
      " 88%|██████████████████████████████████████████████████████████████████████████████████████████████████████████████████████████████████████████████████████████████████████▉                      | 106/120 [00:31<00:04,  3.08it/s]"
     ]
    },
    {
     "name": "stderr",
     "output_type": "stream",
     "text": [
      "\r",
      " 89%|████████████████████████████████████████████████████████████████████████████████████████████████████████████████████████████████████████████████████████████████████████▌                    | 107/120 [00:31<00:04,  2.98it/s]"
     ]
    },
    {
     "name": "stderr",
     "output_type": "stream",
     "text": [
      "\r",
      " 90%|██████████████████████████████████████████████████████████████████████████████████████████████████████████████████████████████████████████████████████████████████████████                   | 108/120 [00:32<00:03,  3.12it/s]"
     ]
    },
    {
     "name": "stderr",
     "output_type": "stream",
     "text": [
      "\r",
      " 91%|███████████████████████████████████████████████████████████████████████████████████████████████████████████████████████████████████████████████████████████████████████████▋                 | 109/120 [00:32<00:03,  2.95it/s]"
     ]
    },
    {
     "name": "stderr",
     "output_type": "stream",
     "text": [
      "\r",
      " 92%|█████████████████████████████████████████████████████████████████████████████████████████████████████████████████████████████████████████████████████████████████████████████▎               | 110/120 [00:32<00:03,  2.94it/s]"
     ]
    },
    {
     "name": "stderr",
     "output_type": "stream",
     "text": [
      "\r",
      " 92%|██████████████████████████████████████████████████████████████████████████████████████████████████████████████████████████████████████████████████████████████████████████████▊              | 111/120 [00:33<00:02,  3.04it/s]"
     ]
    },
    {
     "name": "stderr",
     "output_type": "stream",
     "text": [
      "\r",
      " 93%|████████████████████████████████████████████████████████████████████████████████████████████████████████████████████████████████████████████████████████████████████████████████▍            | 112/120 [00:33<00:02,  3.07it/s]"
     ]
    },
    {
     "name": "stderr",
     "output_type": "stream",
     "text": [
      "\r",
      " 94%|█████████████████████████████████████████████████████████████████████████████████████████████████████████████████████████████████████████████████████████████████████████████████▉           | 113/120 [00:34<00:02,  2.54it/s]"
     ]
    },
    {
     "name": "stderr",
     "output_type": "stream",
     "text": [
      "\r",
      " 95%|███████████████████████████████████████████████████████████████████████████████████████████████████████████████████████████████████████████████████████████████████████████████████▌         | 114/120 [00:34<00:02,  2.59it/s]"
     ]
    },
    {
     "name": "stderr",
     "output_type": "stream",
     "text": [
      "\r",
      " 96%|█████████████████████████████████████████████████████████████████████████████████████████████████████████████████████████████████████████████████████████████████████████████████████▏       | 115/120 [00:34<00:01,  2.55it/s]"
     ]
    },
    {
     "name": "stderr",
     "output_type": "stream",
     "text": [
      "\r",
      " 97%|██████████████████████████████████████████████████████████████████████████████████████████████████████████████████████████████████████████████████████████████████████████████████████▋      | 116/120 [00:35<00:01,  2.57it/s]"
     ]
    },
    {
     "name": "stderr",
     "output_type": "stream",
     "text": [
      "\r",
      " 98%|████████████████████████████████████████████████████████████████████████████████████████████████████████████████████████████████████████████████████████████████████████████████████████▎    | 117/120 [00:35<00:01,  2.87it/s]"
     ]
    },
    {
     "name": "stderr",
     "output_type": "stream",
     "text": [
      "\r",
      " 98%|█████████████████████████████████████████████████████████████████████████████████████████████████████████████████████████████████████████████████████████████████████████████████████████▊   | 118/120 [00:35<00:00,  3.18it/s]"
     ]
    },
    {
     "name": "stderr",
     "output_type": "stream",
     "text": [
      "\r",
      " 99%|███████████████████████████████████████████████████████████████████████████████████████████████████████████████████████████████████████████████████████████████████████████████████████████▍ | 119/120 [00:36<00:00,  3.23it/s]"
     ]
    },
    {
     "name": "stderr",
     "output_type": "stream",
     "text": [
      "\r",
      "100%|█████████████████████████████████████████████████████████████████████████████████████████████████████████████████████████████████████████████████████████████████████████████████████████████| 120/120 [00:36<00:00,  3.11it/s]"
     ]
    },
    {
     "name": "stderr",
     "output_type": "stream",
     "text": [
      "\r",
      "100%|█████████████████████████████████████████████████████████████████████████████████████████████████████████████████████████████████████████████████████████████████████████████████████████████| 120/120 [00:36<00:00,  3.30it/s]"
     ]
    },
    {
     "name": "stderr",
     "output_type": "stream",
     "text": [
      "\n"
     ]
    }
   ],
   "source": [
    "dataset = []\n",
    "for ind in tqdm(range(len(df_en_target_input))):\n",
    "    d = next(sample(df_en_target_input, ind, lang1=input_lang, lang2=target_lang))\n",
    "    if d is None:\n",
    "        continue\n",
    "    dataset.append(d)"
   ]
  },
  {
   "cell_type": "code",
   "execution_count": 12,
   "id": "d786ab1b",
   "metadata": {
    "execution": {
     "iopub.execute_input": "2024-03-02T15:44:40.298534Z",
     "iopub.status.busy": "2024-03-02T15:44:40.298314Z",
     "iopub.status.idle": "2024-03-02T15:44:40.344783Z",
     "shell.execute_reply": "2024-03-02T15:44:40.344356Z"
    },
    "papermill": {
     "duration": 0.056227,
     "end_time": "2024-03-02T15:44:40.345911",
     "exception": false,
     "start_time": "2024-03-02T15:44:40.289684",
     "status": "completed"
    },
    "tags": []
   },
   "outputs": [],
   "source": [
    "df = pd.DataFrame(dataset)\n",
    "os.makedirs(f'{out_dir}/translation', exist_ok=True)\n",
    "df.to_csv(f'{out_dir}/translation/pythia-{model_size}_{input_lang}_{target_lang}_dataset.csv', index=False)"
   ]
  },
  {
   "cell_type": "code",
   "execution_count": 13,
   "id": "94fa55b7",
   "metadata": {
    "execution": {
     "iopub.execute_input": "2024-03-02T15:44:40.362392Z",
     "iopub.status.busy": "2024-03-02T15:44:40.362203Z",
     "iopub.status.idle": "2024-03-02T15:44:40.397238Z",
     "shell.execute_reply": "2024-03-02T15:44:40.396742Z"
    },
    "papermill": {
     "duration": 0.044825,
     "end_time": "2024-03-02T15:44:40.398510",
     "exception": false,
     "start_time": "2024-03-02T15:44:40.353685",
     "status": "completed"
    },
    "tags": []
   },
   "outputs": [],
   "source": [
    "def get_logits(model, prompt,lens):\n",
    "    inputs = tokenizer(prompt, return_tensors=\"pt\").to('cuda')\n",
    "    output = pythia(inputs.input_ids, output_hidden_states=True)\n",
    "    hidden_states = output.hidden_states[:-1]\n",
    "    final_lps = output.logits.log_softmax(dim=-1)\n",
    "    tensors=[]\n",
    "    hd= []\n",
    "    for i in range(len(model.gpt_neox.layers)):\n",
    "        h = hidden_states[i].squeeze(0)\n",
    "        tensors+=[lens(h, idx=i).detach().cpu()]\n",
    "        hd+=[lens.transform_hidden(h, idx=i).detach().cpu()]\n",
    "    tensors= torch.stack(tensors)  \n",
    "    hidden_states = torch.stack(hd)\n",
    "    return tensors,hidden_states\n",
    "        "
   ]
  },
  {
   "cell_type": "code",
   "execution_count": 14,
   "id": "ee982287",
   "metadata": {
    "execution": {
     "iopub.execute_input": "2024-03-02T15:44:40.414854Z",
     "iopub.status.busy": "2024-03-02T15:44:40.414705Z",
     "iopub.status.idle": "2024-03-02T15:44:40.464018Z",
     "shell.execute_reply": "2024-03-02T15:44:40.463622Z"
    },
    "papermill": {
     "duration": 0.058723,
     "end_time": "2024-03-02T15:44:40.465191",
     "exception": false,
     "start_time": "2024-03-02T15:44:40.406468",
     "status": "completed"
    },
    "tags": []
   },
   "outputs": [
    {
     "data": {
      "text/plain": [
       "[{'prompt': 'Deutsch: \"Streifen\" - English: \"strip\"\\nDeutsch: \"Haus\" - English: \"house\"\\nDeutsch: \"Berg\" - English: \"mountain\"\\nDeutsch: \"eins\" - English: \"one\"\\nDeutsch: \"Buch\" - English: \"',\n",
       "  'out_token_id': [67, 3305, 2399],\n",
       "  'out_token_str': 'book',\n",
       "  'latent_token_id': [67, 3305, 2399],\n",
       "  'latent_token_str': 'book',\n",
       "  'in_token_str': 'Buch'},\n",
       " {'prompt': 'Deutsch: \"Plattform\" - English: \"platform\"\\nDeutsch: \"vier\" - English: \"four\"\\nDeutsch: \"Gitter\" - English: \"grid\"\\nDeutsch: \"Wasser\" - English: \"water\"\\nDeutsch: \"Wolke\" - English: \"',\n",
       "  'out_token_id': [498, 68, 45679, 18534],\n",
       "  'out_token_str': 'cloud',\n",
       "  'latent_token_id': [498, 68, 45679, 18534],\n",
       "  'latent_token_str': 'cloud',\n",
       "  'in_token_str': 'Wolke'},\n",
       " {'prompt': 'Deutsch: \"Freund\" - English: \"friend\"\\nDeutsch: \"See\" - English: \"lake\"\\nDeutsch: \"Meer\" - English: \"sea\"\\nDeutsch: \"Paar\" - English: \"pair\"\\nDeutsch: \"Tasche\" - English: \"',\n",
       "  'out_token_id': [67, 5830, 22738],\n",
       "  'out_token_str': 'bag',\n",
       "  'latent_token_id': [67, 5830, 22738],\n",
       "  'latent_token_str': 'bag',\n",
       "  'in_token_str': 'Tasche'},\n",
       " {'prompt': 'Deutsch: \"Kopf\" - English: \"head\"\\nDeutsch: \"Mitte\" - English: \"middle\"\\nDeutsch: \"Bahnhof\" - English: \"station\"\\nDeutsch: \"Kind\" - English: \"child\"\\nDeutsch: \"Mund\" - English: \"',\n",
       "  'out_token_id': [6972, 19845, 78],\n",
       "  'out_token_str': 'mouth',\n",
       "  'latent_token_id': [6972, 19845, 78],\n",
       "  'latent_token_str': 'mouth',\n",
       "  'in_token_str': 'Mund'},\n",
       " {'prompt': 'Deutsch: \"Provinz\" - English: \"province\"\\nDeutsch: \"Netz\" - English: \"net\"\\nDeutsch: \"Schwanz\" - English: \"tail\"\\nDeutsch: \"neun\" - English: \"nine\"\\nDeutsch: \"Boden\" - English: \"',\n",
       "  'out_token_id': [84, 601],\n",
       "  'out_token_str': 'soil',\n",
       "  'latent_token_id': [84, 601],\n",
       "  'latent_token_str': 'soil',\n",
       "  'in_token_str': 'Boden'},\n",
       " {'prompt': 'Deutsch: \"Bahnhof\" - English: \"station\"\\nDeutsch: \"Meer\" - English: \"sea\"\\nDeutsch: \"Punkt\" - English: \"point\"\\nDeutsch: \"sechs\" - English: \"six\"\\nDeutsch: \"Berg\" - English: \"',\n",
       "  'out_token_id': [6972, 16285, 78],\n",
       "  'out_token_str': 'mountain',\n",
       "  'latent_token_id': [6972, 16285, 78],\n",
       "  'latent_token_str': 'mountain',\n",
       "  'in_token_str': 'Berg'},\n",
       " {'prompt': 'Deutsch: \"Provinz\" - English: \"province\"\\nDeutsch: \"Netz\" - English: \"net\"\\nDeutsch: \"Herz\" - English: \"heart\"\\nDeutsch: \"Rede\" - English: \"speech\"\\nDeutsch: \"Tuch\" - English: \"',\n",
       "  'out_token_id': [498, 45313, 68, 45679],\n",
       "  'out_token_str': 'cloth',\n",
       "  'latent_token_id': [498, 45313, 68, 45679],\n",
       "  'latent_token_str': 'cloth',\n",
       "  'in_token_str': 'Tuch'},\n",
       " {'prompt': 'Deutsch: \"Schnee\" - English: \"snow\"\\nDeutsch: \"Feder\" - English: \"spring\"\\nDeutsch: \"Version\" - English: \"version\"\\nDeutsch: \"Beispiel\" - English: \"example\"\\nDeutsch: \"Herz\" - English: \"',\n",
       "  'out_token_id': [21071, 73, 14387, 248],\n",
       "  'out_token_str': 'heart',\n",
       "  'latent_token_id': [21071, 73, 14387, 248],\n",
       "  'latent_token_str': 'heart',\n",
       "  'in_token_str': 'Herz'},\n",
       " {'prompt': 'Deutsch: \"Höhle\" - English: \"cave\"\\nDeutsch: \"neun\" - English: \"nine\"\\nDeutsch: \"Tuch\" - English: \"cloth\"\\nDeutsch: \"Ball\" - English: \"ball\"\\nDeutsch: \"Hand\" - English: \"',\n",
       "  'out_token_id': [73, 5582, 4608, 3227],\n",
       "  'out_token_str': 'hand',\n",
       "  'latent_token_id': [73, 5582, 4608, 3227],\n",
       "  'latent_token_str': 'hand',\n",
       "  'in_token_str': 'Hand'},\n",
       " {'prompt': 'Deutsch: \"Generation\" - English: \"generation\"\\nDeutsch: \"Teich\" - English: \"pond\"\\nDeutsch: \"löschen\" - English: \"delete\"\\nDeutsch: \"Gegenstand\" - English: \"item\"\\nDeutsch: \"Tag\" - English: \"',\n",
       "  'out_token_id': [69, 1473, 1201],\n",
       "  'out_token_str': 'day',\n",
       "  'latent_token_id': [69, 1473, 1201],\n",
       "  'latent_token_str': 'day',\n",
       "  'in_token_str': 'Tag'},\n",
       " {'prompt': 'Deutsch: \"Art\" - English: \"kind\"\\nDeutsch: \"Niederlage\" - English: \"defeat\"\\nDeutsch: \"Feder\" - English: \"spring\"\\nDeutsch: \"Tal\" - English: \"valley\"\\nDeutsch: \"Stern\" - English: \"',\n",
       "  'out_token_id': [7873, 18233, 84, 296],\n",
       "  'out_token_str': 'star',\n",
       "  'latent_token_id': [7873, 18233, 84, 296],\n",
       "  'latent_token_str': 'star',\n",
       "  'in_token_str': 'Stern'},\n",
       " {'prompt': 'Deutsch: \"Reis\" - English: \"rice\"\\nDeutsch: \"Schule\" - English: \"school\"\\nDeutsch: \"Holz\" - English: \"wood\"\\nDeutsch: \"vier\" - English: \"four\"\\nDeutsch: \"Feder\" - English: \"',\n",
       "  'out_token_id': [84, 1033, 10167, 27375],\n",
       "  'out_token_str': 'spring',\n",
       "  'latent_token_id': [84, 1033, 10167, 27375],\n",
       "  'latent_token_str': 'spring',\n",
       "  'in_token_str': 'Feder'},\n",
       " {'prompt': 'Deutsch: \"Anstieg\" - English: \"rise\"\\nDeutsch: \"Generation\" - English: \"generation\"\\nDeutsch: \"Berg\" - English: \"mountain\"\\nDeutsch: \"links\" - English: \"left\"\\nDeutsch: \"Mond\" - English: \"',\n",
       "  'out_token_id': [6972, 78],\n",
       "  'out_token_str': 'moon',\n",
       "  'latent_token_id': [6972, 78],\n",
       "  'latent_token_str': 'moon',\n",
       "  'in_token_str': 'Mond'},\n",
       " {'prompt': 'Deutsch: \"Meer\" - English: \"sea\"\\nDeutsch: \"Schnee\" - English: \"snow\"\\nDeutsch: \"Tuch\" - English: \"cloth\"\\nDeutsch: \"sechs\" - English: \"six\"\\nDeutsch: \"Holz\" - English: \"',\n",
       "  'out_token_id': [88, 680, 5308],\n",
       "  'out_token_str': 'wood',\n",
       "  'latent_token_id': [88, 680, 5308],\n",
       "  'latent_token_str': 'wood',\n",
       "  'in_token_str': 'Holz'},\n",
       " {'prompt': 'Deutsch: \"Kopf\" - English: \"head\"\\nDeutsch: \"Anstieg\" - English: \"rise\"\\nDeutsch: \"Provinz\" - English: \"province\"\\nDeutsch: \"zehn\" - English: \"ten\"\\nDeutsch: \"Dorf\" - English: \"',\n",
       "  'out_token_id': [87, 33745, 40579, 6584],\n",
       "  'out_token_str': 'village',\n",
       "  'latent_token_id': [87, 33745, 40579, 6584],\n",
       "  'latent_token_str': 'village',\n",
       "  'in_token_str': 'Dorf'},\n",
       " {'prompt': 'Deutsch: \"Fuß\" - English: \"foot\"\\nDeutsch: \"Büro\" - English: \"office\"\\nDeutsch: \"Börse\" - English: \"exchange\"\\nDeutsch: \"Boden\" - English: \"soil\"\\nDeutsch: \"Wald\" - English: \"',\n",
       "  'out_token_id': [71, 1542, 922, 38250, 4786],\n",
       "  'out_token_str': 'forest',\n",
       "  'latent_token_id': [71, 1542, 922, 38250, 4786],\n",
       "  'latent_token_str': 'forest',\n",
       "  'in_token_str': 'Wald'},\n",
       " {'prompt': 'Deutsch: \"Blume\" - English: \"flower\"\\nDeutsch: \"Welle\" - English: \"wave\"\\nDeutsch: \"Wald\" - English: \"forest\"\\nDeutsch: \"Stern\" - English: \"star\"\\nDeutsch: \"Gitter\" - English: \"',\n",
       "  'out_token_id': [15476, 72, 737],\n",
       "  'out_token_str': 'grid',\n",
       "  'latent_token_id': [15476, 72, 737],\n",
       "  'latent_token_str': 'grid',\n",
       "  'in_token_str': 'Gitter'},\n",
       " {'prompt': 'Deutsch: \"Schule\" - English: \"school\"\\nDeutsch: \"fünf\" - English: \"five\"\\nDeutsch: \"Tuch\" - English: \"cloth\"\\nDeutsch: \"Auge\" - English: \"eye\"\\nDeutsch: \"Lied\" - English: \"',\n",
       "  'out_token_id': [1665, 32429, 84, 601],\n",
       "  'out_token_str': 'song',\n",
       "  'latent_token_id': [1665, 32429, 84, 601],\n",
       "  'latent_token_str': 'song',\n",
       "  'in_token_str': 'Lied'},\n",
       " {'prompt': 'Deutsch: \"Ozean\" - English: \"ocean\"\\nDeutsch: \"Richter\" - English: \"judge\"\\nDeutsch: \"Macht\" - English: \"power\"\\nDeutsch: \"fünf\" - English: \"five\"\\nDeutsch: \"Wasser\" - English: \"',\n",
       "  'out_token_id': [88, 7779, 8754, 16526],\n",
       "  'out_token_str': 'water',\n",
       "  'latent_token_id': [88, 7779, 8754, 16526],\n",
       "  'latent_token_str': 'water',\n",
       "  'in_token_str': 'Wasser'},\n",
       " {'prompt': 'Deutsch: \"Art\" - English: \"kind\"\\nDeutsch: \"sieben\" - English: \"seven\"\\nDeutsch: \"Holz\" - English: \"wood\"\\nDeutsch: \"Zeit\" - English: \"time\"\\nDeutsch: \"Teich\" - English: \"',\n",
       "  'out_token_id': [81, 5367],\n",
       "  'out_token_str': 'pond',\n",
       "  'latent_token_id': [81, 5367],\n",
       "  'latent_token_str': 'pond',\n",
       "  'in_token_str': 'Teich'},\n",
       " {'prompt': 'Deutsch: \"Stern\" - English: \"star\"\\nDeutsch: \"Börse\" - English: \"exchange\"\\nDeutsch: \"Tugend\" - English: \"virtue\"\\nDeutsch: \"Freund\" - English: \"friend\"\\nDeutsch: \"Sand\" - English: \"',\n",
       "  'out_token_id': [84, 26125, 40728, 6678],\n",
       "  'out_token_str': 'sand',\n",
       "  'latent_token_id': [84, 26125, 40728, 6678],\n",
       "  'latent_token_str': 'sand',\n",
       "  'in_token_str': 'Sand'},\n",
       " {'prompt': 'Deutsch: \"eins\" - English: \"one\"\\nDeutsch: \"Sitz\" - English: \"seat\"\\nDeutsch: \"acht\" - English: \"eight\"\\nDeutsch: \"Feuer\" - English: \"fire\"\\nDeutsch: \"Fluss\" - English: \"',\n",
       "  'out_token_id': [1069, 363, 83, 6606, 9878],\n",
       "  'out_token_str': 'river',\n",
       "  'latent_token_id': [1069, 363, 83, 6606, 9878],\n",
       "  'latent_token_str': 'river',\n",
       "  'in_token_str': 'Fluss'},\n",
       " {'prompt': 'Deutsch: \"zehn\" - English: \"ten\"\\nDeutsch: \"Wort\" - English: \"word\"\\nDeutsch: \"Berg\" - English: \"mountain\"\\nDeutsch: \"Wasser\" - English: \"water\"\\nDeutsch: \"Gesetz\" - English: \"',\n",
       "  'out_token_id': [77, 6937, 4123],\n",
       "  'out_token_str': 'law',\n",
       "  'latent_token_id': [77, 6937, 4123],\n",
       "  'latent_token_str': 'law',\n",
       "  'in_token_str': 'Gesetz'},\n",
       " {'prompt': 'Deutsch: \"vier\" - English: \"four\"\\nDeutsch: \"Börse\" - English: \"exchange\"\\nDeutsch: \"zehn\" - English: \"ten\"\\nDeutsch: \"Quadrat\" - English: \"square\"\\nDeutsch: \"Welle\" - English: \"',\n",
       "  'out_token_id': [88, 15007, 8754],\n",
       "  'out_token_str': 'wave',\n",
       "  'latent_token_id': [88, 15007, 8754],\n",
       "  'latent_token_str': 'wave',\n",
       "  'in_token_str': 'Welle'},\n",
       " {'prompt': 'Deutsch: \"See\" - English: \"lake\"\\nDeutsch: \"Norden\" - English: \"north\"\\nDeutsch: \"tausend\" - English: \"thousand\"\\nDeutsch: \"Bahnhof\" - English: \"station\"\\nDeutsch: \"Ozean\" - English: \"',\n",
       "  'out_token_id': [406, 80],\n",
       "  'out_token_str': 'ocean',\n",
       "  'latent_token_id': [406, 80],\n",
       "  'latent_token_str': 'ocean',\n",
       "  'in_token_str': 'Ozean'},\n",
       " {'prompt': 'Deutsch: \"Standort\" - English: \"site\"\\nDeutsch: \"Gegenstand\" - English: \"item\"\\nDeutsch: \"Mond\" - English: \"moon\"\\nDeutsch: \"Geschichte\" - English: \"history\"\\nDeutsch: \"Höhle\" - English: \"',\n",
       "  'out_token_id': [68, 6357, 43205],\n",
       "  'out_token_str': 'cave',\n",
       "  'latent_token_id': [68, 6357, 43205],\n",
       "  'latent_token_str': 'cave',\n",
       "  'in_token_str': 'Höhle'},\n",
       " {'prompt': 'Deutsch: \"Tag\" - English: \"day\"\\nDeutsch: \"Holz\" - English: \"wood\"\\nDeutsch: \"Blume\" - English: \"flower\"\\nDeutsch: \"acht\" - English: \"eight\"\\nDeutsch: \"Meer\" - English: \"',\n",
       "  'out_token_id': [339, 84, 15681],\n",
       "  'out_token_str': 'sea',\n",
       "  'latent_token_id': [339, 84, 15681],\n",
       "  'latent_token_str': 'sea',\n",
       "  'in_token_str': 'Meer'},\n",
       " {'prompt': 'Deutsch: \"Licht\" - English: \"light\"\\nDeutsch: \"Ball\" - English: \"ball\"\\nDeutsch: \"Süden\" - English: \"south\"\\nDeutsch: \"Version\" - English: \"version\"\\nDeutsch: \"See\" - English: \"',\n",
       "  'out_token_id': [77, 4123, 48212],\n",
       "  'out_token_str': 'lake',\n",
       "  'latent_token_id': [77, 4123, 48212],\n",
       "  'latent_token_str': 'lake',\n",
       "  'in_token_str': 'See'},\n",
       " {'prompt': 'Deutsch: \"Generation\" - English: \"generation\"\\nDeutsch: \"Teil\" - English: \"part\"\\nDeutsch: \"Tuch\" - English: \"cloth\"\\nDeutsch: \"Niederlage\" - English: \"defeat\"\\nDeutsch: \"Quelle\" - English: \"',\n",
       "  'out_token_id': [6756, 84, 601],\n",
       "  'out_token_str': 'source',\n",
       "  'latent_token_id': [6756, 84, 601],\n",
       "  'latent_token_str': 'source',\n",
       "  'in_token_str': 'Quelle'},\n",
       " {'prompt': 'Deutsch: \"Nutzen\" - English: \"benefit\"\\nDeutsch: \"Straße\" - English: \"street\"\\nDeutsch: \"Turm\" - English: \"tower\"\\nDeutsch: \"Teil\" - English: \"part\"\\nDeutsch: \"Feuer\" - English: \"',\n",
       "  'out_token_id': [71, 11342, 11125],\n",
       "  'out_token_str': 'fire',\n",
       "  'latent_token_id': [71, 11342, 11125],\n",
       "  'latent_token_str': 'fire',\n",
       "  'in_token_str': 'Feuer'},\n",
       " {'prompt': 'Deutsch: \"Wolke\" - English: \"cloud\"\\nDeutsch: \"Mutter\" - English: \"mother\"\\nDeutsch: \"Tee\" - English: \"tea\"\\nDeutsch: \"fünf\" - English: \"five\"\\nDeutsch: \"Punkt\" - English: \"',\n",
       "  'out_token_id': [81, 5367, 3659],\n",
       "  'out_token_str': 'point',\n",
       "  'latent_token_id': [81, 5367, 3659],\n",
       "  'latent_token_str': 'point',\n",
       "  'in_token_str': 'Punkt'},\n",
       " {'prompt': 'Deutsch: \"Richter\" - English: \"judge\"\\nDeutsch: \"Teich\" - English: \"pond\"\\nDeutsch: \"Gemälde\" - English: \"painting\"\\nDeutsch: \"See\" - English: \"lake\"\\nDeutsch: \"Version\" - English: \"',\n",
       "  'out_token_id': [332, 87, 735, 306, 4149],\n",
       "  'out_token_str': 'version',\n",
       "  'latent_token_id': [332, 87, 735, 306, 4149],\n",
       "  'latent_token_str': 'version',\n",
       "  'in_token_str': 'Version'},\n",
       " {'prompt': 'Deutsch: \"Pferd\" - English: \"horse\"\\nDeutsch: \"acht\" - English: \"eight\"\\nDeutsch: \"Turm\" - English: \"tower\"\\nDeutsch: \"drei\" - English: \"three\"\\nDeutsch: \"Ball\" - English: \"',\n",
       "  'out_token_id': [67, 7187, 5830, 2910],\n",
       "  'out_token_str': 'ball',\n",
       "  'latent_token_id': [67, 7187, 5830, 2910],\n",
       "  'latent_token_str': 'ball',\n",
       "  'in_token_str': 'Ball'},\n",
       " {'prompt': 'Deutsch: \"Feld\" - English: \"field\"\\nDeutsch: \"Gesicht\" - English: \"face\"\\nDeutsch: \"Blume\" - English: \"flower\"\\nDeutsch: \"Haar\" - English: \"hair\"\\nDeutsch: \"Gemälde\" - English: \"',\n",
       "  'out_token_id': [81, 31406, 4904],\n",
       "  'out_token_str': 'painting',\n",
       "  'latent_token_id': [81, 31406, 4904],\n",
       "  'latent_token_str': 'painting',\n",
       "  'in_token_str': 'Gemälde'},\n",
       " {'prompt': 'Deutsch: \"Richter\" - English: \"judge\"\\nDeutsch: \"Fluss\" - English: \"river\"\\nDeutsch: \"Feuer\" - English: \"fire\"\\nDeutsch: \"löschen\" - English: \"delete\"\\nDeutsch: \"Bahnhof\" - English: \"',\n",
       "  'out_token_id': [18233, 84, 8766, 296, 20502],\n",
       "  'out_token_str': 'station',\n",
       "  'latent_token_id': [18233, 84, 8766, 296, 20502],\n",
       "  'latent_token_str': 'station',\n",
       "  'in_token_str': 'Bahnhof'},\n",
       " {'prompt': 'Deutsch: \"rot\" - English: \"red\"\\nDeutsch: \"eins\" - English: \"one\"\\nDeutsch: \"Zeit\" - English: \"time\"\\nDeutsch: \"Feder\" - English: \"spring\"\\nDeutsch: \"Reis\" - English: \"',\n",
       "  'out_token_id': [363, 83, 695, 23804],\n",
       "  'out_token_str': 'rice',\n",
       "  'latent_token_id': [363, 83, 695, 23804],\n",
       "  'latent_token_str': 'rice',\n",
       "  'in_token_str': 'Reis'},\n",
       " {'prompt': 'Deutsch: \"Generation\" - English: \"generation\"\\nDeutsch: \"Art\" - English: \"kind\"\\nDeutsch: \"Tee\" - English: \"tea\"\\nDeutsch: \"Haus\" - English: \"house\"\\nDeutsch: \"rot\" - English: \"',\n",
       "  'out_token_id': [433, 83, 250],\n",
       "  'out_token_str': 'red',\n",
       "  'latent_token_id': [433, 83, 250],\n",
       "  'latent_token_str': 'red',\n",
       "  'in_token_str': 'rot'},\n",
       " {'prompt': 'Deutsch: \"Farbe\" - English: \"color\"\\nDeutsch: \"Rede\" - English: \"speech\"\\nDeutsch: \"Haar\" - English: \"hair\"\\nDeutsch: \"Auge\" - English: \"eye\"\\nDeutsch: \"Linie\" - English: \"',\n",
       "  'out_token_id': [77, 1282, 3642, 965],\n",
       "  'out_token_str': 'line',\n",
       "  'latent_token_id': [77, 1282, 3642, 965],\n",
       "  'latent_token_str': 'line',\n",
       "  'in_token_str': 'Linie'},\n",
       " {'prompt': 'Deutsch: \"Quelle\" - English: \"source\"\\nDeutsch: \"Versuch\" - English: \"attempt\"\\nDeutsch: \"Welle\" - English: \"wave\"\\nDeutsch: \"Provinz\" - English: \"province\"\\nDeutsch: \"Netz\" - English: \"',\n",
       "  'out_token_id': [79, 3024, 570],\n",
       "  'out_token_str': 'net',\n",
       "  'latent_token_id': [79, 3024, 570],\n",
       "  'latent_token_str': 'net',\n",
       "  'in_token_str': 'Netz'},\n",
       " {'prompt': 'Deutsch: \"Süden\" - English: \"south\"\\nDeutsch: \"Quadrat\" - English: \"square\"\\nDeutsch: \"Paar\" - English: \"pair\"\\nDeutsch: \"Teich\" - English: \"pond\"\\nDeutsch: \"Blume\" - English: \"',\n",
       "  'out_token_id': [33179, 40591, 71, 1258, 5449],\n",
       "  'out_token_str': 'flower',\n",
       "  'latent_token_id': [33179, 40591, 71, 1258, 5449],\n",
       "  'latent_token_str': 'flower',\n",
       "  'in_token_str': 'Blume'},\n",
       " {'prompt': 'Deutsch: \"Teil\" - English: \"part\"\\nDeutsch: \"Auge\" - English: \"eye\"\\nDeutsch: \"Gesicht\" - English: \"face\"\\nDeutsch: \"Ball\" - English: \"ball\"\\nDeutsch: \"Tee\" - English: \"',\n",
       "  'out_token_id': [85, 442],\n",
       "  'out_token_str': 'tea',\n",
       "  'latent_token_id': [85, 442],\n",
       "  'latent_token_str': 'tea',\n",
       "  'in_token_str': 'Tee'},\n",
       " {'prompt': 'Deutsch: \"Rede\" - English: \"speech\"\\nDeutsch: \"Schwanz\" - English: \"tail\"\\nDeutsch: \"Sonne\" - English: \"sun\"\\nDeutsch: \"drei\" - English: \"three\"\\nDeutsch: \"Fuß\" - English: \"',\n",
       "  'out_token_id': [12110, 71, 8938, 4786],\n",
       "  'out_token_str': 'foot',\n",
       "  'latent_token_id': [12110, 71, 8938, 4786],\n",
       "  'latent_token_str': 'foot',\n",
       "  'in_token_str': 'Fuß'},\n",
       " {'prompt': 'Deutsch: \"Mond\" - English: \"moon\"\\nDeutsch: \"tausend\" - English: \"thousand\"\\nDeutsch: \"Netz\" - English: \"net\"\\nDeutsch: \"zwei\" - English: \"two\"\\nDeutsch: \"Gold\" - English: \"',\n",
       "  'out_token_id': [72, 2184, 27716, 32651],\n",
       "  'out_token_str': 'gold',\n",
       "  'latent_token_id': [72, 2184, 27716, 32651],\n",
       "  'latent_token_str': 'gold',\n",
       "  'in_token_str': 'Gold'},\n",
       " {'prompt': 'Deutsch: \"Ball\" - English: \"ball\"\\nDeutsch: \"Büro\" - English: \"office\"\\nDeutsch: \"Norden\" - English: \"north\"\\nDeutsch: \"Mutter\" - English: \"mother\"\\nDeutsch: \"Tür\" - English: \"',\n",
       "  'out_token_id': [3088, 69, 11806],\n",
       "  'out_token_str': 'door',\n",
       "  'latent_token_id': [3088, 69, 11806],\n",
       "  'latent_token_str': 'door',\n",
       "  'in_token_str': 'Tür'},\n",
       " {'prompt': 'Deutsch: \"Gemälde\" - English: \"painting\"\\nDeutsch: \"Turm\" - English: \"tower\"\\nDeutsch: \"Süden\" - English: \"south\"\\nDeutsch: \"Maschine\" - English: \"machine\"\\nDeutsch: \"Schnee\" - English: \"',\n",
       "  'out_token_id': [11489, 84],\n",
       "  'out_token_str': 'snow',\n",
       "  'latent_token_id': [11489, 84],\n",
       "  'latent_token_str': 'snow',\n",
       "  'in_token_str': 'Schnee'},\n",
       " {'prompt': 'Deutsch: \"Haus\" - English: \"house\"\\nDeutsch: \"Büro\" - English: \"office\"\\nDeutsch: \"Tuch\" - English: \"cloth\"\\nDeutsch: \"Netz\" - English: \"net\"\\nDeutsch: \"Pferd\" - English: \"',\n",
       "  'out_token_id': [73, 4210, 33647, 1688, 1689],\n",
       "  'out_token_str': 'horse',\n",
       "  'latent_token_id': [73, 4210, 33647, 1688, 1689],\n",
       "  'latent_token_str': 'horse',\n",
       "  'in_token_str': 'Pferd'},\n",
       " {'prompt': 'Deutsch: \"Tuch\" - English: \"cloth\"\\nDeutsch: \"Generation\" - English: \"generation\"\\nDeutsch: \"Gold\" - English: \"gold\"\\nDeutsch: \"Kind\" - English: \"child\"\\nDeutsch: \"eins\" - English: \"',\n",
       "  'out_token_id': [80, 251, 531],\n",
       "  'out_token_str': 'one',\n",
       "  'latent_token_id': [80, 251, 531],\n",
       "  'latent_token_str': 'one',\n",
       "  'in_token_str': 'eins'},\n",
       " {'prompt': 'Deutsch: \"Fluss\" - English: \"river\"\\nDeutsch: \"Schule\" - English: \"school\"\\nDeutsch: \"Feder\" - English: \"spring\"\\nDeutsch: \"Tugend\" - English: \"virtue\"\\nDeutsch: \"zwei\" - English: \"',\n",
       "  'out_token_id': [85, 9389, 7553],\n",
       "  'out_token_str': 'two',\n",
       "  'latent_token_id': [85, 9389, 7553],\n",
       "  'latent_token_str': 'two',\n",
       "  'in_token_str': 'zwei'},\n",
       " {'prompt': 'Deutsch: \"Haus\" - English: \"house\"\\nDeutsch: \"Buch\" - English: \"book\"\\nDeutsch: \"Ball\" - English: \"ball\"\\nDeutsch: \"Gemälde\" - English: \"painting\"\\nDeutsch: \"drei\" - English: \"',\n",
       "  'out_token_id': [85, 13524, 394],\n",
       "  'out_token_str': 'three',\n",
       "  'latent_token_id': [85, 13524, 394],\n",
       "  'latent_token_str': 'three',\n",
       "  'in_token_str': 'drei'},\n",
       " {'prompt': 'Deutsch: \"Rede\" - English: \"speech\"\\nDeutsch: \"Quelle\" - English: \"source\"\\nDeutsch: \"tausend\" - English: \"thousand\"\\nDeutsch: \"Ozean\" - English: \"ocean\"\\nDeutsch: \"vier\" - English: \"',\n",
       "  'out_token_id': [71, 4786, 12496],\n",
       "  'out_token_str': 'four',\n",
       "  'latent_token_id': [71, 4786, 12496],\n",
       "  'latent_token_str': 'four',\n",
       "  'in_token_str': 'vier'},\n",
       " {'prompt': 'Deutsch: \"Art\" - English: \"kind\"\\nDeutsch: \"Freund\" - English: \"friend\"\\nDeutsch: \"Höhle\" - English: \"cave\"\\nDeutsch: \"Feuer\" - English: \"fire\"\\nDeutsch: \"fünf\" - English: \"',\n",
       "  'out_token_id': [12071, 71, 11125],\n",
       "  'out_token_str': 'five',\n",
       "  'latent_token_id': [12071, 71, 11125],\n",
       "  'latent_token_str': 'five',\n",
       "  'in_token_str': 'fünf'},\n",
       " {'prompt': 'Deutsch: \"Geschwindigkeit\" - English: \"speed\"\\nDeutsch: \"Tee\" - English: \"tea\"\\nDeutsch: \"Wolke\" - English: \"cloud\"\\nDeutsch: \"Sand\" - English: \"sand\"\\nDeutsch: \"sechs\" - English: \"',\n",
       "  'out_token_id': [17182, 84, 9245],\n",
       "  'out_token_str': 'six',\n",
       "  'latent_token_id': [17182, 84, 9245],\n",
       "  'latent_token_str': 'six',\n",
       "  'in_token_str': 'sechs'},\n",
       " {'prompt': 'Deutsch: \"Büro\" - English: \"office\"\\nDeutsch: \"Fuß\" - English: \"foot\"\\nDeutsch: \"Blume\" - English: \"flower\"\\nDeutsch: \"Börse\" - English: \"exchange\"\\nDeutsch: \"sieben\" - English: \"',\n",
       "  'out_token_id': [23587, 46731, 339, 84],\n",
       "  'out_token_str': 'seven',\n",
       "  'latent_token_id': [23587, 46731, 339, 84],\n",
       "  'latent_token_str': 'seven',\n",
       "  'in_token_str': 'sieben'},\n",
       " {'prompt': 'Deutsch: \"Richter\" - English: \"judge\"\\nDeutsch: \"Gemälde\" - English: \"painting\"\\nDeutsch: \"Punkt\" - English: \"point\"\\nDeutsch: \"Feuer\" - English: \"fire\"\\nDeutsch: \"acht\" - English: \"',\n",
       "  'out_token_id': [70, 19521, 27116],\n",
       "  'out_token_str': 'eight',\n",
       "  'latent_token_id': [70, 19521, 27116],\n",
       "  'latent_token_str': 'eight',\n",
       "  'in_token_str': 'acht'},\n",
       " {'prompt': 'Deutsch: \"Fuß\" - English: \"foot\"\\nDeutsch: \"Mund\" - English: \"mouth\"\\nDeutsch: \"Gitter\" - English: \"grid\"\\nDeutsch: \"Schwanz\" - English: \"tail\"\\nDeutsch: \"neun\" - English: \"',\n",
       "  'out_token_id': [79, 8311, 27248],\n",
       "  'out_token_str': 'nine',\n",
       "  'latent_token_id': [79, 8311, 27248],\n",
       "  'latent_token_str': 'nine',\n",
       "  'in_token_str': 'neun'},\n",
       " {'prompt': 'Deutsch: \"Stern\" - English: \"star\"\\nDeutsch: \"Maschine\" - English: \"machine\"\\nDeutsch: \"Norden\" - English: \"north\"\\nDeutsch: \"Schwanz\" - English: \"tail\"\\nDeutsch: \"zehn\" - English: \"',\n",
       "  'out_token_id': [85, 1866, 442],\n",
       "  'out_token_str': 'ten',\n",
       "  'latent_token_id': [85, 1866, 442],\n",
       "  'latent_token_str': 'ten',\n",
       "  'in_token_str': 'zehn'},\n",
       " {'prompt': 'Deutsch: \"Talent\" - English: \"talent\"\\nDeutsch: \"Macht\" - English: \"power\"\\nDeutsch: \"Feder\" - English: \"spring\"\\nDeutsch: \"Sommer\" - English: \"summer\"\\nDeutsch: \"Kopf\" - English: \"',\n",
       "  'out_token_id': [21071, 73, 248, 2522],\n",
       "  'out_token_str': 'head',\n",
       "  'latent_token_id': [21071, 73, 248, 2522],\n",
       "  'latent_token_str': 'head',\n",
       "  'in_token_str': 'Kopf'},\n",
       " {'prompt': 'Deutsch: \"Schnee\" - English: \"snow\"\\nDeutsch: \"löschen\" - English: \"delete\"\\nDeutsch: \"Haus\" - English: \"house\"\\nDeutsch: \"Gruppe\" - English: \"group\"\\nDeutsch: \"Streifen\" - English: \"',\n",
       "  'out_token_id': [84, 32182, 296, 25763, 1344],\n",
       "  'out_token_str': 'strip',\n",
       "  'latent_token_id': [84, 32182, 296, 25763, 1344],\n",
       "  'latent_token_str': 'strip',\n",
       "  'in_token_str': 'Streifen'},\n",
       " {'prompt': 'Deutsch: \"Pferd\" - English: \"horse\"\\nDeutsch: \"See\" - English: \"lake\"\\nDeutsch: \"Börse\" - English: \"exchange\"\\nDeutsch: \"Reis\" - English: \"rice\"\\nDeutsch: \"Straße\" - English: \"',\n",
       "  'out_token_id': [84, 32565, 296, 1344, 33151],\n",
       "  'out_token_str': 'street',\n",
       "  'latent_token_id': [84, 32565, 296, 1344, 33151],\n",
       "  'latent_token_str': 'street',\n",
       "  'in_token_str': 'Straße'},\n",
       " {'prompt': 'Deutsch: \"Versuch\" - English: \"attempt\"\\nDeutsch: \"Provinz\" - English: \"province\"\\nDeutsch: \"Büro\" - English: \"office\"\\nDeutsch: \"Teich\" - English: \"pond\"\\nDeutsch: \"Teil\" - English: \"',\n",
       "  'out_token_id': [1148, 81, 2003, 4904],\n",
       "  'out_token_str': 'part',\n",
       "  'latent_token_id': [1148, 81, 2003, 4904],\n",
       "  'latent_token_str': 'part',\n",
       "  'in_token_str': 'Teil'},\n",
       " {'prompt': 'Deutsch: \"Tee\" - English: \"tea\"\\nDeutsch: \"Gesetz\" - English: \"law\"\\nDeutsch: \"Plattform\" - English: \"platform\"\\nDeutsch: \"Feuer\" - English: \"fire\"\\nDeutsch: \"Auge\" - English: \"',\n",
       "  'out_token_id': [2653, 30978, 70],\n",
       "  'out_token_str': 'eye',\n",
       "  'latent_token_id': [2653, 30978, 70],\n",
       "  'latent_token_str': 'eye',\n",
       "  'in_token_str': 'Auge'},\n",
       " {'prompt': 'Deutsch: \"Schnee\" - English: \"snow\"\\nDeutsch: \"Gold\" - English: \"gold\"\\nDeutsch: \"Schönheit\" - English: \"beauty\"\\nDeutsch: \"Mitte\" - English: \"middle\"\\nDeutsch: \"Feld\" - English: \"',\n",
       "  'out_token_id': [71, 11125, 3423],\n",
       "  'out_token_str': 'field',\n",
       "  'latent_token_id': [71, 11125, 3423],\n",
       "  'latent_token_str': 'field',\n",
       "  'in_token_str': 'Feld'},\n",
       " {'prompt': 'Deutsch: \"Richter\" - English: \"judge\"\\nDeutsch: \"Gesicht\" - English: \"face\"\\nDeutsch: \"Schwanz\" - English: \"tail\"\\nDeutsch: \"Schule\" - English: \"school\"\\nDeutsch: \"Standort\" - English: \"',\n",
       "  'out_token_id': [84, 9245, 12198, 11264],\n",
       "  'out_token_str': 'site',\n",
       "  'latent_token_id': [84, 9245, 12198, 11264],\n",
       "  'latent_token_str': 'site',\n",
       "  'in_token_str': 'Standort'},\n",
       " {'prompt': 'Deutsch: \"Pferd\" - English: \"horse\"\\nDeutsch: \"Fluss\" - English: \"river\"\\nDeutsch: \"Welle\" - English: \"wave\"\\nDeutsch: \"Feuer\" - English: \"fire\"\\nDeutsch: \"Wort\" - English: \"',\n",
       "  'out_token_id': [88, 680, 42108, 3418],\n",
       "  'out_token_str': 'word',\n",
       "  'latent_token_id': [88, 680, 42108, 3418],\n",
       "  'latent_token_str': 'word',\n",
       "  'in_token_str': 'Wort'},\n",
       " {'prompt': 'Deutsch: \"Quelle\" - English: \"source\"\\nDeutsch: \"Bahnhof\" - English: \"station\"\\nDeutsch: \"Rede\" - English: \"speech\"\\nDeutsch: \"Richter\" - English: \"judge\"\\nDeutsch: \"Paar\" - English: \"',\n",
       "  'out_token_id': [81, 4904, 13934],\n",
       "  'out_token_str': 'pair',\n",
       "  'latent_token_id': [81, 4904, 13934],\n",
       "  'latent_token_str': 'pair',\n",
       "  'in_token_str': 'Paar'},\n",
       " {'prompt': 'Deutsch: \"Herz\" - English: \"heart\"\\nDeutsch: \"drei\" - English: \"three\"\\nDeutsch: \"Quadrat\" - English: \"square\"\\nDeutsch: \"Punkt\" - English: \"point\"\\nDeutsch: \"Sitz\" - English: \"',\n",
       "  'out_token_id': [339, 84, 36443, 15681],\n",
       "  'out_token_str': 'seat',\n",
       "  'latent_token_id': [339, 84, 36443, 15681],\n",
       "  'latent_token_str': 'seat',\n",
       "  'in_token_str': 'Sitz'},\n",
       " {'prompt': 'Deutsch: \"Ball\" - English: \"ball\"\\nDeutsch: \"Teil\" - English: \"part\"\\nDeutsch: \"Gold\" - English: \"gold\"\\nDeutsch: \"Plattform\" - English: \"platform\"\\nDeutsch: \"Licht\" - English: \"',\n",
       "  'out_token_id': [77, 3372, 3243, 965],\n",
       "  'out_token_str': 'light',\n",
       "  'latent_token_id': [77, 3372, 3243, 965],\n",
       "  'latent_token_str': 'light',\n",
       "  'in_token_str': 'Licht'},\n",
       " {'prompt': 'Deutsch: \"Wasser\" - English: \"water\"\\nDeutsch: \"zwei\" - English: \"two\"\\nDeutsch: \"Anstieg\" - English: \"rise\"\\nDeutsch: \"Mund\" - English: \"mouth\"\\nDeutsch: \"tausend\" - English: \"',\n",
       "  'out_token_id': [85, 394],\n",
       "  'out_token_str': 'thousand',\n",
       "  'latent_token_id': [85, 394],\n",
       "  'latent_token_str': 'thousand',\n",
       "  'in_token_str': 'tausend'},\n",
       " {'prompt': 'Deutsch: \"Welle\" - English: \"wave\"\\nDeutsch: \"sieben\" - English: \"seven\"\\nDeutsch: \"Tee\" - English: \"tea\"\\nDeutsch: \"Art\" - English: \"kind\"\\nDeutsch: \"Norden\" - English: \"',\n",
       "  'out_token_id': [79, 15387, 37436, 2369],\n",
       "  'out_token_str': 'north',\n",
       "  'latent_token_id': [79, 15387, 37436, 2369],\n",
       "  'latent_token_str': 'north',\n",
       "  'in_token_str': 'Norden'},\n",
       " {'prompt': 'Deutsch: \"Standort\" - English: \"site\"\\nDeutsch: \"Tür\" - English: \"door\"\\nDeutsch: \"Gegenstand\" - English: \"item\"\\nDeutsch: \"Herz\" - English: \"heart\"\\nDeutsch: \"Maschine\" - English: \"',\n",
       "  'out_token_id': [12432, 28936, 785, 78],\n",
       "  'out_token_str': 'machine',\n",
       "  'latent_token_id': [12432, 28936, 785, 78],\n",
       "  'latent_token_str': 'machine',\n",
       "  'in_token_str': 'Maschine'},\n",
       " {'prompt': 'Deutsch: \"Farbe\" - English: \"color\"\\nDeutsch: \"Maschine\" - English: \"machine\"\\nDeutsch: \"Welle\" - English: \"wave\"\\nDeutsch: \"Feuer\" - English: \"fire\"\\nDeutsch: \"Zeit\" - English: \"',\n",
       "  'out_token_id': [85, 12292, 6811, 2606],\n",
       "  'out_token_str': 'time',\n",
       "  'latent_token_id': [85, 12292, 6811, 2606],\n",
       "  'latent_token_str': 'time',\n",
       "  'in_token_str': 'Zeit'},\n",
       " {'prompt': 'Deutsch: \"Mutter\" - English: \"mother\"\\nDeutsch: \"Tugend\" - English: \"virtue\"\\nDeutsch: \"Mund\" - English: \"mouth\"\\nDeutsch: \"fünf\" - English: \"five\"\\nDeutsch: \"Nutzen\" - English: \"',\n",
       "  'out_token_id': [31891, 67, 7564, 1257],\n",
       "  'out_token_str': 'benefit',\n",
       "  'latent_token_id': [31891, 67, 7564, 1257],\n",
       "  'latent_token_str': 'benefit',\n",
       "  'in_token_str': 'Nutzen'},\n",
       " {'prompt': 'Deutsch: \"acht\" - English: \"eight\"\\nDeutsch: \"drei\" - English: \"three\"\\nDeutsch: \"Anstieg\" - English: \"rise\"\\nDeutsch: \"Niederlage\" - English: \"defeat\"\\nDeutsch: \"Provinz\" - English: \"',\n",
       "  'out_token_id': [81, 1087, 856, 11404],\n",
       "  'out_token_str': 'province',\n",
       "  'latent_token_id': [81, 1087, 856, 11404],\n",
       "  'latent_token_str': 'province',\n",
       "  'in_token_str': 'Provinz'},\n",
       " {'prompt': 'Deutsch: \"Macht\" - English: \"power\"\\nDeutsch: \"Haushalt\" - English: \"household\"\\nDeutsch: \"Wort\" - English: \"word\"\\nDeutsch: \"Brücke\" - English: \"bridge\"\\nDeutsch: \"Börse\" - English: \"',\n",
       "  'out_token_id': [70, 35757, 36688, 911],\n",
       "  'out_token_str': 'exchange',\n",
       "  'latent_token_id': [70, 35757, 36688, 911],\n",
       "  'latent_token_str': 'exchange',\n",
       "  'in_token_str': 'Börse'},\n",
       " {'prompt': 'Deutsch: \"Art\" - English: \"kind\"\\nDeutsch: \"Abschnitt\" - English: \"section\"\\nDeutsch: \"Beispiel\" - English: \"example\"\\nDeutsch: \"Netz\" - English: \"net\"\\nDeutsch: \"Mitte\" - English: \"',\n",
       "  'out_token_id': [7373, 7893, 78, 16389],\n",
       "  'out_token_str': 'middle',\n",
       "  'latent_token_id': [7373, 7893, 78, 16389],\n",
       "  'latent_token_str': 'middle',\n",
       "  'in_token_str': 'Mitte'},\n",
       " {'prompt': 'Deutsch: \"eins\" - English: \"one\"\\nDeutsch: \"Wald\" - English: \"forest\"\\nDeutsch: \"Höhle\" - English: \"cave\"\\nDeutsch: \"Tal\" - English: \"valley\"\\nDeutsch: \"Freund\" - English: \"',\n",
       "  'out_token_id': [925, 71, 8471],\n",
       "  'out_token_str': 'friend',\n",
       "  'latent_token_id': [925, 71, 8471],\n",
       "  'latent_token_str': 'friend',\n",
       "  'in_token_str': 'Freund'},\n",
       " {'prompt': 'Deutsch: \"Teil\" - English: \"part\"\\nDeutsch: \"Geschwindigkeit\" - English: \"speed\"\\nDeutsch: \"Wald\" - English: \"forest\"\\nDeutsch: \"Welle\" - English: \"wave\"\\nDeutsch: \"Farbe\" - English: \"',\n",
       "  'out_token_id': [1940, 4897, 2052, 68],\n",
       "  'out_token_str': 'color',\n",
       "  'latent_token_id': [1940, 4897, 2052, 68],\n",
       "  'latent_token_str': 'color',\n",
       "  'in_token_str': 'Farbe'},\n",
       " {'prompt': 'Deutsch: \"Süden\" - English: \"south\"\\nDeutsch: \"Mitte\" - English: \"middle\"\\nDeutsch: \"Mutter\" - English: \"mother\"\\nDeutsch: \"Wasser\" - English: \"water\"\\nDeutsch: \"Art\" - English: \"',\n",
       "  'out_token_id': [5914, 11258, 76, 5985],\n",
       "  'out_token_str': 'kind',\n",
       "  'latent_token_id': [5914, 11258, 76, 5985],\n",
       "  'latent_token_str': 'kind',\n",
       "  'in_token_str': 'Art'},\n",
       " {'prompt': 'Deutsch: \"Schwanz\" - English: \"tail\"\\nDeutsch: \"Quadrat\" - English: \"square\"\\nDeutsch: \"Auge\" - English: \"eye\"\\nDeutsch: \"Tee\" - English: \"tea\"\\nDeutsch: \"Richter\" - English: \"',\n",
       "  'out_token_id': [75, 7589, 47075, 6881],\n",
       "  'out_token_str': 'judge',\n",
       "  'latent_token_id': [75, 7589, 47075, 6881],\n",
       "  'latent_token_str': 'judge',\n",
       "  'in_token_str': 'Richter'},\n",
       " {'prompt': 'Deutsch: \"Richter\" - English: \"judge\"\\nDeutsch: \"Paar\" - English: \"pair\"\\nDeutsch: \"Meer\" - English: \"sea\"\\nDeutsch: \"Blume\" - English: \"flower\"\\nDeutsch: \"Schule\" - English: \"',\n",
       "  'out_token_id': [10629, 1026, 84, 19221],\n",
       "  'out_token_str': 'school',\n",
       "  'latent_token_id': [10629, 1026, 84, 19221],\n",
       "  'latent_token_str': 'school',\n",
       "  'in_token_str': 'Schule'},\n",
       " {'prompt': 'Deutsch: \"fünf\" - English: \"five\"\\nDeutsch: \"Stadt\" - English: \"city\"\\nDeutsch: \"Mutter\" - English: \"mother\"\\nDeutsch: \"acht\" - English: \"eight\"\\nDeutsch: \"Krawatte\" - English: \"',\n",
       "  'out_token_id': [85, 6811, 37678],\n",
       "  'out_token_str': 'tie',\n",
       "  'latent_token_id': [85, 6811, 37678],\n",
       "  'latent_token_str': 'tie',\n",
       "  'in_token_str': 'Krawatte'},\n",
       " {'prompt': 'Deutsch: \"Wald\" - English: \"forest\"\\nDeutsch: \"Punkt\" - English: \"point\"\\nDeutsch: \"Blume\" - English: \"flower\"\\nDeutsch: \"Straße\" - English: \"street\"\\nDeutsch: \"Beispiel\" - English: \"',\n",
       "  'out_token_id': [11667, 70, 911],\n",
       "  'out_token_str': 'example',\n",
       "  'latent_token_id': [11667, 70, 911],\n",
       "  'latent_token_str': 'example',\n",
       "  'in_token_str': 'Beispiel'},\n",
       " {'prompt': 'Deutsch: \"Anstieg\" - English: \"rise\"\\nDeutsch: \"Stern\" - English: \"star\"\\nDeutsch: \"sechs\" - English: \"six\"\\nDeutsch: \"Kind\" - English: \"child\"\\nDeutsch: \"Gesicht\" - English: \"',\n",
       "  'out_token_id': [6855, 1664, 71, 28402],\n",
       "  'out_token_str': 'face',\n",
       "  'latent_token_id': [6855, 1664, 71, 28402],\n",
       "  'latent_token_str': 'face',\n",
       "  'in_token_str': 'Gesicht'},\n",
       " {'prompt': 'Deutsch: \"Ball\" - English: \"ball\"\\nDeutsch: \"Reis\" - English: \"rice\"\\nDeutsch: \"zehn\" - English: \"ten\"\\nDeutsch: \"Gesetz\" - English: \"law\"\\nDeutsch: \"Brücke\" - English: \"',\n",
       "  'out_token_id': [67, 1288, 7807, 8298],\n",
       "  'out_token_str': 'bridge',\n",
       "  'latent_token_id': [67, 1288, 7807, 8298],\n",
       "  'latent_token_str': 'bridge',\n",
       "  'in_token_str': 'Brücke'},\n",
       " {'prompt': 'Deutsch: \"Farbe\" - English: \"color\"\\nDeutsch: \"Niederlage\" - English: \"defeat\"\\nDeutsch: \"Berg\" - English: \"mountain\"\\nDeutsch: \"Generation\" - English: \"generation\"\\nDeutsch: \"Gegenstand\" - English: \"',\n",
       "  'out_token_id': [614, 4835, 74, 262],\n",
       "  'out_token_str': 'item',\n",
       "  'latent_token_id': [614, 4835, 74, 262],\n",
       "  'latent_token_str': 'item',\n",
       "  'in_token_str': 'Gegenstand'},\n",
       " {'prompt': 'Deutsch: \"Generation\" - English: \"generation\"\\nDeutsch: \"Version\" - English: \"version\"\\nDeutsch: \"Geschwindigkeit\" - English: \"speed\"\\nDeutsch: \"Schule\" - English: \"school\"\\nDeutsch: \"löschen\" - English: \"',\n",
       "  'out_token_id': [7555, 16435, 69, 615],\n",
       "  'out_token_str': 'delete',\n",
       "  'latent_token_id': [7555, 16435, 69, 615],\n",
       "  'latent_token_str': 'delete',\n",
       "  'in_token_str': 'löschen'},\n",
       " {'prompt': 'Deutsch: \"Auge\" - English: \"eye\"\\nDeutsch: \"Kopf\" - English: \"head\"\\nDeutsch: \"Fuß\" - English: \"foot\"\\nDeutsch: \"Linie\" - English: \"line\"\\nDeutsch: \"Gruppe\" - English: \"',\n",
       "  'out_token_id': [72, 26817, 4399, 737],\n",
       "  'out_token_str': 'group',\n",
       "  'latent_token_id': [72, 26817, 4399, 737],\n",
       "  'latent_token_str': 'group',\n",
       "  'in_token_str': 'Gruppe'},\n",
       " {'prompt': 'Deutsch: \"Haar\" - English: \"hair\"\\nDeutsch: \"Provinz\" - English: \"province\"\\nDeutsch: \"Fuß\" - English: \"foot\"\\nDeutsch: \"Büro\" - English: \"office\"\\nDeutsch: \"Talent\" - English: \"',\n",
       "  'out_token_id': [85, 22559, 893],\n",
       "  'out_token_str': 'talent',\n",
       "  'latent_token_id': [85, 22559, 893],\n",
       "  'latent_token_str': 'talent',\n",
       "  'in_token_str': 'Talent'},\n",
       " {'prompt': 'Deutsch: \"tausend\" - English: \"thousand\"\\nDeutsch: \"Freund\" - English: \"friend\"\\nDeutsch: \"Ozean\" - English: \"ocean\"\\nDeutsch: \"Feder\" - English: \"spring\"\\nDeutsch: \"Schönheit\" - English: \"',\n",
       "  'out_token_id': [67, 1257],\n",
       "  'out_token_str': 'beauty',\n",
       "  'latent_token_id': [67, 1257],\n",
       "  'latent_token_str': 'beauty',\n",
       "  'in_token_str': 'Schönheit'},\n",
       " {'prompt': 'Deutsch: \"zwei\" - English: \"two\"\\nDeutsch: \"Tür\" - English: \"door\"\\nDeutsch: \"Art\" - English: \"kind\"\\nDeutsch: \"Gegenstand\" - English: \"item\"\\nDeutsch: \"Plattform\" - English: \"',\n",
       "  'out_token_id': [81, 446, 19161],\n",
       "  'out_token_str': 'platform',\n",
       "  'latent_token_id': [81, 446, 19161],\n",
       "  'latent_token_str': 'platform',\n",
       "  'in_token_str': 'Plattform'},\n",
       " {'prompt': 'Deutsch: \"Sommer\" - English: \"summer\"\\nDeutsch: \"Versuch\" - English: \"attempt\"\\nDeutsch: \"Tee\" - English: \"tea\"\\nDeutsch: \"Quadrat\" - English: \"square\"\\nDeutsch: \"Haus\" - English: \"',\n",
       "  'out_token_id': [73, 14451, 1689, 5967],\n",
       "  'out_token_str': 'house',\n",
       "  'latent_token_id': [73, 14451, 1689, 5967],\n",
       "  'latent_token_str': 'house',\n",
       "  'in_token_str': 'Haus'},\n",
       " {'prompt': 'Deutsch: \"Rede\" - English: \"speech\"\\nDeutsch: \"Reis\" - English: \"rice\"\\nDeutsch: \"Berg\" - English: \"mountain\"\\nDeutsch: \"Wort\" - English: \"word\"\\nDeutsch: \"Sonne\" - English: \"',\n",
       "  'out_token_id': [84, 13998, 3467],\n",
       "  'out_token_str': 'sun',\n",
       "  'latent_token_id': [84, 13998, 3467],\n",
       "  'latent_token_str': 'sun',\n",
       "  'in_token_str': 'Sonne'},\n",
       " {'prompt': 'Deutsch: \"Sitz\" - English: \"seat\"\\nDeutsch: \"Schwanz\" - English: \"tail\"\\nDeutsch: \"Richter\" - English: \"judge\"\\nDeutsch: \"Standort\" - English: \"site\"\\nDeutsch: \"Geschichte\" - English: \"',\n",
       "  'out_token_id': [8701, 73, 15700, 22328, 5801, 29059],\n",
       "  'out_token_str': 'history',\n",
       "  'latent_token_id': [8701, 73, 15700, 22328, 5801, 29059],\n",
       "  'latent_token_str': 'history',\n",
       "  'in_token_str': 'Geschichte'},\n",
       " {'prompt': 'Deutsch: \"Sommer\" - English: \"summer\"\\nDeutsch: \"Teich\" - English: \"pond\"\\nDeutsch: \"Abschnitt\" - English: \"section\"\\nDeutsch: \"Bahnhof\" - English: \"station\"\\nDeutsch: \"Tal\" - English: \"',\n",
       "  'out_token_id': [87, 1208, 42089, 6156],\n",
       "  'out_token_str': 'valley',\n",
       "  'latent_token_id': [87, 1208, 42089, 6156],\n",
       "  'latent_token_str': 'valley',\n",
       "  'in_token_str': 'Tal'},\n",
       " {'prompt': 'Deutsch: \"Haushalt\" - English: \"household\"\\nDeutsch: \"Feld\" - English: \"field\"\\nDeutsch: \"Abschnitt\" - English: \"section\"\\nDeutsch: \"Haar\" - English: \"hair\"\\nDeutsch: \"Quadrat\" - English: \"',\n",
       "  'out_token_id': [23600, 15044, 84, 18858],\n",
       "  'out_token_str': 'square',\n",
       "  'latent_token_id': [23600, 15044, 84, 18858],\n",
       "  'latent_token_str': 'square',\n",
       "  'in_token_str': 'Quadrat'},\n",
       " {'prompt': 'Deutsch: \"Wort\" - English: \"word\"\\nDeutsch: \"Brücke\" - English: \"bridge\"\\nDeutsch: \"Person\" - English: \"person\"\\nDeutsch: \"Sommer\" - English: \"summer\"\\nDeutsch: \"Generation\" - English: \"',\n",
       "  'out_token_id': [20857, 8719, 72, 1541, 463, 14520],\n",
       "  'out_token_str': 'generation',\n",
       "  'latent_token_id': [20857, 8719, 72, 1541, 463, 14520],\n",
       "  'latent_token_str': 'generation',\n",
       "  'in_token_str': 'Generation'},\n",
       " {'prompt': 'Deutsch: \"Norden\" - English: \"north\"\\nDeutsch: \"Freund\" - English: \"friend\"\\nDeutsch: \"Zeit\" - English: \"time\"\\nDeutsch: \"Person\" - English: \"person\"\\nDeutsch: \"Süden\" - English: \"',\n",
       "  'out_token_id': [34542, 84, 601],\n",
       "  'out_token_str': 'south',\n",
       "  'latent_token_id': [34542, 84, 601],\n",
       "  'latent_token_str': 'south',\n",
       "  'in_token_str': 'Süden'},\n",
       " {'prompt': 'Deutsch: \"Schönheit\" - English: \"beauty\"\\nDeutsch: \"Wort\" - English: \"word\"\\nDeutsch: \"Dorf\" - English: \"village\"\\nDeutsch: \"See\" - English: \"lake\"\\nDeutsch: \"Tugend\" - English: \"',\n",
       "  'out_token_id': [12855, 87, 42446, 6584],\n",
       "  'out_token_str': 'virtue',\n",
       "  'latent_token_id': [12855, 87, 42446, 6584],\n",
       "  'latent_token_str': 'virtue',\n",
       "  'in_token_str': 'Tugend'},\n",
       " {'prompt': 'Deutsch: \"Reis\" - English: \"rice\"\\nDeutsch: \"Sitz\" - English: \"seat\"\\nDeutsch: \"Mitte\" - English: \"middle\"\\nDeutsch: \"acht\" - English: \"eight\"\\nDeutsch: \"Stamm\" - English: \"',\n",
       "  'out_token_id': [85, 12512, 1206],\n",
       "  'out_token_str': 'tribe',\n",
       "  'latent_token_id': [85, 12512, 1206],\n",
       "  'latent_token_str': 'tribe',\n",
       "  'in_token_str': 'Stamm'},\n",
       " {'prompt': 'Deutsch: \"sieben\" - English: \"seven\"\\nDeutsch: \"Mond\" - English: \"moon\"\\nDeutsch: \"Börse\" - English: \"exchange\"\\nDeutsch: \"Geschichte\" - English: \"history\"\\nDeutsch: \"Stadt\" - English: \"',\n",
       "  'out_token_id': [21280, 5297, 68, 10179],\n",
       "  'out_token_str': 'city',\n",
       "  'latent_token_id': [21280, 5297, 68, 10179],\n",
       "  'latent_token_str': 'city',\n",
       "  'in_token_str': 'Stadt'},\n",
       " {'prompt': 'Deutsch: \"Mutter\" - English: \"mother\"\\nDeutsch: \"Abschnitt\" - English: \"section\"\\nDeutsch: \"Macht\" - English: \"power\"\\nDeutsch: \"Holz\" - English: \"wood\"\\nDeutsch: \"Sprache\" - English: \"',\n",
       "  'out_token_id': [77, 8700, 4123, 12982, 13409],\n",
       "  'out_token_str': 'language',\n",
       "  'latent_token_id': [77, 8700, 4123, 12982, 13409],\n",
       "  'latent_token_str': 'language',\n",
       "  'in_token_str': 'Sprache'},\n",
       " {'prompt': 'Deutsch: \"Haushalt\" - English: \"household\"\\nDeutsch: \"Gruppe\" - English: \"group\"\\nDeutsch: \"fünf\" - English: \"five\"\\nDeutsch: \"sieben\" - English: \"seven\"\\nDeutsch: \"Geschwindigkeit\" - English: \"',\n",
       "  'out_token_id': [15507, 84, 1033, 9293],\n",
       "  'out_token_str': 'speed',\n",
       "  'latent_token_id': [15507, 84, 1033, 9293],\n",
       "  'latent_token_str': 'speed',\n",
       "  'in_token_str': 'Geschwindigkeit'},\n",
       " {'prompt': 'Deutsch: \"Wolke\" - English: \"cloud\"\\nDeutsch: \"Freund\" - English: \"friend\"\\nDeutsch: \"Talent\" - English: \"talent\"\\nDeutsch: \"Schwanz\" - English: \"tail\"\\nDeutsch: \"Boden\" - English: \"',\n",
       "  'out_token_id': [72, 26817, 737, 2595],\n",
       "  'out_token_str': 'ground',\n",
       "  'latent_token_id': [72, 26817, 737, 2595],\n",
       "  'latent_token_str': 'ground',\n",
       "  'in_token_str': 'Boden'},\n",
       " {'prompt': 'Deutsch: \"Generation\" - English: \"generation\"\\nDeutsch: \"Linie\" - English: \"line\"\\nDeutsch: \"Gesetz\" - English: \"law\"\\nDeutsch: \"Schwanz\" - English: \"tail\"\\nDeutsch: \"Versuch\" - English: \"',\n",
       "  'out_token_id': [66, 38839, 34015, 1595, 255],\n",
       "  'out_token_str': 'attempt',\n",
       "  'latent_token_id': [66, 38839, 34015, 1595, 255],\n",
       "  'latent_token_str': 'attempt',\n",
       "  'in_token_str': 'Versuch'},\n",
       " {'prompt': 'Deutsch: \"Ball\" - English: \"ball\"\\nDeutsch: \"Fluss\" - English: \"river\"\\nDeutsch: \"Tal\" - English: \"valley\"\\nDeutsch: \"Mond\" - English: \"moon\"\\nDeutsch: \"Niederlage\" - English: \"',\n",
       "  'out_token_id': [69, 1545, 615],\n",
       "  'out_token_str': 'defeat',\n",
       "  'latent_token_id': [69, 1545, 615],\n",
       "  'latent_token_str': 'defeat',\n",
       "  'in_token_str': 'Niederlage'},\n",
       " {'prompt': 'Deutsch: \"Versuch\" - English: \"attempt\"\\nDeutsch: \"Turm\" - English: \"tower\"\\nDeutsch: \"Netz\" - English: \"net\"\\nDeutsch: \"Macht\" - English: \"power\"\\nDeutsch: \"Schwanz\" - English: \"',\n",
       "  'out_token_id': [85, 14694, 893],\n",
       "  'out_token_str': 'tail',\n",
       "  'latent_token_id': [85, 14694, 893],\n",
       "  'latent_token_str': 'tail',\n",
       "  'in_token_str': 'Schwanz'},\n",
       " {'prompt': 'Deutsch: \"Generation\" - English: \"generation\"\\nDeutsch: \"Anstieg\" - English: \"rise\"\\nDeutsch: \"Turm\" - English: \"tower\"\\nDeutsch: \"Tal\" - English: \"valley\"\\nDeutsch: \"Mutter\" - English: \"',\n",
       "  'out_token_id': [6972, 24013, 78, 13875],\n",
       "  'out_token_str': 'mother',\n",
       "  'latent_token_id': [6972, 24013, 78, 13875],\n",
       "  'latent_token_str': 'mother',\n",
       "  'in_token_str': 'Mutter'},\n",
       " {'prompt': 'Deutsch: \"Talent\" - English: \"talent\"\\nDeutsch: \"See\" - English: \"lake\"\\nDeutsch: \"Dorf\" - English: \"village\"\\nDeutsch: \"Macht\" - English: \"power\"\\nDeutsch: \"Osten\" - English: \"',\n",
       "  'out_token_id': [14576, 19010, 26139, 70],\n",
       "  'out_token_str': 'east',\n",
       "  'latent_token_id': [14576, 19010, 26139, 70],\n",
       "  'latent_token_str': 'east',\n",
       "  'in_token_str': 'Osten'},\n",
       " {'prompt': 'Deutsch: \"Haar\" - English: \"hair\"\\nDeutsch: \"Tag\" - English: \"day\"\\nDeutsch: \"Pferd\" - English: \"horse\"\\nDeutsch: \"sieben\" - English: \"seven\"\\nDeutsch: \"Rede\" - English: \"',\n",
       "  'out_token_id': [48460, 84, 1033, 9293],\n",
       "  'out_token_str': 'speech',\n",
       "  'latent_token_id': [48460, 84, 1033, 9293],\n",
       "  'latent_token_str': 'speech',\n",
       "  'in_token_str': 'Rede'},\n",
       " {'prompt': 'Deutsch: \"eins\" - English: \"one\"\\nDeutsch: \"Höhle\" - English: \"cave\"\\nDeutsch: \"Abschnitt\" - English: \"section\"\\nDeutsch: \"Tee\" - English: \"tea\"\\nDeutsch: \"Kind\" - English: \"',\n",
       "  'out_token_id': [7003, 348, 68, 4635],\n",
       "  'out_token_str': 'child',\n",
       "  'latent_token_id': [7003, 348, 68, 4635],\n",
       "  'latent_token_str': 'child',\n",
       "  'in_token_str': 'Kind'},\n",
       " {'prompt': 'Deutsch: \"Stern\" - English: \"star\"\\nDeutsch: \"Mitte\" - English: \"middle\"\\nDeutsch: \"links\" - English: \"left\"\\nDeutsch: \"See\" - English: \"lake\"\\nDeutsch: \"Turm\" - English: \"',\n",
       "  'out_token_id': [85, 936, 32289],\n",
       "  'out_token_str': 'tower',\n",
       "  'latent_token_id': [85, 936, 32289],\n",
       "  'latent_token_str': 'tower',\n",
       "  'in_token_str': 'Turm'},\n",
       " {'prompt': 'Deutsch: \"Schule\" - English: \"school\"\\nDeutsch: \"Art\" - English: \"kind\"\\nDeutsch: \"Quadrat\" - English: \"square\"\\nDeutsch: \"Feder\" - English: \"spring\"\\nDeutsch: \"Haar\" - English: \"',\n",
       "  'out_token_id': [73, 41754, 16926, 3227],\n",
       "  'out_token_str': 'hair',\n",
       "  'latent_token_id': [73, 41754, 16926, 3227],\n",
       "  'latent_token_str': 'hair',\n",
       "  'in_token_str': 'Haar'},\n",
       " {'prompt': 'Deutsch: \"Brücke\" - English: \"bridge\"\\nDeutsch: \"Wald\" - English: \"forest\"\\nDeutsch: \"Gemälde\" - English: \"painting\"\\nDeutsch: \"Anstieg\" - English: \"rise\"\\nDeutsch: \"Haushalt\" - English: \"',\n",
       "  'out_token_id': [73, 14451, 1689, 5967],\n",
       "  'out_token_str': 'household',\n",
       "  'latent_token_id': [73, 14451, 1689, 5967],\n",
       "  'latent_token_str': 'household',\n",
       "  'in_token_str': 'Haushalt'},\n",
       " {'prompt': 'Deutsch: \"Börse\" - English: \"exchange\"\\nDeutsch: \"Gesetz\" - English: \"law\"\\nDeutsch: \"Süden\" - English: \"south\"\\nDeutsch: \"Gesicht\" - English: \"face\"\\nDeutsch: \"Person\" - English: \"',\n",
       "  'out_token_id': [10816, 81, 365, 5726, 468],\n",
       "  'out_token_str': 'person',\n",
       "  'latent_token_id': [10816, 81, 365, 5726, 468],\n",
       "  'latent_token_str': 'person',\n",
       "  'in_token_str': 'Person'},\n",
       " {'prompt': 'Deutsch: \"Dorf\" - English: \"village\"\\nDeutsch: \"Tal\" - English: \"valley\"\\nDeutsch: \"eins\" - English: \"one\"\\nDeutsch: \"Buch\" - English: \"book\"\\nDeutsch: \"Abschnitt\" - English: \"',\n",
       "  'out_token_id': [4674, 339, 1704, 84, 7338],\n",
       "  'out_token_str': 'section',\n",
       "  'latent_token_id': [4674, 339, 1704, 84, 7338],\n",
       "  'latent_token_str': 'section',\n",
       "  'in_token_str': 'Abschnitt'},\n",
       " {'prompt': 'Deutsch: \"Quelle\" - English: \"source\"\\nDeutsch: \"Standort\" - English: \"site\"\\nDeutsch: \"Turm\" - English: \"tower\"\\nDeutsch: \"Meer\" - English: \"sea\"\\nDeutsch: \"Büro\" - English: \"',\n",
       "  'out_token_id': [2727, 80, 30496, 19102, 1171],\n",
       "  'out_token_str': 'office',\n",
       "  'latent_token_id': [2727, 80, 30496, 19102, 1171],\n",
       "  'latent_token_str': 'office',\n",
       "  'in_token_str': 'Büro'},\n",
       " {'prompt': 'Deutsch: \"Ozean\" - English: \"ocean\"\\nDeutsch: \"zehn\" - English: \"ten\"\\nDeutsch: \"Stadt\" - English: \"city\"\\nDeutsch: \"Tee\" - English: \"tea\"\\nDeutsch: \"Anstieg\" - English: \"',\n",
       "  'out_token_id': [363, 83, 24078, 4448],\n",
       "  'out_token_str': 'rise',\n",
       "  'latent_token_id': [363, 83, 24078, 4448],\n",
       "  'latent_token_str': 'rise',\n",
       "  'in_token_str': 'Anstieg'},\n",
       " {'prompt': 'Deutsch: \"Ozean\" - English: \"ocean\"\\nDeutsch: \"Teil\" - English: \"part\"\\nDeutsch: \"fünf\" - English: \"five\"\\nDeutsch: \"Feuer\" - English: \"fire\"\\nDeutsch: \"links\" - English: \"',\n",
       "  'out_token_id': [282, 77, 1274],\n",
       "  'out_token_str': 'left',\n",
       "  'latent_token_id': [282, 77, 1274],\n",
       "  'latent_token_str': 'left',\n",
       "  'in_token_str': 'links'},\n",
       " {'prompt': 'Deutsch: \"Sand\" - English: \"sand\"\\nDeutsch: \"Netz\" - English: \"net\"\\nDeutsch: \"Geschichte\" - English: \"history\"\\nDeutsch: \"Boden\" - English: \"ground\"\\nDeutsch: \"Macht\" - English: \"',\n",
       "  'out_token_id': [81, 5367, 13029, 9177],\n",
       "  'out_token_str': 'power',\n",
       "  'latent_token_id': [81, 5367, 13029, 9177],\n",
       "  'latent_token_str': 'power',\n",
       "  'in_token_str': 'Macht'},\n",
       " {'prompt': 'Deutsch: \"Farbe\" - English: \"color\"\\nDeutsch: \"Feld\" - English: \"field\"\\nDeutsch: \"Plattform\" - English: \"platform\"\\nDeutsch: \"See\" - English: \"lake\"\\nDeutsch: \"Sommer\" - English: \"',\n",
       "  'out_token_id': [2204, 84, 44830, 3467],\n",
       "  'out_token_str': 'summer',\n",
       "  'latent_token_id': [2204, 84, 44830, 3467],\n",
       "  'latent_token_str': 'summer',\n",
       "  'in_token_str': 'Sommer'}]"
      ]
     },
     "execution_count": 14,
     "metadata": {},
     "output_type": "execute_result"
    }
   ],
   "source": [
    "dataset"
   ]
  },
  {
   "cell_type": "code",
   "execution_count": 15,
   "id": "25241c49",
   "metadata": {
    "execution": {
     "iopub.execute_input": "2024-03-02T15:44:40.482448Z",
     "iopub.status.busy": "2024-03-02T15:44:40.482270Z",
     "iopub.status.idle": "2024-03-02T15:45:14.164239Z",
     "shell.execute_reply": "2024-03-02T15:45:14.163615Z"
    },
    "papermill": {
     "duration": 33.691668,
     "end_time": "2024-03-02T15:45:14.165187",
     "exception": false,
     "start_time": "2024-03-02T15:44:40.473519",
     "status": "completed"
    },
    "tags": []
   },
   "outputs": [
    {
     "name": "stderr",
     "output_type": "stream",
     "text": [
      "\r",
      "0it [00:00, ?it/s]"
     ]
    },
    {
     "name": "stderr",
     "output_type": "stream",
     "text": [
      "\r",
      "1it [00:01,  1.03s/it]"
     ]
    },
    {
     "name": "stderr",
     "output_type": "stream",
     "text": [
      "\r",
      "2it [00:01,  1.60it/s]"
     ]
    },
    {
     "name": "stderr",
     "output_type": "stream",
     "text": [
      "\r",
      "3it [00:01,  2.05it/s]"
     ]
    },
    {
     "name": "stderr",
     "output_type": "stream",
     "text": [
      "\r",
      "4it [00:01,  2.46it/s]"
     ]
    },
    {
     "name": "stderr",
     "output_type": "stream",
     "text": [
      "\r",
      "5it [00:02,  2.79it/s]"
     ]
    },
    {
     "name": "stderr",
     "output_type": "stream",
     "text": [
      "\r",
      "6it [00:02,  3.02it/s]"
     ]
    },
    {
     "name": "stderr",
     "output_type": "stream",
     "text": [
      "\r",
      "7it [00:02,  3.21it/s]"
     ]
    },
    {
     "name": "stderr",
     "output_type": "stream",
     "text": [
      "\r",
      "8it [00:03,  3.35it/s]"
     ]
    },
    {
     "name": "stderr",
     "output_type": "stream",
     "text": [
      "\r",
      "9it [00:03,  3.43it/s]"
     ]
    },
    {
     "name": "stderr",
     "output_type": "stream",
     "text": [
      "\r",
      "10it [00:03,  3.49it/s]"
     ]
    },
    {
     "name": "stderr",
     "output_type": "stream",
     "text": [
      "\r",
      "11it [00:03,  3.51it/s]"
     ]
    },
    {
     "name": "stderr",
     "output_type": "stream",
     "text": [
      "\r",
      "12it [00:04,  3.52it/s]"
     ]
    },
    {
     "name": "stderr",
     "output_type": "stream",
     "text": [
      "\r",
      "13it [00:04,  3.54it/s]"
     ]
    },
    {
     "name": "stderr",
     "output_type": "stream",
     "text": [
      "\r",
      "14it [00:04,  3.56it/s]"
     ]
    },
    {
     "name": "stderr",
     "output_type": "stream",
     "text": [
      "\r",
      "15it [00:05,  3.53it/s]"
     ]
    },
    {
     "name": "stderr",
     "output_type": "stream",
     "text": [
      "\r",
      "16it [00:05,  3.46it/s]"
     ]
    },
    {
     "name": "stderr",
     "output_type": "stream",
     "text": [
      "\r",
      "17it [00:05,  3.48it/s]"
     ]
    },
    {
     "name": "stderr",
     "output_type": "stream",
     "text": [
      "\r",
      "18it [00:05,  3.45it/s]"
     ]
    },
    {
     "name": "stderr",
     "output_type": "stream",
     "text": [
      "\r",
      "19it [00:06,  3.37it/s]"
     ]
    },
    {
     "name": "stderr",
     "output_type": "stream",
     "text": [
      "\r",
      "20it [00:06,  3.16it/s]"
     ]
    },
    {
     "name": "stderr",
     "output_type": "stream",
     "text": [
      "\r",
      "21it [00:06,  3.25it/s]"
     ]
    },
    {
     "name": "stderr",
     "output_type": "stream",
     "text": [
      "\r",
      "22it [00:07,  3.44it/s]"
     ]
    },
    {
     "name": "stderr",
     "output_type": "stream",
     "text": [
      "\r",
      "23it [00:07,  3.58it/s]"
     ]
    },
    {
     "name": "stderr",
     "output_type": "stream",
     "text": [
      "\r",
      "24it [00:07,  3.67it/s]"
     ]
    },
    {
     "name": "stderr",
     "output_type": "stream",
     "text": [
      "\r",
      "25it [00:07,  3.80it/s]"
     ]
    },
    {
     "name": "stderr",
     "output_type": "stream",
     "text": [
      "\r",
      "26it [00:08,  3.76it/s]"
     ]
    },
    {
     "name": "stderr",
     "output_type": "stream",
     "text": [
      "\r",
      "27it [00:08,  3.76it/s]"
     ]
    },
    {
     "name": "stderr",
     "output_type": "stream",
     "text": [
      "\r",
      "28it [00:08,  3.78it/s]"
     ]
    },
    {
     "name": "stderr",
     "output_type": "stream",
     "text": [
      "\r",
      "29it [00:08,  3.69it/s]"
     ]
    },
    {
     "name": "stderr",
     "output_type": "stream",
     "text": [
      "\r",
      "30it [00:09,  3.72it/s]"
     ]
    },
    {
     "name": "stderr",
     "output_type": "stream",
     "text": [
      "\r",
      "31it [00:09,  3.76it/s]"
     ]
    },
    {
     "name": "stderr",
     "output_type": "stream",
     "text": [
      "\r",
      "32it [00:09,  3.75it/s]"
     ]
    },
    {
     "name": "stderr",
     "output_type": "stream",
     "text": [
      "\r",
      "33it [00:10,  3.80it/s]"
     ]
    },
    {
     "name": "stderr",
     "output_type": "stream",
     "text": [
      "\r",
      "34it [00:10,  3.79it/s]"
     ]
    },
    {
     "name": "stderr",
     "output_type": "stream",
     "text": [
      "\r",
      "35it [00:10,  3.80it/s]"
     ]
    },
    {
     "name": "stderr",
     "output_type": "stream",
     "text": [
      "\r",
      "36it [00:10,  3.84it/s]"
     ]
    },
    {
     "name": "stderr",
     "output_type": "stream",
     "text": [
      "\r",
      "37it [00:11,  3.83it/s]"
     ]
    },
    {
     "name": "stderr",
     "output_type": "stream",
     "text": [
      "\r",
      "38it [00:11,  3.83it/s]"
     ]
    },
    {
     "name": "stderr",
     "output_type": "stream",
     "text": [
      "\r",
      "39it [00:11,  3.76it/s]"
     ]
    },
    {
     "name": "stderr",
     "output_type": "stream",
     "text": [
      "\r",
      "40it [00:11,  3.72it/s]"
     ]
    },
    {
     "name": "stderr",
     "output_type": "stream",
     "text": [
      "\r",
      "41it [00:12,  3.68it/s]"
     ]
    },
    {
     "name": "stderr",
     "output_type": "stream",
     "text": [
      "\r",
      "42it [00:12,  3.64it/s]"
     ]
    },
    {
     "name": "stderr",
     "output_type": "stream",
     "text": [
      "\r",
      "43it [00:12,  3.63it/s]"
     ]
    },
    {
     "name": "stderr",
     "output_type": "stream",
     "text": [
      "\r",
      "44it [00:12,  3.65it/s]"
     ]
    },
    {
     "name": "stderr",
     "output_type": "stream",
     "text": [
      "\r",
      "45it [00:13,  3.64it/s]"
     ]
    },
    {
     "name": "stderr",
     "output_type": "stream",
     "text": [
      "\r",
      "46it [00:13,  3.54it/s]"
     ]
    },
    {
     "name": "stderr",
     "output_type": "stream",
     "text": [
      "\r",
      "47it [00:13,  3.45it/s]"
     ]
    },
    {
     "name": "stderr",
     "output_type": "stream",
     "text": [
      "\r",
      "48it [00:14,  3.46it/s]"
     ]
    },
    {
     "name": "stderr",
     "output_type": "stream",
     "text": [
      "\r",
      "49it [00:14,  3.55it/s]"
     ]
    },
    {
     "name": "stderr",
     "output_type": "stream",
     "text": [
      "\r",
      "50it [00:14,  3.66it/s]"
     ]
    },
    {
     "name": "stderr",
     "output_type": "stream",
     "text": [
      "\r",
      "51it [00:14,  3.79it/s]"
     ]
    },
    {
     "name": "stderr",
     "output_type": "stream",
     "text": [
      "\r",
      "52it [00:15,  3.87it/s]"
     ]
    },
    {
     "name": "stderr",
     "output_type": "stream",
     "text": [
      "\r",
      "53it [00:15,  3.91it/s]"
     ]
    },
    {
     "name": "stderr",
     "output_type": "stream",
     "text": [
      "\r",
      "54it [00:15,  3.96it/s]"
     ]
    },
    {
     "name": "stderr",
     "output_type": "stream",
     "text": [
      "\r",
      "55it [00:15,  3.94it/s]"
     ]
    },
    {
     "name": "stderr",
     "output_type": "stream",
     "text": [
      "\r",
      "56it [00:16,  4.00it/s]"
     ]
    },
    {
     "name": "stderr",
     "output_type": "stream",
     "text": [
      "\r",
      "57it [00:16,  4.03it/s]"
     ]
    },
    {
     "name": "stderr",
     "output_type": "stream",
     "text": [
      "\r",
      "58it [00:16,  4.05it/s]"
     ]
    },
    {
     "name": "stderr",
     "output_type": "stream",
     "text": [
      "\r",
      "59it [00:16,  4.03it/s]"
     ]
    },
    {
     "name": "stderr",
     "output_type": "stream",
     "text": [
      "\r",
      "60it [00:17,  3.96it/s]"
     ]
    },
    {
     "name": "stderr",
     "output_type": "stream",
     "text": [
      "\r",
      "61it [00:17,  3.95it/s]"
     ]
    },
    {
     "name": "stderr",
     "output_type": "stream",
     "text": [
      "\r",
      "62it [00:17,  3.99it/s]"
     ]
    },
    {
     "name": "stderr",
     "output_type": "stream",
     "text": [
      "\r",
      "63it [00:17,  4.00it/s]"
     ]
    },
    {
     "name": "stderr",
     "output_type": "stream",
     "text": [
      "\r",
      "64it [00:18,  3.96it/s]"
     ]
    },
    {
     "name": "stderr",
     "output_type": "stream",
     "text": [
      "\r",
      "65it [00:18,  3.95it/s]"
     ]
    },
    {
     "name": "stderr",
     "output_type": "stream",
     "text": [
      "\r",
      "66it [00:18,  3.99it/s]"
     ]
    },
    {
     "name": "stderr",
     "output_type": "stream",
     "text": [
      "\r",
      "67it [00:18,  4.03it/s]"
     ]
    },
    {
     "name": "stderr",
     "output_type": "stream",
     "text": [
      "\r",
      "68it [00:19,  3.99it/s]"
     ]
    },
    {
     "name": "stderr",
     "output_type": "stream",
     "text": [
      "\r",
      "69it [00:19,  4.04it/s]"
     ]
    },
    {
     "name": "stderr",
     "output_type": "stream",
     "text": [
      "\r",
      "70it [00:19,  4.06it/s]"
     ]
    },
    {
     "name": "stderr",
     "output_type": "stream",
     "text": [
      "\r",
      "71it [00:19,  4.08it/s]"
     ]
    },
    {
     "name": "stderr",
     "output_type": "stream",
     "text": [
      "\r",
      "72it [00:20,  4.03it/s]"
     ]
    },
    {
     "name": "stderr",
     "output_type": "stream",
     "text": [
      "\r",
      "73it [00:20,  3.98it/s]"
     ]
    },
    {
     "name": "stderr",
     "output_type": "stream",
     "text": [
      "\r",
      "74it [00:20,  3.99it/s]"
     ]
    },
    {
     "name": "stderr",
     "output_type": "stream",
     "text": [
      "\r",
      "75it [00:20,  4.01it/s]"
     ]
    },
    {
     "name": "stderr",
     "output_type": "stream",
     "text": [
      "\r",
      "76it [00:21,  3.92it/s]"
     ]
    },
    {
     "name": "stderr",
     "output_type": "stream",
     "text": [
      "\r",
      "77it [00:21,  3.92it/s]"
     ]
    },
    {
     "name": "stderr",
     "output_type": "stream",
     "text": [
      "\r",
      "78it [00:21,  3.96it/s]"
     ]
    },
    {
     "name": "stderr",
     "output_type": "stream",
     "text": [
      "\r",
      "79it [00:21,  3.88it/s]"
     ]
    },
    {
     "name": "stderr",
     "output_type": "stream",
     "text": [
      "\r",
      "80it [00:22,  3.94it/s]"
     ]
    },
    {
     "name": "stderr",
     "output_type": "stream",
     "text": [
      "\r",
      "81it [00:22,  3.95it/s]"
     ]
    },
    {
     "name": "stderr",
     "output_type": "stream",
     "text": [
      "\r",
      "82it [00:22,  3.94it/s]"
     ]
    },
    {
     "name": "stderr",
     "output_type": "stream",
     "text": [
      "\r",
      "83it [00:22,  3.94it/s]"
     ]
    },
    {
     "name": "stderr",
     "output_type": "stream",
     "text": [
      "\r",
      "84it [00:23,  3.87it/s]"
     ]
    },
    {
     "name": "stderr",
     "output_type": "stream",
     "text": [
      "\r",
      "85it [00:23,  3.91it/s]"
     ]
    },
    {
     "name": "stderr",
     "output_type": "stream",
     "text": [
      "\r",
      "86it [00:23,  3.96it/s]"
     ]
    },
    {
     "name": "stderr",
     "output_type": "stream",
     "text": [
      "\r",
      "87it [00:23,  3.98it/s]"
     ]
    },
    {
     "name": "stderr",
     "output_type": "stream",
     "text": [
      "\r",
      "88it [00:24,  3.95it/s]"
     ]
    },
    {
     "name": "stderr",
     "output_type": "stream",
     "text": [
      "\r",
      "89it [00:24,  3.85it/s]"
     ]
    },
    {
     "name": "stderr",
     "output_type": "stream",
     "text": [
      "\r",
      "90it [00:24,  3.90it/s]"
     ]
    },
    {
     "name": "stderr",
     "output_type": "stream",
     "text": [
      "\r",
      "91it [00:24,  3.85it/s]"
     ]
    },
    {
     "name": "stderr",
     "output_type": "stream",
     "text": [
      "\r",
      "92it [00:25,  3.75it/s]"
     ]
    },
    {
     "name": "stderr",
     "output_type": "stream",
     "text": [
      "\r",
      "93it [00:25,  3.63it/s]"
     ]
    },
    {
     "name": "stderr",
     "output_type": "stream",
     "text": [
      "\r",
      "94it [00:25,  3.61it/s]"
     ]
    },
    {
     "name": "stderr",
     "output_type": "stream",
     "text": [
      "\r",
      "95it [00:26,  3.55it/s]"
     ]
    },
    {
     "name": "stderr",
     "output_type": "stream",
     "text": [
      "\r",
      "96it [00:26,  3.42it/s]"
     ]
    },
    {
     "name": "stderr",
     "output_type": "stream",
     "text": [
      "\r",
      "97it [00:26,  3.46it/s]"
     ]
    },
    {
     "name": "stderr",
     "output_type": "stream",
     "text": [
      "\r",
      "98it [00:27,  3.43it/s]"
     ]
    },
    {
     "name": "stderr",
     "output_type": "stream",
     "text": [
      "\r",
      "99it [00:27,  3.20it/s]"
     ]
    },
    {
     "name": "stderr",
     "output_type": "stream",
     "text": [
      "\r",
      "100it [00:27,  3.25it/s]"
     ]
    },
    {
     "name": "stderr",
     "output_type": "stream",
     "text": [
      "\r",
      "101it [00:28,  3.08it/s]"
     ]
    },
    {
     "name": "stderr",
     "output_type": "stream",
     "text": [
      "\r",
      "102it [00:28,  3.16it/s]"
     ]
    },
    {
     "name": "stderr",
     "output_type": "stream",
     "text": [
      "\r",
      "103it [00:28,  3.24it/s]"
     ]
    },
    {
     "name": "stderr",
     "output_type": "stream",
     "text": [
      "\r",
      "104it [00:28,  3.26it/s]"
     ]
    },
    {
     "name": "stderr",
     "output_type": "stream",
     "text": [
      "\r",
      "105it [00:29,  3.34it/s]"
     ]
    },
    {
     "name": "stderr",
     "output_type": "stream",
     "text": [
      "\r",
      "106it [00:29,  3.39it/s]"
     ]
    },
    {
     "name": "stderr",
     "output_type": "stream",
     "text": [
      "\r",
      "107it [00:29,  3.41it/s]"
     ]
    },
    {
     "name": "stderr",
     "output_type": "stream",
     "text": [
      "\r",
      "108it [00:30,  3.44it/s]"
     ]
    },
    {
     "name": "stderr",
     "output_type": "stream",
     "text": [
      "\r",
      "109it [00:30,  3.34it/s]"
     ]
    },
    {
     "name": "stderr",
     "output_type": "stream",
     "text": [
      "\r",
      "110it [00:30,  3.40it/s]"
     ]
    },
    {
     "name": "stderr",
     "output_type": "stream",
     "text": [
      "\r",
      "111it [00:31,  3.27it/s]"
     ]
    },
    {
     "name": "stderr",
     "output_type": "stream",
     "text": [
      "\r",
      "112it [00:31,  3.18it/s]"
     ]
    },
    {
     "name": "stderr",
     "output_type": "stream",
     "text": [
      "\r",
      "113it [00:31,  3.20it/s]"
     ]
    },
    {
     "name": "stderr",
     "output_type": "stream",
     "text": [
      "\r",
      "114it [00:31,  3.25it/s]"
     ]
    },
    {
     "name": "stderr",
     "output_type": "stream",
     "text": [
      "\r",
      "115it [00:32,  3.37it/s]"
     ]
    },
    {
     "name": "stderr",
     "output_type": "stream",
     "text": [
      "\r",
      "116it [00:32,  3.45it/s]"
     ]
    },
    {
     "name": "stderr",
     "output_type": "stream",
     "text": [
      "\r",
      "117it [00:32,  3.51it/s]"
     ]
    },
    {
     "name": "stderr",
     "output_type": "stream",
     "text": [
      "\r",
      "118it [00:33,  3.54it/s]"
     ]
    },
    {
     "name": "stderr",
     "output_type": "stream",
     "text": [
      "\r",
      "119it [00:33,  3.54it/s]"
     ]
    },
    {
     "name": "stderr",
     "output_type": "stream",
     "text": [
      "\r",
      "120it [00:33,  3.56it/s]"
     ]
    },
    {
     "name": "stderr",
     "output_type": "stream",
     "text": [
      "\r",
      "120it [00:33,  3.57it/s]"
     ]
    },
    {
     "name": "stderr",
     "output_type": "stream",
     "text": [
      "\n"
     ]
    }
   ],
   "source": [
    "in_token_probs = []\n",
    "latent_token_probs = []\n",
    "out_token_probs = []\n",
    "entropy = []\n",
    "energy = []\n",
    "latents_all = []\n",
    "\n",
    "for idx, d in tqdm(enumerate(dataset)):\n",
    "    logits,latents = get_logits(pythia, d['prompt'],pythia_lens)\n",
    "    last = logits[:, -1, :].float().softmax(dim=-1).detach().cpu()\n",
    "    latent_token_probs += [last[:, torch.tensor(d['latent_token_id'])].sum(dim=-1)]\n",
    "    out_token_probs += [last[:, torch.tensor(d['out_token_id'])].sum(dim=-1)]\n",
    "    entropy += [compute_entropy(last)]\n",
    "    latents_all += [latents[:, -1, :].float().detach().cpu().clone()]\n",
    "    latents_normalized = latents[:, -1, :].float()\n",
    "    latents_normalized = latents_normalized / (((latents_normalized**2).mean(dim=-1, keepdim=True))**0.5)\n",
    "    latents_normalized /= (latents_normalized.norm(dim=-1, keepdim=True))\n",
    "    norm = ((U_normalized @ latents_normalized.T)**2).mean(dim=0)**0.5\n",
    "    energy += [norm/avgUU]\n",
    "\n",
    "latent_token_probs = torch.stack(latent_token_probs)\n",
    "out_token_probs = torch.stack(out_token_probs)\n",
    "entropy = torch.stack(entropy)\n",
    "energy = torch.stack(energy)\n",
    "latents = torch.stack(latents_all)"
   ]
  },
  {
   "cell_type": "code",
   "execution_count": 16,
   "id": "680ef0b2",
   "metadata": {
    "execution": {
     "iopub.execute_input": "2024-03-02T15:45:14.191547Z",
     "iopub.status.busy": "2024-03-02T15:45:14.191385Z",
     "iopub.status.idle": "2024-03-02T15:45:14.558209Z",
     "shell.execute_reply": "2024-03-02T15:45:14.557530Z"
    },
    "papermill": {
     "duration": 0.380347,
     "end_time": "2024-03-02T15:45:14.559286",
     "exception": false,
     "start_time": "2024-03-02T15:45:14.178939",
     "status": "completed"
    },
    "tags": []
   },
   "outputs": [
    {
     "name": "stderr",
     "output_type": "stream",
     "text": [
      "/mnt/ssd-1/gpaulo/llm-latent-language/utils.py:52: UserWarning: This figure includes Axes that are not compatible with tight_layout, so results might be incorrect.\n",
      "  plt.tight_layout()\n"
     ]
    },
    {
     "data": {
      "image/png": "[encoded data removed]",
      "text/plain": [
       "<Figure size 500x300 with 3 Axes>"
      ]
     },
     "metadata": {},
     "output_type": "display_data"
    }
   ],
   "source": [
    "size2tik = {'7b': 5, '13b': 5, '70b': 10, '6.9b': 10,'12b': 10}\n",
    "fig, ax, ax2 = plot_ci_plus_heatmap(latent_token_probs, entropy, latent, color='tab:orange', tik_step=size2tik[model_size], do_colorbar=True, #, do_colorbar=(model_size=='70b'),\n",
    "nums=[.99, 0.18, 0.025, 0.6])\n",
    "plot_ci(ax2, out_token_probs, target_lang, color='tab:blue', do_lines=False)\n",
    "ax2.set_xlabel('layer')\n",
    "ax2.set_ylabel('probability')\n",
    "if model_size == '7b':\n",
    "    ax2.set_xlim(0, out_token_probs.shape[1]+1)\n",
    "else:\n",
    "    ax2.set_xlim(0, round(out_token_probs.shape[1]/10)*10+1)\n",
    "ax2.set_ylim(0, 1)\n",
    "# make xticks start from 1\n",
    "# put legend on the top left\n",
    "ax2.legend(loc='upper left')\n",
    "os.makedirs(f'{out_dir}/translation', exist_ok=True)\n",
    "\n",
    "plt.savefig(f'{out_dir}/translation/pythia_{model_size}_{input_lang}_{target_lang}_probas_ent.jpg', dpi=300, bbox_inches='tight')"
   ]
  },
  {
   "cell_type": "code",
   "execution_count": 17,
   "id": "48c50e4a",
   "metadata": {
    "execution": {
     "iopub.execute_input": "2024-03-02T15:45:14.586248Z",
     "iopub.status.busy": "2024-03-02T15:45:14.586056Z",
     "iopub.status.idle": "2024-03-02T15:45:14.758613Z",
     "shell.execute_reply": "2024-03-02T15:45:14.757933Z"
    },
    "papermill": {
     "duration": 0.195166,
     "end_time": "2024-03-02T15:45:14.768338",
     "exception": false,
     "start_time": "2024-03-02T15:45:14.573172",
     "status": "completed"
    },
    "tags": []
   },
   "outputs": [
    {
     "data": {
      "image/png": "[encoded data removed]",
      "text/plain": [
       "<Figure size 500x300 with 1 Axes>"
      ]
     },
     "metadata": {},
     "output_type": "display_data"
    }
   ],
   "source": [
    "size2tik = {'7b': 5, '13b': 5, '70b': 10,'12b': 10}\n",
    "\n",
    "fig, ax2 = plt.subplots(figsize=(5,3))\n",
    "plot_ci(ax2, energy, 'energy', color='tab:green', do_lines=True, tik_step=size2tik[model_size])\n",
    "ax2.set_xlabel('layer')\n",
    "ax2.set_ylabel('energy')\n",
    "if model_size == '7b':\n",
    "    ax2.set_xlim(0, out_token_probs.shape[1]+1)\n",
    "else:\n",
    "    ax2.set_xlim(0, round(out_token_probs.shape[1]/10)*10+1)\n",
    "os.makedirs(f'{out_dir}/translation', exist_ok=True)\n",
    "plt.savefig(f'{out_dir}/translation/pythia_{model_size}_{input_lang}_{target_lang}_energy.jpg', dpi=300, bbox_inches='tight')"
   ]
  },
  {
   "cell_type": "code",
   "execution_count": null,
   "id": "de0f66f1",
   "metadata": {
    "papermill": {
     "duration": 0.012402,
     "end_time": "2024-03-02T15:45:14.797396",
     "exception": false,
     "start_time": "2024-03-02T15:45:14.784994",
     "status": "completed"
    },
    "tags": []
   },
   "outputs": [],
   "source": []
  }
 ],
 "metadata": {
  "kernelspec": {
   "display_name": "Python 3 (ipykernel)",
   "language": "python",
   "name": "python3"
  },
  "language_info": {
   "codemirror_mode": {
    "name": "ipython",
    "version": 3
   },
   "file_extension": ".py",
   "mimetype": "text/x-python",
   "name": "python",
   "nbconvert_exporter": "python",
   "pygments_lexer": "ipython3",
   "version": "3.10.13"
  },
  "papermill": {
   "default_parameters": {},
   "duration": 86.147079,
   "end_time": "2024-03-02T15:45:16.534272",
   "environment_variables": {},
   "exception": null,
   "input_path": "Translation_pythia.ipynb",
   "output_path": "visuals/executed_notebooks/pythia_Translation_logit_12b_de_en.ipynb",
   "parameters": {
    "input_lang": "de",
    "model_size": "12b",
    "target_lang": "en",
    "type": "logit"
   },
   "start_time": "2024-03-02T15:43:50.387193",
   "version": "2.5.0"
  }
 },
 "nbformat": 4,
 "nbformat_minor": 5
}