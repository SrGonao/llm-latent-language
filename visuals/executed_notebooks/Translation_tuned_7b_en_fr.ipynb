{
 "cells": [
  {
   "cell_type": "code",
   "execution_count": 1,
   "id": "9e266eca-b017-461f-9be4-bec02cae9b28",
   "metadata": {
    "execution": {
     "iopub.execute_input": "2024-02-23T16:48:09.193988Z",
     "iopub.status.busy": "2024-02-23T16:48:09.193755Z",
     "iopub.status.idle": "2024-02-23T16:48:09.205504Z",
     "shell.execute_reply": "2024-02-23T16:48:09.205176Z"
    },
    "papermill": {
     "duration": 0.017767,
     "end_time": "2024-02-23T16:48:09.206527",
     "exception": false,
     "start_time": "2024-02-23T16:48:09.188760",
     "status": "completed"
    },
    "tags": []
   },
   "outputs": [],
   "source": [
    "%load_ext autoreload\n",
    "%autoreload 2"
   ]
  },
  {
   "cell_type": "code",
   "execution_count": 2,
   "id": "fae8a7a9-6902-424e-8e66-b107fccb361f",
   "metadata": {
    "execution": {
     "iopub.execute_input": "2024-02-23T16:48:09.214914Z",
     "iopub.status.busy": "2024-02-23T16:48:09.214720Z",
     "iopub.status.idle": "2024-02-23T16:48:12.299771Z",
     "shell.execute_reply": "2024-02-23T16:48:12.299105Z"
    },
    "papermill": {
     "duration": 3.090446,
     "end_time": "2024-02-23T16:48:12.301000",
     "exception": false,
     "start_time": "2024-02-23T16:48:09.210554",
     "status": "completed"
    },
    "tags": []
   },
   "outputs": [],
   "source": [
    "import pandas as pd\n",
    "import sys\n",
    "import os\n",
    "from dataclasses import dataclass\n",
    "import json\n",
    "import numpy as np\n",
    "from matplotlib import pyplot as plt\n",
    "import seaborn as sns\n",
    "import torch\n",
    "import torch.nn as nn\n",
    "from llamawrapper import load_unemb_only, LlamaHelper\n",
    "import seaborn as sns\n",
    "from scipy.stats import bootstrap\n",
    "from utils import plot_ci, plot_ci_plus_heatmap\n",
    "from tqdm import tqdm\n",
    "from transformers import AutoModelForCausalLM, AutoTokenizer\n",
    "# fix random seed\n",
    "seed = 42\n",
    "np.random.seed(seed)\n",
    "torch.manual_seed(seed)\n",
    "sys.path.append('../tuned-lens')\n",
    "from tuned_lens.nn.lenses import TunedLens,LogitLens"
   ]
  },
  {
   "cell_type": "code",
   "execution_count": 3,
   "id": "1fb93987",
   "metadata": {
    "execution": {
     "iopub.execute_input": "2024-02-23T16:48:12.309096Z",
     "iopub.status.busy": "2024-02-23T16:48:12.308655Z",
     "iopub.status.idle": "2024-02-23T16:48:12.339177Z",
     "shell.execute_reply": "2024-02-23T16:48:12.338730Z"
    },
    "papermill": {
     "duration": 0.034948,
     "end_time": "2024-02-23T16:48:12.339944",
     "exception": false,
     "start_time": "2024-02-23T16:48:12.304996",
     "status": "completed"
    },
    "tags": [
     "parameters"
    ]
   },
   "outputs": [],
   "source": [
    "input_lang = 'fr'\n",
    "target_lang = 'fr'\n",
    "model_size = '7b'\n",
    "prefix = \"./data/langs/\"\n",
    "type = 'logit'"
   ]
  },
  {
   "cell_type": "code",
   "execution_count": 4,
   "id": "1ed85bb3",
   "metadata": {
    "execution": {
     "iopub.execute_input": "2024-02-23T16:48:12.348309Z",
     "iopub.status.busy": "2024-02-23T16:48:12.347995Z",
     "iopub.status.idle": "2024-02-23T16:48:12.379996Z",
     "shell.execute_reply": "2024-02-23T16:48:12.379532Z"
    },
    "papermill": {
     "duration": 0.037263,
     "end_time": "2024-02-23T16:48:12.380969",
     "exception": false,
     "start_time": "2024-02-23T16:48:12.343706",
     "status": "completed"
    },
    "tags": [
     "injected-parameters"
    ]
   },
   "outputs": [],
   "source": [
    "# Parameters\n",
    "model_size = \"7b\"\n",
    "target_lang = \"fr\"\n",
    "input_lang = \"en\"\n",
    "type = \"tuned\"\n"
   ]
  },
  {
   "cell_type": "code",
   "execution_count": 5,
   "id": "33747213",
   "metadata": {
    "execution": {
     "iopub.execute_input": "2024-02-23T16:48:12.391029Z",
     "iopub.status.busy": "2024-02-23T16:48:12.390623Z",
     "iopub.status.idle": "2024-02-23T16:48:25.303149Z",
     "shell.execute_reply": "2024-02-23T16:48:25.302485Z"
    },
    "papermill": {
     "duration": 12.919701,
     "end_time": "2024-02-23T16:48:25.304403",
     "exception": false,
     "start_time": "2024-02-23T16:48:12.384702",
     "status": "completed"
    },
    "tags": []
   },
   "outputs": [
    {
     "data": {
      "application/vnd.jupyter.widget-view+json": {
       "model_id": "e2af2afab88e4f488cf9ad8b20eac79a",
       "version_major": 2,
       "version_minor": 0
      },
      "text/plain": [
       "Loading checkpoint shards:   0%|          | 0/2 [00:00<?, ?it/s]"
      ]
     },
     "metadata": {},
     "output_type": "display_data"
    },
    {
     "name": "stdout",
     "output_type": "stream",
     "text": [
      "params.pt AlignmentResearch/tuned-lens space main lens/meta-llama/Llama-2-7b-hf None\n"
     ]
    },
    {
     "data": {
      "application/vnd.jupyter.widget-view+json": {
       "model_id": "db937c2c23bf4719b6ad9addd12d8e66",
       "version_major": 2,
       "version_minor": 0
      },
      "text/plain": [
       "params.pt:   0%|          | 0.00/2.15G [00:00<?, ?B/s]"
      ]
     },
     "metadata": {},
     "output_type": "display_data"
    },
    {
     "data": {
      "application/vnd.jupyter.widget-view+json": {
       "model_id": "78bca7cc7e0141f9a0e8b5f22cca6d1e",
       "version_major": 2,
       "version_minor": 0
      },
      "text/plain": [
       "(…)ens/meta-llama/Llama-2-7b-hf/config.json:   0%|          | 0.00/258 [00:00<?, ?B/s]"
      ]
     },
     "metadata": {},
     "output_type": "display_data"
    }
   ],
   "source": [
    "df_en_input = pd.read_csv(f'{prefix}{input_lang}/clean.csv').reindex()\n",
    "df_en_target = pd.read_csv(f'{prefix}{target_lang}/clean.csv').reindex()\n",
    "llama = AutoModelForCausalLM.from_pretrained(  # type: ignore\n",
    "                f\"meta-llama/Llama-2-{model_size}-hf\",\n",
    "                device_map={\"\": \"cuda\"},\n",
    "                revision=\"main\",\n",
    "                torch_dtype=\"auto\",\n",
    "                local_files_only=\"true\",cache_dir=\"/mnt/ssd-1/hf_cache/\"\n",
    "            )\n",
    "    \n",
    "latent=\"en\"\n",
    "if type == 'logit':\n",
    "    llama_lens = LogitLens.from_model(llama).to(\"cuda\")\n",
    "    out_dir = f'./visuals/logit'\n",
    "if type == 'tuned':\n",
    "    llama_lens = TunedLens.from_model_and_pretrained(llama,f\"meta-llama/Llama-2-{model_size}-hf\").to(\"cuda\")\n",
    "    out_dir = f'./visuals/tuned'\n",
    "if type == 'tuned-chinese':\n",
    "    llama_lens = TunedLens.from_model_and_pretrained(llama,\"../tuned-lens/my_lenses/chinese\").to(\"cuda\")\n",
    "    out_dir = f'./visuals/tuned-chinese'\n",
    "    latent = 'zh'\n",
    "tokenizer = AutoTokenizer.from_pretrained(\n",
    "                f\"meta-llama/Llama-2-7b-hf\",local_files_only=\"true\",cache_dir=\"/mnt/ssd-1/hf_cache/\"\n",
    "            )"
   ]
  },
  {
   "cell_type": "code",
   "execution_count": 6,
   "id": "bc45e052",
   "metadata": {
    "execution": {
     "iopub.execute_input": "2024-02-23T16:48:25.313465Z",
     "iopub.status.busy": "2024-02-23T16:48:25.313313Z",
     "iopub.status.idle": "2024-02-23T16:48:26.600989Z",
     "shell.execute_reply": "2024-02-23T16:48:26.600587Z"
    },
    "papermill": {
     "duration": 1.292471,
     "end_time": "2024-02-23T16:48:26.601750",
     "exception": false,
     "start_time": "2024-02-23T16:48:25.309279",
     "status": "completed"
    },
    "tags": []
   },
   "outputs": [
    {
     "name": "stdout",
     "output_type": "stream",
     "text": [
      "Sequential(\n",
      "  (0): LlamaRMSNorm()\n",
      "  (1): Linear(in_features=4096, out_features=32000, bias=False)\n",
      ")\n",
      "U torch.Size([32000, 4096]) weights torch.Size([1, 4096])\n"
     ]
    },
    {
     "name": "stdout",
     "output_type": "stream",
     "text": [
      "0.058621685951948166\n"
     ]
    }
   ],
   "source": [
    "unemb = nn.Sequential(llama.model.norm, llama.lm_head)\n",
    "print(unemb)\n",
    "# prepare for energy plots\n",
    "U = list(unemb[1].parameters())[0].detach().cpu().float()\n",
    "weights = list(unemb[0].parameters())[0].detach().cpu().float()\n",
    "print(f'U {U.shape} weights {weights.unsqueeze(0).shape}')\n",
    "U_weighted = U.clone() \n",
    "#U_weighted = U_weighted / ((U_weighted**2).mean(dim=1, keepdim=True))**0.5\n",
    "U_weighted *= weights.unsqueeze(0)\n",
    "U_normalized = U_weighted / ((U_weighted**2).sum(dim=1, keepdim=True))**0.5\n",
    "v = U.shape[0]\n",
    "TT = U_normalized.T @ U_normalized\n",
    "avgUU = (((U_normalized.T @ U_normalized)**2).sum() / v**2)**0.5\n",
    "print(avgUU.item())"
   ]
  },
  {
   "cell_type": "code",
   "execution_count": 7,
   "id": "5686a8d5",
   "metadata": {
    "execution": {
     "iopub.execute_input": "2024-02-23T16:48:26.611668Z",
     "iopub.status.busy": "2024-02-23T16:48:26.611530Z",
     "iopub.status.idle": "2024-02-23T16:48:28.059374Z",
     "shell.execute_reply": "2024-02-23T16:48:28.059004Z"
    },
    "papermill": {
     "duration": 1.452826,
     "end_time": "2024-02-23T16:48:28.060228",
     "exception": false,
     "start_time": "2024-02-23T16:48:26.607402",
     "status": "completed"
    },
    "tags": []
   },
   "outputs": [
    {
     "name": "stdout",
     "output_type": "stream",
     "text": [
      "for fr 68 of 118 are single tokens\n",
      "final length of df_en_fr_en: 100\n"
     ]
    }
   ],
   "source": [
    "count = 0\n",
    "for idx, word in enumerate(df_en_target['word_translation']):\n",
    "    if word in tokenizer.get_vocab() or '▁'+word in tokenizer.get_vocab():\n",
    "        count += 1\n",
    "\n",
    "print(f'for {target_lang} {count} of {len(df_en_target)} are single tokens')\n",
    "\n",
    "if input_lang == target_lang:\n",
    "    df_en_target_input = df_en_target.copy()\n",
    "    df_en_target_input.rename(columns={'word_original': 'en', \n",
    "                                f'word_translation': target_lang if target_lang != 'en' else 'en_tgt'}, \n",
    "                                inplace=True)\n",
    "else:\n",
    "    df_en_target_input = df_en_target.merge(df_en_input, on=['word_original'], suffixes=(f'_{target_lang}', f'_{input_lang}'))\n",
    "    df_en_target_input.rename(columns={'word_original': 'en', \n",
    "                                f'word_translation_{target_lang}': target_lang if target_lang != 'en' else 'en_tgt', \n",
    "                                f'word_translation_{input_lang}': input_lang if input_lang != 'en' else 'en_in'}, \n",
    "                                inplace=True)\n",
    "# delete all rows where en is contained in de or fr\n",
    "if target_lang != 'en':\n",
    "    for i, row in df_en_target_input.iterrows():\n",
    "        if row['en'].lower() in row[target_lang].lower():\n",
    "            df_en_target_input.drop(i, inplace=True)\n",
    "\n",
    "print(f'final length of df_en_{target_lang}_{input_lang}: {len(df_en_target_input)}')"
   ]
  },
  {
   "cell_type": "code",
   "execution_count": 8,
   "id": "eed300f4",
   "metadata": {
    "execution": {
     "iopub.execute_input": "2024-02-23T16:48:28.069902Z",
     "iopub.status.busy": "2024-02-23T16:48:28.069744Z",
     "iopub.status.idle": "2024-02-23T16:48:28.104019Z",
     "shell.execute_reply": "2024-02-23T16:48:28.103727Z"
    },
    "papermill": {
     "duration": 0.039471,
     "end_time": "2024-02-23T16:48:28.104829",
     "exception": false,
     "start_time": "2024-02-23T16:48:28.065358",
     "status": "completed"
    },
    "tags": []
   },
   "outputs": [
    {
     "data": {
      "text/html": [
       "<div>\n",
       "<style scoped>\n",
       "    .dataframe tbody tr th:only-of-type {\n",
       "        vertical-align: middle;\n",
       "    }\n",
       "\n",
       "    .dataframe tbody tr th {\n",
       "        vertical-align: top;\n",
       "    }\n",
       "\n",
       "    .dataframe thead th {\n",
       "        text-align: right;\n",
       "    }\n",
       "</style>\n",
       "<table border=\"1\" class=\"dataframe\">\n",
       "  <thead>\n",
       "    <tr style=\"text-align: right;\">\n",
       "      <th></th>\n",
       "      <th>lang_fr</th>\n",
       "      <th>en</th>\n",
       "      <th>fr</th>\n",
       "      <th>blank_prompt_original_fr</th>\n",
       "      <th>blank_prompt_translation_fr</th>\n",
       "      <th>blank_prompt_translation_masked_fr</th>\n",
       "      <th>error_fr</th>\n",
       "      <th>lang_en</th>\n",
       "      <th>en_in</th>\n",
       "      <th>blank_prompt_original_en</th>\n",
       "      <th>blank_prompt_translation_en</th>\n",
       "      <th>blank_prompt_translation_masked_en</th>\n",
       "      <th>error_en</th>\n",
       "    </tr>\n",
       "  </thead>\n",
       "  <tbody>\n",
       "    <tr>\n",
       "      <th>0</th>\n",
       "      <td>fr</td>\n",
       "      <td>cloud</td>\n",
       "      <td>nuage</td>\n",
       "      <td>A \"cloud\" is a visible mass of condensed water...</td>\n",
       "      <td>Un \"nuage\" est une masse visible de vapeur d'e...</td>\n",
       "      <td>Un \"___\" est une masse visible de vapeur d'eau...</td>\n",
       "      <td>no error</td>\n",
       "      <td>en</td>\n",
       "      <td>cloud</td>\n",
       "      <td>A \"cloud\" is a visible mass of condensed water...</td>\n",
       "      <td>A \"cloud\" is a visible mass of condensed water...</td>\n",
       "      <td>A \"___\" is a visible mass of condensed water v...</td>\n",
       "      <td>no error</td>\n",
       "    </tr>\n",
       "    <tr>\n",
       "      <th>1</th>\n",
       "      <td>fr</td>\n",
       "      <td>bag</td>\n",
       "      <td>sac</td>\n",
       "      <td>A \"bag\" is used to carry items. Answer: \"bag\".</td>\n",
       "      <td>Un \"sac\" est utilisé pour transporter des obje...</td>\n",
       "      <td>Un \"___\" est utilisé pour transporter des obje...</td>\n",
       "      <td>no error</td>\n",
       "      <td>en</td>\n",
       "      <td>bag</td>\n",
       "      <td>A \"bag\" is used to carry items. Answer: \"bag\".</td>\n",
       "      <td>A \"bag\" is used to carry items. Answer: \"bag\".</td>\n",
       "      <td>A \"___\" is used to carry items. Answer: \"bag\".</td>\n",
       "      <td>no error</td>\n",
       "    </tr>\n",
       "    <tr>\n",
       "      <th>2</th>\n",
       "      <td>fr</td>\n",
       "      <td>mouth</td>\n",
       "      <td>bouche</td>\n",
       "      <td>A \"mouth\" is used to eat food and speak. Answe...</td>\n",
       "      <td>La \"bouche\" sert à manger et à parler. Réponse...</td>\n",
       "      <td>La \"___\" sert à manger et à parler. Réponse : ...</td>\n",
       "      <td>no error</td>\n",
       "      <td>en</td>\n",
       "      <td>mouth</td>\n",
       "      <td>A \"mouth\" is used to eat food and speak. Answe...</td>\n",
       "      <td>A \"mouth\" is used to eat food and speak. Answe...</td>\n",
       "      <td>A \"___\" is used to eat food and speak. Answer:...</td>\n",
       "      <td>no error</td>\n",
       "    </tr>\n",
       "    <tr>\n",
       "      <th>3</th>\n",
       "      <td>fr</td>\n",
       "      <td>soil</td>\n",
       "      <td>sol</td>\n",
       "      <td>\"A \"soil\" is used for planting trees and crops...</td>\n",
       "      <td>\"Un \"sol\" est utilisé pour planter des arbres ...</td>\n",
       "      <td>\"Un \"___\" est utilisé pour planter des arbres ...</td>\n",
       "      <td>no error</td>\n",
       "      <td>en</td>\n",
       "      <td>soil</td>\n",
       "      <td>\"A \"soil\" is used for planting trees and crops...</td>\n",
       "      <td>\"A \"soil\" is used for planting trees and crops...</td>\n",
       "      <td>\"A \"___\" is used for planting trees and crops....</td>\n",
       "      <td>no error</td>\n",
       "    </tr>\n",
       "    <tr>\n",
       "      <th>4</th>\n",
       "      <td>fr</td>\n",
       "      <td>mountain</td>\n",
       "      <td>montagne</td>\n",
       "      <td>A \"mountain\" is a large natural elevation of t...</td>\n",
       "      <td>Une \"montagne\" est une grande élévation nature...</td>\n",
       "      <td>Une \"___\" est une grande élévation naturelle d...</td>\n",
       "      <td>no error</td>\n",
       "      <td>en</td>\n",
       "      <td>mountain</td>\n",
       "      <td>A \"mountain\" is a large natural elevation of t...</td>\n",
       "      <td>A \"mountain\" is a large natural elevation of t...</td>\n",
       "      <td>A \"___\" is a large natural elevation of the ea...</td>\n",
       "      <td>no error</td>\n",
       "    </tr>\n",
       "    <tr>\n",
       "      <th>...</th>\n",
       "      <td>...</td>\n",
       "      <td>...</td>\n",
       "      <td>...</td>\n",
       "      <td>...</td>\n",
       "      <td>...</td>\n",
       "      <td>...</td>\n",
       "      <td>...</td>\n",
       "      <td>...</td>\n",
       "      <td>...</td>\n",
       "      <td>...</td>\n",
       "      <td>...</td>\n",
       "      <td>...</td>\n",
       "      <td>...</td>\n",
       "    </tr>\n",
       "    <tr>\n",
       "      <th>113</th>\n",
       "      <td>fr</td>\n",
       "      <td>rise</td>\n",
       "      <td>hausse</td>\n",
       "      <td>\"A \"rise\" is used to describe an increase or u...</td>\n",
       "      <td>\"Une \"hausse\" est utilisée pour décrire une au...</td>\n",
       "      <td>\"Une \"___\" est utilisée pour décrire une augme...</td>\n",
       "      <td>no error</td>\n",
       "      <td>en</td>\n",
       "      <td>rise</td>\n",
       "      <td>\"A \"rise\" is used to describe an increase or u...</td>\n",
       "      <td>\"A \"rise\" is used to describe an increase or u...</td>\n",
       "      <td>\"A \"___\" is used to describe an increase or up...</td>\n",
       "      <td>no error</td>\n",
       "    </tr>\n",
       "    <tr>\n",
       "      <th>114</th>\n",
       "      <td>fr</td>\n",
       "      <td>left</td>\n",
       "      <td>gauche</td>\n",
       "      <td>'A \"left\" is a direction opposite to right. An...</td>\n",
       "      <td>Une \"gauche\" est une direction opposée à la dr...</td>\n",
       "      <td>Une \"___\" est une direction opposée à la droit...</td>\n",
       "      <td>no error</td>\n",
       "      <td>en</td>\n",
       "      <td>left</td>\n",
       "      <td>'A \"left\" is a direction opposite to right. An...</td>\n",
       "      <td>'A \"left\" is a direction opposite to right. An...</td>\n",
       "      <td>'A \"___\" is a direction opposite to right. Ans...</td>\n",
       "      <td>no error</td>\n",
       "    </tr>\n",
       "    <tr>\n",
       "      <th>115</th>\n",
       "      <td>fr</td>\n",
       "      <td>sound</td>\n",
       "      <td>son</td>\n",
       "      <td>A \"sound\" is something we hear. Answer: \"sound\".</td>\n",
       "      <td>Un \"son\" est quelque chose que l'on entend. Ré...</td>\n",
       "      <td>Un \"___\" est quelque chose que l'on entend. Ré...</td>\n",
       "      <td>no error</td>\n",
       "      <td>en</td>\n",
       "      <td>sound</td>\n",
       "      <td>A \"sound\" is something we hear. Answer: \"sound\".</td>\n",
       "      <td>A \"sound\" is something we hear. Answer: \"sound\".</td>\n",
       "      <td>A \"___\" is something we hear. Answer: \"sound\".</td>\n",
       "      <td>no error</td>\n",
       "    </tr>\n",
       "    <tr>\n",
       "      <th>116</th>\n",
       "      <td>fr</td>\n",
       "      <td>power</td>\n",
       "      <td>pouvoir</td>\n",
       "      <td>\"A \"power\" is used to control or influence peo...</td>\n",
       "      <td>\"Un \"pouvoir\" est utilisé pour contrôler ou in...</td>\n",
       "      <td>\"Un \"___\" est utilisé pour contrôler ou influe...</td>\n",
       "      <td>no error</td>\n",
       "      <td>en</td>\n",
       "      <td>power</td>\n",
       "      <td>\"A \"power\" is used to control or influence peo...</td>\n",
       "      <td>\"A \"power\" is used to control or influence peo...</td>\n",
       "      <td>\"A \"___\" is used to control or influence peopl...</td>\n",
       "      <td>no error</td>\n",
       "    </tr>\n",
       "    <tr>\n",
       "      <th>117</th>\n",
       "      <td>fr</td>\n",
       "      <td>summer</td>\n",
       "      <td>été</td>\n",
       "      <td>\"The \"summer\" is a season known for its warm w...</td>\n",
       "      <td>\"L'\"été\" est une saison connue pour son temps ...</td>\n",
       "      <td>\"L'\"___\" est une saison connue pour son temps ...</td>\n",
       "      <td>no error</td>\n",
       "      <td>en</td>\n",
       "      <td>summer</td>\n",
       "      <td>\"The \"summer\" is a season known for its warm w...</td>\n",
       "      <td>\"The \"summer\" is a season known for its warm w...</td>\n",
       "      <td>\"The \"___\" is a season known for its warm weat...</td>\n",
       "      <td>no error</td>\n",
       "    </tr>\n",
       "  </tbody>\n",
       "</table>\n",
       "<p>100 rows × 13 columns</p>\n",
       "</div>"
      ],
      "text/plain": [
       "    lang_fr        en        fr  \\\n",
       "0        fr     cloud     nuage   \n",
       "1        fr       bag       sac   \n",
       "2        fr     mouth    bouche   \n",
       "3        fr      soil       sol   \n",
       "4        fr  mountain  montagne   \n",
       "..      ...       ...       ...   \n",
       "113      fr      rise    hausse   \n",
       "114      fr      left    gauche   \n",
       "115      fr     sound       son   \n",
       "116      fr     power   pouvoir   \n",
       "117      fr    summer       été   \n",
       "\n",
       "                              blank_prompt_original_fr  \\\n",
       "0    A \"cloud\" is a visible mass of condensed water...   \n",
       "1       A \"bag\" is used to carry items. Answer: \"bag\".   \n",
       "2    A \"mouth\" is used to eat food and speak. Answe...   \n",
       "3    \"A \"soil\" is used for planting trees and crops...   \n",
       "4    A \"mountain\" is a large natural elevation of t...   \n",
       "..                                                 ...   \n",
       "113  \"A \"rise\" is used to describe an increase or u...   \n",
       "114  'A \"left\" is a direction opposite to right. An...   \n",
       "115   A \"sound\" is something we hear. Answer: \"sound\".   \n",
       "116  \"A \"power\" is used to control or influence peo...   \n",
       "117  \"The \"summer\" is a season known for its warm w...   \n",
       "\n",
       "                           blank_prompt_translation_fr  \\\n",
       "0    Un \"nuage\" est une masse visible de vapeur d'e...   \n",
       "1    Un \"sac\" est utilisé pour transporter des obje...   \n",
       "2    La \"bouche\" sert à manger et à parler. Réponse...   \n",
       "3    \"Un \"sol\" est utilisé pour planter des arbres ...   \n",
       "4    Une \"montagne\" est une grande élévation nature...   \n",
       "..                                                 ...   \n",
       "113  \"Une \"hausse\" est utilisée pour décrire une au...   \n",
       "114  Une \"gauche\" est une direction opposée à la dr...   \n",
       "115  Un \"son\" est quelque chose que l'on entend. Ré...   \n",
       "116  \"Un \"pouvoir\" est utilisé pour contrôler ou in...   \n",
       "117  \"L'\"été\" est une saison connue pour son temps ...   \n",
       "\n",
       "                    blank_prompt_translation_masked_fr  error_fr lang_en  \\\n",
       "0    Un \"___\" est une masse visible de vapeur d'eau...  no error      en   \n",
       "1    Un \"___\" est utilisé pour transporter des obje...  no error      en   \n",
       "2    La \"___\" sert à manger et à parler. Réponse : ...  no error      en   \n",
       "3    \"Un \"___\" est utilisé pour planter des arbres ...  no error      en   \n",
       "4    Une \"___\" est une grande élévation naturelle d...  no error      en   \n",
       "..                                                 ...       ...     ...   \n",
       "113  \"Une \"___\" est utilisée pour décrire une augme...  no error      en   \n",
       "114  Une \"___\" est une direction opposée à la droit...  no error      en   \n",
       "115  Un \"___\" est quelque chose que l'on entend. Ré...  no error      en   \n",
       "116  \"Un \"___\" est utilisé pour contrôler ou influe...  no error      en   \n",
       "117  \"L'\"___\" est une saison connue pour son temps ...  no error      en   \n",
       "\n",
       "        en_in                           blank_prompt_original_en  \\\n",
       "0       cloud  A \"cloud\" is a visible mass of condensed water...   \n",
       "1         bag     A \"bag\" is used to carry items. Answer: \"bag\".   \n",
       "2       mouth  A \"mouth\" is used to eat food and speak. Answe...   \n",
       "3        soil  \"A \"soil\" is used for planting trees and crops...   \n",
       "4    mountain  A \"mountain\" is a large natural elevation of t...   \n",
       "..        ...                                                ...   \n",
       "113      rise  \"A \"rise\" is used to describe an increase or u...   \n",
       "114      left  'A \"left\" is a direction opposite to right. An...   \n",
       "115     sound   A \"sound\" is something we hear. Answer: \"sound\".   \n",
       "116     power  \"A \"power\" is used to control or influence peo...   \n",
       "117    summer  \"The \"summer\" is a season known for its warm w...   \n",
       "\n",
       "                           blank_prompt_translation_en  \\\n",
       "0    A \"cloud\" is a visible mass of condensed water...   \n",
       "1       A \"bag\" is used to carry items. Answer: \"bag\".   \n",
       "2    A \"mouth\" is used to eat food and speak. Answe...   \n",
       "3    \"A \"soil\" is used for planting trees and crops...   \n",
       "4    A \"mountain\" is a large natural elevation of t...   \n",
       "..                                                 ...   \n",
       "113  \"A \"rise\" is used to describe an increase or u...   \n",
       "114  'A \"left\" is a direction opposite to right. An...   \n",
       "115   A \"sound\" is something we hear. Answer: \"sound\".   \n",
       "116  \"A \"power\" is used to control or influence peo...   \n",
       "117  \"The \"summer\" is a season known for its warm w...   \n",
       "\n",
       "                    blank_prompt_translation_masked_en  error_en  \n",
       "0    A \"___\" is a visible mass of condensed water v...  no error  \n",
       "1       A \"___\" is used to carry items. Answer: \"bag\".  no error  \n",
       "2    A \"___\" is used to eat food and speak. Answer:...  no error  \n",
       "3    \"A \"___\" is used for planting trees and crops....  no error  \n",
       "4    A \"___\" is a large natural elevation of the ea...  no error  \n",
       "..                                                 ...       ...  \n",
       "113  \"A \"___\" is used to describe an increase or up...  no error  \n",
       "114  'A \"___\" is a direction opposite to right. Ans...  no error  \n",
       "115     A \"___\" is something we hear. Answer: \"sound\".  no error  \n",
       "116  \"A \"___\" is used to control or influence peopl...  no error  \n",
       "117  \"The \"___\" is a season known for its warm weat...  no error  \n",
       "\n",
       "[100 rows x 13 columns]"
      ]
     },
     "execution_count": 8,
     "metadata": {},
     "output_type": "execute_result"
    }
   ],
   "source": [
    "df_en_target_input"
   ]
  },
  {
   "cell_type": "code",
   "execution_count": 9,
   "id": "f0c0a52d",
   "metadata": {
    "execution": {
     "iopub.execute_input": "2024-02-23T16:48:28.113283Z",
     "iopub.status.busy": "2024-02-23T16:48:28.113131Z",
     "iopub.status.idle": "2024-02-23T16:48:28.138315Z",
     "shell.execute_reply": "2024-02-23T16:48:28.138020Z"
    },
    "papermill": {
     "duration": 0.030423,
     "end_time": "2024-02-23T16:48:28.139474",
     "exception": false,
     "start_time": "2024-02-23T16:48:28.109051",
     "status": "completed"
    },
    "tags": []
   },
   "outputs": [],
   "source": [
    "def token_prefixes(token_str: str):\n",
    "    n = len(token_str)\n",
    "    tokens = [token_str[:i] for i in range(1, n+1)]\n",
    "    return tokens \n",
    "\n",
    "def add_spaces(tokens):\n",
    "    return ['▁' + t for t in tokens] + tokens\n",
    "\n",
    "def capitalizations(tokens):\n",
    "    return list(set(tokens))\n",
    "\n",
    "def unicode_prefix_tokid(zh_char = \"云\", tokenizer=tokenizer):\n",
    "    start = zh_char.encode().__str__()[2:-1].split('\\\\x')[1]\n",
    "    unicode_format = '<0x%s>'\n",
    "    start_key = unicode_format%start.upper()\n",
    "    if start_key in tokenizer.get_vocab():\n",
    "        return tokenizer.get_vocab()[start_key]\n",
    "    return None\n",
    "\n",
    "def process_tokens(token_str: str, tokenizer, lang):\n",
    "    with_prefixes = token_prefixes(token_str)\n",
    "    with_spaces = add_spaces(with_prefixes)\n",
    "    with_capitalizations = capitalizations(with_spaces)\n",
    "    final_tokens = []\n",
    "    for tok in with_capitalizations:\n",
    "        if tok in tokenizer.get_vocab():\n",
    "            final_tokens.append(tokenizer.get_vocab()[tok])\n",
    "    if lang in ['zh', 'ru']:\n",
    "        tokid = unicode_prefix_tokid(token_str, tokenizer)\n",
    "        if tokid is not None:\n",
    "            final_tokens.append(tokid)\n",
    "    return final_tokens"
   ]
  },
  {
   "cell_type": "code",
   "execution_count": 10,
   "id": "faa7bb78",
   "metadata": {
    "execution": {
     "iopub.execute_input": "2024-02-23T16:48:28.147930Z",
     "iopub.status.busy": "2024-02-23T16:48:28.147784Z",
     "iopub.status.idle": "2024-02-23T16:48:28.180970Z",
     "shell.execute_reply": "2024-02-23T16:48:28.180667Z"
    },
    "papermill": {
     "duration": 0.038622,
     "end_time": "2024-02-23T16:48:28.182243",
     "exception": false,
     "start_time": "2024-02-23T16:48:28.143621",
     "status": "completed"
    },
    "tags": []
   },
   "outputs": [],
   "source": [
    "\n",
    "id2voc = {id:voc for voc, id in tokenizer.get_vocab().items()}\n",
    "def get_tokens(token_ids, id2voc=id2voc):\n",
    "    return [id2voc[tokid] for tokid in token_ids]\n",
    "\n",
    "def compute_entropy(probas):\n",
    "    return (-probas*torch.log2(probas)).sum(dim=-1)\n",
    "\n",
    "lang2name = {'fr': 'Français', 'de': 'Deutsch', 'ru': 'Русский', 'en': 'English', 'zh': '中文'}\n",
    "def sample(df, ind, k=5, tokenizer=tokenizer, lang1='fr', lang2='de', lang_latent=latent):\n",
    "    df = df.reset_index(drop=True)\n",
    "    temp = df[df.index!=ind]\n",
    "    sample = pd.concat([temp.sample(k-1), df[df.index==ind]], axis=0)\n",
    "    prompt = \"\"\n",
    "    for idx, (df_idx, row) in enumerate(sample.iterrows()):\n",
    "        if idx < k-1:\n",
    "            prompt += f'{lang2name[lang1]}: \"{row[lang1]}\" - {lang2name[lang2]}: \"{row[lang2]}\"\\n'\n",
    "        else:\n",
    "            prompt += f'{lang2name[lang1]}: \"{row[lang1]}\" - {lang2name[lang2]}: \"'\n",
    "            in_token_str = row[lang1]\n",
    "            out_token_str = row[lang2]\n",
    "            out_token_id = process_tokens(out_token_str, tokenizer, lang2)\n",
    "            latent_token_str = row[lang_latent]\n",
    "            latent_token_id = process_tokens(latent_token_str, tokenizer, latent)\n",
    "            intersection = set(out_token_id).intersection(set(latent_token_id))\n",
    "            if len(out_token_id) == 0 or len(latent_token_id) == 0:\n",
    "                yield None\n",
    "            if lang2 != 'en' and len(intersection) > 0:\n",
    "                yield None\n",
    "            yield {'prompt': prompt, \n",
    "                'out_token_id': out_token_id, \n",
    "                'out_token_str': out_token_str,\n",
    "                'latent_token_id': latent_token_id, \n",
    "                'latent_token_str': latent_token_str, \n",
    "                'in_token_str': in_token_str}"
   ]
  },
  {
   "cell_type": "code",
   "execution_count": 11,
   "id": "500641f5",
   "metadata": {
    "execution": {
     "iopub.execute_input": "2024-02-23T16:48:28.191126Z",
     "iopub.status.busy": "2024-02-23T16:48:28.191000Z",
     "iopub.status.idle": "2024-02-23T16:48:49.599124Z",
     "shell.execute_reply": "2024-02-23T16:48:49.598605Z"
    },
    "papermill": {
     "duration": 21.413276,
     "end_time": "2024-02-23T16:48:49.599906",
     "exception": false,
     "start_time": "2024-02-23T16:48:28.186630",
     "status": "completed"
    },
    "tags": []
   },
   "outputs": [
    {
     "name": "stderr",
     "output_type": "stream",
     "text": [
      "\r",
      "  0%|                                                                                                                                                                                                                       | 0/100 [00:00<?, ?it/s]"
     ]
    },
    {
     "name": "stderr",
     "output_type": "stream",
     "text": [
      "\r",
      "  1%|██                                                                                                                                                                                                             | 1/100 [00:00<00:21,  4.53it/s]"
     ]
    },
    {
     "name": "stderr",
     "output_type": "stream",
     "text": [
      "\r",
      "  2%|████▏                                                                                                                                                                                                          | 2/100 [00:00<00:17,  5.61it/s]"
     ]
    },
    {
     "name": "stderr",
     "output_type": "stream",
     "text": [
      "\r",
      "  3%|██████▏                                                                                                                                                                                                        | 3/100 [00:00<00:19,  5.09it/s]"
     ]
    },
    {
     "name": "stderr",
     "output_type": "stream",
     "text": [
      "\r",
      "  4%|████████▎                                                                                                                                                                                                      | 4/100 [00:00<00:17,  5.44it/s]"
     ]
    },
    {
     "name": "stderr",
     "output_type": "stream",
     "text": [
      "\r",
      "  5%|██████████▎                                                                                                                                                                                                    | 5/100 [00:01<00:22,  4.25it/s]"
     ]
    },
    {
     "name": "stderr",
     "output_type": "stream",
     "text": [
      "\r",
      "  6%|████████████▍                                                                                                                                                                                                  | 6/100 [00:01<00:20,  4.67it/s]"
     ]
    },
    {
     "name": "stderr",
     "output_type": "stream",
     "text": [
      "\r",
      "  7%|██████████████▍                                                                                                                                                                                                | 7/100 [00:01<00:19,  4.67it/s]"
     ]
    },
    {
     "name": "stderr",
     "output_type": "stream",
     "text": [
      "\r",
      "  8%|████████████████▌                                                                                                                                                                                              | 8/100 [00:01<00:18,  4.91it/s]"
     ]
    },
    {
     "name": "stderr",
     "output_type": "stream",
     "text": [
      "\r",
      "  9%|██████████████████▋                                                                                                                                                                                            | 9/100 [00:01<00:18,  4.90it/s]"
     ]
    },
    {
     "name": "stderr",
     "output_type": "stream",
     "text": [
      "\r",
      " 10%|████████████████████▌                                                                                                                                                                                         | 10/100 [00:02<00:20,  4.45it/s]"
     ]
    },
    {
     "name": "stderr",
     "output_type": "stream",
     "text": [
      "\r",
      " 11%|██████████████████████▋                                                                                                                                                                                       | 11/100 [00:02<00:18,  4.72it/s]"
     ]
    },
    {
     "name": "stderr",
     "output_type": "stream",
     "text": [
      "\r",
      " 12%|████████████████████████▋                                                                                                                                                                                     | 12/100 [00:02<00:17,  4.98it/s]"
     ]
    },
    {
     "name": "stderr",
     "output_type": "stream",
     "text": [
      "\r",
      " 13%|██████████████████████████▊                                                                                                                                                                                   | 13/100 [00:02<00:18,  4.72it/s]"
     ]
    },
    {
     "name": "stderr",
     "output_type": "stream",
     "text": [
      "\r",
      " 14%|████████████████████████████▊                                                                                                                                                                                 | 14/100 [00:02<00:17,  4.86it/s]"
     ]
    },
    {
     "name": "stderr",
     "output_type": "stream",
     "text": [
      "\r",
      " 15%|██████████████████████████████▉                                                                                                                                                                               | 15/100 [00:03<00:18,  4.57it/s]"
     ]
    },
    {
     "name": "stderr",
     "output_type": "stream",
     "text": [
      "\r",
      " 16%|████████████████████████████████▉                                                                                                                                                                             | 16/100 [00:03<00:17,  4.76it/s]"
     ]
    },
    {
     "name": "stderr",
     "output_type": "stream",
     "text": [
      "\r",
      " 17%|███████████████████████████████████                                                                                                                                                                           | 17/100 [00:03<00:16,  4.89it/s]"
     ]
    },
    {
     "name": "stderr",
     "output_type": "stream",
     "text": [
      "\r",
      " 18%|█████████████████████████████████████                                                                                                                                                                         | 18/100 [00:03<00:15,  5.33it/s]"
     ]
    },
    {
     "name": "stderr",
     "output_type": "stream",
     "text": [
      "\r",
      " 19%|███████████████████████████████████████▏                                                                                                                                                                      | 19/100 [00:03<00:15,  5.33it/s]"
     ]
    },
    {
     "name": "stderr",
     "output_type": "stream",
     "text": [
      "\r",
      " 20%|█████████████████████████████████████████▏                                                                                                                                                                    | 20/100 [00:04<00:15,  5.28it/s]"
     ]
    },
    {
     "name": "stderr",
     "output_type": "stream",
     "text": [
      "\r",
      " 21%|███████████████████████████████████████████▎                                                                                                                                                                  | 21/100 [00:04<00:15,  5.16it/s]"
     ]
    },
    {
     "name": "stderr",
     "output_type": "stream",
     "text": [
      "\r",
      " 22%|█████████████████████████████████████████████▎                                                                                                                                                                | 22/100 [00:04<00:14,  5.57it/s]"
     ]
    },
    {
     "name": "stderr",
     "output_type": "stream",
     "text": [
      "\r",
      " 23%|███████████████████████████████████████████████▍                                                                                                                                                              | 23/100 [00:04<00:13,  5.63it/s]"
     ]
    },
    {
     "name": "stderr",
     "output_type": "stream",
     "text": [
      "\r",
      " 24%|█████████████████████████████████████████████████▍                                                                                                                                                            | 24/100 [00:04<00:15,  4.97it/s]"
     ]
    },
    {
     "name": "stderr",
     "output_type": "stream",
     "text": [
      "\r",
      " 25%|███████████████████████████████████████████████████▌                                                                                                                                                          | 25/100 [00:05<00:14,  5.19it/s]"
     ]
    },
    {
     "name": "stderr",
     "output_type": "stream",
     "text": [
      "\r",
      " 26%|█████████████████████████████████████████████████████▌                                                                                                                                                        | 26/100 [00:05<00:13,  5.29it/s]"
     ]
    },
    {
     "name": "stderr",
     "output_type": "stream",
     "text": [
      "\r",
      " 27%|███████████████████████████████████████████████████████▌                                                                                                                                                      | 27/100 [00:05<00:14,  5.12it/s]"
     ]
    },
    {
     "name": "stderr",
     "output_type": "stream",
     "text": [
      "\r",
      " 28%|█████████████████████████████████████████████████████████▋                                                                                                                                                    | 28/100 [00:05<00:14,  5.14it/s]"
     ]
    },
    {
     "name": "stderr",
     "output_type": "stream",
     "text": [
      "\r",
      " 29%|███████████████████████████████████████████████████████████▋                                                                                                                                                  | 29/100 [00:05<00:14,  4.92it/s]"
     ]
    },
    {
     "name": "stderr",
     "output_type": "stream",
     "text": [
      "\r",
      " 30%|█████████████████████████████████████████████████████████████▊                                                                                                                                                | 30/100 [00:05<00:12,  5.41it/s]"
     ]
    },
    {
     "name": "stderr",
     "output_type": "stream",
     "text": [
      "\r",
      " 31%|███████████████████████████████████████████████████████████████▊                                                                                                                                              | 31/100 [00:06<00:13,  5.28it/s]"
     ]
    },
    {
     "name": "stderr",
     "output_type": "stream",
     "text": [
      "\r",
      " 32%|█████████████████████████████████████████████████████████████████▉                                                                                                                                            | 32/100 [00:06<00:11,  5.72it/s]"
     ]
    },
    {
     "name": "stderr",
     "output_type": "stream",
     "text": [
      "\r",
      " 33%|███████████████████████████████████████████████████████████████████▉                                                                                                                                          | 33/100 [00:06<00:12,  5.32it/s]"
     ]
    },
    {
     "name": "stderr",
     "output_type": "stream",
     "text": [
      "\r",
      " 34%|██████████████████████████████████████████████████████████████████████                                                                                                                                        | 34/100 [00:06<00:12,  5.40it/s]"
     ]
    },
    {
     "name": "stderr",
     "output_type": "stream",
     "text": [
      "\r",
      " 35%|████████████████████████████████████████████████████████████████████████                                                                                                                                      | 35/100 [00:06<00:13,  4.94it/s]"
     ]
    },
    {
     "name": "stderr",
     "output_type": "stream",
     "text": [
      "\r",
      " 36%|██████████████████████████████████████████████████████████████████████████▏                                                                                                                                   | 36/100 [00:07<00:11,  5.55it/s]"
     ]
    },
    {
     "name": "stderr",
     "output_type": "stream",
     "text": [
      "\r",
      " 37%|████████████████████████████████████████████████████████████████████████████▏                                                                                                                                 | 37/100 [00:07<00:10,  5.74it/s]"
     ]
    },
    {
     "name": "stderr",
     "output_type": "stream",
     "text": [
      "\r",
      " 38%|██████████████████████████████████████████████████████████████████████████████▎                                                                                                                               | 38/100 [00:07<00:11,  5.35it/s]"
     ]
    },
    {
     "name": "stderr",
     "output_type": "stream",
     "text": [
      "\r",
      " 39%|████████████████████████████████████████████████████████████████████████████████▎                                                                                                                             | 39/100 [00:07<00:11,  5.13it/s]"
     ]
    },
    {
     "name": "stderr",
     "output_type": "stream",
     "text": [
      "\r",
      " 40%|██████████████████████████████████████████████████████████████████████████████████▍                                                                                                                           | 40/100 [00:07<00:11,  5.21it/s]"
     ]
    },
    {
     "name": "stderr",
     "output_type": "stream",
     "text": [
      "\r",
      " 41%|████████████████████████████████████████████████████████████████████████████████████▍                                                                                                                         | 41/100 [00:08<00:11,  5.22it/s]"
     ]
    },
    {
     "name": "stderr",
     "output_type": "stream",
     "text": [
      "\r",
      " 42%|██████████████████████████████████████████████████████████████████████████████████████▌                                                                                                                       | 42/100 [00:08<00:11,  5.22it/s]"
     ]
    },
    {
     "name": "stderr",
     "output_type": "stream",
     "text": [
      "\r",
      " 43%|████████████████████████████████████████████████████████████████████████████████████████▌                                                                                                                     | 43/100 [00:08<00:10,  5.40it/s]"
     ]
    },
    {
     "name": "stderr",
     "output_type": "stream",
     "text": [
      "\r",
      " 44%|██████████████████████████████████████████████████████████████████████████████████████████▋                                                                                                                   | 44/100 [00:08<00:09,  5.76it/s]"
     ]
    },
    {
     "name": "stderr",
     "output_type": "stream",
     "text": [
      "\r",
      " 45%|████████████████████████████████████████████████████████████████████████████████████████████▋                                                                                                                 | 45/100 [00:08<00:09,  5.91it/s]"
     ]
    },
    {
     "name": "stderr",
     "output_type": "stream",
     "text": [
      "\r",
      " 46%|██████████████████████████████████████████████████████████████████████████████████████████████▊                                                                                                               | 46/100 [00:08<00:10,  5.24it/s]"
     ]
    },
    {
     "name": "stderr",
     "output_type": "stream",
     "text": [
      "\r",
      " 47%|████████████████████████████████████████████████████████████████████████████████████████████████▊                                                                                                             | 47/100 [00:09<00:10,  5.07it/s]"
     ]
    },
    {
     "name": "stderr",
     "output_type": "stream",
     "text": [
      "\r",
      " 48%|██████████████████████████████████████████████████████████████████████████████████████████████████▉                                                                                                           | 48/100 [00:09<00:08,  5.87it/s]"
     ]
    },
    {
     "name": "stderr",
     "output_type": "stream",
     "text": [
      "\r",
      " 49%|████████████████████████████████████████████████████████████████████████████████████████████████████▉                                                                                                         | 49/100 [00:09<00:09,  5.39it/s]"
     ]
    },
    {
     "name": "stderr",
     "output_type": "stream",
     "text": [
      "\r",
      " 50%|███████████████████████████████████████████████████████████████████████████████████████████████████████                                                                                                       | 50/100 [00:09<00:09,  5.13it/s]"
     ]
    },
    {
     "name": "stderr",
     "output_type": "stream",
     "text": [
      "\r",
      " 51%|█████████████████████████████████████████████████████████████████████████████████████████████████████████                                                                                                     | 51/100 [00:09<00:09,  5.24it/s]"
     ]
    },
    {
     "name": "stderr",
     "output_type": "stream",
     "text": [
      "\r",
      " 52%|███████████████████████████████████████████████████████████████████████████████████████████████████████████                                                                                                   | 52/100 [00:10<00:09,  5.24it/s]"
     ]
    },
    {
     "name": "stderr",
     "output_type": "stream",
     "text": [
      "\r",
      " 53%|█████████████████████████████████████████████████████████████████████████████████████████████████████████████▏                                                                                                | 53/100 [00:10<00:09,  4.89it/s]"
     ]
    },
    {
     "name": "stderr",
     "output_type": "stream",
     "text": [
      "\r",
      " 54%|███████████████████████████████████████████████████████████████████████████████████████████████████████████████▏                                                                                              | 54/100 [00:10<00:10,  4.53it/s]"
     ]
    },
    {
     "name": "stderr",
     "output_type": "stream",
     "text": [
      "\r",
      " 55%|█████████████████████████████████████████████████████████████████████████████████████████████████████████████████▎                                                                                            | 55/100 [00:10<00:09,  4.63it/s]"
     ]
    },
    {
     "name": "stderr",
     "output_type": "stream",
     "text": [
      "\r",
      " 56%|███████████████████████████████████████████████████████████████████████████████████████████████████████████████████▎                                                                                          | 56/100 [00:11<00:09,  4.57it/s]"
     ]
    },
    {
     "name": "stderr",
     "output_type": "stream",
     "text": [
      "\r",
      " 57%|█████████████████████████████████████████████████████████████████████████████████████████████████████████████████████▍                                                                                        | 57/100 [00:11<00:09,  4.33it/s]"
     ]
    },
    {
     "name": "stderr",
     "output_type": "stream",
     "text": [
      "\r",
      " 58%|███████████████████████████████████████████████████████████████████████████████████████████████████████████████████████▍                                                                                      | 58/100 [00:11<00:09,  4.25it/s]"
     ]
    },
    {
     "name": "stderr",
     "output_type": "stream",
     "text": [
      "\r",
      " 59%|█████████████████████████████████████████████████████████████████████████████████████████████████████████████████████████▌                                                                                    | 59/100 [00:11<00:09,  4.19it/s]"
     ]
    },
    {
     "name": "stderr",
     "output_type": "stream",
     "text": [
      "\r",
      " 60%|███████████████████████████████████████████████████████████████████████████████████████████████████████████████████████████▌                                                                                  | 60/100 [00:11<00:09,  4.35it/s]"
     ]
    },
    {
     "name": "stderr",
     "output_type": "stream",
     "text": [
      "\r",
      " 61%|█████████████████████████████████████████████████████████████████████████████████████████████████████████████████████████████▋                                                                                | 61/100 [00:12<00:08,  4.58it/s]"
     ]
    },
    {
     "name": "stderr",
     "output_type": "stream",
     "text": [
      "\r",
      " 62%|███████████████████████████████████████████████████████████████████████████████████████████████████████████████████████████████▋                                                                              | 62/100 [00:12<00:08,  4.57it/s]"
     ]
    },
    {
     "name": "stderr",
     "output_type": "stream",
     "text": [
      "\r",
      " 63%|█████████████████████████████████████████████████████████████████████████████████████████████████████████████████████████████████▊                                                                            | 63/100 [00:12<00:07,  4.71it/s]"
     ]
    },
    {
     "name": "stderr",
     "output_type": "stream",
     "text": [
      "\r",
      " 64%|███████████████████████████████████████████████████████████████████████████████████████████████████████████████████████████████████▊                                                                          | 64/100 [00:12<00:08,  4.34it/s]"
     ]
    },
    {
     "name": "stderr",
     "output_type": "stream",
     "text": [
      "\r",
      " 65%|█████████████████████████████████████████████████████████████████████████████████████████████████████████████████████████████████████▉                                                                        | 65/100 [00:13<00:07,  4.43it/s]"
     ]
    },
    {
     "name": "stderr",
     "output_type": "stream",
     "text": [
      "\r",
      " 66%|███████████████████████████████████████████████████████████████████████████████████████████████████████████████████████████████████████▉                                                                      | 66/100 [00:13<00:07,  4.40it/s]"
     ]
    },
    {
     "name": "stderr",
     "output_type": "stream",
     "text": [
      "\r",
      " 67%|██████████████████████████████████████████████████████████████████████████████████████████████████████████████████████████████████████████                                                                    | 67/100 [00:13<00:08,  4.01it/s]"
     ]
    },
    {
     "name": "stderr",
     "output_type": "stream",
     "text": [
      "\r",
      " 68%|████████████████████████████████████████████████████████████████████████████████████████████████████████████████████████████████████████████                                                                  | 68/100 [00:13<00:07,  4.15it/s]"
     ]
    },
    {
     "name": "stderr",
     "output_type": "stream",
     "text": [
      "\r",
      " 69%|██████████████████████████████████████████████████████████████████████████████████████████████████████████████████████████████████████████████▏                                                               | 69/100 [00:14<00:08,  3.62it/s]"
     ]
    },
    {
     "name": "stderr",
     "output_type": "stream",
     "text": [
      "\r",
      " 70%|████████████████████████████████████████████████████████████████████████████████████████████████████████████████████████████████████████████████▏                                                             | 70/100 [00:14<00:07,  3.75it/s]"
     ]
    },
    {
     "name": "stderr",
     "output_type": "stream",
     "text": [
      "\r",
      " 71%|██████████████████████████████████████████████████████████████████████████████████████████████████████████████████████████████████████████████████▎                                                           | 71/100 [00:14<00:07,  4.02it/s]"
     ]
    },
    {
     "name": "stderr",
     "output_type": "stream",
     "text": [
      "\r",
      " 72%|████████████████████████████████████████████████████████████████████████████████████████████████████████████████████████████████████████████████████▎                                                         | 72/100 [00:14<00:06,  4.04it/s]"
     ]
    },
    {
     "name": "stderr",
     "output_type": "stream",
     "text": [
      "\r",
      " 73%|██████████████████████████████████████████████████████████████████████████████████████████████████████████████████████████████████████████████████████▍                                                       | 73/100 [00:15<00:07,  3.75it/s]"
     ]
    },
    {
     "name": "stderr",
     "output_type": "stream",
     "text": [
      "\r",
      " 74%|████████████████████████████████████████████████████████████████████████████████████████████████████████████████████████████████████████████████████████▍                                                     | 74/100 [00:15<00:06,  3.82it/s]"
     ]
    },
    {
     "name": "stderr",
     "output_type": "stream",
     "text": [
      "\r",
      " 75%|██████████████████████████████████████████████████████████████████████████████████████████████████████████████████████████████████████████████████████████▌                                                   | 75/100 [00:15<00:06,  3.97it/s]"
     ]
    },
    {
     "name": "stderr",
     "output_type": "stream",
     "text": [
      "\r",
      " 76%|████████████████████████████████████████████████████████████████████████████████████████████████████████████████████████████████████████████████████████████▌                                                 | 76/100 [00:16<00:06,  3.58it/s]"
     ]
    },
    {
     "name": "stderr",
     "output_type": "stream",
     "text": [
      "\r",
      " 77%|██████████████████████████████████████████████████████████████████████████████████████████████████████████████████████████████████████████████████████████████▌                                               | 77/100 [00:16<00:05,  4.02it/s]"
     ]
    },
    {
     "name": "stderr",
     "output_type": "stream",
     "text": [
      "\r",
      " 78%|████████████████████████████████████████████████████████████████████████████████████████████████████████████████████████████████████████████████████████████████▋                                             | 78/100 [00:16<00:05,  4.02it/s]"
     ]
    },
    {
     "name": "stderr",
     "output_type": "stream",
     "text": [
      "\r",
      " 79%|██████████████████████████████████████████████████████████████████████████████████████████████████████████████████████████████████████████████████████████████████▋                                           | 79/100 [00:16<00:05,  4.16it/s]"
     ]
    },
    {
     "name": "stderr",
     "output_type": "stream",
     "text": [
      "\r",
      " 80%|████████████████████████████████████████████████████████████████████████████████████████████████████████████████████████████████████████████████████████████████████▊                                         | 80/100 [00:16<00:04,  4.24it/s]"
     ]
    },
    {
     "name": "stderr",
     "output_type": "stream",
     "text": [
      "\r",
      " 81%|██████████████████████████████████████████████████████████████████████████████████████████████████████████████████████████████████████████████████████████████████████▊                                       | 81/100 [00:17<00:04,  4.24it/s]"
     ]
    },
    {
     "name": "stderr",
     "output_type": "stream",
     "text": [
      "\r",
      " 82%|████████████████████████████████████████████████████████████████████████████████████████████████████████████████████████████████████████████████████████████████████████▉                                     | 82/100 [00:17<00:04,  4.43it/s]"
     ]
    },
    {
     "name": "stderr",
     "output_type": "stream",
     "text": [
      "\r",
      " 83%|██████████████████████████████████████████████████████████████████████████████████████████████████████████████████████████████████████████████████████████████████████████▉                                   | 83/100 [00:17<00:04,  4.23it/s]"
     ]
    },
    {
     "name": "stderr",
     "output_type": "stream",
     "text": [
      "\r",
      " 84%|█████████████████████████████████████████████████████████████████████████████████████████████████████████████████████████████████████████████████████████████████████████████                                 | 84/100 [00:17<00:04,  3.91it/s]"
     ]
    },
    {
     "name": "stderr",
     "output_type": "stream",
     "text": [
      "\r",
      " 85%|███████████████████████████████████████████████████████████████████████████████████████████████████████████████████████████████████████████████████████████████████████████████                               | 85/100 [00:18<00:03,  3.97it/s]"
     ]
    },
    {
     "name": "stderr",
     "output_type": "stream",
     "text": [
      "\r",
      " 86%|█████████████████████████████████████████████████████████████████████████████████████████████████████████████████████████████████████████████████████████████████████████████████▏                            | 86/100 [00:18<00:03,  4.21it/s]"
     ]
    },
    {
     "name": "stderr",
     "output_type": "stream",
     "text": [
      "\r",
      " 87%|███████████████████████████████████████████████████████████████████████████████████████████████████████████████████████████████████████████████████████████████████████████████████▏                          | 87/100 [00:18<00:02,  4.45it/s]"
     ]
    },
    {
     "name": "stderr",
     "output_type": "stream",
     "text": [
      "\r",
      " 88%|█████████████████████████████████████████████████████████████████████████████████████████████████████████████████████████████████████████████████████████████████████████████████████▎                        | 88/100 [00:18<00:02,  4.83it/s]"
     ]
    },
    {
     "name": "stderr",
     "output_type": "stream",
     "text": [
      "\r",
      " 89%|███████████████████████████████████████████████████████████████████████████████████████████████████████████████████████████████████████████████████████████████████████████████████████▎                      | 89/100 [00:18<00:02,  4.57it/s]"
     ]
    },
    {
     "name": "stderr",
     "output_type": "stream",
     "text": [
      "\r",
      " 90%|█████████████████████████████████████████████████████████████████████████████████████████████████████████████████████████████████████████████████████████████████████████████████████████▍                    | 90/100 [00:19<00:02,  4.26it/s]"
     ]
    },
    {
     "name": "stderr",
     "output_type": "stream",
     "text": [
      "\r",
      " 91%|███████████████████████████████████████████████████████████████████████████████████████████████████████████████████████████████████████████████████████████████████████████████████████████▍                  | 91/100 [00:19<00:02,  4.31it/s]"
     ]
    },
    {
     "name": "stderr",
     "output_type": "stream",
     "text": [
      "\r",
      " 92%|█████████████████████████████████████████████████████████████████████████████████████████████████████████████████████████████████████████████████████████████████████████████████████████████▌                | 92/100 [00:19<00:01,  4.58it/s]"
     ]
    },
    {
     "name": "stderr",
     "output_type": "stream",
     "text": [
      "\r",
      " 93%|███████████████████████████████████████████████████████████████████████████████████████████████████████████████████████████████████████████████████████████████████████████████████████████████▌              | 93/100 [00:19<00:01,  4.26it/s]"
     ]
    },
    {
     "name": "stderr",
     "output_type": "stream",
     "text": [
      "\r",
      " 94%|█████████████████████████████████████████████████████████████████████████████████████████████████████████████████████████████████████████████████████████████████████████████████████████████████▋            | 94/100 [00:20<00:01,  4.20it/s]"
     ]
    },
    {
     "name": "stderr",
     "output_type": "stream",
     "text": [
      "\r",
      " 95%|███████████████████████████████████████████████████████████████████████████████████████████████████████████████████████████████████████████████████████████████████████████████████████████████████▋          | 95/100 [00:20<00:01,  4.47it/s]"
     ]
    },
    {
     "name": "stderr",
     "output_type": "stream",
     "text": [
      "\r",
      " 96%|█████████████████████████████████████████████████████████████████████████████████████████████████████████████████████████████████████████████████████████████████████████████████████████████████████▊        | 96/100 [00:20<00:00,  4.60it/s]"
     ]
    },
    {
     "name": "stderr",
     "output_type": "stream",
     "text": [
      "\r",
      " 97%|███████████████████████████████████████████████████████████████████████████████████████████████████████████████████████████████████████████████████████████████████████████████████████████████████████▊      | 97/100 [00:20<00:00,  4.65it/s]"
     ]
    },
    {
     "name": "stderr",
     "output_type": "stream",
     "text": [
      "\r",
      " 98%|█████████████████████████████████████████████████████████████████████████████████████████████████████████████████████████████████████████████████████████████████████████████████████████████████████████▉    | 98/100 [00:20<00:00,  4.86it/s]"
     ]
    },
    {
     "name": "stderr",
     "output_type": "stream",
     "text": [
      "\r",
      " 99%|███████████████████████████████████████████████████████████████████████████████████████████████████████████████████████████████████████████████████████████████████████████████████████████████████████████▉  | 99/100 [00:21<00:00,  4.59it/s]"
     ]
    },
    {
     "name": "stderr",
     "output_type": "stream",
     "text": [
      "\r",
      "100%|█████████████████████████████████████████████████████████████████████████████████████████████████████████████████████████████████████████████████████████████████████████████████████████████████████████████| 100/100 [00:21<00:00,  4.64it/s]"
     ]
    },
    {
     "name": "stderr",
     "output_type": "stream",
     "text": [
      "\r",
      "100%|█████████████████████████████████████████████████████████████████████████████████████████████████████████████████████████████████████████████████████████████████████████████████████████████████████████████| 100/100 [00:21<00:00,  4.68it/s]"
     ]
    },
    {
     "name": "stderr",
     "output_type": "stream",
     "text": [
      "\n"
     ]
    }
   ],
   "source": [
    "dataset = []\n",
    "for ind in tqdm(range(len(df_en_target_input))):\n",
    "    d = next(sample(df_en_target_input, ind, lang1=input_lang, lang2=target_lang))\n",
    "    if d is None:\n",
    "        continue\n",
    "    dataset.append(d)"
   ]
  },
  {
   "cell_type": "code",
   "execution_count": 12,
   "id": "d786ab1b",
   "metadata": {
    "execution": {
     "iopub.execute_input": "2024-02-23T16:48:49.616713Z",
     "iopub.status.busy": "2024-02-23T16:48:49.616539Z",
     "iopub.status.idle": "2024-02-23T16:48:49.650564Z",
     "shell.execute_reply": "2024-02-23T16:48:49.650202Z"
    },
    "papermill": {
     "duration": 0.043026,
     "end_time": "2024-02-23T16:48:49.651687",
     "exception": false,
     "start_time": "2024-02-23T16:48:49.608661",
     "status": "completed"
    },
    "tags": []
   },
   "outputs": [],
   "source": [
    "df = pd.DataFrame(dataset)\n",
    "os.makedirs(f'{out_dir}/translation', exist_ok=True)\n",
    "df.to_csv(f'{out_dir}/translation/{model_size}_{input_lang}_{target_lang}_dataset.csv', index=False)"
   ]
  },
  {
   "cell_type": "code",
   "execution_count": 13,
   "id": "00e12355",
   "metadata": {
    "execution": {
     "iopub.execute_input": "2024-02-23T16:48:49.668360Z",
     "iopub.status.busy": "2024-02-23T16:48:49.668212Z",
     "iopub.status.idle": "2024-02-23T16:48:49.709292Z",
     "shell.execute_reply": "2024-02-23T16:48:49.708984Z"
    },
    "papermill": {
     "duration": 0.050205,
     "end_time": "2024-02-23T16:48:49.710163",
     "exception": false,
     "start_time": "2024-02-23T16:48:49.659958",
     "status": "completed"
    },
    "tags": []
   },
   "outputs": [
    {
     "data": {
      "text/html": [
       "<div>\n",
       "<style scoped>\n",
       "    .dataframe tbody tr th:only-of-type {\n",
       "        vertical-align: middle;\n",
       "    }\n",
       "\n",
       "    .dataframe tbody tr th {\n",
       "        vertical-align: top;\n",
       "    }\n",
       "\n",
       "    .dataframe thead th {\n",
       "        text-align: right;\n",
       "    }\n",
       "</style>\n",
       "<table border=\"1\" class=\"dataframe\">\n",
       "  <thead>\n",
       "    <tr style=\"text-align: right;\">\n",
       "      <th></th>\n",
       "      <th>prompt</th>\n",
       "      <th>out_token_id</th>\n",
       "      <th>out_token_str</th>\n",
       "      <th>latent_token_id</th>\n",
       "      <th>latent_token_str</th>\n",
       "      <th>in_token_str</th>\n",
       "    </tr>\n",
       "  </thead>\n",
       "  <tbody>\n",
       "    <tr>\n",
       "      <th>0</th>\n",
       "      <td>English: \"example\" - Français: \"exemple\"\\nEngl...</td>\n",
       "      <td>[4948, 302, 29876, 3433]</td>\n",
       "      <td>nuage</td>\n",
       "      <td>[29883, 15126, 23642, 1067, 9274, 9570, 695, 2...</td>\n",
       "      <td>cloud</td>\n",
       "      <td>cloud</td>\n",
       "    </tr>\n",
       "    <tr>\n",
       "      <th>1</th>\n",
       "      <td>English: \"city\" - Français: \"ville\"\\nEnglish: ...</td>\n",
       "      <td>[269, 29879, 872, 4977, 7067]</td>\n",
       "      <td>sac</td>\n",
       "      <td>[289, 2291, 19548, 29890, 9922, 23156]</td>\n",
       "      <td>bag</td>\n",
       "      <td>bag</td>\n",
       "    </tr>\n",
       "    <tr>\n",
       "      <th>2</th>\n",
       "      <td>English: \"dance\" - Français: \"danse\"\\nEnglish:...</td>\n",
       "      <td>[289, 29890, 1045, 16380, 833]</td>\n",
       "      <td>bouche</td>\n",
       "      <td>[29442, 286, 2730, 29885, 4346, 13394, 21026]</td>\n",
       "      <td>mouth</td>\n",
       "      <td>mouth</td>\n",
       "    </tr>\n",
       "    <tr>\n",
       "      <th>3</th>\n",
       "      <td>English: \"light\" - Français: \"lumière\"\\nEnglis...</td>\n",
       "      <td>[29883, 274]</td>\n",
       "      <td>cœur</td>\n",
       "      <td>[29882, 23057, 5192, 8293, 354, 298, 540]</td>\n",
       "      <td>heart</td>\n",
       "      <td>heart</td>\n",
       "    </tr>\n",
       "    <tr>\n",
       "      <th>4</th>\n",
       "      <td>English: \"sound\" - Français: \"son\"\\nEnglish: \"...</td>\n",
       "      <td>[611, 3396, 29885, 286, 1667, 655, 24402, 5530]</td>\n",
       "      <td>main</td>\n",
       "      <td>[447, 29882, 5403, 2350, 5905, 1361, 298, 3179]</td>\n",
       "      <td>hand</td>\n",
       "      <td>hand</td>\n",
       "    </tr>\n",
       "    <tr>\n",
       "      <th>5</th>\n",
       "      <td>English: \"ground\" - Français: \"sol\"\\nEnglish: ...</td>\n",
       "      <td>[29926, 20551, 432, 8121, 2212, 8694, 2958]</td>\n",
       "      <td>jour</td>\n",
       "      <td>[2462, 1388, 270, 1146, 3250, 29881]</td>\n",
       "      <td>day</td>\n",
       "      <td>day</td>\n",
       "    </tr>\n",
       "    <tr>\n",
       "      <th>6</th>\n",
       "      <td>English: \"office\" - Français: \"bureau\"\\nEnglis...</td>\n",
       "      <td>[904, 1893, 2852, 29948]</td>\n",
       "      <td>étoile</td>\n",
       "      <td>[269, 29879, 380, 5810, 9523, 5173, 8508, 303]</td>\n",
       "      <td>star</td>\n",
       "      <td>star</td>\n",
       "    </tr>\n",
       "    <tr>\n",
       "      <th>7</th>\n",
       "      <td>English: \"door\" - Français: \"porte\"\\nEnglish: ...</td>\n",
       "      <td>[620, 29878, 276, 364, 337, 690, 18475, 1253]</td>\n",
       "      <td>ressort</td>\n",
       "      <td>[269, 29879, 15099, 1028, 7689, 6709, 4278, 805]</td>\n",
       "      <td>spring</td>\n",
       "      <td>spring</td>\n",
       "    </tr>\n",
       "    <tr>\n",
       "      <th>8</th>\n",
       "      <td>English: \"virtue\" - Français: \"vertu\"\\nEnglish...</td>\n",
       "      <td>[8092, 25081, 301, 29880, 6092]</td>\n",
       "      <td>lune</td>\n",
       "      <td>[18786, 29885, 286, 2730, 4346]</td>\n",
       "      <td>moon</td>\n",
       "      <td>moon</td>\n",
       "    </tr>\n",
       "    <tr>\n",
       "      <th>9</th>\n",
       "      <td>English: \"spring\" - Français: \"ressort\"\\nEngli...</td>\n",
       "      <td>[289, 23734, 29890, 1045, 833]</td>\n",
       "      <td>bois</td>\n",
       "      <td>[6115, 8112, 29893, 281, 827, 8879]</td>\n",
       "      <td>wood</td>\n",
       "      <td>wood</td>\n",
       "    </tr>\n",
       "    <tr>\n",
       "      <th>10</th>\n",
       "      <td>English: \"moon\" - Français: \"lune\"\\nEnglish: \"...</td>\n",
       "      <td>[29883, 521, 25875, 305, 5815, 10329, 274, 5083]</td>\n",
       "      <td>chanson</td>\n",
       "      <td>[269, 29879, 21453, 577, 578, 4823, 1100, 1487]</td>\n",
       "      <td>song</td>\n",
       "      <td>song</td>\n",
       "    </tr>\n",
       "    <tr>\n",
       "      <th>11</th>\n",
       "      <td>English: \"line\" - Français: \"ligne\"\\nEnglish: ...</td>\n",
       "      <td>[904, 1893, 2852, 28899, 29948]</td>\n",
       "      <td>étang</td>\n",
       "      <td>[12509, 29886, 282, 772, 1129, 1112, 2818]</td>\n",
       "      <td>pond</td>\n",
       "      <td>pond</td>\n",
       "    </tr>\n",
       "    <tr>\n",
       "      <th>12</th>\n",
       "      <td>English: \"household\" - Français: \"ménage\"\\nEng...</td>\n",
       "      <td>[265, 288, 373, 13469, 898, 29877, 16504]</td>\n",
       "      <td>onde</td>\n",
       "      <td>[27766, 11324, 29893, 10742, 2766, 281]</td>\n",
       "      <td>wave</td>\n",
       "      <td>wave</td>\n",
       "    </tr>\n",
       "    <tr>\n",
       "      <th>13</th>\n",
       "      <td>English: \"left\" - Français: \"gauche\"\\nEnglish:...</td>\n",
       "      <td>[867, 330, 629, 29887, 4071, 17170]</td>\n",
       "      <td>grotte</td>\n",
       "      <td>[29883, 18346, 1113, 24230, 274, 5777]</td>\n",
       "      <td>cave</td>\n",
       "      <td>cave</td>\n",
       "    </tr>\n",
       "    <tr>\n",
       "      <th>14</th>\n",
       "      <td>English: \"door\" - Français: \"porte\"\\nEnglish: ...</td>\n",
       "      <td>[592, 29885, 286, 2778, 1050, 1004]</td>\n",
       "      <td>mer</td>\n",
       "      <td>[269, 29879, 7205, 344, 409]</td>\n",
       "      <td>sea</td>\n",
       "      <td>sea</td>\n",
       "    </tr>\n",
       "    <tr>\n",
       "      <th>15</th>\n",
       "      <td>English: \"school\" - Français: \"école\"\\nEnglish...</td>\n",
       "      <td>[5397, 24816, 330, 10364, 29887, 7171, 3249]</td>\n",
       "      <td>gare</td>\n",
       "      <td>[19569, 269, 29879, 6112, 1002, 380, 9523, 517...</td>\n",
       "      <td>station</td>\n",
       "      <td>station</td>\n",
       "    </tr>\n",
       "    <tr>\n",
       "      <th>16</th>\n",
       "      <td>English: \"sound\" - Français: \"son\"\\nEnglish: \"...</td>\n",
       "      <td>[5713, 934, 1777, 1445, 7241, 977, 29888, 285]</td>\n",
       "      <td>filet</td>\n",
       "      <td>[302, 7787, 452, 1212, 29876, 484]</td>\n",
       "      <td>net</td>\n",
       "      <td>net</td>\n",
       "    </tr>\n",
       "    <tr>\n",
       "      <th>17</th>\n",
       "      <td>English: \"spring\" - Français: \"ressort\"\\nEngli...</td>\n",
       "      <td>[2930, 15957, 29886, 1631, 282, 12343, 5036]</td>\n",
       "      <td>pied</td>\n",
       "      <td>[1181, 1701, 3661, 6661, 29888, 285, 5431, 7953]</td>\n",
       "      <td>foot</td>\n",
       "      <td>foot</td>\n",
       "    </tr>\n",
       "    <tr>\n",
       "      <th>18</th>\n",
       "      <td>English: \"spring\" - Français: \"ressort\"\\nEngli...</td>\n",
       "      <td>[470, 29877, 272, 288]</td>\n",
       "      <td>or</td>\n",
       "      <td>[330, 748, 1484, 15192, 29887, 7684]</td>\n",
       "      <td>gold</td>\n",
       "      <td>gold</td>\n",
       "    </tr>\n",
       "    <tr>\n",
       "      <th>19</th>\n",
       "      <td>English: \"bag\" - Français: \"sac\"\\nEnglish: \"de...</td>\n",
       "      <td>[14931, 29886, 2011, 637, 1277, 13732, 282, 77...</td>\n",
       "      <td>porte</td>\n",
       "      <td>[3050, 1867, 270, 17433, 437, 29881]</td>\n",
       "      <td>door</td>\n",
       "      <td>door</td>\n",
       "    </tr>\n",
       "    <tr>\n",
       "      <th>20</th>\n",
       "      <td>English: \"valley\" - Français: \"vallée\"\\nEnglis...</td>\n",
       "      <td>[302, 12106, 452, 29876, 484]</td>\n",
       "      <td>neige</td>\n",
       "      <td>[269, 29879, 16586, 5807, 15007]</td>\n",
       "      <td>snow</td>\n",
       "      <td>snow</td>\n",
       "    </tr>\n",
       "    <tr>\n",
       "      <th>21</th>\n",
       "      <td>English: \"pond\" - Français: \"étang\"\\nEnglish: ...</td>\n",
       "      <td>[29883, 305, 1173, 923, 29823, 274, 25042, 521]</td>\n",
       "      <td>cheval</td>\n",
       "      <td>[1251, 29882, 5089, 4029, 11231, 2015, 10435, ...</td>\n",
       "      <td>horse</td>\n",
       "      <td>horse</td>\n",
       "    </tr>\n",
       "    <tr>\n",
       "      <th>22</th>\n",
       "      <td>English: \"middle\" - Français: \"milieu\"\\nEnglis...</td>\n",
       "      <td>[318, 443, 29884, 348]</td>\n",
       "      <td>un</td>\n",
       "      <td>[265, 288, 373, 697, 29877, 650]</td>\n",
       "      <td>one</td>\n",
       "      <td>one</td>\n",
       "    </tr>\n",
       "    <tr>\n",
       "      <th>23</th>\n",
       "      <td>English: \"eight\" - Français: \"huit\"\\nEnglish: ...</td>\n",
       "      <td>[311, 4239, 270, 316, 29881]</td>\n",
       "      <td>deux</td>\n",
       "      <td>[10184, 7516, 260, 1023, 29873, 3252]</td>\n",
       "      <td>two</td>\n",
       "      <td>two</td>\n",
       "    </tr>\n",
       "    <tr>\n",
       "      <th>24</th>\n",
       "      <td>English: \"bag\" - Français: \"sac\"\\nEnglish: \"va...</td>\n",
       "      <td>[29939, 439, 339, 12134, 3855, 21408]</td>\n",
       "      <td>quatre</td>\n",
       "      <td>[1181, 1701, 12584, 17823, 3023, 29888, 285]</td>\n",
       "      <td>four</td>\n",
       "      <td>four</td>\n",
       "    </tr>\n",
       "    <tr>\n",
       "      <th>25</th>\n",
       "      <td>English: \"tribe\" - Français: \"tribu\"\\nEnglish:...</td>\n",
       "      <td>[4583, 29883, 4670, 455, 17256, 16381, 274]</td>\n",
       "      <td>cinq</td>\n",
       "      <td>[5713, 5320, 20818, 7241, 29888, 285]</td>\n",
       "      <td>five</td>\n",
       "      <td>five</td>\n",
       "    </tr>\n",
       "    <tr>\n",
       "      <th>26</th>\n",
       "      <td>English: \"day\" - Français: \"jour\"\\nEnglish: \"m...</td>\n",
       "      <td>[29882, 27052, 22888, 6905, 298, 15669]</td>\n",
       "      <td>huit</td>\n",
       "      <td>[321, 15761, 10096, 29319, 29872, 9475]</td>\n",
       "      <td>eight</td>\n",
       "      <td>eight</td>\n",
       "    </tr>\n",
       "    <tr>\n",
       "      <th>27</th>\n",
       "      <td>English: \"grid\" - Français: \"grille\"\\nEnglish:...</td>\n",
       "      <td>[29881, 23386, 270, 652, 6051]</td>\n",
       "      <td>dix</td>\n",
       "      <td>[371, 734, 841, 29873, 3006, 260]</td>\n",
       "      <td>ten</td>\n",
       "      <td>ten</td>\n",
       "    </tr>\n",
       "    <tr>\n",
       "      <th>28</th>\n",
       "      <td>English: \"meeting\" - Français: \"réunion\"\\nEngl...</td>\n",
       "      <td>[17949, 29873, 260]</td>\n",
       "      <td>tête</td>\n",
       "      <td>[29882, 354, 298, 2343, 540, 2813]</td>\n",
       "      <td>head</td>\n",
       "      <td>head</td>\n",
       "    </tr>\n",
       "    <tr>\n",
       "      <th>29</th>\n",
       "      <td>English: \"bridge\" - Français: \"pont\"\\nEnglish:...</td>\n",
       "      <td>[289, 9892, 2291, 27628, 29890, 9922, 4980, 25...</td>\n",
       "      <td>bande</td>\n",
       "      <td>[710, 269, 17820, 29879, 380, 10076, 851, 1701...</td>\n",
       "      <td>strip</td>\n",
       "      <td>strip</td>\n",
       "    </tr>\n",
       "    <tr>\n",
       "      <th>30</th>\n",
       "      <td>English: \"east\" - Français: \"est\"\\nEnglish: \"t...</td>\n",
       "      <td>[5796, 29878, 364, 16014, 582]</td>\n",
       "      <td>rue</td>\n",
       "      <td>[710, 269, 29879, 380, 11952, 12243, 13045, 29...</td>\n",
       "      <td>street</td>\n",
       "      <td>street</td>\n",
       "    </tr>\n",
       "    <tr>\n",
       "      <th>31</th>\n",
       "      <td>English: \"thousand\" - Français: \"mille\"\\nEngli...</td>\n",
       "      <td>[30106]</td>\n",
       "      <td>œil</td>\n",
       "      <td>[321, 10977, 1032, 29872]</td>\n",
       "      <td>eye</td>\n",
       "      <td>eye</td>\n",
       "    </tr>\n",
       "    <tr>\n",
       "      <th>32</th>\n",
       "      <td>English: \"red\" - Français: \"rouge\"\\nEnglish: \"...</td>\n",
       "      <td>[29883, 305, 5815, 10329, 11179, 18480, 274, 521]</td>\n",
       "      <td>champ</td>\n",
       "      <td>[1746, 5713, 29607, 2671, 7241, 29888, 285]</td>\n",
       "      <td>field</td>\n",
       "      <td>field</td>\n",
       "    </tr>\n",
       "    <tr>\n",
       "      <th>33</th>\n",
       "      <td>English: \"cloud\" - Français: \"nuage\"\\nEnglish:...</td>\n",
       "      <td>[29885, 286, 2730, 4346, 14817, 3184]</td>\n",
       "      <td>mot</td>\n",
       "      <td>[1742, 1734, 29893, 281, 13762, 827, 6365, 8879]</td>\n",
       "      <td>word</td>\n",
       "      <td>word</td>\n",
       "    </tr>\n",
       "    <tr>\n",
       "      <th>34</th>\n",
       "      <td>English: \"hand\" - Français: \"main\"\\nEnglish: \"...</td>\n",
       "      <td>[3737, 2316, 286, 3533, 29885, 23853, 19958, 2...</td>\n",
       "      <td>mille</td>\n",
       "      <td>[10405, 386, 12595, 7693, 29873, 266, 260]</td>\n",
       "      <td>thousand</td>\n",
       "      <td>thousand</td>\n",
       "    </tr>\n",
       "    <tr>\n",
       "      <th>35</th>\n",
       "      <td>English: \"foot\" - Français: \"pied\"\\nEnglish: \"...</td>\n",
       "      <td>[289, 29890, 1045, 16380, 6526, 833]</td>\n",
       "      <td>bourse</td>\n",
       "      <td>[321, 5566, 14523, 735, 429, 29872, 6543]</td>\n",
       "      <td>exchange</td>\n",
       "      <td>exchange</td>\n",
       "    </tr>\n",
       "    <tr>\n",
       "      <th>36</th>\n",
       "      <td>English: \"platform\" - Français: \"plate-forme\"\\...</td>\n",
       "      <td>[16151, 479, 2531, 330, 1885, 29887, 1737]</td>\n",
       "      <td>genre</td>\n",
       "      <td>[19015, 29895, 8506, 413, 1984, 2924, 14380, 9...</td>\n",
       "      <td>kind</td>\n",
       "      <td>kind</td>\n",
       "    </tr>\n",
       "    <tr>\n",
       "      <th>37</th>\n",
       "      <td>English: \"left\" - Français: \"gauche\"\\nEnglish:...</td>\n",
       "      <td>[904, 24618, 4582, 29948]</td>\n",
       "      <td>école</td>\n",
       "      <td>[269, 29879, 816, 1557, 1364, 27041, 885, 3762]</td>\n",
       "      <td>school</td>\n",
       "      <td>school</td>\n",
       "    </tr>\n",
       "    <tr>\n",
       "      <th>38</th>\n",
       "      <td>English: \"light\" - Français: \"lumière\"\\nEnglis...</td>\n",
       "      <td>[29883, 26844, 274, 12220, 2181, 7283]</td>\n",
       "      <td>cravate</td>\n",
       "      <td>[22134, 29873, 2034, 260, 19538]</td>\n",
       "      <td>tie</td>\n",
       "      <td>tie</td>\n",
       "    </tr>\n",
       "    <tr>\n",
       "      <th>39</th>\n",
       "      <td>English: \"south\" - Français: \"sud\"\\nEnglish: \"...</td>\n",
       "      <td>[1730, 1403, 1998, 3516, 325, 29894]</td>\n",
       "      <td>visage</td>\n",
       "      <td>[3700, 5444, 2258, 29888, 285, 2161, 4024, 17470]</td>\n",
       "      <td>face</td>\n",
       "      <td>face</td>\n",
       "    </tr>\n",
       "    <tr>\n",
       "      <th>40</th>\n",
       "      <td>English: \"bag\" - Français: \"sac\"\\nEnglish: \"da...</td>\n",
       "      <td>[12509, 29886, 13185, 282, 772, 1129, 1112, 29...</td>\n",
       "      <td>pont</td>\n",
       "      <td>[289, 28635, 18419, 12945, 29890, 1506, 19515,...</td>\n",
       "      <td>bridge</td>\n",
       "      <td>bridge</td>\n",
       "    </tr>\n",
       "    <tr>\n",
       "      <th>41</th>\n",
       "      <td>English: \"head\" - Français: \"tête\"\\nEnglish: \"...</td>\n",
       "      <td>[269, 29879, 12587, 13159, 1462, 2146, 19303, ...</td>\n",
       "      <td>supprimer</td>\n",
       "      <td>[6144, 628, 316, 311, 5217, 270, 8143, 7374, 2...</td>\n",
       "      <td>delete</td>\n",
       "      <td>delete</td>\n",
       "    </tr>\n",
       "    <tr>\n",
       "      <th>42</th>\n",
       "      <td>English: \"spring\" - Français: \"ressort\"\\nEngli...</td>\n",
       "      <td>[3503, 18234, 611, 286, 29885, 655, 24402, 5530]</td>\n",
       "      <td>maison</td>\n",
       "      <td>[1251, 29882, 5089, 9261, 8697, 10774, 298, 3699]</td>\n",
       "      <td>house</td>\n",
       "      <td>house</td>\n",
       "    </tr>\n",
       "    <tr>\n",
       "      <th>43</th>\n",
       "      <td>English: \"summer\" - Français: \"été\"\\nEnglish: ...</td>\n",
       "      <td>[29878, 1841, 5606, 364]</td>\n",
       "      <td>réunion</td>\n",
       "      <td>[592, 11781, 286, 29885, 17897, 5870, 1004]</td>\n",
       "      <td>meeting</td>\n",
       "      <td>meeting</td>\n",
       "    </tr>\n",
       "    <tr>\n",
       "      <th>44</th>\n",
       "      <td>English: \"flower\" - Français: \"fleur\"\\nEnglish...</td>\n",
       "      <td>[29883, 1113, 1559, 4287, 274, 5777]</td>\n",
       "      <td>carré</td>\n",
       "      <td>[269, 6862, 29879, 3044, 17619, 10674, 26613, ...</td>\n",
       "      <td>square</td>\n",
       "      <td>square</td>\n",
       "    </tr>\n",
       "    <tr>\n",
       "      <th>45</th>\n",
       "      <td>English: \"attempt\" - Français: \"tentative\"\\nEn...</td>\n",
       "      <td>[11928, 4213, 1403, 4909, 17191, 3516, 325, 29...</td>\n",
       "      <td>ville</td>\n",
       "      <td>[4583, 29883, 4272, 12690, 455, 7537, 274, 20752]</td>\n",
       "      <td>city</td>\n",
       "      <td>city</td>\n",
       "    </tr>\n",
       "    <tr>\n",
       "      <th>46</th>\n",
       "      <td>English: \"virtue\" - Français: \"vertu\"\\nEnglish...</td>\n",
       "      <td>[1403, 3516, 13901, 325, 29894]</td>\n",
       "      <td>vitesse</td>\n",
       "      <td>[269, 29879, 6210, 1028, 5965, 19322, 805, 961]</td>\n",
       "      <td>speed</td>\n",
       "      <td>speed</td>\n",
       "    </tr>\n",
       "    <tr>\n",
       "      <th>47</th>\n",
       "      <td>English: \"tea\" - Français: \"thé\"\\nEnglish: \"re...</td>\n",
       "      <td>[269, 29879, 577, 2929, 578, 899]</td>\n",
       "      <td>sol</td>\n",
       "      <td>[330, 629, 5962, 29887, 4071, 17170, 2057, 867]</td>\n",
       "      <td>ground</td>\n",
       "      <td>ground</td>\n",
       "    </tr>\n",
       "    <tr>\n",
       "      <th>48</th>\n",
       "      <td>English: \"tower\" - Français: \"tour\"\\nEnglish: ...</td>\n",
       "      <td>[371, 734, 841, 260, 12033, 29873, 3006]</td>\n",
       "      <td>tentative</td>\n",
       "      <td>[29874, 1098, 271, 15127, 472, 4218, 263, 1131...</td>\n",
       "      <td>attempt</td>\n",
       "      <td>attempt</td>\n",
       "    </tr>\n",
       "    <tr>\n",
       "      <th>49</th>\n",
       "      <td>English: \"delete\" - Français: \"supprimer\"\\nEng...</td>\n",
       "      <td>[9521, 29939, 439, 9990, 339, 802, 712, 3855]</td>\n",
       "      <td>queue</td>\n",
       "      <td>[12464, 941, 18237, 29873, 11062, 260]</td>\n",
       "      <td>tail</td>\n",
       "      <td>tail</td>\n",
       "    </tr>\n",
       "    <tr>\n",
       "      <th>50</th>\n",
       "      <td>English: \"tie\" - Français: \"cravate\"\\nEnglish:...</td>\n",
       "      <td>[17021, 270, 652, 2218, 2313, 6051, 766, 29881]</td>\n",
       "      <td>discours</td>\n",
       "      <td>[269, 29879, 1028, 12032, 5965, 805, 961]</td>\n",
       "      <td>speech</td>\n",
       "      <td>speech</td>\n",
       "    </tr>\n",
       "    <tr>\n",
       "      <th>51</th>\n",
       "      <td>English: \"station\" - Français: \"gare\"\\nEnglish...</td>\n",
       "      <td>[321, 427, 23578, 264, 12377, 29872]</td>\n",
       "      <td>enfant</td>\n",
       "      <td>[29883, 18558, 4161, 305, 5145, 2278, 274, 521]</td>\n",
       "      <td>child</td>\n",
       "      <td>child</td>\n",
       "    </tr>\n",
       "    <tr>\n",
       "      <th>52</th>\n",
       "      <td>English: \"wood\" - Français: \"bois\"\\nEnglish: \"...</td>\n",
       "      <td>[12031, 286, 29885, 8774]</td>\n",
       "      <td>ménage</td>\n",
       "      <td>[1251, 29882, 5089, 22329, 9261, 8697, 10774, ...</td>\n",
       "      <td>household</td>\n",
       "      <td>household</td>\n",
       "    </tr>\n",
       "    <tr>\n",
       "      <th>53</th>\n",
       "      <td>English: \"cave\" - Français: \"grotte\"\\nEnglish:...</td>\n",
       "      <td>[289, 6866, 1321, 29890, 2423, 8399]</td>\n",
       "      <td>bureau</td>\n",
       "      <td>[8034, 20205, 2696, 3344, 310, 1283, 288, 974,...</td>\n",
       "      <td>office</td>\n",
       "      <td>office</td>\n",
       "    </tr>\n",
       "    <tr>\n",
       "      <th>54</th>\n",
       "      <td>English: \"head\" - Français: \"tête\"\\nEnglish: \"...</td>\n",
       "      <td>[447, 29882, 6208, 2350, 298]</td>\n",
       "      <td>hausse</td>\n",
       "      <td>[10107, 374, 29878, 5161, 364, 14451, 3780]</td>\n",
       "      <td>rise</td>\n",
       "      <td>rise</td>\n",
       "    </tr>\n",
       "    <tr>\n",
       "      <th>55</th>\n",
       "      <td>English: \"delete\" - Français: \"supprimer\"\\nEng...</td>\n",
       "      <td>[330, 26003, 29887, 10364, 13395, 3249]</td>\n",
       "      <td>gauche</td>\n",
       "      <td>[454, 2175, 25874, 280, 301, 29880, 1563]</td>\n",
       "      <td>left</td>\n",
       "      <td>left</td>\n",
       "    </tr>\n",
       "    <tr>\n",
       "      <th>56</th>\n",
       "      <td>English: \"judge\" - Français: \"juge\"\\nEnglish: ...</td>\n",
       "      <td>[904, 1893, 2852, 7342, 4370, 29948]</td>\n",
       "      <td>été</td>\n",
       "      <td>[269, 29879, 22792, 2533, 2146, 2083, 11801, 480]</td>\n",
       "      <td>summer</td>\n",
       "      <td>summer</td>\n",
       "    </tr>\n",
       "  </tbody>\n",
       "</table>\n",
       "</div>"
      ],
      "text/plain": [
       "                                               prompt  \\\n",
       "0   English: \"example\" - Français: \"exemple\"\\nEngl...   \n",
       "1   English: \"city\" - Français: \"ville\"\\nEnglish: ...   \n",
       "2   English: \"dance\" - Français: \"danse\"\\nEnglish:...   \n",
       "3   English: \"light\" - Français: \"lumière\"\\nEnglis...   \n",
       "4   English: \"sound\" - Français: \"son\"\\nEnglish: \"...   \n",
       "5   English: \"ground\" - Français: \"sol\"\\nEnglish: ...   \n",
       "6   English: \"office\" - Français: \"bureau\"\\nEnglis...   \n",
       "7   English: \"door\" - Français: \"porte\"\\nEnglish: ...   \n",
       "8   English: \"virtue\" - Français: \"vertu\"\\nEnglish...   \n",
       "9   English: \"spring\" - Français: \"ressort\"\\nEngli...   \n",
       "10  English: \"moon\" - Français: \"lune\"\\nEnglish: \"...   \n",
       "11  English: \"line\" - Français: \"ligne\"\\nEnglish: ...   \n",
       "12  English: \"household\" - Français: \"ménage\"\\nEng...   \n",
       "13  English: \"left\" - Français: \"gauche\"\\nEnglish:...   \n",
       "14  English: \"door\" - Français: \"porte\"\\nEnglish: ...   \n",
       "15  English: \"school\" - Français: \"école\"\\nEnglish...   \n",
       "16  English: \"sound\" - Français: \"son\"\\nEnglish: \"...   \n",
       "17  English: \"spring\" - Français: \"ressort\"\\nEngli...   \n",
       "18  English: \"spring\" - Français: \"ressort\"\\nEngli...   \n",
       "19  English: \"bag\" - Français: \"sac\"\\nEnglish: \"de...   \n",
       "20  English: \"valley\" - Français: \"vallée\"\\nEnglis...   \n",
       "21  English: \"pond\" - Français: \"étang\"\\nEnglish: ...   \n",
       "22  English: \"middle\" - Français: \"milieu\"\\nEnglis...   \n",
       "23  English: \"eight\" - Français: \"huit\"\\nEnglish: ...   \n",
       "24  English: \"bag\" - Français: \"sac\"\\nEnglish: \"va...   \n",
       "25  English: \"tribe\" - Français: \"tribu\"\\nEnglish:...   \n",
       "26  English: \"day\" - Français: \"jour\"\\nEnglish: \"m...   \n",
       "27  English: \"grid\" - Français: \"grille\"\\nEnglish:...   \n",
       "28  English: \"meeting\" - Français: \"réunion\"\\nEngl...   \n",
       "29  English: \"bridge\" - Français: \"pont\"\\nEnglish:...   \n",
       "30  English: \"east\" - Français: \"est\"\\nEnglish: \"t...   \n",
       "31  English: \"thousand\" - Français: \"mille\"\\nEngli...   \n",
       "32  English: \"red\" - Français: \"rouge\"\\nEnglish: \"...   \n",
       "33  English: \"cloud\" - Français: \"nuage\"\\nEnglish:...   \n",
       "34  English: \"hand\" - Français: \"main\"\\nEnglish: \"...   \n",
       "35  English: \"foot\" - Français: \"pied\"\\nEnglish: \"...   \n",
       "36  English: \"platform\" - Français: \"plate-forme\"\\...   \n",
       "37  English: \"left\" - Français: \"gauche\"\\nEnglish:...   \n",
       "38  English: \"light\" - Français: \"lumière\"\\nEnglis...   \n",
       "39  English: \"south\" - Français: \"sud\"\\nEnglish: \"...   \n",
       "40  English: \"bag\" - Français: \"sac\"\\nEnglish: \"da...   \n",
       "41  English: \"head\" - Français: \"tête\"\\nEnglish: \"...   \n",
       "42  English: \"spring\" - Français: \"ressort\"\\nEngli...   \n",
       "43  English: \"summer\" - Français: \"été\"\\nEnglish: ...   \n",
       "44  English: \"flower\" - Français: \"fleur\"\\nEnglish...   \n",
       "45  English: \"attempt\" - Français: \"tentative\"\\nEn...   \n",
       "46  English: \"virtue\" - Français: \"vertu\"\\nEnglish...   \n",
       "47  English: \"tea\" - Français: \"thé\"\\nEnglish: \"re...   \n",
       "48  English: \"tower\" - Français: \"tour\"\\nEnglish: ...   \n",
       "49  English: \"delete\" - Français: \"supprimer\"\\nEng...   \n",
       "50  English: \"tie\" - Français: \"cravate\"\\nEnglish:...   \n",
       "51  English: \"station\" - Français: \"gare\"\\nEnglish...   \n",
       "52  English: \"wood\" - Français: \"bois\"\\nEnglish: \"...   \n",
       "53  English: \"cave\" - Français: \"grotte\"\\nEnglish:...   \n",
       "54  English: \"head\" - Français: \"tête\"\\nEnglish: \"...   \n",
       "55  English: \"delete\" - Français: \"supprimer\"\\nEng...   \n",
       "56  English: \"judge\" - Français: \"juge\"\\nEnglish: ...   \n",
       "\n",
       "                                         out_token_id out_token_str  \\\n",
       "0                            [4948, 302, 29876, 3433]         nuage   \n",
       "1                       [269, 29879, 872, 4977, 7067]           sac   \n",
       "2                      [289, 29890, 1045, 16380, 833]        bouche   \n",
       "3                                        [29883, 274]          cœur   \n",
       "4     [611, 3396, 29885, 286, 1667, 655, 24402, 5530]          main   \n",
       "5         [29926, 20551, 432, 8121, 2212, 8694, 2958]          jour   \n",
       "6                            [904, 1893, 2852, 29948]        étoile   \n",
       "7       [620, 29878, 276, 364, 337, 690, 18475, 1253]       ressort   \n",
       "8                     [8092, 25081, 301, 29880, 6092]          lune   \n",
       "9                      [289, 23734, 29890, 1045, 833]          bois   \n",
       "10   [29883, 521, 25875, 305, 5815, 10329, 274, 5083]       chanson   \n",
       "11                    [904, 1893, 2852, 28899, 29948]         étang   \n",
       "12          [265, 288, 373, 13469, 898, 29877, 16504]          onde   \n",
       "13                [867, 330, 629, 29887, 4071, 17170]        grotte   \n",
       "14                [592, 29885, 286, 2778, 1050, 1004]           mer   \n",
       "15       [5397, 24816, 330, 10364, 29887, 7171, 3249]          gare   \n",
       "16     [5713, 934, 1777, 1445, 7241, 977, 29888, 285]         filet   \n",
       "17       [2930, 15957, 29886, 1631, 282, 12343, 5036]          pied   \n",
       "18                             [470, 29877, 272, 288]            or   \n",
       "19  [14931, 29886, 2011, 637, 1277, 13732, 282, 77...         porte   \n",
       "20                      [302, 12106, 452, 29876, 484]         neige   \n",
       "21    [29883, 305, 1173, 923, 29823, 274, 25042, 521]        cheval   \n",
       "22                             [318, 443, 29884, 348]            un   \n",
       "23                       [311, 4239, 270, 316, 29881]          deux   \n",
       "24              [29939, 439, 339, 12134, 3855, 21408]        quatre   \n",
       "25        [4583, 29883, 4670, 455, 17256, 16381, 274]          cinq   \n",
       "26            [29882, 27052, 22888, 6905, 298, 15669]          huit   \n",
       "27                     [29881, 23386, 270, 652, 6051]           dix   \n",
       "28                                [17949, 29873, 260]          tête   \n",
       "29  [289, 9892, 2291, 27628, 29890, 9922, 4980, 25...         bande   \n",
       "30                     [5796, 29878, 364, 16014, 582]           rue   \n",
       "31                                            [30106]           œil   \n",
       "32  [29883, 305, 5815, 10329, 11179, 18480, 274, 521]         champ   \n",
       "33              [29885, 286, 2730, 4346, 14817, 3184]           mot   \n",
       "34  [3737, 2316, 286, 3533, 29885, 23853, 19958, 2...         mille   \n",
       "35               [289, 29890, 1045, 16380, 6526, 833]        bourse   \n",
       "36         [16151, 479, 2531, 330, 1885, 29887, 1737]         genre   \n",
       "37                          [904, 24618, 4582, 29948]         école   \n",
       "38             [29883, 26844, 274, 12220, 2181, 7283]       cravate   \n",
       "39               [1730, 1403, 1998, 3516, 325, 29894]        visage   \n",
       "40  [12509, 29886, 13185, 282, 772, 1129, 1112, 29...          pont   \n",
       "41  [269, 29879, 12587, 13159, 1462, 2146, 19303, ...     supprimer   \n",
       "42   [3503, 18234, 611, 286, 29885, 655, 24402, 5530]        maison   \n",
       "43                           [29878, 1841, 5606, 364]       réunion   \n",
       "44               [29883, 1113, 1559, 4287, 274, 5777]         carré   \n",
       "45  [11928, 4213, 1403, 4909, 17191, 3516, 325, 29...         ville   \n",
       "46                    [1403, 3516, 13901, 325, 29894]       vitesse   \n",
       "47                  [269, 29879, 577, 2929, 578, 899]           sol   \n",
       "48           [371, 734, 841, 260, 12033, 29873, 3006]     tentative   \n",
       "49      [9521, 29939, 439, 9990, 339, 802, 712, 3855]         queue   \n",
       "50    [17021, 270, 652, 2218, 2313, 6051, 766, 29881]      discours   \n",
       "51               [321, 427, 23578, 264, 12377, 29872]        enfant   \n",
       "52                          [12031, 286, 29885, 8774]        ménage   \n",
       "53               [289, 6866, 1321, 29890, 2423, 8399]        bureau   \n",
       "54                      [447, 29882, 6208, 2350, 298]        hausse   \n",
       "55            [330, 26003, 29887, 10364, 13395, 3249]        gauche   \n",
       "56               [904, 1893, 2852, 7342, 4370, 29948]           été   \n",
       "\n",
       "                                      latent_token_id latent_token_str  \\\n",
       "0   [29883, 15126, 23642, 1067, 9274, 9570, 695, 2...            cloud   \n",
       "1              [289, 2291, 19548, 29890, 9922, 23156]              bag   \n",
       "2       [29442, 286, 2730, 29885, 4346, 13394, 21026]            mouth   \n",
       "3           [29882, 23057, 5192, 8293, 354, 298, 540]            heart   \n",
       "4     [447, 29882, 5403, 2350, 5905, 1361, 298, 3179]             hand   \n",
       "5                [2462, 1388, 270, 1146, 3250, 29881]              day   \n",
       "6      [269, 29879, 380, 5810, 9523, 5173, 8508, 303]             star   \n",
       "7    [269, 29879, 15099, 1028, 7689, 6709, 4278, 805]           spring   \n",
       "8                     [18786, 29885, 286, 2730, 4346]             moon   \n",
       "9                 [6115, 8112, 29893, 281, 827, 8879]             wood   \n",
       "10    [269, 29879, 21453, 577, 578, 4823, 1100, 1487]             song   \n",
       "11         [12509, 29886, 282, 772, 1129, 1112, 2818]             pond   \n",
       "12            [27766, 11324, 29893, 10742, 2766, 281]             wave   \n",
       "13             [29883, 18346, 1113, 24230, 274, 5777]             cave   \n",
       "14                       [269, 29879, 7205, 344, 409]              sea   \n",
       "15  [19569, 269, 29879, 6112, 1002, 380, 9523, 517...          station   \n",
       "16                 [302, 7787, 452, 1212, 29876, 484]              net   \n",
       "17   [1181, 1701, 3661, 6661, 29888, 285, 5431, 7953]             foot   \n",
       "18               [330, 748, 1484, 15192, 29887, 7684]             gold   \n",
       "19               [3050, 1867, 270, 17433, 437, 29881]             door   \n",
       "20                   [269, 29879, 16586, 5807, 15007]             snow   \n",
       "21  [1251, 29882, 5089, 4029, 11231, 2015, 10435, ...            horse   \n",
       "22                   [265, 288, 373, 697, 29877, 650]              one   \n",
       "23              [10184, 7516, 260, 1023, 29873, 3252]              two   \n",
       "24       [1181, 1701, 12584, 17823, 3023, 29888, 285]             four   \n",
       "25              [5713, 5320, 20818, 7241, 29888, 285]             five   \n",
       "26            [321, 15761, 10096, 29319, 29872, 9475]            eight   \n",
       "27                  [371, 734, 841, 29873, 3006, 260]              ten   \n",
       "28                 [29882, 354, 298, 2343, 540, 2813]             head   \n",
       "29  [710, 269, 17820, 29879, 380, 10076, 851, 1701...            strip   \n",
       "30  [710, 269, 29879, 380, 11952, 12243, 13045, 29...           street   \n",
       "31                          [321, 10977, 1032, 29872]              eye   \n",
       "32        [1746, 5713, 29607, 2671, 7241, 29888, 285]            field   \n",
       "33   [1742, 1734, 29893, 281, 13762, 827, 6365, 8879]             word   \n",
       "34         [10405, 386, 12595, 7693, 29873, 266, 260]         thousand   \n",
       "35          [321, 5566, 14523, 735, 429, 29872, 6543]         exchange   \n",
       "36  [19015, 29895, 8506, 413, 1984, 2924, 14380, 9...             kind   \n",
       "37    [269, 29879, 816, 1557, 1364, 27041, 885, 3762]           school   \n",
       "38                   [22134, 29873, 2034, 260, 19538]              tie   \n",
       "39  [3700, 5444, 2258, 29888, 285, 2161, 4024, 17470]             face   \n",
       "40  [289, 28635, 18419, 12945, 29890, 1506, 19515,...           bridge   \n",
       "41  [6144, 628, 316, 311, 5217, 270, 8143, 7374, 2...           delete   \n",
       "42  [1251, 29882, 5089, 9261, 8697, 10774, 298, 3699]            house   \n",
       "43        [592, 11781, 286, 29885, 17897, 5870, 1004]          meeting   \n",
       "44  [269, 6862, 29879, 3044, 17619, 10674, 26613, ...           square   \n",
       "45  [4583, 29883, 4272, 12690, 455, 7537, 274, 20752]             city   \n",
       "46    [269, 29879, 6210, 1028, 5965, 19322, 805, 961]            speed   \n",
       "47    [330, 629, 5962, 29887, 4071, 17170, 2057, 867]           ground   \n",
       "48  [29874, 1098, 271, 15127, 472, 4218, 263, 1131...          attempt   \n",
       "49             [12464, 941, 18237, 29873, 11062, 260]             tail   \n",
       "50          [269, 29879, 1028, 12032, 5965, 805, 961]           speech   \n",
       "51    [29883, 18558, 4161, 305, 5145, 2278, 274, 521]            child   \n",
       "52  [1251, 29882, 5089, 22329, 9261, 8697, 10774, ...        household   \n",
       "53  [8034, 20205, 2696, 3344, 310, 1283, 288, 974,...           office   \n",
       "54        [10107, 374, 29878, 5161, 364, 14451, 3780]             rise   \n",
       "55          [454, 2175, 25874, 280, 301, 29880, 1563]             left   \n",
       "56  [269, 29879, 22792, 2533, 2146, 2083, 11801, 480]           summer   \n",
       "\n",
       "   in_token_str  \n",
       "0         cloud  \n",
       "1           bag  \n",
       "2         mouth  \n",
       "3         heart  \n",
       "4          hand  \n",
       "5           day  \n",
       "6          star  \n",
       "7        spring  \n",
       "8          moon  \n",
       "9          wood  \n",
       "10         song  \n",
       "11         pond  \n",
       "12         wave  \n",
       "13         cave  \n",
       "14          sea  \n",
       "15      station  \n",
       "16          net  \n",
       "17         foot  \n",
       "18         gold  \n",
       "19         door  \n",
       "20         snow  \n",
       "21        horse  \n",
       "22          one  \n",
       "23          two  \n",
       "24         four  \n",
       "25         five  \n",
       "26        eight  \n",
       "27          ten  \n",
       "28         head  \n",
       "29        strip  \n",
       "30       street  \n",
       "31          eye  \n",
       "32        field  \n",
       "33         word  \n",
       "34     thousand  \n",
       "35     exchange  \n",
       "36         kind  \n",
       "37       school  \n",
       "38          tie  \n",
       "39         face  \n",
       "40       bridge  \n",
       "41       delete  \n",
       "42        house  \n",
       "43      meeting  \n",
       "44       square  \n",
       "45         city  \n",
       "46        speed  \n",
       "47       ground  \n",
       "48      attempt  \n",
       "49         tail  \n",
       "50       speech  \n",
       "51        child  \n",
       "52    household  \n",
       "53       office  \n",
       "54         rise  \n",
       "55         left  \n",
       "56       summer  "
      ]
     },
     "execution_count": 13,
     "metadata": {},
     "output_type": "execute_result"
    }
   ],
   "source": [
    "df"
   ]
  },
  {
   "cell_type": "code",
   "execution_count": 14,
   "id": "94fa55b7",
   "metadata": {
    "execution": {
     "iopub.execute_input": "2024-02-23T16:48:49.727038Z",
     "iopub.status.busy": "2024-02-23T16:48:49.726916Z",
     "iopub.status.idle": "2024-02-23T16:48:49.753206Z",
     "shell.execute_reply": "2024-02-23T16:48:49.752887Z"
    },
    "papermill": {
     "duration": 0.035455,
     "end_time": "2024-02-23T16:48:49.754128",
     "exception": false,
     "start_time": "2024-02-23T16:48:49.718673",
     "status": "completed"
    },
    "tags": []
   },
   "outputs": [],
   "source": [
    "def get_logits(model, prompt,lens):\n",
    "    inputs = tokenizer(prompt, return_tensors=\"pt\").to('cuda')\n",
    "    output = llama(inputs.input_ids, output_hidden_states=True)\n",
    "    hidden_states = output.hidden_states[:-1]\n",
    "    final_lps = output.logits.log_softmax(dim=-1)\n",
    "    tensors=[]\n",
    "    for i in range(32):\n",
    "        h = hidden_states[i].squeeze(0)\n",
    "        tensors+=[lens(h, idx=i).detach().cpu()]\n",
    "    tensors= torch.stack(tensors)  \n",
    "    hidden_states = torch.stack(hidden_states).squeeze(1).detach().cpu()\n",
    "    return tensors,hidden_states\n",
    "        "
   ]
  },
  {
   "cell_type": "code",
   "execution_count": 15,
   "id": "25241c49",
   "metadata": {
    "execution": {
     "iopub.execute_input": "2024-02-23T16:48:49.771270Z",
     "iopub.status.busy": "2024-02-23T16:48:49.771116Z",
     "iopub.status.idle": "2024-02-23T16:49:02.062964Z",
     "shell.execute_reply": "2024-02-23T16:49:02.062374Z"
    },
    "papermill": {
     "duration": 12.301379,
     "end_time": "2024-02-23T16:49:02.063969",
     "exception": false,
     "start_time": "2024-02-23T16:48:49.762590",
     "status": "completed"
    },
    "tags": []
   },
   "outputs": [
    {
     "name": "stderr",
     "output_type": "stream",
     "text": [
      "\r",
      "0it [00:00, ?it/s]"
     ]
    },
    {
     "name": "stderr",
     "output_type": "stream",
     "text": [
      "\r",
      "1it [00:00,  1.10it/s]"
     ]
    },
    {
     "name": "stderr",
     "output_type": "stream",
     "text": [
      "\r",
      "2it [00:01,  1.87it/s]"
     ]
    },
    {
     "name": "stderr",
     "output_type": "stream",
     "text": [
      "\r",
      "3it [00:01,  2.52it/s]"
     ]
    },
    {
     "name": "stderr",
     "output_type": "stream",
     "text": [
      "\r",
      "4it [00:01,  3.24it/s]"
     ]
    },
    {
     "name": "stderr",
     "output_type": "stream",
     "text": [
      "\r",
      "5it [00:01,  3.72it/s]"
     ]
    },
    {
     "name": "stderr",
     "output_type": "stream",
     "text": [
      "\r",
      "6it [00:01,  4.25it/s]"
     ]
    },
    {
     "name": "stderr",
     "output_type": "stream",
     "text": [
      "\r",
      "7it [00:02,  4.46it/s]"
     ]
    },
    {
     "name": "stderr",
     "output_type": "stream",
     "text": [
      "\r",
      "8it [00:02,  4.65it/s]"
     ]
    },
    {
     "name": "stderr",
     "output_type": "stream",
     "text": [
      "\r",
      "9it [00:02,  4.73it/s]"
     ]
    },
    {
     "name": "stderr",
     "output_type": "stream",
     "text": [
      "\r",
      "10it [00:02,  4.85it/s]"
     ]
    },
    {
     "name": "stderr",
     "output_type": "stream",
     "text": [
      "\r",
      "11it [00:02,  4.97it/s]"
     ]
    },
    {
     "name": "stderr",
     "output_type": "stream",
     "text": [
      "\r",
      "12it [00:03,  5.07it/s]"
     ]
    },
    {
     "name": "stderr",
     "output_type": "stream",
     "text": [
      "\r",
      "13it [00:03,  5.14it/s]"
     ]
    },
    {
     "name": "stderr",
     "output_type": "stream",
     "text": [
      "\r",
      "14it [00:03,  5.24it/s]"
     ]
    },
    {
     "name": "stderr",
     "output_type": "stream",
     "text": [
      "\r",
      "15it [00:03,  5.41it/s]"
     ]
    },
    {
     "name": "stderr",
     "output_type": "stream",
     "text": [
      "\r",
      "16it [00:03,  5.24it/s]"
     ]
    },
    {
     "name": "stderr",
     "output_type": "stream",
     "text": [
      "\r",
      "17it [00:04,  5.30it/s]"
     ]
    },
    {
     "name": "stderr",
     "output_type": "stream",
     "text": [
      "\r",
      "18it [00:04,  5.42it/s]"
     ]
    },
    {
     "name": "stderr",
     "output_type": "stream",
     "text": [
      "\r",
      "19it [00:04,  5.19it/s]"
     ]
    },
    {
     "name": "stderr",
     "output_type": "stream",
     "text": [
      "\r",
      "20it [00:04,  5.09it/s]"
     ]
    },
    {
     "name": "stderr",
     "output_type": "stream",
     "text": [
      "\r",
      "21it [00:04,  5.19it/s]"
     ]
    },
    {
     "name": "stderr",
     "output_type": "stream",
     "text": [
      "\r",
      "22it [00:05,  5.31it/s]"
     ]
    },
    {
     "name": "stderr",
     "output_type": "stream",
     "text": [
      "\r",
      "23it [00:05,  5.26it/s]"
     ]
    },
    {
     "name": "stderr",
     "output_type": "stream",
     "text": [
      "\r",
      "24it [00:05,  5.31it/s]"
     ]
    },
    {
     "name": "stderr",
     "output_type": "stream",
     "text": [
      "\r",
      "25it [00:05,  5.25it/s]"
     ]
    },
    {
     "name": "stderr",
     "output_type": "stream",
     "text": [
      "\r",
      "26it [00:05,  5.19it/s]"
     ]
    },
    {
     "name": "stderr",
     "output_type": "stream",
     "text": [
      "\r",
      "27it [00:05,  5.31it/s]"
     ]
    },
    {
     "name": "stderr",
     "output_type": "stream",
     "text": [
      "\r",
      "28it [00:06,  5.36it/s]"
     ]
    },
    {
     "name": "stderr",
     "output_type": "stream",
     "text": [
      "\r",
      "29it [00:06,  5.48it/s]"
     ]
    },
    {
     "name": "stderr",
     "output_type": "stream",
     "text": [
      "\r",
      "30it [00:06,  5.71it/s]"
     ]
    },
    {
     "name": "stderr",
     "output_type": "stream",
     "text": [
      "\r",
      "31it [00:06,  5.83it/s]"
     ]
    },
    {
     "name": "stderr",
     "output_type": "stream",
     "text": [
      "\r",
      "32it [00:06,  5.53it/s]"
     ]
    },
    {
     "name": "stderr",
     "output_type": "stream",
     "text": [
      "\r",
      "33it [00:07,  4.85it/s]"
     ]
    },
    {
     "name": "stderr",
     "output_type": "stream",
     "text": [
      "\r",
      "34it [00:07,  4.77it/s]"
     ]
    },
    {
     "name": "stderr",
     "output_type": "stream",
     "text": [
      "\r",
      "35it [00:07,  4.85it/s]"
     ]
    },
    {
     "name": "stderr",
     "output_type": "stream",
     "text": [
      "\r",
      "36it [00:07,  4.76it/s]"
     ]
    },
    {
     "name": "stderr",
     "output_type": "stream",
     "text": [
      "\r",
      "37it [00:07,  4.75it/s]"
     ]
    },
    {
     "name": "stderr",
     "output_type": "stream",
     "text": [
      "\r",
      "38it [00:08,  4.72it/s]"
     ]
    },
    {
     "name": "stderr",
     "output_type": "stream",
     "text": [
      "\r",
      "39it [00:08,  4.45it/s]"
     ]
    },
    {
     "name": "stderr",
     "output_type": "stream",
     "text": [
      "\r",
      "40it [00:08,  4.24it/s]"
     ]
    },
    {
     "name": "stderr",
     "output_type": "stream",
     "text": [
      "\r",
      "41it [00:08,  4.61it/s]"
     ]
    },
    {
     "name": "stderr",
     "output_type": "stream",
     "text": [
      "\r",
      "42it [00:09,  4.75it/s]"
     ]
    },
    {
     "name": "stderr",
     "output_type": "stream",
     "text": [
      "\r",
      "43it [00:09,  4.89it/s]"
     ]
    },
    {
     "name": "stderr",
     "output_type": "stream",
     "text": [
      "\r",
      "44it [00:09,  4.68it/s]"
     ]
    },
    {
     "name": "stderr",
     "output_type": "stream",
     "text": [
      "\r",
      "45it [00:09,  4.52it/s]"
     ]
    },
    {
     "name": "stderr",
     "output_type": "stream",
     "text": [
      "\r",
      "46it [00:09,  4.51it/s]"
     ]
    },
    {
     "name": "stderr",
     "output_type": "stream",
     "text": [
      "\r",
      "47it [00:10,  4.53it/s]"
     ]
    },
    {
     "name": "stderr",
     "output_type": "stream",
     "text": [
      "\r",
      "48it [00:10,  4.57it/s]"
     ]
    },
    {
     "name": "stderr",
     "output_type": "stream",
     "text": [
      "\r",
      "49it [00:10,  4.70it/s]"
     ]
    },
    {
     "name": "stderr",
     "output_type": "stream",
     "text": [
      "\r",
      "50it [00:10,  4.64it/s]"
     ]
    },
    {
     "name": "stderr",
     "output_type": "stream",
     "text": [
      "\r",
      "51it [00:11,  4.62it/s]"
     ]
    },
    {
     "name": "stderr",
     "output_type": "stream",
     "text": [
      "\r",
      "52it [00:11,  4.79it/s]"
     ]
    },
    {
     "name": "stderr",
     "output_type": "stream",
     "text": [
      "\r",
      "53it [00:11,  4.76it/s]"
     ]
    },
    {
     "name": "stderr",
     "output_type": "stream",
     "text": [
      "\r",
      "54it [00:11,  4.83it/s]"
     ]
    },
    {
     "name": "stderr",
     "output_type": "stream",
     "text": [
      "\r",
      "55it [00:11,  4.79it/s]"
     ]
    },
    {
     "name": "stderr",
     "output_type": "stream",
     "text": [
      "\r",
      "56it [00:12,  4.73it/s]"
     ]
    },
    {
     "name": "stderr",
     "output_type": "stream",
     "text": [
      "\r",
      "57it [00:12,  4.79it/s]"
     ]
    },
    {
     "name": "stderr",
     "output_type": "stream",
     "text": [
      "\r",
      "57it [00:12,  4.65it/s]"
     ]
    },
    {
     "name": "stderr",
     "output_type": "stream",
     "text": [
      "\n"
     ]
    }
   ],
   "source": [
    "in_token_probs = []\n",
    "latent_token_probs = []\n",
    "out_token_probs = []\n",
    "entropy = []\n",
    "energy = []\n",
    "latents_all = []\n",
    "\n",
    "for idx, d in tqdm(enumerate(dataset)):\n",
    "    logits,latents = get_logits(llama, d['prompt'],llama_lens)\n",
    "    last = logits[:, -1, :].float().softmax(dim=-1).detach().cpu()\n",
    "    latent_token_probs += [last[:, torch.tensor(d['latent_token_id'])].sum(dim=-1)]\n",
    "    out_token_probs += [last[:, torch.tensor(d['out_token_id'])].sum(dim=-1)]\n",
    "    entropy += [compute_entropy(last)]\n",
    "    latents_all += [latents[:, -1, :].float().detach().cpu().clone()]\n",
    "    latents_normalized = latents[:, -1, :].float()\n",
    "    latents_normalized = latents_normalized / (((latents_normalized**2).mean(dim=-1, keepdim=True))**0.5)\n",
    "    latents_normalized /= (latents_normalized.norm(dim=-1, keepdim=True))\n",
    "    norm = ((U_normalized @ latents_normalized.T)**2).mean(dim=0)**0.5\n",
    "    energy += [norm/avgUU]\n",
    "\n",
    "latent_token_probs = torch.stack(latent_token_probs)\n",
    "out_token_probs = torch.stack(out_token_probs)\n",
    "entropy = torch.stack(entropy)\n",
    "energy = torch.stack(energy)\n",
    "latents = torch.stack(latents_all)"
   ]
  },
  {
   "cell_type": "code",
   "execution_count": 16,
   "id": "680ef0b2",
   "metadata": {
    "execution": {
     "iopub.execute_input": "2024-02-23T16:49:02.089226Z",
     "iopub.status.busy": "2024-02-23T16:49:02.089030Z",
     "iopub.status.idle": "2024-02-23T16:49:02.445119Z",
     "shell.execute_reply": "2024-02-23T16:49:02.444711Z"
    },
    "papermill": {
     "duration": 0.367631,
     "end_time": "2024-02-23T16:49:02.446105",
     "exception": false,
     "start_time": "2024-02-23T16:49:02.078474",
     "status": "completed"
    },
    "tags": []
   },
   "outputs": [
    {
     "name": "stderr",
     "output_type": "stream",
     "text": [
      "/mnt/ssd-1/gpaulo/llm-latent-language/utils.py:52: UserWarning: This figure includes Axes that are not compatible with tight_layout, so results might be incorrect.\n",
      "  plt.tight_layout()\n"
     ]
    },
    {
     "data": {
      "image/png": "[encoded data removed]",
      "text/plain": [
       "<Figure size 500x300 with 3 Axes>"
      ]
     },
     "metadata": {},
     "output_type": "display_data"
    }
   ],
   "source": [
    "size2tik = {'7b': 5, '13b': 5, '70b': 10}\n",
    "fig, ax, ax2 = plot_ci_plus_heatmap(latent_token_probs, entropy, latent, color='tab:orange', tik_step=size2tik[model_size], do_colorbar=True, #, do_colorbar=(model_size=='70b'),\n",
    "nums=[.99, 0.18, 0.025, 0.6])\n",
    "plot_ci(ax2, out_token_probs, target_lang, color='tab:blue', do_lines=False)\n",
    "ax2.set_xlabel('layer')\n",
    "ax2.set_ylabel('probability')\n",
    "if model_size == '7b':\n",
    "    ax2.set_xlim(0, out_token_probs.shape[1]+1)\n",
    "else:\n",
    "    ax2.set_xlim(0, round(out_token_probs.shape[1]/10)*10+1)\n",
    "ax2.set_ylim(0, 1)\n",
    "# make xticks start from 1\n",
    "# put legend on the top left\n",
    "ax2.legend(loc='upper left')\n",
    "os.makedirs(f'{out_dir}/translation', exist_ok=True)\n",
    "\n",
    "plt.savefig(f'{out_dir}/translation/{model_size}_{input_lang}_{target_lang}_probas_ent.jpg', dpi=300, bbox_inches='tight')"
   ]
  },
  {
   "cell_type": "code",
   "execution_count": 17,
   "id": "48c50e4a",
   "metadata": {
    "execution": {
     "iopub.execute_input": "2024-02-23T16:49:02.473698Z",
     "iopub.status.busy": "2024-02-23T16:49:02.473390Z",
     "iopub.status.idle": "2024-02-23T16:49:02.627024Z",
     "shell.execute_reply": "2024-02-23T16:49:02.626616Z"
    },
    "papermill": {
     "duration": 0.168092,
     "end_time": "2024-02-23T16:49:02.627993",
     "exception": false,
     "start_time": "2024-02-23T16:49:02.459901",
     "status": "completed"
    },
    "tags": []
   },
   "outputs": [
    {
     "data": {
      "image/png": "[encoded data removed]",
      "text/plain": [
       "<Figure size 500x300 with 1 Axes>"
      ]
     },
     "metadata": {},
     "output_type": "display_data"
    }
   ],
   "source": [
    "size2tik = {'7b': 5, '13b': 5, '70b': 10}\n",
    "\n",
    "fig, ax2 = plt.subplots(figsize=(5,3))\n",
    "plot_ci(ax2, energy, 'energy', color='tab:green', do_lines=True, tik_step=size2tik[model_size])\n",
    "ax2.set_xlabel('layer')\n",
    "ax2.set_ylabel('energy')\n",
    "if model_size == '7b':\n",
    "    ax2.set_xlim(0, out_token_probs.shape[1]+1)\n",
    "else:\n",
    "    ax2.set_xlim(0, round(out_token_probs.shape[1]/10)*10+1)\n",
    "os.makedirs(f'{out_dir}/translation', exist_ok=True)\n",
    "plt.savefig(f'{out_dir}/translation/{model_size}_{input_lang}_{target_lang}_energy.jpg', dpi=300, bbox_inches='tight')"
   ]
  },
  {
   "cell_type": "code",
   "execution_count": null,
   "id": "de0f66f1",
   "metadata": {
    "papermill": {
     "duration": 0.013998,
     "end_time": "2024-02-23T16:49:02.654019",
     "exception": false,
     "start_time": "2024-02-23T16:49:02.640021",
     "status": "completed"
    },
    "tags": []
   },
   "outputs": [],
   "source": []
  }
 ],
 "metadata": {
  "kernelspec": {
   "display_name": "Python 3 (ipykernel)",
   "language": "python",
   "name": "python3"
  },
  "language_info": {
   "codemirror_mode": {
    "name": "ipython",
    "version": 3
   },
   "file_extension": ".py",
   "mimetype": "text/x-python",
   "name": "python",
   "nbconvert_exporter": "python",
   "pygments_lexer": "ipython3",
   "version": "3.11.5"
  },
  "papermill": {
   "default_parameters": {},
   "duration": 55.462744,
   "end_time": "2024-02-23T16:49:03.785000",
   "environment_variables": {},
   "exception": null,
   "input_path": "Translation.ipynb",
   "output_path": "visuals/executed_notebooks/Translation_tuned_7b_en_fr.ipynb",
   "parameters": {
    "input_lang": "en",
    "model_size": "7b",
    "target_lang": "fr",
    "type": "tuned"
   },
   "start_time": "2024-02-23T16:48:08.322256",
   "version": "2.5.0"
  },
  "widgets": {
   "application/vnd.jupyter.widget-state+json": {
    "state": {
     "091ca8a364d64c15964e2ee2814560a0": {
      "model_module": "@jupyter-widgets/base",
      "model_module_version": "2.0.0",
      "model_name": "LayoutModel",
      "state": {
       "_model_module": "@jupyter-widgets/base",
       "_model_module_version": "2.0.0",
       "_model_name": "LayoutModel",
       "_view_count": null,
       "_view_module": "@jupyter-widgets/base",
       "_view_module_version": "2.0.0",
       "_view_name": "LayoutView",
       "align_content": null,
       "align_items": null,
       "align_self": null,
       "border_bottom": null,
       "border_left": null,
       "border_right": null,
       "border_top": null,
       "bottom": null,
       "display": null,
       "flex": null,
       "flex_flow": null,
       "grid_area": null,
       "grid_auto_columns": null,
       "grid_auto_flow": null,
       "grid_auto_rows": null,
       "grid_column": null,
       "grid_gap": null,
       "grid_row": null,
       "grid_template_areas": null,
       "grid_template_columns": null,
       "grid_template_rows": null,
       "height": null,
       "justify_content": null,
       "justify_items": null,
       "left": null,
       "margin": null,
       "max_height": null,
       "max_width": null,
       "min_height": null,
       "min_width": null,
       "object_fit": null,
       "object_position": null,
       "order": null,
       "overflow": null,
       "padding": null,
       "right": null,
       "top": null,
       "visibility": null,
       "width": null
      }
     },
     "26f2c3e3e77b46a5a15a63e7c66f21da": {
      "model_module": "@jupyter-widgets/controls",
      "model_module_version": "2.0.0",
      "model_name": "ProgressStyleModel",
      "state": {
       "_model_module": "@jupyter-widgets/controls",
       "_model_module_version": "2.0.0",
       "_model_name": "ProgressStyleModel",
       "_view_count": null,
       "_view_module": "@jupyter-widgets/base",
       "_view_module_version": "2.0.0",
       "_view_name": "StyleView",
       "bar_color": null,
       "description_width": ""
      }
     },
     "274f90111d7c43b481bf406412df66d7": {
      "model_module": "@jupyter-widgets/base",
      "model_module_version": "2.0.0",
      "model_name": "LayoutModel",
      "state": {
       "_model_module": "@jupyter-widgets/base",
       "_model_module_version": "2.0.0",
       "_model_name": "LayoutModel",
       "_view_count": null,
       "_view_module": "@jupyter-widgets/base",
       "_view_module_version": "2.0.0",
       "_view_name": "LayoutView",
       "align_content": null,
       "align_items": null,
       "align_self": null,
       "border_bottom": null,
       "border_left": null,
       "border_right": null,
       "border_top": null,
       "bottom": null,
       "display": null,
       "flex": null,
       "flex_flow": null,
       "grid_area": null,
       "grid_auto_columns": null,
       "grid_auto_flow": null,
       "grid_auto_rows": null,
       "grid_column": null,
       "grid_gap": null,
       "grid_row": null,
       "grid_template_areas": null,
       "grid_template_columns": null,
       "grid_template_rows": null,
       "height": null,
       "justify_content": null,
       "justify_items": null,
       "left": null,
       "margin": null,
       "max_height": null,
       "max_width": null,
       "min_height": null,
       "min_width": null,
       "object_fit": null,
       "object_position": null,
       "order": null,
       "overflow": null,
       "padding": null,
       "right": null,
       "top": null,
       "visibility": null,
       "width": null
      }
     },
     "2f4a637a64694384b88741d15fcf697f": {
      "model_module": "@jupyter-widgets/base",
      "model_module_version": "2.0.0",
      "model_name": "LayoutModel",
      "state": {
       "_model_module": "@jupyter-widgets/base",
       "_model_module_version": "2.0.0",
       "_model_name": "LayoutModel",
       "_view_count": null,
       "_view_module": "@jupyter-widgets/base",
       "_view_module_version": "2.0.0",
       "_view_name": "LayoutView",
       "align_content": null,
       "align_items": null,
       "align_self": null,
       "border_bottom": null,
       "border_left": null,
       "border_right": null,
       "border_top": null,
       "bottom": null,
       "display": null,
       "flex": null,
       "flex_flow": null,
       "grid_area": null,
       "grid_auto_columns": null,
       "grid_auto_flow": null,
       "grid_auto_rows": null,
       "grid_column": null,
       "grid_gap": null,
       "grid_row": null,
       "grid_template_areas": null,
       "grid_template_columns": null,
       "grid_template_rows": null,
       "height": null,
       "justify_content": null,
       "justify_items": null,
       "left": null,
       "margin": null,
       "max_height": null,
       "max_width": null,
       "min_height": null,
       "min_width": null,
       "object_fit": null,
       "object_position": null,
       "order": null,
       "overflow": null,
       "padding": null,
       "right": null,
       "top": null,
       "visibility": null,
       "width": null
      }
     },
     "3cf1ef64d26d4c6f85f43d73d441a480": {
      "model_module": "@jupyter-widgets/controls",
      "model_module_version": "2.0.0",
      "model_name": "HTMLStyleModel",
      "state": {
       "_model_module": "@jupyter-widgets/controls",
       "_model_module_version": "2.0.0",
       "_model_name": "HTMLStyleModel",
       "_view_count": null,
       "_view_module": "@jupyter-widgets/base",
       "_view_module_version": "2.0.0",
       "_view_name": "StyleView",
       "background": null,
       "description_width": "",
       "font_size": null,
       "text_color": null
      }
     },
     "449b2968ee804608b58b188360adbe8d": {
      "model_module": "@jupyter-widgets/base",
      "model_module_version": "2.0.0",
      "model_name": "LayoutModel",
      "state": {
       "_model_module": "@jupyter-widgets/base",
       "_model_module_version": "2.0.0",
       "_model_name": "LayoutModel",
       "_view_count": null,
       "_view_module": "@jupyter-widgets/base",
       "_view_module_version": "2.0.0",
       "_view_name": "LayoutView",
       "align_content": null,
       "align_items": null,
       "align_self": null,
       "border_bottom": null,
       "border_left": null,
       "border_right": null,
       "border_top": null,
       "bottom": null,
       "display": null,
       "flex": null,
       "flex_flow": null,
       "grid_area": null,
       "grid_auto_columns": null,
       "grid_auto_flow": null,
       "grid_auto_rows": null,
       "grid_column": null,
       "grid_gap": null,
       "grid_row": null,
       "grid_template_areas": null,
       "grid_template_columns": null,
       "grid_template_rows": null,
       "height": null,
       "justify_content": null,
       "justify_items": null,
       "left": null,
       "margin": null,
       "max_height": null,
       "max_width": null,
       "min_height": null,
       "min_width": null,
       "object_fit": null,
       "object_position": null,
       "order": null,
       "overflow": null,
       "padding": null,
       "right": null,
       "top": null,
       "visibility": null,
       "width": null
      }
     },
     "4811155081304500ba04c99499b2e6ce": {
      "model_module": "@jupyter-widgets/controls",
      "model_module_version": "2.0.0",
      "model_name": "HTMLModel",
      "state": {
       "_dom_classes": [],
       "_model_module": "@jupyter-widgets/controls",
       "_model_module_version": "2.0.0",
       "_model_name": "HTMLModel",
       "_view_count": null,
       "_view_module": "@jupyter-widgets/controls",
       "_view_module_version": "2.0.0",
       "_view_name": "HTMLView",
       "description": "",
       "description_allow_html": false,
       "layout": "IPY_MODEL_8d679b020c574203a4e2ed8866f96ce9",
       "placeholder": "​",
       "style": "IPY_MODEL_cf5276f4d2e1429dbb8aaf578c760b4f",
       "tabbable": null,
       "tooltip": null,
       "value": "(…)ens/meta-llama/Llama-2-7b-hf/config.json: 100%"
      }
     },
     "5c78641dba0443f68a7f65a63fa394c3": {
      "model_module": "@jupyter-widgets/controls",
      "model_module_version": "2.0.0",
      "model_name": "HTMLStyleModel",
      "state": {
       "_model_module": "@jupyter-widgets/controls",
       "_model_module_version": "2.0.0",
       "_model_name": "HTMLStyleModel",
       "_view_count": null,
       "_view_module": "@jupyter-widgets/base",
       "_view_module_version": "2.0.0",
       "_view_name": "StyleView",
       "background": null,
       "description_width": "",
       "font_size": null,
       "text_color": null
      }
     },
     "5cf72b865ab94c3f94a0edd721415c93": {
      "model_module": "@jupyter-widgets/controls",
      "model_module_version": "2.0.0",
      "model_name": "FloatProgressModel",
      "state": {
       "_dom_classes": [],
       "_model_module": "@jupyter-widgets/controls",
       "_model_module_version": "2.0.0",
       "_model_name": "FloatProgressModel",
       "_view_count": null,
       "_view_module": "@jupyter-widgets/controls",
       "_view_module_version": "2.0.0",
       "_view_name": "ProgressView",
       "bar_style": "success",
       "description": "",
       "description_allow_html": false,
       "layout": "IPY_MODEL_72849951b70a4a62a592810d3a2e8293",
       "max": 2148023459.0,
       "min": 0.0,
       "orientation": "horizontal",
       "style": "IPY_MODEL_bb10d9b139294f509b4f2a35b7e52f98",
       "tabbable": null,
       "tooltip": null,
       "value": 2148023459.0
      }
     },
     "5f4d3285eff245d6b5d51adf3146d05b": {
      "model_module": "@jupyter-widgets/controls",
      "model_module_version": "2.0.0",
      "model_name": "HTMLModel",
      "state": {
       "_dom_classes": [],
       "_model_module": "@jupyter-widgets/controls",
       "_model_module_version": "2.0.0",
       "_model_name": "HTMLModel",
       "_view_count": null,
       "_view_module": "@jupyter-widgets/controls",
       "_view_module_version": "2.0.0",
       "_view_name": "HTMLView",
       "description": "",
       "description_allow_html": false,
       "layout": "IPY_MODEL_9abc36be3ec34ee89a2f74d98bde1c71",
       "placeholder": "​",
       "style": "IPY_MODEL_fc35ae7b6c4841e0ab90c777a4cd5684",
       "tabbable": null,
       "tooltip": null,
       "value": " 2.15G/2.15G [00:04&lt;00:00, 482MB/s]"
      }
     },
     "61462d8a61ea43d98fe89f48979ae85c": {
      "model_module": "@jupyter-widgets/controls",
      "model_module_version": "2.0.0",
      "model_name": "FloatProgressModel",
      "state": {
       "_dom_classes": [],
       "_model_module": "@jupyter-widgets/controls",
       "_model_module_version": "2.0.0",
       "_model_name": "FloatProgressModel",
       "_view_count": null,
       "_view_module": "@jupyter-widgets/controls",
       "_view_module_version": "2.0.0",
       "_view_name": "ProgressView",
       "bar_style": "success",
       "description": "",
       "description_allow_html": false,
       "layout": "IPY_MODEL_949c8549005a4ed1977b08b512548f7d",
       "max": 2.0,
       "min": 0.0,
       "orientation": "horizontal",
       "style": "IPY_MODEL_26f2c3e3e77b46a5a15a63e7c66f21da",
       "tabbable": null,
       "tooltip": null,
       "value": 2.0
      }
     },
     "6ecaa9f4078c465e916928e65226db7c": {
      "model_module": "@jupyter-widgets/controls",
      "model_module_version": "2.0.0",
      "model_name": "FloatProgressModel",
      "state": {
       "_dom_classes": [],
       "_model_module": "@jupyter-widgets/controls",
       "_model_module_version": "2.0.0",
       "_model_name": "FloatProgressModel",
       "_view_count": null,
       "_view_module": "@jupyter-widgets/controls",
       "_view_module_version": "2.0.0",
       "_view_name": "ProgressView",
       "bar_style": "success",
       "description": "",
       "description_allow_html": false,
       "layout": "IPY_MODEL_f72972bb44a4409f95223a7aa1a9ea92",
       "max": 258.0,
       "min": 0.0,
       "orientation": "horizontal",
       "style": "IPY_MODEL_c5a53b534a8d48da80b0be09d151820c",
       "tabbable": null,
       "tooltip": null,
       "value": 258.0
      }
     },
     "72849951b70a4a62a592810d3a2e8293": {
      "model_module": "@jupyter-widgets/base",
      "model_module_version": "2.0.0",
      "model_name": "LayoutModel",
      "state": {
       "_model_module": "@jupyter-widgets/base",
       "_model_module_version": "2.0.0",
       "_model_name": "LayoutModel",
       "_view_count": null,
       "_view_module": "@jupyter-widgets/base",
       "_view_module_version": "2.0.0",
       "_view_name": "LayoutView",
       "align_content": null,
       "align_items": null,
       "align_self": null,
       "border_bottom": null,
       "border_left": null,
       "border_right": null,
       "border_top": null,
       "bottom": null,
       "display": null,
       "flex": null,
       "flex_flow": null,
       "grid_area": null,
       "grid_auto_columns": null,
       "grid_auto_flow": null,
       "grid_auto_rows": null,
       "grid_column": null,
       "grid_gap": null,
       "grid_row": null,
       "grid_template_areas": null,
       "grid_template_columns": null,
       "grid_template_rows": null,
       "height": null,
       "justify_content": null,
       "justify_items": null,
       "left": null,
       "margin": null,
       "max_height": null,
       "max_width": null,
       "min_height": null,
       "min_width": null,
       "object_fit": null,
       "object_position": null,
       "order": null,
       "overflow": null,
       "padding": null,
       "right": null,
       "top": null,
       "visibility": null,
       "width": null
      }
     },
     "78bca7cc7e0141f9a0e8b5f22cca6d1e": {
      "model_module": "@jupyter-widgets/controls",
      "model_module_version": "2.0.0",
      "model_name": "HBoxModel",
      "state": {
       "_dom_classes": [],
       "_model_module": "@jupyter-widgets/controls",
       "_model_module_version": "2.0.0",
       "_model_name": "HBoxModel",
       "_view_count": null,
       "_view_module": "@jupyter-widgets/controls",
       "_view_module_version": "2.0.0",
       "_view_name": "HBoxView",
       "box_style": "",
       "children": [
        "IPY_MODEL_4811155081304500ba04c99499b2e6ce",
        "IPY_MODEL_6ecaa9f4078c465e916928e65226db7c",
        "IPY_MODEL_a76c6bfcd37448858d25219255e266db"
       ],
       "layout": "IPY_MODEL_449b2968ee804608b58b188360adbe8d",
       "tabbable": null,
       "tooltip": null
      }
     },
     "8d24fe514acf4ff4ac130feb1040e04c": {
      "model_module": "@jupyter-widgets/base",
      "model_module_version": "2.0.0",
      "model_name": "LayoutModel",
      "state": {
       "_model_module": "@jupyter-widgets/base",
       "_model_module_version": "2.0.0",
       "_model_name": "LayoutModel",
       "_view_count": null,
       "_view_module": "@jupyter-widgets/base",
       "_view_module_version": "2.0.0",
       "_view_name": "LayoutView",
       "align_content": null,
       "align_items": null,
       "align_self": null,
       "border_bottom": null,
       "border_left": null,
       "border_right": null,
       "border_top": null,
       "bottom": null,
       "display": null,
       "flex": null,
       "flex_flow": null,
       "grid_area": null,
       "grid_auto_columns": null,
       "grid_auto_flow": null,
       "grid_auto_rows": null,
       "grid_column": null,
       "grid_gap": null,
       "grid_row": null,
       "grid_template_areas": null,
       "grid_template_columns": null,
       "grid_template_rows": null,
       "height": null,
       "justify_content": null,
       "justify_items": null,
       "left": null,
       "margin": null,
       "max_height": null,
       "max_width": null,
       "min_height": null,
       "min_width": null,
       "object_fit": null,
       "object_position": null,
       "order": null,
       "overflow": null,
       "padding": null,
       "right": null,
       "top": null,
       "visibility": null,
       "width": null
      }
     },
     "8d679b020c574203a4e2ed8866f96ce9": {
      "model_module": "@jupyter-widgets/base",
      "model_module_version": "2.0.0",
      "model_name": "LayoutModel",
      "state": {
       "_model_module": "@jupyter-widgets/base",
       "_model_module_version": "2.0.0",
       "_model_name": "LayoutModel",
       "_view_count": null,
       "_view_module": "@jupyter-widgets/base",
       "_view_module_version": "2.0.0",
       "_view_name": "LayoutView",
       "align_content": null,
       "align_items": null,
       "align_self": null,
       "border_bottom": null,
       "border_left": null,
       "border_right": null,
       "border_top": null,
       "bottom": null,
       "display": null,
       "flex": null,
       "flex_flow": null,
       "grid_area": null,
       "grid_auto_columns": null,
       "grid_auto_flow": null,
       "grid_auto_rows": null,
       "grid_column": null,
       "grid_gap": null,
       "grid_row": null,
       "grid_template_areas": null,
       "grid_template_columns": null,
       "grid_template_rows": null,
       "height": null,
       "justify_content": null,
       "justify_items": null,
       "left": null,
       "margin": null,
       "max_height": null,
       "max_width": null,
       "min_height": null,
       "min_width": null,
       "object_fit": null,
       "object_position": null,
       "order": null,
       "overflow": null,
       "padding": null,
       "right": null,
       "top": null,
       "visibility": null,
       "width": null
      }
     },
     "949c8549005a4ed1977b08b512548f7d": {
      "model_module": "@jupyter-widgets/base",
      "model_module_version": "2.0.0",
      "model_name": "LayoutModel",
      "state": {
       "_model_module": "@jupyter-widgets/base",
       "_model_module_version": "2.0.0",
       "_model_name": "LayoutModel",
       "_view_count": null,
       "_view_module": "@jupyter-widgets/base",
       "_view_module_version": "2.0.0",
       "_view_name": "LayoutView",
       "align_content": null,
       "align_items": null,
       "align_self": null,
       "border_bottom": null,
       "border_left": null,
       "border_right": null,
       "border_top": null,
       "bottom": null,
       "display": null,
       "flex": null,
       "flex_flow": null,
       "grid_area": null,
       "grid_auto_columns": null,
       "grid_auto_flow": null,
       "grid_auto_rows": null,
       "grid_column": null,
       "grid_gap": null,
       "grid_row": null,
       "grid_template_areas": null,
       "grid_template_columns": null,
       "grid_template_rows": null,
       "height": null,
       "justify_content": null,
       "justify_items": null,
       "left": null,
       "margin": null,
       "max_height": null,
       "max_width": null,
       "min_height": null,
       "min_width": null,
       "object_fit": null,
       "object_position": null,
       "order": null,
       "overflow": null,
       "padding": null,
       "right": null,
       "top": null,
       "visibility": null,
       "width": null
      }
     },
     "9abc36be3ec34ee89a2f74d98bde1c71": {
      "model_module": "@jupyter-widgets/base",
      "model_module_version": "2.0.0",
      "model_name": "LayoutModel",
      "state": {
       "_model_module": "@jupyter-widgets/base",
       "_model_module_version": "2.0.0",
       "_model_name": "LayoutModel",
       "_view_count": null,
       "_view_module": "@jupyter-widgets/base",
       "_view_module_version": "2.0.0",
       "_view_name": "LayoutView",
       "align_content": null,
       "align_items": null,
       "align_self": null,
       "border_bottom": null,
       "border_left": null,
       "border_right": null,
       "border_top": null,
       "bottom": null,
       "display": null,
       "flex": null,
       "flex_flow": null,
       "grid_area": null,
       "grid_auto_columns": null,
       "grid_auto_flow": null,
       "grid_auto_rows": null,
       "grid_column": null,
       "grid_gap": null,
       "grid_row": null,
       "grid_template_areas": null,
       "grid_template_columns": null,
       "grid_template_rows": null,
       "height": null,
       "justify_content": null,
       "justify_items": null,
       "left": null,
       "margin": null,
       "max_height": null,
       "max_width": null,
       "min_height": null,
       "min_width": null,
       "object_fit": null,
       "object_position": null,
       "order": null,
       "overflow": null,
       "padding": null,
       "right": null,
       "top": null,
       "visibility": null,
       "width": null
      }
     },
     "9bc0a64839254e5a8ce3b144c14f07e8": {
      "model_module": "@jupyter-widgets/base",
      "model_module_version": "2.0.0",
      "model_name": "LayoutModel",
      "state": {
       "_model_module": "@jupyter-widgets/base",
       "_model_module_version": "2.0.0",
       "_model_name": "LayoutModel",
       "_view_count": null,
       "_view_module": "@jupyter-widgets/base",
       "_view_module_version": "2.0.0",
       "_view_name": "LayoutView",
       "align_content": null,
       "align_items": null,
       "align_self": null,
       "border_bottom": null,
       "border_left": null,
       "border_right": null,
       "border_top": null,
       "bottom": null,
       "display": null,
       "flex": null,
       "flex_flow": null,
       "grid_area": null,
       "grid_auto_columns": null,
       "grid_auto_flow": null,
       "grid_auto_rows": null,
       "grid_column": null,
       "grid_gap": null,
       "grid_row": null,
       "grid_template_areas": null,
       "grid_template_columns": null,
       "grid_template_rows": null,
       "height": null,
       "justify_content": null,
       "justify_items": null,
       "left": null,
       "margin": null,
       "max_height": null,
       "max_width": null,
       "min_height": null,
       "min_width": null,
       "object_fit": null,
       "object_position": null,
       "order": null,
       "overflow": null,
       "padding": null,
       "right": null,
       "top": null,
       "visibility": null,
       "width": null
      }
     },
     "a76c6bfcd37448858d25219255e266db": {
      "model_module": "@jupyter-widgets/controls",
      "model_module_version": "2.0.0",
      "model_name": "HTMLModel",
      "state": {
       "_dom_classes": [],
       "_model_module": "@jupyter-widgets/controls",
       "_model_module_version": "2.0.0",
       "_model_name": "HTMLModel",
       "_view_count": null,
       "_view_module": "@jupyter-widgets/controls",
       "_view_module_version": "2.0.0",
       "_view_name": "HTMLView",
       "description": "",
       "description_allow_html": false,
       "layout": "IPY_MODEL_274f90111d7c43b481bf406412df66d7",
       "placeholder": "​",
       "style": "IPY_MODEL_e942c7a420a04fd6a3c4c70b11d4fbac",
       "tabbable": null,
       "tooltip": null,
       "value": " 258/258 [00:00&lt;00:00, 60.1kB/s]"
      }
     },
     "aa9102ffe66c423ebc7c436c1426d987": {
      "model_module": "@jupyter-widgets/controls",
      "model_module_version": "2.0.0",
      "model_name": "HTMLModel",
      "state": {
       "_dom_classes": [],
       "_model_module": "@jupyter-widgets/controls",
       "_model_module_version": "2.0.0",
       "_model_name": "HTMLModel",
       "_view_count": null,
       "_view_module": "@jupyter-widgets/controls",
       "_view_module_version": "2.0.0",
       "_view_name": "HTMLView",
       "description": "",
       "description_allow_html": false,
       "layout": "IPY_MODEL_d98cf9a5123444539c872cb3a947b448",
       "placeholder": "​",
       "style": "IPY_MODEL_3cf1ef64d26d4c6f85f43d73d441a480",
       "tabbable": null,
       "tooltip": null,
       "value": "params.pt: 100%"
      }
     },
     "bb10d9b139294f509b4f2a35b7e52f98": {
      "model_module": "@jupyter-widgets/controls",
      "model_module_version": "2.0.0",
      "model_name": "ProgressStyleModel",
      "state": {
       "_model_module": "@jupyter-widgets/controls",
       "_model_module_version": "2.0.0",
       "_model_name": "ProgressStyleModel",
       "_view_count": null,
       "_view_module": "@jupyter-widgets/base",
       "_view_module_version": "2.0.0",
       "_view_name": "StyleView",
       "bar_color": null,
       "description_width": ""
      }
     },
     "c4585b037e39455aa9d54c11c5916c71": {
      "model_module": "@jupyter-widgets/controls",
      "model_module_version": "2.0.0",
      "model_name": "HTMLStyleModel",
      "state": {
       "_model_module": "@jupyter-widgets/controls",
       "_model_module_version": "2.0.0",
       "_model_name": "HTMLStyleModel",
       "_view_count": null,
       "_view_module": "@jupyter-widgets/base",
       "_view_module_version": "2.0.0",
       "_view_name": "StyleView",
       "background": null,
       "description_width": "",
       "font_size": null,
       "text_color": null
      }
     },
     "c5a53b534a8d48da80b0be09d151820c": {
      "model_module": "@jupyter-widgets/controls",
      "model_module_version": "2.0.0",
      "model_name": "ProgressStyleModel",
      "state": {
       "_model_module": "@jupyter-widgets/controls",
       "_model_module_version": "2.0.0",
       "_model_name": "ProgressStyleModel",
       "_view_count": null,
       "_view_module": "@jupyter-widgets/base",
       "_view_module_version": "2.0.0",
       "_view_name": "StyleView",
       "bar_color": null,
       "description_width": ""
      }
     },
     "cf39e624b3a84d1f831c2922792edf4d": {
      "model_module": "@jupyter-widgets/controls",
      "model_module_version": "2.0.0",
      "model_name": "HTMLModel",
      "state": {
       "_dom_classes": [],
       "_model_module": "@jupyter-widgets/controls",
       "_model_module_version": "2.0.0",
       "_model_name": "HTMLModel",
       "_view_count": null,
       "_view_module": "@jupyter-widgets/controls",
       "_view_module_version": "2.0.0",
       "_view_name": "HTMLView",
       "description": "",
       "description_allow_html": false,
       "layout": "IPY_MODEL_9bc0a64839254e5a8ce3b144c14f07e8",
       "placeholder": "​",
       "style": "IPY_MODEL_c4585b037e39455aa9d54c11c5916c71",
       "tabbable": null,
       "tooltip": null,
       "value": " 2/2 [00:04&lt;00:00,  2.14s/it]"
      }
     },
     "cf5276f4d2e1429dbb8aaf578c760b4f": {
      "model_module": "@jupyter-widgets/controls",
      "model_module_version": "2.0.0",
      "model_name": "HTMLStyleModel",
      "state": {
       "_model_module": "@jupyter-widgets/controls",
       "_model_module_version": "2.0.0",
       "_model_name": "HTMLStyleModel",
       "_view_count": null,
       "_view_module": "@jupyter-widgets/base",
       "_view_module_version": "2.0.0",
       "_view_name": "StyleView",
       "background": null,
       "description_width": "",
       "font_size": null,
       "text_color": null
      }
     },
     "d98cf9a5123444539c872cb3a947b448": {
      "model_module": "@jupyter-widgets/base",
      "model_module_version": "2.0.0",
      "model_name": "LayoutModel",
      "state": {
       "_model_module": "@jupyter-widgets/base",
       "_model_module_version": "2.0.0",
       "_model_name": "LayoutModel",
       "_view_count": null,
       "_view_module": "@jupyter-widgets/base",
       "_view_module_version": "2.0.0",
       "_view_name": "LayoutView",
       "align_content": null,
       "align_items": null,
       "align_self": null,
       "border_bottom": null,
       "border_left": null,
       "border_right": null,
       "border_top": null,
       "bottom": null,
       "display": null,
       "flex": null,
       "flex_flow": null,
       "grid_area": null,
       "grid_auto_columns": null,
       "grid_auto_flow": null,
       "grid_auto_rows": null,
       "grid_column": null,
       "grid_gap": null,
       "grid_row": null,
       "grid_template_areas": null,
       "grid_template_columns": null,
       "grid_template_rows": null,
       "height": null,
       "justify_content": null,
       "justify_items": null,
       "left": null,
       "margin": null,
       "max_height": null,
       "max_width": null,
       "min_height": null,
       "min_width": null,
       "object_fit": null,
       "object_position": null,
       "order": null,
       "overflow": null,
       "padding": null,
       "right": null,
       "top": null,
       "visibility": null,
       "width": null
      }
     },
     "db937c2c23bf4719b6ad9addd12d8e66": {
      "model_module": "@jupyter-widgets/controls",
      "model_module_version": "2.0.0",
      "model_name": "HBoxModel",
      "state": {
       "_dom_classes": [],
       "_model_module": "@jupyter-widgets/controls",
       "_model_module_version": "2.0.0",
       "_model_name": "HBoxModel",
       "_view_count": null,
       "_view_module": "@jupyter-widgets/controls",
       "_view_module_version": "2.0.0",
       "_view_name": "HBoxView",
       "box_style": "",
       "children": [
        "IPY_MODEL_aa9102ffe66c423ebc7c436c1426d987",
        "IPY_MODEL_5cf72b865ab94c3f94a0edd721415c93",
        "IPY_MODEL_5f4d3285eff245d6b5d51adf3146d05b"
       ],
       "layout": "IPY_MODEL_8d24fe514acf4ff4ac130feb1040e04c",
       "tabbable": null,
       "tooltip": null
      }
     },
     "dc01a73b9a8d4d668b33b05713de285e": {
      "model_module": "@jupyter-widgets/controls",
      "model_module_version": "2.0.0",
      "model_name": "HTMLModel",
      "state": {
       "_dom_classes": [],
       "_model_module": "@jupyter-widgets/controls",
       "_model_module_version": "2.0.0",
       "_model_name": "HTMLModel",
       "_view_count": null,
       "_view_module": "@jupyter-widgets/controls",
       "_view_module_version": "2.0.0",
       "_view_name": "HTMLView",
       "description": "",
       "description_allow_html": false,
       "layout": "IPY_MODEL_2f4a637a64694384b88741d15fcf697f",
       "placeholder": "​",
       "style": "IPY_MODEL_5c78641dba0443f68a7f65a63fa394c3",
       "tabbable": null,
       "tooltip": null,
       "value": "Loading checkpoint shards: 100%"
      }
     },
     "e2af2afab88e4f488cf9ad8b20eac79a": {
      "model_module": "@jupyter-widgets/controls",
      "model_module_version": "2.0.0",
      "model_name": "HBoxModel",
      "state": {
       "_dom_classes": [],
       "_model_module": "@jupyter-widgets/controls",
       "_model_module_version": "2.0.0",
       "_model_name": "HBoxModel",
       "_view_count": null,
       "_view_module": "@jupyter-widgets/controls",
       "_view_module_version": "2.0.0",
       "_view_name": "HBoxView",
       "box_style": "",
       "children": [
        "IPY_MODEL_dc01a73b9a8d4d668b33b05713de285e",
        "IPY_MODEL_61462d8a61ea43d98fe89f48979ae85c",
        "IPY_MODEL_cf39e624b3a84d1f831c2922792edf4d"
       ],
       "layout": "IPY_MODEL_091ca8a364d64c15964e2ee2814560a0",
       "tabbable": null,
       "tooltip": null
      }
     },
     "e942c7a420a04fd6a3c4c70b11d4fbac": {
      "model_module": "@jupyter-widgets/controls",
      "model_module_version": "2.0.0",
      "model_name": "HTMLStyleModel",
      "state": {
       "_model_module": "@jupyter-widgets/controls",
       "_model_module_version": "2.0.0",
       "_model_name": "HTMLStyleModel",
       "_view_count": null,
       "_view_module": "@jupyter-widgets/base",
       "_view_module_version": "2.0.0",
       "_view_name": "StyleView",
       "background": null,
       "description_width": "",
       "font_size": null,
       "text_color": null
      }
     },
     "f72972bb44a4409f95223a7aa1a9ea92": {
      "model_module": "@jupyter-widgets/base",
      "model_module_version": "2.0.0",
      "model_name": "LayoutModel",
      "state": {
       "_model_module": "@jupyter-widgets/base",
       "_model_module_version": "2.0.0",
       "_model_name": "LayoutModel",
       "_view_count": null,
       "_view_module": "@jupyter-widgets/base",
       "_view_module_version": "2.0.0",
       "_view_name": "LayoutView",
       "align_content": null,
       "align_items": null,
       "align_self": null,
       "border_bottom": null,
       "border_left": null,
       "border_right": null,
       "border_top": null,
       "bottom": null,
       "display": null,
       "flex": null,
       "flex_flow": null,
       "grid_area": null,
       "grid_auto_columns": null,
       "grid_auto_flow": null,
       "grid_auto_rows": null,
       "grid_column": null,
       "grid_gap": null,
       "grid_row": null,
       "grid_template_areas": null,
       "grid_template_columns": null,
       "grid_template_rows": null,
       "height": null,
       "justify_content": null,
       "justify_items": null,
       "left": null,
       "margin": null,
       "max_height": null,
       "max_width": null,
       "min_height": null,
       "min_width": null,
       "object_fit": null,
       "object_position": null,
       "order": null,
       "overflow": null,
       "padding": null,
       "right": null,
       "top": null,
       "visibility": null,
       "width": null
      }
     },
     "fc35ae7b6c4841e0ab90c777a4cd5684": {
      "model_module": "@jupyter-widgets/controls",
      "model_module_version": "2.0.0",
      "model_name": "HTMLStyleModel",
      "state": {
       "_model_module": "@jupyter-widgets/controls",
       "_model_module_version": "2.0.0",
       "_model_name": "HTMLStyleModel",
       "_view_count": null,
       "_view_module": "@jupyter-widgets/base",
       "_view_module_version": "2.0.0",
       "_view_name": "StyleView",
       "background": null,
       "description_width": "",
       "font_size": null,
       "text_color": null
      }
     }
    },
    "version_major": 2,
    "version_minor": 0
   }
  }
 },
 "nbformat": 4,
 "nbformat_minor": 5
}