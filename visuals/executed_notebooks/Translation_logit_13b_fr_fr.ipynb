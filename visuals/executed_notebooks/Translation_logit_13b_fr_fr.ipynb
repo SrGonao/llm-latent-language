{
 "cells": [
  {
   "cell_type": "code",
   "execution_count": 1,
   "id": "9e266eca-b017-461f-9be4-bec02cae9b28",
   "metadata": {
    "execution": {
     "iopub.execute_input": "2024-02-23T20:49:05.251062Z",
     "iopub.status.busy": "2024-02-23T20:49:05.250731Z",
     "iopub.status.idle": "2024-02-23T20:49:05.262129Z",
     "shell.execute_reply": "2024-02-23T20:49:05.261831Z"
    },
    "papermill": {
     "duration": 0.017091,
     "end_time": "2024-02-23T20:49:05.263100",
     "exception": false,
     "start_time": "2024-02-23T20:49:05.246009",
     "status": "completed"
    },
    "tags": []
   },
   "outputs": [],
   "source": [
    "%load_ext autoreload\n",
    "%autoreload 2"
   ]
  },
  {
   "cell_type": "code",
   "execution_count": 2,
   "id": "fae8a7a9-6902-424e-8e66-b107fccb361f",
   "metadata": {
    "execution": {
     "iopub.execute_input": "2024-02-23T20:49:05.270775Z",
     "iopub.status.busy": "2024-02-23T20:49:05.270633Z",
     "iopub.status.idle": "2024-02-23T20:49:08.199755Z",
     "shell.execute_reply": "2024-02-23T20:49:08.198921Z"
    },
    "papermill": {
     "duration": 2.934341,
     "end_time": "2024-02-23T20:49:08.201205",
     "exception": false,
     "start_time": "2024-02-23T20:49:05.266864",
     "status": "completed"
    },
    "tags": []
   },
   "outputs": [],
   "source": [
    "import pandas as pd\n",
    "import sys\n",
    "import os\n",
    "from dataclasses import dataclass\n",
    "import json\n",
    "import numpy as np\n",
    "from matplotlib import pyplot as plt\n",
    "import seaborn as sns\n",
    "import torch\n",
    "import torch.nn as nn\n",
    "from llamawrapper import load_unemb_only, LlamaHelper\n",
    "import seaborn as sns\n",
    "from scipy.stats import bootstrap\n",
    "from utils import plot_ci, plot_ci_plus_heatmap\n",
    "from tqdm import tqdm\n",
    "from transformers import AutoModelForCausalLM, AutoTokenizer\n",
    "# fix random seed\n",
    "seed = 42\n",
    "np.random.seed(seed)\n",
    "torch.manual_seed(seed)\n",
    "sys.path.append('../tuned-lens')\n",
    "from tuned_lens.nn.lenses import TunedLens,LogitLens"
   ]
  },
  {
   "cell_type": "code",
   "execution_count": 3,
   "id": "1fb93987",
   "metadata": {
    "execution": {
     "iopub.execute_input": "2024-02-23T20:49:08.212606Z",
     "iopub.status.busy": "2024-02-23T20:49:08.212199Z",
     "iopub.status.idle": "2024-02-23T20:49:08.240111Z",
     "shell.execute_reply": "2024-02-23T20:49:08.239485Z"
    },
    "papermill": {
     "duration": 0.033232,
     "end_time": "2024-02-23T20:49:08.241199",
     "exception": false,
     "start_time": "2024-02-23T20:49:08.207967",
     "status": "completed"
    },
    "tags": [
     "parameters"
    ]
   },
   "outputs": [],
   "source": [
    "input_lang = 'fr'\n",
    "target_lang = 'en'\n",
    "model_size = '7b'\n",
    "prefix = \"./data/langs/\"\n",
    "type = 'tuned-chinese'"
   ]
  },
  {
   "cell_type": "code",
   "execution_count": 4,
   "id": "270ed57b",
   "metadata": {
    "execution": {
     "iopub.execute_input": "2024-02-23T20:49:08.249638Z",
     "iopub.status.busy": "2024-02-23T20:49:08.249426Z",
     "iopub.status.idle": "2024-02-23T20:49:08.290017Z",
     "shell.execute_reply": "2024-02-23T20:49:08.289251Z"
    },
    "papermill": {
     "duration": 0.045866,
     "end_time": "2024-02-23T20:49:08.291267",
     "exception": false,
     "start_time": "2024-02-23T20:49:08.245401",
     "status": "completed"
    },
    "tags": [
     "injected-parameters"
    ]
   },
   "outputs": [],
   "source": [
    "# Parameters\n",
    "model_size = \"13b\"\n",
    "target_lang = \"fr\"\n",
    "input_lang = \"fr\"\n",
    "type = \"logit\"\n"
   ]
  },
  {
   "cell_type": "code",
   "execution_count": 5,
   "id": "33747213",
   "metadata": {
    "execution": {
     "iopub.execute_input": "2024-02-23T20:49:08.337181Z",
     "iopub.status.busy": "2024-02-23T20:49:08.336787Z",
     "iopub.status.idle": "2024-02-23T20:49:18.327627Z",
     "shell.execute_reply": "2024-02-23T20:49:18.326899Z"
    },
    "papermill": {
     "duration": 10.01168,
     "end_time": "2024-02-23T20:49:18.328664",
     "exception": false,
     "start_time": "2024-02-23T20:49:08.316984",
     "status": "completed"
    },
    "tags": []
   },
   "outputs": [
    {
     "data": {
      "application/vnd.jupyter.widget-view+json": {
       "model_id": "01f9dff4ef8d4bb59752c3f3fe6eb01c",
       "version_major": 2,
       "version_minor": 0
      },
      "text/plain": [
       "Loading checkpoint shards:   0%|          | 0/3 [00:00<?, ?it/s]"
      ]
     },
     "metadata": {},
     "output_type": "display_data"
    }
   ],
   "source": [
    "df_en_input = pd.read_csv(f'{prefix}{input_lang}/clean.csv').reindex()\n",
    "df_en_target = pd.read_csv(f'{prefix}{target_lang}/clean.csv').reindex()\n",
    "llama = AutoModelForCausalLM.from_pretrained(  # type: ignore\n",
    "                f\"meta-llama/Llama-2-{model_size}-hf\",\n",
    "                device_map={\"\": \"cuda\"},\n",
    "                revision=\"main\",\n",
    "                torch_dtype=\"auto\",\n",
    "                local_files_only=\"true\",cache_dir=\"/mnt/ssd-1/hf_cache/\"\n",
    "            )\n",
    "    \n",
    "latent=\"en\"\n",
    "if type == 'logit':\n",
    "    llama_lens = LogitLens.from_model(llama).to(\"cuda\")\n",
    "    out_dir = f'./visuals/logit'\n",
    "if type == 'tuned':\n",
    "    llama_lens = TunedLens.from_model_and_pretrained(llama,f\"meta-llama/Llama-2-{model_size}-hf\").to(\"cuda\")\n",
    "    out_dir = f'./visuals/tuned'\n",
    "if type == 'tuned-chinese':\n",
    "    llama_lens = TunedLens.from_model_and_pretrained(llama,\"../tuned-lens/my_lenses/chinese\").to(\"cuda\")\n",
    "    out_dir = f'./visuals/tuned-chinese'\n",
    "    latent = 'zh'\n",
    "    chinese = pd.read_csv(f'{prefix}zh/clean.csv').reindex()\n",
    "tokenizer = AutoTokenizer.from_pretrained(\n",
    "                f\"meta-llama/Llama-2-7b-hf\",local_files_only=\"true\",cache_dir=\"/mnt/ssd-1/hf_cache/\"\n",
    "            )"
   ]
  },
  {
   "cell_type": "code",
   "execution_count": 6,
   "id": "bc45e052",
   "metadata": {
    "execution": {
     "iopub.execute_input": "2024-02-23T20:49:18.337866Z",
     "iopub.status.busy": "2024-02-23T20:49:18.337698Z",
     "iopub.status.idle": "2024-02-23T20:49:20.114869Z",
     "shell.execute_reply": "2024-02-23T20:49:20.114243Z"
    },
    "papermill": {
     "duration": 1.782276,
     "end_time": "2024-02-23T20:49:20.115897",
     "exception": false,
     "start_time": "2024-02-23T20:49:18.333621",
     "status": "completed"
    },
    "tags": []
   },
   "outputs": [
    {
     "name": "stdout",
     "output_type": "stream",
     "text": [
      "Sequential(\n",
      "  (0): LlamaRMSNorm()\n",
      "  (1): Linear(in_features=5120, out_features=32000, bias=False)\n",
      ")\n",
      "U torch.Size([32000, 5120]) weights torch.Size([1, 5120])\n"
     ]
    },
    {
     "name": "stdout",
     "output_type": "stream",
     "text": [
      "0.11461826413869858\n"
     ]
    }
   ],
   "source": [
    "unemb = nn.Sequential(llama.model.norm, llama.lm_head)\n",
    "print(unemb)\n",
    "# prepare for energy plots\n",
    "U = list(unemb[1].parameters())[0].detach().cpu().float()\n",
    "weights = list(unemb[0].parameters())[0].detach().cpu().float()\n",
    "print(f'U {U.shape} weights {weights.unsqueeze(0).shape}')\n",
    "U_weighted = U.clone() \n",
    "#U_weighted = U_weighted / ((U_weighted**2).mean(dim=1, keepdim=True))**0.5\n",
    "U_weighted *= weights.unsqueeze(0)\n",
    "U_normalized = U_weighted / ((U_weighted**2).sum(dim=1, keepdim=True))**0.5\n",
    "v = U.shape[0]\n",
    "TT = U_normalized.T @ U_normalized\n",
    "avgUU = (((U_normalized.T @ U_normalized)**2).sum() / v**2)**0.5\n",
    "print(avgUU.item())"
   ]
  },
  {
   "cell_type": "code",
   "execution_count": 7,
   "id": "5686a8d5",
   "metadata": {
    "execution": {
     "iopub.execute_input": "2024-02-23T20:49:20.125658Z",
     "iopub.status.busy": "2024-02-23T20:49:20.125170Z",
     "iopub.status.idle": "2024-02-23T20:49:21.628908Z",
     "shell.execute_reply": "2024-02-23T20:49:21.628309Z"
    },
    "papermill": {
     "duration": 1.508727,
     "end_time": "2024-02-23T20:49:21.629777",
     "exception": false,
     "start_time": "2024-02-23T20:49:20.121050",
     "status": "completed"
    },
    "tags": []
   },
   "outputs": [
    {
     "name": "stdout",
     "output_type": "stream",
     "text": [
      "for fr 68 of 118 are single tokens\n",
      "final length of df_en_fr_fr: 100\n"
     ]
    }
   ],
   "source": [
    "count = 0\n",
    "for idx, word in enumerate(df_en_target['word_translation']):\n",
    "    if word in tokenizer.get_vocab() or '▁'+word in tokenizer.get_vocab():\n",
    "        count += 1\n",
    "\n",
    "print(f'for {target_lang} {count} of {len(df_en_target)} are single tokens')\n",
    "\n",
    "if input_lang == target_lang:\n",
    "    df_en_target_input = df_en_target.copy()\n",
    "    if latent == 'zh':\n",
    "      chinese = chinese.loc[chinese[\"word_original\"].isin(df_en_input[\"word_original\"])]\n",
    "      df_en_target_input['word_original'] = chinese['word_translation']\n",
    "    df_en_target_input.rename(columns={'word_original': latent, \n",
    "                                f'word_translation': target_lang if target_lang != latent else f'{latent}_tgt'}, \n",
    "                                inplace=True)\n",
    "    \n",
    "else:\n",
    "    df_en_target_input = df_en_target.merge(df_en_input, on=['word_original'], suffixes=(f'_{target_lang}', f'_{input_lang}'))\n",
    "    if latent == 'zh':\n",
    "      chinese=chinese.loc[chinese[\"word_original\"].isin(df_en_input[\"word_original\"])]\n",
    "      df_en_target_input['word_original'] = chinese['word_translation']\n",
    "\n",
    "    df_en_target_input.rename(columns={'word_original': latent, \n",
    "                                f'word_translation_{target_lang}': target_lang if target_lang != latent else f'{latent}_tgt', \n",
    "                                f'word_translation_{input_lang}': input_lang if input_lang != latent else f'{latent}_in'}, \n",
    "                                inplace=True)\n",
    "# delete all rows where en is contained in de or fr\n",
    "if target_lang != latent:\n",
    "    for i, row in df_en_target_input.iterrows():\n",
    "        if row[latent].lower() in row[target_lang].lower():\n",
    "            df_en_target_input.drop(i, inplace=True)\n",
    "\n",
    "print(f'final length of df_en_{target_lang}_{input_lang}: {len(df_en_target_input)}')"
   ]
  },
  {
   "cell_type": "code",
   "execution_count": 8,
   "id": "eed300f4",
   "metadata": {
    "execution": {
     "iopub.execute_input": "2024-02-23T20:49:21.638549Z",
     "iopub.status.busy": "2024-02-23T20:49:21.638377Z",
     "iopub.status.idle": "2024-02-23T20:49:21.674513Z",
     "shell.execute_reply": "2024-02-23T20:49:21.674096Z"
    },
    "papermill": {
     "duration": 0.040909,
     "end_time": "2024-02-23T20:49:21.675308",
     "exception": false,
     "start_time": "2024-02-23T20:49:21.634399",
     "status": "completed"
    },
    "tags": []
   },
   "outputs": [
    {
     "data": {
      "text/html": [
       "<div>\n",
       "<style scoped>\n",
       "    .dataframe tbody tr th:only-of-type {\n",
       "        vertical-align: middle;\n",
       "    }\n",
       "\n",
       "    .dataframe tbody tr th {\n",
       "        vertical-align: top;\n",
       "    }\n",
       "\n",
       "    .dataframe thead th {\n",
       "        text-align: right;\n",
       "    }\n",
       "</style>\n",
       "<table border=\"1\" class=\"dataframe\">\n",
       "  <thead>\n",
       "    <tr style=\"text-align: right;\">\n",
       "      <th></th>\n",
       "      <th>lang</th>\n",
       "      <th>en</th>\n",
       "      <th>fr</th>\n",
       "      <th>blank_prompt_original</th>\n",
       "      <th>blank_prompt_translation</th>\n",
       "      <th>blank_prompt_translation_masked</th>\n",
       "      <th>error</th>\n",
       "    </tr>\n",
       "  </thead>\n",
       "  <tbody>\n",
       "    <tr>\n",
       "      <th>0</th>\n",
       "      <td>fr</td>\n",
       "      <td>cloud</td>\n",
       "      <td>nuage</td>\n",
       "      <td>A \"cloud\" is a visible mass of condensed water...</td>\n",
       "      <td>Un \"nuage\" est une masse visible de vapeur d'e...</td>\n",
       "      <td>Un \"___\" est une masse visible de vapeur d'eau...</td>\n",
       "      <td>no error</td>\n",
       "    </tr>\n",
       "    <tr>\n",
       "      <th>1</th>\n",
       "      <td>fr</td>\n",
       "      <td>bag</td>\n",
       "      <td>sac</td>\n",
       "      <td>A \"bag\" is used to carry items. Answer: \"bag\".</td>\n",
       "      <td>Un \"sac\" est utilisé pour transporter des obje...</td>\n",
       "      <td>Un \"___\" est utilisé pour transporter des obje...</td>\n",
       "      <td>no error</td>\n",
       "    </tr>\n",
       "    <tr>\n",
       "      <th>2</th>\n",
       "      <td>fr</td>\n",
       "      <td>mouth</td>\n",
       "      <td>bouche</td>\n",
       "      <td>A \"mouth\" is used to eat food and speak. Answe...</td>\n",
       "      <td>La \"bouche\" sert à manger et à parler. Réponse...</td>\n",
       "      <td>La \"___\" sert à manger et à parler. Réponse : ...</td>\n",
       "      <td>no error</td>\n",
       "    </tr>\n",
       "    <tr>\n",
       "      <th>3</th>\n",
       "      <td>fr</td>\n",
       "      <td>soil</td>\n",
       "      <td>sol</td>\n",
       "      <td>\"A \"soil\" is used for planting trees and crops...</td>\n",
       "      <td>\"Un \"sol\" est utilisé pour planter des arbres ...</td>\n",
       "      <td>\"Un \"___\" est utilisé pour planter des arbres ...</td>\n",
       "      <td>no error</td>\n",
       "    </tr>\n",
       "    <tr>\n",
       "      <th>4</th>\n",
       "      <td>fr</td>\n",
       "      <td>mountain</td>\n",
       "      <td>montagne</td>\n",
       "      <td>A \"mountain\" is a large natural elevation of t...</td>\n",
       "      <td>Une \"montagne\" est une grande élévation nature...</td>\n",
       "      <td>Une \"___\" est une grande élévation naturelle d...</td>\n",
       "      <td>no error</td>\n",
       "    </tr>\n",
       "    <tr>\n",
       "      <th>...</th>\n",
       "      <td>...</td>\n",
       "      <td>...</td>\n",
       "      <td>...</td>\n",
       "      <td>...</td>\n",
       "      <td>...</td>\n",
       "      <td>...</td>\n",
       "      <td>...</td>\n",
       "    </tr>\n",
       "    <tr>\n",
       "      <th>113</th>\n",
       "      <td>fr</td>\n",
       "      <td>rise</td>\n",
       "      <td>hausse</td>\n",
       "      <td>\"A \"rise\" is used to describe an increase or u...</td>\n",
       "      <td>\"Une \"hausse\" est utilisée pour décrire une au...</td>\n",
       "      <td>\"Une \"___\" est utilisée pour décrire une augme...</td>\n",
       "      <td>no error</td>\n",
       "    </tr>\n",
       "    <tr>\n",
       "      <th>114</th>\n",
       "      <td>fr</td>\n",
       "      <td>left</td>\n",
       "      <td>gauche</td>\n",
       "      <td>'A \"left\" is a direction opposite to right. An...</td>\n",
       "      <td>Une \"gauche\" est une direction opposée à la dr...</td>\n",
       "      <td>Une \"___\" est une direction opposée à la droit...</td>\n",
       "      <td>no error</td>\n",
       "    </tr>\n",
       "    <tr>\n",
       "      <th>115</th>\n",
       "      <td>fr</td>\n",
       "      <td>sound</td>\n",
       "      <td>son</td>\n",
       "      <td>A \"sound\" is something we hear. Answer: \"sound\".</td>\n",
       "      <td>Un \"son\" est quelque chose que l'on entend. Ré...</td>\n",
       "      <td>Un \"___\" est quelque chose que l'on entend. Ré...</td>\n",
       "      <td>no error</td>\n",
       "    </tr>\n",
       "    <tr>\n",
       "      <th>116</th>\n",
       "      <td>fr</td>\n",
       "      <td>power</td>\n",
       "      <td>pouvoir</td>\n",
       "      <td>\"A \"power\" is used to control or influence peo...</td>\n",
       "      <td>\"Un \"pouvoir\" est utilisé pour contrôler ou in...</td>\n",
       "      <td>\"Un \"___\" est utilisé pour contrôler ou influe...</td>\n",
       "      <td>no error</td>\n",
       "    </tr>\n",
       "    <tr>\n",
       "      <th>117</th>\n",
       "      <td>fr</td>\n",
       "      <td>summer</td>\n",
       "      <td>été</td>\n",
       "      <td>\"The \"summer\" is a season known for its warm w...</td>\n",
       "      <td>\"L'\"été\" est une saison connue pour son temps ...</td>\n",
       "      <td>\"L'\"___\" est une saison connue pour son temps ...</td>\n",
       "      <td>no error</td>\n",
       "    </tr>\n",
       "  </tbody>\n",
       "</table>\n",
       "<p>100 rows × 7 columns</p>\n",
       "</div>"
      ],
      "text/plain": [
       "    lang        en        fr  \\\n",
       "0     fr     cloud     nuage   \n",
       "1     fr       bag       sac   \n",
       "2     fr     mouth    bouche   \n",
       "3     fr      soil       sol   \n",
       "4     fr  mountain  montagne   \n",
       "..   ...       ...       ...   \n",
       "113   fr      rise    hausse   \n",
       "114   fr      left    gauche   \n",
       "115   fr     sound       son   \n",
       "116   fr     power   pouvoir   \n",
       "117   fr    summer       été   \n",
       "\n",
       "                                 blank_prompt_original  \\\n",
       "0    A \"cloud\" is a visible mass of condensed water...   \n",
       "1       A \"bag\" is used to carry items. Answer: \"bag\".   \n",
       "2    A \"mouth\" is used to eat food and speak. Answe...   \n",
       "3    \"A \"soil\" is used for planting trees and crops...   \n",
       "4    A \"mountain\" is a large natural elevation of t...   \n",
       "..                                                 ...   \n",
       "113  \"A \"rise\" is used to describe an increase or u...   \n",
       "114  'A \"left\" is a direction opposite to right. An...   \n",
       "115   A \"sound\" is something we hear. Answer: \"sound\".   \n",
       "116  \"A \"power\" is used to control or influence peo...   \n",
       "117  \"The \"summer\" is a season known for its warm w...   \n",
       "\n",
       "                              blank_prompt_translation  \\\n",
       "0    Un \"nuage\" est une masse visible de vapeur d'e...   \n",
       "1    Un \"sac\" est utilisé pour transporter des obje...   \n",
       "2    La \"bouche\" sert à manger et à parler. Réponse...   \n",
       "3    \"Un \"sol\" est utilisé pour planter des arbres ...   \n",
       "4    Une \"montagne\" est une grande élévation nature...   \n",
       "..                                                 ...   \n",
       "113  \"Une \"hausse\" est utilisée pour décrire une au...   \n",
       "114  Une \"gauche\" est une direction opposée à la dr...   \n",
       "115  Un \"son\" est quelque chose que l'on entend. Ré...   \n",
       "116  \"Un \"pouvoir\" est utilisé pour contrôler ou in...   \n",
       "117  \"L'\"été\" est une saison connue pour son temps ...   \n",
       "\n",
       "                       blank_prompt_translation_masked     error  \n",
       "0    Un \"___\" est une masse visible de vapeur d'eau...  no error  \n",
       "1    Un \"___\" est utilisé pour transporter des obje...  no error  \n",
       "2    La \"___\" sert à manger et à parler. Réponse : ...  no error  \n",
       "3    \"Un \"___\" est utilisé pour planter des arbres ...  no error  \n",
       "4    Une \"___\" est une grande élévation naturelle d...  no error  \n",
       "..                                                 ...       ...  \n",
       "113  \"Une \"___\" est utilisée pour décrire une augme...  no error  \n",
       "114  Une \"___\" est une direction opposée à la droit...  no error  \n",
       "115  Un \"___\" est quelque chose que l'on entend. Ré...  no error  \n",
       "116  \"Un \"___\" est utilisé pour contrôler ou influe...  no error  \n",
       "117  \"L'\"___\" est une saison connue pour son temps ...  no error  \n",
       "\n",
       "[100 rows x 7 columns]"
      ]
     },
     "execution_count": 8,
     "metadata": {},
     "output_type": "execute_result"
    }
   ],
   "source": [
    "df_en_target_input"
   ]
  },
  {
   "cell_type": "code",
   "execution_count": 9,
   "id": "f0c0a52d",
   "metadata": {
    "execution": {
     "iopub.execute_input": "2024-02-23T20:49:21.683558Z",
     "iopub.status.busy": "2024-02-23T20:49:21.683431Z",
     "iopub.status.idle": "2024-02-23T20:49:21.717595Z",
     "shell.execute_reply": "2024-02-23T20:49:21.717169Z"
    },
    "papermill": {
     "duration": 0.039256,
     "end_time": "2024-02-23T20:49:21.718704",
     "exception": false,
     "start_time": "2024-02-23T20:49:21.679448",
     "status": "completed"
    },
    "tags": []
   },
   "outputs": [],
   "source": [
    "def token_prefixes(token_str: str):\n",
    "    n = len(token_str)\n",
    "    tokens = [token_str[:i] for i in range(1, n+1)]\n",
    "    return tokens \n",
    "\n",
    "def add_spaces(tokens):\n",
    "    return ['▁' + t for t in tokens] + tokens\n",
    "\n",
    "def capitalizations(tokens):\n",
    "    return list(set(tokens))\n",
    "\n",
    "def unicode_prefix_tokid(zh_char = \"云\", tokenizer=tokenizer):\n",
    "    start = zh_char.encode().__str__()[2:-1].split('\\\\x')[1]\n",
    "    unicode_format = '<0x%s>'\n",
    "    start_key = unicode_format%start.upper()\n",
    "    if start_key in tokenizer.get_vocab():\n",
    "        return tokenizer.get_vocab()[start_key]\n",
    "    return None\n",
    "\n",
    "def process_tokens(token_str: str, tokenizer, lang):\n",
    "    with_prefixes = token_prefixes(token_str)\n",
    "    with_spaces = add_spaces(with_prefixes)\n",
    "    with_capitalizations = capitalizations(with_spaces)\n",
    "    final_tokens = []\n",
    "    for tok in with_capitalizations:\n",
    "        if tok in tokenizer.get_vocab():\n",
    "            final_tokens.append(tokenizer.get_vocab()[tok])\n",
    "    if lang in ['zh', 'ru']:\n",
    "        tokid = unicode_prefix_tokid(token_str, tokenizer)\n",
    "        if tokid is not None:\n",
    "            final_tokens.append(tokid)\n",
    "    return final_tokens"
   ]
  },
  {
   "cell_type": "code",
   "execution_count": 10,
   "id": "faa7bb78",
   "metadata": {
    "execution": {
     "iopub.execute_input": "2024-02-23T20:49:21.727117Z",
     "iopub.status.busy": "2024-02-23T20:49:21.726988Z",
     "iopub.status.idle": "2024-02-23T20:49:21.769885Z",
     "shell.execute_reply": "2024-02-23T20:49:21.769438Z"
    },
    "papermill": {
     "duration": 0.04781,
     "end_time": "2024-02-23T20:49:21.770876",
     "exception": false,
     "start_time": "2024-02-23T20:49:21.723066",
     "status": "completed"
    },
    "tags": []
   },
   "outputs": [],
   "source": [
    "\n",
    "id2voc = {id:voc for voc, id in tokenizer.get_vocab().items()}\n",
    "def get_tokens(token_ids, id2voc=id2voc):\n",
    "    return [id2voc[tokid] for tokid in token_ids]\n",
    "\n",
    "def compute_entropy(probas):\n",
    "    return (-probas*torch.log2(probas)).sum(dim=-1)\n",
    "\n",
    "lang2name = {'fr': 'Français', 'de': 'Deutsch', 'ru': 'Русский', 'en': 'English', 'zh': '中文'}\n",
    "def sample(df, ind, k=5, tokenizer=tokenizer, lang1='fr', lang2='de', lang_latent=latent):\n",
    "    df = df.reset_index(drop=True)\n",
    "    temp = df[df.index!=ind]\n",
    "    sample = pd.concat([temp.sample(k-1), df[df.index==ind]], axis=0)\n",
    "    prompt = \"\"\n",
    "    for idx, (df_idx, row) in enumerate(sample.iterrows()):\n",
    "        if idx < k-1:\n",
    "            prompt += f'{lang2name[lang1]}: \"{row[lang1]}\" - {lang2name[lang2]}: \"{row[lang2]}\"\\n'\n",
    "        else:\n",
    "            prompt += f'{lang2name[lang1]}: \"{row[lang1]}\" - {lang2name[lang2]}: \"'\n",
    "            in_token_str = row[lang1]\n",
    "            out_token_str = row[lang2]\n",
    "            out_token_id = process_tokens(out_token_str, tokenizer, lang2)\n",
    "            latent_token_str = row[lang_latent]\n",
    "            latent_token_id = process_tokens(latent_token_str, tokenizer, latent)\n",
    "            intersection = set(out_token_id).intersection(set(latent_token_id))\n",
    "            print(intersection)\n",
    "            if len(out_token_id) == 0 or len(latent_token_id) == 0:\n",
    "                yield None\n",
    "            if lang2 != latent and len(intersection) > 0:\n",
    "                yield None\n",
    "            yield {'prompt': prompt, \n",
    "                'out_token_id': out_token_id, \n",
    "                'out_token_str': out_token_str,\n",
    "                'latent_token_id': latent_token_id, \n",
    "                'latent_token_str': latent_token_str, \n",
    "                'in_token_str': in_token_str}"
   ]
  },
  {
   "cell_type": "code",
   "execution_count": 11,
   "id": "444dd726",
   "metadata": {
    "execution": {
     "iopub.execute_input": "2024-02-23T20:49:21.779479Z",
     "iopub.status.busy": "2024-02-23T20:49:21.779352Z",
     "iopub.status.idle": "2024-02-23T20:49:21.805961Z",
     "shell.execute_reply": "2024-02-23T20:49:21.805631Z"
    },
    "papermill": {
     "duration": 0.03149,
     "end_time": "2024-02-23T20:49:21.806814",
     "exception": false,
     "start_time": "2024-02-23T20:49:21.775324",
     "status": "completed"
    },
    "tags": []
   },
   "outputs": [
    {
     "data": {
      "text/plain": [
       "'en'"
      ]
     },
     "execution_count": 11,
     "metadata": {},
     "output_type": "execute_result"
    }
   ],
   "source": [
    "latent"
   ]
  },
  {
   "cell_type": "code",
   "execution_count": 12,
   "id": "500641f5",
   "metadata": {
    "execution": {
     "iopub.execute_input": "2024-02-23T20:49:21.815199Z",
     "iopub.status.busy": "2024-02-23T20:49:21.815081Z",
     "iopub.status.idle": "2024-02-23T20:49:43.719392Z",
     "shell.execute_reply": "2024-02-23T20:49:43.718808Z"
    },
    "papermill": {
     "duration": 21.909189,
     "end_time": "2024-02-23T20:49:43.720204",
     "exception": false,
     "start_time": "2024-02-23T20:49:21.811015",
     "status": "completed"
    },
    "tags": []
   },
   "outputs": [
    {
     "name": "stderr",
     "output_type": "stream",
     "text": [
      "\r",
      "  0%|                                                                                                                                                                                                                       | 0/100 [00:00<?, ?it/s]"
     ]
    },
    {
     "name": "stderr",
     "output_type": "stream",
     "text": [
      "\r",
      "  1%|██                                                                                                                                                                                                             | 1/100 [00:00<00:23,  4.25it/s]"
     ]
    },
    {
     "name": "stderr",
     "output_type": "stream",
     "text": [
      "\r",
      "  2%|████▏                                                                                                                                                                                                          | 2/100 [00:00<00:18,  5.29it/s]"
     ]
    },
    {
     "name": "stdout",
     "output_type": "stream",
     "text": [
      "set()\n",
      "set()\n"
     ]
    },
    {
     "name": "stderr",
     "output_type": "stream",
     "text": [
      "\r",
      "  3%|██████▏                                                                                                                                                                                                        | 3/100 [00:00<00:20,  4.78it/s]"
     ]
    },
    {
     "name": "stderr",
     "output_type": "stream",
     "text": [
      "\r",
      "  4%|████████▎                                                                                                                                                                                                      | 4/100 [00:00<00:18,  5.19it/s]"
     ]
    },
    {
     "name": "stdout",
     "output_type": "stream",
     "text": [
      "set()\n",
      "{577, 578, 269, 29879}\n"
     ]
    },
    {
     "name": "stderr",
     "output_type": "stream",
     "text": [
      "\r",
      "  5%|██████████▎                                                                                                                                                                                                    | 5/100 [00:01<00:23,  4.11it/s]"
     ]
    },
    {
     "name": "stderr",
     "output_type": "stream",
     "text": [
      "\r",
      "  6%|████████████▍                                                                                                                                                                                                  | 6/100 [00:01<00:20,  4.49it/s]"
     ]
    },
    {
     "name": "stdout",
     "output_type": "stream",
     "text": [
      "{2730, 29885, 286, 4346}\n",
      "set()\n"
     ]
    },
    {
     "name": "stderr",
     "output_type": "stream",
     "text": [
      "\r",
      "  7%|██████████████▍                                                                                                                                                                                                | 7/100 [00:01<00:20,  4.53it/s]"
     ]
    },
    {
     "name": "stderr",
     "output_type": "stream",
     "text": [
      "\r",
      "  8%|████████████████▌                                                                                                                                                                                              | 8/100 [00:01<00:19,  4.81it/s]"
     ]
    },
    {
     "name": "stdout",
     "output_type": "stream",
     "text": [
      "set()\n",
      "set()\n"
     ]
    },
    {
     "name": "stderr",
     "output_type": "stream",
     "text": [
      "\r",
      "  9%|██████████████████▋                                                                                                                                                                                            | 9/100 [00:01<00:19,  4.74it/s]"
     ]
    },
    {
     "name": "stdout",
     "output_type": "stream",
     "text": [
      "set()\n"
     ]
    },
    {
     "name": "stderr",
     "output_type": "stream",
     "text": [
      "\r",
      " 10%|████████████████████▌                                                                                                                                                                                         | 10/100 [00:02<00:20,  4.32it/s]"
     ]
    },
    {
     "name": "stderr",
     "output_type": "stream",
     "text": [
      "\r",
      " 11%|██████████████████████▋                                                                                                                                                                                       | 11/100 [00:02<00:19,  4.66it/s]"
     ]
    },
    {
     "name": "stdout",
     "output_type": "stream",
     "text": [
      "set()\n",
      "set()\n"
     ]
    },
    {
     "name": "stderr",
     "output_type": "stream",
     "text": [
      "\r",
      " 12%|████████████████████████▋                                                                                                                                                                                     | 12/100 [00:02<00:18,  4.88it/s]"
     ]
    },
    {
     "name": "stdout",
     "output_type": "stream",
     "text": [
      "set()\n"
     ]
    },
    {
     "name": "stderr",
     "output_type": "stream",
     "text": [
      "\r",
      " 13%|██████████████████████████▊                                                                                                                                                                                   | 13/100 [00:02<00:18,  4.60it/s]"
     ]
    },
    {
     "name": "stderr",
     "output_type": "stream",
     "text": [
      "\r",
      " 14%|████████████████████████████▊                                                                                                                                                                                 | 14/100 [00:03<00:18,  4.73it/s]"
     ]
    },
    {
     "name": "stdout",
     "output_type": "stream",
     "text": [
      "{29888, 1701, 363, 1454, 285, 1181}\n",
      "{330, 867, 629, 29887}\n"
     ]
    },
    {
     "name": "stderr",
     "output_type": "stream",
     "text": [
      "\r",
      " 15%|██████████████████████████████▉                                                                                                                                                                               | 15/100 [00:03<00:18,  4.48it/s]"
     ]
    },
    {
     "name": "stdout",
     "output_type": "stream",
     "text": [
      "set()\n"
     ]
    },
    {
     "name": "stderr",
     "output_type": "stream",
     "text": [
      "\r",
      " 16%|████████████████████████████████▉                                                                                                                                                                             | 16/100 [00:03<00:18,  4.57it/s]"
     ]
    },
    {
     "name": "stderr",
     "output_type": "stream",
     "text": [
      "\r",
      " 17%|███████████████████████████████████                                                                                                                                                                           | 17/100 [00:03<00:17,  4.69it/s]"
     ]
    },
    {
     "name": "stdout",
     "output_type": "stream",
     "text": [
      "set()\n",
      "{872, 4977, 269, 29879}\n"
     ]
    },
    {
     "name": "stderr",
     "output_type": "stream",
     "text": [
      "\r",
      " 18%|█████████████████████████████████████                                                                                                                                                                         | 18/100 [00:03<00:15,  5.15it/s]"
     ]
    },
    {
     "name": "stderr",
     "output_type": "stream",
     "text": [
      "\r",
      " 19%|███████████████████████████████████████▏                                                                                                                                                                      | 19/100 [00:04<00:15,  5.17it/s]"
     ]
    },
    {
     "name": "stdout",
     "output_type": "stream",
     "text": [
      "{29880, 301}\n",
      "set()\n"
     ]
    },
    {
     "name": "stderr",
     "output_type": "stream",
     "text": [
      "\r",
      " 20%|█████████████████████████████████████████▏                                                                                                                                                                    | 20/100 [00:04<00:15,  5.11it/s]"
     ]
    },
    {
     "name": "stdout",
     "output_type": "stream",
     "text": [
      "{288, 12954, 29877, 542}\n"
     ]
    },
    {
     "name": "stderr",
     "output_type": "stream",
     "text": [
      "\r",
      " 21%|███████████████████████████████████████████▎                                                                                                                                                                  | 21/100 [00:04<00:15,  4.97it/s]"
     ]
    },
    {
     "name": "stderr",
     "output_type": "stream",
     "text": [
      "\r",
      " 22%|█████████████████████████████████████████████▎                                                                                                                                                                | 22/100 [00:04<00:14,  5.39it/s]"
     ]
    },
    {
     "name": "stdout",
     "output_type": "stream",
     "text": [
      "set()\n",
      "set()\n"
     ]
    },
    {
     "name": "stderr",
     "output_type": "stream",
     "text": [
      "\r",
      " 23%|███████████████████████████████████████████████▍                                                                                                                                                              | 23/100 [00:04<00:14,  5.41it/s]"
     ]
    },
    {
     "name": "stdout",
     "output_type": "stream",
     "text": [
      "{29880, 425, 433, 301}\n"
     ]
    },
    {
     "name": "stderr",
     "output_type": "stream",
     "text": [
      "\r",
      " 24%|█████████████████████████████████████████████████▍                                                                                                                                                            | 24/100 [00:05<00:15,  4.79it/s]"
     ]
    },
    {
     "name": "stderr",
     "output_type": "stream",
     "text": [
      "\r",
      " 25%|███████████████████████████████████████████████████▌                                                                                                                                                          | 25/100 [00:05<00:14,  5.04it/s]"
     ]
    },
    {
     "name": "stdout",
     "output_type": "stream",
     "text": [
      "set()\n",
      "{374, 10107, 364, 29878}\n"
     ]
    },
    {
     "name": "stderr",
     "output_type": "stream",
     "text": [
      "\r",
      " 26%|█████████████████████████████████████████████████████▌                                                                                                                                                        | 26/100 [00:05<00:14,  5.19it/s]"
     ]
    },
    {
     "name": "stdout",
     "output_type": "stream",
     "text": [
      "{364, 29878}\n"
     ]
    },
    {
     "name": "stderr",
     "output_type": "stream",
     "text": [
      "\r",
      " 27%|███████████████████████████████████████████████████████▌                                                                                                                                                      | 27/100 [00:05<00:14,  5.06it/s]"
     ]
    },
    {
     "name": "stderr",
     "output_type": "stream",
     "text": [
      "\r",
      " 28%|█████████████████████████████████████████████████████████▋                                                                                                                                                    | 28/100 [00:05<00:14,  5.11it/s]"
     ]
    },
    {
     "name": "stdout",
     "output_type": "stream",
     "text": [
      "{29880, 619, 492, 301}\n",
      "set()\n"
     ]
    },
    {
     "name": "stderr",
     "output_type": "stream",
     "text": [
      "\r",
      " 29%|███████████████████████████████████████████████████████████▋                                                                                                                                                  | 29/100 [00:05<00:14,  4.89it/s]"
     ]
    },
    {
     "name": "stderr",
     "output_type": "stream",
     "text": [
      "\r",
      " 30%|█████████████████████████████████████████████████████████████▊                                                                                                                                                | 30/100 [00:06<00:12,  5.39it/s]"
     ]
    },
    {
     "name": "stdout",
     "output_type": "stream",
     "text": [
      "{29888, 1579, 1652, 285}\n",
      "{29873, 260}\n"
     ]
    },
    {
     "name": "stderr",
     "output_type": "stream",
     "text": [
      "\r",
      " 31%|███████████████████████████████████████████████████████████████▊                                                                                                                                              | 31/100 [00:06<00:13,  5.28it/s]"
     ]
    },
    {
     "name": "stderr",
     "output_type": "stream",
     "text": [
      "\r",
      " 32%|█████████████████████████████████████████████████████████████████▉                                                                                                                                            | 32/100 [00:06<00:11,  5.72it/s]"
     ]
    },
    {
     "name": "stdout",
     "output_type": "stream",
     "text": [
      "set()\n",
      "set()\n"
     ]
    },
    {
     "name": "stderr",
     "output_type": "stream",
     "text": [
      "\r",
      " 33%|███████████████████████████████████████████████████████████████████▉                                                                                                                                          | 33/100 [00:06<00:12,  5.33it/s]"
     ]
    },
    {
     "name": "stderr",
     "output_type": "stream",
     "text": [
      "\r",
      " 34%|██████████████████████████████████████████████████████████████████████                                                                                                                                        | 34/100 [00:06<00:12,  5.41it/s]"
     ]
    },
    {
     "name": "stdout",
     "output_type": "stream",
     "text": [
      "set()\n",
      "set()\n"
     ]
    },
    {
     "name": "stderr",
     "output_type": "stream",
     "text": [
      "\r",
      " 35%|████████████████████████████████████████████████████████████████████████                                                                                                                                      | 35/100 [00:07<00:13,  4.95it/s]"
     ]
    },
    {
     "name": "stderr",
     "output_type": "stream",
     "text": [
      "\r",
      " 36%|██████████████████████████████████████████████████████████████████████████▏                                                                                                                                   | 36/100 [00:07<00:11,  5.56it/s]"
     ]
    },
    {
     "name": "stdout",
     "output_type": "stream",
     "text": [
      "set()\n",
      "set()\n"
     ]
    },
    {
     "name": "stderr",
     "output_type": "stream",
     "text": [
      "\r",
      " 37%|████████████████████████████████████████████████████████████████████████████▏                                                                                                                                 | 37/100 [00:07<00:10,  5.76it/s]"
     ]
    },
    {
     "name": "stdout",
     "output_type": "stream",
     "text": [
      "set()\n"
     ]
    },
    {
     "name": "stderr",
     "output_type": "stream",
     "text": [
      "\r",
      " 38%|██████████████████████████████████████████████████████████████████████████████▎                                                                                                                               | 38/100 [00:07<00:11,  5.37it/s]"
     ]
    },
    {
     "name": "stdout",
     "output_type": "stream",
     "text": [
      "{29873, 260}\n"
     ]
    },
    {
     "name": "stderr",
     "output_type": "stream",
     "text": [
      "\r",
      " 39%|████████████████████████████████████████████████████████████████████████████████▎                                                                                                                             | 39/100 [00:07<00:12,  5.02it/s]"
     ]
    },
    {
     "name": "stderr",
     "output_type": "stream",
     "text": [
      "\r",
      " 40%|██████████████████████████████████████████████████████████████████████████████████▍                                                                                                                           | 40/100 [00:08<00:11,  5.14it/s]"
     ]
    },
    {
     "name": "stdout",
     "output_type": "stream",
     "text": [
      "set()\n",
      "set()\n"
     ]
    },
    {
     "name": "stderr",
     "output_type": "stream",
     "text": [
      "\r",
      " 41%|████████████████████████████████████████████████████████████████████████████████████▍                                                                                                                         | 41/100 [00:08<00:11,  5.16it/s]"
     ]
    },
    {
     "name": "stderr",
     "output_type": "stream",
     "text": [
      "\r",
      " 42%|██████████████████████████████████████████████████████████████████████████████████████▌                                                                                                                       | 42/100 [00:08<00:11,  5.17it/s]"
     ]
    },
    {
     "name": "stdout",
     "output_type": "stream",
     "text": [
      "{344, 409, 269, 29879}\n",
      "set()\n"
     ]
    },
    {
     "name": "stderr",
     "output_type": "stream",
     "text": [
      "\r",
      " 43%|████████████████████████████████████████████████████████████████████████████████████████▌                                                                                                                     | 43/100 [00:08<00:10,  5.34it/s]"
     ]
    },
    {
     "name": "stderr",
     "output_type": "stream",
     "text": [
      "\r",
      " 44%|██████████████████████████████████████████████████████████████████████████████████████████▋                                                                                                                   | 44/100 [00:08<00:09,  5.70it/s]"
     ]
    },
    {
     "name": "stdout",
     "output_type": "stream",
     "text": [
      "{29876, 302}\n",
      "set()\n"
     ]
    },
    {
     "name": "stderr",
     "output_type": "stream",
     "text": [
      "\r",
      " 45%|████████████████████████████████████████████████████████████████████████████████████████████▋                                                                                                                 | 45/100 [00:08<00:09,  5.65it/s]"
     ]
    },
    {
     "name": "stdout",
     "output_type": "stream",
     "text": [
      "set()\n"
     ]
    },
    {
     "name": "stderr",
     "output_type": "stream",
     "text": [
      "\r",
      " 46%|██████████████████████████████████████████████████████████████████████████████████████████████▊                                                                                                               | 46/100 [00:09<00:10,  5.05it/s]"
     ]
    },
    {
     "name": "stdout",
     "output_type": "stream",
     "text": [
      "set()\n"
     ]
    },
    {
     "name": "stderr",
     "output_type": "stream",
     "text": [
      "\r",
      " 47%|████████████████████████████████████████████████████████████████████████████████████████████████▊                                                                                                             | 47/100 [00:09<00:10,  4.92it/s]"
     ]
    },
    {
     "name": "stderr",
     "output_type": "stream",
     "text": [
      "\r",
      " 48%|██████████████████████████████████████████████████████████████████████████████████████████████████▉                                                                                                           | 48/100 [00:09<00:09,  5.70it/s]"
     ]
    },
    {
     "name": "stdout",
     "output_type": "stream",
     "text": [
      "set()\n",
      "set()\n"
     ]
    },
    {
     "name": "stderr",
     "output_type": "stream",
     "text": [
      "\r",
      " 49%|████████████████████████████████████████████████████████████████████████████████████████████████████▉                                                                                                         | 49/100 [00:09<00:09,  5.26it/s]"
     ]
    },
    {
     "name": "stdout",
     "output_type": "stream",
     "text": [
      "set()\n"
     ]
    },
    {
     "name": "stderr",
     "output_type": "stream",
     "text": [
      "\r",
      " 50%|███████████████████████████████████████████████████████████████████████████████████████████████████████                                                                                                       | 50/100 [00:09<00:09,  5.02it/s]"
     ]
    },
    {
     "name": "stderr",
     "output_type": "stream",
     "text": [
      "\r",
      " 51%|█████████████████████████████████████████████████████████████████████████████████████████████████████████                                                                                                     | 51/100 [00:10<00:09,  5.18it/s]"
     ]
    },
    {
     "name": "stdout",
     "output_type": "stream",
     "text": [
      "{6025, 1388, 270, 18386, 29881, 1146}\n",
      "set()\n"
     ]
    },
    {
     "name": "stderr",
     "output_type": "stream",
     "text": [
      "\r",
      " 52%|███████████████████████████████████████████████████████████████████████████████████████████████████████████                                                                                                   | 52/100 [00:10<00:09,  5.20it/s]"
     ]
    },
    {
     "name": "stdout",
     "output_type": "stream",
     "text": [
      "{269, 29879}\n"
     ]
    },
    {
     "name": "stderr",
     "output_type": "stream",
     "text": [
      "\r",
      " 53%|█████████████████████████████████████████████████████████████████████████████████████████████████████████████▏                                                                                                | 53/100 [00:10<00:09,  4.87it/s]"
     ]
    },
    {
     "name": "stdout",
     "output_type": "stream",
     "text": [
      "{29880, 301}\n"
     ]
    },
    {
     "name": "stderr",
     "output_type": "stream",
     "text": [
      "\r",
      " 54%|███████████████████████████████████████████████████████████████████████████████████████████████████████████████▏                                                                                              | 54/100 [00:10<00:10,  4.49it/s]"
     ]
    },
    {
     "name": "stdout",
     "output_type": "stream",
     "text": [
      "set()\n",
      "{1217, 15459, 302, 29876, 694, 3643}\n"
     ]
    },
    {
     "name": "stderr",
     "output_type": "stream",
     "text": [
      "\r",
      " 55%|█████████████████████████████████████████████████████████████████████████████████████████████████████████████████▎                                                                                            | 55/100 [00:11<00:09,  4.61it/s]"
     ]
    },
    {
     "name": "stderr",
     "output_type": "stream",
     "text": [
      "\r",
      " 56%|███████████████████████████████████████████████████████████████████████████████████████████████████████████████████▎                                                                                          | 56/100 [00:11<00:09,  4.44it/s]"
     ]
    },
    {
     "name": "stdout",
     "output_type": "stream",
     "text": [
      "{29873, 260}\n"
     ]
    },
    {
     "name": "stderr",
     "output_type": "stream",
     "text": [
      "\r",
      " 57%|█████████████████████████████████████████████████████████████████████████████████████████████████████████████████████▍                                                                                        | 57/100 [00:11<00:10,  4.24it/s]"
     ]
    },
    {
     "name": "stdout",
     "output_type": "stream",
     "text": [
      "set()\n"
     ]
    },
    {
     "name": "stderr",
     "output_type": "stream",
     "text": [
      "\r",
      " 58%|███████████████████████████████████████████████████████████████████████████████████████████████████████████████████████▍                                                                                      | 58/100 [00:11<00:10,  4.17it/s]"
     ]
    },
    {
     "name": "stdout",
     "output_type": "stream",
     "text": [
      "{3737, 2460, 29885, 286}\n"
     ]
    },
    {
     "name": "stderr",
     "output_type": "stream",
     "text": [
      "\r",
      " 59%|█████████████████████████████████████████████████████████████████████████████████████████████████████████████████████████▌                                                                                    | 59/100 [00:12<00:10,  4.08it/s]"
     ]
    },
    {
     "name": "stdout",
     "output_type": "stream",
     "text": [
      "{274, 29883, 1302, 1111}\n"
     ]
    },
    {
     "name": "stderr",
     "output_type": "stream",
     "text": [
      "\r",
      " 60%|███████████████████████████████████████████████████████████████████████████████████████████████████████████████████████████▌                                                                                  | 60/100 [00:12<00:09,  4.18it/s]"
     ]
    },
    {
     "name": "stderr",
     "output_type": "stream",
     "text": [
      "\r",
      " 61%|█████████████████████████████████████████████████████████████████████████████████████████████████████████████████████████████▋                                                                                | 61/100 [00:12<00:08,  4.40it/s]"
     ]
    },
    {
     "name": "stdout",
     "output_type": "stream",
     "text": [
      "set()\n",
      "{432, 4900, 29926, 3623}\n"
     ]
    },
    {
     "name": "stderr",
     "output_type": "stream",
     "text": [
      "\r",
      " 62%|███████████████████████████████████████████████████████████████████████████████████████████████████████████████████████████████▋                                                                              | 62/100 [00:12<00:08,  4.41it/s]"
     ]
    },
    {
     "name": "stdout",
     "output_type": "stream",
     "text": [
      "set()\n",
      "set()\n"
     ]
    },
    {
     "name": "stderr",
     "output_type": "stream",
     "text": [
      "\r",
      " 63%|█████████████████████████████████████████████████████████████████████████████████████████████████████████████████████████████████▊                                                                            | 63/100 [00:12<00:08,  4.56it/s]"
     ]
    },
    {
     "name": "stderr",
     "output_type": "stream",
     "text": [
      "\r",
      " 64%|███████████████████████████████████████████████████████████████████████████████████████████████████████████████████████████████████▊                                                                          | 64/100 [00:13<00:08,  4.19it/s]"
     ]
    },
    {
     "name": "stdout",
     "output_type": "stream",
     "text": [
      "{29872, 321, 429, 735}\n"
     ]
    },
    {
     "name": "stderr",
     "output_type": "stream",
     "text": [
      "\r",
      " 65%|█████████████████████████████████████████████████████████████████████████████████████████████████████████████████████████████████████▉                                                                        | 65/100 [00:13<00:08,  4.28it/s]"
     ]
    },
    {
     "name": "stdout",
     "output_type": "stream",
     "text": [
      "set()\n"
     ]
    },
    {
     "name": "stderr",
     "output_type": "stream",
     "text": [
      "\r",
      " 66%|███████████████████████████████████████████████████████████████████████████████████████████████████████████████████████████████████████▉                                                                      | 66/100 [00:13<00:08,  4.20it/s]"
     ]
    },
    {
     "name": "stdout",
     "output_type": "stream",
     "text": [
      "set()\n"
     ]
    },
    {
     "name": "stderr",
     "output_type": "stream",
     "text": [
      "\r",
      " 67%|██████████████████████████████████████████████████████████████████████████████████████████████████████████████████████████████████████████                                                                    | 67/100 [00:13<00:08,  3.89it/s]"
     ]
    },
    {
     "name": "stdout",
     "output_type": "stream",
     "text": [
      "set()\n"
     ]
    },
    {
     "name": "stderr",
     "output_type": "stream",
     "text": [
      "\r",
      " 68%|████████████████████████████████████████████████████████████████████████████████████████████████████████████████████████████████████████████                                                                  | 68/100 [00:14<00:07,  4.03it/s]"
     ]
    },
    {
     "name": "stdout",
     "output_type": "stream",
     "text": [
      "{289, 6562, 29890, 367, 915}\n"
     ]
    },
    {
     "name": "stderr",
     "output_type": "stream",
     "text": [
      "\r",
      " 69%|██████████████████████████████████████████████████████████████████████████████████████████████████████████████████████████████████████████████▏                                                               | 69/100 [00:14<00:08,  3.55it/s]"
     ]
    },
    {
     "name": "stdout",
     "output_type": "stream",
     "text": [
      "{29886, 715, 18870, 13974, 282, 572, 2174}\n"
     ]
    },
    {
     "name": "stderr",
     "output_type": "stream",
     "text": [
      "\r",
      " 70%|████████████████████████████████████████████████████████████████████████████████████████████████████████████████████████████████████████████████▏                                                             | 70/100 [00:14<00:08,  3.70it/s]"
     ]
    },
    {
     "name": "stdout",
     "output_type": "stream",
     "text": [
      "set()\n"
     ]
    },
    {
     "name": "stderr",
     "output_type": "stream",
     "text": [
      "\r",
      " 71%|██████████████████████████████████████████████████████████████████████████████████████████████████████████████████████████████████████████████████▎                                                           | 71/100 [00:14<00:07,  3.91it/s]"
     ]
    },
    {
     "name": "stdout",
     "output_type": "stream",
     "text": [
      "{269, 29879}\n"
     ]
    },
    {
     "name": "stderr",
     "output_type": "stream",
     "text": [
      "\r",
      " 72%|████████████████████████████████████████████████████████████████████████████████████████████████████████████████████████████████████████████████████▎                                                         | 72/100 [00:15<00:07,  3.94it/s]"
     ]
    },
    {
     "name": "stdout",
     "output_type": "stream",
     "text": [
      "set()\n"
     ]
    },
    {
     "name": "stderr",
     "output_type": "stream",
     "text": [
      "\r",
      " 73%|██████████████████████████████████████████████████████████████████████████████████████████████████████████████████████████████████████████████████████▍                                                       | 73/100 [00:15<00:07,  3.68it/s]"
     ]
    },
    {
     "name": "stdout",
     "output_type": "stream",
     "text": [
      "{22880, 9825, 2918, 298, 7251, 29882, 670}\n"
     ]
    },
    {
     "name": "stderr",
     "output_type": "stream",
     "text": [
      "\r",
      " 74%|████████████████████████████████████████████████████████████████████████████████████████████████████████████████████████████████████████████████████████▍                                                     | 74/100 [00:15<00:06,  3.74it/s]"
     ]
    },
    {
     "name": "stdout",
     "output_type": "stream",
     "text": [
      "{2947, 325, 29894, 659, 791, 22044, 1564}\n"
     ]
    },
    {
     "name": "stderr",
     "output_type": "stream",
     "text": [
      "\r",
      " 75%|██████████████████████████████████████████████████████████████████████████████████████████████████████████████████████████████████████████████████████████▌                                                   | 75/100 [00:16<00:06,  3.90it/s]"
     ]
    },
    {
     "name": "stdout",
     "output_type": "stream",
     "text": [
      "set()\n"
     ]
    },
    {
     "name": "stderr",
     "output_type": "stream",
     "text": [
      "\r",
      " 76%|████████████████████████████████████████████████████████████████████████████████████████████████████████████████████████████████████████████████████████████▌                                                 | 76/100 [00:16<00:06,  3.51it/s]"
     ]
    },
    {
     "name": "stderr",
     "output_type": "stream",
     "text": [
      "\r",
      " 77%|██████████████████████████████████████████████████████████████████████████████████████████████████████████████████████████████████████████████████████████████▌                                               | 77/100 [00:16<00:05,  3.95it/s]"
     ]
    },
    {
     "name": "stdout",
     "output_type": "stream",
     "text": [
      "{330, 29887}\n",
      "{269, 29879}\n"
     ]
    },
    {
     "name": "stderr",
     "output_type": "stream",
     "text": [
      "\r",
      " 78%|████████████████████████████████████████████████████████████████████████████████████████████████████████████████████████████████████████████████████████████████▋                                             | 78/100 [00:16<00:05,  3.96it/s]"
     ]
    },
    {
     "name": "stdout",
     "output_type": "stream",
     "text": [
      "{325, 29894}\n"
     ]
    },
    {
     "name": "stderr",
     "output_type": "stream",
     "text": [
      "\r",
      " 79%|██████████████████████████████████████████████████████████████████████████████████████████████████████████████████████████████████████████████████████████████████▋                                           | 79/100 [00:17<00:05,  4.06it/s]"
     ]
    },
    {
     "name": "stdout",
     "output_type": "stream",
     "text": [
      "{260, 3367, 3626, 29873, 534, 9434, 509}\n"
     ]
    },
    {
     "name": "stderr",
     "output_type": "stream",
     "text": [
      "\r",
      " 80%|████████████████████████████████████████████████████████████████████████████████████████████████████████████████████████████████████████████████████████████████████▊                                         | 80/100 [00:17<00:04,  4.16it/s]"
     ]
    },
    {
     "name": "stdout",
     "output_type": "stream",
     "text": [
      "set()\n"
     ]
    },
    {
     "name": "stderr",
     "output_type": "stream",
     "text": [
      "\r",
      " 81%|██████████████████████████████████████████████████████████████████████████████████████████████████████████████████████████████████████████████████████████████████████▊                                       | 81/100 [00:17<00:04,  4.17it/s]"
     ]
    },
    {
     "name": "stdout",
     "output_type": "stream",
     "text": [
      "set()\n",
      "set()\n"
     ]
    },
    {
     "name": "stderr",
     "output_type": "stream",
     "text": [
      "\r",
      " 82%|████████████████████████████████████████████████████████████████████████████████████████████████████████████████████████████████████████████████████████████████████████▉                                     | 82/100 [00:17<00:04,  4.36it/s]"
     ]
    },
    {
     "name": "stderr",
     "output_type": "stream",
     "text": [
      "\r",
      " 83%|██████████████████████████████████████████████████████████████████████████████████████████████████████████████████████████████████████████████████████████████████████████▉                                   | 83/100 [00:17<00:04,  4.17it/s]"
     ]
    },
    {
     "name": "stdout",
     "output_type": "stream",
     "text": [
      "{29874, 263}\n"
     ]
    },
    {
     "name": "stderr",
     "output_type": "stream",
     "text": [
      "\r",
      " 84%|█████████████████████████████████████████████████████████████████████████████████████████████████████████████████████████████████████████████████████████████████████████████                                 | 84/100 [00:18<00:04,  3.85it/s]"
     ]
    },
    {
     "name": "stdout",
     "output_type": "stream",
     "text": [
      "set()\n"
     ]
    },
    {
     "name": "stderr",
     "output_type": "stream",
     "text": [
      "\r",
      " 85%|███████████████████████████████████████████████████████████████████████████████████████████████████████████████████████████████████████████████████████████████████████████████                               | 85/100 [00:18<00:03,  3.90it/s]"
     ]
    },
    {
     "name": "stdout",
     "output_type": "stream",
     "text": [
      "{29881, 270}\n",
      "set()\n"
     ]
    },
    {
     "name": "stderr",
     "output_type": "stream",
     "text": [
      "\r",
      " 86%|█████████████████████████████████████████████████████████████████████████████████████████████████████████████████████████████████████████████████████████████████████████████████▏                            | 86/100 [00:18<00:03,  4.15it/s]"
     ]
    },
    {
     "name": "stderr",
     "output_type": "stream",
     "text": [
      "\r",
      " 87%|███████████████████████████████████████████████████████████████████████████████████████████████████████████████████████████████████████████████████████████████████████████████████▏                          | 87/100 [00:18<00:02,  4.36it/s]"
     ]
    },
    {
     "name": "stderr",
     "output_type": "stream",
     "text": [
      "\r",
      " 88%|█████████████████████████████████████████████████████████████████████████████████████████████████████████████████████████████████████████████████████████████████████████████████████▎                        | 88/100 [00:19<00:02,  4.73it/s]"
     ]
    },
    {
     "name": "stdout",
     "output_type": "stream",
     "text": [
      "{29885, 286}\n",
      "{29872, 321}\n"
     ]
    },
    {
     "name": "stderr",
     "output_type": "stream",
     "text": [
      "\r",
      " 89%|███████████████████████████████████████████████████████████████████████████████████████████████████████████████████████████████████████████████████████████████████████████████████████▎                      | 89/100 [00:19<00:02,  4.48it/s]"
     ]
    },
    {
     "name": "stdout",
     "output_type": "stream",
     "text": [
      "{3240, 364, 337, 276, 29878, 2267}\n"
     ]
    },
    {
     "name": "stderr",
     "output_type": "stream",
     "text": [
      "\r",
      " 90%|█████████████████████████████████████████████████████████████████████████████████████████████████████████████████████████████████████████████████████████████████████████████████████████▍                    | 90/100 [00:19<00:02,  4.18it/s]"
     ]
    },
    {
     "name": "stdout",
     "output_type": "stream",
     "text": [
      "set()\n"
     ]
    },
    {
     "name": "stderr",
     "output_type": "stream",
     "text": [
      "\r",
      " 91%|███████████████████████████████████████████████████████████████████████████████████████████████████████████████████████████████████████████████████████████████████████████████████████████▍                  | 91/100 [00:19<00:02,  4.21it/s]"
     ]
    },
    {
     "name": "stderr",
     "output_type": "stream",
     "text": [
      "\r",
      " 92%|█████████████████████████████████████████████████████████████████████████████████████████████████████████████████████████████████████████████████████████████████████████████████████████████▌                | 92/100 [00:20<00:01,  4.49it/s]"
     ]
    },
    {
     "name": "stdout",
     "output_type": "stream",
     "text": [
      "set()\n",
      "{304, 29873, 260, 517}\n"
     ]
    },
    {
     "name": "stderr",
     "output_type": "stream",
     "text": [
      "\r",
      " 93%|███████████████████████████████████████████████████████████████████████████████████████████████████████████████████████████████████████████████████████████████████████████████████████████████▌              | 93/100 [00:20<00:01,  4.18it/s]"
     ]
    },
    {
     "name": "stdout",
     "output_type": "stream",
     "text": [
      "set()\n"
     ]
    },
    {
     "name": "stderr",
     "output_type": "stream",
     "text": [
      "\r",
      " 94%|█████████████████████████████████████████████████████████████████████████████████████████████████████████████████████████████████████████████████████████████████████████████████████████████████▋            | 94/100 [00:20<00:01,  4.08it/s]"
     ]
    },
    {
     "name": "stdout",
     "output_type": "stream",
     "text": [
      "set()\n"
     ]
    },
    {
     "name": "stderr",
     "output_type": "stream",
     "text": [
      "\r",
      " 95%|███████████████████████████████████████████████████████████████████████████████████████████████████████████████████████████████████████████████████████████████████████████████████████████████████▋          | 95/100 [00:20<00:01,  4.25it/s]"
     ]
    },
    {
     "name": "stdout",
     "output_type": "stream",
     "text": [
      "{364, 307, 10198, 29878, 696}\n"
     ]
    },
    {
     "name": "stderr",
     "output_type": "stream",
     "text": [
      "\r",
      " 96%|█████████████████████████████████████████████████████████████████████████████████████████████████████████████████████████████████████████████████████████████████████████████████████████████████████▊        | 96/100 [00:21<00:00,  4.40it/s]"
     ]
    },
    {
     "name": "stdout",
     "output_type": "stream",
     "text": [
      "set()\n"
     ]
    },
    {
     "name": "stderr",
     "output_type": "stream",
     "text": [
      "\r",
      " 97%|███████████████████████████████████████████████████████████████████████████████████████████████████████████████████████████████████████████████████████████████████████████████████████████████████████▊      | 97/100 [00:21<00:00,  4.49it/s]"
     ]
    },
    {
     "name": "stderr",
     "output_type": "stream",
     "text": [
      "\r",
      " 98%|█████████████████████████████████████████████████████████████████████████████████████████████████████████████████████████████████████████████████████████████████████████████████████████████████████████▉    | 98/100 [00:21<00:00,  4.71it/s]"
     ]
    },
    {
     "name": "stdout",
     "output_type": "stream",
     "text": [
      "set()\n",
      "{577, 578, 269, 29879}\n"
     ]
    },
    {
     "name": "stderr",
     "output_type": "stream",
     "text": [
      "\r",
      " 99%|███████████████████████████████████████████████████████████████████████████████████████████████████████████████████████████████████████████████████████████████████████████████████████████████████████████▉  | 99/100 [00:21<00:00,  4.44it/s]"
     ]
    },
    {
     "name": "stdout",
     "output_type": "stream",
     "text": [
      "{1129, 282, 772, 29886}\n",
      "set()\n"
     ]
    },
    {
     "name": "stderr",
     "output_type": "stream",
     "text": [
      "\r",
      "100%|█████████████████████████████████████████████████████████████████████████████████████████████████████████████████████████████████████████████████████████████████████████████████████████████████████████████| 100/100 [00:21<00:00,  4.57it/s]"
     ]
    },
    {
     "name": "stderr",
     "output_type": "stream",
     "text": [
      "\r",
      "100%|█████████████████████████████████████████████████████████████████████████████████████████████████████████████████████████████████████████████████████████████████████████████████████████████████████████████| 100/100 [00:21<00:00,  4.57it/s]"
     ]
    },
    {
     "name": "stderr",
     "output_type": "stream",
     "text": [
      "\n"
     ]
    }
   ],
   "source": [
    "dataset = []\n",
    "for ind in tqdm(range(len(df_en_target_input))):\n",
    "    d = next(sample(df_en_target_input, ind, lang1=input_lang, lang2=target_lang))\n",
    "    if d is None:\n",
    "        continue\n",
    "    dataset.append(d)"
   ]
  },
  {
   "cell_type": "code",
   "execution_count": 13,
   "id": "d786ab1b",
   "metadata": {
    "execution": {
     "iopub.execute_input": "2024-02-23T20:49:43.743190Z",
     "iopub.status.busy": "2024-02-23T20:49:43.743028Z",
     "iopub.status.idle": "2024-02-23T20:49:43.788765Z",
     "shell.execute_reply": "2024-02-23T20:49:43.788398Z"
    },
    "papermill": {
     "duration": 0.057146,
     "end_time": "2024-02-23T20:49:43.789767",
     "exception": false,
     "start_time": "2024-02-23T20:49:43.732621",
     "status": "completed"
    },
    "tags": []
   },
   "outputs": [],
   "source": [
    "df = pd.DataFrame(dataset)\n",
    "os.makedirs(f'{out_dir}/translation', exist_ok=True)\n",
    "df.to_csv(f'{out_dir}/translation/{model_size}_{input_lang}_{target_lang}_dataset.csv', index=False)"
   ]
  },
  {
   "cell_type": "code",
   "execution_count": 14,
   "id": "00e12355",
   "metadata": {
    "execution": {
     "iopub.execute_input": "2024-02-23T20:49:43.810214Z",
     "iopub.status.busy": "2024-02-23T20:49:43.810046Z",
     "iopub.status.idle": "2024-02-23T20:49:43.857299Z",
     "shell.execute_reply": "2024-02-23T20:49:43.856950Z"
    },
    "papermill": {
     "duration": 0.05852,
     "end_time": "2024-02-23T20:49:43.858139",
     "exception": false,
     "start_time": "2024-02-23T20:49:43.799619",
     "status": "completed"
    },
    "tags": []
   },
   "outputs": [
    {
     "data": {
      "text/html": [
       "<div>\n",
       "<style scoped>\n",
       "    .dataframe tbody tr th:only-of-type {\n",
       "        vertical-align: middle;\n",
       "    }\n",
       "\n",
       "    .dataframe tbody tr th {\n",
       "        vertical-align: top;\n",
       "    }\n",
       "\n",
       "    .dataframe thead th {\n",
       "        text-align: right;\n",
       "    }\n",
       "</style>\n",
       "<table border=\"1\" class=\"dataframe\">\n",
       "  <thead>\n",
       "    <tr style=\"text-align: right;\">\n",
       "      <th></th>\n",
       "      <th>prompt</th>\n",
       "      <th>out_token_id</th>\n",
       "      <th>out_token_str</th>\n",
       "      <th>latent_token_id</th>\n",
       "      <th>latent_token_str</th>\n",
       "      <th>in_token_str</th>\n",
       "    </tr>\n",
       "  </thead>\n",
       "  <tbody>\n",
       "    <tr>\n",
       "      <th>0</th>\n",
       "      <td>Français: \"exemple\" - Français: \"exemple\"\\nFra...</td>\n",
       "      <td>[4948, 29876, 302, 3433]</td>\n",
       "      <td>nuage</td>\n",
       "      <td>[274, 23642, 15126, 9570, 9274, 1067, 29883, 1...</td>\n",
       "      <td>cloud</td>\n",
       "      <td>nuage</td>\n",
       "    </tr>\n",
       "    <tr>\n",
       "      <th>1</th>\n",
       "      <td>Français: \"ville\" - Français: \"ville\"\\nFrançai...</td>\n",
       "      <td>[872, 7067, 4977, 269, 29879]</td>\n",
       "      <td>sac</td>\n",
       "      <td>[23156, 29890, 289, 9922, 2291, 19548]</td>\n",
       "      <td>bag</td>\n",
       "      <td>sac</td>\n",
       "    </tr>\n",
       "    <tr>\n",
       "      <th>2</th>\n",
       "      <td>Français: \"danse\" - Français: \"danse\"\\nFrançai...</td>\n",
       "      <td>[16380, 29890, 289, 833, 1045]</td>\n",
       "      <td>bouche</td>\n",
       "      <td>[29885, 29442, 21026, 13394, 4346, 2730, 286]</td>\n",
       "      <td>mouth</td>\n",
       "      <td>bouche</td>\n",
       "    </tr>\n",
       "    <tr>\n",
       "      <th>3</th>\n",
       "      <td>Français: \"lumière\" - Français: \"lumière\"\\nFra...</td>\n",
       "      <td>[274, 29883]</td>\n",
       "      <td>cœur</td>\n",
       "      <td>[23057, 8293, 540, 29882, 298, 354, 5192]</td>\n",
       "      <td>heart</td>\n",
       "      <td>cœur</td>\n",
       "    </tr>\n",
       "    <tr>\n",
       "      <th>4</th>\n",
       "      <td>Français: \"son\" - Français: \"son\"\\nFrançais: \"...</td>\n",
       "      <td>[24402, 29885, 611, 3396, 5530, 655, 286, 1667]</td>\n",
       "      <td>main</td>\n",
       "      <td>[447, 5905, 2350, 29882, 298, 1361, 5403, 3179]</td>\n",
       "      <td>hand</td>\n",
       "      <td>main</td>\n",
       "    </tr>\n",
       "    <tr>\n",
       "      <th>5</th>\n",
       "      <td>Français: \"sol\" - Français: \"sol\"\\nFrançais: \"...</td>\n",
       "      <td>[29926, 432, 20551, 2958, 8694, 2212, 8121]</td>\n",
       "      <td>jour</td>\n",
       "      <td>[1388, 1146, 270, 3250, 2462, 29881]</td>\n",
       "      <td>day</td>\n",
       "      <td>jour</td>\n",
       "    </tr>\n",
       "    <tr>\n",
       "      <th>6</th>\n",
       "      <td>Français: \"bureau\" - Français: \"bureau\"\\nFranç...</td>\n",
       "      <td>[904, 1893, 29948, 2852]</td>\n",
       "      <td>étoile</td>\n",
       "      <td>[8508, 380, 5173, 303, 269, 9523, 5810, 29879]</td>\n",
       "      <td>star</td>\n",
       "      <td>étoile</td>\n",
       "    </tr>\n",
       "    <tr>\n",
       "      <th>7</th>\n",
       "      <td>Français: \"porte\" - Français: \"porte\"\\nFrançai...</td>\n",
       "      <td>[337, 276, 364, 620, 29878, 18475, 1253, 690]</td>\n",
       "      <td>ressort</td>\n",
       "      <td>[805, 6709, 15099, 269, 7689, 1028, 4278, 29879]</td>\n",
       "      <td>spring</td>\n",
       "      <td>ressort</td>\n",
       "    </tr>\n",
       "    <tr>\n",
       "      <th>8</th>\n",
       "      <td>Français: \"vertu\" - Français: \"vertu\"\\nFrançai...</td>\n",
       "      <td>[6092, 25081, 301, 8092, 29880]</td>\n",
       "      <td>lune</td>\n",
       "      <td>[18786, 29885, 4346, 2730, 286]</td>\n",
       "      <td>moon</td>\n",
       "      <td>lune</td>\n",
       "    </tr>\n",
       "    <tr>\n",
       "      <th>9</th>\n",
       "      <td>Français: \"ressort\" - Français: \"ressort\"\\nFra...</td>\n",
       "      <td>[29890, 289, 833, 23734, 1045]</td>\n",
       "      <td>bois</td>\n",
       "      <td>[827, 29893, 6115, 8879, 8112, 281]</td>\n",
       "      <td>wood</td>\n",
       "      <td>bois</td>\n",
       "    </tr>\n",
       "    <tr>\n",
       "      <th>10</th>\n",
       "      <td>Français: \"lune\" - Français: \"lune\"\\nFrançais:...</td>\n",
       "      <td>[274, 25875, 521, 305, 10329, 5083, 29883, 5815]</td>\n",
       "      <td>chanson</td>\n",
       "      <td>[21453, 578, 269, 4823, 1487, 1100, 29879, 577]</td>\n",
       "      <td>song</td>\n",
       "      <td>chanson</td>\n",
       "    </tr>\n",
       "    <tr>\n",
       "      <th>11</th>\n",
       "      <td>Français: \"ligne\" - Français: \"ligne\"\\nFrançai...</td>\n",
       "      <td>[904, 1893, 29948, 2852, 28899]</td>\n",
       "      <td>étang</td>\n",
       "      <td>[12509, 772, 1112, 1129, 29886, 282, 2818]</td>\n",
       "      <td>pond</td>\n",
       "      <td>étang</td>\n",
       "    </tr>\n",
       "    <tr>\n",
       "      <th>12</th>\n",
       "      <td>Français: \"ménage\" - Français: \"ménage\"\\nFranç...</td>\n",
       "      <td>[898, 13469, 373, 265, 16504, 29877, 288]</td>\n",
       "      <td>onde</td>\n",
       "      <td>[29893, 2766, 11324, 27766, 10742, 281]</td>\n",
       "      <td>wave</td>\n",
       "      <td>onde</td>\n",
       "    </tr>\n",
       "    <tr>\n",
       "      <th>13</th>\n",
       "      <td>Français: \"gauche\" - Français: \"gauche\"\\nFranç...</td>\n",
       "      <td>[330, 17170, 29887, 4071, 629, 867]</td>\n",
       "      <td>grotte</td>\n",
       "      <td>[5777, 274, 24230, 1113, 29883, 18346]</td>\n",
       "      <td>cave</td>\n",
       "      <td>grotte</td>\n",
       "    </tr>\n",
       "    <tr>\n",
       "      <th>14</th>\n",
       "      <td>Français: \"porte\" - Français: \"porte\"\\nFrançai...</td>\n",
       "      <td>[29885, 1004, 2778, 1050, 592, 286]</td>\n",
       "      <td>mer</td>\n",
       "      <td>[7205, 344, 409, 269, 29879]</td>\n",
       "      <td>sea</td>\n",
       "      <td>mer</td>\n",
       "    </tr>\n",
       "    <tr>\n",
       "      <th>15</th>\n",
       "      <td>Français: \"école\" - Français: \"école\"\\nFrançai...</td>\n",
       "      <td>[24816, 5397, 10364, 330, 7171, 3249, 29887]</td>\n",
       "      <td>gare</td>\n",
       "      <td>[5073, 380, 23436, 6112, 5173, 19569, 303, 269...</td>\n",
       "      <td>station</td>\n",
       "      <td>gare</td>\n",
       "    </tr>\n",
       "    <tr>\n",
       "      <th>16</th>\n",
       "      <td>Français: \"son\" - Français: \"son\"\\nFrançais: \"...</td>\n",
       "      <td>[7241, 1445, 5713, 977, 285, 1777, 29888, 934]</td>\n",
       "      <td>filet</td>\n",
       "      <td>[484, 7787, 452, 29876, 302, 1212]</td>\n",
       "      <td>net</td>\n",
       "      <td>filet</td>\n",
       "    </tr>\n",
       "    <tr>\n",
       "      <th>17</th>\n",
       "      <td>Français: \"ressort\" - Français: \"ressort\"\\nFra...</td>\n",
       "      <td>[1631, 5036, 12343, 15957, 2930, 29886, 282]</td>\n",
       "      <td>pied</td>\n",
       "      <td>[7953, 3661, 1181, 5431, 285, 6661, 29888, 1701]</td>\n",
       "      <td>foot</td>\n",
       "      <td>pied</td>\n",
       "    </tr>\n",
       "    <tr>\n",
       "      <th>18</th>\n",
       "      <td>Français: \"ressort\" - Français: \"ressort\"\\nFra...</td>\n",
       "      <td>[470, 288, 272, 29877]</td>\n",
       "      <td>or</td>\n",
       "      <td>[748, 330, 15192, 29887, 7684, 1484]</td>\n",
       "      <td>gold</td>\n",
       "      <td>or</td>\n",
       "    </tr>\n",
       "    <tr>\n",
       "      <th>19</th>\n",
       "      <td>Français: \"sac\" - Français: \"sac\"\\nFrançais: \"...</td>\n",
       "      <td>[2011, 772, 14931, 1971, 637, 13732, 1129, 298...</td>\n",
       "      <td>porte</td>\n",
       "      <td>[3050, 437, 17433, 270, 1867, 29881]</td>\n",
       "      <td>door</td>\n",
       "      <td>porte</td>\n",
       "    </tr>\n",
       "    <tr>\n",
       "      <th>20</th>\n",
       "      <td>Français: \"vallée\" - Français: \"vallée\"\\nFranç...</td>\n",
       "      <td>[484, 452, 29876, 302, 12106]</td>\n",
       "      <td>neige</td>\n",
       "      <td>[5807, 269, 15007, 16586, 29879]</td>\n",
       "      <td>snow</td>\n",
       "      <td>neige</td>\n",
       "    </tr>\n",
       "    <tr>\n",
       "      <th>21</th>\n",
       "      <td>Français: \"étang\" - Français: \"étang\"\\nFrançai...</td>\n",
       "      <td>[923, 274, 29823, 305, 521, 1173, 29883, 25042]</td>\n",
       "      <td>cheval</td>\n",
       "      <td>[11231, 1251, 5089, 4029, 10435, 29882, 2015, ...</td>\n",
       "      <td>horse</td>\n",
       "      <td>cheval</td>\n",
       "    </tr>\n",
       "    <tr>\n",
       "      <th>22</th>\n",
       "      <td>Français: \"milieu\" - Français: \"milieu\"\\nFranç...</td>\n",
       "      <td>[348, 29884, 443, 318]</td>\n",
       "      <td>un</td>\n",
       "      <td>[697, 373, 265, 29877, 288, 650]</td>\n",
       "      <td>one</td>\n",
       "      <td>un</td>\n",
       "    </tr>\n",
       "    <tr>\n",
       "      <th>23</th>\n",
       "      <td>Français: \"huit\" - Français: \"huit\"\\nFrançais:...</td>\n",
       "      <td>[311, 316, 4239, 270, 29881]</td>\n",
       "      <td>deux</td>\n",
       "      <td>[29873, 7516, 260, 3252, 10184, 1023]</td>\n",
       "      <td>two</td>\n",
       "      <td>deux</td>\n",
       "    </tr>\n",
       "    <tr>\n",
       "      <th>24</th>\n",
       "      <td>Français: \"sac\" - Français: \"sac\"\\nFrançais: \"...</td>\n",
       "      <td>[29939, 439, 21408, 339, 12134, 3855]</td>\n",
       "      <td>quatre</td>\n",
       "      <td>[12584, 17823, 3023, 1181, 285, 29888, 1701]</td>\n",
       "      <td>four</td>\n",
       "      <td>quatre</td>\n",
       "    </tr>\n",
       "    <tr>\n",
       "      <th>25</th>\n",
       "      <td>Français: \"tribu\" - Français: \"tribu\"\\nFrançai...</td>\n",
       "      <td>[274, 17256, 4670, 16381, 455, 29883, 4583]</td>\n",
       "      <td>cinq</td>\n",
       "      <td>[7241, 5713, 5320, 285, 29888, 20818]</td>\n",
       "      <td>five</td>\n",
       "      <td>cinq</td>\n",
       "    </tr>\n",
       "    <tr>\n",
       "      <th>26</th>\n",
       "      <td>Français: \"jour\" - Français: \"jour\"\\nFrançais:...</td>\n",
       "      <td>[6905, 15669, 22888, 27052, 29882, 298]</td>\n",
       "      <td>huit</td>\n",
       "      <td>[29319, 9475, 321, 10096, 29872, 15761]</td>\n",
       "      <td>eight</td>\n",
       "      <td>huit</td>\n",
       "    </tr>\n",
       "    <tr>\n",
       "      <th>27</th>\n",
       "      <td>Français: \"grille\" - Français: \"grille\"\\nFranç...</td>\n",
       "      <td>[652, 23386, 270, 6051, 29881]</td>\n",
       "      <td>dix</td>\n",
       "      <td>[371, 734, 29873, 841, 260, 3006]</td>\n",
       "      <td>ten</td>\n",
       "      <td>dix</td>\n",
       "    </tr>\n",
       "    <tr>\n",
       "      <th>28</th>\n",
       "      <td>Français: \"réunion\" - Français: \"réunion\"\\nFra...</td>\n",
       "      <td>[29873, 17949, 260]</td>\n",
       "      <td>tête</td>\n",
       "      <td>[2813, 540, 29882, 2343, 298, 354]</td>\n",
       "      <td>head</td>\n",
       "      <td>tête</td>\n",
       "    </tr>\n",
       "    <tr>\n",
       "      <th>29</th>\n",
       "      <td>Français: \"pont\" - Français: \"pont\"\\nFrançais:...</td>\n",
       "      <td>[29890, 289, 9922, 2291, 3719, 4980, 9892, 276...</td>\n",
       "      <td>bande</td>\n",
       "      <td>[851, 380, 17010, 710, 303, 269, 29879, 10076,...</td>\n",
       "      <td>strip</td>\n",
       "      <td>bande</td>\n",
       "    </tr>\n",
       "    <tr>\n",
       "      <th>30</th>\n",
       "      <td>Français: \"est\" - Français: \"est\"\\nFrançais: \"...</td>\n",
       "      <td>[16014, 364, 5796, 582, 29878]</td>\n",
       "      <td>rue</td>\n",
       "      <td>[11952, 29879, 851, 380, 710, 303, 269, 12243,...</td>\n",
       "      <td>street</td>\n",
       "      <td>rue</td>\n",
       "    </tr>\n",
       "    <tr>\n",
       "      <th>31</th>\n",
       "      <td>Français: \"mille\" - Français: \"mille\"\\nFrançai...</td>\n",
       "      <td>[30106]</td>\n",
       "      <td>œil</td>\n",
       "      <td>[1032, 321, 10977, 29872]</td>\n",
       "      <td>eye</td>\n",
       "      <td>œil</td>\n",
       "    </tr>\n",
       "    <tr>\n",
       "      <th>32</th>\n",
       "      <td>Français: \"rouge\" - Français: \"rouge\"\\nFrançai...</td>\n",
       "      <td>[274, 305, 521, 10329, 11179, 29883, 18480, 5815]</td>\n",
       "      <td>champ</td>\n",
       "      <td>[7241, 1746, 5713, 2671, 29607, 285, 29888]</td>\n",
       "      <td>field</td>\n",
       "      <td>champ</td>\n",
       "    </tr>\n",
       "    <tr>\n",
       "      <th>33</th>\n",
       "      <td>Français: \"nuage\" - Français: \"nuage\"\\nFrançai...</td>\n",
       "      <td>[29885, 4346, 14817, 2730, 286, 3184]</td>\n",
       "      <td>mot</td>\n",
       "      <td>[827, 29893, 8879, 13762, 1742, 1734, 281, 6365]</td>\n",
       "      <td>word</td>\n",
       "      <td>mot</td>\n",
       "    </tr>\n",
       "    <tr>\n",
       "      <th>34</th>\n",
       "      <td>Français: \"main\" - Français: \"main\"\\nFrançais:...</td>\n",
       "      <td>[19958, 29885, 23853, 2460, 3737, 2316, 286, 3...</td>\n",
       "      <td>mille</td>\n",
       "      <td>[12595, 29873, 386, 266, 260, 10405, 7693]</td>\n",
       "      <td>thousand</td>\n",
       "      <td>mille</td>\n",
       "    </tr>\n",
       "    <tr>\n",
       "      <th>35</th>\n",
       "      <td>Français: \"pied\" - Français: \"pied\"\\nFrançais:...</td>\n",
       "      <td>[16380, 29890, 289, 833, 1045, 6526]</td>\n",
       "      <td>bourse</td>\n",
       "      <td>[429, 5566, 14523, 321, 6543, 29872, 735]</td>\n",
       "      <td>exchange</td>\n",
       "      <td>bourse</td>\n",
       "    </tr>\n",
       "    <tr>\n",
       "      <th>36</th>\n",
       "      <td>Français: \"plate-forme\" - Français: \"plate-for...</td>\n",
       "      <td>[16151, 479, 330, 2531, 1737, 29887, 1885]</td>\n",
       "      <td>genre</td>\n",
       "      <td>[14380, 9089, 19015, 29895, 1984, 413, 2924, 8...</td>\n",
       "      <td>kind</td>\n",
       "      <td>genre</td>\n",
       "    </tr>\n",
       "    <tr>\n",
       "      <th>37</th>\n",
       "      <td>Français: \"gauche\" - Français: \"gauche\"\\nFranç...</td>\n",
       "      <td>[904, 4582, 24618, 29948]</td>\n",
       "      <td>école</td>\n",
       "      <td>[816, 1557, 269, 27041, 885, 1364, 3762, 29879]</td>\n",
       "      <td>school</td>\n",
       "      <td>école</td>\n",
       "    </tr>\n",
       "    <tr>\n",
       "      <th>38</th>\n",
       "      <td>Français: \"lumière\" - Français: \"lumière\"\\nFra...</td>\n",
       "      <td>[274, 26844, 12220, 2181, 29883, 7283]</td>\n",
       "      <td>cravate</td>\n",
       "      <td>[29873, 260, 2034, 22134, 19538]</td>\n",
       "      <td>tie</td>\n",
       "      <td>cravate</td>\n",
       "    </tr>\n",
       "    <tr>\n",
       "      <th>39</th>\n",
       "      <td>Français: \"sud\" - Français: \"sud\"\\nFrançais: \"...</td>\n",
       "      <td>[3516, 1403, 325, 1998, 29894, 1730]</td>\n",
       "      <td>visage</td>\n",
       "      <td>[17470, 2161, 4024, 2258, 3700, 5444, 285, 29888]</td>\n",
       "      <td>face</td>\n",
       "      <td>visage</td>\n",
       "    </tr>\n",
       "    <tr>\n",
       "      <th>40</th>\n",
       "      <td>Français: \"sac\" - Français: \"sac\"\\nFrançais: \"...</td>\n",
       "      <td>[29649, 12509, 772, 13185, 1112, 1129, 29886, ...</td>\n",
       "      <td>pont</td>\n",
       "      <td>[1182, 1506, 29890, 19515, 289, 12945, 28635, ...</td>\n",
       "      <td>bridge</td>\n",
       "      <td>pont</td>\n",
       "    </tr>\n",
       "    <tr>\n",
       "      <th>41</th>\n",
       "      <td>Français: \"tête\" - Français: \"tête\"\\nFrançais:...</td>\n",
       "      <td>[13159, 19303, 480, 269, 2146, 12587, 29879, 1...</td>\n",
       "      <td>supprimer</td>\n",
       "      <td>[311, 628, 316, 8143, 7374, 270, 5217, 6144, 2...</td>\n",
       "      <td>delete</td>\n",
       "      <td>supprimer</td>\n",
       "    </tr>\n",
       "    <tr>\n",
       "      <th>42</th>\n",
       "      <td>Français: \"ressort\" - Français: \"ressort\"\\nFra...</td>\n",
       "      <td>[3503, 24402, 29885, 611, 18234, 5530, 655, 286]</td>\n",
       "      <td>maison</td>\n",
       "      <td>[1251, 5089, 10774, 8697, 9261, 3699, 29882, 298]</td>\n",
       "      <td>house</td>\n",
       "      <td>maison</td>\n",
       "    </tr>\n",
       "    <tr>\n",
       "      <th>43</th>\n",
       "      <td>Français: \"été\" - Français: \"été\"\\nFrançais: \"...</td>\n",
       "      <td>[364, 29878, 1841, 5606]</td>\n",
       "      <td>réunion</td>\n",
       "      <td>[5870, 29885, 1004, 11781, 592, 17897, 286]</td>\n",
       "      <td>meeting</td>\n",
       "      <td>réunion</td>\n",
       "    </tr>\n",
       "    <tr>\n",
       "      <th>44</th>\n",
       "      <td>Français: \"fleur\" - Français: \"fleur\"\\nFrançai...</td>\n",
       "      <td>[5777, 274, 1113, 29883, 1559, 4287]</td>\n",
       "      <td>carré</td>\n",
       "      <td>[6862, 18074, 26613, 17619, 10674, 269, 3044, ...</td>\n",
       "      <td>square</td>\n",
       "      <td>carré</td>\n",
       "    </tr>\n",
       "    <tr>\n",
       "      <th>45</th>\n",
       "      <td>Français: \"tentative\" - Français: \"tentative\"\\...</td>\n",
       "      <td>[11928, 3516, 1403, 325, 8441, 29894, 4909, 17...</td>\n",
       "      <td>ville</td>\n",
       "      <td>[20752, 274, 455, 29883, 7537, 12690, 4272, 4583]</td>\n",
       "      <td>city</td>\n",
       "      <td>ville</td>\n",
       "    </tr>\n",
       "    <tr>\n",
       "      <th>46</th>\n",
       "      <td>Français: \"vertu\" - Français: \"vertu\"\\nFrançai...</td>\n",
       "      <td>[3516, 1403, 325, 29894, 13901]</td>\n",
       "      <td>vitesse</td>\n",
       "      <td>[19322, 805, 29879, 961, 269, 1028, 6210, 5965]</td>\n",
       "      <td>speed</td>\n",
       "      <td>vitesse</td>\n",
       "    </tr>\n",
       "    <tr>\n",
       "      <th>47</th>\n",
       "      <td>Français: \"thé\" - Français: \"thé\"\\nFrançais: \"...</td>\n",
       "      <td>[2929, 578, 269, 29879, 899, 577]</td>\n",
       "      <td>sol</td>\n",
       "      <td>[330, 17170, 5962, 4071, 29887, 629, 2057, 867]</td>\n",
       "      <td>ground</td>\n",
       "      <td>sol</td>\n",
       "    </tr>\n",
       "    <tr>\n",
       "      <th>48</th>\n",
       "      <td>Français: \"tour\" - Français: \"tour\"\\nFrançais:...</td>\n",
       "      <td>[371, 734, 29873, 841, 260, 3006, 12033]</td>\n",
       "      <td>tentative</td>\n",
       "      <td>[29874, 4218, 1131, 472, 1098, 271, 15127, 216...</td>\n",
       "      <td>attempt</td>\n",
       "      <td>tentative</td>\n",
       "    </tr>\n",
       "    <tr>\n",
       "      <th>49</th>\n",
       "      <td>Français: \"supprimer\" - Français: \"supprimer\"\\...</td>\n",
       "      <td>[29939, 439, 339, 9990, 9521, 3855, 802, 712]</td>\n",
       "      <td>queue</td>\n",
       "      <td>[11062, 29873, 18237, 260, 12464, 941]</td>\n",
       "      <td>tail</td>\n",
       "      <td>queue</td>\n",
       "    </tr>\n",
       "    <tr>\n",
       "      <th>50</th>\n",
       "      <td>Français: \"cravate\" - Français: \"cravate\"\\nFra...</td>\n",
       "      <td>[766, 2313, 2218, 652, 6051, 270, 17021, 29881]</td>\n",
       "      <td>discours</td>\n",
       "      <td>[12032, 805, 961, 269, 1028, 29879, 5965]</td>\n",
       "      <td>speech</td>\n",
       "      <td>discours</td>\n",
       "    </tr>\n",
       "    <tr>\n",
       "      <th>51</th>\n",
       "      <td>Français: \"gare\" - Français: \"gare\"\\nFrançais:...</td>\n",
       "      <td>[264, 23578, 321, 427, 29872, 12377]</td>\n",
       "      <td>enfant</td>\n",
       "      <td>[4161, 274, 305, 521, 2278, 5145, 29883, 18558]</td>\n",
       "      <td>child</td>\n",
       "      <td>enfant</td>\n",
       "    </tr>\n",
       "    <tr>\n",
       "      <th>52</th>\n",
       "      <td>Français: \"bois\" - Français: \"bois\"\\nFrançais:...</td>\n",
       "      <td>[8774, 12031, 29885, 286]</td>\n",
       "      <td>ménage</td>\n",
       "      <td>[1251, 5089, 10774, 8697, 9261, 3699, 29882, 2...</td>\n",
       "      <td>household</td>\n",
       "      <td>ménage</td>\n",
       "    </tr>\n",
       "    <tr>\n",
       "      <th>53</th>\n",
       "      <td>Français: \"grotte\" - Français: \"grotte\"\\nFranç...</td>\n",
       "      <td>[8399, 29890, 289, 6866, 1321, 2423]</td>\n",
       "      <td>bureau</td>\n",
       "      <td>[29877, 20205, 288, 1283, 310, 3344, 2696, 974...</td>\n",
       "      <td>office</td>\n",
       "      <td>bureau</td>\n",
       "    </tr>\n",
       "    <tr>\n",
       "      <th>54</th>\n",
       "      <td>Français: \"tête\" - Français: \"tête\"\\nFrançais:...</td>\n",
       "      <td>[447, 6208, 2350, 29882, 298]</td>\n",
       "      <td>hausse</td>\n",
       "      <td>[364, 374, 29878, 5161, 3780, 14451, 10107]</td>\n",
       "      <td>rise</td>\n",
       "      <td>hausse</td>\n",
       "    </tr>\n",
       "    <tr>\n",
       "      <th>55</th>\n",
       "      <td>Français: \"supprimer\" - Français: \"supprimer\"\\...</td>\n",
       "      <td>[13395, 10364, 330, 26003, 3249, 29887]</td>\n",
       "      <td>gauche</td>\n",
       "      <td>[454, 301, 2175, 29880, 25874, 1563, 280]</td>\n",
       "      <td>left</td>\n",
       "      <td>gauche</td>\n",
       "    </tr>\n",
       "    <tr>\n",
       "      <th>56</th>\n",
       "      <td>Français: \"juge\" - Français: \"juge\"\\nFrançais:...</td>\n",
       "      <td>[7342, 904, 1893, 4370, 29948, 2852]</td>\n",
       "      <td>été</td>\n",
       "      <td>[22792, 480, 269, 11801, 2146, 2083, 29879, 2533]</td>\n",
       "      <td>summer</td>\n",
       "      <td>été</td>\n",
       "    </tr>\n",
       "  </tbody>\n",
       "</table>\n",
       "</div>"
      ],
      "text/plain": [
       "                                               prompt  \\\n",
       "0   Français: \"exemple\" - Français: \"exemple\"\\nFra...   \n",
       "1   Français: \"ville\" - Français: \"ville\"\\nFrançai...   \n",
       "2   Français: \"danse\" - Français: \"danse\"\\nFrançai...   \n",
       "3   Français: \"lumière\" - Français: \"lumière\"\\nFra...   \n",
       "4   Français: \"son\" - Français: \"son\"\\nFrançais: \"...   \n",
       "5   Français: \"sol\" - Français: \"sol\"\\nFrançais: \"...   \n",
       "6   Français: \"bureau\" - Français: \"bureau\"\\nFranç...   \n",
       "7   Français: \"porte\" - Français: \"porte\"\\nFrançai...   \n",
       "8   Français: \"vertu\" - Français: \"vertu\"\\nFrançai...   \n",
       "9   Français: \"ressort\" - Français: \"ressort\"\\nFra...   \n",
       "10  Français: \"lune\" - Français: \"lune\"\\nFrançais:...   \n",
       "11  Français: \"ligne\" - Français: \"ligne\"\\nFrançai...   \n",
       "12  Français: \"ménage\" - Français: \"ménage\"\\nFranç...   \n",
       "13  Français: \"gauche\" - Français: \"gauche\"\\nFranç...   \n",
       "14  Français: \"porte\" - Français: \"porte\"\\nFrançai...   \n",
       "15  Français: \"école\" - Français: \"école\"\\nFrançai...   \n",
       "16  Français: \"son\" - Français: \"son\"\\nFrançais: \"...   \n",
       "17  Français: \"ressort\" - Français: \"ressort\"\\nFra...   \n",
       "18  Français: \"ressort\" - Français: \"ressort\"\\nFra...   \n",
       "19  Français: \"sac\" - Français: \"sac\"\\nFrançais: \"...   \n",
       "20  Français: \"vallée\" - Français: \"vallée\"\\nFranç...   \n",
       "21  Français: \"étang\" - Français: \"étang\"\\nFrançai...   \n",
       "22  Français: \"milieu\" - Français: \"milieu\"\\nFranç...   \n",
       "23  Français: \"huit\" - Français: \"huit\"\\nFrançais:...   \n",
       "24  Français: \"sac\" - Français: \"sac\"\\nFrançais: \"...   \n",
       "25  Français: \"tribu\" - Français: \"tribu\"\\nFrançai...   \n",
       "26  Français: \"jour\" - Français: \"jour\"\\nFrançais:...   \n",
       "27  Français: \"grille\" - Français: \"grille\"\\nFranç...   \n",
       "28  Français: \"réunion\" - Français: \"réunion\"\\nFra...   \n",
       "29  Français: \"pont\" - Français: \"pont\"\\nFrançais:...   \n",
       "30  Français: \"est\" - Français: \"est\"\\nFrançais: \"...   \n",
       "31  Français: \"mille\" - Français: \"mille\"\\nFrançai...   \n",
       "32  Français: \"rouge\" - Français: \"rouge\"\\nFrançai...   \n",
       "33  Français: \"nuage\" - Français: \"nuage\"\\nFrançai...   \n",
       "34  Français: \"main\" - Français: \"main\"\\nFrançais:...   \n",
       "35  Français: \"pied\" - Français: \"pied\"\\nFrançais:...   \n",
       "36  Français: \"plate-forme\" - Français: \"plate-for...   \n",
       "37  Français: \"gauche\" - Français: \"gauche\"\\nFranç...   \n",
       "38  Français: \"lumière\" - Français: \"lumière\"\\nFra...   \n",
       "39  Français: \"sud\" - Français: \"sud\"\\nFrançais: \"...   \n",
       "40  Français: \"sac\" - Français: \"sac\"\\nFrançais: \"...   \n",
       "41  Français: \"tête\" - Français: \"tête\"\\nFrançais:...   \n",
       "42  Français: \"ressort\" - Français: \"ressort\"\\nFra...   \n",
       "43  Français: \"été\" - Français: \"été\"\\nFrançais: \"...   \n",
       "44  Français: \"fleur\" - Français: \"fleur\"\\nFrançai...   \n",
       "45  Français: \"tentative\" - Français: \"tentative\"\\...   \n",
       "46  Français: \"vertu\" - Français: \"vertu\"\\nFrançai...   \n",
       "47  Français: \"thé\" - Français: \"thé\"\\nFrançais: \"...   \n",
       "48  Français: \"tour\" - Français: \"tour\"\\nFrançais:...   \n",
       "49  Français: \"supprimer\" - Français: \"supprimer\"\\...   \n",
       "50  Français: \"cravate\" - Français: \"cravate\"\\nFra...   \n",
       "51  Français: \"gare\" - Français: \"gare\"\\nFrançais:...   \n",
       "52  Français: \"bois\" - Français: \"bois\"\\nFrançais:...   \n",
       "53  Français: \"grotte\" - Français: \"grotte\"\\nFranç...   \n",
       "54  Français: \"tête\" - Français: \"tête\"\\nFrançais:...   \n",
       "55  Français: \"supprimer\" - Français: \"supprimer\"\\...   \n",
       "56  Français: \"juge\" - Français: \"juge\"\\nFrançais:...   \n",
       "\n",
       "                                         out_token_id out_token_str  \\\n",
       "0                            [4948, 29876, 302, 3433]         nuage   \n",
       "1                       [872, 7067, 4977, 269, 29879]           sac   \n",
       "2                      [16380, 29890, 289, 833, 1045]        bouche   \n",
       "3                                        [274, 29883]          cœur   \n",
       "4     [24402, 29885, 611, 3396, 5530, 655, 286, 1667]          main   \n",
       "5         [29926, 432, 20551, 2958, 8694, 2212, 8121]          jour   \n",
       "6                            [904, 1893, 29948, 2852]        étoile   \n",
       "7       [337, 276, 364, 620, 29878, 18475, 1253, 690]       ressort   \n",
       "8                     [6092, 25081, 301, 8092, 29880]          lune   \n",
       "9                      [29890, 289, 833, 23734, 1045]          bois   \n",
       "10   [274, 25875, 521, 305, 10329, 5083, 29883, 5815]       chanson   \n",
       "11                    [904, 1893, 29948, 2852, 28899]         étang   \n",
       "12          [898, 13469, 373, 265, 16504, 29877, 288]          onde   \n",
       "13                [330, 17170, 29887, 4071, 629, 867]        grotte   \n",
       "14                [29885, 1004, 2778, 1050, 592, 286]           mer   \n",
       "15       [24816, 5397, 10364, 330, 7171, 3249, 29887]          gare   \n",
       "16     [7241, 1445, 5713, 977, 285, 1777, 29888, 934]         filet   \n",
       "17       [1631, 5036, 12343, 15957, 2930, 29886, 282]          pied   \n",
       "18                             [470, 288, 272, 29877]            or   \n",
       "19  [2011, 772, 14931, 1971, 637, 13732, 1129, 298...         porte   \n",
       "20                      [484, 452, 29876, 302, 12106]         neige   \n",
       "21    [923, 274, 29823, 305, 521, 1173, 29883, 25042]        cheval   \n",
       "22                             [348, 29884, 443, 318]            un   \n",
       "23                       [311, 316, 4239, 270, 29881]          deux   \n",
       "24              [29939, 439, 21408, 339, 12134, 3855]        quatre   \n",
       "25        [274, 17256, 4670, 16381, 455, 29883, 4583]          cinq   \n",
       "26            [6905, 15669, 22888, 27052, 29882, 298]          huit   \n",
       "27                     [652, 23386, 270, 6051, 29881]           dix   \n",
       "28                                [29873, 17949, 260]          tête   \n",
       "29  [29890, 289, 9922, 2291, 3719, 4980, 9892, 276...         bande   \n",
       "30                     [16014, 364, 5796, 582, 29878]           rue   \n",
       "31                                            [30106]           œil   \n",
       "32  [274, 305, 521, 10329, 11179, 29883, 18480, 5815]         champ   \n",
       "33              [29885, 4346, 14817, 2730, 286, 3184]           mot   \n",
       "34  [19958, 29885, 23853, 2460, 3737, 2316, 286, 3...         mille   \n",
       "35               [16380, 29890, 289, 833, 1045, 6526]        bourse   \n",
       "36         [16151, 479, 330, 2531, 1737, 29887, 1885]         genre   \n",
       "37                          [904, 4582, 24618, 29948]         école   \n",
       "38             [274, 26844, 12220, 2181, 29883, 7283]       cravate   \n",
       "39               [3516, 1403, 325, 1998, 29894, 1730]        visage   \n",
       "40  [29649, 12509, 772, 13185, 1112, 1129, 29886, ...          pont   \n",
       "41  [13159, 19303, 480, 269, 2146, 12587, 29879, 1...     supprimer   \n",
       "42   [3503, 24402, 29885, 611, 18234, 5530, 655, 286]        maison   \n",
       "43                           [364, 29878, 1841, 5606]       réunion   \n",
       "44               [5777, 274, 1113, 29883, 1559, 4287]         carré   \n",
       "45  [11928, 3516, 1403, 325, 8441, 29894, 4909, 17...         ville   \n",
       "46                    [3516, 1403, 325, 29894, 13901]       vitesse   \n",
       "47                  [2929, 578, 269, 29879, 899, 577]           sol   \n",
       "48           [371, 734, 29873, 841, 260, 3006, 12033]     tentative   \n",
       "49      [29939, 439, 339, 9990, 9521, 3855, 802, 712]         queue   \n",
       "50    [766, 2313, 2218, 652, 6051, 270, 17021, 29881]      discours   \n",
       "51               [264, 23578, 321, 427, 29872, 12377]        enfant   \n",
       "52                          [8774, 12031, 29885, 286]        ménage   \n",
       "53               [8399, 29890, 289, 6866, 1321, 2423]        bureau   \n",
       "54                      [447, 6208, 2350, 29882, 298]        hausse   \n",
       "55            [13395, 10364, 330, 26003, 3249, 29887]        gauche   \n",
       "56               [7342, 904, 1893, 4370, 29948, 2852]           été   \n",
       "\n",
       "                                      latent_token_id latent_token_str  \\\n",
       "0   [274, 23642, 15126, 9570, 9274, 1067, 29883, 1...            cloud   \n",
       "1              [23156, 29890, 289, 9922, 2291, 19548]              bag   \n",
       "2       [29885, 29442, 21026, 13394, 4346, 2730, 286]            mouth   \n",
       "3           [23057, 8293, 540, 29882, 298, 354, 5192]            heart   \n",
       "4     [447, 5905, 2350, 29882, 298, 1361, 5403, 3179]             hand   \n",
       "5                [1388, 1146, 270, 3250, 2462, 29881]              day   \n",
       "6      [8508, 380, 5173, 303, 269, 9523, 5810, 29879]             star   \n",
       "7    [805, 6709, 15099, 269, 7689, 1028, 4278, 29879]           spring   \n",
       "8                     [18786, 29885, 4346, 2730, 286]             moon   \n",
       "9                 [827, 29893, 6115, 8879, 8112, 281]             wood   \n",
       "10    [21453, 578, 269, 4823, 1487, 1100, 29879, 577]             song   \n",
       "11         [12509, 772, 1112, 1129, 29886, 282, 2818]             pond   \n",
       "12            [29893, 2766, 11324, 27766, 10742, 281]             wave   \n",
       "13             [5777, 274, 24230, 1113, 29883, 18346]             cave   \n",
       "14                       [7205, 344, 409, 269, 29879]              sea   \n",
       "15  [5073, 380, 23436, 6112, 5173, 19569, 303, 269...          station   \n",
       "16                 [484, 7787, 452, 29876, 302, 1212]              net   \n",
       "17   [7953, 3661, 1181, 5431, 285, 6661, 29888, 1701]             foot   \n",
       "18               [748, 330, 15192, 29887, 7684, 1484]             gold   \n",
       "19               [3050, 437, 17433, 270, 1867, 29881]             door   \n",
       "20                   [5807, 269, 15007, 16586, 29879]             snow   \n",
       "21  [11231, 1251, 5089, 4029, 10435, 29882, 2015, ...            horse   \n",
       "22                   [697, 373, 265, 29877, 288, 650]              one   \n",
       "23              [29873, 7516, 260, 3252, 10184, 1023]              two   \n",
       "24       [12584, 17823, 3023, 1181, 285, 29888, 1701]             four   \n",
       "25              [7241, 5713, 5320, 285, 29888, 20818]             five   \n",
       "26            [29319, 9475, 321, 10096, 29872, 15761]            eight   \n",
       "27                  [371, 734, 29873, 841, 260, 3006]              ten   \n",
       "28                 [2813, 540, 29882, 2343, 298, 354]             head   \n",
       "29  [851, 380, 17010, 710, 303, 269, 29879, 10076,...            strip   \n",
       "30  [11952, 29879, 851, 380, 710, 303, 269, 12243,...           street   \n",
       "31                          [1032, 321, 10977, 29872]              eye   \n",
       "32        [7241, 1746, 5713, 2671, 29607, 285, 29888]            field   \n",
       "33   [827, 29893, 8879, 13762, 1742, 1734, 281, 6365]             word   \n",
       "34         [12595, 29873, 386, 266, 260, 10405, 7693]         thousand   \n",
       "35          [429, 5566, 14523, 321, 6543, 29872, 735]         exchange   \n",
       "36  [14380, 9089, 19015, 29895, 1984, 413, 2924, 8...             kind   \n",
       "37    [816, 1557, 269, 27041, 885, 1364, 3762, 29879]           school   \n",
       "38                   [29873, 260, 2034, 22134, 19538]              tie   \n",
       "39  [17470, 2161, 4024, 2258, 3700, 5444, 285, 29888]             face   \n",
       "40  [1182, 1506, 29890, 19515, 289, 12945, 28635, ...           bridge   \n",
       "41  [311, 628, 316, 8143, 7374, 270, 5217, 6144, 2...           delete   \n",
       "42  [1251, 5089, 10774, 8697, 9261, 3699, 29882, 298]            house   \n",
       "43        [5870, 29885, 1004, 11781, 592, 17897, 286]          meeting   \n",
       "44  [6862, 18074, 26613, 17619, 10674, 269, 3044, ...           square   \n",
       "45  [20752, 274, 455, 29883, 7537, 12690, 4272, 4583]             city   \n",
       "46    [19322, 805, 29879, 961, 269, 1028, 6210, 5965]            speed   \n",
       "47    [330, 17170, 5962, 4071, 29887, 629, 2057, 867]           ground   \n",
       "48  [29874, 4218, 1131, 472, 1098, 271, 15127, 216...          attempt   \n",
       "49             [11062, 29873, 18237, 260, 12464, 941]             tail   \n",
       "50          [12032, 805, 961, 269, 1028, 29879, 5965]           speech   \n",
       "51    [4161, 274, 305, 521, 2278, 5145, 29883, 18558]            child   \n",
       "52  [1251, 5089, 10774, 8697, 9261, 3699, 29882, 2...        household   \n",
       "53  [29877, 20205, 288, 1283, 310, 3344, 2696, 974...           office   \n",
       "54        [364, 374, 29878, 5161, 3780, 14451, 10107]             rise   \n",
       "55          [454, 301, 2175, 29880, 25874, 1563, 280]             left   \n",
       "56  [22792, 480, 269, 11801, 2146, 2083, 29879, 2533]           summer   \n",
       "\n",
       "   in_token_str  \n",
       "0         nuage  \n",
       "1           sac  \n",
       "2        bouche  \n",
       "3          cœur  \n",
       "4          main  \n",
       "5          jour  \n",
       "6        étoile  \n",
       "7       ressort  \n",
       "8          lune  \n",
       "9          bois  \n",
       "10      chanson  \n",
       "11        étang  \n",
       "12         onde  \n",
       "13       grotte  \n",
       "14          mer  \n",
       "15         gare  \n",
       "16        filet  \n",
       "17         pied  \n",
       "18           or  \n",
       "19        porte  \n",
       "20        neige  \n",
       "21       cheval  \n",
       "22           un  \n",
       "23         deux  \n",
       "24       quatre  \n",
       "25         cinq  \n",
       "26         huit  \n",
       "27          dix  \n",
       "28         tête  \n",
       "29        bande  \n",
       "30          rue  \n",
       "31          œil  \n",
       "32        champ  \n",
       "33          mot  \n",
       "34        mille  \n",
       "35       bourse  \n",
       "36        genre  \n",
       "37        école  \n",
       "38      cravate  \n",
       "39       visage  \n",
       "40         pont  \n",
       "41    supprimer  \n",
       "42       maison  \n",
       "43      réunion  \n",
       "44        carré  \n",
       "45        ville  \n",
       "46      vitesse  \n",
       "47          sol  \n",
       "48    tentative  \n",
       "49        queue  \n",
       "50     discours  \n",
       "51       enfant  \n",
       "52       ménage  \n",
       "53       bureau  \n",
       "54       hausse  \n",
       "55       gauche  \n",
       "56          été  "
      ]
     },
     "execution_count": 14,
     "metadata": {},
     "output_type": "execute_result"
    }
   ],
   "source": [
    "df"
   ]
  },
  {
   "cell_type": "code",
   "execution_count": 15,
   "id": "94fa55b7",
   "metadata": {
    "execution": {
     "iopub.execute_input": "2024-02-23T20:49:43.879250Z",
     "iopub.status.busy": "2024-02-23T20:49:43.879091Z",
     "iopub.status.idle": "2024-02-23T20:49:43.905671Z",
     "shell.execute_reply": "2024-02-23T20:49:43.905313Z"
    },
    "papermill": {
     "duration": 0.038462,
     "end_time": "2024-02-23T20:49:43.906951",
     "exception": false,
     "start_time": "2024-02-23T20:49:43.868489",
     "status": "completed"
    },
    "tags": []
   },
   "outputs": [],
   "source": [
    "def get_logits(model, prompt,lens):\n",
    "    inputs = tokenizer(prompt, return_tensors=\"pt\").to('cuda')\n",
    "    output = llama(inputs.input_ids, output_hidden_states=True)\n",
    "    hidden_states = output.hidden_states[:-1]\n",
    "    final_lps = output.logits.log_softmax(dim=-1)\n",
    "    tensors=[]\n",
    "    for i in range(len(model.model.layers)):\n",
    "        h = hidden_states[i].squeeze(0)\n",
    "        tensors+=[lens(h, idx=i).detach().cpu()]\n",
    "    tensors= torch.stack(tensors)  \n",
    "    hidden_states = torch.stack(hidden_states).squeeze(1).detach().cpu()\n",
    "    return tensors,hidden_states\n",
    "        "
   ]
  },
  {
   "cell_type": "code",
   "execution_count": 16,
   "id": "25241c49",
   "metadata": {
    "execution": {
     "iopub.execute_input": "2024-02-23T20:49:43.928692Z",
     "iopub.status.busy": "2024-02-23T20:49:43.928371Z",
     "iopub.status.idle": "2024-02-23T20:49:57.631225Z",
     "shell.execute_reply": "2024-02-23T20:49:57.630540Z"
    },
    "papermill": {
     "duration": 13.714698,
     "end_time": "2024-02-23T20:49:57.632350",
     "exception": false,
     "start_time": "2024-02-23T20:49:43.917652",
     "status": "completed"
    },
    "tags": []
   },
   "outputs": [
    {
     "name": "stderr",
     "output_type": "stream",
     "text": [
      "\r",
      "0it [00:00, ?it/s]"
     ]
    },
    {
     "name": "stderr",
     "output_type": "stream",
     "text": [
      "\r",
      "1it [00:00,  1.15it/s]"
     ]
    },
    {
     "name": "stderr",
     "output_type": "stream",
     "text": [
      "\r",
      "2it [00:01,  2.03it/s]"
     ]
    },
    {
     "name": "stderr",
     "output_type": "stream",
     "text": [
      "\r",
      "3it [00:01,  2.69it/s]"
     ]
    },
    {
     "name": "stderr",
     "output_type": "stream",
     "text": [
      "\r",
      "4it [00:01,  3.23it/s]"
     ]
    },
    {
     "name": "stderr",
     "output_type": "stream",
     "text": [
      "\r",
      "5it [00:01,  3.61it/s]"
     ]
    },
    {
     "name": "stderr",
     "output_type": "stream",
     "text": [
      "\r",
      "6it [00:01,  3.86it/s]"
     ]
    },
    {
     "name": "stderr",
     "output_type": "stream",
     "text": [
      "\r",
      "7it [00:02,  4.02it/s]"
     ]
    },
    {
     "name": "stderr",
     "output_type": "stream",
     "text": [
      "\r",
      "8it [00:02,  4.26it/s]"
     ]
    },
    {
     "name": "stderr",
     "output_type": "stream",
     "text": [
      "\r",
      "9it [00:02,  4.35it/s]"
     ]
    },
    {
     "name": "stderr",
     "output_type": "stream",
     "text": [
      "\r",
      "10it [00:02,  4.14it/s]"
     ]
    },
    {
     "name": "stderr",
     "output_type": "stream",
     "text": [
      "\r",
      "11it [00:03,  4.09it/s]"
     ]
    },
    {
     "name": "stderr",
     "output_type": "stream",
     "text": [
      "\r",
      "12it [00:03,  4.01it/s]"
     ]
    },
    {
     "name": "stderr",
     "output_type": "stream",
     "text": [
      "\r",
      "13it [00:03,  3.90it/s]"
     ]
    },
    {
     "name": "stderr",
     "output_type": "stream",
     "text": [
      "\r",
      "14it [00:03,  3.99it/s]"
     ]
    },
    {
     "name": "stderr",
     "output_type": "stream",
     "text": [
      "\r",
      "15it [00:04,  4.14it/s]"
     ]
    },
    {
     "name": "stderr",
     "output_type": "stream",
     "text": [
      "\r",
      "16it [00:04,  4.18it/s]"
     ]
    },
    {
     "name": "stderr",
     "output_type": "stream",
     "text": [
      "\r",
      "17it [00:04,  4.29it/s]"
     ]
    },
    {
     "name": "stderr",
     "output_type": "stream",
     "text": [
      "\r",
      "18it [00:04,  4.31it/s]"
     ]
    },
    {
     "name": "stderr",
     "output_type": "stream",
     "text": [
      "\r",
      "19it [00:05,  4.39it/s]"
     ]
    },
    {
     "name": "stderr",
     "output_type": "stream",
     "text": [
      "\r",
      "20it [00:05,  4.34it/s]"
     ]
    },
    {
     "name": "stderr",
     "output_type": "stream",
     "text": [
      "\r",
      "21it [00:05,  4.32it/s]"
     ]
    },
    {
     "name": "stderr",
     "output_type": "stream",
     "text": [
      "\r",
      "22it [00:05,  4.46it/s]"
     ]
    },
    {
     "name": "stderr",
     "output_type": "stream",
     "text": [
      "\r",
      "23it [00:05,  4.62it/s]"
     ]
    },
    {
     "name": "stderr",
     "output_type": "stream",
     "text": [
      "\r",
      "24it [00:06,  4.47it/s]"
     ]
    },
    {
     "name": "stderr",
     "output_type": "stream",
     "text": [
      "\r",
      "25it [00:06,  4.31it/s]"
     ]
    },
    {
     "name": "stderr",
     "output_type": "stream",
     "text": [
      "\r",
      "26it [00:06,  4.31it/s]"
     ]
    },
    {
     "name": "stderr",
     "output_type": "stream",
     "text": [
      "\r",
      "27it [00:06,  4.19it/s]"
     ]
    },
    {
     "name": "stderr",
     "output_type": "stream",
     "text": [
      "\r",
      "28it [00:07,  4.24it/s]"
     ]
    },
    {
     "name": "stderr",
     "output_type": "stream",
     "text": [
      "\r",
      "29it [00:07,  4.40it/s]"
     ]
    },
    {
     "name": "stderr",
     "output_type": "stream",
     "text": [
      "\r",
      "30it [00:07,  4.54it/s]"
     ]
    },
    {
     "name": "stderr",
     "output_type": "stream",
     "text": [
      "\r",
      "31it [00:07,  4.59it/s]"
     ]
    },
    {
     "name": "stderr",
     "output_type": "stream",
     "text": [
      "\r",
      "32it [00:07,  4.64it/s]"
     ]
    },
    {
     "name": "stderr",
     "output_type": "stream",
     "text": [
      "\r",
      "33it [00:08,  4.55it/s]"
     ]
    },
    {
     "name": "stderr",
     "output_type": "stream",
     "text": [
      "\r",
      "34it [00:08,  4.48it/s]"
     ]
    },
    {
     "name": "stderr",
     "output_type": "stream",
     "text": [
      "\r",
      "35it [00:08,  4.52it/s]"
     ]
    },
    {
     "name": "stderr",
     "output_type": "stream",
     "text": [
      "\r",
      "36it [00:08,  4.40it/s]"
     ]
    },
    {
     "name": "stderr",
     "output_type": "stream",
     "text": [
      "\r",
      "37it [00:09,  4.25it/s]"
     ]
    },
    {
     "name": "stderr",
     "output_type": "stream",
     "text": [
      "\r",
      "38it [00:09,  4.23it/s]"
     ]
    },
    {
     "name": "stderr",
     "output_type": "stream",
     "text": [
      "\r",
      "39it [00:09,  4.34it/s]"
     ]
    },
    {
     "name": "stderr",
     "output_type": "stream",
     "text": [
      "\r",
      "40it [00:09,  4.36it/s]"
     ]
    },
    {
     "name": "stderr",
     "output_type": "stream",
     "text": [
      "\r",
      "41it [00:10,  4.50it/s]"
     ]
    },
    {
     "name": "stderr",
     "output_type": "stream",
     "text": [
      "\r",
      "42it [00:10,  4.49it/s]"
     ]
    },
    {
     "name": "stderr",
     "output_type": "stream",
     "text": [
      "\r",
      "43it [00:10,  4.61it/s]"
     ]
    },
    {
     "name": "stderr",
     "output_type": "stream",
     "text": [
      "\r",
      "44it [00:10,  4.73it/s]"
     ]
    },
    {
     "name": "stderr",
     "output_type": "stream",
     "text": [
      "\r",
      "45it [00:10,  4.67it/s]"
     ]
    },
    {
     "name": "stderr",
     "output_type": "stream",
     "text": [
      "\r",
      "46it [00:11,  4.57it/s]"
     ]
    },
    {
     "name": "stderr",
     "output_type": "stream",
     "text": [
      "\r",
      "47it [00:11,  4.59it/s]"
     ]
    },
    {
     "name": "stderr",
     "output_type": "stream",
     "text": [
      "\r",
      "48it [00:11,  4.59it/s]"
     ]
    },
    {
     "name": "stderr",
     "output_type": "stream",
     "text": [
      "\r",
      "49it [00:11,  4.41it/s]"
     ]
    },
    {
     "name": "stderr",
     "output_type": "stream",
     "text": [
      "\r",
      "50it [00:12,  4.43it/s]"
     ]
    },
    {
     "name": "stderr",
     "output_type": "stream",
     "text": [
      "\r",
      "51it [00:12,  4.19it/s]"
     ]
    },
    {
     "name": "stderr",
     "output_type": "stream",
     "text": [
      "\r",
      "52it [00:12,  4.25it/s]"
     ]
    },
    {
     "name": "stderr",
     "output_type": "stream",
     "text": [
      "\r",
      "53it [00:12,  4.24it/s]"
     ]
    },
    {
     "name": "stderr",
     "output_type": "stream",
     "text": [
      "\r",
      "54it [00:12,  4.33it/s]"
     ]
    },
    {
     "name": "stderr",
     "output_type": "stream",
     "text": [
      "\r",
      "55it [00:13,  4.33it/s]"
     ]
    },
    {
     "name": "stderr",
     "output_type": "stream",
     "text": [
      "\r",
      "56it [00:13,  4.08it/s]"
     ]
    },
    {
     "name": "stderr",
     "output_type": "stream",
     "text": [
      "\r",
      "57it [00:13,  4.33it/s]"
     ]
    },
    {
     "name": "stderr",
     "output_type": "stream",
     "text": [
      "\r",
      "57it [00:13,  4.17it/s]"
     ]
    },
    {
     "name": "stderr",
     "output_type": "stream",
     "text": [
      "\n"
     ]
    }
   ],
   "source": [
    "in_token_probs = []\n",
    "latent_token_probs = []\n",
    "out_token_probs = []\n",
    "entropy = []\n",
    "energy = []\n",
    "latents_all = []\n",
    "\n",
    "for idx, d in tqdm(enumerate(dataset)):\n",
    "    logits,latents = get_logits(llama, d['prompt'],llama_lens)\n",
    "    last = logits[:, -1, :].float().softmax(dim=-1).detach().cpu()\n",
    "    latent_token_probs += [last[:, torch.tensor(d['latent_token_id'])].sum(dim=-1)]\n",
    "    out_token_probs += [last[:, torch.tensor(d['out_token_id'])].sum(dim=-1)]\n",
    "    entropy += [compute_entropy(last)]\n",
    "    latents_all += [latents[:, -1, :].float().detach().cpu().clone()]\n",
    "    latents_normalized = latents[:, -1, :].float()\n",
    "    latents_normalized = latents_normalized / (((latents_normalized**2).mean(dim=-1, keepdim=True))**0.5)\n",
    "    latents_normalized /= (latents_normalized.norm(dim=-1, keepdim=True))\n",
    "    norm = ((U_normalized @ latents_normalized.T)**2).mean(dim=0)**0.5\n",
    "    energy += [norm/avgUU]\n",
    "\n",
    "latent_token_probs = torch.stack(latent_token_probs)\n",
    "out_token_probs = torch.stack(out_token_probs)\n",
    "entropy = torch.stack(entropy)\n",
    "energy = torch.stack(energy)\n",
    "latents = torch.stack(latents_all)"
   ]
  },
  {
   "cell_type": "code",
   "execution_count": 17,
   "id": "680ef0b2",
   "metadata": {
    "execution": {
     "iopub.execute_input": "2024-02-23T20:49:57.672995Z",
     "iopub.status.busy": "2024-02-23T20:49:57.672814Z",
     "iopub.status.idle": "2024-02-23T20:49:58.035819Z",
     "shell.execute_reply": "2024-02-23T20:49:58.035316Z"
    },
    "papermill": {
     "duration": 0.384118,
     "end_time": "2024-02-23T20:49:58.037211",
     "exception": false,
     "start_time": "2024-02-23T20:49:57.653093",
     "status": "completed"
    },
    "tags": []
   },
   "outputs": [
    {
     "name": "stderr",
     "output_type": "stream",
     "text": [
      "/mnt/ssd-1/gpaulo/llm-latent-language/utils.py:52: UserWarning: This figure includes Axes that are not compatible with tight_layout, so results might be incorrect.\n",
      "  plt.tight_layout()\n"
     ]
    },
    {
     "data": {
      "image/png": "[encoded data removed]",
      "text/plain": [
       "<Figure size 500x300 with 3 Axes>"
      ]
     },
     "metadata": {},
     "output_type": "display_data"
    }
   ],
   "source": [
    "size2tik = {'7b': 5, '13b': 5, '70b': 10}\n",
    "fig, ax, ax2 = plot_ci_plus_heatmap(latent_token_probs, entropy, latent, color='tab:orange', tik_step=size2tik[model_size], do_colorbar=True, #, do_colorbar=(model_size=='70b'),\n",
    "nums=[.99, 0.18, 0.025, 0.6])\n",
    "plot_ci(ax2, out_token_probs, target_lang, color='tab:blue', do_lines=False)\n",
    "ax2.set_xlabel('layer')\n",
    "ax2.set_ylabel('probability')\n",
    "if model_size == '7b':\n",
    "    ax2.set_xlim(0, out_token_probs.shape[1]+1)\n",
    "else:\n",
    "    ax2.set_xlim(0, round(out_token_probs.shape[1]/10)*10+1)\n",
    "ax2.set_ylim(0, 1)\n",
    "# make xticks start from 1\n",
    "# put legend on the top left\n",
    "ax2.legend(loc='upper left')\n",
    "os.makedirs(f'{out_dir}/translation', exist_ok=True)\n",
    "\n",
    "plt.savefig(f'{out_dir}/translation/{model_size}_{input_lang}_{target_lang}_probas_ent.jpg', dpi=300, bbox_inches='tight')"
   ]
  },
  {
   "cell_type": "code",
   "execution_count": 18,
   "id": "48c50e4a",
   "metadata": {
    "execution": {
     "iopub.execute_input": "2024-02-23T20:49:58.070983Z",
     "iopub.status.busy": "2024-02-23T20:49:58.070752Z",
     "iopub.status.idle": "2024-02-23T20:49:58.245020Z",
     "shell.execute_reply": "2024-02-23T20:49:58.244550Z"
    },
    "papermill": {
     "duration": 0.190205,
     "end_time": "2024-02-23T20:49:58.245834",
     "exception": false,
     "start_time": "2024-02-23T20:49:58.055629",
     "status": "completed"
    },
    "tags": []
   },
   "outputs": [
    {
     "data": {
      "image/png": "[encoded data removed]",
      "text/plain": [
       "<Figure size 500x300 with 1 Axes>"
      ]
     },
     "metadata": {},
     "output_type": "display_data"
    }
   ],
   "source": [
    "size2tik = {'7b': 5, '13b': 5, '70b': 10}\n",
    "\n",
    "fig, ax2 = plt.subplots(figsize=(5,3))\n",
    "plot_ci(ax2, energy, 'energy', color='tab:green', do_lines=True, tik_step=size2tik[model_size])\n",
    "ax2.set_xlabel('layer')\n",
    "ax2.set_ylabel('energy')\n",
    "if model_size == '7b':\n",
    "    ax2.set_xlim(0, out_token_probs.shape[1]+1)\n",
    "else:\n",
    "    ax2.set_xlim(0, round(out_token_probs.shape[1]/10)*10+1)\n",
    "os.makedirs(f'{out_dir}/translation', exist_ok=True)\n",
    "plt.savefig(f'{out_dir}/translation/{model_size}_{input_lang}_{target_lang}_energy.jpg', dpi=300, bbox_inches='tight')"
   ]
  },
  {
   "cell_type": "code",
   "execution_count": null,
   "id": "de0f66f1",
   "metadata": {
    "papermill": {
     "duration": 0.012932,
     "end_time": "2024-02-23T20:49:58.272138",
     "exception": false,
     "start_time": "2024-02-23T20:49:58.259206",
     "status": "completed"
    },
    "tags": []
   },
   "outputs": [],
   "source": []
  }
 ],
 "metadata": {
  "kernelspec": {
   "display_name": "Python 3 (ipykernel)",
   "language": "python",
   "name": "python3"
  },
  "language_info": {
   "codemirror_mode": {
    "name": "ipython",
    "version": 3
   },
   "file_extension": ".py",
   "mimetype": "text/x-python",
   "name": "python",
   "nbconvert_exporter": "python",
   "pygments_lexer": "ipython3",
   "version": "3.11.5"
  },
  "papermill": {
   "default_parameters": {},
   "duration": 55.230305,
   "end_time": "2024-02-23T20:49:59.508595",
   "environment_variables": {},
   "exception": null,
   "input_path": "Translation.ipynb",
   "output_path": "visuals/executed_notebooks/Translation_logit_13b_fr_fr.ipynb",
   "parameters": {
    "input_lang": "fr",
    "model_size": "13b",
    "target_lang": "fr",
    "type": "logit"
   },
   "start_time": "2024-02-23T20:49:04.278290",
   "version": "2.5.0"
  },
  "widgets": {
   "application/vnd.jupyter.widget-state+json": {
    "state": {
     "01f9dff4ef8d4bb59752c3f3fe6eb01c": {
      "model_module": "@jupyter-widgets/controls",
      "model_module_version": "2.0.0",
      "model_name": "HBoxModel",
      "state": {
       "_dom_classes": [],
       "_model_module": "@jupyter-widgets/controls",
       "_model_module_version": "2.0.0",
       "_model_name": "HBoxModel",
       "_view_count": null,
       "_view_module": "@jupyter-widgets/controls",
       "_view_module_version": "2.0.0",
       "_view_name": "HBoxView",
       "box_style": "",
       "children": [
        "IPY_MODEL_627bbb44672d4abbbec0bc51588805ff",
        "IPY_MODEL_51f8672af3d6452b92a4ce094b4e7e7d",
        "IPY_MODEL_0bb506279aec4a5ba203ad85bbd098f7"
       ],
       "layout": "IPY_MODEL_8c7523c910c245fca37fc7a319174e3e",
       "tabbable": null,
       "tooltip": null
      }
     },
     "0bb506279aec4a5ba203ad85bbd098f7": {
      "model_module": "@jupyter-widgets/controls",
      "model_module_version": "2.0.0",
      "model_name": "HTMLModel",
      "state": {
       "_dom_classes": [],
       "_model_module": "@jupyter-widgets/controls",
       "_model_module_version": "2.0.0",
       "_model_name": "HTMLModel",
       "_view_count": null,
       "_view_module": "@jupyter-widgets/controls",
       "_view_module_version": "2.0.0",
       "_view_name": "HTMLView",
       "description": "",
       "description_allow_html": false,
       "layout": "IPY_MODEL_a2610abeba564dd89692bd25fad6b854",
       "placeholder": "​",
       "style": "IPY_MODEL_8d2e4b86e5f64bb483dd81a26b98889f",
       "tabbable": null,
       "tooltip": null,
       "value": " 3/3 [00:09&lt;00:00,  2.98s/it]"
      }
     },
     "51f8672af3d6452b92a4ce094b4e7e7d": {
      "model_module": "@jupyter-widgets/controls",
      "model_module_version": "2.0.0",
      "model_name": "FloatProgressModel",
      "state": {
       "_dom_classes": [],
       "_model_module": "@jupyter-widgets/controls",
       "_model_module_version": "2.0.0",
       "_model_name": "FloatProgressModel",
       "_view_count": null,
       "_view_module": "@jupyter-widgets/controls",
       "_view_module_version": "2.0.0",
       "_view_name": "ProgressView",
       "bar_style": "success",
       "description": "",
       "description_allow_html": false,
       "layout": "IPY_MODEL_a810f9a4c0e540acaf32760e9163223a",
       "max": 3.0,
       "min": 0.0,
       "orientation": "horizontal",
       "style": "IPY_MODEL_8fc581e011714fce9127f6c3bc780cb4",
       "tabbable": null,
       "tooltip": null,
       "value": 3.0
      }
     },
     "627bbb44672d4abbbec0bc51588805ff": {
      "model_module": "@jupyter-widgets/controls",
      "model_module_version": "2.0.0",
      "model_name": "HTMLModel",
      "state": {
       "_dom_classes": [],
       "_model_module": "@jupyter-widgets/controls",
       "_model_module_version": "2.0.0",
       "_model_name": "HTMLModel",
       "_view_count": null,
       "_view_module": "@jupyter-widgets/controls",
       "_view_module_version": "2.0.0",
       "_view_name": "HTMLView",
       "description": "",
       "description_allow_html": false,
       "layout": "IPY_MODEL_ef41a8a46dd9423ab117e627f7bd53e3",
       "placeholder": "​",
       "style": "IPY_MODEL_896c733d748c4ef2826d9c520734b3cf",
       "tabbable": null,
       "tooltip": null,
       "value": "Loading checkpoint shards: 100%"
      }
     },
     "896c733d748c4ef2826d9c520734b3cf": {
      "model_module": "@jupyter-widgets/controls",
      "model_module_version": "2.0.0",
      "model_name": "HTMLStyleModel",
      "state": {
       "_model_module": "@jupyter-widgets/controls",
       "_model_module_version": "2.0.0",
       "_model_name": "HTMLStyleModel",
       "_view_count": null,
       "_view_module": "@jupyter-widgets/base",
       "_view_module_version": "2.0.0",
       "_view_name": "StyleView",
       "background": null,
       "description_width": "",
       "font_size": null,
       "text_color": null
      }
     },
     "8c7523c910c245fca37fc7a319174e3e": {
      "model_module": "@jupyter-widgets/base",
      "model_module_version": "2.0.0",
      "model_name": "LayoutModel",
      "state": {
       "_model_module": "@jupyter-widgets/base",
       "_model_module_version": "2.0.0",
       "_model_name": "LayoutModel",
       "_view_count": null,
       "_view_module": "@jupyter-widgets/base",
       "_view_module_version": "2.0.0",
       "_view_name": "LayoutView",
       "align_content": null,
       "align_items": null,
       "align_self": null,
       "border_bottom": null,
       "border_left": null,
       "border_right": null,
       "border_top": null,
       "bottom": null,
       "display": null,
       "flex": null,
       "flex_flow": null,
       "grid_area": null,
       "grid_auto_columns": null,
       "grid_auto_flow": null,
       "grid_auto_rows": null,
       "grid_column": null,
       "grid_gap": null,
       "grid_row": null,
       "grid_template_areas": null,
       "grid_template_columns": null,
       "grid_template_rows": null,
       "height": null,
       "justify_content": null,
       "justify_items": null,
       "left": null,
       "margin": null,
       "max_height": null,
       "max_width": null,
       "min_height": null,
       "min_width": null,
       "object_fit": null,
       "object_position": null,
       "order": null,
       "overflow": null,
       "padding": null,
       "right": null,
       "top": null,
       "visibility": null,
       "width": null
      }
     },
     "8d2e4b86e5f64bb483dd81a26b98889f": {
      "model_module": "@jupyter-widgets/controls",
      "model_module_version": "2.0.0",
      "model_name": "HTMLStyleModel",
      "state": {
       "_model_module": "@jupyter-widgets/controls",
       "_model_module_version": "2.0.0",
       "_model_name": "HTMLStyleModel",
       "_view_count": null,
       "_view_module": "@jupyter-widgets/base",
       "_view_module_version": "2.0.0",
       "_view_name": "StyleView",
       "background": null,
       "description_width": "",
       "font_size": null,
       "text_color": null
      }
     },
     "8fc581e011714fce9127f6c3bc780cb4": {
      "model_module": "@jupyter-widgets/controls",
      "model_module_version": "2.0.0",
      "model_name": "ProgressStyleModel",
      "state": {
       "_model_module": "@jupyter-widgets/controls",
       "_model_module_version": "2.0.0",
       "_model_name": "ProgressStyleModel",
       "_view_count": null,
       "_view_module": "@jupyter-widgets/base",
       "_view_module_version": "2.0.0",
       "_view_name": "StyleView",
       "bar_color": null,
       "description_width": ""
      }
     },
     "a2610abeba564dd89692bd25fad6b854": {
      "model_module": "@jupyter-widgets/base",
      "model_module_version": "2.0.0",
      "model_name": "LayoutModel",
      "state": {
       "_model_module": "@jupyter-widgets/base",
       "_model_module_version": "2.0.0",
       "_model_name": "LayoutModel",
       "_view_count": null,
       "_view_module": "@jupyter-widgets/base",
       "_view_module_version": "2.0.0",
       "_view_name": "LayoutView",
       "align_content": null,
       "align_items": null,
       "align_self": null,
       "border_bottom": null,
       "border_left": null,
       "border_right": null,
       "border_top": null,
       "bottom": null,
       "display": null,
       "flex": null,
       "flex_flow": null,
       "grid_area": null,
       "grid_auto_columns": null,
       "grid_auto_flow": null,
       "grid_auto_rows": null,
       "grid_column": null,
       "grid_gap": null,
       "grid_row": null,
       "grid_template_areas": null,
       "grid_template_columns": null,
       "grid_template_rows": null,
       "height": null,
       "justify_content": null,
       "justify_items": null,
       "left": null,
       "margin": null,
       "max_height": null,
       "max_width": null,
       "min_height": null,
       "min_width": null,
       "object_fit": null,
       "object_position": null,
       "order": null,
       "overflow": null,
       "padding": null,
       "right": null,
       "top": null,
       "visibility": null,
       "width": null
      }
     },
     "a810f9a4c0e540acaf32760e9163223a": {
      "model_module": "@jupyter-widgets/base",
      "model_module_version": "2.0.0",
      "model_name": "LayoutModel",
      "state": {
       "_model_module": "@jupyter-widgets/base",
       "_model_module_version": "2.0.0",
       "_model_name": "LayoutModel",
       "_view_count": null,
       "_view_module": "@jupyter-widgets/base",
       "_view_module_version": "2.0.0",
       "_view_name": "LayoutView",
       "align_content": null,
       "align_items": null,
       "align_self": null,
       "border_bottom": null,
       "border_left": null,
       "border_right": null,
       "border_top": null,
       "bottom": null,
       "display": null,
       "flex": null,
       "flex_flow": null,
       "grid_area": null,
       "grid_auto_columns": null,
       "grid_auto_flow": null,
       "grid_auto_rows": null,
       "grid_column": null,
       "grid_gap": null,
       "grid_row": null,
       "grid_template_areas": null,
       "grid_template_columns": null,
       "grid_template_rows": null,
       "height": null,
       "justify_content": null,
       "justify_items": null,
       "left": null,
       "margin": null,
       "max_height": null,
       "max_width": null,
       "min_height": null,
       "min_width": null,
       "object_fit": null,
       "object_position": null,
       "order": null,
       "overflow": null,
       "padding": null,
       "right": null,
       "top": null,
       "visibility": null,
       "width": null
      }
     },
     "ef41a8a46dd9423ab117e627f7bd53e3": {
      "model_module": "@jupyter-widgets/base",
      "model_module_version": "2.0.0",
      "model_name": "LayoutModel",
      "state": {
       "_model_module": "@jupyter-widgets/base",
       "_model_module_version": "2.0.0",
       "_model_name": "LayoutModel",
       "_view_count": null,
       "_view_module": "@jupyter-widgets/base",
       "_view_module_version": "2.0.0",
       "_view_name": "LayoutView",
       "align_content": null,
       "align_items": null,
       "align_self": null,
       "border_bottom": null,
       "border_left": null,
       "border_right": null,
       "border_top": null,
       "bottom": null,
       "display": null,
       "flex": null,
       "flex_flow": null,
       "grid_area": null,
       "grid_auto_columns": null,
       "grid_auto_flow": null,
       "grid_auto_rows": null,
       "grid_column": null,
       "grid_gap": null,
       "grid_row": null,
       "grid_template_areas": null,
       "grid_template_columns": null,
       "grid_template_rows": null,
       "height": null,
       "justify_content": null,
       "justify_items": null,
       "left": null,
       "margin": null,
       "max_height": null,
       "max_width": null,
       "min_height": null,
       "min_width": null,
       "object_fit": null,
       "object_position": null,
       "order": null,
       "overflow": null,
       "padding": null,
       "right": null,
       "top": null,
       "visibility": null,
       "width": null
      }
     }
    },
    "version_major": 2,
    "version_minor": 0
   }
  }
 },
 "nbformat": 4,
 "nbformat_minor": 5
}