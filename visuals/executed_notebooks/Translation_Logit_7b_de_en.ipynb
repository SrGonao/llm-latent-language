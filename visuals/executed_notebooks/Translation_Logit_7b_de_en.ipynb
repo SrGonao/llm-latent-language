{
 "cells": [
  {
   "cell_type": "code",
   "execution_count": 1,
   "id": "9e266eca-b017-461f-9be4-bec02cae9b28",
   "metadata": {
    "execution": {
     "iopub.execute_input": "2024-02-23T16:06:55.998102Z",
     "iopub.status.busy": "2024-02-23T16:06:55.997939Z",
     "iopub.status.idle": "2024-02-23T16:06:56.010319Z",
     "shell.execute_reply": "2024-02-23T16:06:56.009992Z"
    },
    "papermill": {
     "duration": 0.018951,
     "end_time": "2024-02-23T16:06:56.011155",
     "exception": false,
     "start_time": "2024-02-23T16:06:55.992204",
     "status": "completed"
    },
    "tags": []
   },
   "outputs": [],
   "source": [
    "%load_ext autoreload\n",
    "%autoreload 2"
   ]
  },
  {
   "cell_type": "code",
   "execution_count": 2,
   "id": "fae8a7a9-6902-424e-8e66-b107fccb361f",
   "metadata": {
    "execution": {
     "iopub.execute_input": "2024-02-23T16:06:56.018122Z",
     "iopub.status.busy": "2024-02-23T16:06:56.017975Z",
     "iopub.status.idle": "2024-02-23T16:06:58.917579Z",
     "shell.execute_reply": "2024-02-23T16:06:58.917008Z"
    },
    "papermill": {
     "duration": 2.904211,
     "end_time": "2024-02-23T16:06:58.918796",
     "exception": false,
     "start_time": "2024-02-23T16:06:56.014585",
     "status": "completed"
    },
    "tags": []
   },
   "outputs": [],
   "source": [
    "import pandas as pd\n",
    "import sys\n",
    "import os\n",
    "from dataclasses import dataclass\n",
    "import json\n",
    "import numpy as np\n",
    "from matplotlib import pyplot as plt\n",
    "import seaborn as sns\n",
    "import torch\n",
    "import torch.nn as nn\n",
    "from llamawrapper import load_unemb_only, LlamaHelper\n",
    "import seaborn as sns\n",
    "from scipy.stats import bootstrap\n",
    "from utils import plot_ci, plot_ci_plus_heatmap\n",
    "from tqdm import tqdm\n",
    "from transformers import AutoModelForCausalLM, AutoTokenizer\n",
    "# fix random seed\n",
    "seed = 42\n",
    "np.random.seed(seed)\n",
    "torch.manual_seed(seed)\n",
    "sys.path.append('../tuned-lens')\n",
    "from tuned_lens.nn.lenses import TunedLens,LogitLens"
   ]
  },
  {
   "cell_type": "code",
   "execution_count": 3,
   "id": "1fb93987",
   "metadata": {
    "execution": {
     "iopub.execute_input": "2024-02-23T16:06:58.927382Z",
     "iopub.status.busy": "2024-02-23T16:06:58.927094Z",
     "iopub.status.idle": "2024-02-23T16:06:58.956546Z",
     "shell.execute_reply": "2024-02-23T16:06:58.956052Z"
    },
    "papermill": {
     "duration": 0.03429,
     "end_time": "2024-02-23T16:06:58.957403",
     "exception": false,
     "start_time": "2024-02-23T16:06:58.923113",
     "status": "completed"
    },
    "tags": [
     "parameters"
    ]
   },
   "outputs": [],
   "source": [
    "input_lang = 'fr'\n",
    "target_lang = 'fr'\n",
    "model_size = '7b'\n",
    "prefix = \"./data/langs/\"\n",
    "type = 'logit'"
   ]
  },
  {
   "cell_type": "code",
   "execution_count": 4,
   "id": "e8e44c4c",
   "metadata": {
    "execution": {
     "iopub.execute_input": "2024-02-23T16:06:58.965682Z",
     "iopub.status.busy": "2024-02-23T16:06:58.965383Z",
     "iopub.status.idle": "2024-02-23T16:06:58.994629Z",
     "shell.execute_reply": "2024-02-23T16:06:58.994228Z"
    },
    "papermill": {
     "duration": 0.034616,
     "end_time": "2024-02-23T16:06:58.995579",
     "exception": false,
     "start_time": "2024-02-23T16:06:58.960963",
     "status": "completed"
    },
    "tags": [
     "injected-parameters"
    ]
   },
   "outputs": [],
   "source": [
    "# Parameters\n",
    "model_size = \"7b\"\n",
    "target_lang = \"en\"\n",
    "input_lang = \"de\"\n",
    "type = \"logit\"\n"
   ]
  },
  {
   "cell_type": "code",
   "execution_count": 5,
   "id": "33747213",
   "metadata": {
    "execution": {
     "iopub.execute_input": "2024-02-23T16:06:59.003151Z",
     "iopub.status.busy": "2024-02-23T16:06:59.002867Z",
     "iopub.status.idle": "2024-02-23T16:07:04.658678Z",
     "shell.execute_reply": "2024-02-23T16:07:04.658130Z"
    },
    "papermill": {
     "duration": 5.660711,
     "end_time": "2024-02-23T16:07:04.659714",
     "exception": false,
     "start_time": "2024-02-23T16:06:58.999003",
     "status": "completed"
    },
    "tags": []
   },
   "outputs": [
    {
     "data": {
      "application/vnd.jupyter.widget-view+json": {
       "model_id": "4fce660065b64865aef8ff172cb6cffb",
       "version_major": 2,
       "version_minor": 0
      },
      "text/plain": [
       "Loading checkpoint shards:   0%|          | 0/2 [00:00<?, ?it/s]"
      ]
     },
     "metadata": {},
     "output_type": "display_data"
    }
   ],
   "source": [
    "df_en_input = pd.read_csv(f'{prefix}{input_lang}/clean.csv').reindex()\n",
    "df_en_target = pd.read_csv(f'{prefix}{target_lang}/clean.csv').reindex()\n",
    "llama = AutoModelForCausalLM.from_pretrained(  # type: ignore\n",
    "                f\"meta-llama/Llama-2-{model_size}-hf\",\n",
    "                device_map={\"\": \"cuda\"},\n",
    "                revision=\"main\",\n",
    "                torch_dtype=\"auto\",\n",
    "                local_files_only=\"true\",cache_dir=\"/mnt/ssd-1/hf_cache/\"\n",
    "            )\n",
    "    \n",
    "latent=\"en\"\n",
    "if type == 'logit':\n",
    "    llama_lens = LogitLens.from_model(llama).to(\"cuda\")\n",
    "    out_dir = f'./visuals/logit'\n",
    "if type == 'tuned':\n",
    "    llama_lens = TunedLens.from_model_and_pretrained(llama,f\"meta-llama/Llama-2-{model_size}-hf\").to(\"cuda\")\n",
    "    out_dir = f'./visuals/tuned'\n",
    "if type == 'tuned-chinese':\n",
    "    llama_lens = TunedLens.from_model_and_pretrained(llama,\"../tuned-lens/my_lenses/chinese\").to(\"cuda\")\n",
    "    out_dir = f'./visuals/tuned-chinese'\n",
    "    latent = 'zh'\n",
    "llama_lens = LogitLens.from_model(llama).to(\"cuda\")\n",
    "tokenizer = AutoTokenizer.from_pretrained(\n",
    "                f\"meta-llama/Llama-2-7b-hf\",local_files_only=\"true\",cache_dir=\"/mnt/ssd-1/hf_cache/\"\n",
    "            )"
   ]
  },
  {
   "cell_type": "code",
   "execution_count": 6,
   "id": "bc45e052",
   "metadata": {
    "execution": {
     "iopub.execute_input": "2024-02-23T16:07:04.670015Z",
     "iopub.status.busy": "2024-02-23T16:07:04.669872Z",
     "iopub.status.idle": "2024-02-23T16:07:05.809770Z",
     "shell.execute_reply": "2024-02-23T16:07:05.809246Z"
    },
    "papermill": {
     "duration": 1.145124,
     "end_time": "2024-02-23T16:07:05.810550",
     "exception": false,
     "start_time": "2024-02-23T16:07:04.665426",
     "status": "completed"
    },
    "tags": []
   },
   "outputs": [
    {
     "name": "stdout",
     "output_type": "stream",
     "text": [
      "Sequential(\n",
      "  (0): LlamaRMSNorm()\n",
      "  (1): Linear(in_features=4096, out_features=32000, bias=False)\n",
      ")\n",
      "U torch.Size([32000, 4096]) weights torch.Size([1, 4096])\n"
     ]
    },
    {
     "name": "stdout",
     "output_type": "stream",
     "text": [
      "0.058621685951948166\n"
     ]
    }
   ],
   "source": [
    "unemb = nn.Sequential(llama.model.norm, llama.lm_head)\n",
    "print(unemb)\n",
    "# prepare for energy plots\n",
    "U = list(unemb[1].parameters())[0].detach().cpu().float()\n",
    "weights = list(unemb[0].parameters())[0].detach().cpu().float()\n",
    "print(f'U {U.shape} weights {weights.unsqueeze(0).shape}')\n",
    "U_weighted = U.clone() \n",
    "#U_weighted = U_weighted / ((U_weighted**2).mean(dim=1, keepdim=True))**0.5\n",
    "U_weighted *= weights.unsqueeze(0)\n",
    "U_normalized = U_weighted / ((U_weighted**2).sum(dim=1, keepdim=True))**0.5\n",
    "v = U.shape[0]\n",
    "TT = U_normalized.T @ U_normalized\n",
    "avgUU = (((U_normalized.T @ U_normalized)**2).sum() / v**2)**0.5\n",
    "print(avgUU.item())"
   ]
  },
  {
   "cell_type": "code",
   "execution_count": 7,
   "id": "5686a8d5",
   "metadata": {
    "execution": {
     "iopub.execute_input": "2024-02-23T16:07:05.820207Z",
     "iopub.status.busy": "2024-02-23T16:07:05.819914Z",
     "iopub.status.idle": "2024-02-23T16:07:07.060149Z",
     "shell.execute_reply": "2024-02-23T16:07:07.059665Z"
    },
    "papermill": {
     "duration": 1.24494,
     "end_time": "2024-02-23T16:07:07.060971",
     "exception": false,
     "start_time": "2024-02-23T16:07:05.816031",
     "status": "completed"
    },
    "tags": []
   },
   "outputs": [
    {
     "name": "stdout",
     "output_type": "stream",
     "text": [
      "for en 132 of 132 are single tokens\n",
      "final length of df_en_en_de: 120\n"
     ]
    }
   ],
   "source": [
    "count = 0\n",
    "for idx, word in enumerate(df_en_target['word_translation']):\n",
    "    if word in tokenizer.get_vocab() or '▁'+word in tokenizer.get_vocab():\n",
    "        count += 1\n",
    "\n",
    "print(f'for {target_lang} {count} of {len(df_en_target)} are single tokens')\n",
    "\n",
    "if input_lang == target_lang:\n",
    "    df_en_target_input = df_en_target.copy()\n",
    "    df_en_target_input.rename(columns={'word_original': 'en', \n",
    "                                f'word_translation': target_lang if target_lang != 'en' else 'en_tgt'}, \n",
    "                                inplace=True)\n",
    "else:\n",
    "    df_en_target_input = df_en_target.merge(df_en_input, on=['word_original'], suffixes=(f'_{target_lang}', f'_{input_lang}'))\n",
    "    df_en_target_input.rename(columns={'word_original': 'en', \n",
    "                                f'word_translation_{target_lang}': target_lang if target_lang != 'en' else 'en_tgt', \n",
    "                                f'word_translation_{input_lang}': input_lang if input_lang != 'en' else 'en_in'}, \n",
    "                                inplace=True)\n",
    "# delete all rows where en is contained in de or fr\n",
    "if target_lang != 'en':\n",
    "    for i, row in df_en_target_input.iterrows():\n",
    "        if row['en'].lower() in row[target_lang].lower():\n",
    "            df_en_target_input.drop(i, inplace=True)\n",
    "\n",
    "print(f'final length of df_en_{target_lang}_{input_lang}: {len(df_en_target_input)}')"
   ]
  },
  {
   "cell_type": "code",
   "execution_count": 8,
   "id": "eed300f4",
   "metadata": {
    "execution": {
     "iopub.execute_input": "2024-02-23T16:07:07.070501Z",
     "iopub.status.busy": "2024-02-23T16:07:07.070331Z",
     "iopub.status.idle": "2024-02-23T16:07:07.108189Z",
     "shell.execute_reply": "2024-02-23T16:07:07.107819Z"
    },
    "papermill": {
     "duration": 0.042586,
     "end_time": "2024-02-23T16:07:07.108942",
     "exception": false,
     "start_time": "2024-02-23T16:07:07.066356",
     "status": "completed"
    },
    "tags": []
   },
   "outputs": [
    {
     "data": {
      "text/html": [
       "<div>\n",
       "<style scoped>\n",
       "    .dataframe tbody tr th:only-of-type {\n",
       "        vertical-align: middle;\n",
       "    }\n",
       "\n",
       "    .dataframe tbody tr th {\n",
       "        vertical-align: top;\n",
       "    }\n",
       "\n",
       "    .dataframe thead th {\n",
       "        text-align: right;\n",
       "    }\n",
       "</style>\n",
       "<table border=\"1\" class=\"dataframe\">\n",
       "  <thead>\n",
       "    <tr style=\"text-align: right;\">\n",
       "      <th></th>\n",
       "      <th>lang_en</th>\n",
       "      <th>en</th>\n",
       "      <th>en_tgt</th>\n",
       "      <th>blank_prompt_original_en</th>\n",
       "      <th>blank_prompt_translation_en</th>\n",
       "      <th>blank_prompt_translation_masked_en</th>\n",
       "      <th>error_en</th>\n",
       "      <th>lang_de</th>\n",
       "      <th>de</th>\n",
       "      <th>blank_prompt_original_de</th>\n",
       "      <th>blank_prompt_translation_de</th>\n",
       "      <th>blank_prompt_translation_masked_de</th>\n",
       "      <th>error_de</th>\n",
       "    </tr>\n",
       "  </thead>\n",
       "  <tbody>\n",
       "    <tr>\n",
       "      <th>0</th>\n",
       "      <td>en</td>\n",
       "      <td>book</td>\n",
       "      <td>book</td>\n",
       "      <td>A \"book\" is used to read stories. Answer: \"book\".</td>\n",
       "      <td>A \"book\" is used to read stories. Answer: \"book\".</td>\n",
       "      <td>A \"___\" is used to read stories. Answer: \"book\".</td>\n",
       "      <td>no error</td>\n",
       "      <td>de</td>\n",
       "      <td>Buch</td>\n",
       "      <td>A \"book\" is used to read stories. Answer: \"book\".</td>\n",
       "      <td>Ein \"Buch\" wird verwendet, um Geschichten zu l...</td>\n",
       "      <td>Ein \"___\" wird verwendet, um Geschichten zu le...</td>\n",
       "      <td>no error</td>\n",
       "    </tr>\n",
       "    <tr>\n",
       "      <th>1</th>\n",
       "      <td>en</td>\n",
       "      <td>cloud</td>\n",
       "      <td>cloud</td>\n",
       "      <td>A \"cloud\" is a visible mass of condensed water...</td>\n",
       "      <td>A \"cloud\" is a visible mass of condensed water...</td>\n",
       "      <td>A \"___\" is a visible mass of condensed water v...</td>\n",
       "      <td>no error</td>\n",
       "      <td>de</td>\n",
       "      <td>Wolke</td>\n",
       "      <td>A \"cloud\" is a visible mass of condensed water...</td>\n",
       "      <td>Eine \"Wolke\" ist eine sichtbare Masse aus kond...</td>\n",
       "      <td>Eine \"___\" ist eine sichtbare Masse aus konden...</td>\n",
       "      <td>no error</td>\n",
       "    </tr>\n",
       "    <tr>\n",
       "      <th>2</th>\n",
       "      <td>en</td>\n",
       "      <td>bag</td>\n",
       "      <td>bag</td>\n",
       "      <td>A \"bag\" is used to carry items. Answer: \"bag\".</td>\n",
       "      <td>A \"bag\" is used to carry items. Answer: \"bag\".</td>\n",
       "      <td>A \"___\" is used to carry items. Answer: \"bag\".</td>\n",
       "      <td>no error</td>\n",
       "      <td>de</td>\n",
       "      <td>Tasche</td>\n",
       "      <td>A \"bag\" is used to carry items. Answer: \"bag\".</td>\n",
       "      <td>Eine \"Tasche\" wird zum Tragen von Gegenständen...</td>\n",
       "      <td>Eine \"___\" wird zum Tragen von Gegenständen ve...</td>\n",
       "      <td>no error</td>\n",
       "    </tr>\n",
       "    <tr>\n",
       "      <th>3</th>\n",
       "      <td>en</td>\n",
       "      <td>mouth</td>\n",
       "      <td>mouth</td>\n",
       "      <td>A \"mouth\" is used to eat food and speak. Answe...</td>\n",
       "      <td>A \"mouth\" is used to eat food and speak. Answe...</td>\n",
       "      <td>A \"___\" is used to eat food and speak. Answer:...</td>\n",
       "      <td>no error</td>\n",
       "      <td>de</td>\n",
       "      <td>Mund</td>\n",
       "      <td>A \"mouth\" is used to eat food and speak. Answe...</td>\n",
       "      <td>Ein \"Mund\" wird zum Essen und Sprechen benutzt...</td>\n",
       "      <td>Ein \"___\" wird zum Essen und Sprechen benutzt....</td>\n",
       "      <td>no error</td>\n",
       "    </tr>\n",
       "    <tr>\n",
       "      <th>4</th>\n",
       "      <td>en</td>\n",
       "      <td>soil</td>\n",
       "      <td>soil</td>\n",
       "      <td>\"A \"soil\" is used for planting trees and crops...</td>\n",
       "      <td>\"A \"soil\" is used for planting trees and crops...</td>\n",
       "      <td>\"A \"___\" is used for planting trees and crops....</td>\n",
       "      <td>no error</td>\n",
       "      <td>de</td>\n",
       "      <td>Boden</td>\n",
       "      <td>\"A \"soil\" is used for planting trees and crops...</td>\n",
       "      <td>\"Ein \"Boden\" wird für die Anpflanzung von Bäum...</td>\n",
       "      <td>\"Ein \"___\" wird für die Anpflanzung von Bäumen...</td>\n",
       "      <td>no error</td>\n",
       "    </tr>\n",
       "    <tr>\n",
       "      <th>...</th>\n",
       "      <td>...</td>\n",
       "      <td>...</td>\n",
       "      <td>...</td>\n",
       "      <td>...</td>\n",
       "      <td>...</td>\n",
       "      <td>...</td>\n",
       "      <td>...</td>\n",
       "      <td>...</td>\n",
       "      <td>...</td>\n",
       "      <td>...</td>\n",
       "      <td>...</td>\n",
       "      <td>...</td>\n",
       "      <td>...</td>\n",
       "    </tr>\n",
       "    <tr>\n",
       "      <th>115</th>\n",
       "      <td>en</td>\n",
       "      <td>office</td>\n",
       "      <td>office</td>\n",
       "      <td>An \"office\" is a place where people usually do...</td>\n",
       "      <td>An \"office\" is a place where people usually do...</td>\n",
       "      <td>An \"___\" is a place where people usually do th...</td>\n",
       "      <td>no error</td>\n",
       "      <td>de</td>\n",
       "      <td>Büro</td>\n",
       "      <td>An \"office\" is a place where people usually do...</td>\n",
       "      <td>Ein \"Büro\" ist ein Ort, an dem Menschen normal...</td>\n",
       "      <td>Ein \"___\" ist ein Ort, an dem Menschen normale...</td>\n",
       "      <td>no error</td>\n",
       "    </tr>\n",
       "    <tr>\n",
       "      <th>116</th>\n",
       "      <td>en</td>\n",
       "      <td>rise</td>\n",
       "      <td>rise</td>\n",
       "      <td>\"A \"rise\" is used to describe an increase or u...</td>\n",
       "      <td>\"A \"rise\" is used to describe an increase or u...</td>\n",
       "      <td>\"A \"___\" is used to describe an increase or up...</td>\n",
       "      <td>no error</td>\n",
       "      <td>de</td>\n",
       "      <td>Anstieg</td>\n",
       "      <td>\"A \"rise\" is used to describe an increase or u...</td>\n",
       "      <td>\"Ein \"Anstieg\" wird verwendet, um einen Anstie...</td>\n",
       "      <td>\"Ein \"___\" wird verwendet, um einen Anstieg od...</td>\n",
       "      <td>no error</td>\n",
       "    </tr>\n",
       "    <tr>\n",
       "      <th>117</th>\n",
       "      <td>en</td>\n",
       "      <td>left</td>\n",
       "      <td>left</td>\n",
       "      <td>'A \"left\" is a direction opposite to right. An...</td>\n",
       "      <td>'A \"left\" is a direction opposite to right. An...</td>\n",
       "      <td>'A \"___\" is a direction opposite to right. Ans...</td>\n",
       "      <td>no error</td>\n",
       "      <td>de</td>\n",
       "      <td>links</td>\n",
       "      <td>'A \"left\" is a direction opposite to right. An...</td>\n",
       "      <td>Ein \"links\" ist eine Richtung, die der rechten...</td>\n",
       "      <td>Ein \"___\" ist eine Richtung, die der rechten e...</td>\n",
       "      <td>no error</td>\n",
       "    </tr>\n",
       "    <tr>\n",
       "      <th>118</th>\n",
       "      <td>en</td>\n",
       "      <td>power</td>\n",
       "      <td>power</td>\n",
       "      <td>\"A \"power\" is used to control or influence peo...</td>\n",
       "      <td>\"A \"power\" is used to control or influence peo...</td>\n",
       "      <td>\"A \"___\" is used to control or influence peopl...</td>\n",
       "      <td>no error</td>\n",
       "      <td>de</td>\n",
       "      <td>Macht</td>\n",
       "      <td>\"A \"power\" is used to control or influence peo...</td>\n",
       "      <td>\"Eine \"Macht\" wird benutzt, um Menschen oder D...</td>\n",
       "      <td>\"Eine \"___\" wird benutzt, um Menschen oder Din...</td>\n",
       "      <td>no error</td>\n",
       "    </tr>\n",
       "    <tr>\n",
       "      <th>119</th>\n",
       "      <td>en</td>\n",
       "      <td>summer</td>\n",
       "      <td>summer</td>\n",
       "      <td>\"The \"summer\" is a season known for its warm w...</td>\n",
       "      <td>\"The \"summer\" is a season known for its warm w...</td>\n",
       "      <td>\"The \"___\" is a season known for its warm weat...</td>\n",
       "      <td>no error</td>\n",
       "      <td>de</td>\n",
       "      <td>Sommer</td>\n",
       "      <td>\"The \"summer\" is a season known for its warm w...</td>\n",
       "      <td>\"Der \"Sommer\" ist eine Jahreszeit, die für ihr...</td>\n",
       "      <td>\"Der \"___\" ist eine Jahreszeit, die für ihr wa...</td>\n",
       "      <td>no error</td>\n",
       "    </tr>\n",
       "  </tbody>\n",
       "</table>\n",
       "<p>120 rows × 13 columns</p>\n",
       "</div>"
      ],
      "text/plain": [
       "    lang_en      en  en_tgt  \\\n",
       "0        en    book    book   \n",
       "1        en   cloud   cloud   \n",
       "2        en     bag     bag   \n",
       "3        en   mouth   mouth   \n",
       "4        en    soil    soil   \n",
       "..      ...     ...     ...   \n",
       "115      en  office  office   \n",
       "116      en    rise    rise   \n",
       "117      en    left    left   \n",
       "118      en   power   power   \n",
       "119      en  summer  summer   \n",
       "\n",
       "                              blank_prompt_original_en  \\\n",
       "0    A \"book\" is used to read stories. Answer: \"book\".   \n",
       "1    A \"cloud\" is a visible mass of condensed water...   \n",
       "2       A \"bag\" is used to carry items. Answer: \"bag\".   \n",
       "3    A \"mouth\" is used to eat food and speak. Answe...   \n",
       "4    \"A \"soil\" is used for planting trees and crops...   \n",
       "..                                                 ...   \n",
       "115  An \"office\" is a place where people usually do...   \n",
       "116  \"A \"rise\" is used to describe an increase or u...   \n",
       "117  'A \"left\" is a direction opposite to right. An...   \n",
       "118  \"A \"power\" is used to control or influence peo...   \n",
       "119  \"The \"summer\" is a season known for its warm w...   \n",
       "\n",
       "                           blank_prompt_translation_en  \\\n",
       "0    A \"book\" is used to read stories. Answer: \"book\".   \n",
       "1    A \"cloud\" is a visible mass of condensed water...   \n",
       "2       A \"bag\" is used to carry items. Answer: \"bag\".   \n",
       "3    A \"mouth\" is used to eat food and speak. Answe...   \n",
       "4    \"A \"soil\" is used for planting trees and crops...   \n",
       "..                                                 ...   \n",
       "115  An \"office\" is a place where people usually do...   \n",
       "116  \"A \"rise\" is used to describe an increase or u...   \n",
       "117  'A \"left\" is a direction opposite to right. An...   \n",
       "118  \"A \"power\" is used to control or influence peo...   \n",
       "119  \"The \"summer\" is a season known for its warm w...   \n",
       "\n",
       "                    blank_prompt_translation_masked_en  error_en lang_de  \\\n",
       "0     A \"___\" is used to read stories. Answer: \"book\".  no error      de   \n",
       "1    A \"___\" is a visible mass of condensed water v...  no error      de   \n",
       "2       A \"___\" is used to carry items. Answer: \"bag\".  no error      de   \n",
       "3    A \"___\" is used to eat food and speak. Answer:...  no error      de   \n",
       "4    \"A \"___\" is used for planting trees and crops....  no error      de   \n",
       "..                                                 ...       ...     ...   \n",
       "115  An \"___\" is a place where people usually do th...  no error      de   \n",
       "116  \"A \"___\" is used to describe an increase or up...  no error      de   \n",
       "117  'A \"___\" is a direction opposite to right. Ans...  no error      de   \n",
       "118  \"A \"___\" is used to control or influence peopl...  no error      de   \n",
       "119  \"The \"___\" is a season known for its warm weat...  no error      de   \n",
       "\n",
       "          de                           blank_prompt_original_de  \\\n",
       "0       Buch  A \"book\" is used to read stories. Answer: \"book\".   \n",
       "1      Wolke  A \"cloud\" is a visible mass of condensed water...   \n",
       "2     Tasche     A \"bag\" is used to carry items. Answer: \"bag\".   \n",
       "3       Mund  A \"mouth\" is used to eat food and speak. Answe...   \n",
       "4      Boden  \"A \"soil\" is used for planting trees and crops...   \n",
       "..       ...                                                ...   \n",
       "115     Büro  An \"office\" is a place where people usually do...   \n",
       "116  Anstieg  \"A \"rise\" is used to describe an increase or u...   \n",
       "117    links  'A \"left\" is a direction opposite to right. An...   \n",
       "118    Macht  \"A \"power\" is used to control or influence peo...   \n",
       "119   Sommer  \"The \"summer\" is a season known for its warm w...   \n",
       "\n",
       "                           blank_prompt_translation_de  \\\n",
       "0    Ein \"Buch\" wird verwendet, um Geschichten zu l...   \n",
       "1    Eine \"Wolke\" ist eine sichtbare Masse aus kond...   \n",
       "2    Eine \"Tasche\" wird zum Tragen von Gegenständen...   \n",
       "3    Ein \"Mund\" wird zum Essen und Sprechen benutzt...   \n",
       "4    \"Ein \"Boden\" wird für die Anpflanzung von Bäum...   \n",
       "..                                                 ...   \n",
       "115  Ein \"Büro\" ist ein Ort, an dem Menschen normal...   \n",
       "116  \"Ein \"Anstieg\" wird verwendet, um einen Anstie...   \n",
       "117  Ein \"links\" ist eine Richtung, die der rechten...   \n",
       "118  \"Eine \"Macht\" wird benutzt, um Menschen oder D...   \n",
       "119  \"Der \"Sommer\" ist eine Jahreszeit, die für ihr...   \n",
       "\n",
       "                    blank_prompt_translation_masked_de  error_de  \n",
       "0    Ein \"___\" wird verwendet, um Geschichten zu le...  no error  \n",
       "1    Eine \"___\" ist eine sichtbare Masse aus konden...  no error  \n",
       "2    Eine \"___\" wird zum Tragen von Gegenständen ve...  no error  \n",
       "3    Ein \"___\" wird zum Essen und Sprechen benutzt....  no error  \n",
       "4    \"Ein \"___\" wird für die Anpflanzung von Bäumen...  no error  \n",
       "..                                                 ...       ...  \n",
       "115  Ein \"___\" ist ein Ort, an dem Menschen normale...  no error  \n",
       "116  \"Ein \"___\" wird verwendet, um einen Anstieg od...  no error  \n",
       "117  Ein \"___\" ist eine Richtung, die der rechten e...  no error  \n",
       "118  \"Eine \"___\" wird benutzt, um Menschen oder Din...  no error  \n",
       "119  \"Der \"___\" ist eine Jahreszeit, die für ihr wa...  no error  \n",
       "\n",
       "[120 rows x 13 columns]"
      ]
     },
     "execution_count": 8,
     "metadata": {},
     "output_type": "execute_result"
    }
   ],
   "source": [
    "df_en_target_input"
   ]
  },
  {
   "cell_type": "code",
   "execution_count": 9,
   "id": "f0c0a52d",
   "metadata": {
    "execution": {
     "iopub.execute_input": "2024-02-23T16:07:07.118001Z",
     "iopub.status.busy": "2024-02-23T16:07:07.117702Z",
     "iopub.status.idle": "2024-02-23T16:07:07.149546Z",
     "shell.execute_reply": "2024-02-23T16:07:07.149168Z"
    },
    "papermill": {
     "duration": 0.03737,
     "end_time": "2024-02-23T16:07:07.150484",
     "exception": false,
     "start_time": "2024-02-23T16:07:07.113114",
     "status": "completed"
    },
    "tags": []
   },
   "outputs": [],
   "source": [
    "def token_prefixes(token_str: str):\n",
    "    n = len(token_str)\n",
    "    tokens = [token_str[:i] for i in range(1, n+1)]\n",
    "    return tokens \n",
    "\n",
    "def add_spaces(tokens):\n",
    "    return ['▁' + t for t in tokens] + tokens\n",
    "\n",
    "def capitalizations(tokens):\n",
    "    return list(set(tokens))\n",
    "\n",
    "def unicode_prefix_tokid(zh_char = \"云\", tokenizer=tokenizer):\n",
    "    start = zh_char.encode().__str__()[2:-1].split('\\\\x')[1]\n",
    "    unicode_format = '<0x%s>'\n",
    "    start_key = unicode_format%start.upper()\n",
    "    if start_key in tokenizer.get_vocab():\n",
    "        return tokenizer.get_vocab()[start_key]\n",
    "    return None\n",
    "\n",
    "def process_tokens(token_str: str, tokenizer, lang):\n",
    "    with_prefixes = token_prefixes(token_str)\n",
    "    with_spaces = add_spaces(with_prefixes)\n",
    "    with_capitalizations = capitalizations(with_spaces)\n",
    "    final_tokens = []\n",
    "    for tok in with_capitalizations:\n",
    "        if tok in tokenizer.get_vocab():\n",
    "            final_tokens.append(tokenizer.get_vocab()[tok])\n",
    "    if lang in ['zh', 'ru']:\n",
    "        tokid = unicode_prefix_tokid(token_str, tokenizer)\n",
    "        if tokid is not None:\n",
    "            final_tokens.append(tokid)\n",
    "    return final_tokens"
   ]
  },
  {
   "cell_type": "code",
   "execution_count": 10,
   "id": "faa7bb78",
   "metadata": {
    "execution": {
     "iopub.execute_input": "2024-02-23T16:07:07.160532Z",
     "iopub.status.busy": "2024-02-23T16:07:07.160379Z",
     "iopub.status.idle": "2024-02-23T16:07:07.199643Z",
     "shell.execute_reply": "2024-02-23T16:07:07.199221Z"
    },
    "papermill": {
     "duration": 0.044768,
     "end_time": "2024-02-23T16:07:07.200393",
     "exception": false,
     "start_time": "2024-02-23T16:07:07.155625",
     "status": "completed"
    },
    "tags": []
   },
   "outputs": [],
   "source": [
    "\n",
    "id2voc = {id:voc for voc, id in tokenizer.get_vocab().items()}\n",
    "def get_tokens(token_ids, id2voc=id2voc):\n",
    "    return [id2voc[tokid] for tokid in token_ids]\n",
    "\n",
    "def compute_entropy(probas):\n",
    "    return (-probas*torch.log2(probas)).sum(dim=-1)\n",
    "\n",
    "lang2name = {'fr': 'Français', 'de': 'Deutsch', 'ru': 'Русский', 'en': 'English', 'zh': '中文'}\n",
    "def sample(df, ind, k=5, tokenizer=tokenizer, lang1='fr', lang2='de', lang_latent=latent):\n",
    "    df = df.reset_index(drop=True)\n",
    "    temp = df[df.index!=ind]\n",
    "    sample = pd.concat([temp.sample(k-1), df[df.index==ind]], axis=0)\n",
    "    prompt = \"\"\n",
    "    for idx, (df_idx, row) in enumerate(sample.iterrows()):\n",
    "        if idx < k-1:\n",
    "            prompt += f'{lang2name[lang1]}: \"{row[lang1]}\" - {lang2name[lang2]}: \"{row[lang2]}\"\\n'\n",
    "        else:\n",
    "            prompt += f'{lang2name[lang1]}: \"{row[lang1]}\" - {lang2name[lang2]}: \"'\n",
    "            in_token_str = row[lang1]\n",
    "            out_token_str = row[lang2]\n",
    "            out_token_id = process_tokens(out_token_str, tokenizer, lang2)\n",
    "            latent_token_str = row[lang_latent]\n",
    "            latent_token_id = process_tokens(latent_token_str, tokenizer, latent)\n",
    "            intersection = set(out_token_id).intersection(set(latent_token_id))\n",
    "            if len(out_token_id) == 0 or len(latent_token_id) == 0:\n",
    "                yield None\n",
    "            if lang2 != 'en' and len(intersection) > 0:\n",
    "                yield None\n",
    "            yield {'prompt': prompt, \n",
    "                'out_token_id': out_token_id, \n",
    "                'out_token_str': out_token_str,\n",
    "                'latent_token_id': latent_token_id, \n",
    "                'latent_token_str': latent_token_str, \n",
    "                'in_token_str': in_token_str}"
   ]
  },
  {
   "cell_type": "code",
   "execution_count": 11,
   "id": "500641f5",
   "metadata": {
    "execution": {
     "iopub.execute_input": "2024-02-23T16:07:07.208814Z",
     "iopub.status.busy": "2024-02-23T16:07:07.208663Z",
     "iopub.status.idle": "2024-02-23T16:07:34.612786Z",
     "shell.execute_reply": "2024-02-23T16:07:34.611974Z"
    },
    "papermill": {
     "duration": 27.409095,
     "end_time": "2024-02-23T16:07:34.613681",
     "exception": false,
     "start_time": "2024-02-23T16:07:07.204586",
     "status": "completed"
    },
    "tags": []
   },
   "outputs": [
    {
     "name": "stderr",
     "output_type": "stream",
     "text": [
      "\r",
      "  0%|                                                                                                                                                                                                                 | 0/120 [00:00<?, ?it/s]"
     ]
    },
    {
     "name": "stderr",
     "output_type": "stream",
     "text": [
      "\r",
      "  1%|█▋                                                                                                                                                                                                       | 1/120 [00:00<00:22,  5.25it/s]"
     ]
    },
    {
     "name": "stderr",
     "output_type": "stream",
     "text": [
      "\r",
      "  2%|███▎                                                                                                                                                                                                     | 2/120 [00:00<00:26,  4.40it/s]"
     ]
    },
    {
     "name": "stderr",
     "output_type": "stream",
     "text": [
      "\r",
      "  2%|█████                                                                                                                                                                                                    | 3/120 [00:00<00:23,  5.07it/s]"
     ]
    },
    {
     "name": "stderr",
     "output_type": "stream",
     "text": [
      "\r",
      "  3%|██████▋                                                                                                                                                                                                  | 4/120 [00:00<00:24,  4.78it/s]"
     ]
    },
    {
     "name": "stderr",
     "output_type": "stream",
     "text": [
      "\r",
      "  4%|████████▍                                                                                                                                                                                                | 5/120 [00:01<00:22,  5.09it/s]"
     ]
    },
    {
     "name": "stderr",
     "output_type": "stream",
     "text": [
      "\r",
      "  5%|██████████                                                                                                                                                                                               | 6/120 [00:01<00:27,  4.20it/s]"
     ]
    },
    {
     "name": "stderr",
     "output_type": "stream",
     "text": [
      "\r",
      "  6%|███████████▋                                                                                                                                                                                             | 7/120 [00:01<00:26,  4.26it/s]"
     ]
    },
    {
     "name": "stderr",
     "output_type": "stream",
     "text": [
      "\r",
      "  7%|█████████████▍                                                                                                                                                                                           | 8/120 [00:01<00:25,  4.35it/s]"
     ]
    },
    {
     "name": "stderr",
     "output_type": "stream",
     "text": [
      "\r",
      "  8%|███████████████                                                                                                                                                                                          | 9/120 [00:01<00:24,  4.49it/s]"
     ]
    },
    {
     "name": "stderr",
     "output_type": "stream",
     "text": [
      "\r",
      "  8%|████████████████▋                                                                                                                                                                                       | 10/120 [00:02<00:22,  4.95it/s]"
     ]
    },
    {
     "name": "stderr",
     "output_type": "stream",
     "text": [
      "\r",
      "  9%|██████████████████▎                                                                                                                                                                                     | 11/120 [00:02<00:22,  4.92it/s]"
     ]
    },
    {
     "name": "stderr",
     "output_type": "stream",
     "text": [
      "\r",
      " 10%|████████████████████                                                                                                                                                                                    | 12/120 [00:02<00:23,  4.56it/s]"
     ]
    },
    {
     "name": "stderr",
     "output_type": "stream",
     "text": [
      "\r",
      " 11%|█████████████████████▋                                                                                                                                                                                  | 13/120 [00:02<00:21,  4.92it/s]"
     ]
    },
    {
     "name": "stderr",
     "output_type": "stream",
     "text": [
      "\r",
      " 12%|███████████████████████▎                                                                                                                                                                                | 14/120 [00:02<00:20,  5.07it/s]"
     ]
    },
    {
     "name": "stderr",
     "output_type": "stream",
     "text": [
      "\r",
      " 12%|█████████████████████████                                                                                                                                                                               | 15/120 [00:03<00:24,  4.30it/s]"
     ]
    },
    {
     "name": "stderr",
     "output_type": "stream",
     "text": [
      "\r",
      " 13%|██████████████████████████▋                                                                                                                                                                             | 16/120 [00:03<00:25,  4.06it/s]"
     ]
    },
    {
     "name": "stderr",
     "output_type": "stream",
     "text": [
      "\r",
      " 14%|████████████████████████████▎                                                                                                                                                                           | 17/120 [00:03<00:23,  4.37it/s]"
     ]
    },
    {
     "name": "stderr",
     "output_type": "stream",
     "text": [
      "\r",
      " 15%|██████████████████████████████                                                                                                                                                                          | 18/120 [00:03<00:23,  4.40it/s]"
     ]
    },
    {
     "name": "stderr",
     "output_type": "stream",
     "text": [
      "\r",
      " 16%|███████████████████████████████▋                                                                                                                                                                        | 19/120 [00:04<00:23,  4.38it/s]"
     ]
    },
    {
     "name": "stderr",
     "output_type": "stream",
     "text": [
      "\r",
      " 17%|█████████████████████████████████▎                                                                                                                                                                      | 20/120 [00:04<00:21,  4.60it/s]"
     ]
    },
    {
     "name": "stderr",
     "output_type": "stream",
     "text": [
      "\r",
      " 18%|███████████████████████████████████                                                                                                                                                                     | 21/120 [00:04<00:20,  4.73it/s]"
     ]
    },
    {
     "name": "stderr",
     "output_type": "stream",
     "text": [
      "\r",
      " 18%|████████████████████████████████████▋                                                                                                                                                                   | 22/120 [00:04<00:21,  4.47it/s]"
     ]
    },
    {
     "name": "stderr",
     "output_type": "stream",
     "text": [
      "\r",
      " 19%|██████████████████████████████████████▎                                                                                                                                                                 | 23/120 [00:04<00:19,  4.89it/s]"
     ]
    },
    {
     "name": "stderr",
     "output_type": "stream",
     "text": [
      "\r",
      " 20%|████████████████████████████████████████                                                                                                                                                                | 24/120 [00:05<00:18,  5.08it/s]"
     ]
    },
    {
     "name": "stderr",
     "output_type": "stream",
     "text": [
      "\r",
      " 21%|█████████████████████████████████████████▋                                                                                                                                                              | 25/120 [00:05<00:19,  4.97it/s]"
     ]
    },
    {
     "name": "stderr",
     "output_type": "stream",
     "text": [
      "\r",
      " 22%|███████████████████████████████████████████▎                                                                                                                                                            | 26/120 [00:05<00:18,  5.08it/s]"
     ]
    },
    {
     "name": "stderr",
     "output_type": "stream",
     "text": [
      "\r",
      " 22%|█████████████████████████████████████████████                                                                                                                                                           | 27/120 [00:05<00:16,  5.55it/s]"
     ]
    },
    {
     "name": "stderr",
     "output_type": "stream",
     "text": [
      "\r",
      " 23%|██████████████████████████████████████████████▋                                                                                                                                                         | 28/120 [00:05<00:17,  5.40it/s]"
     ]
    },
    {
     "name": "stderr",
     "output_type": "stream",
     "text": [
      "\r",
      " 24%|████████████████████████████████████████████████▎                                                                                                                                                       | 29/120 [00:06<00:18,  4.83it/s]"
     ]
    },
    {
     "name": "stderr",
     "output_type": "stream",
     "text": [
      "\r",
      " 25%|██████████████████████████████████████████████████                                                                                                                                                      | 30/120 [00:06<00:18,  4.81it/s]"
     ]
    },
    {
     "name": "stderr",
     "output_type": "stream",
     "text": [
      "\r",
      " 26%|███████████████████████████████████████████████████▋                                                                                                                                                    | 31/120 [00:06<00:18,  4.71it/s]"
     ]
    },
    {
     "name": "stderr",
     "output_type": "stream",
     "text": [
      "\r",
      " 27%|█████████████████████████████████████████████████████▎                                                                                                                                                  | 32/120 [00:06<00:21,  4.10it/s]"
     ]
    },
    {
     "name": "stderr",
     "output_type": "stream",
     "text": [
      "\r",
      " 28%|███████████████████████████████████████████████████████                                                                                                                                                 | 33/120 [00:07<00:20,  4.28it/s]"
     ]
    },
    {
     "name": "stderr",
     "output_type": "stream",
     "text": [
      "\r",
      " 28%|████████████████████████████████████████████████████████▋                                                                                                                                               | 34/120 [00:07<00:21,  3.94it/s]"
     ]
    },
    {
     "name": "stderr",
     "output_type": "stream",
     "text": [
      "\r",
      " 29%|██████████████████████████████████████████████████████████▎                                                                                                                                             | 35/120 [00:07<00:23,  3.61it/s]"
     ]
    },
    {
     "name": "stderr",
     "output_type": "stream",
     "text": [
      "\r",
      " 30%|████████████████████████████████████████████████████████████                                                                                                                                            | 36/120 [00:07<00:21,  3.89it/s]"
     ]
    },
    {
     "name": "stderr",
     "output_type": "stream",
     "text": [
      "\r",
      " 31%|█████████████████████████████████████████████████████████████▋                                                                                                                                          | 37/120 [00:08<00:18,  4.39it/s]"
     ]
    },
    {
     "name": "stderr",
     "output_type": "stream",
     "text": [
      "\r",
      " 32%|███████████████████████████████████████████████████████████████▎                                                                                                                                        | 38/120 [00:08<00:18,  4.52it/s]"
     ]
    },
    {
     "name": "stderr",
     "output_type": "stream",
     "text": [
      "\r",
      " 32%|█████████████████████████████████████████████████████████████████                                                                                                                                       | 39/120 [00:08<00:16,  4.89it/s]"
     ]
    },
    {
     "name": "stderr",
     "output_type": "stream",
     "text": [
      "\r",
      " 33%|██████████████████████████████████████████████████████████████████▋                                                                                                                                     | 40/120 [00:08<00:17,  4.51it/s]"
     ]
    },
    {
     "name": "stderr",
     "output_type": "stream",
     "text": [
      "\r",
      " 34%|████████████████████████████████████████████████████████████████████▎                                                                                                                                   | 41/120 [00:08<00:15,  5.01it/s]"
     ]
    },
    {
     "name": "stderr",
     "output_type": "stream",
     "text": [
      "\r",
      " 35%|██████████████████████████████████████████████████████████████████████                                                                                                                                  | 42/120 [00:09<00:15,  4.97it/s]"
     ]
    },
    {
     "name": "stderr",
     "output_type": "stream",
     "text": [
      "\r",
      " 36%|███████████████████████████████████████████████████████████████████████▋                                                                                                                                | 43/120 [00:09<00:15,  5.05it/s]"
     ]
    },
    {
     "name": "stderr",
     "output_type": "stream",
     "text": [
      "\r",
      " 37%|█████████████████████████████████████████████████████████████████████████▎                                                                                                                              | 44/120 [00:09<00:14,  5.14it/s]"
     ]
    },
    {
     "name": "stderr",
     "output_type": "stream",
     "text": [
      "\r",
      " 38%|███████████████████████████████████████████████████████████████████████████                                                                                                                             | 45/120 [00:09<00:13,  5.37it/s]"
     ]
    },
    {
     "name": "stderr",
     "output_type": "stream",
     "text": [
      "\r",
      " 38%|████████████████████████████████████████████████████████████████████████████▋                                                                                                                           | 46/120 [00:09<00:14,  4.97it/s]"
     ]
    },
    {
     "name": "stderr",
     "output_type": "stream",
     "text": [
      "\r",
      " 39%|██████████████████████████████████████████████████████████████████████████████▎                                                                                                                         | 47/120 [00:10<00:13,  5.29it/s]"
     ]
    },
    {
     "name": "stderr",
     "output_type": "stream",
     "text": [
      "\r",
      " 40%|████████████████████████████████████████████████████████████████████████████████                                                                                                                        | 48/120 [00:10<00:13,  5.52it/s]"
     ]
    },
    {
     "name": "stderr",
     "output_type": "stream",
     "text": [
      "\r",
      " 41%|█████████████████████████████████████████████████████████████████████████████████▋                                                                                                                      | 49/120 [00:10<00:13,  5.10it/s]"
     ]
    },
    {
     "name": "stderr",
     "output_type": "stream",
     "text": [
      "\r",
      " 42%|███████████████████████████████████████████████████████████████████████████████████▎                                                                                                                    | 50/120 [00:10<00:13,  5.08it/s]"
     ]
    },
    {
     "name": "stderr",
     "output_type": "stream",
     "text": [
      "\r",
      " 42%|█████████████████████████████████████████████████████████████████████████████████████                                                                                                                   | 51/120 [00:10<00:13,  5.17it/s]"
     ]
    },
    {
     "name": "stderr",
     "output_type": "stream",
     "text": [
      "\r",
      " 43%|██████████████████████████████████████████████████████████████████████████████████████▋                                                                                                                 | 52/120 [00:10<00:12,  5.46it/s]"
     ]
    },
    {
     "name": "stderr",
     "output_type": "stream",
     "text": [
      "\r",
      " 44%|████████████████████████████████████████████████████████████████████████████████████████▎                                                                                                               | 53/120 [00:11<00:12,  5.38it/s]"
     ]
    },
    {
     "name": "stderr",
     "output_type": "stream",
     "text": [
      "\r",
      " 45%|██████████████████████████████████████████████████████████████████████████████████████████                                                                                                              | 54/120 [00:11<00:12,  5.18it/s]"
     ]
    },
    {
     "name": "stderr",
     "output_type": "stream",
     "text": [
      "\r",
      " 46%|███████████████████████████████████████████████████████████████████████████████████████████▋                                                                                                            | 55/120 [00:11<00:12,  5.24it/s]"
     ]
    },
    {
     "name": "stderr",
     "output_type": "stream",
     "text": [
      "\r",
      " 47%|█████████████████████████████████████████████████████████████████████████████████████████████▎                                                                                                          | 56/120 [00:11<00:11,  5.56it/s]"
     ]
    },
    {
     "name": "stderr",
     "output_type": "stream",
     "text": [
      "\r",
      " 48%|███████████████████████████████████████████████████████████████████████████████████████████████                                                                                                         | 57/120 [00:11<00:11,  5.49it/s]"
     ]
    },
    {
     "name": "stderr",
     "output_type": "stream",
     "text": [
      "\r",
      " 48%|████████████████████████████████████████████████████████████████████████████████████████████████▋                                                                                                       | 58/120 [00:12<00:12,  4.94it/s]"
     ]
    },
    {
     "name": "stderr",
     "output_type": "stream",
     "text": [
      "\r",
      " 49%|██████████████████████████████████████████████████████████████████████████████████████████████████▎                                                                                                     | 59/120 [00:12<00:13,  4.39it/s]"
     ]
    },
    {
     "name": "stderr",
     "output_type": "stream",
     "text": [
      "\r",
      " 50%|████████████████████████████████████████████████████████████████████████████████████████████████████                                                                                                    | 60/120 [00:12<00:13,  4.45it/s]"
     ]
    },
    {
     "name": "stderr",
     "output_type": "stream",
     "text": [
      "\r",
      " 51%|█████████████████████████████████████████████████████████████████████████████████████████████████████▋                                                                                                  | 61/120 [00:12<00:11,  5.11it/s]"
     ]
    },
    {
     "name": "stderr",
     "output_type": "stream",
     "text": [
      "\r",
      " 52%|███████████████████████████████████████████████████████████████████████████████████████████████████████▎                                                                                                | 62/120 [00:13<00:11,  4.91it/s]"
     ]
    },
    {
     "name": "stderr",
     "output_type": "stream",
     "text": [
      "\r",
      " 52%|█████████████████████████████████████████████████████████████████████████████████████████████████████████                                                                                               | 63/120 [00:13<00:11,  4.99it/s]"
     ]
    },
    {
     "name": "stderr",
     "output_type": "stream",
     "text": [
      "\r",
      " 53%|██████████████████████████████████████████████████████████████████████████████████████████████████████████▋                                                                                             | 64/120 [00:13<00:11,  4.92it/s]"
     ]
    },
    {
     "name": "stderr",
     "output_type": "stream",
     "text": [
      "\r",
      " 54%|████████████████████████████████████████████████████████████████████████████████████████████████████████████▎                                                                                           | 65/120 [00:13<00:10,  5.11it/s]"
     ]
    },
    {
     "name": "stderr",
     "output_type": "stream",
     "text": [
      "\r",
      " 55%|██████████████████████████████████████████████████████████████████████████████████████████████████████████████                                                                                          | 66/120 [00:13<00:10,  5.13it/s]"
     ]
    },
    {
     "name": "stderr",
     "output_type": "stream",
     "text": [
      "\r",
      " 56%|███████████████████████████████████████████████████████████████████████████████████████████████████████████████▋                                                                                        | 67/120 [00:14<00:10,  4.85it/s]"
     ]
    },
    {
     "name": "stderr",
     "output_type": "stream",
     "text": [
      "\r",
      " 57%|█████████████████████████████████████████████████████████████████████████████████████████████████████████████████▎                                                                                      | 68/120 [00:14<00:12,  4.29it/s]"
     ]
    },
    {
     "name": "stderr",
     "output_type": "stream",
     "text": [
      "\r",
      " 57%|██████████████████████████████████████████████████████████████████████████████████████████████████████████████████▉                                                                                     | 69/120 [00:14<00:11,  4.37it/s]"
     ]
    },
    {
     "name": "stderr",
     "output_type": "stream",
     "text": [
      "\r",
      " 58%|████████████████████████████████████████████████████████████████████████████████████████████████████████████████████▋                                                                                   | 70/120 [00:14<00:12,  4.00it/s]"
     ]
    },
    {
     "name": "stderr",
     "output_type": "stream",
     "text": [
      "\r",
      " 59%|██████████████████████████████████████████████████████████████████████████████████████████████████████████████████████▎                                                                                 | 71/120 [00:15<00:11,  4.20it/s]"
     ]
    },
    {
     "name": "stderr",
     "output_type": "stream",
     "text": [
      "\r",
      " 60%|████████████████████████████████████████████████████████████████████████████████████████████████████████████████████████                                                                                | 72/120 [00:15<00:12,  3.91it/s]"
     ]
    },
    {
     "name": "stderr",
     "output_type": "stream",
     "text": [
      "\r",
      " 61%|█████████████████████████████████████████████████████████████████████████████████████████████████████████████████████████▋                                                                              | 73/120 [00:15<00:13,  3.55it/s]"
     ]
    },
    {
     "name": "stderr",
     "output_type": "stream",
     "text": [
      "\r",
      " 62%|███████████████████████████████████████████████████████████████████████████████████████████████████████████████████████████▎                                                                            | 74/120 [00:15<00:13,  3.48it/s]"
     ]
    },
    {
     "name": "stderr",
     "output_type": "stream",
     "text": [
      "\r",
      " 62%|█████████████████████████████████████████████████████████████████████████████████████████████████████████████████████████████                                                                           | 75/120 [00:16<00:12,  3.57it/s]"
     ]
    },
    {
     "name": "stderr",
     "output_type": "stream",
     "text": [
      "\r",
      " 63%|██████████████████████████████████████████████████████████████████████████████████████████████████████████████████████████████▋                                                                         | 76/120 [00:16<00:12,  3.64it/s]"
     ]
    },
    {
     "name": "stderr",
     "output_type": "stream",
     "text": [
      "\r",
      " 64%|████████████████████████████████████████████████████████████████████████████████████████████████████████████████████████████████▎                                                                       | 77/120 [00:16<00:11,  3.76it/s]"
     ]
    },
    {
     "name": "stderr",
     "output_type": "stream",
     "text": [
      "\r",
      " 65%|██████████████████████████████████████████████████████████████████████████████████████████████████████████████████████████████████                                                                      | 78/120 [00:16<00:10,  4.02it/s]"
     ]
    },
    {
     "name": "stderr",
     "output_type": "stream",
     "text": [
      "\r",
      " 66%|███████████████████████████████████████████████████████████████████████████████████████████████████████████████████████████████████▋                                                                    | 79/120 [00:17<00:09,  4.17it/s]"
     ]
    },
    {
     "name": "stderr",
     "output_type": "stream",
     "text": [
      "\r",
      " 67%|█████████████████████████████████████████████████████████████████████████████████████████████████████████████████████████████████████▎                                                                  | 80/120 [00:17<00:09,  4.07it/s]"
     ]
    },
    {
     "name": "stderr",
     "output_type": "stream",
     "text": [
      "\r",
      " 68%|███████████████████████████████████████████████████████████████████████████████████████████████████████████████████████████████████████                                                                 | 81/120 [00:17<00:08,  4.65it/s]"
     ]
    },
    {
     "name": "stderr",
     "output_type": "stream",
     "text": [
      "\r",
      " 68%|████████████████████████████████████████████████████████████████████████████████████████████████████████████████████████████████████████▋                                                               | 82/120 [00:17<00:08,  4.31it/s]"
     ]
    },
    {
     "name": "stderr",
     "output_type": "stream",
     "text": [
      "\r",
      " 69%|██████████████████████████████████████████████████████████████████████████████████████████████████████████████████████████████████████████▎                                                             | 83/120 [00:18<00:08,  4.45it/s]"
     ]
    },
    {
     "name": "stderr",
     "output_type": "stream",
     "text": [
      "\r",
      " 70%|████████████████████████████████████████████████████████████████████████████████████████████████████████████████████████████████████████████                                                            | 84/120 [00:18<00:08,  4.24it/s]"
     ]
    },
    {
     "name": "stderr",
     "output_type": "stream",
     "text": [
      "\r",
      " 71%|█████████████████████████████████████████████████████████████████████████████████████████████████████████████████████████████████████████████▋                                                          | 85/120 [00:18<00:07,  4.47it/s]"
     ]
    },
    {
     "name": "stderr",
     "output_type": "stream",
     "text": [
      "\r",
      " 72%|███████████████████████████████████████████████████████████████████████████████████████████████████████████████████████████████████████████████▎                                                        | 86/120 [00:18<00:08,  4.20it/s]"
     ]
    },
    {
     "name": "stderr",
     "output_type": "stream",
     "text": [
      "\r",
      " 72%|█████████████████████████████████████████████████████████████████████████████████████████████████████████████████████████████████████████████████                                                       | 87/120 [00:19<00:07,  4.22it/s]"
     ]
    },
    {
     "name": "stderr",
     "output_type": "stream",
     "text": [
      "\r",
      " 73%|██████████████████████████████████████████████████████████████████████████████████████████████████████████████████████████████████████████████████▋                                                     | 88/120 [00:19<00:07,  4.09it/s]"
     ]
    },
    {
     "name": "stderr",
     "output_type": "stream",
     "text": [
      "\r",
      " 74%|████████████████████████████████████████████████████████████████████████████████████████████████████████████████████████████████████████████████████▎                                                   | 89/120 [00:19<00:07,  4.14it/s]"
     ]
    },
    {
     "name": "stderr",
     "output_type": "stream",
     "text": [
      "\r",
      " 75%|██████████████████████████████████████████████████████████████████████████████████████████████████████████████████████████████████████████████████████                                                  | 90/120 [00:19<00:07,  3.76it/s]"
     ]
    },
    {
     "name": "stderr",
     "output_type": "stream",
     "text": [
      "\r",
      " 76%|███████████████████████████████████████████████████████████████████████████████████████████████████████████████████████████████████████████████████████▋                                                | 91/120 [00:20<00:07,  3.90it/s]"
     ]
    },
    {
     "name": "stderr",
     "output_type": "stream",
     "text": [
      "\r",
      " 77%|█████████████████████████████████████████████████████████████████████████████████████████████████████████████████████████████████████████████████████████▎                                              | 92/120 [00:20<00:06,  4.42it/s]"
     ]
    },
    {
     "name": "stderr",
     "output_type": "stream",
     "text": [
      "\r",
      " 78%|███████████████████████████████████████████████████████████████████████████████████████████████████████████████████████████████████████████████████████████                                             | 93/120 [00:20<00:06,  3.92it/s]"
     ]
    },
    {
     "name": "stderr",
     "output_type": "stream",
     "text": [
      "\r",
      " 78%|████████████████████████████████████████████████████████████████████████████████████████████████████████████████████████████████████████████████████████████▋                                           | 94/120 [00:20<00:06,  3.85it/s]"
     ]
    },
    {
     "name": "stderr",
     "output_type": "stream",
     "text": [
      "\r",
      " 79%|██████████████████████████████████████████████████████████████████████████████████████████████████████████████████████████████████████████████████████████████▎                                         | 95/120 [00:21<00:06,  3.86it/s]"
     ]
    },
    {
     "name": "stderr",
     "output_type": "stream",
     "text": [
      "\r",
      " 80%|████████████████████████████████████████████████████████████████████████████████████████████████████████████████████████████████████████████████████████████████                                        | 96/120 [00:21<00:07,  3.36it/s]"
     ]
    },
    {
     "name": "stderr",
     "output_type": "stream",
     "text": [
      "\r",
      " 81%|█████████████████████████████████████████████████████████████████████████████████████████████████████████████████████████████████████████████████████████████████▋                                      | 97/120 [00:21<00:06,  3.65it/s]"
     ]
    },
    {
     "name": "stderr",
     "output_type": "stream",
     "text": [
      "\r",
      " 82%|███████████████████████████████████████████████████████████████████████████████████████████████████████████████████████████████████████████████████████████████████▎                                    | 98/120 [00:21<00:06,  3.66it/s]"
     ]
    },
    {
     "name": "stderr",
     "output_type": "stream",
     "text": [
      "\r",
      " 82%|█████████████████████████████████████████████████████████████████████████████████████████████████████████████████████████████████████████████████████████████████████                                   | 99/120 [00:22<00:05,  3.83it/s]"
     ]
    },
    {
     "name": "stderr",
     "output_type": "stream",
     "text": [
      "\r",
      " 83%|█████████████████████████████████████████████████████████████████████████████████████████████████████████████████████████████████████████████████████████████████████▊                                 | 100/120 [00:22<00:04,  4.09it/s]"
     ]
    },
    {
     "name": "stderr",
     "output_type": "stream",
     "text": [
      "\r",
      " 84%|███████████████████████████████████████████████████████████████████████████████████████████████████████████████████████████████████████████████████████████████████████▍                               | 101/120 [00:22<00:05,  3.68it/s]"
     ]
    },
    {
     "name": "stderr",
     "output_type": "stream",
     "text": [
      "\r",
      " 85%|█████████████████████████████████████████████████████████████████████████████████████████████████████████████████████████████████████████████████████████████████████████▏                             | 102/120 [00:22<00:04,  3.84it/s]"
     ]
    },
    {
     "name": "stderr",
     "output_type": "stream",
     "text": [
      "\r",
      " 86%|██████████████████████████████████████████████████████████████████████████████████████████████████████████████████████████████████████████████████████████████████████████▊                            | 103/120 [00:23<00:04,  3.85it/s]"
     ]
    },
    {
     "name": "stderr",
     "output_type": "stream",
     "text": [
      "\r",
      " 87%|████████████████████████████████████████████████████████████████████████████████████████████████████████████████████████████████████████████████████████████████████████████▍                          | 104/120 [00:23<00:04,  3.68it/s]"
     ]
    },
    {
     "name": "stderr",
     "output_type": "stream",
     "text": [
      "\r",
      " 88%|██████████████████████████████████████████████████████████████████████████████████████████████████████████████████████████████████████████████████████████████████████████████▏                        | 105/120 [00:23<00:04,  3.72it/s]"
     ]
    },
    {
     "name": "stderr",
     "output_type": "stream",
     "text": [
      "\r",
      " 88%|███████████████████████████████████████████████████████████████████████████████████████████████████████████████████████████████████████████████████████████████████████████████▊                       | 106/120 [00:23<00:03,  4.13it/s]"
     ]
    },
    {
     "name": "stderr",
     "output_type": "stream",
     "text": [
      "\r",
      " 89%|█████████████████████████████████████████████████████████████████████████████████████████████████████████████████████████████████████████████████████████████████████████████████▍                     | 107/120 [00:24<00:03,  4.06it/s]"
     ]
    },
    {
     "name": "stderr",
     "output_type": "stream",
     "text": [
      "\r",
      " 90%|███████████████████████████████████████████████████████████████████████████████████████████████████████████████████████████████████████████████████████████████████████████████████                    | 108/120 [00:24<00:02,  4.41it/s]"
     ]
    },
    {
     "name": "stderr",
     "output_type": "stream",
     "text": [
      "\r",
      " 91%|████████████████████████████████████████████████████████████████████████████████████████████████████████████████████████████████████████████████████████████████████████████████████▊                  | 109/120 [00:24<00:02,  4.29it/s]"
     ]
    },
    {
     "name": "stderr",
     "output_type": "stream",
     "text": [
      "\r",
      " 92%|██████████████████████████████████████████████████████████████████████████████████████████████████████████████████████████████████████████████████████████████████████████████████████▍                | 110/120 [00:24<00:02,  4.28it/s]"
     ]
    },
    {
     "name": "stderr",
     "output_type": "stream",
     "text": [
      "\r",
      " 92%|████████████████████████████████████████████████████████████████████████████████████████████████████████████████████████████████████████████████████████████████████████████████████████               | 111/120 [00:25<00:01,  4.52it/s]"
     ]
    },
    {
     "name": "stderr",
     "output_type": "stream",
     "text": [
      "\r",
      " 93%|█████████████████████████████████████████████████████████████████████████████████████████████████████████████████████████████████████████████████████████████████████████████████████████▋             | 112/120 [00:25<00:01,  4.76it/s]"
     ]
    },
    {
     "name": "stderr",
     "output_type": "stream",
     "text": [
      "\r",
      " 94%|███████████████████████████████████████████████████████████████████████████████████████████████████████████████████████████████████████████████████████████████████████████████████████████▍           | 113/120 [00:25<00:01,  3.97it/s]"
     ]
    },
    {
     "name": "stderr",
     "output_type": "stream",
     "text": [
      "\r",
      " 95%|█████████████████████████████████████████████████████████████████████████████████████████████████████████████████████████████████████████████████████████████████████████████████████████████          | 114/120 [00:25<00:01,  3.82it/s]"
     ]
    },
    {
     "name": "stderr",
     "output_type": "stream",
     "text": [
      "\r",
      " 96%|██████████████████████████████████████████████████████████████████████████████████████████████████████████████████████████████████████████████████████████████████████████████████████████████▋        | 115/120 [00:26<00:01,  3.62it/s]"
     ]
    },
    {
     "name": "stderr",
     "output_type": "stream",
     "text": [
      "\r",
      " 97%|████████████████████████████████████████████████████████████████████████████████████████████████████████████████████████████████████████████████████████████████████████████████████████████████▎      | 116/120 [00:26<00:01,  3.65it/s]"
     ]
    },
    {
     "name": "stderr",
     "output_type": "stream",
     "text": [
      "\r",
      " 98%|██████████████████████████████████████████████████████████████████████████████████████████████████████████████████████████████████████████████████████████████████████████████████████████████████     | 117/120 [00:26<00:00,  4.01it/s]"
     ]
    },
    {
     "name": "stderr",
     "output_type": "stream",
     "text": [
      "\r",
      " 98%|███████████████████████████████████████████████████████████████████████████████████████████████████████████████████████████████████████████████████████████████████████████████████████████████████▋   | 118/120 [00:26<00:00,  4.27it/s]"
     ]
    },
    {
     "name": "stderr",
     "output_type": "stream",
     "text": [
      "\r",
      " 99%|█████████████████████████████████████████████████████████████████████████████████████████████████████████████████████████████████████████████████████████████████████████████████████████████████████▎ | 119/120 [00:27<00:00,  4.28it/s]"
     ]
    },
    {
     "name": "stderr",
     "output_type": "stream",
     "text": [
      "\r",
      "100%|███████████████████████████████████████████████████████████████████████████████████████████████████████████████████████████████████████████████████████████████████████████████████████████████████████| 120/120 [00:27<00:00,  4.15it/s]"
     ]
    },
    {
     "name": "stderr",
     "output_type": "stream",
     "text": [
      "\r",
      "100%|███████████████████████████████████████████████████████████████████████████████████████████████████████████████████████████████████████████████████████████████████████████████████████████████████████| 120/120 [00:27<00:00,  4.38it/s]"
     ]
    },
    {
     "name": "stderr",
     "output_type": "stream",
     "text": [
      "\n"
     ]
    }
   ],
   "source": [
    "dataset = []\n",
    "for ind in tqdm(range(len(df_en_target_input))):\n",
    "    d = next(sample(df_en_target_input, ind, lang1=input_lang, lang2=target_lang))\n",
    "    if d is None:\n",
    "        continue\n",
    "    dataset.append(d)"
   ]
  },
  {
   "cell_type": "code",
   "execution_count": 12,
   "id": "d786ab1b",
   "metadata": {
    "execution": {
     "iopub.execute_input": "2024-02-23T16:07:34.632286Z",
     "iopub.status.busy": "2024-02-23T16:07:34.632107Z",
     "iopub.status.idle": "2024-02-23T16:07:34.677614Z",
     "shell.execute_reply": "2024-02-23T16:07:34.677231Z"
    },
    "papermill": {
     "duration": 0.055138,
     "end_time": "2024-02-23T16:07:34.678440",
     "exception": false,
     "start_time": "2024-02-23T16:07:34.623302",
     "status": "completed"
    },
    "tags": []
   },
   "outputs": [],
   "source": [
    "df = pd.DataFrame(dataset)\n",
    "os.makedirs(f'{out_dir}/translation', exist_ok=True)\n",
    "df.to_csv(f'{out_dir}/translation/{model_size}_{input_lang}_{target_lang}_dataset.csv', index=False)"
   ]
  },
  {
   "cell_type": "code",
   "execution_count": 13,
   "id": "00e12355",
   "metadata": {
    "execution": {
     "iopub.execute_input": "2024-02-23T16:07:34.695277Z",
     "iopub.status.busy": "2024-02-23T16:07:34.695139Z",
     "iopub.status.idle": "2024-02-23T16:07:34.731209Z",
     "shell.execute_reply": "2024-02-23T16:07:34.730818Z"
    },
    "papermill": {
     "duration": 0.045325,
     "end_time": "2024-02-23T16:07:34.731998",
     "exception": false,
     "start_time": "2024-02-23T16:07:34.686673",
     "status": "completed"
    },
    "tags": []
   },
   "outputs": [
    {
     "data": {
      "text/html": [
       "<div>\n",
       "<style scoped>\n",
       "    .dataframe tbody tr th:only-of-type {\n",
       "        vertical-align: middle;\n",
       "    }\n",
       "\n",
       "    .dataframe tbody tr th {\n",
       "        vertical-align: top;\n",
       "    }\n",
       "\n",
       "    .dataframe thead th {\n",
       "        text-align: right;\n",
       "    }\n",
       "</style>\n",
       "<table border=\"1\" class=\"dataframe\">\n",
       "  <thead>\n",
       "    <tr style=\"text-align: right;\">\n",
       "      <th></th>\n",
       "      <th>prompt</th>\n",
       "      <th>out_token_id</th>\n",
       "      <th>out_token_str</th>\n",
       "      <th>latent_token_id</th>\n",
       "      <th>latent_token_str</th>\n",
       "      <th>in_token_str</th>\n",
       "    </tr>\n",
       "  </thead>\n",
       "  <tbody>\n",
       "    <tr>\n",
       "      <th>0</th>\n",
       "      <td>Deutsch: \"Streifen\" - English: \"strip\"\\nDeutsc...</td>\n",
       "      <td>[1045, 289, 2909, 29890, 3143, 833]</td>\n",
       "      <td>book</td>\n",
       "      <td>[1045, 289, 2909, 29890, 3143, 833]</td>\n",
       "      <td>book</td>\n",
       "      <td>Buch</td>\n",
       "    </tr>\n",
       "    <tr>\n",
       "      <th>1</th>\n",
       "      <td>Deutsch: \"Plattform\" - English: \"platform\"\\nDe...</td>\n",
       "      <td>[15126, 23642, 17184, 9274, 9570, 1067, 29883,...</td>\n",
       "      <td>cloud</td>\n",
       "      <td>[15126, 23642, 17184, 9274, 9570, 1067, 29883,...</td>\n",
       "      <td>cloud</td>\n",
       "      <td>Wolke</td>\n",
       "    </tr>\n",
       "    <tr>\n",
       "      <th>2</th>\n",
       "      <td>Deutsch: \"Freund\" - English: \"friend\"\\nDeutsch...</td>\n",
       "      <td>[23156, 289, 29890, 9922, 19548, 2291]</td>\n",
       "      <td>bag</td>\n",
       "      <td>[23156, 289, 29890, 9922, 19548, 2291]</td>\n",
       "      <td>bag</td>\n",
       "      <td>Tasche</td>\n",
       "    </tr>\n",
       "    <tr>\n",
       "      <th>3</th>\n",
       "      <td>Deutsch: \"Kopf\" - English: \"head\"\\nDeutsch: \"M...</td>\n",
       "      <td>[4346, 29442, 29885, 13394, 286, 21026, 2730]</td>\n",
       "      <td>mouth</td>\n",
       "      <td>[4346, 29442, 29885, 13394, 286, 21026, 2730]</td>\n",
       "      <td>mouth</td>\n",
       "      <td>Mund</td>\n",
       "    </tr>\n",
       "    <tr>\n",
       "      <th>4</th>\n",
       "      <td>Deutsch: \"Provinz\" - English: \"province\"\\nDeut...</td>\n",
       "      <td>[29879, 577, 22473, 578, 269]</td>\n",
       "      <td>soil</td>\n",
       "      <td>[29879, 577, 22473, 578, 269]</td>\n",
       "      <td>soil</td>\n",
       "      <td>Boden</td>\n",
       "    </tr>\n",
       "    <tr>\n",
       "      <th>...</th>\n",
       "      <td>...</td>\n",
       "      <td>...</td>\n",
       "      <td>...</td>\n",
       "      <td>...</td>\n",
       "      <td>...</td>\n",
       "      <td>...</td>\n",
       "    </tr>\n",
       "    <tr>\n",
       "      <th>115</th>\n",
       "      <td>Deutsch: \"Quelle\" - English: \"source\"\\nDeutsch...</td>\n",
       "      <td>[974, 2696, 1283, 310, 20205, 29877, 3344, 803...</td>\n",
       "      <td>office</td>\n",
       "      <td>[974, 2696, 1283, 310, 20205, 29877, 3344, 803...</td>\n",
       "      <td>office</td>\n",
       "      <td>Büro</td>\n",
       "    </tr>\n",
       "    <tr>\n",
       "      <th>116</th>\n",
       "      <td>Deutsch: \"Ozean\" - English: \"ocean\"\\nDeutsch: ...</td>\n",
       "      <td>[10107, 14451, 374, 29878, 364, 3780, 5161]</td>\n",
       "      <td>rise</td>\n",
       "      <td>[10107, 14451, 374, 29878, 364, 3780, 5161]</td>\n",
       "      <td>rise</td>\n",
       "      <td>Anstieg</td>\n",
       "    </tr>\n",
       "    <tr>\n",
       "      <th>117</th>\n",
       "      <td>Deutsch: \"Ozean\" - English: \"ocean\"\\nDeutsch: ...</td>\n",
       "      <td>[29880, 1563, 2175, 25874, 301, 280, 454]</td>\n",
       "      <td>left</td>\n",
       "      <td>[29880, 1563, 2175, 25874, 301, 280, 454]</td>\n",
       "      <td>left</td>\n",
       "      <td>links</td>\n",
       "    </tr>\n",
       "    <tr>\n",
       "      <th>118</th>\n",
       "      <td>Deutsch: \"Sand\" - English: \"sand\"\\nDeutsch: \"N...</td>\n",
       "      <td>[4764, 3081, 29886, 1129, 12248, 772, 13519, 282]</td>\n",
       "      <td>power</td>\n",
       "      <td>[4764, 3081, 29886, 1129, 12248, 772, 13519, 282]</td>\n",
       "      <td>power</td>\n",
       "      <td>Macht</td>\n",
       "    </tr>\n",
       "    <tr>\n",
       "      <th>119</th>\n",
       "      <td>Deutsch: \"Farbe\" - English: \"color\"\\nDeutsch: ...</td>\n",
       "      <td>[29879, 2533, 2146, 11801, 480, 269, 2083, 22792]</td>\n",
       "      <td>summer</td>\n",
       "      <td>[29879, 2533, 2146, 11801, 480, 269, 2083, 22792]</td>\n",
       "      <td>summer</td>\n",
       "      <td>Sommer</td>\n",
       "    </tr>\n",
       "  </tbody>\n",
       "</table>\n",
       "<p>120 rows × 6 columns</p>\n",
       "</div>"
      ],
      "text/plain": [
       "                                                prompt  \\\n",
       "0    Deutsch: \"Streifen\" - English: \"strip\"\\nDeutsc...   \n",
       "1    Deutsch: \"Plattform\" - English: \"platform\"\\nDe...   \n",
       "2    Deutsch: \"Freund\" - English: \"friend\"\\nDeutsch...   \n",
       "3    Deutsch: \"Kopf\" - English: \"head\"\\nDeutsch: \"M...   \n",
       "4    Deutsch: \"Provinz\" - English: \"province\"\\nDeut...   \n",
       "..                                                 ...   \n",
       "115  Deutsch: \"Quelle\" - English: \"source\"\\nDeutsch...   \n",
       "116  Deutsch: \"Ozean\" - English: \"ocean\"\\nDeutsch: ...   \n",
       "117  Deutsch: \"Ozean\" - English: \"ocean\"\\nDeutsch: ...   \n",
       "118  Deutsch: \"Sand\" - English: \"sand\"\\nDeutsch: \"N...   \n",
       "119  Deutsch: \"Farbe\" - English: \"color\"\\nDeutsch: ...   \n",
       "\n",
       "                                          out_token_id out_token_str  \\\n",
       "0                  [1045, 289, 2909, 29890, 3143, 833]          book   \n",
       "1    [15126, 23642, 17184, 9274, 9570, 1067, 29883,...         cloud   \n",
       "2               [23156, 289, 29890, 9922, 19548, 2291]           bag   \n",
       "3        [4346, 29442, 29885, 13394, 286, 21026, 2730]         mouth   \n",
       "4                        [29879, 577, 22473, 578, 269]          soil   \n",
       "..                                                 ...           ...   \n",
       "115  [974, 2696, 1283, 310, 20205, 29877, 3344, 803...        office   \n",
       "116        [10107, 14451, 374, 29878, 364, 3780, 5161]          rise   \n",
       "117          [29880, 1563, 2175, 25874, 301, 280, 454]          left   \n",
       "118  [4764, 3081, 29886, 1129, 12248, 772, 13519, 282]         power   \n",
       "119  [29879, 2533, 2146, 11801, 480, 269, 2083, 22792]        summer   \n",
       "\n",
       "                                       latent_token_id latent_token_str  \\\n",
       "0                  [1045, 289, 2909, 29890, 3143, 833]             book   \n",
       "1    [15126, 23642, 17184, 9274, 9570, 1067, 29883,...            cloud   \n",
       "2               [23156, 289, 29890, 9922, 19548, 2291]              bag   \n",
       "3        [4346, 29442, 29885, 13394, 286, 21026, 2730]            mouth   \n",
       "4                        [29879, 577, 22473, 578, 269]             soil   \n",
       "..                                                 ...              ...   \n",
       "115  [974, 2696, 1283, 310, 20205, 29877, 3344, 803...           office   \n",
       "116        [10107, 14451, 374, 29878, 364, 3780, 5161]             rise   \n",
       "117          [29880, 1563, 2175, 25874, 301, 280, 454]             left   \n",
       "118  [4764, 3081, 29886, 1129, 12248, 772, 13519, 282]            power   \n",
       "119  [29879, 2533, 2146, 11801, 480, 269, 2083, 22792]           summer   \n",
       "\n",
       "    in_token_str  \n",
       "0           Buch  \n",
       "1          Wolke  \n",
       "2         Tasche  \n",
       "3           Mund  \n",
       "4          Boden  \n",
       "..           ...  \n",
       "115         Büro  \n",
       "116      Anstieg  \n",
       "117        links  \n",
       "118        Macht  \n",
       "119       Sommer  \n",
       "\n",
       "[120 rows x 6 columns]"
      ]
     },
     "execution_count": 13,
     "metadata": {},
     "output_type": "execute_result"
    }
   ],
   "source": [
    "df"
   ]
  },
  {
   "cell_type": "code",
   "execution_count": 14,
   "id": "94fa55b7",
   "metadata": {
    "execution": {
     "iopub.execute_input": "2024-02-23T16:07:34.749800Z",
     "iopub.status.busy": "2024-02-23T16:07:34.749506Z",
     "iopub.status.idle": "2024-02-23T16:07:34.777052Z",
     "shell.execute_reply": "2024-02-23T16:07:34.776651Z"
    },
    "papermill": {
     "duration": 0.037121,
     "end_time": "2024-02-23T16:07:34.777904",
     "exception": false,
     "start_time": "2024-02-23T16:07:34.740783",
     "status": "completed"
    },
    "tags": []
   },
   "outputs": [],
   "source": [
    "def get_logits(model, prompt,lens):\n",
    "    inputs = tokenizer(prompt, return_tensors=\"pt\").to('cuda')\n",
    "    output = llama(inputs.input_ids, output_hidden_states=True)\n",
    "    hidden_states = output.hidden_states[:-1]\n",
    "    final_lps = output.logits.log_softmax(dim=-1)\n",
    "    tensors=[]\n",
    "    for i in range(32):\n",
    "        h = hidden_states[i].squeeze(0)\n",
    "        tensors+=[lens(h, idx=i).detach().cpu()]\n",
    "    tensors= torch.stack(tensors)  \n",
    "    hidden_states = torch.stack(hidden_states).squeeze(1).detach().cpu()\n",
    "    return tensors,hidden_states\n",
    "        "
   ]
  },
  {
   "cell_type": "code",
   "execution_count": 15,
   "id": "25241c49",
   "metadata": {
    "execution": {
     "iopub.execute_input": "2024-02-23T16:07:34.796095Z",
     "iopub.status.busy": "2024-02-23T16:07:34.795789Z",
     "iopub.status.idle": "2024-02-23T16:07:52.974137Z",
     "shell.execute_reply": "2024-02-23T16:07:52.973576Z"
    },
    "papermill": {
     "duration": 18.188128,
     "end_time": "2024-02-23T16:07:52.974956",
     "exception": false,
     "start_time": "2024-02-23T16:07:34.786828",
     "status": "completed"
    },
    "tags": []
   },
   "outputs": [
    {
     "name": "stderr",
     "output_type": "stream",
     "text": [
      "\r",
      "0it [00:00, ?it/s]"
     ]
    },
    {
     "name": "stderr",
     "output_type": "stream",
     "text": [
      "\r",
      "1it [00:00,  1.15it/s]"
     ]
    },
    {
     "name": "stderr",
     "output_type": "stream",
     "text": [
      "\r",
      "2it [00:01,  2.22it/s]"
     ]
    },
    {
     "name": "stderr",
     "output_type": "stream",
     "text": [
      "\r",
      "3it [00:01,  3.18it/s]"
     ]
    },
    {
     "name": "stderr",
     "output_type": "stream",
     "text": [
      "\r",
      "4it [00:01,  3.94it/s]"
     ]
    },
    {
     "name": "stderr",
     "output_type": "stream",
     "text": [
      "\r",
      "5it [00:01,  4.46it/s]"
     ]
    },
    {
     "name": "stderr",
     "output_type": "stream",
     "text": [
      "\r",
      "6it [00:01,  5.01it/s]"
     ]
    },
    {
     "name": "stderr",
     "output_type": "stream",
     "text": [
      "\r",
      "7it [00:01,  5.32it/s]"
     ]
    },
    {
     "name": "stderr",
     "output_type": "stream",
     "text": [
      "\r",
      "8it [00:01,  5.64it/s]"
     ]
    },
    {
     "name": "stderr",
     "output_type": "stream",
     "text": [
      "\r",
      "9it [00:02,  5.70it/s]"
     ]
    },
    {
     "name": "stderr",
     "output_type": "stream",
     "text": [
      "\r",
      "10it [00:02,  5.90it/s]"
     ]
    },
    {
     "name": "stderr",
     "output_type": "stream",
     "text": [
      "\r",
      "11it [00:02,  6.11it/s]"
     ]
    },
    {
     "name": "stderr",
     "output_type": "stream",
     "text": [
      "\r",
      "12it [00:02,  6.31it/s]"
     ]
    },
    {
     "name": "stderr",
     "output_type": "stream",
     "text": [
      "\r",
      "13it [00:02,  6.50it/s]"
     ]
    },
    {
     "name": "stderr",
     "output_type": "stream",
     "text": [
      "\r",
      "14it [00:02,  6.63it/s]"
     ]
    },
    {
     "name": "stderr",
     "output_type": "stream",
     "text": [
      "\r",
      "15it [00:03,  6.55it/s]"
     ]
    },
    {
     "name": "stderr",
     "output_type": "stream",
     "text": [
      "\r",
      "16it [00:03,  5.90it/s]"
     ]
    },
    {
     "name": "stderr",
     "output_type": "stream",
     "text": [
      "\r",
      "17it [00:03,  5.60it/s]"
     ]
    },
    {
     "name": "stderr",
     "output_type": "stream",
     "text": [
      "\r",
      "18it [00:03,  6.04it/s]"
     ]
    },
    {
     "name": "stderr",
     "output_type": "stream",
     "text": [
      "\r",
      "19it [00:03,  6.35it/s]"
     ]
    },
    {
     "name": "stderr",
     "output_type": "stream",
     "text": [
      "\r",
      "20it [00:03,  6.68it/s]"
     ]
    },
    {
     "name": "stderr",
     "output_type": "stream",
     "text": [
      "\r",
      "21it [00:04,  6.45it/s]"
     ]
    },
    {
     "name": "stderr",
     "output_type": "stream",
     "text": [
      "\r",
      "22it [00:04,  6.70it/s]"
     ]
    },
    {
     "name": "stderr",
     "output_type": "stream",
     "text": [
      "\r",
      "23it [00:04,  6.66it/s]"
     ]
    },
    {
     "name": "stderr",
     "output_type": "stream",
     "text": [
      "\r",
      "24it [00:04,  6.72it/s]"
     ]
    },
    {
     "name": "stderr",
     "output_type": "stream",
     "text": [
      "\r",
      "25it [00:04,  6.61it/s]"
     ]
    },
    {
     "name": "stderr",
     "output_type": "stream",
     "text": [
      "\r",
      "26it [00:04,  6.62it/s]"
     ]
    },
    {
     "name": "stderr",
     "output_type": "stream",
     "text": [
      "\r",
      "27it [00:04,  6.68it/s]"
     ]
    },
    {
     "name": "stderr",
     "output_type": "stream",
     "text": [
      "\r",
      "28it [00:05,  6.75it/s]"
     ]
    },
    {
     "name": "stderr",
     "output_type": "stream",
     "text": [
      "\r",
      "29it [00:05,  6.61it/s]"
     ]
    },
    {
     "name": "stderr",
     "output_type": "stream",
     "text": [
      "\r",
      "30it [00:05,  6.61it/s]"
     ]
    },
    {
     "name": "stderr",
     "output_type": "stream",
     "text": [
      "\r",
      "31it [00:05,  6.55it/s]"
     ]
    },
    {
     "name": "stderr",
     "output_type": "stream",
     "text": [
      "\r",
      "32it [00:05,  6.46it/s]"
     ]
    },
    {
     "name": "stderr",
     "output_type": "stream",
     "text": [
      "\r",
      "33it [00:05,  6.46it/s]"
     ]
    },
    {
     "name": "stderr",
     "output_type": "stream",
     "text": [
      "\r",
      "34it [00:05,  6.55it/s]"
     ]
    },
    {
     "name": "stderr",
     "output_type": "stream",
     "text": [
      "\r",
      "35it [00:06,  6.62it/s]"
     ]
    },
    {
     "name": "stderr",
     "output_type": "stream",
     "text": [
      "\r",
      "36it [00:06,  6.72it/s]"
     ]
    },
    {
     "name": "stderr",
     "output_type": "stream",
     "text": [
      "\r",
      "37it [00:06,  6.62it/s]"
     ]
    },
    {
     "name": "stderr",
     "output_type": "stream",
     "text": [
      "\r",
      "38it [00:06,  6.59it/s]"
     ]
    },
    {
     "name": "stderr",
     "output_type": "stream",
     "text": [
      "\r",
      "39it [00:06,  6.49it/s]"
     ]
    },
    {
     "name": "stderr",
     "output_type": "stream",
     "text": [
      "\r",
      "40it [00:06,  6.72it/s]"
     ]
    },
    {
     "name": "stderr",
     "output_type": "stream",
     "text": [
      "\r",
      "41it [00:07,  6.85it/s]"
     ]
    },
    {
     "name": "stderr",
     "output_type": "stream",
     "text": [
      "\r",
      "42it [00:07,  7.14it/s]"
     ]
    },
    {
     "name": "stderr",
     "output_type": "stream",
     "text": [
      "\r",
      "43it [00:07,  6.94it/s]"
     ]
    },
    {
     "name": "stderr",
     "output_type": "stream",
     "text": [
      "\r",
      "44it [00:07,  6.88it/s]"
     ]
    },
    {
     "name": "stderr",
     "output_type": "stream",
     "text": [
      "\r",
      "45it [00:07,  6.67it/s]"
     ]
    },
    {
     "name": "stderr",
     "output_type": "stream",
     "text": [
      "\r",
      "46it [00:07,  6.70it/s]"
     ]
    },
    {
     "name": "stderr",
     "output_type": "stream",
     "text": [
      "\r",
      "47it [00:07,  6.70it/s]"
     ]
    },
    {
     "name": "stderr",
     "output_type": "stream",
     "text": [
      "\r",
      "48it [00:08,  6.72it/s]"
     ]
    },
    {
     "name": "stderr",
     "output_type": "stream",
     "text": [
      "\r",
      "49it [00:08,  6.84it/s]"
     ]
    },
    {
     "name": "stderr",
     "output_type": "stream",
     "text": [
      "\r",
      "50it [00:08,  6.96it/s]"
     ]
    },
    {
     "name": "stderr",
     "output_type": "stream",
     "text": [
      "\r",
      "51it [00:08,  6.84it/s]"
     ]
    },
    {
     "name": "stderr",
     "output_type": "stream",
     "text": [
      "\r",
      "52it [00:08,  6.96it/s]"
     ]
    },
    {
     "name": "stderr",
     "output_type": "stream",
     "text": [
      "\r",
      "53it [00:08,  6.91it/s]"
     ]
    },
    {
     "name": "stderr",
     "output_type": "stream",
     "text": [
      "\r",
      "54it [00:08,  6.93it/s]"
     ]
    },
    {
     "name": "stderr",
     "output_type": "stream",
     "text": [
      "\r",
      "55it [00:09,  6.95it/s]"
     ]
    },
    {
     "name": "stderr",
     "output_type": "stream",
     "text": [
      "\r",
      "56it [00:09,  6.97it/s]"
     ]
    },
    {
     "name": "stderr",
     "output_type": "stream",
     "text": [
      "\r",
      "57it [00:09,  6.97it/s]"
     ]
    },
    {
     "name": "stderr",
     "output_type": "stream",
     "text": [
      "\r",
      "58it [00:09,  6.94it/s]"
     ]
    },
    {
     "name": "stderr",
     "output_type": "stream",
     "text": [
      "\r",
      "59it [00:09,  6.73it/s]"
     ]
    },
    {
     "name": "stderr",
     "output_type": "stream",
     "text": [
      "\r",
      "60it [00:09,  6.61it/s]"
     ]
    },
    {
     "name": "stderr",
     "output_type": "stream",
     "text": [
      "\r",
      "61it [00:09,  6.76it/s]"
     ]
    },
    {
     "name": "stderr",
     "output_type": "stream",
     "text": [
      "\r",
      "62it [00:10,  6.91it/s]"
     ]
    },
    {
     "name": "stderr",
     "output_type": "stream",
     "text": [
      "\r",
      "63it [00:10,  7.04it/s]"
     ]
    },
    {
     "name": "stderr",
     "output_type": "stream",
     "text": [
      "\r",
      "64it [00:10,  7.12it/s]"
     ]
    },
    {
     "name": "stderr",
     "output_type": "stream",
     "text": [
      "\r",
      "65it [00:10,  7.20it/s]"
     ]
    },
    {
     "name": "stderr",
     "output_type": "stream",
     "text": [
      "\r",
      "66it [00:10,  7.25it/s]"
     ]
    },
    {
     "name": "stderr",
     "output_type": "stream",
     "text": [
      "\r",
      "67it [00:10,  7.48it/s]"
     ]
    },
    {
     "name": "stderr",
     "output_type": "stream",
     "text": [
      "\r",
      "68it [00:10,  7.36it/s]"
     ]
    },
    {
     "name": "stderr",
     "output_type": "stream",
     "text": [
      "\r",
      "69it [00:11,  7.50it/s]"
     ]
    },
    {
     "name": "stderr",
     "output_type": "stream",
     "text": [
      "\r",
      "70it [00:11,  7.37it/s]"
     ]
    },
    {
     "name": "stderr",
     "output_type": "stream",
     "text": [
      "\r",
      "71it [00:11,  7.32it/s]"
     ]
    },
    {
     "name": "stderr",
     "output_type": "stream",
     "text": [
      "\r",
      "72it [00:11,  6.81it/s]"
     ]
    },
    {
     "name": "stderr",
     "output_type": "stream",
     "text": [
      "\r",
      "73it [00:11,  6.88it/s]"
     ]
    },
    {
     "name": "stderr",
     "output_type": "stream",
     "text": [
      "\r",
      "74it [00:11,  6.61it/s]"
     ]
    },
    {
     "name": "stderr",
     "output_type": "stream",
     "text": [
      "\r",
      "75it [00:11,  6.85it/s]"
     ]
    },
    {
     "name": "stderr",
     "output_type": "stream",
     "text": [
      "\r",
      "76it [00:12,  7.01it/s]"
     ]
    },
    {
     "name": "stderr",
     "output_type": "stream",
     "text": [
      "\r",
      "77it [00:12,  7.33it/s]"
     ]
    },
    {
     "name": "stderr",
     "output_type": "stream",
     "text": [
      "\r",
      "78it [00:12,  7.46it/s]"
     ]
    },
    {
     "name": "stderr",
     "output_type": "stream",
     "text": [
      "\r",
      "79it [00:12,  7.49it/s]"
     ]
    },
    {
     "name": "stderr",
     "output_type": "stream",
     "text": [
      "\r",
      "80it [00:12,  7.50it/s]"
     ]
    },
    {
     "name": "stderr",
     "output_type": "stream",
     "text": [
      "\r",
      "81it [00:12,  7.45it/s]"
     ]
    },
    {
     "name": "stderr",
     "output_type": "stream",
     "text": [
      "\r",
      "82it [00:12,  7.42it/s]"
     ]
    },
    {
     "name": "stderr",
     "output_type": "stream",
     "text": [
      "\r",
      "83it [00:12,  7.48it/s]"
     ]
    },
    {
     "name": "stderr",
     "output_type": "stream",
     "text": [
      "\r",
      "84it [00:13,  7.51it/s]"
     ]
    },
    {
     "name": "stderr",
     "output_type": "stream",
     "text": [
      "\r",
      "85it [00:13,  7.40it/s]"
     ]
    },
    {
     "name": "stderr",
     "output_type": "stream",
     "text": [
      "\r",
      "86it [00:13,  7.13it/s]"
     ]
    },
    {
     "name": "stderr",
     "output_type": "stream",
     "text": [
      "\r",
      "87it [00:13,  7.27it/s]"
     ]
    },
    {
     "name": "stderr",
     "output_type": "stream",
     "text": [
      "\r",
      "88it [00:13,  7.30it/s]"
     ]
    },
    {
     "name": "stderr",
     "output_type": "stream",
     "text": [
      "\r",
      "89it [00:13,  7.31it/s]"
     ]
    },
    {
     "name": "stderr",
     "output_type": "stream",
     "text": [
      "\r",
      "90it [00:13,  7.37it/s]"
     ]
    },
    {
     "name": "stderr",
     "output_type": "stream",
     "text": [
      "\r",
      "91it [00:14,  7.43it/s]"
     ]
    },
    {
     "name": "stderr",
     "output_type": "stream",
     "text": [
      "\r",
      "92it [00:14,  7.43it/s]"
     ]
    },
    {
     "name": "stderr",
     "output_type": "stream",
     "text": [
      "\r",
      "93it [00:14,  7.40it/s]"
     ]
    },
    {
     "name": "stderr",
     "output_type": "stream",
     "text": [
      "\r",
      "94it [00:14,  7.37it/s]"
     ]
    },
    {
     "name": "stderr",
     "output_type": "stream",
     "text": [
      "\r",
      "95it [00:14,  7.44it/s]"
     ]
    },
    {
     "name": "stderr",
     "output_type": "stream",
     "text": [
      "\r",
      "96it [00:14,  7.68it/s]"
     ]
    },
    {
     "name": "stderr",
     "output_type": "stream",
     "text": [
      "\r",
      "97it [00:14,  7.66it/s]"
     ]
    },
    {
     "name": "stderr",
     "output_type": "stream",
     "text": [
      "\r",
      "98it [00:15,  7.16it/s]"
     ]
    },
    {
     "name": "stderr",
     "output_type": "stream",
     "text": [
      "\r",
      "99it [00:15,  7.26it/s]"
     ]
    },
    {
     "name": "stderr",
     "output_type": "stream",
     "text": [
      "\r",
      "100it [00:15,  7.54it/s]"
     ]
    },
    {
     "name": "stderr",
     "output_type": "stream",
     "text": [
      "\r",
      "101it [00:15,  7.55it/s]"
     ]
    },
    {
     "name": "stderr",
     "output_type": "stream",
     "text": [
      "\r",
      "102it [00:15,  7.50it/s]"
     ]
    },
    {
     "name": "stderr",
     "output_type": "stream",
     "text": [
      "\r",
      "103it [00:15,  7.43it/s]"
     ]
    },
    {
     "name": "stderr",
     "output_type": "stream",
     "text": [
      "\r",
      "104it [00:15,  6.43it/s]"
     ]
    },
    {
     "name": "stderr",
     "output_type": "stream",
     "text": [
      "\r",
      "105it [00:16,  6.01it/s]"
     ]
    },
    {
     "name": "stderr",
     "output_type": "stream",
     "text": [
      "\r",
      "106it [00:16,  6.31it/s]"
     ]
    },
    {
     "name": "stderr",
     "output_type": "stream",
     "text": [
      "\r",
      "107it [00:16,  6.51it/s]"
     ]
    },
    {
     "name": "stderr",
     "output_type": "stream",
     "text": [
      "\r",
      "108it [00:16,  6.73it/s]"
     ]
    },
    {
     "name": "stderr",
     "output_type": "stream",
     "text": [
      "\r",
      "109it [00:16,  6.79it/s]"
     ]
    },
    {
     "name": "stderr",
     "output_type": "stream",
     "text": [
      "\r",
      "110it [00:16,  6.95it/s]"
     ]
    },
    {
     "name": "stderr",
     "output_type": "stream",
     "text": [
      "\r",
      "111it [00:16,  7.06it/s]"
     ]
    },
    {
     "name": "stderr",
     "output_type": "stream",
     "text": [
      "\r",
      "112it [00:17,  7.18it/s]"
     ]
    },
    {
     "name": "stderr",
     "output_type": "stream",
     "text": [
      "\r",
      "113it [00:17,  7.16it/s]"
     ]
    },
    {
     "name": "stderr",
     "output_type": "stream",
     "text": [
      "\r",
      "114it [00:17,  7.17it/s]"
     ]
    },
    {
     "name": "stderr",
     "output_type": "stream",
     "text": [
      "\r",
      "115it [00:17,  7.25it/s]"
     ]
    },
    {
     "name": "stderr",
     "output_type": "stream",
     "text": [
      "\r",
      "116it [00:17,  7.30it/s]"
     ]
    },
    {
     "name": "stderr",
     "output_type": "stream",
     "text": [
      "\r",
      "117it [00:17,  7.28it/s]"
     ]
    },
    {
     "name": "stderr",
     "output_type": "stream",
     "text": [
      "\r",
      "118it [00:17,  7.38it/s]"
     ]
    },
    {
     "name": "stderr",
     "output_type": "stream",
     "text": [
      "\r",
      "119it [00:17,  7.31it/s]"
     ]
    },
    {
     "name": "stderr",
     "output_type": "stream",
     "text": [
      "\r",
      "120it [00:18,  7.30it/s]"
     ]
    },
    {
     "name": "stderr",
     "output_type": "stream",
     "text": [
      "\r",
      "120it [00:18,  6.62it/s]"
     ]
    },
    {
     "name": "stderr",
     "output_type": "stream",
     "text": [
      "\n"
     ]
    }
   ],
   "source": [
    "in_token_probs = []\n",
    "latent_token_probs = []\n",
    "out_token_probs = []\n",
    "entropy = []\n",
    "energy = []\n",
    "latents_all = []\n",
    "\n",
    "for idx, d in tqdm(enumerate(dataset)):\n",
    "    logits,latents = get_logits(llama, d['prompt'],llama_lens)\n",
    "    last = logits[:, -1, :].float().softmax(dim=-1).detach().cpu()\n",
    "    latent_token_probs += [last[:, torch.tensor(d['latent_token_id'])].sum(dim=-1)]\n",
    "    out_token_probs += [last[:, torch.tensor(d['out_token_id'])].sum(dim=-1)]\n",
    "    entropy += [compute_entropy(last)]\n",
    "    latents_all += [latents[:, -1, :].float().detach().cpu().clone()]\n",
    "    latents_normalized = latents[:, -1, :].float()\n",
    "    latents_normalized = latents_normalized / (((latents_normalized**2).mean(dim=-1, keepdim=True))**0.5)\n",
    "    latents_normalized /= (latents_normalized.norm(dim=-1, keepdim=True))\n",
    "    norm = ((U_normalized @ latents_normalized.T)**2).mean(dim=0)**0.5\n",
    "    energy += [norm/avgUU]\n",
    "\n",
    "latent_token_probs = torch.stack(latent_token_probs)\n",
    "out_token_probs = torch.stack(out_token_probs)\n",
    "entropy = torch.stack(entropy)\n",
    "energy = torch.stack(energy)\n",
    "latents = torch.stack(latents_all)"
   ]
  },
  {
   "cell_type": "code",
   "execution_count": 16,
   "id": "680ef0b2",
   "metadata": {
    "execution": {
     "iopub.execute_input": "2024-02-23T16:07:53.003281Z",
     "iopub.status.busy": "2024-02-23T16:07:53.002894Z",
     "iopub.status.idle": "2024-02-23T16:07:53.337958Z",
     "shell.execute_reply": "2024-02-23T16:07:53.337565Z"
    },
    "papermill": {
     "duration": 0.349351,
     "end_time": "2024-02-23T16:07:53.338764",
     "exception": false,
     "start_time": "2024-02-23T16:07:52.989413",
     "status": "completed"
    },
    "tags": []
   },
   "outputs": [
    {
     "name": "stderr",
     "output_type": "stream",
     "text": [
      "/mnt/ssd-1/gpaulo/llm-latent-language/utils.py:52: UserWarning: This figure includes Axes that are not compatible with tight_layout, so results might be incorrect.\n",
      "  plt.tight_layout()\n"
     ]
    },
    {
     "data": {
      "image/png": "[encoded data removed]",
      "text/plain": [
       "<Figure size 500x300 with 3 Axes>"
      ]
     },
     "metadata": {},
     "output_type": "display_data"
    }
   ],
   "source": [
    "size2tik = {'7b': 5, '13b': 5, '70b': 10}\n",
    "fig, ax, ax2 = plot_ci_plus_heatmap(latent_token_probs, entropy, latent, color='tab:orange', tik_step=size2tik[model_size], do_colorbar=True, #, do_colorbar=(model_size=='70b'),\n",
    "nums=[.99, 0.18, 0.025, 0.6])\n",
    "plot_ci(ax2, out_token_probs, target_lang, color='tab:blue', do_lines=False)\n",
    "ax2.set_xlabel('layer')\n",
    "ax2.set_ylabel('probability')\n",
    "if model_size == '7b':\n",
    "    ax2.set_xlim(0, out_token_probs.shape[1]+1)\n",
    "else:\n",
    "    ax2.set_xlim(0, round(out_token_probs.shape[1]/10)*10+1)\n",
    "ax2.set_ylim(0, 1)\n",
    "# make xticks start from 1\n",
    "# put legend on the top left\n",
    "ax2.legend(loc='upper left')\n",
    "os.makedirs(f'{out_dir}/translation', exist_ok=True)\n",
    "\n",
    "plt.savefig(f'{out_dir}/translation/{model_size}_{input_lang}_{target_lang}_probas_ent.jpg', dpi=300, bbox_inches='tight')"
   ]
  },
  {
   "cell_type": "code",
   "execution_count": 17,
   "id": "48c50e4a",
   "metadata": {
    "execution": {
     "iopub.execute_input": "2024-02-23T16:07:53.365951Z",
     "iopub.status.busy": "2024-02-23T16:07:53.365493Z",
     "iopub.status.idle": "2024-02-23T16:07:53.519370Z",
     "shell.execute_reply": "2024-02-23T16:07:53.518943Z"
    },
    "papermill": {
     "duration": 0.168383,
     "end_time": "2024-02-23T16:07:53.520292",
     "exception": false,
     "start_time": "2024-02-23T16:07:53.351909",
     "status": "completed"
    },
    "tags": []
   },
   "outputs": [
    {
     "data": {
      "image/png": "[encoded data removed]",
      "text/plain": [
       "<Figure size 500x300 with 1 Axes>"
      ]
     },
     "metadata": {},
     "output_type": "display_data"
    }
   ],
   "source": [
    "size2tik = {'7b': 5, '13b': 5, '70b': 10}\n",
    "\n",
    "fig, ax2 = plt.subplots(figsize=(5,3))\n",
    "plot_ci(ax2, energy, 'energy', color='tab:green', do_lines=True, tik_step=size2tik[model_size])\n",
    "ax2.set_xlabel('layer')\n",
    "ax2.set_ylabel('energy')\n",
    "if model_size == '7b':\n",
    "    ax2.set_xlim(0, out_token_probs.shape[1]+1)\n",
    "else:\n",
    "    ax2.set_xlim(0, round(out_token_probs.shape[1]/10)*10+1)\n",
    "os.makedirs(f'{out_dir}/translation', exist_ok=True)\n",
    "plt.savefig(f'{out_dir}/translation/{model_size}_{input_lang}_{target_lang}_energy.jpg', dpi=300, bbox_inches='tight')"
   ]
  },
  {
   "cell_type": "code",
   "execution_count": null,
   "id": "de0f66f1",
   "metadata": {
    "papermill": {
     "duration": 0.01994,
     "end_time": "2024-02-23T16:07:53.560859",
     "exception": false,
     "start_time": "2024-02-23T16:07:53.540919",
     "status": "completed"
    },
    "tags": []
   },
   "outputs": [],
   "source": []
  }
 ],
 "metadata": {
  "kernelspec": {
   "display_name": "Python 3 (ipykernel)",
   "language": "python",
   "name": "python3"
  },
  "language_info": {
   "codemirror_mode": {
    "name": "ipython",
    "version": 3
   },
   "file_extension": ".py",
   "mimetype": "text/x-python",
   "name": "python",
   "nbconvert_exporter": "python",
   "pygments_lexer": "ipython3",
   "version": "3.11.5"
  },
  "papermill": {
   "default_parameters": {},
   "duration": 59.663694,
   "end_time": "2024-02-23T16:07:54.693431",
   "environment_variables": {},
   "exception": null,
   "input_path": "Translation.ipynb",
   "output_path": "visuals/executed_notebooks/Translation_Logit_7b_de_en.ipynb",
   "parameters": {
    "input_lang": "de",
    "model_size": "7b",
    "target_lang": "en",
    "type": "logit"
   },
   "start_time": "2024-02-23T16:06:55.029737",
   "version": "2.5.0"
  },
  "widgets": {
   "application/vnd.jupyter.widget-state+json": {
    "state": {
     "11aae6197f0f4d87a50e4361a9ed3d5d": {
      "model_module": "@jupyter-widgets/base",
      "model_module_version": "2.0.0",
      "model_name": "LayoutModel",
      "state": {
       "_model_module": "@jupyter-widgets/base",
       "_model_module_version": "2.0.0",
       "_model_name": "LayoutModel",
       "_view_count": null,
       "_view_module": "@jupyter-widgets/base",
       "_view_module_version": "2.0.0",
       "_view_name": "LayoutView",
       "align_content": null,
       "align_items": null,
       "align_self": null,
       "border_bottom": null,
       "border_left": null,
       "border_right": null,
       "border_top": null,
       "bottom": null,
       "display": null,
       "flex": null,
       "flex_flow": null,
       "grid_area": null,
       "grid_auto_columns": null,
       "grid_auto_flow": null,
       "grid_auto_rows": null,
       "grid_column": null,
       "grid_gap": null,
       "grid_row": null,
       "grid_template_areas": null,
       "grid_template_columns": null,
       "grid_template_rows": null,
       "height": null,
       "justify_content": null,
       "justify_items": null,
       "left": null,
       "margin": null,
       "max_height": null,
       "max_width": null,
       "min_height": null,
       "min_width": null,
       "object_fit": null,
       "object_position": null,
       "order": null,
       "overflow": null,
       "padding": null,
       "right": null,
       "top": null,
       "visibility": null,
       "width": null
      }
     },
     "1a8a627714b24b349d7cb23368bbf202": {
      "model_module": "@jupyter-widgets/controls",
      "model_module_version": "2.0.0",
      "model_name": "HTMLStyleModel",
      "state": {
       "_model_module": "@jupyter-widgets/controls",
       "_model_module_version": "2.0.0",
       "_model_name": "HTMLStyleModel",
       "_view_count": null,
       "_view_module": "@jupyter-widgets/base",
       "_view_module_version": "2.0.0",
       "_view_name": "StyleView",
       "background": null,
       "description_width": "",
       "font_size": null,
       "text_color": null
      }
     },
     "4fce660065b64865aef8ff172cb6cffb": {
      "model_module": "@jupyter-widgets/controls",
      "model_module_version": "2.0.0",
      "model_name": "HBoxModel",
      "state": {
       "_dom_classes": [],
       "_model_module": "@jupyter-widgets/controls",
       "_model_module_version": "2.0.0",
       "_model_name": "HBoxModel",
       "_view_count": null,
       "_view_module": "@jupyter-widgets/controls",
       "_view_module_version": "2.0.0",
       "_view_name": "HBoxView",
       "box_style": "",
       "children": [
        "IPY_MODEL_56d4434e5e404f1fb189d7523c129b24",
        "IPY_MODEL_ab4f383164af497f99afdfc54606388a",
        "IPY_MODEL_b82ffc28756342bf84d696e0b866ee33"
       ],
       "layout": "IPY_MODEL_6feef4e990044e68aaaaab25877d4158",
       "tabbable": null,
       "tooltip": null
      }
     },
     "56d4434e5e404f1fb189d7523c129b24": {
      "model_module": "@jupyter-widgets/controls",
      "model_module_version": "2.0.0",
      "model_name": "HTMLModel",
      "state": {
       "_dom_classes": [],
       "_model_module": "@jupyter-widgets/controls",
       "_model_module_version": "2.0.0",
       "_model_name": "HTMLModel",
       "_view_count": null,
       "_view_module": "@jupyter-widgets/controls",
       "_view_module_version": "2.0.0",
       "_view_name": "HTMLView",
       "description": "",
       "description_allow_html": false,
       "layout": "IPY_MODEL_807a843ef9ba4862a3fc9b426be1291f",
       "placeholder": "​",
       "style": "IPY_MODEL_1a8a627714b24b349d7cb23368bbf202",
       "tabbable": null,
       "tooltip": null,
       "value": "Loading checkpoint shards: 100%"
      }
     },
     "6feef4e990044e68aaaaab25877d4158": {
      "model_module": "@jupyter-widgets/base",
      "model_module_version": "2.0.0",
      "model_name": "LayoutModel",
      "state": {
       "_model_module": "@jupyter-widgets/base",
       "_model_module_version": "2.0.0",
       "_model_name": "LayoutModel",
       "_view_count": null,
       "_view_module": "@jupyter-widgets/base",
       "_view_module_version": "2.0.0",
       "_view_name": "LayoutView",
       "align_content": null,
       "align_items": null,
       "align_self": null,
       "border_bottom": null,
       "border_left": null,
       "border_right": null,
       "border_top": null,
       "bottom": null,
       "display": null,
       "flex": null,
       "flex_flow": null,
       "grid_area": null,
       "grid_auto_columns": null,
       "grid_auto_flow": null,
       "grid_auto_rows": null,
       "grid_column": null,
       "grid_gap": null,
       "grid_row": null,
       "grid_template_areas": null,
       "grid_template_columns": null,
       "grid_template_rows": null,
       "height": null,
       "justify_content": null,
       "justify_items": null,
       "left": null,
       "margin": null,
       "max_height": null,
       "max_width": null,
       "min_height": null,
       "min_width": null,
       "object_fit": null,
       "object_position": null,
       "order": null,
       "overflow": null,
       "padding": null,
       "right": null,
       "top": null,
       "visibility": null,
       "width": null
      }
     },
     "70e020c7091b424aaff2e9ee424493b3": {
      "model_module": "@jupyter-widgets/controls",
      "model_module_version": "2.0.0",
      "model_name": "HTMLStyleModel",
      "state": {
       "_model_module": "@jupyter-widgets/controls",
       "_model_module_version": "2.0.0",
       "_model_name": "HTMLStyleModel",
       "_view_count": null,
       "_view_module": "@jupyter-widgets/base",
       "_view_module_version": "2.0.0",
       "_view_name": "StyleView",
       "background": null,
       "description_width": "",
       "font_size": null,
       "text_color": null
      }
     },
     "762d33202672420a97bc316cdd2d1903": {
      "model_module": "@jupyter-widgets/base",
      "model_module_version": "2.0.0",
      "model_name": "LayoutModel",
      "state": {
       "_model_module": "@jupyter-widgets/base",
       "_model_module_version": "2.0.0",
       "_model_name": "LayoutModel",
       "_view_count": null,
       "_view_module": "@jupyter-widgets/base",
       "_view_module_version": "2.0.0",
       "_view_name": "LayoutView",
       "align_content": null,
       "align_items": null,
       "align_self": null,
       "border_bottom": null,
       "border_left": null,
       "border_right": null,
       "border_top": null,
       "bottom": null,
       "display": null,
       "flex": null,
       "flex_flow": null,
       "grid_area": null,
       "grid_auto_columns": null,
       "grid_auto_flow": null,
       "grid_auto_rows": null,
       "grid_column": null,
       "grid_gap": null,
       "grid_row": null,
       "grid_template_areas": null,
       "grid_template_columns": null,
       "grid_template_rows": null,
       "height": null,
       "justify_content": null,
       "justify_items": null,
       "left": null,
       "margin": null,
       "max_height": null,
       "max_width": null,
       "min_height": null,
       "min_width": null,
       "object_fit": null,
       "object_position": null,
       "order": null,
       "overflow": null,
       "padding": null,
       "right": null,
       "top": null,
       "visibility": null,
       "width": null
      }
     },
     "807a843ef9ba4862a3fc9b426be1291f": {
      "model_module": "@jupyter-widgets/base",
      "model_module_version": "2.0.0",
      "model_name": "LayoutModel",
      "state": {
       "_model_module": "@jupyter-widgets/base",
       "_model_module_version": "2.0.0",
       "_model_name": "LayoutModel",
       "_view_count": null,
       "_view_module": "@jupyter-widgets/base",
       "_view_module_version": "2.0.0",
       "_view_name": "LayoutView",
       "align_content": null,
       "align_items": null,
       "align_self": null,
       "border_bottom": null,
       "border_left": null,
       "border_right": null,
       "border_top": null,
       "bottom": null,
       "display": null,
       "flex": null,
       "flex_flow": null,
       "grid_area": null,
       "grid_auto_columns": null,
       "grid_auto_flow": null,
       "grid_auto_rows": null,
       "grid_column": null,
       "grid_gap": null,
       "grid_row": null,
       "grid_template_areas": null,
       "grid_template_columns": null,
       "grid_template_rows": null,
       "height": null,
       "justify_content": null,
       "justify_items": null,
       "left": null,
       "margin": null,
       "max_height": null,
       "max_width": null,
       "min_height": null,
       "min_width": null,
       "object_fit": null,
       "object_position": null,
       "order": null,
       "overflow": null,
       "padding": null,
       "right": null,
       "top": null,
       "visibility": null,
       "width": null
      }
     },
     "ab4f383164af497f99afdfc54606388a": {
      "model_module": "@jupyter-widgets/controls",
      "model_module_version": "2.0.0",
      "model_name": "FloatProgressModel",
      "state": {
       "_dom_classes": [],
       "_model_module": "@jupyter-widgets/controls",
       "_model_module_version": "2.0.0",
       "_model_name": "FloatProgressModel",
       "_view_count": null,
       "_view_module": "@jupyter-widgets/controls",
       "_view_module_version": "2.0.0",
       "_view_name": "ProgressView",
       "bar_style": "success",
       "description": "",
       "description_allow_html": false,
       "layout": "IPY_MODEL_762d33202672420a97bc316cdd2d1903",
       "max": 2.0,
       "min": 0.0,
       "orientation": "horizontal",
       "style": "IPY_MODEL_ad1306093ed44c33906849b3f030e4a9",
       "tabbable": null,
       "tooltip": null,
       "value": 2.0
      }
     },
     "ad1306093ed44c33906849b3f030e4a9": {
      "model_module": "@jupyter-widgets/controls",
      "model_module_version": "2.0.0",
      "model_name": "ProgressStyleModel",
      "state": {
       "_model_module": "@jupyter-widgets/controls",
       "_model_module_version": "2.0.0",
       "_model_name": "ProgressStyleModel",
       "_view_count": null,
       "_view_module": "@jupyter-widgets/base",
       "_view_module_version": "2.0.0",
       "_view_name": "StyleView",
       "bar_color": null,
       "description_width": ""
      }
     },
     "b82ffc28756342bf84d696e0b866ee33": {
      "model_module": "@jupyter-widgets/controls",
      "model_module_version": "2.0.0",
      "model_name": "HTMLModel",
      "state": {
       "_dom_classes": [],
       "_model_module": "@jupyter-widgets/controls",
       "_model_module_version": "2.0.0",
       "_model_name": "HTMLModel",
       "_view_count": null,
       "_view_module": "@jupyter-widgets/controls",
       "_view_module_version": "2.0.0",
       "_view_name": "HTMLView",
       "description": "",
       "description_allow_html": false,
       "layout": "IPY_MODEL_11aae6197f0f4d87a50e4361a9ed3d5d",
       "placeholder": "​",
       "style": "IPY_MODEL_70e020c7091b424aaff2e9ee424493b3",
       "tabbable": null,
       "tooltip": null,
       "value": " 2/2 [00:05&lt;00:00,  2.45s/it]"
      }
     }
    },
    "version_major": 2,
    "version_minor": 0
   }
  }
 },
 "nbformat": 4,
 "nbformat_minor": 5
}