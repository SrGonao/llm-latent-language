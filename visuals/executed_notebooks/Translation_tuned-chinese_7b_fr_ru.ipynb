{
 "cells": [
  {
   "cell_type": "code",
   "execution_count": 1,
   "id": "9e266eca-b017-461f-9be4-bec02cae9b28",
   "metadata": {
    "execution": {
     "iopub.execute_input": "2024-02-25T15:59:31.074807Z",
     "iopub.status.busy": "2024-02-25T15:59:31.074669Z",
     "iopub.status.idle": "2024-02-25T15:59:31.087242Z",
     "shell.execute_reply": "2024-02-25T15:59:31.086913Z"
    },
    "papermill": {
     "duration": 0.018846,
     "end_time": "2024-02-25T15:59:31.088113",
     "exception": false,
     "start_time": "2024-02-25T15:59:31.069267",
     "status": "completed"
    },
    "tags": []
   },
   "outputs": [],
   "source": [
    "%load_ext autoreload\n",
    "%autoreload 2"
   ]
  },
  {
   "cell_type": "code",
   "execution_count": 2,
   "id": "fae8a7a9-6902-424e-8e66-b107fccb361f",
   "metadata": {
    "execution": {
     "iopub.execute_input": "2024-02-25T15:59:31.095177Z",
     "iopub.status.busy": "2024-02-25T15:59:31.094995Z",
     "iopub.status.idle": "2024-02-25T15:59:34.076570Z",
     "shell.execute_reply": "2024-02-25T15:59:34.075860Z"
    },
    "papermill": {
     "duration": 2.986154,
     "end_time": "2024-02-25T15:59:34.077798",
     "exception": false,
     "start_time": "2024-02-25T15:59:31.091644",
     "status": "completed"
    },
    "tags": []
   },
   "outputs": [],
   "source": [
    "import pandas as pd\n",
    "import sys\n",
    "import os\n",
    "from dataclasses import dataclass\n",
    "import json\n",
    "import numpy as np\n",
    "from matplotlib import pyplot as plt\n",
    "import seaborn as sns\n",
    "import torch\n",
    "import torch.nn as nn\n",
    "from llamawrapper import load_unemb_only, LlamaHelper\n",
    "import seaborn as sns\n",
    "from scipy.stats import bootstrap\n",
    "from utils import plot_ci, plot_ci_plus_heatmap\n",
    "from tqdm import tqdm\n",
    "from transformers import AutoModelForCausalLM, AutoTokenizer\n",
    "# fix random seed\n",
    "seed = 42\n",
    "np.random.seed(seed)\n",
    "torch.manual_seed(seed)\n",
    "sys.path.append('../tuned-lens')\n",
    "from tuned_lens.nn.lenses import TunedLens,LogitLens"
   ]
  },
  {
   "cell_type": "code",
   "execution_count": 3,
   "id": "1fb93987",
   "metadata": {
    "execution": {
     "iopub.execute_input": "2024-02-25T15:59:34.086440Z",
     "iopub.status.busy": "2024-02-25T15:59:34.086088Z",
     "iopub.status.idle": "2024-02-25T15:59:34.116198Z",
     "shell.execute_reply": "2024-02-25T15:59:34.115479Z"
    },
    "papermill": {
     "duration": 0.034812,
     "end_time": "2024-02-25T15:59:34.117294",
     "exception": false,
     "start_time": "2024-02-25T15:59:34.082482",
     "status": "completed"
    },
    "tags": [
     "parameters"
    ]
   },
   "outputs": [],
   "source": [
    "input_lang = 'zh'\n",
    "target_lang = 'fr'\n",
    "model_size = '7b'\n",
    "prefix = \"./data/langs/\"\n",
    "type = 'tuned-chinese-en'\n"
   ]
  },
  {
   "cell_type": "code",
   "execution_count": 4,
   "id": "cfc78c74",
   "metadata": {
    "execution": {
     "iopub.execute_input": "2024-02-25T15:59:34.125920Z",
     "iopub.status.busy": "2024-02-25T15:59:34.125493Z",
     "iopub.status.idle": "2024-02-25T15:59:34.152586Z",
     "shell.execute_reply": "2024-02-25T15:59:34.152083Z"
    },
    "papermill": {
     "duration": 0.032773,
     "end_time": "2024-02-25T15:59:34.153569",
     "exception": false,
     "start_time": "2024-02-25T15:59:34.120796",
     "status": "completed"
    },
    "tags": [
     "injected-parameters"
    ]
   },
   "outputs": [],
   "source": [
    "# Parameters\n",
    "model_size = \"7b\"\n",
    "target_lang = \"ru\"\n",
    "input_lang = \"fr\"\n",
    "type = \"tuned-chinese\"\n"
   ]
  },
  {
   "cell_type": "code",
   "execution_count": 5,
   "id": "ccb0899b",
   "metadata": {
    "execution": {
     "iopub.execute_input": "2024-02-25T15:59:34.161196Z",
     "iopub.status.busy": "2024-02-25T15:59:34.160784Z",
     "iopub.status.idle": "2024-02-25T15:59:34.187437Z",
     "shell.execute_reply": "2024-02-25T15:59:34.186957Z"
    },
    "papermill": {
     "duration": 0.031247,
     "end_time": "2024-02-25T15:59:34.188404",
     "exception": false,
     "start_time": "2024-02-25T15:59:34.157157",
     "status": "completed"
    },
    "tags": []
   },
   "outputs": [],
   "source": [
    "df_en_input = pd.read_csv(f'{prefix}{input_lang}/clean.csv').reindex()\n",
    "df_en_target = pd.read_csv(f'{prefix}{target_lang}/clean.csv').reindex()"
   ]
  },
  {
   "cell_type": "code",
   "execution_count": 6,
   "id": "33747213",
   "metadata": {
    "execution": {
     "iopub.execute_input": "2024-02-25T15:59:34.195497Z",
     "iopub.status.busy": "2024-02-25T15:59:34.195182Z",
     "iopub.status.idle": "2024-02-25T15:59:41.720346Z",
     "shell.execute_reply": "2024-02-25T15:59:41.719330Z"
    },
    "papermill": {
     "duration": 7.529779,
     "end_time": "2024-02-25T15:59:41.721584",
     "exception": false,
     "start_time": "2024-02-25T15:59:34.191805",
     "status": "completed"
    },
    "tags": []
   },
   "outputs": [
    {
     "data": {
      "application/vnd.jupyter.widget-view+json": {
       "model_id": "3ad60b4f6b224cd09ee3796e304f5269",
       "version_major": 2,
       "version_minor": 0
      },
      "text/plain": [
       "Loading checkpoint shards:   0%|          | 0/2 [00:00<?, ?it/s]"
      ]
     },
     "metadata": {},
     "output_type": "display_data"
    }
   ],
   "source": [
    "\n",
    "llama = AutoModelForCausalLM.from_pretrained(  # type: ignore\n",
    "                f\"meta-llama/Llama-2-{model_size}-hf\",\n",
    "                device_map={\"\": \"cuda\"},\n",
    "                revision=\"main\",\n",
    "                torch_dtype=\"auto\",\n",
    "                local_files_only=\"true\",cache_dir=\"/mnt/ssd-1/hf_cache/\"\n",
    "            )\n",
    "latent=\"en\"\n",
    "if type == 'logit':\n",
    "    llama_lens = LogitLens.from_model(llama).to(\"cuda\")\n",
    "    out_dir = f'./visuals/logit'\n",
    "    \n",
    "if type == 'tuned':\n",
    "    llama_lens = TunedLens.from_model_and_pretrained(llama,f\"meta-llama/Llama-2-{model_size}-hf\").to(\"cuda\")\n",
    "    out_dir = f'./visuals/tuned'\n",
    "if type == 'tuned-chinese':\n",
    "    llama_lens = TunedLens.from_model_and_pretrained(llama,f\"../tuned-lens/my_lenses/chinese/{model_size}\").to(\"cuda\")\n",
    "    out_dir = f'./visuals/tuned-chinese'\n",
    "    latent = 'zh'\n",
    "    chinese = pd.read_csv(f'{prefix}zh/clean.csv').reindex()\n",
    "if type == 'tuned-chinese-en':\n",
    "    llama_lens = TunedLens.from_model_and_pretrained(llama,f\"../tuned-lens/my_lenses/chinese/{model_size}\").to(\"cuda\")\n",
    "    out_dir = f'./visuals/tuned-chinese-en'\n",
    "    latent = 'en'\n",
    "    chinese = pd.read_csv(f'{prefix}zh/clean.csv').reindex()\n",
    "tokenizer = AutoTokenizer.from_pretrained(\n",
    "                f\"meta-llama/Llama-2-7b-hf\",local_files_only=\"true\",cache_dir=\"/mnt/ssd-1/hf_cache/\"\n",
    "            )"
   ]
  },
  {
   "cell_type": "code",
   "execution_count": 7,
   "id": "bc45e052",
   "metadata": {
    "execution": {
     "iopub.execute_input": "2024-02-25T15:59:41.731792Z",
     "iopub.status.busy": "2024-02-25T15:59:41.731613Z",
     "iopub.status.idle": "2024-02-25T15:59:42.965638Z",
     "shell.execute_reply": "2024-02-25T15:59:42.964892Z"
    },
    "papermill": {
     "duration": 1.238987,
     "end_time": "2024-02-25T15:59:42.966487",
     "exception": false,
     "start_time": "2024-02-25T15:59:41.727500",
     "status": "completed"
    },
    "tags": []
   },
   "outputs": [
    {
     "name": "stdout",
     "output_type": "stream",
     "text": [
      "Sequential(\n",
      "  (0): LlamaRMSNorm()\n",
      "  (1): Linear(in_features=4096, out_features=32000, bias=False)\n",
      ")\n",
      "U torch.Size([32000, 4096]) weights torch.Size([1, 4096])\n"
     ]
    },
    {
     "name": "stdout",
     "output_type": "stream",
     "text": [
      "0.058621685951948166\n"
     ]
    }
   ],
   "source": [
    "unemb = nn.Sequential(llama.model.norm, llama.lm_head)\n",
    "print(unemb)\n",
    "# prepare for energy plots\n",
    "U = list(unemb[1].parameters())[0].detach().cpu().float()\n",
    "weights = list(unemb[0].parameters())[0].detach().cpu().float()\n",
    "print(f'U {U.shape} weights {weights.unsqueeze(0).shape}')\n",
    "U_weighted = U.clone() \n",
    "#U_weighted = U_weighted / ((U_weighted**2).mean(dim=1, keepdim=True))**0.5\n",
    "U_weighted *= weights.unsqueeze(0)\n",
    "U_normalized = U_weighted / ((U_weighted**2).sum(dim=1, keepdim=True))**0.5\n",
    "v = U.shape[0]\n",
    "TT = U_normalized.T @ U_normalized\n",
    "avgUU = (((U_normalized.T @ U_normalized)**2).sum() / v**2)**0.5\n",
    "print(avgUU.item())"
   ]
  },
  {
   "cell_type": "code",
   "execution_count": 8,
   "id": "5686a8d5",
   "metadata": {
    "execution": {
     "iopub.execute_input": "2024-02-25T15:59:42.983146Z",
     "iopub.status.busy": "2024-02-25T15:59:42.982590Z",
     "iopub.status.idle": "2024-02-25T15:59:44.485005Z",
     "shell.execute_reply": "2024-02-25T15:59:44.483951Z"
    },
    "papermill": {
     "duration": 1.514333,
     "end_time": "2024-02-25T15:59:44.486410",
     "exception": false,
     "start_time": "2024-02-25T15:59:42.972077",
     "status": "completed"
    },
    "tags": []
   },
   "outputs": [
    {
     "name": "stdout",
     "output_type": "stream",
     "text": [
      "for ru 15 of 115 are single tokens\n",
      "final length of df_zh_ru_fr: 104\n"
     ]
    }
   ],
   "source": [
    "count = 0\n",
    "for idx, word in enumerate(df_en_target['word_translation']):\n",
    "    if word in tokenizer.get_vocab() or '▁'+word in tokenizer.get_vocab():\n",
    "        count += 1\n",
    "\n",
    "print(f'for {target_lang} {count} of {len(df_en_target)} are single tokens')\n",
    "\n",
    "if input_lang == target_lang:\n",
    "    df_en_target_input = df_en_target.copy()\n",
    "    if latent == 'zh':\n",
    "      df_en_target_input = df_en_target.copy()\n",
    "      chinese = chinese.loc[chinese[\"word_original\"].isin(df_en_input[\"word_original\"])]\n",
    "      df_en_target_input= df_en_target_input.loc[df_en_target_input[\"word_original\"].isin(chinese[\"word_original\"])]\n",
    "      chinese.sort_values(by=\"word_original\", inplace=True)\n",
    "      df_en_target_input.sort_values(by=\"word_original\", inplace=True)\n",
    "      chinese.reset_index(drop=True, inplace=True)\n",
    "      df_en_target_input.reset_index(drop=True, inplace=True)\n",
    "      df_en_target_input[\"word_original\"] = chinese[\"word_translation\"]\n",
    "    df_en_target_input.rename(columns={'word_original': latent, \n",
    "                                f'word_translation': target_lang if target_lang != latent else f'{latent}_tgt'}, \n",
    "                                inplace=True)\n",
    "    \n",
    "else:\n",
    "    df_en_target_input = df_en_target.merge(df_en_input, on=['word_original'], suffixes=(f'_{target_lang}', f'_{input_lang}'))\n",
    "    if latent == 'zh':\n",
    "      chinese = chinese.loc[chinese[\"word_original\"].isin(df_en_target_input[\"word_original\"])]\n",
    "      df_en_target_input= df_en_target_input.loc[df_en_target_input[\"word_original\"].isin(chinese[\"word_original\"])]\n",
    "      chinese.sort_values(by=\"word_original\", inplace=True)\n",
    "      df_en_target_input.sort_values(by=\"word_original\", inplace=True)\n",
    "      chinese.reset_index(drop=True, inplace=True)\n",
    "      df_en_target_input.reset_index(drop=True, inplace=True)\n",
    "      df_en_target_input[\"word_original\"] = chinese[\"word_translation\"]\n",
    "\n",
    "    df_en_target_input.rename(columns={'word_original': latent, \n",
    "                                f'word_translation_{target_lang}': target_lang if target_lang != latent else f'{latent}_tgt', \n",
    "                                f'word_translation_{input_lang}': input_lang if input_lang != latent else f'{latent}_in'}, \n",
    "                                inplace=True)\n",
    "# delete all rows where en is contained in de or fr\n",
    "if target_lang != latent:\n",
    "    for i, row in df_en_target_input.iterrows():\n",
    "        if row[latent].lower() in row[target_lang].lower():\n",
    "            df_en_target_input.drop(i, inplace=True)\n",
    "\n",
    "print(f'final length of df_{latent}_{target_lang}_{input_lang}: {len(df_en_target_input)}')"
   ]
  },
  {
   "cell_type": "code",
   "execution_count": 9,
   "id": "f0c0a52d",
   "metadata": {
    "execution": {
     "iopub.execute_input": "2024-02-25T15:59:44.496956Z",
     "iopub.status.busy": "2024-02-25T15:59:44.496772Z",
     "iopub.status.idle": "2024-02-25T15:59:44.529969Z",
     "shell.execute_reply": "2024-02-25T15:59:44.529312Z"
    },
    "papermill": {
     "duration": 0.03878,
     "end_time": "2024-02-25T15:59:44.530899",
     "exception": false,
     "start_time": "2024-02-25T15:59:44.492119",
     "status": "completed"
    },
    "tags": []
   },
   "outputs": [],
   "source": [
    "def token_prefixes(token_str: str):\n",
    "    n = len(token_str)\n",
    "    tokens = [token_str[:i] for i in range(1, n+1)]\n",
    "    return tokens \n",
    "\n",
    "def add_spaces(tokens):\n",
    "    return ['▁' + t for t in tokens] + tokens\n",
    "\n",
    "def capitalizations(tokens):\n",
    "    return list(set(tokens))\n",
    "\n",
    "def unicode_prefix_tokid(zh_char = \"云\", tokenizer=tokenizer):\n",
    "    start = zh_char.encode().__str__()[2:-1].split('\\\\x')[1]\n",
    "    unicode_format = '<0x%s>'\n",
    "    start_key = unicode_format%start.upper()\n",
    "    if start_key in tokenizer.get_vocab():\n",
    "        return tokenizer.get_vocab()[start_key]\n",
    "    return None\n",
    "\n",
    "def process_tokens(token_str: str, tokenizer, lang):\n",
    "    with_prefixes = token_prefixes(token_str)\n",
    "    with_spaces = add_spaces(with_prefixes)\n",
    "    with_capitalizations = capitalizations(with_spaces)\n",
    "    final_tokens = []\n",
    "    for tok in with_capitalizations:\n",
    "        if tok in tokenizer.get_vocab():\n",
    "            final_tokens.append(tokenizer.get_vocab()[tok])\n",
    "    if lang in ['zh', 'ru']:\n",
    "        tokid = unicode_prefix_tokid(token_str, tokenizer)\n",
    "        if tokid is not None:\n",
    "            final_tokens.append(tokid)\n",
    "    return final_tokens"
   ]
  },
  {
   "cell_type": "code",
   "execution_count": 10,
   "id": "faa7bb78",
   "metadata": {
    "execution": {
     "iopub.execute_input": "2024-02-25T15:59:44.538219Z",
     "iopub.status.busy": "2024-02-25T15:59:44.538064Z",
     "iopub.status.idle": "2024-02-25T15:59:44.584320Z",
     "shell.execute_reply": "2024-02-25T15:59:44.583760Z"
    },
    "papermill": {
     "duration": 0.05093,
     "end_time": "2024-02-25T15:59:44.585295",
     "exception": false,
     "start_time": "2024-02-25T15:59:44.534365",
     "status": "completed"
    },
    "tags": []
   },
   "outputs": [],
   "source": [
    "\n",
    "id2voc = {id:voc for voc, id in tokenizer.get_vocab().items()}\n",
    "def get_tokens(token_ids, id2voc=id2voc):\n",
    "    return [id2voc[tokid] for tokid in token_ids]\n",
    "\n",
    "def compute_entropy(probas):\n",
    "    return (-probas*torch.log2(probas)).sum(dim=-1)\n",
    "\n",
    "lang2name = {'fr': 'Français', 'de': 'Deutsch', 'ru': 'Русский', 'en': 'English', 'zh': '中文'}\n",
    "def sample(df, ind, k=5, tokenizer=tokenizer, lang1='fr', lang2='de', lang_latent=latent):\n",
    "    df = df.reset_index(drop=True)\n",
    "    temp = df[df.index!=ind]\n",
    "    sample = pd.concat([temp.sample(k-1), df[df.index==ind]], axis=0)\n",
    "    prompt = \"\"\n",
    "    for idx, (df_idx, row) in enumerate(sample.iterrows()):\n",
    "        if idx < k-1:\n",
    "            prompt += f'{lang2name[lang1]}: \"{row[lang1]}\" - {lang2name[lang2]}: \"{row[lang2]}\"\\n'\n",
    "        else:\n",
    "            prompt += f'{lang2name[lang1]}: \"{row[lang1]}\" - {lang2name[lang2]}: \"'\n",
    "            in_token_str = row[lang1]\n",
    "            out_token_str = row[lang2]\n",
    "            out_token_id = process_tokens(out_token_str, tokenizer, lang2)\n",
    "            latent_token_str = row[lang_latent]\n",
    "            latent_token_id = process_tokens(latent_token_str, tokenizer, latent)\n",
    "            intersection = set(out_token_id).intersection(set(latent_token_id))\n",
    "            if len(out_token_id) == 0 or len(latent_token_id) == 0:\n",
    "                yield None\n",
    "            if lang2 != latent and len(intersection) > 0:\n",
    "                yield None\n",
    "            yield {'prompt': prompt, \n",
    "                'out_token_id': out_token_id, \n",
    "                'out_token_str': out_token_str,\n",
    "                'latent_token_id': latent_token_id, \n",
    "                'latent_token_str': latent_token_str, \n",
    "                'in_token_str': in_token_str}"
   ]
  },
  {
   "cell_type": "code",
   "execution_count": 11,
   "id": "500641f5",
   "metadata": {
    "execution": {
     "iopub.execute_input": "2024-02-25T15:59:44.592869Z",
     "iopub.status.busy": "2024-02-25T15:59:44.592515Z",
     "iopub.status.idle": "2024-02-25T15:59:59.503869Z",
     "shell.execute_reply": "2024-02-25T15:59:59.502433Z"
    },
    "papermill": {
     "duration": 14.916417,
     "end_time": "2024-02-25T15:59:59.505255",
     "exception": false,
     "start_time": "2024-02-25T15:59:44.588838",
     "status": "completed"
    },
    "tags": []
   },
   "outputs": [
    {
     "name": "stderr",
     "output_type": "stream",
     "text": [
      "\r",
      "  0%|                                                                                                                                                                                                                               | 0/104 [00:00<?, ?it/s]"
     ]
    },
    {
     "name": "stderr",
     "output_type": "stream",
     "text": [
      "\r",
      "  1%|██                                                                                                                                                                                                                     | 1/104 [00:00<00:17,  5.99it/s]"
     ]
    },
    {
     "name": "stderr",
     "output_type": "stream",
     "text": [
      "\r",
      "  2%|████▏                                                                                                                                                                                                                  | 2/104 [00:00<00:14,  6.86it/s]"
     ]
    },
    {
     "name": "stderr",
     "output_type": "stream",
     "text": [
      "\r",
      "  3%|██████▏                                                                                                                                                                                                                | 3/104 [00:00<00:12,  7.82it/s]"
     ]
    },
    {
     "name": "stderr",
     "output_type": "stream",
     "text": [
      "\r",
      "  4%|████████▎                                                                                                                                                                                                              | 4/104 [00:00<00:13,  7.23it/s]"
     ]
    },
    {
     "name": "stderr",
     "output_type": "stream",
     "text": [
      "\r",
      "  5%|██████████▎                                                                                                                                                                                                            | 5/104 [00:00<00:13,  7.61it/s]"
     ]
    },
    {
     "name": "stderr",
     "output_type": "stream",
     "text": [
      "\r",
      "  6%|████████████▍                                                                                                                                                                                                          | 6/104 [00:00<00:13,  7.42it/s]"
     ]
    },
    {
     "name": "stderr",
     "output_type": "stream",
     "text": [
      "\r",
      "  7%|██████████████▍                                                                                                                                                                                                        | 7/104 [00:00<00:13,  7.09it/s]"
     ]
    },
    {
     "name": "stderr",
     "output_type": "stream",
     "text": [
      "\r",
      "  8%|████████████████▌                                                                                                                                                                                                      | 8/104 [00:01<00:14,  6.61it/s]"
     ]
    },
    {
     "name": "stderr",
     "output_type": "stream",
     "text": [
      "\r",
      "  9%|██████████████████▌                                                                                                                                                                                                    | 9/104 [00:01<00:14,  6.62it/s]"
     ]
    },
    {
     "name": "stderr",
     "output_type": "stream",
     "text": [
      "\r",
      " 10%|████████████████████▌                                                                                                                                                                                                 | 10/104 [00:01<00:12,  7.28it/s]"
     ]
    },
    {
     "name": "stderr",
     "output_type": "stream",
     "text": [
      "\r",
      " 11%|██████████████████████▋                                                                                                                                                                                               | 11/104 [00:01<00:13,  7.03it/s]"
     ]
    },
    {
     "name": "stderr",
     "output_type": "stream",
     "text": [
      "\r",
      " 12%|████████████████████████▋                                                                                                                                                                                             | 12/104 [00:01<00:14,  6.18it/s]"
     ]
    },
    {
     "name": "stderr",
     "output_type": "stream",
     "text": [
      "\r",
      " 12%|██████████████████████████▊                                                                                                                                                                                           | 13/104 [00:01<00:14,  6.25it/s]"
     ]
    },
    {
     "name": "stderr",
     "output_type": "stream",
     "text": [
      "\r",
      " 13%|████████████████████████████▊                                                                                                                                                                                         | 14/104 [00:02<00:13,  6.45it/s]"
     ]
    },
    {
     "name": "stderr",
     "output_type": "stream",
     "text": [
      "\r",
      " 14%|██████████████████████████████▊                                                                                                                                                                                       | 15/104 [00:02<00:14,  6.30it/s]"
     ]
    },
    {
     "name": "stderr",
     "output_type": "stream",
     "text": [
      "\r",
      " 15%|████████████████████████████████▉                                                                                                                                                                                     | 16/104 [00:02<00:13,  6.42it/s]"
     ]
    },
    {
     "name": "stderr",
     "output_type": "stream",
     "text": [
      "\r",
      " 16%|██████████████████████████████████▉                                                                                                                                                                                   | 17/104 [00:02<00:13,  6.22it/s]"
     ]
    },
    {
     "name": "stderr",
     "output_type": "stream",
     "text": [
      "\r",
      " 17%|█████████████████████████████████████                                                                                                                                                                                 | 18/104 [00:02<00:13,  6.58it/s]"
     ]
    },
    {
     "name": "stderr",
     "output_type": "stream",
     "text": [
      "\r",
      " 18%|███████████████████████████████████████                                                                                                                                                                               | 19/104 [00:02<00:12,  7.01it/s]"
     ]
    },
    {
     "name": "stderr",
     "output_type": "stream",
     "text": [
      "\r",
      " 19%|█████████████████████████████████████████▏                                                                                                                                                                            | 20/104 [00:02<00:11,  7.09it/s]"
     ]
    },
    {
     "name": "stderr",
     "output_type": "stream",
     "text": [
      "\r",
      " 20%|███████████████████████████████████████████▏                                                                                                                                                                          | 21/104 [00:03<00:11,  7.34it/s]"
     ]
    },
    {
     "name": "stderr",
     "output_type": "stream",
     "text": [
      "\r",
      " 21%|█████████████████████████████████████████████▎                                                                                                                                                                        | 22/104 [00:03<00:11,  7.41it/s]"
     ]
    },
    {
     "name": "stderr",
     "output_type": "stream",
     "text": [
      "\r",
      " 22%|███████████████████████████████████████████████▎                                                                                                                                                                      | 23/104 [00:03<00:10,  7.57it/s]"
     ]
    },
    {
     "name": "stderr",
     "output_type": "stream",
     "text": [
      "\r",
      " 23%|█████████████████████████████████████████████████▍                                                                                                                                                                    | 24/104 [00:03<00:10,  7.80it/s]"
     ]
    },
    {
     "name": "stderr",
     "output_type": "stream",
     "text": [
      "\r",
      " 24%|███████████████████████████████████████████████████▍                                                                                                                                                                  | 25/104 [00:03<00:10,  7.42it/s]"
     ]
    },
    {
     "name": "stderr",
     "output_type": "stream",
     "text": [
      "\r",
      " 25%|█████████████████████████████████████████████████████▌                                                                                                                                                                | 26/104 [00:03<00:10,  7.59it/s]"
     ]
    },
    {
     "name": "stderr",
     "output_type": "stream",
     "text": [
      "\r",
      " 26%|███████████████████████████████████████████████████████▌                                                                                                                                                              | 27/104 [00:03<00:11,  6.81it/s]"
     ]
    },
    {
     "name": "stderr",
     "output_type": "stream",
     "text": [
      "\r",
      " 27%|█████████████████████████████████████████████████████████▌                                                                                                                                                            | 28/104 [00:04<00:11,  6.56it/s]"
     ]
    },
    {
     "name": "stderr",
     "output_type": "stream",
     "text": [
      "\r",
      " 28%|███████████████████████████████████████████████████████████▋                                                                                                                                                          | 29/104 [00:04<00:11,  6.81it/s]"
     ]
    },
    {
     "name": "stderr",
     "output_type": "stream",
     "text": [
      "\r",
      " 29%|█████████████████████████████████████████████████████████████▋                                                                                                                                                        | 30/104 [00:04<00:10,  6.81it/s]"
     ]
    },
    {
     "name": "stderr",
     "output_type": "stream",
     "text": [
      "\r",
      " 30%|███████████████████████████████████████████████████████████████▊                                                                                                                                                      | 31/104 [00:04<00:10,  6.83it/s]"
     ]
    },
    {
     "name": "stderr",
     "output_type": "stream",
     "text": [
      "\r",
      " 31%|█████████████████████████████████████████████████████████████████▊                                                                                                                                                    | 32/104 [00:04<00:10,  7.10it/s]"
     ]
    },
    {
     "name": "stderr",
     "output_type": "stream",
     "text": [
      "\r",
      " 32%|███████████████████████████████████████████████████████████████████▉                                                                                                                                                  | 33/104 [00:04<00:10,  6.86it/s]"
     ]
    },
    {
     "name": "stderr",
     "output_type": "stream",
     "text": [
      "\r",
      " 33%|█████████████████████████████████████████████████████████████████████▉                                                                                                                                                | 34/104 [00:04<00:10,  6.66it/s]"
     ]
    },
    {
     "name": "stderr",
     "output_type": "stream",
     "text": [
      "\r",
      " 34%|████████████████████████████████████████████████████████████████████████                                                                                                                                              | 35/104 [00:05<00:10,  6.41it/s]"
     ]
    },
    {
     "name": "stderr",
     "output_type": "stream",
     "text": [
      "\r",
      " 35%|██████████████████████████████████████████████████████████████████████████                                                                                                                                            | 36/104 [00:05<00:10,  6.63it/s]"
     ]
    },
    {
     "name": "stderr",
     "output_type": "stream",
     "text": [
      "\r",
      " 36%|████████████████████████████████████████████████████████████████████████████▏                                                                                                                                         | 37/104 [00:05<00:09,  7.14it/s]"
     ]
    },
    {
     "name": "stderr",
     "output_type": "stream",
     "text": [
      "\r",
      " 37%|██████████████████████████████████████████████████████████████████████████████▏                                                                                                                                       | 38/104 [00:05<00:09,  7.25it/s]"
     ]
    },
    {
     "name": "stderr",
     "output_type": "stream",
     "text": [
      "\r",
      " 38%|████████████████████████████████████████████████████████████████████████████████▎                                                                                                                                     | 39/104 [00:05<00:08,  7.51it/s]"
     ]
    },
    {
     "name": "stderr",
     "output_type": "stream",
     "text": [
      "\r",
      " 38%|██████████████████████████████████████████████████████████████████████████████████▎                                                                                                                                   | 40/104 [00:05<00:08,  7.62it/s]"
     ]
    },
    {
     "name": "stderr",
     "output_type": "stream",
     "text": [
      "\r",
      " 39%|████████████████████████████████████████████████████████████████████████████████████▎                                                                                                                                 | 41/104 [00:05<00:08,  7.62it/s]"
     ]
    },
    {
     "name": "stderr",
     "output_type": "stream",
     "text": [
      "\r",
      " 40%|██████████████████████████████████████████████████████████████████████████████████████▍                                                                                                                               | 42/104 [00:06<00:08,  7.33it/s]"
     ]
    },
    {
     "name": "stderr",
     "output_type": "stream",
     "text": [
      "\r",
      " 41%|████████████████████████████████████████████████████████████████████████████████████████▍                                                                                                                             | 43/104 [00:06<00:08,  7.21it/s]"
     ]
    },
    {
     "name": "stderr",
     "output_type": "stream",
     "text": [
      "\r",
      " 42%|██████████████████████████████████████████████████████████████████████████████████████████▌                                                                                                                           | 44/104 [00:06<00:09,  6.59it/s]"
     ]
    },
    {
     "name": "stderr",
     "output_type": "stream",
     "text": [
      "\r",
      " 43%|████████████████████████████████████████████████████████████████████████████████████████████▌                                                                                                                         | 45/104 [00:06<00:09,  6.17it/s]"
     ]
    },
    {
     "name": "stderr",
     "output_type": "stream",
     "text": [
      "\r",
      " 44%|██████████████████████████████████████████████████████████████████████████████████████████████▋                                                                                                                       | 46/104 [00:06<00:08,  6.81it/s]"
     ]
    },
    {
     "name": "stderr",
     "output_type": "stream",
     "text": [
      "\r",
      " 45%|████████████████████████████████████████████████████████████████████████████████████████████████▋                                                                                                                     | 47/104 [00:06<00:08,  7.05it/s]"
     ]
    },
    {
     "name": "stderr",
     "output_type": "stream",
     "text": [
      "\r",
      " 46%|██████████████████████████████████████████████████████████████████████████████████████████████████▊                                                                                                                   | 48/104 [00:06<00:07,  7.22it/s]"
     ]
    },
    {
     "name": "stderr",
     "output_type": "stream",
     "text": [
      "\r",
      " 47%|████████████████████████████████████████████████████████████████████████████████████████████████████▊                                                                                                                 | 49/104 [00:07<00:07,  7.76it/s]"
     ]
    },
    {
     "name": "stderr",
     "output_type": "stream",
     "text": [
      "\r",
      " 48%|██████████████████████████████████████████████████████████████████████████████████████████████████████▉                                                                                                               | 50/104 [00:07<00:07,  7.56it/s]"
     ]
    },
    {
     "name": "stderr",
     "output_type": "stream",
     "text": [
      "\r",
      " 49%|████████████████████████████████████████████████████████████████████████████████████████████████████████▉                                                                                                             | 51/104 [00:07<00:07,  7.26it/s]"
     ]
    },
    {
     "name": "stderr",
     "output_type": "stream",
     "text": [
      "\r",
      " 50%|███████████████████████████████████████████████████████████████████████████████████████████████████████████                                                                                                           | 52/104 [00:07<00:07,  7.22it/s]"
     ]
    },
    {
     "name": "stderr",
     "output_type": "stream",
     "text": [
      "\r",
      " 51%|█████████████████████████████████████████████████████████████████████████████████████████████████████████████                                                                                                         | 53/104 [00:07<00:06,  7.33it/s]"
     ]
    },
    {
     "name": "stderr",
     "output_type": "stream",
     "text": [
      "\r",
      " 52%|███████████████████████████████████████████████████████████████████████████████████████████████████████████████                                                                                                       | 54/104 [00:07<00:06,  7.85it/s]"
     ]
    },
    {
     "name": "stderr",
     "output_type": "stream",
     "text": [
      "\r",
      " 53%|█████████████████████████████████████████████████████████████████████████████████████████████████████████████████▏                                                                                                    | 55/104 [00:07<00:06,  7.57it/s]"
     ]
    },
    {
     "name": "stderr",
     "output_type": "stream",
     "text": [
      "\r",
      " 54%|███████████████████████████████████████████████████████████████████████████████████████████████████████████████████▏                                                                                                  | 56/104 [00:07<00:06,  7.19it/s]"
     ]
    },
    {
     "name": "stderr",
     "output_type": "stream",
     "text": [
      "\r",
      " 55%|█████████████████████████████████████████████████████████████████████████████████████████████████████████████████████▎                                                                                                | 57/104 [00:08<00:07,  6.68it/s]"
     ]
    },
    {
     "name": "stderr",
     "output_type": "stream",
     "text": [
      "\r",
      " 56%|███████████████████████████████████████████████████████████████████████████████████████████████████████████████████████▎                                                                                              | 58/104 [00:08<00:07,  6.30it/s]"
     ]
    },
    {
     "name": "stderr",
     "output_type": "stream",
     "text": [
      "\r",
      " 57%|█████████████████████████████████████████████████████████████████████████████████████████████████████████████████████████▍                                                                                            | 59/104 [00:08<00:06,  6.65it/s]"
     ]
    },
    {
     "name": "stderr",
     "output_type": "stream",
     "text": [
      "\r",
      " 58%|███████████████████████████████████████████████████████████████████████████████████████████████████████████████████████████▍                                                                                          | 60/104 [00:08<00:06,  7.07it/s]"
     ]
    },
    {
     "name": "stderr",
     "output_type": "stream",
     "text": [
      "\r",
      " 59%|█████████████████████████████████████████████████████████████████████████████████████████████████████████████████████████████▌                                                                                        | 61/104 [00:08<00:06,  6.69it/s]"
     ]
    },
    {
     "name": "stderr",
     "output_type": "stream",
     "text": [
      "\r",
      " 60%|███████████████████████████████████████████████████████████████████████████████████████████████████████████████████████████████▌                                                                                      | 62/104 [00:08<00:06,  6.87it/s]"
     ]
    },
    {
     "name": "stderr",
     "output_type": "stream",
     "text": [
      "\r",
      " 61%|█████████████████████████████████████████████████████████████████████████████████████████████████████████████████████████████████▋                                                                                    | 63/104 [00:09<00:06,  6.20it/s]"
     ]
    },
    {
     "name": "stderr",
     "output_type": "stream",
     "text": [
      "\r",
      " 62%|███████████████████████████████████████████████████████████████████████████████████████████████████████████████████████████████████▋                                                                                  | 64/104 [00:09<00:06,  6.28it/s]"
     ]
    },
    {
     "name": "stderr",
     "output_type": "stream",
     "text": [
      "\r",
      " 62%|█████████████████████████████████████████████████████████████████████████████████████████████████████████████████████████████████████▊                                                                                | 65/104 [00:09<00:06,  6.23it/s]"
     ]
    },
    {
     "name": "stderr",
     "output_type": "stream",
     "text": [
      "\r",
      " 63%|███████████████████████████████████████████████████████████████████████████████████████████████████████████████████████████████████████▊                                                                              | 66/104 [00:09<00:05,  6.72it/s]"
     ]
    },
    {
     "name": "stderr",
     "output_type": "stream",
     "text": [
      "\r",
      " 64%|█████████████████████████████████████████████████████████████████████████████████████████████████████████████████████████████████████████▊                                                                            | 67/104 [00:09<00:05,  6.73it/s]"
     ]
    },
    {
     "name": "stderr",
     "output_type": "stream",
     "text": [
      "\r",
      " 65%|███████████████████████████████████████████████████████████████████████████████████████████████████████████████████████████████████████████▉                                                                          | 68/104 [00:09<00:05,  6.89it/s]"
     ]
    },
    {
     "name": "stderr",
     "output_type": "stream",
     "text": [
      "\r",
      " 66%|█████████████████████████████████████████████████████████████████████████████████████████████████████████████████████████████████████████████▉                                                                        | 69/104 [00:09<00:04,  7.11it/s]"
     ]
    },
    {
     "name": "stderr",
     "output_type": "stream",
     "text": [
      "\r",
      " 67%|████████████████████████████████████████████████████████████████████████████████████████████████████████████████████████████████████████████████                                                                      | 70/104 [00:10<00:04,  6.91it/s]"
     ]
    },
    {
     "name": "stderr",
     "output_type": "stream",
     "text": [
      "\r",
      " 68%|██████████████████████████████████████████████████████████████████████████████████████████████████████████████████████████████████████████████████                                                                    | 71/104 [00:10<00:04,  7.23it/s]"
     ]
    },
    {
     "name": "stderr",
     "output_type": "stream",
     "text": [
      "\r",
      " 69%|████████████████████████████████████████████████████████████████████████████████████████████████████████████████████████████████████████████████████▏                                                                 | 72/104 [00:10<00:04,  7.35it/s]"
     ]
    },
    {
     "name": "stderr",
     "output_type": "stream",
     "text": [
      "\r",
      " 70%|██████████████████████████████████████████████████████████████████████████████████████████████████████████████████████████████████████████████████████▏                                                               | 73/104 [00:10<00:03,  7.87it/s]"
     ]
    },
    {
     "name": "stderr",
     "output_type": "stream",
     "text": [
      "\r",
      " 71%|████████████████████████████████████████████████████████████████████████████████████████████████████████████████████████████████████████████████████████▎                                                             | 74/104 [00:10<00:03,  7.71it/s]"
     ]
    },
    {
     "name": "stderr",
     "output_type": "stream",
     "text": [
      "\r",
      " 72%|██████████████████████████████████████████████████████████████████████████████████████████████████████████████████████████████████████████████████████████▎                                                           | 75/104 [00:10<00:03,  7.59it/s]"
     ]
    },
    {
     "name": "stderr",
     "output_type": "stream",
     "text": [
      "\r",
      " 73%|████████████████████████████████████████████████████████████████████████████████████████████████████████████████████████████████████████████████████████████▍                                                         | 76/104 [00:10<00:03,  7.84it/s]"
     ]
    },
    {
     "name": "stderr",
     "output_type": "stream",
     "text": [
      "\r",
      " 74%|██████████████████████████████████████████████████████████████████████████████████████████████████████████████████████████████████████████████████████████████▍                                                       | 77/104 [00:11<00:03,  7.08it/s]"
     ]
    },
    {
     "name": "stderr",
     "output_type": "stream",
     "text": [
      "\r",
      " 76%|██████████████████████████████████████████████████████████████████████████████████████████████████████████████████████████████████████████████████████████████████▌                                                   | 79/104 [00:11<00:03,  8.21it/s]"
     ]
    },
    {
     "name": "stderr",
     "output_type": "stream",
     "text": [
      "\r",
      " 77%|████████████████████████████████████████████████████████████████████████████████████████████████████████████████████████████████████████████████████████████████████▌                                                 | 80/104 [00:11<00:03,  7.44it/s]"
     ]
    },
    {
     "name": "stderr",
     "output_type": "stream",
     "text": [
      "\r",
      " 78%|██████████████████████████████████████████████████████████████████████████████████████████████████████████████████████████████████████████████████████████████████████▋                                               | 81/104 [00:11<00:03,  7.16it/s]"
     ]
    },
    {
     "name": "stderr",
     "output_type": "stream",
     "text": [
      "\r",
      " 79%|████████████████████████████████████████████████████████████████████████████████████████████████████████████████████████████████████████████████████████████████████████▋                                             | 82/104 [00:11<00:03,  7.04it/s]"
     ]
    },
    {
     "name": "stderr",
     "output_type": "stream",
     "text": [
      "\r",
      " 80%|██████████████████████████████████████████████████████████████████████████████████████████████████████████████████████████████████████████████████████████████████████████▊                                           | 83/104 [00:11<00:02,  7.12it/s]"
     ]
    },
    {
     "name": "stderr",
     "output_type": "stream",
     "text": [
      "\r",
      " 81%|████████████████████████████████████████████████████████████████████████████████████████████████████████████████████████████████████████████████████████████████████████████▊                                         | 84/104 [00:11<00:02,  7.37it/s]"
     ]
    },
    {
     "name": "stderr",
     "output_type": "stream",
     "text": [
      "\r",
      " 82%|██████████████████████████████████████████████████████████████████████████████████████████████████████████████████████████████████████████████████████████████████████████████▉                                       | 85/104 [00:12<00:02,  6.69it/s]"
     ]
    },
    {
     "name": "stderr",
     "output_type": "stream",
     "text": [
      "\r",
      " 83%|████████████████████████████████████████████████████████████████████████████████████████████████████████████████████████████████████████████████████████████████████████████████▉                                     | 86/104 [00:12<00:02,  6.05it/s]"
     ]
    },
    {
     "name": "stderr",
     "output_type": "stream",
     "text": [
      "\r",
      " 84%|███████████████████████████████████████████████████████████████████████████████████████████████████████████████████████████████████████████████████████████████████████████████████                                   | 87/104 [00:12<00:02,  6.52it/s]"
     ]
    },
    {
     "name": "stderr",
     "output_type": "stream",
     "text": [
      "\r",
      " 85%|█████████████████████████████████████████████████████████████████████████████████████████████████████████████████████████████████████████████████████████████████████████████████████                                 | 88/104 [00:12<00:02,  6.65it/s]"
     ]
    },
    {
     "name": "stderr",
     "output_type": "stream",
     "text": [
      "\r",
      " 86%|███████████████████████████████████████████████████████████████████████████████████████████████████████████████████████████████████████████████████████████████████████████████████████▏                              | 89/104 [00:12<00:02,  7.10it/s]"
     ]
    },
    {
     "name": "stderr",
     "output_type": "stream",
     "text": [
      "\r",
      " 87%|█████████████████████████████████████████████████████████████████████████████████████████████████████████████████████████████████████████████████████████████████████████████████████████▏                            | 90/104 [00:12<00:02,  6.98it/s]"
     ]
    },
    {
     "name": "stderr",
     "output_type": "stream",
     "text": [
      "\r",
      " 88%|███████████████████████████████████████████████████████████████████████████████████████████████████████████████████████████████████████████████████████████████████████████████████████████▎                          | 91/104 [00:12<00:01,  7.43it/s]"
     ]
    },
    {
     "name": "stderr",
     "output_type": "stream",
     "text": [
      "\r",
      " 88%|█████████████████████████████████████████████████████████████████████████████████████████████████████████████████████████████████████████████████████████████████████████████████████████████▎                        | 92/104 [00:13<00:01,  7.20it/s]"
     ]
    },
    {
     "name": "stderr",
     "output_type": "stream",
     "text": [
      "\r",
      " 89%|███████████████████████████████████████████████████████████████████████████████████████████████████████████████████████████████████████████████████████████████████████████████████████████████▎                      | 93/104 [00:13<00:01,  7.15it/s]"
     ]
    },
    {
     "name": "stderr",
     "output_type": "stream",
     "text": [
      "\r",
      " 90%|█████████████████████████████████████████████████████████████████████████████████████████████████████████████████████████████████████████████████████████████████████████████████████████████████▍                    | 94/104 [00:13<00:01,  7.69it/s]"
     ]
    },
    {
     "name": "stderr",
     "output_type": "stream",
     "text": [
      "\r",
      " 91%|███████████████████████████████████████████████████████████████████████████████████████████████████████████████████████████████████████████████████████████████████████████████████████████████████▍                  | 95/104 [00:13<00:01,  7.28it/s]"
     ]
    },
    {
     "name": "stderr",
     "output_type": "stream",
     "text": [
      "\r",
      " 92%|█████████████████████████████████████████████████████████████████████████████████████████████████████████████████████████████████████████████████████████████████████████████████████████████████████▌                | 96/104 [00:13<00:01,  7.39it/s]"
     ]
    },
    {
     "name": "stderr",
     "output_type": "stream",
     "text": [
      "\r",
      " 93%|███████████████████████████████████████████████████████████████████████████████████████████████████████████████████████████████████████████████████████████████████████████████████████████████████████▌              | 97/104 [00:13<00:00,  7.65it/s]"
     ]
    },
    {
     "name": "stderr",
     "output_type": "stream",
     "text": [
      "\r",
      " 95%|███████████████████████████████████████████████████████████████████████████████████████████████████████████████████████████████████████████████████████████████████████████████████████████████████████████▋          | 99/104 [00:14<00:00,  7.76it/s]"
     ]
    },
    {
     "name": "stderr",
     "output_type": "stream",
     "text": [
      "\r",
      " 96%|████████████████████████████████████████████████████████████████████████████████████████████████████████████████████████████████████████████████████████████████████████████████████████████████████████████▊        | 100/104 [00:14<00:00,  7.39it/s]"
     ]
    },
    {
     "name": "stderr",
     "output_type": "stream",
     "text": [
      "\r",
      " 97%|██████████████████████████████████████████████████████████████████████████████████████████████████████████████████████████████████████████████████████████████████████████████████████████████████████████████▊      | 101/104 [00:14<00:00,  6.68it/s]"
     ]
    },
    {
     "name": "stderr",
     "output_type": "stream",
     "text": [
      "\r",
      " 98%|████████████████████████████████████████████████████████████████████████████████████████████████████████████████████████████████████████████████████████████████████████████████████████████████████████████████▉    | 102/104 [00:14<00:00,  6.02it/s]"
     ]
    },
    {
     "name": "stderr",
     "output_type": "stream",
     "text": [
      "\r",
      " 99%|██████████████████████████████████████████████████████████████████████████████████████████████████████████████████████████████████████████████████████████████████████████████████████████████████████████████████▉  | 103/104 [00:14<00:00,  6.41it/s]"
     ]
    },
    {
     "name": "stderr",
     "output_type": "stream",
     "text": [
      "\r",
      "100%|█████████████████████████████████████████████████████████████████████████████████████████████████████████████████████████████████████████████████████████████████████████████████████████████████████████████████████| 104/104 [00:14<00:00,  6.64it/s]"
     ]
    },
    {
     "name": "stderr",
     "output_type": "stream",
     "text": [
      "\r",
      "100%|█████████████████████████████████████████████████████████████████████████████████████████████████████████████████████████████████████████████████████████████████████████████████████████████████████████████████████| 104/104 [00:14<00:00,  6.99it/s]"
     ]
    },
    {
     "name": "stderr",
     "output_type": "stream",
     "text": [
      "\n"
     ]
    }
   ],
   "source": [
    "dataset = []\n",
    "for ind in tqdm(range(len(df_en_target_input))):\n",
    "    d = next(sample(df_en_target_input, ind, lang1=input_lang, lang2=target_lang))\n",
    "    if d is None:\n",
    "        continue\n",
    "    dataset.append(d)"
   ]
  },
  {
   "cell_type": "code",
   "execution_count": 12,
   "id": "d786ab1b",
   "metadata": {
    "execution": {
     "iopub.execute_input": "2024-02-25T15:59:59.522679Z",
     "iopub.status.busy": "2024-02-25T15:59:59.522495Z",
     "iopub.status.idle": "2024-02-25T15:59:59.569522Z",
     "shell.execute_reply": "2024-02-25T15:59:59.568936Z"
    },
    "papermill": {
     "duration": 0.056019,
     "end_time": "2024-02-25T15:59:59.570531",
     "exception": false,
     "start_time": "2024-02-25T15:59:59.514512",
     "status": "completed"
    },
    "tags": []
   },
   "outputs": [],
   "source": [
    "df = pd.DataFrame(dataset)\n",
    "os.makedirs(f'{out_dir}/translation', exist_ok=True)\n",
    "df.to_csv(f'{out_dir}/translation/{model_size}_{input_lang}_{target_lang}_dataset.csv', index=False)"
   ]
  },
  {
   "cell_type": "code",
   "execution_count": 13,
   "id": "00e12355",
   "metadata": {
    "execution": {
     "iopub.execute_input": "2024-02-25T15:59:59.584972Z",
     "iopub.status.busy": "2024-02-25T15:59:59.584810Z",
     "iopub.status.idle": "2024-02-25T15:59:59.615154Z",
     "shell.execute_reply": "2024-02-25T15:59:59.614581Z"
    },
    "papermill": {
     "duration": 0.038549,
     "end_time": "2024-02-25T15:59:59.616025",
     "exception": false,
     "start_time": "2024-02-25T15:59:59.577476",
     "status": "completed"
    },
    "tags": []
   },
   "outputs": [
    {
     "data": {
      "text/plain": [
       "'Français: \"main\" - Русский: \"рука\"\\nFrançais: \"mer\" - Русский: \"море\"\\nFrançais: \"rouge\" - Русский: \"красный\"\\nFrançais: \"bouche\" - Русский: \"рот\"\\nFrançais: \"tentative\" - Русский: \"'"
      ]
     },
     "execution_count": 13,
     "metadata": {},
     "output_type": "execute_result"
    }
   ],
   "source": [
    "df[\"prompt\"][0]"
   ]
  },
  {
   "cell_type": "code",
   "execution_count": 14,
   "id": "94fa55b7",
   "metadata": {
    "execution": {
     "iopub.execute_input": "2024-02-25T15:59:59.630815Z",
     "iopub.status.busy": "2024-02-25T15:59:59.630652Z",
     "iopub.status.idle": "2024-02-25T15:59:59.659662Z",
     "shell.execute_reply": "2024-02-25T15:59:59.659100Z"
    },
    "papermill": {
     "duration": 0.037414,
     "end_time": "2024-02-25T15:59:59.660635",
     "exception": false,
     "start_time": "2024-02-25T15:59:59.623221",
     "status": "completed"
    },
    "tags": []
   },
   "outputs": [],
   "source": [
    "def get_logits(model, prompt,lens):\n",
    "    inputs = tokenizer(prompt, return_tensors=\"pt\").to('cuda')\n",
    "    output = llama(inputs.input_ids, output_hidden_states=True)\n",
    "    hidden_states = output.hidden_states[:-1]\n",
    "    final_lps = output.logits.log_softmax(dim=-1)\n",
    "    tensors=[]\n",
    "    hd= []\n",
    "    for i in range(len(model.model.layers)):\n",
    "        h = hidden_states[i].squeeze(0)\n",
    "        tensors+=[lens(h, idx=i).detach().cpu()]\n",
    "        hd+=lens.transform_hidden(h, idx=i)\n",
    "    tensors= torch.stack(tensors)  \n",
    "    hidden_states = torch.stack(hidden_states).squeeze(1).detach().cpu()\n",
    "    return tensors,hidden_states\n",
    "        "
   ]
  },
  {
   "cell_type": "code",
   "execution_count": 15,
   "id": "25241c49",
   "metadata": {
    "execution": {
     "iopub.execute_input": "2024-02-25T15:59:59.675968Z",
     "iopub.status.busy": "2024-02-25T15:59:59.675657Z",
     "iopub.status.idle": "2024-02-25T16:00:17.982565Z",
     "shell.execute_reply": "2024-02-25T16:00:17.981715Z"
    },
    "papermill": {
     "duration": 18.315289,
     "end_time": "2024-02-25T16:00:17.983550",
     "exception": false,
     "start_time": "2024-02-25T15:59:59.668261",
     "status": "completed"
    },
    "tags": []
   },
   "outputs": [
    {
     "name": "stderr",
     "output_type": "stream",
     "text": [
      "\r",
      "0it [00:00, ?it/s]"
     ]
    },
    {
     "name": "stderr",
     "output_type": "stream",
     "text": [
      "\r",
      "1it [00:00,  1.12it/s]"
     ]
    },
    {
     "name": "stderr",
     "output_type": "stream",
     "text": [
      "\r",
      "2it [00:01,  2.02it/s]"
     ]
    },
    {
     "name": "stderr",
     "output_type": "stream",
     "text": [
      "\r",
      "3it [00:01,  2.74it/s]"
     ]
    },
    {
     "name": "stderr",
     "output_type": "stream",
     "text": [
      "\r",
      "4it [00:01,  3.54it/s]"
     ]
    },
    {
     "name": "stderr",
     "output_type": "stream",
     "text": [
      "\r",
      "5it [00:01,  4.27it/s]"
     ]
    },
    {
     "name": "stderr",
     "output_type": "stream",
     "text": [
      "\r",
      "6it [00:01,  4.81it/s]"
     ]
    },
    {
     "name": "stderr",
     "output_type": "stream",
     "text": [
      "\r",
      "7it [00:01,  5.17it/s]"
     ]
    },
    {
     "name": "stderr",
     "output_type": "stream",
     "text": [
      "\r",
      "8it [00:02,  5.22it/s]"
     ]
    },
    {
     "name": "stderr",
     "output_type": "stream",
     "text": [
      "\r",
      "9it [00:02,  5.39it/s]"
     ]
    },
    {
     "name": "stderr",
     "output_type": "stream",
     "text": [
      "\r",
      "10it [00:02,  5.70it/s]"
     ]
    },
    {
     "name": "stderr",
     "output_type": "stream",
     "text": [
      "\r",
      "11it [00:02,  5.96it/s]"
     ]
    },
    {
     "name": "stderr",
     "output_type": "stream",
     "text": [
      "\r",
      "12it [00:02,  6.07it/s]"
     ]
    },
    {
     "name": "stderr",
     "output_type": "stream",
     "text": [
      "\r",
      "13it [00:02,  6.20it/s]"
     ]
    },
    {
     "name": "stderr",
     "output_type": "stream",
     "text": [
      "\r",
      "14it [00:03,  6.03it/s]"
     ]
    },
    {
     "name": "stderr",
     "output_type": "stream",
     "text": [
      "\r",
      "15it [00:03,  5.94it/s]"
     ]
    },
    {
     "name": "stderr",
     "output_type": "stream",
     "text": [
      "\r",
      "16it [00:03,  5.73it/s]"
     ]
    },
    {
     "name": "stderr",
     "output_type": "stream",
     "text": [
      "\r",
      "17it [00:03,  5.91it/s]"
     ]
    },
    {
     "name": "stderr",
     "output_type": "stream",
     "text": [
      "\r",
      "18it [00:03,  6.15it/s]"
     ]
    },
    {
     "name": "stderr",
     "output_type": "stream",
     "text": [
      "\r",
      "19it [00:03,  6.39it/s]"
     ]
    },
    {
     "name": "stderr",
     "output_type": "stream",
     "text": [
      "\r",
      "20it [00:04,  6.33it/s]"
     ]
    },
    {
     "name": "stderr",
     "output_type": "stream",
     "text": [
      "\r",
      "21it [00:04,  6.21it/s]"
     ]
    },
    {
     "name": "stderr",
     "output_type": "stream",
     "text": [
      "\r",
      "22it [00:04,  6.04it/s]"
     ]
    },
    {
     "name": "stderr",
     "output_type": "stream",
     "text": [
      "\r",
      "23it [00:04,  5.98it/s]"
     ]
    },
    {
     "name": "stderr",
     "output_type": "stream",
     "text": [
      "\r",
      "24it [00:04,  6.17it/s]"
     ]
    },
    {
     "name": "stderr",
     "output_type": "stream",
     "text": [
      "\r",
      "25it [00:04,  6.18it/s]"
     ]
    },
    {
     "name": "stderr",
     "output_type": "stream",
     "text": [
      "\r",
      "26it [00:05,  6.04it/s]"
     ]
    },
    {
     "name": "stderr",
     "output_type": "stream",
     "text": [
      "\r",
      "27it [00:05,  5.46it/s]"
     ]
    },
    {
     "name": "stderr",
     "output_type": "stream",
     "text": [
      "\r",
      "28it [00:05,  5.60it/s]"
     ]
    },
    {
     "name": "stderr",
     "output_type": "stream",
     "text": [
      "\r",
      "29it [00:05,  5.48it/s]"
     ]
    },
    {
     "name": "stderr",
     "output_type": "stream",
     "text": [
      "\r",
      "30it [00:05,  5.59it/s]"
     ]
    },
    {
     "name": "stderr",
     "output_type": "stream",
     "text": [
      "\r",
      "31it [00:05,  5.63it/s]"
     ]
    },
    {
     "name": "stderr",
     "output_type": "stream",
     "text": [
      "\r",
      "32it [00:06,  5.76it/s]"
     ]
    },
    {
     "name": "stderr",
     "output_type": "stream",
     "text": [
      "\r",
      "33it [00:06,  5.85it/s]"
     ]
    },
    {
     "name": "stderr",
     "output_type": "stream",
     "text": [
      "\r",
      "34it [00:06,  5.72it/s]"
     ]
    },
    {
     "name": "stderr",
     "output_type": "stream",
     "text": [
      "\r",
      "35it [00:06,  5.58it/s]"
     ]
    },
    {
     "name": "stderr",
     "output_type": "stream",
     "text": [
      "\r",
      "36it [00:06,  5.46it/s]"
     ]
    },
    {
     "name": "stderr",
     "output_type": "stream",
     "text": [
      "\r",
      "37it [00:07,  5.35it/s]"
     ]
    },
    {
     "name": "stderr",
     "output_type": "stream",
     "text": [
      "\r",
      "38it [00:07,  5.33it/s]"
     ]
    },
    {
     "name": "stderr",
     "output_type": "stream",
     "text": [
      "\r",
      "39it [00:07,  5.52it/s]"
     ]
    },
    {
     "name": "stderr",
     "output_type": "stream",
     "text": [
      "\r",
      "40it [00:07,  5.63it/s]"
     ]
    },
    {
     "name": "stderr",
     "output_type": "stream",
     "text": [
      "\r",
      "41it [00:07,  5.94it/s]"
     ]
    },
    {
     "name": "stderr",
     "output_type": "stream",
     "text": [
      "\r",
      "42it [00:07,  6.22it/s]"
     ]
    },
    {
     "name": "stderr",
     "output_type": "stream",
     "text": [
      "\r",
      "43it [00:08,  6.39it/s]"
     ]
    },
    {
     "name": "stderr",
     "output_type": "stream",
     "text": [
      "\r",
      "44it [00:08,  6.36it/s]"
     ]
    },
    {
     "name": "stderr",
     "output_type": "stream",
     "text": [
      "\r",
      "45it [00:08,  6.28it/s]"
     ]
    },
    {
     "name": "stderr",
     "output_type": "stream",
     "text": [
      "\r",
      "46it [00:08,  6.35it/s]"
     ]
    },
    {
     "name": "stderr",
     "output_type": "stream",
     "text": [
      "\r",
      "47it [00:08,  6.39it/s]"
     ]
    },
    {
     "name": "stderr",
     "output_type": "stream",
     "text": [
      "\r",
      "48it [00:08,  6.32it/s]"
     ]
    },
    {
     "name": "stderr",
     "output_type": "stream",
     "text": [
      "\r",
      "49it [00:09,  6.22it/s]"
     ]
    },
    {
     "name": "stderr",
     "output_type": "stream",
     "text": [
      "\r",
      "50it [00:09,  5.98it/s]"
     ]
    },
    {
     "name": "stderr",
     "output_type": "stream",
     "text": [
      "\r",
      "51it [00:09,  5.97it/s]"
     ]
    },
    {
     "name": "stderr",
     "output_type": "stream",
     "text": [
      "\r",
      "52it [00:09,  5.76it/s]"
     ]
    },
    {
     "name": "stderr",
     "output_type": "stream",
     "text": [
      "\r",
      "53it [00:09,  5.85it/s]"
     ]
    },
    {
     "name": "stderr",
     "output_type": "stream",
     "text": [
      "\r",
      "54it [00:09,  5.17it/s]"
     ]
    },
    {
     "name": "stderr",
     "output_type": "stream",
     "text": [
      "\r",
      "55it [00:10,  5.53it/s]"
     ]
    },
    {
     "name": "stderr",
     "output_type": "stream",
     "text": [
      "\r",
      "56it [00:10,  5.76it/s]"
     ]
    },
    {
     "name": "stderr",
     "output_type": "stream",
     "text": [
      "\r",
      "57it [00:10,  5.99it/s]"
     ]
    },
    {
     "name": "stderr",
     "output_type": "stream",
     "text": [
      "\r",
      "58it [00:10,  6.15it/s]"
     ]
    },
    {
     "name": "stderr",
     "output_type": "stream",
     "text": [
      "\r",
      "59it [00:10,  6.12it/s]"
     ]
    },
    {
     "name": "stderr",
     "output_type": "stream",
     "text": [
      "\r",
      "60it [00:10,  6.23it/s]"
     ]
    },
    {
     "name": "stderr",
     "output_type": "stream",
     "text": [
      "\r",
      "61it [00:11,  5.60it/s]"
     ]
    },
    {
     "name": "stderr",
     "output_type": "stream",
     "text": [
      "\r",
      "62it [00:11,  5.14it/s]"
     ]
    },
    {
     "name": "stderr",
     "output_type": "stream",
     "text": [
      "\r",
      "63it [00:11,  5.37it/s]"
     ]
    },
    {
     "name": "stderr",
     "output_type": "stream",
     "text": [
      "\r",
      "64it [00:11,  5.63it/s]"
     ]
    },
    {
     "name": "stderr",
     "output_type": "stream",
     "text": [
      "\r",
      "65it [00:11,  5.83it/s]"
     ]
    },
    {
     "name": "stderr",
     "output_type": "stream",
     "text": [
      "\r",
      "66it [00:11,  5.88it/s]"
     ]
    },
    {
     "name": "stderr",
     "output_type": "stream",
     "text": [
      "\r",
      "67it [00:12,  5.94it/s]"
     ]
    },
    {
     "name": "stderr",
     "output_type": "stream",
     "text": [
      "\r",
      "68it [00:12,  6.00it/s]"
     ]
    },
    {
     "name": "stderr",
     "output_type": "stream",
     "text": [
      "\r",
      "69it [00:12,  6.03it/s]"
     ]
    },
    {
     "name": "stderr",
     "output_type": "stream",
     "text": [
      "\r",
      "70it [00:12,  6.05it/s]"
     ]
    },
    {
     "name": "stderr",
     "output_type": "stream",
     "text": [
      "\r",
      "71it [00:12,  5.95it/s]"
     ]
    },
    {
     "name": "stderr",
     "output_type": "stream",
     "text": [
      "\r",
      "72it [00:13,  5.80it/s]"
     ]
    },
    {
     "name": "stderr",
     "output_type": "stream",
     "text": [
      "\r",
      "73it [00:13,  5.83it/s]"
     ]
    },
    {
     "name": "stderr",
     "output_type": "stream",
     "text": [
      "\r",
      "74it [00:13,  5.83it/s]"
     ]
    },
    {
     "name": "stderr",
     "output_type": "stream",
     "text": [
      "\r",
      "75it [00:13,  5.85it/s]"
     ]
    },
    {
     "name": "stderr",
     "output_type": "stream",
     "text": [
      "\r",
      "76it [00:13,  6.04it/s]"
     ]
    },
    {
     "name": "stderr",
     "output_type": "stream",
     "text": [
      "\r",
      "77it [00:13,  6.11it/s]"
     ]
    },
    {
     "name": "stderr",
     "output_type": "stream",
     "text": [
      "\r",
      "78it [00:13,  6.12it/s]"
     ]
    },
    {
     "name": "stderr",
     "output_type": "stream",
     "text": [
      "\r",
      "79it [00:14,  6.25it/s]"
     ]
    },
    {
     "name": "stderr",
     "output_type": "stream",
     "text": [
      "\r",
      "80it [00:14,  6.23it/s]"
     ]
    },
    {
     "name": "stderr",
     "output_type": "stream",
     "text": [
      "\r",
      "81it [00:14,  6.22it/s]"
     ]
    },
    {
     "name": "stderr",
     "output_type": "stream",
     "text": [
      "\r",
      "82it [00:14,  6.11it/s]"
     ]
    },
    {
     "name": "stderr",
     "output_type": "stream",
     "text": [
      "\r",
      "83it [00:14,  6.04it/s]"
     ]
    },
    {
     "name": "stderr",
     "output_type": "stream",
     "text": [
      "\r",
      "84it [00:14,  6.03it/s]"
     ]
    },
    {
     "name": "stderr",
     "output_type": "stream",
     "text": [
      "\r",
      "85it [00:15,  5.56it/s]"
     ]
    },
    {
     "name": "stderr",
     "output_type": "stream",
     "text": [
      "\r",
      "86it [00:15,  5.65it/s]"
     ]
    },
    {
     "name": "stderr",
     "output_type": "stream",
     "text": [
      "\r",
      "87it [00:15,  5.28it/s]"
     ]
    },
    {
     "name": "stderr",
     "output_type": "stream",
     "text": [
      "\r",
      "88it [00:15,  5.59it/s]"
     ]
    },
    {
     "name": "stderr",
     "output_type": "stream",
     "text": [
      "\r",
      "89it [00:15,  5.87it/s]"
     ]
    },
    {
     "name": "stderr",
     "output_type": "stream",
     "text": [
      "\r",
      "90it [00:16,  6.02it/s]"
     ]
    },
    {
     "name": "stderr",
     "output_type": "stream",
     "text": [
      "\r",
      "91it [00:16,  6.09it/s]"
     ]
    },
    {
     "name": "stderr",
     "output_type": "stream",
     "text": [
      "\r",
      "92it [00:16,  6.14it/s]"
     ]
    },
    {
     "name": "stderr",
     "output_type": "stream",
     "text": [
      "\r",
      "93it [00:16,  6.25it/s]"
     ]
    },
    {
     "name": "stderr",
     "output_type": "stream",
     "text": [
      "\r",
      "94it [00:16,  6.15it/s]"
     ]
    },
    {
     "name": "stderr",
     "output_type": "stream",
     "text": [
      "\r",
      "95it [00:16,  6.21it/s]"
     ]
    },
    {
     "name": "stderr",
     "output_type": "stream",
     "text": [
      "\r",
      "96it [00:16,  6.14it/s]"
     ]
    },
    {
     "name": "stderr",
     "output_type": "stream",
     "text": [
      "\r",
      "97it [00:17,  6.19it/s]"
     ]
    },
    {
     "name": "stderr",
     "output_type": "stream",
     "text": [
      "\r",
      "98it [00:17,  6.24it/s]"
     ]
    },
    {
     "name": "stderr",
     "output_type": "stream",
     "text": [
      "\r",
      "99it [00:17,  6.29it/s]"
     ]
    },
    {
     "name": "stderr",
     "output_type": "stream",
     "text": [
      "\r",
      "100it [00:17,  6.33it/s]"
     ]
    },
    {
     "name": "stderr",
     "output_type": "stream",
     "text": [
      "\r",
      "101it [00:17,  6.12it/s]"
     ]
    },
    {
     "name": "stderr",
     "output_type": "stream",
     "text": [
      "\r",
      "102it [00:17,  6.32it/s]"
     ]
    },
    {
     "name": "stderr",
     "output_type": "stream",
     "text": [
      "\r",
      "103it [00:18,  6.37it/s]"
     ]
    },
    {
     "name": "stderr",
     "output_type": "stream",
     "text": [
      "\r",
      "104it [00:18,  6.37it/s]"
     ]
    },
    {
     "name": "stderr",
     "output_type": "stream",
     "text": [
      "\r",
      "104it [00:18,  5.70it/s]"
     ]
    },
    {
     "name": "stderr",
     "output_type": "stream",
     "text": [
      "\n"
     ]
    }
   ],
   "source": [
    "in_token_probs = []\n",
    "latent_token_probs = []\n",
    "out_token_probs = []\n",
    "entropy = []\n",
    "energy = []\n",
    "latents_all = []\n",
    "\n",
    "for idx, d in tqdm(enumerate(dataset)):\n",
    "    logits,latents = get_logits(llama, d['prompt'],llama_lens)\n",
    "    last = logits[:, -1, :].float().softmax(dim=-1).detach().cpu()\n",
    "    latent_token_probs += [last[:, torch.tensor(d['latent_token_id'])].sum(dim=-1)]\n",
    "    out_token_probs += [last[:, torch.tensor(d['out_token_id'])].sum(dim=-1)]\n",
    "    entropy += [compute_entropy(last)]\n",
    "    latents_all += [latents[:, -1, :].float().detach().cpu().clone()]\n",
    "    latents_normalized = latents[:, -1, :].float()\n",
    "    latents_normalized = latents_normalized / (((latents_normalized**2).mean(dim=-1, keepdim=True))**0.5)\n",
    "    latents_normalized /= (latents_normalized.norm(dim=-1, keepdim=True))\n",
    "    norm = ((U_normalized @ latents_normalized.T)**2).mean(dim=0)**0.5\n",
    "    energy += [norm/avgUU]\n",
    "\n",
    "latent_token_probs = torch.stack(latent_token_probs)\n",
    "out_token_probs = torch.stack(out_token_probs)\n",
    "entropy = torch.stack(entropy)\n",
    "energy = torch.stack(energy)\n",
    "latents = torch.stack(latents_all)"
   ]
  },
  {
   "cell_type": "code",
   "execution_count": 16,
   "id": "680ef0b2",
   "metadata": {
    "execution": {
     "iopub.execute_input": "2024-02-25T16:00:18.008378Z",
     "iopub.status.busy": "2024-02-25T16:00:18.007285Z",
     "iopub.status.idle": "2024-02-25T16:00:18.355952Z",
     "shell.execute_reply": "2024-02-25T16:00:18.355314Z"
    },
    "papermill": {
     "duration": 0.360951,
     "end_time": "2024-02-25T16:00:18.356897",
     "exception": false,
     "start_time": "2024-02-25T16:00:17.995946",
     "status": "completed"
    },
    "tags": []
   },
   "outputs": [
    {
     "name": "stderr",
     "output_type": "stream",
     "text": [
      "/mnt/ssd-1/gpaulo/llm-latent-language/utils.py:52: UserWarning: This figure includes Axes that are not compatible with tight_layout, so results might be incorrect.\n",
      "  plt.tight_layout()\n"
     ]
    },
    {
     "data": {
      "image/png": "[encoded data removed]",
      "text/plain": [
       "<Figure size 500x300 with 3 Axes>"
      ]
     },
     "metadata": {},
     "output_type": "display_data"
    }
   ],
   "source": [
    "size2tik = {'7b': 5, '13b': 5, '70b': 10}\n",
    "fig, ax, ax2 = plot_ci_plus_heatmap(latent_token_probs, entropy, latent, color='tab:orange', tik_step=size2tik[model_size], do_colorbar=True, #, do_colorbar=(model_size=='70b'),\n",
    "nums=[.99, 0.18, 0.025, 0.6])\n",
    "plot_ci(ax2, out_token_probs, target_lang, color='tab:blue', do_lines=False)\n",
    "ax2.set_xlabel('layer')\n",
    "ax2.set_ylabel('probability')\n",
    "if model_size == '7b':\n",
    "    ax2.set_xlim(0, out_token_probs.shape[1]+1)\n",
    "else:\n",
    "    ax2.set_xlim(0, round(out_token_probs.shape[1]/10)*10+1)\n",
    "ax2.set_ylim(0, 1)\n",
    "# make xticks start from 1\n",
    "# put legend on the top left\n",
    "ax2.legend(loc='upper left')\n",
    "os.makedirs(f'{out_dir}/translation', exist_ok=True)\n",
    "\n",
    "plt.savefig(f'{out_dir}/translation/{model_size}_{input_lang}_{target_lang}_probas_ent.jpg', dpi=300, bbox_inches='tight')"
   ]
  },
  {
   "cell_type": "code",
   "execution_count": 17,
   "id": "48c50e4a",
   "metadata": {
    "execution": {
     "iopub.execute_input": "2024-02-25T16:00:18.381387Z",
     "iopub.status.busy": "2024-02-25T16:00:18.381225Z",
     "iopub.status.idle": "2024-02-25T16:00:18.549591Z",
     "shell.execute_reply": "2024-02-25T16:00:18.548885Z"
    },
    "papermill": {
     "duration": 0.181562,
     "end_time": "2024-02-25T16:00:18.550814",
     "exception": false,
     "start_time": "2024-02-25T16:00:18.369252",
     "status": "completed"
    },
    "tags": []
   },
   "outputs": [
    {
     "data": {
      "image/png": "[encoded data removed]",
      "text/plain": [
       "<Figure size 500x300 with 1 Axes>"
      ]
     },
     "metadata": {},
     "output_type": "display_data"
    }
   ],
   "source": [
    "size2tik = {'7b': 5, '13b': 5, '70b': 10}\n",
    "\n",
    "fig, ax2 = plt.subplots(figsize=(5,3))\n",
    "plot_ci(ax2, energy, 'energy', color='tab:green', do_lines=True, tik_step=size2tik[model_size])\n",
    "ax2.set_xlabel('layer')\n",
    "ax2.set_ylabel('energy')\n",
    "if model_size == '7b':\n",
    "    ax2.set_xlim(0, out_token_probs.shape[1]+1)\n",
    "else:\n",
    "    ax2.set_xlim(0, round(out_token_probs.shape[1]/10)*10+1)\n",
    "os.makedirs(f'{out_dir}/translation', exist_ok=True)\n",
    "plt.savefig(f'{out_dir}/translation/{model_size}_{input_lang}_{target_lang}_energy.jpg', dpi=300, bbox_inches='tight')"
   ]
  },
  {
   "cell_type": "code",
   "execution_count": null,
   "id": "de0f66f1",
   "metadata": {
    "papermill": {
     "duration": 0.013057,
     "end_time": "2024-02-25T16:00:18.575493",
     "exception": false,
     "start_time": "2024-02-25T16:00:18.562436",
     "status": "completed"
    },
    "tags": []
   },
   "outputs": [],
   "source": []
  }
 ],
 "metadata": {
  "kernelspec": {
   "display_name": "Python 3 (ipykernel)",
   "language": "python",
   "name": "python3"
  },
  "language_info": {
   "codemirror_mode": {
    "name": "ipython",
    "version": 3
   },
   "file_extension": ".py",
   "mimetype": "text/x-python",
   "name": "python",
   "nbconvert_exporter": "python",
   "pygments_lexer": "ipython3",
   "version": "3.11.5"
  },
  "papermill": {
   "default_parameters": {},
   "duration": 49.70856,
   "end_time": "2024-02-25T16:00:19.903262",
   "environment_variables": {},
   "exception": null,
   "input_path": "Translation.ipynb",
   "output_path": "visuals/executed_notebooks/Translation_tuned-chinese_7b_fr_ru.ipynb",
   "parameters": {
    "input_lang": "fr",
    "model_size": "7b",
    "target_lang": "ru",
    "type": "tuned-chinese"
   },
   "start_time": "2024-02-25T15:59:30.194702",
   "version": "2.5.0"
  },
  "widgets": {
   "application/vnd.jupyter.widget-state+json": {
    "state": {
     "1576cd725c1040dfa93d87383f97b02d": {
      "model_module": "@jupyter-widgets/base",
      "model_module_version": "2.0.0",
      "model_name": "LayoutModel",
      "state": {
       "_model_module": "@jupyter-widgets/base",
       "_model_module_version": "2.0.0",
       "_model_name": "LayoutModel",
       "_view_count": null,
       "_view_module": "@jupyter-widgets/base",
       "_view_module_version": "2.0.0",
       "_view_name": "LayoutView",
       "align_content": null,
       "align_items": null,
       "align_self": null,
       "border_bottom": null,
       "border_left": null,
       "border_right": null,
       "border_top": null,
       "bottom": null,
       "display": null,
       "flex": null,
       "flex_flow": null,
       "grid_area": null,
       "grid_auto_columns": null,
       "grid_auto_flow": null,
       "grid_auto_rows": null,
       "grid_column": null,
       "grid_gap": null,
       "grid_row": null,
       "grid_template_areas": null,
       "grid_template_columns": null,
       "grid_template_rows": null,
       "height": null,
       "justify_content": null,
       "justify_items": null,
       "left": null,
       "margin": null,
       "max_height": null,
       "max_width": null,
       "min_height": null,
       "min_width": null,
       "object_fit": null,
       "object_position": null,
       "order": null,
       "overflow": null,
       "padding": null,
       "right": null,
       "top": null,
       "visibility": null,
       "width": null
      }
     },
     "20ad108ddeb347a3a7d76ec94792a650": {
      "model_module": "@jupyter-widgets/controls",
      "model_module_version": "2.0.0",
      "model_name": "ProgressStyleModel",
      "state": {
       "_model_module": "@jupyter-widgets/controls",
       "_model_module_version": "2.0.0",
       "_model_name": "ProgressStyleModel",
       "_view_count": null,
       "_view_module": "@jupyter-widgets/base",
       "_view_module_version": "2.0.0",
       "_view_name": "StyleView",
       "bar_color": null,
       "description_width": ""
      }
     },
     "379228c96d474be68273beaddedaf198": {
      "model_module": "@jupyter-widgets/controls",
      "model_module_version": "2.0.0",
      "model_name": "FloatProgressModel",
      "state": {
       "_dom_classes": [],
       "_model_module": "@jupyter-widgets/controls",
       "_model_module_version": "2.0.0",
       "_model_name": "FloatProgressModel",
       "_view_count": null,
       "_view_module": "@jupyter-widgets/controls",
       "_view_module_version": "2.0.0",
       "_view_name": "ProgressView",
       "bar_style": "success",
       "description": "",
       "description_allow_html": false,
       "layout": "IPY_MODEL_cd782b97a47e4164a57722a52031b2e9",
       "max": 2.0,
       "min": 0.0,
       "orientation": "horizontal",
       "style": "IPY_MODEL_20ad108ddeb347a3a7d76ec94792a650",
       "tabbable": null,
       "tooltip": null,
       "value": 2.0
      }
     },
     "3ad60b4f6b224cd09ee3796e304f5269": {
      "model_module": "@jupyter-widgets/controls",
      "model_module_version": "2.0.0",
      "model_name": "HBoxModel",
      "state": {
       "_dom_classes": [],
       "_model_module": "@jupyter-widgets/controls",
       "_model_module_version": "2.0.0",
       "_model_name": "HBoxModel",
       "_view_count": null,
       "_view_module": "@jupyter-widgets/controls",
       "_view_module_version": "2.0.0",
       "_view_name": "HBoxView",
       "box_style": "",
       "children": [
        "IPY_MODEL_62ed1c5c906547768a702abc650b0cd3",
        "IPY_MODEL_379228c96d474be68273beaddedaf198",
        "IPY_MODEL_eb5d3def055a45ca80328928fd04e1c5"
       ],
       "layout": "IPY_MODEL_7508601ef7f2412d821888eb1f6c4a2a",
       "tabbable": null,
       "tooltip": null
      }
     },
     "62ed1c5c906547768a702abc650b0cd3": {
      "model_module": "@jupyter-widgets/controls",
      "model_module_version": "2.0.0",
      "model_name": "HTMLModel",
      "state": {
       "_dom_classes": [],
       "_model_module": "@jupyter-widgets/controls",
       "_model_module_version": "2.0.0",
       "_model_name": "HTMLModel",
       "_view_count": null,
       "_view_module": "@jupyter-widgets/controls",
       "_view_module_version": "2.0.0",
       "_view_name": "HTMLView",
       "description": "",
       "description_allow_html": false,
       "layout": "IPY_MODEL_9d8563dee90a44cc913e26efb9547af0",
       "placeholder": "​",
       "style": "IPY_MODEL_fe07b980435c42c88227e1b0342a15da",
       "tabbable": null,
       "tooltip": null,
       "value": "Loading checkpoint shards: 100%"
      }
     },
     "7508601ef7f2412d821888eb1f6c4a2a": {
      "model_module": "@jupyter-widgets/base",
      "model_module_version": "2.0.0",
      "model_name": "LayoutModel",
      "state": {
       "_model_module": "@jupyter-widgets/base",
       "_model_module_version": "2.0.0",
       "_model_name": "LayoutModel",
       "_view_count": null,
       "_view_module": "@jupyter-widgets/base",
       "_view_module_version": "2.0.0",
       "_view_name": "LayoutView",
       "align_content": null,
       "align_items": null,
       "align_self": null,
       "border_bottom": null,
       "border_left": null,
       "border_right": null,
       "border_top": null,
       "bottom": null,
       "display": null,
       "flex": null,
       "flex_flow": null,
       "grid_area": null,
       "grid_auto_columns": null,
       "grid_auto_flow": null,
       "grid_auto_rows": null,
       "grid_column": null,
       "grid_gap": null,
       "grid_row": null,
       "grid_template_areas": null,
       "grid_template_columns": null,
       "grid_template_rows": null,
       "height": null,
       "justify_content": null,
       "justify_items": null,
       "left": null,
       "margin": null,
       "max_height": null,
       "max_width": null,
       "min_height": null,
       "min_width": null,
       "object_fit": null,
       "object_position": null,
       "order": null,
       "overflow": null,
       "padding": null,
       "right": null,
       "top": null,
       "visibility": null,
       "width": null
      }
     },
     "9d8563dee90a44cc913e26efb9547af0": {
      "model_module": "@jupyter-widgets/base",
      "model_module_version": "2.0.0",
      "model_name": "LayoutModel",
      "state": {
       "_model_module": "@jupyter-widgets/base",
       "_model_module_version": "2.0.0",
       "_model_name": "LayoutModel",
       "_view_count": null,
       "_view_module": "@jupyter-widgets/base",
       "_view_module_version": "2.0.0",
       "_view_name": "LayoutView",
       "align_content": null,
       "align_items": null,
       "align_self": null,
       "border_bottom": null,
       "border_left": null,
       "border_right": null,
       "border_top": null,
       "bottom": null,
       "display": null,
       "flex": null,
       "flex_flow": null,
       "grid_area": null,
       "grid_auto_columns": null,
       "grid_auto_flow": null,
       "grid_auto_rows": null,
       "grid_column": null,
       "grid_gap": null,
       "grid_row": null,
       "grid_template_areas": null,
       "grid_template_columns": null,
       "grid_template_rows": null,
       "height": null,
       "justify_content": null,
       "justify_items": null,
       "left": null,
       "margin": null,
       "max_height": null,
       "max_width": null,
       "min_height": null,
       "min_width": null,
       "object_fit": null,
       "object_position": null,
       "order": null,
       "overflow": null,
       "padding": null,
       "right": null,
       "top": null,
       "visibility": null,
       "width": null
      }
     },
     "cd782b97a47e4164a57722a52031b2e9": {
      "model_module": "@jupyter-widgets/base",
      "model_module_version": "2.0.0",
      "model_name": "LayoutModel",
      "state": {
       "_model_module": "@jupyter-widgets/base",
       "_model_module_version": "2.0.0",
       "_model_name": "LayoutModel",
       "_view_count": null,
       "_view_module": "@jupyter-widgets/base",
       "_view_module_version": "2.0.0",
       "_view_name": "LayoutView",
       "align_content": null,
       "align_items": null,
       "align_self": null,
       "border_bottom": null,
       "border_left": null,
       "border_right": null,
       "border_top": null,
       "bottom": null,
       "display": null,
       "flex": null,
       "flex_flow": null,
       "grid_area": null,
       "grid_auto_columns": null,
       "grid_auto_flow": null,
       "grid_auto_rows": null,
       "grid_column": null,
       "grid_gap": null,
       "grid_row": null,
       "grid_template_areas": null,
       "grid_template_columns": null,
       "grid_template_rows": null,
       "height": null,
       "justify_content": null,
       "justify_items": null,
       "left": null,
       "margin": null,
       "max_height": null,
       "max_width": null,
       "min_height": null,
       "min_width": null,
       "object_fit": null,
       "object_position": null,
       "order": null,
       "overflow": null,
       "padding": null,
       "right": null,
       "top": null,
       "visibility": null,
       "width": null
      }
     },
     "eb5d3def055a45ca80328928fd04e1c5": {
      "model_module": "@jupyter-widgets/controls",
      "model_module_version": "2.0.0",
      "model_name": "HTMLModel",
      "state": {
       "_dom_classes": [],
       "_model_module": "@jupyter-widgets/controls",
       "_model_module_version": "2.0.0",
       "_model_name": "HTMLModel",
       "_view_count": null,
       "_view_module": "@jupyter-widgets/controls",
       "_view_module_version": "2.0.0",
       "_view_name": "HTMLView",
       "description": "",
       "description_allow_html": false,
       "layout": "IPY_MODEL_1576cd725c1040dfa93d87383f97b02d",
       "placeholder": "​",
       "style": "IPY_MODEL_f172e15ac7d84a3e891fd3de7e809e2f",
       "tabbable": null,
       "tooltip": null,
       "value": " 2/2 [00:05&lt;00:00,  2.65s/it]"
      }
     },
     "f172e15ac7d84a3e891fd3de7e809e2f": {
      "model_module": "@jupyter-widgets/controls",
      "model_module_version": "2.0.0",
      "model_name": "HTMLStyleModel",
      "state": {
       "_model_module": "@jupyter-widgets/controls",
       "_model_module_version": "2.0.0",
       "_model_name": "HTMLStyleModel",
       "_view_count": null,
       "_view_module": "@jupyter-widgets/base",
       "_view_module_version": "2.0.0",
       "_view_name": "StyleView",
       "background": null,
       "description_width": "",
       "font_size": null,
       "text_color": null
      }
     },
     "fe07b980435c42c88227e1b0342a15da": {
      "model_module": "@jupyter-widgets/controls",
      "model_module_version": "2.0.0",
      "model_name": "HTMLStyleModel",
      "state": {
       "_model_module": "@jupyter-widgets/controls",
       "_model_module_version": "2.0.0",
       "_model_name": "HTMLStyleModel",
       "_view_count": null,
       "_view_module": "@jupyter-widgets/base",
       "_view_module_version": "2.0.0",
       "_view_name": "StyleView",
       "background": null,
       "description_width": "",
       "font_size": null,
       "text_color": null
      }
     }
    },
    "version_major": 2,
    "version_minor": 0
   }
  }
 },
 "nbformat": 4,
 "nbformat_minor": 5
}