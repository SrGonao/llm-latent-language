{
 "cells": [
  {
   "cell_type": "code",
   "execution_count": 1,
   "id": "9e266eca-b017-461f-9be4-bec02cae9b28",
   "metadata": {
    "execution": {
     "iopub.execute_input": "2024-03-02T15:39:24.250142Z",
     "iopub.status.busy": "2024-03-02T15:39:24.249981Z",
     "iopub.status.idle": "2024-03-02T15:39:24.264620Z",
     "shell.execute_reply": "2024-03-02T15:39:24.264310Z"
    },
    "papermill": {
     "duration": 0.02006,
     "end_time": "2024-03-02T15:39:24.265684",
     "exception": false,
     "start_time": "2024-03-02T15:39:24.245624",
     "status": "completed"
    },
    "tags": []
   },
   "outputs": [],
   "source": [
    "%load_ext autoreload\n",
    "%autoreload 2"
   ]
  },
  {
   "cell_type": "code",
   "execution_count": 2,
   "id": "fae8a7a9-6902-424e-8e66-b107fccb361f",
   "metadata": {
    "execution": {
     "iopub.execute_input": "2024-03-02T15:39:24.273095Z",
     "iopub.status.busy": "2024-03-02T15:39:24.272906Z",
     "iopub.status.idle": "2024-03-02T15:39:27.374134Z",
     "shell.execute_reply": "2024-03-02T15:39:27.372817Z"
    },
    "papermill": {
     "duration": 3.106156,
     "end_time": "2024-03-02T15:39:27.375574",
     "exception": false,
     "start_time": "2024-03-02T15:39:24.269418",
     "status": "completed"
    },
    "tags": []
   },
   "outputs": [
    {
     "name": "stderr",
     "output_type": "stream",
     "text": [
      "/mnt/ssd-1/gpaulo/miniconda3/envs/default/lib/python3.10/site-packages/tqdm/auto.py:21: TqdmWarning: IProgress not found. Please update jupyter and ipywidgets. See https://ipywidgets.readthedocs.io/en/stable/user_install.html\n",
      "  from .autonotebook import tqdm as notebook_tqdm\n"
     ]
    }
   ],
   "source": [
    "import pandas as pd\n",
    "import sys\n",
    "import os\n",
    "from dataclasses import dataclass\n",
    "import json\n",
    "import numpy as np\n",
    "from matplotlib import pyplot as plt\n",
    "import seaborn as sns\n",
    "import torch\n",
    "import torch.nn as nn\n",
    "import seaborn as sns\n",
    "from scipy.stats import bootstrap\n",
    "from utils import plot_ci, plot_ci_plus_heatmap\n",
    "from tqdm import tqdm\n",
    "from transformers import AutoModelForCausalLM, AutoTokenizer\n",
    "# fix random seed\n",
    "seed = 42\n",
    "np.random.seed(seed)\n",
    "torch.manual_seed(seed)\n",
    "sys.path.append('../tuned-lens')\n",
    "from tuned_lens.nn.lenses import TunedLens,LogitLens"
   ]
  },
  {
   "cell_type": "code",
   "execution_count": 3,
   "id": "1fb93987",
   "metadata": {
    "execution": {
     "iopub.execute_input": "2024-03-02T15:39:27.384339Z",
     "iopub.status.busy": "2024-03-02T15:39:27.383504Z",
     "iopub.status.idle": "2024-03-02T15:39:27.419261Z",
     "shell.execute_reply": "2024-03-02T15:39:27.418620Z"
    },
    "papermill": {
     "duration": 0.040894,
     "end_time": "2024-03-02T15:39:27.420415",
     "exception": false,
     "start_time": "2024-03-02T15:39:27.379521",
     "status": "completed"
    },
    "tags": [
     "parameters"
    ]
   },
   "outputs": [],
   "source": [
    "input_lang = 'zh'\n",
    "target_lang = 'zh'\n",
    "model_size = '12b'\n",
    "prefix = \"./data/langs/\"\n",
    "type = 'tuned'\n"
   ]
  },
  {
   "cell_type": "code",
   "execution_count": 4,
   "id": "aead3f5f",
   "metadata": {
    "execution": {
     "iopub.execute_input": "2024-03-02T15:39:27.428962Z",
     "iopub.status.busy": "2024-03-02T15:39:27.428371Z",
     "iopub.status.idle": "2024-03-02T15:39:27.465890Z",
     "shell.execute_reply": "2024-03-02T15:39:27.465158Z"
    },
    "papermill": {
     "duration": 0.04349,
     "end_time": "2024-03-02T15:39:27.467099",
     "exception": false,
     "start_time": "2024-03-02T15:39:27.423609",
     "status": "completed"
    },
    "tags": [
     "injected-parameters"
    ]
   },
   "outputs": [],
   "source": [
    "# Parameters\n",
    "model_size = \"12b\"\n",
    "target_lang = \"en\"\n",
    "input_lang = \"fr\"\n",
    "type = \"logit\"\n"
   ]
  },
  {
   "cell_type": "code",
   "execution_count": 5,
   "id": "ccb0899b",
   "metadata": {
    "execution": {
     "iopub.execute_input": "2024-03-02T15:39:27.474895Z",
     "iopub.status.busy": "2024-03-02T15:39:27.474260Z",
     "iopub.status.idle": "2024-03-02T15:39:27.509723Z",
     "shell.execute_reply": "2024-03-02T15:39:27.509067Z"
    },
    "papermill": {
     "duration": 0.040447,
     "end_time": "2024-03-02T15:39:27.510872",
     "exception": false,
     "start_time": "2024-03-02T15:39:27.470425",
     "status": "completed"
    },
    "tags": []
   },
   "outputs": [],
   "source": [
    "df_en_input = pd.read_csv(f'{prefix}{input_lang}/clean.csv').reindex()\n",
    "df_en_target = pd.read_csv(f'{prefix}{target_lang}/clean.csv').reindex()"
   ]
  },
  {
   "cell_type": "code",
   "execution_count": 6,
   "id": "33747213",
   "metadata": {
    "execution": {
     "iopub.execute_input": "2024-03-02T15:39:27.518614Z",
     "iopub.status.busy": "2024-03-02T15:39:27.518056Z",
     "iopub.status.idle": "2024-03-02T15:39:32.903829Z",
     "shell.execute_reply": "2024-03-02T15:39:32.903289Z"
    },
    "papermill": {
     "duration": 5.390748,
     "end_time": "2024-03-02T15:39:32.904990",
     "exception": false,
     "start_time": "2024-03-02T15:39:27.514242",
     "status": "completed"
    },
    "tags": []
   },
   "outputs": [
    {
     "name": "stderr",
     "output_type": "stream",
     "text": [
      "\r",
      "Loading checkpoint shards:   0%|                                                                                                                                                                              | 0/3 [00:00<?, ?it/s]"
     ]
    },
    {
     "name": "stderr",
     "output_type": "stream",
     "text": [
      "\r",
      "Loading checkpoint shards:  33%|███████████████████████████████████████████████████████▎                                                                                                              | 1/3 [00:02<00:04,  2.01s/it]"
     ]
    },
    {
     "name": "stderr",
     "output_type": "stream",
     "text": [
      "\r",
      "Loading checkpoint shards:  67%|██████████████████████████████████████████████████████████████████████████████████████████████████████████████▋                                                       | 2/3 [00:03<00:01,  1.87s/it]"
     ]
    },
    {
     "name": "stderr",
     "output_type": "stream",
     "text": [
      "\r",
      "Loading checkpoint shards: 100%|██████████████████████████████████████████████████████████████████████████████████████████████████████████████████████████████████████████████████████████████████████| 3/3 [00:04<00:00,  1.43s/it]"
     ]
    },
    {
     "name": "stderr",
     "output_type": "stream",
     "text": [
      "\r",
      "Loading checkpoint shards: 100%|██████████████████████████████████████████████████████████████████████████████████████████████████████████████████████████████████████████████████████████████████████| 3/3 [00:04<00:00,  1.56s/it]"
     ]
    },
    {
     "name": "stderr",
     "output_type": "stream",
     "text": [
      "\n"
     ]
    },
    {
     "name": "stderr",
     "output_type": "stream",
     "text": [
      "Special tokens have been added in the vocabulary, make sure the associated word embeddings are fine-tuned or trained.\n"
     ]
    }
   ],
   "source": [
    "pythia = AutoModelForCausalLM.from_pretrained(  # type: ignore\n",
    "                f\"EleutherAI/pythia-{model_size}\",\n",
    "                device_map={\"\": \"cuda:0\"},\n",
    "                revision=\"main\",\n",
    "                torch_dtype=\"auto\",\n",
    "            )\n",
    "\n",
    "    \n",
    "latent=\"en\"\n",
    "if type == 'logit':\n",
    "    pythia_lens = LogitLens.from_model(pythia).to(\"cuda\")\n",
    "    out_dir = f'./visuals/logit'\n",
    "if type == 'tuned':\n",
    "    pythia_lens = TunedLens.from_model_and_pretrained(pythia,f\"EleutherAI/pythia-{model_size}-deduped\").to(\"cuda\")\n",
    "    out_dir = f'./visuals/tuned'\n",
    "tokenizer = AutoTokenizer.from_pretrained(\n",
    "                f\"EleutherAI/pythia-{model_size}\"\n",
    "            )"
   ]
  },
  {
   "cell_type": "code",
   "execution_count": 7,
   "id": "bc45e052",
   "metadata": {
    "execution": {
     "iopub.execute_input": "2024-03-02T15:39:32.916285Z",
     "iopub.status.busy": "2024-03-02T15:39:32.916067Z",
     "iopub.status.idle": "2024-03-02T15:39:35.527141Z",
     "shell.execute_reply": "2024-03-02T15:39:35.526464Z"
    },
    "papermill": {
     "duration": 2.616407,
     "end_time": "2024-03-02T15:39:35.528198",
     "exception": false,
     "start_time": "2024-03-02T15:39:32.911791",
     "status": "completed"
    },
    "tags": []
   },
   "outputs": [
    {
     "name": "stdout",
     "output_type": "stream",
     "text": [
      "Sequential(\n",
      "  (0): LayerNorm((5120,), eps=1e-05, elementwise_affine=True)\n",
      "  (1): Linear(in_features=5120, out_features=50688, bias=False)\n",
      ")\n"
     ]
    },
    {
     "name": "stdout",
     "output_type": "stream",
     "text": [
      "U torch.Size([50688, 5120]) weights torch.Size([1, 5120])\n"
     ]
    },
    {
     "name": "stdout",
     "output_type": "stream",
     "text": [
      "0.03080214373767376\n"
     ]
    }
   ],
   "source": [
    "unemb = nn.Sequential(pythia.gpt_neox.final_layer_norm, pythia.embed_out)\n",
    "print(unemb)\n",
    "# prepare for energy plots\n",
    "U = list(unemb[1].parameters())[0].detach().cpu().float()\n",
    "weights = list(unemb[0].parameters())[0].detach().cpu().float()\n",
    "print(f'U {U.shape} weights {weights.unsqueeze(0).shape}')\n",
    "U_weighted = U.clone() \n",
    "#U_weighted = U_weighted / ((U_weighted**2).mean(dim=1, keepdim=True))**0.5\n",
    "U_weighted *= weights.unsqueeze(0)\n",
    "U_normalized = U_weighted / ((U_weighted**2).sum(dim=1, keepdim=True))**0.5\n",
    "v = U.shape[0]\n",
    "TT = U_normalized.T @ U_normalized\n",
    "avgUU = (((U_normalized.T @ U_normalized)**2).sum() / v**2)**0.5\n",
    "print(avgUU.item())"
   ]
  },
  {
   "cell_type": "code",
   "execution_count": 8,
   "id": "5686a8d5",
   "metadata": {
    "execution": {
     "iopub.execute_input": "2024-03-02T15:39:35.542803Z",
     "iopub.status.busy": "2024-03-02T15:39:35.542565Z",
     "iopub.status.idle": "2024-03-02T15:39:37.362197Z",
     "shell.execute_reply": "2024-03-02T15:39:37.361626Z"
    },
    "papermill": {
     "duration": 1.825591,
     "end_time": "2024-03-02T15:39:37.363235",
     "exception": false,
     "start_time": "2024-03-02T15:39:35.537644",
     "status": "completed"
    },
    "tags": []
   },
   "outputs": [
    {
     "name": "stdout",
     "output_type": "stream",
     "text": [
      "for en 108 of 132 are single tokens\n",
      "final length of df_en_en_fr: 118\n"
     ]
    }
   ],
   "source": [
    "count = 0\n",
    "for idx, word in enumerate(df_en_target['word_translation']):\n",
    "    if word in tokenizer.get_vocab() or '▁'+word in tokenizer.get_vocab():\n",
    "        count += 1\n",
    "\n",
    "print(f'for {target_lang} {count} of {len(df_en_target)} are single tokens')\n",
    "\n",
    "if input_lang == target_lang:\n",
    "    df_en_target_input = df_en_target.copy()\n",
    "    if latent == 'zh':\n",
    "      df_en_target_input = df_en_target.copy()\n",
    "      chinese = chinese.loc[chinese[\"word_original\"].isin(df_en_input[\"word_original\"])]\n",
    "      df_en_target_input= df_en_target_input.loc[df_en_target_input[\"word_original\"].isin(chinese[\"word_original\"])]\n",
    "      chinese.sort_values(by=\"word_original\", inplace=True)\n",
    "      df_en_target_input.sort_values(by=\"word_original\", inplace=True)\n",
    "      chinese.reset_index(drop=True, inplace=True)\n",
    "      df_en_target_input.reset_index(drop=True, inplace=True)\n",
    "      df_en_target_input[\"word_original\"] = chinese[\"word_translation\"]\n",
    "    df_en_target_input.rename(columns={'word_original': latent, \n",
    "                                f'word_translation': target_lang if target_lang != latent else f'{latent}_tgt'}, \n",
    "                                inplace=True)\n",
    "    \n",
    "else:\n",
    "    df_en_target_input = df_en_target.merge(df_en_input, on=['word_original'], suffixes=(f'_{target_lang}', f'_{input_lang}'))\n",
    "    if latent == 'zh':\n",
    "      chinese = chinese.loc[chinese[\"word_original\"].isin(df_en_target_input[\"word_original\"])]\n",
    "      df_en_target_input= df_en_target_input.loc[df_en_target_input[\"word_original\"].isin(chinese[\"word_original\"])]\n",
    "      chinese.sort_values(by=\"word_original\", inplace=True)\n",
    "      df_en_target_input.sort_values(by=\"word_original\", inplace=True)\n",
    "      chinese.reset_index(drop=True, inplace=True)\n",
    "      df_en_target_input.reset_index(drop=True, inplace=True)\n",
    "      df_en_target_input[\"word_original\"] = chinese[\"word_translation\"]\n",
    "\n",
    "    df_en_target_input.rename(columns={'word_original': latent, \n",
    "                                f'word_translation_{target_lang}': target_lang if target_lang != latent else f'{latent}_tgt', \n",
    "                                f'word_translation_{input_lang}': input_lang if input_lang != latent else f'{latent}_in'}, \n",
    "                                inplace=True)\n",
    "# delete all rows where en is contained in de or fr\n",
    "if target_lang != latent:\n",
    "    for i, row in df_en_target_input.iterrows():\n",
    "        if row[latent].lower() in row[target_lang].lower():\n",
    "            df_en_target_input.drop(i, inplace=True)\n",
    "\n",
    "print(f'final length of df_{latent}_{target_lang}_{input_lang}: {len(df_en_target_input)}')"
   ]
  },
  {
   "cell_type": "code",
   "execution_count": 9,
   "id": "f0c0a52d",
   "metadata": {
    "execution": {
     "iopub.execute_input": "2024-03-02T15:39:37.416062Z",
     "iopub.status.busy": "2024-03-02T15:39:37.415875Z",
     "iopub.status.idle": "2024-03-02T15:39:37.462104Z",
     "shell.execute_reply": "2024-03-02T15:39:37.461636Z"
    },
    "papermill": {
     "duration": 0.052423,
     "end_time": "2024-03-02T15:39:37.463088",
     "exception": false,
     "start_time": "2024-03-02T15:39:37.410665",
     "status": "completed"
    },
    "tags": []
   },
   "outputs": [],
   "source": [
    "def token_prefixes(token_str: str):\n",
    "    n = len(token_str)\n",
    "    tokens = [token_str[:i] for i in range(1, n+1)]\n",
    "    return tokens \n",
    "\n",
    "def add_spaces(tokens):\n",
    "    return ['▁' + t for t in tokens] + tokens\n",
    "\n",
    "def capitalizations(tokens):\n",
    "    return list(set(tokens))\n",
    "\n",
    "def unicode_prefix_tokid(zh_char = \"云\", tokenizer=tokenizer):\n",
    "    start = zh_char.encode().__str__()[2:-1].split('\\\\x')[1]\n",
    "    unicode_format = '<0x%s>'\n",
    "    start_key = unicode_format%start.upper()\n",
    "    if start_key in tokenizer.get_vocab():\n",
    "        return tokenizer.get_vocab()[start_key]\n",
    "    return None\n",
    "\n",
    "def process_tokens(token_str: str, tokenizer, lang):\n",
    "    with_prefixes = token_prefixes(token_str)\n",
    "    with_spaces = add_spaces(with_prefixes)\n",
    "    with_capitalizations = capitalizations(with_spaces)\n",
    "    final_tokens = []\n",
    "    for tok in with_capitalizations:\n",
    "        if tok in tokenizer.get_vocab():\n",
    "            final_tokens.append(tokenizer.get_vocab()[tok])\n",
    "    if lang in ['zh', 'ru']:\n",
    "        tokid = unicode_prefix_tokid(token_str, tokenizer)\n",
    "        if tokid is not None:\n",
    "            final_tokens.append(tokid)\n",
    "    return final_tokens"
   ]
  },
  {
   "cell_type": "code",
   "execution_count": 10,
   "id": "faa7bb78",
   "metadata": {
    "execution": {
     "iopub.execute_input": "2024-03-02T15:39:37.473749Z",
     "iopub.status.busy": "2024-03-02T15:39:37.473586Z",
     "iopub.status.idle": "2024-03-02T15:39:37.529267Z",
     "shell.execute_reply": "2024-03-02T15:39:37.528749Z"
    },
    "papermill": {
     "duration": 0.061249,
     "end_time": "2024-03-02T15:39:37.530423",
     "exception": false,
     "start_time": "2024-03-02T15:39:37.469174",
     "status": "completed"
    },
    "tags": []
   },
   "outputs": [],
   "source": [
    "\n",
    "id2voc = {id:voc for voc, id in tokenizer.get_vocab().items()}\n",
    "def get_tokens(token_ids, id2voc=id2voc):\n",
    "    return [id2voc[tokid] for tokid in token_ids]\n",
    "\n",
    "def compute_entropy(probas):\n",
    "    return (-probas*torch.log2(probas)).sum(dim=-1)\n",
    "\n",
    "lang2name = {'fr': 'Français', 'de': 'Deutsch', 'ru': 'Русский', 'en': 'English', 'zh': '中文'}\n",
    "def sample(df, ind, k=5, tokenizer=tokenizer, lang1='fr', lang2='de', lang_latent=latent):\n",
    "    df = df.reset_index(drop=True)\n",
    "    temp = df[df.index!=ind]\n",
    "    sample = pd.concat([temp.sample(k-1), df[df.index==ind]], axis=0)\n",
    "    prompt = \"\"\n",
    "    for idx, (df_idx, row) in enumerate(sample.iterrows()):\n",
    "        if idx < k-1:\n",
    "            prompt += f'{lang2name[lang1]}: \"{row[lang1]}\" - {lang2name[lang2]}: \"{row[lang2]}\"\\n'\n",
    "        else:\n",
    "            prompt += f'{lang2name[lang1]}: \"{row[lang1]}\" - {lang2name[lang2]}: \"'\n",
    "            in_token_str = row[lang1]\n",
    "            out_token_str = row[lang2]\n",
    "            out_token_id = process_tokens(out_token_str, tokenizer, lang2)\n",
    "            latent_token_str = row[lang_latent]\n",
    "            latent_token_id = process_tokens(latent_token_str, tokenizer, latent)\n",
    "            intersection = set(out_token_id).intersection(set(latent_token_id))\n",
    "            if len(out_token_id) == 0 or len(latent_token_id) == 0:\n",
    "                yield None\n",
    "            if lang2 != latent and len(intersection) > 0:\n",
    "                yield None\n",
    "            yield {'prompt': prompt, \n",
    "                'out_token_id': out_token_id, \n",
    "                'out_token_str': out_token_str,\n",
    "                'latent_token_id': latent_token_id, \n",
    "                'latent_token_str': latent_token_str, \n",
    "                'in_token_str': in_token_str}"
   ]
  },
  {
   "cell_type": "code",
   "execution_count": 11,
   "id": "500641f5",
   "metadata": {
    "execution": {
     "iopub.execute_input": "2024-03-02T15:39:37.542998Z",
     "iopub.status.busy": "2024-03-02T15:39:37.542794Z",
     "iopub.status.idle": "2024-03-02T15:40:12.637604Z",
     "shell.execute_reply": "2024-03-02T15:40:12.636919Z"
    },
    "papermill": {
     "duration": 35.100161,
     "end_time": "2024-03-02T15:40:12.638638",
     "exception": false,
     "start_time": "2024-03-02T15:39:37.538477",
     "status": "completed"
    },
    "tags": []
   },
   "outputs": [
    {
     "name": "stderr",
     "output_type": "stream",
     "text": [
      "\r",
      "  0%|                                                                                                                                                                                                       | 0/118 [00:00<?, ?it/s]"
     ]
    },
    {
     "name": "stderr",
     "output_type": "stream",
     "text": [
      "\r",
      "  1%|█▌                                                                                                                                                                                             | 1/118 [00:00<00:37,  3.14it/s]"
     ]
    },
    {
     "name": "stderr",
     "output_type": "stream",
     "text": [
      "\r",
      "  2%|███▏                                                                                                                                                                                           | 2/118 [00:00<00:28,  4.02it/s]"
     ]
    },
    {
     "name": "stderr",
     "output_type": "stream",
     "text": [
      "\r",
      "  3%|████▊                                                                                                                                                                                          | 3/118 [00:00<00:30,  3.76it/s]"
     ]
    },
    {
     "name": "stderr",
     "output_type": "stream",
     "text": [
      "\r",
      "  3%|██████▍                                                                                                                                                                                        | 4/118 [00:01<00:28,  4.06it/s]"
     ]
    },
    {
     "name": "stderr",
     "output_type": "stream",
     "text": [
      "\r",
      "  4%|████████                                                                                                                                                                                       | 5/118 [00:01<00:34,  3.29it/s]"
     ]
    },
    {
     "name": "stderr",
     "output_type": "stream",
     "text": [
      "\r",
      "  5%|█████████▋                                                                                                                                                                                     | 6/118 [00:01<00:33,  3.30it/s]"
     ]
    },
    {
     "name": "stderr",
     "output_type": "stream",
     "text": [
      "\r",
      "  6%|███████████▎                                                                                                                                                                                   | 7/118 [00:01<00:32,  3.46it/s]"
     ]
    },
    {
     "name": "stderr",
     "output_type": "stream",
     "text": [
      "\r",
      "  7%|████████████▉                                                                                                                                                                                  | 8/118 [00:02<00:29,  3.79it/s]"
     ]
    },
    {
     "name": "stderr",
     "output_type": "stream",
     "text": [
      "\r",
      "  8%|██████████████▌                                                                                                                                                                                | 9/118 [00:02<00:28,  3.81it/s]"
     ]
    },
    {
     "name": "stderr",
     "output_type": "stream",
     "text": [
      "\r",
      "  8%|████████████████                                                                                                                                                                              | 10/118 [00:02<00:31,  3.46it/s]"
     ]
    },
    {
     "name": "stderr",
     "output_type": "stream",
     "text": [
      "\r",
      "  9%|█████████████████▋                                                                                                                                                                            | 11/118 [00:03<00:28,  3.76it/s]"
     ]
    },
    {
     "name": "stderr",
     "output_type": "stream",
     "text": [
      "\r",
      " 10%|███████████████████▎                                                                                                                                                                          | 12/118 [00:03<00:27,  3.87it/s]"
     ]
    },
    {
     "name": "stderr",
     "output_type": "stream",
     "text": [
      "\r",
      " 11%|████████████████████▉                                                                                                                                                                         | 13/118 [00:03<00:31,  3.38it/s]"
     ]
    },
    {
     "name": "stderr",
     "output_type": "stream",
     "text": [
      "\r",
      " 12%|██████████████████████▌                                                                                                                                                                       | 14/118 [00:04<00:32,  3.16it/s]"
     ]
    },
    {
     "name": "stderr",
     "output_type": "stream",
     "text": [
      "\r",
      " 13%|████████████████████████▏                                                                                                                                                                     | 15/118 [00:04<00:31,  3.27it/s]"
     ]
    },
    {
     "name": "stderr",
     "output_type": "stream",
     "text": [
      "\r",
      " 14%|█████████████████████████▊                                                                                                                                                                    | 16/118 [00:04<00:29,  3.48it/s]"
     ]
    },
    {
     "name": "stderr",
     "output_type": "stream",
     "text": [
      "\r",
      " 14%|███████████████████████████▎                                                                                                                                                                  | 17/118 [00:04<00:28,  3.59it/s]"
     ]
    },
    {
     "name": "stderr",
     "output_type": "stream",
     "text": [
      "\r",
      " 15%|████████████████████████████▉                                                                                                                                                                 | 18/118 [00:05<00:26,  3.81it/s]"
     ]
    },
    {
     "name": "stderr",
     "output_type": "stream",
     "text": [
      "\r",
      " 16%|██████████████████████████████▌                                                                                                                                                               | 19/118 [00:05<00:25,  3.83it/s]"
     ]
    },
    {
     "name": "stderr",
     "output_type": "stream",
     "text": [
      "\r",
      " 17%|████████████████████████████████▏                                                                                                                                                             | 20/118 [00:05<00:23,  4.15it/s]"
     ]
    },
    {
     "name": "stderr",
     "output_type": "stream",
     "text": [
      "\r",
      " 18%|█████████████████████████████████▊                                                                                                                                                            | 21/118 [00:05<00:23,  4.15it/s]"
     ]
    },
    {
     "name": "stderr",
     "output_type": "stream",
     "text": [
      "\r",
      " 19%|███████████████████████████████████▍                                                                                                                                                          | 22/118 [00:05<00:23,  4.06it/s]"
     ]
    },
    {
     "name": "stderr",
     "output_type": "stream",
     "text": [
      "\r",
      " 19%|█████████████████████████████████████                                                                                                                                                         | 23/118 [00:06<00:23,  4.09it/s]"
     ]
    },
    {
     "name": "stderr",
     "output_type": "stream",
     "text": [
      "\r",
      " 20%|██████████████████████████████████████▋                                                                                                                                                       | 24/118 [00:06<00:21,  4.36it/s]"
     ]
    },
    {
     "name": "stderr",
     "output_type": "stream",
     "text": [
      "\r",
      " 21%|████████████████████████████████████████▎                                                                                                                                                     | 25/118 [00:06<00:21,  4.32it/s]"
     ]
    },
    {
     "name": "stderr",
     "output_type": "stream",
     "text": [
      "\r",
      " 22%|█████████████████████████████████████████▊                                                                                                                                                    | 26/118 [00:06<00:23,  3.84it/s]"
     ]
    },
    {
     "name": "stderr",
     "output_type": "stream",
     "text": [
      "\r",
      " 23%|███████████████████████████████████████████▍                                                                                                                                                  | 27/118 [00:07<00:24,  3.75it/s]"
     ]
    },
    {
     "name": "stderr",
     "output_type": "stream",
     "text": [
      "\r",
      " 24%|█████████████████████████████████████████████                                                                                                                                                 | 28/118 [00:07<00:28,  3.21it/s]"
     ]
    },
    {
     "name": "stderr",
     "output_type": "stream",
     "text": [
      "\r",
      " 25%|██████████████████████████████████████████████▋                                                                                                                                               | 29/118 [00:07<00:26,  3.36it/s]"
     ]
    },
    {
     "name": "stderr",
     "output_type": "stream",
     "text": [
      "\r",
      " 25%|████████████████████████████████████████████████▎                                                                                                                                             | 30/118 [00:08<00:29,  3.03it/s]"
     ]
    },
    {
     "name": "stderr",
     "output_type": "stream",
     "text": [
      "\r",
      " 26%|█████████████████████████████████████████████████▉                                                                                                                                            | 31/118 [00:08<00:26,  3.23it/s]"
     ]
    },
    {
     "name": "stderr",
     "output_type": "stream",
     "text": [
      "\r",
      " 27%|███████████████████████████████████████████████████▌                                                                                                                                          | 32/118 [00:08<00:23,  3.63it/s]"
     ]
    },
    {
     "name": "stderr",
     "output_type": "stream",
     "text": [
      "\r",
      " 28%|█████████████████████████████████████████████████████▏                                                                                                                                        | 33/118 [00:09<00:23,  3.69it/s]"
     ]
    },
    {
     "name": "stderr",
     "output_type": "stream",
     "text": [
      "\r",
      " 29%|██████████████████████████████████████████████████████▋                                                                                                                                       | 34/118 [00:09<00:20,  4.03it/s]"
     ]
    },
    {
     "name": "stderr",
     "output_type": "stream",
     "text": [
      "\r",
      " 30%|████████████████████████████████████████████████████████▎                                                                                                                                     | 35/118 [00:09<00:23,  3.48it/s]"
     ]
    },
    {
     "name": "stderr",
     "output_type": "stream",
     "text": [
      "\r",
      " 31%|█████████████████████████████████████████████████████████▉                                                                                                                                    | 36/118 [00:09<00:20,  3.95it/s]"
     ]
    },
    {
     "name": "stderr",
     "output_type": "stream",
     "text": [
      "\r",
      " 31%|███████████████████████████████████████████████████████████▌                                                                                                                                  | 37/118 [00:10<00:20,  3.88it/s]"
     ]
    },
    {
     "name": "stderr",
     "output_type": "stream",
     "text": [
      "\r",
      " 32%|█████████████████████████████████████████████████████████████▏                                                                                                                                | 38/118 [00:10<00:20,  3.86it/s]"
     ]
    },
    {
     "name": "stderr",
     "output_type": "stream",
     "text": [
      "\r",
      " 33%|██████████████████████████████████████████████████████████████▊                                                                                                                               | 39/118 [00:10<00:20,  3.94it/s]"
     ]
    },
    {
     "name": "stderr",
     "output_type": "stream",
     "text": [
      "\r",
      " 34%|████████████████████████████████████████████████████████████████▍                                                                                                                             | 40/118 [00:10<00:18,  4.12it/s]"
     ]
    },
    {
     "name": "stderr",
     "output_type": "stream",
     "text": [
      "\r",
      " 35%|██████████████████████████████████████████████████████████████████                                                                                                                            | 41/118 [00:11<00:20,  3.76it/s]"
     ]
    },
    {
     "name": "stderr",
     "output_type": "stream",
     "text": [
      "\r",
      " 36%|███████████████████████████████████████████████████████████████████▋                                                                                                                          | 42/118 [00:11<00:18,  4.09it/s]"
     ]
    },
    {
     "name": "stderr",
     "output_type": "stream",
     "text": [
      "\r",
      " 36%|█████████████████████████████████████████████████████████████████████▏                                                                                                                        | 43/118 [00:11<00:17,  4.35it/s]"
     ]
    },
    {
     "name": "stderr",
     "output_type": "stream",
     "text": [
      "\r",
      " 37%|██████████████████████████████████████████████████████████████████████▊                                                                                                                       | 44/118 [00:11<00:18,  4.09it/s]"
     ]
    },
    {
     "name": "stderr",
     "output_type": "stream",
     "text": [
      "\r",
      " 38%|████████████████████████████████████████████████████████████████████████▍                                                                                                                     | 45/118 [00:12<00:17,  4.13it/s]"
     ]
    },
    {
     "name": "stderr",
     "output_type": "stream",
     "text": [
      "\r",
      " 39%|██████████████████████████████████████████████████████████████████████████                                                                                                                    | 46/118 [00:12<00:17,  4.16it/s]"
     ]
    },
    {
     "name": "stderr",
     "output_type": "stream",
     "text": [
      "\r",
      " 40%|███████████████████████████████████████████████████████████████████████████▋                                                                                                                  | 47/118 [00:12<00:16,  4.41it/s]"
     ]
    },
    {
     "name": "stderr",
     "output_type": "stream",
     "text": [
      "\r",
      " 41%|█████████████████████████████████████████████████████████████████████████████▎                                                                                                                | 48/118 [00:12<00:17,  4.01it/s]"
     ]
    },
    {
     "name": "stderr",
     "output_type": "stream",
     "text": [
      "\r",
      " 42%|██████████████████████████████████████████████████████████████████████████████▉                                                                                                               | 49/118 [00:13<00:17,  3.86it/s]"
     ]
    },
    {
     "name": "stderr",
     "output_type": "stream",
     "text": [
      "\r",
      " 42%|████████████████████████████████████████████████████████████████████████████████▌                                                                                                             | 50/118 [00:13<00:17,  3.96it/s]"
     ]
    },
    {
     "name": "stderr",
     "output_type": "stream",
     "text": [
      "\r",
      " 43%|██████████████████████████████████████████████████████████████████████████████████                                                                                                            | 51/118 [00:13<00:15,  4.25it/s]"
     ]
    },
    {
     "name": "stderr",
     "output_type": "stream",
     "text": [
      "\r",
      " 44%|███████████████████████████████████████████████████████████████████████████████████▋                                                                                                          | 52/118 [00:13<00:16,  4.11it/s]"
     ]
    },
    {
     "name": "stderr",
     "output_type": "stream",
     "text": [
      "\r",
      " 45%|█████████████████████████████████████████████████████████████████████████████████████▎                                                                                                        | 53/118 [00:14<00:17,  3.74it/s]"
     ]
    },
    {
     "name": "stderr",
     "output_type": "stream",
     "text": [
      "\r",
      " 46%|██████████████████████████████████████████████████████████████████████████████████████▉                                                                                                       | 54/118 [00:14<00:19,  3.37it/s]"
     ]
    },
    {
     "name": "stderr",
     "output_type": "stream",
     "text": [
      "\r",
      " 47%|████████████████████████████████████████████████████████████████████████████████████████▌                                                                                                     | 55/118 [00:14<00:18,  3.49it/s]"
     ]
    },
    {
     "name": "stderr",
     "output_type": "stream",
     "text": [
      "\r",
      " 47%|██████████████████████████████████████████████████████████████████████████████████████████▏                                                                                                   | 56/118 [00:14<00:16,  3.86it/s]"
     ]
    },
    {
     "name": "stderr",
     "output_type": "stream",
     "text": [
      "\r",
      " 48%|███████████████████████████████████████████████████████████████████████████████████████████▊                                                                                                  | 57/118 [00:15<00:16,  3.76it/s]"
     ]
    },
    {
     "name": "stderr",
     "output_type": "stream",
     "text": [
      "\r",
      " 49%|█████████████████████████████████████████████████████████████████████████████████████████████▍                                                                                                | 58/118 [00:15<00:15,  3.80it/s]"
     ]
    },
    {
     "name": "stderr",
     "output_type": "stream",
     "text": [
      "\r",
      " 50%|███████████████████████████████████████████████████████████████████████████████████████████████                                                                                               | 59/118 [00:15<00:15,  3.73it/s]"
     ]
    },
    {
     "name": "stderr",
     "output_type": "stream",
     "text": [
      "\r",
      " 51%|████████████████████████████████████████████████████████████████████████████████████████████████▌                                                                                             | 60/118 [00:15<00:15,  3.76it/s]"
     ]
    },
    {
     "name": "stderr",
     "output_type": "stream",
     "text": [
      "\r",
      " 52%|██████████████████████████████████████████████████████████████████████████████████████████████████▏                                                                                           | 61/118 [00:16<00:14,  3.88it/s]"
     ]
    },
    {
     "name": "stderr",
     "output_type": "stream",
     "text": [
      "\r",
      " 53%|███████████████████████████████████████████████████████████████████████████████████████████████████▊                                                                                          | 62/118 [00:16<00:14,  3.88it/s]"
     ]
    },
    {
     "name": "stderr",
     "output_type": "stream",
     "text": [
      "\r",
      " 53%|█████████████████████████████████████████████████████████████████████████████████████████████████████▍                                                                                        | 63/118 [00:16<00:14,  3.68it/s]"
     ]
    },
    {
     "name": "stderr",
     "output_type": "stream",
     "text": [
      "\r",
      " 54%|███████████████████████████████████████████████████████████████████████████████████████████████████████                                                                                       | 64/118 [00:17<00:16,  3.26it/s]"
     ]
    },
    {
     "name": "stderr",
     "output_type": "stream",
     "text": [
      "\r",
      " 55%|████████████████████████████████████████████████████████████████████████████████████████████████████████▋                                                                                     | 65/118 [00:17<00:16,  3.28it/s]"
     ]
    },
    {
     "name": "stderr",
     "output_type": "stream",
     "text": [
      "\r",
      " 56%|██████████████████████████████████████████████████████████████████████████████████████████████████████████▎                                                                                   | 66/118 [00:17<00:17,  3.00it/s]"
     ]
    },
    {
     "name": "stderr",
     "output_type": "stream",
     "text": [
      "\r",
      " 57%|███████████████████████████████████████████████████████████████████████████████████████████████████████████▉                                                                                  | 67/118 [00:18<00:15,  3.21it/s]"
     ]
    },
    {
     "name": "stderr",
     "output_type": "stream",
     "text": [
      "\r",
      " 58%|█████████████████████████████████████████████████████████████████████████████████████████████████████████████▍                                                                                | 68/118 [00:18<00:17,  2.85it/s]"
     ]
    },
    {
     "name": "stderr",
     "output_type": "stream",
     "text": [
      "\r",
      " 58%|███████████████████████████████████████████████████████████████████████████████████████████████████████████████                                                                               | 69/118 [00:18<00:18,  2.67it/s]"
     ]
    },
    {
     "name": "stderr",
     "output_type": "stream",
     "text": [
      "\r",
      " 59%|████████████████████████████████████████████████████████████████████████████████████████████████████████████████▋                                                                             | 70/118 [00:19<00:18,  2.56it/s]"
     ]
    },
    {
     "name": "stderr",
     "output_type": "stream",
     "text": [
      "\r",
      " 60%|██████████████████████████████████████████████████████████████████████████████████████████████████████████████████▎                                                                           | 71/118 [00:19<00:17,  2.62it/s]"
     ]
    },
    {
     "name": "stderr",
     "output_type": "stream",
     "text": [
      "\r",
      " 61%|███████████████████████████████████████████████████████████████████████████████████████████████████████████████████▉                                                                          | 72/118 [00:20<00:16,  2.76it/s]"
     ]
    },
    {
     "name": "stderr",
     "output_type": "stream",
     "text": [
      "\r",
      " 62%|█████████████████████████████████████████████████████████████████████████████████████████████████████████████████████▌                                                                        | 73/118 [00:20<00:14,  3.02it/s]"
     ]
    },
    {
     "name": "stderr",
     "output_type": "stream",
     "text": [
      "\r",
      " 63%|███████████████████████████████████████████████████████████████████████████████████████████████████████████████████████▏                                                                      | 74/118 [00:20<00:14,  3.09it/s]"
     ]
    },
    {
     "name": "stderr",
     "output_type": "stream",
     "text": [
      "\r",
      " 64%|████████████████████████████████████████████████████████████████████████████████████████████████████████████████████████▊                                                                     | 75/118 [00:20<00:14,  3.03it/s]"
     ]
    },
    {
     "name": "stderr",
     "output_type": "stream",
     "text": [
      "\r",
      " 64%|██████████████████████████████████████████████████████████████████████████████████████████████████████████████████████████▎                                                                   | 76/118 [00:21<00:16,  2.61it/s]"
     ]
    },
    {
     "name": "stderr",
     "output_type": "stream",
     "text": [
      "\r",
      " 65%|███████████████████████████████████████████████████████████████████████████████████████████████████████████████████████████▉                                                                  | 77/118 [00:21<00:13,  3.07it/s]"
     ]
    },
    {
     "name": "stderr",
     "output_type": "stream",
     "text": [
      "\r",
      " 66%|█████████████████████████████████████████████████████████████████████████████████████████████████████████████████████████████▌                                                                | 78/118 [00:22<00:13,  2.98it/s]"
     ]
    },
    {
     "name": "stderr",
     "output_type": "stream",
     "text": [
      "\r",
      " 67%|███████████████████████████████████████████████████████████████████████████████████████████████████████████████████████████████▏                                                              | 79/118 [00:22<00:12,  3.21it/s]"
     ]
    },
    {
     "name": "stderr",
     "output_type": "stream",
     "text": [
      "\r",
      " 68%|████████████████████████████████████████████████████████████████████████████████████████████████████████████████████████████████▊                                                             | 80/118 [00:22<00:12,  3.13it/s]"
     ]
    },
    {
     "name": "stderr",
     "output_type": "stream",
     "text": [
      "\r",
      " 69%|██████████████████████████████████████████████████████████████████████████████████████████████████████████████████████████████████▍                                                           | 81/118 [00:22<00:12,  3.06it/s]"
     ]
    },
    {
     "name": "stderr",
     "output_type": "stream",
     "text": [
      "\r",
      " 69%|████████████████████████████████████████████████████████████████████████████████████████████████████████████████████████████████████                                                          | 82/118 [00:23<00:11,  3.14it/s]"
     ]
    },
    {
     "name": "stderr",
     "output_type": "stream",
     "text": [
      "\r",
      " 70%|█████████████████████████████████████████████████████████████████████████████████████████████████████████████████████████████████████▋                                                        | 83/118 [00:23<00:11,  3.15it/s]"
     ]
    },
    {
     "name": "stderr",
     "output_type": "stream",
     "text": [
      "\r",
      " 71%|███████████████████████████████████████████████████████████████████████████████████████████████████████████████████████████████████████▎                                                      | 84/118 [00:23<00:10,  3.21it/s]"
     ]
    },
    {
     "name": "stderr",
     "output_type": "stream",
     "text": [
      "\r",
      " 72%|████████████████████████████████████████████████████████████████████████████████████████████████████████████████████████████████████████▊                                                     | 85/118 [00:24<00:11,  2.95it/s]"
     ]
    },
    {
     "name": "stderr",
     "output_type": "stream",
     "text": [
      "\r",
      " 73%|██████████████████████████████████████████████████████████████████████████████████████████████████████████████████████████████████████████▍                                                   | 86/118 [00:24<00:10,  3.06it/s]"
     ]
    },
    {
     "name": "stderr",
     "output_type": "stream",
     "text": [
      "\r",
      " 74%|████████████████████████████████████████████████████████████████████████████████████████████████████████████████████████████████████████████                                                  | 87/118 [00:24<00:08,  3.49it/s]"
     ]
    },
    {
     "name": "stderr",
     "output_type": "stream",
     "text": [
      "\r",
      " 75%|█████████████████████████████████████████████████████████████████████████████████████████████████████████████████████████████████████████████▋                                                | 88/118 [00:25<00:09,  3.25it/s]"
     ]
    },
    {
     "name": "stderr",
     "output_type": "stream",
     "text": [
      "\r",
      " 75%|███████████████████████████████████████████████████████████████████████████████████████████████████████████████████████████████████████████████▎                                              | 89/118 [00:25<00:09,  2.92it/s]"
     ]
    },
    {
     "name": "stderr",
     "output_type": "stream",
     "text": [
      "\r",
      " 76%|████████████████████████████████████████████████████████████████████████████████████████████████████████████████████████████████████████████████▉                                             | 90/118 [00:25<00:09,  2.93it/s]"
     ]
    },
    {
     "name": "stderr",
     "output_type": "stream",
     "text": [
      "\r",
      " 77%|██████████████████████████████████████████████████████████████████████████████████████████████████████████████████████████████████████████████████▌                                           | 91/118 [00:26<00:09,  2.93it/s]"
     ]
    },
    {
     "name": "stderr",
     "output_type": "stream",
     "text": [
      "\r",
      " 78%|████████████████████████████████████████████████████████████████████████████████████████████████████████████████████████████████████████████████████▏                                         | 92/118 [00:26<00:10,  2.47it/s]"
     ]
    },
    {
     "name": "stderr",
     "output_type": "stream",
     "text": [
      "\r",
      " 79%|█████████████████████████████████████████████████████████████████████████████████████████████████████████████████████████████████████████████████████▋                                        | 93/118 [00:27<00:09,  2.74it/s]"
     ]
    },
    {
     "name": "stderr",
     "output_type": "stream",
     "text": [
      "\r",
      " 80%|███████████████████████████████████████████████████████████████████████████████████████████████████████████████████████████████████████████████████████▎                                      | 94/118 [00:27<00:08,  2.80it/s]"
     ]
    },
    {
     "name": "stderr",
     "output_type": "stream",
     "text": [
      "\r",
      " 81%|████████████████████████████████████████████████████████████████████████████████████████████████████████████████████████████████████████████████████████▉                                     | 95/118 [00:27<00:07,  3.00it/s]"
     ]
    },
    {
     "name": "stderr",
     "output_type": "stream",
     "text": [
      "\r",
      " 81%|██████████████████████████████████████████████████████████████████████████████████████████████████████████████████████████████████████████████████████████▌                                   | 96/118 [00:27<00:06,  3.22it/s]"
     ]
    },
    {
     "name": "stderr",
     "output_type": "stream",
     "text": [
      "\r",
      " 82%|████████████████████████████████████████████████████████████████████████████████████████████████████████████████████████████████████████████████████████████▏                                 | 97/118 [00:28<00:06,  3.26it/s]"
     ]
    },
    {
     "name": "stderr",
     "output_type": "stream",
     "text": [
      "\r",
      " 83%|█████████████████████████████████████████████████████████████████████████████████████████████████████████████████████████████████████████████████████████████▊                                | 98/118 [00:28<00:06,  3.15it/s]"
     ]
    },
    {
     "name": "stderr",
     "output_type": "stream",
     "text": [
      "\r",
      " 84%|███████████████████████████████████████████████████████████████████████████████████████████████████████████████████████████████████████████████████████████████▍                              | 99/118 [00:28<00:06,  3.03it/s]"
     ]
    },
    {
     "name": "stderr",
     "output_type": "stream",
     "text": [
      "\r",
      " 85%|████████████████████████████████████████████████████████████████████████████████████████████████████████████████████████████████████████████████████████████████▏                            | 100/118 [00:29<00:06,  2.82it/s]"
     ]
    },
    {
     "name": "stderr",
     "output_type": "stream",
     "text": [
      "\r",
      " 86%|█████████████████████████████████████████████████████████████████████████████████████████████████████████████████████████████████████████████████████████████████▊                           | 101/118 [00:29<00:05,  2.89it/s]"
     ]
    },
    {
     "name": "stderr",
     "output_type": "stream",
     "text": [
      "\r",
      " 86%|███████████████████████████████████████████████████████████████████████████████████████████████████████████████████████████████████████████████████████████████████▎                         | 102/118 [00:29<00:05,  3.20it/s]"
     ]
    },
    {
     "name": "stderr",
     "output_type": "stream",
     "text": [
      "\r",
      " 87%|████████████████████████████████████████████████████████████████████████████████████████████████████████████████████████████████████████████████████████████████████▉                        | 103/118 [00:30<00:04,  3.03it/s]"
     ]
    },
    {
     "name": "stderr",
     "output_type": "stream",
     "text": [
      "\r",
      " 88%|██████████████████████████████████████████████████████████████████████████████████████████████████████████████████████████████████████████████████████████████████████▌                      | 104/118 [00:30<00:04,  3.21it/s]"
     ]
    },
    {
     "name": "stderr",
     "output_type": "stream",
     "text": [
      "\r",
      " 89%|████████████████████████████████████████████████████████████████████████████████████████████████████████████████████████████████████████████████████████████████████████▏                    | 105/118 [00:30<00:04,  3.13it/s]"
     ]
    },
    {
     "name": "stderr",
     "output_type": "stream",
     "text": [
      "\r",
      " 90%|█████████████████████████████████████████████████████████████████████████████████████████████████████████████████████████████████████████████████████████████████████████▊                   | 106/118 [00:31<00:03,  3.08it/s]"
     ]
    },
    {
     "name": "stderr",
     "output_type": "stream",
     "text": [
      "\r",
      " 91%|███████████████████████████████████████████████████████████████████████████████████████████████████████████████████████████████████████████████████████████████████████████▍                 | 107/118 [00:31<00:03,  3.16it/s]"
     ]
    },
    {
     "name": "stderr",
     "output_type": "stream",
     "text": [
      "\r",
      " 92%|████████████████████████████████████████████████████████████████████████████████████████████████████████████████████████████████████████████████████████████████████████████▉                | 108/118 [00:31<00:03,  3.29it/s]"
     ]
    },
    {
     "name": "stderr",
     "output_type": "stream",
     "text": [
      "\r",
      " 92%|██████████████████████████████████████████████████████████████████████████████████████████████████████████████████████████████████████████████████████████████████████████████▌              | 109/118 [00:32<00:03,  2.85it/s]"
     ]
    },
    {
     "name": "stderr",
     "output_type": "stream",
     "text": [
      "\r",
      " 93%|████████████████████████████████████████████████████████████████████████████████████████████████████████████████████████████████████████████████████████████████████████████████▏            | 110/118 [00:32<00:02,  2.83it/s]"
     ]
    },
    {
     "name": "stderr",
     "output_type": "stream",
     "text": [
      "\r",
      " 94%|█████████████████████████████████████████████████████████████████████████████████████████████████████████████████████████████████████████████████████████████████████████████████▊           | 111/118 [00:33<00:02,  2.72it/s]"
     ]
    },
    {
     "name": "stderr",
     "output_type": "stream",
     "text": [
      "\r",
      " 95%|███████████████████████████████████████████████████████████████████████████████████████████████████████████████████████████████████████████████████████████████████████████████████▍         | 112/118 [00:33<00:02,  2.74it/s]"
     ]
    },
    {
     "name": "stderr",
     "output_type": "stream",
     "text": [
      "\r",
      " 96%|████████████████████████████████████████████████████████████████████████████████████████████████████████████████████████████████████████████████████████████████████████████████████▉        | 113/118 [00:33<00:01,  3.01it/s]"
     ]
    },
    {
     "name": "stderr",
     "output_type": "stream",
     "text": [
      "\r",
      " 97%|██████████████████████████████████████████████████████████████████████████████████████████████████████████████████████████████████████████████████████████████████████████████████████▌      | 114/118 [00:33<00:01,  3.23it/s]"
     ]
    },
    {
     "name": "stderr",
     "output_type": "stream",
     "text": [
      "\r",
      " 97%|████████████████████████████████████████████████████████████████████████████████████████████████████████████████████████████████████████████████████████████████████████████████████████▏    | 115/118 [00:34<00:00,  3.49it/s]"
     ]
    },
    {
     "name": "stderr",
     "output_type": "stream",
     "text": [
      "\r",
      " 98%|█████████████████████████████████████████████████████████████████████████████████████████████████████████████████████████████████████████████████████████████████████████████████████████▊   | 116/118 [00:34<00:00,  3.54it/s]"
     ]
    },
    {
     "name": "stderr",
     "output_type": "stream",
     "text": [
      "\r",
      " 99%|███████████████████████████████████████████████████████████████████████████████████████████████████████████████████████████████████████████████████████████████████████████████████████████▍ | 117/118 [00:34<00:00,  3.48it/s]"
     ]
    },
    {
     "name": "stderr",
     "output_type": "stream",
     "text": [
      "\r",
      "100%|█████████████████████████████████████████████████████████████████████████████████████████████████████████████████████████████████████████████████████████████████████████████████████████████| 118/118 [00:35<00:00,  3.29it/s]"
     ]
    },
    {
     "name": "stderr",
     "output_type": "stream",
     "text": [
      "\r",
      "100%|█████████████████████████████████████████████████████████████████████████████████████████████████████████████████████████████████████████████████████████████████████████████████████████████| 118/118 [00:35<00:00,  3.37it/s]"
     ]
    },
    {
     "name": "stderr",
     "output_type": "stream",
     "text": [
      "\n"
     ]
    }
   ],
   "source": [
    "dataset = []\n",
    "for ind in tqdm(range(len(df_en_target_input))):\n",
    "    d = next(sample(df_en_target_input, ind, lang1=input_lang, lang2=target_lang))\n",
    "    if d is None:\n",
    "        continue\n",
    "    dataset.append(d)"
   ]
  },
  {
   "cell_type": "code",
   "execution_count": 12,
   "id": "d786ab1b",
   "metadata": {
    "execution": {
     "iopub.execute_input": "2024-03-02T15:40:12.667046Z",
     "iopub.status.busy": "2024-03-02T15:40:12.666817Z",
     "iopub.status.idle": "2024-03-02T15:40:12.722461Z",
     "shell.execute_reply": "2024-03-02T15:40:12.721963Z"
    },
    "papermill": {
     "duration": 0.064934,
     "end_time": "2024-03-02T15:40:12.723407",
     "exception": false,
     "start_time": "2024-03-02T15:40:12.658473",
     "status": "completed"
    },
    "tags": []
   },
   "outputs": [],
   "source": [
    "df = pd.DataFrame(dataset)\n",
    "os.makedirs(f'{out_dir}/translation', exist_ok=True)\n",
    "df.to_csv(f'{out_dir}/translation/pythia-{model_size}_{input_lang}_{target_lang}_dataset.csv', index=False)"
   ]
  },
  {
   "cell_type": "code",
   "execution_count": 13,
   "id": "94fa55b7",
   "metadata": {
    "execution": {
     "iopub.execute_input": "2024-03-02T15:40:12.738956Z",
     "iopub.status.busy": "2024-03-02T15:40:12.738796Z",
     "iopub.status.idle": "2024-03-02T15:40:12.772877Z",
     "shell.execute_reply": "2024-03-02T15:40:12.772434Z"
    },
    "papermill": {
     "duration": 0.042792,
     "end_time": "2024-03-02T15:40:12.773765",
     "exception": false,
     "start_time": "2024-03-02T15:40:12.730973",
     "status": "completed"
    },
    "tags": []
   },
   "outputs": [],
   "source": [
    "def get_logits(model, prompt,lens):\n",
    "    inputs = tokenizer(prompt, return_tensors=\"pt\").to('cuda')\n",
    "    output = pythia(inputs.input_ids, output_hidden_states=True)\n",
    "    hidden_states = output.hidden_states[:-1]\n",
    "    final_lps = output.logits.log_softmax(dim=-1)\n",
    "    tensors=[]\n",
    "    hd= []\n",
    "    for i in range(len(model.gpt_neox.layers)):\n",
    "        h = hidden_states[i].squeeze(0)\n",
    "        tensors+=[lens(h, idx=i).detach().cpu()]\n",
    "        hd+=[lens.transform_hidden(h, idx=i).detach().cpu()]\n",
    "    tensors= torch.stack(tensors)  \n",
    "    hidden_states = torch.stack(hd)\n",
    "    return tensors,hidden_states\n",
    "        "
   ]
  },
  {
   "cell_type": "code",
   "execution_count": 14,
   "id": "ee982287",
   "metadata": {
    "execution": {
     "iopub.execute_input": "2024-03-02T15:40:12.789577Z",
     "iopub.status.busy": "2024-03-02T15:40:12.789369Z",
     "iopub.status.idle": "2024-03-02T15:40:12.840725Z",
     "shell.execute_reply": "2024-03-02T15:40:12.840324Z"
    },
    "papermill": {
     "duration": 0.060105,
     "end_time": "2024-03-02T15:40:12.841567",
     "exception": false,
     "start_time": "2024-03-02T15:40:12.781462",
     "status": "completed"
    },
    "tags": []
   },
   "outputs": [
    {
     "data": {
      "text/plain": [
       "[{'prompt': 'Français: \"cinq\" - English: \"five\"\\nFrançais: \"cœur\" - English: \"heart\"\\nFrançais: \"partie\" - English: \"part\"\\nFrançais: \"trois\" - English: \"three\"\\nFrançais: \"nuage\" - English: \"',\n",
       "  'out_token_id': [18534, 498, 45679, 68],\n",
       "  'out_token_str': 'cloud',\n",
       "  'latent_token_id': [18534, 498, 45679, 68],\n",
       "  'latent_token_str': 'cloud',\n",
       "  'in_token_str': 'nuage'},\n",
       " {'prompt': 'Français: \"vallée\" - English: \"valley\"\\nFrançais: \"tribu\" - English: \"tribe\"\\nFrançais: \"vertu\" - English: \"virtue\"\\nFrançais: \"œil\" - English: \"eye\"\\nFrançais: \"sac\" - English: \"',\n",
       "  'out_token_id': [22738, 67, 5830],\n",
       "  'out_token_str': 'bag',\n",
       "  'latent_token_id': [22738, 67, 5830],\n",
       "  'latent_token_str': 'bag',\n",
       "  'in_token_str': 'sac'},\n",
       " {'prompt': 'Français: \"école\" - English: \"school\"\\nFrançais: \"version\" - English: \"version\"\\nFrançais: \"point\" - English: \"point\"\\nFrançais: \"mille\" - English: \"thousand\"\\nFrançais: \"bouche\" - English: \"',\n",
       "  'out_token_id': [6972, 78, 19845],\n",
       "  'out_token_str': 'mouth',\n",
       "  'latent_token_id': [6972, 78, 19845],\n",
       "  'latent_token_str': 'mouth',\n",
       "  'in_token_str': 'bouche'},\n",
       " {'prompt': 'Français: \"champ\" - English: \"field\"\\nFrançais: \"nord\" - English: \"north\"\\nFrançais: \"fleur\" - English: \"flower\"\\nFrançais: \"tour\" - English: \"tower\"\\nFrançais: \"sol\" - English: \"',\n",
       "  'out_token_id': [84, 601],\n",
       "  'out_token_str': 'soil',\n",
       "  'latent_token_id': [84, 601],\n",
       "  'latent_token_str': 'soil',\n",
       "  'in_token_str': 'sol'},\n",
       " {'prompt': 'Français: \"temps\" - English: \"time\"\\nFrançais: \"porte\" - English: \"door\"\\nFrançais: \"vallée\" - English: \"valley\"\\nFrançais: \"rue\" - English: \"street\"\\nFrançais: \"montagne\" - English: \"',\n",
       "  'out_token_id': [6972, 16285, 78],\n",
       "  'out_token_str': 'mountain',\n",
       "  'latent_token_id': [6972, 16285, 78],\n",
       "  'latent_token_str': 'mountain',\n",
       "  'in_token_str': 'montagne'},\n",
       " {'prompt': 'Français: \"paire\" - English: \"pair\"\\nFrançais: \"gauche\" - English: \"left\"\\nFrançais: \"été\" - English: \"summer\"\\nFrançais: \"sept\" - English: \"seven\"\\nFrançais: \"cœur\" - English: \"',\n",
       "  'out_token_id': [248, 21071, 73, 14387],\n",
       "  'out_token_str': 'heart',\n",
       "  'latent_token_id': [248, 21071, 73, 14387],\n",
       "  'latent_token_str': 'heart',\n",
       "  'in_token_str': 'cœur'},\n",
       " {'prompt': 'Français: \"bande\" - English: \"strip\"\\nFrançais: \"un\" - English: \"one\"\\nFrançais: \"jour\" - English: \"day\"\\nFrançais: \"enfant\" - English: \"child\"\\nFrançais: \"main\" - English: \"',\n",
       "  'out_token_id': [5582, 73, 3227, 4608],\n",
       "  'out_token_str': 'hand',\n",
       "  'latent_token_id': [5582, 73, 3227, 4608],\n",
       "  'latent_token_str': 'hand',\n",
       "  'in_token_str': 'main'},\n",
       " {'prompt': 'Français: \"quatre\" - English: \"four\"\\nFrançais: \"bois\" - English: \"wood\"\\nFrançais: \"rouge\" - English: \"red\"\\nFrançais: \"gauche\" - English: \"left\"\\nFrançais: \"jour\" - English: \"',\n",
       "  'out_token_id': [69, 1201, 1473],\n",
       "  'out_token_str': 'day',\n",
       "  'latent_token_id': [69, 1201, 1473],\n",
       "  'latent_token_str': 'day',\n",
       "  'in_token_str': 'jour'},\n",
       " {'prompt': 'Français: \"source\" - English: \"source\"\\nFrançais: \"neuf\" - English: \"nine\"\\nFrançais: \"main\" - English: \"hand\"\\nFrançais: \"ligne\" - English: \"line\"\\nFrançais: \"étoile\" - English: \"',\n",
       "  'out_token_id': [84, 18233, 7873, 296],\n",
       "  'out_token_str': 'star',\n",
       "  'latent_token_id': [84, 18233, 7873, 296],\n",
       "  'latent_token_str': 'star',\n",
       "  'in_token_str': 'étoile'},\n",
       " {'prompt': 'Français: \"loi\" - English: \"law\"\\nFrançais: \"tribu\" - English: \"tribe\"\\nFrançais: \"bouche\" - English: \"mouth\"\\nFrançais: \"gauche\" - English: \"left\"\\nFrançais: \"ressort\" - English: \"',\n",
       "  'out_token_id': [84, 1033, 10167, 27375],\n",
       "  'out_token_str': 'spring',\n",
       "  'latent_token_id': [84, 1033, 10167, 27375],\n",
       "  'latent_token_str': 'spring',\n",
       "  'in_token_str': 'ressort'},\n",
       " {'prompt': 'Français: \"siège\" - English: \"seat\"\\nFrançais: \"sud\" - English: \"south\"\\nFrançais: \"quatre\" - English: \"four\"\\nFrançais: \"or\" - English: \"gold\"\\nFrançais: \"lune\" - English: \"',\n",
       "  'out_token_id': [6972, 78],\n",
       "  'out_token_str': 'moon',\n",
       "  'latent_token_id': [6972, 78],\n",
       "  'latent_token_str': 'moon',\n",
       "  'in_token_str': 'lune'},\n",
       " {'prompt': 'Français: \"bouche\" - English: \"mouth\"\\nFrançais: \"mille\" - English: \"thousand\"\\nFrançais: \"ménage\" - English: \"household\"\\nFrançais: \"été\" - English: \"summer\"\\nFrançais: \"bois\" - English: \"',\n",
       "  'out_token_id': [5308, 88, 680],\n",
       "  'out_token_str': 'wood',\n",
       "  'latent_token_id': [5308, 88, 680],\n",
       "  'latent_token_str': 'wood',\n",
       "  'in_token_str': 'bois'},\n",
       " {'prompt': 'Français: \"forêt\" - English: \"forest\"\\nFrançais: \"cravate\" - English: \"tie\"\\nFrançais: \"six\" - English: \"six\"\\nFrançais: \"dix\" - English: \"ten\"\\nFrançais: \"village\" - English: \"',\n",
       "  'out_token_id': [6584, 87, 40579, 33745],\n",
       "  'out_token_str': 'village',\n",
       "  'latent_token_id': [6584, 87, 40579, 33745],\n",
       "  'latent_token_str': 'village',\n",
       "  'in_token_str': 'village'},\n",
       " {'prompt': 'Français: \"tête\" - English: \"head\"\\nFrançais: \"génération\" - English: \"generation\"\\nFrançais: \"océan\" - English: \"ocean\"\\nFrançais: \"quatre\" - English: \"four\"\\nFrançais: \"forêt\" - English: \"',\n",
       "  'out_token_id': [38250, 922, 4786, 1542, 71],\n",
       "  'out_token_str': 'forest',\n",
       "  'latent_token_id': [38250, 922, 4786, 1542, 71],\n",
       "  'latent_token_str': 'forest',\n",
       "  'in_token_str': 'forêt'},\n",
       " {'prompt': 'Français: \"défaite\" - English: \"defeat\"\\nFrançais: \"bande\" - English: \"strip\"\\nFrançais: \"bouche\" - English: \"mouth\"\\nFrançais: \"sud\" - English: \"south\"\\nFrançais: \"fruit\" - English: \"',\n",
       "  'out_token_id': [925, 37609, 71],\n",
       "  'out_token_str': 'fruit',\n",
       "  'latent_token_id': [925, 37609, 71],\n",
       "  'latent_token_str': 'fruit',\n",
       "  'in_token_str': 'fruit'},\n",
       " {'prompt': 'Français: \"trois\" - English: \"three\"\\nFrançais: \"montagne\" - English: \"mountain\"\\nFrançais: \"milieu\" - English: \"middle\"\\nFrançais: \"tentative\" - English: \"attempt\"\\nFrançais: \"grille\" - English: \"',\n",
       "  'out_token_id': [72, 15476, 737],\n",
       "  'out_token_str': 'grid',\n",
       "  'latent_token_id': [72, 15476, 737],\n",
       "  'latent_token_str': 'grid',\n",
       "  'in_token_str': 'grille'},\n",
       " {'prompt': 'Français: \"avancer\" - English: \"advance\"\\nFrançais: \"enfant\" - English: \"child\"\\nFrançais: \"sept\" - English: \"seven\"\\nFrançais: \"groupe\" - English: \"group\"\\nFrançais: \"chanson\" - English: \"',\n",
       "  'out_token_id': [32429, 84, 1665, 601],\n",
       "  'out_token_str': 'song',\n",
       "  'latent_token_id': [32429, 84, 1665, 601],\n",
       "  'latent_token_str': 'song',\n",
       "  'in_token_str': 'chanson'},\n",
       " {'prompt': 'Français: \"école\" - English: \"school\"\\nFrançais: \"groupe\" - English: \"group\"\\nFrançais: \"grille\" - English: \"grid\"\\nFrançais: \"pouvoir\" - English: \"power\"\\nFrançais: \"étang\" - English: \"',\n",
       "  'out_token_id': [81, 5367],\n",
       "  'out_token_str': 'pond',\n",
       "  'latent_token_id': [81, 5367],\n",
       "  'latent_token_str': 'pond',\n",
       "  'in_token_str': 'étang'},\n",
       " {'prompt': 'Français: \"roche\" - English: \"rock\"\\nFrançais: \"maison\" - English: \"house\"\\nFrançais: \"visage\" - English: \"face\"\\nFrançais: \"cheval\" - English: \"horse\"\\nFrançais: \"sable\" - English: \"',\n",
       "  'out_token_id': [84, 6678, 40728, 26125],\n",
       "  'out_token_str': 'sand',\n",
       "  'latent_token_id': [84, 6678, 40728, 26125],\n",
       "  'latent_token_str': 'sand',\n",
       "  'in_token_str': 'sable'},\n",
       " {'prompt': 'Français: \"œil\" - English: \"eye\"\\nFrançais: \"ligne\" - English: \"line\"\\nFrançais: \"histoire\" - English: \"history\"\\nFrançais: \"porte\" - English: \"door\"\\nFrançais: \"loi\" - English: \"',\n",
       "  'out_token_id': [6937, 77, 4123],\n",
       "  'out_token_str': 'law',\n",
       "  'latent_token_id': [6937, 77, 4123],\n",
       "  'latent_token_str': 'law',\n",
       "  'in_token_str': 'loi'},\n",
       " {'prompt': 'Français: \"six\" - English: \"six\"\\nFrançais: \"ressort\" - English: \"spring\"\\nFrançais: \"main\" - English: \"hand\"\\nFrançais: \"école\" - English: \"school\"\\nFrançais: \"onde\" - English: \"',\n",
       "  'out_token_id': [8754, 15007, 88],\n",
       "  'out_token_str': 'wave',\n",
       "  'latent_token_id': [8754, 15007, 88],\n",
       "  'latent_token_str': 'wave',\n",
       "  'in_token_str': 'onde'},\n",
       " {'prompt': 'Français: \"nuage\" - English: \"cloud\"\\nFrançais: \"champ\" - English: \"field\"\\nFrançais: \"neuf\" - English: \"nine\"\\nFrançais: \"quatre\" - English: \"four\"\\nFrançais: \"océan\" - English: \"',\n",
       "  'out_token_id': [80, 406],\n",
       "  'out_token_str': 'ocean',\n",
       "  'latent_token_id': [80, 406],\n",
       "  'latent_token_str': 'ocean',\n",
       "  'in_token_str': 'océan'},\n",
       " {'prompt': 'Français: \"forêt\" - English: \"forest\"\\nFrançais: \"été\" - English: \"summer\"\\nFrançais: \"juge\" - English: \"judge\"\\nFrançais: \"filet\" - English: \"net\"\\nFrançais: \"grotte\" - English: \"',\n",
       "  'out_token_id': [43205, 68, 6357],\n",
       "  'out_token_str': 'cave',\n",
       "  'latent_token_id': [43205, 68, 6357],\n",
       "  'latent_token_str': 'cave',\n",
       "  'in_token_str': 'grotte'},\n",
       " {'prompt': 'Français: \"siège\" - English: \"seat\"\\nFrançais: \"supprimer\" - English: \"delete\"\\nFrançais: \"nord\" - English: \"north\"\\nFrançais: \"pied\" - English: \"foot\"\\nFrançais: \"mer\" - English: \"',\n",
       "  'out_token_id': [339, 84, 15681],\n",
       "  'out_token_str': 'sea',\n",
       "  'latent_token_id': [339, 84, 15681],\n",
       "  'latent_token_str': 'sea',\n",
       "  'in_token_str': 'mer'},\n",
       " {'prompt': 'Français: \"bois\" - English: \"wood\"\\nFrançais: \"jour\" - English: \"day\"\\nFrançais: \"cheval\" - English: \"horse\"\\nFrançais: \"structure\" - English: \"structure\"\\nFrançais: \"lac\" - English: \"',\n",
       "  'out_token_id': [48212, 77, 4123],\n",
       "  'out_token_str': 'lake',\n",
       "  'latent_token_id': [48212, 77, 4123],\n",
       "  'latent_token_str': 'lake',\n",
       "  'in_token_str': 'lac'},\n",
       " {'prompt': 'Français: \"siège\" - English: \"seat\"\\nFrançais: \"village\" - English: \"village\"\\nFrançais: \"machine\" - English: \"machine\"\\nFrançais: \"gauche\" - English: \"left\"\\nFrançais: \"source\" - English: \"',\n",
       "  'out_token_id': [84, 6756, 601],\n",
       "  'out_token_str': 'source',\n",
       "  'latent_token_id': [84, 6756, 601],\n",
       "  'latent_token_str': 'source',\n",
       "  'in_token_str': 'source'},\n",
       " {'prompt': 'Français: \"supprimer\" - English: \"delete\"\\nFrançais: \"champ\" - English: \"field\"\\nFrançais: \"position\" - English: \"position\"\\nFrançais: \"gare\" - English: \"station\"\\nFrançais: \"point\" - English: \"',\n",
       "  'out_token_id': [81, 5367, 3659],\n",
       "  'out_token_str': 'point',\n",
       "  'latent_token_id': [81, 5367, 3659],\n",
       "  'latent_token_str': 'point',\n",
       "  'in_token_str': 'point'},\n",
       " {'prompt': 'Français: \"rouge\" - English: \"red\"\\nFrançais: \"sac\" - English: \"bag\"\\nFrançais: \"visage\" - English: \"face\"\\nFrançais: \"mot\" - English: \"word\"\\nFrançais: \"version\" - English: \"',\n",
       "  'out_token_id': [306, 4149, 87, 332, 735],\n",
       "  'out_token_str': 'version',\n",
       "  'latent_token_id': [306, 4149, 87, 332, 735],\n",
       "  'latent_token_str': 'version',\n",
       "  'in_token_str': 'version'},\n",
       " {'prompt': 'Français: \"neuf\" - English: \"nine\"\\nFrançais: \"montagne\" - English: \"mountain\"\\nFrançais: \"mille\" - English: \"thousand\"\\nFrançais: \"bureau\" - English: \"office\"\\nFrançais: \"ballon\" - English: \"',\n",
       "  'out_token_id': [7187, 2910, 67, 5830],\n",
       "  'out_token_str': 'ball',\n",
       "  'latent_token_id': [7187, 2910, 67, 5830],\n",
       "  'latent_token_str': 'ball',\n",
       "  'in_token_str': 'ballon'},\n",
       " {'prompt': 'Français: \"mer\" - English: \"sea\"\\nFrançais: \"océan\" - English: \"ocean\"\\nFrançais: \"mère\" - English: \"mother\"\\nFrançais: \"machine\" - English: \"machine\"\\nFrançais: \"gare\" - English: \"',\n",
       "  'out_token_id': [84, 18233, 296, 20502, 8766],\n",
       "  'out_token_str': 'station',\n",
       "  'latent_token_id': [84, 18233, 296, 20502, 8766],\n",
       "  'latent_token_str': 'station',\n",
       "  'in_token_str': 'gare'},\n",
       " {'prompt': 'Français: \"bande\" - English: \"strip\"\\nFrançais: \"sol\" - English: \"ground\"\\nFrançais: \"bureau\" - English: \"office\"\\nFrançais: \"nuage\" - English: \"cloud\"\\nFrançais: \"riz\" - English: \"',\n",
       "  'out_token_id': [23804, 363, 695, 83],\n",
       "  'out_token_str': 'rice',\n",
       "  'latent_token_id': [23804, 363, 695, 83],\n",
       "  'latent_token_str': 'rice',\n",
       "  'in_token_str': 'riz'},\n",
       " {'prompt': 'Français: \"structure\" - English: \"structure\"\\nFrançais: \"fleur\" - English: \"flower\"\\nFrançais: \"bourse\" - English: \"exchange\"\\nFrançais: \"cœur\" - English: \"heart\"\\nFrançais: \"rouge\" - English: \"',\n",
       "  'out_token_id': [83, 433, 250],\n",
       "  'out_token_str': 'red',\n",
       "  'latent_token_id': [83, 433, 250],\n",
       "  'latent_token_str': 'red',\n",
       "  'in_token_str': 'rouge'},\n",
       " {'prompt': 'Français: \"enfant\" - English: \"child\"\\nFrançais: \"sept\" - English: \"seven\"\\nFrançais: \"quatre\" - English: \"four\"\\nFrançais: \"vertu\" - English: \"virtue\"\\nFrançais: \"ligne\" - English: \"',\n",
       "  'out_token_id': [1282, 3642, 965, 77],\n",
       "  'out_token_str': 'line',\n",
       "  'latent_token_id': [1282, 3642, 965, 77],\n",
       "  'latent_token_str': 'line',\n",
       "  'in_token_str': 'ligne'},\n",
       " {'prompt': 'Français: \"ménage\" - English: \"household\"\\nFrançais: \"pouvoir\" - English: \"power\"\\nFrançais: \"ville\" - English: \"city\"\\nFrançais: \"loi\" - English: \"law\"\\nFrançais: \"filet\" - English: \"',\n",
       "  'out_token_id': [79, 570, 3024],\n",
       "  'out_token_str': 'net',\n",
       "  'latent_token_id': [79, 570, 3024],\n",
       "  'latent_token_str': 'net',\n",
       "  'in_token_str': 'filet'},\n",
       " {'prompt': 'Français: \"vertu\" - English: \"virtue\"\\nFrançais: \"siège\" - English: \"seat\"\\nFrançais: \"neige\" - English: \"snow\"\\nFrançais: \"supprimer\" - English: \"delete\"\\nFrançais: \"fleur\" - English: \"',\n",
       "  'out_token_id': [1258, 5449, 33179, 71, 40591],\n",
       "  'out_token_str': 'flower',\n",
       "  'latent_token_id': [1258, 5449, 33179, 71, 40591],\n",
       "  'latent_token_str': 'flower',\n",
       "  'in_token_str': 'fleur'},\n",
       " {'prompt': 'Français: \"mille\" - English: \"thousand\"\\nFrançais: \"bureau\" - English: \"office\"\\nFrançais: \"fleur\" - English: \"flower\"\\nFrançais: \"vallée\" - English: \"valley\"\\nFrançais: \"thé\" - English: \"',\n",
       "  'out_token_id': [85, 442],\n",
       "  'out_token_str': 'tea',\n",
       "  'latent_token_id': [85, 442],\n",
       "  'latent_token_str': 'tea',\n",
       "  'in_token_str': 'thé'},\n",
       " {'prompt': 'Français: \"carré\" - English: \"square\"\\nFrançais: \"quatre\" - English: \"four\"\\nFrançais: \"temps\" - English: \"time\"\\nFrançais: \"fleur\" - English: \"flower\"\\nFrançais: \"pied\" - English: \"',\n",
       "  'out_token_id': [8938, 12110, 4786, 71],\n",
       "  'out_token_str': 'foot',\n",
       "  'latent_token_id': [8938, 12110, 4786, 71],\n",
       "  'latent_token_str': 'foot',\n",
       "  'in_token_str': 'pied'},\n",
       " {'prompt': 'Français: \"deux\" - English: \"two\"\\nFrançais: \"carré\" - English: \"square\"\\nFrançais: \"lumière\" - English: \"light\"\\nFrançais: \"personne\" - English: \"person\"\\nFrançais: \"or\" - English: \"',\n",
       "  'out_token_id': [72, 2184, 27716, 32651],\n",
       "  'out_token_str': 'gold',\n",
       "  'latent_token_id': [72, 2184, 27716, 32651],\n",
       "  'latent_token_str': 'gold',\n",
       "  'in_token_str': 'or'},\n",
       " {'prompt': 'Français: \"tête\" - English: \"head\"\\nFrançais: \"lune\" - English: \"moon\"\\nFrançais: \"groupe\" - English: \"group\"\\nFrançais: \"montagne\" - English: \"mountain\"\\nFrançais: \"porte\" - English: \"',\n",
       "  'out_token_id': [69, 11806, 3088],\n",
       "  'out_token_str': 'door',\n",
       "  'latent_token_id': [69, 11806, 3088],\n",
       "  'latent_token_str': 'door',\n",
       "  'in_token_str': 'porte'},\n",
       " {'prompt': 'Français: \"mer\" - English: \"sea\"\\nFrançais: \"rue\" - English: \"street\"\\nFrançais: \"cravate\" - English: \"tie\"\\nFrançais: \"réunion\" - English: \"meeting\"\\nFrançais: \"neige\" - English: \"',\n",
       "  'out_token_id': [84, 11489],\n",
       "  'out_token_str': 'snow',\n",
       "  'latent_token_id': [84, 11489],\n",
       "  'latent_token_str': 'snow',\n",
       "  'in_token_str': 'neige'},\n",
       " {'prompt': 'Français: \"mot\" - English: \"word\"\\nFrançais: \"sol\" - English: \"soil\"\\nFrançais: \"enfant\" - English: \"child\"\\nFrançais: \"rue\" - English: \"street\"\\nFrançais: \"cheval\" - English: \"',\n",
       "  'out_token_id': [73, 1688, 33647, 4210, 1689],\n",
       "  'out_token_str': 'horse',\n",
       "  'latent_token_id': [73, 1688, 33647, 4210, 1689],\n",
       "  'latent_token_str': 'horse',\n",
       "  'in_token_str': 'cheval'},\n",
       " {'prompt': 'Français: \"école\" - English: \"school\"\\nFrançais: \"quatre\" - English: \"four\"\\nFrançais: \"avancer\" - English: \"advance\"\\nFrançais: \"province\" - English: \"province\"\\nFrançais: \"un\" - English: \"',\n",
       "  'out_token_id': [251, 531, 80],\n",
       "  'out_token_str': 'one',\n",
       "  'latent_token_id': [251, 531, 80],\n",
       "  'latent_token_str': 'one',\n",
       "  'in_token_str': 'un'},\n",
       " {'prompt': 'Français: \"ville\" - English: \"city\"\\nFrançais: \"tête\" - English: \"head\"\\nFrançais: \"filet\" - English: \"net\"\\nFrançais: \"maison\" - English: \"house\"\\nFrançais: \"deux\" - English: \"',\n",
       "  'out_token_id': [7553, 85, 9389],\n",
       "  'out_token_str': 'two',\n",
       "  'latent_token_id': [7553, 85, 9389],\n",
       "  'latent_token_str': 'two',\n",
       "  'in_token_str': 'deux'},\n",
       " {'prompt': 'Français: \"cœur\" - English: \"heart\"\\nFrançais: \"ménage\" - English: \"household\"\\nFrançais: \"bande\" - English: \"strip\"\\nFrançais: \"talent\" - English: \"talent\"\\nFrançais: \"trois\" - English: \"',\n",
       "  'out_token_id': [85, 13524, 394],\n",
       "  'out_token_str': 'three',\n",
       "  'latent_token_id': [85, 13524, 394],\n",
       "  'latent_token_str': 'three',\n",
       "  'in_token_str': 'trois'},\n",
       " {'prompt': 'Français: \"onde\" - English: \"wave\"\\nFrançais: \"tête\" - English: \"head\"\\nFrançais: \"point\" - English: \"point\"\\nFrançais: \"cheval\" - English: \"horse\"\\nFrançais: \"quatre\" - English: \"',\n",
       "  'out_token_id': [12496, 4786, 71],\n",
       "  'out_token_str': 'four',\n",
       "  'latent_token_id': [12496, 4786, 71],\n",
       "  'latent_token_str': 'four',\n",
       "  'in_token_str': 'quatre'},\n",
       " {'prompt': 'Français: \"fleur\" - English: \"flower\"\\nFrançais: \"nord\" - English: \"north\"\\nFrançais: \"pont\" - English: \"bridge\"\\nFrançais: \"pouvoir\" - English: \"power\"\\nFrançais: \"cinq\" - English: \"',\n",
       "  'out_token_id': [11125, 12071, 71],\n",
       "  'out_token_str': 'five',\n",
       "  'latent_token_id': [11125, 12071, 71],\n",
       "  'latent_token_str': 'five',\n",
       "  'in_token_str': 'cinq'},\n",
       " {'prompt': 'Français: \"ballon\" - English: \"ball\"\\nFrançais: \"juge\" - English: \"judge\"\\nFrançais: \"filet\" - English: \"net\"\\nFrançais: \"hausse\" - English: \"rise\"\\nFrançais: \"six\" - English: \"',\n",
       "  'out_token_id': [84, 17182, 9245],\n",
       "  'out_token_str': 'six',\n",
       "  'latent_token_id': [84, 17182, 9245],\n",
       "  'latent_token_str': 'six',\n",
       "  'in_token_str': 'six'},\n",
       " {'prompt': 'Français: \"main\" - English: \"hand\"\\nFrançais: \"groupe\" - English: \"group\"\\nFrançais: \"deux\" - English: \"two\"\\nFrançais: \"beauté\" - English: \"beauty\"\\nFrançais: \"sept\" - English: \"',\n",
       "  'out_token_id': [339, 84, 23587, 46731],\n",
       "  'out_token_str': 'seven',\n",
       "  'latent_token_id': [339, 84, 23587, 46731],\n",
       "  'latent_token_str': 'seven',\n",
       "  'in_token_str': 'sept'},\n",
       " {'prompt': 'Français: \"supprimer\" - English: \"delete\"\\nFrançais: \"vertu\" - English: \"virtue\"\\nFrançais: \"océan\" - English: \"ocean\"\\nFrançais: \"point\" - English: \"point\"\\nFrançais: \"huit\" - English: \"',\n",
       "  'out_token_id': [27116, 19521, 70],\n",
       "  'out_token_str': 'eight',\n",
       "  'latent_token_id': [27116, 19521, 70],\n",
       "  'latent_token_str': 'eight',\n",
       "  'in_token_str': 'huit'},\n",
       " {'prompt': 'Français: \"hausse\" - English: \"rise\"\\nFrançais: \"province\" - English: \"province\"\\nFrançais: \"or\" - English: \"gold\"\\nFrançais: \"rue\" - English: \"street\"\\nFrançais: \"neuf\" - English: \"',\n",
       "  'out_token_id': [8311, 79, 27248],\n",
       "  'out_token_str': 'nine',\n",
       "  'latent_token_id': [8311, 79, 27248],\n",
       "  'latent_token_str': 'nine',\n",
       "  'in_token_str': 'neuf'},\n",
       " {'prompt': 'Français: \"neige\" - English: \"snow\"\\nFrançais: \"gauche\" - English: \"left\"\\nFrançais: \"soleil\" - English: \"sun\"\\nFrançais: \"fruit\" - English: \"fruit\"\\nFrançais: \"dix\" - English: \"',\n",
       "  'out_token_id': [1866, 85, 442],\n",
       "  'out_token_str': 'ten',\n",
       "  'latent_token_id': [1866, 85, 442],\n",
       "  'latent_token_str': 'ten',\n",
       "  'in_token_str': 'dix'},\n",
       " {'prompt': 'Français: \"fleur\" - English: \"flower\"\\nFrançais: \"gare\" - English: \"station\"\\nFrançais: \"sable\" - English: \"sand\"\\nFrançais: \"couleur\" - English: \"color\"\\nFrançais: \"tête\" - English: \"',\n",
       "  'out_token_id': [248, 21071, 73, 2522],\n",
       "  'out_token_str': 'head',\n",
       "  'latent_token_id': [248, 21071, 73, 2522],\n",
       "  'latent_token_str': 'head',\n",
       "  'in_token_str': 'tête'},\n",
       " {'prompt': 'Français: \"pied\" - English: \"foot\"\\nFrançais: \"personne\" - English: \"person\"\\nFrançais: \"neuf\" - English: \"nine\"\\nFrançais: \"gare\" - English: \"station\"\\nFrançais: \"bande\" - English: \"',\n",
       "  'out_token_id': [84, 296, 25763, 32182, 1344],\n",
       "  'out_token_str': 'strip',\n",
       "  'latent_token_id': [84, 296, 25763, 32182, 1344],\n",
       "  'latent_token_str': 'strip',\n",
       "  'in_token_str': 'bande'},\n",
       " {'prompt': 'Français: \"bouche\" - English: \"mouth\"\\nFrançais: \"genre\" - English: \"kind\"\\nFrançais: \"maison\" - English: \"house\"\\nFrançais: \"mot\" - English: \"word\"\\nFrançais: \"rue\" - English: \"',\n",
       "  'out_token_id': [33151, 84, 296, 32565, 1344],\n",
       "  'out_token_str': 'street',\n",
       "  'latent_token_id': [33151, 84, 296, 32565, 1344],\n",
       "  'latent_token_str': 'street',\n",
       "  'in_token_str': 'rue'},\n",
       " {'prompt': 'Français: \"beauté\" - English: \"beauty\"\\nFrançais: \"neige\" - English: \"snow\"\\nFrançais: \"neuf\" - English: \"nine\"\\nFrançais: \"mille\" - English: \"thousand\"\\nFrançais: \"partie\" - English: \"',\n",
       "  'out_token_id': [1148, 81, 2003, 4904],\n",
       "  'out_token_str': 'part',\n",
       "  'latent_token_id': [1148, 81, 2003, 4904],\n",
       "  'latent_token_str': 'part',\n",
       "  'in_token_str': 'partie'},\n",
       " {'prompt': 'Français: \"ressort\" - English: \"spring\"\\nFrançais: \"chanson\" - English: \"song\"\\nFrançais: \"sol\" - English: \"soil\"\\nFrançais: \"fruit\" - English: \"fruit\"\\nFrançais: \"œil\" - English: \"',\n",
       "  'out_token_id': [30978, 2653, 70],\n",
       "  'out_token_str': 'eye',\n",
       "  'latent_token_id': [30978, 2653, 70],\n",
       "  'latent_token_str': 'eye',\n",
       "  'in_token_str': 'œil'},\n",
       " {'prompt': 'Français: \"cinq\" - English: \"five\"\\nFrançais: \"visage\" - English: \"face\"\\nFrançais: \"pied\" - English: \"foot\"\\nFrançais: \"machine\" - English: \"machine\"\\nFrançais: \"champ\" - English: \"',\n",
       "  'out_token_id': [11125, 3423, 71],\n",
       "  'out_token_str': 'field',\n",
       "  'latent_token_id': [11125, 3423, 71],\n",
       "  'latent_token_str': 'field',\n",
       "  'in_token_str': 'champ'},\n",
       " {'prompt': 'Français: \"océan\" - English: \"ocean\"\\nFrançais: \"trois\" - English: \"three\"\\nFrançais: \"personne\" - English: \"person\"\\nFrançais: \"groupe\" - English: \"group\"\\nFrançais: \"site\" - English: \"',\n",
       "  'out_token_id': [84, 12198, 11264, 9245],\n",
       "  'out_token_str': 'site',\n",
       "  'latent_token_id': [84, 12198, 11264, 9245],\n",
       "  'latent_token_str': 'site',\n",
       "  'in_token_str': 'site'},\n",
       " {'prompt': 'Français: \"temps\" - English: \"time\"\\nFrançais: \"deux\" - English: \"two\"\\nFrançais: \"machine\" - English: \"machine\"\\nFrançais: \"est\" - English: \"east\"\\nFrançais: \"danse\" - English: \"',\n",
       "  'out_token_id': [69, 21329, 1473],\n",
       "  'out_token_str': 'dance',\n",
       "  'latent_token_id': [69, 21329, 1473],\n",
       "  'latent_token_str': 'dance',\n",
       "  'in_token_str': 'danse'},\n",
       " {'prompt': 'Français: \"est\" - English: \"east\"\\nFrançais: \"tentative\" - English: \"attempt\"\\nFrançais: \"maison\" - English: \"house\"\\nFrançais: \"cinq\" - English: \"five\"\\nFrançais: \"mot\" - English: \"',\n",
       "  'out_token_id': [88, 3418, 680, 42108],\n",
       "  'out_token_str': 'word',\n",
       "  'latent_token_id': [88, 3418, 680, 42108],\n",
       "  'latent_token_str': 'word',\n",
       "  'in_token_str': 'mot'},\n",
       " {'prompt': 'Français: \"avancer\" - English: \"advance\"\\nFrançais: \"jour\" - English: \"day\"\\nFrançais: \"village\" - English: \"village\"\\nFrançais: \"genre\" - English: \"kind\"\\nFrançais: \"paire\" - English: \"',\n",
       "  'out_token_id': [81, 13934, 4904],\n",
       "  'out_token_str': 'pair',\n",
       "  'latent_token_id': [81, 13934, 4904],\n",
       "  'latent_token_str': 'pair',\n",
       "  'in_token_str': 'paire'},\n",
       " {'prompt': 'Français: \"sud\" - English: \"south\"\\nFrançais: \"position\" - English: \"position\"\\nFrançais: \"discours\" - English: \"speech\"\\nFrançais: \"machine\" - English: \"machine\"\\nFrançais: \"siège\" - English: \"',\n",
       "  'out_token_id': [339, 84, 15681, 36443],\n",
       "  'out_token_str': 'seat',\n",
       "  'latent_token_id': [339, 84, 15681, 36443],\n",
       "  'latent_token_str': 'seat',\n",
       "  'in_token_str': 'siège'},\n",
       " {'prompt': 'Français: \"porte\" - English: \"door\"\\nFrançais: \"école\" - English: \"school\"\\nFrançais: \"discours\" - English: \"speech\"\\nFrançais: \"un\" - English: \"one\"\\nFrançais: \"lumière\" - English: \"',\n",
       "  'out_token_id': [3372, 3243, 965, 77],\n",
       "  'out_token_str': 'light',\n",
       "  'latent_token_id': [3372, 3243, 965, 77],\n",
       "  'latent_token_str': 'light',\n",
       "  'in_token_str': 'lumière'},\n",
       " {'prompt': 'Français: \"fruit\" - English: \"fruit\"\\nFrançais: \"village\" - English: \"village\"\\nFrançais: \"position\" - English: \"position\"\\nFrançais: \"huit\" - English: \"eight\"\\nFrançais: \"mille\" - English: \"',\n",
       "  'out_token_id': [85, 394],\n",
       "  'out_token_str': 'thousand',\n",
       "  'latent_token_id': [85, 394],\n",
       "  'latent_token_str': 'thousand',\n",
       "  'in_token_str': 'mille'},\n",
       " {'prompt': 'Français: \"chanson\" - English: \"song\"\\nFrançais: \"génération\" - English: \"generation\"\\nFrançais: \"partie\" - English: \"part\"\\nFrançais: \"or\" - English: \"gold\"\\nFrançais: \"nord\" - English: \"',\n",
       "  'out_token_id': [79, 15387, 37436, 2369],\n",
       "  'out_token_str': 'north',\n",
       "  'latent_token_id': [79, 15387, 37436, 2369],\n",
       "  'latent_token_str': 'north',\n",
       "  'in_token_str': 'nord'},\n",
       " {'prompt': 'Français: \"ménage\" - English: \"household\"\\nFrançais: \"cœur\" - English: \"heart\"\\nFrançais: \"ligne\" - English: \"line\"\\nFrançais: \"forêt\" - English: \"forest\"\\nFrançais: \"machine\" - English: \"',\n",
       "  'out_token_id': [12432, 785, 78, 28936],\n",
       "  'out_token_str': 'machine',\n",
       "  'latent_token_id': [12432, 785, 78, 28936],\n",
       "  'latent_token_str': 'machine',\n",
       "  'in_token_str': 'machine'},\n",
       " {'prompt': 'Français: \"sol\" - English: \"ground\"\\nFrançais: \"ville\" - English: \"city\"\\nFrançais: \"lune\" - English: \"moon\"\\nFrançais: \"position\" - English: \"position\"\\nFrançais: \"temps\" - English: \"',\n",
       "  'out_token_id': [6811, 85, 12292, 2606],\n",
       "  'out_token_str': 'time',\n",
       "  'latent_token_id': [6811, 85, 12292, 2606],\n",
       "  'latent_token_str': 'time',\n",
       "  'in_token_str': 'temps'},\n",
       " {'prompt': 'Français: \"bouche\" - English: \"mouth\"\\nFrançais: \"deux\" - English: \"two\"\\nFrançais: \"paire\" - English: \"pair\"\\nFrançais: \"son\" - English: \"sound\"\\nFrançais: \"position\" - English: \"',\n",
       "  'out_token_id': [81, 5367, 993, 3321],\n",
       "  'out_token_str': 'position',\n",
       "  'latent_token_id': [81, 5367, 993, 3321],\n",
       "  'latent_token_str': 'position',\n",
       "  'in_token_str': 'position'},\n",
       " {'prompt': 'Français: \"beauté\" - English: \"beauty\"\\nFrançais: \"six\" - English: \"six\"\\nFrançais: \"sable\" - English: \"sand\"\\nFrançais: \"grotte\" - English: \"cave\"\\nFrançais: \"province\" - English: \"',\n",
       "  'out_token_id': [856, 81, 1087, 11404],\n",
       "  'out_token_str': 'province',\n",
       "  'latent_token_id': [856, 81, 1087, 11404],\n",
       "  'latent_token_str': 'province',\n",
       "  'in_token_str': 'province'},\n",
       " {'prompt': 'Français: \"partie\" - English: \"part\"\\nFrançais: \"discours\" - English: \"speech\"\\nFrançais: \"machine\" - English: \"machine\"\\nFrançais: \"beauté\" - English: \"beauty\"\\nFrançais: \"bourse\" - English: \"',\n",
       "  'out_token_id': [36688, 35757, 911, 70],\n",
       "  'out_token_str': 'exchange',\n",
       "  'latent_token_id': [36688, 35757, 911, 70],\n",
       "  'latent_token_str': 'exchange',\n",
       "  'in_token_str': 'bourse'},\n",
       " {'prompt': 'Français: \"champ\" - English: \"field\"\\nFrançais: \"fleur\" - English: \"flower\"\\nFrançais: \"étang\" - English: \"pond\"\\nFrançais: \"lac\" - English: \"lake\"\\nFrançais: \"milieu\" - English: \"',\n",
       "  'out_token_id': [78, 7373, 16389, 7893],\n",
       "  'out_token_str': 'middle',\n",
       "  'latent_token_id': [78, 7373, 16389, 7893],\n",
       "  'latent_token_str': 'middle',\n",
       "  'in_token_str': 'milieu'},\n",
       " {'prompt': 'Français: \"grotte\" - English: \"cave\"\\nFrançais: \"œil\" - English: \"eye\"\\nFrançais: \"cœur\" - English: \"heart\"\\nFrançais: \"jour\" - English: \"day\"\\nFrançais: \"couleur\" - English: \"',\n",
       "  'out_token_id': [1940, 2052, 4897, 68],\n",
       "  'out_token_str': 'color',\n",
       "  'latent_token_id': [1940, 2052, 4897, 68],\n",
       "  'latent_token_str': 'color',\n",
       "  'in_token_str': 'couleur'},\n",
       " {'prompt': 'Français: \"océan\" - English: \"ocean\"\\nFrançais: \"point\" - English: \"point\"\\nFrançais: \"bande\" - English: \"strip\"\\nFrançais: \"mer\" - English: \"sea\"\\nFrançais: \"genre\" - English: \"',\n",
       "  'out_token_id': [5985, 11258, 5914, 76],\n",
       "  'out_token_str': 'kind',\n",
       "  'latent_token_id': [5985, 11258, 5914, 76],\n",
       "  'latent_token_str': 'kind',\n",
       "  'in_token_str': 'genre'},\n",
       " {'prompt': 'Français: \"pied\" - English: \"foot\"\\nFrançais: \"discours\" - English: \"speech\"\\nFrançais: \"filet\" - English: \"net\"\\nFrançais: \"mère\" - English: \"mother\"\\nFrançais: \"juge\" - English: \"',\n",
       "  'out_token_id': [6881, 75, 7589, 47075],\n",
       "  'out_token_str': 'judge',\n",
       "  'latent_token_id': [6881, 75, 7589, 47075],\n",
       "  'latent_token_str': 'judge',\n",
       "  'in_token_str': 'juge'},\n",
       " {'prompt': 'Français: \"village\" - English: \"village\"\\nFrançais: \"grille\" - English: \"grid\"\\nFrançais: \"vallée\" - English: \"valley\"\\nFrançais: \"ligne\" - English: \"line\"\\nFrançais: \"école\" - English: \"',\n",
       "  'out_token_id': [1026, 84, 10629, 19221],\n",
       "  'out_token_str': 'school',\n",
       "  'latent_token_id': [1026, 84, 10629, 19221],\n",
       "  'latent_token_str': 'school',\n",
       "  'in_token_str': 'école'},\n",
       " {'prompt': 'Français: \"tour\" - English: \"tower\"\\nFrançais: \"œil\" - English: \"eye\"\\nFrançais: \"défaite\" - English: \"defeat\"\\nFrançais: \"position\" - English: \"position\"\\nFrançais: \"structure\" - English: \"',\n",
       "  'out_token_id': [2855, 84, 21407, 296, 18317, 1344],\n",
       "  'out_token_str': 'structure',\n",
       "  'latent_token_id': [2855, 84, 21407, 296, 18317, 1344],\n",
       "  'latent_token_str': 'structure',\n",
       "  'in_token_str': 'structure'},\n",
       " {'prompt': 'Français: \"grille\" - English: \"grid\"\\nFrançais: \"ville\" - English: \"city\"\\nFrançais: \"œil\" - English: \"eye\"\\nFrançais: \"champ\" - English: \"field\"\\nFrançais: \"cravate\" - English: \"',\n",
       "  'out_token_id': [6811, 37678, 85],\n",
       "  'out_token_str': 'tie',\n",
       "  'latent_token_id': [6811, 37678, 85],\n",
       "  'latent_token_str': 'tie',\n",
       "  'in_token_str': 'cravate'},\n",
       " {'prompt': 'Français: \"grille\" - English: \"grid\"\\nFrançais: \"nuage\" - English: \"cloud\"\\nFrançais: \"bureau\" - English: \"office\"\\nFrançais: \"œil\" - English: \"eye\"\\nFrançais: \"exemple\" - English: \"',\n",
       "  'out_token_id': [11667, 911, 70],\n",
       "  'out_token_str': 'example',\n",
       "  'latent_token_id': [11667, 911, 70],\n",
       "  'latent_token_str': 'example',\n",
       "  'in_token_str': 'exemple'},\n",
       " {'prompt': 'Français: \"province\" - English: \"province\"\\nFrançais: \"étang\" - English: \"pond\"\\nFrançais: \"deux\" - English: \"two\"\\nFrançais: \"nord\" - English: \"north\"\\nFrançais: \"visage\" - English: \"',\n",
       "  'out_token_id': [1664, 28402, 6855, 71],\n",
       "  'out_token_str': 'face',\n",
       "  'latent_token_id': [1664, 28402, 6855, 71],\n",
       "  'latent_token_str': 'face',\n",
       "  'in_token_str': 'visage'},\n",
       " {'prompt': 'Français: \"source\" - English: \"source\"\\nFrançais: \"neige\" - English: \"snow\"\\nFrançais: \"sud\" - English: \"south\"\\nFrançais: \"temps\" - English: \"time\"\\nFrançais: \"pont\" - English: \"',\n",
       "  'out_token_id': [1288, 67, 8298, 7807],\n",
       "  'out_token_str': 'bridge',\n",
       "  'latent_token_id': [1288, 67, 8298, 7807],\n",
       "  'latent_token_str': 'bridge',\n",
       "  'in_token_str': 'pont'},\n",
       " {'prompt': 'Français: \"gauche\" - English: \"left\"\\nFrançais: \"partie\" - English: \"part\"\\nFrançais: \"vertu\" - English: \"virtue\"\\nFrançais: \"forêt\" - English: \"forest\"\\nFrançais: \"supprimer\" - English: \"',\n",
       "  'out_token_id': [7555, 69, 615, 16435],\n",
       "  'out_token_str': 'delete',\n",
       "  'latent_token_id': [7555, 69, 615, 16435],\n",
       "  'latent_token_str': 'delete',\n",
       "  'in_token_str': 'supprimer'},\n",
       " {'prompt': 'Français: \"thé\" - English: \"tea\"\\nFrançais: \"est\" - English: \"east\"\\nFrançais: \"mot\" - English: \"word\"\\nFrançais: \"nord\" - English: \"north\"\\nFrançais: \"groupe\" - English: \"',\n",
       "  'out_token_id': [72, 26817, 737, 4399],\n",
       "  'out_token_str': 'group',\n",
       "  'latent_token_id': [72, 26817, 737, 4399],\n",
       "  'latent_token_str': 'group',\n",
       "  'in_token_str': 'groupe'},\n",
       " {'prompt': 'Français: \"ville\" - English: \"city\"\\nFrançais: \"est\" - English: \"east\"\\nFrançais: \"structure\" - English: \"structure\"\\nFrançais: \"porte\" - English: \"door\"\\nFrançais: \"talent\" - English: \"',\n",
       "  'out_token_id': [85, 22559, 893],\n",
       "  'out_token_str': 'talent',\n",
       "  'latent_token_id': [85, 22559, 893],\n",
       "  'latent_token_str': 'talent',\n",
       "  'in_token_str': 'talent'},\n",
       " {'prompt': 'Français: \"genre\" - English: \"kind\"\\nFrançais: \"danse\" - English: \"dance\"\\nFrançais: \"lac\" - English: \"lake\"\\nFrançais: \"neige\" - English: \"snow\"\\nFrançais: \"beauté\" - English: \"',\n",
       "  'out_token_id': [67, 1257],\n",
       "  'out_token_str': 'beauty',\n",
       "  'latent_token_id': [67, 1257],\n",
       "  'latent_token_str': 'beauty',\n",
       "  'in_token_str': 'beauté'},\n",
       " {'prompt': 'Français: \"génération\" - English: \"generation\"\\nFrançais: \"lune\" - English: \"moon\"\\nFrançais: \"tête\" - English: \"head\"\\nFrançais: \"section\" - English: \"section\"\\nFrançais: \"plate-forme\" - English: \"',\n",
       "  'out_token_id': [81, 446, 19161],\n",
       "  'out_token_str': 'platform',\n",
       "  'latent_token_id': [81, 446, 19161],\n",
       "  'latent_token_str': 'platform',\n",
       "  'in_token_str': 'plate-forme'},\n",
       " {'prompt': 'Français: \"ligne\" - English: \"line\"\\nFrançais: \"thé\" - English: \"tea\"\\nFrançais: \"œil\" - English: \"eye\"\\nFrançais: \"grotte\" - English: \"cave\"\\nFrançais: \"maison\" - English: \"',\n",
       "  'out_token_id': [14451, 73, 5967, 1689],\n",
       "  'out_token_str': 'house',\n",
       "  'latent_token_id': [14451, 73, 5967, 1689],\n",
       "  'latent_token_str': 'house',\n",
       "  'in_token_str': 'maison'},\n",
       " {'prompt': 'Français: \"supprimer\" - English: \"delete\"\\nFrançais: \"main\" - English: \"hand\"\\nFrançais: \"vitesse\" - English: \"speed\"\\nFrançais: \"cœur\" - English: \"heart\"\\nFrançais: \"soleil\" - English: \"',\n",
       "  'out_token_id': [13998, 84, 3467],\n",
       "  'out_token_str': 'sun',\n",
       "  'latent_token_id': [13998, 84, 3467],\n",
       "  'latent_token_str': 'sun',\n",
       "  'in_token_str': 'soleil'},\n",
       " {'prompt': 'Français: \"mot\" - English: \"word\"\\nFrançais: \"version\" - English: \"version\"\\nFrançais: \"tentative\" - English: \"attempt\"\\nFrançais: \"vertu\" - English: \"virtue\"\\nFrançais: \"réunion\" - English: \"',\n",
       "  'out_token_id': [1405, 78, 49422],\n",
       "  'out_token_str': 'meeting',\n",
       "  'latent_token_id': [1405, 78, 49422],\n",
       "  'latent_token_str': 'meeting',\n",
       "  'in_token_str': 'réunion'},\n",
       " {'prompt': 'Français: \"carré\" - English: \"square\"\\nFrançais: \"tête\" - English: \"head\"\\nFrançais: \"thé\" - English: \"tea\"\\nFrançais: \"œil\" - English: \"eye\"\\nFrançais: \"histoire\" - English: \"',\n",
       "  'out_token_id': [73, 22328, 29059, 5801, 15700, 8701],\n",
       "  'out_token_str': 'history',\n",
       "  'latent_token_id': [73, 22328, 29059, 5801, 15700, 8701],\n",
       "  'latent_token_str': 'history',\n",
       "  'in_token_str': 'histoire'},\n",
       " {'prompt': 'Français: \"discours\" - English: \"speech\"\\nFrançais: \"bande\" - English: \"strip\"\\nFrançais: \"thé\" - English: \"tea\"\\nFrançais: \"soleil\" - English: \"sun\"\\nFrançais: \"vallée\" - English: \"',\n",
       "  'out_token_id': [1208, 42089, 6156, 87],\n",
       "  'out_token_str': 'valley',\n",
       "  'latent_token_id': [1208, 42089, 6156, 87],\n",
       "  'latent_token_str': 'valley',\n",
       "  'in_token_str': 'vallée'},\n",
       " {'prompt': 'Français: \"jour\" - English: \"day\"\\nFrançais: \"sable\" - English: \"sand\"\\nFrançais: \"un\" - English: \"one\"\\nFrançais: \"histoire\" - English: \"history\"\\nFrançais: \"carré\" - English: \"',\n",
       "  'out_token_id': [84, 23600, 15044, 18858],\n",
       "  'out_token_str': 'square',\n",
       "  'latent_token_id': [84, 23600, 15044, 18858],\n",
       "  'latent_token_str': 'square',\n",
       "  'in_token_str': 'carré'},\n",
       " {'prompt': 'Français: \"jour\" - English: \"day\"\\nFrançais: \"soleil\" - English: \"sun\"\\nFrançais: \"vitesse\" - English: \"speed\"\\nFrançais: \"or\" - English: \"gold\"\\nFrançais: \"génération\" - English: \"',\n",
       "  'out_token_id': [1541, 463, 20857, 8719, 72, 14520],\n",
       "  'out_token_str': 'generation',\n",
       "  'latent_token_id': [1541, 463, 20857, 8719, 72, 14520],\n",
       "  'latent_token_str': 'generation',\n",
       "  'in_token_str': 'génération'},\n",
       " {'prompt': 'Français: \"forêt\" - English: \"forest\"\\nFrançais: \"avancer\" - English: \"advance\"\\nFrançais: \"genre\" - English: \"kind\"\\nFrançais: \"jour\" - English: \"day\"\\nFrançais: \"sud\" - English: \"',\n",
       "  'out_token_id': [84, 34542, 601],\n",
       "  'out_token_str': 'south',\n",
       "  'latent_token_id': [84, 34542, 601],\n",
       "  'latent_token_str': 'south',\n",
       "  'in_token_str': 'sud'},\n",
       " {'prompt': 'Français: \"école\" - English: \"school\"\\nFrançais: \"chanson\" - English: \"song\"\\nFrançais: \"sept\" - English: \"seven\"\\nFrançais: \"section\" - English: \"section\"\\nFrançais: \"vertu\" - English: \"',\n",
       "  'out_token_id': [6584, 12855, 87, 42446],\n",
       "  'out_token_str': 'virtue',\n",
       "  'latent_token_id': [6584, 12855, 87, 42446],\n",
       "  'latent_token_str': 'virtue',\n",
       "  'in_token_str': 'vertu'},\n",
       " {'prompt': 'Français: \"vitesse\" - English: \"speed\"\\nFrançais: \"danse\" - English: \"dance\"\\nFrançais: \"paire\" - English: \"pair\"\\nFrançais: \"rue\" - English: \"street\"\\nFrançais: \"tribu\" - English: \"',\n",
       "  'out_token_id': [1206, 85, 12512],\n",
       "  'out_token_str': 'tribe',\n",
       "  'latent_token_id': [1206, 85, 12512],\n",
       "  'latent_token_str': 'tribe',\n",
       "  'in_token_str': 'tribu'},\n",
       " {'prompt': 'Français: \"plate-forme\" - English: \"platform\"\\nFrançais: \"milieu\" - English: \"middle\"\\nFrançais: \"six\" - English: \"six\"\\nFrançais: \"vallée\" - English: \"valley\"\\nFrançais: \"ville\" - English: \"',\n",
       "  'out_token_id': [10179, 5297, 21280, 68],\n",
       "  'out_token_str': 'city',\n",
       "  'latent_token_id': [10179, 5297, 21280, 68],\n",
       "  'latent_token_str': 'city',\n",
       "  'in_token_str': 'ville'},\n",
       " {'prompt': 'Français: \"lumière\" - English: \"light\"\\nFrançais: \"porte\" - English: \"door\"\\nFrançais: \"ville\" - English: \"city\"\\nFrançais: \"queue\" - English: \"tail\"\\nFrançais: \"vitesse\" - English: \"',\n",
       "  'out_token_id': [84, 1033, 9293, 15507],\n",
       "  'out_token_str': 'speed',\n",
       "  'latent_token_id': [84, 1033, 9293, 15507],\n",
       "  'latent_token_str': 'speed',\n",
       "  'in_token_str': 'vitesse'},\n",
       " {'prompt': 'Français: \"supprimer\" - English: \"delete\"\\nFrançais: \"groupe\" - English: \"group\"\\nFrançais: \"œil\" - English: \"eye\"\\nFrançais: \"danse\" - English: \"dance\"\\nFrançais: \"sol\" - English: \"',\n",
       "  'out_token_id': [72, 26817, 737, 2595],\n",
       "  'out_token_str': 'ground',\n",
       "  'latent_token_id': [72, 26817, 737, 2595],\n",
       "  'latent_token_str': 'ground',\n",
       "  'in_token_str': 'sol'},\n",
       " {'prompt': 'Français: \"province\" - English: \"province\"\\nFrançais: \"structure\" - English: \"structure\"\\nFrançais: \"milieu\" - English: \"middle\"\\nFrançais: \"bureau\" - English: \"office\"\\nFrançais: \"avancer\" - English: \"',\n",
       "  'out_token_id': [324, 66, 24301],\n",
       "  'out_token_str': 'advance',\n",
       "  'latent_token_id': [324, 66, 24301],\n",
       "  'latent_token_str': 'advance',\n",
       "  'in_token_str': 'avancer'},\n",
       " {'prompt': 'Français: \"temps\" - English: \"time\"\\nFrançais: \"maison\" - English: \"house\"\\nFrançais: \"mot\" - English: \"word\"\\nFrançais: \"est\" - English: \"east\"\\nFrançais: \"tentative\" - English: \"',\n",
       "  'out_token_id': [34015, 255, 38839, 66, 1595],\n",
       "  'out_token_str': 'attempt',\n",
       "  'latent_token_id': [34015, 255, 38839, 66, 1595],\n",
       "  'latent_token_str': 'attempt',\n",
       "  'in_token_str': 'tentative'},\n",
       " {'prompt': 'Français: \"rue\" - English: \"street\"\\nFrançais: \"huit\" - English: \"eight\"\\nFrançais: \"école\" - English: \"school\"\\nFrançais: \"mer\" - English: \"sea\"\\nFrançais: \"défaite\" - English: \"',\n",
       "  'out_token_id': [69, 1545, 615],\n",
       "  'out_token_str': 'defeat',\n",
       "  'latent_token_id': [69, 1545, 615],\n",
       "  'latent_token_str': 'defeat',\n",
       "  'in_token_str': 'défaite'},\n",
       " {'prompt': 'Français: \"retour\" - English: \"return\"\\nFrançais: \"village\" - English: \"village\"\\nFrançais: \"enfant\" - English: \"child\"\\nFrançais: \"cravate\" - English: \"tie\"\\nFrançais: \"queue\" - English: \"',\n",
       "  'out_token_id': [85, 14694, 893],\n",
       "  'out_token_str': 'tail',\n",
       "  'latent_token_id': [85, 14694, 893],\n",
       "  'latent_token_str': 'tail',\n",
       "  'in_token_str': 'queue'},\n",
       " {'prompt': 'Français: \"structure\" - English: \"structure\"\\nFrançais: \"roche\" - English: \"rock\"\\nFrançais: \"pouvoir\" - English: \"power\"\\nFrançais: \"forêt\" - English: \"forest\"\\nFrançais: \"mère\" - English: \"',\n",
       "  'out_token_id': [13875, 6972, 24013, 78],\n",
       "  'out_token_str': 'mother',\n",
       "  'latent_token_id': [13875, 6972, 24013, 78],\n",
       "  'latent_token_str': 'mother',\n",
       "  'in_token_str': 'mère'},\n",
       " {'prompt': 'Français: \"supprimer\" - English: \"delete\"\\nFrançais: \"temps\" - English: \"time\"\\nFrançais: \"dix\" - English: \"ten\"\\nFrançais: \"bande\" - English: \"strip\"\\nFrançais: \"est\" - English: \"',\n",
       "  'out_token_id': [26139, 19010, 70, 14576],\n",
       "  'out_token_str': 'east',\n",
       "  'latent_token_id': [26139, 19010, 70, 14576],\n",
       "  'latent_token_str': 'east',\n",
       "  'in_token_str': 'est'},\n",
       " {'prompt': 'Français: \"sac\" - English: \"bag\"\\nFrançais: \"genre\" - English: \"kind\"\\nFrançais: \"cinq\" - English: \"five\"\\nFrançais: \"œil\" - English: \"eye\"\\nFrançais: \"retour\" - English: \"',\n",
       "  'out_token_id': [2309, 250, 1221, 83],\n",
       "  'out_token_str': 'return',\n",
       "  'latent_token_id': [2309, 250, 1221, 83],\n",
       "  'latent_token_str': 'return',\n",
       "  'in_token_str': 'retour'},\n",
       " {'prompt': 'Français: \"tour\" - English: \"tower\"\\nFrançais: \"été\" - English: \"summer\"\\nFrançais: \"bourse\" - English: \"exchange\"\\nFrançais: \"version\" - English: \"version\"\\nFrançais: \"discours\" - English: \"',\n",
       "  'out_token_id': [84, 1033, 9293, 48460],\n",
       "  'out_token_str': 'speech',\n",
       "  'latent_token_id': [84, 1033, 9293, 48460],\n",
       "  'latent_token_str': 'speech',\n",
       "  'in_token_str': 'discours'},\n",
       " {'prompt': 'Français: \"tentative\" - English: \"attempt\"\\nFrançais: \"ressort\" - English: \"spring\"\\nFrançais: \"danse\" - English: \"dance\"\\nFrançais: \"couleur\" - English: \"color\"\\nFrançais: \"enfant\" - English: \"',\n",
       "  'out_token_id': [68, 348, 4635, 7003],\n",
       "  'out_token_str': 'child',\n",
       "  'latent_token_id': [68, 348, 4635, 7003],\n",
       "  'latent_token_str': 'child',\n",
       "  'in_token_str': 'enfant'},\n",
       " {'prompt': 'Français: \"maison\" - English: \"house\"\\nFrançais: \"queue\" - English: \"tail\"\\nFrançais: \"thé\" - English: \"tea\"\\nFrançais: \"version\" - English: \"version\"\\nFrançais: \"tour\" - English: \"',\n",
       "  'out_token_id': [85, 936, 32289],\n",
       "  'out_token_str': 'tower',\n",
       "  'latent_token_id': [85, 936, 32289],\n",
       "  'latent_token_str': 'tower',\n",
       "  'in_token_str': 'tour'},\n",
       " {'prompt': 'Français: \"mère\" - English: \"mother\"\\nFrançais: \"été\" - English: \"summer\"\\nFrançais: \"cœur\" - English: \"heart\"\\nFrançais: \"bande\" - English: \"strip\"\\nFrançais: \"ménage\" - English: \"',\n",
       "  'out_token_id': [14451, 73, 5967, 1689],\n",
       "  'out_token_str': 'household',\n",
       "  'latent_token_id': [14451, 73, 5967, 1689],\n",
       "  'latent_token_str': 'household',\n",
       "  'in_token_str': 'ménage'},\n",
       " {'prompt': 'Français: \"vertu\" - English: \"virtue\"\\nFrançais: \"ligne\" - English: \"line\"\\nFrançais: \"lune\" - English: \"moon\"\\nFrançais: \"ville\" - English: \"city\"\\nFrançais: \"personne\" - English: \"',\n",
       "  'out_token_id': [81, 468, 5726, 10816, 365],\n",
       "  'out_token_str': 'person',\n",
       "  'latent_token_id': [81, 468, 5726, 10816, 365],\n",
       "  'latent_token_str': 'person',\n",
       "  'in_token_str': 'personne'},\n",
       " {'prompt': 'Français: \"océan\" - English: \"ocean\"\\nFrançais: \"soleil\" - English: \"sun\"\\nFrançais: \"rue\" - English: \"street\"\\nFrançais: \"enfant\" - English: \"child\"\\nFrançais: \"section\" - English: \"',\n",
       "  'out_token_id': [339, 84, 7338, 1704, 4674],\n",
       "  'out_token_str': 'section',\n",
       "  'latent_token_id': [339, 84, 7338, 1704, 4674],\n",
       "  'latent_token_str': 'section',\n",
       "  'in_token_str': 'section'},\n",
       " {'prompt': 'Français: \"école\" - English: \"school\"\\nFrançais: \"sud\" - English: \"south\"\\nFrançais: \"cravate\" - English: \"tie\"\\nFrançais: \"sac\" - English: \"bag\"\\nFrançais: \"bureau\" - English: \"',\n",
       "  'out_token_id': [1171, 19102, 80, 2727, 30496],\n",
       "  'out_token_str': 'office',\n",
       "  'latent_token_id': [1171, 19102, 80, 2727, 30496],\n",
       "  'latent_token_str': 'office',\n",
       "  'in_token_str': 'bureau'},\n",
       " {'prompt': 'Français: \"couleur\" - English: \"color\"\\nFrançais: \"deux\" - English: \"two\"\\nFrançais: \"discours\" - English: \"speech\"\\nFrançais: \"plate-forme\" - English: \"platform\"\\nFrançais: \"roche\" - English: \"',\n",
       "  'out_token_id': [15683, 287, 16249, 83],\n",
       "  'out_token_str': 'rock',\n",
       "  'latent_token_id': [15683, 287, 16249, 83],\n",
       "  'latent_token_str': 'rock',\n",
       "  'in_token_str': 'roche'},\n",
       " {'prompt': 'Français: \"tentative\" - English: \"attempt\"\\nFrançais: \"lac\" - English: \"lake\"\\nFrançais: \"œil\" - English: \"eye\"\\nFrançais: \"forêt\" - English: \"forest\"\\nFrançais: \"hausse\" - English: \"',\n",
       "  'out_token_id': [363, 24078, 4448, 83],\n",
       "  'out_token_str': 'rise',\n",
       "  'latent_token_id': [363, 24078, 4448, 83],\n",
       "  'latent_token_str': 'rise',\n",
       "  'in_token_str': 'hausse'},\n",
       " {'prompt': 'Français: \"visage\" - English: \"face\"\\nFrançais: \"juge\" - English: \"judge\"\\nFrançais: \"grille\" - English: \"grid\"\\nFrançais: \"est\" - English: \"east\"\\nFrançais: \"gauche\" - English: \"',\n",
       "  'out_token_id': [282, 1274, 77],\n",
       "  'out_token_str': 'left',\n",
       "  'latent_token_id': [282, 1274, 77],\n",
       "  'latent_token_str': 'left',\n",
       "  'in_token_str': 'gauche'},\n",
       " {'prompt': 'Français: \"océan\" - English: \"ocean\"\\nFrançais: \"sable\" - English: \"sand\"\\nFrançais: \"cinq\" - English: \"five\"\\nFrançais: \"huit\" - English: \"eight\"\\nFrançais: \"son\" - English: \"',\n",
       "  'out_token_id': [84, 601, 27962],\n",
       "  'out_token_str': 'sound',\n",
       "  'latent_token_id': [84, 601, 27962],\n",
       "  'latent_token_str': 'sound',\n",
       "  'in_token_str': 'son'},\n",
       " {'prompt': 'Français: \"chanson\" - English: \"song\"\\nFrançais: \"son\" - English: \"sound\"\\nFrançais: \"milieu\" - English: \"middle\"\\nFrançais: \"roche\" - English: \"rock\"\\nFrançais: \"pouvoir\" - English: \"',\n",
       "  'out_token_id': [81, 5367, 9177, 13029],\n",
       "  'out_token_str': 'power',\n",
       "  'latent_token_id': [81, 5367, 9177, 13029],\n",
       "  'latent_token_str': 'power',\n",
       "  'in_token_str': 'pouvoir'},\n",
       " {'prompt': 'Français: \"bois\" - English: \"wood\"\\nFrançais: \"son\" - English: \"sound\"\\nFrançais: \"vallée\" - English: \"valley\"\\nFrançais: \"avancer\" - English: \"advance\"\\nFrançais: \"été\" - English: \"',\n",
       "  'out_token_id': [84, 44830, 3467, 2204],\n",
       "  'out_token_str': 'summer',\n",
       "  'latent_token_id': [84, 44830, 3467, 2204],\n",
       "  'latent_token_str': 'summer',\n",
       "  'in_token_str': 'été'}]"
      ]
     },
     "execution_count": 14,
     "metadata": {},
     "output_type": "execute_result"
    }
   ],
   "source": [
    "dataset"
   ]
  },
  {
   "cell_type": "code",
   "execution_count": 15,
   "id": "25241c49",
   "metadata": {
    "execution": {
     "iopub.execute_input": "2024-03-02T15:40:12.859015Z",
     "iopub.status.busy": "2024-03-02T15:40:12.858760Z",
     "iopub.status.idle": "2024-03-02T15:40:44.001042Z",
     "shell.execute_reply": "2024-03-02T15:40:44.000477Z"
    },
    "papermill": {
     "duration": 31.15204,
     "end_time": "2024-03-02T15:40:44.001917",
     "exception": false,
     "start_time": "2024-03-02T15:40:12.849877",
     "status": "completed"
    },
    "tags": []
   },
   "outputs": [
    {
     "name": "stderr",
     "output_type": "stream",
     "text": [
      "\r",
      "0it [00:00, ?it/s]"
     ]
    },
    {
     "name": "stderr",
     "output_type": "stream",
     "text": [
      "\r",
      "1it [00:00,  1.04it/s]"
     ]
    },
    {
     "name": "stderr",
     "output_type": "stream",
     "text": [
      "\r",
      "2it [00:01,  1.69it/s]"
     ]
    },
    {
     "name": "stderr",
     "output_type": "stream",
     "text": [
      "\r",
      "3it [00:01,  2.16it/s]"
     ]
    },
    {
     "name": "stderr",
     "output_type": "stream",
     "text": [
      "\r",
      "4it [00:01,  2.65it/s]"
     ]
    },
    {
     "name": "stderr",
     "output_type": "stream",
     "text": [
      "\r",
      "5it [00:02,  3.03it/s]"
     ]
    },
    {
     "name": "stderr",
     "output_type": "stream",
     "text": [
      "\r",
      "6it [00:02,  3.29it/s]"
     ]
    },
    {
     "name": "stderr",
     "output_type": "stream",
     "text": [
      "\r",
      "7it [00:02,  3.50it/s]"
     ]
    },
    {
     "name": "stderr",
     "output_type": "stream",
     "text": [
      "\r",
      "8it [00:02,  3.64it/s]"
     ]
    },
    {
     "name": "stderr",
     "output_type": "stream",
     "text": [
      "\r",
      "9it [00:03,  3.76it/s]"
     ]
    },
    {
     "name": "stderr",
     "output_type": "stream",
     "text": [
      "\r",
      "10it [00:03,  3.79it/s]"
     ]
    },
    {
     "name": "stderr",
     "output_type": "stream",
     "text": [
      "\r",
      "11it [00:03,  3.71it/s]"
     ]
    },
    {
     "name": "stderr",
     "output_type": "stream",
     "text": [
      "\r",
      "12it [00:03,  3.70it/s]"
     ]
    },
    {
     "name": "stderr",
     "output_type": "stream",
     "text": [
      "\r",
      "13it [00:04,  3.75it/s]"
     ]
    },
    {
     "name": "stderr",
     "output_type": "stream",
     "text": [
      "\r",
      "14it [00:04,  3.78it/s]"
     ]
    },
    {
     "name": "stderr",
     "output_type": "stream",
     "text": [
      "\r",
      "15it [00:04,  3.77it/s]"
     ]
    },
    {
     "name": "stderr",
     "output_type": "stream",
     "text": [
      "\r",
      "16it [00:04,  3.77it/s]"
     ]
    },
    {
     "name": "stderr",
     "output_type": "stream",
     "text": [
      "\r",
      "17it [00:05,  3.74it/s]"
     ]
    },
    {
     "name": "stderr",
     "output_type": "stream",
     "text": [
      "\r",
      "18it [00:05,  3.85it/s]"
     ]
    },
    {
     "name": "stderr",
     "output_type": "stream",
     "text": [
      "\r",
      "19it [00:05,  3.80it/s]"
     ]
    },
    {
     "name": "stderr",
     "output_type": "stream",
     "text": [
      "\r",
      "20it [00:06,  3.66it/s]"
     ]
    },
    {
     "name": "stderr",
     "output_type": "stream",
     "text": [
      "\r",
      "21it [00:06,  3.42it/s]"
     ]
    },
    {
     "name": "stderr",
     "output_type": "stream",
     "text": [
      "\r",
      "22it [00:06,  3.42it/s]"
     ]
    },
    {
     "name": "stderr",
     "output_type": "stream",
     "text": [
      "\r",
      "23it [00:06,  3.52it/s]"
     ]
    },
    {
     "name": "stderr",
     "output_type": "stream",
     "text": [
      "\r",
      "24it [00:07,  3.60it/s]"
     ]
    },
    {
     "name": "stderr",
     "output_type": "stream",
     "text": [
      "\r",
      "25it [00:07,  3.67it/s]"
     ]
    },
    {
     "name": "stderr",
     "output_type": "stream",
     "text": [
      "\r",
      "26it [00:07,  3.64it/s]"
     ]
    },
    {
     "name": "stderr",
     "output_type": "stream",
     "text": [
      "\r",
      "27it [00:08,  3.70it/s]"
     ]
    },
    {
     "name": "stderr",
     "output_type": "stream",
     "text": [
      "\r",
      "28it [00:08,  3.75it/s]"
     ]
    },
    {
     "name": "stderr",
     "output_type": "stream",
     "text": [
      "\r",
      "29it [00:08,  3.66it/s]"
     ]
    },
    {
     "name": "stderr",
     "output_type": "stream",
     "text": [
      "\r",
      "30it [00:08,  3.79it/s]"
     ]
    },
    {
     "name": "stderr",
     "output_type": "stream",
     "text": [
      "\r",
      "31it [00:09,  3.73it/s]"
     ]
    },
    {
     "name": "stderr",
     "output_type": "stream",
     "text": [
      "\r",
      "32it [00:09,  3.50it/s]"
     ]
    },
    {
     "name": "stderr",
     "output_type": "stream",
     "text": [
      "\r",
      "33it [00:09,  3.62it/s]"
     ]
    },
    {
     "name": "stderr",
     "output_type": "stream",
     "text": [
      "\r",
      "34it [00:09,  3.71it/s]"
     ]
    },
    {
     "name": "stderr",
     "output_type": "stream",
     "text": [
      "\r",
      "35it [00:10,  3.78it/s]"
     ]
    },
    {
     "name": "stderr",
     "output_type": "stream",
     "text": [
      "\r",
      "36it [00:10,  3.81it/s]"
     ]
    },
    {
     "name": "stderr",
     "output_type": "stream",
     "text": [
      "\r",
      "37it [00:10,  3.75it/s]"
     ]
    },
    {
     "name": "stderr",
     "output_type": "stream",
     "text": [
      "\r",
      "38it [00:10,  3.74it/s]"
     ]
    },
    {
     "name": "stderr",
     "output_type": "stream",
     "text": [
      "\r",
      "39it [00:11,  3.76it/s]"
     ]
    },
    {
     "name": "stderr",
     "output_type": "stream",
     "text": [
      "\r",
      "40it [00:11,  3.76it/s]"
     ]
    },
    {
     "name": "stderr",
     "output_type": "stream",
     "text": [
      "\r",
      "41it [00:11,  3.80it/s]"
     ]
    },
    {
     "name": "stderr",
     "output_type": "stream",
     "text": [
      "\r",
      "42it [00:12,  3.76it/s]"
     ]
    },
    {
     "name": "stderr",
     "output_type": "stream",
     "text": [
      "\r",
      "43it [00:12,  3.73it/s]"
     ]
    },
    {
     "name": "stderr",
     "output_type": "stream",
     "text": [
      "\r",
      "44it [00:12,  3.79it/s]"
     ]
    },
    {
     "name": "stderr",
     "output_type": "stream",
     "text": [
      "\r",
      "45it [00:12,  3.88it/s]"
     ]
    },
    {
     "name": "stderr",
     "output_type": "stream",
     "text": [
      "\r",
      "46it [00:13,  3.93it/s]"
     ]
    },
    {
     "name": "stderr",
     "output_type": "stream",
     "text": [
      "\r",
      "47it [00:13,  3.97it/s]"
     ]
    },
    {
     "name": "stderr",
     "output_type": "stream",
     "text": [
      "\r",
      "48it [00:13,  4.02it/s]"
     ]
    },
    {
     "name": "stderr",
     "output_type": "stream",
     "text": [
      "\r",
      "49it [00:13,  4.06it/s]"
     ]
    },
    {
     "name": "stderr",
     "output_type": "stream",
     "text": [
      "\r",
      "50it [00:14,  4.08it/s]"
     ]
    },
    {
     "name": "stderr",
     "output_type": "stream",
     "text": [
      "\r",
      "51it [00:14,  4.10it/s]"
     ]
    },
    {
     "name": "stderr",
     "output_type": "stream",
     "text": [
      "\r",
      "52it [00:14,  4.13it/s]"
     ]
    },
    {
     "name": "stderr",
     "output_type": "stream",
     "text": [
      "\r",
      "53it [00:14,  4.15it/s]"
     ]
    },
    {
     "name": "stderr",
     "output_type": "stream",
     "text": [
      "\r",
      "54it [00:14,  4.18it/s]"
     ]
    },
    {
     "name": "stderr",
     "output_type": "stream",
     "text": [
      "\r",
      "55it [00:15,  4.11it/s]"
     ]
    },
    {
     "name": "stderr",
     "output_type": "stream",
     "text": [
      "\r",
      "56it [00:15,  4.11it/s]"
     ]
    },
    {
     "name": "stderr",
     "output_type": "stream",
     "text": [
      "\r",
      "57it [00:15,  3.90it/s]"
     ]
    },
    {
     "name": "stderr",
     "output_type": "stream",
     "text": [
      "\r",
      "58it [00:16,  3.88it/s]"
     ]
    },
    {
     "name": "stderr",
     "output_type": "stream",
     "text": [
      "\r",
      "59it [00:16,  3.94it/s]"
     ]
    },
    {
     "name": "stderr",
     "output_type": "stream",
     "text": [
      "\r",
      "60it [00:16,  3.94it/s]"
     ]
    },
    {
     "name": "stderr",
     "output_type": "stream",
     "text": [
      "\r",
      "61it [00:16,  3.97it/s]"
     ]
    },
    {
     "name": "stderr",
     "output_type": "stream",
     "text": [
      "\r",
      "62it [00:16,  4.01it/s]"
     ]
    },
    {
     "name": "stderr",
     "output_type": "stream",
     "text": [
      "\r",
      "63it [00:17,  4.03it/s]"
     ]
    },
    {
     "name": "stderr",
     "output_type": "stream",
     "text": [
      "\r",
      "64it [00:17,  4.09it/s]"
     ]
    },
    {
     "name": "stderr",
     "output_type": "stream",
     "text": [
      "\r",
      "65it [00:17,  4.06it/s]"
     ]
    },
    {
     "name": "stderr",
     "output_type": "stream",
     "text": [
      "\r",
      "66it [00:17,  4.05it/s]"
     ]
    },
    {
     "name": "stderr",
     "output_type": "stream",
     "text": [
      "\r",
      "67it [00:18,  4.12it/s]"
     ]
    },
    {
     "name": "stderr",
     "output_type": "stream",
     "text": [
      "\r",
      "68it [00:18,  4.17it/s]"
     ]
    },
    {
     "name": "stderr",
     "output_type": "stream",
     "text": [
      "\r",
      "69it [00:18,  4.12it/s]"
     ]
    },
    {
     "name": "stderr",
     "output_type": "stream",
     "text": [
      "\r",
      "70it [00:18,  4.16it/s]"
     ]
    },
    {
     "name": "stderr",
     "output_type": "stream",
     "text": [
      "\r",
      "71it [00:19,  4.02it/s]"
     ]
    },
    {
     "name": "stderr",
     "output_type": "stream",
     "text": [
      "\r",
      "72it [00:19,  3.87it/s]"
     ]
    },
    {
     "name": "stderr",
     "output_type": "stream",
     "text": [
      "\r",
      "73it [00:19,  3.97it/s]"
     ]
    },
    {
     "name": "stderr",
     "output_type": "stream",
     "text": [
      "\r",
      "74it [00:19,  3.98it/s]"
     ]
    },
    {
     "name": "stderr",
     "output_type": "stream",
     "text": [
      "\r",
      "75it [00:20,  4.06it/s]"
     ]
    },
    {
     "name": "stderr",
     "output_type": "stream",
     "text": [
      "\r",
      "76it [00:20,  4.11it/s]"
     ]
    },
    {
     "name": "stderr",
     "output_type": "stream",
     "text": [
      "\r",
      "77it [00:20,  4.15it/s]"
     ]
    },
    {
     "name": "stderr",
     "output_type": "stream",
     "text": [
      "\r",
      "78it [00:20,  4.14it/s]"
     ]
    },
    {
     "name": "stderr",
     "output_type": "stream",
     "text": [
      "\r",
      "79it [00:21,  4.16it/s]"
     ]
    },
    {
     "name": "stderr",
     "output_type": "stream",
     "text": [
      "\r",
      "80it [00:21,  4.18it/s]"
     ]
    },
    {
     "name": "stderr",
     "output_type": "stream",
     "text": [
      "\r",
      "81it [00:21,  4.02it/s]"
     ]
    },
    {
     "name": "stderr",
     "output_type": "stream",
     "text": [
      "\r",
      "82it [00:21,  4.04it/s]"
     ]
    },
    {
     "name": "stderr",
     "output_type": "stream",
     "text": [
      "\r",
      "83it [00:22,  3.92it/s]"
     ]
    },
    {
     "name": "stderr",
     "output_type": "stream",
     "text": [
      "\r",
      "84it [00:22,  3.92it/s]"
     ]
    },
    {
     "name": "stderr",
     "output_type": "stream",
     "text": [
      "\r",
      "85it [00:22,  3.93it/s]"
     ]
    },
    {
     "name": "stderr",
     "output_type": "stream",
     "text": [
      "\r",
      "86it [00:22,  3.91it/s]"
     ]
    },
    {
     "name": "stderr",
     "output_type": "stream",
     "text": [
      "\r",
      "87it [00:23,  3.87it/s]"
     ]
    },
    {
     "name": "stderr",
     "output_type": "stream",
     "text": [
      "\r",
      "88it [00:23,  3.88it/s]"
     ]
    },
    {
     "name": "stderr",
     "output_type": "stream",
     "text": [
      "\r",
      "89it [00:23,  3.87it/s]"
     ]
    },
    {
     "name": "stderr",
     "output_type": "stream",
     "text": [
      "\r",
      "90it [00:23,  3.92it/s]"
     ]
    },
    {
     "name": "stderr",
     "output_type": "stream",
     "text": [
      "\r",
      "91it [00:24,  3.82it/s]"
     ]
    },
    {
     "name": "stderr",
     "output_type": "stream",
     "text": [
      "\r",
      "92it [00:24,  3.80it/s]"
     ]
    },
    {
     "name": "stderr",
     "output_type": "stream",
     "text": [
      "\r",
      "93it [00:24,  3.89it/s]"
     ]
    },
    {
     "name": "stderr",
     "output_type": "stream",
     "text": [
      "\r",
      "94it [00:25,  3.83it/s]"
     ]
    },
    {
     "name": "stderr",
     "output_type": "stream",
     "text": [
      "\r",
      "95it [00:25,  3.82it/s]"
     ]
    },
    {
     "name": "stderr",
     "output_type": "stream",
     "text": [
      "\r",
      "96it [00:25,  3.80it/s]"
     ]
    },
    {
     "name": "stderr",
     "output_type": "stream",
     "text": [
      "\r",
      "97it [00:25,  3.83it/s]"
     ]
    },
    {
     "name": "stderr",
     "output_type": "stream",
     "text": [
      "\r",
      "98it [00:26,  3.88it/s]"
     ]
    },
    {
     "name": "stderr",
     "output_type": "stream",
     "text": [
      "\r",
      "99it [00:26,  3.96it/s]"
     ]
    },
    {
     "name": "stderr",
     "output_type": "stream",
     "text": [
      "\r",
      "100it [00:26,  4.01it/s]"
     ]
    },
    {
     "name": "stderr",
     "output_type": "stream",
     "text": [
      "\r",
      "101it [00:26,  4.05it/s]"
     ]
    },
    {
     "name": "stderr",
     "output_type": "stream",
     "text": [
      "\r",
      "102it [00:27,  4.07it/s]"
     ]
    },
    {
     "name": "stderr",
     "output_type": "stream",
     "text": [
      "\r",
      "103it [00:27,  4.10it/s]"
     ]
    },
    {
     "name": "stderr",
     "output_type": "stream",
     "text": [
      "\r",
      "104it [00:27,  4.13it/s]"
     ]
    },
    {
     "name": "stderr",
     "output_type": "stream",
     "text": [
      "\r",
      "105it [00:27,  4.12it/s]"
     ]
    },
    {
     "name": "stderr",
     "output_type": "stream",
     "text": [
      "\r",
      "106it [00:28,  3.99it/s]"
     ]
    },
    {
     "name": "stderr",
     "output_type": "stream",
     "text": [
      "\r",
      "107it [00:28,  3.94it/s]"
     ]
    },
    {
     "name": "stderr",
     "output_type": "stream",
     "text": [
      "\r",
      "108it [00:28,  3.97it/s]"
     ]
    },
    {
     "name": "stderr",
     "output_type": "stream",
     "text": [
      "\r",
      "109it [00:28,  3.97it/s]"
     ]
    },
    {
     "name": "stderr",
     "output_type": "stream",
     "text": [
      "\r",
      "110it [00:29,  3.97it/s]"
     ]
    },
    {
     "name": "stderr",
     "output_type": "stream",
     "text": [
      "\r",
      "111it [00:29,  3.99it/s]"
     ]
    },
    {
     "name": "stderr",
     "output_type": "stream",
     "text": [
      "\r",
      "112it [00:29,  3.93it/s]"
     ]
    },
    {
     "name": "stderr",
     "output_type": "stream",
     "text": [
      "\r",
      "113it [00:29,  3.92it/s]"
     ]
    },
    {
     "name": "stderr",
     "output_type": "stream",
     "text": [
      "\r",
      "114it [00:30,  3.95it/s]"
     ]
    },
    {
     "name": "stderr",
     "output_type": "stream",
     "text": [
      "\r",
      "115it [00:30,  3.95it/s]"
     ]
    },
    {
     "name": "stderr",
     "output_type": "stream",
     "text": [
      "\r",
      "116it [00:30,  3.94it/s]"
     ]
    },
    {
     "name": "stderr",
     "output_type": "stream",
     "text": [
      "\r",
      "117it [00:30,  3.93it/s]"
     ]
    },
    {
     "name": "stderr",
     "output_type": "stream",
     "text": [
      "\r",
      "118it [00:31,  3.85it/s]"
     ]
    },
    {
     "name": "stderr",
     "output_type": "stream",
     "text": [
      "\r",
      "118it [00:31,  3.80it/s]"
     ]
    },
    {
     "name": "stderr",
     "output_type": "stream",
     "text": [
      "\n"
     ]
    }
   ],
   "source": [
    "in_token_probs = []\n",
    "latent_token_probs = []\n",
    "out_token_probs = []\n",
    "entropy = []\n",
    "energy = []\n",
    "latents_all = []\n",
    "\n",
    "for idx, d in tqdm(enumerate(dataset)):\n",
    "    logits,latents = get_logits(pythia, d['prompt'],pythia_lens)\n",
    "    last = logits[:, -1, :].float().softmax(dim=-1).detach().cpu()\n",
    "    latent_token_probs += [last[:, torch.tensor(d['latent_token_id'])].sum(dim=-1)]\n",
    "    out_token_probs += [last[:, torch.tensor(d['out_token_id'])].sum(dim=-1)]\n",
    "    entropy += [compute_entropy(last)]\n",
    "    latents_all += [latents[:, -1, :].float().detach().cpu().clone()]\n",
    "    latents_normalized = latents[:, -1, :].float()\n",
    "    latents_normalized = latents_normalized / (((latents_normalized**2).mean(dim=-1, keepdim=True))**0.5)\n",
    "    latents_normalized /= (latents_normalized.norm(dim=-1, keepdim=True))\n",
    "    norm = ((U_normalized @ latents_normalized.T)**2).mean(dim=0)**0.5\n",
    "    energy += [norm/avgUU]\n",
    "\n",
    "latent_token_probs = torch.stack(latent_token_probs)\n",
    "out_token_probs = torch.stack(out_token_probs)\n",
    "entropy = torch.stack(entropy)\n",
    "energy = torch.stack(energy)\n",
    "latents = torch.stack(latents_all)"
   ]
  },
  {
   "cell_type": "code",
   "execution_count": 16,
   "id": "680ef0b2",
   "metadata": {
    "execution": {
     "iopub.execute_input": "2024-03-02T15:40:44.027141Z",
     "iopub.status.busy": "2024-03-02T15:40:44.026920Z",
     "iopub.status.idle": "2024-03-02T15:40:44.364274Z",
     "shell.execute_reply": "2024-03-02T15:40:44.363724Z"
    },
    "papermill": {
     "duration": 0.350492,
     "end_time": "2024-03-02T15:40:44.365227",
     "exception": false,
     "start_time": "2024-03-02T15:40:44.014735",
     "status": "completed"
    },
    "tags": []
   },
   "outputs": [
    {
     "name": "stderr",
     "output_type": "stream",
     "text": [
      "/mnt/ssd-1/gpaulo/llm-latent-language/utils.py:52: UserWarning: This figure includes Axes that are not compatible with tight_layout, so results might be incorrect.\n",
      "  plt.tight_layout()\n"
     ]
    },
    {
     "data": {
      "image/png": "[encoded data removed]",
      "text/plain": [
       "<Figure size 500x300 with 3 Axes>"
      ]
     },
     "metadata": {},
     "output_type": "display_data"
    }
   ],
   "source": [
    "size2tik = {'7b': 5, '13b': 5, '70b': 10, '6.9b': 10,'12b': 10}\n",
    "fig, ax, ax2 = plot_ci_plus_heatmap(latent_token_probs, entropy, latent, color='tab:orange', tik_step=size2tik[model_size], do_colorbar=True, #, do_colorbar=(model_size=='70b'),\n",
    "nums=[.99, 0.18, 0.025, 0.6])\n",
    "plot_ci(ax2, out_token_probs, target_lang, color='tab:blue', do_lines=False)\n",
    "ax2.set_xlabel('layer')\n",
    "ax2.set_ylabel('probability')\n",
    "if model_size == '7b':\n",
    "    ax2.set_xlim(0, out_token_probs.shape[1]+1)\n",
    "else:\n",
    "    ax2.set_xlim(0, round(out_token_probs.shape[1]/10)*10+1)\n",
    "ax2.set_ylim(0, 1)\n",
    "# make xticks start from 1\n",
    "# put legend on the top left\n",
    "ax2.legend(loc='upper left')\n",
    "os.makedirs(f'{out_dir}/translation', exist_ok=True)\n",
    "\n",
    "plt.savefig(f'{out_dir}/translation/pythia_{model_size}_{input_lang}_{target_lang}_probas_ent.jpg', dpi=300, bbox_inches='tight')"
   ]
  },
  {
   "cell_type": "code",
   "execution_count": 17,
   "id": "48c50e4a",
   "metadata": {
    "execution": {
     "iopub.execute_input": "2024-03-02T15:40:44.390203Z",
     "iopub.status.busy": "2024-03-02T15:40:44.389997Z",
     "iopub.status.idle": "2024-03-02T15:40:44.550298Z",
     "shell.execute_reply": "2024-03-02T15:40:44.549742Z"
    },
    "papermill": {
     "duration": 0.173591,
     "end_time": "2024-03-02T15:40:44.551224",
     "exception": false,
     "start_time": "2024-03-02T15:40:44.377633",
     "status": "completed"
    },
    "tags": []
   },
   "outputs": [
    {
     "data": {
      "image/png": "[encoded data removed]",
      "text/plain": [
       "<Figure size 500x300 with 1 Axes>"
      ]
     },
     "metadata": {},
     "output_type": "display_data"
    }
   ],
   "source": [
    "size2tik = {'7b': 5, '13b': 5, '70b': 10,'12b': 10}\n",
    "\n",
    "fig, ax2 = plt.subplots(figsize=(5,3))\n",
    "plot_ci(ax2, energy, 'energy', color='tab:green', do_lines=True, tik_step=size2tik[model_size])\n",
    "ax2.set_xlabel('layer')\n",
    "ax2.set_ylabel('energy')\n",
    "if model_size == '7b':\n",
    "    ax2.set_xlim(0, out_token_probs.shape[1]+1)\n",
    "else:\n",
    "    ax2.set_xlim(0, round(out_token_probs.shape[1]/10)*10+1)\n",
    "os.makedirs(f'{out_dir}/translation', exist_ok=True)\n",
    "plt.savefig(f'{out_dir}/translation/pythia_{model_size}_{input_lang}_{target_lang}_energy.jpg', dpi=300, bbox_inches='tight')"
   ]
  },
  {
   "cell_type": "code",
   "execution_count": null,
   "id": "de0f66f1",
   "metadata": {
    "papermill": {
     "duration": 0.012339,
     "end_time": "2024-03-02T15:40:44.576594",
     "exception": false,
     "start_time": "2024-03-02T15:40:44.564255",
     "status": "completed"
    },
    "tags": []
   },
   "outputs": [],
   "source": []
  }
 ],
 "metadata": {
  "kernelspec": {
   "display_name": "Python 3 (ipykernel)",
   "language": "python",
   "name": "python3"
  },
  "language_info": {
   "codemirror_mode": {
    "name": "ipython",
    "version": 3
   },
   "file_extension": ".py",
   "mimetype": "text/x-python",
   "name": "python",
   "nbconvert_exporter": "python",
   "pygments_lexer": "ipython3",
   "version": "3.10.13"
  },
  "papermill": {
   "default_parameters": {},
   "duration": 82.861624,
   "end_time": "2024-03-02T15:40:46.308079",
   "environment_variables": {},
   "exception": null,
   "input_path": "Translation_pythia.ipynb",
   "output_path": "visuals/executed_notebooks/pythia_Translation_logit_12b_fr_en.ipynb",
   "parameters": {
    "input_lang": "fr",
    "model_size": "12b",
    "target_lang": "en",
    "type": "logit"
   },
   "start_time": "2024-03-02T15:39:23.446455",
   "version": "2.5.0"
  }
 },
 "nbformat": 4,
 "nbformat_minor": 5
}