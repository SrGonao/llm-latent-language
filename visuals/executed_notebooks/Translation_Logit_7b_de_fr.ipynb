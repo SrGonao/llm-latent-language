{
 "cells": [
  {
   "cell_type": "code",
   "execution_count": 1,
   "id": "9e266eca-b017-461f-9be4-bec02cae9b28",
   "metadata": {
    "execution": {
     "iopub.execute_input": "2024-02-23T16:04:20.683883Z",
     "iopub.status.busy": "2024-02-23T16:04:20.683717Z",
     "iopub.status.idle": "2024-02-23T16:04:20.697468Z",
     "shell.execute_reply": "2024-02-23T16:04:20.697164Z"
    },
    "papermill": {
     "duration": 0.020599,
     "end_time": "2024-02-23T16:04:20.698344",
     "exception": false,
     "start_time": "2024-02-23T16:04:20.677745",
     "status": "completed"
    },
    "tags": []
   },
   "outputs": [],
   "source": [
    "%load_ext autoreload\n",
    "%autoreload 2"
   ]
  },
  {
   "cell_type": "code",
   "execution_count": 2,
   "id": "fae8a7a9-6902-424e-8e66-b107fccb361f",
   "metadata": {
    "execution": {
     "iopub.execute_input": "2024-02-23T16:04:20.705708Z",
     "iopub.status.busy": "2024-02-23T16:04:20.705424Z",
     "iopub.status.idle": "2024-02-23T16:04:23.591590Z",
     "shell.execute_reply": "2024-02-23T16:04:23.590930Z"
    },
    "papermill": {
     "duration": 2.890815,
     "end_time": "2024-02-23T16:04:23.592764",
     "exception": false,
     "start_time": "2024-02-23T16:04:20.701949",
     "status": "completed"
    },
    "tags": []
   },
   "outputs": [],
   "source": [
    "import pandas as pd\n",
    "import sys\n",
    "import os\n",
    "from dataclasses import dataclass\n",
    "import json\n",
    "import numpy as np\n",
    "from matplotlib import pyplot as plt\n",
    "import seaborn as sns\n",
    "import torch\n",
    "import torch.nn as nn\n",
    "from llamawrapper import load_unemb_only, LlamaHelper\n",
    "import seaborn as sns\n",
    "from scipy.stats import bootstrap\n",
    "from utils import plot_ci, plot_ci_plus_heatmap\n",
    "from tqdm import tqdm\n",
    "from transformers import AutoModelForCausalLM, AutoTokenizer\n",
    "# fix random seed\n",
    "seed = 42\n",
    "np.random.seed(seed)\n",
    "torch.manual_seed(seed)\n",
    "sys.path.append('../tuned-lens')\n",
    "from tuned_lens.nn.lenses import TunedLens,LogitLens"
   ]
  },
  {
   "cell_type": "code",
   "execution_count": 3,
   "id": "1fb93987",
   "metadata": {
    "execution": {
     "iopub.execute_input": "2024-02-23T16:04:23.601811Z",
     "iopub.status.busy": "2024-02-23T16:04:23.601485Z",
     "iopub.status.idle": "2024-02-23T16:04:23.629074Z",
     "shell.execute_reply": "2024-02-23T16:04:23.628546Z"
    },
    "papermill": {
     "duration": 0.032481,
     "end_time": "2024-02-23T16:04:23.629931",
     "exception": false,
     "start_time": "2024-02-23T16:04:23.597450",
     "status": "completed"
    },
    "tags": [
     "parameters"
    ]
   },
   "outputs": [],
   "source": [
    "input_lang = 'fr'\n",
    "target_lang = 'fr'\n",
    "model_size = '7b'\n",
    "prefix = \"./data/langs/\"\n",
    "type = 'logit'"
   ]
  },
  {
   "cell_type": "code",
   "execution_count": 4,
   "id": "a84218ab",
   "metadata": {
    "execution": {
     "iopub.execute_input": "2024-02-23T16:04:23.638063Z",
     "iopub.status.busy": "2024-02-23T16:04:23.637908Z",
     "iopub.status.idle": "2024-02-23T16:04:23.666289Z",
     "shell.execute_reply": "2024-02-23T16:04:23.665788Z"
    },
    "papermill": {
     "duration": 0.033805,
     "end_time": "2024-02-23T16:04:23.667196",
     "exception": false,
     "start_time": "2024-02-23T16:04:23.633391",
     "status": "completed"
    },
    "tags": [
     "injected-parameters"
    ]
   },
   "outputs": [],
   "source": [
    "# Parameters\n",
    "model_size = \"7b\"\n",
    "target_lang = \"fr\"\n",
    "input_lang = \"de\"\n",
    "type = \"logit\"\n"
   ]
  },
  {
   "cell_type": "code",
   "execution_count": 5,
   "id": "33747213",
   "metadata": {
    "execution": {
     "iopub.execute_input": "2024-02-23T16:04:23.674838Z",
     "iopub.status.busy": "2024-02-23T16:04:23.674478Z",
     "iopub.status.idle": "2024-02-23T16:04:28.572617Z",
     "shell.execute_reply": "2024-02-23T16:04:28.571969Z"
    },
    "papermill": {
     "duration": 4.903036,
     "end_time": "2024-02-23T16:04:28.573582",
     "exception": false,
     "start_time": "2024-02-23T16:04:23.670546",
     "status": "completed"
    },
    "tags": []
   },
   "outputs": [
    {
     "data": {
      "application/vnd.jupyter.widget-view+json": {
       "model_id": "6248de5d3d874317bc0d25aee391b06d",
       "version_major": 2,
       "version_minor": 0
      },
      "text/plain": [
       "Loading checkpoint shards:   0%|          | 0/2 [00:00<?, ?it/s]"
      ]
     },
     "metadata": {},
     "output_type": "display_data"
    }
   ],
   "source": [
    "df_en_input = pd.read_csv(f'{prefix}{input_lang}/clean.csv').reindex()\n",
    "df_en_target = pd.read_csv(f'{prefix}{target_lang}/clean.csv').reindex()\n",
    "llama = AutoModelForCausalLM.from_pretrained(  # type: ignore\n",
    "                f\"meta-llama/Llama-2-{model_size}-hf\",\n",
    "                device_map={\"\": \"cuda\"},\n",
    "                revision=\"main\",\n",
    "                torch_dtype=\"auto\",\n",
    "                local_files_only=\"true\",cache_dir=\"/mnt/ssd-1/hf_cache/\"\n",
    "            )\n",
    "    \n",
    "latent=\"en\"\n",
    "if type == 'logit':\n",
    "    llama_lens = LogitLens.from_model(llama).to(\"cuda\")\n",
    "    out_dir = f'./visuals/logit'\n",
    "if type == 'tuned':\n",
    "    llama_lens = TunedLens.from_model_and_pretrained(llama,f\"meta-llama/Llama-2-{model_size}-hf\").to(\"cuda\")\n",
    "    out_dir = f'./visuals/tuned'\n",
    "if type == 'tuned-chinese':\n",
    "    llama_lens = TunedLens.from_model_and_pretrained(llama,\"../tuned-lens/my_lenses/chinese\").to(\"cuda\")\n",
    "    out_dir = f'./visuals/tuned-chinese'\n",
    "    latent = 'zh'\n",
    "llama_lens = LogitLens.from_model(llama).to(\"cuda\")\n",
    "tokenizer = AutoTokenizer.from_pretrained(\n",
    "                f\"meta-llama/Llama-2-7b-hf\",local_files_only=\"true\",cache_dir=\"/mnt/ssd-1/hf_cache/\"\n",
    "            )"
   ]
  },
  {
   "cell_type": "code",
   "execution_count": 6,
   "id": "bc45e052",
   "metadata": {
    "execution": {
     "iopub.execute_input": "2024-02-23T16:04:28.582522Z",
     "iopub.status.busy": "2024-02-23T16:04:28.582338Z",
     "iopub.status.idle": "2024-02-23T16:04:29.744153Z",
     "shell.execute_reply": "2024-02-23T16:04:29.743508Z"
    },
    "papermill": {
     "duration": 1.166697,
     "end_time": "2024-02-23T16:04:29.744931",
     "exception": false,
     "start_time": "2024-02-23T16:04:28.578234",
     "status": "completed"
    },
    "tags": []
   },
   "outputs": [
    {
     "name": "stdout",
     "output_type": "stream",
     "text": [
      "Sequential(\n",
      "  (0): LlamaRMSNorm()\n",
      "  (1): Linear(in_features=4096, out_features=32000, bias=False)\n",
      ")\n",
      "U torch.Size([32000, 4096]) weights torch.Size([1, 4096])\n"
     ]
    },
    {
     "name": "stdout",
     "output_type": "stream",
     "text": [
      "0.058621685951948166\n"
     ]
    }
   ],
   "source": [
    "unemb = nn.Sequential(llama.model.norm, llama.lm_head)\n",
    "print(unemb)\n",
    "# prepare for energy plots\n",
    "U = list(unemb[1].parameters())[0].detach().cpu().float()\n",
    "weights = list(unemb[0].parameters())[0].detach().cpu().float()\n",
    "print(f'U {U.shape} weights {weights.unsqueeze(0).shape}')\n",
    "U_weighted = U.clone() \n",
    "#U_weighted = U_weighted / ((U_weighted**2).mean(dim=1, keepdim=True))**0.5\n",
    "U_weighted *= weights.unsqueeze(0)\n",
    "U_normalized = U_weighted / ((U_weighted**2).sum(dim=1, keepdim=True))**0.5\n",
    "v = U.shape[0]\n",
    "TT = U_normalized.T @ U_normalized\n",
    "avgUU = (((U_normalized.T @ U_normalized)**2).sum() / v**2)**0.5\n",
    "print(avgUU.item())"
   ]
  },
  {
   "cell_type": "code",
   "execution_count": 7,
   "id": "5686a8d5",
   "metadata": {
    "execution": {
     "iopub.execute_input": "2024-02-23T16:04:29.763658Z",
     "iopub.status.busy": "2024-02-23T16:04:29.763268Z",
     "iopub.status.idle": "2024-02-23T16:04:31.156571Z",
     "shell.execute_reply": "2024-02-23T16:04:31.155957Z"
    },
    "papermill": {
     "duration": 1.399083,
     "end_time": "2024-02-23T16:04:31.157490",
     "exception": false,
     "start_time": "2024-02-23T16:04:29.758407",
     "status": "completed"
    },
    "tags": []
   },
   "outputs": [
    {
     "name": "stdout",
     "output_type": "stream",
     "text": [
      "for fr 68 of 118 are single tokens\n",
      "final length of df_en_fr_de: 94\n"
     ]
    }
   ],
   "source": [
    "count = 0\n",
    "for idx, word in enumerate(df_en_target['word_translation']):\n",
    "    if word in tokenizer.get_vocab() or '▁'+word in tokenizer.get_vocab():\n",
    "        count += 1\n",
    "\n",
    "print(f'for {target_lang} {count} of {len(df_en_target)} are single tokens')\n",
    "\n",
    "if input_lang == target_lang:\n",
    "    df_en_target_input = df_en_target.copy()\n",
    "    df_en_target_input.rename(columns={'word_original': 'en', \n",
    "                                f'word_translation': target_lang if target_lang != 'en' else 'en_tgt'}, \n",
    "                                inplace=True)\n",
    "else:\n",
    "    df_en_target_input = df_en_target.merge(df_en_input, on=['word_original'], suffixes=(f'_{target_lang}', f'_{input_lang}'))\n",
    "    df_en_target_input.rename(columns={'word_original': 'en', \n",
    "                                f'word_translation_{target_lang}': target_lang if target_lang != 'en' else 'en_tgt', \n",
    "                                f'word_translation_{input_lang}': input_lang if input_lang != 'en' else 'en_in'}, \n",
    "                                inplace=True)\n",
    "# delete all rows where en is contained in de or fr\n",
    "if target_lang != 'en':\n",
    "    for i, row in df_en_target_input.iterrows():\n",
    "        if row['en'].lower() in row[target_lang].lower():\n",
    "            df_en_target_input.drop(i, inplace=True)\n",
    "\n",
    "print(f'final length of df_en_{target_lang}_{input_lang}: {len(df_en_target_input)}')"
   ]
  },
  {
   "cell_type": "code",
   "execution_count": 8,
   "id": "eed300f4",
   "metadata": {
    "execution": {
     "iopub.execute_input": "2024-02-23T16:04:31.167024Z",
     "iopub.status.busy": "2024-02-23T16:04:31.166874Z",
     "iopub.status.idle": "2024-02-23T16:04:31.202482Z",
     "shell.execute_reply": "2024-02-23T16:04:31.202011Z"
    },
    "papermill": {
     "duration": 0.0407,
     "end_time": "2024-02-23T16:04:31.203350",
     "exception": false,
     "start_time": "2024-02-23T16:04:31.162650",
     "status": "completed"
    },
    "tags": []
   },
   "outputs": [
    {
     "data": {
      "text/html": [
       "<div>\n",
       "<style scoped>\n",
       "    .dataframe tbody tr th:only-of-type {\n",
       "        vertical-align: middle;\n",
       "    }\n",
       "\n",
       "    .dataframe tbody tr th {\n",
       "        vertical-align: top;\n",
       "    }\n",
       "\n",
       "    .dataframe thead th {\n",
       "        text-align: right;\n",
       "    }\n",
       "</style>\n",
       "<table border=\"1\" class=\"dataframe\">\n",
       "  <thead>\n",
       "    <tr style=\"text-align: right;\">\n",
       "      <th></th>\n",
       "      <th>lang_fr</th>\n",
       "      <th>en</th>\n",
       "      <th>fr</th>\n",
       "      <th>blank_prompt_original_fr</th>\n",
       "      <th>blank_prompt_translation_fr</th>\n",
       "      <th>blank_prompt_translation_masked_fr</th>\n",
       "      <th>error_fr</th>\n",
       "      <th>lang_de</th>\n",
       "      <th>de</th>\n",
       "      <th>blank_prompt_original_de</th>\n",
       "      <th>blank_prompt_translation_de</th>\n",
       "      <th>blank_prompt_translation_masked_de</th>\n",
       "      <th>error_de</th>\n",
       "    </tr>\n",
       "  </thead>\n",
       "  <tbody>\n",
       "    <tr>\n",
       "      <th>0</th>\n",
       "      <td>fr</td>\n",
       "      <td>cloud</td>\n",
       "      <td>nuage</td>\n",
       "      <td>A \"cloud\" is a visible mass of condensed water...</td>\n",
       "      <td>Un \"nuage\" est une masse visible de vapeur d'e...</td>\n",
       "      <td>Un \"___\" est une masse visible de vapeur d'eau...</td>\n",
       "      <td>no error</td>\n",
       "      <td>de</td>\n",
       "      <td>Wolke</td>\n",
       "      <td>A \"cloud\" is a visible mass of condensed water...</td>\n",
       "      <td>Eine \"Wolke\" ist eine sichtbare Masse aus kond...</td>\n",
       "      <td>Eine \"___\" ist eine sichtbare Masse aus konden...</td>\n",
       "      <td>no error</td>\n",
       "    </tr>\n",
       "    <tr>\n",
       "      <th>1</th>\n",
       "      <td>fr</td>\n",
       "      <td>bag</td>\n",
       "      <td>sac</td>\n",
       "      <td>A \"bag\" is used to carry items. Answer: \"bag\".</td>\n",
       "      <td>Un \"sac\" est utilisé pour transporter des obje...</td>\n",
       "      <td>Un \"___\" est utilisé pour transporter des obje...</td>\n",
       "      <td>no error</td>\n",
       "      <td>de</td>\n",
       "      <td>Tasche</td>\n",
       "      <td>A \"bag\" is used to carry items. Answer: \"bag\".</td>\n",
       "      <td>Eine \"Tasche\" wird zum Tragen von Gegenständen...</td>\n",
       "      <td>Eine \"___\" wird zum Tragen von Gegenständen ve...</td>\n",
       "      <td>no error</td>\n",
       "    </tr>\n",
       "    <tr>\n",
       "      <th>2</th>\n",
       "      <td>fr</td>\n",
       "      <td>mouth</td>\n",
       "      <td>bouche</td>\n",
       "      <td>A \"mouth\" is used to eat food and speak. Answe...</td>\n",
       "      <td>La \"bouche\" sert à manger et à parler. Réponse...</td>\n",
       "      <td>La \"___\" sert à manger et à parler. Réponse : ...</td>\n",
       "      <td>no error</td>\n",
       "      <td>de</td>\n",
       "      <td>Mund</td>\n",
       "      <td>A \"mouth\" is used to eat food and speak. Answe...</td>\n",
       "      <td>Ein \"Mund\" wird zum Essen und Sprechen benutzt...</td>\n",
       "      <td>Ein \"___\" wird zum Essen und Sprechen benutzt....</td>\n",
       "      <td>no error</td>\n",
       "    </tr>\n",
       "    <tr>\n",
       "      <th>3</th>\n",
       "      <td>fr</td>\n",
       "      <td>soil</td>\n",
       "      <td>sol</td>\n",
       "      <td>\"A \"soil\" is used for planting trees and crops...</td>\n",
       "      <td>\"Un \"sol\" est utilisé pour planter des arbres ...</td>\n",
       "      <td>\"Un \"___\" est utilisé pour planter des arbres ...</td>\n",
       "      <td>no error</td>\n",
       "      <td>de</td>\n",
       "      <td>Boden</td>\n",
       "      <td>\"A \"soil\" is used for planting trees and crops...</td>\n",
       "      <td>\"Ein \"Boden\" wird für die Anpflanzung von Bäum...</td>\n",
       "      <td>\"Ein \"___\" wird für die Anpflanzung von Bäumen...</td>\n",
       "      <td>no error</td>\n",
       "    </tr>\n",
       "    <tr>\n",
       "      <th>4</th>\n",
       "      <td>fr</td>\n",
       "      <td>mountain</td>\n",
       "      <td>montagne</td>\n",
       "      <td>A \"mountain\" is a large natural elevation of t...</td>\n",
       "      <td>Une \"montagne\" est une grande élévation nature...</td>\n",
       "      <td>Une \"___\" est une grande élévation naturelle d...</td>\n",
       "      <td>no error</td>\n",
       "      <td>de</td>\n",
       "      <td>Berg</td>\n",
       "      <td>A \"mountain\" is a large natural elevation of t...</td>\n",
       "      <td>Ein \"Berg\" ist eine große natürliche Erhebung ...</td>\n",
       "      <td>Ein \"___\" ist eine große natürliche Erhebung a...</td>\n",
       "      <td>no error</td>\n",
       "    </tr>\n",
       "    <tr>\n",
       "      <th>...</th>\n",
       "      <td>...</td>\n",
       "      <td>...</td>\n",
       "      <td>...</td>\n",
       "      <td>...</td>\n",
       "      <td>...</td>\n",
       "      <td>...</td>\n",
       "      <td>...</td>\n",
       "      <td>...</td>\n",
       "      <td>...</td>\n",
       "      <td>...</td>\n",
       "      <td>...</td>\n",
       "      <td>...</td>\n",
       "      <td>...</td>\n",
       "    </tr>\n",
       "    <tr>\n",
       "      <th>104</th>\n",
       "      <td>fr</td>\n",
       "      <td>office</td>\n",
       "      <td>bureau</td>\n",
       "      <td>An \"office\" is a place where people usually do...</td>\n",
       "      <td>Un \"bureau\" est un endroit où les gens font ha...</td>\n",
       "      <td>Un \"___\" est un endroit où les gens font habit...</td>\n",
       "      <td>no error</td>\n",
       "      <td>de</td>\n",
       "      <td>Büro</td>\n",
       "      <td>An \"office\" is a place where people usually do...</td>\n",
       "      <td>Ein \"Büro\" ist ein Ort, an dem Menschen normal...</td>\n",
       "      <td>Ein \"___\" ist ein Ort, an dem Menschen normale...</td>\n",
       "      <td>no error</td>\n",
       "    </tr>\n",
       "    <tr>\n",
       "      <th>105</th>\n",
       "      <td>fr</td>\n",
       "      <td>rise</td>\n",
       "      <td>hausse</td>\n",
       "      <td>\"A \"rise\" is used to describe an increase or u...</td>\n",
       "      <td>\"Une \"hausse\" est utilisée pour décrire une au...</td>\n",
       "      <td>\"Une \"___\" est utilisée pour décrire une augme...</td>\n",
       "      <td>no error</td>\n",
       "      <td>de</td>\n",
       "      <td>Anstieg</td>\n",
       "      <td>\"A \"rise\" is used to describe an increase or u...</td>\n",
       "      <td>\"Ein \"Anstieg\" wird verwendet, um einen Anstie...</td>\n",
       "      <td>\"Ein \"___\" wird verwendet, um einen Anstieg od...</td>\n",
       "      <td>no error</td>\n",
       "    </tr>\n",
       "    <tr>\n",
       "      <th>106</th>\n",
       "      <td>fr</td>\n",
       "      <td>left</td>\n",
       "      <td>gauche</td>\n",
       "      <td>'A \"left\" is a direction opposite to right. An...</td>\n",
       "      <td>Une \"gauche\" est une direction opposée à la dr...</td>\n",
       "      <td>Une \"___\" est une direction opposée à la droit...</td>\n",
       "      <td>no error</td>\n",
       "      <td>de</td>\n",
       "      <td>links</td>\n",
       "      <td>'A \"left\" is a direction opposite to right. An...</td>\n",
       "      <td>Ein \"links\" ist eine Richtung, die der rechten...</td>\n",
       "      <td>Ein \"___\" ist eine Richtung, die der rechten e...</td>\n",
       "      <td>no error</td>\n",
       "    </tr>\n",
       "    <tr>\n",
       "      <th>107</th>\n",
       "      <td>fr</td>\n",
       "      <td>power</td>\n",
       "      <td>pouvoir</td>\n",
       "      <td>\"A \"power\" is used to control or influence peo...</td>\n",
       "      <td>\"Un \"pouvoir\" est utilisé pour contrôler ou in...</td>\n",
       "      <td>\"Un \"___\" est utilisé pour contrôler ou influe...</td>\n",
       "      <td>no error</td>\n",
       "      <td>de</td>\n",
       "      <td>Macht</td>\n",
       "      <td>\"A \"power\" is used to control or influence peo...</td>\n",
       "      <td>\"Eine \"Macht\" wird benutzt, um Menschen oder D...</td>\n",
       "      <td>\"Eine \"___\" wird benutzt, um Menschen oder Din...</td>\n",
       "      <td>no error</td>\n",
       "    </tr>\n",
       "    <tr>\n",
       "      <th>108</th>\n",
       "      <td>fr</td>\n",
       "      <td>summer</td>\n",
       "      <td>été</td>\n",
       "      <td>\"The \"summer\" is a season known for its warm w...</td>\n",
       "      <td>\"L'\"été\" est une saison connue pour son temps ...</td>\n",
       "      <td>\"L'\"___\" est une saison connue pour son temps ...</td>\n",
       "      <td>no error</td>\n",
       "      <td>de</td>\n",
       "      <td>Sommer</td>\n",
       "      <td>\"The \"summer\" is a season known for its warm w...</td>\n",
       "      <td>\"Der \"Sommer\" ist eine Jahreszeit, die für ihr...</td>\n",
       "      <td>\"Der \"___\" ist eine Jahreszeit, die für ihr wa...</td>\n",
       "      <td>no error</td>\n",
       "    </tr>\n",
       "  </tbody>\n",
       "</table>\n",
       "<p>94 rows × 13 columns</p>\n",
       "</div>"
      ],
      "text/plain": [
       "    lang_fr        en        fr  \\\n",
       "0        fr     cloud     nuage   \n",
       "1        fr       bag       sac   \n",
       "2        fr     mouth    bouche   \n",
       "3        fr      soil       sol   \n",
       "4        fr  mountain  montagne   \n",
       "..      ...       ...       ...   \n",
       "104      fr    office    bureau   \n",
       "105      fr      rise    hausse   \n",
       "106      fr      left    gauche   \n",
       "107      fr     power   pouvoir   \n",
       "108      fr    summer       été   \n",
       "\n",
       "                              blank_prompt_original_fr  \\\n",
       "0    A \"cloud\" is a visible mass of condensed water...   \n",
       "1       A \"bag\" is used to carry items. Answer: \"bag\".   \n",
       "2    A \"mouth\" is used to eat food and speak. Answe...   \n",
       "3    \"A \"soil\" is used for planting trees and crops...   \n",
       "4    A \"mountain\" is a large natural elevation of t...   \n",
       "..                                                 ...   \n",
       "104  An \"office\" is a place where people usually do...   \n",
       "105  \"A \"rise\" is used to describe an increase or u...   \n",
       "106  'A \"left\" is a direction opposite to right. An...   \n",
       "107  \"A \"power\" is used to control or influence peo...   \n",
       "108  \"The \"summer\" is a season known for its warm w...   \n",
       "\n",
       "                           blank_prompt_translation_fr  \\\n",
       "0    Un \"nuage\" est une masse visible de vapeur d'e...   \n",
       "1    Un \"sac\" est utilisé pour transporter des obje...   \n",
       "2    La \"bouche\" sert à manger et à parler. Réponse...   \n",
       "3    \"Un \"sol\" est utilisé pour planter des arbres ...   \n",
       "4    Une \"montagne\" est une grande élévation nature...   \n",
       "..                                                 ...   \n",
       "104  Un \"bureau\" est un endroit où les gens font ha...   \n",
       "105  \"Une \"hausse\" est utilisée pour décrire une au...   \n",
       "106  Une \"gauche\" est une direction opposée à la dr...   \n",
       "107  \"Un \"pouvoir\" est utilisé pour contrôler ou in...   \n",
       "108  \"L'\"été\" est une saison connue pour son temps ...   \n",
       "\n",
       "                    blank_prompt_translation_masked_fr  error_fr lang_de  \\\n",
       "0    Un \"___\" est une masse visible de vapeur d'eau...  no error      de   \n",
       "1    Un \"___\" est utilisé pour transporter des obje...  no error      de   \n",
       "2    La \"___\" sert à manger et à parler. Réponse : ...  no error      de   \n",
       "3    \"Un \"___\" est utilisé pour planter des arbres ...  no error      de   \n",
       "4    Une \"___\" est une grande élévation naturelle d...  no error      de   \n",
       "..                                                 ...       ...     ...   \n",
       "104  Un \"___\" est un endroit où les gens font habit...  no error      de   \n",
       "105  \"Une \"___\" est utilisée pour décrire une augme...  no error      de   \n",
       "106  Une \"___\" est une direction opposée à la droit...  no error      de   \n",
       "107  \"Un \"___\" est utilisé pour contrôler ou influe...  no error      de   \n",
       "108  \"L'\"___\" est une saison connue pour son temps ...  no error      de   \n",
       "\n",
       "          de                           blank_prompt_original_de  \\\n",
       "0      Wolke  A \"cloud\" is a visible mass of condensed water...   \n",
       "1     Tasche     A \"bag\" is used to carry items. Answer: \"bag\".   \n",
       "2       Mund  A \"mouth\" is used to eat food and speak. Answe...   \n",
       "3      Boden  \"A \"soil\" is used for planting trees and crops...   \n",
       "4       Berg  A \"mountain\" is a large natural elevation of t...   \n",
       "..       ...                                                ...   \n",
       "104     Büro  An \"office\" is a place where people usually do...   \n",
       "105  Anstieg  \"A \"rise\" is used to describe an increase or u...   \n",
       "106    links  'A \"left\" is a direction opposite to right. An...   \n",
       "107    Macht  \"A \"power\" is used to control or influence peo...   \n",
       "108   Sommer  \"The \"summer\" is a season known for its warm w...   \n",
       "\n",
       "                           blank_prompt_translation_de  \\\n",
       "0    Eine \"Wolke\" ist eine sichtbare Masse aus kond...   \n",
       "1    Eine \"Tasche\" wird zum Tragen von Gegenständen...   \n",
       "2    Ein \"Mund\" wird zum Essen und Sprechen benutzt...   \n",
       "3    \"Ein \"Boden\" wird für die Anpflanzung von Bäum...   \n",
       "4    Ein \"Berg\" ist eine große natürliche Erhebung ...   \n",
       "..                                                 ...   \n",
       "104  Ein \"Büro\" ist ein Ort, an dem Menschen normal...   \n",
       "105  \"Ein \"Anstieg\" wird verwendet, um einen Anstie...   \n",
       "106  Ein \"links\" ist eine Richtung, die der rechten...   \n",
       "107  \"Eine \"Macht\" wird benutzt, um Menschen oder D...   \n",
       "108  \"Der \"Sommer\" ist eine Jahreszeit, die für ihr...   \n",
       "\n",
       "                    blank_prompt_translation_masked_de  error_de  \n",
       "0    Eine \"___\" ist eine sichtbare Masse aus konden...  no error  \n",
       "1    Eine \"___\" wird zum Tragen von Gegenständen ve...  no error  \n",
       "2    Ein \"___\" wird zum Essen und Sprechen benutzt....  no error  \n",
       "3    \"Ein \"___\" wird für die Anpflanzung von Bäumen...  no error  \n",
       "4    Ein \"___\" ist eine große natürliche Erhebung a...  no error  \n",
       "..                                                 ...       ...  \n",
       "104  Ein \"___\" ist ein Ort, an dem Menschen normale...  no error  \n",
       "105  \"Ein \"___\" wird verwendet, um einen Anstieg od...  no error  \n",
       "106  Ein \"___\" ist eine Richtung, die der rechten e...  no error  \n",
       "107  \"Eine \"___\" wird benutzt, um Menschen oder Din...  no error  \n",
       "108  \"Der \"___\" ist eine Jahreszeit, die für ihr wa...  no error  \n",
       "\n",
       "[94 rows x 13 columns]"
      ]
     },
     "execution_count": 8,
     "metadata": {},
     "output_type": "execute_result"
    }
   ],
   "source": [
    "df_en_target_input"
   ]
  },
  {
   "cell_type": "code",
   "execution_count": 9,
   "id": "f0c0a52d",
   "metadata": {
    "execution": {
     "iopub.execute_input": "2024-02-23T16:04:31.212082Z",
     "iopub.status.busy": "2024-02-23T16:04:31.211923Z",
     "iopub.status.idle": "2024-02-23T16:04:31.241992Z",
     "shell.execute_reply": "2024-02-23T16:04:31.241507Z"
    },
    "papermill": {
     "duration": 0.035339,
     "end_time": "2024-02-23T16:04:31.242978",
     "exception": false,
     "start_time": "2024-02-23T16:04:31.207639",
     "status": "completed"
    },
    "tags": []
   },
   "outputs": [],
   "source": [
    "def token_prefixes(token_str: str):\n",
    "    n = len(token_str)\n",
    "    tokens = [token_str[:i] for i in range(1, n+1)]\n",
    "    return tokens \n",
    "\n",
    "def add_spaces(tokens):\n",
    "    return ['▁' + t for t in tokens] + tokens\n",
    "\n",
    "def capitalizations(tokens):\n",
    "    return list(set(tokens))\n",
    "\n",
    "def unicode_prefix_tokid(zh_char = \"云\", tokenizer=tokenizer):\n",
    "    start = zh_char.encode().__str__()[2:-1].split('\\\\x')[1]\n",
    "    unicode_format = '<0x%s>'\n",
    "    start_key = unicode_format%start.upper()\n",
    "    if start_key in tokenizer.get_vocab():\n",
    "        return tokenizer.get_vocab()[start_key]\n",
    "    return None\n",
    "\n",
    "def process_tokens(token_str: str, tokenizer, lang):\n",
    "    with_prefixes = token_prefixes(token_str)\n",
    "    with_spaces = add_spaces(with_prefixes)\n",
    "    with_capitalizations = capitalizations(with_spaces)\n",
    "    final_tokens = []\n",
    "    for tok in with_capitalizations:\n",
    "        if tok in tokenizer.get_vocab():\n",
    "            final_tokens.append(tokenizer.get_vocab()[tok])\n",
    "    if lang in ['zh', 'ru']:\n",
    "        tokid = unicode_prefix_tokid(token_str, tokenizer)\n",
    "        if tokid is not None:\n",
    "            final_tokens.append(tokid)\n",
    "    return final_tokens"
   ]
  },
  {
   "cell_type": "code",
   "execution_count": 10,
   "id": "faa7bb78",
   "metadata": {
    "execution": {
     "iopub.execute_input": "2024-02-23T16:04:31.252134Z",
     "iopub.status.busy": "2024-02-23T16:04:31.251802Z",
     "iopub.status.idle": "2024-02-23T16:04:31.288816Z",
     "shell.execute_reply": "2024-02-23T16:04:31.288286Z"
    },
    "papermill": {
     "duration": 0.04244,
     "end_time": "2024-02-23T16:04:31.289829",
     "exception": false,
     "start_time": "2024-02-23T16:04:31.247389",
     "status": "completed"
    },
    "tags": []
   },
   "outputs": [],
   "source": [
    "\n",
    "id2voc = {id:voc for voc, id in tokenizer.get_vocab().items()}\n",
    "def get_tokens(token_ids, id2voc=id2voc):\n",
    "    return [id2voc[tokid] for tokid in token_ids]\n",
    "\n",
    "def compute_entropy(probas):\n",
    "    return (-probas*torch.log2(probas)).sum(dim=-1)\n",
    "\n",
    "lang2name = {'fr': 'Français', 'de': 'Deutsch', 'ru': 'Русский', 'en': 'English', 'zh': '中文'}\n",
    "def sample(df, ind, k=5, tokenizer=tokenizer, lang1='fr', lang2='de', lang_latent=latent):\n",
    "    df = df.reset_index(drop=True)\n",
    "    temp = df[df.index!=ind]\n",
    "    sample = pd.concat([temp.sample(k-1), df[df.index==ind]], axis=0)\n",
    "    prompt = \"\"\n",
    "    for idx, (df_idx, row) in enumerate(sample.iterrows()):\n",
    "        if idx < k-1:\n",
    "            prompt += f'{lang2name[lang1]}: \"{row[lang1]}\" - {lang2name[lang2]}: \"{row[lang2]}\"\\n'\n",
    "        else:\n",
    "            prompt += f'{lang2name[lang1]}: \"{row[lang1]}\" - {lang2name[lang2]}: \"'\n",
    "            in_token_str = row[lang1]\n",
    "            out_token_str = row[lang2]\n",
    "            out_token_id = process_tokens(out_token_str, tokenizer, lang2)\n",
    "            latent_token_str = row[lang_latent]\n",
    "            latent_token_id = process_tokens(latent_token_str, tokenizer, latent)\n",
    "            intersection = set(out_token_id).intersection(set(latent_token_id))\n",
    "            if len(out_token_id) == 0 or len(latent_token_id) == 0:\n",
    "                yield None\n",
    "            if lang2 != 'en' and len(intersection) > 0:\n",
    "                yield None\n",
    "            yield {'prompt': prompt, \n",
    "                'out_token_id': out_token_id, \n",
    "                'out_token_str': out_token_str,\n",
    "                'latent_token_id': latent_token_id, \n",
    "                'latent_token_str': latent_token_str, \n",
    "                'in_token_str': in_token_str}"
   ]
  },
  {
   "cell_type": "code",
   "execution_count": 11,
   "id": "500641f5",
   "metadata": {
    "execution": {
     "iopub.execute_input": "2024-02-23T16:04:31.298882Z",
     "iopub.status.busy": "2024-02-23T16:04:31.298537Z",
     "iopub.status.idle": "2024-02-23T16:04:50.811194Z",
     "shell.execute_reply": "2024-02-23T16:04:50.810442Z"
    },
    "papermill": {
     "duration": 19.517786,
     "end_time": "2024-02-23T16:04:50.812169",
     "exception": false,
     "start_time": "2024-02-23T16:04:31.294383",
     "status": "completed"
    },
    "tags": []
   },
   "outputs": [
    {
     "name": "stderr",
     "output_type": "stream",
     "text": [
      "\r",
      "  0%|                                                                                                                                                                                                                  | 0/94 [00:00<?, ?it/s]"
     ]
    },
    {
     "name": "stderr",
     "output_type": "stream",
     "text": [
      "\r",
      "  1%|██▏                                                                                                                                                                                                       | 1/94 [00:00<00:19,  4.79it/s]"
     ]
    },
    {
     "name": "stderr",
     "output_type": "stream",
     "text": [
      "\r",
      "  2%|████▎                                                                                                                                                                                                     | 2/94 [00:00<00:15,  5.77it/s]"
     ]
    },
    {
     "name": "stderr",
     "output_type": "stream",
     "text": [
      "\r",
      "  3%|██████▍                                                                                                                                                                                                   | 3/94 [00:00<00:17,  5.19it/s]"
     ]
    },
    {
     "name": "stderr",
     "output_type": "stream",
     "text": [
      "\r",
      "  4%|████████▌                                                                                                                                                                                                 | 4/94 [00:00<00:15,  5.63it/s]"
     ]
    },
    {
     "name": "stderr",
     "output_type": "stream",
     "text": [
      "\r",
      "  5%|██████████▋                                                                                                                                                                                               | 5/94 [00:01<00:19,  4.50it/s]"
     ]
    },
    {
     "name": "stderr",
     "output_type": "stream",
     "text": [
      "\r",
      "  6%|████████████▉                                                                                                                                                                                             | 6/94 [00:01<00:17,  4.90it/s]"
     ]
    },
    {
     "name": "stderr",
     "output_type": "stream",
     "text": [
      "\r",
      "  7%|███████████████                                                                                                                                                                                           | 7/94 [00:01<00:17,  4.93it/s]"
     ]
    },
    {
     "name": "stderr",
     "output_type": "stream",
     "text": [
      "\r",
      "  9%|█████████████████▏                                                                                                                                                                                        | 8/94 [00:01<00:16,  5.22it/s]"
     ]
    },
    {
     "name": "stderr",
     "output_type": "stream",
     "text": [
      "\r",
      " 10%|███████████████████▎                                                                                                                                                                                      | 9/94 [00:01<00:16,  5.15it/s]"
     ]
    },
    {
     "name": "stderr",
     "output_type": "stream",
     "text": [
      "\r",
      " 11%|█████████████████████▍                                                                                                                                                                                   | 10/94 [00:02<00:18,  4.64it/s]"
     ]
    },
    {
     "name": "stderr",
     "output_type": "stream",
     "text": [
      "\r",
      " 12%|███████████████████████▌                                                                                                                                                                                 | 11/94 [00:02<00:17,  4.86it/s]"
     ]
    },
    {
     "name": "stderr",
     "output_type": "stream",
     "text": [
      "\r",
      " 13%|█████████████████████████▋                                                                                                                                                                               | 12/94 [00:02<00:16,  5.12it/s]"
     ]
    },
    {
     "name": "stderr",
     "output_type": "stream",
     "text": [
      "\r",
      " 14%|███████████████████████████▊                                                                                                                                                                             | 13/94 [00:02<00:16,  4.87it/s]"
     ]
    },
    {
     "name": "stderr",
     "output_type": "stream",
     "text": [
      "\r",
      " 15%|█████████████████████████████▉                                                                                                                                                                           | 14/94 [00:02<00:15,  5.03it/s]"
     ]
    },
    {
     "name": "stderr",
     "output_type": "stream",
     "text": [
      "\r",
      " 16%|████████████████████████████████                                                                                                                                                                         | 15/94 [00:03<00:16,  4.78it/s]"
     ]
    },
    {
     "name": "stderr",
     "output_type": "stream",
     "text": [
      "\r",
      " 17%|██████████████████████████████████▏                                                                                                                                                                      | 16/94 [00:03<00:15,  4.96it/s]"
     ]
    },
    {
     "name": "stderr",
     "output_type": "stream",
     "text": [
      "\r",
      " 18%|████████████████████████████████████▎                                                                                                                                                                    | 17/94 [00:03<00:15,  5.08it/s]"
     ]
    },
    {
     "name": "stderr",
     "output_type": "stream",
     "text": [
      "\r",
      " 19%|██████████████████████████████████████▍                                                                                                                                                                  | 18/94 [00:03<00:13,  5.54it/s]"
     ]
    },
    {
     "name": "stderr",
     "output_type": "stream",
     "text": [
      "\r",
      " 20%|████████████████████████████████████████▋                                                                                                                                                                | 19/94 [00:03<00:13,  5.53it/s]"
     ]
    },
    {
     "name": "stderr",
     "output_type": "stream",
     "text": [
      "\r",
      " 21%|██████████████████████████████████████████▊                                                                                                                                                              | 20/94 [00:03<00:13,  5.49it/s]"
     ]
    },
    {
     "name": "stderr",
     "output_type": "stream",
     "text": [
      "\r",
      " 22%|████████████████████████████████████████████▉                                                                                                                                                            | 21/94 [00:04<00:13,  5.36it/s]"
     ]
    },
    {
     "name": "stderr",
     "output_type": "stream",
     "text": [
      "\r",
      " 23%|███████████████████████████████████████████████                                                                                                                                                          | 22/94 [00:04<00:12,  5.76it/s]"
     ]
    },
    {
     "name": "stderr",
     "output_type": "stream",
     "text": [
      "\r",
      " 24%|█████████████████████████████████████████████████▏                                                                                                                                                       | 23/94 [00:04<00:12,  5.82it/s]"
     ]
    },
    {
     "name": "stderr",
     "output_type": "stream",
     "text": [
      "\r",
      " 26%|███████████████████████████████████████████████████▎                                                                                                                                                     | 24/94 [00:04<00:13,  5.03it/s]"
     ]
    },
    {
     "name": "stderr",
     "output_type": "stream",
     "text": [
      "\r",
      " 27%|█████████████████████████████████████████████████████▍                                                                                                                                                   | 25/94 [00:04<00:13,  5.28it/s]"
     ]
    },
    {
     "name": "stderr",
     "output_type": "stream",
     "text": [
      "\r",
      " 28%|███████████████████████████████████████████████████████▌                                                                                                                                                 | 26/94 [00:05<00:12,  5.40it/s]"
     ]
    },
    {
     "name": "stderr",
     "output_type": "stream",
     "text": [
      "\r",
      " 29%|█████████████████████████████████████████████████████████▋                                                                                                                                               | 27/94 [00:05<00:12,  5.22it/s]"
     ]
    },
    {
     "name": "stderr",
     "output_type": "stream",
     "text": [
      "\r",
      " 30%|███████████████████████████████████████████████████████████▊                                                                                                                                             | 28/94 [00:05<00:12,  5.27it/s]"
     ]
    },
    {
     "name": "stderr",
     "output_type": "stream",
     "text": [
      "\r",
      " 31%|██████████████████████████████████████████████████████████████                                                                                                                                           | 29/94 [00:05<00:12,  5.07it/s]"
     ]
    },
    {
     "name": "stderr",
     "output_type": "stream",
     "text": [
      "\r",
      " 32%|████████████████████████████████████████████████████████████████▏                                                                                                                                        | 30/94 [00:05<00:11,  5.59it/s]"
     ]
    },
    {
     "name": "stderr",
     "output_type": "stream",
     "text": [
      "\r",
      " 33%|██████████████████████████████████████████████████████████████████▎                                                                                                                                      | 31/94 [00:05<00:11,  5.48it/s]"
     ]
    },
    {
     "name": "stderr",
     "output_type": "stream",
     "text": [
      "\r",
      " 34%|████████████████████████████████████████████████████████████████████▍                                                                                                                                    | 32/94 [00:06<00:10,  5.92it/s]"
     ]
    },
    {
     "name": "stderr",
     "output_type": "stream",
     "text": [
      "\r",
      " 35%|██████████████████████████████████████████████████████████████████████▌                                                                                                                                  | 33/94 [00:06<00:11,  5.52it/s]"
     ]
    },
    {
     "name": "stderr",
     "output_type": "stream",
     "text": [
      "\r",
      " 36%|████████████████████████████████████████████████████████████████████████▋                                                                                                                                | 34/94 [00:06<00:10,  5.56it/s]"
     ]
    },
    {
     "name": "stderr",
     "output_type": "stream",
     "text": [
      "\r",
      " 37%|██████████████████████████████████████████████████████████████████████████▊                                                                                                                              | 35/94 [00:06<00:11,  5.11it/s]"
     ]
    },
    {
     "name": "stderr",
     "output_type": "stream",
     "text": [
      "\r",
      " 38%|████████████████████████████████████████████████████████████████████████████▉                                                                                                                            | 36/94 [00:06<00:10,  5.63it/s]"
     ]
    },
    {
     "name": "stderr",
     "output_type": "stream",
     "text": [
      "\r",
      " 39%|███████████████████████████████████████████████████████████████████████████████                                                                                                                          | 37/94 [00:06<00:09,  5.86it/s]"
     ]
    },
    {
     "name": "stderr",
     "output_type": "stream",
     "text": [
      "\r",
      " 40%|█████████████████████████████████████████████████████████████████████████████████▎                                                                                                                       | 38/94 [00:07<00:10,  5.48it/s]"
     ]
    },
    {
     "name": "stderr",
     "output_type": "stream",
     "text": [
      "\r",
      " 41%|███████████████████████████████████████████████████████████████████████████████████▍                                                                                                                     | 39/94 [00:07<00:10,  5.31it/s]"
     ]
    },
    {
     "name": "stderr",
     "output_type": "stream",
     "text": [
      "\r",
      " 43%|█████████████████████████████████████████████████████████████████████████████████████▌                                                                                                                   | 40/94 [00:07<00:10,  5.40it/s]"
     ]
    },
    {
     "name": "stderr",
     "output_type": "stream",
     "text": [
      "\r",
      " 44%|███████████████████████████████████████████████████████████████████████████████████████▋                                                                                                                 | 41/94 [00:07<00:09,  5.39it/s]"
     ]
    },
    {
     "name": "stderr",
     "output_type": "stream",
     "text": [
      "\r",
      " 45%|█████████████████████████████████████████████████████████████████████████████████████████▊                                                                                                               | 42/94 [00:07<00:09,  5.41it/s]"
     ]
    },
    {
     "name": "stderr",
     "output_type": "stream",
     "text": [
      "\r",
      " 46%|███████████████████████████████████████████████████████████████████████████████████████████▉                                                                                                             | 43/94 [00:08<00:09,  5.58it/s]"
     ]
    },
    {
     "name": "stderr",
     "output_type": "stream",
     "text": [
      "\r",
      " 47%|██████████████████████████████████████████████████████████████████████████████████████████████                                                                                                           | 44/94 [00:08<00:08,  5.96it/s]"
     ]
    },
    {
     "name": "stderr",
     "output_type": "stream",
     "text": [
      "\r",
      " 48%|████████████████████████████████████████████████████████████████████████████████████████████████▏                                                                                                        | 45/94 [00:08<00:08,  6.12it/s]"
     ]
    },
    {
     "name": "stderr",
     "output_type": "stream",
     "text": [
      "\r",
      " 49%|██████████████████████████████████████████████████████████████████████████████████████████████████▎                                                                                                      | 46/94 [00:08<00:08,  5.44it/s]"
     ]
    },
    {
     "name": "stderr",
     "output_type": "stream",
     "text": [
      "\r",
      " 50%|████████████████████████████████████████████████████████████████████████████████████████████████████▌                                                                                                    | 47/94 [00:08<00:08,  5.28it/s]"
     ]
    },
    {
     "name": "stderr",
     "output_type": "stream",
     "text": [
      "\r",
      " 51%|██████████████████████████████████████████████████████████████████████████████████████████████████████▋                                                                                                  | 48/94 [00:08<00:07,  6.10it/s]"
     ]
    },
    {
     "name": "stderr",
     "output_type": "stream",
     "text": [
      "\r",
      " 52%|████████████████████████████████████████████████████████████████████████████████████████████████████████▊                                                                                                | 49/94 [00:09<00:08,  5.42it/s]"
     ]
    },
    {
     "name": "stderr",
     "output_type": "stream",
     "text": [
      "\r",
      " 53%|██████████████████████████████████████████████████████████████████████████████████████████████████████████▉                                                                                              | 50/94 [00:09<00:07,  5.52it/s]"
     ]
    },
    {
     "name": "stderr",
     "output_type": "stream",
     "text": [
      "\r",
      " 54%|█████████████████████████████████████████████████████████████████████████████████████████████████████████████                                                                                            | 51/94 [00:09<00:07,  5.46it/s]"
     ]
    },
    {
     "name": "stderr",
     "output_type": "stream",
     "text": [
      "\r",
      " 55%|███████████████████████████████████████████████████████████████████████████████████████████████████████████████▏                                                                                         | 52/94 [00:09<00:08,  5.09it/s]"
     ]
    },
    {
     "name": "stderr",
     "output_type": "stream",
     "text": [
      "\r",
      " 56%|█████████████████████████████████████████████████████████████████████████████████████████████████████████████████▎                                                                                       | 53/94 [00:10<00:08,  4.71it/s]"
     ]
    },
    {
     "name": "stderr",
     "output_type": "stream",
     "text": [
      "\r",
      " 57%|███████████████████████████████████████████████████████████████████████████████████████████████████████████████████▍                                                                                     | 54/94 [00:10<00:08,  4.82it/s]"
     ]
    },
    {
     "name": "stderr",
     "output_type": "stream",
     "text": [
      "\r",
      " 59%|█████████████████████████████████████████████████████████████████████████████████████████████████████████████████████▌                                                                                   | 55/94 [00:10<00:08,  4.73it/s]"
     ]
    },
    {
     "name": "stderr",
     "output_type": "stream",
     "text": [
      "\r",
      " 60%|███████████████████████████████████████████████████████████████████████████████████████████████████████████████████████▋                                                                                 | 56/94 [00:10<00:08,  4.48it/s]"
     ]
    },
    {
     "name": "stderr",
     "output_type": "stream",
     "text": [
      "\r",
      " 61%|█████████████████████████████████████████████████████████████████████████████████████████████████████████████████████████▉                                                                               | 57/94 [00:10<00:08,  4.39it/s]"
     ]
    },
    {
     "name": "stderr",
     "output_type": "stream",
     "text": [
      "\r",
      " 62%|████████████████████████████████████████████████████████████████████████████████████████████████████████████████████████████                                                                             | 58/94 [00:11<00:08,  4.33it/s]"
     ]
    },
    {
     "name": "stderr",
     "output_type": "stream",
     "text": [
      "\r",
      " 63%|██████████████████████████████████████████████████████████████████████████████████████████████████████████████████████████████▏                                                                          | 59/94 [00:11<00:07,  4.50it/s]"
     ]
    },
    {
     "name": "stderr",
     "output_type": "stream",
     "text": [
      "\r",
      " 64%|████████████████████████████████████████████████████████████████████████████████████████████████████████████████████████████████▎                                                                        | 60/94 [00:11<00:07,  4.65it/s]"
     ]
    },
    {
     "name": "stderr",
     "output_type": "stream",
     "text": [
      "\r",
      " 65%|██████████████████████████████████████████████████████████████████████████████████████████████████████████████████████████████████▍                                                                      | 61/94 [00:11<00:07,  4.70it/s]"
     ]
    },
    {
     "name": "stderr",
     "output_type": "stream",
     "text": [
      "\r",
      " 66%|████████████████████████████████████████████████████████████████████████████████████████████████████████████████████████████████████▌                                                                    | 62/94 [00:11<00:06,  4.86it/s]"
     ]
    },
    {
     "name": "stderr",
     "output_type": "stream",
     "text": [
      "\r",
      " 67%|██████████████████████████████████████████████████████████████████████████████████████████████████████████████████████████████████████▋                                                                  | 63/94 [00:12<00:06,  4.49it/s]"
     ]
    },
    {
     "name": "stderr",
     "output_type": "stream",
     "text": [
      "\r",
      " 68%|████████████████████████████████████████████████████████████████████████████████████████████████████████████████████████████████████████▊                                                                | 64/94 [00:12<00:06,  4.58it/s]"
     ]
    },
    {
     "name": "stderr",
     "output_type": "stream",
     "text": [
      "\r",
      " 69%|██████████████████████████████████████████████████████████████████████████████████████████████████████████████████████████████████████████▉                                                              | 65/94 [00:12<00:06,  4.57it/s]"
     ]
    },
    {
     "name": "stderr",
     "output_type": "stream",
     "text": [
      "\r",
      " 70%|█████████████████████████████████████████████████████████████████████████████████████████████████████████████████████████████████████████████▏                                                           | 66/94 [00:12<00:06,  4.10it/s]"
     ]
    },
    {
     "name": "stderr",
     "output_type": "stream",
     "text": [
      "\r",
      " 71%|███████████████████████████████████████████████████████████████████████████████████████████████████████████████████████████████████████████████▎                                                         | 67/94 [00:13<00:06,  4.25it/s]"
     ]
    },
    {
     "name": "stderr",
     "output_type": "stream",
     "text": [
      "\r",
      " 72%|█████████████████████████████████████████████████████████████████████████████████████████████████████████████████████████████████████████████████▍                                                       | 68/94 [00:13<00:06,  3.73it/s]"
     ]
    },
    {
     "name": "stderr",
     "output_type": "stream",
     "text": [
      "\r",
      " 73%|███████████████████████████████████████████████████████████████████████████████████████████████████████████████████████████████████████████████████▌                                                     | 69/94 [00:13<00:06,  3.88it/s]"
     ]
    },
    {
     "name": "stderr",
     "output_type": "stream",
     "text": [
      "\r",
      " 74%|█████████████████████████████████████████████████████████████████████████████████████████████████████████████████████████████████████████████████████▋                                                   | 70/94 [00:13<00:05,  4.18it/s]"
     ]
    },
    {
     "name": "stderr",
     "output_type": "stream",
     "text": [
      "\r",
      " 76%|███████████████████████████████████████████████████████████████████████████████████████████████████████████████████████████████████████████████████████▊                                                 | 71/94 [00:14<00:05,  3.88it/s]"
     ]
    },
    {
     "name": "stderr",
     "output_type": "stream",
     "text": [
      "\r",
      " 77%|█████████████████████████████████████████████████████████████████████████████████████████████████████████████████████████████████████████████████████████▉                                               | 72/94 [00:14<00:05,  3.94it/s]"
     ]
    },
    {
     "name": "stderr",
     "output_type": "stream",
     "text": [
      "\r",
      " 78%|████████████████████████████████████████████████████████████████████████████████████████████████████████████████████████████████████████████████████████████                                             | 73/94 [00:14<00:05,  4.10it/s]"
     ]
    },
    {
     "name": "stderr",
     "output_type": "stream",
     "text": [
      "\r",
      " 79%|██████████████████████████████████████████████████████████████████████████████████████████████████████████████████████████████████████████████████████████████▏                                          | 74/94 [00:15<00:05,  3.68it/s]"
     ]
    },
    {
     "name": "stderr",
     "output_type": "stream",
     "text": [
      "\r",
      " 80%|████████████████████████████████████████████████████████████████████████████████████████████████████████████████████████████████████████████████████████████████▎                                        | 75/94 [00:15<00:04,  4.06it/s]"
     ]
    },
    {
     "name": "stderr",
     "output_type": "stream",
     "text": [
      "\r",
      " 81%|██████████████████████████████████████████████████████████████████████████████████████████████████████████████████████████████████████████████████████████████████▌                                      | 76/94 [00:15<00:04,  4.09it/s]"
     ]
    },
    {
     "name": "stderr",
     "output_type": "stream",
     "text": [
      "\r",
      " 82%|████████████████████████████████████████████████████████████████████████████████████████████████████████████████████████████████████████████████████████████████████▋                                    | 77/94 [00:15<00:04,  4.23it/s]"
     ]
    },
    {
     "name": "stderr",
     "output_type": "stream",
     "text": [
      "\r",
      " 83%|██████████████████████████████████████████████████████████████████████████████████████████████████████████████████████████████████████████████████████████████████████▊                                  | 78/94 [00:15<00:03,  4.34it/s]"
     ]
    },
    {
     "name": "stderr",
     "output_type": "stream",
     "text": [
      "\r",
      " 84%|████████████████████████████████████████████████████████████████████████████████████████████████████████████████████████████████████████████████████████████████████████▉                                | 79/94 [00:16<00:03,  4.36it/s]"
     ]
    },
    {
     "name": "stderr",
     "output_type": "stream",
     "text": [
      "\r",
      " 85%|███████████████████████████████████████████████████████████████████████████████████████████████████████████████████████████████████████████████████████████████████████████                              | 80/94 [00:16<00:03,  4.56it/s]"
     ]
    },
    {
     "name": "stderr",
     "output_type": "stream",
     "text": [
      "\r",
      " 86%|█████████████████████████████████████████████████████████████████████████████████████████████████████████████████████████████████████████████████████████████████████████████▏                           | 81/94 [00:16<00:03,  4.15it/s]"
     ]
    },
    {
     "name": "stderr",
     "output_type": "stream",
     "text": [
      "\r",
      " 87%|███████████████████████████████████████████████████████████████████████████████████████████████████████████████████████████████████████████████████████████████████████████████▎                         | 82/94 [00:16<00:02,  4.20it/s]"
     ]
    },
    {
     "name": "stderr",
     "output_type": "stream",
     "text": [
      "\r",
      " 88%|█████████████████████████████████████████████████████████████████████████████████████████████████████████████████████████████████████████████████████████████████████████████████▍                       | 83/94 [00:17<00:02,  4.43it/s]"
     ]
    },
    {
     "name": "stderr",
     "output_type": "stream",
     "text": [
      "\r",
      " 89%|███████████████████████████████████████████████████████████████████████████████████████████████████████████████████████████████████████████████████████████████████████████████████▌                     | 84/94 [00:17<00:02,  4.65it/s]"
     ]
    },
    {
     "name": "stderr",
     "output_type": "stream",
     "text": [
      "\r",
      " 90%|█████████████████████████████████████████████████████████████████████████████████████████████████████████████████████████████████████████████████████████████████████████████████████▊                   | 85/94 [00:17<00:01,  4.99it/s]"
     ]
    },
    {
     "name": "stderr",
     "output_type": "stream",
     "text": [
      "\r",
      " 91%|███████████████████████████████████████████████████████████████████████████████████████████████████████████████████████████████████████████████████████████████████████████████████████▉                 | 86/94 [00:17<00:01,  4.46it/s]"
     ]
    },
    {
     "name": "stderr",
     "output_type": "stream",
     "text": [
      "\r",
      " 93%|██████████████████████████████████████████████████████████████████████████████████████████████████████████████████████████████████████████████████████████████████████████████████████████               | 87/94 [00:17<00:01,  4.46it/s]"
     ]
    },
    {
     "name": "stderr",
     "output_type": "stream",
     "text": [
      "\r",
      " 94%|████████████████████████████████████████████████████████████████████████████████████████████████████████████████████████████████████████████████████████████████████████████████████████████▏            | 88/94 [00:18<00:01,  4.74it/s]"
     ]
    },
    {
     "name": "stderr",
     "output_type": "stream",
     "text": [
      "\r",
      " 95%|██████████████████████████████████████████████████████████████████████████████████████████████████████████████████████████████████████████████████████████████████████████████████████████████▎          | 89/94 [00:18<00:01,  4.34it/s]"
     ]
    },
    {
     "name": "stderr",
     "output_type": "stream",
     "text": [
      "\r",
      " 96%|████████████████████████████████████████████████████████████████████████████████████████████████████████████████████████████████████████████████████████████████████████████████████████████████▍        | 90/94 [00:18<00:00,  4.26it/s]"
     ]
    },
    {
     "name": "stderr",
     "output_type": "stream",
     "text": [
      "\r",
      " 97%|██████████████████████████████████████████████████████████████████████████████████████████████████████████████████████████████████████████████████████████████████████████████████████████████████▌      | 91/94 [00:18<00:00,  4.47it/s]"
     ]
    },
    {
     "name": "stderr",
     "output_type": "stream",
     "text": [
      "\r",
      " 98%|████████████████████████████████████████████████████████████████████████████████████████████████████████████████████████████████████████████████████████████████████████████████████████████████████▋    | 92/94 [00:19<00:00,  4.54it/s]"
     ]
    },
    {
     "name": "stderr",
     "output_type": "stream",
     "text": [
      "\r",
      " 99%|██████████████████████████████████████████████████████████████████████████████████████████████████████████████████████████████████████████████████████████████████████████████████████████████████████▊  | 93/94 [00:19<00:00,  4.40it/s]"
     ]
    },
    {
     "name": "stderr",
     "output_type": "stream",
     "text": [
      "\r",
      "100%|█████████████████████████████████████████████████████████████████████████████████████████████████████████████████████████████████████████████████████████████████████████████████████████████████████████| 94/94 [00:19<00:00,  4.58it/s]"
     ]
    },
    {
     "name": "stderr",
     "output_type": "stream",
     "text": [
      "\r",
      "100%|█████████████████████████████████████████████████████████████████████████████████████████████████████████████████████████████████████████████████████████████████████████████████████████████████████████| 94/94 [00:19<00:00,  4.83it/s]"
     ]
    },
    {
     "name": "stderr",
     "output_type": "stream",
     "text": [
      "\n"
     ]
    }
   ],
   "source": [
    "dataset = []\n",
    "for ind in tqdm(range(len(df_en_target_input))):\n",
    "    d = next(sample(df_en_target_input, ind, lang1=input_lang, lang2=target_lang))\n",
    "    if d is None:\n",
    "        continue\n",
    "    dataset.append(d)"
   ]
  },
  {
   "cell_type": "code",
   "execution_count": 12,
   "id": "d786ab1b",
   "metadata": {
    "execution": {
     "iopub.execute_input": "2024-02-23T16:04:50.829890Z",
     "iopub.status.busy": "2024-02-23T16:04:50.829510Z",
     "iopub.status.idle": "2024-02-23T16:04:50.879026Z",
     "shell.execute_reply": "2024-02-23T16:04:50.878532Z"
    },
    "papermill": {
     "duration": 0.059023,
     "end_time": "2024-02-23T16:04:50.879818",
     "exception": false,
     "start_time": "2024-02-23T16:04:50.820795",
     "status": "completed"
    },
    "tags": []
   },
   "outputs": [],
   "source": [
    "df = pd.DataFrame(dataset)\n",
    "os.makedirs(f'{out_dir}/translation', exist_ok=True)\n",
    "df.to_csv(f'{out_dir}/translation/{model_size}_{input_lang}_{target_lang}_dataset.csv', index=False)"
   ]
  },
  {
   "cell_type": "code",
   "execution_count": 13,
   "id": "00e12355",
   "metadata": {
    "execution": {
     "iopub.execute_input": "2024-02-23T16:04:50.895557Z",
     "iopub.status.busy": "2024-02-23T16:04:50.895379Z",
     "iopub.status.idle": "2024-02-23T16:04:50.947540Z",
     "shell.execute_reply": "2024-02-23T16:04:50.947109Z"
    },
    "papermill": {
     "duration": 0.060393,
     "end_time": "2024-02-23T16:04:50.948280",
     "exception": false,
     "start_time": "2024-02-23T16:04:50.887887",
     "status": "completed"
    },
    "tags": []
   },
   "outputs": [
    {
     "data": {
      "text/html": [
       "<div>\n",
       "<style scoped>\n",
       "    .dataframe tbody tr th:only-of-type {\n",
       "        vertical-align: middle;\n",
       "    }\n",
       "\n",
       "    .dataframe tbody tr th {\n",
       "        vertical-align: top;\n",
       "    }\n",
       "\n",
       "    .dataframe thead th {\n",
       "        text-align: right;\n",
       "    }\n",
       "</style>\n",
       "<table border=\"1\" class=\"dataframe\">\n",
       "  <thead>\n",
       "    <tr style=\"text-align: right;\">\n",
       "      <th></th>\n",
       "      <th>prompt</th>\n",
       "      <th>out_token_id</th>\n",
       "      <th>out_token_str</th>\n",
       "      <th>latent_token_id</th>\n",
       "      <th>latent_token_str</th>\n",
       "      <th>in_token_str</th>\n",
       "    </tr>\n",
       "  </thead>\n",
       "  <tbody>\n",
       "    <tr>\n",
       "      <th>0</th>\n",
       "      <td>Deutsch: \"acht\" - Français: \"huit\"\\nDeutsch: \"...</td>\n",
       "      <td>[3433, 302, 29876, 4948]</td>\n",
       "      <td>nuage</td>\n",
       "      <td>[15126, 1067, 29883, 9570, 9274, 23642, 695, 2...</td>\n",
       "      <td>cloud</td>\n",
       "      <td>Wolke</td>\n",
       "    </tr>\n",
       "    <tr>\n",
       "      <th>1</th>\n",
       "      <td>Deutsch: \"Meer\" - Français: \"mer\"\\nDeutsch: \"T...</td>\n",
       "      <td>[29879, 269, 7067, 4977, 872]</td>\n",
       "      <td>sac</td>\n",
       "      <td>[19548, 23156, 9922, 2291, 289, 29890]</td>\n",
       "      <td>bag</td>\n",
       "      <td>Tasche</td>\n",
       "    </tr>\n",
       "    <tr>\n",
       "      <th>2</th>\n",
       "      <td>Deutsch: \"Sommer\" - Français: \"été\"\\nDeutsch: ...</td>\n",
       "      <td>[16380, 289, 29890, 1045, 833]</td>\n",
       "      <td>bouche</td>\n",
       "      <td>[29885, 29442, 13394, 4346, 21026, 2730, 286]</td>\n",
       "      <td>mouth</td>\n",
       "      <td>Mund</td>\n",
       "    </tr>\n",
       "    <tr>\n",
       "      <th>3</th>\n",
       "      <td>Deutsch: \"Blume\" - Français: \"fleur\"\\nDeutsch:...</td>\n",
       "      <td>[29883, 274]</td>\n",
       "      <td>cœur</td>\n",
       "      <td>[23057, 540, 354, 5192, 29882, 8293, 298]</td>\n",
       "      <td>heart</td>\n",
       "      <td>Herz</td>\n",
       "    </tr>\n",
       "    <tr>\n",
       "      <th>4</th>\n",
       "      <td>Deutsch: \"Haushalt\" - Français: \"ménage\"\\nDeut...</td>\n",
       "      <td>[3396, 5530, 655, 1667, 24402, 29885, 611, 286]</td>\n",
       "      <td>main</td>\n",
       "      <td>[5905, 2350, 3179, 29882, 5403, 298, 447, 1361]</td>\n",
       "      <td>hand</td>\n",
       "      <td>Hand</td>\n",
       "    </tr>\n",
       "    <tr>\n",
       "      <th>5</th>\n",
       "      <td>Deutsch: \"Krawatte\" - Français: \"cravate\"\\nDeu...</td>\n",
       "      <td>[20551, 432, 2212, 2958, 29926, 8694, 8121]</td>\n",
       "      <td>jour</td>\n",
       "      <td>[1146, 2462, 3250, 1388, 29881, 270]</td>\n",
       "      <td>day</td>\n",
       "      <td>Tag</td>\n",
       "    </tr>\n",
       "    <tr>\n",
       "      <th>6</th>\n",
       "      <td>Deutsch: \"Straße\" - Français: \"rue\"\\nDeutsch: ...</td>\n",
       "      <td>[904, 29948, 1893, 2852]</td>\n",
       "      <td>étoile</td>\n",
       "      <td>[303, 29879, 269, 8508, 380, 9523, 5173, 5810]</td>\n",
       "      <td>star</td>\n",
       "      <td>Stern</td>\n",
       "    </tr>\n",
       "    <tr>\n",
       "      <th>7</th>\n",
       "      <td>Deutsch: \"Gesicht\" - Français: \"visage\"\\nDeuts...</td>\n",
       "      <td>[690, 18475, 29878, 1253, 337, 364, 276, 620]</td>\n",
       "      <td>ressort</td>\n",
       "      <td>[6709, 1028, 29879, 805, 269, 15099, 7689, 4278]</td>\n",
       "      <td>spring</td>\n",
       "      <td>Feder</td>\n",
       "    </tr>\n",
       "    <tr>\n",
       "      <th>8</th>\n",
       "      <td>Deutsch: \"Farbe\" - Français: \"couleur\"\\nDeutsc...</td>\n",
       "      <td>[8092, 25081, 29880, 301, 6092]</td>\n",
       "      <td>lune</td>\n",
       "      <td>[18786, 4346, 29885, 2730, 286]</td>\n",
       "      <td>moon</td>\n",
       "      <td>Mond</td>\n",
       "    </tr>\n",
       "    <tr>\n",
       "      <th>9</th>\n",
       "      <td>Deutsch: \"Kopf\" - Français: \"tête\"\\nDeutsch: \"...</td>\n",
       "      <td>[23734, 289, 29890, 1045, 833]</td>\n",
       "      <td>bois</td>\n",
       "      <td>[281, 6115, 8879, 827, 8112, 29893]</td>\n",
       "      <td>wood</td>\n",
       "      <td>Holz</td>\n",
       "    </tr>\n",
       "    <tr>\n",
       "      <th>10</th>\n",
       "      <td>Deutsch: \"Bahnhof\" - Français: \"gare\"\\nDeutsch...</td>\n",
       "      <td>[305, 29883, 10329, 5815, 25875, 521, 5083, 274]</td>\n",
       "      <td>chanson</td>\n",
       "      <td>[29879, 4823, 269, 577, 1100, 578, 21453, 1487]</td>\n",
       "      <td>song</td>\n",
       "      <td>Lied</td>\n",
       "    </tr>\n",
       "    <tr>\n",
       "      <th>11</th>\n",
       "      <td>Deutsch: \"Brücke\" - Français: \"pont\"\\nDeutsch:...</td>\n",
       "      <td>[904, 29948, 1893, 28899, 2852]</td>\n",
       "      <td>étang</td>\n",
       "      <td>[772, 1129, 12509, 282, 2818, 29886, 1112]</td>\n",
       "      <td>pond</td>\n",
       "      <td>Teich</td>\n",
       "    </tr>\n",
       "    <tr>\n",
       "      <th>12</th>\n",
       "      <td>Deutsch: \"Fuß\" - Français: \"pied\"\\nDeutsch: \"B...</td>\n",
       "      <td>[288, 373, 29877, 898, 16504, 265, 13469]</td>\n",
       "      <td>onde</td>\n",
       "      <td>[281, 11324, 2766, 10742, 29893, 27766]</td>\n",
       "      <td>wave</td>\n",
       "      <td>Welle</td>\n",
       "    </tr>\n",
       "    <tr>\n",
       "      <th>13</th>\n",
       "      <td>Deutsch: \"Auge\" - Français: \"œil\"\\nDeutsch: \"T...</td>\n",
       "      <td>[330, 29887, 4071, 17170, 867, 629]</td>\n",
       "      <td>grotte</td>\n",
       "      <td>[29883, 18346, 24230, 5777, 1113, 274]</td>\n",
       "      <td>cave</td>\n",
       "      <td>Höhle</td>\n",
       "    </tr>\n",
       "    <tr>\n",
       "      <th>14</th>\n",
       "      <td>Deutsch: \"Fuß\" - Français: \"pied\"\\nDeutsch: \"W...</td>\n",
       "      <td>[592, 1004, 2778, 29885, 1050, 286]</td>\n",
       "      <td>mer</td>\n",
       "      <td>[29879, 7205, 344, 409, 269]</td>\n",
       "      <td>sea</td>\n",
       "      <td>Meer</td>\n",
       "    </tr>\n",
       "    <tr>\n",
       "      <th>15</th>\n",
       "      <td>Deutsch: \"Netz\" - Français: \"filet\"\\nDeutsch: ...</td>\n",
       "      <td>[330, 3249, 29887, 5397, 7171, 24816, 10364]</td>\n",
       "      <td>gare</td>\n",
       "      <td>[1002, 29879, 303, 269, 23436, 19569, 5073, 38...</td>\n",
       "      <td>station</td>\n",
       "      <td>Bahnhof</td>\n",
       "    </tr>\n",
       "    <tr>\n",
       "      <th>16</th>\n",
       "      <td>Deutsch: \"Auge\" - Français: \"œil\"\\nDeutsch: \"Z...</td>\n",
       "      <td>[1777, 1445, 5713, 934, 7241, 285, 977, 29888]</td>\n",
       "      <td>filet</td>\n",
       "      <td>[452, 302, 1212, 29876, 7787, 484]</td>\n",
       "      <td>net</td>\n",
       "      <td>Netz</td>\n",
       "    </tr>\n",
       "    <tr>\n",
       "      <th>17</th>\n",
       "      <td>Deutsch: \"Haushalt\" - Français: \"ménage\"\\nDeut...</td>\n",
       "      <td>[1631, 12343, 2930, 282, 5036, 15957, 29886]</td>\n",
       "      <td>pied</td>\n",
       "      <td>[6661, 1701, 285, 29888, 5431, 3661, 7953, 1181]</td>\n",
       "      <td>foot</td>\n",
       "      <td>Fuß</td>\n",
       "    </tr>\n",
       "    <tr>\n",
       "      <th>18</th>\n",
       "      <td>Deutsch: \"Sand\" - Français: \"sable\"\\nDeutsch: ...</td>\n",
       "      <td>[288, 29877, 272, 470]</td>\n",
       "      <td>or</td>\n",
       "      <td>[748, 7684, 330, 1484, 29887, 15192]</td>\n",
       "      <td>gold</td>\n",
       "      <td>Gold</td>\n",
       "    </tr>\n",
       "    <tr>\n",
       "      <th>19</th>\n",
       "      <td>Deutsch: \"Welle\" - Français: \"onde\"\\nDeutsch: ...</td>\n",
       "      <td>[772, 1971, 1277, 1129, 637, 282, 14931, 29886...</td>\n",
       "      <td>porte</td>\n",
       "      <td>[437, 3050, 1867, 17433, 29881, 270]</td>\n",
       "      <td>door</td>\n",
       "      <td>Tür</td>\n",
       "    </tr>\n",
       "    <tr>\n",
       "      <th>20</th>\n",
       "      <td>Deutsch: \"Geschichte\" - Français: \"histoire\"\\n...</td>\n",
       "      <td>[452, 302, 12106, 29876, 484]</td>\n",
       "      <td>neige</td>\n",
       "      <td>[5807, 29879, 269, 15007, 16586]</td>\n",
       "      <td>snow</td>\n",
       "      <td>Schnee</td>\n",
       "    </tr>\n",
       "    <tr>\n",
       "      <th>21</th>\n",
       "      <td>Deutsch: \"Schwanz\" - Français: \"queue\"\\nDeutsc...</td>\n",
       "      <td>[305, 29883, 25042, 1173, 29823, 521, 923, 274]</td>\n",
       "      <td>cheval</td>\n",
       "      <td>[5089, 4029, 11231, 10435, 29882, 2015, 1251, ...</td>\n",
       "      <td>horse</td>\n",
       "      <td>Pferd</td>\n",
       "    </tr>\n",
       "    <tr>\n",
       "      <th>22</th>\n",
       "      <td>Deutsch: \"Quadrat\" - Français: \"carré\"\\nDeutsc...</td>\n",
       "      <td>[348, 443, 318, 29884]</td>\n",
       "      <td>un</td>\n",
       "      <td>[288, 373, 697, 29877, 265, 650]</td>\n",
       "      <td>one</td>\n",
       "      <td>eins</td>\n",
       "    </tr>\n",
       "    <tr>\n",
       "      <th>23</th>\n",
       "      <td>Deutsch: \"Haushalt\" - Français: \"ménage\"\\nDeut...</td>\n",
       "      <td>[311, 316, 29881, 270, 4239]</td>\n",
       "      <td>deux</td>\n",
       "      <td>[7516, 1023, 260, 29873, 3252, 10184]</td>\n",
       "      <td>two</td>\n",
       "      <td>zwei</td>\n",
       "    </tr>\n",
       "    <tr>\n",
       "      <th>24</th>\n",
       "      <td>Deutsch: \"Wort\" - Français: \"mot\"\\nDeutsch: \"a...</td>\n",
       "      <td>[339, 439, 12134, 21408, 3855, 29939]</td>\n",
       "      <td>quatre</td>\n",
       "      <td>[3023, 1701, 285, 29888, 17823, 1181, 12584]</td>\n",
       "      <td>four</td>\n",
       "      <td>vier</td>\n",
       "    </tr>\n",
       "    <tr>\n",
       "      <th>25</th>\n",
       "      <td>Deutsch: \"Turm\" - Français: \"tour\"\\nDeutsch: \"...</td>\n",
       "      <td>[4670, 29883, 17256, 274, 16381, 455, 4583]</td>\n",
       "      <td>cinq</td>\n",
       "      <td>[5713, 5320, 7241, 285, 20818, 29888]</td>\n",
       "      <td>five</td>\n",
       "      <td>fünf</td>\n",
       "    </tr>\n",
       "    <tr>\n",
       "      <th>26</th>\n",
       "      <td>Deutsch: \"Büro\" - Français: \"bureau\"\\nDeutsch:...</td>\n",
       "      <td>[29882, 15669, 27052, 22888, 298, 6905]</td>\n",
       "      <td>huit</td>\n",
       "      <td>[321, 29872, 9475, 29319, 10096, 15761]</td>\n",
       "      <td>eight</td>\n",
       "      <td>acht</td>\n",
       "    </tr>\n",
       "    <tr>\n",
       "      <th>27</th>\n",
       "      <td>Deutsch: \"Sand\" - Français: \"sable\"\\nDeutsch: ...</td>\n",
       "      <td>[652, 23386, 29881, 6051, 270]</td>\n",
       "      <td>dix</td>\n",
       "      <td>[260, 734, 3006, 841, 29873, 371]</td>\n",
       "      <td>ten</td>\n",
       "      <td>zehn</td>\n",
       "    </tr>\n",
       "    <tr>\n",
       "      <th>28</th>\n",
       "      <td>Deutsch: \"Quadrat\" - Français: \"carré\"\\nDeutsc...</td>\n",
       "      <td>[260, 17949, 29873]</td>\n",
       "      <td>tête</td>\n",
       "      <td>[540, 354, 29882, 2813, 2343, 298]</td>\n",
       "      <td>head</td>\n",
       "      <td>Kopf</td>\n",
       "    </tr>\n",
       "    <tr>\n",
       "      <th>29</th>\n",
       "      <td>Deutsch: \"Wolke\" - Français: \"nuage\"\\nDeutsch:...</td>\n",
       "      <td>[9892, 2571, 9922, 2291, 289, 3719, 29890, 276...</td>\n",
       "      <td>bande</td>\n",
       "      <td>[851, 17010, 303, 29879, 269, 10076, 380, 1782...</td>\n",
       "      <td>strip</td>\n",
       "      <td>Streifen</td>\n",
       "    </tr>\n",
       "    <tr>\n",
       "      <th>30</th>\n",
       "      <td>Deutsch: \"Fuß\" - Français: \"pied\"\\nDeutsch: \"G...</td>\n",
       "      <td>[582, 16014, 364, 5796, 29878]</td>\n",
       "      <td>rue</td>\n",
       "      <td>[851, 303, 29879, 29352, 269, 380, 11952, 1224...</td>\n",
       "      <td>street</td>\n",
       "      <td>Straße</td>\n",
       "    </tr>\n",
       "    <tr>\n",
       "      <th>31</th>\n",
       "      <td>Deutsch: \"Boden\" - Français: \"sol\"\\nDeutsch: \"...</td>\n",
       "      <td>[30106]</td>\n",
       "      <td>œil</td>\n",
       "      <td>[321, 10977, 1032, 29872]</td>\n",
       "      <td>eye</td>\n",
       "      <td>Auge</td>\n",
       "    </tr>\n",
       "    <tr>\n",
       "      <th>32</th>\n",
       "      <td>Deutsch: \"Kind\" - Français: \"enfant\"\\nDeutsch:...</td>\n",
       "      <td>[305, 29883, 10329, 5815, 18480, 11179, 521, 274]</td>\n",
       "      <td>champ</td>\n",
       "      <td>[5713, 1746, 7241, 29607, 285, 29888, 2671]</td>\n",
       "      <td>field</td>\n",
       "      <td>Feld</td>\n",
       "    </tr>\n",
       "    <tr>\n",
       "      <th>33</th>\n",
       "      <td>Deutsch: \"Plattform\" - Français: \"plate-forme\"...</td>\n",
       "      <td>[14817, 4346, 3184, 29885, 2730, 286]</td>\n",
       "      <td>mot</td>\n",
       "      <td>[281, 8879, 1734, 1742, 827, 29893, 6365, 13762]</td>\n",
       "      <td>word</td>\n",
       "      <td>Wort</td>\n",
       "    </tr>\n",
       "    <tr>\n",
       "      <th>34</th>\n",
       "      <td>Deutsch: \"Pferd\" - Français: \"cheval\"\\nDeutsch...</td>\n",
       "      <td>[29885, 3533, 2460, 23853, 2316, 286, 19958, 3...</td>\n",
       "      <td>mille</td>\n",
       "      <td>[386, 266, 7693, 260, 12595, 29873, 10405]</td>\n",
       "      <td>thousand</td>\n",
       "      <td>tausend</td>\n",
       "    </tr>\n",
       "    <tr>\n",
       "      <th>35</th>\n",
       "      <td>Deutsch: \"Hand\" - Français: \"main\"\\nDeutsch: \"...</td>\n",
       "      <td>[16380, 289, 6526, 29890, 1045, 833]</td>\n",
       "      <td>bourse</td>\n",
       "      <td>[429, 321, 5566, 14523, 29872, 735, 6543]</td>\n",
       "      <td>exchange</td>\n",
       "      <td>Börse</td>\n",
       "    </tr>\n",
       "    <tr>\n",
       "      <th>36</th>\n",
       "      <td>Deutsch: \"Mutter\" - Français: \"mère\"\\nDeutsch:...</td>\n",
       "      <td>[479, 1885, 1737, 330, 16151, 29887, 2531]</td>\n",
       "      <td>genre</td>\n",
       "      <td>[29895, 8506, 2924, 14380, 9089, 19015, 413, 1...</td>\n",
       "      <td>kind</td>\n",
       "      <td>Art</td>\n",
       "    </tr>\n",
       "    <tr>\n",
       "      <th>37</th>\n",
       "      <td>Deutsch: \"Wort\" - Français: \"mot\"\\nDeutsch: \"F...</td>\n",
       "      <td>[904, 29948, 4582, 24618]</td>\n",
       "      <td>école</td>\n",
       "      <td>[1364, 3762, 29879, 269, 816, 885, 27041, 1557]</td>\n",
       "      <td>school</td>\n",
       "      <td>Schule</td>\n",
       "    </tr>\n",
       "    <tr>\n",
       "      <th>38</th>\n",
       "      <td>Deutsch: \"Osten\" - Français: \"est\"\\nDeutsch: \"...</td>\n",
       "      <td>[29883, 7283, 26844, 2181, 12220, 274]</td>\n",
       "      <td>cravate</td>\n",
       "      <td>[22134, 19538, 260, 29873, 2034]</td>\n",
       "      <td>tie</td>\n",
       "      <td>Krawatte</td>\n",
       "    </tr>\n",
       "    <tr>\n",
       "      <th>39</th>\n",
       "      <td>Deutsch: \"Haus\" - Français: \"maison\"\\nDeutsch:...</td>\n",
       "      <td>[3516, 325, 29894, 1998, 1730, 1403]</td>\n",
       "      <td>visage</td>\n",
       "      <td>[17470, 285, 29888, 3700, 2258, 2161, 5444, 4024]</td>\n",
       "      <td>face</td>\n",
       "      <td>Gesicht</td>\n",
       "    </tr>\n",
       "    <tr>\n",
       "      <th>40</th>\n",
       "      <td>Deutsch: \"Mund\" - Français: \"bouche\"\\nDeutsch:...</td>\n",
       "      <td>[772, 1129, 12509, 282, 29649, 13185, 29886, 1...</td>\n",
       "      <td>pont</td>\n",
       "      <td>[28635, 1506, 12945, 1182, 19515, 289, 29890, ...</td>\n",
       "      <td>bridge</td>\n",
       "      <td>Brücke</td>\n",
       "    </tr>\n",
       "    <tr>\n",
       "      <th>41</th>\n",
       "      <td>Deutsch: \"Wort\" - Français: \"mot\"\\nDeutsch: \"Z...</td>\n",
       "      <td>[19303, 29879, 480, 269, 12587, 13159, 2146, 1...</td>\n",
       "      <td>supprimer</td>\n",
       "      <td>[311, 316, 628, 29881, 6144, 8143, 5217, 7374,...</td>\n",
       "      <td>delete</td>\n",
       "      <td>löschen</td>\n",
       "    </tr>\n",
       "    <tr>\n",
       "      <th>42</th>\n",
       "      <td>Deutsch: \"Wort\" - Français: \"mot\"\\nDeutsch: \"B...</td>\n",
       "      <td>[18234, 3503, 5530, 655, 24402, 29885, 611, 286]</td>\n",
       "      <td>maison</td>\n",
       "      <td>[5089, 10774, 9261, 29882, 8697, 3699, 1251, 298]</td>\n",
       "      <td>house</td>\n",
       "      <td>Haus</td>\n",
       "    </tr>\n",
       "    <tr>\n",
       "      <th>43</th>\n",
       "      <td>Deutsch: \"Turm\" - Français: \"tour\"\\nDeutsch: \"...</td>\n",
       "      <td>[29883, 4287, 5777, 1113, 1559, 274]</td>\n",
       "      <td>carré</td>\n",
       "      <td>[29879, 269, 17619, 6862, 26613, 3044, 18074, ...</td>\n",
       "      <td>square</td>\n",
       "      <td>Quadrat</td>\n",
       "    </tr>\n",
       "    <tr>\n",
       "      <th>44</th>\n",
       "      <td>Deutsch: \"Sand\" - Français: \"sable\"\\nDeutsch: ...</td>\n",
       "      <td>[4909, 8441, 3516, 325, 29894, 11928, 1403, 42...</td>\n",
       "      <td>ville</td>\n",
       "      <td>[12690, 7537, 29883, 20752, 4272, 274, 455, 4583]</td>\n",
       "      <td>city</td>\n",
       "      <td>Stadt</td>\n",
       "    </tr>\n",
       "    <tr>\n",
       "      <th>45</th>\n",
       "      <td>Deutsch: \"Süden\" - Français: \"sud\"\\nDeutsch: \"...</td>\n",
       "      <td>[3516, 325, 13901, 29894, 1403]</td>\n",
       "      <td>vitesse</td>\n",
       "      <td>[1028, 29879, 805, 269, 6210, 961, 5965, 19322]</td>\n",
       "      <td>speed</td>\n",
       "      <td>Geschwindigkeit</td>\n",
       "    </tr>\n",
       "    <tr>\n",
       "      <th>46</th>\n",
       "      <td>Deutsch: \"Norden\" - Français: \"nord\"\\nDeutsch:...</td>\n",
       "      <td>[29879, 269, 577, 578, 899, 2929]</td>\n",
       "      <td>sol</td>\n",
       "      <td>[330, 4071, 29887, 2057, 5962, 17170, 867, 629]</td>\n",
       "      <td>ground</td>\n",
       "      <td>Boden</td>\n",
       "    </tr>\n",
       "    <tr>\n",
       "      <th>47</th>\n",
       "      <td>Deutsch: \"Schule\" - Français: \"école\"\\nDeutsch...</td>\n",
       "      <td>[12033, 260, 734, 3006, 841, 29873, 371]</td>\n",
       "      <td>tentative</td>\n",
       "      <td>[1131, 21609, 263, 4218, 271, 1098, 29874, 151...</td>\n",
       "      <td>attempt</td>\n",
       "      <td>Versuch</td>\n",
       "    </tr>\n",
       "    <tr>\n",
       "      <th>48</th>\n",
       "      <td>Deutsch: \"Schnee\" - Français: \"neige\"\\nDeutsch...</td>\n",
       "      <td>[339, 439, 9990, 9521, 802, 3855, 29939, 712]</td>\n",
       "      <td>queue</td>\n",
       "      <td>[260, 941, 18237, 29873, 12464, 11062]</td>\n",
       "      <td>tail</td>\n",
       "      <td>Schwanz</td>\n",
       "    </tr>\n",
       "    <tr>\n",
       "      <th>49</th>\n",
       "      <td>Deutsch: \"Gitter\" - Français: \"grille\"\\nDeutsc...</td>\n",
       "      <td>[2313, 652, 766, 17021, 29881, 6051, 2218, 270]</td>\n",
       "      <td>discours</td>\n",
       "      <td>[1028, 29879, 805, 269, 12032, 961, 5965]</td>\n",
       "      <td>speech</td>\n",
       "      <td>Rede</td>\n",
       "    </tr>\n",
       "    <tr>\n",
       "      <th>50</th>\n",
       "      <td>Deutsch: \"Mitte\" - Français: \"milieu\"\\nDeutsch...</td>\n",
       "      <td>[427, 321, 23578, 264, 29872, 12377]</td>\n",
       "      <td>enfant</td>\n",
       "      <td>[305, 29883, 18558, 5145, 521, 2278, 4161, 274]</td>\n",
       "      <td>child</td>\n",
       "      <td>Kind</td>\n",
       "    </tr>\n",
       "    <tr>\n",
       "      <th>51</th>\n",
       "      <td>Deutsch: \"drei\" - Français: \"trois\"\\nDeutsch: ...</td>\n",
       "      <td>[12031, 8774, 29885, 286]</td>\n",
       "      <td>ménage</td>\n",
       "      <td>[5089, 10774, 9261, 29882, 8697, 3699, 1251, 2...</td>\n",
       "      <td>household</td>\n",
       "      <td>Haushalt</td>\n",
       "    </tr>\n",
       "    <tr>\n",
       "      <th>52</th>\n",
       "      <td>Deutsch: \"drei\" - Français: \"trois\"\\nDeutsch: ...</td>\n",
       "      <td>[8399, 6866, 289, 2423, 29890, 1321]</td>\n",
       "      <td>bureau</td>\n",
       "      <td>[288, 1283, 310, 2696, 8034, 29877, 974, 20205...</td>\n",
       "      <td>office</td>\n",
       "      <td>Büro</td>\n",
       "    </tr>\n",
       "    <tr>\n",
       "      <th>53</th>\n",
       "      <td>Deutsch: \"Börse\" - Français: \"bourse\"\\nDeutsch...</td>\n",
       "      <td>[2350, 29882, 6208, 298, 447]</td>\n",
       "      <td>hausse</td>\n",
       "      <td>[5161, 10107, 3780, 374, 14451, 364, 29878]</td>\n",
       "      <td>rise</td>\n",
       "      <td>Anstieg</td>\n",
       "    </tr>\n",
       "    <tr>\n",
       "      <th>54</th>\n",
       "      <td>Deutsch: \"Licht\" - Français: \"lumière\"\\nDeutsc...</td>\n",
       "      <td>[13395, 330, 3249, 29887, 26003, 10364]</td>\n",
       "      <td>gauche</td>\n",
       "      <td>[25874, 1563, 29880, 2175, 454, 301, 280]</td>\n",
       "      <td>left</td>\n",
       "      <td>links</td>\n",
       "    </tr>\n",
       "    <tr>\n",
       "      <th>55</th>\n",
       "      <td>Deutsch: \"Beispiel\" - Français: \"exemple\"\\nDeu...</td>\n",
       "      <td>[904, 29948, 1893, 7342, 4370, 2852]</td>\n",
       "      <td>été</td>\n",
       "      <td>[11801, 29879, 480, 269, 22792, 2533, 2146, 2083]</td>\n",
       "      <td>summer</td>\n",
       "      <td>Sommer</td>\n",
       "    </tr>\n",
       "  </tbody>\n",
       "</table>\n",
       "</div>"
      ],
      "text/plain": [
       "                                               prompt  \\\n",
       "0   Deutsch: \"acht\" - Français: \"huit\"\\nDeutsch: \"...   \n",
       "1   Deutsch: \"Meer\" - Français: \"mer\"\\nDeutsch: \"T...   \n",
       "2   Deutsch: \"Sommer\" - Français: \"été\"\\nDeutsch: ...   \n",
       "3   Deutsch: \"Blume\" - Français: \"fleur\"\\nDeutsch:...   \n",
       "4   Deutsch: \"Haushalt\" - Français: \"ménage\"\\nDeut...   \n",
       "5   Deutsch: \"Krawatte\" - Français: \"cravate\"\\nDeu...   \n",
       "6   Deutsch: \"Straße\" - Français: \"rue\"\\nDeutsch: ...   \n",
       "7   Deutsch: \"Gesicht\" - Français: \"visage\"\\nDeuts...   \n",
       "8   Deutsch: \"Farbe\" - Français: \"couleur\"\\nDeutsc...   \n",
       "9   Deutsch: \"Kopf\" - Français: \"tête\"\\nDeutsch: \"...   \n",
       "10  Deutsch: \"Bahnhof\" - Français: \"gare\"\\nDeutsch...   \n",
       "11  Deutsch: \"Brücke\" - Français: \"pont\"\\nDeutsch:...   \n",
       "12  Deutsch: \"Fuß\" - Français: \"pied\"\\nDeutsch: \"B...   \n",
       "13  Deutsch: \"Auge\" - Français: \"œil\"\\nDeutsch: \"T...   \n",
       "14  Deutsch: \"Fuß\" - Français: \"pied\"\\nDeutsch: \"W...   \n",
       "15  Deutsch: \"Netz\" - Français: \"filet\"\\nDeutsch: ...   \n",
       "16  Deutsch: \"Auge\" - Français: \"œil\"\\nDeutsch: \"Z...   \n",
       "17  Deutsch: \"Haushalt\" - Français: \"ménage\"\\nDeut...   \n",
       "18  Deutsch: \"Sand\" - Français: \"sable\"\\nDeutsch: ...   \n",
       "19  Deutsch: \"Welle\" - Français: \"onde\"\\nDeutsch: ...   \n",
       "20  Deutsch: \"Geschichte\" - Français: \"histoire\"\\n...   \n",
       "21  Deutsch: \"Schwanz\" - Français: \"queue\"\\nDeutsc...   \n",
       "22  Deutsch: \"Quadrat\" - Français: \"carré\"\\nDeutsc...   \n",
       "23  Deutsch: \"Haushalt\" - Français: \"ménage\"\\nDeut...   \n",
       "24  Deutsch: \"Wort\" - Français: \"mot\"\\nDeutsch: \"a...   \n",
       "25  Deutsch: \"Turm\" - Français: \"tour\"\\nDeutsch: \"...   \n",
       "26  Deutsch: \"Büro\" - Français: \"bureau\"\\nDeutsch:...   \n",
       "27  Deutsch: \"Sand\" - Français: \"sable\"\\nDeutsch: ...   \n",
       "28  Deutsch: \"Quadrat\" - Français: \"carré\"\\nDeutsc...   \n",
       "29  Deutsch: \"Wolke\" - Français: \"nuage\"\\nDeutsch:...   \n",
       "30  Deutsch: \"Fuß\" - Français: \"pied\"\\nDeutsch: \"G...   \n",
       "31  Deutsch: \"Boden\" - Français: \"sol\"\\nDeutsch: \"...   \n",
       "32  Deutsch: \"Kind\" - Français: \"enfant\"\\nDeutsch:...   \n",
       "33  Deutsch: \"Plattform\" - Français: \"plate-forme\"...   \n",
       "34  Deutsch: \"Pferd\" - Français: \"cheval\"\\nDeutsch...   \n",
       "35  Deutsch: \"Hand\" - Français: \"main\"\\nDeutsch: \"...   \n",
       "36  Deutsch: \"Mutter\" - Français: \"mère\"\\nDeutsch:...   \n",
       "37  Deutsch: \"Wort\" - Français: \"mot\"\\nDeutsch: \"F...   \n",
       "38  Deutsch: \"Osten\" - Français: \"est\"\\nDeutsch: \"...   \n",
       "39  Deutsch: \"Haus\" - Français: \"maison\"\\nDeutsch:...   \n",
       "40  Deutsch: \"Mund\" - Français: \"bouche\"\\nDeutsch:...   \n",
       "41  Deutsch: \"Wort\" - Français: \"mot\"\\nDeutsch: \"Z...   \n",
       "42  Deutsch: \"Wort\" - Français: \"mot\"\\nDeutsch: \"B...   \n",
       "43  Deutsch: \"Turm\" - Français: \"tour\"\\nDeutsch: \"...   \n",
       "44  Deutsch: \"Sand\" - Français: \"sable\"\\nDeutsch: ...   \n",
       "45  Deutsch: \"Süden\" - Français: \"sud\"\\nDeutsch: \"...   \n",
       "46  Deutsch: \"Norden\" - Français: \"nord\"\\nDeutsch:...   \n",
       "47  Deutsch: \"Schule\" - Français: \"école\"\\nDeutsch...   \n",
       "48  Deutsch: \"Schnee\" - Français: \"neige\"\\nDeutsch...   \n",
       "49  Deutsch: \"Gitter\" - Français: \"grille\"\\nDeutsc...   \n",
       "50  Deutsch: \"Mitte\" - Français: \"milieu\"\\nDeutsch...   \n",
       "51  Deutsch: \"drei\" - Français: \"trois\"\\nDeutsch: ...   \n",
       "52  Deutsch: \"drei\" - Français: \"trois\"\\nDeutsch: ...   \n",
       "53  Deutsch: \"Börse\" - Français: \"bourse\"\\nDeutsch...   \n",
       "54  Deutsch: \"Licht\" - Français: \"lumière\"\\nDeutsc...   \n",
       "55  Deutsch: \"Beispiel\" - Français: \"exemple\"\\nDeu...   \n",
       "\n",
       "                                         out_token_id out_token_str  \\\n",
       "0                            [3433, 302, 29876, 4948]         nuage   \n",
       "1                       [29879, 269, 7067, 4977, 872]           sac   \n",
       "2                      [16380, 289, 29890, 1045, 833]        bouche   \n",
       "3                                        [29883, 274]          cœur   \n",
       "4     [3396, 5530, 655, 1667, 24402, 29885, 611, 286]          main   \n",
       "5         [20551, 432, 2212, 2958, 29926, 8694, 8121]          jour   \n",
       "6                            [904, 29948, 1893, 2852]        étoile   \n",
       "7       [690, 18475, 29878, 1253, 337, 364, 276, 620]       ressort   \n",
       "8                     [8092, 25081, 29880, 301, 6092]          lune   \n",
       "9                      [23734, 289, 29890, 1045, 833]          bois   \n",
       "10   [305, 29883, 10329, 5815, 25875, 521, 5083, 274]       chanson   \n",
       "11                    [904, 29948, 1893, 28899, 2852]         étang   \n",
       "12          [288, 373, 29877, 898, 16504, 265, 13469]          onde   \n",
       "13                [330, 29887, 4071, 17170, 867, 629]        grotte   \n",
       "14                [592, 1004, 2778, 29885, 1050, 286]           mer   \n",
       "15       [330, 3249, 29887, 5397, 7171, 24816, 10364]          gare   \n",
       "16     [1777, 1445, 5713, 934, 7241, 285, 977, 29888]         filet   \n",
       "17       [1631, 12343, 2930, 282, 5036, 15957, 29886]          pied   \n",
       "18                             [288, 29877, 272, 470]            or   \n",
       "19  [772, 1971, 1277, 1129, 637, 282, 14931, 29886...         porte   \n",
       "20                      [452, 302, 12106, 29876, 484]         neige   \n",
       "21    [305, 29883, 25042, 1173, 29823, 521, 923, 274]        cheval   \n",
       "22                             [348, 443, 318, 29884]            un   \n",
       "23                       [311, 316, 29881, 270, 4239]          deux   \n",
       "24              [339, 439, 12134, 21408, 3855, 29939]        quatre   \n",
       "25        [4670, 29883, 17256, 274, 16381, 455, 4583]          cinq   \n",
       "26            [29882, 15669, 27052, 22888, 298, 6905]          huit   \n",
       "27                     [652, 23386, 29881, 6051, 270]           dix   \n",
       "28                                [260, 17949, 29873]          tête   \n",
       "29  [9892, 2571, 9922, 2291, 289, 3719, 29890, 276...         bande   \n",
       "30                     [582, 16014, 364, 5796, 29878]           rue   \n",
       "31                                            [30106]           œil   \n",
       "32  [305, 29883, 10329, 5815, 18480, 11179, 521, 274]         champ   \n",
       "33              [14817, 4346, 3184, 29885, 2730, 286]           mot   \n",
       "34  [29885, 3533, 2460, 23853, 2316, 286, 19958, 3...         mille   \n",
       "35               [16380, 289, 6526, 29890, 1045, 833]        bourse   \n",
       "36         [479, 1885, 1737, 330, 16151, 29887, 2531]         genre   \n",
       "37                          [904, 29948, 4582, 24618]         école   \n",
       "38             [29883, 7283, 26844, 2181, 12220, 274]       cravate   \n",
       "39               [3516, 325, 29894, 1998, 1730, 1403]        visage   \n",
       "40  [772, 1129, 12509, 282, 29649, 13185, 29886, 1...          pont   \n",
       "41  [19303, 29879, 480, 269, 12587, 13159, 2146, 1...     supprimer   \n",
       "42   [18234, 3503, 5530, 655, 24402, 29885, 611, 286]        maison   \n",
       "43               [29883, 4287, 5777, 1113, 1559, 274]         carré   \n",
       "44  [4909, 8441, 3516, 325, 29894, 11928, 1403, 42...         ville   \n",
       "45                    [3516, 325, 13901, 29894, 1403]       vitesse   \n",
       "46                  [29879, 269, 577, 578, 899, 2929]           sol   \n",
       "47           [12033, 260, 734, 3006, 841, 29873, 371]     tentative   \n",
       "48      [339, 439, 9990, 9521, 802, 3855, 29939, 712]         queue   \n",
       "49    [2313, 652, 766, 17021, 29881, 6051, 2218, 270]      discours   \n",
       "50               [427, 321, 23578, 264, 29872, 12377]        enfant   \n",
       "51                          [12031, 8774, 29885, 286]        ménage   \n",
       "52               [8399, 6866, 289, 2423, 29890, 1321]        bureau   \n",
       "53                      [2350, 29882, 6208, 298, 447]        hausse   \n",
       "54            [13395, 330, 3249, 29887, 26003, 10364]        gauche   \n",
       "55               [904, 29948, 1893, 7342, 4370, 2852]           été   \n",
       "\n",
       "                                      latent_token_id latent_token_str  \\\n",
       "0   [15126, 1067, 29883, 9570, 9274, 23642, 695, 2...            cloud   \n",
       "1              [19548, 23156, 9922, 2291, 289, 29890]              bag   \n",
       "2       [29885, 29442, 13394, 4346, 21026, 2730, 286]            mouth   \n",
       "3           [23057, 540, 354, 5192, 29882, 8293, 298]            heart   \n",
       "4     [5905, 2350, 3179, 29882, 5403, 298, 447, 1361]             hand   \n",
       "5                [1146, 2462, 3250, 1388, 29881, 270]              day   \n",
       "6      [303, 29879, 269, 8508, 380, 9523, 5173, 5810]             star   \n",
       "7    [6709, 1028, 29879, 805, 269, 15099, 7689, 4278]           spring   \n",
       "8                     [18786, 4346, 29885, 2730, 286]             moon   \n",
       "9                 [281, 6115, 8879, 827, 8112, 29893]             wood   \n",
       "10    [29879, 4823, 269, 577, 1100, 578, 21453, 1487]             song   \n",
       "11         [772, 1129, 12509, 282, 2818, 29886, 1112]             pond   \n",
       "12            [281, 11324, 2766, 10742, 29893, 27766]             wave   \n",
       "13             [29883, 18346, 24230, 5777, 1113, 274]             cave   \n",
       "14                       [29879, 7205, 344, 409, 269]              sea   \n",
       "15  [1002, 29879, 303, 269, 23436, 19569, 5073, 38...          station   \n",
       "16                 [452, 302, 1212, 29876, 7787, 484]              net   \n",
       "17   [6661, 1701, 285, 29888, 5431, 3661, 7953, 1181]             foot   \n",
       "18               [748, 7684, 330, 1484, 29887, 15192]             gold   \n",
       "19               [437, 3050, 1867, 17433, 29881, 270]             door   \n",
       "20                   [5807, 29879, 269, 15007, 16586]             snow   \n",
       "21  [5089, 4029, 11231, 10435, 29882, 2015, 1251, ...            horse   \n",
       "22                   [288, 373, 697, 29877, 265, 650]              one   \n",
       "23              [7516, 1023, 260, 29873, 3252, 10184]              two   \n",
       "24       [3023, 1701, 285, 29888, 17823, 1181, 12584]             four   \n",
       "25              [5713, 5320, 7241, 285, 20818, 29888]             five   \n",
       "26            [321, 29872, 9475, 29319, 10096, 15761]            eight   \n",
       "27                  [260, 734, 3006, 841, 29873, 371]              ten   \n",
       "28                 [540, 354, 29882, 2813, 2343, 298]             head   \n",
       "29  [851, 17010, 303, 29879, 269, 10076, 380, 1782...            strip   \n",
       "30  [851, 303, 29879, 29352, 269, 380, 11952, 1224...           street   \n",
       "31                          [321, 10977, 1032, 29872]              eye   \n",
       "32        [5713, 1746, 7241, 29607, 285, 29888, 2671]            field   \n",
       "33   [281, 8879, 1734, 1742, 827, 29893, 6365, 13762]             word   \n",
       "34         [386, 266, 7693, 260, 12595, 29873, 10405]         thousand   \n",
       "35          [429, 321, 5566, 14523, 29872, 735, 6543]         exchange   \n",
       "36  [29895, 8506, 2924, 14380, 9089, 19015, 413, 1...             kind   \n",
       "37    [1364, 3762, 29879, 269, 816, 885, 27041, 1557]           school   \n",
       "38                   [22134, 19538, 260, 29873, 2034]              tie   \n",
       "39  [17470, 285, 29888, 3700, 2258, 2161, 5444, 4024]             face   \n",
       "40  [28635, 1506, 12945, 1182, 19515, 289, 29890, ...           bridge   \n",
       "41  [311, 316, 628, 29881, 6144, 8143, 5217, 7374,...           delete   \n",
       "42  [5089, 10774, 9261, 29882, 8697, 3699, 1251, 298]            house   \n",
       "43  [29879, 269, 17619, 6862, 26613, 3044, 18074, ...           square   \n",
       "44  [12690, 7537, 29883, 20752, 4272, 274, 455, 4583]             city   \n",
       "45    [1028, 29879, 805, 269, 6210, 961, 5965, 19322]            speed   \n",
       "46    [330, 4071, 29887, 2057, 5962, 17170, 867, 629]           ground   \n",
       "47  [1131, 21609, 263, 4218, 271, 1098, 29874, 151...          attempt   \n",
       "48             [260, 941, 18237, 29873, 12464, 11062]             tail   \n",
       "49          [1028, 29879, 805, 269, 12032, 961, 5965]           speech   \n",
       "50    [305, 29883, 18558, 5145, 521, 2278, 4161, 274]            child   \n",
       "51  [5089, 10774, 9261, 29882, 8697, 3699, 1251, 2...        household   \n",
       "52  [288, 1283, 310, 2696, 8034, 29877, 974, 20205...           office   \n",
       "53        [5161, 10107, 3780, 374, 14451, 364, 29878]             rise   \n",
       "54          [25874, 1563, 29880, 2175, 454, 301, 280]             left   \n",
       "55  [11801, 29879, 480, 269, 22792, 2533, 2146, 2083]           summer   \n",
       "\n",
       "       in_token_str  \n",
       "0             Wolke  \n",
       "1            Tasche  \n",
       "2              Mund  \n",
       "3              Herz  \n",
       "4              Hand  \n",
       "5               Tag  \n",
       "6             Stern  \n",
       "7             Feder  \n",
       "8              Mond  \n",
       "9              Holz  \n",
       "10             Lied  \n",
       "11            Teich  \n",
       "12            Welle  \n",
       "13            Höhle  \n",
       "14             Meer  \n",
       "15          Bahnhof  \n",
       "16             Netz  \n",
       "17              Fuß  \n",
       "18             Gold  \n",
       "19              Tür  \n",
       "20           Schnee  \n",
       "21            Pferd  \n",
       "22             eins  \n",
       "23             zwei  \n",
       "24             vier  \n",
       "25             fünf  \n",
       "26             acht  \n",
       "27             zehn  \n",
       "28             Kopf  \n",
       "29         Streifen  \n",
       "30           Straße  \n",
       "31             Auge  \n",
       "32             Feld  \n",
       "33             Wort  \n",
       "34          tausend  \n",
       "35            Börse  \n",
       "36              Art  \n",
       "37           Schule  \n",
       "38         Krawatte  \n",
       "39          Gesicht  \n",
       "40           Brücke  \n",
       "41          löschen  \n",
       "42             Haus  \n",
       "43          Quadrat  \n",
       "44            Stadt  \n",
       "45  Geschwindigkeit  \n",
       "46            Boden  \n",
       "47          Versuch  \n",
       "48          Schwanz  \n",
       "49             Rede  \n",
       "50             Kind  \n",
       "51         Haushalt  \n",
       "52             Büro  \n",
       "53          Anstieg  \n",
       "54            links  \n",
       "55           Sommer  "
      ]
     },
     "execution_count": 13,
     "metadata": {},
     "output_type": "execute_result"
    }
   ],
   "source": [
    "df"
   ]
  },
  {
   "cell_type": "code",
   "execution_count": 14,
   "id": "94fa55b7",
   "metadata": {
    "execution": {
     "iopub.execute_input": "2024-02-23T16:04:50.964421Z",
     "iopub.status.busy": "2024-02-23T16:04:50.964248Z",
     "iopub.status.idle": "2024-02-23T16:04:50.996864Z",
     "shell.execute_reply": "2024-02-23T16:04:50.996417Z"
    },
    "papermill": {
     "duration": 0.041835,
     "end_time": "2024-02-23T16:04:50.998134",
     "exception": false,
     "start_time": "2024-02-23T16:04:50.956299",
     "status": "completed"
    },
    "tags": []
   },
   "outputs": [],
   "source": [
    "def get_logits(model, prompt,lens):\n",
    "    inputs = tokenizer(prompt, return_tensors=\"pt\").to('cuda')\n",
    "    output = llama(inputs.input_ids, output_hidden_states=True)\n",
    "    hidden_states = output.hidden_states[:-1]\n",
    "    final_lps = output.logits.log_softmax(dim=-1)\n",
    "    tensors=[]\n",
    "    for i in range(32):\n",
    "        h = hidden_states[i].squeeze(0)\n",
    "        tensors+=[lens(h, idx=i).detach().cpu()]\n",
    "    tensors= torch.stack(tensors)  \n",
    "    hidden_states = torch.stack(hidden_states).squeeze(1).detach().cpu()\n",
    "    return tensors,hidden_states\n",
    "        "
   ]
  },
  {
   "cell_type": "code",
   "execution_count": 15,
   "id": "25241c49",
   "metadata": {
    "execution": {
     "iopub.execute_input": "2024-02-23T16:04:51.014470Z",
     "iopub.status.busy": "2024-02-23T16:04:51.014335Z",
     "iopub.status.idle": "2024-02-23T16:05:00.778776Z",
     "shell.execute_reply": "2024-02-23T16:05:00.778022Z"
    },
    "papermill": {
     "duration": 9.773662,
     "end_time": "2024-02-23T16:05:00.779844",
     "exception": false,
     "start_time": "2024-02-23T16:04:51.006182",
     "status": "completed"
    },
    "tags": []
   },
   "outputs": [
    {
     "name": "stderr",
     "output_type": "stream",
     "text": [
      "\r",
      "0it [00:00, ?it/s]"
     ]
    },
    {
     "name": "stderr",
     "output_type": "stream",
     "text": [
      "\r",
      "1it [00:00,  1.22it/s]"
     ]
    },
    {
     "name": "stderr",
     "output_type": "stream",
     "text": [
      "\r",
      "2it [00:00,  2.27it/s]"
     ]
    },
    {
     "name": "stderr",
     "output_type": "stream",
     "text": [
      "\r",
      "3it [00:01,  3.05it/s]"
     ]
    },
    {
     "name": "stderr",
     "output_type": "stream",
     "text": [
      "\r",
      "4it [00:01,  3.64it/s]"
     ]
    },
    {
     "name": "stderr",
     "output_type": "stream",
     "text": [
      "\r",
      "5it [00:01,  4.17it/s]"
     ]
    },
    {
     "name": "stderr",
     "output_type": "stream",
     "text": [
      "\r",
      "6it [00:01,  4.77it/s]"
     ]
    },
    {
     "name": "stderr",
     "output_type": "stream",
     "text": [
      "\r",
      "7it [00:01,  4.99it/s]"
     ]
    },
    {
     "name": "stderr",
     "output_type": "stream",
     "text": [
      "\r",
      "8it [00:02,  5.13it/s]"
     ]
    },
    {
     "name": "stderr",
     "output_type": "stream",
     "text": [
      "\r",
      "9it [00:02,  5.23it/s]"
     ]
    },
    {
     "name": "stderr",
     "output_type": "stream",
     "text": [
      "\r",
      "10it [00:02,  5.24it/s]"
     ]
    },
    {
     "name": "stderr",
     "output_type": "stream",
     "text": [
      "\r",
      "11it [00:02,  5.49it/s]"
     ]
    },
    {
     "name": "stderr",
     "output_type": "stream",
     "text": [
      "\r",
      "12it [00:02,  5.33it/s]"
     ]
    },
    {
     "name": "stderr",
     "output_type": "stream",
     "text": [
      "\r",
      "13it [00:03,  5.28it/s]"
     ]
    },
    {
     "name": "stderr",
     "output_type": "stream",
     "text": [
      "\r",
      "14it [00:03,  5.25it/s]"
     ]
    },
    {
     "name": "stderr",
     "output_type": "stream",
     "text": [
      "\r",
      "15it [00:03,  4.91it/s]"
     ]
    },
    {
     "name": "stderr",
     "output_type": "stream",
     "text": [
      "\r",
      "16it [00:03,  4.80it/s]"
     ]
    },
    {
     "name": "stderr",
     "output_type": "stream",
     "text": [
      "\r",
      "17it [00:03,  5.18it/s]"
     ]
    },
    {
     "name": "stderr",
     "output_type": "stream",
     "text": [
      "\r",
      "18it [00:03,  5.22it/s]"
     ]
    },
    {
     "name": "stderr",
     "output_type": "stream",
     "text": [
      "\r",
      "19it [00:04,  5.45it/s]"
     ]
    },
    {
     "name": "stderr",
     "output_type": "stream",
     "text": [
      "\r",
      "20it [00:04,  5.60it/s]"
     ]
    },
    {
     "name": "stderr",
     "output_type": "stream",
     "text": [
      "\r",
      "21it [00:04,  5.87it/s]"
     ]
    },
    {
     "name": "stderr",
     "output_type": "stream",
     "text": [
      "\r",
      "22it [00:04,  6.11it/s]"
     ]
    },
    {
     "name": "stderr",
     "output_type": "stream",
     "text": [
      "\r",
      "23it [00:04,  6.43it/s]"
     ]
    },
    {
     "name": "stderr",
     "output_type": "stream",
     "text": [
      "\r",
      "24it [00:04,  6.52it/s]"
     ]
    },
    {
     "name": "stderr",
     "output_type": "stream",
     "text": [
      "\r",
      "25it [00:05,  6.81it/s]"
     ]
    },
    {
     "name": "stderr",
     "output_type": "stream",
     "text": [
      "\r",
      "26it [00:05,  6.97it/s]"
     ]
    },
    {
     "name": "stderr",
     "output_type": "stream",
     "text": [
      "\r",
      "27it [00:05,  7.11it/s]"
     ]
    },
    {
     "name": "stderr",
     "output_type": "stream",
     "text": [
      "\r",
      "28it [00:05,  7.19it/s]"
     ]
    },
    {
     "name": "stderr",
     "output_type": "stream",
     "text": [
      "\r",
      "29it [00:05,  7.13it/s]"
     ]
    },
    {
     "name": "stderr",
     "output_type": "stream",
     "text": [
      "\r",
      "30it [00:05,  7.19it/s]"
     ]
    },
    {
     "name": "stderr",
     "output_type": "stream",
     "text": [
      "\r",
      "31it [00:05,  7.16it/s]"
     ]
    },
    {
     "name": "stderr",
     "output_type": "stream",
     "text": [
      "\r",
      "32it [00:06,  7.17it/s]"
     ]
    },
    {
     "name": "stderr",
     "output_type": "stream",
     "text": [
      "\r",
      "33it [00:06,  7.18it/s]"
     ]
    },
    {
     "name": "stderr",
     "output_type": "stream",
     "text": [
      "\r",
      "34it [00:06,  7.11it/s]"
     ]
    },
    {
     "name": "stderr",
     "output_type": "stream",
     "text": [
      "\r",
      "35it [00:06,  7.00it/s]"
     ]
    },
    {
     "name": "stderr",
     "output_type": "stream",
     "text": [
      "\r",
      "36it [00:06,  7.02it/s]"
     ]
    },
    {
     "name": "stderr",
     "output_type": "stream",
     "text": [
      "\r",
      "37it [00:06,  7.05it/s]"
     ]
    },
    {
     "name": "stderr",
     "output_type": "stream",
     "text": [
      "\r",
      "38it [00:06,  7.05it/s]"
     ]
    },
    {
     "name": "stderr",
     "output_type": "stream",
     "text": [
      "\r",
      "39it [00:07,  7.07it/s]"
     ]
    },
    {
     "name": "stderr",
     "output_type": "stream",
     "text": [
      "\r",
      "40it [00:07,  6.80it/s]"
     ]
    },
    {
     "name": "stderr",
     "output_type": "stream",
     "text": [
      "\r",
      "41it [00:07,  6.81it/s]"
     ]
    },
    {
     "name": "stderr",
     "output_type": "stream",
     "text": [
      "\r",
      "42it [00:07,  6.89it/s]"
     ]
    },
    {
     "name": "stderr",
     "output_type": "stream",
     "text": [
      "\r",
      "43it [00:07,  6.97it/s]"
     ]
    },
    {
     "name": "stderr",
     "output_type": "stream",
     "text": [
      "\r",
      "44it [00:07,  6.99it/s]"
     ]
    },
    {
     "name": "stderr",
     "output_type": "stream",
     "text": [
      "\r",
      "45it [00:07,  7.00it/s]"
     ]
    },
    {
     "name": "stderr",
     "output_type": "stream",
     "text": [
      "\r",
      "46it [00:08,  6.82it/s]"
     ]
    },
    {
     "name": "stderr",
     "output_type": "stream",
     "text": [
      "\r",
      "47it [00:08,  6.85it/s]"
     ]
    },
    {
     "name": "stderr",
     "output_type": "stream",
     "text": [
      "\r",
      "48it [00:08,  6.90it/s]"
     ]
    },
    {
     "name": "stderr",
     "output_type": "stream",
     "text": [
      "\r",
      "49it [00:08,  6.93it/s]"
     ]
    },
    {
     "name": "stderr",
     "output_type": "stream",
     "text": [
      "\r",
      "50it [00:08,  6.94it/s]"
     ]
    },
    {
     "name": "stderr",
     "output_type": "stream",
     "text": [
      "\r",
      "51it [00:08,  6.38it/s]"
     ]
    },
    {
     "name": "stderr",
     "output_type": "stream",
     "text": [
      "\r",
      "52it [00:09,  5.68it/s]"
     ]
    },
    {
     "name": "stderr",
     "output_type": "stream",
     "text": [
      "\r",
      "53it [00:09,  5.72it/s]"
     ]
    },
    {
     "name": "stderr",
     "output_type": "stream",
     "text": [
      "\r",
      "54it [00:09,  5.76it/s]"
     ]
    },
    {
     "name": "stderr",
     "output_type": "stream",
     "text": [
      "\r",
      "55it [00:09,  5.56it/s]"
     ]
    },
    {
     "name": "stderr",
     "output_type": "stream",
     "text": [
      "\r",
      "56it [00:09,  5.67it/s]"
     ]
    },
    {
     "name": "stderr",
     "output_type": "stream",
     "text": [
      "\r",
      "56it [00:09,  5.76it/s]"
     ]
    },
    {
     "name": "stderr",
     "output_type": "stream",
     "text": [
      "\n"
     ]
    }
   ],
   "source": [
    "in_token_probs = []\n",
    "latent_token_probs = []\n",
    "out_token_probs = []\n",
    "entropy = []\n",
    "energy = []\n",
    "latents_all = []\n",
    "\n",
    "for idx, d in tqdm(enumerate(dataset)):\n",
    "    logits,latents = get_logits(llama, d['prompt'],llama_lens)\n",
    "    last = logits[:, -1, :].float().softmax(dim=-1).detach().cpu()\n",
    "    latent_token_probs += [last[:, torch.tensor(d['latent_token_id'])].sum(dim=-1)]\n",
    "    out_token_probs += [last[:, torch.tensor(d['out_token_id'])].sum(dim=-1)]\n",
    "    entropy += [compute_entropy(last)]\n",
    "    latents_all += [latents[:, -1, :].float().detach().cpu().clone()]\n",
    "    latents_normalized = latents[:, -1, :].float()\n",
    "    latents_normalized = latents_normalized / (((latents_normalized**2).mean(dim=-1, keepdim=True))**0.5)\n",
    "    latents_normalized /= (latents_normalized.norm(dim=-1, keepdim=True))\n",
    "    norm = ((U_normalized @ latents_normalized.T)**2).mean(dim=0)**0.5\n",
    "    energy += [norm/avgUU]\n",
    "\n",
    "latent_token_probs = torch.stack(latent_token_probs)\n",
    "out_token_probs = torch.stack(out_token_probs)\n",
    "entropy = torch.stack(entropy)\n",
    "energy = torch.stack(energy)\n",
    "latents = torch.stack(latents_all)"
   ]
  },
  {
   "cell_type": "code",
   "execution_count": 16,
   "id": "680ef0b2",
   "metadata": {
    "execution": {
     "iopub.execute_input": "2024-02-23T16:05:00.802205Z",
     "iopub.status.busy": "2024-02-23T16:05:00.801758Z",
     "iopub.status.idle": "2024-02-23T16:05:01.139359Z",
     "shell.execute_reply": "2024-02-23T16:05:01.138811Z"
    },
    "papermill": {
     "duration": 0.3488,
     "end_time": "2024-02-23T16:05:01.140151",
     "exception": false,
     "start_time": "2024-02-23T16:05:00.791351",
     "status": "completed"
    },
    "tags": []
   },
   "outputs": [
    {
     "name": "stderr",
     "output_type": "stream",
     "text": [
      "/mnt/ssd-1/gpaulo/llm-latent-language/utils.py:52: UserWarning: This figure includes Axes that are not compatible with tight_layout, so results might be incorrect.\n",
      "  plt.tight_layout()\n"
     ]
    },
    {
     "data": {
      "image/png": "[encoded data removed]",
      "text/plain": [
       "<Figure size 500x300 with 3 Axes>"
      ]
     },
     "metadata": {},
     "output_type": "display_data"
    }
   ],
   "source": [
    "size2tik = {'7b': 5, '13b': 5, '70b': 10}\n",
    "fig, ax, ax2 = plot_ci_plus_heatmap(latent_token_probs, entropy, latent, color='tab:orange', tik_step=size2tik[model_size], do_colorbar=True, #, do_colorbar=(model_size=='70b'),\n",
    "nums=[.99, 0.18, 0.025, 0.6])\n",
    "plot_ci(ax2, out_token_probs, target_lang, color='tab:blue', do_lines=False)\n",
    "ax2.set_xlabel('layer')\n",
    "ax2.set_ylabel('probability')\n",
    "if model_size == '7b':\n",
    "    ax2.set_xlim(0, out_token_probs.shape[1]+1)\n",
    "else:\n",
    "    ax2.set_xlim(0, round(out_token_probs.shape[1]/10)*10+1)\n",
    "ax2.set_ylim(0, 1)\n",
    "# make xticks start from 1\n",
    "# put legend on the top left\n",
    "ax2.legend(loc='upper left')\n",
    "os.makedirs(f'{out_dir}/translation', exist_ok=True)\n",
    "\n",
    "plt.savefig(f'{out_dir}/translation/{model_size}_{input_lang}_{target_lang}_probas_ent.jpg', dpi=300, bbox_inches='tight')"
   ]
  },
  {
   "cell_type": "code",
   "execution_count": 17,
   "id": "48c50e4a",
   "metadata": {
    "execution": {
     "iopub.execute_input": "2024-02-23T16:05:01.161783Z",
     "iopub.status.busy": "2024-02-23T16:05:01.161310Z",
     "iopub.status.idle": "2024-02-23T16:05:01.314867Z",
     "shell.execute_reply": "2024-02-23T16:05:01.314407Z"
    },
    "papermill": {
     "duration": 0.16475,
     "end_time": "2024-02-23T16:05:01.315667",
     "exception": false,
     "start_time": "2024-02-23T16:05:01.150917",
     "status": "completed"
    },
    "tags": []
   },
   "outputs": [
    {
     "data": {
      "image/png": "[encoded data removed]",
      "text/plain": [
       "<Figure size 500x300 with 1 Axes>"
      ]
     },
     "metadata": {},
     "output_type": "display_data"
    }
   ],
   "source": [
    "size2tik = {'7b': 5, '13b': 5, '70b': 10}\n",
    "\n",
    "fig, ax2 = plt.subplots(figsize=(5,3))\n",
    "plot_ci(ax2, energy, 'energy', color='tab:green', do_lines=True, tik_step=size2tik[model_size])\n",
    "ax2.set_xlabel('layer')\n",
    "ax2.set_ylabel('energy')\n",
    "if model_size == '7b':\n",
    "    ax2.set_xlim(0, out_token_probs.shape[1]+1)\n",
    "else:\n",
    "    ax2.set_xlim(0, round(out_token_probs.shape[1]/10)*10+1)\n",
    "os.makedirs(f'{out_dir}/translation', exist_ok=True)\n",
    "plt.savefig(f'{out_dir}/translation/{model_size}_{input_lang}_{target_lang}_energy.jpg', dpi=300, bbox_inches='tight')"
   ]
  },
  {
   "cell_type": "code",
   "execution_count": null,
   "id": "de0f66f1",
   "metadata": {
    "papermill": {
     "duration": 0.010076,
     "end_time": "2024-02-23T16:05:01.336997",
     "exception": false,
     "start_time": "2024-02-23T16:05:01.326921",
     "status": "completed"
    },
    "tags": []
   },
   "outputs": [],
   "source": []
  }
 ],
 "metadata": {
  "kernelspec": {
   "display_name": "Python 3 (ipykernel)",
   "language": "python",
   "name": "python3"
  },
  "language_info": {
   "codemirror_mode": {
    "name": "ipython",
    "version": 3
   },
   "file_extension": ".py",
   "mimetype": "text/x-python",
   "name": "python",
   "nbconvert_exporter": "python",
   "pygments_lexer": "ipython3",
   "version": "3.11.5"
  },
  "papermill": {
   "default_parameters": {},
   "duration": 42.845593,
   "end_time": "2024-02-23T16:05:02.665137",
   "environment_variables": {},
   "exception": null,
   "input_path": "Translation.ipynb",
   "output_path": "visuals/executed_notebooks/Translation_Logit_7b_de_fr.ipynb",
   "parameters": {
    "input_lang": "de",
    "model_size": "7b",
    "target_lang": "fr",
    "type": "logit"
   },
   "start_time": "2024-02-23T16:04:19.819544",
   "version": "2.5.0"
  },
  "widgets": {
   "application/vnd.jupyter.widget-state+json": {
    "state": {
     "1a3bf0f84fa54260ad696b03f7b2ba3a": {
      "model_module": "@jupyter-widgets/controls",
      "model_module_version": "2.0.0",
      "model_name": "FloatProgressModel",
      "state": {
       "_dom_classes": [],
       "_model_module": "@jupyter-widgets/controls",
       "_model_module_version": "2.0.0",
       "_model_name": "FloatProgressModel",
       "_view_count": null,
       "_view_module": "@jupyter-widgets/controls",
       "_view_module_version": "2.0.0",
       "_view_name": "ProgressView",
       "bar_style": "success",
       "description": "",
       "description_allow_html": false,
       "layout": "IPY_MODEL_29a22d6cf3a14de58c8f73e982c7dac7",
       "max": 2.0,
       "min": 0.0,
       "orientation": "horizontal",
       "style": "IPY_MODEL_6b87d59d9c5e4720b68c802d76cc1143",
       "tabbable": null,
       "tooltip": null,
       "value": 2.0
      }
     },
     "29a22d6cf3a14de58c8f73e982c7dac7": {
      "model_module": "@jupyter-widgets/base",
      "model_module_version": "2.0.0",
      "model_name": "LayoutModel",
      "state": {
       "_model_module": "@jupyter-widgets/base",
       "_model_module_version": "2.0.0",
       "_model_name": "LayoutModel",
       "_view_count": null,
       "_view_module": "@jupyter-widgets/base",
       "_view_module_version": "2.0.0",
       "_view_name": "LayoutView",
       "align_content": null,
       "align_items": null,
       "align_self": null,
       "border_bottom": null,
       "border_left": null,
       "border_right": null,
       "border_top": null,
       "bottom": null,
       "display": null,
       "flex": null,
       "flex_flow": null,
       "grid_area": null,
       "grid_auto_columns": null,
       "grid_auto_flow": null,
       "grid_auto_rows": null,
       "grid_column": null,
       "grid_gap": null,
       "grid_row": null,
       "grid_template_areas": null,
       "grid_template_columns": null,
       "grid_template_rows": null,
       "height": null,
       "justify_content": null,
       "justify_items": null,
       "left": null,
       "margin": null,
       "max_height": null,
       "max_width": null,
       "min_height": null,
       "min_width": null,
       "object_fit": null,
       "object_position": null,
       "order": null,
       "overflow": null,
       "padding": null,
       "right": null,
       "top": null,
       "visibility": null,
       "width": null
      }
     },
     "3fbd38dc7b724bc7bf8d4e803ea44a92": {
      "model_module": "@jupyter-widgets/controls",
      "model_module_version": "2.0.0",
      "model_name": "HTMLStyleModel",
      "state": {
       "_model_module": "@jupyter-widgets/controls",
       "_model_module_version": "2.0.0",
       "_model_name": "HTMLStyleModel",
       "_view_count": null,
       "_view_module": "@jupyter-widgets/base",
       "_view_module_version": "2.0.0",
       "_view_name": "StyleView",
       "background": null,
       "description_width": "",
       "font_size": null,
       "text_color": null
      }
     },
     "427b284673964d49ba33adc36e74d1eb": {
      "model_module": "@jupyter-widgets/base",
      "model_module_version": "2.0.0",
      "model_name": "LayoutModel",
      "state": {
       "_model_module": "@jupyter-widgets/base",
       "_model_module_version": "2.0.0",
       "_model_name": "LayoutModel",
       "_view_count": null,
       "_view_module": "@jupyter-widgets/base",
       "_view_module_version": "2.0.0",
       "_view_name": "LayoutView",
       "align_content": null,
       "align_items": null,
       "align_self": null,
       "border_bottom": null,
       "border_left": null,
       "border_right": null,
       "border_top": null,
       "bottom": null,
       "display": null,
       "flex": null,
       "flex_flow": null,
       "grid_area": null,
       "grid_auto_columns": null,
       "grid_auto_flow": null,
       "grid_auto_rows": null,
       "grid_column": null,
       "grid_gap": null,
       "grid_row": null,
       "grid_template_areas": null,
       "grid_template_columns": null,
       "grid_template_rows": null,
       "height": null,
       "justify_content": null,
       "justify_items": null,
       "left": null,
       "margin": null,
       "max_height": null,
       "max_width": null,
       "min_height": null,
       "min_width": null,
       "object_fit": null,
       "object_position": null,
       "order": null,
       "overflow": null,
       "padding": null,
       "right": null,
       "top": null,
       "visibility": null,
       "width": null
      }
     },
     "5b8536cb58c1447792bdfb33f52fefda": {
      "model_module": "@jupyter-widgets/controls",
      "model_module_version": "2.0.0",
      "model_name": "HTMLModel",
      "state": {
       "_dom_classes": [],
       "_model_module": "@jupyter-widgets/controls",
       "_model_module_version": "2.0.0",
       "_model_name": "HTMLModel",
       "_view_count": null,
       "_view_module": "@jupyter-widgets/controls",
       "_view_module_version": "2.0.0",
       "_view_name": "HTMLView",
       "description": "",
       "description_allow_html": false,
       "layout": "IPY_MODEL_614dd353194744838229295970bd7e8d",
       "placeholder": "​",
       "style": "IPY_MODEL_ca7e6a7165e64171ab8e964527780353",
       "tabbable": null,
       "tooltip": null,
       "value": "Loading checkpoint shards: 100%"
      }
     },
     "614dd353194744838229295970bd7e8d": {
      "model_module": "@jupyter-widgets/base",
      "model_module_version": "2.0.0",
      "model_name": "LayoutModel",
      "state": {
       "_model_module": "@jupyter-widgets/base",
       "_model_module_version": "2.0.0",
       "_model_name": "LayoutModel",
       "_view_count": null,
       "_view_module": "@jupyter-widgets/base",
       "_view_module_version": "2.0.0",
       "_view_name": "LayoutView",
       "align_content": null,
       "align_items": null,
       "align_self": null,
       "border_bottom": null,
       "border_left": null,
       "border_right": null,
       "border_top": null,
       "bottom": null,
       "display": null,
       "flex": null,
       "flex_flow": null,
       "grid_area": null,
       "grid_auto_columns": null,
       "grid_auto_flow": null,
       "grid_auto_rows": null,
       "grid_column": null,
       "grid_gap": null,
       "grid_row": null,
       "grid_template_areas": null,
       "grid_template_columns": null,
       "grid_template_rows": null,
       "height": null,
       "justify_content": null,
       "justify_items": null,
       "left": null,
       "margin": null,
       "max_height": null,
       "max_width": null,
       "min_height": null,
       "min_width": null,
       "object_fit": null,
       "object_position": null,
       "order": null,
       "overflow": null,
       "padding": null,
       "right": null,
       "top": null,
       "visibility": null,
       "width": null
      }
     },
     "6248de5d3d874317bc0d25aee391b06d": {
      "model_module": "@jupyter-widgets/controls",
      "model_module_version": "2.0.0",
      "model_name": "HBoxModel",
      "state": {
       "_dom_classes": [],
       "_model_module": "@jupyter-widgets/controls",
       "_model_module_version": "2.0.0",
       "_model_name": "HBoxModel",
       "_view_count": null,
       "_view_module": "@jupyter-widgets/controls",
       "_view_module_version": "2.0.0",
       "_view_name": "HBoxView",
       "box_style": "",
       "children": [
        "IPY_MODEL_5b8536cb58c1447792bdfb33f52fefda",
        "IPY_MODEL_1a3bf0f84fa54260ad696b03f7b2ba3a",
        "IPY_MODEL_fcbf325dae7245548c73cd98c945d30e"
       ],
       "layout": "IPY_MODEL_427b284673964d49ba33adc36e74d1eb",
       "tabbable": null,
       "tooltip": null
      }
     },
     "6b87d59d9c5e4720b68c802d76cc1143": {
      "model_module": "@jupyter-widgets/controls",
      "model_module_version": "2.0.0",
      "model_name": "ProgressStyleModel",
      "state": {
       "_model_module": "@jupyter-widgets/controls",
       "_model_module_version": "2.0.0",
       "_model_name": "ProgressStyleModel",
       "_view_count": null,
       "_view_module": "@jupyter-widgets/base",
       "_view_module_version": "2.0.0",
       "_view_name": "StyleView",
       "bar_color": null,
       "description_width": ""
      }
     },
     "b7660cf6526e412d9bf0e6f9101d66fd": {
      "model_module": "@jupyter-widgets/base",
      "model_module_version": "2.0.0",
      "model_name": "LayoutModel",
      "state": {
       "_model_module": "@jupyter-widgets/base",
       "_model_module_version": "2.0.0",
       "_model_name": "LayoutModel",
       "_view_count": null,
       "_view_module": "@jupyter-widgets/base",
       "_view_module_version": "2.0.0",
       "_view_name": "LayoutView",
       "align_content": null,
       "align_items": null,
       "align_self": null,
       "border_bottom": null,
       "border_left": null,
       "border_right": null,
       "border_top": null,
       "bottom": null,
       "display": null,
       "flex": null,
       "flex_flow": null,
       "grid_area": null,
       "grid_auto_columns": null,
       "grid_auto_flow": null,
       "grid_auto_rows": null,
       "grid_column": null,
       "grid_gap": null,
       "grid_row": null,
       "grid_template_areas": null,
       "grid_template_columns": null,
       "grid_template_rows": null,
       "height": null,
       "justify_content": null,
       "justify_items": null,
       "left": null,
       "margin": null,
       "max_height": null,
       "max_width": null,
       "min_height": null,
       "min_width": null,
       "object_fit": null,
       "object_position": null,
       "order": null,
       "overflow": null,
       "padding": null,
       "right": null,
       "top": null,
       "visibility": null,
       "width": null
      }
     },
     "ca7e6a7165e64171ab8e964527780353": {
      "model_module": "@jupyter-widgets/controls",
      "model_module_version": "2.0.0",
      "model_name": "HTMLStyleModel",
      "state": {
       "_model_module": "@jupyter-widgets/controls",
       "_model_module_version": "2.0.0",
       "_model_name": "HTMLStyleModel",
       "_view_count": null,
       "_view_module": "@jupyter-widgets/base",
       "_view_module_version": "2.0.0",
       "_view_name": "StyleView",
       "background": null,
       "description_width": "",
       "font_size": null,
       "text_color": null
      }
     },
     "fcbf325dae7245548c73cd98c945d30e": {
      "model_module": "@jupyter-widgets/controls",
      "model_module_version": "2.0.0",
      "model_name": "HTMLModel",
      "state": {
       "_dom_classes": [],
       "_model_module": "@jupyter-widgets/controls",
       "_model_module_version": "2.0.0",
       "_model_name": "HTMLModel",
       "_view_count": null,
       "_view_module": "@jupyter-widgets/controls",
       "_view_module_version": "2.0.0",
       "_view_name": "HTMLView",
       "description": "",
       "description_allow_html": false,
       "layout": "IPY_MODEL_b7660cf6526e412d9bf0e6f9101d66fd",
       "placeholder": "​",
       "style": "IPY_MODEL_3fbd38dc7b724bc7bf8d4e803ea44a92",
       "tabbable": null,
       "tooltip": null,
       "value": " 2/2 [00:04&lt;00:00,  2.13s/it]"
      }
     }
    },
    "version_major": 2,
    "version_minor": 0
   }
  }
 },
 "nbformat": 4,
 "nbformat_minor": 5
}