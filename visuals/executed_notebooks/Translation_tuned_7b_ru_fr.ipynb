{
 "cells": [
  {
   "cell_type": "code",
   "execution_count": 1,
   "id": "9e266eca-b017-461f-9be4-bec02cae9b28",
   "metadata": {
    "execution": {
     "iopub.execute_input": "2024-02-23T16:42:52.242334Z",
     "iopub.status.busy": "2024-02-23T16:42:52.242169Z",
     "iopub.status.idle": "2024-02-23T16:42:52.254404Z",
     "shell.execute_reply": "2024-02-23T16:42:52.254075Z"
    },
    "papermill": {
     "duration": 0.017979,
     "end_time": "2024-02-23T16:42:52.255348",
     "exception": false,
     "start_time": "2024-02-23T16:42:52.237369",
     "status": "completed"
    },
    "tags": []
   },
   "outputs": [],
   "source": [
    "%load_ext autoreload\n",
    "%autoreload 2"
   ]
  },
  {
   "cell_type": "code",
   "execution_count": 2,
   "id": "fae8a7a9-6902-424e-8e66-b107fccb361f",
   "metadata": {
    "execution": {
     "iopub.execute_input": "2024-02-23T16:42:52.262562Z",
     "iopub.status.busy": "2024-02-23T16:42:52.262404Z",
     "iopub.status.idle": "2024-02-23T16:42:55.222730Z",
     "shell.execute_reply": "2024-02-23T16:42:55.222125Z"
    },
    "papermill": {
     "duration": 2.965259,
     "end_time": "2024-02-23T16:42:55.224020",
     "exception": false,
     "start_time": "2024-02-23T16:42:52.258761",
     "status": "completed"
    },
    "tags": []
   },
   "outputs": [],
   "source": [
    "import pandas as pd\n",
    "import sys\n",
    "import os\n",
    "from dataclasses import dataclass\n",
    "import json\n",
    "import numpy as np\n",
    "from matplotlib import pyplot as plt\n",
    "import seaborn as sns\n",
    "import torch\n",
    "import torch.nn as nn\n",
    "from llamawrapper import load_unemb_only, LlamaHelper\n",
    "import seaborn as sns\n",
    "from scipy.stats import bootstrap\n",
    "from utils import plot_ci, plot_ci_plus_heatmap\n",
    "from tqdm import tqdm\n",
    "from transformers import AutoModelForCausalLM, AutoTokenizer\n",
    "# fix random seed\n",
    "seed = 42\n",
    "np.random.seed(seed)\n",
    "torch.manual_seed(seed)\n",
    "sys.path.append('../tuned-lens')\n",
    "from tuned_lens.nn.lenses import TunedLens,LogitLens"
   ]
  },
  {
   "cell_type": "code",
   "execution_count": 3,
   "id": "1fb93987",
   "metadata": {
    "execution": {
     "iopub.execute_input": "2024-02-23T16:42:55.233989Z",
     "iopub.status.busy": "2024-02-23T16:42:55.233381Z",
     "iopub.status.idle": "2024-02-23T16:42:55.268234Z",
     "shell.execute_reply": "2024-02-23T16:42:55.267790Z"
    },
    "papermill": {
     "duration": 0.040999,
     "end_time": "2024-02-23T16:42:55.269094",
     "exception": false,
     "start_time": "2024-02-23T16:42:55.228095",
     "status": "completed"
    },
    "tags": [
     "parameters"
    ]
   },
   "outputs": [],
   "source": [
    "input_lang = 'fr'\n",
    "target_lang = 'fr'\n",
    "model_size = '7b'\n",
    "prefix = \"./data/langs/\"\n",
    "type = 'logit'"
   ]
  },
  {
   "cell_type": "code",
   "execution_count": 4,
   "id": "f486f8d9",
   "metadata": {
    "execution": {
     "iopub.execute_input": "2024-02-23T16:42:55.277564Z",
     "iopub.status.busy": "2024-02-23T16:42:55.277083Z",
     "iopub.status.idle": "2024-02-23T16:42:55.310793Z",
     "shell.execute_reply": "2024-02-23T16:42:55.310311Z"
    },
    "papermill": {
     "duration": 0.038899,
     "end_time": "2024-02-23T16:42:55.311689",
     "exception": false,
     "start_time": "2024-02-23T16:42:55.272790",
     "status": "completed"
    },
    "tags": [
     "injected-parameters"
    ]
   },
   "outputs": [],
   "source": [
    "# Parameters\n",
    "model_size = \"7b\"\n",
    "target_lang = \"fr\"\n",
    "input_lang = \"ru\"\n",
    "type = \"tuned\"\n"
   ]
  },
  {
   "cell_type": "code",
   "execution_count": 5,
   "id": "33747213",
   "metadata": {
    "execution": {
     "iopub.execute_input": "2024-02-23T16:42:55.319337Z",
     "iopub.status.busy": "2024-02-23T16:42:55.318824Z",
     "iopub.status.idle": "2024-02-23T16:43:08.197632Z",
     "shell.execute_reply": "2024-02-23T16:43:08.196741Z"
    },
    "papermill": {
     "duration": 12.883481,
     "end_time": "2024-02-23T16:43:08.198931",
     "exception": false,
     "start_time": "2024-02-23T16:42:55.315450",
     "status": "completed"
    },
    "tags": []
   },
   "outputs": [
    {
     "data": {
      "application/vnd.jupyter.widget-view+json": {
       "model_id": "e928f209057f48b29f1eb9dd0df81c2a",
       "version_major": 2,
       "version_minor": 0
      },
      "text/plain": [
       "Loading checkpoint shards:   0%|          | 0/2 [00:00<?, ?it/s]"
      ]
     },
     "metadata": {},
     "output_type": "display_data"
    },
    {
     "name": "stdout",
     "output_type": "stream",
     "text": [
      "params.pt AlignmentResearch/tuned-lens space main lens/meta-llama/Llama-2-7b-hf None\n"
     ]
    },
    {
     "data": {
      "application/vnd.jupyter.widget-view+json": {
       "model_id": "ff89480345504bbe99cb31d3925290cf",
       "version_major": 2,
       "version_minor": 0
      },
      "text/plain": [
       "params.pt:   0%|          | 0.00/2.15G [00:00<?, ?B/s]"
      ]
     },
     "metadata": {},
     "output_type": "display_data"
    },
    {
     "data": {
      "application/vnd.jupyter.widget-view+json": {
       "model_id": "7bbaf13e12f64b98b007b9a534de3368",
       "version_major": 2,
       "version_minor": 0
      },
      "text/plain": [
       "(…)ens/meta-llama/Llama-2-7b-hf/config.json:   0%|          | 0.00/258 [00:00<?, ?B/s]"
      ]
     },
     "metadata": {},
     "output_type": "display_data"
    }
   ],
   "source": [
    "df_en_input = pd.read_csv(f'{prefix}{input_lang}/clean.csv').reindex()\n",
    "df_en_target = pd.read_csv(f'{prefix}{target_lang}/clean.csv').reindex()\n",
    "llama = AutoModelForCausalLM.from_pretrained(  # type: ignore\n",
    "                f\"meta-llama/Llama-2-{model_size}-hf\",\n",
    "                device_map={\"\": \"cuda\"},\n",
    "                revision=\"main\",\n",
    "                torch_dtype=\"auto\",\n",
    "                local_files_only=\"true\",cache_dir=\"/mnt/ssd-1/hf_cache/\"\n",
    "            )\n",
    "    \n",
    "latent=\"en\"\n",
    "if type == 'logit':\n",
    "    llama_lens = LogitLens.from_model(llama).to(\"cuda\")\n",
    "    out_dir = f'./visuals/logit'\n",
    "if type == 'tuned':\n",
    "    llama_lens = TunedLens.from_model_and_pretrained(llama,f\"meta-llama/Llama-2-{model_size}-hf\").to(\"cuda\")\n",
    "    out_dir = f'./visuals/tuned'\n",
    "if type == 'tuned-chinese':\n",
    "    llama_lens = TunedLens.from_model_and_pretrained(llama,\"../tuned-lens/my_lenses/chinese\").to(\"cuda\")\n",
    "    out_dir = f'./visuals/tuned-chinese'\n",
    "    latent = 'zh'\n",
    "tokenizer = AutoTokenizer.from_pretrained(\n",
    "                f\"meta-llama/Llama-2-7b-hf\",local_files_only=\"true\",cache_dir=\"/mnt/ssd-1/hf_cache/\"\n",
    "            )"
   ]
  },
  {
   "cell_type": "code",
   "execution_count": 6,
   "id": "bc45e052",
   "metadata": {
    "execution": {
     "iopub.execute_input": "2024-02-23T16:43:08.207904Z",
     "iopub.status.busy": "2024-02-23T16:43:08.207720Z",
     "iopub.status.idle": "2024-02-23T16:43:09.403423Z",
     "shell.execute_reply": "2024-02-23T16:43:09.402897Z"
    },
    "papermill": {
     "duration": 1.200744,
     "end_time": "2024-02-23T16:43:09.404190",
     "exception": false,
     "start_time": "2024-02-23T16:43:08.203446",
     "status": "completed"
    },
    "tags": []
   },
   "outputs": [
    {
     "name": "stdout",
     "output_type": "stream",
     "text": [
      "Sequential(\n",
      "  (0): LlamaRMSNorm()\n",
      "  (1): Linear(in_features=4096, out_features=32000, bias=False)\n",
      ")\n",
      "U torch.Size([32000, 4096]) weights torch.Size([1, 4096])\n"
     ]
    },
    {
     "name": "stdout",
     "output_type": "stream",
     "text": [
      "0.058621685951948166\n"
     ]
    }
   ],
   "source": [
    "unemb = nn.Sequential(llama.model.norm, llama.lm_head)\n",
    "print(unemb)\n",
    "# prepare for energy plots\n",
    "U = list(unemb[1].parameters())[0].detach().cpu().float()\n",
    "weights = list(unemb[0].parameters())[0].detach().cpu().float()\n",
    "print(f'U {U.shape} weights {weights.unsqueeze(0).shape}')\n",
    "U_weighted = U.clone() \n",
    "#U_weighted = U_weighted / ((U_weighted**2).mean(dim=1, keepdim=True))**0.5\n",
    "U_weighted *= weights.unsqueeze(0)\n",
    "U_normalized = U_weighted / ((U_weighted**2).sum(dim=1, keepdim=True))**0.5\n",
    "v = U.shape[0]\n",
    "TT = U_normalized.T @ U_normalized\n",
    "avgUU = (((U_normalized.T @ U_normalized)**2).sum() / v**2)**0.5\n",
    "print(avgUU.item())"
   ]
  },
  {
   "cell_type": "code",
   "execution_count": 7,
   "id": "5686a8d5",
   "metadata": {
    "execution": {
     "iopub.execute_input": "2024-02-23T16:43:09.413534Z",
     "iopub.status.busy": "2024-02-23T16:43:09.413243Z",
     "iopub.status.idle": "2024-02-23T16:43:10.945504Z",
     "shell.execute_reply": "2024-02-23T16:43:10.944978Z"
    },
    "papermill": {
     "duration": 1.537412,
     "end_time": "2024-02-23T16:43:10.946420",
     "exception": false,
     "start_time": "2024-02-23T16:43:09.409008",
     "status": "completed"
    },
    "tags": []
   },
   "outputs": [
    {
     "name": "stdout",
     "output_type": "stream",
     "text": [
      "for fr 68 of 118 are single tokens\n",
      "final length of df_en_fr_ru: 88\n"
     ]
    }
   ],
   "source": [
    "count = 0\n",
    "for idx, word in enumerate(df_en_target['word_translation']):\n",
    "    if word in tokenizer.get_vocab() or '▁'+word in tokenizer.get_vocab():\n",
    "        count += 1\n",
    "\n",
    "print(f'for {target_lang} {count} of {len(df_en_target)} are single tokens')\n",
    "\n",
    "if input_lang == target_lang:\n",
    "    df_en_target_input = df_en_target.copy()\n",
    "    df_en_target_input.rename(columns={'word_original': 'en', \n",
    "                                f'word_translation': target_lang if target_lang != 'en' else 'en_tgt'}, \n",
    "                                inplace=True)\n",
    "else:\n",
    "    df_en_target_input = df_en_target.merge(df_en_input, on=['word_original'], suffixes=(f'_{target_lang}', f'_{input_lang}'))\n",
    "    df_en_target_input.rename(columns={'word_original': 'en', \n",
    "                                f'word_translation_{target_lang}': target_lang if target_lang != 'en' else 'en_tgt', \n",
    "                                f'word_translation_{input_lang}': input_lang if input_lang != 'en' else 'en_in'}, \n",
    "                                inplace=True)\n",
    "# delete all rows where en is contained in de or fr\n",
    "if target_lang != 'en':\n",
    "    for i, row in df_en_target_input.iterrows():\n",
    "        if row['en'].lower() in row[target_lang].lower():\n",
    "            df_en_target_input.drop(i, inplace=True)\n",
    "\n",
    "print(f'final length of df_en_{target_lang}_{input_lang}: {len(df_en_target_input)}')"
   ]
  },
  {
   "cell_type": "code",
   "execution_count": 8,
   "id": "eed300f4",
   "metadata": {
    "execution": {
     "iopub.execute_input": "2024-02-23T16:43:10.955410Z",
     "iopub.status.busy": "2024-02-23T16:43:10.955258Z",
     "iopub.status.idle": "2024-02-23T16:43:10.996402Z",
     "shell.execute_reply": "2024-02-23T16:43:10.995981Z"
    },
    "papermill": {
     "duration": 0.045934,
     "end_time": "2024-02-23T16:43:10.997234",
     "exception": false,
     "start_time": "2024-02-23T16:43:10.951300",
     "status": "completed"
    },
    "tags": []
   },
   "outputs": [
    {
     "data": {
      "text/html": [
       "<div>\n",
       "<style scoped>\n",
       "    .dataframe tbody tr th:only-of-type {\n",
       "        vertical-align: middle;\n",
       "    }\n",
       "\n",
       "    .dataframe tbody tr th {\n",
       "        vertical-align: top;\n",
       "    }\n",
       "\n",
       "    .dataframe thead th {\n",
       "        text-align: right;\n",
       "    }\n",
       "</style>\n",
       "<table border=\"1\" class=\"dataframe\">\n",
       "  <thead>\n",
       "    <tr style=\"text-align: right;\">\n",
       "      <th></th>\n",
       "      <th>lang_fr</th>\n",
       "      <th>en</th>\n",
       "      <th>fr</th>\n",
       "      <th>blank_prompt_original_fr</th>\n",
       "      <th>blank_prompt_translation_fr</th>\n",
       "      <th>blank_prompt_translation_masked_fr</th>\n",
       "      <th>error_fr</th>\n",
       "      <th>lang_ru</th>\n",
       "      <th>ru</th>\n",
       "      <th>blank_prompt_original_ru</th>\n",
       "      <th>blank_prompt_translation_ru</th>\n",
       "      <th>blank_prompt_translation_masked_ru</th>\n",
       "      <th>error_ru</th>\n",
       "    </tr>\n",
       "  </thead>\n",
       "  <tbody>\n",
       "    <tr>\n",
       "      <th>0</th>\n",
       "      <td>fr</td>\n",
       "      <td>cloud</td>\n",
       "      <td>nuage</td>\n",
       "      <td>A \"cloud\" is a visible mass of condensed water...</td>\n",
       "      <td>Un \"nuage\" est une masse visible de vapeur d'e...</td>\n",
       "      <td>Un \"___\" est une masse visible de vapeur d'eau...</td>\n",
       "      <td>no error</td>\n",
       "      <td>ru</td>\n",
       "      <td>облако</td>\n",
       "      <td>A \"cloud\" is a visible mass of condensed water...</td>\n",
       "      <td>Облако - это видимая масса конденсированного в...</td>\n",
       "      <td>\"___\" - это видимая масса конденсированного во...</td>\n",
       "      <td>no error</td>\n",
       "    </tr>\n",
       "    <tr>\n",
       "      <th>1</th>\n",
       "      <td>fr</td>\n",
       "      <td>bag</td>\n",
       "      <td>sac</td>\n",
       "      <td>A \"bag\" is used to carry items. Answer: \"bag\".</td>\n",
       "      <td>Un \"sac\" est utilisé pour transporter des obje...</td>\n",
       "      <td>Un \"___\" est utilisé pour transporter des obje...</td>\n",
       "      <td>no error</td>\n",
       "      <td>ru</td>\n",
       "      <td>сумка</td>\n",
       "      <td>A \"bag\" is used to carry items. Answer: \"bag\".</td>\n",
       "      <td>Сумка используется для переноски предметов. От...</td>\n",
       "      <td>\"___\" используется для переноски предметов. От...</td>\n",
       "      <td>no error</td>\n",
       "    </tr>\n",
       "    <tr>\n",
       "      <th>2</th>\n",
       "      <td>fr</td>\n",
       "      <td>mouth</td>\n",
       "      <td>bouche</td>\n",
       "      <td>A \"mouth\" is used to eat food and speak. Answe...</td>\n",
       "      <td>La \"bouche\" sert à manger et à parler. Réponse...</td>\n",
       "      <td>La \"___\" sert à manger et à parler. Réponse : ...</td>\n",
       "      <td>no error</td>\n",
       "      <td>ru</td>\n",
       "      <td>рот</td>\n",
       "      <td>A \"mouth\" is used to eat food and speak. Answe...</td>\n",
       "      <td>Рот используется для приема пищи и речи. Ответ...</td>\n",
       "      <td>\"___\" используется для приема пищи и речи. Отв...</td>\n",
       "      <td>no error</td>\n",
       "    </tr>\n",
       "    <tr>\n",
       "      <th>3</th>\n",
       "      <td>fr</td>\n",
       "      <td>soil</td>\n",
       "      <td>sol</td>\n",
       "      <td>\"A \"soil\" is used for planting trees and crops...</td>\n",
       "      <td>\"Un \"sol\" est utilisé pour planter des arbres ...</td>\n",
       "      <td>\"Un \"___\" est utilisé pour planter des arbres ...</td>\n",
       "      <td>no error</td>\n",
       "      <td>ru</td>\n",
       "      <td>почва</td>\n",
       "      <td>\"A \"soil\" is used for planting trees and crops...</td>\n",
       "      <td>\"Почва\" используется для посадки деревьев и вы...</td>\n",
       "      <td>\"___\" используется для посадки деревьев и выра...</td>\n",
       "      <td>no error</td>\n",
       "    </tr>\n",
       "    <tr>\n",
       "      <th>4</th>\n",
       "      <td>fr</td>\n",
       "      <td>mountain</td>\n",
       "      <td>montagne</td>\n",
       "      <td>A \"mountain\" is a large natural elevation of t...</td>\n",
       "      <td>Une \"montagne\" est une grande élévation nature...</td>\n",
       "      <td>Une \"___\" est une grande élévation naturelle d...</td>\n",
       "      <td>no error</td>\n",
       "      <td>ru</td>\n",
       "      <td>гора</td>\n",
       "      <td>A \"mountain\" is a large natural elevation of t...</td>\n",
       "      <td>Гора - это крупное естественное возвышение зем...</td>\n",
       "      <td>\"___\" - это крупное естественное возвышение зе...</td>\n",
       "      <td>no error</td>\n",
       "    </tr>\n",
       "    <tr>\n",
       "      <th>...</th>\n",
       "      <td>...</td>\n",
       "      <td>...</td>\n",
       "      <td>...</td>\n",
       "      <td>...</td>\n",
       "      <td>...</td>\n",
       "      <td>...</td>\n",
       "      <td>...</td>\n",
       "      <td>...</td>\n",
       "      <td>...</td>\n",
       "      <td>...</td>\n",
       "      <td>...</td>\n",
       "      <td>...</td>\n",
       "      <td>...</td>\n",
       "    </tr>\n",
       "    <tr>\n",
       "      <th>98</th>\n",
       "      <td>fr</td>\n",
       "      <td>tower</td>\n",
       "      <td>tour</td>\n",
       "      <td>A \"tower\" is a tall structure that can be used...</td>\n",
       "      <td>Une \"tour\" est une structure haute qui peut êt...</td>\n",
       "      <td>Une \"___\" est une structure haute qui peut êtr...</td>\n",
       "      <td>no error</td>\n",
       "      <td>ru</td>\n",
       "      <td>башня</td>\n",
       "      <td>A \"tower\" is a tall structure that can be used...</td>\n",
       "      <td>Башня - это высокое сооружение, которое может ...</td>\n",
       "      <td>\"___\" - это высокое сооружение, которое может ...</td>\n",
       "      <td>no error</td>\n",
       "    </tr>\n",
       "    <tr>\n",
       "      <th>100</th>\n",
       "      <td>fr</td>\n",
       "      <td>office</td>\n",
       "      <td>bureau</td>\n",
       "      <td>An \"office\" is a place where people usually do...</td>\n",
       "      <td>Un \"bureau\" est un endroit où les gens font ha...</td>\n",
       "      <td>Un \"___\" est un endroit où les gens font habit...</td>\n",
       "      <td>no error</td>\n",
       "      <td>ru</td>\n",
       "      <td>офис</td>\n",
       "      <td>An \"office\" is a place where people usually do...</td>\n",
       "      <td>Офис - это место, где люди обычно выполняют св...</td>\n",
       "      <td>\"___\" - это место, где люди обычно выполняют с...</td>\n",
       "      <td>no error</td>\n",
       "    </tr>\n",
       "    <tr>\n",
       "      <th>101</th>\n",
       "      <td>fr</td>\n",
       "      <td>sound</td>\n",
       "      <td>son</td>\n",
       "      <td>A \"sound\" is something we hear. Answer: \"sound\".</td>\n",
       "      <td>Un \"son\" est quelque chose que l'on entend. Ré...</td>\n",
       "      <td>Un \"___\" est quelque chose que l'on entend. Ré...</td>\n",
       "      <td>no error</td>\n",
       "      <td>ru</td>\n",
       "      <td>звук</td>\n",
       "      <td>A \"sound\" is something we hear. Answer: \"sound\".</td>\n",
       "      <td>Звук - это то, что мы слышим. Ответ: \"звук\".</td>\n",
       "      <td>\"___\" - это то, что мы слышим. Ответ: \"звук\".</td>\n",
       "      <td>no error</td>\n",
       "    </tr>\n",
       "    <tr>\n",
       "      <th>102</th>\n",
       "      <td>fr</td>\n",
       "      <td>power</td>\n",
       "      <td>pouvoir</td>\n",
       "      <td>\"A \"power\" is used to control or influence peo...</td>\n",
       "      <td>\"Un \"pouvoir\" est utilisé pour contrôler ou in...</td>\n",
       "      <td>\"Un \"___\" est utilisé pour contrôler ou influe...</td>\n",
       "      <td>no error</td>\n",
       "      <td>ru</td>\n",
       "      <td>власть</td>\n",
       "      <td>\"A \"power\" is used to control or influence peo...</td>\n",
       "      <td>\"Власть\" используется для контроля или влияния...</td>\n",
       "      <td>\"___\" используется для контроля или влияния на...</td>\n",
       "      <td>no error</td>\n",
       "    </tr>\n",
       "    <tr>\n",
       "      <th>103</th>\n",
       "      <td>fr</td>\n",
       "      <td>summer</td>\n",
       "      <td>été</td>\n",
       "      <td>\"The \"summer\" is a season known for its warm w...</td>\n",
       "      <td>\"L'\"été\" est une saison connue pour son temps ...</td>\n",
       "      <td>\"L'\"___\" est une saison connue pour son temps ...</td>\n",
       "      <td>no error</td>\n",
       "      <td>ru</td>\n",
       "      <td>лето</td>\n",
       "      <td>\"The \"summer\" is a season known for its warm w...</td>\n",
       "      <td>\"Лето\" - это сезон, известный своей теплой пог...</td>\n",
       "      <td>\"___\" - это сезон, известный своей теплой пого...</td>\n",
       "      <td>no error</td>\n",
       "    </tr>\n",
       "  </tbody>\n",
       "</table>\n",
       "<p>88 rows × 13 columns</p>\n",
       "</div>"
      ],
      "text/plain": [
       "    lang_fr        en        fr  \\\n",
       "0        fr     cloud     nuage   \n",
       "1        fr       bag       sac   \n",
       "2        fr     mouth    bouche   \n",
       "3        fr      soil       sol   \n",
       "4        fr  mountain  montagne   \n",
       "..      ...       ...       ...   \n",
       "98       fr     tower      tour   \n",
       "100      fr    office    bureau   \n",
       "101      fr     sound       son   \n",
       "102      fr     power   pouvoir   \n",
       "103      fr    summer       été   \n",
       "\n",
       "                              blank_prompt_original_fr  \\\n",
       "0    A \"cloud\" is a visible mass of condensed water...   \n",
       "1       A \"bag\" is used to carry items. Answer: \"bag\".   \n",
       "2    A \"mouth\" is used to eat food and speak. Answe...   \n",
       "3    \"A \"soil\" is used for planting trees and crops...   \n",
       "4    A \"mountain\" is a large natural elevation of t...   \n",
       "..                                                 ...   \n",
       "98   A \"tower\" is a tall structure that can be used...   \n",
       "100  An \"office\" is a place where people usually do...   \n",
       "101   A \"sound\" is something we hear. Answer: \"sound\".   \n",
       "102  \"A \"power\" is used to control or influence peo...   \n",
       "103  \"The \"summer\" is a season known for its warm w...   \n",
       "\n",
       "                           blank_prompt_translation_fr  \\\n",
       "0    Un \"nuage\" est une masse visible de vapeur d'e...   \n",
       "1    Un \"sac\" est utilisé pour transporter des obje...   \n",
       "2    La \"bouche\" sert à manger et à parler. Réponse...   \n",
       "3    \"Un \"sol\" est utilisé pour planter des arbres ...   \n",
       "4    Une \"montagne\" est une grande élévation nature...   \n",
       "..                                                 ...   \n",
       "98   Une \"tour\" est une structure haute qui peut êt...   \n",
       "100  Un \"bureau\" est un endroit où les gens font ha...   \n",
       "101  Un \"son\" est quelque chose que l'on entend. Ré...   \n",
       "102  \"Un \"pouvoir\" est utilisé pour contrôler ou in...   \n",
       "103  \"L'\"été\" est une saison connue pour son temps ...   \n",
       "\n",
       "                    blank_prompt_translation_masked_fr  error_fr lang_ru  \\\n",
       "0    Un \"___\" est une masse visible de vapeur d'eau...  no error      ru   \n",
       "1    Un \"___\" est utilisé pour transporter des obje...  no error      ru   \n",
       "2    La \"___\" sert à manger et à parler. Réponse : ...  no error      ru   \n",
       "3    \"Un \"___\" est utilisé pour planter des arbres ...  no error      ru   \n",
       "4    Une \"___\" est une grande élévation naturelle d...  no error      ru   \n",
       "..                                                 ...       ...     ...   \n",
       "98   Une \"___\" est une structure haute qui peut êtr...  no error      ru   \n",
       "100  Un \"___\" est un endroit où les gens font habit...  no error      ru   \n",
       "101  Un \"___\" est quelque chose que l'on entend. Ré...  no error      ru   \n",
       "102  \"Un \"___\" est utilisé pour contrôler ou influe...  no error      ru   \n",
       "103  \"L'\"___\" est une saison connue pour son temps ...  no error      ru   \n",
       "\n",
       "         ru                           blank_prompt_original_ru  \\\n",
       "0    облако  A \"cloud\" is a visible mass of condensed water...   \n",
       "1     сумка     A \"bag\" is used to carry items. Answer: \"bag\".   \n",
       "2       рот  A \"mouth\" is used to eat food and speak. Answe...   \n",
       "3     почва  \"A \"soil\" is used for planting trees and crops...   \n",
       "4      гора  A \"mountain\" is a large natural elevation of t...   \n",
       "..      ...                                                ...   \n",
       "98    башня  A \"tower\" is a tall structure that can be used...   \n",
       "100    офис  An \"office\" is a place where people usually do...   \n",
       "101    звук   A \"sound\" is something we hear. Answer: \"sound\".   \n",
       "102  власть  \"A \"power\" is used to control or influence peo...   \n",
       "103    лето  \"The \"summer\" is a season known for its warm w...   \n",
       "\n",
       "                           blank_prompt_translation_ru  \\\n",
       "0    Облако - это видимая масса конденсированного в...   \n",
       "1    Сумка используется для переноски предметов. От...   \n",
       "2    Рот используется для приема пищи и речи. Ответ...   \n",
       "3    \"Почва\" используется для посадки деревьев и вы...   \n",
       "4    Гора - это крупное естественное возвышение зем...   \n",
       "..                                                 ...   \n",
       "98   Башня - это высокое сооружение, которое может ...   \n",
       "100  Офис - это место, где люди обычно выполняют св...   \n",
       "101       Звук - это то, что мы слышим. Ответ: \"звук\".   \n",
       "102  \"Власть\" используется для контроля или влияния...   \n",
       "103  \"Лето\" - это сезон, известный своей теплой пог...   \n",
       "\n",
       "                    blank_prompt_translation_masked_ru  error_ru  \n",
       "0    \"___\" - это видимая масса конденсированного во...  no error  \n",
       "1    \"___\" используется для переноски предметов. От...  no error  \n",
       "2    \"___\" используется для приема пищи и речи. Отв...  no error  \n",
       "3    \"___\" используется для посадки деревьев и выра...  no error  \n",
       "4    \"___\" - это крупное естественное возвышение зе...  no error  \n",
       "..                                                 ...       ...  \n",
       "98   \"___\" - это высокое сооружение, которое может ...  no error  \n",
       "100  \"___\" - это место, где люди обычно выполняют с...  no error  \n",
       "101      \"___\" - это то, что мы слышим. Ответ: \"звук\".  no error  \n",
       "102  \"___\" используется для контроля или влияния на...  no error  \n",
       "103  \"___\" - это сезон, известный своей теплой пого...  no error  \n",
       "\n",
       "[88 rows x 13 columns]"
      ]
     },
     "execution_count": 8,
     "metadata": {},
     "output_type": "execute_result"
    }
   ],
   "source": [
    "df_en_target_input"
   ]
  },
  {
   "cell_type": "code",
   "execution_count": 9,
   "id": "f0c0a52d",
   "metadata": {
    "execution": {
     "iopub.execute_input": "2024-02-23T16:43:11.005990Z",
     "iopub.status.busy": "2024-02-23T16:43:11.005831Z",
     "iopub.status.idle": "2024-02-23T16:43:11.038365Z",
     "shell.execute_reply": "2024-02-23T16:43:11.037937Z"
    },
    "papermill": {
     "duration": 0.037709,
     "end_time": "2024-02-23T16:43:11.039214",
     "exception": false,
     "start_time": "2024-02-23T16:43:11.001505",
     "status": "completed"
    },
    "tags": []
   },
   "outputs": [],
   "source": [
    "def token_prefixes(token_str: str):\n",
    "    n = len(token_str)\n",
    "    tokens = [token_str[:i] for i in range(1, n+1)]\n",
    "    return tokens \n",
    "\n",
    "def add_spaces(tokens):\n",
    "    return ['▁' + t for t in tokens] + tokens\n",
    "\n",
    "def capitalizations(tokens):\n",
    "    return list(set(tokens))\n",
    "\n",
    "def unicode_prefix_tokid(zh_char = \"云\", tokenizer=tokenizer):\n",
    "    start = zh_char.encode().__str__()[2:-1].split('\\\\x')[1]\n",
    "    unicode_format = '<0x%s>'\n",
    "    start_key = unicode_format%start.upper()\n",
    "    if start_key in tokenizer.get_vocab():\n",
    "        return tokenizer.get_vocab()[start_key]\n",
    "    return None\n",
    "\n",
    "def process_tokens(token_str: str, tokenizer, lang):\n",
    "    with_prefixes = token_prefixes(token_str)\n",
    "    with_spaces = add_spaces(with_prefixes)\n",
    "    with_capitalizations = capitalizations(with_spaces)\n",
    "    final_tokens = []\n",
    "    for tok in with_capitalizations:\n",
    "        if tok in tokenizer.get_vocab():\n",
    "            final_tokens.append(tokenizer.get_vocab()[tok])\n",
    "    if lang in ['zh', 'ru']:\n",
    "        tokid = unicode_prefix_tokid(token_str, tokenizer)\n",
    "        if tokid is not None:\n",
    "            final_tokens.append(tokid)\n",
    "    return final_tokens"
   ]
  },
  {
   "cell_type": "code",
   "execution_count": 10,
   "id": "faa7bb78",
   "metadata": {
    "execution": {
     "iopub.execute_input": "2024-02-23T16:43:11.047798Z",
     "iopub.status.busy": "2024-02-23T16:43:11.047511Z",
     "iopub.status.idle": "2024-02-23T16:43:11.091005Z",
     "shell.execute_reply": "2024-02-23T16:43:11.090534Z"
    },
    "papermill": {
     "duration": 0.048534,
     "end_time": "2024-02-23T16:43:11.091873",
     "exception": false,
     "start_time": "2024-02-23T16:43:11.043339",
     "status": "completed"
    },
    "tags": []
   },
   "outputs": [],
   "source": [
    "\n",
    "id2voc = {id:voc for voc, id in tokenizer.get_vocab().items()}\n",
    "def get_tokens(token_ids, id2voc=id2voc):\n",
    "    return [id2voc[tokid] for tokid in token_ids]\n",
    "\n",
    "def compute_entropy(probas):\n",
    "    return (-probas*torch.log2(probas)).sum(dim=-1)\n",
    "\n",
    "lang2name = {'fr': 'Français', 'de': 'Deutsch', 'ru': 'Русский', 'en': 'English', 'zh': '中文'}\n",
    "def sample(df, ind, k=5, tokenizer=tokenizer, lang1='fr', lang2='de', lang_latent=latent):\n",
    "    df = df.reset_index(drop=True)\n",
    "    temp = df[df.index!=ind]\n",
    "    sample = pd.concat([temp.sample(k-1), df[df.index==ind]], axis=0)\n",
    "    prompt = \"\"\n",
    "    for idx, (df_idx, row) in enumerate(sample.iterrows()):\n",
    "        if idx < k-1:\n",
    "            prompt += f'{lang2name[lang1]}: \"{row[lang1]}\" - {lang2name[lang2]}: \"{row[lang2]}\"\\n'\n",
    "        else:\n",
    "            prompt += f'{lang2name[lang1]}: \"{row[lang1]}\" - {lang2name[lang2]}: \"'\n",
    "            in_token_str = row[lang1]\n",
    "            out_token_str = row[lang2]\n",
    "            out_token_id = process_tokens(out_token_str, tokenizer, lang2)\n",
    "            latent_token_str = row[lang_latent]\n",
    "            latent_token_id = process_tokens(latent_token_str, tokenizer, latent)\n",
    "            intersection = set(out_token_id).intersection(set(latent_token_id))\n",
    "            if len(out_token_id) == 0 or len(latent_token_id) == 0:\n",
    "                yield None\n",
    "            if lang2 != 'en' and len(intersection) > 0:\n",
    "                yield None\n",
    "            yield {'prompt': prompt, \n",
    "                'out_token_id': out_token_id, \n",
    "                'out_token_str': out_token_str,\n",
    "                'latent_token_id': latent_token_id, \n",
    "                'latent_token_str': latent_token_str, \n",
    "                'in_token_str': in_token_str}"
   ]
  },
  {
   "cell_type": "code",
   "execution_count": 11,
   "id": "500641f5",
   "metadata": {
    "execution": {
     "iopub.execute_input": "2024-02-23T16:43:11.100457Z",
     "iopub.status.busy": "2024-02-23T16:43:11.100282Z",
     "iopub.status.idle": "2024-02-23T16:43:30.837958Z",
     "shell.execute_reply": "2024-02-23T16:43:30.837243Z"
    },
    "papermill": {
     "duration": 19.742922,
     "end_time": "2024-02-23T16:43:30.839039",
     "exception": false,
     "start_time": "2024-02-23T16:43:11.096117",
     "status": "completed"
    },
    "tags": []
   },
   "outputs": [
    {
     "name": "stderr",
     "output_type": "stream",
     "text": [
      "\r",
      "  0%|                                                                                                                                                                                                                        | 0/88 [00:00<?, ?it/s]"
     ]
    },
    {
     "name": "stderr",
     "output_type": "stream",
     "text": [
      "\r",
      "  1%|██▎                                                                                                                                                                                                             | 1/88 [00:00<00:20,  4.34it/s]"
     ]
    },
    {
     "name": "stderr",
     "output_type": "stream",
     "text": [
      "\r",
      "  2%|████▋                                                                                                                                                                                                           | 2/88 [00:00<00:16,  5.32it/s]"
     ]
    },
    {
     "name": "stderr",
     "output_type": "stream",
     "text": [
      "\r",
      "  3%|███████                                                                                                                                                                                                         | 3/88 [00:00<00:17,  4.83it/s]"
     ]
    },
    {
     "name": "stderr",
     "output_type": "stream",
     "text": [
      "\r",
      "  5%|█████████▍                                                                                                                                                                                                      | 4/88 [00:00<00:16,  5.22it/s]"
     ]
    },
    {
     "name": "stderr",
     "output_type": "stream",
     "text": [
      "\r",
      "  6%|███████████▊                                                                                                                                                                                                    | 5/88 [00:01<00:19,  4.18it/s]"
     ]
    },
    {
     "name": "stderr",
     "output_type": "stream",
     "text": [
      "\r",
      "  7%|██████████████▏                                                                                                                                                                                                 | 6/88 [00:01<00:18,  4.55it/s]"
     ]
    },
    {
     "name": "stderr",
     "output_type": "stream",
     "text": [
      "\r",
      "  8%|████████████████▌                                                                                                                                                                                               | 7/88 [00:01<00:17,  4.58it/s]"
     ]
    },
    {
     "name": "stderr",
     "output_type": "stream",
     "text": [
      "\r",
      "  9%|██████████████████▉                                                                                                                                                                                             | 8/88 [00:01<00:17,  4.63it/s]"
     ]
    },
    {
     "name": "stderr",
     "output_type": "stream",
     "text": [
      "\r",
      " 10%|█████████████████████▎                                                                                                                                                                                          | 9/88 [00:02<00:18,  4.21it/s]"
     ]
    },
    {
     "name": "stderr",
     "output_type": "stream",
     "text": [
      "\r",
      " 11%|███████████████████████▌                                                                                                                                                                                       | 10/88 [00:02<00:16,  4.59it/s]"
     ]
    },
    {
     "name": "stderr",
     "output_type": "stream",
     "text": [
      "\r",
      " 12%|█████████████████████████▉                                                                                                                                                                                     | 11/88 [00:02<00:17,  4.39it/s]"
     ]
    },
    {
     "name": "stderr",
     "output_type": "stream",
     "text": [
      "\r",
      " 14%|████████████████████████████▏                                                                                                                                                                                  | 12/88 [00:02<00:16,  4.53it/s]"
     ]
    },
    {
     "name": "stderr",
     "output_type": "stream",
     "text": [
      "\r",
      " 15%|██████████████████████████████▌                                                                                                                                                                                | 13/88 [00:02<00:17,  4.34it/s]"
     ]
    },
    {
     "name": "stderr",
     "output_type": "stream",
     "text": [
      "\r",
      " 16%|████████████████████████████████▉                                                                                                                                                                              | 14/88 [00:03<00:16,  4.49it/s]"
     ]
    },
    {
     "name": "stderr",
     "output_type": "stream",
     "text": [
      "\r",
      " 17%|███████████████████████████████████▎                                                                                                                                                                           | 15/88 [00:03<00:15,  4.63it/s]"
     ]
    },
    {
     "name": "stderr",
     "output_type": "stream",
     "text": [
      "\r",
      " 18%|█████████████████████████████████████▋                                                                                                                                                                         | 16/88 [00:03<00:14,  5.08it/s]"
     ]
    },
    {
     "name": "stderr",
     "output_type": "stream",
     "text": [
      "\r",
      " 19%|███████████████████████████████████████▉                                                                                                                                                                       | 17/88 [00:03<00:14,  5.07it/s]"
     ]
    },
    {
     "name": "stderr",
     "output_type": "stream",
     "text": [
      "\r",
      " 20%|██████████████████████████████████████████▎                                                                                                                                                                    | 18/88 [00:03<00:13,  5.05it/s]"
     ]
    },
    {
     "name": "stderr",
     "output_type": "stream",
     "text": [
      "\r",
      " 22%|████████████████████████████████████████████▋                                                                                                                                                                  | 19/88 [00:04<00:14,  4.90it/s]"
     ]
    },
    {
     "name": "stderr",
     "output_type": "stream",
     "text": [
      "\r",
      " 23%|███████████████████████████████████████████████                                                                                                                                                                | 20/88 [00:04<00:12,  5.29it/s]"
     ]
    },
    {
     "name": "stderr",
     "output_type": "stream",
     "text": [
      "\r",
      " 24%|█████████████████████████████████████████████████▍                                                                                                                                                             | 21/88 [00:04<00:12,  5.37it/s]"
     ]
    },
    {
     "name": "stderr",
     "output_type": "stream",
     "text": [
      "\r",
      " 25%|███████████████████████████████████████████████████▊                                                                                                                                                           | 22/88 [00:04<00:12,  5.43it/s]"
     ]
    },
    {
     "name": "stderr",
     "output_type": "stream",
     "text": [
      "\r",
      " 26%|██████████████████████████████████████████████████████                                                                                                                                                         | 23/88 [00:04<00:11,  5.43it/s]"
     ]
    },
    {
     "name": "stderr",
     "output_type": "stream",
     "text": [
      "\r",
      " 27%|████████████████████████████████████████████████████████▍                                                                                                                                                      | 24/88 [00:04<00:12,  5.13it/s]"
     ]
    },
    {
     "name": "stderr",
     "output_type": "stream",
     "text": [
      "\r",
      " 28%|██████████████████████████████████████████████████████████▊                                                                                                                                                    | 25/88 [00:05<00:12,  5.10it/s]"
     ]
    },
    {
     "name": "stderr",
     "output_type": "stream",
     "text": [
      "\r",
      " 30%|█████████████████████████████████████████████████████████████▏                                                                                                                                                 | 26/88 [00:05<00:12,  4.83it/s]"
     ]
    },
    {
     "name": "stderr",
     "output_type": "stream",
     "text": [
      "\r",
      " 31%|███████████████████████████████████████████████████████████████▌                                                                                                                                               | 27/88 [00:05<00:11,  5.30it/s]"
     ]
    },
    {
     "name": "stderr",
     "output_type": "stream",
     "text": [
      "\r",
      " 32%|█████████████████████████████████████████████████████████████████▊                                                                                                                                             | 28/88 [00:05<00:11,  5.16it/s]"
     ]
    },
    {
     "name": "stderr",
     "output_type": "stream",
     "text": [
      "\r",
      " 33%|████████████████████████████████████████████████████████████████████▏                                                                                                                                          | 29/88 [00:05<00:10,  5.58it/s]"
     ]
    },
    {
     "name": "stderr",
     "output_type": "stream",
     "text": [
      "\r",
      " 34%|██████████████████████████████████████████████████████████████████████▌                                                                                                                                        | 30/88 [00:06<00:11,  5.18it/s]"
     ]
    },
    {
     "name": "stderr",
     "output_type": "stream",
     "text": [
      "\r",
      " 35%|████████████████████████████████████████████████████████████████████████▉                                                                                                                                      | 31/88 [00:06<00:10,  5.23it/s]"
     ]
    },
    {
     "name": "stderr",
     "output_type": "stream",
     "text": [
      "\r",
      " 36%|███████████████████████████████████████████████████████████████████████████▎                                                                                                                                   | 32/88 [00:06<00:11,  4.75it/s]"
     ]
    },
    {
     "name": "stderr",
     "output_type": "stream",
     "text": [
      "\r",
      " 38%|█████████████████████████████████████████████████████████████████████████████▋                                                                                                                                 | 33/88 [00:06<00:10,  5.07it/s]"
     ]
    },
    {
     "name": "stderr",
     "output_type": "stream",
     "text": [
      "\r",
      " 39%|███████████████████████████████████████████████████████████████████████████████▉                                                                                                                               | 34/88 [00:06<00:11,  4.86it/s]"
     ]
    },
    {
     "name": "stderr",
     "output_type": "stream",
     "text": [
      "\r",
      " 40%|██████████████████████████████████████████████████████████████████████████████████▎                                                                                                                            | 35/88 [00:07<00:11,  4.76it/s]"
     ]
    },
    {
     "name": "stderr",
     "output_type": "stream",
     "text": [
      "\r",
      " 41%|████████████████████████████████████████████████████████████████████████████████████▋                                                                                                                          | 36/88 [00:07<00:10,  4.87it/s]"
     ]
    },
    {
     "name": "stderr",
     "output_type": "stream",
     "text": [
      "\r",
      " 42%|███████████████████████████████████████████████████████████████████████████████████████                                                                                                                        | 37/88 [00:07<00:10,  4.92it/s]"
     ]
    },
    {
     "name": "stderr",
     "output_type": "stream",
     "text": [
      "\r",
      " 43%|█████████████████████████████████████████████████████████████████████████████████████████▍                                                                                                                     | 38/88 [00:07<00:10,  4.96it/s]"
     ]
    },
    {
     "name": "stderr",
     "output_type": "stream",
     "text": [
      "\r",
      " 44%|███████████████████████████████████████████████████████████████████████████████████████████▋                                                                                                                   | 39/88 [00:07<00:09,  5.12it/s]"
     ]
    },
    {
     "name": "stderr",
     "output_type": "stream",
     "text": [
      "\r",
      " 45%|██████████████████████████████████████████████████████████████████████████████████████████████                                                                                                                 | 40/88 [00:08<00:08,  5.47it/s]"
     ]
    },
    {
     "name": "stderr",
     "output_type": "stream",
     "text": [
      "\r",
      " 47%|████████████████████████████████████████████████████████████████████████████████████████████████▍                                                                                                              | 41/88 [00:08<00:08,  5.62it/s]"
     ]
    },
    {
     "name": "stderr",
     "output_type": "stream",
     "text": [
      "\r",
      " 48%|██████████████████████████████████████████████████████████████████████████████████████████████████▊                                                                                                            | 42/88 [00:08<00:09,  4.98it/s]"
     ]
    },
    {
     "name": "stderr",
     "output_type": "stream",
     "text": [
      "\r",
      " 49%|█████████████████████████████████████████████████████████████████████████████████████████████████████▏                                                                                                         | 43/88 [00:08<00:09,  4.86it/s]"
     ]
    },
    {
     "name": "stderr",
     "output_type": "stream",
     "text": [
      "\r",
      " 50%|███████████████████████████████████████████████████████████████████████████████████████████████████████▌                                                                                                       | 44/88 [00:08<00:09,  4.68it/s]"
     ]
    },
    {
     "name": "stderr",
     "output_type": "stream",
     "text": [
      "\r",
      " 51%|█████████████████████████████████████████████████████████████████████████████████████████████████████████▊                                                                                                     | 45/88 [00:09<00:09,  4.61it/s]"
     ]
    },
    {
     "name": "stderr",
     "output_type": "stream",
     "text": [
      "\r",
      " 52%|████████████████████████████████████████████████████████████████████████████████████████████████████████████▏                                                                                                  | 46/88 [00:09<00:08,  4.81it/s]"
     ]
    },
    {
     "name": "stderr",
     "output_type": "stream",
     "text": [
      "\r",
      " 53%|██████████████████████████████████████████████████████████████████████████████████████████████████████████████▌                                                                                                | 47/88 [00:09<00:08,  4.85it/s]"
     ]
    },
    {
     "name": "stderr",
     "output_type": "stream",
     "text": [
      "\r",
      " 55%|████████████████████████████████████████████████████████████████████████████████████████████████████████████████▉                                                                                              | 48/88 [00:09<00:09,  4.32it/s]"
     ]
    },
    {
     "name": "stderr",
     "output_type": "stream",
     "text": [
      "\r",
      " 56%|███████████████████████████████████████████████████████████████████████████████████████████████████████████████████▎                                                                                           | 49/88 [00:10<00:08,  4.43it/s]"
     ]
    },
    {
     "name": "stderr",
     "output_type": "stream",
     "text": [
      "\r",
      " 57%|█████████████████████████████████████████████████████████████████████████████████████████████████████████████████████▌                                                                                         | 50/88 [00:10<00:09,  4.17it/s]"
     ]
    },
    {
     "name": "stderr",
     "output_type": "stream",
     "text": [
      "\r",
      " 58%|███████████████████████████████████████████████████████████████████████████████████████████████████████████████████████▉                                                                                       | 51/88 [00:10<00:09,  4.09it/s]"
     ]
    },
    {
     "name": "stderr",
     "output_type": "stream",
     "text": [
      "\r",
      " 59%|██████████████████████████████████████████████████████████████████████████████████████████████████████████████████████████▎                                                                                    | 52/88 [00:10<00:08,  4.02it/s]"
     ]
    },
    {
     "name": "stderr",
     "output_type": "stream",
     "text": [
      "\r",
      " 60%|████████████████████████████████████████████████████████████████████████████████████████████████████████████████████████████▋                                                                                  | 53/88 [00:11<00:08,  4.18it/s]"
     ]
    },
    {
     "name": "stderr",
     "output_type": "stream",
     "text": [
      "\r",
      " 61%|███████████████████████████████████████████████████████████████████████████████████████████████████████████████████████████████                                                                                | 54/88 [00:11<00:07,  4.40it/s]"
     ]
    },
    {
     "name": "stderr",
     "output_type": "stream",
     "text": [
      "\r",
      " 62%|█████████████████████████████████████████████████████████████████████████████████████████████████████████████████████████████████▍                                                                             | 55/88 [00:11<00:07,  4.42it/s]"
     ]
    },
    {
     "name": "stderr",
     "output_type": "stream",
     "text": [
      "\r",
      " 64%|███████████████████████████████████████████████████████████████████████████████████████████████████████████████████████████████████▋                                                                           | 56/88 [00:11<00:07,  4.56it/s]"
     ]
    },
    {
     "name": "stderr",
     "output_type": "stream",
     "text": [
      "\r",
      " 65%|██████████████████████████████████████████████████████████████████████████████████████████████████████████████████████████████████████                                                                         | 57/88 [00:12<00:07,  4.19it/s]"
     ]
    },
    {
     "name": "stderr",
     "output_type": "stream",
     "text": [
      "\r",
      " 66%|████████████████████████████████████████████████████████████████████████████████████████████████████████████████████████████████████████▍                                                                      | 58/88 [00:12<00:07,  4.26it/s]"
     ]
    },
    {
     "name": "stderr",
     "output_type": "stream",
     "text": [
      "\r",
      " 67%|██████████████████████████████████████████████████████████████████████████████████████████████████████████████████████████████████████████▊                                                                    | 59/88 [00:12<00:06,  4.24it/s]"
     ]
    },
    {
     "name": "stderr",
     "output_type": "stream",
     "text": [
      "\r",
      " 68%|█████████████████████████████████████████████████████████████████████████████████████████████████████████████████████████████████████████████▏                                                                 | 60/88 [00:12<00:07,  3.87it/s]"
     ]
    },
    {
     "name": "stderr",
     "output_type": "stream",
     "text": [
      "\r",
      " 69%|███████████████████████████████████████████████████████████████████████████████████████████████████████████████████████████████████████████████▍                                                               | 61/88 [00:13<00:06,  3.98it/s]"
     ]
    },
    {
     "name": "stderr",
     "output_type": "stream",
     "text": [
      "\r",
      " 70%|█████████████████████████████████████████████████████████████████████████████████████████████████████████████████████████████████████████████████▊                                                             | 62/88 [00:13<00:07,  3.48it/s]"
     ]
    },
    {
     "name": "stderr",
     "output_type": "stream",
     "text": [
      "\r",
      " 72%|████████████████████████████████████████████████████████████████████████████████████████████████████████████████████████████████████████████████████▏                                                          | 63/88 [00:13<00:06,  3.62it/s]"
     ]
    },
    {
     "name": "stderr",
     "output_type": "stream",
     "text": [
      "\r",
      " 73%|██████████████████████████████████████████████████████████████████████████████████████████████████████████████████████████████████████████████████████▌                                                        | 64/88 [00:13<00:06,  3.90it/s]"
     ]
    },
    {
     "name": "stderr",
     "output_type": "stream",
     "text": [
      "\r",
      " 74%|████████████████████████████████████████████████████████████████████████████████████████████████████████████████████████████████████████████████████████▉                                                      | 65/88 [00:14<00:05,  3.85it/s]"
     ]
    },
    {
     "name": "stderr",
     "output_type": "stream",
     "text": [
      "\r",
      " 75%|███████████████████████████████████████████████████████████████████████████████████████████████████████████████████████████████████████████████████████████▎                                                   | 66/88 [00:14<00:06,  3.58it/s]"
     ]
    },
    {
     "name": "stderr",
     "output_type": "stream",
     "text": [
      "\r",
      " 76%|█████████████████████████████████████████████████████████████████████████████████████████████████████████████████████████████████████████████████████████████▌                                                 | 67/88 [00:14<00:05,  3.65it/s]"
     ]
    },
    {
     "name": "stderr",
     "output_type": "stream",
     "text": [
      "\r",
      " 77%|███████████████████████████████████████████████████████████████████████████████████████████████████████████████████████████████████████████████████████████████▉                                               | 68/88 [00:14<00:05,  3.79it/s]"
     ]
    },
    {
     "name": "stderr",
     "output_type": "stream",
     "text": [
      "\r",
      " 78%|██████████████████████████████████████████████████████████████████████████████████████████████████████████████████████████████████████████████████████████████████▎                                            | 69/88 [00:15<00:05,  3.42it/s]"
     ]
    },
    {
     "name": "stderr",
     "output_type": "stream",
     "text": [
      "\r",
      " 80%|████████████████████████████████████████████████████████████████████████████████████████████████████████████████████████████████████████████████████████████████████▋                                          | 70/88 [00:15<00:04,  3.84it/s]"
     ]
    },
    {
     "name": "stderr",
     "output_type": "stream",
     "text": [
      "\r",
      " 81%|███████████████████████████████████████████████████████████████████████████████████████████████████████████████████████████████████████████████████████████████████████                                        | 71/88 [00:15<00:04,  3.84it/s]"
     ]
    },
    {
     "name": "stderr",
     "output_type": "stream",
     "text": [
      "\r",
      " 82%|█████████████████████████████████████████████████████████████████████████████████████████████████████████████████████████████████████████████████████████████████████████▎                                     | 72/88 [00:15<00:04,  3.97it/s]"
     ]
    },
    {
     "name": "stderr",
     "output_type": "stream",
     "text": [
      "\r",
      " 83%|███████████████████████████████████████████████████████████████████████████████████████████████████████████████████████████████████████████████████████████████████████████▋                                   | 73/88 [00:16<00:03,  4.09it/s]"
     ]
    },
    {
     "name": "stderr",
     "output_type": "stream",
     "text": [
      "\r",
      " 84%|██████████████████████████████████████████████████████████████████████████████████████████████████████████████████████████████████████████████████████████████████████████████                                 | 74/88 [00:16<00:03,  4.09it/s]"
     ]
    },
    {
     "name": "stderr",
     "output_type": "stream",
     "text": [
      "\r",
      " 85%|████████████████████████████████████████████████████████████████████████████████████████████████████████████████████████████████████████████████████████████████████████████████▍                              | 75/88 [00:16<00:03,  4.27it/s]"
     ]
    },
    {
     "name": "stderr",
     "output_type": "stream",
     "text": [
      "\r",
      " 86%|██████████████████████████████████████████████████████████████████████████████████████████████████████████████████████████████████████████████████████████████████████████████████▊                            | 76/88 [00:16<00:03,  3.87it/s]"
     ]
    },
    {
     "name": "stderr",
     "output_type": "stream",
     "text": [
      "\r",
      " 88%|█████████████████████████████████████████████████████████████████████████████████████████████████████████████████████████████████████████████████████████████████████████████████████▏                         | 77/88 [00:17<00:02,  3.91it/s]"
     ]
    },
    {
     "name": "stderr",
     "output_type": "stream",
     "text": [
      "\r",
      " 89%|███████████████████████████████████████████████████████████████████████████████████████████████████████████████████████████████████████████████████████████████████████████████████████▍                       | 78/88 [00:17<00:02,  4.13it/s]"
     ]
    },
    {
     "name": "stderr",
     "output_type": "stream",
     "text": [
      "\r",
      " 90%|█████████████████████████████████████████████████████████████████████████████████████████████████████████████████████████████████████████████████████████████████████████████████████████▊                     | 79/88 [00:17<00:02,  4.33it/s]"
     ]
    },
    {
     "name": "stderr",
     "output_type": "stream",
     "text": [
      "\r",
      " 91%|████████████████████████████████████████████████████████████████████████████████████████████████████████████████████████████████████████████████████████████████████████████████████████████▏                  | 80/88 [00:17<00:01,  4.69it/s]"
     ]
    },
    {
     "name": "stderr",
     "output_type": "stream",
     "text": [
      "\r",
      " 92%|██████████████████████████████████████████████████████████████████████████████████████████████████████████████████████████████████████████████████████████████████████████████████████████████▌                | 81/88 [00:18<00:01,  4.43it/s]"
     ]
    },
    {
     "name": "stderr",
     "output_type": "stream",
     "text": [
      "\r",
      " 93%|████████████████████████████████████████████████████████████████████████████████████████████████████████████████████████████████████████████████████████████████████████████████████████████████▉              | 82/88 [00:18<00:01,  4.12it/s]"
     ]
    },
    {
     "name": "stderr",
     "output_type": "stream",
     "text": [
      "\r",
      " 94%|███████████████████████████████████████████████████████████████████████████████████████████████████████████████████████████████████████████████████████████████████████████████████████████████████▏           | 83/88 [00:18<00:01,  4.14it/s]"
     ]
    },
    {
     "name": "stderr",
     "output_type": "stream",
     "text": [
      "\r",
      " 95%|█████████████████████████████████████████████████████████████████████████████████████████████████████████████████████████████████████████████████████████████████████████████████████████████████████▌         | 84/88 [00:18<00:00,  4.41it/s]"
     ]
    },
    {
     "name": "stderr",
     "output_type": "stream",
     "text": [
      "\r",
      " 97%|███████████████████████████████████████████████████████████████████████████████████████████████████████████████████████████████████████████████████████████████████████████████████████████████████████▉       | 85/88 [00:19<00:00,  4.25it/s]"
     ]
    },
    {
     "name": "stderr",
     "output_type": "stream",
     "text": [
      "\r",
      " 98%|██████████████████████████████████████████████████████████████████████████████████████████████████████████████████████████████████████████████████████████████████████████████████████████████████████████▎    | 86/88 [00:19<00:00,  4.50it/s]"
     ]
    },
    {
     "name": "stderr",
     "output_type": "stream",
     "text": [
      "\r",
      " 99%|████████████████████████████████████████████████████████████████████████████████████████████████████████████████████████████████████████████████████████████████████████████████████████████████████████████▋  | 87/88 [00:19<00:00,  4.28it/s]"
     ]
    },
    {
     "name": "stderr",
     "output_type": "stream",
     "text": [
      "\r",
      "100%|███████████████████████████████████████████████████████████████████████████████████████████████████████████████████████████████████████████████████████████████████████████████████████████████████████████████| 88/88 [00:19<00:00,  4.41it/s]"
     ]
    },
    {
     "name": "stderr",
     "output_type": "stream",
     "text": [
      "\r",
      "100%|███████████████████████████████████████████████████████████████████████████████████████████████████████████████████████████████████████████████████████████████████████████████████████████████████████████████| 88/88 [00:19<00:00,  4.47it/s]"
     ]
    },
    {
     "name": "stderr",
     "output_type": "stream",
     "text": [
      "\n"
     ]
    }
   ],
   "source": [
    "dataset = []\n",
    "for ind in tqdm(range(len(df_en_target_input))):\n",
    "    d = next(sample(df_en_target_input, ind, lang1=input_lang, lang2=target_lang))\n",
    "    if d is None:\n",
    "        continue\n",
    "    dataset.append(d)"
   ]
  },
  {
   "cell_type": "code",
   "execution_count": 12,
   "id": "d786ab1b",
   "metadata": {
    "execution": {
     "iopub.execute_input": "2024-02-23T16:43:30.858285Z",
     "iopub.status.busy": "2024-02-23T16:43:30.857976Z",
     "iopub.status.idle": "2024-02-23T16:43:30.895946Z",
     "shell.execute_reply": "2024-02-23T16:43:30.895513Z"
    },
    "papermill": {
     "duration": 0.046353,
     "end_time": "2024-02-23T16:43:30.896814",
     "exception": false,
     "start_time": "2024-02-23T16:43:30.850461",
     "status": "completed"
    },
    "tags": []
   },
   "outputs": [],
   "source": [
    "df = pd.DataFrame(dataset)\n",
    "os.makedirs(f'{out_dir}/translation', exist_ok=True)\n",
    "df.to_csv(f'{out_dir}/translation/{model_size}_{input_lang}_{target_lang}_dataset.csv', index=False)"
   ]
  },
  {
   "cell_type": "code",
   "execution_count": 13,
   "id": "00e12355",
   "metadata": {
    "execution": {
     "iopub.execute_input": "2024-02-23T16:43:30.951445Z",
     "iopub.status.busy": "2024-02-23T16:43:30.951059Z",
     "iopub.status.idle": "2024-02-23T16:43:30.996800Z",
     "shell.execute_reply": "2024-02-23T16:43:30.996403Z"
    },
    "papermill": {
     "duration": 0.07385,
     "end_time": "2024-02-23T16:43:30.997539",
     "exception": false,
     "start_time": "2024-02-23T16:43:30.923689",
     "status": "completed"
    },
    "tags": []
   },
   "outputs": [
    {
     "data": {
      "text/html": [
       "<div>\n",
       "<style scoped>\n",
       "    .dataframe tbody tr th:only-of-type {\n",
       "        vertical-align: middle;\n",
       "    }\n",
       "\n",
       "    .dataframe tbody tr th {\n",
       "        vertical-align: top;\n",
       "    }\n",
       "\n",
       "    .dataframe thead th {\n",
       "        text-align: right;\n",
       "    }\n",
       "</style>\n",
       "<table border=\"1\" class=\"dataframe\">\n",
       "  <thead>\n",
       "    <tr style=\"text-align: right;\">\n",
       "      <th></th>\n",
       "      <th>prompt</th>\n",
       "      <th>out_token_id</th>\n",
       "      <th>out_token_str</th>\n",
       "      <th>latent_token_id</th>\n",
       "      <th>latent_token_str</th>\n",
       "      <th>in_token_str</th>\n",
       "    </tr>\n",
       "  </thead>\n",
       "  <tbody>\n",
       "    <tr>\n",
       "      <th>0</th>\n",
       "      <td>Русский: \"хвост\" - Français: \"queue\"\\nРусский:...</td>\n",
       "      <td>[29876, 4948, 3433, 302]</td>\n",
       "      <td>nuage</td>\n",
       "      <td>[17184, 9570, 695, 9274, 15126, 274, 23642, 10...</td>\n",
       "      <td>cloud</td>\n",
       "      <td>облако</td>\n",
       "    </tr>\n",
       "    <tr>\n",
       "      <th>1</th>\n",
       "      <td>Русский: \"юг\" - Français: \"sud\"\\nРусский: \"вид...</td>\n",
       "      <td>[4977, 269, 872, 7067, 29879]</td>\n",
       "      <td>sac</td>\n",
       "      <td>[29890, 23156, 2291, 19548, 289, 9922]</td>\n",
       "      <td>bag</td>\n",
       "      <td>сумка</td>\n",
       "    </tr>\n",
       "    <tr>\n",
       "      <th>2</th>\n",
       "      <td>Русский: \"песок\" - Français: \"sable\"\\nРусский:...</td>\n",
       "      <td>[1045, 29890, 16380, 833, 289]</td>\n",
       "      <td>bouche</td>\n",
       "      <td>[4346, 29885, 29442, 2730, 13394, 21026, 286]</td>\n",
       "      <td>mouth</td>\n",
       "      <td>рот</td>\n",
       "    </tr>\n",
       "    <tr>\n",
       "      <th>3</th>\n",
       "      <td>Русский: \"сиденье\" - Français: \"siège\"\\nРусски...</td>\n",
       "      <td>[274, 29883]</td>\n",
       "      <td>cœur</td>\n",
       "      <td>[540, 29882, 8293, 354, 298, 23057, 5192]</td>\n",
       "      <td>heart</td>\n",
       "      <td>сердце</td>\n",
       "    </tr>\n",
       "    <tr>\n",
       "      <th>4</th>\n",
       "      <td>Русский: \"красный\" - Français: \"rouge\"\\nРусски...</td>\n",
       "      <td>[611, 5530, 24402, 29885, 1667, 3396, 655, 286]</td>\n",
       "      <td>main</td>\n",
       "      <td>[2350, 447, 5905, 29882, 1361, 5403, 298, 3179]</td>\n",
       "      <td>hand</td>\n",
       "      <td>рука</td>\n",
       "    </tr>\n",
       "    <tr>\n",
       "      <th>5</th>\n",
       "      <td>Русский: \"долина\" - Français: \"vallée\"\\nРусски...</td>\n",
       "      <td>[1893, 2852, 904, 29948]</td>\n",
       "      <td>étoile</td>\n",
       "      <td>[303, 380, 8508, 269, 9523, 5173, 5810, 29879]</td>\n",
       "      <td>star</td>\n",
       "      <td>звезда</td>\n",
       "    </tr>\n",
       "    <tr>\n",
       "      <th>6</th>\n",
       "      <td>Русский: \"улица\" - Français: \"rue\"\\nРусский: \"...</td>\n",
       "      <td>[29878, 364, 1253, 18475, 620, 276, 690, 337]</td>\n",
       "      <td>ressort</td>\n",
       "      <td>[4278, 29879, 7689, 805, 15099, 1028, 6709, 269]</td>\n",
       "      <td>spring</td>\n",
       "      <td>пружина</td>\n",
       "    </tr>\n",
       "    <tr>\n",
       "      <th>7</th>\n",
       "      <td>Русский: \"слово\" - Français: \"mot\"\\nРусский: \"...</td>\n",
       "      <td>[8092, 6092, 301, 29880, 25081]</td>\n",
       "      <td>lune</td>\n",
       "      <td>[4346, 29885, 2730, 18786, 286]</td>\n",
       "      <td>moon</td>\n",
       "      <td>луна</td>\n",
       "    </tr>\n",
       "    <tr>\n",
       "      <th>8</th>\n",
       "      <td>Русский: \"танец\" - Français: \"danse\"\\nРусский:...</td>\n",
       "      <td>[305, 5815, 25875, 274, 10329, 521, 5083, 29883]</td>\n",
       "      <td>chanson</td>\n",
       "      <td>[4823, 578, 269, 21453, 1487, 1100, 577, 29879]</td>\n",
       "      <td>song</td>\n",
       "      <td>песня</td>\n",
       "    </tr>\n",
       "    <tr>\n",
       "      <th>9</th>\n",
       "      <td>Русский: \"лес\" - Français: \"forêt\"\\nРусский: \"...</td>\n",
       "      <td>[1893, 28899, 2852, 904, 29948]</td>\n",
       "      <td>étang</td>\n",
       "      <td>[1112, 772, 12509, 282, 29886, 2818, 1129]</td>\n",
       "      <td>pond</td>\n",
       "      <td>пруд</td>\n",
       "    </tr>\n",
       "    <tr>\n",
       "      <th>10</th>\n",
       "      <td>Русский: \"мост\" - Français: \"pont\"\\nРусский: \"...</td>\n",
       "      <td>[373, 29877, 898, 13469, 265, 16504, 288]</td>\n",
       "      <td>onde</td>\n",
       "      <td>[27766, 281, 2766, 11324, 10742, 29893]</td>\n",
       "      <td>wave</td>\n",
       "      <td>волна</td>\n",
       "    </tr>\n",
       "    <tr>\n",
       "      <th>11</th>\n",
       "      <td>Русский: \"танец\" - Français: \"danse\"\\nРусский:...</td>\n",
       "      <td>[330, 29887, 629, 17170, 4071, 867]</td>\n",
       "      <td>grotte</td>\n",
       "      <td>[5777, 18346, 274, 1113, 29883, 24230]</td>\n",
       "      <td>cave</td>\n",
       "      <td>пещера</td>\n",
       "    </tr>\n",
       "    <tr>\n",
       "      <th>12</th>\n",
       "      <td>Русский: \"звезда\" - Français: \"étoile\"\\nРусски...</td>\n",
       "      <td>[592, 1050, 29885, 1004, 2778, 286]</td>\n",
       "      <td>mer</td>\n",
       "      <td>[269, 409, 344, 7205, 29879]</td>\n",
       "      <td>sea</td>\n",
       "      <td>море</td>\n",
       "    </tr>\n",
       "    <tr>\n",
       "      <th>13</th>\n",
       "      <td>Русский: \"улица\" - Français: \"rue\"\\nРусский: \"...</td>\n",
       "      <td>[1777, 5713, 29888, 7241, 977, 285, 1445, 934]</td>\n",
       "      <td>filet</td>\n",
       "      <td>[484, 452, 7787, 302, 1212, 29876]</td>\n",
       "      <td>net</td>\n",
       "      <td>сетка</td>\n",
       "    </tr>\n",
       "    <tr>\n",
       "      <th>14</th>\n",
       "      <td>Русский: \"речь\" - Français: \"discours\"\\nРусски...</td>\n",
       "      <td>[15957, 1631, 2930, 282, 12343, 29886, 5036]</td>\n",
       "      <td>pied</td>\n",
       "      <td>[29888, 7953, 5431, 3661, 285, 1701, 1181, 6661]</td>\n",
       "      <td>foot</td>\n",
       "      <td>нога</td>\n",
       "    </tr>\n",
       "    <tr>\n",
       "      <th>15</th>\n",
       "      <td>Русский: \"сиденье\" - Français: \"siège\"\\nРусски...</td>\n",
       "      <td>[272, 29877, 470, 288]</td>\n",
       "      <td>or</td>\n",
       "      <td>[330, 29887, 15192, 748, 1484, 7684]</td>\n",
       "      <td>gold</td>\n",
       "      <td>золото</td>\n",
       "    </tr>\n",
       "    <tr>\n",
       "      <th>16</th>\n",
       "      <td>Русский: \"скорость\" - Français: \"vitesse\"\\nРус...</td>\n",
       "      <td>[13732, 1971, 637, 772, 14931, 1277, 282, 2988...</td>\n",
       "      <td>porte</td>\n",
       "      <td>[29881, 3050, 270, 437, 17433, 1867]</td>\n",
       "      <td>door</td>\n",
       "      <td>дверь</td>\n",
       "    </tr>\n",
       "    <tr>\n",
       "      <th>17</th>\n",
       "      <td>Русский: \"лицо\" - Français: \"visage\"\\nРусский:...</td>\n",
       "      <td>[29876, 484, 452, 12106, 302]</td>\n",
       "      <td>neige</td>\n",
       "      <td>[15007, 5807, 16586, 269, 29879]</td>\n",
       "      <td>snow</td>\n",
       "      <td>снег</td>\n",
       "    </tr>\n",
       "    <tr>\n",
       "      <th>18</th>\n",
       "      <td>Русский: \"красный\" - Français: \"rouge\"\\nРусски...</td>\n",
       "      <td>[305, 1173, 923, 25042, 274, 521, 29823, 29883]</td>\n",
       "      <td>cheval</td>\n",
       "      <td>[11231, 10435, 1251, 4029, 29882, 2015, 298, 5...</td>\n",
       "      <td>horse</td>\n",
       "      <td>лошадь</td>\n",
       "    </tr>\n",
       "    <tr>\n",
       "      <th>19</th>\n",
       "      <td>Русский: \"офис\" - Français: \"bureau\"\\nРусский:...</td>\n",
       "      <td>[29881, 270, 311, 4239, 316]</td>\n",
       "      <td>deux</td>\n",
       "      <td>[260, 3252, 10184, 1023, 29873, 7516]</td>\n",
       "      <td>two</td>\n",
       "      <td>два</td>\n",
       "    </tr>\n",
       "    <tr>\n",
       "      <th>20</th>\n",
       "      <td>Русский: \"пруд\" - Français: \"étang\"\\nРусский: ...</td>\n",
       "      <td>[3855, 12134, 21408, 29939, 439, 339]</td>\n",
       "      <td>quatre</td>\n",
       "      <td>[29888, 17823, 285, 1701, 1181, 3023, 12584]</td>\n",
       "      <td>four</td>\n",
       "      <td>четыре</td>\n",
       "    </tr>\n",
       "    <tr>\n",
       "      <th>21</th>\n",
       "      <td>Русский: \"восемь\" - Français: \"huit\"\\nРусский:...</td>\n",
       "      <td>[455, 16381, 4583, 274, 17256, 4670, 29883]</td>\n",
       "      <td>cinq</td>\n",
       "      <td>[29888, 5713, 7241, 285, 5320, 20818]</td>\n",
       "      <td>five</td>\n",
       "      <td>пять</td>\n",
       "    </tr>\n",
       "    <tr>\n",
       "      <th>22</th>\n",
       "      <td>Русский: \"дверь\" - Français: \"porte\"\\nРусский:...</td>\n",
       "      <td>[6905, 27052, 15669, 29882, 22888, 298]</td>\n",
       "      <td>huit</td>\n",
       "      <td>[9475, 29319, 29872, 321, 10096, 15761]</td>\n",
       "      <td>eight</td>\n",
       "      <td>восемь</td>\n",
       "    </tr>\n",
       "    <tr>\n",
       "      <th>23</th>\n",
       "      <td>Русский: \"голова\" - Français: \"tête\"\\nРусский:...</td>\n",
       "      <td>[652, 29881, 23386, 6051, 270]</td>\n",
       "      <td>dix</td>\n",
       "      <td>[841, 734, 371, 3006, 29873, 260]</td>\n",
       "      <td>ten</td>\n",
       "      <td>десять</td>\n",
       "    </tr>\n",
       "    <tr>\n",
       "      <th>24</th>\n",
       "      <td>Русский: \"юг\" - Français: \"sud\"\\nРусский: \"ули...</td>\n",
       "      <td>[17949, 29873, 260]</td>\n",
       "      <td>tête</td>\n",
       "      <td>[540, 2813, 29882, 354, 2343, 298]</td>\n",
       "      <td>head</td>\n",
       "      <td>голова</td>\n",
       "    </tr>\n",
       "    <tr>\n",
       "      <th>25</th>\n",
       "      <td>Русский: \"добродетель\" - Français: \"vertu\"\\nРу...</td>\n",
       "      <td>[2571, 3719, 29890, 2291, 27628, 289, 9892, 99...</td>\n",
       "      <td>bande</td>\n",
       "      <td>[303, 380, 29879, 10076, 17010, 851, 17820, 71...</td>\n",
       "      <td>strip</td>\n",
       "      <td>полоса</td>\n",
       "    </tr>\n",
       "    <tr>\n",
       "      <th>26</th>\n",
       "      <td>Русский: \"власть\" - Français: \"pouvoir\"\\nРусск...</td>\n",
       "      <td>[29878, 364, 16014, 582, 5796]</td>\n",
       "      <td>rue</td>\n",
       "      <td>[303, 380, 29879, 29352, 13045, 12243, 851, 11...</td>\n",
       "      <td>street</td>\n",
       "      <td>улица</td>\n",
       "    </tr>\n",
       "    <tr>\n",
       "      <th>27</th>\n",
       "      <td>Русский: \"лошадь\" - Français: \"cheval\"\\nРусски...</td>\n",
       "      <td>[305, 18480, 5815, 274, 10329, 521, 29883, 11179]</td>\n",
       "      <td>champ</td>\n",
       "      <td>[1746, 5713, 29888, 7241, 285, 29607, 2671]</td>\n",
       "      <td>field</td>\n",
       "      <td>поле</td>\n",
       "    </tr>\n",
       "    <tr>\n",
       "      <th>28</th>\n",
       "      <td>Русский: \"красота\" - Français: \"beauté\"\\nРусск...</td>\n",
       "      <td>[14817, 4346, 29885, 2730, 3184, 286]</td>\n",
       "      <td>mot</td>\n",
       "      <td>[13762, 1734, 6365, 281, 8879, 1742, 827, 29893]</td>\n",
       "      <td>word</td>\n",
       "      <td>слово</td>\n",
       "    </tr>\n",
       "    <tr>\n",
       "      <th>29</th>\n",
       "      <td>Русский: \"нога\" - Français: \"pied\"\\nРусский: \"...</td>\n",
       "      <td>[3533, 2460, 23853, 286, 3737, 29885, 2316, 19...</td>\n",
       "      <td>mille</td>\n",
       "      <td>[10405, 12595, 386, 266, 29873, 260, 7693]</td>\n",
       "      <td>thousand</td>\n",
       "      <td>тысяча</td>\n",
       "    </tr>\n",
       "    <tr>\n",
       "      <th>30</th>\n",
       "      <td>Русский: \"поражение\" - Français: \"défaite\"\\nРу...</td>\n",
       "      <td>[1045, 29890, 16380, 833, 289, 6526]</td>\n",
       "      <td>bourse</td>\n",
       "      <td>[429, 14523, 29872, 321, 735, 6543, 5566]</td>\n",
       "      <td>exchange</td>\n",
       "      <td>биржа</td>\n",
       "    </tr>\n",
       "    <tr>\n",
       "      <th>31</th>\n",
       "      <td>Русский: \"племя\" - Français: \"tribu\"\\nРусский:...</td>\n",
       "      <td>[330, 29887, 1737, 2531, 16151, 1885, 479]</td>\n",
       "      <td>genre</td>\n",
       "      <td>[29895, 1984, 19015, 8506, 14380, 9089, 2924, ...</td>\n",
       "      <td>kind</td>\n",
       "      <td>вид</td>\n",
       "    </tr>\n",
       "    <tr>\n",
       "      <th>32</th>\n",
       "      <td>Русский: \"звук\" - Français: \"son\"\\nРусский: \"д...</td>\n",
       "      <td>[4582, 29948, 904, 24618]</td>\n",
       "      <td>école</td>\n",
       "      <td>[3762, 816, 29879, 885, 27041, 1364, 1557, 269]</td>\n",
       "      <td>school</td>\n",
       "      <td>школа</td>\n",
       "    </tr>\n",
       "    <tr>\n",
       "      <th>33</th>\n",
       "      <td>Русский: \"школа\" - Français: \"école\"\\nРусский:...</td>\n",
       "      <td>[12220, 274, 2181, 26844, 7283, 29883]</td>\n",
       "      <td>cravate</td>\n",
       "      <td>[22134, 2034, 19538, 29873, 260]</td>\n",
       "      <td>tie</td>\n",
       "      <td>галстук</td>\n",
       "    </tr>\n",
       "    <tr>\n",
       "      <th>34</th>\n",
       "      <td>Русский: \"сердце\" - Français: \"cœur\"\\nРусский:...</td>\n",
       "      <td>[3516, 1998, 1730, 29894, 325, 1403]</td>\n",
       "      <td>visage</td>\n",
       "      <td>[5444, 2161, 29888, 4024, 3700, 285, 2258, 17470]</td>\n",
       "      <td>face</td>\n",
       "      <td>лицо</td>\n",
       "    </tr>\n",
       "    <tr>\n",
       "      <th>35</th>\n",
       "      <td>Русский: \"чай\" - Français: \"thé\"\\nРусский: \"ул...</td>\n",
       "      <td>[13185, 1112, 772, 12509, 282, 29886, 1129, 29...</td>\n",
       "      <td>pont</td>\n",
       "      <td>[29890, 18419, 1506, 1182, 28635, 19515, 289, ...</td>\n",
       "      <td>bridge</td>\n",
       "      <td>мост</td>\n",
       "    </tr>\n",
       "    <tr>\n",
       "      <th>36</th>\n",
       "      <td>Русский: \"цветок\" - Français: \"fleur\"\\nРусский...</td>\n",
       "      <td>[2146, 1462, 29879, 12587, 19303, 13159, 480, ...</td>\n",
       "      <td>supprimer</td>\n",
       "      <td>[5217, 29881, 270, 8143, 7374, 628, 6144, 311,...</td>\n",
       "      <td>delete</td>\n",
       "      <td>удалить</td>\n",
       "    </tr>\n",
       "    <tr>\n",
       "      <th>37</th>\n",
       "      <td>Русский: \"история\" - Français: \"histoire\"\\nРус...</td>\n",
       "      <td>[611, 5530, 24402, 29885, 655, 286, 3503, 18234]</td>\n",
       "      <td>maison</td>\n",
       "      <td>[8697, 3699, 1251, 29882, 10774, 9261, 298, 5089]</td>\n",
       "      <td>house</td>\n",
       "      <td>дом</td>\n",
       "    </tr>\n",
       "    <tr>\n",
       "      <th>38</th>\n",
       "      <td>Русский: \"лошадь\" - Français: \"cheval\"\\nРусски...</td>\n",
       "      <td>[29878, 364, 5606, 1841]</td>\n",
       "      <td>réunion</td>\n",
       "      <td>[5870, 17897, 592, 29885, 1004, 286, 11781]</td>\n",
       "      <td>meeting</td>\n",
       "      <td>собрание</td>\n",
       "    </tr>\n",
       "    <tr>\n",
       "      <th>39</th>\n",
       "      <td>Русский: \"три\" - Français: \"trois\"\\nРусский: \"...</td>\n",
       "      <td>[5777, 274, 4287, 1559, 1113, 29883]</td>\n",
       "      <td>carré</td>\n",
       "      <td>[3044, 6862, 26613, 29879, 10674, 17619, 18074...</td>\n",
       "      <td>square</td>\n",
       "      <td>квадрат</td>\n",
       "    </tr>\n",
       "    <tr>\n",
       "      <th>40</th>\n",
       "      <td>Русский: \"почва\" - Français: \"sol\"\\nРусский: \"...</td>\n",
       "      <td>[3516, 17191, 11928, 8441, 29894, 325, 4909, 1...</td>\n",
       "      <td>ville</td>\n",
       "      <td>[455, 12690, 7537, 4583, 274, 4272, 20752, 29883]</td>\n",
       "      <td>city</td>\n",
       "      <td>город</td>\n",
       "    </tr>\n",
       "    <tr>\n",
       "      <th>41</th>\n",
       "      <td>Русский: \"красота\" - Français: \"beauté\"\\nРусск...</td>\n",
       "      <td>[13901, 3516, 29894, 325, 1403]</td>\n",
       "      <td>vitesse</td>\n",
       "      <td>[29879, 19322, 805, 5965, 961, 6210, 1028, 269]</td>\n",
       "      <td>speed</td>\n",
       "      <td>скорость</td>\n",
       "    </tr>\n",
       "    <tr>\n",
       "      <th>42</th>\n",
       "      <td>Русский: \"озеро\" - Français: \"lac\"\\nРусский: \"...</td>\n",
       "      <td>[2929, 578, 269, 899, 577, 29879]</td>\n",
       "      <td>sol</td>\n",
       "      <td>[330, 29887, 2057, 629, 17170, 4071, 867, 5962]</td>\n",
       "      <td>ground</td>\n",
       "      <td>земля</td>\n",
       "    </tr>\n",
       "    <tr>\n",
       "      <th>43</th>\n",
       "      <td>Русский: \"вид\" - Français: \"genre\"\\nРусский: \"...</td>\n",
       "      <td>[12033, 841, 734, 371, 3006, 29873, 260]</td>\n",
       "      <td>tentative</td>\n",
       "      <td>[15127, 271, 1131, 1098, 263, 472, 21609, 4218...</td>\n",
       "      <td>attempt</td>\n",
       "      <td>попытка</td>\n",
       "    </tr>\n",
       "    <tr>\n",
       "      <th>44</th>\n",
       "      <td>Русский: \"ребенок\" - Français: \"enfant\"\\nРусск...</td>\n",
       "      <td>[9990, 712, 3855, 9521, 802, 29939, 439, 339]</td>\n",
       "      <td>queue</td>\n",
       "      <td>[941, 18237, 12464, 11062, 29873, 260]</td>\n",
       "      <td>tail</td>\n",
       "      <td>хвост</td>\n",
       "    </tr>\n",
       "    <tr>\n",
       "      <th>45</th>\n",
       "      <td>Русский: \"вид\" - Français: \"genre\"\\nРусский: \"...</td>\n",
       "      <td>[652, 29881, 6051, 17021, 270, 766, 2313, 2218]</td>\n",
       "      <td>discours</td>\n",
       "      <td>[29879, 805, 5965, 961, 1028, 269, 12032]</td>\n",
       "      <td>speech</td>\n",
       "      <td>речь</td>\n",
       "    </tr>\n",
       "    <tr>\n",
       "      <th>46</th>\n",
       "      <td>Русский: \"офис\" - Français: \"bureau\"\\nРусский:...</td>\n",
       "      <td>[427, 29872, 321, 23578, 12377, 264]</td>\n",
       "      <td>enfant</td>\n",
       "      <td>[305, 4161, 18558, 5145, 274, 2278, 521, 29883]</td>\n",
       "      <td>child</td>\n",
       "      <td>ребенок</td>\n",
       "    </tr>\n",
       "    <tr>\n",
       "      <th>47</th>\n",
       "      <td>Русский: \"озеро\" - Français: \"lac\"\\nРусский: \"...</td>\n",
       "      <td>[8399, 29890, 6866, 1321, 289, 2423]</td>\n",
       "      <td>bureau</td>\n",
       "      <td>[8034, 974, 20205, 29877, 2696, 310, 3344, 128...</td>\n",
       "      <td>office</td>\n",
       "      <td>офис</td>\n",
       "    </tr>\n",
       "    <tr>\n",
       "      <th>48</th>\n",
       "      <td>Русский: \"лес\" - Français: \"forêt\"\\nРусский: \"...</td>\n",
       "      <td>[4370, 1893, 2852, 904, 7342, 29948]</td>\n",
       "      <td>été</td>\n",
       "      <td>[2146, 2083, 11801, 29879, 22792, 480, 2533, 269]</td>\n",
       "      <td>summer</td>\n",
       "      <td>лето</td>\n",
       "    </tr>\n",
       "  </tbody>\n",
       "</table>\n",
       "</div>"
      ],
      "text/plain": [
       "                                               prompt  \\\n",
       "0   Русский: \"хвост\" - Français: \"queue\"\\nРусский:...   \n",
       "1   Русский: \"юг\" - Français: \"sud\"\\nРусский: \"вид...   \n",
       "2   Русский: \"песок\" - Français: \"sable\"\\nРусский:...   \n",
       "3   Русский: \"сиденье\" - Français: \"siège\"\\nРусски...   \n",
       "4   Русский: \"красный\" - Français: \"rouge\"\\nРусски...   \n",
       "5   Русский: \"долина\" - Français: \"vallée\"\\nРусски...   \n",
       "6   Русский: \"улица\" - Français: \"rue\"\\nРусский: \"...   \n",
       "7   Русский: \"слово\" - Français: \"mot\"\\nРусский: \"...   \n",
       "8   Русский: \"танец\" - Français: \"danse\"\\nРусский:...   \n",
       "9   Русский: \"лес\" - Français: \"forêt\"\\nРусский: \"...   \n",
       "10  Русский: \"мост\" - Français: \"pont\"\\nРусский: \"...   \n",
       "11  Русский: \"танец\" - Français: \"danse\"\\nРусский:...   \n",
       "12  Русский: \"звезда\" - Français: \"étoile\"\\nРусски...   \n",
       "13  Русский: \"улица\" - Français: \"rue\"\\nРусский: \"...   \n",
       "14  Русский: \"речь\" - Français: \"discours\"\\nРусски...   \n",
       "15  Русский: \"сиденье\" - Français: \"siège\"\\nРусски...   \n",
       "16  Русский: \"скорость\" - Français: \"vitesse\"\\nРус...   \n",
       "17  Русский: \"лицо\" - Français: \"visage\"\\nРусский:...   \n",
       "18  Русский: \"красный\" - Français: \"rouge\"\\nРусски...   \n",
       "19  Русский: \"офис\" - Français: \"bureau\"\\nРусский:...   \n",
       "20  Русский: \"пруд\" - Français: \"étang\"\\nРусский: ...   \n",
       "21  Русский: \"восемь\" - Français: \"huit\"\\nРусский:...   \n",
       "22  Русский: \"дверь\" - Français: \"porte\"\\nРусский:...   \n",
       "23  Русский: \"голова\" - Français: \"tête\"\\nРусский:...   \n",
       "24  Русский: \"юг\" - Français: \"sud\"\\nРусский: \"ули...   \n",
       "25  Русский: \"добродетель\" - Français: \"vertu\"\\nРу...   \n",
       "26  Русский: \"власть\" - Français: \"pouvoir\"\\nРусск...   \n",
       "27  Русский: \"лошадь\" - Français: \"cheval\"\\nРусски...   \n",
       "28  Русский: \"красота\" - Français: \"beauté\"\\nРусск...   \n",
       "29  Русский: \"нога\" - Français: \"pied\"\\nРусский: \"...   \n",
       "30  Русский: \"поражение\" - Français: \"défaite\"\\nРу...   \n",
       "31  Русский: \"племя\" - Français: \"tribu\"\\nРусский:...   \n",
       "32  Русский: \"звук\" - Français: \"son\"\\nРусский: \"д...   \n",
       "33  Русский: \"школа\" - Français: \"école\"\\nРусский:...   \n",
       "34  Русский: \"сердце\" - Français: \"cœur\"\\nРусский:...   \n",
       "35  Русский: \"чай\" - Français: \"thé\"\\nРусский: \"ул...   \n",
       "36  Русский: \"цветок\" - Français: \"fleur\"\\nРусский...   \n",
       "37  Русский: \"история\" - Français: \"histoire\"\\nРус...   \n",
       "38  Русский: \"лошадь\" - Français: \"cheval\"\\nРусски...   \n",
       "39  Русский: \"три\" - Français: \"trois\"\\nРусский: \"...   \n",
       "40  Русский: \"почва\" - Français: \"sol\"\\nРусский: \"...   \n",
       "41  Русский: \"красота\" - Français: \"beauté\"\\nРусск...   \n",
       "42  Русский: \"озеро\" - Français: \"lac\"\\nРусский: \"...   \n",
       "43  Русский: \"вид\" - Français: \"genre\"\\nРусский: \"...   \n",
       "44  Русский: \"ребенок\" - Français: \"enfant\"\\nРусск...   \n",
       "45  Русский: \"вид\" - Français: \"genre\"\\nРусский: \"...   \n",
       "46  Русский: \"офис\" - Français: \"bureau\"\\nРусский:...   \n",
       "47  Русский: \"озеро\" - Français: \"lac\"\\nРусский: \"...   \n",
       "48  Русский: \"лес\" - Français: \"forêt\"\\nРусский: \"...   \n",
       "\n",
       "                                         out_token_id out_token_str  \\\n",
       "0                            [29876, 4948, 3433, 302]         nuage   \n",
       "1                       [4977, 269, 872, 7067, 29879]           sac   \n",
       "2                      [1045, 29890, 16380, 833, 289]        bouche   \n",
       "3                                        [274, 29883]          cœur   \n",
       "4     [611, 5530, 24402, 29885, 1667, 3396, 655, 286]          main   \n",
       "5                            [1893, 2852, 904, 29948]        étoile   \n",
       "6       [29878, 364, 1253, 18475, 620, 276, 690, 337]       ressort   \n",
       "7                     [8092, 6092, 301, 29880, 25081]          lune   \n",
       "8    [305, 5815, 25875, 274, 10329, 521, 5083, 29883]       chanson   \n",
       "9                     [1893, 28899, 2852, 904, 29948]         étang   \n",
       "10          [373, 29877, 898, 13469, 265, 16504, 288]          onde   \n",
       "11                [330, 29887, 629, 17170, 4071, 867]        grotte   \n",
       "12                [592, 1050, 29885, 1004, 2778, 286]           mer   \n",
       "13     [1777, 5713, 29888, 7241, 977, 285, 1445, 934]         filet   \n",
       "14       [15957, 1631, 2930, 282, 12343, 29886, 5036]          pied   \n",
       "15                             [272, 29877, 470, 288]            or   \n",
       "16  [13732, 1971, 637, 772, 14931, 1277, 282, 2988...         porte   \n",
       "17                      [29876, 484, 452, 12106, 302]         neige   \n",
       "18    [305, 1173, 923, 25042, 274, 521, 29823, 29883]        cheval   \n",
       "19                       [29881, 270, 311, 4239, 316]          deux   \n",
       "20              [3855, 12134, 21408, 29939, 439, 339]        quatre   \n",
       "21        [455, 16381, 4583, 274, 17256, 4670, 29883]          cinq   \n",
       "22            [6905, 27052, 15669, 29882, 22888, 298]          huit   \n",
       "23                     [652, 29881, 23386, 6051, 270]           dix   \n",
       "24                                [17949, 29873, 260]          tête   \n",
       "25  [2571, 3719, 29890, 2291, 27628, 289, 9892, 99...         bande   \n",
       "26                     [29878, 364, 16014, 582, 5796]           rue   \n",
       "27  [305, 18480, 5815, 274, 10329, 521, 29883, 11179]         champ   \n",
       "28              [14817, 4346, 29885, 2730, 3184, 286]           mot   \n",
       "29  [3533, 2460, 23853, 286, 3737, 29885, 2316, 19...         mille   \n",
       "30               [1045, 29890, 16380, 833, 289, 6526]        bourse   \n",
       "31         [330, 29887, 1737, 2531, 16151, 1885, 479]         genre   \n",
       "32                          [4582, 29948, 904, 24618]         école   \n",
       "33             [12220, 274, 2181, 26844, 7283, 29883]       cravate   \n",
       "34               [3516, 1998, 1730, 29894, 325, 1403]        visage   \n",
       "35  [13185, 1112, 772, 12509, 282, 29886, 1129, 29...          pont   \n",
       "36  [2146, 1462, 29879, 12587, 19303, 13159, 480, ...     supprimer   \n",
       "37   [611, 5530, 24402, 29885, 655, 286, 3503, 18234]        maison   \n",
       "38                           [29878, 364, 5606, 1841]       réunion   \n",
       "39               [5777, 274, 4287, 1559, 1113, 29883]         carré   \n",
       "40  [3516, 17191, 11928, 8441, 29894, 325, 4909, 1...         ville   \n",
       "41                    [13901, 3516, 29894, 325, 1403]       vitesse   \n",
       "42                  [2929, 578, 269, 899, 577, 29879]           sol   \n",
       "43           [12033, 841, 734, 371, 3006, 29873, 260]     tentative   \n",
       "44      [9990, 712, 3855, 9521, 802, 29939, 439, 339]         queue   \n",
       "45    [652, 29881, 6051, 17021, 270, 766, 2313, 2218]      discours   \n",
       "46               [427, 29872, 321, 23578, 12377, 264]        enfant   \n",
       "47               [8399, 29890, 6866, 1321, 289, 2423]        bureau   \n",
       "48               [4370, 1893, 2852, 904, 7342, 29948]           été   \n",
       "\n",
       "                                      latent_token_id latent_token_str  \\\n",
       "0   [17184, 9570, 695, 9274, 15126, 274, 23642, 10...            cloud   \n",
       "1              [29890, 23156, 2291, 19548, 289, 9922]              bag   \n",
       "2       [4346, 29885, 29442, 2730, 13394, 21026, 286]            mouth   \n",
       "3           [540, 29882, 8293, 354, 298, 23057, 5192]            heart   \n",
       "4     [2350, 447, 5905, 29882, 1361, 5403, 298, 3179]             hand   \n",
       "5      [303, 380, 8508, 269, 9523, 5173, 5810, 29879]             star   \n",
       "6    [4278, 29879, 7689, 805, 15099, 1028, 6709, 269]           spring   \n",
       "7                     [4346, 29885, 2730, 18786, 286]             moon   \n",
       "8     [4823, 578, 269, 21453, 1487, 1100, 577, 29879]             song   \n",
       "9          [1112, 772, 12509, 282, 29886, 2818, 1129]             pond   \n",
       "10            [27766, 281, 2766, 11324, 10742, 29893]             wave   \n",
       "11             [5777, 18346, 274, 1113, 29883, 24230]             cave   \n",
       "12                       [269, 409, 344, 7205, 29879]              sea   \n",
       "13                 [484, 452, 7787, 302, 1212, 29876]              net   \n",
       "14   [29888, 7953, 5431, 3661, 285, 1701, 1181, 6661]             foot   \n",
       "15               [330, 29887, 15192, 748, 1484, 7684]             gold   \n",
       "16               [29881, 3050, 270, 437, 17433, 1867]             door   \n",
       "17                   [15007, 5807, 16586, 269, 29879]             snow   \n",
       "18  [11231, 10435, 1251, 4029, 29882, 2015, 298, 5...            horse   \n",
       "19              [260, 3252, 10184, 1023, 29873, 7516]              two   \n",
       "20       [29888, 17823, 285, 1701, 1181, 3023, 12584]             four   \n",
       "21              [29888, 5713, 7241, 285, 5320, 20818]             five   \n",
       "22            [9475, 29319, 29872, 321, 10096, 15761]            eight   \n",
       "23                  [841, 734, 371, 3006, 29873, 260]              ten   \n",
       "24                 [540, 2813, 29882, 354, 2343, 298]             head   \n",
       "25  [303, 380, 29879, 10076, 17010, 851, 17820, 71...            strip   \n",
       "26  [303, 380, 29879, 29352, 13045, 12243, 851, 11...           street   \n",
       "27        [1746, 5713, 29888, 7241, 285, 29607, 2671]            field   \n",
       "28   [13762, 1734, 6365, 281, 8879, 1742, 827, 29893]             word   \n",
       "29         [10405, 12595, 386, 266, 29873, 260, 7693]         thousand   \n",
       "30          [429, 14523, 29872, 321, 735, 6543, 5566]         exchange   \n",
       "31  [29895, 1984, 19015, 8506, 14380, 9089, 2924, ...             kind   \n",
       "32    [3762, 816, 29879, 885, 27041, 1364, 1557, 269]           school   \n",
       "33                   [22134, 2034, 19538, 29873, 260]              tie   \n",
       "34  [5444, 2161, 29888, 4024, 3700, 285, 2258, 17470]             face   \n",
       "35  [29890, 18419, 1506, 1182, 28635, 19515, 289, ...           bridge   \n",
       "36  [5217, 29881, 270, 8143, 7374, 628, 6144, 311,...           delete   \n",
       "37  [8697, 3699, 1251, 29882, 10774, 9261, 298, 5089]            house   \n",
       "38        [5870, 17897, 592, 29885, 1004, 286, 11781]          meeting   \n",
       "39  [3044, 6862, 26613, 29879, 10674, 17619, 18074...           square   \n",
       "40  [455, 12690, 7537, 4583, 274, 4272, 20752, 29883]             city   \n",
       "41    [29879, 19322, 805, 5965, 961, 6210, 1028, 269]            speed   \n",
       "42    [330, 29887, 2057, 629, 17170, 4071, 867, 5962]           ground   \n",
       "43  [15127, 271, 1131, 1098, 263, 472, 21609, 4218...          attempt   \n",
       "44             [941, 18237, 12464, 11062, 29873, 260]             tail   \n",
       "45          [29879, 805, 5965, 961, 1028, 269, 12032]           speech   \n",
       "46    [305, 4161, 18558, 5145, 274, 2278, 521, 29883]            child   \n",
       "47  [8034, 974, 20205, 29877, 2696, 310, 3344, 128...           office   \n",
       "48  [2146, 2083, 11801, 29879, 22792, 480, 2533, 269]           summer   \n",
       "\n",
       "   in_token_str  \n",
       "0        облако  \n",
       "1         сумка  \n",
       "2           рот  \n",
       "3        сердце  \n",
       "4          рука  \n",
       "5        звезда  \n",
       "6       пружина  \n",
       "7          луна  \n",
       "8         песня  \n",
       "9          пруд  \n",
       "10        волна  \n",
       "11       пещера  \n",
       "12         море  \n",
       "13        сетка  \n",
       "14         нога  \n",
       "15       золото  \n",
       "16        дверь  \n",
       "17         снег  \n",
       "18       лошадь  \n",
       "19          два  \n",
       "20       четыре  \n",
       "21         пять  \n",
       "22       восемь  \n",
       "23       десять  \n",
       "24       голова  \n",
       "25       полоса  \n",
       "26        улица  \n",
       "27         поле  \n",
       "28        слово  \n",
       "29       тысяча  \n",
       "30        биржа  \n",
       "31          вид  \n",
       "32        школа  \n",
       "33      галстук  \n",
       "34         лицо  \n",
       "35         мост  \n",
       "36      удалить  \n",
       "37          дом  \n",
       "38     собрание  \n",
       "39      квадрат  \n",
       "40        город  \n",
       "41     скорость  \n",
       "42        земля  \n",
       "43      попытка  \n",
       "44        хвост  \n",
       "45         речь  \n",
       "46      ребенок  \n",
       "47         офис  \n",
       "48         лето  "
      ]
     },
     "execution_count": 13,
     "metadata": {},
     "output_type": "execute_result"
    }
   ],
   "source": [
    "df"
   ]
  },
  {
   "cell_type": "code",
   "execution_count": 14,
   "id": "94fa55b7",
   "metadata": {
    "execution": {
     "iopub.execute_input": "2024-02-23T16:43:31.014240Z",
     "iopub.status.busy": "2024-02-23T16:43:31.014099Z",
     "iopub.status.idle": "2024-02-23T16:43:31.044270Z",
     "shell.execute_reply": "2024-02-23T16:43:31.043809Z"
    },
    "papermill": {
     "duration": 0.03944,
     "end_time": "2024-02-23T16:43:31.045144",
     "exception": false,
     "start_time": "2024-02-23T16:43:31.005704",
     "status": "completed"
    },
    "tags": []
   },
   "outputs": [],
   "source": [
    "def get_logits(model, prompt,lens):\n",
    "    inputs = tokenizer(prompt, return_tensors=\"pt\").to('cuda')\n",
    "    output = llama(inputs.input_ids, output_hidden_states=True)\n",
    "    hidden_states = output.hidden_states[:-1]\n",
    "    final_lps = output.logits.log_softmax(dim=-1)\n",
    "    tensors=[]\n",
    "    for i in range(32):\n",
    "        h = hidden_states[i].squeeze(0)\n",
    "        tensors+=[lens(h, idx=i).detach().cpu()]\n",
    "    tensors= torch.stack(tensors)  \n",
    "    hidden_states = torch.stack(hidden_states).squeeze(1).detach().cpu()\n",
    "    return tensors,hidden_states\n",
    "        "
   ]
  },
  {
   "cell_type": "code",
   "execution_count": 15,
   "id": "25241c49",
   "metadata": {
    "execution": {
     "iopub.execute_input": "2024-02-23T16:43:31.061562Z",
     "iopub.status.busy": "2024-02-23T16:43:31.061220Z",
     "iopub.status.idle": "2024-02-23T16:43:40.384801Z",
     "shell.execute_reply": "2024-02-23T16:43:40.384119Z"
    },
    "papermill": {
     "duration": 9.332475,
     "end_time": "2024-02-23T16:43:40.385666",
     "exception": false,
     "start_time": "2024-02-23T16:43:31.053191",
     "status": "completed"
    },
    "tags": []
   },
   "outputs": [
    {
     "name": "stderr",
     "output_type": "stream",
     "text": [
      "\r",
      "0it [00:00, ?it/s]"
     ]
    },
    {
     "name": "stderr",
     "output_type": "stream",
     "text": [
      "\r",
      "1it [00:00,  1.17it/s]"
     ]
    },
    {
     "name": "stderr",
     "output_type": "stream",
     "text": [
      "\r",
      "2it [00:01,  2.19it/s]"
     ]
    },
    {
     "name": "stderr",
     "output_type": "stream",
     "text": [
      "\r",
      "3it [00:01,  3.07it/s]"
     ]
    },
    {
     "name": "stderr",
     "output_type": "stream",
     "text": [
      "\r",
      "4it [00:01,  3.64it/s]"
     ]
    },
    {
     "name": "stderr",
     "output_type": "stream",
     "text": [
      "\r",
      "5it [00:01,  4.30it/s]"
     ]
    },
    {
     "name": "stderr",
     "output_type": "stream",
     "text": [
      "\r",
      "6it [00:01,  4.71it/s]"
     ]
    },
    {
     "name": "stderr",
     "output_type": "stream",
     "text": [
      "\r",
      "7it [00:01,  5.01it/s]"
     ]
    },
    {
     "name": "stderr",
     "output_type": "stream",
     "text": [
      "\r",
      "8it [00:02,  5.51it/s]"
     ]
    },
    {
     "name": "stderr",
     "output_type": "stream",
     "text": [
      "\r",
      "9it [00:02,  5.53it/s]"
     ]
    },
    {
     "name": "stderr",
     "output_type": "stream",
     "text": [
      "\r",
      "10it [00:02,  5.56it/s]"
     ]
    },
    {
     "name": "stderr",
     "output_type": "stream",
     "text": [
      "\r",
      "11it [00:02,  5.76it/s]"
     ]
    },
    {
     "name": "stderr",
     "output_type": "stream",
     "text": [
      "\r",
      "12it [00:02,  5.74it/s]"
     ]
    },
    {
     "name": "stderr",
     "output_type": "stream",
     "text": [
      "\r",
      "13it [00:02,  5.85it/s]"
     ]
    },
    {
     "name": "stderr",
     "output_type": "stream",
     "text": [
      "\r",
      "14it [00:03,  5.93it/s]"
     ]
    },
    {
     "name": "stderr",
     "output_type": "stream",
     "text": [
      "\r",
      "15it [00:03,  6.03it/s]"
     ]
    },
    {
     "name": "stderr",
     "output_type": "stream",
     "text": [
      "\r",
      "16it [00:03,  5.75it/s]"
     ]
    },
    {
     "name": "stderr",
     "output_type": "stream",
     "text": [
      "\r",
      "17it [00:03,  5.91it/s]"
     ]
    },
    {
     "name": "stderr",
     "output_type": "stream",
     "text": [
      "\r",
      "18it [00:03,  5.87it/s]"
     ]
    },
    {
     "name": "stderr",
     "output_type": "stream",
     "text": [
      "\r",
      "19it [00:03,  5.81it/s]"
     ]
    },
    {
     "name": "stderr",
     "output_type": "stream",
     "text": [
      "\r",
      "20it [00:04,  5.83it/s]"
     ]
    },
    {
     "name": "stderr",
     "output_type": "stream",
     "text": [
      "\r",
      "21it [00:04,  5.82it/s]"
     ]
    },
    {
     "name": "stderr",
     "output_type": "stream",
     "text": [
      "\r",
      "22it [00:04,  5.90it/s]"
     ]
    },
    {
     "name": "stderr",
     "output_type": "stream",
     "text": [
      "\r",
      "23it [00:04,  5.97it/s]"
     ]
    },
    {
     "name": "stderr",
     "output_type": "stream",
     "text": [
      "\r",
      "24it [00:04,  6.05it/s]"
     ]
    },
    {
     "name": "stderr",
     "output_type": "stream",
     "text": [
      "\r",
      "25it [00:04,  6.08it/s]"
     ]
    },
    {
     "name": "stderr",
     "output_type": "stream",
     "text": [
      "\r",
      "26it [00:05,  6.16it/s]"
     ]
    },
    {
     "name": "stderr",
     "output_type": "stream",
     "text": [
      "\r",
      "27it [00:05,  6.10it/s]"
     ]
    },
    {
     "name": "stderr",
     "output_type": "stream",
     "text": [
      "\r",
      "28it [00:05,  6.32it/s]"
     ]
    },
    {
     "name": "stderr",
     "output_type": "stream",
     "text": [
      "\r",
      "29it [00:05,  6.25it/s]"
     ]
    },
    {
     "name": "stderr",
     "output_type": "stream",
     "text": [
      "\r",
      "30it [00:05,  6.08it/s]"
     ]
    },
    {
     "name": "stderr",
     "output_type": "stream",
     "text": [
      "\r",
      "31it [00:05,  6.23it/s]"
     ]
    },
    {
     "name": "stderr",
     "output_type": "stream",
     "text": [
      "\r",
      "32it [00:06,  5.88it/s]"
     ]
    },
    {
     "name": "stderr",
     "output_type": "stream",
     "text": [
      "\r",
      "33it [00:06,  5.76it/s]"
     ]
    },
    {
     "name": "stderr",
     "output_type": "stream",
     "text": [
      "\r",
      "34it [00:06,  5.98it/s]"
     ]
    },
    {
     "name": "stderr",
     "output_type": "stream",
     "text": [
      "\r",
      "35it [00:06,  6.17it/s]"
     ]
    },
    {
     "name": "stderr",
     "output_type": "stream",
     "text": [
      "\r",
      "36it [00:06,  6.22it/s]"
     ]
    },
    {
     "name": "stderr",
     "output_type": "stream",
     "text": [
      "\r",
      "37it [00:06,  6.21it/s]"
     ]
    },
    {
     "name": "stderr",
     "output_type": "stream",
     "text": [
      "\r",
      "38it [00:07,  5.80it/s]"
     ]
    },
    {
     "name": "stderr",
     "output_type": "stream",
     "text": [
      "\r",
      "39it [00:07,  5.44it/s]"
     ]
    },
    {
     "name": "stderr",
     "output_type": "stream",
     "text": [
      "\r",
      "40it [00:07,  5.69it/s]"
     ]
    },
    {
     "name": "stderr",
     "output_type": "stream",
     "text": [
      "\r",
      "41it [00:07,  5.69it/s]"
     ]
    },
    {
     "name": "stderr",
     "output_type": "stream",
     "text": [
      "\r",
      "42it [00:07,  5.67it/s]"
     ]
    },
    {
     "name": "stderr",
     "output_type": "stream",
     "text": [
      "\r",
      "43it [00:07,  5.64it/s]"
     ]
    },
    {
     "name": "stderr",
     "output_type": "stream",
     "text": [
      "\r",
      "44it [00:08,  5.28it/s]"
     ]
    },
    {
     "name": "stderr",
     "output_type": "stream",
     "text": [
      "\r",
      "45it [00:08,  4.81it/s]"
     ]
    },
    {
     "name": "stderr",
     "output_type": "stream",
     "text": [
      "\r",
      "46it [00:08,  4.69it/s]"
     ]
    },
    {
     "name": "stderr",
     "output_type": "stream",
     "text": [
      "\r",
      "47it [00:08,  4.77it/s]"
     ]
    },
    {
     "name": "stderr",
     "output_type": "stream",
     "text": [
      "\r",
      "48it [00:09,  4.84it/s]"
     ]
    },
    {
     "name": "stderr",
     "output_type": "stream",
     "text": [
      "\r",
      "49it [00:09,  5.07it/s]"
     ]
    },
    {
     "name": "stderr",
     "output_type": "stream",
     "text": [
      "\r",
      "49it [00:09,  5.30it/s]"
     ]
    },
    {
     "name": "stderr",
     "output_type": "stream",
     "text": [
      "\n"
     ]
    }
   ],
   "source": [
    "in_token_probs = []\n",
    "latent_token_probs = []\n",
    "out_token_probs = []\n",
    "entropy = []\n",
    "energy = []\n",
    "latents_all = []\n",
    "\n",
    "for idx, d in tqdm(enumerate(dataset)):\n",
    "    logits,latents = get_logits(llama, d['prompt'],llama_lens)\n",
    "    last = logits[:, -1, :].float().softmax(dim=-1).detach().cpu()\n",
    "    latent_token_probs += [last[:, torch.tensor(d['latent_token_id'])].sum(dim=-1)]\n",
    "    out_token_probs += [last[:, torch.tensor(d['out_token_id'])].sum(dim=-1)]\n",
    "    entropy += [compute_entropy(last)]\n",
    "    latents_all += [latents[:, -1, :].float().detach().cpu().clone()]\n",
    "    latents_normalized = latents[:, -1, :].float()\n",
    "    latents_normalized = latents_normalized / (((latents_normalized**2).mean(dim=-1, keepdim=True))**0.5)\n",
    "    latents_normalized /= (latents_normalized.norm(dim=-1, keepdim=True))\n",
    "    norm = ((U_normalized @ latents_normalized.T)**2).mean(dim=0)**0.5\n",
    "    energy += [norm/avgUU]\n",
    "\n",
    "latent_token_probs = torch.stack(latent_token_probs)\n",
    "out_token_probs = torch.stack(out_token_probs)\n",
    "entropy = torch.stack(entropy)\n",
    "energy = torch.stack(energy)\n",
    "latents = torch.stack(latents_all)"
   ]
  },
  {
   "cell_type": "code",
   "execution_count": 16,
   "id": "680ef0b2",
   "metadata": {
    "execution": {
     "iopub.execute_input": "2024-02-23T16:43:40.405781Z",
     "iopub.status.busy": "2024-02-23T16:43:40.405590Z",
     "iopub.status.idle": "2024-02-23T16:43:40.817559Z",
     "shell.execute_reply": "2024-02-23T16:43:40.817134Z"
    },
    "papermill": {
     "duration": 0.42254,
     "end_time": "2024-02-23T16:43:40.818332",
     "exception": false,
     "start_time": "2024-02-23T16:43:40.395792",
     "status": "completed"
    },
    "tags": []
   },
   "outputs": [
    {
     "name": "stderr",
     "output_type": "stream",
     "text": [
      "/mnt/ssd-1/gpaulo/llm-latent-language/utils.py:52: UserWarning: This figure includes Axes that are not compatible with tight_layout, so results might be incorrect.\n",
      "  plt.tight_layout()\n"
     ]
    },
    {
     "data": {
      "image/png": "[encoded data removed]",
      "text/plain": [
       "<Figure size 500x300 with 3 Axes>"
      ]
     },
     "metadata": {},
     "output_type": "display_data"
    }
   ],
   "source": [
    "size2tik = {'7b': 5, '13b': 5, '70b': 10}\n",
    "fig, ax, ax2 = plot_ci_plus_heatmap(latent_token_probs, entropy, latent, color='tab:orange', tik_step=size2tik[model_size], do_colorbar=True, #, do_colorbar=(model_size=='70b'),\n",
    "nums=[.99, 0.18, 0.025, 0.6])\n",
    "plot_ci(ax2, out_token_probs, target_lang, color='tab:blue', do_lines=False)\n",
    "ax2.set_xlabel('layer')\n",
    "ax2.set_ylabel('probability')\n",
    "if model_size == '7b':\n",
    "    ax2.set_xlim(0, out_token_probs.shape[1]+1)\n",
    "else:\n",
    "    ax2.set_xlim(0, round(out_token_probs.shape[1]/10)*10+1)\n",
    "ax2.set_ylim(0, 1)\n",
    "# make xticks start from 1\n",
    "# put legend on the top left\n",
    "ax2.legend(loc='upper left')\n",
    "os.makedirs(f'{out_dir}/translation', exist_ok=True)\n",
    "\n",
    "plt.savefig(f'{out_dir}/translation/{model_size}_{input_lang}_{target_lang}_probas_ent.jpg', dpi=300, bbox_inches='tight')"
   ]
  },
  {
   "cell_type": "code",
   "execution_count": 17,
   "id": "48c50e4a",
   "metadata": {
    "execution": {
     "iopub.execute_input": "2024-02-23T16:43:40.841083Z",
     "iopub.status.busy": "2024-02-23T16:43:40.840833Z",
     "iopub.status.idle": "2024-02-23T16:43:41.020965Z",
     "shell.execute_reply": "2024-02-23T16:43:41.020549Z"
    },
    "papermill": {
     "duration": 0.191656,
     "end_time": "2024-02-23T16:43:41.021734",
     "exception": false,
     "start_time": "2024-02-23T16:43:40.830078",
     "status": "completed"
    },
    "tags": []
   },
   "outputs": [
    {
     "data": {
      "image/png": "[encoded data removed]",
      "text/plain": [
       "<Figure size 500x300 with 1 Axes>"
      ]
     },
     "metadata": {},
     "output_type": "display_data"
    }
   ],
   "source": [
    "size2tik = {'7b': 5, '13b': 5, '70b': 10}\n",
    "\n",
    "fig, ax2 = plt.subplots(figsize=(5,3))\n",
    "plot_ci(ax2, energy, 'energy', color='tab:green', do_lines=True, tik_step=size2tik[model_size])\n",
    "ax2.set_xlabel('layer')\n",
    "ax2.set_ylabel('energy')\n",
    "if model_size == '7b':\n",
    "    ax2.set_xlim(0, out_token_probs.shape[1]+1)\n",
    "else:\n",
    "    ax2.set_xlim(0, round(out_token_probs.shape[1]/10)*10+1)\n",
    "os.makedirs(f'{out_dir}/translation', exist_ok=True)\n",
    "plt.savefig(f'{out_dir}/translation/{model_size}_{input_lang}_{target_lang}_energy.jpg', dpi=300, bbox_inches='tight')"
   ]
  },
  {
   "cell_type": "code",
   "execution_count": null,
   "id": "de0f66f1",
   "metadata": {
    "papermill": {
     "duration": 0.009622,
     "end_time": "2024-02-23T16:43:41.042505",
     "exception": false,
     "start_time": "2024-02-23T16:43:41.032883",
     "status": "completed"
    },
    "tags": []
   },
   "outputs": [],
   "source": []
  }
 ],
 "metadata": {
  "kernelspec": {
   "display_name": "Python 3 (ipykernel)",
   "language": "python",
   "name": "python3"
  },
  "language_info": {
   "codemirror_mode": {
    "name": "ipython",
    "version": 3
   },
   "file_extension": ".py",
   "mimetype": "text/x-python",
   "name": "python",
   "nbconvert_exporter": "python",
   "pygments_lexer": "ipython3",
   "version": "3.11.5"
  },
  "papermill": {
   "default_parameters": {},
   "duration": 52.249352,
   "end_time": "2024-02-23T16:43:43.616244",
   "environment_variables": {},
   "exception": null,
   "input_path": "Translation.ipynb",
   "output_path": "visuals/executed_notebooks/Translation_tuned_7b_ru_fr.ipynb",
   "parameters": {
    "input_lang": "ru",
    "model_size": "7b",
    "target_lang": "fr",
    "type": "tuned"
   },
   "start_time": "2024-02-23T16:42:51.366892",
   "version": "2.5.0"
  },
  "widgets": {
   "application/vnd.jupyter.widget-state+json": {
    "state": {
     "0311eb555d2043d2a4c0585e1b7476cb": {
      "model_module": "@jupyter-widgets/controls",
      "model_module_version": "2.0.0",
      "model_name": "HTMLModel",
      "state": {
       "_dom_classes": [],
       "_model_module": "@jupyter-widgets/controls",
       "_model_module_version": "2.0.0",
       "_model_name": "HTMLModel",
       "_view_count": null,
       "_view_module": "@jupyter-widgets/controls",
       "_view_module_version": "2.0.0",
       "_view_name": "HTMLView",
       "description": "",
       "description_allow_html": false,
       "layout": "IPY_MODEL_c75c106093014259b5c53230ae7b8ff4",
       "placeholder": "​",
       "style": "IPY_MODEL_c2290de46b674f28ba75634e3f730080",
       "tabbable": null,
       "tooltip": null,
       "value": " 258/258 [00:00&lt;00:00, 57.6kB/s]"
      }
     },
     "0a835c395a2d435ab01e6a048bef0dfa": {
      "model_module": "@jupyter-widgets/base",
      "model_module_version": "2.0.0",
      "model_name": "LayoutModel",
      "state": {
       "_model_module": "@jupyter-widgets/base",
       "_model_module_version": "2.0.0",
       "_model_name": "LayoutModel",
       "_view_count": null,
       "_view_module": "@jupyter-widgets/base",
       "_view_module_version": "2.0.0",
       "_view_name": "LayoutView",
       "align_content": null,
       "align_items": null,
       "align_self": null,
       "border_bottom": null,
       "border_left": null,
       "border_right": null,
       "border_top": null,
       "bottom": null,
       "display": null,
       "flex": null,
       "flex_flow": null,
       "grid_area": null,
       "grid_auto_columns": null,
       "grid_auto_flow": null,
       "grid_auto_rows": null,
       "grid_column": null,
       "grid_gap": null,
       "grid_row": null,
       "grid_template_areas": null,
       "grid_template_columns": null,
       "grid_template_rows": null,
       "height": null,
       "justify_content": null,
       "justify_items": null,
       "left": null,
       "margin": null,
       "max_height": null,
       "max_width": null,
       "min_height": null,
       "min_width": null,
       "object_fit": null,
       "object_position": null,
       "order": null,
       "overflow": null,
       "padding": null,
       "right": null,
       "top": null,
       "visibility": null,
       "width": null
      }
     },
     "0f29f926244041d4826a933747447bbd": {
      "model_module": "@jupyter-widgets/controls",
      "model_module_version": "2.0.0",
      "model_name": "HTMLStyleModel",
      "state": {
       "_model_module": "@jupyter-widgets/controls",
       "_model_module_version": "2.0.0",
       "_model_name": "HTMLStyleModel",
       "_view_count": null,
       "_view_module": "@jupyter-widgets/base",
       "_view_module_version": "2.0.0",
       "_view_name": "StyleView",
       "background": null,
       "description_width": "",
       "font_size": null,
       "text_color": null
      }
     },
     "2bce1abcb91447acad84f7032bb8b8a2": {
      "model_module": "@jupyter-widgets/controls",
      "model_module_version": "2.0.0",
      "model_name": "HTMLStyleModel",
      "state": {
       "_model_module": "@jupyter-widgets/controls",
       "_model_module_version": "2.0.0",
       "_model_name": "HTMLStyleModel",
       "_view_count": null,
       "_view_module": "@jupyter-widgets/base",
       "_view_module_version": "2.0.0",
       "_view_name": "StyleView",
       "background": null,
       "description_width": "",
       "font_size": null,
       "text_color": null
      }
     },
     "2bdec706b9214cab85fd64146a439d68": {
      "model_module": "@jupyter-widgets/controls",
      "model_module_version": "2.0.0",
      "model_name": "FloatProgressModel",
      "state": {
       "_dom_classes": [],
       "_model_module": "@jupyter-widgets/controls",
       "_model_module_version": "2.0.0",
       "_model_name": "FloatProgressModel",
       "_view_count": null,
       "_view_module": "@jupyter-widgets/controls",
       "_view_module_version": "2.0.0",
       "_view_name": "ProgressView",
       "bar_style": "success",
       "description": "",
       "description_allow_html": false,
       "layout": "IPY_MODEL_a39828405ef0415c9ec5fc3cc157c2c8",
       "max": 2148023459.0,
       "min": 0.0,
       "orientation": "horizontal",
       "style": "IPY_MODEL_5268c7db88a64d488449f9225628af68",
       "tabbable": null,
       "tooltip": null,
       "value": 2148023459.0
      }
     },
     "39905be12e39428c9c21ee2211bd2625": {
      "model_module": "@jupyter-widgets/base",
      "model_module_version": "2.0.0",
      "model_name": "LayoutModel",
      "state": {
       "_model_module": "@jupyter-widgets/base",
       "_model_module_version": "2.0.0",
       "_model_name": "LayoutModel",
       "_view_count": null,
       "_view_module": "@jupyter-widgets/base",
       "_view_module_version": "2.0.0",
       "_view_name": "LayoutView",
       "align_content": null,
       "align_items": null,
       "align_self": null,
       "border_bottom": null,
       "border_left": null,
       "border_right": null,
       "border_top": null,
       "bottom": null,
       "display": null,
       "flex": null,
       "flex_flow": null,
       "grid_area": null,
       "grid_auto_columns": null,
       "grid_auto_flow": null,
       "grid_auto_rows": null,
       "grid_column": null,
       "grid_gap": null,
       "grid_row": null,
       "grid_template_areas": null,
       "grid_template_columns": null,
       "grid_template_rows": null,
       "height": null,
       "justify_content": null,
       "justify_items": null,
       "left": null,
       "margin": null,
       "max_height": null,
       "max_width": null,
       "min_height": null,
       "min_width": null,
       "object_fit": null,
       "object_position": null,
       "order": null,
       "overflow": null,
       "padding": null,
       "right": null,
       "top": null,
       "visibility": null,
       "width": null
      }
     },
     "5268c7db88a64d488449f9225628af68": {
      "model_module": "@jupyter-widgets/controls",
      "model_module_version": "2.0.0",
      "model_name": "ProgressStyleModel",
      "state": {
       "_model_module": "@jupyter-widgets/controls",
       "_model_module_version": "2.0.0",
       "_model_name": "ProgressStyleModel",
       "_view_count": null,
       "_view_module": "@jupyter-widgets/base",
       "_view_module_version": "2.0.0",
       "_view_name": "StyleView",
       "bar_color": null,
       "description_width": ""
      }
     },
     "5bd1f688ab0b438f8c6a7ecfdf821acd": {
      "model_module": "@jupyter-widgets/controls",
      "model_module_version": "2.0.0",
      "model_name": "FloatProgressModel",
      "state": {
       "_dom_classes": [],
       "_model_module": "@jupyter-widgets/controls",
       "_model_module_version": "2.0.0",
       "_model_name": "FloatProgressModel",
       "_view_count": null,
       "_view_module": "@jupyter-widgets/controls",
       "_view_module_version": "2.0.0",
       "_view_name": "ProgressView",
       "bar_style": "success",
       "description": "",
       "description_allow_html": false,
       "layout": "IPY_MODEL_6af07300d0854bd8846a5ab683c55ab1",
       "max": 2.0,
       "min": 0.0,
       "orientation": "horizontal",
       "style": "IPY_MODEL_6bc394848edd46918ff589517d49bdf7",
       "tabbable": null,
       "tooltip": null,
       "value": 2.0
      }
     },
     "5d02cd8266be4e6ca95194aaf9f102ba": {
      "model_module": "@jupyter-widgets/controls",
      "model_module_version": "2.0.0",
      "model_name": "HTMLModel",
      "state": {
       "_dom_classes": [],
       "_model_module": "@jupyter-widgets/controls",
       "_model_module_version": "2.0.0",
       "_model_name": "HTMLModel",
       "_view_count": null,
       "_view_module": "@jupyter-widgets/controls",
       "_view_module_version": "2.0.0",
       "_view_name": "HTMLView",
       "description": "",
       "description_allow_html": false,
       "layout": "IPY_MODEL_d2eb897ad50841a4bc0a33284c762107",
       "placeholder": "​",
       "style": "IPY_MODEL_c1b461543ff64178a6b55d66366f8dd5",
       "tabbable": null,
       "tooltip": null,
       "value": "Loading checkpoint shards: 100%"
      }
     },
     "5fc08368d9b748d4876f70edcef1f614": {
      "model_module": "@jupyter-widgets/controls",
      "model_module_version": "2.0.0",
      "model_name": "HTMLModel",
      "state": {
       "_dom_classes": [],
       "_model_module": "@jupyter-widgets/controls",
       "_model_module_version": "2.0.0",
       "_model_name": "HTMLModel",
       "_view_count": null,
       "_view_module": "@jupyter-widgets/controls",
       "_view_module_version": "2.0.0",
       "_view_name": "HTMLView",
       "description": "",
       "description_allow_html": false,
       "layout": "IPY_MODEL_39905be12e39428c9c21ee2211bd2625",
       "placeholder": "​",
       "style": "IPY_MODEL_2bce1abcb91447acad84f7032bb8b8a2",
       "tabbable": null,
       "tooltip": null,
       "value": "params.pt: 100%"
      }
     },
     "6312fb80df1346afb3e115e27c24e1e3": {
      "model_module": "@jupyter-widgets/controls",
      "model_module_version": "2.0.0",
      "model_name": "HTMLStyleModel",
      "state": {
       "_model_module": "@jupyter-widgets/controls",
       "_model_module_version": "2.0.0",
       "_model_name": "HTMLStyleModel",
       "_view_count": null,
       "_view_module": "@jupyter-widgets/base",
       "_view_module_version": "2.0.0",
       "_view_name": "StyleView",
       "background": null,
       "description_width": "",
       "font_size": null,
       "text_color": null
      }
     },
     "6af07300d0854bd8846a5ab683c55ab1": {
      "model_module": "@jupyter-widgets/base",
      "model_module_version": "2.0.0",
      "model_name": "LayoutModel",
      "state": {
       "_model_module": "@jupyter-widgets/base",
       "_model_module_version": "2.0.0",
       "_model_name": "LayoutModel",
       "_view_count": null,
       "_view_module": "@jupyter-widgets/base",
       "_view_module_version": "2.0.0",
       "_view_name": "LayoutView",
       "align_content": null,
       "align_items": null,
       "align_self": null,
       "border_bottom": null,
       "border_left": null,
       "border_right": null,
       "border_top": null,
       "bottom": null,
       "display": null,
       "flex": null,
       "flex_flow": null,
       "grid_area": null,
       "grid_auto_columns": null,
       "grid_auto_flow": null,
       "grid_auto_rows": null,
       "grid_column": null,
       "grid_gap": null,
       "grid_row": null,
       "grid_template_areas": null,
       "grid_template_columns": null,
       "grid_template_rows": null,
       "height": null,
       "justify_content": null,
       "justify_items": null,
       "left": null,
       "margin": null,
       "max_height": null,
       "max_width": null,
       "min_height": null,
       "min_width": null,
       "object_fit": null,
       "object_position": null,
       "order": null,
       "overflow": null,
       "padding": null,
       "right": null,
       "top": null,
       "visibility": null,
       "width": null
      }
     },
     "6bc394848edd46918ff589517d49bdf7": {
      "model_module": "@jupyter-widgets/controls",
      "model_module_version": "2.0.0",
      "model_name": "ProgressStyleModel",
      "state": {
       "_model_module": "@jupyter-widgets/controls",
       "_model_module_version": "2.0.0",
       "_model_name": "ProgressStyleModel",
       "_view_count": null,
       "_view_module": "@jupyter-widgets/base",
       "_view_module_version": "2.0.0",
       "_view_name": "StyleView",
       "bar_color": null,
       "description_width": ""
      }
     },
     "6be06df3877f444da3ac65ffd363e295": {
      "model_module": "@jupyter-widgets/base",
      "model_module_version": "2.0.0",
      "model_name": "LayoutModel",
      "state": {
       "_model_module": "@jupyter-widgets/base",
       "_model_module_version": "2.0.0",
       "_model_name": "LayoutModel",
       "_view_count": null,
       "_view_module": "@jupyter-widgets/base",
       "_view_module_version": "2.0.0",
       "_view_name": "LayoutView",
       "align_content": null,
       "align_items": null,
       "align_self": null,
       "border_bottom": null,
       "border_left": null,
       "border_right": null,
       "border_top": null,
       "bottom": null,
       "display": null,
       "flex": null,
       "flex_flow": null,
       "grid_area": null,
       "grid_auto_columns": null,
       "grid_auto_flow": null,
       "grid_auto_rows": null,
       "grid_column": null,
       "grid_gap": null,
       "grid_row": null,
       "grid_template_areas": null,
       "grid_template_columns": null,
       "grid_template_rows": null,
       "height": null,
       "justify_content": null,
       "justify_items": null,
       "left": null,
       "margin": null,
       "max_height": null,
       "max_width": null,
       "min_height": null,
       "min_width": null,
       "object_fit": null,
       "object_position": null,
       "order": null,
       "overflow": null,
       "padding": null,
       "right": null,
       "top": null,
       "visibility": null,
       "width": null
      }
     },
     "7953ff657dc24ba48d4e424257920482": {
      "model_module": "@jupyter-widgets/base",
      "model_module_version": "2.0.0",
      "model_name": "LayoutModel",
      "state": {
       "_model_module": "@jupyter-widgets/base",
       "_model_module_version": "2.0.0",
       "_model_name": "LayoutModel",
       "_view_count": null,
       "_view_module": "@jupyter-widgets/base",
       "_view_module_version": "2.0.0",
       "_view_name": "LayoutView",
       "align_content": null,
       "align_items": null,
       "align_self": null,
       "border_bottom": null,
       "border_left": null,
       "border_right": null,
       "border_top": null,
       "bottom": null,
       "display": null,
       "flex": null,
       "flex_flow": null,
       "grid_area": null,
       "grid_auto_columns": null,
       "grid_auto_flow": null,
       "grid_auto_rows": null,
       "grid_column": null,
       "grid_gap": null,
       "grid_row": null,
       "grid_template_areas": null,
       "grid_template_columns": null,
       "grid_template_rows": null,
       "height": null,
       "justify_content": null,
       "justify_items": null,
       "left": null,
       "margin": null,
       "max_height": null,
       "max_width": null,
       "min_height": null,
       "min_width": null,
       "object_fit": null,
       "object_position": null,
       "order": null,
       "overflow": null,
       "padding": null,
       "right": null,
       "top": null,
       "visibility": null,
       "width": null
      }
     },
     "7bbaf13e12f64b98b007b9a534de3368": {
      "model_module": "@jupyter-widgets/controls",
      "model_module_version": "2.0.0",
      "model_name": "HBoxModel",
      "state": {
       "_dom_classes": [],
       "_model_module": "@jupyter-widgets/controls",
       "_model_module_version": "2.0.0",
       "_model_name": "HBoxModel",
       "_view_count": null,
       "_view_module": "@jupyter-widgets/controls",
       "_view_module_version": "2.0.0",
       "_view_name": "HBoxView",
       "box_style": "",
       "children": [
        "IPY_MODEL_9df2f1ac615a45d1924581aed6956f07",
        "IPY_MODEL_c7915fe94d364cfb861704b42121475d",
        "IPY_MODEL_0311eb555d2043d2a4c0585e1b7476cb"
       ],
       "layout": "IPY_MODEL_7953ff657dc24ba48d4e424257920482",
       "tabbable": null,
       "tooltip": null
      }
     },
     "7ec61e9542bd4956ae0bd9ee295f63ff": {
      "model_module": "@jupyter-widgets/base",
      "model_module_version": "2.0.0",
      "model_name": "LayoutModel",
      "state": {
       "_model_module": "@jupyter-widgets/base",
       "_model_module_version": "2.0.0",
       "_model_name": "LayoutModel",
       "_view_count": null,
       "_view_module": "@jupyter-widgets/base",
       "_view_module_version": "2.0.0",
       "_view_name": "LayoutView",
       "align_content": null,
       "align_items": null,
       "align_self": null,
       "border_bottom": null,
       "border_left": null,
       "border_right": null,
       "border_top": null,
       "bottom": null,
       "display": null,
       "flex": null,
       "flex_flow": null,
       "grid_area": null,
       "grid_auto_columns": null,
       "grid_auto_flow": null,
       "grid_auto_rows": null,
       "grid_column": null,
       "grid_gap": null,
       "grid_row": null,
       "grid_template_areas": null,
       "grid_template_columns": null,
       "grid_template_rows": null,
       "height": null,
       "justify_content": null,
       "justify_items": null,
       "left": null,
       "margin": null,
       "max_height": null,
       "max_width": null,
       "min_height": null,
       "min_width": null,
       "object_fit": null,
       "object_position": null,
       "order": null,
       "overflow": null,
       "padding": null,
       "right": null,
       "top": null,
       "visibility": null,
       "width": null
      }
     },
     "85b22247183442149ac012060d233de4": {
      "model_module": "@jupyter-widgets/controls",
      "model_module_version": "2.0.0",
      "model_name": "HTMLModel",
      "state": {
       "_dom_classes": [],
       "_model_module": "@jupyter-widgets/controls",
       "_model_module_version": "2.0.0",
       "_model_name": "HTMLModel",
       "_view_count": null,
       "_view_module": "@jupyter-widgets/controls",
       "_view_module_version": "2.0.0",
       "_view_name": "HTMLView",
       "description": "",
       "description_allow_html": false,
       "layout": "IPY_MODEL_6be06df3877f444da3ac65ffd363e295",
       "placeholder": "​",
       "style": "IPY_MODEL_c1279fc13c574861a287c54a99926119",
       "tabbable": null,
       "tooltip": null,
       "value": " 2/2 [00:04&lt;00:00,  2.23s/it]"
      }
     },
     "9df2f1ac615a45d1924581aed6956f07": {
      "model_module": "@jupyter-widgets/controls",
      "model_module_version": "2.0.0",
      "model_name": "HTMLModel",
      "state": {
       "_dom_classes": [],
       "_model_module": "@jupyter-widgets/controls",
       "_model_module_version": "2.0.0",
       "_model_name": "HTMLModel",
       "_view_count": null,
       "_view_module": "@jupyter-widgets/controls",
       "_view_module_version": "2.0.0",
       "_view_name": "HTMLView",
       "description": "",
       "description_allow_html": false,
       "layout": "IPY_MODEL_c6f02e1f2714440e993e0f172814aacf",
       "placeholder": "​",
       "style": "IPY_MODEL_0f29f926244041d4826a933747447bbd",
       "tabbable": null,
       "tooltip": null,
       "value": "(…)ens/meta-llama/Llama-2-7b-hf/config.json: 100%"
      }
     },
     "a39828405ef0415c9ec5fc3cc157c2c8": {
      "model_module": "@jupyter-widgets/base",
      "model_module_version": "2.0.0",
      "model_name": "LayoutModel",
      "state": {
       "_model_module": "@jupyter-widgets/base",
       "_model_module_version": "2.0.0",
       "_model_name": "LayoutModel",
       "_view_count": null,
       "_view_module": "@jupyter-widgets/base",
       "_view_module_version": "2.0.0",
       "_view_name": "LayoutView",
       "align_content": null,
       "align_items": null,
       "align_self": null,
       "border_bottom": null,
       "border_left": null,
       "border_right": null,
       "border_top": null,
       "bottom": null,
       "display": null,
       "flex": null,
       "flex_flow": null,
       "grid_area": null,
       "grid_auto_columns": null,
       "grid_auto_flow": null,
       "grid_auto_rows": null,
       "grid_column": null,
       "grid_gap": null,
       "grid_row": null,
       "grid_template_areas": null,
       "grid_template_columns": null,
       "grid_template_rows": null,
       "height": null,
       "justify_content": null,
       "justify_items": null,
       "left": null,
       "margin": null,
       "max_height": null,
       "max_width": null,
       "min_height": null,
       "min_width": null,
       "object_fit": null,
       "object_position": null,
       "order": null,
       "overflow": null,
       "padding": null,
       "right": null,
       "top": null,
       "visibility": null,
       "width": null
      }
     },
     "c068625b09ee4c3e80912e2dfce9c27d": {
      "model_module": "@jupyter-widgets/controls",
      "model_module_version": "2.0.0",
      "model_name": "HTMLModel",
      "state": {
       "_dom_classes": [],
       "_model_module": "@jupyter-widgets/controls",
       "_model_module_version": "2.0.0",
       "_model_name": "HTMLModel",
       "_view_count": null,
       "_view_module": "@jupyter-widgets/controls",
       "_view_module_version": "2.0.0",
       "_view_name": "HTMLView",
       "description": "",
       "description_allow_html": false,
       "layout": "IPY_MODEL_0a835c395a2d435ab01e6a048bef0dfa",
       "placeholder": "​",
       "style": "IPY_MODEL_6312fb80df1346afb3e115e27c24e1e3",
       "tabbable": null,
       "tooltip": null,
       "value": " 2.15G/2.15G [00:04&lt;00:00, 532MB/s]"
      }
     },
     "c1279fc13c574861a287c54a99926119": {
      "model_module": "@jupyter-widgets/controls",
      "model_module_version": "2.0.0",
      "model_name": "HTMLStyleModel",
      "state": {
       "_model_module": "@jupyter-widgets/controls",
       "_model_module_version": "2.0.0",
       "_model_name": "HTMLStyleModel",
       "_view_count": null,
       "_view_module": "@jupyter-widgets/base",
       "_view_module_version": "2.0.0",
       "_view_name": "StyleView",
       "background": null,
       "description_width": "",
       "font_size": null,
       "text_color": null
      }
     },
     "c1b461543ff64178a6b55d66366f8dd5": {
      "model_module": "@jupyter-widgets/controls",
      "model_module_version": "2.0.0",
      "model_name": "HTMLStyleModel",
      "state": {
       "_model_module": "@jupyter-widgets/controls",
       "_model_module_version": "2.0.0",
       "_model_name": "HTMLStyleModel",
       "_view_count": null,
       "_view_module": "@jupyter-widgets/base",
       "_view_module_version": "2.0.0",
       "_view_name": "StyleView",
       "background": null,
       "description_width": "",
       "font_size": null,
       "text_color": null
      }
     },
     "c2290de46b674f28ba75634e3f730080": {
      "model_module": "@jupyter-widgets/controls",
      "model_module_version": "2.0.0",
      "model_name": "HTMLStyleModel",
      "state": {
       "_model_module": "@jupyter-widgets/controls",
       "_model_module_version": "2.0.0",
       "_model_name": "HTMLStyleModel",
       "_view_count": null,
       "_view_module": "@jupyter-widgets/base",
       "_view_module_version": "2.0.0",
       "_view_name": "StyleView",
       "background": null,
       "description_width": "",
       "font_size": null,
       "text_color": null
      }
     },
     "c6f02e1f2714440e993e0f172814aacf": {
      "model_module": "@jupyter-widgets/base",
      "model_module_version": "2.0.0",
      "model_name": "LayoutModel",
      "state": {
       "_model_module": "@jupyter-widgets/base",
       "_model_module_version": "2.0.0",
       "_model_name": "LayoutModel",
       "_view_count": null,
       "_view_module": "@jupyter-widgets/base",
       "_view_module_version": "2.0.0",
       "_view_name": "LayoutView",
       "align_content": null,
       "align_items": null,
       "align_self": null,
       "border_bottom": null,
       "border_left": null,
       "border_right": null,
       "border_top": null,
       "bottom": null,
       "display": null,
       "flex": null,
       "flex_flow": null,
       "grid_area": null,
       "grid_auto_columns": null,
       "grid_auto_flow": null,
       "grid_auto_rows": null,
       "grid_column": null,
       "grid_gap": null,
       "grid_row": null,
       "grid_template_areas": null,
       "grid_template_columns": null,
       "grid_template_rows": null,
       "height": null,
       "justify_content": null,
       "justify_items": null,
       "left": null,
       "margin": null,
       "max_height": null,
       "max_width": null,
       "min_height": null,
       "min_width": null,
       "object_fit": null,
       "object_position": null,
       "order": null,
       "overflow": null,
       "padding": null,
       "right": null,
       "top": null,
       "visibility": null,
       "width": null
      }
     },
     "c75c106093014259b5c53230ae7b8ff4": {
      "model_module": "@jupyter-widgets/base",
      "model_module_version": "2.0.0",
      "model_name": "LayoutModel",
      "state": {
       "_model_module": "@jupyter-widgets/base",
       "_model_module_version": "2.0.0",
       "_model_name": "LayoutModel",
       "_view_count": null,
       "_view_module": "@jupyter-widgets/base",
       "_view_module_version": "2.0.0",
       "_view_name": "LayoutView",
       "align_content": null,
       "align_items": null,
       "align_self": null,
       "border_bottom": null,
       "border_left": null,
       "border_right": null,
       "border_top": null,
       "bottom": null,
       "display": null,
       "flex": null,
       "flex_flow": null,
       "grid_area": null,
       "grid_auto_columns": null,
       "grid_auto_flow": null,
       "grid_auto_rows": null,
       "grid_column": null,
       "grid_gap": null,
       "grid_row": null,
       "grid_template_areas": null,
       "grid_template_columns": null,
       "grid_template_rows": null,
       "height": null,
       "justify_content": null,
       "justify_items": null,
       "left": null,
       "margin": null,
       "max_height": null,
       "max_width": null,
       "min_height": null,
       "min_width": null,
       "object_fit": null,
       "object_position": null,
       "order": null,
       "overflow": null,
       "padding": null,
       "right": null,
       "top": null,
       "visibility": null,
       "width": null
      }
     },
     "c7915fe94d364cfb861704b42121475d": {
      "model_module": "@jupyter-widgets/controls",
      "model_module_version": "2.0.0",
      "model_name": "FloatProgressModel",
      "state": {
       "_dom_classes": [],
       "_model_module": "@jupyter-widgets/controls",
       "_model_module_version": "2.0.0",
       "_model_name": "FloatProgressModel",
       "_view_count": null,
       "_view_module": "@jupyter-widgets/controls",
       "_view_module_version": "2.0.0",
       "_view_name": "ProgressView",
       "bar_style": "success",
       "description": "",
       "description_allow_html": false,
       "layout": "IPY_MODEL_7ec61e9542bd4956ae0bd9ee295f63ff",
       "max": 258.0,
       "min": 0.0,
       "orientation": "horizontal",
       "style": "IPY_MODEL_e5ca8e8f07f94ec8afdce2265062a654",
       "tabbable": null,
       "tooltip": null,
       "value": 258.0
      }
     },
     "d2eb897ad50841a4bc0a33284c762107": {
      "model_module": "@jupyter-widgets/base",
      "model_module_version": "2.0.0",
      "model_name": "LayoutModel",
      "state": {
       "_model_module": "@jupyter-widgets/base",
       "_model_module_version": "2.0.0",
       "_model_name": "LayoutModel",
       "_view_count": null,
       "_view_module": "@jupyter-widgets/base",
       "_view_module_version": "2.0.0",
       "_view_name": "LayoutView",
       "align_content": null,
       "align_items": null,
       "align_self": null,
       "border_bottom": null,
       "border_left": null,
       "border_right": null,
       "border_top": null,
       "bottom": null,
       "display": null,
       "flex": null,
       "flex_flow": null,
       "grid_area": null,
       "grid_auto_columns": null,
       "grid_auto_flow": null,
       "grid_auto_rows": null,
       "grid_column": null,
       "grid_gap": null,
       "grid_row": null,
       "grid_template_areas": null,
       "grid_template_columns": null,
       "grid_template_rows": null,
       "height": null,
       "justify_content": null,
       "justify_items": null,
       "left": null,
       "margin": null,
       "max_height": null,
       "max_width": null,
       "min_height": null,
       "min_width": null,
       "object_fit": null,
       "object_position": null,
       "order": null,
       "overflow": null,
       "padding": null,
       "right": null,
       "top": null,
       "visibility": null,
       "width": null
      }
     },
     "d8987cd7ee344e46812abe64fe65fbed": {
      "model_module": "@jupyter-widgets/base",
      "model_module_version": "2.0.0",
      "model_name": "LayoutModel",
      "state": {
       "_model_module": "@jupyter-widgets/base",
       "_model_module_version": "2.0.0",
       "_model_name": "LayoutModel",
       "_view_count": null,
       "_view_module": "@jupyter-widgets/base",
       "_view_module_version": "2.0.0",
       "_view_name": "LayoutView",
       "align_content": null,
       "align_items": null,
       "align_self": null,
       "border_bottom": null,
       "border_left": null,
       "border_right": null,
       "border_top": null,
       "bottom": null,
       "display": null,
       "flex": null,
       "flex_flow": null,
       "grid_area": null,
       "grid_auto_columns": null,
       "grid_auto_flow": null,
       "grid_auto_rows": null,
       "grid_column": null,
       "grid_gap": null,
       "grid_row": null,
       "grid_template_areas": null,
       "grid_template_columns": null,
       "grid_template_rows": null,
       "height": null,
       "justify_content": null,
       "justify_items": null,
       "left": null,
       "margin": null,
       "max_height": null,
       "max_width": null,
       "min_height": null,
       "min_width": null,
       "object_fit": null,
       "object_position": null,
       "order": null,
       "overflow": null,
       "padding": null,
       "right": null,
       "top": null,
       "visibility": null,
       "width": null
      }
     },
     "e123c952344446ae9a64a18cdaa8279e": {
      "model_module": "@jupyter-widgets/base",
      "model_module_version": "2.0.0",
      "model_name": "LayoutModel",
      "state": {
       "_model_module": "@jupyter-widgets/base",
       "_model_module_version": "2.0.0",
       "_model_name": "LayoutModel",
       "_view_count": null,
       "_view_module": "@jupyter-widgets/base",
       "_view_module_version": "2.0.0",
       "_view_name": "LayoutView",
       "align_content": null,
       "align_items": null,
       "align_self": null,
       "border_bottom": null,
       "border_left": null,
       "border_right": null,
       "border_top": null,
       "bottom": null,
       "display": null,
       "flex": null,
       "flex_flow": null,
       "grid_area": null,
       "grid_auto_columns": null,
       "grid_auto_flow": null,
       "grid_auto_rows": null,
       "grid_column": null,
       "grid_gap": null,
       "grid_row": null,
       "grid_template_areas": null,
       "grid_template_columns": null,
       "grid_template_rows": null,
       "height": null,
       "justify_content": null,
       "justify_items": null,
       "left": null,
       "margin": null,
       "max_height": null,
       "max_width": null,
       "min_height": null,
       "min_width": null,
       "object_fit": null,
       "object_position": null,
       "order": null,
       "overflow": null,
       "padding": null,
       "right": null,
       "top": null,
       "visibility": null,
       "width": null
      }
     },
     "e5ca8e8f07f94ec8afdce2265062a654": {
      "model_module": "@jupyter-widgets/controls",
      "model_module_version": "2.0.0",
      "model_name": "ProgressStyleModel",
      "state": {
       "_model_module": "@jupyter-widgets/controls",
       "_model_module_version": "2.0.0",
       "_model_name": "ProgressStyleModel",
       "_view_count": null,
       "_view_module": "@jupyter-widgets/base",
       "_view_module_version": "2.0.0",
       "_view_name": "StyleView",
       "bar_color": null,
       "description_width": ""
      }
     },
     "e928f209057f48b29f1eb9dd0df81c2a": {
      "model_module": "@jupyter-widgets/controls",
      "model_module_version": "2.0.0",
      "model_name": "HBoxModel",
      "state": {
       "_dom_classes": [],
       "_model_module": "@jupyter-widgets/controls",
       "_model_module_version": "2.0.0",
       "_model_name": "HBoxModel",
       "_view_count": null,
       "_view_module": "@jupyter-widgets/controls",
       "_view_module_version": "2.0.0",
       "_view_name": "HBoxView",
       "box_style": "",
       "children": [
        "IPY_MODEL_5d02cd8266be4e6ca95194aaf9f102ba",
        "IPY_MODEL_5bd1f688ab0b438f8c6a7ecfdf821acd",
        "IPY_MODEL_85b22247183442149ac012060d233de4"
       ],
       "layout": "IPY_MODEL_e123c952344446ae9a64a18cdaa8279e",
       "tabbable": null,
       "tooltip": null
      }
     },
     "ff89480345504bbe99cb31d3925290cf": {
      "model_module": "@jupyter-widgets/controls",
      "model_module_version": "2.0.0",
      "model_name": "HBoxModel",
      "state": {
       "_dom_classes": [],
       "_model_module": "@jupyter-widgets/controls",
       "_model_module_version": "2.0.0",
       "_model_name": "HBoxModel",
       "_view_count": null,
       "_view_module": "@jupyter-widgets/controls",
       "_view_module_version": "2.0.0",
       "_view_name": "HBoxView",
       "box_style": "",
       "children": [
        "IPY_MODEL_5fc08368d9b748d4876f70edcef1f614",
        "IPY_MODEL_2bdec706b9214cab85fd64146a439d68",
        "IPY_MODEL_c068625b09ee4c3e80912e2dfce9c27d"
       ],
       "layout": "IPY_MODEL_d8987cd7ee344e46812abe64fe65fbed",
       "tabbable": null,
       "tooltip": null
      }
     }
    },
    "version_major": 2,
    "version_minor": 0
   }
  }
 },
 "nbformat": 4,
 "nbformat_minor": 5
}