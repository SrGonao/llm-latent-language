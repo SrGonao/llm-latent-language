{
 "cells": [
  {
   "cell_type": "code",
   "execution_count": 1,
   "id": "9e266eca-b017-461f-9be4-bec02cae9b28",
   "metadata": {
    "execution": {
     "iopub.execute_input": "2024-03-02T15:41:45.984460Z",
     "iopub.status.busy": "2024-03-02T15:41:45.984278Z",
     "iopub.status.idle": "2024-03-02T15:41:45.997889Z",
     "shell.execute_reply": "2024-03-02T15:41:45.997499Z"
    },
    "papermill": {
     "duration": 0.019476,
     "end_time": "2024-03-02T15:41:45.999017",
     "exception": false,
     "start_time": "2024-03-02T15:41:45.979541",
     "status": "completed"
    },
    "tags": []
   },
   "outputs": [],
   "source": [
    "%load_ext autoreload\n",
    "%autoreload 2"
   ]
  },
  {
   "cell_type": "code",
   "execution_count": 2,
   "id": "fae8a7a9-6902-424e-8e66-b107fccb361f",
   "metadata": {
    "execution": {
     "iopub.execute_input": "2024-03-02T15:41:46.034029Z",
     "iopub.status.busy": "2024-03-02T15:41:46.033750Z",
     "iopub.status.idle": "2024-03-02T15:41:48.964602Z",
     "shell.execute_reply": "2024-03-02T15:41:48.963529Z"
    },
    "papermill": {
     "duration": 2.936237,
     "end_time": "2024-03-02T15:41:48.966488",
     "exception": false,
     "start_time": "2024-03-02T15:41:46.030251",
     "status": "completed"
    },
    "tags": []
   },
   "outputs": [
    {
     "name": "stderr",
     "output_type": "stream",
     "text": [
      "/mnt/ssd-1/gpaulo/miniconda3/envs/default/lib/python3.10/site-packages/tqdm/auto.py:21: TqdmWarning: IProgress not found. Please update jupyter and ipywidgets. See https://ipywidgets.readthedocs.io/en/stable/user_install.html\n",
      "  from .autonotebook import tqdm as notebook_tqdm\n"
     ]
    }
   ],
   "source": [
    "import pandas as pd\n",
    "import sys\n",
    "import os\n",
    "from dataclasses import dataclass\n",
    "import json\n",
    "import numpy as np\n",
    "from matplotlib import pyplot as plt\n",
    "import seaborn as sns\n",
    "import torch\n",
    "import torch.nn as nn\n",
    "import seaborn as sns\n",
    "from scipy.stats import bootstrap\n",
    "from utils import plot_ci, plot_ci_plus_heatmap\n",
    "from tqdm import tqdm\n",
    "from transformers import AutoModelForCausalLM, AutoTokenizer\n",
    "# fix random seed\n",
    "seed = 42\n",
    "np.random.seed(seed)\n",
    "torch.manual_seed(seed)\n",
    "sys.path.append('../tuned-lens')\n",
    "from tuned_lens.nn.lenses import TunedLens,LogitLens"
   ]
  },
  {
   "cell_type": "code",
   "execution_count": 3,
   "id": "1fb93987",
   "metadata": {
    "execution": {
     "iopub.execute_input": "2024-03-02T15:41:48.975197Z",
     "iopub.status.busy": "2024-03-02T15:41:48.974705Z",
     "iopub.status.idle": "2024-03-02T15:41:49.009503Z",
     "shell.execute_reply": "2024-03-02T15:41:49.008742Z"
    },
    "papermill": {
     "duration": 0.03988,
     "end_time": "2024-03-02T15:41:49.010645",
     "exception": false,
     "start_time": "2024-03-02T15:41:48.970765",
     "status": "completed"
    },
    "tags": [
     "parameters"
    ]
   },
   "outputs": [],
   "source": [
    "input_lang = 'zh'\n",
    "target_lang = 'zh'\n",
    "model_size = '12b'\n",
    "prefix = \"./data/langs/\"\n",
    "type = 'tuned'\n"
   ]
  },
  {
   "cell_type": "code",
   "execution_count": 4,
   "id": "b06fc791",
   "metadata": {
    "execution": {
     "iopub.execute_input": "2024-03-02T15:41:49.018394Z",
     "iopub.status.busy": "2024-03-02T15:41:49.018209Z",
     "iopub.status.idle": "2024-03-02T15:41:49.047446Z",
     "shell.execute_reply": "2024-03-02T15:41:49.046828Z"
    },
    "papermill": {
     "duration": 0.034322,
     "end_time": "2024-03-02T15:41:49.048485",
     "exception": false,
     "start_time": "2024-03-02T15:41:49.014163",
     "status": "completed"
    },
    "tags": [
     "injected-parameters"
    ]
   },
   "outputs": [],
   "source": [
    "# Parameters\n",
    "model_size = \"12b\"\n",
    "target_lang = \"de\"\n",
    "input_lang = \"de\"\n",
    "type = \"logit\"\n"
   ]
  },
  {
   "cell_type": "code",
   "execution_count": 5,
   "id": "ccb0899b",
   "metadata": {
    "execution": {
     "iopub.execute_input": "2024-03-02T15:41:49.055670Z",
     "iopub.status.busy": "2024-03-02T15:41:49.055202Z",
     "iopub.status.idle": "2024-03-02T15:41:49.087276Z",
     "shell.execute_reply": "2024-03-02T15:41:49.086599Z"
    },
    "papermill": {
     "duration": 0.03667,
     "end_time": "2024-03-02T15:41:49.088411",
     "exception": false,
     "start_time": "2024-03-02T15:41:49.051741",
     "status": "completed"
    },
    "tags": []
   },
   "outputs": [],
   "source": [
    "df_en_input = pd.read_csv(f'{prefix}{input_lang}/clean.csv').reindex()\n",
    "df_en_target = pd.read_csv(f'{prefix}{target_lang}/clean.csv').reindex()"
   ]
  },
  {
   "cell_type": "code",
   "execution_count": 6,
   "id": "33747213",
   "metadata": {
    "execution": {
     "iopub.execute_input": "2024-03-02T15:41:49.096177Z",
     "iopub.status.busy": "2024-03-02T15:41:49.095551Z",
     "iopub.status.idle": "2024-03-02T15:41:53.860694Z",
     "shell.execute_reply": "2024-03-02T15:41:53.859525Z"
    },
    "papermill": {
     "duration": 4.770439,
     "end_time": "2024-03-02T15:41:53.862346",
     "exception": false,
     "start_time": "2024-03-02T15:41:49.091907",
     "status": "completed"
    },
    "tags": []
   },
   "outputs": [
    {
     "name": "stderr",
     "output_type": "stream",
     "text": [
      "\r",
      "Loading checkpoint shards:   0%|                                                                                                                                                                              | 0/3 [00:00<?, ?it/s]"
     ]
    },
    {
     "name": "stderr",
     "output_type": "stream",
     "text": [
      "\r",
      "Loading checkpoint shards:  33%|███████████████████████████████████████████████████████▎                                                                                                              | 1/3 [00:01<00:03,  1.84s/it]"
     ]
    },
    {
     "name": "stderr",
     "output_type": "stream",
     "text": [
      "\r",
      "Loading checkpoint shards:  67%|██████████████████████████████████████████████████████████████████████████████████████████████████████████████▋                                                       | 2/3 [00:03<00:01,  1.77s/it]"
     ]
    },
    {
     "name": "stderr",
     "output_type": "stream",
     "text": [
      "\r",
      "Loading checkpoint shards: 100%|██████████████████████████████████████████████████████████████████████████████████████████████████████████████████████████████████████████████████████████████████████| 3/3 [00:04<00:00,  1.29s/it]"
     ]
    },
    {
     "name": "stderr",
     "output_type": "stream",
     "text": [
      "\r",
      "Loading checkpoint shards: 100%|██████████████████████████████████████████████████████████████████████████████████████████████████████████████████████████████████████████████████████████████████████| 3/3 [00:04<00:00,  1.43s/it]"
     ]
    },
    {
     "name": "stderr",
     "output_type": "stream",
     "text": [
      "\n",
      "Special tokens have been added in the vocabulary, make sure the associated word embeddings are fine-tuned or trained.\n"
     ]
    }
   ],
   "source": [
    "pythia = AutoModelForCausalLM.from_pretrained(  # type: ignore\n",
    "                f\"EleutherAI/pythia-{model_size}\",\n",
    "                device_map={\"\": \"cuda:0\"},\n",
    "                revision=\"main\",\n",
    "                torch_dtype=\"auto\",\n",
    "            )\n",
    "\n",
    "    \n",
    "latent=\"en\"\n",
    "if type == 'logit':\n",
    "    pythia_lens = LogitLens.from_model(pythia).to(\"cuda\")\n",
    "    out_dir = f'./visuals/logit'\n",
    "if type == 'tuned':\n",
    "    pythia_lens = TunedLens.from_model_and_pretrained(pythia,f\"EleutherAI/pythia-{model_size}-deduped\").to(\"cuda\")\n",
    "    out_dir = f'./visuals/tuned'\n",
    "tokenizer = AutoTokenizer.from_pretrained(\n",
    "                f\"EleutherAI/pythia-{model_size}\"\n",
    "            )"
   ]
  },
  {
   "cell_type": "code",
   "execution_count": 7,
   "id": "bc45e052",
   "metadata": {
    "execution": {
     "iopub.execute_input": "2024-03-02T15:41:53.871186Z",
     "iopub.status.busy": "2024-03-02T15:41:53.870986Z",
     "iopub.status.idle": "2024-03-02T15:41:56.300719Z",
     "shell.execute_reply": "2024-03-02T15:41:56.299959Z"
    },
    "papermill": {
     "duration": 2.435211,
     "end_time": "2024-03-02T15:41:56.301726",
     "exception": false,
     "start_time": "2024-03-02T15:41:53.866515",
     "status": "completed"
    },
    "tags": []
   },
   "outputs": [
    {
     "name": "stdout",
     "output_type": "stream",
     "text": [
      "Sequential(\n",
      "  (0): LayerNorm((5120,), eps=1e-05, elementwise_affine=True)\n",
      "  (1): Linear(in_features=5120, out_features=50688, bias=False)\n",
      ")\n"
     ]
    },
    {
     "name": "stdout",
     "output_type": "stream",
     "text": [
      "U torch.Size([50688, 5120]) weights torch.Size([1, 5120])\n"
     ]
    },
    {
     "name": "stdout",
     "output_type": "stream",
     "text": [
      "0.03080214373767376\n"
     ]
    }
   ],
   "source": [
    "unemb = nn.Sequential(pythia.gpt_neox.final_layer_norm, pythia.embed_out)\n",
    "print(unemb)\n",
    "# prepare for energy plots\n",
    "U = list(unemb[1].parameters())[0].detach().cpu().float()\n",
    "weights = list(unemb[0].parameters())[0].detach().cpu().float()\n",
    "print(f'U {U.shape} weights {weights.unsqueeze(0).shape}')\n",
    "U_weighted = U.clone() \n",
    "#U_weighted = U_weighted / ((U_weighted**2).mean(dim=1, keepdim=True))**0.5\n",
    "U_weighted *= weights.unsqueeze(0)\n",
    "U_normalized = U_weighted / ((U_weighted**2).sum(dim=1, keepdim=True))**0.5\n",
    "v = U.shape[0]\n",
    "TT = U_normalized.T @ U_normalized\n",
    "avgUU = (((U_normalized.T @ U_normalized)**2).sum() / v**2)**0.5\n",
    "print(avgUU.item())"
   ]
  },
  {
   "cell_type": "code",
   "execution_count": 8,
   "id": "5686a8d5",
   "metadata": {
    "execution": {
     "iopub.execute_input": "2024-03-02T15:41:56.335425Z",
     "iopub.status.busy": "2024-03-02T15:41:56.334993Z",
     "iopub.status.idle": "2024-03-02T15:41:59.025680Z",
     "shell.execute_reply": "2024-03-02T15:41:59.024062Z"
    },
    "papermill": {
     "duration": 2.696434,
     "end_time": "2024-03-02T15:41:59.027039",
     "exception": false,
     "start_time": "2024-03-02T15:41:56.330605",
     "status": "completed"
    },
    "tags": []
   },
   "outputs": [
    {
     "name": "stdout",
     "output_type": "stream",
     "text": [
      "for de 16 of 120 are single tokens\n",
      "final length of df_en_de_de: 111\n"
     ]
    }
   ],
   "source": [
    "count = 0\n",
    "for idx, word in enumerate(df_en_target['word_translation']):\n",
    "    if word in tokenizer.get_vocab() or '▁'+word in tokenizer.get_vocab():\n",
    "        count += 1\n",
    "\n",
    "print(f'for {target_lang} {count} of {len(df_en_target)} are single tokens')\n",
    "\n",
    "if input_lang == target_lang:\n",
    "    df_en_target_input = df_en_target.copy()\n",
    "    if latent == 'zh':\n",
    "      df_en_target_input = df_en_target.copy()\n",
    "      chinese = chinese.loc[chinese[\"word_original\"].isin(df_en_input[\"word_original\"])]\n",
    "      df_en_target_input= df_en_target_input.loc[df_en_target_input[\"word_original\"].isin(chinese[\"word_original\"])]\n",
    "      chinese.sort_values(by=\"word_original\", inplace=True)\n",
    "      df_en_target_input.sort_values(by=\"word_original\", inplace=True)\n",
    "      chinese.reset_index(drop=True, inplace=True)\n",
    "      df_en_target_input.reset_index(drop=True, inplace=True)\n",
    "      df_en_target_input[\"word_original\"] = chinese[\"word_translation\"]\n",
    "    df_en_target_input.rename(columns={'word_original': latent, \n",
    "                                f'word_translation': target_lang if target_lang != latent else f'{latent}_tgt'}, \n",
    "                                inplace=True)\n",
    "    \n",
    "else:\n",
    "    df_en_target_input = df_en_target.merge(df_en_input, on=['word_original'], suffixes=(f'_{target_lang}', f'_{input_lang}'))\n",
    "    if latent == 'zh':\n",
    "      chinese = chinese.loc[chinese[\"word_original\"].isin(df_en_target_input[\"word_original\"])]\n",
    "      df_en_target_input= df_en_target_input.loc[df_en_target_input[\"word_original\"].isin(chinese[\"word_original\"])]\n",
    "      chinese.sort_values(by=\"word_original\", inplace=True)\n",
    "      df_en_target_input.sort_values(by=\"word_original\", inplace=True)\n",
    "      chinese.reset_index(drop=True, inplace=True)\n",
    "      df_en_target_input.reset_index(drop=True, inplace=True)\n",
    "      df_en_target_input[\"word_original\"] = chinese[\"word_translation\"]\n",
    "\n",
    "    df_en_target_input.rename(columns={'word_original': latent, \n",
    "                                f'word_translation_{target_lang}': target_lang if target_lang != latent else f'{latent}_tgt', \n",
    "                                f'word_translation_{input_lang}': input_lang if input_lang != latent else f'{latent}_in'}, \n",
    "                                inplace=True)\n",
    "# delete all rows where en is contained in de or fr\n",
    "if target_lang != latent:\n",
    "    for i, row in df_en_target_input.iterrows():\n",
    "        if row[latent].lower() in row[target_lang].lower():\n",
    "            df_en_target_input.drop(i, inplace=True)\n",
    "\n",
    "print(f'final length of df_{latent}_{target_lang}_{input_lang}: {len(df_en_target_input)}')"
   ]
  },
  {
   "cell_type": "code",
   "execution_count": 9,
   "id": "f0c0a52d",
   "metadata": {
    "execution": {
     "iopub.execute_input": "2024-03-02T15:41:59.036857Z",
     "iopub.status.busy": "2024-03-02T15:41:59.036614Z",
     "iopub.status.idle": "2024-03-02T15:41:59.091401Z",
     "shell.execute_reply": "2024-03-02T15:41:59.090300Z"
    },
    "papermill": {
     "duration": 0.060963,
     "end_time": "2024-03-02T15:41:59.092682",
     "exception": false,
     "start_time": "2024-03-02T15:41:59.031719",
     "status": "completed"
    },
    "tags": []
   },
   "outputs": [],
   "source": [
    "def token_prefixes(token_str: str):\n",
    "    n = len(token_str)\n",
    "    tokens = [token_str[:i] for i in range(1, n+1)]\n",
    "    return tokens \n",
    "\n",
    "def add_spaces(tokens):\n",
    "    return ['▁' + t for t in tokens] + tokens\n",
    "\n",
    "def capitalizations(tokens):\n",
    "    return list(set(tokens))\n",
    "\n",
    "def unicode_prefix_tokid(zh_char = \"云\", tokenizer=tokenizer):\n",
    "    start = zh_char.encode().__str__()[2:-1].split('\\\\x')[1]\n",
    "    unicode_format = '<0x%s>'\n",
    "    start_key = unicode_format%start.upper()\n",
    "    if start_key in tokenizer.get_vocab():\n",
    "        return tokenizer.get_vocab()[start_key]\n",
    "    return None\n",
    "\n",
    "def process_tokens(token_str: str, tokenizer, lang):\n",
    "    with_prefixes = token_prefixes(token_str)\n",
    "    with_spaces = add_spaces(with_prefixes)\n",
    "    with_capitalizations = capitalizations(with_spaces)\n",
    "    final_tokens = []\n",
    "    for tok in with_capitalizations:\n",
    "        if tok in tokenizer.get_vocab():\n",
    "            final_tokens.append(tokenizer.get_vocab()[tok])\n",
    "    if lang in ['zh', 'ru']:\n",
    "        tokid = unicode_prefix_tokid(token_str, tokenizer)\n",
    "        if tokid is not None:\n",
    "            final_tokens.append(tokid)\n",
    "    return final_tokens"
   ]
  },
  {
   "cell_type": "code",
   "execution_count": 10,
   "id": "faa7bb78",
   "metadata": {
    "execution": {
     "iopub.execute_input": "2024-03-02T15:41:59.101385Z",
     "iopub.status.busy": "2024-03-02T15:41:59.101088Z",
     "iopub.status.idle": "2024-03-02T15:41:59.161759Z",
     "shell.execute_reply": "2024-03-02T15:41:59.160751Z"
    },
    "papermill": {
     "duration": 0.066695,
     "end_time": "2024-03-02T15:41:59.163318",
     "exception": false,
     "start_time": "2024-03-02T15:41:59.096623",
     "status": "completed"
    },
    "tags": []
   },
   "outputs": [],
   "source": [
    "\n",
    "id2voc = {id:voc for voc, id in tokenizer.get_vocab().items()}\n",
    "def get_tokens(token_ids, id2voc=id2voc):\n",
    "    return [id2voc[tokid] for tokid in token_ids]\n",
    "\n",
    "def compute_entropy(probas):\n",
    "    return (-probas*torch.log2(probas)).sum(dim=-1)\n",
    "\n",
    "lang2name = {'fr': 'Français', 'de': 'Deutsch', 'ru': 'Русский', 'en': 'English', 'zh': '中文'}\n",
    "def sample(df, ind, k=5, tokenizer=tokenizer, lang1='fr', lang2='de', lang_latent=latent):\n",
    "    df = df.reset_index(drop=True)\n",
    "    temp = df[df.index!=ind]\n",
    "    sample = pd.concat([temp.sample(k-1), df[df.index==ind]], axis=0)\n",
    "    prompt = \"\"\n",
    "    for idx, (df_idx, row) in enumerate(sample.iterrows()):\n",
    "        if idx < k-1:\n",
    "            prompt += f'{lang2name[lang1]}: \"{row[lang1]}\" - {lang2name[lang2]}: \"{row[lang2]}\"\\n'\n",
    "        else:\n",
    "            prompt += f'{lang2name[lang1]}: \"{row[lang1]}\" - {lang2name[lang2]}: \"'\n",
    "            in_token_str = row[lang1]\n",
    "            out_token_str = row[lang2]\n",
    "            out_token_id = process_tokens(out_token_str, tokenizer, lang2)\n",
    "            latent_token_str = row[lang_latent]\n",
    "            latent_token_id = process_tokens(latent_token_str, tokenizer, latent)\n",
    "            intersection = set(out_token_id).intersection(set(latent_token_id))\n",
    "            if len(out_token_id) == 0 or len(latent_token_id) == 0:\n",
    "                yield None\n",
    "            if lang2 != latent and len(intersection) > 0:\n",
    "                yield None\n",
    "            yield {'prompt': prompt, \n",
    "                'out_token_id': out_token_id, \n",
    "                'out_token_str': out_token_str,\n",
    "                'latent_token_id': latent_token_id, \n",
    "                'latent_token_str': latent_token_str, \n",
    "                'in_token_str': in_token_str}"
   ]
  },
  {
   "cell_type": "code",
   "execution_count": 11,
   "id": "500641f5",
   "metadata": {
    "execution": {
     "iopub.execute_input": "2024-03-02T15:41:59.171509Z",
     "iopub.status.busy": "2024-03-02T15:41:59.171335Z",
     "iopub.status.idle": "2024-03-02T15:42:32.083599Z",
     "shell.execute_reply": "2024-03-02T15:42:32.082959Z"
    },
    "papermill": {
     "duration": 32.917379,
     "end_time": "2024-03-02T15:42:32.084582",
     "exception": false,
     "start_time": "2024-03-02T15:41:59.167203",
     "status": "completed"
    },
    "tags": []
   },
   "outputs": [
    {
     "name": "stderr",
     "output_type": "stream",
     "text": [
      "\r",
      "  0%|                                                                                                                                                                                                       | 0/111 [00:00<?, ?it/s]"
     ]
    },
    {
     "name": "stderr",
     "output_type": "stream",
     "text": [
      "\r",
      "  1%|█▋                                                                                                                                                                                             | 1/111 [00:00<00:26,  4.10it/s]"
     ]
    },
    {
     "name": "stderr",
     "output_type": "stream",
     "text": [
      "\r",
      "  2%|███▍                                                                                                                                                                                           | 2/111 [00:00<00:29,  3.72it/s]"
     ]
    },
    {
     "name": "stderr",
     "output_type": "stream",
     "text": [
      "\r",
      "  3%|█████▏                                                                                                                                                                                         | 3/111 [00:00<00:27,  3.87it/s]"
     ]
    },
    {
     "name": "stderr",
     "output_type": "stream",
     "text": [
      "\r",
      "  4%|██████▉                                                                                                                                                                                        | 4/111 [00:01<00:27,  3.92it/s]"
     ]
    },
    {
     "name": "stderr",
     "output_type": "stream",
     "text": [
      "\r",
      "  5%|████████▌                                                                                                                                                                                      | 5/111 [00:01<00:26,  4.01it/s]"
     ]
    },
    {
     "name": "stderr",
     "output_type": "stream",
     "text": [
      "\r",
      "  5%|██████████▎                                                                                                                                                                                    | 6/111 [00:01<00:28,  3.65it/s]"
     ]
    },
    {
     "name": "stderr",
     "output_type": "stream",
     "text": [
      "\r",
      "  6%|████████████                                                                                                                                                                                   | 7/111 [00:01<00:28,  3.62it/s]"
     ]
    },
    {
     "name": "stderr",
     "output_type": "stream",
     "text": [
      "\r",
      "  7%|█████████████▊                                                                                                                                                                                 | 8/111 [00:02<00:28,  3.66it/s]"
     ]
    },
    {
     "name": "stderr",
     "output_type": "stream",
     "text": [
      "\r",
      "  8%|███████████████▍                                                                                                                                                                               | 9/111 [00:02<00:26,  3.88it/s]"
     ]
    },
    {
     "name": "stderr",
     "output_type": "stream",
     "text": [
      "\r",
      "  9%|█████████████████                                                                                                                                                                             | 10/111 [00:02<00:26,  3.79it/s]"
     ]
    },
    {
     "name": "stderr",
     "output_type": "stream",
     "text": [
      "\r",
      " 10%|██████████████████▊                                                                                                                                                                           | 11/111 [00:02<00:28,  3.56it/s]"
     ]
    },
    {
     "name": "stderr",
     "output_type": "stream",
     "text": [
      "\r",
      " 11%|████████████████████▌                                                                                                                                                                         | 12/111 [00:03<00:26,  3.74it/s]"
     ]
    },
    {
     "name": "stderr",
     "output_type": "stream",
     "text": [
      "\r",
      " 12%|██████████████████████▎                                                                                                                                                                       | 13/111 [00:03<00:25,  3.86it/s]"
     ]
    },
    {
     "name": "stderr",
     "output_type": "stream",
     "text": [
      "\r",
      " 13%|███████████████████████▉                                                                                                                                                                      | 14/111 [00:03<00:26,  3.60it/s]"
     ]
    },
    {
     "name": "stderr",
     "output_type": "stream",
     "text": [
      "\r",
      " 14%|█████████████████████████▋                                                                                                                                                                    | 15/111 [00:04<00:27,  3.48it/s]"
     ]
    },
    {
     "name": "stderr",
     "output_type": "stream",
     "text": [
      "\r",
      " 14%|███████████████████████████▍                                                                                                                                                                  | 16/111 [00:04<00:27,  3.47it/s]"
     ]
    },
    {
     "name": "stderr",
     "output_type": "stream",
     "text": [
      "\r",
      " 15%|█████████████████████████████                                                                                                                                                                 | 17/111 [00:04<00:26,  3.61it/s]"
     ]
    },
    {
     "name": "stderr",
     "output_type": "stream",
     "text": [
      "\r",
      " 16%|██████████████████████████████▊                                                                                                                                                               | 18/111 [00:04<00:27,  3.33it/s]"
     ]
    },
    {
     "name": "stderr",
     "output_type": "stream",
     "text": [
      "\r",
      " 17%|████████████████████████████████▌                                                                                                                                                             | 19/111 [00:05<00:25,  3.55it/s]"
     ]
    },
    {
     "name": "stderr",
     "output_type": "stream",
     "text": [
      "\r",
      " 18%|██████████████████████████████████▏                                                                                                                                                           | 20/111 [00:05<00:26,  3.43it/s]"
     ]
    },
    {
     "name": "stderr",
     "output_type": "stream",
     "text": [
      "\r",
      " 19%|███████████████████████████████████▉                                                                                                                                                          | 21/111 [00:05<00:25,  3.59it/s]"
     ]
    },
    {
     "name": "stderr",
     "output_type": "stream",
     "text": [
      "\r",
      " 20%|█████████████████████████████████████▋                                                                                                                                                        | 22/111 [00:06<00:24,  3.63it/s]"
     ]
    },
    {
     "name": "stderr",
     "output_type": "stream",
     "text": [
      "\r",
      " 21%|███████████████████████████████████████▎                                                                                                                                                      | 23/111 [00:06<00:23,  3.68it/s]"
     ]
    },
    {
     "name": "stderr",
     "output_type": "stream",
     "text": [
      "\r",
      " 22%|█████████████████████████████████████████                                                                                                                                                     | 24/111 [00:06<00:22,  3.82it/s]"
     ]
    },
    {
     "name": "stderr",
     "output_type": "stream",
     "text": [
      "\r",
      " 23%|██████████████████████████████████████████▊                                                                                                                                                   | 25/111 [00:06<00:21,  4.08it/s]"
     ]
    },
    {
     "name": "stderr",
     "output_type": "stream",
     "text": [
      "\r",
      " 23%|████████████████████████████████████████████▌                                                                                                                                                 | 26/111 [00:06<00:20,  4.23it/s]"
     ]
    },
    {
     "name": "stderr",
     "output_type": "stream",
     "text": [
      "\r",
      " 24%|██████████████████████████████████████████████▏                                                                                                                                               | 27/111 [00:07<00:22,  3.71it/s]"
     ]
    },
    {
     "name": "stderr",
     "output_type": "stream",
     "text": [
      "\r",
      " 25%|███████████████████████████████████████████████▉                                                                                                                                              | 28/111 [00:07<00:22,  3.77it/s]"
     ]
    },
    {
     "name": "stderr",
     "output_type": "stream",
     "text": [
      "\r",
      " 26%|█████████████████████████████████████████████████▋                                                                                                                                            | 29/111 [00:07<00:21,  3.75it/s]"
     ]
    },
    {
     "name": "stderr",
     "output_type": "stream",
     "text": [
      "\r",
      " 27%|███████████████████████████████████████████████████▎                                                                                                                                          | 30/111 [00:08<00:24,  3.33it/s]"
     ]
    },
    {
     "name": "stderr",
     "output_type": "stream",
     "text": [
      "\r",
      " 28%|█████████████████████████████████████████████████████                                                                                                                                         | 31/111 [00:08<00:25,  3.09it/s]"
     ]
    },
    {
     "name": "stderr",
     "output_type": "stream",
     "text": [
      "\r",
      " 29%|██████████████████████████████████████████████████████▊                                                                                                                                       | 32/111 [00:08<00:23,  3.36it/s]"
     ]
    },
    {
     "name": "stderr",
     "output_type": "stream",
     "text": [
      "\r",
      " 30%|████████████████████████████████████████████████████████▍                                                                                                                                     | 33/111 [00:09<00:20,  3.74it/s]"
     ]
    },
    {
     "name": "stderr",
     "output_type": "stream",
     "text": [
      "\r",
      " 31%|██████████████████████████████████████████████████████████▏                                                                                                                                   | 34/111 [00:09<00:20,  3.71it/s]"
     ]
    },
    {
     "name": "stderr",
     "output_type": "stream",
     "text": [
      "\r",
      " 32%|███████████████████████████████████████████████████████████▉                                                                                                                                  | 35/111 [00:09<00:21,  3.48it/s]"
     ]
    },
    {
     "name": "stderr",
     "output_type": "stream",
     "text": [
      "\r",
      " 32%|█████████████████████████████████████████████████████████████▌                                                                                                                                | 36/111 [00:09<00:19,  3.93it/s]"
     ]
    },
    {
     "name": "stderr",
     "output_type": "stream",
     "text": [
      "\r",
      " 33%|███████████████████████████████████████████████████████████████▎                                                                                                                              | 37/111 [00:10<00:17,  4.11it/s]"
     ]
    },
    {
     "name": "stderr",
     "output_type": "stream",
     "text": [
      "\r",
      " 34%|█████████████████████████████████████████████████████████████████                                                                                                                             | 38/111 [00:10<00:16,  4.38it/s]"
     ]
    },
    {
     "name": "stderr",
     "output_type": "stream",
     "text": [
      "\r",
      " 35%|██████████████████████████████████████████████████████████████████▊                                                                                                                           | 39/111 [00:10<00:17,  4.16it/s]"
     ]
    },
    {
     "name": "stderr",
     "output_type": "stream",
     "text": [
      "\r",
      " 36%|████████████████████████████████████████████████████████████████████▍                                                                                                                         | 40/111 [00:10<00:18,  3.93it/s]"
     ]
    },
    {
     "name": "stderr",
     "output_type": "stream",
     "text": [
      "\r",
      " 37%|██████████████████████████████████████████████████████████████████████▏                                                                                                                       | 41/111 [00:10<00:16,  4.18it/s]"
     ]
    },
    {
     "name": "stderr",
     "output_type": "stream",
     "text": [
      "\r",
      " 38%|███████████████████████████████████████████████████████████████████████▉                                                                                                                      | 42/111 [00:11<00:15,  4.39it/s]"
     ]
    },
    {
     "name": "stderr",
     "output_type": "stream",
     "text": [
      "\r",
      " 39%|█████████████████████████████████████████████████████████████████████████▌                                                                                                                    | 43/111 [00:11<00:15,  4.29it/s]"
     ]
    },
    {
     "name": "stderr",
     "output_type": "stream",
     "text": [
      "\r",
      " 40%|███████████████████████████████████████████████████████████████████████████▎                                                                                                                  | 44/111 [00:11<00:15,  4.21it/s]"
     ]
    },
    {
     "name": "stderr",
     "output_type": "stream",
     "text": [
      "\r",
      " 41%|█████████████████████████████████████████████████████████████████████████████                                                                                                                 | 45/111 [00:11<00:15,  4.34it/s]"
     ]
    },
    {
     "name": "stderr",
     "output_type": "stream",
     "text": [
      "\r",
      " 41%|██████████████████████████████████████████████████████████████████████████████▋                                                                                                               | 46/111 [00:12<00:15,  4.19it/s]"
     ]
    },
    {
     "name": "stderr",
     "output_type": "stream",
     "text": [
      "\r",
      " 42%|████████████████████████████████████████████████████████████████████████████████▍                                                                                                             | 47/111 [00:12<00:16,  3.82it/s]"
     ]
    },
    {
     "name": "stderr",
     "output_type": "stream",
     "text": [
      "\r",
      " 43%|██████████████████████████████████████████████████████████████████████████████████▏                                                                                                           | 48/111 [00:12<00:16,  3.77it/s]"
     ]
    },
    {
     "name": "stderr",
     "output_type": "stream",
     "text": [
      "\r",
      " 44%|███████████████████████████████████████████████████████████████████████████████████▊                                                                                                          | 49/111 [00:12<00:15,  3.93it/s]"
     ]
    },
    {
     "name": "stderr",
     "output_type": "stream",
     "text": [
      "\r",
      " 45%|█████████████████████████████████████████████████████████████████████████████████████▌                                                                                                        | 50/111 [00:13<00:14,  4.18it/s]"
     ]
    },
    {
     "name": "stderr",
     "output_type": "stream",
     "text": [
      "\r",
      " 46%|███████████████████████████████████████████████████████████████████████████████████████▎                                                                                                      | 51/111 [00:13<00:14,  4.17it/s]"
     ]
    },
    {
     "name": "stderr",
     "output_type": "stream",
     "text": [
      "\r",
      " 47%|█████████████████████████████████████████████████████████████████████████████████████████                                                                                                     | 52/111 [00:13<00:16,  3.62it/s]"
     ]
    },
    {
     "name": "stderr",
     "output_type": "stream",
     "text": [
      "\r",
      " 48%|██████████████████████████████████████████████████████████████████████████████████████████▋                                                                                                   | 53/111 [00:14<00:18,  3.22it/s]"
     ]
    },
    {
     "name": "stderr",
     "output_type": "stream",
     "text": [
      "\r",
      " 49%|████████████████████████████████████████████████████████████████████████████████████████████▍                                                                                                 | 54/111 [00:14<00:16,  3.46it/s]"
     ]
    },
    {
     "name": "stderr",
     "output_type": "stream",
     "text": [
      "\r",
      " 50%|██████████████████████████████████████████████████████████████████████████████████████████████▏                                                                                               | 55/111 [00:14<00:14,  3.74it/s]"
     ]
    },
    {
     "name": "stderr",
     "output_type": "stream",
     "text": [
      "\r",
      " 50%|███████████████████████████████████████████████████████████████████████████████████████████████▊                                                                                              | 56/111 [00:14<00:14,  3.79it/s]"
     ]
    },
    {
     "name": "stderr",
     "output_type": "stream",
     "text": [
      "\r",
      " 51%|█████████████████████████████████████████████████████████████████████████████████████████████████▌                                                                                            | 57/111 [00:15<00:15,  3.44it/s]"
     ]
    },
    {
     "name": "stderr",
     "output_type": "stream",
     "text": [
      "\r",
      " 52%|███████████████████████████████████████████████████████████████████████████████████████████████████▎                                                                                          | 58/111 [00:15<00:14,  3.69it/s]"
     ]
    },
    {
     "name": "stderr",
     "output_type": "stream",
     "text": [
      "\r",
      " 53%|████████████████████████████████████████████████████████████████████████████████████████████████████▉                                                                                         | 59/111 [00:15<00:13,  3.90it/s]"
     ]
    },
    {
     "name": "stderr",
     "output_type": "stream",
     "text": [
      "\r",
      " 54%|██████████████████████████████████████████████████████████████████████████████████████████████████████▋                                                                                       | 60/111 [00:15<00:12,  3.95it/s]"
     ]
    },
    {
     "name": "stderr",
     "output_type": "stream",
     "text": [
      "\r",
      " 55%|████████████████████████████████████████████████████████████████████████████████████████████████████████▍                                                                                     | 61/111 [00:16<00:13,  3.79it/s]"
     ]
    },
    {
     "name": "stderr",
     "output_type": "stream",
     "text": [
      "\r",
      " 56%|██████████████████████████████████████████████████████████████████████████████████████████████████████████▏                                                                                   | 62/111 [00:16<00:14,  3.36it/s]"
     ]
    },
    {
     "name": "stderr",
     "output_type": "stream",
     "text": [
      "\r",
      " 57%|███████████████████████████████████████████████████████████████████████████████████████████████████████████▊                                                                                  | 63/111 [00:16<00:15,  3.18it/s]"
     ]
    },
    {
     "name": "stderr",
     "output_type": "stream",
     "text": [
      "\r",
      " 58%|█████████████████████████████████████████████████████████████████████████████████████████████████████████████▌                                                                                | 64/111 [00:17<00:15,  2.95it/s]"
     ]
    },
    {
     "name": "stderr",
     "output_type": "stream",
     "text": [
      "\r",
      " 59%|███████████████████████████████████████████████████████████████████████████████████████████████████████████████▎                                                                              | 65/111 [00:17<00:14,  3.25it/s]"
     ]
    },
    {
     "name": "stderr",
     "output_type": "stream",
     "text": [
      "\r",
      " 59%|████████████████████████████████████████████████████████████████████████████████████████████████████████████████▉                                                                             | 66/111 [00:17<00:14,  3.09it/s]"
     ]
    },
    {
     "name": "stderr",
     "output_type": "stream",
     "text": [
      "\r",
      " 60%|██████████████████████████████████████████████████████████████████████████████████████████████████████████████████▋                                                                           | 67/111 [00:18<00:15,  2.83it/s]"
     ]
    },
    {
     "name": "stderr",
     "output_type": "stream",
     "text": [
      "\r",
      " 61%|████████████████████████████████████████████████████████████████████████████████████████████████████████████████████▍                                                                         | 68/111 [00:18<00:14,  2.88it/s]"
     ]
    },
    {
     "name": "stderr",
     "output_type": "stream",
     "text": [
      "\r",
      " 62%|██████████████████████████████████████████████████████████████████████████████████████████████████████████████████████                                                                        | 69/111 [00:18<00:14,  2.96it/s]"
     ]
    },
    {
     "name": "stderr",
     "output_type": "stream",
     "text": [
      "\r",
      " 63%|███████████████████████████████████████████████████████████████████████████████████████████████████████████████████████▊                                                                      | 70/111 [00:19<00:13,  2.94it/s]"
     ]
    },
    {
     "name": "stderr",
     "output_type": "stream",
     "text": [
      "\r",
      " 64%|█████████████████████████████████████████████████████████████████████████████████████████████████████████████████████████▌                                                                    | 71/111 [00:19<00:13,  3.07it/s]"
     ]
    },
    {
     "name": "stderr",
     "output_type": "stream",
     "text": [
      "\r",
      " 65%|███████████████████████████████████████████████████████████████████████████████████████████████████████████████████████████▏                                                                  | 72/111 [00:19<00:11,  3.39it/s]"
     ]
    },
    {
     "name": "stderr",
     "output_type": "stream",
     "text": [
      "\r",
      " 66%|████████████████████████████████████████████████████████████████████████████████████████████████████████████████████████████▉                                                                 | 73/111 [00:20<00:11,  3.28it/s]"
     ]
    },
    {
     "name": "stderr",
     "output_type": "stream",
     "text": [
      "\r",
      " 67%|██████████████████████████████████████████████████████████████████████████████████████████████████████████████████████████████▋                                                               | 74/111 [00:20<00:11,  3.20it/s]"
     ]
    },
    {
     "name": "stderr",
     "output_type": "stream",
     "text": [
      "\r",
      " 68%|████████████████████████████████████████████████████████████████████████████████████████████████████████████████████████████████▍                                                             | 75/111 [00:20<00:10,  3.32it/s]"
     ]
    },
    {
     "name": "stderr",
     "output_type": "stream",
     "text": [
      "\r",
      " 68%|██████████████████████████████████████████████████████████████████████████████████████████████████████████████████████████████████                                                            | 76/111 [00:21<00:11,  3.10it/s]"
     ]
    },
    {
     "name": "stderr",
     "output_type": "stream",
     "text": [
      "\r",
      " 69%|███████████████████████████████████████████████████████████████████████████████████████████████████████████████████████████████████▊                                                          | 77/111 [00:21<00:10,  3.18it/s]"
     ]
    },
    {
     "name": "stderr",
     "output_type": "stream",
     "text": [
      "\r",
      " 70%|█████████████████████████████████████████████████████████████████████████████████████████████████████████████████████████████████████▌                                                        | 78/111 [00:21<00:10,  3.10it/s]"
     ]
    },
    {
     "name": "stderr",
     "output_type": "stream",
     "text": [
      "\r",
      " 71%|███████████████████████████████████████████████████████████████████████████████████████████████████████████████████████████████████████▏                                                      | 79/111 [00:22<00:10,  2.98it/s]"
     ]
    },
    {
     "name": "stderr",
     "output_type": "stream",
     "text": [
      "\r",
      " 72%|████████████████████████████████████████████████████████████████████████████████████████████████████████████████████████████████████████▉                                                     | 80/111 [00:22<00:10,  3.00it/s]"
     ]
    },
    {
     "name": "stderr",
     "output_type": "stream",
     "text": [
      "\r",
      " 73%|██████████████████████████████████████████████████████████████████████████████████████████████████████████████████████████████████████████▋                                                   | 81/111 [00:22<00:09,  3.10it/s]"
     ]
    },
    {
     "name": "stderr",
     "output_type": "stream",
     "text": [
      "\r",
      " 74%|████████████████████████████████████████████████████████████████████████████████████████████████████████████████████████████████████████████▎                                                 | 82/111 [00:23<00:09,  2.96it/s]"
     ]
    },
    {
     "name": "stderr",
     "output_type": "stream",
     "text": [
      "\r",
      " 75%|██████████████████████████████████████████████████████████████████████████████████████████████████████████████████████████████████████████████                                                | 83/111 [00:23<00:10,  2.77it/s]"
     ]
    },
    {
     "name": "stderr",
     "output_type": "stream",
     "text": [
      "\r",
      " 76%|███████████████████████████████████████████████████████████████████████████████████████████████████████████████████████████████████████████████▊                                              | 84/111 [00:23<00:08,  3.03it/s]"
     ]
    },
    {
     "name": "stderr",
     "output_type": "stream",
     "text": [
      "\r",
      " 77%|█████████████████████████████████████████████████████████████████████████████████████████████████████████████████████████████████████████████████▍                                            | 85/111 [00:24<00:08,  3.23it/s]"
     ]
    },
    {
     "name": "stderr",
     "output_type": "stream",
     "text": [
      "\r",
      " 77%|███████████████████████████████████████████████████████████████████████████████████████████████████████████████████████████████████████████████████▏                                          | 86/111 [00:24<00:08,  2.85it/s]"
     ]
    },
    {
     "name": "stderr",
     "output_type": "stream",
     "text": [
      "\r",
      " 78%|████████████████████████████████████████████████████████████████████████████████████████████████████████████████████████████████████████████████████▉                                         | 87/111 [00:24<00:07,  3.06it/s]"
     ]
    },
    {
     "name": "stderr",
     "output_type": "stream",
     "text": [
      "\r",
      " 79%|██████████████████████████████████████████████████████████████████████████████████████████████████████████████████████████████████████████████████████▋                                       | 88/111 [00:25<00:07,  2.91it/s]"
     ]
    },
    {
     "name": "stderr",
     "output_type": "stream",
     "text": [
      "\r",
      " 80%|████████████████████████████████████████████████████████████████████████████████████████████████████████████████████████████████████████████████████████▎                                     | 89/111 [00:25<00:06,  3.15it/s]"
     ]
    },
    {
     "name": "stderr",
     "output_type": "stream",
     "text": [
      "\r",
      " 81%|██████████████████████████████████████████████████████████████████████████████████████████████████████████████████████████████████████████████████████████                                    | 90/111 [00:25<00:06,  3.09it/s]"
     ]
    },
    {
     "name": "stderr",
     "output_type": "stream",
     "text": [
      "\r",
      " 82%|███████████████████████████████████████████████████████████████████████████████████████████████████████████████████████████████████████████████████████████▊                                  | 91/111 [00:26<00:06,  3.17it/s]"
     ]
    },
    {
     "name": "stderr",
     "output_type": "stream",
     "text": [
      "\r",
      " 83%|█████████████████████████████████████████████████████████████████████████████████████████████████████████████████████████████████████████████████████████████▍                                | 92/111 [00:26<00:05,  3.21it/s]"
     ]
    },
    {
     "name": "stderr",
     "output_type": "stream",
     "text": [
      "\r",
      " 84%|███████████████████████████████████████████████████████████████████████████████████████████████████████████████████████████████████████████████████████████████▏                              | 93/111 [00:26<00:06,  2.88it/s]"
     ]
    },
    {
     "name": "stderr",
     "output_type": "stream",
     "text": [
      "\r",
      " 85%|████████████████████████████████████████████████████████████████████████████████████████████████████████████████████████████████████████████████████████████████▉                             | 94/111 [00:27<00:06,  2.52it/s]"
     ]
    },
    {
     "name": "stderr",
     "output_type": "stream",
     "text": [
      "\r",
      " 86%|██████████████████████████████████████████████████████████████████████████████████████████████████████████████████████████████████████████████████████████████████▌                           | 95/111 [00:27<00:06,  2.64it/s]"
     ]
    },
    {
     "name": "stderr",
     "output_type": "stream",
     "text": [
      "\r",
      " 86%|████████████████████████████████████████████████████████████████████████████████████████████████████████████████████████████████████████████████████████████████████▎                         | 96/111 [00:28<00:06,  2.48it/s]"
     ]
    },
    {
     "name": "stderr",
     "output_type": "stream",
     "text": [
      "\r",
      " 87%|██████████████████████████████████████████████████████████████████████████████████████████████████████████████████████████████████████████████████████████████████████                        | 97/111 [00:28<00:05,  2.49it/s]"
     ]
    },
    {
     "name": "stderr",
     "output_type": "stream",
     "text": [
      "\r",
      " 88%|███████████████████████████████████████████████████████████████████████████████████████████████████████████████████████████████████████████████████████████████████████▋                      | 98/111 [00:28<00:04,  2.66it/s]"
     ]
    },
    {
     "name": "stderr",
     "output_type": "stream",
     "text": [
      "\r",
      " 89%|█████████████████████████████████████████████████████████████████████████████████████████████████████████████████████████████████████████████████████████████████████████▍                    | 99/111 [00:29<00:04,  2.75it/s]"
     ]
    },
    {
     "name": "stderr",
     "output_type": "stream",
     "text": [
      "\r",
      " 90%|██████████████████████████████████████████████████████████████████████████████████████████████████████████████████████████████████████████████████████████████████████████▎                  | 100/111 [00:29<00:03,  3.02it/s]"
     ]
    },
    {
     "name": "stderr",
     "output_type": "stream",
     "text": [
      "\r",
      " 91%|███████████████████████████████████████████████████████████████████████████████████████████████████████████████████████████████████████████████████████████████████████████▉                 | 101/111 [00:29<00:03,  3.14it/s]"
     ]
    },
    {
     "name": "stderr",
     "output_type": "stream",
     "text": [
      "\r",
      " 92%|█████████████████████████████████████████████████████████████████████████████████████████████████████████████████████████████████████████████████████████████████████████████▋               | 102/111 [00:30<00:02,  3.19it/s]"
     ]
    },
    {
     "name": "stderr",
     "output_type": "stream",
     "text": [
      "\r",
      " 93%|███████████████████████████████████████████████████████████████████████████████████████████████████████████████████████████████████████████████████████████████████████████████▍             | 103/111 [00:30<00:02,  3.37it/s]"
     ]
    },
    {
     "name": "stderr",
     "output_type": "stream",
     "text": [
      "\r",
      " 94%|█████████████████████████████████████████████████████████████████████████████████████████████████████████████████████████████████████████████████████████████████████████████████            | 104/111 [00:30<00:01,  3.59it/s]"
     ]
    },
    {
     "name": "stderr",
     "output_type": "stream",
     "text": [
      "\r",
      " 95%|██████████████████████████████████████████████████████████████████████████████████████████████████████████████████████████████████████████████████████████████████████████████████▊          | 105/111 [00:30<00:01,  3.11it/s]"
     ]
    },
    {
     "name": "stderr",
     "output_type": "stream",
     "text": [
      "\r",
      " 95%|████████████████████████████████████████████████████████████████████████████████████████████████████████████████████████████████████████████████████████████████████████████████████▍        | 106/111 [00:31<00:01,  2.79it/s]"
     ]
    },
    {
     "name": "stderr",
     "output_type": "stream",
     "text": [
      "\r",
      " 96%|██████████████████████████████████████████████████████████████████████████████████████████████████████████████████████████████████████████████████████████████████████████████████████▏      | 107/111 [00:31<00:01,  2.96it/s]"
     ]
    },
    {
     "name": "stderr",
     "output_type": "stream",
     "text": [
      "\r",
      " 97%|███████████████████████████████████████████████████████████████████████████████████████████████████████████████████████████████████████████████████████████████████████████████████████▉     | 108/111 [00:31<00:00,  3.03it/s]"
     ]
    },
    {
     "name": "stderr",
     "output_type": "stream",
     "text": [
      "\r",
      " 98%|█████████████████████████████████████████████████████████████████████████████████████████████████████████████████████████████████████████████████████████████████████████████████████████▌   | 109/111 [00:32<00:00,  3.15it/s]"
     ]
    },
    {
     "name": "stderr",
     "output_type": "stream",
     "text": [
      "\r",
      " 99%|███████████████████████████████████████████████████████████████████████████████████████████████████████████████████████████████████████████████████████████████████████████████████████████▎ | 110/111 [00:32<00:00,  3.24it/s]"
     ]
    },
    {
     "name": "stderr",
     "output_type": "stream",
     "text": [
      "\r",
      "100%|█████████████████████████████████████████████████████████████████████████████████████████████████████████████████████████████████████████████████████████████████████████████████████████████| 111/111 [00:32<00:00,  3.21it/s]"
     ]
    },
    {
     "name": "stderr",
     "output_type": "stream",
     "text": [
      "\r",
      "100%|█████████████████████████████████████████████████████████████████████████████████████████████████████████████████████████████████████████████████████████████████████████████████████████████| 111/111 [00:32<00:00,  3.38it/s]"
     ]
    },
    {
     "name": "stderr",
     "output_type": "stream",
     "text": [
      "\n"
     ]
    }
   ],
   "source": [
    "dataset = []\n",
    "for ind in tqdm(range(len(df_en_target_input))):\n",
    "    d = next(sample(df_en_target_input, ind, lang1=input_lang, lang2=target_lang))\n",
    "    if d is None:\n",
    "        continue\n",
    "    dataset.append(d)"
   ]
  },
  {
   "cell_type": "code",
   "execution_count": 12,
   "id": "d786ab1b",
   "metadata": {
    "execution": {
     "iopub.execute_input": "2024-03-02T15:42:32.102164Z",
     "iopub.status.busy": "2024-03-02T15:42:32.101937Z",
     "iopub.status.idle": "2024-03-02T15:42:32.152852Z",
     "shell.execute_reply": "2024-03-02T15:42:32.152321Z"
    },
    "papermill": {
     "duration": 0.060373,
     "end_time": "2024-03-02T15:42:32.154034",
     "exception": false,
     "start_time": "2024-03-02T15:42:32.093661",
     "status": "completed"
    },
    "tags": []
   },
   "outputs": [],
   "source": [
    "df = pd.DataFrame(dataset)\n",
    "os.makedirs(f'{out_dir}/translation', exist_ok=True)\n",
    "df.to_csv(f'{out_dir}/translation/pythia-{model_size}_{input_lang}_{target_lang}_dataset.csv', index=False)"
   ]
  },
  {
   "cell_type": "code",
   "execution_count": 13,
   "id": "94fa55b7",
   "metadata": {
    "execution": {
     "iopub.execute_input": "2024-03-02T15:42:32.170085Z",
     "iopub.status.busy": "2024-03-02T15:42:32.169888Z",
     "iopub.status.idle": "2024-03-02T15:42:32.206643Z",
     "shell.execute_reply": "2024-03-02T15:42:32.206180Z"
    },
    "papermill": {
     "duration": 0.046025,
     "end_time": "2024-03-02T15:42:32.207852",
     "exception": false,
     "start_time": "2024-03-02T15:42:32.161827",
     "status": "completed"
    },
    "tags": []
   },
   "outputs": [],
   "source": [
    "def get_logits(model, prompt,lens):\n",
    "    inputs = tokenizer(prompt, return_tensors=\"pt\").to('cuda')\n",
    "    output = pythia(inputs.input_ids, output_hidden_states=True)\n",
    "    hidden_states = output.hidden_states[:-1]\n",
    "    final_lps = output.logits.log_softmax(dim=-1)\n",
    "    tensors=[]\n",
    "    hd= []\n",
    "    for i in range(len(model.gpt_neox.layers)):\n",
    "        h = hidden_states[i].squeeze(0)\n",
    "        tensors+=[lens(h, idx=i).detach().cpu()]\n",
    "        hd+=[lens.transform_hidden(h, idx=i).detach().cpu()]\n",
    "    tensors= torch.stack(tensors)  \n",
    "    hidden_states = torch.stack(hd)\n",
    "    return tensors,hidden_states\n",
    "        "
   ]
  },
  {
   "cell_type": "code",
   "execution_count": 14,
   "id": "ee982287",
   "metadata": {
    "execution": {
     "iopub.execute_input": "2024-03-02T15:42:32.225205Z",
     "iopub.status.busy": "2024-03-02T15:42:32.225022Z",
     "iopub.status.idle": "2024-03-02T15:42:32.269400Z",
     "shell.execute_reply": "2024-03-02T15:42:32.269013Z"
    },
    "papermill": {
     "duration": 0.054899,
     "end_time": "2024-03-02T15:42:32.271314",
     "exception": false,
     "start_time": "2024-03-02T15:42:32.216415",
     "status": "completed"
    },
    "tags": []
   },
   "outputs": [
    {
     "data": {
      "text/plain": [
       "[{'prompt': 'Deutsch: \"löschen\" - Deutsch: \"löschen\"\\nDeutsch: \"Mond\" - Deutsch: \"Mond\"\\nDeutsch: \"Berg\" - Deutsch: \"Berg\"\\nDeutsch: \"Geschichte\" - Deutsch: \"Geschichte\"\\nDeutsch: \"Buch\" - Deutsch: \"',\n",
       "  'out_token_id': [35, 9263],\n",
       "  'out_token_str': 'Buch',\n",
       "  'latent_token_id': [2399, 67, 3305],\n",
       "  'latent_token_str': 'book',\n",
       "  'in_token_str': 'Buch'},\n",
       " {'prompt': 'Deutsch: \"Lied\" - Deutsch: \"Lied\"\\nDeutsch: \"Feder\" - Deutsch: \"Feder\"\\nDeutsch: \"Anstieg\" - Deutsch: \"Anstieg\"\\nDeutsch: \"Haus\" - Deutsch: \"Haus\"\\nDeutsch: \"Wolke\" - Deutsch: \"',\n",
       "  'out_token_id': [56, 48252],\n",
       "  'out_token_str': 'Wolke',\n",
       "  'latent_token_id': [68, 45679, 498, 18534],\n",
       "  'latent_token_str': 'cloud',\n",
       "  'in_token_str': 'Wolke'},\n",
       " {'prompt': 'Deutsch: \"Gitter\" - Deutsch: \"Gitter\"\\nDeutsch: \"Sonne\" - Deutsch: \"Sonne\"\\nDeutsch: \"Teil\" - Deutsch: \"Teil\"\\nDeutsch: \"Richter\" - Deutsch: \"Richter\"\\nDeutsch: \"Tasche\" - Deutsch: \"',\n",
       "  'out_token_id': [53, 26385],\n",
       "  'out_token_str': 'Tasche',\n",
       "  'latent_token_id': [67, 22738, 5830],\n",
       "  'latent_token_str': 'bag',\n",
       "  'in_token_str': 'Tasche'},\n",
       " {'prompt': 'Deutsch: \"Sprache\" - Deutsch: \"Sprache\"\\nDeutsch: \"Süden\" - Deutsch: \"Süden\"\\nDeutsch: \"Straße\" - Deutsch: \"Straße\"\\nDeutsch: \"Nutzen\" - Deutsch: \"Nutzen\"\\nDeutsch: \"Mund\" - Deutsch: \"',\n",
       "  'out_token_id': [31425, 46],\n",
       "  'out_token_str': 'Mund',\n",
       "  'latent_token_id': [19845, 78, 6972],\n",
       "  'latent_token_str': 'mouth',\n",
       "  'in_token_str': 'Mund'},\n",
       " {'prompt': 'Deutsch: \"sieben\" - Deutsch: \"sieben\"\\nDeutsch: \"Gruppe\" - Deutsch: \"Gruppe\"\\nDeutsch: \"Tuch\" - Deutsch: \"Tuch\"\\nDeutsch: \"Macht\" - Deutsch: \"Macht\"\\nDeutsch: \"Boden\" - Deutsch: \"',\n",
       "  'out_token_id': [11478, 35],\n",
       "  'out_token_str': 'Boden',\n",
       "  'latent_token_id': [84, 601],\n",
       "  'latent_token_str': 'soil',\n",
       "  'in_token_str': 'Boden'},\n",
       " {'prompt': 'Deutsch: \"Kind\" - Deutsch: \"Kind\"\\nDeutsch: \"Gitter\" - Deutsch: \"Gitter\"\\nDeutsch: \"Geschichte\" - Deutsch: \"Geschichte\"\\nDeutsch: \"Farbe\" - Deutsch: \"Farbe\"\\nDeutsch: \"Berg\" - Deutsch: \"',\n",
       "  'out_token_id': [4678, 35, 23666],\n",
       "  'out_token_str': 'Berg',\n",
       "  'latent_token_id': [78, 16285, 6972],\n",
       "  'latent_token_str': 'mountain',\n",
       "  'in_token_str': 'Berg'},\n",
       " {'prompt': 'Deutsch: \"Norden\" - Deutsch: \"Norden\"\\nDeutsch: \"Mund\" - Deutsch: \"Mund\"\\nDeutsch: \"Sitz\" - Deutsch: \"Sitz\"\\nDeutsch: \"Brücke\" - Deutsch: \"Brücke\"\\nDeutsch: \"Tuch\" - Deutsch: \"',\n",
       "  'out_token_id': [53, 37675],\n",
       "  'out_token_str': 'Tuch',\n",
       "  'latent_token_id': [45313, 68, 45679, 498],\n",
       "  'latent_token_str': 'cloth',\n",
       "  'in_token_str': 'Tuch'},\n",
       " {'prompt': 'Deutsch: \"Börse\" - Deutsch: \"Börse\"\\nDeutsch: \"Niederlage\" - Deutsch: \"Niederlage\"\\nDeutsch: \"zwei\" - Deutsch: \"zwei\"\\nDeutsch: \"Tal\" - Deutsch: \"Tal\"\\nDeutsch: \"Herz\" - Deutsch: \"',\n",
       "  'out_token_id': [1328, 41, 10759],\n",
       "  'out_token_str': 'Herz',\n",
       "  'latent_token_id': [248, 14387, 21071, 73],\n",
       "  'latent_token_str': 'heart',\n",
       "  'in_token_str': 'Herz'},\n",
       " {'prompt': 'Deutsch: \"rot\" - Deutsch: \"rot\"\\nDeutsch: \"Streifen\" - Deutsch: \"Streifen\"\\nDeutsch: \"Lied\" - Deutsch: \"Lied\"\\nDeutsch: \"Schule\" - Deutsch: \"Schule\"\\nDeutsch: \"Tag\" - Deutsch: \"',\n",
       "  'out_token_id': [12547, 53, 26385],\n",
       "  'out_token_str': 'Tag',\n",
       "  'latent_token_id': [1473, 1201, 69],\n",
       "  'latent_token_str': 'day',\n",
       "  'in_token_str': 'Tag'},\n",
       " {'prompt': 'Deutsch: \"tausend\" - Deutsch: \"tausend\"\\nDeutsch: \"Tugend\" - Deutsch: \"Tugend\"\\nDeutsch: \"Quadrat\" - Deutsch: \"Quadrat\"\\nDeutsch: \"Gesetz\" - Deutsch: \"Gesetz\"\\nDeutsch: \"Stern\" - Deutsch: \"',\n",
       "  'out_token_id': [6812, 52, 998],\n",
       "  'out_token_str': 'Stern',\n",
       "  'latent_token_id': [84, 296, 7873, 18233],\n",
       "  'latent_token_str': 'star',\n",
       "  'in_token_str': 'Stern'},\n",
       " {'prompt': 'Deutsch: \"Lied\" - Deutsch: \"Lied\"\\nDeutsch: \"Tasche\" - Deutsch: \"Tasche\"\\nDeutsch: \"Teil\" - Deutsch: \"Teil\"\\nDeutsch: \"Feld\" - Deutsch: \"Feld\"\\nDeutsch: \"Feder\" - Deutsch: \"',\n",
       "  'out_token_id': [39, 7510, 28246],\n",
       "  'out_token_str': 'Feder',\n",
       "  'latent_token_id': [1033, 84, 27375, 10167],\n",
       "  'latent_token_str': 'spring',\n",
       "  'in_token_str': 'Feder'},\n",
       " {'prompt': 'Deutsch: \"Turm\" - Deutsch: \"Turm\"\\nDeutsch: \"See\" - Deutsch: \"See\"\\nDeutsch: \"Teil\" - Deutsch: \"Teil\"\\nDeutsch: \"Schönheit\" - Deutsch: \"Schönheit\"\\nDeutsch: \"Mond\" - Deutsch: \"',\n",
       "  'out_token_id': [15155, 9304, 46],\n",
       "  'out_token_str': 'Mond',\n",
       "  'latent_token_id': [78, 6972],\n",
       "  'latent_token_str': 'moon',\n",
       "  'in_token_str': 'Mond'},\n",
       " {'prompt': 'Deutsch: \"Lied\" - Deutsch: \"Lied\"\\nDeutsch: \"Osten\" - Deutsch: \"Osten\"\\nDeutsch: \"Plattform\" - Deutsch: \"Plattform\"\\nDeutsch: \"Gitter\" - Deutsch: \"Gitter\"\\nDeutsch: \"Holz\" - Deutsch: \"',\n",
       "  'out_token_id': [24095, 24721, 41],\n",
       "  'out_token_str': 'Holz',\n",
       "  'latent_token_id': [680, 5308, 88],\n",
       "  'latent_token_str': 'wood',\n",
       "  'in_token_str': 'Holz'},\n",
       " {'prompt': 'Deutsch: \"Straße\" - Deutsch: \"Straße\"\\nDeutsch: \"Standort\" - Deutsch: \"Standort\"\\nDeutsch: \"Gegenstand\" - Deutsch: \"Gegenstand\"\\nDeutsch: \"Fluss\" - Deutsch: \"Fluss\"\\nDeutsch: \"Dorf\" - Deutsch: \"',\n",
       "  'out_token_id': [37, 47424, 4045],\n",
       "  'out_token_str': 'Dorf',\n",
       "  'latent_token_id': [33745, 40579, 6584, 87],\n",
       "  'latent_token_str': 'village',\n",
       "  'in_token_str': 'Dorf'},\n",
       " {'prompt': 'Deutsch: \"Schönheit\" - Deutsch: \"Schönheit\"\\nDeutsch: \"Tuch\" - Deutsch: \"Tuch\"\\nDeutsch: \"eins\" - Deutsch: \"eins\"\\nDeutsch: \"Buch\" - Deutsch: \"Buch\"\\nDeutsch: \"Wald\" - Deutsch: \"',\n",
       "  'out_token_id': [56, 46725, 26366],\n",
       "  'out_token_str': 'Wald',\n",
       "  'latent_token_id': [4786, 71, 38250, 922, 1542],\n",
       "  'latent_token_str': 'forest',\n",
       "  'in_token_str': 'Wald'},\n",
       " {'prompt': 'Deutsch: \"Standort\" - Deutsch: \"Standort\"\\nDeutsch: \"Stadt\" - Deutsch: \"Stadt\"\\nDeutsch: \"Richter\" - Deutsch: \"Richter\"\\nDeutsch: \"Feld\" - Deutsch: \"Feld\"\\nDeutsch: \"Gitter\" - Deutsch: \"',\n",
       "  'out_token_id': [43612, 30206, 40],\n",
       "  'out_token_str': 'Gitter',\n",
       "  'latent_token_id': [15476, 72, 737],\n",
       "  'latent_token_str': 'grid',\n",
       "  'in_token_str': 'Gitter'},\n",
       " {'prompt': 'Deutsch: \"Quelle\" - Deutsch: \"Quelle\"\\nDeutsch: \"Nutzen\" - Deutsch: \"Nutzen\"\\nDeutsch: \"Tür\" - Deutsch: \"Tür\"\\nDeutsch: \"Boden\" - Deutsch: \"Boden\"\\nDeutsch: \"Lied\" - Deutsch: \"',\n",
       "  'out_token_id': [28625, 17448, 45],\n",
       "  'out_token_str': 'Lied',\n",
       "  'latent_token_id': [32429, 1665, 84, 601],\n",
       "  'latent_token_str': 'song',\n",
       "  'in_token_str': 'Lied'},\n",
       " {'prompt': 'Deutsch: \"Schönheit\" - Deutsch: \"Schönheit\"\\nDeutsch: \"Feder\" - Deutsch: \"Feder\"\\nDeutsch: \"Gitter\" - Deutsch: \"Gitter\"\\nDeutsch: \"neun\" - Deutsch: \"neun\"\\nDeutsch: \"Wasser\" - Deutsch: \"',\n",
       "  'out_token_id': [56, 46725, 18412],\n",
       "  'out_token_str': 'Wasser',\n",
       "  'latent_token_id': [8754, 88, 16526, 7779],\n",
       "  'latent_token_str': 'water',\n",
       "  'in_token_str': 'Wasser'},\n",
       " {'prompt': 'Deutsch: \"Teil\" - Deutsch: \"Teil\"\\nDeutsch: \"Mund\" - Deutsch: \"Mund\"\\nDeutsch: \"Fluss\" - Deutsch: \"Fluss\"\\nDeutsch: \"Tasche\" - Deutsch: \"Tasche\"\\nDeutsch: \"Teich\" - Deutsch: \"',\n",
       "  'out_token_id': [7573, 53],\n",
       "  'out_token_str': 'Teich',\n",
       "  'latent_token_id': [81, 5367],\n",
       "  'latent_token_str': 'pond',\n",
       "  'in_token_str': 'Teich'},\n",
       " {'prompt': 'Deutsch: \"Stamm\" - Deutsch: \"Stamm\"\\nDeutsch: \"eins\" - Deutsch: \"eins\"\\nDeutsch: \"drei\" - Deutsch: \"drei\"\\nDeutsch: \"Gegenstand\" - Deutsch: \"Gegenstand\"\\nDeutsch: \"Fluss\" - Deutsch: \"',\n",
       "  'out_token_id': [43493, 6623, 39],\n",
       "  'out_token_str': 'Fluss',\n",
       "  'latent_token_id': [363, 83, 1069, 6606, 9878],\n",
       "  'latent_token_str': 'river',\n",
       "  'in_token_str': 'Fluss'},\n",
       " {'prompt': 'Deutsch: \"Feld\" - Deutsch: \"Feld\"\\nDeutsch: \"rot\" - Deutsch: \"rot\"\\nDeutsch: \"Quadrat\" - Deutsch: \"Quadrat\"\\nDeutsch: \"Schnee\" - Deutsch: \"Schnee\"\\nDeutsch: \"Gesetz\" - Deutsch: \"',\n",
       "  'out_token_id': [7559, 40],\n",
       "  'out_token_str': 'Gesetz',\n",
       "  'latent_token_id': [77, 6937, 4123],\n",
       "  'latent_token_str': 'law',\n",
       "  'in_token_str': 'Gesetz'},\n",
       " {'prompt': 'Deutsch: \"Meer\" - Deutsch: \"Meer\"\\nDeutsch: \"Sitz\" - Deutsch: \"Sitz\"\\nDeutsch: \"Beispiel\" - Deutsch: \"Beispiel\"\\nDeutsch: \"Haus\" - Deutsch: \"Haus\"\\nDeutsch: \"Welle\" - Deutsch: \"',\n",
       "  'out_token_id': [4497, 56, 1231],\n",
       "  'out_token_str': 'Welle',\n",
       "  'latent_token_id': [15007, 8754, 88],\n",
       "  'latent_token_str': 'wave',\n",
       "  'in_token_str': 'Welle'},\n",
       " {'prompt': 'Deutsch: \"Osten\" - Deutsch: \"Osten\"\\nDeutsch: \"Beispiel\" - Deutsch: \"Beispiel\"\\nDeutsch: \"Tür\" - Deutsch: \"Tür\"\\nDeutsch: \"acht\" - Deutsch: \"acht\"\\nDeutsch: \"Ozean\" - Deutsch: \"',\n",
       "  'out_token_id': [45901, 48],\n",
       "  'out_token_str': 'Ozean',\n",
       "  'latent_token_id': [80, 406],\n",
       "  'latent_token_str': 'ocean',\n",
       "  'in_token_str': 'Ozean'},\n",
       " {'prompt': 'Deutsch: \"acht\" - Deutsch: \"acht\"\\nDeutsch: \"Süden\" - Deutsch: \"Süden\"\\nDeutsch: \"Gitter\" - Deutsch: \"Gitter\"\\nDeutsch: \"Haar\" - Deutsch: \"Haar\"\\nDeutsch: \"Höhle\" - Deutsch: \"',\n",
       "  'out_token_id': [41],\n",
       "  'out_token_str': 'Höhle',\n",
       "  'latent_token_id': [43205, 68, 6357],\n",
       "  'latent_token_str': 'cave',\n",
       "  'in_token_str': 'Höhle'},\n",
       " {'prompt': 'Deutsch: \"Niederlage\" - Deutsch: \"Niederlage\"\\nDeutsch: \"Linie\" - Deutsch: \"Linie\"\\nDeutsch: \"Berg\" - Deutsch: \"Berg\"\\nDeutsch: \"Dorf\" - Deutsch: \"Dorf\"\\nDeutsch: \"Meer\" - Deutsch: \"',\n",
       "  'out_token_id': [46, 5072],\n",
       "  'out_token_str': 'Meer',\n",
       "  'latent_token_id': [84, 339, 15681],\n",
       "  'latent_token_str': 'sea',\n",
       "  'in_token_str': 'Meer'},\n",
       " {'prompt': 'Deutsch: \"Ozean\" - Deutsch: \"Ozean\"\\nDeutsch: \"Herz\" - Deutsch: \"Herz\"\\nDeutsch: \"Rede\" - Deutsch: \"Rede\"\\nDeutsch: \"Gruppe\" - Deutsch: \"Gruppe\"\\nDeutsch: \"See\" - Deutsch: \"',\n",
       "  'out_token_id': [3251, 5035, 52],\n",
       "  'out_token_str': 'See',\n",
       "  'latent_token_id': [77, 48212, 4123],\n",
       "  'latent_token_str': 'lake',\n",
       "  'in_token_str': 'See'},\n",
       " {'prompt': 'Deutsch: \"Art\" - Deutsch: \"Art\"\\nDeutsch: \"Blume\" - Deutsch: \"Blume\"\\nDeutsch: \"Welle\" - Deutsch: \"Welle\"\\nDeutsch: \"tausend\" - Deutsch: \"tausend\"\\nDeutsch: \"Quelle\" - Deutsch: \"',\n",
       "  'out_token_id': [3864, 13561, 50],\n",
       "  'out_token_str': 'Quelle',\n",
       "  'latent_token_id': [6756, 84, 601],\n",
       "  'latent_token_str': 'source',\n",
       "  'in_token_str': 'Quelle'},\n",
       " {'prompt': 'Deutsch: \"Gemälde\" - Deutsch: \"Gemälde\"\\nDeutsch: \"Sonne\" - Deutsch: \"Sonne\"\\nDeutsch: \"Boden\" - Deutsch: \"Boden\"\\nDeutsch: \"Bahnhof\" - Deutsch: \"Bahnhof\"\\nDeutsch: \"Feuer\" - Deutsch: \"',\n",
       "  'out_token_id': [7510, 39],\n",
       "  'out_token_str': 'Feuer',\n",
       "  'latent_token_id': [71, 11342, 11125],\n",
       "  'latent_token_str': 'fire',\n",
       "  'in_token_str': 'Feuer'},\n",
       " {'prompt': 'Deutsch: \"Höhle\" - Deutsch: \"Höhle\"\\nDeutsch: \"Nutzen\" - Deutsch: \"Nutzen\"\\nDeutsch: \"Teich\" - Deutsch: \"Teich\"\\nDeutsch: \"Teil\" - Deutsch: \"Teil\"\\nDeutsch: \"Punkt\" - Deutsch: \"',\n",
       "  'out_token_id': [38863, 49],\n",
       "  'out_token_str': 'Punkt',\n",
       "  'latent_token_id': [81, 3659, 5367],\n",
       "  'latent_token_str': 'point',\n",
       "  'in_token_str': 'Punkt'},\n",
       " {'prompt': 'Deutsch: \"Quelle\" - Deutsch: \"Quelle\"\\nDeutsch: \"Tal\" - Deutsch: \"Tal\"\\nDeutsch: \"Tugend\" - Deutsch: \"Tugend\"\\nDeutsch: \"Farbe\" - Deutsch: \"Farbe\"\\nDeutsch: \"Gemälde\" - Deutsch: \"',\n",
       "  'out_token_id': [40, 7559],\n",
       "  'out_token_str': 'Gemälde',\n",
       "  'latent_token_id': [81, 31406, 4904],\n",
       "  'latent_token_str': 'painting',\n",
       "  'in_token_str': 'Gemälde'},\n",
       " {'prompt': 'Deutsch: \"Gitter\" - Deutsch: \"Gitter\"\\nDeutsch: \"löschen\" - Deutsch: \"löschen\"\\nDeutsch: \"Höhle\" - Deutsch: \"Höhle\"\\nDeutsch: \"Rede\" - Deutsch: \"Rede\"\\nDeutsch: \"Bahnhof\" - Deutsch: \"',\n",
       "  'out_token_id': [24348, 35],\n",
       "  'out_token_str': 'Bahnhof',\n",
       "  'latent_token_id': [84, 296, 20502, 18233, 8766],\n",
       "  'latent_token_str': 'station',\n",
       "  'in_token_str': 'Bahnhof'},\n",
       " {'prompt': 'Deutsch: \"Richter\" - Deutsch: \"Richter\"\\nDeutsch: \"Sitz\" - Deutsch: \"Sitz\"\\nDeutsch: \"Büro\" - Deutsch: \"Büro\"\\nDeutsch: \"Art\" - Deutsch: \"Art\"\\nDeutsch: \"Reis\" - Deutsch: \"',\n",
       "  'out_token_id': [1785, 51],\n",
       "  'out_token_str': 'Reis',\n",
       "  'latent_token_id': [363, 695, 83, 23804],\n",
       "  'latent_token_str': 'rice',\n",
       "  'in_token_str': 'Reis'},\n",
       " {'prompt': 'Deutsch: \"Fluss\" - Deutsch: \"Fluss\"\\nDeutsch: \"Osten\" - Deutsch: \"Osten\"\\nDeutsch: \"Tugend\" - Deutsch: \"Tugend\"\\nDeutsch: \"Straße\" - Deutsch: \"Straße\"\\nDeutsch: \"Linie\" - Deutsch: \"',\n",
       "  'out_token_id': [26433, 17448, 45],\n",
       "  'out_token_str': 'Linie',\n",
       "  'latent_token_id': [1282, 965, 77, 3642],\n",
       "  'latent_token_str': 'line',\n",
       "  'in_token_str': 'Linie'},\n",
       " {'prompt': 'Deutsch: \"Buch\" - Deutsch: \"Buch\"\\nDeutsch: \"Pferd\" - Deutsch: \"Pferd\"\\nDeutsch: \"eins\" - Deutsch: \"eins\"\\nDeutsch: \"Provinz\" - Deutsch: \"Provinz\"\\nDeutsch: \"Blume\" - Deutsch: \"',\n",
       "  'out_token_id': [5622, 35],\n",
       "  'out_token_str': 'Blume',\n",
       "  'latent_token_id': [71, 1258, 33179, 40591, 5449],\n",
       "  'latent_token_str': 'flower',\n",
       "  'in_token_str': 'Blume'},\n",
       " {'prompt': 'Deutsch: \"Mitte\" - Deutsch: \"Mitte\"\\nDeutsch: \"Büro\" - Deutsch: \"Büro\"\\nDeutsch: \"Börse\" - Deutsch: \"Börse\"\\nDeutsch: \"Sprache\" - Deutsch: \"Sprache\"\\nDeutsch: \"Tee\" - Deutsch: \"',\n",
       "  'out_token_id': [7573, 53],\n",
       "  'out_token_str': 'Tee',\n",
       "  'latent_token_id': [442, 85],\n",
       "  'latent_token_str': 'tea',\n",
       "  'in_token_str': 'Tee'},\n",
       " {'prompt': 'Deutsch: \"drei\" - Deutsch: \"drei\"\\nDeutsch: \"Börse\" - Deutsch: \"Börse\"\\nDeutsch: \"Tuch\" - Deutsch: \"Tuch\"\\nDeutsch: \"Wolke\" - Deutsch: \"Wolke\"\\nDeutsch: \"Fuß\" - Deutsch: \"',\n",
       "  'out_token_id': [42238, 39],\n",
       "  'out_token_str': 'Fuß',\n",
       "  'latent_token_id': [4786, 71, 12110, 8938],\n",
       "  'latent_token_str': 'foot',\n",
       "  'in_token_str': 'Fuß'},\n",
       " {'prompt': 'Deutsch: \"Maschine\" - Deutsch: \"Maschine\"\\nDeutsch: \"Geschichte\" - Deutsch: \"Geschichte\"\\nDeutsch: \"Höhle\" - Deutsch: \"Höhle\"\\nDeutsch: \"Büro\" - Deutsch: \"Büro\"\\nDeutsch: \"Tür\" - Deutsch: \"',\n",
       "  'out_token_id': [53],\n",
       "  'out_token_str': 'Tür',\n",
       "  'latent_token_id': [3088, 69, 11806],\n",
       "  'latent_token_str': 'door',\n",
       "  'in_token_str': 'Tür'},\n",
       " {'prompt': 'Deutsch: \"Wasser\" - Deutsch: \"Wasser\"\\nDeutsch: \"fünf\" - Deutsch: \"fünf\"\\nDeutsch: \"Feld\" - Deutsch: \"Feld\"\\nDeutsch: \"Gesicht\" - Deutsch: \"Gesicht\"\\nDeutsch: \"Schnee\" - Deutsch: \"',\n",
       "  'out_token_id': [4316, 10859, 52],\n",
       "  'out_token_str': 'Schnee',\n",
       "  'latent_token_id': [84, 11489],\n",
       "  'latent_token_str': 'snow',\n",
       "  'in_token_str': 'Schnee'},\n",
       " {'prompt': 'Deutsch: \"Feuer\" - Deutsch: \"Feuer\"\\nDeutsch: \"Tür\" - Deutsch: \"Tür\"\\nDeutsch: \"Tal\" - Deutsch: \"Tal\"\\nDeutsch: \"Tee\" - Deutsch: \"Tee\"\\nDeutsch: \"Pferd\" - Deutsch: \"',\n",
       "  'out_token_id': [48680, 49],\n",
       "  'out_token_str': 'Pferd',\n",
       "  'latent_token_id': [1688, 4210, 1689, 73, 33647],\n",
       "  'latent_token_str': 'horse',\n",
       "  'in_token_str': 'Pferd'},\n",
       " {'prompt': 'Deutsch: \"Ozean\" - Deutsch: \"Ozean\"\\nDeutsch: \"Dorf\" - Deutsch: \"Dorf\"\\nDeutsch: \"Boden\" - Deutsch: \"Boden\"\\nDeutsch: \"Gitter\" - Deutsch: \"Gitter\"\\nDeutsch: \"eins\" - Deutsch: \"',\n",
       "  'out_token_id': [70, 27116],\n",
       "  'out_token_str': 'eins',\n",
       "  'latent_token_id': [531, 80, 251],\n",
       "  'latent_token_str': 'one',\n",
       "  'in_token_str': 'eins'},\n",
       " {'prompt': 'Deutsch: \"Licht\" - Deutsch: \"Licht\"\\nDeutsch: \"Reis\" - Deutsch: \"Reis\"\\nDeutsch: \"Kind\" - Deutsch: \"Kind\"\\nDeutsch: \"Bahnhof\" - Deutsch: \"Bahnhof\"\\nDeutsch: \"zwei\" - Deutsch: \"',\n",
       "  'out_token_id': [40965, 91],\n",
       "  'out_token_str': 'zwei',\n",
       "  'latent_token_id': [7553, 85, 9389],\n",
       "  'latent_token_str': 'two',\n",
       "  'in_token_str': 'zwei'},\n",
       " {'prompt': 'Deutsch: \"Sitz\" - Deutsch: \"Sitz\"\\nDeutsch: \"Mund\" - Deutsch: \"Mund\"\\nDeutsch: \"Haushalt\" - Deutsch: \"Haushalt\"\\nDeutsch: \"Teil\" - Deutsch: \"Teil\"\\nDeutsch: \"drei\" - Deutsch: \"',\n",
       "  'out_token_id': [69, 5267],\n",
       "  'out_token_str': 'drei',\n",
       "  'latent_token_id': [13524, 394, 85],\n",
       "  'latent_token_str': 'three',\n",
       "  'in_token_str': 'drei'},\n",
       " {'prompt': 'Deutsch: \"Blume\" - Deutsch: \"Blume\"\\nDeutsch: \"Ozean\" - Deutsch: \"Ozean\"\\nDeutsch: \"fünf\" - Deutsch: \"fünf\"\\nDeutsch: \"Stern\" - Deutsch: \"Stern\"\\nDeutsch: \"vier\" - Deutsch: \"',\n",
       "  'out_token_id': [25858, 6584, 87, 40714],\n",
       "  'out_token_str': 'vier',\n",
       "  'latent_token_id': [4786, 71, 12496],\n",
       "  'latent_token_str': 'four',\n",
       "  'in_token_str': 'vier'},\n",
       " {'prompt': 'Deutsch: \"Feder\" - Deutsch: \"Feder\"\\nDeutsch: \"Teich\" - Deutsch: \"Teich\"\\nDeutsch: \"Fuß\" - Deutsch: \"Fuß\"\\nDeutsch: \"Freund\" - Deutsch: \"Freund\"\\nDeutsch: \"acht\" - Deutsch: \"',\n",
       "  'out_token_id': [66, 607, 13261, 317],\n",
       "  'out_token_str': 'acht',\n",
       "  'latent_token_id': [19521, 70, 27116],\n",
       "  'latent_token_str': 'eight',\n",
       "  'in_token_str': 'acht'},\n",
       " {'prompt': 'Deutsch: \"Osten\" - Deutsch: \"Osten\"\\nDeutsch: \"Freund\" - Deutsch: \"Freund\"\\nDeutsch: \"Tuch\" - Deutsch: \"Tuch\"\\nDeutsch: \"Büro\" - Deutsch: \"Büro\"\\nDeutsch: \"zehn\" - Deutsch: \"',\n",
       "  'out_token_id': [2721, 91],\n",
       "  'out_token_str': 'zehn',\n",
       "  'latent_token_id': [442, 85, 1866],\n",
       "  'latent_token_str': 'ten',\n",
       "  'in_token_str': 'zehn'},\n",
       " {'prompt': 'Deutsch: \"Fuß\" - Deutsch: \"Fuß\"\\nDeutsch: \"Gemälde\" - Deutsch: \"Gemälde\"\\nDeutsch: \"Tee\" - Deutsch: \"Tee\"\\nDeutsch: \"Tag\" - Deutsch: \"Tag\"\\nDeutsch: \"Kopf\" - Deutsch: \"',\n",
       "  'out_token_id': [40849, 44],\n",
       "  'out_token_str': 'Kopf',\n",
       "  'latent_token_id': [2522, 248, 21071, 73],\n",
       "  'latent_token_str': 'head',\n",
       "  'in_token_str': 'Kopf'},\n",
       " {'prompt': 'Deutsch: \"Süden\" - Deutsch: \"Süden\"\\nDeutsch: \"Tuch\" - Deutsch: \"Tuch\"\\nDeutsch: \"Stadt\" - Deutsch: \"Stadt\"\\nDeutsch: \"Quadrat\" - Deutsch: \"Quadrat\"\\nDeutsch: \"Streifen\" - Deutsch: \"',\n",
       "  'out_token_id': [10287, 52, 998],\n",
       "  'out_token_str': 'Streifen',\n",
       "  'latent_token_id': [84, 296, 1344, 32182, 25763],\n",
       "  'latent_token_str': 'strip',\n",
       "  'in_token_str': 'Streifen'},\n",
       " {'prompt': 'Deutsch: \"Boden\" - Deutsch: \"Boden\"\\nDeutsch: \"rot\" - Deutsch: \"rot\"\\nDeutsch: \"Buch\" - Deutsch: \"Buch\"\\nDeutsch: \"Blume\" - Deutsch: \"Blume\"\\nDeutsch: \"Straße\" - Deutsch: \"',\n",
       "  'out_token_id': [10287, 35562, 998, 52],\n",
       "  'out_token_str': 'Straße',\n",
       "  'latent_token_id': [33151, 84, 296, 1344, 32565],\n",
       "  'latent_token_str': 'street',\n",
       "  'in_token_str': 'Straße'},\n",
       " {'prompt': 'Deutsch: \"Börse\" - Deutsch: \"Börse\"\\nDeutsch: \"Gesetz\" - Deutsch: \"Gesetz\"\\nDeutsch: \"Mutter\" - Deutsch: \"Mutter\"\\nDeutsch: \"Quadrat\" - Deutsch: \"Quadrat\"\\nDeutsch: \"Teil\" - Deutsch: \"',\n",
       "  'out_token_id': [7573, 53],\n",
       "  'out_token_str': 'Teil',\n",
       "  'latent_token_id': [81, 1148, 2003, 4904],\n",
       "  'latent_token_str': 'part',\n",
       "  'in_token_str': 'Teil'},\n",
       " {'prompt': 'Deutsch: \"Art\" - Deutsch: \"Art\"\\nDeutsch: \"Tal\" - Deutsch: \"Tal\"\\nDeutsch: \"See\" - Deutsch: \"See\"\\nDeutsch: \"Fuß\" - Deutsch: \"Fuß\"\\nDeutsch: \"Auge\" - Deutsch: \"',\n",
       "  'out_token_id': [15853, 29165, 34],\n",
       "  'out_token_str': 'Auge',\n",
       "  'latent_token_id': [70, 2653, 30978],\n",
       "  'latent_token_str': 'eye',\n",
       "  'in_token_str': 'Auge'},\n",
       " {'prompt': 'Deutsch: \"Boden\" - Deutsch: \"Boden\"\\nDeutsch: \"Norden\" - Deutsch: \"Norden\"\\nDeutsch: \"Stern\" - Deutsch: \"Stern\"\\nDeutsch: \"Gemälde\" - Deutsch: \"Gemälde\"\\nDeutsch: \"Feld\" - Deutsch: \"',\n",
       "  'out_token_id': [45484, 7510, 39],\n",
       "  'out_token_str': 'Feld',\n",
       "  'latent_token_id': [71, 3423, 11125],\n",
       "  'latent_token_str': 'field',\n",
       "  'in_token_str': 'Feld'},\n",
       " {'prompt': 'Deutsch: \"Geschwindigkeit\" - Deutsch: \"Geschwindigkeit\"\\nDeutsch: \"Mitte\" - Deutsch: \"Mitte\"\\nDeutsch: \"löschen\" - Deutsch: \"löschen\"\\nDeutsch: \"Holz\" - Deutsch: \"Holz\"\\nDeutsch: \"Standort\" - Deutsch: \"',\n",
       "  'out_token_id': [36447, 52, 31673, 15542, 998],\n",
       "  'out_token_str': 'Standort',\n",
       "  'latent_token_id': [9245, 84, 12198, 11264],\n",
       "  'latent_token_str': 'site',\n",
       "  'in_token_str': 'Standort'},\n",
       " {'prompt': 'Deutsch: \"Macht\" - Deutsch: \"Macht\"\\nDeutsch: \"Norden\" - Deutsch: \"Norden\"\\nDeutsch: \"Tal\" - Deutsch: \"Tal\"\\nDeutsch: \"löschen\" - Deutsch: \"löschen\"\\nDeutsch: \"Wort\" - Deutsch: \"',\n",
       "  'out_token_id': [56],\n",
       "  'out_token_str': 'Wort',\n",
       "  'latent_token_id': [680, 3418, 88, 42108],\n",
       "  'latent_token_str': 'word',\n",
       "  'in_token_str': 'Wort'},\n",
       " {'prompt': 'Deutsch: \"zwei\" - Deutsch: \"zwei\"\\nDeutsch: \"Mund\" - Deutsch: \"Mund\"\\nDeutsch: \"Lied\" - Deutsch: \"Lied\"\\nDeutsch: \"Haushalt\" - Deutsch: \"Haushalt\"\\nDeutsch: \"Paar\" - Deutsch: \"',\n",
       "  'out_token_id': [9387, 49],\n",
       "  'out_token_str': 'Paar',\n",
       "  'latent_token_id': [81, 13934, 4904],\n",
       "  'latent_token_str': 'pair',\n",
       "  'in_token_str': 'Paar'},\n",
       " {'prompt': 'Deutsch: \"Mond\" - Deutsch: \"Mond\"\\nDeutsch: \"Tuch\" - Deutsch: \"Tuch\"\\nDeutsch: \"Fuß\" - Deutsch: \"Fuß\"\\nDeutsch: \"Schönheit\" - Deutsch: \"Schönheit\"\\nDeutsch: \"Sitz\" - Deutsch: \"',\n",
       "  'out_token_id': [35678, 14581, 52],\n",
       "  'out_token_str': 'Sitz',\n",
       "  'latent_token_id': [36443, 84, 339, 15681],\n",
       "  'latent_token_str': 'seat',\n",
       "  'in_token_str': 'Sitz'},\n",
       " {'prompt': 'Deutsch: \"Welle\" - Deutsch: \"Welle\"\\nDeutsch: \"drei\" - Deutsch: \"drei\"\\nDeutsch: \"Tag\" - Deutsch: \"Tag\"\\nDeutsch: \"eins\" - Deutsch: \"eins\"\\nDeutsch: \"Licht\" - Deutsch: \"',\n",
       "  'out_token_id': [49124, 17448, 45],\n",
       "  'out_token_str': 'Licht',\n",
       "  'latent_token_id': [965, 77, 3372, 3243],\n",
       "  'latent_token_str': 'light',\n",
       "  'in_token_str': 'Licht'},\n",
       " {'prompt': 'Deutsch: \"Gitter\" - Deutsch: \"Gitter\"\\nDeutsch: \"Blume\" - Deutsch: \"Blume\"\\nDeutsch: \"Boden\" - Deutsch: \"Boden\"\\nDeutsch: \"acht\" - Deutsch: \"acht\"\\nDeutsch: \"Norden\" - Deutsch: \"',\n",
       "  'out_token_id': [22427, 47, 2302],\n",
       "  'out_token_str': 'Norden',\n",
       "  'latent_token_id': [15387, 37436, 2369, 79],\n",
       "  'latent_token_str': 'north',\n",
       "  'in_token_str': 'Norden'},\n",
       " {'prompt': 'Deutsch: \"Börse\" - Deutsch: \"Börse\"\\nDeutsch: \"Niederlage\" - Deutsch: \"Niederlage\"\\nDeutsch: \"Herz\" - Deutsch: \"Herz\"\\nDeutsch: \"Sonne\" - Deutsch: \"Sonne\"\\nDeutsch: \"Maschine\" - Deutsch: \"',\n",
       "  'out_token_id': [16490, 46, 35147],\n",
       "  'out_token_str': 'Maschine',\n",
       "  'latent_token_id': [78, 28936, 12432, 785],\n",
       "  'latent_token_str': 'machine',\n",
       "  'in_token_str': 'Maschine'},\n",
       " {'prompt': 'Deutsch: \"Haushalt\" - Deutsch: \"Haushalt\"\\nDeutsch: \"Berg\" - Deutsch: \"Berg\"\\nDeutsch: \"Abschnitt\" - Deutsch: \"Abschnitt\"\\nDeutsch: \"Licht\" - Deutsch: \"Licht\"\\nDeutsch: \"Zeit\" - Deutsch: \"',\n",
       "  'out_token_id': [59, 32462],\n",
       "  'out_token_str': 'Zeit',\n",
       "  'latent_token_id': [12292, 2606, 6811, 85],\n",
       "  'latent_token_str': 'time',\n",
       "  'in_token_str': 'Zeit'},\n",
       " {'prompt': 'Deutsch: \"Abschnitt\" - Deutsch: \"Abschnitt\"\\nDeutsch: \"Mund\" - Deutsch: \"Mund\"\\nDeutsch: \"Brücke\" - Deutsch: \"Brücke\"\\nDeutsch: \"Freund\" - Deutsch: \"Freund\"\\nDeutsch: \"Nutzen\" - Deutsch: \"',\n",
       "  'out_token_id': [41208, 47],\n",
       "  'out_token_str': 'Nutzen',\n",
       "  'latent_token_id': [67, 1257, 7564, 31891],\n",
       "  'latent_token_str': 'benefit',\n",
       "  'in_token_str': 'Nutzen'},\n",
       " {'prompt': 'Deutsch: \"Schwanz\" - Deutsch: \"Schwanz\"\\nDeutsch: \"Tasche\" - Deutsch: \"Tasche\"\\nDeutsch: \"Schule\" - Deutsch: \"Schule\"\\nDeutsch: \"Pferd\" - Deutsch: \"Pferd\"\\nDeutsch: \"Provinz\" - Deutsch: \"',\n",
       "  'out_token_id': [6140, 1845, 11509, 49],\n",
       "  'out_token_str': 'Provinz',\n",
       "  'latent_token_id': [1087, 11404, 81, 856],\n",
       "  'latent_token_str': 'province',\n",
       "  'in_token_str': 'Provinz'},\n",
       " {'prompt': 'Deutsch: \"Lied\" - Deutsch: \"Lied\"\\nDeutsch: \"Niederlage\" - Deutsch: \"Niederlage\"\\nDeutsch: \"Bahnhof\" - Deutsch: \"Bahnhof\"\\nDeutsch: \"Schule\" - Deutsch: \"Schule\"\\nDeutsch: \"Börse\" - Deutsch: \"',\n",
       "  'out_token_id': [35],\n",
       "  'out_token_str': 'Börse',\n",
       "  'latent_token_id': [911, 70, 36688, 35757],\n",
       "  'latent_token_str': 'exchange',\n",
       "  'in_token_str': 'Börse'},\n",
       " {'prompt': 'Deutsch: \"Streifen\" - Deutsch: \"Streifen\"\\nDeutsch: \"Gemälde\" - Deutsch: \"Gemälde\"\\nDeutsch: \"Haar\" - Deutsch: \"Haar\"\\nDeutsch: \"Holz\" - Deutsch: \"Holz\"\\nDeutsch: \"Mitte\" - Deutsch: \"',\n",
       "  'out_token_id': [34967, 24711, 46],\n",
       "  'out_token_str': 'Mitte',\n",
       "  'latent_token_id': [16389, 7893, 78, 7373],\n",
       "  'latent_token_str': 'middle',\n",
       "  'in_token_str': 'Mitte'},\n",
       " {'prompt': 'Deutsch: \"sieben\" - Deutsch: \"sieben\"\\nDeutsch: \"rot\" - Deutsch: \"rot\"\\nDeutsch: \"acht\" - Deutsch: \"acht\"\\nDeutsch: \"Tasche\" - Deutsch: \"Tasche\"\\nDeutsch: \"Freund\" - Deutsch: \"',\n",
       "  'out_token_id': [25353, 4604, 39],\n",
       "  'out_token_str': 'Freund',\n",
       "  'latent_token_id': [71, 925, 8471],\n",
       "  'latent_token_str': 'friend',\n",
       "  'in_token_str': 'Freund'},\n",
       " {'prompt': 'Deutsch: \"Herz\" - Deutsch: \"Herz\"\\nDeutsch: \"zehn\" - Deutsch: \"zehn\"\\nDeutsch: \"Straße\" - Deutsch: \"Straße\"\\nDeutsch: \"rot\" - Deutsch: \"rot\"\\nDeutsch: \"Farbe\" - Deutsch: \"',\n",
       "  'out_token_id': [30235, 24234, 39],\n",
       "  'out_token_str': 'Farbe',\n",
       "  'latent_token_id': [2052, 1940, 68, 4897],\n",
       "  'latent_token_str': 'color',\n",
       "  'in_token_str': 'Farbe'},\n",
       " {'prompt': 'Deutsch: \"Haus\" - Deutsch: \"Haus\"\\nDeutsch: \"Versuch\" - Deutsch: \"Versuch\"\\nDeutsch: \"Feder\" - Deutsch: \"Feder\"\\nDeutsch: \"rot\" - Deutsch: \"rot\"\\nDeutsch: \"Art\" - Deutsch: \"',\n",
       "  'out_token_id': [11796, 2906, 34],\n",
       "  'out_token_str': 'Art',\n",
       "  'latent_token_id': [5985, 76, 11258, 5914],\n",
       "  'latent_token_str': 'kind',\n",
       "  'in_token_str': 'Art'},\n",
       " {'prompt': 'Deutsch: \"See\" - Deutsch: \"See\"\\nDeutsch: \"Rede\" - Deutsch: \"Rede\"\\nDeutsch: \"Gemälde\" - Deutsch: \"Gemälde\"\\nDeutsch: \"Feuer\" - Deutsch: \"Feuer\"\\nDeutsch: \"Richter\" - Deutsch: \"',\n",
       "  'out_token_id': [45668, 17389, 51],\n",
       "  'out_token_str': 'Richter',\n",
       "  'latent_token_id': [47075, 7589, 6881, 75],\n",
       "  'latent_token_str': 'judge',\n",
       "  'in_token_str': 'Richter'},\n",
       " {'prompt': 'Deutsch: \"Sonne\" - Deutsch: \"Sonne\"\\nDeutsch: \"Plattform\" - Deutsch: \"Plattform\"\\nDeutsch: \"Welle\" - Deutsch: \"Welle\"\\nDeutsch: \"fünf\" - Deutsch: \"fünf\"\\nDeutsch: \"Schule\" - Deutsch: \"',\n",
       "  'out_token_id': [4316, 10859, 52],\n",
       "  'out_token_str': 'Schule',\n",
       "  'latent_token_id': [1026, 84, 10629, 19221],\n",
       "  'latent_token_str': 'school',\n",
       "  'in_token_str': 'Schule'},\n",
       " {'prompt': 'Deutsch: \"Sitz\" - Deutsch: \"Sitz\"\\nDeutsch: \"sieben\" - Deutsch: \"sieben\"\\nDeutsch: \"Paar\" - Deutsch: \"Paar\"\\nDeutsch: \"Schönheit\" - Deutsch: \"Schönheit\"\\nDeutsch: \"Krawatte\" - Deutsch: \"',\n",
       "  'out_token_id': [44],\n",
       "  'out_token_str': 'Krawatte',\n",
       "  'latent_token_id': [37678, 6811, 85],\n",
       "  'latent_token_str': 'tie',\n",
       "  'in_token_str': 'Krawatte'},\n",
       " {'prompt': 'Deutsch: \"Kind\" - Deutsch: \"Kind\"\\nDeutsch: \"Herz\" - Deutsch: \"Herz\"\\nDeutsch: \"tausend\" - Deutsch: \"tausend\"\\nDeutsch: \"Tugend\" - Deutsch: \"Tugend\"\\nDeutsch: \"Beispiel\" - Deutsch: \"',\n",
       "  'out_token_id': [35, 4678],\n",
       "  'out_token_str': 'Beispiel',\n",
       "  'latent_token_id': [911, 11667, 70],\n",
       "  'latent_token_str': 'example',\n",
       "  'in_token_str': 'Beispiel'},\n",
       " {'prompt': 'Deutsch: \"Teich\" - Deutsch: \"Teich\"\\nDeutsch: \"zehn\" - Deutsch: \"zehn\"\\nDeutsch: \"Buch\" - Deutsch: \"Buch\"\\nDeutsch: \"Richter\" - Deutsch: \"Richter\"\\nDeutsch: \"Gesicht\" - Deutsch: \"',\n",
       "  'out_token_id': [7559, 40],\n",
       "  'out_token_str': 'Gesicht',\n",
       "  'latent_token_id': [71, 1664, 28402, 6855],\n",
       "  'latent_token_str': 'face',\n",
       "  'in_token_str': 'Gesicht'},\n",
       " {'prompt': 'Deutsch: \"Anstieg\" - Deutsch: \"Anstieg\"\\nDeutsch: \"Mund\" - Deutsch: \"Mund\"\\nDeutsch: \"Gesicht\" - Deutsch: \"Gesicht\"\\nDeutsch: \"fünf\" - Deutsch: \"fünf\"\\nDeutsch: \"Brücke\" - Deutsch: \"',\n",
       "  'out_token_id': [8478, 35],\n",
       "  'out_token_str': 'Brücke',\n",
       "  'latent_token_id': [7807, 8298, 1288, 67],\n",
       "  'latent_token_str': 'bridge',\n",
       "  'in_token_str': 'Brücke'},\n",
       " {'prompt': 'Deutsch: \"Holz\" - Deutsch: \"Holz\"\\nDeutsch: \"Gitter\" - Deutsch: \"Gitter\"\\nDeutsch: \"Tugend\" - Deutsch: \"Tugend\"\\nDeutsch: \"rot\" - Deutsch: \"rot\"\\nDeutsch: \"Gegenstand\" - Deutsch: \"',\n",
       "  'out_token_id': [7559, 40],\n",
       "  'out_token_str': 'Gegenstand',\n",
       "  'latent_token_id': [614, 262, 74, 4835],\n",
       "  'latent_token_str': 'item',\n",
       "  'in_token_str': 'Gegenstand'},\n",
       " {'prompt': 'Deutsch: \"Zeit\" - Deutsch: \"Zeit\"\\nDeutsch: \"Boden\" - Deutsch: \"Boden\"\\nDeutsch: \"Feder\" - Deutsch: \"Feder\"\\nDeutsch: \"Gegenstand\" - Deutsch: \"Gegenstand\"\\nDeutsch: \"löschen\" - Deutsch: \"',\n",
       "  'out_token_id': [77],\n",
       "  'out_token_str': 'löschen',\n",
       "  'latent_token_id': [7555, 69, 615, 16435],\n",
       "  'latent_token_str': 'delete',\n",
       "  'in_token_str': 'löschen'},\n",
       " {'prompt': 'Deutsch: \"Stern\" - Deutsch: \"Stern\"\\nDeutsch: \"Turm\" - Deutsch: \"Turm\"\\nDeutsch: \"Plattform\" - Deutsch: \"Plattform\"\\nDeutsch: \"Tal\" - Deutsch: \"Tal\"\\nDeutsch: \"Gruppe\" - Deutsch: \"',\n",
       "  'out_token_id': [3594, 40],\n",
       "  'out_token_str': 'Gruppe',\n",
       "  'latent_token_id': [26817, 72, 4399, 737],\n",
       "  'latent_token_str': 'group',\n",
       "  'in_token_str': 'Gruppe'},\n",
       " {'prompt': 'Deutsch: \"rot\" - Deutsch: \"rot\"\\nDeutsch: \"Licht\" - Deutsch: \"Licht\"\\nDeutsch: \"Standort\" - Deutsch: \"Standort\"\\nDeutsch: \"Tugend\" - Deutsch: \"Tugend\"\\nDeutsch: \"Schönheit\" - Deutsch: \"',\n",
       "  'out_token_id': [4316, 52, 10859],\n",
       "  'out_token_str': 'Schönheit',\n",
       "  'latent_token_id': [67, 1257],\n",
       "  'latent_token_str': 'beauty',\n",
       "  'in_token_str': 'Schönheit'},\n",
       " {'prompt': 'Deutsch: \"Krawatte\" - Deutsch: \"Krawatte\"\\nDeutsch: \"Macht\" - Deutsch: \"Macht\"\\nDeutsch: \"Gesetz\" - Deutsch: \"Gesetz\"\\nDeutsch: \"Tür\" - Deutsch: \"Tür\"\\nDeutsch: \"Plattform\" - Deutsch: \"',\n",
       "  'out_token_id': [3493, 49],\n",
       "  'out_token_str': 'Plattform',\n",
       "  'latent_token_id': [81, 19161, 446],\n",
       "  'latent_token_str': 'platform',\n",
       "  'in_token_str': 'Plattform'},\n",
       " {'prompt': 'Deutsch: \"Rede\" - Deutsch: \"Rede\"\\nDeutsch: \"Kopf\" - Deutsch: \"Kopf\"\\nDeutsch: \"Teil\" - Deutsch: \"Teil\"\\nDeutsch: \"Paar\" - Deutsch: \"Paar\"\\nDeutsch: \"Haus\" - Deutsch: \"',\n",
       "  'out_token_id': [18853, 41],\n",
       "  'out_token_str': 'Haus',\n",
       "  'latent_token_id': [14451, 1689, 73, 5967],\n",
       "  'latent_token_str': 'house',\n",
       "  'in_token_str': 'Haus'},\n",
       " {'prompt': 'Deutsch: \"Holz\" - Deutsch: \"Holz\"\\nDeutsch: \"Gesetz\" - Deutsch: \"Gesetz\"\\nDeutsch: \"Haus\" - Deutsch: \"Haus\"\\nDeutsch: \"Wald\" - Deutsch: \"Wald\"\\nDeutsch: \"Sonne\" - Deutsch: \"',\n",
       "  'out_token_id': [30138, 2598, 52],\n",
       "  'out_token_str': 'Sonne',\n",
       "  'latent_token_id': [13998, 84, 3467],\n",
       "  'latent_token_str': 'sun',\n",
       "  'in_token_str': 'Sonne'},\n",
       " {'prompt': 'Deutsch: \"Mitte\" - Deutsch: \"Mitte\"\\nDeutsch: \"Welle\" - Deutsch: \"Welle\"\\nDeutsch: \"Tugend\" - Deutsch: \"Tugend\"\\nDeutsch: \"Quelle\" - Deutsch: \"Quelle\"\\nDeutsch: \"Geschichte\" - Deutsch: \"',\n",
       "  'out_token_id': [7559, 40],\n",
       "  'out_token_str': 'Geschichte',\n",
       "  'latent_token_id': [5801, 29059, 22328, 73, 8701, 15700],\n",
       "  'latent_token_str': 'history',\n",
       "  'in_token_str': 'Geschichte'},\n",
       " {'prompt': 'Deutsch: \"Blume\" - Deutsch: \"Blume\"\\nDeutsch: \"Gruppe\" - Deutsch: \"Gruppe\"\\nDeutsch: \"Geschwindigkeit\" - Deutsch: \"Geschwindigkeit\"\\nDeutsch: \"Tuch\" - Deutsch: \"Tuch\"\\nDeutsch: \"Tal\" - Deutsch: \"',\n",
       "  'out_token_id': [41520, 53, 26385],\n",
       "  'out_token_str': 'Tal',\n",
       "  'latent_token_id': [1208, 6156, 42089, 87],\n",
       "  'latent_token_str': 'valley',\n",
       "  'in_token_str': 'Tal'},\n",
       " {'prompt': 'Deutsch: \"löschen\" - Deutsch: \"löschen\"\\nDeutsch: \"Boden\" - Deutsch: \"Boden\"\\nDeutsch: \"Stadt\" - Deutsch: \"Stadt\"\\nDeutsch: \"tausend\" - Deutsch: \"tausend\"\\nDeutsch: \"Quadrat\" - Deutsch: \"',\n",
       "  'out_token_id': [3864, 50],\n",
       "  'out_token_str': 'Quadrat',\n",
       "  'latent_token_id': [84, 18858, 15044, 23600],\n",
       "  'latent_token_str': 'square',\n",
       "  'in_token_str': 'Quadrat'},\n",
       " {'prompt': 'Deutsch: \"Feder\" - Deutsch: \"Feder\"\\nDeutsch: \"Mutter\" - Deutsch: \"Mutter\"\\nDeutsch: \"vier\" - Deutsch: \"vier\"\\nDeutsch: \"Geschichte\" - Deutsch: \"Geschichte\"\\nDeutsch: \"Süden\" - Deutsch: \"',\n",
       "  'out_token_id': [52],\n",
       "  'out_token_str': 'Süden',\n",
       "  'latent_token_id': [84, 34542, 601],\n",
       "  'latent_token_str': 'south',\n",
       "  'in_token_str': 'Süden'},\n",
       " {'prompt': 'Deutsch: \"Kind\" - Deutsch: \"Kind\"\\nDeutsch: \"Gesicht\" - Deutsch: \"Gesicht\"\\nDeutsch: \"Mond\" - Deutsch: \"Mond\"\\nDeutsch: \"vier\" - Deutsch: \"vier\"\\nDeutsch: \"Tugend\" - Deutsch: \"',\n",
       "  'out_token_id': [53, 37675],\n",
       "  'out_token_str': 'Tugend',\n",
       "  'latent_token_id': [12855, 6584, 87, 42446],\n",
       "  'latent_token_str': 'virtue',\n",
       "  'in_token_str': 'Tugend'},\n",
       " {'prompt': 'Deutsch: \"Fuß\" - Deutsch: \"Fuß\"\\nDeutsch: \"Gruppe\" - Deutsch: \"Gruppe\"\\nDeutsch: \"Tugend\" - Deutsch: \"Tugend\"\\nDeutsch: \"Abschnitt\" - Deutsch: \"Abschnitt\"\\nDeutsch: \"Stamm\" - Deutsch: \"',\n",
       "  'out_token_id': [52, 31673, 998],\n",
       "  'out_token_str': 'Stamm',\n",
       "  'latent_token_id': [1206, 85, 12512],\n",
       "  'latent_token_str': 'tribe',\n",
       "  'in_token_str': 'Stamm'},\n",
       " {'prompt': 'Deutsch: \"Ozean\" - Deutsch: \"Ozean\"\\nDeutsch: \"Boden\" - Deutsch: \"Boden\"\\nDeutsch: \"Rede\" - Deutsch: \"Rede\"\\nDeutsch: \"Kopf\" - Deutsch: \"Kopf\"\\nDeutsch: \"Stadt\" - Deutsch: \"',\n",
       "  'out_token_id': [52, 31673, 998],\n",
       "  'out_token_str': 'Stadt',\n",
       "  'latent_token_id': [5297, 68, 10179, 21280],\n",
       "  'latent_token_str': 'city',\n",
       "  'in_token_str': 'Stadt'},\n",
       " {'prompt': 'Deutsch: \"Tuch\" - Deutsch: \"Tuch\"\\nDeutsch: \"Haar\" - Deutsch: \"Haar\"\\nDeutsch: \"Berg\" - Deutsch: \"Berg\"\\nDeutsch: \"Sommer\" - Deutsch: \"Sommer\"\\nDeutsch: \"Sprache\" - Deutsch: \"',\n",
       "  'out_token_id': [6104, 39023, 52],\n",
       "  'out_token_str': 'Sprache',\n",
       "  'latent_token_id': [13409, 77, 12982, 4123, 8700],\n",
       "  'latent_token_str': 'language',\n",
       "  'in_token_str': 'Sprache'},\n",
       " {'prompt': 'Deutsch: \"Quadrat\" - Deutsch: \"Quadrat\"\\nDeutsch: \"Boden\" - Deutsch: \"Boden\"\\nDeutsch: \"Brücke\" - Deutsch: \"Brücke\"\\nDeutsch: \"Stadt\" - Deutsch: \"Stadt\"\\nDeutsch: \"Geschwindigkeit\" - Deutsch: \"',\n",
       "  'out_token_id': [7559, 40],\n",
       "  'out_token_str': 'Geschwindigkeit',\n",
       "  'latent_token_id': [1033, 84, 15507, 9293],\n",
       "  'latent_token_str': 'speed',\n",
       "  'in_token_str': 'Geschwindigkeit'},\n",
       " {'prompt': 'Deutsch: \"Macht\" - Deutsch: \"Macht\"\\nDeutsch: \"Feder\" - Deutsch: \"Feder\"\\nDeutsch: \"Gitter\" - Deutsch: \"Gitter\"\\nDeutsch: \"Welle\" - Deutsch: \"Welle\"\\nDeutsch: \"Boden\" - Deutsch: \"',\n",
       "  'out_token_id': [11478, 35],\n",
       "  'out_token_str': 'Boden',\n",
       "  'latent_token_id': [2595, 26817, 72, 737],\n",
       "  'latent_token_str': 'ground',\n",
       "  'in_token_str': 'Boden'},\n",
       " {'prompt': 'Deutsch: \"Plattform\" - Deutsch: \"Plattform\"\\nDeutsch: \"Brücke\" - Deutsch: \"Brücke\"\\nDeutsch: \"Provinz\" - Deutsch: \"Provinz\"\\nDeutsch: \"Ozean\" - Deutsch: \"Ozean\"\\nDeutsch: \"Versuch\" - Deutsch: \"',\n",
       "  'out_token_id': [43356, 10754, 55, 31516],\n",
       "  'out_token_str': 'Versuch',\n",
       "  'latent_token_id': [1595, 66, 255, 38839, 34015],\n",
       "  'latent_token_str': 'attempt',\n",
       "  'in_token_str': 'Versuch'},\n",
       " {'prompt': 'Deutsch: \"Plattform\" - Deutsch: \"Plattform\"\\nDeutsch: \"Teil\" - Deutsch: \"Teil\"\\nDeutsch: \"vier\" - Deutsch: \"vier\"\\nDeutsch: \"Paar\" - Deutsch: \"Paar\"\\nDeutsch: \"Niederlage\" - Deutsch: \"',\n",
       "  'out_token_id': [24534, 47],\n",
       "  'out_token_str': 'Niederlage',\n",
       "  'latent_token_id': [1545, 69, 615],\n",
       "  'latent_token_str': 'defeat',\n",
       "  'in_token_str': 'Niederlage'},\n",
       " {'prompt': 'Deutsch: \"Herz\" - Deutsch: \"Herz\"\\nDeutsch: \"Tugend\" - Deutsch: \"Tugend\"\\nDeutsch: \"Rede\" - Deutsch: \"Rede\"\\nDeutsch: \"Maschine\" - Deutsch: \"Maschine\"\\nDeutsch: \"Schwanz\" - Deutsch: \"',\n",
       "  'out_token_id': [4316, 10859, 52],\n",
       "  'out_token_str': 'Schwanz',\n",
       "  'latent_token_id': [14694, 85, 893],\n",
       "  'latent_token_str': 'tail',\n",
       "  'in_token_str': 'Schwanz'},\n",
       " {'prompt': 'Deutsch: \"Berg\" - Deutsch: \"Berg\"\\nDeutsch: \"Teil\" - Deutsch: \"Teil\"\\nDeutsch: \"zwei\" - Deutsch: \"zwei\"\\nDeutsch: \"tausend\" - Deutsch: \"tausend\"\\nDeutsch: \"Mutter\" - Deutsch: \"',\n",
       "  'out_token_id': [31135, 31425, 46],\n",
       "  'out_token_str': 'Mutter',\n",
       "  'latent_token_id': [24013, 13875, 78, 6972],\n",
       "  'latent_token_str': 'mother',\n",
       "  'in_token_str': 'Mutter'},\n",
       " {'prompt': 'Deutsch: \"Versuch\" - Deutsch: \"Versuch\"\\nDeutsch: \"Paar\" - Deutsch: \"Paar\"\\nDeutsch: \"Licht\" - Deutsch: \"Licht\"\\nDeutsch: \"Teil\" - Deutsch: \"Teil\"\\nDeutsch: \"Osten\" - Deutsch: \"',\n",
       "  'out_token_id': [17174, 48],\n",
       "  'out_token_str': 'Osten',\n",
       "  'latent_token_id': [14576, 26139, 70, 19010],\n",
       "  'latent_token_str': 'east',\n",
       "  'in_token_str': 'Osten'},\n",
       " {'prompt': 'Deutsch: \"Sonne\" - Deutsch: \"Sonne\"\\nDeutsch: \"Norden\" - Deutsch: \"Norden\"\\nDeutsch: \"Fluss\" - Deutsch: \"Fluss\"\\nDeutsch: \"Tür\" - Deutsch: \"Tür\"\\nDeutsch: \"Rede\" - Deutsch: \"',\n",
       "  'out_token_id': [1785, 10252, 51],\n",
       "  'out_token_str': 'Rede',\n",
       "  'latent_token_id': [1033, 84, 48460, 9293],\n",
       "  'latent_token_str': 'speech',\n",
       "  'in_token_str': 'Rede'},\n",
       " {'prompt': 'Deutsch: \"Blume\" - Deutsch: \"Blume\"\\nDeutsch: \"Tuch\" - Deutsch: \"Tuch\"\\nDeutsch: \"Rede\" - Deutsch: \"Rede\"\\nDeutsch: \"Holz\" - Deutsch: \"Holz\"\\nDeutsch: \"Kind\" - Deutsch: \"',\n",
       "  'out_token_id': [44, 18808, 47844, 40170],\n",
       "  'out_token_str': 'Kind',\n",
       "  'latent_token_id': [7003, 68, 4635, 348],\n",
       "  'latent_token_str': 'child',\n",
       "  'in_token_str': 'Kind'},\n",
       " {'prompt': 'Deutsch: \"Mutter\" - Deutsch: \"Mutter\"\\nDeutsch: \"Dorf\" - Deutsch: \"Dorf\"\\nDeutsch: \"Herz\" - Deutsch: \"Herz\"\\nDeutsch: \"Tugend\" - Deutsch: \"Tugend\"\\nDeutsch: \"Turm\" - Deutsch: \"',\n",
       "  'out_token_id': [23992, 53, 37675],\n",
       "  'out_token_str': 'Turm',\n",
       "  'latent_token_id': [936, 32289, 85],\n",
       "  'latent_token_str': 'tower',\n",
       "  'in_token_str': 'Turm'},\n",
       " {'prompt': 'Deutsch: \"Osten\" - Deutsch: \"Osten\"\\nDeutsch: \"Abschnitt\" - Deutsch: \"Abschnitt\"\\nDeutsch: \"Rede\" - Deutsch: \"Rede\"\\nDeutsch: \"Dorf\" - Deutsch: \"Dorf\"\\nDeutsch: \"Haar\" - Deutsch: \"',\n",
       "  'out_token_id': [18853, 41],\n",
       "  'out_token_str': 'Haar',\n",
       "  'latent_token_id': [16926, 73, 41754, 3227],\n",
       "  'latent_token_str': 'hair',\n",
       "  'in_token_str': 'Haar'},\n",
       " {'prompt': 'Deutsch: \"Linie\" - Deutsch: \"Linie\"\\nDeutsch: \"Geschichte\" - Deutsch: \"Geschichte\"\\nDeutsch: \"Haus\" - Deutsch: \"Haus\"\\nDeutsch: \"Standort\" - Deutsch: \"Standort\"\\nDeutsch: \"Haushalt\" - Deutsch: \"',\n",
       "  'out_token_id': [18853, 41],\n",
       "  'out_token_str': 'Haushalt',\n",
       "  'latent_token_id': [14451, 1689, 73, 5967],\n",
       "  'latent_token_str': 'household',\n",
       "  'in_token_str': 'Haushalt'},\n",
       " {'prompt': 'Deutsch: \"Freund\" - Deutsch: \"Freund\"\\nDeutsch: \"Gesicht\" - Deutsch: \"Gesicht\"\\nDeutsch: \"Pferd\" - Deutsch: \"Pferd\"\\nDeutsch: \"Provinz\" - Deutsch: \"Provinz\"\\nDeutsch: \"Abschnitt\" - Deutsch: \"',\n",
       "  'out_token_id': [18310, 5039, 34],\n",
       "  'out_token_str': 'Abschnitt',\n",
       "  'latent_token_id': [1704, 4674, 7338, 84, 339],\n",
       "  'latent_token_str': 'section',\n",
       "  'in_token_str': 'Abschnitt'},\n",
       " {'prompt': 'Deutsch: \"Punkt\" - Deutsch: \"Punkt\"\\nDeutsch: \"Buch\" - Deutsch: \"Buch\"\\nDeutsch: \"tausend\" - Deutsch: \"tausend\"\\nDeutsch: \"Straße\" - Deutsch: \"Straße\"\\nDeutsch: \"Büro\" - Deutsch: \"',\n",
       "  'out_token_id': [35],\n",
       "  'out_token_str': 'Büro',\n",
       "  'latent_token_id': [30496, 80, 1171, 19102, 2727],\n",
       "  'latent_token_str': 'office',\n",
       "  'in_token_str': 'Büro'},\n",
       " {'prompt': 'Deutsch: \"Tag\" - Deutsch: \"Tag\"\\nDeutsch: \"Gemälde\" - Deutsch: \"Gemälde\"\\nDeutsch: \"fünf\" - Deutsch: \"fünf\"\\nDeutsch: \"neun\" - Deutsch: \"neun\"\\nDeutsch: \"Anstieg\" - Deutsch: \"',\n",
       "  'out_token_id': [1145, 34],\n",
       "  'out_token_str': 'Anstieg',\n",
       "  'latent_token_id': [363, 83, 24078, 4448],\n",
       "  'latent_token_str': 'rise',\n",
       "  'in_token_str': 'Anstieg'},\n",
       " {'prompt': 'Deutsch: \"Schule\" - Deutsch: \"Schule\"\\nDeutsch: \"Reis\" - Deutsch: \"Reis\"\\nDeutsch: \"Tee\" - Deutsch: \"Tee\"\\nDeutsch: \"Börse\" - Deutsch: \"Börse\"\\nDeutsch: \"Macht\" - Deutsch: \"',\n",
       "  'out_token_id': [13815, 16490, 46],\n",
       "  'out_token_str': 'Macht',\n",
       "  'latent_token_id': [81, 13029, 9177, 5367],\n",
       "  'latent_token_str': 'power',\n",
       "  'in_token_str': 'Macht'},\n",
       " {'prompt': 'Deutsch: \"Provinz\" - Deutsch: \"Provinz\"\\nDeutsch: \"Boden\" - Deutsch: \"Boden\"\\nDeutsch: \"Turm\" - Deutsch: \"Turm\"\\nDeutsch: \"Nutzen\" - Deutsch: \"Nutzen\"\\nDeutsch: \"Sommer\" - Deutsch: \"',\n",
       "  'out_token_id': [2598, 52],\n",
       "  'out_token_str': 'Sommer',\n",
       "  'latent_token_id': [2204, 44830, 84, 3467],\n",
       "  'latent_token_str': 'summer',\n",
       "  'in_token_str': 'Sommer'}]"
      ]
     },
     "execution_count": 14,
     "metadata": {},
     "output_type": "execute_result"
    }
   ],
   "source": [
    "dataset"
   ]
  },
  {
   "cell_type": "code",
   "execution_count": 15,
   "id": "25241c49",
   "metadata": {
    "execution": {
     "iopub.execute_input": "2024-03-02T15:42:32.300740Z",
     "iopub.status.busy": "2024-03-02T15:42:32.300330Z",
     "iopub.status.idle": "2024-03-02T15:43:01.750607Z",
     "shell.execute_reply": "2024-03-02T15:43:01.749752Z"
    },
    "papermill": {
     "duration": 29.466906,
     "end_time": "2024-03-02T15:43:01.752132",
     "exception": false,
     "start_time": "2024-03-02T15:42:32.285226",
     "status": "completed"
    },
    "tags": []
   },
   "outputs": [
    {
     "name": "stderr",
     "output_type": "stream",
     "text": [
      "\r",
      "0it [00:00, ?it/s]"
     ]
    },
    {
     "name": "stderr",
     "output_type": "stream",
     "text": [
      "\r",
      "1it [00:01,  1.03s/it]"
     ]
    },
    {
     "name": "stderr",
     "output_type": "stream",
     "text": [
      "\r",
      "2it [00:01,  1.56it/s]"
     ]
    },
    {
     "name": "stderr",
     "output_type": "stream",
     "text": [
      "\r",
      "3it [00:01,  1.98it/s]"
     ]
    },
    {
     "name": "stderr",
     "output_type": "stream",
     "text": [
      "\r",
      "4it [00:02,  2.38it/s]"
     ]
    },
    {
     "name": "stderr",
     "output_type": "stream",
     "text": [
      "\r",
      "5it [00:02,  2.71it/s]"
     ]
    },
    {
     "name": "stderr",
     "output_type": "stream",
     "text": [
      "\r",
      "6it [00:02,  2.93it/s]"
     ]
    },
    {
     "name": "stderr",
     "output_type": "stream",
     "text": [
      "\r",
      "7it [00:02,  3.03it/s]"
     ]
    },
    {
     "name": "stderr",
     "output_type": "stream",
     "text": [
      "\r",
      "8it [00:03,  3.02it/s]"
     ]
    },
    {
     "name": "stderr",
     "output_type": "stream",
     "text": [
      "\r",
      "9it [00:03,  3.01it/s]"
     ]
    },
    {
     "name": "stderr",
     "output_type": "stream",
     "text": [
      "\r",
      "10it [00:03,  3.12it/s]"
     ]
    },
    {
     "name": "stderr",
     "output_type": "stream",
     "text": [
      "\r",
      "11it [00:04,  3.13it/s]"
     ]
    },
    {
     "name": "stderr",
     "output_type": "stream",
     "text": [
      "\r",
      "12it [00:04,  3.14it/s]"
     ]
    },
    {
     "name": "stderr",
     "output_type": "stream",
     "text": [
      "\r",
      "13it [00:04,  3.23it/s]"
     ]
    },
    {
     "name": "stderr",
     "output_type": "stream",
     "text": [
      "\r",
      "14it [00:05,  3.28it/s]"
     ]
    },
    {
     "name": "stderr",
     "output_type": "stream",
     "text": [
      "\r",
      "15it [00:05,  3.35it/s]"
     ]
    },
    {
     "name": "stderr",
     "output_type": "stream",
     "text": [
      "\r",
      "16it [00:05,  3.39it/s]"
     ]
    },
    {
     "name": "stderr",
     "output_type": "stream",
     "text": [
      "\r",
      "17it [00:05,  3.34it/s]"
     ]
    },
    {
     "name": "stderr",
     "output_type": "stream",
     "text": [
      "\r",
      "18it [00:06,  3.30it/s]"
     ]
    },
    {
     "name": "stderr",
     "output_type": "stream",
     "text": [
      "\r",
      "19it [00:06,  3.34it/s]"
     ]
    },
    {
     "name": "stderr",
     "output_type": "stream",
     "text": [
      "\r",
      "20it [00:06,  3.35it/s]"
     ]
    },
    {
     "name": "stderr",
     "output_type": "stream",
     "text": [
      "\r",
      "21it [00:07,  3.41it/s]"
     ]
    },
    {
     "name": "stderr",
     "output_type": "stream",
     "text": [
      "\r",
      "22it [00:07,  3.33it/s]"
     ]
    },
    {
     "name": "stderr",
     "output_type": "stream",
     "text": [
      "\r",
      "23it [00:07,  3.43it/s]"
     ]
    },
    {
     "name": "stderr",
     "output_type": "stream",
     "text": [
      "\r",
      "24it [00:08,  3.49it/s]"
     ]
    },
    {
     "name": "stderr",
     "output_type": "stream",
     "text": [
      "\r",
      "25it [00:08,  3.47it/s]"
     ]
    },
    {
     "name": "stderr",
     "output_type": "stream",
     "text": [
      "\r",
      "26it [00:08,  3.46it/s]"
     ]
    },
    {
     "name": "stderr",
     "output_type": "stream",
     "text": [
      "\r",
      "27it [00:08,  3.53it/s]"
     ]
    },
    {
     "name": "stderr",
     "output_type": "stream",
     "text": [
      "\r",
      "28it [00:09,  3.50it/s]"
     ]
    },
    {
     "name": "stderr",
     "output_type": "stream",
     "text": [
      "\r",
      "29it [00:09,  3.58it/s]"
     ]
    },
    {
     "name": "stderr",
     "output_type": "stream",
     "text": [
      "\r",
      "30it [00:09,  3.46it/s]"
     ]
    },
    {
     "name": "stderr",
     "output_type": "stream",
     "text": [
      "\r",
      "31it [00:10,  3.46it/s]"
     ]
    },
    {
     "name": "stderr",
     "output_type": "stream",
     "text": [
      "\r",
      "32it [00:10,  3.53it/s]"
     ]
    },
    {
     "name": "stderr",
     "output_type": "stream",
     "text": [
      "\r",
      "33it [00:10,  3.48it/s]"
     ]
    },
    {
     "name": "stderr",
     "output_type": "stream",
     "text": [
      "\r",
      "34it [00:10,  3.45it/s]"
     ]
    },
    {
     "name": "stderr",
     "output_type": "stream",
     "text": [
      "\r",
      "35it [00:11,  3.59it/s]"
     ]
    },
    {
     "name": "stderr",
     "output_type": "stream",
     "text": [
      "\r",
      "36it [00:11,  3.66it/s]"
     ]
    },
    {
     "name": "stderr",
     "output_type": "stream",
     "text": [
      "\r",
      "37it [00:11,  3.69it/s]"
     ]
    },
    {
     "name": "stderr",
     "output_type": "stream",
     "text": [
      "\r",
      "38it [00:11,  3.72it/s]"
     ]
    },
    {
     "name": "stderr",
     "output_type": "stream",
     "text": [
      "\r",
      "39it [00:12,  3.79it/s]"
     ]
    },
    {
     "name": "stderr",
     "output_type": "stream",
     "text": [
      "\r",
      "40it [00:12,  3.85it/s]"
     ]
    },
    {
     "name": "stderr",
     "output_type": "stream",
     "text": [
      "\r",
      "41it [00:12,  3.86it/s]"
     ]
    },
    {
     "name": "stderr",
     "output_type": "stream",
     "text": [
      "\r",
      "42it [00:12,  3.88it/s]"
     ]
    },
    {
     "name": "stderr",
     "output_type": "stream",
     "text": [
      "\r",
      "43it [00:13,  3.91it/s]"
     ]
    },
    {
     "name": "stderr",
     "output_type": "stream",
     "text": [
      "\r",
      "44it [00:13,  3.92it/s]"
     ]
    },
    {
     "name": "stderr",
     "output_type": "stream",
     "text": [
      "\r",
      "45it [00:13,  3.91it/s]"
     ]
    },
    {
     "name": "stderr",
     "output_type": "stream",
     "text": [
      "\r",
      "46it [00:13,  3.90it/s]"
     ]
    },
    {
     "name": "stderr",
     "output_type": "stream",
     "text": [
      "\r",
      "47it [00:14,  3.81it/s]"
     ]
    },
    {
     "name": "stderr",
     "output_type": "stream",
     "text": [
      "\r",
      "48it [00:14,  3.80it/s]"
     ]
    },
    {
     "name": "stderr",
     "output_type": "stream",
     "text": [
      "\r",
      "49it [00:14,  3.80it/s]"
     ]
    },
    {
     "name": "stderr",
     "output_type": "stream",
     "text": [
      "\r",
      "50it [00:15,  3.69it/s]"
     ]
    },
    {
     "name": "stderr",
     "output_type": "stream",
     "text": [
      "\r",
      "51it [00:15,  3.67it/s]"
     ]
    },
    {
     "name": "stderr",
     "output_type": "stream",
     "text": [
      "\r",
      "52it [00:15,  3.73it/s]"
     ]
    },
    {
     "name": "stderr",
     "output_type": "stream",
     "text": [
      "\r",
      "53it [00:15,  3.80it/s]"
     ]
    },
    {
     "name": "stderr",
     "output_type": "stream",
     "text": [
      "\r",
      "54it [00:16,  3.86it/s]"
     ]
    },
    {
     "name": "stderr",
     "output_type": "stream",
     "text": [
      "\r",
      "55it [00:16,  3.85it/s]"
     ]
    },
    {
     "name": "stderr",
     "output_type": "stream",
     "text": [
      "\r",
      "56it [00:16,  3.85it/s]"
     ]
    },
    {
     "name": "stderr",
     "output_type": "stream",
     "text": [
      "\r",
      "57it [00:16,  3.88it/s]"
     ]
    },
    {
     "name": "stderr",
     "output_type": "stream",
     "text": [
      "\r",
      "58it [00:17,  3.74it/s]"
     ]
    },
    {
     "name": "stderr",
     "output_type": "stream",
     "text": [
      "\r",
      "59it [00:17,  3.72it/s]"
     ]
    },
    {
     "name": "stderr",
     "output_type": "stream",
     "text": [
      "\r",
      "60it [00:17,  3.73it/s]"
     ]
    },
    {
     "name": "stderr",
     "output_type": "stream",
     "text": [
      "\r",
      "61it [00:17,  3.63it/s]"
     ]
    },
    {
     "name": "stderr",
     "output_type": "stream",
     "text": [
      "\r",
      "62it [00:18,  3.56it/s]"
     ]
    },
    {
     "name": "stderr",
     "output_type": "stream",
     "text": [
      "\r",
      "63it [00:18,  3.62it/s]"
     ]
    },
    {
     "name": "stderr",
     "output_type": "stream",
     "text": [
      "\r",
      "64it [00:18,  3.68it/s]"
     ]
    },
    {
     "name": "stderr",
     "output_type": "stream",
     "text": [
      "\r",
      "65it [00:19,  3.68it/s]"
     ]
    },
    {
     "name": "stderr",
     "output_type": "stream",
     "text": [
      "\r",
      "66it [00:19,  3.62it/s]"
     ]
    },
    {
     "name": "stderr",
     "output_type": "stream",
     "text": [
      "\r",
      "67it [00:19,  3.57it/s]"
     ]
    },
    {
     "name": "stderr",
     "output_type": "stream",
     "text": [
      "\r",
      "68it [00:19,  3.62it/s]"
     ]
    },
    {
     "name": "stderr",
     "output_type": "stream",
     "text": [
      "\r",
      "69it [00:20,  3.62it/s]"
     ]
    },
    {
     "name": "stderr",
     "output_type": "stream",
     "text": [
      "\r",
      "70it [00:20,  3.67it/s]"
     ]
    },
    {
     "name": "stderr",
     "output_type": "stream",
     "text": [
      "\r",
      "71it [00:20,  3.66it/s]"
     ]
    },
    {
     "name": "stderr",
     "output_type": "stream",
     "text": [
      "\r",
      "72it [00:21,  3.58it/s]"
     ]
    },
    {
     "name": "stderr",
     "output_type": "stream",
     "text": [
      "\r",
      "73it [00:21,  3.62it/s]"
     ]
    },
    {
     "name": "stderr",
     "output_type": "stream",
     "text": [
      "\r",
      "74it [00:21,  3.65it/s]"
     ]
    },
    {
     "name": "stderr",
     "output_type": "stream",
     "text": [
      "\r",
      "75it [00:21,  3.66it/s]"
     ]
    },
    {
     "name": "stderr",
     "output_type": "stream",
     "text": [
      "\r",
      "76it [00:22,  3.71it/s]"
     ]
    },
    {
     "name": "stderr",
     "output_type": "stream",
     "text": [
      "\r",
      "77it [00:22,  3.67it/s]"
     ]
    },
    {
     "name": "stderr",
     "output_type": "stream",
     "text": [
      "\r",
      "78it [00:22,  3.65it/s]"
     ]
    },
    {
     "name": "stderr",
     "output_type": "stream",
     "text": [
      "\r",
      "79it [00:22,  3.58it/s]"
     ]
    },
    {
     "name": "stderr",
     "output_type": "stream",
     "text": [
      "\r",
      "80it [00:23,  3.59it/s]"
     ]
    },
    {
     "name": "stderr",
     "output_type": "stream",
     "text": [
      "\r",
      "81it [00:23,  3.56it/s]"
     ]
    },
    {
     "name": "stderr",
     "output_type": "stream",
     "text": [
      "\r",
      "82it [00:23,  3.51it/s]"
     ]
    },
    {
     "name": "stderr",
     "output_type": "stream",
     "text": [
      "\r",
      "83it [00:24,  3.59it/s]"
     ]
    },
    {
     "name": "stderr",
     "output_type": "stream",
     "text": [
      "\r",
      "84it [00:24,  3.66it/s]"
     ]
    },
    {
     "name": "stderr",
     "output_type": "stream",
     "text": [
      "\r",
      "85it [00:24,  3.66it/s]"
     ]
    },
    {
     "name": "stderr",
     "output_type": "stream",
     "text": [
      "\r",
      "86it [00:24,  3.71it/s]"
     ]
    },
    {
     "name": "stderr",
     "output_type": "stream",
     "text": [
      "\r",
      "87it [00:25,  3.75it/s]"
     ]
    },
    {
     "name": "stderr",
     "output_type": "stream",
     "text": [
      "\r",
      "88it [00:25,  3.81it/s]"
     ]
    },
    {
     "name": "stderr",
     "output_type": "stream",
     "text": [
      "\r",
      "89it [00:25,  3.91it/s]"
     ]
    },
    {
     "name": "stderr",
     "output_type": "stream",
     "text": [
      "\r",
      "90it [00:25,  3.76it/s]"
     ]
    },
    {
     "name": "stderr",
     "output_type": "stream",
     "text": [
      "\r",
      "91it [00:26,  3.84it/s]"
     ]
    },
    {
     "name": "stderr",
     "output_type": "stream",
     "text": [
      "\r",
      "92it [00:26,  3.91it/s]"
     ]
    },
    {
     "name": "stderr",
     "output_type": "stream",
     "text": [
      "\r",
      "93it [00:26,  3.96it/s]"
     ]
    },
    {
     "name": "stderr",
     "output_type": "stream",
     "text": [
      "\r",
      "94it [00:26,  4.08it/s]"
     ]
    },
    {
     "name": "stderr",
     "output_type": "stream",
     "text": [
      "\r",
      "95it [00:27,  4.19it/s]"
     ]
    },
    {
     "name": "stderr",
     "output_type": "stream",
     "text": [
      "\r",
      "96it [00:27,  4.23it/s]"
     ]
    },
    {
     "name": "stderr",
     "output_type": "stream",
     "text": [
      "\r",
      "97it [00:27,  4.23it/s]"
     ]
    },
    {
     "name": "stderr",
     "output_type": "stream",
     "text": [
      "\r",
      "98it [00:27,  4.13it/s]"
     ]
    },
    {
     "name": "stderr",
     "output_type": "stream",
     "text": [
      "\r",
      "99it [00:28,  3.97it/s]"
     ]
    },
    {
     "name": "stderr",
     "output_type": "stream",
     "text": [
      "\r",
      "100it [00:28,  3.92it/s]"
     ]
    },
    {
     "name": "stderr",
     "output_type": "stream",
     "text": [
      "\r",
      "101it [00:28,  3.96it/s]"
     ]
    },
    {
     "name": "stderr",
     "output_type": "stream",
     "text": [
      "\r",
      "102it [00:28,  3.93it/s]"
     ]
    },
    {
     "name": "stderr",
     "output_type": "stream",
     "text": [
      "\r",
      "103it [00:29,  3.87it/s]"
     ]
    },
    {
     "name": "stderr",
     "output_type": "stream",
     "text": [
      "\r",
      "104it [00:29,  3.87it/s]"
     ]
    },
    {
     "name": "stderr",
     "output_type": "stream",
     "text": [
      "\r",
      "104it [00:29,  3.54it/s]"
     ]
    },
    {
     "name": "stderr",
     "output_type": "stream",
     "text": [
      "\n"
     ]
    }
   ],
   "source": [
    "in_token_probs = []\n",
    "latent_token_probs = []\n",
    "out_token_probs = []\n",
    "entropy = []\n",
    "energy = []\n",
    "latents_all = []\n",
    "\n",
    "for idx, d in tqdm(enumerate(dataset)):\n",
    "    logits,latents = get_logits(pythia, d['prompt'],pythia_lens)\n",
    "    last = logits[:, -1, :].float().softmax(dim=-1).detach().cpu()\n",
    "    latent_token_probs += [last[:, torch.tensor(d['latent_token_id'])].sum(dim=-1)]\n",
    "    out_token_probs += [last[:, torch.tensor(d['out_token_id'])].sum(dim=-1)]\n",
    "    entropy += [compute_entropy(last)]\n",
    "    latents_all += [latents[:, -1, :].float().detach().cpu().clone()]\n",
    "    latents_normalized = latents[:, -1, :].float()\n",
    "    latents_normalized = latents_normalized / (((latents_normalized**2).mean(dim=-1, keepdim=True))**0.5)\n",
    "    latents_normalized /= (latents_normalized.norm(dim=-1, keepdim=True))\n",
    "    norm = ((U_normalized @ latents_normalized.T)**2).mean(dim=0)**0.5\n",
    "    energy += [norm/avgUU]\n",
    "\n",
    "latent_token_probs = torch.stack(latent_token_probs)\n",
    "out_token_probs = torch.stack(out_token_probs)\n",
    "entropy = torch.stack(entropy)\n",
    "energy = torch.stack(energy)\n",
    "latents = torch.stack(latents_all)"
   ]
  },
  {
   "cell_type": "code",
   "execution_count": 16,
   "id": "680ef0b2",
   "metadata": {
    "execution": {
     "iopub.execute_input": "2024-03-02T15:43:01.780397Z",
     "iopub.status.busy": "2024-03-02T15:43:01.780170Z",
     "iopub.status.idle": "2024-03-02T15:43:02.151050Z",
     "shell.execute_reply": "2024-03-02T15:43:02.150489Z"
    },
    "papermill": {
     "duration": 0.386066,
     "end_time": "2024-03-02T15:43:02.152746",
     "exception": false,
     "start_time": "2024-03-02T15:43:01.766680",
     "status": "completed"
    },
    "tags": []
   },
   "outputs": [
    {
     "name": "stderr",
     "output_type": "stream",
     "text": [
      "/mnt/ssd-1/gpaulo/llm-latent-language/utils.py:52: UserWarning: This figure includes Axes that are not compatible with tight_layout, so results might be incorrect.\n",
      "  plt.tight_layout()\n"
     ]
    },
    {
     "data": {
      "image/png": "[encoded data removed]",
      "text/plain": [
       "<Figure size 500x300 with 3 Axes>"
      ]
     },
     "metadata": {},
     "output_type": "display_data"
    }
   ],
   "source": [
    "size2tik = {'7b': 5, '13b': 5, '70b': 10, '6.9b': 10,'12b': 10}\n",
    "fig, ax, ax2 = plot_ci_plus_heatmap(latent_token_probs, entropy, latent, color='tab:orange', tik_step=size2tik[model_size], do_colorbar=True, #, do_colorbar=(model_size=='70b'),\n",
    "nums=[.99, 0.18, 0.025, 0.6])\n",
    "plot_ci(ax2, out_token_probs, target_lang, color='tab:blue', do_lines=False)\n",
    "ax2.set_xlabel('layer')\n",
    "ax2.set_ylabel('probability')\n",
    "if model_size == '7b':\n",
    "    ax2.set_xlim(0, out_token_probs.shape[1]+1)\n",
    "else:\n",
    "    ax2.set_xlim(0, round(out_token_probs.shape[1]/10)*10+1)\n",
    "ax2.set_ylim(0, 1)\n",
    "# make xticks start from 1\n",
    "# put legend on the top left\n",
    "ax2.legend(loc='upper left')\n",
    "os.makedirs(f'{out_dir}/translation', exist_ok=True)\n",
    "\n",
    "plt.savefig(f'{out_dir}/translation/pythia_{model_size}_{input_lang}_{target_lang}_probas_ent.jpg', dpi=300, bbox_inches='tight')"
   ]
  },
  {
   "cell_type": "code",
   "execution_count": 17,
   "id": "48c50e4a",
   "metadata": {
    "execution": {
     "iopub.execute_input": "2024-03-02T15:43:02.179039Z",
     "iopub.status.busy": "2024-03-02T15:43:02.178856Z",
     "iopub.status.idle": "2024-03-02T15:43:02.347197Z",
     "shell.execute_reply": "2024-03-02T15:43:02.346671Z"
    },
    "papermill": {
     "duration": 0.182131,
     "end_time": "2024-03-02T15:43:02.348462",
     "exception": false,
     "start_time": "2024-03-02T15:43:02.166331",
     "status": "completed"
    },
    "tags": []
   },
   "outputs": [
    {
     "data": {
      "image/png": "[encoded data removed]",
      "text/plain": [
       "<Figure size 500x300 with 1 Axes>"
      ]
     },
     "metadata": {},
     "output_type": "display_data"
    }
   ],
   "source": [
    "size2tik = {'7b': 5, '13b': 5, '70b': 10,'12b': 10}\n",
    "\n",
    "fig, ax2 = plt.subplots(figsize=(5,3))\n",
    "plot_ci(ax2, energy, 'energy', color='tab:green', do_lines=True, tik_step=size2tik[model_size])\n",
    "ax2.set_xlabel('layer')\n",
    "ax2.set_ylabel('energy')\n",
    "if model_size == '7b':\n",
    "    ax2.set_xlim(0, out_token_probs.shape[1]+1)\n",
    "else:\n",
    "    ax2.set_xlim(0, round(out_token_probs.shape[1]/10)*10+1)\n",
    "os.makedirs(f'{out_dir}/translation', exist_ok=True)\n",
    "plt.savefig(f'{out_dir}/translation/pythia_{model_size}_{input_lang}_{target_lang}_energy.jpg', dpi=300, bbox_inches='tight')"
   ]
  },
  {
   "cell_type": "code",
   "execution_count": null,
   "id": "de0f66f1",
   "metadata": {
    "papermill": {
     "duration": 0.011756,
     "end_time": "2024-03-02T15:43:02.394528",
     "exception": false,
     "start_time": "2024-03-02T15:43:02.382772",
     "status": "completed"
    },
    "tags": []
   },
   "outputs": [],
   "source": []
  }
 ],
 "metadata": {
  "kernelspec": {
   "display_name": "Python 3 (ipykernel)",
   "language": "python",
   "name": "python3"
  },
  "language_info": {
   "codemirror_mode": {
    "name": "ipython",
    "version": 3
   },
   "file_extension": ".py",
   "mimetype": "text/x-python",
   "name": "python",
   "nbconvert_exporter": "python",
   "pygments_lexer": "ipython3",
   "version": "3.10.13"
  },
  "papermill": {
   "default_parameters": {},
   "duration": 78.856087,
   "end_time": "2024-03-02T15:43:04.030555",
   "environment_variables": {},
   "exception": null,
   "input_path": "Translation_pythia.ipynb",
   "output_path": "visuals/executed_notebooks/pythia_Translation_logit_12b_de_de.ipynb",
   "parameters": {
    "input_lang": "de",
    "model_size": "12b",
    "target_lang": "de",
    "type": "logit"
   },
   "start_time": "2024-03-02T15:41:45.174468",
   "version": "2.5.0"
  }
 },
 "nbformat": 4,
 "nbformat_minor": 5
}