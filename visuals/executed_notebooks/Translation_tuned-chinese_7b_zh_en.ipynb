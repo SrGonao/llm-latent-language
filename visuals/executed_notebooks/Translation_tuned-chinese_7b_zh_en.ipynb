{
 "cells": [
  {
   "cell_type": "code",
   "execution_count": 1,
   "id": "9e266eca-b017-461f-9be4-bec02cae9b28",
   "metadata": {
    "execution": {
     "iopub.execute_input": "2024-02-23T22:30:10.252409Z",
     "iopub.status.busy": "2024-02-23T22:30:10.252238Z",
     "iopub.status.idle": "2024-02-23T22:30:10.264099Z",
     "shell.execute_reply": "2024-02-23T22:30:10.263830Z"
    },
    "papermill": {
     "duration": 0.018008,
     "end_time": "2024-02-23T22:30:10.265062",
     "exception": false,
     "start_time": "2024-02-23T22:30:10.247054",
     "status": "completed"
    },
    "tags": []
   },
   "outputs": [],
   "source": [
    "%load_ext autoreload\n",
    "%autoreload 2"
   ]
  },
  {
   "cell_type": "code",
   "execution_count": 2,
   "id": "fae8a7a9-6902-424e-8e66-b107fccb361f",
   "metadata": {
    "execution": {
     "iopub.execute_input": "2024-02-23T22:30:10.273349Z",
     "iopub.status.busy": "2024-02-23T22:30:10.273206Z",
     "iopub.status.idle": "2024-02-23T22:30:13.234963Z",
     "shell.execute_reply": "2024-02-23T22:30:13.234414Z"
    },
    "papermill": {
     "duration": 2.96698,
     "end_time": "2024-02-23T22:30:13.236137",
     "exception": false,
     "start_time": "2024-02-23T22:30:10.269157",
     "status": "completed"
    },
    "tags": []
   },
   "outputs": [],
   "source": [
    "import pandas as pd\n",
    "import sys\n",
    "import os\n",
    "from dataclasses import dataclass\n",
    "import json\n",
    "import numpy as np\n",
    "from matplotlib import pyplot as plt\n",
    "import seaborn as sns\n",
    "import torch\n",
    "import torch.nn as nn\n",
    "from llamawrapper import load_unemb_only, LlamaHelper\n",
    "import seaborn as sns\n",
    "from scipy.stats import bootstrap\n",
    "from utils import plot_ci, plot_ci_plus_heatmap\n",
    "from tqdm import tqdm\n",
    "from transformers import AutoModelForCausalLM, AutoTokenizer\n",
    "# fix random seed\n",
    "seed = 42\n",
    "np.random.seed(seed)\n",
    "torch.manual_seed(seed)\n",
    "sys.path.append('../tuned-lens')\n",
    "from tuned_lens.nn.lenses import TunedLens,LogitLens"
   ]
  },
  {
   "cell_type": "code",
   "execution_count": 3,
   "id": "1fb93987",
   "metadata": {
    "execution": {
     "iopub.execute_input": "2024-02-23T22:30:13.245940Z",
     "iopub.status.busy": "2024-02-23T22:30:13.245525Z",
     "iopub.status.idle": "2024-02-23T22:30:13.275156Z",
     "shell.execute_reply": "2024-02-23T22:30:13.274702Z"
    },
    "papermill": {
     "duration": 0.034759,
     "end_time": "2024-02-23T22:30:13.276176",
     "exception": false,
     "start_time": "2024-02-23T22:30:13.241417",
     "status": "completed"
    },
    "tags": [
     "parameters"
    ]
   },
   "outputs": [],
   "source": [
    "input_lang = 'zh'\n",
    "target_lang = 'fr'\n",
    "model_size = '7b'\n",
    "prefix = \"./data/langs/\"\n",
    "type = 'tuned-chinese'"
   ]
  },
  {
   "cell_type": "code",
   "execution_count": 4,
   "id": "ba2b3924",
   "metadata": {
    "execution": {
     "iopub.execute_input": "2024-02-23T22:30:13.285204Z",
     "iopub.status.busy": "2024-02-23T22:30:13.285017Z",
     "iopub.status.idle": "2024-02-23T22:30:13.311704Z",
     "shell.execute_reply": "2024-02-23T22:30:13.311315Z"
    },
    "papermill": {
     "duration": 0.03195,
     "end_time": "2024-02-23T22:30:13.312694",
     "exception": false,
     "start_time": "2024-02-23T22:30:13.280744",
     "status": "completed"
    },
    "tags": [
     "injected-parameters"
    ]
   },
   "outputs": [],
   "source": [
    "# Parameters\n",
    "model_size = \"7b\"\n",
    "target_lang = \"en\"\n",
    "input_lang = \"zh\"\n",
    "type = \"tuned-chinese\"\n"
   ]
  },
  {
   "cell_type": "code",
   "execution_count": 5,
   "id": "ccb0899b",
   "metadata": {
    "execution": {
     "iopub.execute_input": "2024-02-23T22:30:13.321258Z",
     "iopub.status.busy": "2024-02-23T22:30:13.321109Z",
     "iopub.status.idle": "2024-02-23T22:30:13.346595Z",
     "shell.execute_reply": "2024-02-23T22:30:13.346207Z"
    },
    "papermill": {
     "duration": 0.03037,
     "end_time": "2024-02-23T22:30:13.347392",
     "exception": false,
     "start_time": "2024-02-23T22:30:13.317022",
     "status": "completed"
    },
    "tags": []
   },
   "outputs": [],
   "source": [
    "df_en_input = pd.read_csv(f'{prefix}{input_lang}/clean.csv').reindex()\n",
    "df_en_target = pd.read_csv(f'{prefix}{target_lang}/clean.csv').reindex()"
   ]
  },
  {
   "cell_type": "code",
   "execution_count": 6,
   "id": "33747213",
   "metadata": {
    "execution": {
     "iopub.execute_input": "2024-02-23T22:30:13.355936Z",
     "iopub.status.busy": "2024-02-23T22:30:13.355640Z",
     "iopub.status.idle": "2024-02-23T22:30:19.092747Z",
     "shell.execute_reply": "2024-02-23T22:30:19.092177Z"
    },
    "papermill": {
     "duration": 5.742633,
     "end_time": "2024-02-23T22:30:19.093986",
     "exception": false,
     "start_time": "2024-02-23T22:30:13.351353",
     "status": "completed"
    },
    "tags": []
   },
   "outputs": [
    {
     "data": {
      "application/vnd.jupyter.widget-view+json": {
       "model_id": "fa70794b4e2246b6a9c13dfcc57b0c22",
       "version_major": 2,
       "version_minor": 0
      },
      "text/plain": [
       "Loading checkpoint shards:   0%|          | 0/2 [00:00<?, ?it/s]"
      ]
     },
     "metadata": {},
     "output_type": "display_data"
    }
   ],
   "source": [
    "\n",
    "llama = AutoModelForCausalLM.from_pretrained(  # type: ignore\n",
    "                f\"meta-llama/Llama-2-{model_size}-hf\",\n",
    "                device_map={\"\": \"cuda\"},\n",
    "                revision=\"main\",\n",
    "                torch_dtype=\"auto\",\n",
    "                local_files_only=\"true\",cache_dir=\"/mnt/ssd-1/hf_cache/\"\n",
    "            )\n",
    "    \n",
    "latent=\"en\"\n",
    "if type == 'logit':\n",
    "    llama_lens = LogitLens.from_model(llama).to(\"cuda\")\n",
    "    out_dir = f'./visuals/logit'\n",
    "if type == 'tuned':\n",
    "    llama_lens = TunedLens.from_model_and_pretrained(llama,f\"meta-llama/Llama-2-{model_size}-hf\").to(\"cuda\")\n",
    "    out_dir = f'./visuals/tuned'\n",
    "if type == 'tuned-chinese':\n",
    "    llama_lens = TunedLens.from_model_and_pretrained(llama,\"../tuned-lens/my_lenses/chinese\").to(\"cuda\")\n",
    "    out_dir = f'./visuals/tuned-chinese'\n",
    "    latent = 'zh'\n",
    "    chinese = pd.read_csv(f'{prefix}zh/clean.csv').reindex()\n",
    "tokenizer = AutoTokenizer.from_pretrained(\n",
    "                f\"meta-llama/Llama-2-7b-hf\",local_files_only=\"true\",cache_dir=\"/mnt/ssd-1/hf_cache/\"\n",
    "            )"
   ]
  },
  {
   "cell_type": "code",
   "execution_count": 7,
   "id": "bc45e052",
   "metadata": {
    "execution": {
     "iopub.execute_input": "2024-02-23T22:30:19.103131Z",
     "iopub.status.busy": "2024-02-23T22:30:19.102915Z",
     "iopub.status.idle": "2024-02-23T22:30:20.260531Z",
     "shell.execute_reply": "2024-02-23T22:30:20.260035Z"
    },
    "papermill": {
     "duration": 1.162644,
     "end_time": "2024-02-23T22:30:20.261273",
     "exception": false,
     "start_time": "2024-02-23T22:30:19.098629",
     "status": "completed"
    },
    "tags": []
   },
   "outputs": [
    {
     "name": "stdout",
     "output_type": "stream",
     "text": [
      "Sequential(\n",
      "  (0): LlamaRMSNorm()\n",
      "  (1): Linear(in_features=4096, out_features=32000, bias=False)\n",
      ")\n",
      "U torch.Size([32000, 4096]) weights torch.Size([1, 4096])\n"
     ]
    },
    {
     "name": "stdout",
     "output_type": "stream",
     "text": [
      "0.058621685951948166\n"
     ]
    }
   ],
   "source": [
    "unemb = nn.Sequential(llama.model.norm, llama.lm_head)\n",
    "print(unemb)\n",
    "# prepare for energy plots\n",
    "U = list(unemb[1].parameters())[0].detach().cpu().float()\n",
    "weights = list(unemb[0].parameters())[0].detach().cpu().float()\n",
    "print(f'U {U.shape} weights {weights.unsqueeze(0).shape}')\n",
    "U_weighted = U.clone() \n",
    "#U_weighted = U_weighted / ((U_weighted**2).mean(dim=1, keepdim=True))**0.5\n",
    "U_weighted *= weights.unsqueeze(0)\n",
    "U_normalized = U_weighted / ((U_weighted**2).sum(dim=1, keepdim=True))**0.5\n",
    "v = U.shape[0]\n",
    "TT = U_normalized.T @ U_normalized\n",
    "avgUU = (((U_normalized.T @ U_normalized)**2).sum() / v**2)**0.5\n",
    "print(avgUU.item())"
   ]
  },
  {
   "cell_type": "code",
   "execution_count": 8,
   "id": "5686a8d5",
   "metadata": {
    "execution": {
     "iopub.execute_input": "2024-02-23T22:30:20.270581Z",
     "iopub.status.busy": "2024-02-23T22:30:20.270126Z",
     "iopub.status.idle": "2024-02-23T22:30:21.575770Z",
     "shell.execute_reply": "2024-02-23T22:30:21.574925Z"
    },
    "papermill": {
     "duration": 1.310928,
     "end_time": "2024-02-23T22:30:21.576735",
     "exception": false,
     "start_time": "2024-02-23T22:30:20.265807",
     "status": "completed"
    },
    "tags": []
   },
   "outputs": [
    {
     "name": "stdout",
     "output_type": "stream",
     "text": [
      "for en 132 of 132 are single tokens\n",
      "final length of df_zh_en_zh: 132\n"
     ]
    }
   ],
   "source": [
    "count = 0\n",
    "for idx, word in enumerate(df_en_target['word_translation']):\n",
    "    if word in tokenizer.get_vocab() or '▁'+word in tokenizer.get_vocab():\n",
    "        count += 1\n",
    "\n",
    "print(f'for {target_lang} {count} of {len(df_en_target)} are single tokens')\n",
    "\n",
    "if input_lang == target_lang:\n",
    "    df_en_target_input = df_en_target.copy()\n",
    "    if latent == 'zh':\n",
    "      df_en_target_input = df_en_target.copy()\n",
    "      chinese = chinese.loc[chinese[\"word_original\"].isin(df_en_input[\"word_original\"])]\n",
    "      df_en_target_input= df_en_target_input.loc[df_en_target_input[\"word_original\"].isin(chinese[\"word_original\"])]\n",
    "      chinese.sort_values(by=\"word_original\", inplace=True)\n",
    "      df_en_target_input.sort_values(by=\"word_original\", inplace=True)\n",
    "      chinese.reset_index(drop=True, inplace=True)\n",
    "      df_en_target_input.reset_index(drop=True, inplace=True)\n",
    "      df_en_target_input[\"word_original\"] = chinese[\"word_translation\"]\n",
    "    df_en_target_input.rename(columns={'word_original': latent, \n",
    "                                f'word_translation': target_lang if target_lang != latent else f'{latent}_tgt'}, \n",
    "                                inplace=True)\n",
    "    \n",
    "else:\n",
    "    df_en_target_input = df_en_target.merge(df_en_input, on=['word_original'], suffixes=(f'_{target_lang}', f'_{input_lang}'))\n",
    "    if latent == 'zh':\n",
    "      chinese = chinese.loc[chinese[\"word_original\"].isin(df_en_target_input[\"word_original\"])]\n",
    "      df_en_target_input= df_en_target_input.loc[df_en_target_input[\"word_original\"].isin(chinese[\"word_original\"])]\n",
    "      chinese.sort_values(by=\"word_original\", inplace=True)\n",
    "      df_en_target_input.sort_values(by=\"word_original\", inplace=True)\n",
    "      chinese.reset_index(drop=True, inplace=True)\n",
    "      df_en_target_input.reset_index(drop=True, inplace=True)\n",
    "      df_en_target_input[\"word_original\"] = chinese[\"word_translation\"]\n",
    "\n",
    "    df_en_target_input.rename(columns={'word_original': latent, \n",
    "                                f'word_translation_{target_lang}': target_lang if target_lang != latent else f'{latent}_tgt', \n",
    "                                f'word_translation_{input_lang}': input_lang if input_lang != latent else f'{latent}_in'}, \n",
    "                                inplace=True)\n",
    "# delete all rows where en is contained in de or fr\n",
    "if target_lang != latent:\n",
    "    for i, row in df_en_target_input.iterrows():\n",
    "        if row[latent].lower() in row[target_lang].lower():\n",
    "            df_en_target_input.drop(i, inplace=True)\n",
    "\n",
    "print(f'final length of df_{latent}_{target_lang}_{input_lang}: {len(df_en_target_input)}')"
   ]
  },
  {
   "cell_type": "code",
   "execution_count": 9,
   "id": "f0c0a52d",
   "metadata": {
    "execution": {
     "iopub.execute_input": "2024-02-23T22:30:21.587652Z",
     "iopub.status.busy": "2024-02-23T22:30:21.587483Z",
     "iopub.status.idle": "2024-02-23T22:30:21.624902Z",
     "shell.execute_reply": "2024-02-23T22:30:21.624402Z"
    },
    "papermill": {
     "duration": 0.043364,
     "end_time": "2024-02-23T22:30:21.625910",
     "exception": false,
     "start_time": "2024-02-23T22:30:21.582546",
     "status": "completed"
    },
    "tags": []
   },
   "outputs": [],
   "source": [
    "def token_prefixes(token_str: str):\n",
    "    n = len(token_str)\n",
    "    tokens = [token_str[:i] for i in range(1, n+1)]\n",
    "    return tokens \n",
    "\n",
    "def add_spaces(tokens):\n",
    "    return ['▁' + t for t in tokens] + tokens\n",
    "\n",
    "def capitalizations(tokens):\n",
    "    return list(set(tokens))\n",
    "\n",
    "def unicode_prefix_tokid(zh_char = \"云\", tokenizer=tokenizer):\n",
    "    start = zh_char.encode().__str__()[2:-1].split('\\\\x')[1]\n",
    "    unicode_format = '<0x%s>'\n",
    "    start_key = unicode_format%start.upper()\n",
    "    if start_key in tokenizer.get_vocab():\n",
    "        return tokenizer.get_vocab()[start_key]\n",
    "    return None\n",
    "\n",
    "def process_tokens(token_str: str, tokenizer, lang):\n",
    "    with_prefixes = token_prefixes(token_str)\n",
    "    with_spaces = add_spaces(with_prefixes)\n",
    "    with_capitalizations = capitalizations(with_spaces)\n",
    "    final_tokens = []\n",
    "    for tok in with_capitalizations:\n",
    "        if tok in tokenizer.get_vocab():\n",
    "            final_tokens.append(tokenizer.get_vocab()[tok])\n",
    "    if lang in ['zh', 'ru']:\n",
    "        tokid = unicode_prefix_tokid(token_str, tokenizer)\n",
    "        if tokid is not None:\n",
    "            final_tokens.append(tokid)\n",
    "    return final_tokens"
   ]
  },
  {
   "cell_type": "code",
   "execution_count": 10,
   "id": "faa7bb78",
   "metadata": {
    "execution": {
     "iopub.execute_input": "2024-02-23T22:30:21.635112Z",
     "iopub.status.busy": "2024-02-23T22:30:21.634970Z",
     "iopub.status.idle": "2024-02-23T22:30:21.677429Z",
     "shell.execute_reply": "2024-02-23T22:30:21.676927Z"
    },
    "papermill": {
     "duration": 0.047818,
     "end_time": "2024-02-23T22:30:21.678459",
     "exception": false,
     "start_time": "2024-02-23T22:30:21.630641",
     "status": "completed"
    },
    "tags": []
   },
   "outputs": [],
   "source": [
    "\n",
    "id2voc = {id:voc for voc, id in tokenizer.get_vocab().items()}\n",
    "def get_tokens(token_ids, id2voc=id2voc):\n",
    "    return [id2voc[tokid] for tokid in token_ids]\n",
    "\n",
    "def compute_entropy(probas):\n",
    "    return (-probas*torch.log2(probas)).sum(dim=-1)\n",
    "\n",
    "lang2name = {'fr': 'Français', 'de': 'Deutsch', 'ru': 'Русский', 'en': 'English', 'zh': '中文'}\n",
    "def sample(df, ind, k=5, tokenizer=tokenizer, lang1='fr', lang2='de', lang_latent=latent):\n",
    "    df = df.reset_index(drop=True)\n",
    "    temp = df[df.index!=ind]\n",
    "    sample = pd.concat([temp.sample(k-1), df[df.index==ind]], axis=0)\n",
    "    prompt = \"\"\n",
    "    for idx, (df_idx, row) in enumerate(sample.iterrows()):\n",
    "        if idx < k-1:\n",
    "            prompt += f'{lang2name[lang1]}: \"{row[lang1]}\" - {lang2name[lang2]}: \"{row[lang2]}\"\\n'\n",
    "        else:\n",
    "            prompt += f'{lang2name[lang1]}: \"{row[lang1]}\" - {lang2name[lang2]}: \"'\n",
    "            in_token_str = row[lang1]\n",
    "            out_token_str = row[lang2]\n",
    "            out_token_id = process_tokens(out_token_str, tokenizer, lang2)\n",
    "            latent_token_str = row[lang_latent]\n",
    "            latent_token_id = process_tokens(latent_token_str, tokenizer, latent)\n",
    "            intersection = set(out_token_id).intersection(set(latent_token_id))\n",
    "            if len(out_token_id) == 0 or len(latent_token_id) == 0:\n",
    "                yield None\n",
    "            if lang2 != latent and len(intersection) > 0:\n",
    "                yield None\n",
    "            yield {'prompt': prompt, \n",
    "                'out_token_id': out_token_id, \n",
    "                'out_token_str': out_token_str,\n",
    "                'latent_token_id': latent_token_id, \n",
    "                'latent_token_str': latent_token_str, \n",
    "                'in_token_str': in_token_str}"
   ]
  },
  {
   "cell_type": "code",
   "execution_count": 11,
   "id": "121eec47",
   "metadata": {
    "execution": {
     "iopub.execute_input": "2024-02-23T22:30:21.686786Z",
     "iopub.status.busy": "2024-02-23T22:30:21.686472Z",
     "iopub.status.idle": "2024-02-23T22:30:21.722700Z",
     "shell.execute_reply": "2024-02-23T22:30:21.722254Z"
    },
    "papermill": {
     "duration": 0.041078,
     "end_time": "2024-02-23T22:30:21.723549",
     "exception": false,
     "start_time": "2024-02-23T22:30:21.682471",
     "status": "completed"
    },
    "tags": []
   },
   "outputs": [
    {
     "data": {
      "text/html": [
       "<div>\n",
       "<style scoped>\n",
       "    .dataframe tbody tr th:only-of-type {\n",
       "        vertical-align: middle;\n",
       "    }\n",
       "\n",
       "    .dataframe tbody tr th {\n",
       "        vertical-align: top;\n",
       "    }\n",
       "\n",
       "    .dataframe thead th {\n",
       "        text-align: right;\n",
       "    }\n",
       "</style>\n",
       "<table border=\"1\" class=\"dataframe\">\n",
       "  <thead>\n",
       "    <tr style=\"text-align: right;\">\n",
       "      <th></th>\n",
       "      <th>lang_en</th>\n",
       "      <th>zh</th>\n",
       "      <th>en</th>\n",
       "      <th>blank_prompt_original_en</th>\n",
       "      <th>blank_prompt_translation_en</th>\n",
       "      <th>blank_prompt_translation_masked_en</th>\n",
       "      <th>error</th>\n",
       "      <th>lang_zh</th>\n",
       "      <th>zh_in</th>\n",
       "      <th>blank_prompt_original_zh</th>\n",
       "      <th>blank_prompt_translation_zh</th>\n",
       "      <th>blank_prompt_translation_masked_zh</th>\n",
       "    </tr>\n",
       "  </thead>\n",
       "  <tbody>\n",
       "    <tr>\n",
       "      <th>0</th>\n",
       "      <td>en</td>\n",
       "      <td>进</td>\n",
       "      <td>advance</td>\n",
       "      <td>\"Advance\" is a term used to describe moving fo...</td>\n",
       "      <td>\"Advance\" is a term used to describe moving fo...</td>\n",
       "      <td>\"___\" is a term used to describe moving forwar...</td>\n",
       "      <td>no error</td>\n",
       "      <td>zh</td>\n",
       "      <td>进</td>\n",
       "      <td>\"Advance\" is a term used to describe moving fo...</td>\n",
       "      <td>\"进\"是用来描述向前移动或取得进展的术语。答案：\"进\"。</td>\n",
       "      <td>\"_\"是用来描述向前移动或取得进展的术语。答案：\"进\"。</td>\n",
       "    </tr>\n",
       "    <tr>\n",
       "      <th>1</th>\n",
       "      <td>en</td>\n",
       "      <td>试</td>\n",
       "      <td>attempt</td>\n",
       "      <td>An \"attempt\" is made when trying to achieve so...</td>\n",
       "      <td>An \"attempt\" is made when trying to achieve so...</td>\n",
       "      <td>An \"___\" is made when trying to achieve someth...</td>\n",
       "      <td>no error</td>\n",
       "      <td>zh</td>\n",
       "      <td>试</td>\n",
       "      <td>An \"attempt\" is made when trying to achieve so...</td>\n",
       "      <td>\"试\"是尝试达成某事的行为。答案：\"试\"。</td>\n",
       "      <td>\"_\"是尝试达成某事的行为。答案：\"试\"。</td>\n",
       "    </tr>\n",
       "    <tr>\n",
       "      <th>2</th>\n",
       "      <td>en</td>\n",
       "      <td>包</td>\n",
       "      <td>bag</td>\n",
       "      <td>A \"bag\" is used to carry items. Answer: \"bag\".</td>\n",
       "      <td>A \"bag\" is used to carry items. Answer: \"bag\".</td>\n",
       "      <td>A \"___\" is used to carry items. Answer: \"bag\".</td>\n",
       "      <td>no error</td>\n",
       "      <td>zh</td>\n",
       "      <td>包</td>\n",
       "      <td>A \"bag\" is used to carry items. Answer: \"bag\".</td>\n",
       "      <td>\"包\"用来携带物品。答案：\"包\"。</td>\n",
       "      <td>\"_\"用来携带物品。答案：\"包\"。</td>\n",
       "    </tr>\n",
       "    <tr>\n",
       "      <th>3</th>\n",
       "      <td>en</td>\n",
       "      <td>球</td>\n",
       "      <td>ball</td>\n",
       "      <td>A \"ball\" is used to play sports like soccer an...</td>\n",
       "      <td>A \"ball\" is used to play sports like soccer an...</td>\n",
       "      <td>A \"___\" is used to play sports like soccer and...</td>\n",
       "      <td>no error</td>\n",
       "      <td>zh</td>\n",
       "      <td>球</td>\n",
       "      <td>A \"ball\" is used to play sports like soccer an...</td>\n",
       "      <td>\"球\"用来进行足球和篮球等运动。答案：\"球\"。</td>\n",
       "      <td>\"_\"用来进行足球和篮球等运动。答案：\"球\"。</td>\n",
       "    </tr>\n",
       "    <tr>\n",
       "      <th>4</th>\n",
       "      <td>en</td>\n",
       "      <td>美</td>\n",
       "      <td>beauty</td>\n",
       "      <td>'\"Beauty\" is a characteristic that provides a ...</td>\n",
       "      <td>'\"Beauty\" is a characteristic that provides a ...</td>\n",
       "      <td>'\"___\" is a characteristic that provides a per...</td>\n",
       "      <td>no error</td>\n",
       "      <td>zh</td>\n",
       "      <td>美</td>\n",
       "      <td>'\"Beauty\" is a characteristic that provides a ...</td>\n",
       "      <td>\"美\"是提供愉悦或满足感知体验的特征。答案：\"美\"。</td>\n",
       "      <td>\"_\"是提供愉悦或满足感知体验的特征。答案：\"美\"。</td>\n",
       "    </tr>\n",
       "    <tr>\n",
       "      <th>...</th>\n",
       "      <td>...</td>\n",
       "      <td>...</td>\n",
       "      <td>...</td>\n",
       "      <td>...</td>\n",
       "      <td>...</td>\n",
       "      <td>...</td>\n",
       "      <td>...</td>\n",
       "      <td>...</td>\n",
       "      <td>...</td>\n",
       "      <td>...</td>\n",
       "      <td>...</td>\n",
       "      <td>...</td>\n",
       "    </tr>\n",
       "    <tr>\n",
       "      <th>127</th>\n",
       "      <td>en</td>\n",
       "      <td>德</td>\n",
       "      <td>virtue</td>\n",
       "      <td>A \"virtue\" is a quality considered morally goo...</td>\n",
       "      <td>A \"virtue\" is a quality considered morally goo...</td>\n",
       "      <td>A \"___\" is a quality considered morally good o...</td>\n",
       "      <td>no error</td>\n",
       "      <td>zh</td>\n",
       "      <td>德</td>\n",
       "      <td>A \"virtue\" is a quality considered morally goo...</td>\n",
       "      <td>\"德\"是人中被视为道德上好或可取的品质。答案：\"德\"。</td>\n",
       "      <td>\"_\"是人中被视为道德上好或可取的品质。答案：\"德\"。</td>\n",
       "    </tr>\n",
       "    <tr>\n",
       "      <th>128</th>\n",
       "      <td>en</td>\n",
       "      <td>水</td>\n",
       "      <td>water</td>\n",
       "      <td>\"A \"water\" is essential for life and is used f...</td>\n",
       "      <td>\"A \"water\" is essential for life and is used f...</td>\n",
       "      <td>\"A \"___\" is essential for life and is used for...</td>\n",
       "      <td>no error</td>\n",
       "      <td>zh</td>\n",
       "      <td>水</td>\n",
       "      <td>\"A \"water\" is essential for life and is used f...</td>\n",
       "      <td>\"水\"对生命至关重要，用于饮用和清洁。答案：\"水\"。</td>\n",
       "      <td>\"_\"对生命至关重要，用于饮用和清洁。答案：\"水\"。</td>\n",
       "    </tr>\n",
       "    <tr>\n",
       "      <th>129</th>\n",
       "      <td>en</td>\n",
       "      <td>波</td>\n",
       "      <td>wave</td>\n",
       "      <td>A \"wave\" is a disturbance that transfers energ...</td>\n",
       "      <td>A \"wave\" is a disturbance that transfers energ...</td>\n",
       "      <td>A \"___\" is a disturbance that transfers energy...</td>\n",
       "      <td>no error</td>\n",
       "      <td>zh</td>\n",
       "      <td>波</td>\n",
       "      <td>A \"wave\" is a disturbance that transfers energ...</td>\n",
       "      <td>\"波\"是一种通过物质或空间传递能量的扰动。答案：\"波\"。</td>\n",
       "      <td>\"_\"是一种通过物质或空间传递能量的扰动。答案：\"波\"。</td>\n",
       "    </tr>\n",
       "    <tr>\n",
       "      <th>130</th>\n",
       "      <td>en</td>\n",
       "      <td>木</td>\n",
       "      <td>wood</td>\n",
       "      <td>A \"wood\" is used to make furniture. Answer: \"w...</td>\n",
       "      <td>A \"wood\" is used to make furniture. Answer: \"w...</td>\n",
       "      <td>A \"___\" is used to make furniture. Answer: \"wo...</td>\n",
       "      <td>no error</td>\n",
       "      <td>zh</td>\n",
       "      <td>木</td>\n",
       "      <td>A \"wood\" is used to make furniture. Answer: \"w...</td>\n",
       "      <td>\"木\"用来制作家具。答案：\"木\"。</td>\n",
       "      <td>\"_\"用来制作家具。答案：\"木\"。</td>\n",
       "    </tr>\n",
       "    <tr>\n",
       "      <th>131</th>\n",
       "      <td>en</td>\n",
       "      <td>字</td>\n",
       "      <td>word</td>\n",
       "      <td>A \"word\" is a single distinct meaningful eleme...</td>\n",
       "      <td>A \"word\" is a single distinct meaningful eleme...</td>\n",
       "      <td>A \"___\" is a single distinct meaningful elemen...</td>\n",
       "      <td>no error</td>\n",
       "      <td>zh</td>\n",
       "      <td>字</td>\n",
       "      <td>A \"word\" is a single distinct meaningful eleme...</td>\n",
       "      <td>\"字\"是语言中单独的、有意义的元素，与其他字一起（或有时单独）用来构成句子，当书写或打印时，...</td>\n",
       "      <td>\"_\"是语言中单独的、有意义的元素，与其他字一起（或有时单独）用来构成句子，当书写或打印时，...</td>\n",
       "    </tr>\n",
       "  </tbody>\n",
       "</table>\n",
       "<p>132 rows × 12 columns</p>\n",
       "</div>"
      ],
      "text/plain": [
       "    lang_en zh       en                           blank_prompt_original_en  \\\n",
       "0        en  进  advance  \"Advance\" is a term used to describe moving fo...   \n",
       "1        en  试  attempt  An \"attempt\" is made when trying to achieve so...   \n",
       "2        en  包      bag     A \"bag\" is used to carry items. Answer: \"bag\".   \n",
       "3        en  球     ball  A \"ball\" is used to play sports like soccer an...   \n",
       "4        en  美   beauty  '\"Beauty\" is a characteristic that provides a ...   \n",
       "..      ... ..      ...                                                ...   \n",
       "127      en  德   virtue  A \"virtue\" is a quality considered morally goo...   \n",
       "128      en  水    water  \"A \"water\" is essential for life and is used f...   \n",
       "129      en  波     wave  A \"wave\" is a disturbance that transfers energ...   \n",
       "130      en  木     wood  A \"wood\" is used to make furniture. Answer: \"w...   \n",
       "131      en  字     word  A \"word\" is a single distinct meaningful eleme...   \n",
       "\n",
       "                           blank_prompt_translation_en  \\\n",
       "0    \"Advance\" is a term used to describe moving fo...   \n",
       "1    An \"attempt\" is made when trying to achieve so...   \n",
       "2       A \"bag\" is used to carry items. Answer: \"bag\".   \n",
       "3    A \"ball\" is used to play sports like soccer an...   \n",
       "4    '\"Beauty\" is a characteristic that provides a ...   \n",
       "..                                                 ...   \n",
       "127  A \"virtue\" is a quality considered morally goo...   \n",
       "128  \"A \"water\" is essential for life and is used f...   \n",
       "129  A \"wave\" is a disturbance that transfers energ...   \n",
       "130  A \"wood\" is used to make furniture. Answer: \"w...   \n",
       "131  A \"word\" is a single distinct meaningful eleme...   \n",
       "\n",
       "                    blank_prompt_translation_masked_en     error lang_zh  \\\n",
       "0    \"___\" is a term used to describe moving forwar...  no error      zh   \n",
       "1    An \"___\" is made when trying to achieve someth...  no error      zh   \n",
       "2       A \"___\" is used to carry items. Answer: \"bag\".  no error      zh   \n",
       "3    A \"___\" is used to play sports like soccer and...  no error      zh   \n",
       "4    '\"___\" is a characteristic that provides a per...  no error      zh   \n",
       "..                                                 ...       ...     ...   \n",
       "127  A \"___\" is a quality considered morally good o...  no error      zh   \n",
       "128  \"A \"___\" is essential for life and is used for...  no error      zh   \n",
       "129  A \"___\" is a disturbance that transfers energy...  no error      zh   \n",
       "130  A \"___\" is used to make furniture. Answer: \"wo...  no error      zh   \n",
       "131  A \"___\" is a single distinct meaningful elemen...  no error      zh   \n",
       "\n",
       "    zh_in                           blank_prompt_original_zh  \\\n",
       "0       进  \"Advance\" is a term used to describe moving fo...   \n",
       "1       试  An \"attempt\" is made when trying to achieve so...   \n",
       "2       包     A \"bag\" is used to carry items. Answer: \"bag\".   \n",
       "3       球  A \"ball\" is used to play sports like soccer an...   \n",
       "4       美  '\"Beauty\" is a characteristic that provides a ...   \n",
       "..    ...                                                ...   \n",
       "127     德  A \"virtue\" is a quality considered morally goo...   \n",
       "128     水  \"A \"water\" is essential for life and is used f...   \n",
       "129     波  A \"wave\" is a disturbance that transfers energ...   \n",
       "130     木  A \"wood\" is used to make furniture. Answer: \"w...   \n",
       "131     字  A \"word\" is a single distinct meaningful eleme...   \n",
       "\n",
       "                           blank_prompt_translation_zh  \\\n",
       "0                         \"进\"是用来描述向前移动或取得进展的术语。答案：\"进\"。   \n",
       "1                                \"试\"是尝试达成某事的行为。答案：\"试\"。   \n",
       "2                                    \"包\"用来携带物品。答案：\"包\"。   \n",
       "3                              \"球\"用来进行足球和篮球等运动。答案：\"球\"。   \n",
       "4                           \"美\"是提供愉悦或满足感知体验的特征。答案：\"美\"。   \n",
       "..                                                 ...   \n",
       "127                        \"德\"是人中被视为道德上好或可取的品质。答案：\"德\"。   \n",
       "128                         \"水\"对生命至关重要，用于饮用和清洁。答案：\"水\"。   \n",
       "129                       \"波\"是一种通过物质或空间传递能量的扰动。答案：\"波\"。   \n",
       "130                                  \"木\"用来制作家具。答案：\"木\"。   \n",
       "131  \"字\"是语言中单独的、有意义的元素，与其他字一起（或有时单独）用来构成句子，当书写或打印时，...   \n",
       "\n",
       "                    blank_prompt_translation_masked_zh  \n",
       "0                         \"_\"是用来描述向前移动或取得进展的术语。答案：\"进\"。  \n",
       "1                                \"_\"是尝试达成某事的行为。答案：\"试\"。  \n",
       "2                                    \"_\"用来携带物品。答案：\"包\"。  \n",
       "3                              \"_\"用来进行足球和篮球等运动。答案：\"球\"。  \n",
       "4                           \"_\"是提供愉悦或满足感知体验的特征。答案：\"美\"。  \n",
       "..                                                 ...  \n",
       "127                        \"_\"是人中被视为道德上好或可取的品质。答案：\"德\"。  \n",
       "128                         \"_\"对生命至关重要，用于饮用和清洁。答案：\"水\"。  \n",
       "129                       \"_\"是一种通过物质或空间传递能量的扰动。答案：\"波\"。  \n",
       "130                                  \"_\"用来制作家具。答案：\"木\"。  \n",
       "131  \"_\"是语言中单独的、有意义的元素，与其他字一起（或有时单独）用来构成句子，当书写或打印时，...  \n",
       "\n",
       "[132 rows x 12 columns]"
      ]
     },
     "execution_count": 11,
     "metadata": {},
     "output_type": "execute_result"
    }
   ],
   "source": [
    "df_en_target_input"
   ]
  },
  {
   "cell_type": "code",
   "execution_count": 12,
   "id": "8037261b",
   "metadata": {
    "execution": {
     "iopub.execute_input": "2024-02-23T22:30:21.732832Z",
     "iopub.status.busy": "2024-02-23T22:30:21.732439Z",
     "iopub.status.idle": "2024-02-23T22:30:21.760999Z",
     "shell.execute_reply": "2024-02-23T22:30:21.760612Z"
    },
    "papermill": {
     "duration": 0.033829,
     "end_time": "2024-02-23T22:30:21.761717",
     "exception": false,
     "start_time": "2024-02-23T22:30:21.727888",
     "status": "completed"
    },
    "tags": []
   },
   "outputs": [
    {
     "data": {
      "text/html": [
       "<div>\n",
       "<style scoped>\n",
       "    .dataframe tbody tr th:only-of-type {\n",
       "        vertical-align: middle;\n",
       "    }\n",
       "\n",
       "    .dataframe tbody tr th {\n",
       "        vertical-align: top;\n",
       "    }\n",
       "\n",
       "    .dataframe thead th {\n",
       "        text-align: right;\n",
       "    }\n",
       "</style>\n",
       "<table border=\"1\" class=\"dataframe\">\n",
       "  <thead>\n",
       "    <tr style=\"text-align: right;\">\n",
       "      <th></th>\n",
       "      <th>lang</th>\n",
       "      <th>word_original</th>\n",
       "      <th>word_translation</th>\n",
       "      <th>blank_prompt_original</th>\n",
       "      <th>blank_prompt_translation</th>\n",
       "      <th>blank_prompt_translation_masked</th>\n",
       "    </tr>\n",
       "  </thead>\n",
       "  <tbody>\n",
       "    <tr>\n",
       "      <th>0</th>\n",
       "      <td>zh</td>\n",
       "      <td>advance</td>\n",
       "      <td>进</td>\n",
       "      <td>\"Advance\" is a term used to describe moving fo...</td>\n",
       "      <td>\"进\"是用来描述向前移动或取得进展的术语。答案：\"进\"。</td>\n",
       "      <td>\"_\"是用来描述向前移动或取得进展的术语。答案：\"进\"。</td>\n",
       "    </tr>\n",
       "    <tr>\n",
       "      <th>1</th>\n",
       "      <td>zh</td>\n",
       "      <td>attempt</td>\n",
       "      <td>试</td>\n",
       "      <td>An \"attempt\" is made when trying to achieve so...</td>\n",
       "      <td>\"试\"是尝试达成某事的行为。答案：\"试\"。</td>\n",
       "      <td>\"_\"是尝试达成某事的行为。答案：\"试\"。</td>\n",
       "    </tr>\n",
       "    <tr>\n",
       "      <th>2</th>\n",
       "      <td>zh</td>\n",
       "      <td>bag</td>\n",
       "      <td>包</td>\n",
       "      <td>A \"bag\" is used to carry items. Answer: \"bag\".</td>\n",
       "      <td>\"包\"用来携带物品。答案：\"包\"。</td>\n",
       "      <td>\"_\"用来携带物品。答案：\"包\"。</td>\n",
       "    </tr>\n",
       "    <tr>\n",
       "      <th>3</th>\n",
       "      <td>zh</td>\n",
       "      <td>ball</td>\n",
       "      <td>球</td>\n",
       "      <td>A \"ball\" is used to play sports like soccer an...</td>\n",
       "      <td>\"球\"用来进行足球和篮球等运动。答案：\"球\"。</td>\n",
       "      <td>\"_\"用来进行足球和篮球等运动。答案：\"球\"。</td>\n",
       "    </tr>\n",
       "    <tr>\n",
       "      <th>4</th>\n",
       "      <td>zh</td>\n",
       "      <td>beauty</td>\n",
       "      <td>美</td>\n",
       "      <td>'\"Beauty\" is a characteristic that provides a ...</td>\n",
       "      <td>\"美\"是提供愉悦或满足感知体验的特征。答案：\"美\"。</td>\n",
       "      <td>\"_\"是提供愉悦或满足感知体验的特征。答案：\"美\"。</td>\n",
       "    </tr>\n",
       "    <tr>\n",
       "      <th>...</th>\n",
       "      <td>...</td>\n",
       "      <td>...</td>\n",
       "      <td>...</td>\n",
       "      <td>...</td>\n",
       "      <td>...</td>\n",
       "      <td>...</td>\n",
       "    </tr>\n",
       "    <tr>\n",
       "      <th>127</th>\n",
       "      <td>zh</td>\n",
       "      <td>virtue</td>\n",
       "      <td>德</td>\n",
       "      <td>A \"virtue\" is a quality considered morally goo...</td>\n",
       "      <td>\"德\"是人中被视为道德上好或可取的品质。答案：\"德\"。</td>\n",
       "      <td>\"_\"是人中被视为道德上好或可取的品质。答案：\"德\"。</td>\n",
       "    </tr>\n",
       "    <tr>\n",
       "      <th>128</th>\n",
       "      <td>zh</td>\n",
       "      <td>water</td>\n",
       "      <td>水</td>\n",
       "      <td>\"A \"water\" is essential for life and is used f...</td>\n",
       "      <td>\"水\"对生命至关重要，用于饮用和清洁。答案：\"水\"。</td>\n",
       "      <td>\"_\"对生命至关重要，用于饮用和清洁。答案：\"水\"。</td>\n",
       "    </tr>\n",
       "    <tr>\n",
       "      <th>129</th>\n",
       "      <td>zh</td>\n",
       "      <td>wave</td>\n",
       "      <td>波</td>\n",
       "      <td>A \"wave\" is a disturbance that transfers energ...</td>\n",
       "      <td>\"波\"是一种通过物质或空间传递能量的扰动。答案：\"波\"。</td>\n",
       "      <td>\"_\"是一种通过物质或空间传递能量的扰动。答案：\"波\"。</td>\n",
       "    </tr>\n",
       "    <tr>\n",
       "      <th>130</th>\n",
       "      <td>zh</td>\n",
       "      <td>wood</td>\n",
       "      <td>木</td>\n",
       "      <td>A \"wood\" is used to make furniture. Answer: \"w...</td>\n",
       "      <td>\"木\"用来制作家具。答案：\"木\"。</td>\n",
       "      <td>\"_\"用来制作家具。答案：\"木\"。</td>\n",
       "    </tr>\n",
       "    <tr>\n",
       "      <th>131</th>\n",
       "      <td>zh</td>\n",
       "      <td>word</td>\n",
       "      <td>字</td>\n",
       "      <td>A \"word\" is a single distinct meaningful eleme...</td>\n",
       "      <td>\"字\"是语言中单独的、有意义的元素，与其他字一起（或有时单独）用来构成句子，当书写或打印时，...</td>\n",
       "      <td>\"_\"是语言中单独的、有意义的元素，与其他字一起（或有时单独）用来构成句子，当书写或打印时，...</td>\n",
       "    </tr>\n",
       "  </tbody>\n",
       "</table>\n",
       "<p>132 rows × 6 columns</p>\n",
       "</div>"
      ],
      "text/plain": [
       "    lang word_original word_translation  \\\n",
       "0     zh       advance                进   \n",
       "1     zh       attempt                试   \n",
       "2     zh           bag                包   \n",
       "3     zh          ball                球   \n",
       "4     zh        beauty                美   \n",
       "..   ...           ...              ...   \n",
       "127   zh        virtue                德   \n",
       "128   zh         water                水   \n",
       "129   zh          wave                波   \n",
       "130   zh          wood                木   \n",
       "131   zh          word                字   \n",
       "\n",
       "                                 blank_prompt_original  \\\n",
       "0    \"Advance\" is a term used to describe moving fo...   \n",
       "1    An \"attempt\" is made when trying to achieve so...   \n",
       "2       A \"bag\" is used to carry items. Answer: \"bag\".   \n",
       "3    A \"ball\" is used to play sports like soccer an...   \n",
       "4    '\"Beauty\" is a characteristic that provides a ...   \n",
       "..                                                 ...   \n",
       "127  A \"virtue\" is a quality considered morally goo...   \n",
       "128  \"A \"water\" is essential for life and is used f...   \n",
       "129  A \"wave\" is a disturbance that transfers energ...   \n",
       "130  A \"wood\" is used to make furniture. Answer: \"w...   \n",
       "131  A \"word\" is a single distinct meaningful eleme...   \n",
       "\n",
       "                              blank_prompt_translation  \\\n",
       "0                         \"进\"是用来描述向前移动或取得进展的术语。答案：\"进\"。   \n",
       "1                                \"试\"是尝试达成某事的行为。答案：\"试\"。   \n",
       "2                                    \"包\"用来携带物品。答案：\"包\"。   \n",
       "3                              \"球\"用来进行足球和篮球等运动。答案：\"球\"。   \n",
       "4                           \"美\"是提供愉悦或满足感知体验的特征。答案：\"美\"。   \n",
       "..                                                 ...   \n",
       "127                        \"德\"是人中被视为道德上好或可取的品质。答案：\"德\"。   \n",
       "128                         \"水\"对生命至关重要，用于饮用和清洁。答案：\"水\"。   \n",
       "129                       \"波\"是一种通过物质或空间传递能量的扰动。答案：\"波\"。   \n",
       "130                                  \"木\"用来制作家具。答案：\"木\"。   \n",
       "131  \"字\"是语言中单独的、有意义的元素，与其他字一起（或有时单独）用来构成句子，当书写或打印时，...   \n",
       "\n",
       "                       blank_prompt_translation_masked  \n",
       "0                         \"_\"是用来描述向前移动或取得进展的术语。答案：\"进\"。  \n",
       "1                                \"_\"是尝试达成某事的行为。答案：\"试\"。  \n",
       "2                                    \"_\"用来携带物品。答案：\"包\"。  \n",
       "3                              \"_\"用来进行足球和篮球等运动。答案：\"球\"。  \n",
       "4                           \"_\"是提供愉悦或满足感知体验的特征。答案：\"美\"。  \n",
       "..                                                 ...  \n",
       "127                        \"_\"是人中被视为道德上好或可取的品质。答案：\"德\"。  \n",
       "128                         \"_\"对生命至关重要，用于饮用和清洁。答案：\"水\"。  \n",
       "129                       \"_\"是一种通过物质或空间传递能量的扰动。答案：\"波\"。  \n",
       "130                                  \"_\"用来制作家具。答案：\"木\"。  \n",
       "131  \"_\"是语言中单独的、有意义的元素，与其他字一起（或有时单独）用来构成句子，当书写或打印时，...  \n",
       "\n",
       "[132 rows x 6 columns]"
      ]
     },
     "execution_count": 12,
     "metadata": {},
     "output_type": "execute_result"
    }
   ],
   "source": [
    "chinese"
   ]
  },
  {
   "cell_type": "code",
   "execution_count": 13,
   "id": "444dd726",
   "metadata": {
    "execution": {
     "iopub.execute_input": "2024-02-23T22:30:21.770974Z",
     "iopub.status.busy": "2024-02-23T22:30:21.770639Z",
     "iopub.status.idle": "2024-02-23T22:30:21.798249Z",
     "shell.execute_reply": "2024-02-23T22:30:21.797832Z"
    },
    "papermill": {
     "duration": 0.032885,
     "end_time": "2024-02-23T22:30:21.799022",
     "exception": false,
     "start_time": "2024-02-23T22:30:21.766137",
     "status": "completed"
    },
    "tags": []
   },
   "outputs": [
    {
     "data": {
      "text/html": [
       "<div>\n",
       "<style scoped>\n",
       "    .dataframe tbody tr th:only-of-type {\n",
       "        vertical-align: middle;\n",
       "    }\n",
       "\n",
       "    .dataframe tbody tr th {\n",
       "        vertical-align: top;\n",
       "    }\n",
       "\n",
       "    .dataframe thead th {\n",
       "        text-align: right;\n",
       "    }\n",
       "</style>\n",
       "<table border=\"1\" class=\"dataframe\">\n",
       "  <thead>\n",
       "    <tr style=\"text-align: right;\">\n",
       "      <th></th>\n",
       "      <th>lang_en</th>\n",
       "      <th>zh</th>\n",
       "      <th>en</th>\n",
       "      <th>blank_prompt_original_en</th>\n",
       "      <th>blank_prompt_translation_en</th>\n",
       "      <th>blank_prompt_translation_masked_en</th>\n",
       "      <th>error</th>\n",
       "      <th>lang_zh</th>\n",
       "      <th>zh_in</th>\n",
       "      <th>blank_prompt_original_zh</th>\n",
       "      <th>blank_prompt_translation_zh</th>\n",
       "      <th>blank_prompt_translation_masked_zh</th>\n",
       "    </tr>\n",
       "  </thead>\n",
       "  <tbody>\n",
       "    <tr>\n",
       "      <th>0</th>\n",
       "      <td>en</td>\n",
       "      <td>进</td>\n",
       "      <td>advance</td>\n",
       "      <td>\"Advance\" is a term used to describe moving fo...</td>\n",
       "      <td>\"Advance\" is a term used to describe moving fo...</td>\n",
       "      <td>\"___\" is a term used to describe moving forwar...</td>\n",
       "      <td>no error</td>\n",
       "      <td>zh</td>\n",
       "      <td>进</td>\n",
       "      <td>\"Advance\" is a term used to describe moving fo...</td>\n",
       "      <td>\"进\"是用来描述向前移动或取得进展的术语。答案：\"进\"。</td>\n",
       "      <td>\"_\"是用来描述向前移动或取得进展的术语。答案：\"进\"。</td>\n",
       "    </tr>\n",
       "    <tr>\n",
       "      <th>1</th>\n",
       "      <td>en</td>\n",
       "      <td>试</td>\n",
       "      <td>attempt</td>\n",
       "      <td>An \"attempt\" is made when trying to achieve so...</td>\n",
       "      <td>An \"attempt\" is made when trying to achieve so...</td>\n",
       "      <td>An \"___\" is made when trying to achieve someth...</td>\n",
       "      <td>no error</td>\n",
       "      <td>zh</td>\n",
       "      <td>试</td>\n",
       "      <td>An \"attempt\" is made when trying to achieve so...</td>\n",
       "      <td>\"试\"是尝试达成某事的行为。答案：\"试\"。</td>\n",
       "      <td>\"_\"是尝试达成某事的行为。答案：\"试\"。</td>\n",
       "    </tr>\n",
       "    <tr>\n",
       "      <th>2</th>\n",
       "      <td>en</td>\n",
       "      <td>包</td>\n",
       "      <td>bag</td>\n",
       "      <td>A \"bag\" is used to carry items. Answer: \"bag\".</td>\n",
       "      <td>A \"bag\" is used to carry items. Answer: \"bag\".</td>\n",
       "      <td>A \"___\" is used to carry items. Answer: \"bag\".</td>\n",
       "      <td>no error</td>\n",
       "      <td>zh</td>\n",
       "      <td>包</td>\n",
       "      <td>A \"bag\" is used to carry items. Answer: \"bag\".</td>\n",
       "      <td>\"包\"用来携带物品。答案：\"包\"。</td>\n",
       "      <td>\"_\"用来携带物品。答案：\"包\"。</td>\n",
       "    </tr>\n",
       "    <tr>\n",
       "      <th>3</th>\n",
       "      <td>en</td>\n",
       "      <td>球</td>\n",
       "      <td>ball</td>\n",
       "      <td>A \"ball\" is used to play sports like soccer an...</td>\n",
       "      <td>A \"ball\" is used to play sports like soccer an...</td>\n",
       "      <td>A \"___\" is used to play sports like soccer and...</td>\n",
       "      <td>no error</td>\n",
       "      <td>zh</td>\n",
       "      <td>球</td>\n",
       "      <td>A \"ball\" is used to play sports like soccer an...</td>\n",
       "      <td>\"球\"用来进行足球和篮球等运动。答案：\"球\"。</td>\n",
       "      <td>\"_\"用来进行足球和篮球等运动。答案：\"球\"。</td>\n",
       "    </tr>\n",
       "    <tr>\n",
       "      <th>4</th>\n",
       "      <td>en</td>\n",
       "      <td>美</td>\n",
       "      <td>beauty</td>\n",
       "      <td>'\"Beauty\" is a characteristic that provides a ...</td>\n",
       "      <td>'\"Beauty\" is a characteristic that provides a ...</td>\n",
       "      <td>'\"___\" is a characteristic that provides a per...</td>\n",
       "      <td>no error</td>\n",
       "      <td>zh</td>\n",
       "      <td>美</td>\n",
       "      <td>'\"Beauty\" is a characteristic that provides a ...</td>\n",
       "      <td>\"美\"是提供愉悦或满足感知体验的特征。答案：\"美\"。</td>\n",
       "      <td>\"_\"是提供愉悦或满足感知体验的特征。答案：\"美\"。</td>\n",
       "    </tr>\n",
       "    <tr>\n",
       "      <th>...</th>\n",
       "      <td>...</td>\n",
       "      <td>...</td>\n",
       "      <td>...</td>\n",
       "      <td>...</td>\n",
       "      <td>...</td>\n",
       "      <td>...</td>\n",
       "      <td>...</td>\n",
       "      <td>...</td>\n",
       "      <td>...</td>\n",
       "      <td>...</td>\n",
       "      <td>...</td>\n",
       "      <td>...</td>\n",
       "    </tr>\n",
       "    <tr>\n",
       "      <th>127</th>\n",
       "      <td>en</td>\n",
       "      <td>德</td>\n",
       "      <td>virtue</td>\n",
       "      <td>A \"virtue\" is a quality considered morally goo...</td>\n",
       "      <td>A \"virtue\" is a quality considered morally goo...</td>\n",
       "      <td>A \"___\" is a quality considered morally good o...</td>\n",
       "      <td>no error</td>\n",
       "      <td>zh</td>\n",
       "      <td>德</td>\n",
       "      <td>A \"virtue\" is a quality considered morally goo...</td>\n",
       "      <td>\"德\"是人中被视为道德上好或可取的品质。答案：\"德\"。</td>\n",
       "      <td>\"_\"是人中被视为道德上好或可取的品质。答案：\"德\"。</td>\n",
       "    </tr>\n",
       "    <tr>\n",
       "      <th>128</th>\n",
       "      <td>en</td>\n",
       "      <td>水</td>\n",
       "      <td>water</td>\n",
       "      <td>\"A \"water\" is essential for life and is used f...</td>\n",
       "      <td>\"A \"water\" is essential for life and is used f...</td>\n",
       "      <td>\"A \"___\" is essential for life and is used for...</td>\n",
       "      <td>no error</td>\n",
       "      <td>zh</td>\n",
       "      <td>水</td>\n",
       "      <td>\"A \"water\" is essential for life and is used f...</td>\n",
       "      <td>\"水\"对生命至关重要，用于饮用和清洁。答案：\"水\"。</td>\n",
       "      <td>\"_\"对生命至关重要，用于饮用和清洁。答案：\"水\"。</td>\n",
       "    </tr>\n",
       "    <tr>\n",
       "      <th>129</th>\n",
       "      <td>en</td>\n",
       "      <td>波</td>\n",
       "      <td>wave</td>\n",
       "      <td>A \"wave\" is a disturbance that transfers energ...</td>\n",
       "      <td>A \"wave\" is a disturbance that transfers energ...</td>\n",
       "      <td>A \"___\" is a disturbance that transfers energy...</td>\n",
       "      <td>no error</td>\n",
       "      <td>zh</td>\n",
       "      <td>波</td>\n",
       "      <td>A \"wave\" is a disturbance that transfers energ...</td>\n",
       "      <td>\"波\"是一种通过物质或空间传递能量的扰动。答案：\"波\"。</td>\n",
       "      <td>\"_\"是一种通过物质或空间传递能量的扰动。答案：\"波\"。</td>\n",
       "    </tr>\n",
       "    <tr>\n",
       "      <th>130</th>\n",
       "      <td>en</td>\n",
       "      <td>木</td>\n",
       "      <td>wood</td>\n",
       "      <td>A \"wood\" is used to make furniture. Answer: \"w...</td>\n",
       "      <td>A \"wood\" is used to make furniture. Answer: \"w...</td>\n",
       "      <td>A \"___\" is used to make furniture. Answer: \"wo...</td>\n",
       "      <td>no error</td>\n",
       "      <td>zh</td>\n",
       "      <td>木</td>\n",
       "      <td>A \"wood\" is used to make furniture. Answer: \"w...</td>\n",
       "      <td>\"木\"用来制作家具。答案：\"木\"。</td>\n",
       "      <td>\"_\"用来制作家具。答案：\"木\"。</td>\n",
       "    </tr>\n",
       "    <tr>\n",
       "      <th>131</th>\n",
       "      <td>en</td>\n",
       "      <td>字</td>\n",
       "      <td>word</td>\n",
       "      <td>A \"word\" is a single distinct meaningful eleme...</td>\n",
       "      <td>A \"word\" is a single distinct meaningful eleme...</td>\n",
       "      <td>A \"___\" is a single distinct meaningful elemen...</td>\n",
       "      <td>no error</td>\n",
       "      <td>zh</td>\n",
       "      <td>字</td>\n",
       "      <td>A \"word\" is a single distinct meaningful eleme...</td>\n",
       "      <td>\"字\"是语言中单独的、有意义的元素，与其他字一起（或有时单独）用来构成句子，当书写或打印时，...</td>\n",
       "      <td>\"_\"是语言中单独的、有意义的元素，与其他字一起（或有时单独）用来构成句子，当书写或打印时，...</td>\n",
       "    </tr>\n",
       "  </tbody>\n",
       "</table>\n",
       "<p>132 rows × 12 columns</p>\n",
       "</div>"
      ],
      "text/plain": [
       "    lang_en zh       en                           blank_prompt_original_en  \\\n",
       "0        en  进  advance  \"Advance\" is a term used to describe moving fo...   \n",
       "1        en  试  attempt  An \"attempt\" is made when trying to achieve so...   \n",
       "2        en  包      bag     A \"bag\" is used to carry items. Answer: \"bag\".   \n",
       "3        en  球     ball  A \"ball\" is used to play sports like soccer an...   \n",
       "4        en  美   beauty  '\"Beauty\" is a characteristic that provides a ...   \n",
       "..      ... ..      ...                                                ...   \n",
       "127      en  德   virtue  A \"virtue\" is a quality considered morally goo...   \n",
       "128      en  水    water  \"A \"water\" is essential for life and is used f...   \n",
       "129      en  波     wave  A \"wave\" is a disturbance that transfers energ...   \n",
       "130      en  木     wood  A \"wood\" is used to make furniture. Answer: \"w...   \n",
       "131      en  字     word  A \"word\" is a single distinct meaningful eleme...   \n",
       "\n",
       "                           blank_prompt_translation_en  \\\n",
       "0    \"Advance\" is a term used to describe moving fo...   \n",
       "1    An \"attempt\" is made when trying to achieve so...   \n",
       "2       A \"bag\" is used to carry items. Answer: \"bag\".   \n",
       "3    A \"ball\" is used to play sports like soccer an...   \n",
       "4    '\"Beauty\" is a characteristic that provides a ...   \n",
       "..                                                 ...   \n",
       "127  A \"virtue\" is a quality considered morally goo...   \n",
       "128  \"A \"water\" is essential for life and is used f...   \n",
       "129  A \"wave\" is a disturbance that transfers energ...   \n",
       "130  A \"wood\" is used to make furniture. Answer: \"w...   \n",
       "131  A \"word\" is a single distinct meaningful eleme...   \n",
       "\n",
       "                    blank_prompt_translation_masked_en     error lang_zh  \\\n",
       "0    \"___\" is a term used to describe moving forwar...  no error      zh   \n",
       "1    An \"___\" is made when trying to achieve someth...  no error      zh   \n",
       "2       A \"___\" is used to carry items. Answer: \"bag\".  no error      zh   \n",
       "3    A \"___\" is used to play sports like soccer and...  no error      zh   \n",
       "4    '\"___\" is a characteristic that provides a per...  no error      zh   \n",
       "..                                                 ...       ...     ...   \n",
       "127  A \"___\" is a quality considered morally good o...  no error      zh   \n",
       "128  \"A \"___\" is essential for life and is used for...  no error      zh   \n",
       "129  A \"___\" is a disturbance that transfers energy...  no error      zh   \n",
       "130  A \"___\" is used to make furniture. Answer: \"wo...  no error      zh   \n",
       "131  A \"___\" is a single distinct meaningful elemen...  no error      zh   \n",
       "\n",
       "    zh_in                           blank_prompt_original_zh  \\\n",
       "0       进  \"Advance\" is a term used to describe moving fo...   \n",
       "1       试  An \"attempt\" is made when trying to achieve so...   \n",
       "2       包     A \"bag\" is used to carry items. Answer: \"bag\".   \n",
       "3       球  A \"ball\" is used to play sports like soccer an...   \n",
       "4       美  '\"Beauty\" is a characteristic that provides a ...   \n",
       "..    ...                                                ...   \n",
       "127     德  A \"virtue\" is a quality considered morally goo...   \n",
       "128     水  \"A \"water\" is essential for life and is used f...   \n",
       "129     波  A \"wave\" is a disturbance that transfers energ...   \n",
       "130     木  A \"wood\" is used to make furniture. Answer: \"w...   \n",
       "131     字  A \"word\" is a single distinct meaningful eleme...   \n",
       "\n",
       "                           blank_prompt_translation_zh  \\\n",
       "0                         \"进\"是用来描述向前移动或取得进展的术语。答案：\"进\"。   \n",
       "1                                \"试\"是尝试达成某事的行为。答案：\"试\"。   \n",
       "2                                    \"包\"用来携带物品。答案：\"包\"。   \n",
       "3                              \"球\"用来进行足球和篮球等运动。答案：\"球\"。   \n",
       "4                           \"美\"是提供愉悦或满足感知体验的特征。答案：\"美\"。   \n",
       "..                                                 ...   \n",
       "127                        \"德\"是人中被视为道德上好或可取的品质。答案：\"德\"。   \n",
       "128                         \"水\"对生命至关重要，用于饮用和清洁。答案：\"水\"。   \n",
       "129                       \"波\"是一种通过物质或空间传递能量的扰动。答案：\"波\"。   \n",
       "130                                  \"木\"用来制作家具。答案：\"木\"。   \n",
       "131  \"字\"是语言中单独的、有意义的元素，与其他字一起（或有时单独）用来构成句子，当书写或打印时，...   \n",
       "\n",
       "                    blank_prompt_translation_masked_zh  \n",
       "0                         \"_\"是用来描述向前移动或取得进展的术语。答案：\"进\"。  \n",
       "1                                \"_\"是尝试达成某事的行为。答案：\"试\"。  \n",
       "2                                    \"_\"用来携带物品。答案：\"包\"。  \n",
       "3                              \"_\"用来进行足球和篮球等运动。答案：\"球\"。  \n",
       "4                           \"_\"是提供愉悦或满足感知体验的特征。答案：\"美\"。  \n",
       "..                                                 ...  \n",
       "127                        \"_\"是人中被视为道德上好或可取的品质。答案：\"德\"。  \n",
       "128                         \"_\"对生命至关重要，用于饮用和清洁。答案：\"水\"。  \n",
       "129                       \"_\"是一种通过物质或空间传递能量的扰动。答案：\"波\"。  \n",
       "130                                  \"_\"用来制作家具。答案：\"木\"。  \n",
       "131  \"_\"是语言中单独的、有意义的元素，与其他字一起（或有时单独）用来构成句子，当书写或打印时，...  \n",
       "\n",
       "[132 rows x 12 columns]"
      ]
     },
     "execution_count": 13,
     "metadata": {},
     "output_type": "execute_result"
    }
   ],
   "source": [
    "df_en_target_input"
   ]
  },
  {
   "cell_type": "code",
   "execution_count": 14,
   "id": "500641f5",
   "metadata": {
    "execution": {
     "iopub.execute_input": "2024-02-23T22:30:21.808515Z",
     "iopub.status.busy": "2024-02-23T22:30:21.808363Z",
     "iopub.status.idle": "2024-02-23T22:30:41.755757Z",
     "shell.execute_reply": "2024-02-23T22:30:41.754977Z"
    },
    "papermill": {
     "duration": 19.953234,
     "end_time": "2024-02-23T22:30:41.756865",
     "exception": false,
     "start_time": "2024-02-23T22:30:21.803631",
     "status": "completed"
    },
    "tags": []
   },
   "outputs": [
    {
     "name": "stderr",
     "output_type": "stream",
     "text": [
      "\r",
      "  0%|                                                                                                                                                                                                                       | 0/132 [00:00<?, ?it/s]"
     ]
    },
    {
     "name": "stderr",
     "output_type": "stream",
     "text": [
      "\r",
      "  1%|█▌                                                                                                                                                                                                             | 1/132 [00:00<00:23,  5.67it/s]"
     ]
    },
    {
     "name": "stderr",
     "output_type": "stream",
     "text": [
      "\r",
      "  2%|███▏                                                                                                                                                                                                           | 2/132 [00:00<00:24,  5.24it/s]"
     ]
    },
    {
     "name": "stderr",
     "output_type": "stream",
     "text": [
      "\r",
      "  2%|████▋                                                                                                                                                                                                          | 3/132 [00:00<00:19,  6.45it/s]"
     ]
    },
    {
     "name": "stderr",
     "output_type": "stream",
     "text": [
      "\r",
      "  3%|██████▎                                                                                                                                                                                                        | 4/132 [00:00<00:19,  6.72it/s]"
     ]
    },
    {
     "name": "stderr",
     "output_type": "stream",
     "text": [
      "\r",
      "  4%|███████▊                                                                                                                                                                                                       | 5/132 [00:00<00:19,  6.67it/s]"
     ]
    },
    {
     "name": "stderr",
     "output_type": "stream",
     "text": [
      "\r",
      "  5%|█████████▍                                                                                                                                                                                                     | 6/132 [00:00<00:20,  6.20it/s]"
     ]
    },
    {
     "name": "stderr",
     "output_type": "stream",
     "text": [
      "\r",
      "  5%|██████████▉                                                                                                                                                                                                    | 7/132 [00:01<00:18,  6.68it/s]"
     ]
    },
    {
     "name": "stderr",
     "output_type": "stream",
     "text": [
      "\r",
      "  6%|████████████▌                                                                                                                                                                                                  | 8/132 [00:01<00:19,  6.48it/s]"
     ]
    },
    {
     "name": "stderr",
     "output_type": "stream",
     "text": [
      "\r",
      "  7%|██████████████                                                                                                                                                                                                 | 9/132 [00:01<00:17,  6.89it/s]"
     ]
    },
    {
     "name": "stderr",
     "output_type": "stream",
     "text": [
      "\r",
      "  8%|███████████████▌                                                                                                                                                                                              | 10/132 [00:01<00:17,  6.81it/s]"
     ]
    },
    {
     "name": "stderr",
     "output_type": "stream",
     "text": [
      "\r",
      "  8%|█████████████████▏                                                                                                                                                                                            | 11/132 [00:01<00:17,  6.92it/s]"
     ]
    },
    {
     "name": "stderr",
     "output_type": "stream",
     "text": [
      "\r",
      "  9%|██████████████████▋                                                                                                                                                                                           | 12/132 [00:01<00:17,  6.82it/s]"
     ]
    },
    {
     "name": "stderr",
     "output_type": "stream",
     "text": [
      "\r",
      " 10%|████████████████████▎                                                                                                                                                                                         | 13/132 [00:01<00:17,  6.66it/s]"
     ]
    },
    {
     "name": "stderr",
     "output_type": "stream",
     "text": [
      "\r",
      " 11%|█████████████████████▊                                                                                                                                                                                        | 14/132 [00:02<00:17,  6.56it/s]"
     ]
    },
    {
     "name": "stderr",
     "output_type": "stream",
     "text": [
      "\r",
      " 11%|███████████████████████▍                                                                                                                                                                                      | 15/132 [00:02<00:17,  6.68it/s]"
     ]
    },
    {
     "name": "stderr",
     "output_type": "stream",
     "text": [
      "\r",
      " 12%|████████████████████████▉                                                                                                                                                                                     | 16/132 [00:02<00:16,  7.23it/s]"
     ]
    },
    {
     "name": "stderr",
     "output_type": "stream",
     "text": [
      "\r",
      " 13%|██████████████████████████▌                                                                                                                                                                                   | 17/132 [00:02<00:16,  6.85it/s]"
     ]
    },
    {
     "name": "stderr",
     "output_type": "stream",
     "text": [
      "\r",
      " 14%|████████████████████████████                                                                                                                                                                                  | 18/132 [00:02<00:17,  6.53it/s]"
     ]
    },
    {
     "name": "stderr",
     "output_type": "stream",
     "text": [
      "\r",
      " 14%|█████████████████████████████▋                                                                                                                                                                                | 19/132 [00:02<00:16,  6.92it/s]"
     ]
    },
    {
     "name": "stderr",
     "output_type": "stream",
     "text": [
      "\r",
      " 15%|███████████████████████████████▏                                                                                                                                                                              | 20/132 [00:02<00:15,  7.21it/s]"
     ]
    },
    {
     "name": "stderr",
     "output_type": "stream",
     "text": [
      "\r",
      " 16%|████████████████████████████████▊                                                                                                                                                                             | 21/132 [00:03<00:15,  7.23it/s]"
     ]
    },
    {
     "name": "stderr",
     "output_type": "stream",
     "text": [
      "\r",
      " 17%|██████████████████████████████████▎                                                                                                                                                                           | 22/132 [00:03<00:16,  6.77it/s]"
     ]
    },
    {
     "name": "stderr",
     "output_type": "stream",
     "text": [
      "\r",
      " 17%|███████████████████████████████████▉                                                                                                                                                                          | 23/132 [00:03<00:17,  6.33it/s]"
     ]
    },
    {
     "name": "stderr",
     "output_type": "stream",
     "text": [
      "\r",
      " 19%|███████████████████████████████████████                                                                                                                                                                       | 25/132 [00:03<00:15,  6.99it/s]"
     ]
    },
    {
     "name": "stderr",
     "output_type": "stream",
     "text": [
      "\r",
      " 20%|████████████████████████████████████████▌                                                                                                                                                                     | 26/132 [00:03<00:15,  6.96it/s]"
     ]
    },
    {
     "name": "stderr",
     "output_type": "stream",
     "text": [
      "\r",
      " 20%|██████████████████████████████████████████▏                                                                                                                                                                   | 27/132 [00:03<00:14,  7.02it/s]"
     ]
    },
    {
     "name": "stderr",
     "output_type": "stream",
     "text": [
      "\r",
      " 21%|███████████████████████████████████████████▋                                                                                                                                                                  | 28/132 [00:04<00:14,  7.26it/s]"
     ]
    },
    {
     "name": "stderr",
     "output_type": "stream",
     "text": [
      "\r",
      " 22%|█████████████████████████████████████████████▎                                                                                                                                                                | 29/132 [00:04<00:14,  6.90it/s]"
     ]
    },
    {
     "name": "stderr",
     "output_type": "stream",
     "text": [
      "\r",
      " 23%|██████████████████████████████████████████████▊                                                                                                                                                               | 30/132 [00:04<00:14,  6.99it/s]"
     ]
    },
    {
     "name": "stderr",
     "output_type": "stream",
     "text": [
      "\r",
      " 23%|████████████████████████████████████████████████▍                                                                                                                                                             | 31/132 [00:04<00:15,  6.64it/s]"
     ]
    },
    {
     "name": "stderr",
     "output_type": "stream",
     "text": [
      "\r",
      " 24%|█████████████████████████████████████████████████▉                                                                                                                                                            | 32/132 [00:04<00:14,  6.91it/s]"
     ]
    },
    {
     "name": "stderr",
     "output_type": "stream",
     "text": [
      "\r",
      " 25%|███████████████████████████████████████████████████▌                                                                                                                                                          | 33/132 [00:04<00:14,  6.67it/s]"
     ]
    },
    {
     "name": "stderr",
     "output_type": "stream",
     "text": [
      "\r",
      " 26%|█████████████████████████████████████████████████████                                                                                                                                                         | 34/132 [00:05<00:14,  6.93it/s]"
     ]
    },
    {
     "name": "stderr",
     "output_type": "stream",
     "text": [
      "\r",
      " 27%|██████████████████████████████████████████████████████▌                                                                                                                                                       | 35/132 [00:05<00:16,  5.92it/s]"
     ]
    },
    {
     "name": "stderr",
     "output_type": "stream",
     "text": [
      "\r",
      " 27%|████████████████████████████████████████████████████████▏                                                                                                                                                     | 36/132 [00:05<00:14,  6.42it/s]"
     ]
    },
    {
     "name": "stderr",
     "output_type": "stream",
     "text": [
      "\r",
      " 28%|█████████████████████████████████████████████████████████▋                                                                                                                                                    | 37/132 [00:05<00:14,  6.66it/s]"
     ]
    },
    {
     "name": "stderr",
     "output_type": "stream",
     "text": [
      "\r",
      " 29%|███████████████████████████████████████████████████████████▎                                                                                                                                                  | 38/132 [00:05<00:14,  6.40it/s]"
     ]
    },
    {
     "name": "stderr",
     "output_type": "stream",
     "text": [
      "\r",
      " 30%|████████████████████████████████████████████████████████████▊                                                                                                                                                 | 39/132 [00:05<00:14,  6.32it/s]"
     ]
    },
    {
     "name": "stderr",
     "output_type": "stream",
     "text": [
      "\r",
      " 30%|██████████████████████████████████████████████████████████████▍                                                                                                                                               | 40/132 [00:05<00:13,  6.62it/s]"
     ]
    },
    {
     "name": "stderr",
     "output_type": "stream",
     "text": [
      "\r",
      " 31%|███████████████████████████████████████████████████████████████▉                                                                                                                                              | 41/132 [00:06<00:13,  6.72it/s]"
     ]
    },
    {
     "name": "stderr",
     "output_type": "stream",
     "text": [
      "\r",
      " 32%|█████████████████████████████████████████████████████████████████▌                                                                                                                                            | 42/132 [00:06<00:13,  6.92it/s]"
     ]
    },
    {
     "name": "stderr",
     "output_type": "stream",
     "text": [
      "\r",
      " 33%|███████████████████████████████████████████████████████████████████                                                                                                                                           | 43/132 [00:06<00:12,  6.91it/s]"
     ]
    },
    {
     "name": "stderr",
     "output_type": "stream",
     "text": [
      "\r",
      " 33%|████████████████████████████████████████████████████████████████████▋                                                                                                                                         | 44/132 [00:06<00:14,  6.17it/s]"
     ]
    },
    {
     "name": "stderr",
     "output_type": "stream",
     "text": [
      "\r",
      " 34%|██████████████████████████████████████████████████████████████████████▏                                                                                                                                       | 45/132 [00:06<00:13,  6.24it/s]"
     ]
    },
    {
     "name": "stderr",
     "output_type": "stream",
     "text": [
      "\r",
      " 35%|███████████████████████████████████████████████████████████████████████▊                                                                                                                                      | 46/132 [00:06<00:13,  6.28it/s]"
     ]
    },
    {
     "name": "stderr",
     "output_type": "stream",
     "text": [
      "\r",
      " 36%|█████████████████████████████████████████████████████████████████████████▎                                                                                                                                    | 47/132 [00:07<00:15,  5.41it/s]"
     ]
    },
    {
     "name": "stderr",
     "output_type": "stream",
     "text": [
      "\r",
      " 36%|██████████████████████████████████████████████████████████████████████████▉                                                                                                                                   | 48/132 [00:07<00:15,  5.58it/s]"
     ]
    },
    {
     "name": "stderr",
     "output_type": "stream",
     "text": [
      "\r",
      " 37%|████████████████████████████████████████████████████████████████████████████▍                                                                                                                                 | 49/132 [00:07<00:13,  6.01it/s]"
     ]
    },
    {
     "name": "stderr",
     "output_type": "stream",
     "text": [
      "\r",
      " 38%|██████████████████████████████████████████████████████████████████████████████                                                                                                                                | 50/132 [00:07<00:13,  6.23it/s]"
     ]
    },
    {
     "name": "stderr",
     "output_type": "stream",
     "text": [
      "\r",
      " 39%|███████████████████████████████████████████████████████████████████████████████▌                                                                                                                              | 51/132 [00:07<00:12,  6.48it/s]"
     ]
    },
    {
     "name": "stderr",
     "output_type": "stream",
     "text": [
      "\r",
      " 39%|█████████████████████████████████████████████████████████████████████████████████▏                                                                                                                            | 52/132 [00:07<00:11,  6.78it/s]"
     ]
    },
    {
     "name": "stderr",
     "output_type": "stream",
     "text": [
      "\r",
      " 40%|██████████████████████████████████████████████████████████████████████████████████▋                                                                                                                           | 53/132 [00:08<00:13,  6.06it/s]"
     ]
    },
    {
     "name": "stderr",
     "output_type": "stream",
     "text": [
      "\r",
      " 41%|████████████████████████████████████████████████████████████████████████████████████▎                                                                                                                         | 54/132 [00:08<00:11,  6.63it/s]"
     ]
    },
    {
     "name": "stderr",
     "output_type": "stream",
     "text": [
      "\r",
      " 42%|█████████████████████████████████████████████████████████████████████████████████████▊                                                                                                                        | 55/132 [00:08<00:11,  6.88it/s]"
     ]
    },
    {
     "name": "stderr",
     "output_type": "stream",
     "text": [
      "\r",
      " 42%|███████████████████████████████████████████████████████████████████████████████████████▍                                                                                                                      | 56/132 [00:08<00:11,  6.78it/s]"
     ]
    },
    {
     "name": "stderr",
     "output_type": "stream",
     "text": [
      "\r",
      " 43%|████████████████████████████████████████████████████████████████████████████████████████▉                                                                                                                     | 57/132 [00:08<00:10,  6.91it/s]"
     ]
    },
    {
     "name": "stderr",
     "output_type": "stream",
     "text": [
      "\r",
      " 44%|██████████████████████████████████████████████████████████████████████████████████████████▌                                                                                                                   | 58/132 [00:08<00:11,  6.37it/s]"
     ]
    },
    {
     "name": "stderr",
     "output_type": "stream",
     "text": [
      "\r",
      " 45%|████████████████████████████████████████████████████████████████████████████████████████████                                                                                                                  | 59/132 [00:08<00:11,  6.10it/s]"
     ]
    },
    {
     "name": "stderr",
     "output_type": "stream",
     "text": [
      "\r",
      " 45%|█████████████████████████████████████████████████████████████████████████████████████████████▋                                                                                                                | 60/132 [00:09<00:11,  6.10it/s]"
     ]
    },
    {
     "name": "stderr",
     "output_type": "stream",
     "text": [
      "\r",
      " 46%|███████████████████████████████████████████████████████████████████████████████████████████████▏                                                                                                              | 61/132 [00:09<00:10,  6.63it/s]"
     ]
    },
    {
     "name": "stderr",
     "output_type": "stream",
     "text": [
      "\r",
      " 47%|████████████████████████████████████████████████████████████████████████████████████████████████▊                                                                                                             | 62/132 [00:09<00:10,  6.46it/s]"
     ]
    },
    {
     "name": "stderr",
     "output_type": "stream",
     "text": [
      "\r",
      " 48%|██████████████████████████████████████████████████████████████████████████████████████████████████▎                                                                                                           | 63/132 [00:09<00:11,  6.02it/s]"
     ]
    },
    {
     "name": "stderr",
     "output_type": "stream",
     "text": [
      "\r",
      " 48%|███████████████████████████████████████████████████████████████████████████████████████████████████▉                                                                                                          | 64/132 [00:09<00:10,  6.26it/s]"
     ]
    },
    {
     "name": "stderr",
     "output_type": "stream",
     "text": [
      "\r",
      " 49%|█████████████████████████████████████████████████████████████████████████████████████████████████████▍                                                                                                        | 65/132 [00:09<00:09,  6.84it/s]"
     ]
    },
    {
     "name": "stderr",
     "output_type": "stream",
     "text": [
      "\r",
      " 50%|███████████████████████████████████████████████████████████████████████████████████████████████████████                                                                                                       | 66/132 [00:10<00:09,  7.14it/s]"
     ]
    },
    {
     "name": "stderr",
     "output_type": "stream",
     "text": [
      "\r",
      " 51%|████████████████████████████████████████████████████████████████████████████████████████████████████████▌                                                                                                     | 67/132 [00:10<00:09,  7.05it/s]"
     ]
    },
    {
     "name": "stderr",
     "output_type": "stream",
     "text": [
      "\r",
      " 52%|██████████████████████████████████████████████████████████████████████████████████████████████████████████                                                                                                    | 68/132 [00:10<00:09,  6.92it/s]"
     ]
    },
    {
     "name": "stderr",
     "output_type": "stream",
     "text": [
      "\r",
      " 52%|███████████████████████████████████████████████████████████████████████████████████████████████████████████▋                                                                                                  | 69/132 [00:10<00:09,  6.59it/s]"
     ]
    },
    {
     "name": "stderr",
     "output_type": "stream",
     "text": [
      "\r",
      " 53%|█████████████████████████████████████████████████████████████████████████████████████████████████████████████▏                                                                                                | 70/132 [00:10<00:10,  6.08it/s]"
     ]
    },
    {
     "name": "stderr",
     "output_type": "stream",
     "text": [
      "\r",
      " 54%|██████████████████████████████████████████████████████████████████████████████████████████████████████████████▊                                                                                               | 71/132 [00:10<00:09,  6.73it/s]"
     ]
    },
    {
     "name": "stderr",
     "output_type": "stream",
     "text": [
      "\r",
      " 55%|████████████████████████████████████████████████████████████████████████████████████████████████████████████████▎                                                                                             | 72/132 [00:10<00:09,  6.30it/s]"
     ]
    },
    {
     "name": "stderr",
     "output_type": "stream",
     "text": [
      "\r",
      " 55%|█████████████████████████████████████████████████████████████████████████████████████████████████████████████████▉                                                                                            | 73/132 [00:11<00:08,  6.74it/s]"
     ]
    },
    {
     "name": "stderr",
     "output_type": "stream",
     "text": [
      "\r",
      " 56%|███████████████████████████████████████████████████████████████████████████████████████████████████████████████████▍                                                                                          | 74/132 [00:11<00:08,  6.88it/s]"
     ]
    },
    {
     "name": "stderr",
     "output_type": "stream",
     "text": [
      "\r",
      " 57%|█████████████████████████████████████████████████████████████████████████████████████████████████████████████████████                                                                                         | 75/132 [00:11<00:08,  6.47it/s]"
     ]
    },
    {
     "name": "stderr",
     "output_type": "stream",
     "text": [
      "\r",
      " 58%|██████████████████████████████████████████████████████████████████████████████████████████████████████████████████████▌                                                                                       | 76/132 [00:11<00:09,  5.99it/s]"
     ]
    },
    {
     "name": "stderr",
     "output_type": "stream",
     "text": [
      "\r",
      " 58%|████████████████████████████████████████████████████████████████████████████████████████████████████████████████████████▏                                                                                     | 77/132 [00:11<00:08,  6.24it/s]"
     ]
    },
    {
     "name": "stderr",
     "output_type": "stream",
     "text": [
      "\r",
      " 59%|█████████████████████████████████████████████████████████████████████████████████████████████████████████████████████████▋                                                                                    | 78/132 [00:11<00:08,  6.59it/s]"
     ]
    },
    {
     "name": "stderr",
     "output_type": "stream",
     "text": [
      "\r",
      " 60%|███████████████████████████████████████████████████████████████████████████████████████████████████████████████████████████▎                                                                                  | 79/132 [00:12<00:08,  6.06it/s]"
     ]
    },
    {
     "name": "stderr",
     "output_type": "stream",
     "text": [
      "\r",
      " 61%|████████████████████████████████████████████████████████████████████████████████████████████████████████████████████████████▊                                                                                 | 80/132 [00:12<00:08,  6.22it/s]"
     ]
    },
    {
     "name": "stderr",
     "output_type": "stream",
     "text": [
      "\r",
      " 61%|██████████████████████████████████████████████████████████████████████████████████████████████████████████████████████████████▍                                                                               | 81/132 [00:12<00:08,  5.77it/s]"
     ]
    },
    {
     "name": "stderr",
     "output_type": "stream",
     "text": [
      "\r",
      " 62%|███████████████████████████████████████████████████████████████████████████████████████████████████████████████████████████████▉                                                                              | 82/132 [00:12<00:07,  6.46it/s]"
     ]
    },
    {
     "name": "stderr",
     "output_type": "stream",
     "text": [
      "\r",
      " 63%|█████████████████████████████████████████████████████████████████████████████████████████████████████████████████████████████████▌                                                                            | 83/132 [00:12<00:07,  6.34it/s]"
     ]
    },
    {
     "name": "stderr",
     "output_type": "stream",
     "text": [
      "\r",
      " 64%|███████████████████████████████████████████████████████████████████████████████████████████████████████████████████████████████████                                                                           | 84/132 [00:12<00:07,  6.59it/s]"
     ]
    },
    {
     "name": "stderr",
     "output_type": "stream",
     "text": [
      "\r",
      " 64%|████████████████████████████████████████████████████████████████████████████████████████████████████████████████████████████████████▋                                                                         | 85/132 [00:12<00:06,  6.81it/s]"
     ]
    },
    {
     "name": "stderr",
     "output_type": "stream",
     "text": [
      "\r",
      " 65%|██████████████████████████████████████████████████████████████████████████████████████████████████████████████████████████████████████▏                                                                       | 86/132 [00:13<00:06,  6.67it/s]"
     ]
    },
    {
     "name": "stderr",
     "output_type": "stream",
     "text": [
      "\r",
      " 66%|███████████████████████████████████████████████████████████████████████████████████████████████████████████████████████████████████████▊                                                                      | 87/132 [00:13<00:06,  6.91it/s]"
     ]
    },
    {
     "name": "stderr",
     "output_type": "stream",
     "text": [
      "\r",
      " 67%|█████████████████████████████████████████████████████████████████████████████████████████████████████████████████████████████████████████▎                                                                    | 88/132 [00:13<00:06,  7.09it/s]"
     ]
    },
    {
     "name": "stderr",
     "output_type": "stream",
     "text": [
      "\r",
      " 67%|██████████████████████████████████████████████████████████████████████████████████████████████████████████████████████████████████████████▉                                                                   | 89/132 [00:13<00:06,  6.74it/s]"
     ]
    },
    {
     "name": "stderr",
     "output_type": "stream",
     "text": [
      "\r",
      " 68%|████████████████████████████████████████████████████████████████████████████████████████████████████████████████████████████████████████████▍                                                                 | 90/132 [00:13<00:05,  7.37it/s]"
     ]
    },
    {
     "name": "stderr",
     "output_type": "stream",
     "text": [
      "\r",
      " 69%|██████████████████████████████████████████████████████████████████████████████████████████████████████████████████████████████████████████████                                                                | 91/132 [00:13<00:05,  7.52it/s]"
     ]
    },
    {
     "name": "stderr",
     "output_type": "stream",
     "text": [
      "\r",
      " 70%|███████████████████████████████████████████████████████████████████████████████████████████████████████████████████████████████████████████████▌                                                              | 92/132 [00:13<00:06,  6.64it/s]"
     ]
    },
    {
     "name": "stderr",
     "output_type": "stream",
     "text": [
      "\r",
      " 70%|█████████████████████████████████████████████████████████████████████████████████████████████████████████████████████████████████████████████████▏                                                            | 93/132 [00:14<00:05,  6.90it/s]"
     ]
    },
    {
     "name": "stderr",
     "output_type": "stream",
     "text": [
      "\r",
      " 71%|██████████████████████████████████████████████████████████████████████████████████████████████████████████████████████████████████████████████████▋                                                           | 94/132 [00:14<00:05,  7.08it/s]"
     ]
    },
    {
     "name": "stderr",
     "output_type": "stream",
     "text": [
      "\r",
      " 72%|████████████████████████████████████████████████████████████████████████████████████████████████████████████████████████████████████████████████████▎                                                         | 95/132 [00:14<00:05,  7.26it/s]"
     ]
    },
    {
     "name": "stderr",
     "output_type": "stream",
     "text": [
      "\r",
      " 73%|█████████████████████████████████████████████████████████████████████████████████████████████████████████████████████████████████████████████████████▊                                                        | 96/132 [00:14<00:04,  7.70it/s]"
     ]
    },
    {
     "name": "stderr",
     "output_type": "stream",
     "text": [
      "\r",
      " 73%|███████████████████████████████████████████████████████████████████████████████████████████████████████████████████████████████████████████████████████▍                                                      | 97/132 [00:14<00:04,  7.91it/s]"
     ]
    },
    {
     "name": "stderr",
     "output_type": "stream",
     "text": [
      "\r",
      " 74%|████████████████████████████████████████████████████████████████████████████████████████████████████████████████████████████████████████████████████████▉                                                     | 98/132 [00:14<00:04,  8.07it/s]"
     ]
    },
    {
     "name": "stderr",
     "output_type": "stream",
     "text": [
      "\r",
      " 75%|██████████████████████████████████████████████████████████████████████████████████████████████████████████████████████████████████████████████████████████▌                                                   | 99/132 [00:14<00:04,  7.82it/s]"
     ]
    },
    {
     "name": "stderr",
     "output_type": "stream",
     "text": [
      "\r",
      " 76%|███████████████████████████████████████████████████████████████████████████████████████████████████████████████████████████████████████████████████████████▎                                                 | 100/132 [00:15<00:04,  7.54it/s]"
     ]
    },
    {
     "name": "stderr",
     "output_type": "stream",
     "text": [
      "\r",
      " 77%|████████████████████████████████████████████████████████████████████████████████████████████████████████████████████████████████████████████████████████████▊                                                | 101/132 [00:15<00:04,  7.13it/s]"
     ]
    },
    {
     "name": "stderr",
     "output_type": "stream",
     "text": [
      "\r",
      " 77%|██████████████████████████████████████████████████████████████████████████████████████████████████████████████████████████████████████████████████████████████▍                                              | 102/132 [00:15<00:04,  7.06it/s]"
     ]
    },
    {
     "name": "stderr",
     "output_type": "stream",
     "text": [
      "\r",
      " 78%|███████████████████████████████████████████████████████████████████████████████████████████████████████████████████████████████████████████████████████████████▉                                             | 103/132 [00:15<00:04,  6.83it/s]"
     ]
    },
    {
     "name": "stderr",
     "output_type": "stream",
     "text": [
      "\r",
      " 79%|█████████████████████████████████████████████████████████████████████████████████████████████████████████████████████████████████████████████████████████████████▌                                           | 104/132 [00:15<00:04,  6.78it/s]"
     ]
    },
    {
     "name": "stderr",
     "output_type": "stream",
     "text": [
      "\r",
      " 80%|███████████████████████████████████████████████████████████████████████████████████████████████████████████████████████████████████████████████████████████████████                                          | 105/132 [00:15<00:04,  6.50it/s]"
     ]
    },
    {
     "name": "stderr",
     "output_type": "stream",
     "text": [
      "\r",
      " 80%|████████████████████████████████████████████████████████████████████████████████████████████████████████████████████████████████████████████████████████████████████▌                                        | 106/132 [00:15<00:04,  6.37it/s]"
     ]
    },
    {
     "name": "stderr",
     "output_type": "stream",
     "text": [
      "\r",
      " 81%|██████████████████████████████████████████████████████████████████████████████████████████████████████████████████████████████████████████████████████████████████████▏                                      | 107/132 [00:16<00:03,  6.59it/s]"
     ]
    },
    {
     "name": "stderr",
     "output_type": "stream",
     "text": [
      "\r",
      " 82%|███████████████████████████████████████████████████████████████████████████████████████████████████████████████████████████████████████████████████████████████████████▋                                     | 108/132 [00:16<00:03,  6.05it/s]"
     ]
    },
    {
     "name": "stderr",
     "output_type": "stream",
     "text": [
      "\r",
      " 83%|█████████████████████████████████████████████████████████████████████████████████████████████████████████████████████████████████████████████████████████████████████████▎                                   | 109/132 [00:16<00:03,  5.92it/s]"
     ]
    },
    {
     "name": "stderr",
     "output_type": "stream",
     "text": [
      "\r",
      " 83%|██████████████████████████████████████████████████████████████████████████████████████████████████████████████████████████████████████████████████████████████████████████▊                                  | 110/132 [00:16<00:03,  6.04it/s]"
     ]
    },
    {
     "name": "stderr",
     "output_type": "stream",
     "text": [
      "\r",
      " 84%|████████████████████████████████████████████████████████████████████████████████████████████████████████████████████████████████████████████████████████████████████████████▍                                | 111/132 [00:16<00:03,  5.41it/s]"
     ]
    },
    {
     "name": "stderr",
     "output_type": "stream",
     "text": [
      "\r",
      " 85%|█████████████████████████████████████████████████████████████████████████████████████████████████████████████████████████████████████████████████████████████████████████████▉                               | 112/132 [00:17<00:03,  5.58it/s]"
     ]
    },
    {
     "name": "stderr",
     "output_type": "stream",
     "text": [
      "\r",
      " 86%|███████████████████████████████████████████████████████████████████████████████████████████████████████████████████████████████████████████████████████████████████████████████▍                             | 113/132 [00:17<00:03,  6.27it/s]"
     ]
    },
    {
     "name": "stderr",
     "output_type": "stream",
     "text": [
      "\r",
      " 86%|█████████████████████████████████████████████████████████████████████████████████████████████████████████████████████████████████████████████████████████████████████████████████                            | 114/132 [00:17<00:02,  6.65it/s]"
     ]
    },
    {
     "name": "stderr",
     "output_type": "stream",
     "text": [
      "\r",
      " 87%|██████████████████████████████████████████████████████████████████████████████████████████████████████████████████████████████████████████████████████████████████████████████████▌                          | 115/132 [00:17<00:02,  6.45it/s]"
     ]
    },
    {
     "name": "stderr",
     "output_type": "stream",
     "text": [
      "\r",
      " 88%|████████████████████████████████████████████████████████████████████████████████████████████████████████████████████████████████████████████████████████████████████████████████████▏                        | 116/132 [00:17<00:02,  7.13it/s]"
     ]
    },
    {
     "name": "stderr",
     "output_type": "stream",
     "text": [
      "\r",
      " 89%|█████████████████████████████████████████████████████████████████████████████████████████████████████████████████████████████████████████████████████████████████████████████████████▋                       | 117/132 [00:17<00:01,  7.55it/s]"
     ]
    },
    {
     "name": "stderr",
     "output_type": "stream",
     "text": [
      "\r",
      " 89%|███████████████████████████████████████████████████████████████████████████████████████████████████████████████████████████████████████████████████████████████████████████████████████▎                     | 118/132 [00:17<00:02,  6.76it/s]"
     ]
    },
    {
     "name": "stderr",
     "output_type": "stream",
     "text": [
      "\r",
      " 90%|████████████████████████████████████████████████████████████████████████████████████████████████████████████████████████████████████████████████████████████████████████████████████████▊                    | 119/132 [00:17<00:01,  6.72it/s]"
     ]
    },
    {
     "name": "stderr",
     "output_type": "stream",
     "text": [
      "\r",
      " 91%|██████████████████████████████████████████████████████████████████████████████████████████████████████████████████████████████████████████████████████████████████████████████████████████▎                  | 120/132 [00:18<00:01,  7.34it/s]"
     ]
    },
    {
     "name": "stderr",
     "output_type": "stream",
     "text": [
      "\r",
      " 92%|███████████████████████████████████████████████████████████████████████████████████████████████████████████████████████████████████████████████████████████████████████████████████████████▉                 | 121/132 [00:18<00:01,  7.30it/s]"
     ]
    },
    {
     "name": "stderr",
     "output_type": "stream",
     "text": [
      "\r",
      " 92%|█████████████████████████████████████████████████████████████████████████████████████████████████████████████████████████████████████████████████████████████████████████████████████████████▍               | 122/132 [00:18<00:01,  7.38it/s]"
     ]
    },
    {
     "name": "stderr",
     "output_type": "stream",
     "text": [
      "\r",
      " 93%|███████████████████████████████████████████████████████████████████████████████████████████████████████████████████████████████████████████████████████████████████████████████████████████████              | 123/132 [00:18<00:01,  7.11it/s]"
     ]
    },
    {
     "name": "stderr",
     "output_type": "stream",
     "text": [
      "\r",
      " 94%|████████████████████████████████████████████████████████████████████████████████████████████████████████████████████████████████████████████████████████████████████████████████████████████████▌            | 124/132 [00:18<00:01,  7.54it/s]"
     ]
    },
    {
     "name": "stderr",
     "output_type": "stream",
     "text": [
      "\r",
      " 95%|██████████████████████████████████████████████████████████████████████████████████████████████████████████████████████████████████████████████████████████████████████████████████████████████████▏          | 125/132 [00:18<00:01,  6.88it/s]"
     ]
    },
    {
     "name": "stderr",
     "output_type": "stream",
     "text": [
      "\r",
      " 95%|███████████████████████████████████████████████████████████████████████████████████████████████████████████████████████████████████████████████████████████████████████████████████████████████████▋         | 126/132 [00:18<00:00,  6.30it/s]"
     ]
    },
    {
     "name": "stderr",
     "output_type": "stream",
     "text": [
      "\r",
      " 96%|█████████████████████████████████████████████████████████████████████████████████████████████████████████████████████████████████████████████████████████████████████████████████████████████████████▏       | 127/132 [00:19<00:00,  5.96it/s]"
     ]
    },
    {
     "name": "stderr",
     "output_type": "stream",
     "text": [
      "\r",
      " 97%|██████████████████████████████████████████████████████████████████████████████████████████████████████████████████████████████████████████████████████████████████████████████████████████████████████▊      | 128/132 [00:19<00:00,  5.92it/s]"
     ]
    },
    {
     "name": "stderr",
     "output_type": "stream",
     "text": [
      "\r",
      " 98%|████████████████████████████████████████████████████████████████████████████████████████████████████████████████████████████████████████████████████████████████████████████████████████████████████████▎    | 129/132 [00:19<00:00,  5.90it/s]"
     ]
    },
    {
     "name": "stderr",
     "output_type": "stream",
     "text": [
      "\r",
      " 98%|█████████████████████████████████████████████████████████████████████████████████████████████████████████████████████████████████████████████████████████████████████████████████████████████████████████▉   | 130/132 [00:19<00:00,  6.42it/s]"
     ]
    },
    {
     "name": "stderr",
     "output_type": "stream",
     "text": [
      "\r",
      " 99%|███████████████████████████████████████████████████████████████████████████████████████████████████████████████████████████████████████████████████████████████████████████████████████████████████████████▍ | 131/132 [00:19<00:00,  6.80it/s]"
     ]
    },
    {
     "name": "stderr",
     "output_type": "stream",
     "text": [
      "\r",
      "100%|█████████████████████████████████████████████████████████████████████████████████████████████████████████████████████████████████████████████████████████████████████████████████████████████████████████████| 132/132 [00:19<00:00,  6.95it/s]"
     ]
    },
    {
     "name": "stderr",
     "output_type": "stream",
     "text": [
      "\r",
      "100%|█████████████████████████████████████████████████████████████████████████████████████████████████████████████████████████████████████████████████████████████████████████████████████████████████████████████| 132/132 [00:19<00:00,  6.63it/s]"
     ]
    },
    {
     "name": "stderr",
     "output_type": "stream",
     "text": [
      "\n"
     ]
    }
   ],
   "source": [
    "dataset = []\n",
    "for ind in tqdm(range(len(df_en_target_input))):\n",
    "    d = next(sample(df_en_target_input, ind, lang1=input_lang, lang2=target_lang))\n",
    "    if d is None:\n",
    "        continue\n",
    "    dataset.append(d)"
   ]
  },
  {
   "cell_type": "code",
   "execution_count": 15,
   "id": "d786ab1b",
   "metadata": {
    "execution": {
     "iopub.execute_input": "2024-02-23T22:30:41.776833Z",
     "iopub.status.busy": "2024-02-23T22:30:41.776662Z",
     "iopub.status.idle": "2024-02-23T22:30:41.821912Z",
     "shell.execute_reply": "2024-02-23T22:30:41.821378Z"
    },
    "papermill": {
     "duration": 0.055597,
     "end_time": "2024-02-23T22:30:41.822750",
     "exception": false,
     "start_time": "2024-02-23T22:30:41.767153",
     "status": "completed"
    },
    "tags": []
   },
   "outputs": [],
   "source": [
    "df = pd.DataFrame(dataset)\n",
    "os.makedirs(f'{out_dir}/translation', exist_ok=True)\n",
    "df.to_csv(f'{out_dir}/translation/{model_size}_{input_lang}_{target_lang}_dataset.csv', index=False)"
   ]
  },
  {
   "cell_type": "code",
   "execution_count": 16,
   "id": "00e12355",
   "metadata": {
    "execution": {
     "iopub.execute_input": "2024-02-23T22:30:41.845002Z",
     "iopub.status.busy": "2024-02-23T22:30:41.844402Z",
     "iopub.status.idle": "2024-02-23T22:30:41.873517Z",
     "shell.execute_reply": "2024-02-23T22:30:41.873090Z"
    },
    "papermill": {
     "duration": 0.039379,
     "end_time": "2024-02-23T22:30:41.874269",
     "exception": false,
     "start_time": "2024-02-23T22:30:41.834890",
     "status": "completed"
    },
    "tags": []
   },
   "outputs": [
    {
     "data": {
      "text/plain": [
       "'中文: \"线\" - English: \"line\"\\n中文: \"头\" - English: \"head\"\\n中文: \"八\" - English: \"eight\"\\n中文: \"友\" - English: \"friend\"\\n中文: \"进\" - English: \"'"
      ]
     },
     "execution_count": 16,
     "metadata": {},
     "output_type": "execute_result"
    }
   ],
   "source": [
    "df[\"prompt\"][0]"
   ]
  },
  {
   "cell_type": "code",
   "execution_count": 17,
   "id": "94fa55b7",
   "metadata": {
    "execution": {
     "iopub.execute_input": "2024-02-23T22:30:41.894760Z",
     "iopub.status.busy": "2024-02-23T22:30:41.894628Z",
     "iopub.status.idle": "2024-02-23T22:30:41.922533Z",
     "shell.execute_reply": "2024-02-23T22:30:41.922080Z"
    },
    "papermill": {
     "duration": 0.039541,
     "end_time": "2024-02-23T22:30:41.923362",
     "exception": false,
     "start_time": "2024-02-23T22:30:41.883821",
     "status": "completed"
    },
    "tags": []
   },
   "outputs": [],
   "source": [
    "def get_logits(model, prompt,lens):\n",
    "    inputs = tokenizer(prompt, return_tensors=\"pt\").to('cuda')\n",
    "    output = llama(inputs.input_ids, output_hidden_states=True)\n",
    "    hidden_states = output.hidden_states[:-1]\n",
    "    final_lps = output.logits.log_softmax(dim=-1)\n",
    "    tensors=[]\n",
    "    for i in range(len(model.model.layers)):\n",
    "        h = hidden_states[i].squeeze(0)\n",
    "        tensors+=[lens(h, idx=i).detach().cpu()]\n",
    "    tensors= torch.stack(tensors)  \n",
    "    hidden_states = torch.stack(hidden_states).squeeze(1).detach().cpu()\n",
    "    return tensors,hidden_states\n",
    "        "
   ]
  },
  {
   "cell_type": "code",
   "execution_count": 18,
   "id": "25241c49",
   "metadata": {
    "execution": {
     "iopub.execute_input": "2024-02-23T22:30:41.942140Z",
     "iopub.status.busy": "2024-02-23T22:30:41.941982Z",
     "iopub.status.idle": "2024-02-23T22:31:02.073686Z",
     "shell.execute_reply": "2024-02-23T22:31:02.073151Z"
    },
    "papermill": {
     "duration": 20.14214,
     "end_time": "2024-02-23T22:31:02.074716",
     "exception": false,
     "start_time": "2024-02-23T22:30:41.932576",
     "status": "completed"
    },
    "tags": []
   },
   "outputs": [
    {
     "name": "stderr",
     "output_type": "stream",
     "text": [
      "\r",
      "0it [00:00, ?it/s]"
     ]
    },
    {
     "name": "stderr",
     "output_type": "stream",
     "text": [
      "\r",
      "1it [00:00,  1.17it/s]"
     ]
    },
    {
     "name": "stderr",
     "output_type": "stream",
     "text": [
      "\r",
      "2it [00:01,  2.16it/s]"
     ]
    },
    {
     "name": "stderr",
     "output_type": "stream",
     "text": [
      "\r",
      "3it [00:01,  3.14it/s]"
     ]
    },
    {
     "name": "stderr",
     "output_type": "stream",
     "text": [
      "\r",
      "4it [00:01,  3.92it/s]"
     ]
    },
    {
     "name": "stderr",
     "output_type": "stream",
     "text": [
      "\r",
      "5it [00:01,  4.72it/s]"
     ]
    },
    {
     "name": "stderr",
     "output_type": "stream",
     "text": [
      "\r",
      "6it [00:01,  5.18it/s]"
     ]
    },
    {
     "name": "stderr",
     "output_type": "stream",
     "text": [
      "\r",
      "7it [00:01,  5.74it/s]"
     ]
    },
    {
     "name": "stderr",
     "output_type": "stream",
     "text": [
      "\r",
      "8it [00:01,  5.78it/s]"
     ]
    },
    {
     "name": "stderr",
     "output_type": "stream",
     "text": [
      "\r",
      "9it [00:02,  5.88it/s]"
     ]
    },
    {
     "name": "stderr",
     "output_type": "stream",
     "text": [
      "\r",
      "10it [00:02,  5.96it/s]"
     ]
    },
    {
     "name": "stderr",
     "output_type": "stream",
     "text": [
      "\r",
      "11it [00:02,  6.03it/s]"
     ]
    },
    {
     "name": "stderr",
     "output_type": "stream",
     "text": [
      "\r",
      "12it [00:02,  6.00it/s]"
     ]
    },
    {
     "name": "stderr",
     "output_type": "stream",
     "text": [
      "\r",
      "13it [00:02,  6.13it/s]"
     ]
    },
    {
     "name": "stderr",
     "output_type": "stream",
     "text": [
      "\r",
      "14it [00:02,  6.26it/s]"
     ]
    },
    {
     "name": "stderr",
     "output_type": "stream",
     "text": [
      "\r",
      "15it [00:03,  6.27it/s]"
     ]
    },
    {
     "name": "stderr",
     "output_type": "stream",
     "text": [
      "\r",
      "16it [00:03,  6.30it/s]"
     ]
    },
    {
     "name": "stderr",
     "output_type": "stream",
     "text": [
      "\r",
      "17it [00:03,  6.30it/s]"
     ]
    },
    {
     "name": "stderr",
     "output_type": "stream",
     "text": [
      "\r",
      "18it [00:03,  6.38it/s]"
     ]
    },
    {
     "name": "stderr",
     "output_type": "stream",
     "text": [
      "\r",
      "19it [00:03,  6.28it/s]"
     ]
    },
    {
     "name": "stderr",
     "output_type": "stream",
     "text": [
      "\r",
      "20it [00:03,  6.45it/s]"
     ]
    },
    {
     "name": "stderr",
     "output_type": "stream",
     "text": [
      "\r",
      "21it [00:04,  6.46it/s]"
     ]
    },
    {
     "name": "stderr",
     "output_type": "stream",
     "text": [
      "\r",
      "22it [00:04,  6.61it/s]"
     ]
    },
    {
     "name": "stderr",
     "output_type": "stream",
     "text": [
      "\r",
      "23it [00:04,  6.50it/s]"
     ]
    },
    {
     "name": "stderr",
     "output_type": "stream",
     "text": [
      "\r",
      "24it [00:04,  6.70it/s]"
     ]
    },
    {
     "name": "stderr",
     "output_type": "stream",
     "text": [
      "\r",
      "25it [00:04,  6.65it/s]"
     ]
    },
    {
     "name": "stderr",
     "output_type": "stream",
     "text": [
      "\r",
      "26it [00:04,  6.76it/s]"
     ]
    },
    {
     "name": "stderr",
     "output_type": "stream",
     "text": [
      "\r",
      "27it [00:04,  6.55it/s]"
     ]
    },
    {
     "name": "stderr",
     "output_type": "stream",
     "text": [
      "\r",
      "28it [00:05,  6.45it/s]"
     ]
    },
    {
     "name": "stderr",
     "output_type": "stream",
     "text": [
      "\r",
      "29it [00:05,  6.42it/s]"
     ]
    },
    {
     "name": "stderr",
     "output_type": "stream",
     "text": [
      "\r",
      "30it [00:05,  6.46it/s]"
     ]
    },
    {
     "name": "stderr",
     "output_type": "stream",
     "text": [
      "\r",
      "31it [00:05,  6.55it/s]"
     ]
    },
    {
     "name": "stderr",
     "output_type": "stream",
     "text": [
      "\r",
      "32it [00:05,  6.48it/s]"
     ]
    },
    {
     "name": "stderr",
     "output_type": "stream",
     "text": [
      "\r",
      "33it [00:05,  6.40it/s]"
     ]
    },
    {
     "name": "stderr",
     "output_type": "stream",
     "text": [
      "\r",
      "34it [00:05,  6.45it/s]"
     ]
    },
    {
     "name": "stderr",
     "output_type": "stream",
     "text": [
      "\r",
      "35it [00:06,  6.45it/s]"
     ]
    },
    {
     "name": "stderr",
     "output_type": "stream",
     "text": [
      "\r",
      "36it [00:06,  6.49it/s]"
     ]
    },
    {
     "name": "stderr",
     "output_type": "stream",
     "text": [
      "\r",
      "37it [00:06,  6.38it/s]"
     ]
    },
    {
     "name": "stderr",
     "output_type": "stream",
     "text": [
      "\r",
      "38it [00:06,  6.37it/s]"
     ]
    },
    {
     "name": "stderr",
     "output_type": "stream",
     "text": [
      "\r",
      "39it [00:06,  6.46it/s]"
     ]
    },
    {
     "name": "stderr",
     "output_type": "stream",
     "text": [
      "\r",
      "40it [00:06,  6.46it/s]"
     ]
    },
    {
     "name": "stderr",
     "output_type": "stream",
     "text": [
      "\r",
      "41it [00:07,  6.39it/s]"
     ]
    },
    {
     "name": "stderr",
     "output_type": "stream",
     "text": [
      "\r",
      "42it [00:07,  6.26it/s]"
     ]
    },
    {
     "name": "stderr",
     "output_type": "stream",
     "text": [
      "\r",
      "43it [00:07,  6.41it/s]"
     ]
    },
    {
     "name": "stderr",
     "output_type": "stream",
     "text": [
      "\r",
      "44it [00:07,  6.46it/s]"
     ]
    },
    {
     "name": "stderr",
     "output_type": "stream",
     "text": [
      "\r",
      "45it [00:07,  6.50it/s]"
     ]
    },
    {
     "name": "stderr",
     "output_type": "stream",
     "text": [
      "\r",
      "46it [00:07,  6.53it/s]"
     ]
    },
    {
     "name": "stderr",
     "output_type": "stream",
     "text": [
      "\r",
      "47it [00:07,  6.64it/s]"
     ]
    },
    {
     "name": "stderr",
     "output_type": "stream",
     "text": [
      "\r",
      "48it [00:08,  6.65it/s]"
     ]
    },
    {
     "name": "stderr",
     "output_type": "stream",
     "text": [
      "\r",
      "49it [00:08,  6.63it/s]"
     ]
    },
    {
     "name": "stderr",
     "output_type": "stream",
     "text": [
      "\r",
      "50it [00:08,  6.54it/s]"
     ]
    },
    {
     "name": "stderr",
     "output_type": "stream",
     "text": [
      "\r",
      "51it [00:08,  6.54it/s]"
     ]
    },
    {
     "name": "stderr",
     "output_type": "stream",
     "text": [
      "\r",
      "52it [00:08,  6.37it/s]"
     ]
    },
    {
     "name": "stderr",
     "output_type": "stream",
     "text": [
      "\r",
      "53it [00:08,  6.39it/s]"
     ]
    },
    {
     "name": "stderr",
     "output_type": "stream",
     "text": [
      "\r",
      "54it [00:09,  6.33it/s]"
     ]
    },
    {
     "name": "stderr",
     "output_type": "stream",
     "text": [
      "\r",
      "55it [00:09,  6.31it/s]"
     ]
    },
    {
     "name": "stderr",
     "output_type": "stream",
     "text": [
      "\r",
      "56it [00:09,  5.71it/s]"
     ]
    },
    {
     "name": "stderr",
     "output_type": "stream",
     "text": [
      "\r",
      "57it [00:09,  5.62it/s]"
     ]
    },
    {
     "name": "stderr",
     "output_type": "stream",
     "text": [
      "\r",
      "58it [00:09,  5.97it/s]"
     ]
    },
    {
     "name": "stderr",
     "output_type": "stream",
     "text": [
      "\r",
      "59it [00:09,  6.25it/s]"
     ]
    },
    {
     "name": "stderr",
     "output_type": "stream",
     "text": [
      "\r",
      "60it [00:10,  6.46it/s]"
     ]
    },
    {
     "name": "stderr",
     "output_type": "stream",
     "text": [
      "\r",
      "61it [00:10,  6.71it/s]"
     ]
    },
    {
     "name": "stderr",
     "output_type": "stream",
     "text": [
      "\r",
      "62it [00:10,  6.86it/s]"
     ]
    },
    {
     "name": "stderr",
     "output_type": "stream",
     "text": [
      "\r",
      "63it [00:10,  7.03it/s]"
     ]
    },
    {
     "name": "stderr",
     "output_type": "stream",
     "text": [
      "\r",
      "64it [00:10,  7.07it/s]"
     ]
    },
    {
     "name": "stderr",
     "output_type": "stream",
     "text": [
      "\r",
      "65it [00:10,  6.95it/s]"
     ]
    },
    {
     "name": "stderr",
     "output_type": "stream",
     "text": [
      "\r",
      "66it [00:10,  6.95it/s]"
     ]
    },
    {
     "name": "stderr",
     "output_type": "stream",
     "text": [
      "\r",
      "67it [00:11,  7.03it/s]"
     ]
    },
    {
     "name": "stderr",
     "output_type": "stream",
     "text": [
      "\r",
      "68it [00:11,  7.00it/s]"
     ]
    },
    {
     "name": "stderr",
     "output_type": "stream",
     "text": [
      "\r",
      "69it [00:11,  7.05it/s]"
     ]
    },
    {
     "name": "stderr",
     "output_type": "stream",
     "text": [
      "\r",
      "70it [00:11,  7.11it/s]"
     ]
    },
    {
     "name": "stderr",
     "output_type": "stream",
     "text": [
      "\r",
      "71it [00:11,  7.10it/s]"
     ]
    },
    {
     "name": "stderr",
     "output_type": "stream",
     "text": [
      "\r",
      "72it [00:11,  7.08it/s]"
     ]
    },
    {
     "name": "stderr",
     "output_type": "stream",
     "text": [
      "\r",
      "73it [00:11,  7.11it/s]"
     ]
    },
    {
     "name": "stderr",
     "output_type": "stream",
     "text": [
      "\r",
      "74it [00:12,  7.07it/s]"
     ]
    },
    {
     "name": "stderr",
     "output_type": "stream",
     "text": [
      "\r",
      "75it [00:12,  6.97it/s]"
     ]
    },
    {
     "name": "stderr",
     "output_type": "stream",
     "text": [
      "\r",
      "76it [00:12,  6.97it/s]"
     ]
    },
    {
     "name": "stderr",
     "output_type": "stream",
     "text": [
      "\r",
      "77it [00:12,  6.78it/s]"
     ]
    },
    {
     "name": "stderr",
     "output_type": "stream",
     "text": [
      "\r",
      "78it [00:12,  6.77it/s]"
     ]
    },
    {
     "name": "stderr",
     "output_type": "stream",
     "text": [
      "\r",
      "79it [00:12,  7.04it/s]"
     ]
    },
    {
     "name": "stderr",
     "output_type": "stream",
     "text": [
      "\r",
      "80it [00:12,  6.95it/s]"
     ]
    },
    {
     "name": "stderr",
     "output_type": "stream",
     "text": [
      "\r",
      "81it [00:13,  6.90it/s]"
     ]
    },
    {
     "name": "stderr",
     "output_type": "stream",
     "text": [
      "\r",
      "82it [00:13,  6.96it/s]"
     ]
    },
    {
     "name": "stderr",
     "output_type": "stream",
     "text": [
      "\r",
      "83it [00:13,  6.90it/s]"
     ]
    },
    {
     "name": "stderr",
     "output_type": "stream",
     "text": [
      "\r",
      "84it [00:13,  6.95it/s]"
     ]
    },
    {
     "name": "stderr",
     "output_type": "stream",
     "text": [
      "\r",
      "85it [00:13,  7.06it/s]"
     ]
    },
    {
     "name": "stderr",
     "output_type": "stream",
     "text": [
      "\r",
      "86it [00:13,  7.04it/s]"
     ]
    },
    {
     "name": "stderr",
     "output_type": "stream",
     "text": [
      "\r",
      "87it [00:13,  7.17it/s]"
     ]
    },
    {
     "name": "stderr",
     "output_type": "stream",
     "text": [
      "\r",
      "88it [00:14,  7.27it/s]"
     ]
    },
    {
     "name": "stderr",
     "output_type": "stream",
     "text": [
      "\r",
      "89it [00:14,  7.36it/s]"
     ]
    },
    {
     "name": "stderr",
     "output_type": "stream",
     "text": [
      "\r",
      "90it [00:14,  7.26it/s]"
     ]
    },
    {
     "name": "stderr",
     "output_type": "stream",
     "text": [
      "\r",
      "91it [00:14,  7.32it/s]"
     ]
    },
    {
     "name": "stderr",
     "output_type": "stream",
     "text": [
      "\r",
      "92it [00:14,  7.28it/s]"
     ]
    },
    {
     "name": "stderr",
     "output_type": "stream",
     "text": [
      "\r",
      "93it [00:14,  7.28it/s]"
     ]
    },
    {
     "name": "stderr",
     "output_type": "stream",
     "text": [
      "\r",
      "94it [00:14,  7.22it/s]"
     ]
    },
    {
     "name": "stderr",
     "output_type": "stream",
     "text": [
      "\r",
      "95it [00:15,  7.16it/s]"
     ]
    },
    {
     "name": "stderr",
     "output_type": "stream",
     "text": [
      "\r",
      "96it [00:15,  7.17it/s]"
     ]
    },
    {
     "name": "stderr",
     "output_type": "stream",
     "text": [
      "\r",
      "97it [00:15,  7.20it/s]"
     ]
    },
    {
     "name": "stderr",
     "output_type": "stream",
     "text": [
      "\r",
      "98it [00:15,  7.14it/s]"
     ]
    },
    {
     "name": "stderr",
     "output_type": "stream",
     "text": [
      "\r",
      "99it [00:15,  6.83it/s]"
     ]
    },
    {
     "name": "stderr",
     "output_type": "stream",
     "text": [
      "\r",
      "100it [00:15,  6.27it/s]"
     ]
    },
    {
     "name": "stderr",
     "output_type": "stream",
     "text": [
      "\r",
      "101it [00:15,  5.80it/s]"
     ]
    },
    {
     "name": "stderr",
     "output_type": "stream",
     "text": [
      "\r",
      "102it [00:16,  6.12it/s]"
     ]
    },
    {
     "name": "stderr",
     "output_type": "stream",
     "text": [
      "\r",
      "103it [00:16,  6.43it/s]"
     ]
    },
    {
     "name": "stderr",
     "output_type": "stream",
     "text": [
      "\r",
      "104it [00:16,  6.70it/s]"
     ]
    },
    {
     "name": "stderr",
     "output_type": "stream",
     "text": [
      "\r",
      "105it [00:16,  6.99it/s]"
     ]
    },
    {
     "name": "stderr",
     "output_type": "stream",
     "text": [
      "\r",
      "106it [00:16,  7.15it/s]"
     ]
    },
    {
     "name": "stderr",
     "output_type": "stream",
     "text": [
      "\r",
      "107it [00:16,  7.28it/s]"
     ]
    },
    {
     "name": "stderr",
     "output_type": "stream",
     "text": [
      "\r",
      "108it [00:16,  7.37it/s]"
     ]
    },
    {
     "name": "stderr",
     "output_type": "stream",
     "text": [
      "\r",
      "109it [00:17,  7.41it/s]"
     ]
    },
    {
     "name": "stderr",
     "output_type": "stream",
     "text": [
      "\r",
      "110it [00:17,  7.27it/s]"
     ]
    },
    {
     "name": "stderr",
     "output_type": "stream",
     "text": [
      "\r",
      "111it [00:17,  7.29it/s]"
     ]
    },
    {
     "name": "stderr",
     "output_type": "stream",
     "text": [
      "\r",
      "112it [00:17,  7.31it/s]"
     ]
    },
    {
     "name": "stderr",
     "output_type": "stream",
     "text": [
      "\r",
      "113it [00:17,  7.42it/s]"
     ]
    },
    {
     "name": "stderr",
     "output_type": "stream",
     "text": [
      "\r",
      "114it [00:17,  7.63it/s]"
     ]
    },
    {
     "name": "stderr",
     "output_type": "stream",
     "text": [
      "\r",
      "115it [00:17,  7.75it/s]"
     ]
    },
    {
     "name": "stderr",
     "output_type": "stream",
     "text": [
      "\r",
      "116it [00:17,  7.72it/s]"
     ]
    },
    {
     "name": "stderr",
     "output_type": "stream",
     "text": [
      "\r",
      "117it [00:18,  7.85it/s]"
     ]
    },
    {
     "name": "stderr",
     "output_type": "stream",
     "text": [
      "\r",
      "118it [00:18,  7.84it/s]"
     ]
    },
    {
     "name": "stderr",
     "output_type": "stream",
     "text": [
      "\r",
      "119it [00:18,  7.74it/s]"
     ]
    },
    {
     "name": "stderr",
     "output_type": "stream",
     "text": [
      "\r",
      "120it [00:18,  7.83it/s]"
     ]
    },
    {
     "name": "stderr",
     "output_type": "stream",
     "text": [
      "\r",
      "121it [00:18,  7.78it/s]"
     ]
    },
    {
     "name": "stderr",
     "output_type": "stream",
     "text": [
      "\r",
      "122it [00:18,  7.85it/s]"
     ]
    },
    {
     "name": "stderr",
     "output_type": "stream",
     "text": [
      "\r",
      "123it [00:18,  7.92it/s]"
     ]
    },
    {
     "name": "stderr",
     "output_type": "stream",
     "text": [
      "\r",
      "124it [00:18,  7.85it/s]"
     ]
    },
    {
     "name": "stderr",
     "output_type": "stream",
     "text": [
      "\r",
      "125it [00:19,  7.83it/s]"
     ]
    },
    {
     "name": "stderr",
     "output_type": "stream",
     "text": [
      "\r",
      "126it [00:19,  7.62it/s]"
     ]
    },
    {
     "name": "stderr",
     "output_type": "stream",
     "text": [
      "\r",
      "127it [00:19,  7.65it/s]"
     ]
    },
    {
     "name": "stderr",
     "output_type": "stream",
     "text": [
      "\r",
      "128it [00:19,  7.76it/s]"
     ]
    },
    {
     "name": "stderr",
     "output_type": "stream",
     "text": [
      "\r",
      "129it [00:19,  7.70it/s]"
     ]
    },
    {
     "name": "stderr",
     "output_type": "stream",
     "text": [
      "\r",
      "130it [00:19,  7.60it/s]"
     ]
    },
    {
     "name": "stderr",
     "output_type": "stream",
     "text": [
      "\r",
      "131it [00:19,  7.10it/s]"
     ]
    },
    {
     "name": "stderr",
     "output_type": "stream",
     "text": [
      "\r",
      "132it [00:20,  7.31it/s]"
     ]
    },
    {
     "name": "stderr",
     "output_type": "stream",
     "text": [
      "\r",
      "132it [00:20,  6.57it/s]"
     ]
    },
    {
     "name": "stderr",
     "output_type": "stream",
     "text": [
      "\n"
     ]
    }
   ],
   "source": [
    "in_token_probs = []\n",
    "latent_token_probs = []\n",
    "out_token_probs = []\n",
    "entropy = []\n",
    "energy = []\n",
    "latents_all = []\n",
    "\n",
    "for idx, d in tqdm(enumerate(dataset)):\n",
    "    logits,latents = get_logits(llama, d['prompt'],llama_lens)\n",
    "    last = logits[:, -1, :].float().softmax(dim=-1).detach().cpu()\n",
    "    latent_token_probs += [last[:, torch.tensor(d['latent_token_id'])].sum(dim=-1)]\n",
    "    out_token_probs += [last[:, torch.tensor(d['out_token_id'])].sum(dim=-1)]\n",
    "    entropy += [compute_entropy(last)]\n",
    "    latents_all += [latents[:, -1, :].float().detach().cpu().clone()]\n",
    "    latents_normalized = latents[:, -1, :].float()\n",
    "    latents_normalized = latents_normalized / (((latents_normalized**2).mean(dim=-1, keepdim=True))**0.5)\n",
    "    latents_normalized /= (latents_normalized.norm(dim=-1, keepdim=True))\n",
    "    norm = ((U_normalized @ latents_normalized.T)**2).mean(dim=0)**0.5\n",
    "    energy += [norm/avgUU]\n",
    "\n",
    "latent_token_probs = torch.stack(latent_token_probs)\n",
    "out_token_probs = torch.stack(out_token_probs)\n",
    "entropy = torch.stack(entropy)\n",
    "energy = torch.stack(energy)\n",
    "latents = torch.stack(latents_all)"
   ]
  },
  {
   "cell_type": "code",
   "execution_count": 19,
   "id": "680ef0b2",
   "metadata": {
    "execution": {
     "iopub.execute_input": "2024-02-23T22:31:02.118636Z",
     "iopub.status.busy": "2024-02-23T22:31:02.118324Z",
     "iopub.status.idle": "2024-02-23T22:31:02.454223Z",
     "shell.execute_reply": "2024-02-23T22:31:02.453796Z"
    },
    "papermill": {
     "duration": 0.35734,
     "end_time": "2024-02-23T22:31:02.455144",
     "exception": false,
     "start_time": "2024-02-23T22:31:02.097804",
     "status": "completed"
    },
    "tags": []
   },
   "outputs": [
    {
     "name": "stderr",
     "output_type": "stream",
     "text": [
      "/mnt/ssd-1/gpaulo/llm-latent-language/utils.py:52: UserWarning: This figure includes Axes that are not compatible with tight_layout, so results might be incorrect.\n",
      "  plt.tight_layout()\n"
     ]
    },
    {
     "data": {
      "image/png": "[encoded data removed]",
      "text/plain": [
       "<Figure size 500x300 with 3 Axes>"
      ]
     },
     "metadata": {},
     "output_type": "display_data"
    }
   ],
   "source": [
    "size2tik = {'7b': 5, '13b': 5, '70b': 10}\n",
    "fig, ax, ax2 = plot_ci_plus_heatmap(latent_token_probs, entropy, latent, color='tab:orange', tik_step=size2tik[model_size], do_colorbar=True, #, do_colorbar=(model_size=='70b'),\n",
    "nums=[.99, 0.18, 0.025, 0.6])\n",
    "plot_ci(ax2, out_token_probs, target_lang, color='tab:blue', do_lines=False)\n",
    "ax2.set_xlabel('layer')\n",
    "ax2.set_ylabel('probability')\n",
    "if model_size == '7b':\n",
    "    ax2.set_xlim(0, out_token_probs.shape[1]+1)\n",
    "else:\n",
    "    ax2.set_xlim(0, round(out_token_probs.shape[1]/10)*10+1)\n",
    "ax2.set_ylim(0, 1)\n",
    "# make xticks start from 1\n",
    "# put legend on the top left\n",
    "ax2.legend(loc='upper left')\n",
    "os.makedirs(f'{out_dir}/translation', exist_ok=True)\n",
    "\n",
    "plt.savefig(f'{out_dir}/translation/{model_size}_{input_lang}_{target_lang}_probas_ent.jpg', dpi=300, bbox_inches='tight')"
   ]
  },
  {
   "cell_type": "code",
   "execution_count": 20,
   "id": "48c50e4a",
   "metadata": {
    "execution": {
     "iopub.execute_input": "2024-02-23T22:31:02.487704Z",
     "iopub.status.busy": "2024-02-23T22:31:02.487550Z",
     "iopub.status.idle": "2024-02-23T22:31:02.647922Z",
     "shell.execute_reply": "2024-02-23T22:31:02.647578Z"
    },
    "papermill": {
     "duration": 0.179204,
     "end_time": "2024-02-23T22:31:02.649423",
     "exception": false,
     "start_time": "2024-02-23T22:31:02.470219",
     "status": "completed"
    },
    "tags": []
   },
   "outputs": [
    {
     "data": {
      "image/png": "[encoded data removed]",
      "text/plain": [
       "<Figure size 500x300 with 1 Axes>"
      ]
     },
     "metadata": {},
     "output_type": "display_data"
    }
   ],
   "source": [
    "size2tik = {'7b': 5, '13b': 5, '70b': 10}\n",
    "\n",
    "fig, ax2 = plt.subplots(figsize=(5,3))\n",
    "plot_ci(ax2, energy, 'energy', color='tab:green', do_lines=True, tik_step=size2tik[model_size])\n",
    "ax2.set_xlabel('layer')\n",
    "ax2.set_ylabel('energy')\n",
    "if model_size == '7b':\n",
    "    ax2.set_xlim(0, out_token_probs.shape[1]+1)\n",
    "else:\n",
    "    ax2.set_xlim(0, round(out_token_probs.shape[1]/10)*10+1)\n",
    "os.makedirs(f'{out_dir}/translation', exist_ok=True)\n",
    "plt.savefig(f'{out_dir}/translation/{model_size}_{input_lang}_{target_lang}_energy.jpg', dpi=300, bbox_inches='tight')"
   ]
  },
  {
   "cell_type": "code",
   "execution_count": null,
   "id": "de0f66f1",
   "metadata": {
    "papermill": {
     "duration": 0.01407,
     "end_time": "2024-02-23T22:31:02.680766",
     "exception": false,
     "start_time": "2024-02-23T22:31:02.666696",
     "status": "completed"
    },
    "tags": []
   },
   "outputs": [],
   "source": []
  }
 ],
 "metadata": {
  "kernelspec": {
   "display_name": "Python 3 (ipykernel)",
   "language": "python",
   "name": "python3"
  },
  "language_info": {
   "codemirror_mode": {
    "name": "ipython",
    "version": 3
   },
   "file_extension": ".py",
   "mimetype": "text/x-python",
   "name": "python",
   "nbconvert_exporter": "python",
   "pygments_lexer": "ipython3",
   "version": "3.11.5"
  },
  "papermill": {
   "default_parameters": {},
   "duration": 54.62955,
   "end_time": "2024-02-23T22:31:03.913754",
   "environment_variables": {},
   "exception": null,
   "input_path": "Translation.ipynb",
   "output_path": "visuals/executed_notebooks/Translation_tuned-chinese_7b_zh_en.ipynb",
   "parameters": {
    "input_lang": "zh",
    "model_size": "7b",
    "target_lang": "en",
    "type": "tuned-chinese"
   },
   "start_time": "2024-02-23T22:30:09.284204",
   "version": "2.5.0"
  },
  "widgets": {
   "application/vnd.jupyter.widget-state+json": {
    "state": {
     "2d085341ccaf4532886cd7890e891c7c": {
      "model_module": "@jupyter-widgets/controls",
      "model_module_version": "2.0.0",
      "model_name": "HTMLModel",
      "state": {
       "_dom_classes": [],
       "_model_module": "@jupyter-widgets/controls",
       "_model_module_version": "2.0.0",
       "_model_name": "HTMLModel",
       "_view_count": null,
       "_view_module": "@jupyter-widgets/controls",
       "_view_module_version": "2.0.0",
       "_view_name": "HTMLView",
       "description": "",
       "description_allow_html": false,
       "layout": "IPY_MODEL_6241b10199464d87ac7e8cdcac8c2687",
       "placeholder": "​",
       "style": "IPY_MODEL_78ca1316cf5d4d549da2714bca7daf59",
       "tabbable": null,
       "tooltip": null,
       "value": " 2/2 [00:04&lt;00:00,  1.92s/it]"
      }
     },
     "2f7fd14717c3476f9fb78ef8a107d631": {
      "model_module": "@jupyter-widgets/controls",
      "model_module_version": "2.0.0",
      "model_name": "ProgressStyleModel",
      "state": {
       "_model_module": "@jupyter-widgets/controls",
       "_model_module_version": "2.0.0",
       "_model_name": "ProgressStyleModel",
       "_view_count": null,
       "_view_module": "@jupyter-widgets/base",
       "_view_module_version": "2.0.0",
       "_view_name": "StyleView",
       "bar_color": null,
       "description_width": ""
      }
     },
     "4adf46280d144e8c88a4a142f5baf19d": {
      "model_module": "@jupyter-widgets/controls",
      "model_module_version": "2.0.0",
      "model_name": "HTMLStyleModel",
      "state": {
       "_model_module": "@jupyter-widgets/controls",
       "_model_module_version": "2.0.0",
       "_model_name": "HTMLStyleModel",
       "_view_count": null,
       "_view_module": "@jupyter-widgets/base",
       "_view_module_version": "2.0.0",
       "_view_name": "StyleView",
       "background": null,
       "description_width": "",
       "font_size": null,
       "text_color": null
      }
     },
     "4aed69edd3b245b5b870d6d3258b99b9": {
      "model_module": "@jupyter-widgets/controls",
      "model_module_version": "2.0.0",
      "model_name": "FloatProgressModel",
      "state": {
       "_dom_classes": [],
       "_model_module": "@jupyter-widgets/controls",
       "_model_module_version": "2.0.0",
       "_model_name": "FloatProgressModel",
       "_view_count": null,
       "_view_module": "@jupyter-widgets/controls",
       "_view_module_version": "2.0.0",
       "_view_name": "ProgressView",
       "bar_style": "success",
       "description": "",
       "description_allow_html": false,
       "layout": "IPY_MODEL_d42ee09a61eb4393b83f9b33f62b3674",
       "max": 2.0,
       "min": 0.0,
       "orientation": "horizontal",
       "style": "IPY_MODEL_2f7fd14717c3476f9fb78ef8a107d631",
       "tabbable": null,
       "tooltip": null,
       "value": 2.0
      }
     },
     "6241b10199464d87ac7e8cdcac8c2687": {
      "model_module": "@jupyter-widgets/base",
      "model_module_version": "2.0.0",
      "model_name": "LayoutModel",
      "state": {
       "_model_module": "@jupyter-widgets/base",
       "_model_module_version": "2.0.0",
       "_model_name": "LayoutModel",
       "_view_count": null,
       "_view_module": "@jupyter-widgets/base",
       "_view_module_version": "2.0.0",
       "_view_name": "LayoutView",
       "align_content": null,
       "align_items": null,
       "align_self": null,
       "border_bottom": null,
       "border_left": null,
       "border_right": null,
       "border_top": null,
       "bottom": null,
       "display": null,
       "flex": null,
       "flex_flow": null,
       "grid_area": null,
       "grid_auto_columns": null,
       "grid_auto_flow": null,
       "grid_auto_rows": null,
       "grid_column": null,
       "grid_gap": null,
       "grid_row": null,
       "grid_template_areas": null,
       "grid_template_columns": null,
       "grid_template_rows": null,
       "height": null,
       "justify_content": null,
       "justify_items": null,
       "left": null,
       "margin": null,
       "max_height": null,
       "max_width": null,
       "min_height": null,
       "min_width": null,
       "object_fit": null,
       "object_position": null,
       "order": null,
       "overflow": null,
       "padding": null,
       "right": null,
       "top": null,
       "visibility": null,
       "width": null
      }
     },
     "78ca1316cf5d4d549da2714bca7daf59": {
      "model_module": "@jupyter-widgets/controls",
      "model_module_version": "2.0.0",
      "model_name": "HTMLStyleModel",
      "state": {
       "_model_module": "@jupyter-widgets/controls",
       "_model_module_version": "2.0.0",
       "_model_name": "HTMLStyleModel",
       "_view_count": null,
       "_view_module": "@jupyter-widgets/base",
       "_view_module_version": "2.0.0",
       "_view_name": "StyleView",
       "background": null,
       "description_width": "",
       "font_size": null,
       "text_color": null
      }
     },
     "7e1979ab7dfa42e9b60aa5deba694059": {
      "model_module": "@jupyter-widgets/base",
      "model_module_version": "2.0.0",
      "model_name": "LayoutModel",
      "state": {
       "_model_module": "@jupyter-widgets/base",
       "_model_module_version": "2.0.0",
       "_model_name": "LayoutModel",
       "_view_count": null,
       "_view_module": "@jupyter-widgets/base",
       "_view_module_version": "2.0.0",
       "_view_name": "LayoutView",
       "align_content": null,
       "align_items": null,
       "align_self": null,
       "border_bottom": null,
       "border_left": null,
       "border_right": null,
       "border_top": null,
       "bottom": null,
       "display": null,
       "flex": null,
       "flex_flow": null,
       "grid_area": null,
       "grid_auto_columns": null,
       "grid_auto_flow": null,
       "grid_auto_rows": null,
       "grid_column": null,
       "grid_gap": null,
       "grid_row": null,
       "grid_template_areas": null,
       "grid_template_columns": null,
       "grid_template_rows": null,
       "height": null,
       "justify_content": null,
       "justify_items": null,
       "left": null,
       "margin": null,
       "max_height": null,
       "max_width": null,
       "min_height": null,
       "min_width": null,
       "object_fit": null,
       "object_position": null,
       "order": null,
       "overflow": null,
       "padding": null,
       "right": null,
       "top": null,
       "visibility": null,
       "width": null
      }
     },
     "ca6fb8c96b3f45bbbe7d202bf5dbb890": {
      "model_module": "@jupyter-widgets/controls",
      "model_module_version": "2.0.0",
      "model_name": "HTMLModel",
      "state": {
       "_dom_classes": [],
       "_model_module": "@jupyter-widgets/controls",
       "_model_module_version": "2.0.0",
       "_model_name": "HTMLModel",
       "_view_count": null,
       "_view_module": "@jupyter-widgets/controls",
       "_view_module_version": "2.0.0",
       "_view_name": "HTMLView",
       "description": "",
       "description_allow_html": false,
       "layout": "IPY_MODEL_7e1979ab7dfa42e9b60aa5deba694059",
       "placeholder": "​",
       "style": "IPY_MODEL_4adf46280d144e8c88a4a142f5baf19d",
       "tabbable": null,
       "tooltip": null,
       "value": "Loading checkpoint shards: 100%"
      }
     },
     "d2604f6cb6cc434c934ffed998d17075": {
      "model_module": "@jupyter-widgets/base",
      "model_module_version": "2.0.0",
      "model_name": "LayoutModel",
      "state": {
       "_model_module": "@jupyter-widgets/base",
       "_model_module_version": "2.0.0",
       "_model_name": "LayoutModel",
       "_view_count": null,
       "_view_module": "@jupyter-widgets/base",
       "_view_module_version": "2.0.0",
       "_view_name": "LayoutView",
       "align_content": null,
       "align_items": null,
       "align_self": null,
       "border_bottom": null,
       "border_left": null,
       "border_right": null,
       "border_top": null,
       "bottom": null,
       "display": null,
       "flex": null,
       "flex_flow": null,
       "grid_area": null,
       "grid_auto_columns": null,
       "grid_auto_flow": null,
       "grid_auto_rows": null,
       "grid_column": null,
       "grid_gap": null,
       "grid_row": null,
       "grid_template_areas": null,
       "grid_template_columns": null,
       "grid_template_rows": null,
       "height": null,
       "justify_content": null,
       "justify_items": null,
       "left": null,
       "margin": null,
       "max_height": null,
       "max_width": null,
       "min_height": null,
       "min_width": null,
       "object_fit": null,
       "object_position": null,
       "order": null,
       "overflow": null,
       "padding": null,
       "right": null,
       "top": null,
       "visibility": null,
       "width": null
      }
     },
     "d42ee09a61eb4393b83f9b33f62b3674": {
      "model_module": "@jupyter-widgets/base",
      "model_module_version": "2.0.0",
      "model_name": "LayoutModel",
      "state": {
       "_model_module": "@jupyter-widgets/base",
       "_model_module_version": "2.0.0",
       "_model_name": "LayoutModel",
       "_view_count": null,
       "_view_module": "@jupyter-widgets/base",
       "_view_module_version": "2.0.0",
       "_view_name": "LayoutView",
       "align_content": null,
       "align_items": null,
       "align_self": null,
       "border_bottom": null,
       "border_left": null,
       "border_right": null,
       "border_top": null,
       "bottom": null,
       "display": null,
       "flex": null,
       "flex_flow": null,
       "grid_area": null,
       "grid_auto_columns": null,
       "grid_auto_flow": null,
       "grid_auto_rows": null,
       "grid_column": null,
       "grid_gap": null,
       "grid_row": null,
       "grid_template_areas": null,
       "grid_template_columns": null,
       "grid_template_rows": null,
       "height": null,
       "justify_content": null,
       "justify_items": null,
       "left": null,
       "margin": null,
       "max_height": null,
       "max_width": null,
       "min_height": null,
       "min_width": null,
       "object_fit": null,
       "object_position": null,
       "order": null,
       "overflow": null,
       "padding": null,
       "right": null,
       "top": null,
       "visibility": null,
       "width": null
      }
     },
     "fa70794b4e2246b6a9c13dfcc57b0c22": {
      "model_module": "@jupyter-widgets/controls",
      "model_module_version": "2.0.0",
      "model_name": "HBoxModel",
      "state": {
       "_dom_classes": [],
       "_model_module": "@jupyter-widgets/controls",
       "_model_module_version": "2.0.0",
       "_model_name": "HBoxModel",
       "_view_count": null,
       "_view_module": "@jupyter-widgets/controls",
       "_view_module_version": "2.0.0",
       "_view_name": "HBoxView",
       "box_style": "",
       "children": [
        "IPY_MODEL_ca6fb8c96b3f45bbbe7d202bf5dbb890",
        "IPY_MODEL_4aed69edd3b245b5b870d6d3258b99b9",
        "IPY_MODEL_2d085341ccaf4532886cd7890e891c7c"
       ],
       "layout": "IPY_MODEL_d2604f6cb6cc434c934ffed998d17075",
       "tabbable": null,
       "tooltip": null
      }
     }
    },
    "version_major": 2,
    "version_minor": 0
   }
  }
 },
 "nbformat": 4,
 "nbformat_minor": 5
}