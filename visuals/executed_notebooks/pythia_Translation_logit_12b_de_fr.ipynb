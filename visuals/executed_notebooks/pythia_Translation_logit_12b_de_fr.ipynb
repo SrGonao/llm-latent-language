{
 "cells": [
  {
   "cell_type": "code",
   "execution_count": 1,
   "id": "9e266eca-b017-461f-9be4-bec02cae9b28",
   "metadata": {
    "execution": {
     "iopub.execute_input": "2024-03-02T15:40:47.432560Z",
     "iopub.status.busy": "2024-03-02T15:40:47.432204Z",
     "iopub.status.idle": "2024-03-02T15:40:47.450489Z",
     "shell.execute_reply": "2024-03-02T15:40:47.450093Z"
    },
    "papermill": {
     "duration": 0.024824,
     "end_time": "2024-03-02T15:40:47.451574",
     "exception": false,
     "start_time": "2024-03-02T15:40:47.426750",
     "status": "completed"
    },
    "tags": []
   },
   "outputs": [],
   "source": [
    "%load_ext autoreload\n",
    "%autoreload 2"
   ]
  },
  {
   "cell_type": "code",
   "execution_count": 2,
   "id": "fae8a7a9-6902-424e-8e66-b107fccb361f",
   "metadata": {
    "execution": {
     "iopub.execute_input": "2024-03-02T15:40:47.458843Z",
     "iopub.status.busy": "2024-03-02T15:40:47.458565Z",
     "iopub.status.idle": "2024-03-02T15:40:50.477507Z",
     "shell.execute_reply": "2024-03-02T15:40:50.476654Z"
    },
    "papermill": {
     "duration": 3.024253,
     "end_time": "2024-03-02T15:40:50.479234",
     "exception": false,
     "start_time": "2024-03-02T15:40:47.454981",
     "status": "completed"
    },
    "tags": []
   },
   "outputs": [
    {
     "name": "stderr",
     "output_type": "stream",
     "text": [
      "/mnt/ssd-1/gpaulo/miniconda3/envs/default/lib/python3.10/site-packages/tqdm/auto.py:21: TqdmWarning: IProgress not found. Please update jupyter and ipywidgets. See https://ipywidgets.readthedocs.io/en/stable/user_install.html\n",
      "  from .autonotebook import tqdm as notebook_tqdm\n"
     ]
    }
   ],
   "source": [
    "import pandas as pd\n",
    "import sys\n",
    "import os\n",
    "from dataclasses import dataclass\n",
    "import json\n",
    "import numpy as np\n",
    "from matplotlib import pyplot as plt\n",
    "import seaborn as sns\n",
    "import torch\n",
    "import torch.nn as nn\n",
    "import seaborn as sns\n",
    "from scipy.stats import bootstrap\n",
    "from utils import plot_ci, plot_ci_plus_heatmap\n",
    "from tqdm import tqdm\n",
    "from transformers import AutoModelForCausalLM, AutoTokenizer\n",
    "# fix random seed\n",
    "seed = 42\n",
    "np.random.seed(seed)\n",
    "torch.manual_seed(seed)\n",
    "sys.path.append('../tuned-lens')\n",
    "from tuned_lens.nn.lenses import TunedLens,LogitLens"
   ]
  },
  {
   "cell_type": "code",
   "execution_count": 3,
   "id": "1fb93987",
   "metadata": {
    "execution": {
     "iopub.execute_input": "2024-03-02T15:40:50.487585Z",
     "iopub.status.busy": "2024-03-02T15:40:50.487222Z",
     "iopub.status.idle": "2024-03-02T15:40:50.522242Z",
     "shell.execute_reply": "2024-03-02T15:40:50.521496Z"
    },
    "papermill": {
     "duration": 0.040324,
     "end_time": "2024-03-02T15:40:50.523611",
     "exception": false,
     "start_time": "2024-03-02T15:40:50.483287",
     "status": "completed"
    },
    "tags": [
     "parameters"
    ]
   },
   "outputs": [],
   "source": [
    "input_lang = 'zh'\n",
    "target_lang = 'zh'\n",
    "model_size = '12b'\n",
    "prefix = \"./data/langs/\"\n",
    "type = 'tuned'\n"
   ]
  },
  {
   "cell_type": "code",
   "execution_count": 4,
   "id": "01327396",
   "metadata": {
    "execution": {
     "iopub.execute_input": "2024-03-02T15:40:50.531591Z",
     "iopub.status.busy": "2024-03-02T15:40:50.531155Z",
     "iopub.status.idle": "2024-03-02T15:40:50.566578Z",
     "shell.execute_reply": "2024-03-02T15:40:50.565922Z"
    },
    "papermill": {
     "duration": 0.040532,
     "end_time": "2024-03-02T15:40:50.567811",
     "exception": false,
     "start_time": "2024-03-02T15:40:50.527279",
     "status": "completed"
    },
    "tags": [
     "injected-parameters"
    ]
   },
   "outputs": [],
   "source": [
    "# Parameters\n",
    "model_size = \"12b\"\n",
    "target_lang = \"fr\"\n",
    "input_lang = \"de\"\n",
    "type = \"logit\"\n"
   ]
  },
  {
   "cell_type": "code",
   "execution_count": 5,
   "id": "ccb0899b",
   "metadata": {
    "execution": {
     "iopub.execute_input": "2024-03-02T15:40:50.575300Z",
     "iopub.status.busy": "2024-03-02T15:40:50.574831Z",
     "iopub.status.idle": "2024-03-02T15:40:50.616150Z",
     "shell.execute_reply": "2024-03-02T15:40:50.615307Z"
    },
    "papermill": {
     "duration": 0.046798,
     "end_time": "2024-03-02T15:40:50.618066",
     "exception": false,
     "start_time": "2024-03-02T15:40:50.571268",
     "status": "completed"
    },
    "tags": []
   },
   "outputs": [],
   "source": [
    "df_en_input = pd.read_csv(f'{prefix}{input_lang}/clean.csv').reindex()\n",
    "df_en_target = pd.read_csv(f'{prefix}{target_lang}/clean.csv').reindex()"
   ]
  },
  {
   "cell_type": "code",
   "execution_count": 6,
   "id": "33747213",
   "metadata": {
    "execution": {
     "iopub.execute_input": "2024-03-02T15:40:50.626214Z",
     "iopub.status.busy": "2024-03-02T15:40:50.625560Z",
     "iopub.status.idle": "2024-03-02T15:40:55.209062Z",
     "shell.execute_reply": "2024-03-02T15:40:55.208232Z"
    },
    "papermill": {
     "duration": 4.5889,
     "end_time": "2024-03-02T15:40:55.210629",
     "exception": false,
     "start_time": "2024-03-02T15:40:50.621729",
     "status": "completed"
    },
    "tags": []
   },
   "outputs": [
    {
     "name": "stderr",
     "output_type": "stream",
     "text": [
      "\r",
      "Loading checkpoint shards:   0%|                                                                                                                                                                              | 0/3 [00:00<?, ?it/s]"
     ]
    },
    {
     "name": "stderr",
     "output_type": "stream",
     "text": [
      "\r",
      "Loading checkpoint shards:  33%|███████████████████████████████████████████████████████▎                                                                                                              | 1/3 [00:01<00:03,  1.75s/it]"
     ]
    },
    {
     "name": "stderr",
     "output_type": "stream",
     "text": [
      "\r",
      "Loading checkpoint shards:  67%|██████████████████████████████████████████████████████████████████████████████████████████████████████████████▋                                                       | 2/3 [00:03<00:01,  1.66s/it]"
     ]
    },
    {
     "name": "stderr",
     "output_type": "stream",
     "text": [
      "\r",
      "Loading checkpoint shards: 100%|██████████████████████████████████████████████████████████████████████████████████████████████████████████████████████████████████████████████████████████████████████| 3/3 [00:04<00:00,  1.21s/it]"
     ]
    },
    {
     "name": "stderr",
     "output_type": "stream",
     "text": [
      "\r",
      "Loading checkpoint shards: 100%|██████████████████████████████████████████████████████████████████████████████████████████████████████████████████████████████████████████████████████████████████████| 3/3 [00:04<00:00,  1.34s/it]"
     ]
    },
    {
     "name": "stderr",
     "output_type": "stream",
     "text": [
      "\n"
     ]
    },
    {
     "name": "stderr",
     "output_type": "stream",
     "text": [
      "Special tokens have been added in the vocabulary, make sure the associated word embeddings are fine-tuned or trained.\n"
     ]
    }
   ],
   "source": [
    "pythia = AutoModelForCausalLM.from_pretrained(  # type: ignore\n",
    "                f\"EleutherAI/pythia-{model_size}\",\n",
    "                device_map={\"\": \"cuda:0\"},\n",
    "                revision=\"main\",\n",
    "                torch_dtype=\"auto\",\n",
    "            )\n",
    "\n",
    "    \n",
    "latent=\"en\"\n",
    "if type == 'logit':\n",
    "    pythia_lens = LogitLens.from_model(pythia).to(\"cuda\")\n",
    "    out_dir = f'./visuals/logit'\n",
    "if type == 'tuned':\n",
    "    pythia_lens = TunedLens.from_model_and_pretrained(pythia,f\"EleutherAI/pythia-{model_size}-deduped\").to(\"cuda\")\n",
    "    out_dir = f'./visuals/tuned'\n",
    "tokenizer = AutoTokenizer.from_pretrained(\n",
    "                f\"EleutherAI/pythia-{model_size}\"\n",
    "            )"
   ]
  },
  {
   "cell_type": "code",
   "execution_count": 7,
   "id": "bc45e052",
   "metadata": {
    "execution": {
     "iopub.execute_input": "2024-03-02T15:40:55.219760Z",
     "iopub.status.busy": "2024-03-02T15:40:55.219121Z",
     "iopub.status.idle": "2024-03-02T15:40:57.839265Z",
     "shell.execute_reply": "2024-03-02T15:40:57.837670Z"
    },
    "papermill": {
     "duration": 2.625451,
     "end_time": "2024-03-02T15:40:57.840470",
     "exception": false,
     "start_time": "2024-03-02T15:40:55.215019",
     "status": "completed"
    },
    "tags": []
   },
   "outputs": [
    {
     "name": "stdout",
     "output_type": "stream",
     "text": [
      "Sequential(\n",
      "  (0): LayerNorm((5120,), eps=1e-05, elementwise_affine=True)\n",
      "  (1): Linear(in_features=5120, out_features=50688, bias=False)\n",
      ")\n"
     ]
    },
    {
     "name": "stdout",
     "output_type": "stream",
     "text": [
      "U torch.Size([50688, 5120]) weights torch.Size([1, 5120])\n"
     ]
    },
    {
     "name": "stdout",
     "output_type": "stream",
     "text": [
      "0.03080214373767376\n"
     ]
    }
   ],
   "source": [
    "unemb = nn.Sequential(pythia.gpt_neox.final_layer_norm, pythia.embed_out)\n",
    "print(unemb)\n",
    "# prepare for energy plots\n",
    "U = list(unemb[1].parameters())[0].detach().cpu().float()\n",
    "weights = list(unemb[0].parameters())[0].detach().cpu().float()\n",
    "print(f'U {U.shape} weights {weights.unsqueeze(0).shape}')\n",
    "U_weighted = U.clone() \n",
    "#U_weighted = U_weighted / ((U_weighted**2).mean(dim=1, keepdim=True))**0.5\n",
    "U_weighted *= weights.unsqueeze(0)\n",
    "U_normalized = U_weighted / ((U_weighted**2).sum(dim=1, keepdim=True))**0.5\n",
    "v = U.shape[0]\n",
    "TT = U_normalized.T @ U_normalized\n",
    "avgUU = (((U_normalized.T @ U_normalized)**2).sum() / v**2)**0.5\n",
    "print(avgUU.item())"
   ]
  },
  {
   "cell_type": "code",
   "execution_count": 8,
   "id": "5686a8d5",
   "metadata": {
    "execution": {
     "iopub.execute_input": "2024-03-02T15:40:57.852144Z",
     "iopub.status.busy": "2024-03-02T15:40:57.851678Z",
     "iopub.status.idle": "2024-03-02T15:41:00.276871Z",
     "shell.execute_reply": "2024-03-02T15:41:00.276193Z"
    },
    "papermill": {
     "duration": 2.433241,
     "end_time": "2024-03-02T15:41:00.278652",
     "exception": false,
     "start_time": "2024-03-02T15:40:57.845411",
     "status": "completed"
    },
    "tags": []
   },
   "outputs": [
    {
     "name": "stdout",
     "output_type": "stream",
     "text": [
      "for fr 28 of 118 are single tokens\n",
      "final length of df_en_fr_de: 94\n"
     ]
    }
   ],
   "source": [
    "count = 0\n",
    "for idx, word in enumerate(df_en_target['word_translation']):\n",
    "    if word in tokenizer.get_vocab() or '▁'+word in tokenizer.get_vocab():\n",
    "        count += 1\n",
    "\n",
    "print(f'for {target_lang} {count} of {len(df_en_target)} are single tokens')\n",
    "\n",
    "if input_lang == target_lang:\n",
    "    df_en_target_input = df_en_target.copy()\n",
    "    if latent == 'zh':\n",
    "      df_en_target_input = df_en_target.copy()\n",
    "      chinese = chinese.loc[chinese[\"word_original\"].isin(df_en_input[\"word_original\"])]\n",
    "      df_en_target_input= df_en_target_input.loc[df_en_target_input[\"word_original\"].isin(chinese[\"word_original\"])]\n",
    "      chinese.sort_values(by=\"word_original\", inplace=True)\n",
    "      df_en_target_input.sort_values(by=\"word_original\", inplace=True)\n",
    "      chinese.reset_index(drop=True, inplace=True)\n",
    "      df_en_target_input.reset_index(drop=True, inplace=True)\n",
    "      df_en_target_input[\"word_original\"] = chinese[\"word_translation\"]\n",
    "    df_en_target_input.rename(columns={'word_original': latent, \n",
    "                                f'word_translation': target_lang if target_lang != latent else f'{latent}_tgt'}, \n",
    "                                inplace=True)\n",
    "    \n",
    "else:\n",
    "    df_en_target_input = df_en_target.merge(df_en_input, on=['word_original'], suffixes=(f'_{target_lang}', f'_{input_lang}'))\n",
    "    if latent == 'zh':\n",
    "      chinese = chinese.loc[chinese[\"word_original\"].isin(df_en_target_input[\"word_original\"])]\n",
    "      df_en_target_input= df_en_target_input.loc[df_en_target_input[\"word_original\"].isin(chinese[\"word_original\"])]\n",
    "      chinese.sort_values(by=\"word_original\", inplace=True)\n",
    "      df_en_target_input.sort_values(by=\"word_original\", inplace=True)\n",
    "      chinese.reset_index(drop=True, inplace=True)\n",
    "      df_en_target_input.reset_index(drop=True, inplace=True)\n",
    "      df_en_target_input[\"word_original\"] = chinese[\"word_translation\"]\n",
    "\n",
    "    df_en_target_input.rename(columns={'word_original': latent, \n",
    "                                f'word_translation_{target_lang}': target_lang if target_lang != latent else f'{latent}_tgt', \n",
    "                                f'word_translation_{input_lang}': input_lang if input_lang != latent else f'{latent}_in'}, \n",
    "                                inplace=True)\n",
    "# delete all rows where en is contained in de or fr\n",
    "if target_lang != latent:\n",
    "    for i, row in df_en_target_input.iterrows():\n",
    "        if row[latent].lower() in row[target_lang].lower():\n",
    "            df_en_target_input.drop(i, inplace=True)\n",
    "\n",
    "print(f'final length of df_{latent}_{target_lang}_{input_lang}: {len(df_en_target_input)}')"
   ]
  },
  {
   "cell_type": "code",
   "execution_count": 9,
   "id": "f0c0a52d",
   "metadata": {
    "execution": {
     "iopub.execute_input": "2024-03-02T15:41:00.288607Z",
     "iopub.status.busy": "2024-03-02T15:41:00.288374Z",
     "iopub.status.idle": "2024-03-02T15:41:00.328494Z",
     "shell.execute_reply": "2024-03-02T15:41:00.327972Z"
    },
    "papermill": {
     "duration": 0.045655,
     "end_time": "2024-03-02T15:41:00.329616",
     "exception": false,
     "start_time": "2024-03-02T15:41:00.283961",
     "status": "completed"
    },
    "tags": []
   },
   "outputs": [],
   "source": [
    "def token_prefixes(token_str: str):\n",
    "    n = len(token_str)\n",
    "    tokens = [token_str[:i] for i in range(1, n+1)]\n",
    "    return tokens \n",
    "\n",
    "def add_spaces(tokens):\n",
    "    return ['▁' + t for t in tokens] + tokens\n",
    "\n",
    "def capitalizations(tokens):\n",
    "    return list(set(tokens))\n",
    "\n",
    "def unicode_prefix_tokid(zh_char = \"云\", tokenizer=tokenizer):\n",
    "    start = zh_char.encode().__str__()[2:-1].split('\\\\x')[1]\n",
    "    unicode_format = '<0x%s>'\n",
    "    start_key = unicode_format%start.upper()\n",
    "    if start_key in tokenizer.get_vocab():\n",
    "        return tokenizer.get_vocab()[start_key]\n",
    "    return None\n",
    "\n",
    "def process_tokens(token_str: str, tokenizer, lang):\n",
    "    with_prefixes = token_prefixes(token_str)\n",
    "    with_spaces = add_spaces(with_prefixes)\n",
    "    with_capitalizations = capitalizations(with_spaces)\n",
    "    final_tokens = []\n",
    "    for tok in with_capitalizations:\n",
    "        if tok in tokenizer.get_vocab():\n",
    "            final_tokens.append(tokenizer.get_vocab()[tok])\n",
    "    if lang in ['zh', 'ru']:\n",
    "        tokid = unicode_prefix_tokid(token_str, tokenizer)\n",
    "        if tokid is not None:\n",
    "            final_tokens.append(tokid)\n",
    "    return final_tokens"
   ]
  },
  {
   "cell_type": "code",
   "execution_count": 10,
   "id": "faa7bb78",
   "metadata": {
    "execution": {
     "iopub.execute_input": "2024-03-02T15:41:00.338541Z",
     "iopub.status.busy": "2024-03-02T15:41:00.338354Z",
     "iopub.status.idle": "2024-03-02T15:41:00.385767Z",
     "shell.execute_reply": "2024-03-02T15:41:00.385252Z"
    },
    "papermill": {
     "duration": 0.053255,
     "end_time": "2024-03-02T15:41:00.386903",
     "exception": false,
     "start_time": "2024-03-02T15:41:00.333648",
     "status": "completed"
    },
    "tags": []
   },
   "outputs": [],
   "source": [
    "\n",
    "id2voc = {id:voc for voc, id in tokenizer.get_vocab().items()}\n",
    "def get_tokens(token_ids, id2voc=id2voc):\n",
    "    return [id2voc[tokid] for tokid in token_ids]\n",
    "\n",
    "def compute_entropy(probas):\n",
    "    return (-probas*torch.log2(probas)).sum(dim=-1)\n",
    "\n",
    "lang2name = {'fr': 'Français', 'de': 'Deutsch', 'ru': 'Русский', 'en': 'English', 'zh': '中文'}\n",
    "def sample(df, ind, k=5, tokenizer=tokenizer, lang1='fr', lang2='de', lang_latent=latent):\n",
    "    df = df.reset_index(drop=True)\n",
    "    temp = df[df.index!=ind]\n",
    "    sample = pd.concat([temp.sample(k-1), df[df.index==ind]], axis=0)\n",
    "    prompt = \"\"\n",
    "    for idx, (df_idx, row) in enumerate(sample.iterrows()):\n",
    "        if idx < k-1:\n",
    "            prompt += f'{lang2name[lang1]}: \"{row[lang1]}\" - {lang2name[lang2]}: \"{row[lang2]}\"\\n'\n",
    "        else:\n",
    "            prompt += f'{lang2name[lang1]}: \"{row[lang1]}\" - {lang2name[lang2]}: \"'\n",
    "            in_token_str = row[lang1]\n",
    "            out_token_str = row[lang2]\n",
    "            out_token_id = process_tokens(out_token_str, tokenizer, lang2)\n",
    "            latent_token_str = row[lang_latent]\n",
    "            latent_token_id = process_tokens(latent_token_str, tokenizer, latent)\n",
    "            intersection = set(out_token_id).intersection(set(latent_token_id))\n",
    "            if len(out_token_id) == 0 or len(latent_token_id) == 0:\n",
    "                yield None\n",
    "            if lang2 != latent and len(intersection) > 0:\n",
    "                yield None\n",
    "            yield {'prompt': prompt, \n",
    "                'out_token_id': out_token_id, \n",
    "                'out_token_str': out_token_str,\n",
    "                'latent_token_id': latent_token_id, \n",
    "                'latent_token_str': latent_token_str, \n",
    "                'in_token_str': in_token_str}"
   ]
  },
  {
   "cell_type": "code",
   "execution_count": 11,
   "id": "500641f5",
   "metadata": {
    "execution": {
     "iopub.execute_input": "2024-03-02T15:41:00.394979Z",
     "iopub.status.busy": "2024-03-02T15:41:00.394824Z",
     "iopub.status.idle": "2024-03-02T15:41:27.351145Z",
     "shell.execute_reply": "2024-03-02T15:41:27.350597Z"
    },
    "papermill": {
     "duration": 26.961309,
     "end_time": "2024-03-02T15:41:27.352194",
     "exception": false,
     "start_time": "2024-03-02T15:41:00.390885",
     "status": "completed"
    },
    "tags": []
   },
   "outputs": [
    {
     "name": "stderr",
     "output_type": "stream",
     "text": [
      "\r",
      "  0%|                                                                                                                                                                                                        | 0/94 [00:00<?, ?it/s]"
     ]
    },
    {
     "name": "stderr",
     "output_type": "stream",
     "text": [
      "\r",
      "  1%|██                                                                                                                                                                                              | 1/94 [00:00<00:27,  3.34it/s]"
     ]
    },
    {
     "name": "stderr",
     "output_type": "stream",
     "text": [
      "\r",
      "  2%|████                                                                                                                                                                                            | 2/94 [00:00<00:21,  4.19it/s]"
     ]
    },
    {
     "name": "stderr",
     "output_type": "stream",
     "text": [
      "\r",
      "  3%|██████▏                                                                                                                                                                                         | 3/94 [00:00<00:24,  3.69it/s]"
     ]
    },
    {
     "name": "stderr",
     "output_type": "stream",
     "text": [
      "\r",
      "  4%|████████▏                                                                                                                                                                                       | 4/94 [00:01<00:22,  4.08it/s]"
     ]
    },
    {
     "name": "stderr",
     "output_type": "stream",
     "text": [
      "\r",
      "  5%|██████████▏                                                                                                                                                                                     | 5/94 [00:01<00:27,  3.26it/s]"
     ]
    },
    {
     "name": "stderr",
     "output_type": "stream",
     "text": [
      "\r",
      "  6%|████████████▎                                                                                                                                                                                   | 6/94 [00:01<00:25,  3.49it/s]"
     ]
    },
    {
     "name": "stderr",
     "output_type": "stream",
     "text": [
      "\r",
      "  7%|██████████████▎                                                                                                                                                                                 | 7/94 [00:01<00:23,  3.66it/s]"
     ]
    },
    {
     "name": "stderr",
     "output_type": "stream",
     "text": [
      "\r",
      "  9%|████████████████▎                                                                                                                                                                               | 8/94 [00:02<00:22,  3.82it/s]"
     ]
    },
    {
     "name": "stderr",
     "output_type": "stream",
     "text": [
      "\r",
      " 10%|██████████████████▍                                                                                                                                                                             | 9/94 [00:02<00:22,  3.77it/s]"
     ]
    },
    {
     "name": "stderr",
     "output_type": "stream",
     "text": [
      "\r",
      " 11%|████████████████████▎                                                                                                                                                                          | 10/94 [00:02<00:25,  3.29it/s]"
     ]
    },
    {
     "name": "stderr",
     "output_type": "stream",
     "text": [
      "\r",
      " 12%|██████████████████████▎                                                                                                                                                                        | 11/94 [00:03<00:23,  3.60it/s]"
     ]
    },
    {
     "name": "stderr",
     "output_type": "stream",
     "text": [
      "\r",
      " 13%|████████████████████████▍                                                                                                                                                                      | 12/94 [00:03<00:21,  3.79it/s]"
     ]
    },
    {
     "name": "stderr",
     "output_type": "stream",
     "text": [
      "\r",
      " 14%|██████████████████████████▍                                                                                                                                                                    | 13/94 [00:03<00:23,  3.51it/s]"
     ]
    },
    {
     "name": "stderr",
     "output_type": "stream",
     "text": [
      "\r",
      " 15%|████████████████████████████▍                                                                                                                                                                  | 14/94 [00:03<00:22,  3.55it/s]"
     ]
    },
    {
     "name": "stderr",
     "output_type": "stream",
     "text": [
      "\r",
      " 16%|██████████████████████████████▍                                                                                                                                                                | 15/94 [00:04<00:23,  3.32it/s]"
     ]
    },
    {
     "name": "stderr",
     "output_type": "stream",
     "text": [
      "\r",
      " 17%|████████████████████████████████▌                                                                                                                                                              | 16/94 [00:04<00:21,  3.59it/s]"
     ]
    },
    {
     "name": "stderr",
     "output_type": "stream",
     "text": [
      "\r",
      " 18%|██████████████████████████████████▌                                                                                                                                                            | 17/94 [00:04<00:21,  3.64it/s]"
     ]
    },
    {
     "name": "stderr",
     "output_type": "stream",
     "text": [
      "\r",
      " 19%|████████████████████████████████████▌                                                                                                                                                          | 18/94 [00:04<00:18,  4.01it/s]"
     ]
    },
    {
     "name": "stderr",
     "output_type": "stream",
     "text": [
      "\r",
      " 20%|██████████████████████████████████████▌                                                                                                                                                        | 19/94 [00:05<00:18,  4.01it/s]"
     ]
    },
    {
     "name": "stderr",
     "output_type": "stream",
     "text": [
      "\r",
      " 21%|████████████████████████████████████████▋                                                                                                                                                      | 20/94 [00:05<00:18,  3.96it/s]"
     ]
    },
    {
     "name": "stderr",
     "output_type": "stream",
     "text": [
      "\r",
      " 22%|██████████████████████████████████████████▋                                                                                                                                                    | 21/94 [00:05<00:18,  3.84it/s]"
     ]
    },
    {
     "name": "stderr",
     "output_type": "stream",
     "text": [
      "\r",
      " 23%|████████████████████████████████████████████▋                                                                                                                                                  | 22/94 [00:05<00:17,  4.15it/s]"
     ]
    },
    {
     "name": "stderr",
     "output_type": "stream",
     "text": [
      "\r",
      " 24%|██████████████████████████████████████████████▋                                                                                                                                                | 23/94 [00:06<00:16,  4.24it/s]"
     ]
    },
    {
     "name": "stderr",
     "output_type": "stream",
     "text": [
      "\r",
      " 26%|████████████████████████████████████████████████▊                                                                                                                                              | 24/94 [00:06<00:18,  3.70it/s]"
     ]
    },
    {
     "name": "stderr",
     "output_type": "stream",
     "text": [
      "\r",
      " 27%|██████████████████████████████████████████████████▊                                                                                                                                            | 25/94 [00:06<00:17,  3.88it/s]"
     ]
    },
    {
     "name": "stderr",
     "output_type": "stream",
     "text": [
      "\r",
      " 28%|████████████████████████████████████████████████████▊                                                                                                                                          | 26/94 [00:06<00:17,  3.96it/s]"
     ]
    },
    {
     "name": "stderr",
     "output_type": "stream",
     "text": [
      "\r",
      " 29%|██████████████████████████████████████████████████████▊                                                                                                                                        | 27/94 [00:07<00:17,  3.88it/s]"
     ]
    },
    {
     "name": "stderr",
     "output_type": "stream",
     "text": [
      "\r",
      " 30%|████████████████████████████████████████████████████████▉                                                                                                                                      | 28/94 [00:07<00:16,  3.91it/s]"
     ]
    },
    {
     "name": "stderr",
     "output_type": "stream",
     "text": [
      "\r",
      " 31%|██████████████████████████████████████████████████████████▉                                                                                                                                    | 29/94 [00:07<00:18,  3.58it/s]"
     ]
    },
    {
     "name": "stderr",
     "output_type": "stream",
     "text": [
      "\r",
      " 32%|████████████████████████████████████████████████████████████▉                                                                                                                                  | 30/94 [00:07<00:15,  4.05it/s]"
     ]
    },
    {
     "name": "stderr",
     "output_type": "stream",
     "text": [
      "\r",
      " 33%|██████████████████████████████████████████████████████████████▉                                                                                                                                | 31/94 [00:08<00:15,  4.04it/s]"
     ]
    },
    {
     "name": "stderr",
     "output_type": "stream",
     "text": [
      "\r",
      " 34%|█████████████████████████████████████████████████████████████████                                                                                                                              | 32/94 [00:08<00:14,  4.33it/s]"
     ]
    },
    {
     "name": "stderr",
     "output_type": "stream",
     "text": [
      "\r",
      " 35%|███████████████████████████████████████████████████████████████████                                                                                                                            | 33/94 [00:08<00:14,  4.13it/s]"
     ]
    },
    {
     "name": "stderr",
     "output_type": "stream",
     "text": [
      "\r",
      " 36%|█████████████████████████████████████████████████████████████████████                                                                                                                          | 34/94 [00:08<00:14,  4.17it/s]"
     ]
    },
    {
     "name": "stderr",
     "output_type": "stream",
     "text": [
      "\r",
      " 37%|███████████████████████████████████████████████████████████████████████                                                                                                                        | 35/94 [00:09<00:15,  3.75it/s]"
     ]
    },
    {
     "name": "stderr",
     "output_type": "stream",
     "text": [
      "\r",
      " 38%|█████████████████████████████████████████████████████████████████████████▏                                                                                                                     | 36/94 [00:09<00:13,  4.25it/s]"
     ]
    },
    {
     "name": "stderr",
     "output_type": "stream",
     "text": [
      "\r",
      " 39%|███████████████████████████████████████████████████████████████████████████▏                                                                                                                   | 37/94 [00:09<00:12,  4.44it/s]"
     ]
    },
    {
     "name": "stderr",
     "output_type": "stream",
     "text": [
      "\r",
      " 40%|█████████████████████████████████████████████████████████████████████████████▏                                                                                                                 | 38/94 [00:09<00:13,  4.13it/s]"
     ]
    },
    {
     "name": "stderr",
     "output_type": "stream",
     "text": [
      "\r",
      " 41%|███████████████████████████████████████████████████████████████████████████████▏                                                                                                               | 39/94 [00:10<00:13,  3.96it/s]"
     ]
    },
    {
     "name": "stderr",
     "output_type": "stream",
     "text": [
      "\r",
      " 43%|█████████████████████████████████████████████████████████████████████████████████▎                                                                                                             | 40/94 [00:10<00:13,  4.05it/s]"
     ]
    },
    {
     "name": "stderr",
     "output_type": "stream",
     "text": [
      "\r",
      " 44%|███████████████████████████████████████████████████████████████████████████████████▎                                                                                                           | 41/94 [00:10<00:13,  3.96it/s]"
     ]
    },
    {
     "name": "stderr",
     "output_type": "stream",
     "text": [
      "\r",
      " 45%|█████████████████████████████████████████████████████████████████████████████████████▎                                                                                                         | 42/94 [00:10<00:13,  3.86it/s]"
     ]
    },
    {
     "name": "stderr",
     "output_type": "stream",
     "text": [
      "\r",
      " 46%|███████████████████████████████████████████████████████████████████████████████████████▎                                                                                                       | 43/94 [00:11<00:12,  4.03it/s]"
     ]
    },
    {
     "name": "stderr",
     "output_type": "stream",
     "text": [
      "\r",
      " 47%|█████████████████████████████████████████████████████████████████████████████████████████▍                                                                                                     | 44/94 [00:11<00:11,  4.37it/s]"
     ]
    },
    {
     "name": "stderr",
     "output_type": "stream",
     "text": [
      "\r",
      " 48%|███████████████████████████████████████████████████████████████████████████████████████████▍                                                                                                   | 45/94 [00:11<00:11,  4.40it/s]"
     ]
    },
    {
     "name": "stderr",
     "output_type": "stream",
     "text": [
      "\r",
      " 49%|█████████████████████████████████████████████████████████████████████████████████████████████▍                                                                                                 | 46/94 [00:11<00:12,  3.95it/s]"
     ]
    },
    {
     "name": "stderr",
     "output_type": "stream",
     "text": [
      "\r",
      " 50%|███████████████████████████████████████████████████████████████████████████████████████████████▌                                                                                               | 47/94 [00:12<00:12,  3.80it/s]"
     ]
    },
    {
     "name": "stderr",
     "output_type": "stream",
     "text": [
      "\r",
      " 51%|█████████████████████████████████████████████████████████████████████████████████████████████████▌                                                                                             | 48/94 [00:12<00:10,  4.30it/s]"
     ]
    },
    {
     "name": "stderr",
     "output_type": "stream",
     "text": [
      "\r",
      " 52%|███████████████████████████████████████████████████████████████████████████████████████████████████▌                                                                                           | 49/94 [00:12<00:11,  4.07it/s]"
     ]
    },
    {
     "name": "stderr",
     "output_type": "stream",
     "text": [
      "\r",
      " 53%|█████████████████████████████████████████████████████████████████████████████████████████████████████▌                                                                                         | 50/94 [00:12<00:10,  4.18it/s]"
     ]
    },
    {
     "name": "stderr",
     "output_type": "stream",
     "text": [
      "\r",
      " 54%|███████████████████████████████████████████████████████████████████████████████████████████████████████▋                                                                                       | 51/94 [00:13<00:10,  4.09it/s]"
     ]
    },
    {
     "name": "stderr",
     "output_type": "stream",
     "text": [
      "\r",
      " 55%|█████████████████████████████████████████████████████████████████████████████████████████████████████████▋                                                                                     | 52/94 [00:13<00:11,  3.66it/s]"
     ]
    },
    {
     "name": "stderr",
     "output_type": "stream",
     "text": [
      "\r",
      " 56%|███████████████████████████████████████████████████████████████████████████████████████████████████████████▋                                                                                   | 53/94 [00:13<00:12,  3.40it/s]"
     ]
    },
    {
     "name": "stderr",
     "output_type": "stream",
     "text": [
      "\r",
      " 57%|█████████████████████████████████████████████████████████████████████████████████████████████████████████████▋                                                                                 | 54/94 [00:14<00:11,  3.50it/s]"
     ]
    },
    {
     "name": "stderr",
     "output_type": "stream",
     "text": [
      "\r",
      " 59%|███████████████████████████████████████████████████████████████████████████████████████████████████████████████▊                                                                               | 55/94 [00:14<00:11,  3.53it/s]"
     ]
    },
    {
     "name": "stderr",
     "output_type": "stream",
     "text": [
      "\r",
      " 60%|█████████████████████████████████████████████████████████████████████████████████████████████████████████████████▊                                                                             | 56/94 [00:14<00:11,  3.21it/s]"
     ]
    },
    {
     "name": "stderr",
     "output_type": "stream",
     "text": [
      "\r",
      " 61%|███████████████████████████████████████████████████████████████████████████████████████████████████████████████████▊                                                                           | 57/94 [00:15<00:11,  3.15it/s]"
     ]
    },
    {
     "name": "stderr",
     "output_type": "stream",
     "text": [
      "\r",
      " 62%|█████████████████████████████████████████████████████████████████████████████████████████████████████████████████████▊                                                                         | 58/94 [00:15<00:11,  3.11it/s]"
     ]
    },
    {
     "name": "stderr",
     "output_type": "stream",
     "text": [
      "\r",
      " 63%|███████████████████████████████████████████████████████████████████████████████████████████████████████████████████████▉                                                                       | 59/94 [00:15<00:10,  3.23it/s]"
     ]
    },
    {
     "name": "stderr",
     "output_type": "stream",
     "text": [
      "\r",
      " 64%|█████████████████████████████████████████████████████████████████████████████████████████████████████████████████████████▉                                                                     | 60/94 [00:15<00:10,  3.37it/s]"
     ]
    },
    {
     "name": "stderr",
     "output_type": "stream",
     "text": [
      "\r",
      " 65%|███████████████████████████████████████████████████████████████████████████████████████████████████████████████████████████▉                                                                   | 61/94 [00:16<00:09,  3.40it/s]"
     ]
    },
    {
     "name": "stderr",
     "output_type": "stream",
     "text": [
      "\r",
      " 66%|█████████████████████████████████████████████████████████████████████████████████████████████████████████████████████████████▉                                                                 | 62/94 [00:16<00:09,  3.46it/s]"
     ]
    },
    {
     "name": "stderr",
     "output_type": "stream",
     "text": [
      "\r",
      " 67%|████████████████████████████████████████████████████████████████████████████████████████████████████████████████████████████████                                                               | 63/94 [00:16<00:09,  3.16it/s]"
     ]
    },
    {
     "name": "stderr",
     "output_type": "stream",
     "text": [
      "\r",
      " 68%|██████████████████████████████████████████████████████████████████████████████████████████████████████████████████████████████████                                                             | 64/94 [00:17<00:09,  3.25it/s]"
     ]
    },
    {
     "name": "stderr",
     "output_type": "stream",
     "text": [
      "\r",
      " 69%|████████████████████████████████████████████████████████████████████████████████████████████████████████████████████████████████████                                                           | 65/94 [00:17<00:08,  3.34it/s]"
     ]
    },
    {
     "name": "stderr",
     "output_type": "stream",
     "text": [
      "\r",
      " 70%|██████████████████████████████████████████████████████████████████████████████████████████████████████████████████████████████████████                                                         | 66/94 [00:17<00:09,  3.00it/s]"
     ]
    },
    {
     "name": "stderr",
     "output_type": "stream",
     "text": [
      "\r",
      " 71%|████████████████████████████████████████████████████████████████████████████████████████████████████████████████████████████████████████▏                                                      | 67/94 [00:18<00:08,  3.00it/s]"
     ]
    },
    {
     "name": "stderr",
     "output_type": "stream",
     "text": [
      "\r",
      " 72%|██████████████████████████████████████████████████████████████████████████████████████████████████████████████████████████████████████████▏                                                    | 68/94 [00:18<00:09,  2.66it/s]"
     ]
    },
    {
     "name": "stderr",
     "output_type": "stream",
     "text": [
      "\r",
      " 73%|████████████████████████████████████████████████████████████████████████████████████████████████████████████████████████████████████████████▏                                                  | 69/94 [00:18<00:08,  2.83it/s]"
     ]
    },
    {
     "name": "stderr",
     "output_type": "stream",
     "text": [
      "\r",
      " 74%|██████████████████████████████████████████████████████████████████████████████████████████████████████████████████████████████████████████████▏                                                | 70/94 [00:19<00:07,  3.04it/s]"
     ]
    },
    {
     "name": "stderr",
     "output_type": "stream",
     "text": [
      "\r",
      " 76%|████████████████████████████████████████████████████████████████████████████████████████████████████████████████████████████████████████████████▎                                              | 71/94 [00:19<00:08,  2.77it/s]"
     ]
    },
    {
     "name": "stderr",
     "output_type": "stream",
     "text": [
      "\r",
      " 77%|██████████████████████████████████████████████████████████████████████████████████████████████████████████████████████████████████████████████████▎                                            | 72/94 [00:19<00:07,  2.81it/s]"
     ]
    },
    {
     "name": "stderr",
     "output_type": "stream",
     "text": [
      "\r",
      " 78%|████████████████████████████████████████████████████████████████████████████████████████████████████████████████████████████████████████████████████▎                                          | 73/94 [00:20<00:07,  2.93it/s]"
     ]
    },
    {
     "name": "stderr",
     "output_type": "stream",
     "text": [
      "\r",
      " 79%|██████████████████████████████████████████████████████████████████████████████████████████████████████████████████████████████████████████████████████▎                                        | 74/94 [00:20<00:07,  2.53it/s]"
     ]
    },
    {
     "name": "stderr",
     "output_type": "stream",
     "text": [
      "\r",
      " 80%|████████████████████████████████████████████████████████████████████████████████████████████████████████████████████████████████████████████████████████▍                                      | 75/94 [00:21<00:06,  2.91it/s]"
     ]
    },
    {
     "name": "stderr",
     "output_type": "stream",
     "text": [
      "\r",
      " 81%|██████████████████████████████████████████████████████████████████████████████████████████████████████████████████████████████████████████████████████████▍                                    | 76/94 [00:21<00:06,  2.97it/s]"
     ]
    },
    {
     "name": "stderr",
     "output_type": "stream",
     "text": [
      "\r",
      " 82%|████████████████████████████████████████████████████████████████████████████████████████████████████████████████████████████████████████████████████████████▍                                  | 77/94 [00:21<00:05,  3.14it/s]"
     ]
    },
    {
     "name": "stderr",
     "output_type": "stream",
     "text": [
      "\r",
      " 83%|██████████████████████████████████████████████████████████████████████████████████████████████████████████████████████████████████████████████████████████████▍                                | 78/94 [00:21<00:04,  3.24it/s]"
     ]
    },
    {
     "name": "stderr",
     "output_type": "stream",
     "text": [
      "\r",
      " 84%|████████████████████████████████████████████████████████████████████████████████████████████████████████████████████████████████████████████████████████████████▌                              | 79/94 [00:22<00:04,  3.16it/s]"
     ]
    },
    {
     "name": "stderr",
     "output_type": "stream",
     "text": [
      "\r",
      " 85%|██████████████████████████████████████████████████████████████████████████████████████████████████████████████████████████████████████████████████████████████████▌                            | 80/94 [00:22<00:04,  3.32it/s]"
     ]
    },
    {
     "name": "stderr",
     "output_type": "stream",
     "text": [
      "\r",
      " 86%|████████████████████████████████████████████████████████████████████████████████████████████████████████████████████████████████████████████████████████████████████▌                          | 81/94 [00:22<00:04,  2.87it/s]"
     ]
    },
    {
     "name": "stderr",
     "output_type": "stream",
     "text": [
      "\r",
      " 87%|██████████████████████████████████████████████████████████████████████████████████████████████████████████████████████████████████████████████████████████████████████▌                        | 82/94 [00:23<00:04,  2.93it/s]"
     ]
    },
    {
     "name": "stderr",
     "output_type": "stream",
     "text": [
      "\r",
      " 88%|████████████████████████████████████████████████████████████████████████████████████████████████████████████████████████████████████████████████████████████████████████▋                      | 83/94 [00:23<00:03,  3.13it/s]"
     ]
    },
    {
     "name": "stderr",
     "output_type": "stream",
     "text": [
      "\r",
      " 89%|██████████████████████████████████████████████████████████████████████████████████████████████████████████████████████████████████████████████████████████████████████████▋                    | 84/94 [00:23<00:03,  3.29it/s]"
     ]
    },
    {
     "name": "stderr",
     "output_type": "stream",
     "text": [
      "\r",
      " 90%|████████████████████████████████████████████████████████████████████████████████████████████████████████████████████████████████████████████████████████████████████████████▋                  | 85/94 [00:24<00:02,  3.54it/s]"
     ]
    },
    {
     "name": "stderr",
     "output_type": "stream",
     "text": [
      "\r",
      " 91%|██████████████████████████████████████████████████████████████████████████████████████████████████████████████████████████████████████████████████████████████████████████████▋                | 86/94 [00:24<00:02,  3.18it/s]"
     ]
    },
    {
     "name": "stderr",
     "output_type": "stream",
     "text": [
      "\r",
      " 93%|████████████████████████████████████████████████████████████████████████████████████████████████████████████████████████████████████████████████████████████████████████████████▊              | 87/94 [00:24<00:02,  3.23it/s]"
     ]
    },
    {
     "name": "stderr",
     "output_type": "stream",
     "text": [
      "\r",
      " 94%|██████████████████████████████████████████████████████████████████████████████████████████████████████████████████████████████████████████████████████████████████████████████████▊            | 88/94 [00:25<00:01,  3.41it/s]"
     ]
    },
    {
     "name": "stderr",
     "output_type": "stream",
     "text": [
      "\r",
      " 95%|████████████████████████████████████████████████████████████████████████████████████████████████████████████████████████████████████████████████████████████████████████████████████▊          | 89/94 [00:25<00:01,  3.09it/s]"
     ]
    },
    {
     "name": "stderr",
     "output_type": "stream",
     "text": [
      "\r",
      " 96%|██████████████████████████████████████████████████████████████████████████████████████████████████████████████████████████████████████████████████████████████████████████████████████▊        | 90/94 [00:25<00:01,  3.04it/s]"
     ]
    },
    {
     "name": "stderr",
     "output_type": "stream",
     "text": [
      "\r",
      " 97%|████████████████████████████████████████████████████████████████████████████████████████████████████████████████████████████████████████████████████████████████████████████████████████▉      | 91/94 [00:26<00:00,  3.16it/s]"
     ]
    },
    {
     "name": "stderr",
     "output_type": "stream",
     "text": [
      "\r",
      " 98%|██████████████████████████████████████████████████████████████████████████████████████████████████████████████████████████████████████████████████████████████████████████████████████████▉    | 92/94 [00:26<00:00,  3.29it/s]"
     ]
    },
    {
     "name": "stderr",
     "output_type": "stream",
     "text": [
      "\r",
      " 99%|████████████████████████████████████████████████████████████████████████████████████████████████████████████████████████████████████████████████████████████████████████████████████████████▉  | 93/94 [00:26<00:00,  3.18it/s]"
     ]
    },
    {
     "name": "stderr",
     "output_type": "stream",
     "text": [
      "\r",
      "100%|███████████████████████████████████████████████████████████████████████████████████████████████████████████████████████████████████████████████████████████████████████████████████████████████| 94/94 [00:26<00:00,  3.34it/s]"
     ]
    },
    {
     "name": "stderr",
     "output_type": "stream",
     "text": [
      "\r",
      "100%|███████████████████████████████████████████████████████████████████████████████████████████████████████████████████████████████████████████████████████████████████████████████████████████████| 94/94 [00:26<00:00,  3.49it/s]"
     ]
    },
    {
     "name": "stderr",
     "output_type": "stream",
     "text": [
      "\n"
     ]
    }
   ],
   "source": [
    "dataset = []\n",
    "for ind in tqdm(range(len(df_en_target_input))):\n",
    "    d = next(sample(df_en_target_input, ind, lang1=input_lang, lang2=target_lang))\n",
    "    if d is None:\n",
    "        continue\n",
    "    dataset.append(d)"
   ]
  },
  {
   "cell_type": "code",
   "execution_count": 12,
   "id": "d786ab1b",
   "metadata": {
    "execution": {
     "iopub.execute_input": "2024-03-02T15:41:27.368409Z",
     "iopub.status.busy": "2024-03-02T15:41:27.368152Z",
     "iopub.status.idle": "2024-03-02T15:41:27.410754Z",
     "shell.execute_reply": "2024-03-02T15:41:27.410351Z"
    },
    "papermill": {
     "duration": 0.051454,
     "end_time": "2024-03-02T15:41:27.411789",
     "exception": false,
     "start_time": "2024-03-02T15:41:27.360335",
     "status": "completed"
    },
    "tags": []
   },
   "outputs": [],
   "source": [
    "df = pd.DataFrame(dataset)\n",
    "os.makedirs(f'{out_dir}/translation', exist_ok=True)\n",
    "df.to_csv(f'{out_dir}/translation/pythia-{model_size}_{input_lang}_{target_lang}_dataset.csv', index=False)"
   ]
  },
  {
   "cell_type": "code",
   "execution_count": 13,
   "id": "94fa55b7",
   "metadata": {
    "execution": {
     "iopub.execute_input": "2024-03-02T15:41:27.426265Z",
     "iopub.status.busy": "2024-03-02T15:41:27.426090Z",
     "iopub.status.idle": "2024-03-02T15:41:27.455008Z",
     "shell.execute_reply": "2024-03-02T15:41:27.454672Z"
    },
    "papermill": {
     "duration": 0.037058,
     "end_time": "2024-03-02T15:41:27.455865",
     "exception": false,
     "start_time": "2024-03-02T15:41:27.418807",
     "status": "completed"
    },
    "tags": []
   },
   "outputs": [],
   "source": [
    "def get_logits(model, prompt,lens):\n",
    "    inputs = tokenizer(prompt, return_tensors=\"pt\").to('cuda')\n",
    "    output = pythia(inputs.input_ids, output_hidden_states=True)\n",
    "    hidden_states = output.hidden_states[:-1]\n",
    "    final_lps = output.logits.log_softmax(dim=-1)\n",
    "    tensors=[]\n",
    "    hd= []\n",
    "    for i in range(len(model.gpt_neox.layers)):\n",
    "        h = hidden_states[i].squeeze(0)\n",
    "        tensors+=[lens(h, idx=i).detach().cpu()]\n",
    "        hd+=[lens.transform_hidden(h, idx=i).detach().cpu()]\n",
    "    tensors= torch.stack(tensors)  \n",
    "    hidden_states = torch.stack(hd)\n",
    "    return tensors,hidden_states\n",
    "        "
   ]
  },
  {
   "cell_type": "code",
   "execution_count": 14,
   "id": "ee982287",
   "metadata": {
    "execution": {
     "iopub.execute_input": "2024-03-02T15:41:27.471830Z",
     "iopub.status.busy": "2024-03-02T15:41:27.471501Z",
     "iopub.status.idle": "2024-03-02T15:41:27.506905Z",
     "shell.execute_reply": "2024-03-02T15:41:27.506593Z"
    },
    "papermill": {
     "duration": 0.04401,
     "end_time": "2024-03-02T15:41:27.508014",
     "exception": false,
     "start_time": "2024-03-02T15:41:27.464004",
     "status": "completed"
    },
    "tags": []
   },
   "outputs": [
    {
     "data": {
      "text/plain": [
       "[{'prompt': 'Deutsch: \"acht\" - Français: \"huit\"\\nDeutsch: \"Bahnhof\" - Français: \"gare\"\\nDeutsch: \"Mitte\" - Français: \"milieu\"\\nDeutsch: \"Generation\" - Français: \"génération\"\\nDeutsch: \"Wolke\" - Français: \"',\n",
       "  'out_token_id': [3023, 79],\n",
       "  'out_token_str': 'nuage',\n",
       "  'latent_token_id': [68, 18534, 498, 45679],\n",
       "  'latent_token_str': 'cloud',\n",
       "  'in_token_str': 'Wolke'},\n",
       " {'prompt': 'Deutsch: \"Meer\" - Français: \"mer\"\\nDeutsch: \"Tugend\" - Français: \"vertu\"\\nDeutsch: \"Turm\" - Français: \"tour\"\\nDeutsch: \"Schönheit\" - Français: \"beauté\"\\nDeutsch: \"Tasche\" - Français: \"',\n",
       "  'out_token_id': [38346, 6678, 84],\n",
       "  'out_token_str': 'sac',\n",
       "  'latent_token_id': [22738, 5830, 67],\n",
       "  'latent_token_str': 'bag',\n",
       "  'in_token_str': 'Tasche'},\n",
       " {'prompt': 'Deutsch: \"Sommer\" - Français: \"été\"\\nDeutsch: \"Beispiel\" - Français: \"exemple\"\\nDeutsch: \"Gitter\" - Français: \"grille\"\\nDeutsch: \"Tugend\" - Français: \"vertu\"\\nDeutsch: \"Mund\" - Français: \"',\n",
       "  'out_token_id': [67, 2399],\n",
       "  'out_token_str': 'bouche',\n",
       "  'latent_token_id': [78, 6972, 19845],\n",
       "  'latent_token_str': 'mouth',\n",
       "  'in_token_str': 'Mund'},\n",
       " {'prompt': 'Deutsch: \"Blume\" - Français: \"fleur\"\\nDeutsch: \"Lied\" - Français: \"chanson\"\\nDeutsch: \"Haushalt\" - Français: \"ménage\"\\nDeutsch: \"drei\" - Français: \"trois\"\\nDeutsch: \"Herz\" - Français: \"',\n",
       "  'out_token_id': [68],\n",
       "  'out_token_str': 'cœur',\n",
       "  'latent_token_id': [73, 14387, 21071, 248],\n",
       "  'latent_token_str': 'heart',\n",
       "  'in_token_str': 'Herz'},\n",
       " {'prompt': 'Deutsch: \"Haushalt\" - Français: \"ménage\"\\nDeutsch: \"acht\" - Français: \"huit\"\\nDeutsch: \"Tür\" - Français: \"porte\"\\nDeutsch: \"Krawatte\" - Français: \"cravate\"\\nDeutsch: \"Hand\" - Français: \"',\n",
       "  'out_token_id': [785, 78, 7265],\n",
       "  'out_token_str': 'main',\n",
       "  'latent_token_id': [3227, 73, 5582, 4608],\n",
       "  'latent_token_str': 'hand',\n",
       "  'in_token_str': 'Hand'},\n",
       " {'prompt': 'Deutsch: \"Krawatte\" - Français: \"cravate\"\\nDeutsch: \"fünf\" - Français: \"cinq\"\\nDeutsch: \"Anstieg\" - Français: \"hausse\"\\nDeutsch: \"Hand\" - Français: \"main\"\\nDeutsch: \"Tag\" - Français: \"',\n",
       "  'out_token_id': [5309, 19923, 75],\n",
       "  'out_token_str': 'jour',\n",
       "  'latent_token_id': [69, 1473, 1201],\n",
       "  'latent_token_str': 'day',\n",
       "  'in_token_str': 'Tag'},\n",
       " {'prompt': 'Deutsch: \"Straße\" - Français: \"rue\"\\nDeutsch: \"eins\" - Français: \"un\"\\nDeutsch: \"drei\" - Français: \"trois\"\\nDeutsch: \"See\" - Français: \"lac\"\\nDeutsch: \"Stern\" - Français: \"',\n",
       "  'out_token_id': [165],\n",
       "  'out_token_str': 'étoile',\n",
       "  'latent_token_id': [18233, 296, 7873, 84],\n",
       "  'latent_token_str': 'star',\n",
       "  'in_token_str': 'Stern'},\n",
       " {'prompt': 'Deutsch: \"Gesicht\" - Français: \"visage\"\\nDeutsch: \"Beispiel\" - Français: \"exemple\"\\nDeutsch: \"Stadt\" - Français: \"ville\"\\nDeutsch: \"Tal\" - Français: \"vallée\"\\nDeutsch: \"Feder\" - Français: \"',\n",
       "  'out_token_id': [83, 560, 373, 250, 32232],\n",
       "  'out_token_str': 'ressort',\n",
       "  'latent_token_id': [10167, 27375, 1033, 84],\n",
       "  'latent_token_str': 'spring',\n",
       "  'in_token_str': 'Feder'},\n",
       " {'prompt': 'Deutsch: \"Farbe\" - Français: \"couleur\"\\nDeutsch: \"Gesicht\" - Français: \"visage\"\\nDeutsch: \"Zeit\" - Français: \"temps\"\\nDeutsch: \"rot\" - Français: \"rouge\"\\nDeutsch: \"Mond\" - Français: \"',\n",
       "  'out_token_id': [77, 7675],\n",
       "  'out_token_str': 'lune',\n",
       "  'latent_token_id': [78, 6972],\n",
       "  'latent_token_str': 'moon',\n",
       "  'in_token_str': 'Mond'},\n",
       " {'prompt': 'Deutsch: \"Kopf\" - Français: \"tête\"\\nDeutsch: \"Zeit\" - Français: \"temps\"\\nDeutsch: \"Büro\" - Français: \"bureau\"\\nDeutsch: \"Gesetz\" - Français: \"loi\"\\nDeutsch: \"Holz\" - Français: \"',\n",
       "  'out_token_id': [67, 2399],\n",
       "  'out_token_str': 'bois',\n",
       "  'latent_token_id': [5308, 680, 88],\n",
       "  'latent_token_str': 'wood',\n",
       "  'in_token_str': 'Holz'},\n",
       " {'prompt': 'Deutsch: \"Bahnhof\" - Français: \"gare\"\\nDeutsch: \"Gitter\" - Français: \"grille\"\\nDeutsch: \"Teich\" - Français: \"étang\"\\nDeutsch: \"Schwanz\" - Français: \"queue\"\\nDeutsch: \"Lied\" - Français: \"',\n",
       "  'out_token_id': [68, 348, 13420, 2291],\n",
       "  'out_token_str': 'chanson',\n",
       "  'latent_token_id': [32429, 1665, 601, 84],\n",
       "  'latent_token_str': 'song',\n",
       "  'in_token_str': 'Lied'},\n",
       " {'prompt': 'Deutsch: \"Brücke\" - Français: \"pont\"\\nDeutsch: \"Blume\" - Français: \"fleur\"\\nDeutsch: \"Tag\" - Français: \"jour\"\\nDeutsch: \"Licht\" - Français: \"lumière\"\\nDeutsch: \"Teich\" - Français: \"',\n",
       "  'out_token_id': [165],\n",
       "  'out_token_str': 'étang',\n",
       "  'latent_token_id': [5367, 81],\n",
       "  'latent_token_str': 'pond',\n",
       "  'in_token_str': 'Teich'},\n",
       " {'prompt': 'Deutsch: \"Fuß\" - Français: \"pied\"\\nDeutsch: \"Bahnhof\" - Français: \"gare\"\\nDeutsch: \"Sonne\" - Français: \"soleil\"\\nDeutsch: \"Streifen\" - Français: \"bande\"\\nDeutsch: \"Welle\" - Français: \"',\n",
       "  'out_token_id': [19070, 80, 251, 857],\n",
       "  'out_token_str': 'onde',\n",
       "  'latent_token_id': [8754, 15007, 88],\n",
       "  'latent_token_str': 'wave',\n",
       "  'in_token_str': 'Welle'},\n",
       " {'prompt': 'Deutsch: \"Auge\" - Français: \"œil\"\\nDeutsch: \"Tür\" - Français: \"porte\"\\nDeutsch: \"Macht\" - Français: \"pouvoir\"\\nDeutsch: \"löschen\" - Français: \"supprimer\"\\nDeutsch: \"Höhle\" - Français: \"',\n",
       "  'out_token_id': [26817, 737, 72],\n",
       "  'out_token_str': 'grotte',\n",
       "  'latent_token_id': [68, 43205, 6357],\n",
       "  'latent_token_str': 'cave',\n",
       "  'in_token_str': 'Höhle'},\n",
       " {'prompt': 'Deutsch: \"Fuß\" - Français: \"pied\"\\nDeutsch: \"Welle\" - Français: \"onde\"\\nDeutsch: \"acht\" - Français: \"huit\"\\nDeutsch: \"Sommer\" - Français: \"été\"\\nDeutsch: \"Meer\" - Français: \"',\n",
       "  'out_token_id': [78, 961, 1405],\n",
       "  'out_token_str': 'mer',\n",
       "  'latent_token_id': [339, 15681, 84],\n",
       "  'latent_token_str': 'sea',\n",
       "  'in_token_str': 'Meer'},\n",
       " {'prompt': 'Deutsch: \"Netz\" - Français: \"filet\"\\nDeutsch: \"Börse\" - Français: \"bourse\"\\nDeutsch: \"Gold\" - Français: \"or\"\\nDeutsch: \"Niederlage\" - Français: \"défaite\"\\nDeutsch: \"Bahnhof\" - Français: \"',\n",
       "  'out_token_id': [5209, 72, 2485],\n",
       "  'out_token_str': 'gare',\n",
       "  'latent_token_id': [18233, 8766, 20502, 296, 84],\n",
       "  'latent_token_str': 'station',\n",
       "  'in_token_str': 'Bahnhof'},\n",
       " {'prompt': 'Deutsch: \"Auge\" - Français: \"œil\"\\nDeutsch: \"Zeit\" - Français: \"temps\"\\nDeutsch: \"Stadt\" - Français: \"ville\"\\nDeutsch: \"Gesicht\" - Français: \"visage\"\\nDeutsch: \"Netz\" - Français: \"',\n",
       "  'out_token_id': [11125, 71, 5073, 3140],\n",
       "  'out_token_str': 'filet',\n",
       "  'latent_token_id': [79, 570, 3024],\n",
       "  'latent_token_str': 'net',\n",
       "  'in_token_str': 'Netz'},\n",
       " {'prompt': 'Deutsch: \"Haushalt\" - Français: \"ménage\"\\nDeutsch: \"Tal\" - Français: \"vallée\"\\nDeutsch: \"vier\" - Français: \"quatre\"\\nDeutsch: \"Art\" - Français: \"genre\"\\nDeutsch: \"Fuß\" - Français: \"',\n",
       "  'out_token_id': [2059, 81, 10448],\n",
       "  'out_token_str': 'pied',\n",
       "  'latent_token_id': [12110, 8938, 71, 4786],\n",
       "  'latent_token_str': 'foot',\n",
       "  'in_token_str': 'Fuß'},\n",
       " {'prompt': 'Deutsch: \"Sand\" - Français: \"sable\"\\nDeutsch: \"Anstieg\" - Français: \"hausse\"\\nDeutsch: \"Mutter\" - Français: \"mère\"\\nDeutsch: \"Feld\" - Français: \"champ\"\\nDeutsch: \"Gold\" - Français: \"',\n",
       "  'out_token_id': [263, 80],\n",
       "  'out_token_str': 'or',\n",
       "  'latent_token_id': [27716, 32651, 2184, 72],\n",
       "  'latent_token_str': 'gold',\n",
       "  'in_token_str': 'Gold'},\n",
       " {'prompt': 'Deutsch: \"Welle\" - Français: \"onde\"\\nDeutsch: \"Farbe\" - Français: \"couleur\"\\nDeutsch: \"Wort\" - Français: \"mot\"\\nDeutsch: \"Anstieg\" - Français: \"hausse\"\\nDeutsch: \"Tür\" - Français: \"',\n",
       "  'out_token_id': [5367, 631, 1831, 81],\n",
       "  'out_token_str': 'porte',\n",
       "  'latent_token_id': [11806, 69, 3088],\n",
       "  'latent_token_str': 'door',\n",
       "  'in_token_str': 'Tür'},\n",
       " {'prompt': 'Deutsch: \"Geschichte\" - Français: \"histoire\"\\nDeutsch: \"Lied\" - Français: \"chanson\"\\nDeutsch: \"Gesetz\" - Français: \"loi\"\\nDeutsch: \"Sonne\" - Français: \"soleil\"\\nDeutsch: \"Schnee\" - Français: \"',\n",
       "  'out_token_id': [79, 570],\n",
       "  'out_token_str': 'neige',\n",
       "  'latent_token_id': [11489, 84],\n",
       "  'latent_token_str': 'snow',\n",
       "  'in_token_str': 'Schnee'},\n",
       " {'prompt': 'Deutsch: \"Schwanz\" - Français: \"queue\"\\nDeutsch: \"Mund\" - Français: \"bouche\"\\nDeutsch: \"Osten\" - Français: \"est\"\\nDeutsch: \"Tasche\" - Français: \"sac\"\\nDeutsch: \"Pferd\" - Français: \"',\n",
       "  'out_token_id': [68, 45627, 348, 1962],\n",
       "  'out_token_str': 'cheval',\n",
       "  'latent_token_id': [1689, 73, 33647, 1688, 4210],\n",
       "  'latent_token_str': 'horse',\n",
       "  'in_token_str': 'Pferd'},\n",
       " {'prompt': 'Deutsch: \"Quadrat\" - Français: \"carré\"\\nDeutsch: \"Wald\" - Français: \"forêt\"\\nDeutsch: \"Auge\" - Français: \"œil\"\\nDeutsch: \"Boden\" - Français: \"sol\"\\nDeutsch: \"eins\" - Français: \"',\n",
       "  'out_token_id': [328, 86],\n",
       "  'out_token_str': 'un',\n",
       "  'latent_token_id': [531, 80, 251],\n",
       "  'latent_token_str': 'one',\n",
       "  'in_token_str': 'eins'},\n",
       " {'prompt': 'Deutsch: \"Haushalt\" - Français: \"ménage\"\\nDeutsch: \"Süden\" - Français: \"sud\"\\nDeutsch: \"Feder\" - Français: \"ressort\"\\nDeutsch: \"tausend\" - Français: \"mille\"\\nDeutsch: \"zwei\" - Français: \"',\n",
       "  'out_token_id': [615, 69],\n",
       "  'out_token_str': 'deux',\n",
       "  'latent_token_id': [7553, 9389, 85],\n",
       "  'latent_token_str': 'two',\n",
       "  'in_token_str': 'zwei'},\n",
       " {'prompt': 'Deutsch: \"Wort\" - Français: \"mot\"\\nDeutsch: \"acht\" - Français: \"huit\"\\nDeutsch: \"Haus\" - Français: \"maison\"\\nDeutsch: \"Haushalt\" - Français: \"ménage\"\\nDeutsch: \"vier\" - Français: \"',\n",
       "  'out_token_id': [82, 371, 46385],\n",
       "  'out_token_str': 'quatre',\n",
       "  'latent_token_id': [12496, 71, 4786],\n",
       "  'latent_token_str': 'four',\n",
       "  'in_token_str': 'vier'},\n",
       " {'prompt': 'Deutsch: \"Turm\" - Français: \"tour\"\\nDeutsch: \"Haus\" - Français: \"maison\"\\nDeutsch: \"Beispiel\" - Français: \"exemple\"\\nDeutsch: \"Schwanz\" - Français: \"queue\"\\nDeutsch: \"fünf\" - Français: \"',\n",
       "  'out_token_id': [68, 5297, 5620],\n",
       "  'out_token_str': 'cinq',\n",
       "  'latent_token_id': [11125, 12071, 71],\n",
       "  'latent_token_str': 'five',\n",
       "  'in_token_str': 'fünf'},\n",
       " {'prompt': 'Deutsch: \"Büro\" - Français: \"bureau\"\\nDeutsch: \"Hand\" - Français: \"main\"\\nDeutsch: \"Teich\" - Français: \"étang\"\\nDeutsch: \"Gesicht\" - Français: \"visage\"\\nDeutsch: \"acht\" - Français: \"',\n",
       "  'out_token_id': [37942, 73, 11917],\n",
       "  'out_token_str': 'huit',\n",
       "  'latent_token_id': [19521, 27116, 70],\n",
       "  'latent_token_str': 'eight',\n",
       "  'in_token_str': 'acht'},\n",
       " {'prompt': 'Deutsch: \"Sand\" - Français: \"sable\"\\nDeutsch: \"Tasche\" - Français: \"sac\"\\nDeutsch: \"Börse\" - Français: \"bourse\"\\nDeutsch: \"Gesicht\" - Français: \"visage\"\\nDeutsch: \"zehn\" - Français: \"',\n",
       "  'out_token_id': [5168, 69],\n",
       "  'out_token_str': 'dix',\n",
       "  'latent_token_id': [442, 1866, 85],\n",
       "  'latent_token_str': 'ten',\n",
       "  'in_token_str': 'zehn'},\n",
       " {'prompt': 'Deutsch: \"Quadrat\" - Français: \"carré\"\\nDeutsch: \"Tee\" - Français: \"thé\"\\nDeutsch: \"Beispiel\" - Français: \"exemple\"\\nDeutsch: \"Zeit\" - Français: \"temps\"\\nDeutsch: \"Kopf\" - Français: \"',\n",
       "  'out_token_id': [85],\n",
       "  'out_token_str': 'tête',\n",
       "  'latent_token_id': [73, 2522, 21071, 248],\n",
       "  'latent_token_str': 'head',\n",
       "  'in_token_str': 'Kopf'},\n",
       " {'prompt': 'Deutsch: \"Wolke\" - Français: \"nuage\"\\nDeutsch: \"Osten\" - Français: \"est\"\\nDeutsch: \"Höhle\" - Français: \"grotte\"\\nDeutsch: \"eins\" - Français: \"un\"\\nDeutsch: \"Streifen\" - Français: \"',\n",
       "  'out_token_id': [4152, 5830, 67, 5568],\n",
       "  'out_token_str': 'bande',\n",
       "  'latent_token_id': [25763, 32182, 1344, 296, 84],\n",
       "  'latent_token_str': 'strip',\n",
       "  'in_token_str': 'Streifen'},\n",
       " {'prompt': 'Deutsch: \"Fuß\" - Français: \"pied\"\\nDeutsch: \"Gitter\" - Français: \"grille\"\\nDeutsch: \"See\" - Français: \"lac\"\\nDeutsch: \"Sitz\" - Français: \"siège\"\\nDeutsch: \"Straße\" - Français: \"',\n",
       "  'out_token_id': [83, 579, 32340],\n",
       "  'out_token_str': 'rue',\n",
       "  'latent_token_id': [33151, 32565, 1344, 296, 84],\n",
       "  'latent_token_str': 'street',\n",
       "  'in_token_str': 'Straße'},\n",
       " {'prompt': 'Deutsch: \"Kind\" - Français: \"enfant\"\\nDeutsch: \"Boden\" - Français: \"sol\"\\nDeutsch: \"Linie\" - Français: \"ligne\"\\nDeutsch: \"Norden\" - Français: \"nord\"\\nDeutsch: \"Feld\" - Français: \"',\n",
       "  'out_token_id': [68, 348, 13420],\n",
       "  'out_token_str': 'champ',\n",
       "  'latent_token_id': [11125, 3423, 71],\n",
       "  'latent_token_str': 'field',\n",
       "  'in_token_str': 'Feld'},\n",
       " {'prompt': 'Deutsch: \"Plattform\" - Français: \"plate-forme\"\\nDeutsch: \"Sitz\" - Français: \"siège\"\\nDeutsch: \"zwei\" - Français: \"deux\"\\nDeutsch: \"Schnee\" - Français: \"neige\"\\nDeutsch: \"Wort\" - Français: \"',\n",
       "  'out_token_id': [78, 6972, 24013],\n",
       "  'out_token_str': 'mot',\n",
       "  'latent_token_id': [42108, 3418, 88, 680],\n",
       "  'latent_token_str': 'word',\n",
       "  'in_token_str': 'Wort'},\n",
       " {'prompt': 'Deutsch: \"Pferd\" - Français: \"cheval\"\\nDeutsch: \"Stadt\" - Français: \"ville\"\\nDeutsch: \"Sommer\" - Français: \"été\"\\nDeutsch: \"Gesetz\" - Français: \"loi\"\\nDeutsch: \"tausend\" - Français: \"',\n",
       "  'out_token_id': [78, 7373, 22009, 17993],\n",
       "  'out_token_str': 'mille',\n",
       "  'latent_token_id': [394, 85],\n",
       "  'latent_token_str': 'thousand',\n",
       "  'in_token_str': 'tausend'},\n",
       " {'prompt': 'Deutsch: \"Hand\" - Français: \"main\"\\nDeutsch: \"rot\" - Français: \"rouge\"\\nDeutsch: \"Haushalt\" - Français: \"ménage\"\\nDeutsch: \"Krawatte\" - Français: \"cravate\"\\nDeutsch: \"Börse\" - Français: \"',\n",
       "  'out_token_id': [7390, 67, 2399],\n",
       "  'out_token_str': 'bourse',\n",
       "  'latent_token_id': [36688, 35757, 911, 70],\n",
       "  'latent_token_str': 'exchange',\n",
       "  'in_token_str': 'Börse'},\n",
       " {'prompt': 'Deutsch: \"Mutter\" - Français: \"mère\"\\nDeutsch: \"Mitte\" - Français: \"milieu\"\\nDeutsch: \"Stamm\" - Français: \"tribu\"\\nDeutsch: \"Niederlage\" - Français: \"défaite\"\\nDeutsch: \"Art\" - Français: \"',\n",
       "  'out_token_id': [463, 72, 1541],\n",
       "  'out_token_str': 'genre',\n",
       "  'latent_token_id': [76, 5985, 5914, 11258],\n",
       "  'latent_token_str': 'kind',\n",
       "  'in_token_str': 'Art'},\n",
       " {'prompt': 'Deutsch: \"Wort\" - Français: \"mot\"\\nDeutsch: \"Fuß\" - Français: \"pied\"\\nDeutsch: \"Sand\" - Français: \"sable\"\\nDeutsch: \"fünf\" - Français: \"cinq\"\\nDeutsch: \"Schule\" - Français: \"',\n",
       "  'out_token_id': [165],\n",
       "  'out_token_str': 'école',\n",
       "  'latent_token_id': [10629, 1026, 19221, 84],\n",
       "  'latent_token_str': 'school',\n",
       "  'in_token_str': 'Schule'},\n",
       " {'prompt': 'Deutsch: \"Osten\" - Français: \"est\"\\nDeutsch: \"Mund\" - Français: \"bouche\"\\nDeutsch: \"Börse\" - Français: \"bourse\"\\nDeutsch: \"zehn\" - Français: \"dix\"\\nDeutsch: \"Krawatte\" - Français: \"',\n",
       "  'out_token_id': [68, 33205, 7083],\n",
       "  'out_token_str': 'cravate',\n",
       "  'latent_token_id': [6811, 85, 37678],\n",
       "  'latent_token_str': 'tie',\n",
       "  'in_token_str': 'Krawatte'},\n",
       " {'prompt': 'Deutsch: \"Haus\" - Français: \"maison\"\\nDeutsch: \"fünf\" - Français: \"cinq\"\\nDeutsch: \"Streifen\" - Français: \"bande\"\\nDeutsch: \"Anstieg\" - Français: \"hausse\"\\nDeutsch: \"Gesicht\" - Français: \"',\n",
       "  'out_token_id': [6584, 87, 4534],\n",
       "  'out_token_str': 'visage',\n",
       "  'latent_token_id': [6855, 28402, 1664, 71],\n",
       "  'latent_token_str': 'face',\n",
       "  'in_token_str': 'Gesicht'},\n",
       " {'prompt': 'Deutsch: \"Mund\" - Français: \"bouche\"\\nDeutsch: \"vier\" - Français: \"quatre\"\\nDeutsch: \"Streifen\" - Français: \"bande\"\\nDeutsch: \"Boden\" - Français: \"sol\"\\nDeutsch: \"Brücke\" - Français: \"',\n",
       "  'out_token_id': [5367, 81],\n",
       "  'out_token_str': 'pont',\n",
       "  'latent_token_id': [8298, 1288, 67, 7807],\n",
       "  'latent_token_str': 'bridge',\n",
       "  'in_token_str': 'Brücke'},\n",
       " {'prompt': 'Deutsch: \"Wort\" - Français: \"mot\"\\nDeutsch: \"Zeit\" - Français: \"temps\"\\nDeutsch: \"Wolke\" - Français: \"nuage\"\\nDeutsch: \"Geschichte\" - Français: \"histoire\"\\nDeutsch: \"löschen\" - Français: \"',\n",
       "  'out_token_id': [3467, 4032, 8403, 84],\n",
       "  'out_token_str': 'supprimer',\n",
       "  'latent_token_id': [7555, 615, 69, 16435],\n",
       "  'latent_token_str': 'delete',\n",
       "  'in_token_str': 'löschen'},\n",
       " {'prompt': 'Deutsch: \"Wort\" - Français: \"mot\"\\nDeutsch: \"Boden\" - Français: \"sol\"\\nDeutsch: \"Versuch\" - Français: \"tentative\"\\nDeutsch: \"Brücke\" - Français: \"pont\"\\nDeutsch: \"Haus\" - Français: \"',\n",
       "  'out_token_id': [785, 78],\n",
       "  'out_token_str': 'maison',\n",
       "  'latent_token_id': [1689, 73, 14451, 5967],\n",
       "  'latent_token_str': 'house',\n",
       "  'in_token_str': 'Haus'},\n",
       " {'prompt': 'Deutsch: \"Turm\" - Français: \"tour\"\\nDeutsch: \"Anstieg\" - Français: \"hausse\"\\nDeutsch: \"Tag\" - Français: \"jour\"\\nDeutsch: \"Reis\" - Français: \"riz\"\\nDeutsch: \"Quadrat\" - Français: \"',\n",
       "  'out_token_id': [6357, 68, 5546],\n",
       "  'out_token_str': 'carré',\n",
       "  'latent_token_id': [15044, 18858, 23600, 84],\n",
       "  'latent_token_str': 'square',\n",
       "  'in_token_str': 'Quadrat'},\n",
       " {'prompt': 'Deutsch: \"Sand\" - Français: \"sable\"\\nDeutsch: \"Feld\" - Français: \"champ\"\\nDeutsch: \"drei\" - Français: \"trois\"\\nDeutsch: \"löschen\" - Français: \"supprimer\"\\nDeutsch: \"Stadt\" - Français: \"',\n",
       "  'out_token_id': [6169, 6584, 87, 33745, 40579],\n",
       "  'out_token_str': 'ville',\n",
       "  'latent_token_id': [68, 5297, 21280, 10179],\n",
       "  'latent_token_str': 'city',\n",
       "  'in_token_str': 'Stadt'},\n",
       " {'prompt': 'Deutsch: \"Süden\" - Français: \"sud\"\\nDeutsch: \"Wald\" - Français: \"forêt\"\\nDeutsch: \"Höhle\" - Français: \"grotte\"\\nDeutsch: \"Richter\" - Français: \"juge\"\\nDeutsch: \"Geschwindigkeit\" - Français: \"',\n",
       "  'out_token_id': [6584, 87, 34490],\n",
       "  'out_token_str': 'vitesse',\n",
       "  'latent_token_id': [15507, 1033, 9293, 84],\n",
       "  'latent_token_str': 'speed',\n",
       "  'in_token_str': 'Geschwindigkeit'},\n",
       " {'prompt': 'Deutsch: \"Norden\" - Français: \"nord\"\\nDeutsch: \"Tugend\" - Français: \"vertu\"\\nDeutsch: \"Reis\" - Français: \"riz\"\\nDeutsch: \"Brücke\" - Français: \"pont\"\\nDeutsch: \"Boden\" - Français: \"',\n",
       "  'out_token_id': [601, 18989, 84],\n",
       "  'out_token_str': 'sol',\n",
       "  'latent_token_id': [26817, 737, 2595, 72],\n",
       "  'latent_token_str': 'ground',\n",
       "  'in_token_str': 'Boden'},\n",
       " {'prompt': 'Deutsch: \"Schule\" - Français: \"école\"\\nDeutsch: \"Tal\" - Français: \"vallée\"\\nDeutsch: \"neun\" - Français: \"neuf\"\\nDeutsch: \"links\" - Français: \"gauche\"\\nDeutsch: \"Versuch\" - Français: \"',\n",
       "  'out_token_id': [442, 85, 1866],\n",
       "  'out_token_str': 'tentative',\n",
       "  'latent_token_id': [34015, 1595, 38839, 255, 66],\n",
       "  'latent_token_str': 'attempt',\n",
       "  'in_token_str': 'Versuch'},\n",
       " {'prompt': 'Deutsch: \"Schnee\" - Français: \"neige\"\\nDeutsch: \"Krawatte\" - Français: \"cravate\"\\nDeutsch: \"Gesetz\" - Français: \"loi\"\\nDeutsch: \"See\" - Français: \"lac\"\\nDeutsch: \"Schwanz\" - Français: \"',\n",
       "  'out_token_id': [82, 14487, 1452, 371],\n",
       "  'out_token_str': 'queue',\n",
       "  'latent_token_id': [893, 14694, 85],\n",
       "  'latent_token_str': 'tail',\n",
       "  'in_token_str': 'Schwanz'},\n",
       " {'prompt': 'Deutsch: \"Gitter\" - Français: \"grille\"\\nDeutsch: \"Blume\" - Français: \"fleur\"\\nDeutsch: \"Fuß\" - Français: \"pied\"\\nDeutsch: \"Mitte\" - Français: \"milieu\"\\nDeutsch: \"Rede\" - Français: \"',\n",
       "  'out_token_id': [12722, 5168, 3431, 69],\n",
       "  'out_token_str': 'discours',\n",
       "  'latent_token_id': [48460, 1033, 9293, 84],\n",
       "  'latent_token_str': 'speech',\n",
       "  'in_token_str': 'Rede'},\n",
       " {'prompt': 'Deutsch: \"Mitte\" - Français: \"milieu\"\\nDeutsch: \"links\" - Français: \"gauche\"\\nDeutsch: \"Tag\" - Français: \"jour\"\\nDeutsch: \"Lied\" - Français: \"chanson\"\\nDeutsch: \"Kind\" - Français: \"',\n",
       "  'out_token_id': [70, 257],\n",
       "  'out_token_str': 'enfant',\n",
       "  'latent_token_id': [68, 4635, 348, 7003],\n",
       "  'latent_token_str': 'child',\n",
       "  'in_token_str': 'Kind'},\n",
       " {'prompt': 'Deutsch: \"drei\" - Français: \"trois\"\\nDeutsch: \"Kopf\" - Français: \"tête\"\\nDeutsch: \"neun\" - Français: \"neuf\"\\nDeutsch: \"Mund\" - Français: \"bouche\"\\nDeutsch: \"Haushalt\" - Français: \"',\n",
       "  'out_token_id': [78],\n",
       "  'out_token_str': 'ménage',\n",
       "  'latent_token_id': [1689, 73, 14451, 5967],\n",
       "  'latent_token_str': 'household',\n",
       "  'in_token_str': 'Haushalt'},\n",
       " {'prompt': 'Deutsch: \"drei\" - Français: \"trois\"\\nDeutsch: \"Richter\" - Français: \"juge\"\\nDeutsch: \"Feld\" - Français: \"champ\"\\nDeutsch: \"Tür\" - Français: \"porte\"\\nDeutsch: \"Büro\" - Français: \"',\n",
       "  'out_token_id': [9111, 13156, 67],\n",
       "  'out_token_str': 'bureau',\n",
       "  'latent_token_id': [1171, 19102, 2727, 80, 30496],\n",
       "  'latent_token_str': 'office',\n",
       "  'in_token_str': 'Büro'},\n",
       " {'prompt': 'Deutsch: \"Börse\" - Français: \"bourse\"\\nDeutsch: \"neun\" - Français: \"neuf\"\\nDeutsch: \"See\" - Français: \"lac\"\\nDeutsch: \"Stadt\" - Français: \"ville\"\\nDeutsch: \"Anstieg\" - Français: \"',\n",
       "  'out_token_id': [3227, 73, 25531],\n",
       "  'out_token_str': 'hausse',\n",
       "  'latent_token_id': [83, 24078, 363, 4448],\n",
       "  'latent_token_str': 'rise',\n",
       "  'in_token_str': 'Anstieg'},\n",
       " {'prompt': 'Deutsch: \"Licht\" - Français: \"lumière\"\\nDeutsch: \"Schönheit\" - Français: \"beauté\"\\nDeutsch: \"Auge\" - Français: \"œil\"\\nDeutsch: \"Gesicht\" - Français: \"visage\"\\nDeutsch: \"links\" - Français: \"',\n",
       "  'out_token_id': [72, 2485],\n",
       "  'out_token_str': 'gauche',\n",
       "  'latent_token_id': [1274, 77, 282],\n",
       "  'latent_token_str': 'left',\n",
       "  'in_token_str': 'links'},\n",
       " {'prompt': 'Deutsch: \"Beispiel\" - Français: \"exemple\"\\nDeutsch: \"Boden\" - Français: \"sol\"\\nDeutsch: \"Teich\" - Français: \"étang\"\\nDeutsch: \"Zeit\" - Français: \"temps\"\\nDeutsch: \"Sommer\" - Français: \"',\n",
       "  'out_token_id': [165],\n",
       "  'out_token_str': 'été',\n",
       "  'latent_token_id': [2204, 3467, 44830, 84],\n",
       "  'latent_token_str': 'summer',\n",
       "  'in_token_str': 'Sommer'}]"
      ]
     },
     "execution_count": 14,
     "metadata": {},
     "output_type": "execute_result"
    }
   ],
   "source": [
    "dataset"
   ]
  },
  {
   "cell_type": "code",
   "execution_count": 15,
   "id": "25241c49",
   "metadata": {
    "execution": {
     "iopub.execute_input": "2024-03-02T15:41:27.523592Z",
     "iopub.status.busy": "2024-03-02T15:41:27.523263Z",
     "iopub.status.idle": "2024-03-02T15:41:42.760436Z",
     "shell.execute_reply": "2024-03-02T15:41:42.759829Z"
    },
    "papermill": {
     "duration": 15.245779,
     "end_time": "2024-03-02T15:41:42.761534",
     "exception": false,
     "start_time": "2024-03-02T15:41:27.515755",
     "status": "completed"
    },
    "tags": []
   },
   "outputs": [
    {
     "name": "stderr",
     "output_type": "stream",
     "text": [
      "\r",
      "0it [00:00, ?it/s]"
     ]
    },
    {
     "name": "stderr",
     "output_type": "stream",
     "text": [
      "\r",
      "1it [00:01,  1.01s/it]"
     ]
    },
    {
     "name": "stderr",
     "output_type": "stream",
     "text": [
      "\r",
      "2it [00:01,  1.61it/s]"
     ]
    },
    {
     "name": "stderr",
     "output_type": "stream",
     "text": [
      "\r",
      "3it [00:01,  2.00it/s]"
     ]
    },
    {
     "name": "stderr",
     "output_type": "stream",
     "text": [
      "\r",
      "4it [00:02,  2.30it/s]"
     ]
    },
    {
     "name": "stderr",
     "output_type": "stream",
     "text": [
      "\r",
      "5it [00:02,  2.66it/s]"
     ]
    },
    {
     "name": "stderr",
     "output_type": "stream",
     "text": [
      "\r",
      "6it [00:02,  2.95it/s]"
     ]
    },
    {
     "name": "stderr",
     "output_type": "stream",
     "text": [
      "\r",
      "7it [00:02,  3.20it/s]"
     ]
    },
    {
     "name": "stderr",
     "output_type": "stream",
     "text": [
      "\r",
      "8it [00:03,  3.34it/s]"
     ]
    },
    {
     "name": "stderr",
     "output_type": "stream",
     "text": [
      "\r",
      "9it [00:03,  3.47it/s]"
     ]
    },
    {
     "name": "stderr",
     "output_type": "stream",
     "text": [
      "\r",
      "10it [00:03,  3.57it/s]"
     ]
    },
    {
     "name": "stderr",
     "output_type": "stream",
     "text": [
      "\r",
      "11it [00:03,  3.67it/s]"
     ]
    },
    {
     "name": "stderr",
     "output_type": "stream",
     "text": [
      "\r",
      "12it [00:04,  3.73it/s]"
     ]
    },
    {
     "name": "stderr",
     "output_type": "stream",
     "text": [
      "\r",
      "13it [00:04,  3.66it/s]"
     ]
    },
    {
     "name": "stderr",
     "output_type": "stream",
     "text": [
      "\r",
      "14it [00:04,  3.69it/s]"
     ]
    },
    {
     "name": "stderr",
     "output_type": "stream",
     "text": [
      "\r",
      "15it [00:04,  3.77it/s]"
     ]
    },
    {
     "name": "stderr",
     "output_type": "stream",
     "text": [
      "\r",
      "16it [00:05,  3.75it/s]"
     ]
    },
    {
     "name": "stderr",
     "output_type": "stream",
     "text": [
      "\r",
      "17it [00:05,  3.79it/s]"
     ]
    },
    {
     "name": "stderr",
     "output_type": "stream",
     "text": [
      "\r",
      "18it [00:05,  3.86it/s]"
     ]
    },
    {
     "name": "stderr",
     "output_type": "stream",
     "text": [
      "\r",
      "19it [00:05,  3.92it/s]"
     ]
    },
    {
     "name": "stderr",
     "output_type": "stream",
     "text": [
      "\r",
      "20it [00:06,  3.96it/s]"
     ]
    },
    {
     "name": "stderr",
     "output_type": "stream",
     "text": [
      "\r",
      "21it [00:06,  3.86it/s]"
     ]
    },
    {
     "name": "stderr",
     "output_type": "stream",
     "text": [
      "\r",
      "22it [00:06,  3.81it/s]"
     ]
    },
    {
     "name": "stderr",
     "output_type": "stream",
     "text": [
      "\r",
      "23it [00:07,  3.68it/s]"
     ]
    },
    {
     "name": "stderr",
     "output_type": "stream",
     "text": [
      "\r",
      "24it [00:07,  3.76it/s]"
     ]
    },
    {
     "name": "stderr",
     "output_type": "stream",
     "text": [
      "\r",
      "25it [00:07,  3.83it/s]"
     ]
    },
    {
     "name": "stderr",
     "output_type": "stream",
     "text": [
      "\r",
      "26it [00:07,  3.84it/s]"
     ]
    },
    {
     "name": "stderr",
     "output_type": "stream",
     "text": [
      "\r",
      "27it [00:08,  3.91it/s]"
     ]
    },
    {
     "name": "stderr",
     "output_type": "stream",
     "text": [
      "\r",
      "28it [00:08,  3.97it/s]"
     ]
    },
    {
     "name": "stderr",
     "output_type": "stream",
     "text": [
      "\r",
      "29it [00:08,  3.99it/s]"
     ]
    },
    {
     "name": "stderr",
     "output_type": "stream",
     "text": [
      "\r",
      "30it [00:08,  4.02it/s]"
     ]
    },
    {
     "name": "stderr",
     "output_type": "stream",
     "text": [
      "\r",
      "31it [00:09,  4.07it/s]"
     ]
    },
    {
     "name": "stderr",
     "output_type": "stream",
     "text": [
      "\r",
      "32it [00:09,  4.08it/s]"
     ]
    },
    {
     "name": "stderr",
     "output_type": "stream",
     "text": [
      "\r",
      "33it [00:09,  4.06it/s]"
     ]
    },
    {
     "name": "stderr",
     "output_type": "stream",
     "text": [
      "\r",
      "34it [00:09,  4.05it/s]"
     ]
    },
    {
     "name": "stderr",
     "output_type": "stream",
     "text": [
      "\r",
      "35it [00:10,  3.64it/s]"
     ]
    },
    {
     "name": "stderr",
     "output_type": "stream",
     "text": [
      "\r",
      "36it [00:10,  3.64it/s]"
     ]
    },
    {
     "name": "stderr",
     "output_type": "stream",
     "text": [
      "\r",
      "37it [00:10,  3.70it/s]"
     ]
    },
    {
     "name": "stderr",
     "output_type": "stream",
     "text": [
      "\r",
      "38it [00:10,  3.70it/s]"
     ]
    },
    {
     "name": "stderr",
     "output_type": "stream",
     "text": [
      "\r",
      "39it [00:11,  3.69it/s]"
     ]
    },
    {
     "name": "stderr",
     "output_type": "stream",
     "text": [
      "\r",
      "40it [00:11,  3.78it/s]"
     ]
    },
    {
     "name": "stderr",
     "output_type": "stream",
     "text": [
      "\r",
      "41it [00:11,  3.76it/s]"
     ]
    },
    {
     "name": "stderr",
     "output_type": "stream",
     "text": [
      "\r",
      "42it [00:11,  3.84it/s]"
     ]
    },
    {
     "name": "stderr",
     "output_type": "stream",
     "text": [
      "\r",
      "43it [00:12,  3.91it/s]"
     ]
    },
    {
     "name": "stderr",
     "output_type": "stream",
     "text": [
      "\r",
      "44it [00:12,  3.94it/s]"
     ]
    },
    {
     "name": "stderr",
     "output_type": "stream",
     "text": [
      "\r",
      "45it [00:12,  3.92it/s]"
     ]
    },
    {
     "name": "stderr",
     "output_type": "stream",
     "text": [
      "\r",
      "46it [00:12,  3.97it/s]"
     ]
    },
    {
     "name": "stderr",
     "output_type": "stream",
     "text": [
      "\r",
      "47it [00:13,  4.09it/s]"
     ]
    },
    {
     "name": "stderr",
     "output_type": "stream",
     "text": [
      "\r",
      "48it [00:13,  4.13it/s]"
     ]
    },
    {
     "name": "stderr",
     "output_type": "stream",
     "text": [
      "\r",
      "49it [00:13,  4.16it/s]"
     ]
    },
    {
     "name": "stderr",
     "output_type": "stream",
     "text": [
      "\r",
      "50it [00:13,  4.10it/s]"
     ]
    },
    {
     "name": "stderr",
     "output_type": "stream",
     "text": [
      "\r",
      "51it [00:14,  4.06it/s]"
     ]
    },
    {
     "name": "stderr",
     "output_type": "stream",
     "text": [
      "\r",
      "52it [00:14,  3.97it/s]"
     ]
    },
    {
     "name": "stderr",
     "output_type": "stream",
     "text": [
      "\r",
      "53it [00:14,  4.00it/s]"
     ]
    },
    {
     "name": "stderr",
     "output_type": "stream",
     "text": [
      "\r",
      "54it [00:14,  3.90it/s]"
     ]
    },
    {
     "name": "stderr",
     "output_type": "stream",
     "text": [
      "\r",
      "55it [00:15,  3.96it/s]"
     ]
    },
    {
     "name": "stderr",
     "output_type": "stream",
     "text": [
      "\r",
      "55it [00:15,  3.62it/s]"
     ]
    },
    {
     "name": "stderr",
     "output_type": "stream",
     "text": [
      "\n"
     ]
    }
   ],
   "source": [
    "in_token_probs = []\n",
    "latent_token_probs = []\n",
    "out_token_probs = []\n",
    "entropy = []\n",
    "energy = []\n",
    "latents_all = []\n",
    "\n",
    "for idx, d in tqdm(enumerate(dataset)):\n",
    "    logits,latents = get_logits(pythia, d['prompt'],pythia_lens)\n",
    "    last = logits[:, -1, :].float().softmax(dim=-1).detach().cpu()\n",
    "    latent_token_probs += [last[:, torch.tensor(d['latent_token_id'])].sum(dim=-1)]\n",
    "    out_token_probs += [last[:, torch.tensor(d['out_token_id'])].sum(dim=-1)]\n",
    "    entropy += [compute_entropy(last)]\n",
    "    latents_all += [latents[:, -1, :].float().detach().cpu().clone()]\n",
    "    latents_normalized = latents[:, -1, :].float()\n",
    "    latents_normalized = latents_normalized / (((latents_normalized**2).mean(dim=-1, keepdim=True))**0.5)\n",
    "    latents_normalized /= (latents_normalized.norm(dim=-1, keepdim=True))\n",
    "    norm = ((U_normalized @ latents_normalized.T)**2).mean(dim=0)**0.5\n",
    "    energy += [norm/avgUU]\n",
    "\n",
    "latent_token_probs = torch.stack(latent_token_probs)\n",
    "out_token_probs = torch.stack(out_token_probs)\n",
    "entropy = torch.stack(entropy)\n",
    "energy = torch.stack(energy)\n",
    "latents = torch.stack(latents_all)"
   ]
  },
  {
   "cell_type": "code",
   "execution_count": 16,
   "id": "680ef0b2",
   "metadata": {
    "execution": {
     "iopub.execute_input": "2024-03-02T15:41:42.781859Z",
     "iopub.status.busy": "2024-03-02T15:41:42.781610Z",
     "iopub.status.idle": "2024-03-02T15:41:43.154036Z",
     "shell.execute_reply": "2024-03-02T15:41:43.153506Z"
    },
    "papermill": {
     "duration": 0.383474,
     "end_time": "2024-03-02T15:41:43.155558",
     "exception": false,
     "start_time": "2024-03-02T15:41:42.772084",
     "status": "completed"
    },
    "tags": []
   },
   "outputs": [
    {
     "name": "stderr",
     "output_type": "stream",
     "text": [
      "/mnt/ssd-1/gpaulo/llm-latent-language/utils.py:52: UserWarning: This figure includes Axes that are not compatible with tight_layout, so results might be incorrect.\n",
      "  plt.tight_layout()\n"
     ]
    },
    {
     "data": {
      "image/png": "[encoded data removed]",
      "text/plain": [
       "<Figure size 500x300 with 3 Axes>"
      ]
     },
     "metadata": {},
     "output_type": "display_data"
    }
   ],
   "source": [
    "size2tik = {'7b': 5, '13b': 5, '70b': 10, '6.9b': 10,'12b': 10}\n",
    "fig, ax, ax2 = plot_ci_plus_heatmap(latent_token_probs, entropy, latent, color='tab:orange', tik_step=size2tik[model_size], do_colorbar=True, #, do_colorbar=(model_size=='70b'),\n",
    "nums=[.99, 0.18, 0.025, 0.6])\n",
    "plot_ci(ax2, out_token_probs, target_lang, color='tab:blue', do_lines=False)\n",
    "ax2.set_xlabel('layer')\n",
    "ax2.set_ylabel('probability')\n",
    "if model_size == '7b':\n",
    "    ax2.set_xlim(0, out_token_probs.shape[1]+1)\n",
    "else:\n",
    "    ax2.set_xlim(0, round(out_token_probs.shape[1]/10)*10+1)\n",
    "ax2.set_ylim(0, 1)\n",
    "# make xticks start from 1\n",
    "# put legend on the top left\n",
    "ax2.legend(loc='upper left')\n",
    "os.makedirs(f'{out_dir}/translation', exist_ok=True)\n",
    "\n",
    "plt.savefig(f'{out_dir}/translation/pythia_{model_size}_{input_lang}_{target_lang}_probas_ent.jpg', dpi=300, bbox_inches='tight')"
   ]
  },
  {
   "cell_type": "code",
   "execution_count": 17,
   "id": "48c50e4a",
   "metadata": {
    "execution": {
     "iopub.execute_input": "2024-03-02T15:41:43.176578Z",
     "iopub.status.busy": "2024-03-02T15:41:43.176366Z",
     "iopub.status.idle": "2024-03-02T15:41:43.345386Z",
     "shell.execute_reply": "2024-03-02T15:41:43.344936Z"
    },
    "papermill": {
     "duration": 0.180568,
     "end_time": "2024-03-02T15:41:43.347213",
     "exception": false,
     "start_time": "2024-03-02T15:41:43.166645",
     "status": "completed"
    },
    "tags": []
   },
   "outputs": [
    {
     "data": {
      "image/png": "[encoded data removed]",
      "text/plain": [
       "<Figure size 500x300 with 1 Axes>"
      ]
     },
     "metadata": {},
     "output_type": "display_data"
    }
   ],
   "source": [
    "size2tik = {'7b': 5, '13b': 5, '70b': 10,'12b': 10}\n",
    "\n",
    "fig, ax2 = plt.subplots(figsize=(5,3))\n",
    "plot_ci(ax2, energy, 'energy', color='tab:green', do_lines=True, tik_step=size2tik[model_size])\n",
    "ax2.set_xlabel('layer')\n",
    "ax2.set_ylabel('energy')\n",
    "if model_size == '7b':\n",
    "    ax2.set_xlim(0, out_token_probs.shape[1]+1)\n",
    "else:\n",
    "    ax2.set_xlim(0, round(out_token_probs.shape[1]/10)*10+1)\n",
    "os.makedirs(f'{out_dir}/translation', exist_ok=True)\n",
    "plt.savefig(f'{out_dir}/translation/pythia_{model_size}_{input_lang}_{target_lang}_energy.jpg', dpi=300, bbox_inches='tight')"
   ]
  },
  {
   "cell_type": "code",
   "execution_count": null,
   "id": "de0f66f1",
   "metadata": {
    "papermill": {
     "duration": 0.009776,
     "end_time": "2024-03-02T15:41:43.368337",
     "exception": false,
     "start_time": "2024-03-02T15:41:43.358561",
     "status": "completed"
    },
    "tags": []
   },
   "outputs": [],
   "source": []
  }
 ],
 "metadata": {
  "kernelspec": {
   "display_name": "Python 3 (ipykernel)",
   "language": "python",
   "name": "python3"
  },
  "language_info": {
   "codemirror_mode": {
    "name": "ipython",
    "version": 3
   },
   "file_extension": ".py",
   "mimetype": "text/x-python",
   "name": "python",
   "nbconvert_exporter": "python",
   "pygments_lexer": "ipython3",
   "version": "3.10.13"
  },
  "papermill": {
   "default_parameters": {},
   "duration": 58.171141,
   "end_time": "2024-03-02T15:41:44.799944",
   "environment_variables": {},
   "exception": null,
   "input_path": "Translation_pythia.ipynb",
   "output_path": "visuals/executed_notebooks/pythia_Translation_logit_12b_de_fr.ipynb",
   "parameters": {
    "input_lang": "de",
    "model_size": "12b",
    "target_lang": "fr",
    "type": "logit"
   },
   "start_time": "2024-03-02T15:40:46.628803",
   "version": "2.5.0"
  }
 },
 "nbformat": 4,
 "nbformat_minor": 5
}