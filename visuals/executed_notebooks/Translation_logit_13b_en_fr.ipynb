{
 "cells": [
  {
   "cell_type": "code",
   "execution_count": 1,
   "id": "9e266eca-b017-461f-9be4-bec02cae9b28",
   "metadata": {
    "execution": {
     "iopub.execute_input": "2024-02-23T21:05:44.863088Z",
     "iopub.status.busy": "2024-02-23T21:05:44.862788Z",
     "iopub.status.idle": "2024-02-23T21:05:44.874120Z",
     "shell.execute_reply": "2024-02-23T21:05:44.873752Z"
    },
    "papermill": {
     "duration": 0.01797,
     "end_time": "2024-02-23T21:05:44.874963",
     "exception": false,
     "start_time": "2024-02-23T21:05:44.856993",
     "status": "completed"
    },
    "tags": []
   },
   "outputs": [],
   "source": [
    "%load_ext autoreload\n",
    "%autoreload 2"
   ]
  },
  {
   "cell_type": "code",
   "execution_count": 2,
   "id": "fae8a7a9-6902-424e-8e66-b107fccb361f",
   "metadata": {
    "execution": {
     "iopub.execute_input": "2024-02-23T21:05:44.882491Z",
     "iopub.status.busy": "2024-02-23T21:05:44.882184Z",
     "iopub.status.idle": "2024-02-23T21:05:47.764855Z",
     "shell.execute_reply": "2024-02-23T21:05:47.764363Z"
    },
    "papermill": {
     "duration": 2.887426,
     "end_time": "2024-02-23T21:05:47.766181",
     "exception": false,
     "start_time": "2024-02-23T21:05:44.878755",
     "status": "completed"
    },
    "tags": []
   },
   "outputs": [],
   "source": [
    "import pandas as pd\n",
    "import sys\n",
    "import os\n",
    "from dataclasses import dataclass\n",
    "import json\n",
    "import numpy as np\n",
    "from matplotlib import pyplot as plt\n",
    "import seaborn as sns\n",
    "import torch\n",
    "import torch.nn as nn\n",
    "from llamawrapper import load_unemb_only, LlamaHelper\n",
    "import seaborn as sns\n",
    "from scipy.stats import bootstrap\n",
    "from utils import plot_ci, plot_ci_plus_heatmap\n",
    "from tqdm import tqdm\n",
    "from transformers import AutoModelForCausalLM, AutoTokenizer\n",
    "# fix random seed\n",
    "seed = 42\n",
    "np.random.seed(seed)\n",
    "torch.manual_seed(seed)\n",
    "sys.path.append('../tuned-lens')\n",
    "from tuned_lens.nn.lenses import TunedLens,LogitLens"
   ]
  },
  {
   "cell_type": "code",
   "execution_count": 3,
   "id": "1fb93987",
   "metadata": {
    "execution": {
     "iopub.execute_input": "2024-02-23T21:05:47.776509Z",
     "iopub.status.busy": "2024-02-23T21:05:47.776233Z",
     "iopub.status.idle": "2024-02-23T21:05:47.806984Z",
     "shell.execute_reply": "2024-02-23T21:05:47.806649Z"
    },
    "papermill": {
     "duration": 0.036732,
     "end_time": "2024-02-23T21:05:47.807869",
     "exception": false,
     "start_time": "2024-02-23T21:05:47.771137",
     "status": "completed"
    },
    "tags": [
     "parameters"
    ]
   },
   "outputs": [],
   "source": [
    "input_lang = 'fr'\n",
    "target_lang = 'en'\n",
    "model_size = '7b'\n",
    "prefix = \"./data/langs/\"\n",
    "type = 'tuned-chinese'"
   ]
  },
  {
   "cell_type": "code",
   "execution_count": 4,
   "id": "664c966d",
   "metadata": {
    "execution": {
     "iopub.execute_input": "2024-02-23T21:05:47.816181Z",
     "iopub.status.busy": "2024-02-23T21:05:47.815907Z",
     "iopub.status.idle": "2024-02-23T21:05:47.844969Z",
     "shell.execute_reply": "2024-02-23T21:05:47.844677Z"
    },
    "papermill": {
     "duration": 0.033564,
     "end_time": "2024-02-23T21:05:47.845918",
     "exception": false,
     "start_time": "2024-02-23T21:05:47.812354",
     "status": "completed"
    },
    "tags": [
     "injected-parameters"
    ]
   },
   "outputs": [],
   "source": [
    "# Parameters\n",
    "model_size = \"13b\"\n",
    "target_lang = \"fr\"\n",
    "input_lang = \"en\"\n",
    "type = \"logit\"\n"
   ]
  },
  {
   "cell_type": "code",
   "execution_count": 5,
   "id": "33747213",
   "metadata": {
    "execution": {
     "iopub.execute_input": "2024-02-23T21:05:47.858017Z",
     "iopub.status.busy": "2024-02-23T21:05:47.857865Z",
     "iopub.status.idle": "2024-02-23T21:05:55.907547Z",
     "shell.execute_reply": "2024-02-23T21:05:55.907001Z"
    },
    "papermill": {
     "duration": 8.059283,
     "end_time": "2024-02-23T21:05:55.908671",
     "exception": false,
     "start_time": "2024-02-23T21:05:47.849388",
     "status": "completed"
    },
    "tags": []
   },
   "outputs": [
    {
     "data": {
      "application/vnd.jupyter.widget-view+json": {
       "model_id": "551e1a16de5b47d7b6e20145cdfbecaf",
       "version_major": 2,
       "version_minor": 0
      },
      "text/plain": [
       "Loading checkpoint shards:   0%|          | 0/3 [00:00<?, ?it/s]"
      ]
     },
     "metadata": {},
     "output_type": "display_data"
    }
   ],
   "source": [
    "df_en_input = pd.read_csv(f'{prefix}{input_lang}/clean.csv').reindex()\n",
    "df_en_target = pd.read_csv(f'{prefix}{target_lang}/clean.csv').reindex()\n",
    "llama = AutoModelForCausalLM.from_pretrained(  # type: ignore\n",
    "                f\"meta-llama/Llama-2-{model_size}-hf\",\n",
    "                device_map={\"\": \"cuda\"},\n",
    "                revision=\"main\",\n",
    "                torch_dtype=\"auto\",\n",
    "                local_files_only=\"true\",cache_dir=\"/mnt/ssd-1/hf_cache/\"\n",
    "            )\n",
    "    \n",
    "latent=\"en\"\n",
    "if type == 'logit':\n",
    "    llama_lens = LogitLens.from_model(llama).to(\"cuda\")\n",
    "    out_dir = f'./visuals/logit'\n",
    "if type == 'tuned':\n",
    "    llama_lens = TunedLens.from_model_and_pretrained(llama,f\"meta-llama/Llama-2-{model_size}-hf\").to(\"cuda\")\n",
    "    out_dir = f'./visuals/tuned'\n",
    "if type == 'tuned-chinese':\n",
    "    llama_lens = TunedLens.from_model_and_pretrained(llama,\"../tuned-lens/my_lenses/chinese\").to(\"cuda\")\n",
    "    out_dir = f'./visuals/tuned-chinese'\n",
    "    latent = 'zh'\n",
    "    chinese = pd.read_csv(f'{prefix}zh/clean.csv').reindex()\n",
    "tokenizer = AutoTokenizer.from_pretrained(\n",
    "                f\"meta-llama/Llama-2-7b-hf\",local_files_only=\"true\",cache_dir=\"/mnt/ssd-1/hf_cache/\"\n",
    "            )"
   ]
  },
  {
   "cell_type": "code",
   "execution_count": 6,
   "id": "bc45e052",
   "metadata": {
    "execution": {
     "iopub.execute_input": "2024-02-23T21:05:55.918877Z",
     "iopub.status.busy": "2024-02-23T21:05:55.918739Z",
     "iopub.status.idle": "2024-02-23T21:05:57.644828Z",
     "shell.execute_reply": "2024-02-23T21:05:57.644453Z"
    },
    "papermill": {
     "duration": 1.732164,
     "end_time": "2024-02-23T21:05:57.645633",
     "exception": false,
     "start_time": "2024-02-23T21:05:55.913469",
     "status": "completed"
    },
    "tags": []
   },
   "outputs": [
    {
     "name": "stdout",
     "output_type": "stream",
     "text": [
      "Sequential(\n",
      "  (0): LlamaRMSNorm()\n",
      "  (1): Linear(in_features=5120, out_features=32000, bias=False)\n",
      ")\n",
      "U torch.Size([32000, 5120]) weights torch.Size([1, 5120])\n"
     ]
    },
    {
     "name": "stdout",
     "output_type": "stream",
     "text": [
      "0.11461826413869858\n"
     ]
    }
   ],
   "source": [
    "unemb = nn.Sequential(llama.model.norm, llama.lm_head)\n",
    "print(unemb)\n",
    "# prepare for energy plots\n",
    "U = list(unemb[1].parameters())[0].detach().cpu().float()\n",
    "weights = list(unemb[0].parameters())[0].detach().cpu().float()\n",
    "print(f'U {U.shape} weights {weights.unsqueeze(0).shape}')\n",
    "U_weighted = U.clone() \n",
    "#U_weighted = U_weighted / ((U_weighted**2).mean(dim=1, keepdim=True))**0.5\n",
    "U_weighted *= weights.unsqueeze(0)\n",
    "U_normalized = U_weighted / ((U_weighted**2).sum(dim=1, keepdim=True))**0.5\n",
    "v = U.shape[0]\n",
    "TT = U_normalized.T @ U_normalized\n",
    "avgUU = (((U_normalized.T @ U_normalized)**2).sum() / v**2)**0.5\n",
    "print(avgUU.item())"
   ]
  },
  {
   "cell_type": "code",
   "execution_count": 7,
   "id": "5686a8d5",
   "metadata": {
    "execution": {
     "iopub.execute_input": "2024-02-23T21:05:57.654358Z",
     "iopub.status.busy": "2024-02-23T21:05:57.654056Z",
     "iopub.status.idle": "2024-02-23T21:05:59.087969Z",
     "shell.execute_reply": "2024-02-23T21:05:59.087576Z"
    },
    "papermill": {
     "duration": 1.438603,
     "end_time": "2024-02-23T21:05:59.088783",
     "exception": false,
     "start_time": "2024-02-23T21:05:57.650180",
     "status": "completed"
    },
    "tags": []
   },
   "outputs": [
    {
     "name": "stdout",
     "output_type": "stream",
     "text": [
      "for fr 68 of 118 are single tokens\n",
      "final length of df_en_fr_en: 100\n"
     ]
    }
   ],
   "source": [
    "count = 0\n",
    "for idx, word in enumerate(df_en_target['word_translation']):\n",
    "    if word in tokenizer.get_vocab() or '▁'+word in tokenizer.get_vocab():\n",
    "        count += 1\n",
    "\n",
    "print(f'for {target_lang} {count} of {len(df_en_target)} are single tokens')\n",
    "\n",
    "if input_lang == target_lang:\n",
    "    df_en_target_input = df_en_target.copy()\n",
    "    if latent == 'zh':\n",
    "      chinese = chinese.loc[chinese[\"word_original\"].isin(df_en_input[\"word_original\"])]\n",
    "      chinese.reset_index(drop=True, inplace=True)\n",
    "      df_en_target_input['word_original'] = chinese['word_translation']\n",
    "    df_en_target_input.rename(columns={'word_original': latent, \n",
    "                                f'word_translation': target_lang if target_lang != latent else f'{latent}_tgt'}, \n",
    "                                inplace=True)\n",
    "    \n",
    "else:\n",
    "    df_en_target_input = df_en_target.merge(df_en_input, on=['word_original'], suffixes=(f'_{target_lang}', f'_{input_lang}'))\n",
    "    if latent == 'zh':\n",
    "      chinese=chinese.loc[chinese[\"word_original\"].isin(df_en_input[\"word_original\"])]\n",
    "      chinese.reset_index(drop=True, inplace=True)\n",
    "    \n",
    "      df_en_target_input['word_original'] = chinese['word_translation']\n",
    "\n",
    "    df_en_target_input.rename(columns={'word_original': latent, \n",
    "                                f'word_translation_{target_lang}': target_lang if target_lang != latent else f'{latent}_tgt', \n",
    "                                f'word_translation_{input_lang}': input_lang if input_lang != latent else f'{latent}_in'}, \n",
    "                                inplace=True)\n",
    "# delete all rows where en is contained in de or fr\n",
    "if target_lang != latent:\n",
    "    for i, row in df_en_target_input.iterrows():\n",
    "        if row[latent].lower() in row[target_lang].lower():\n",
    "            df_en_target_input.drop(i, inplace=True)\n",
    "\n",
    "print(f'final length of df_en_{target_lang}_{input_lang}: {len(df_en_target_input)}')"
   ]
  },
  {
   "cell_type": "code",
   "execution_count": 8,
   "id": "eed300f4",
   "metadata": {
    "execution": {
     "iopub.execute_input": "2024-02-23T21:05:59.098415Z",
     "iopub.status.busy": "2024-02-23T21:05:59.098253Z",
     "iopub.status.idle": "2024-02-23T21:05:59.134637Z",
     "shell.execute_reply": "2024-02-23T21:05:59.134248Z"
    },
    "papermill": {
     "duration": 0.041228,
     "end_time": "2024-02-23T21:05:59.135439",
     "exception": false,
     "start_time": "2024-02-23T21:05:59.094211",
     "status": "completed"
    },
    "tags": []
   },
   "outputs": [
    {
     "data": {
      "text/html": [
       "<div>\n",
       "<style scoped>\n",
       "    .dataframe tbody tr th:only-of-type {\n",
       "        vertical-align: middle;\n",
       "    }\n",
       "\n",
       "    .dataframe tbody tr th {\n",
       "        vertical-align: top;\n",
       "    }\n",
       "\n",
       "    .dataframe thead th {\n",
       "        text-align: right;\n",
       "    }\n",
       "</style>\n",
       "<table border=\"1\" class=\"dataframe\">\n",
       "  <thead>\n",
       "    <tr style=\"text-align: right;\">\n",
       "      <th></th>\n",
       "      <th>lang_fr</th>\n",
       "      <th>en</th>\n",
       "      <th>fr</th>\n",
       "      <th>blank_prompt_original_fr</th>\n",
       "      <th>blank_prompt_translation_fr</th>\n",
       "      <th>blank_prompt_translation_masked_fr</th>\n",
       "      <th>error_fr</th>\n",
       "      <th>lang_en</th>\n",
       "      <th>en_in</th>\n",
       "      <th>blank_prompt_original_en</th>\n",
       "      <th>blank_prompt_translation_en</th>\n",
       "      <th>blank_prompt_translation_masked_en</th>\n",
       "      <th>error_en</th>\n",
       "    </tr>\n",
       "  </thead>\n",
       "  <tbody>\n",
       "    <tr>\n",
       "      <th>0</th>\n",
       "      <td>fr</td>\n",
       "      <td>cloud</td>\n",
       "      <td>nuage</td>\n",
       "      <td>A \"cloud\" is a visible mass of condensed water...</td>\n",
       "      <td>Un \"nuage\" est une masse visible de vapeur d'e...</td>\n",
       "      <td>Un \"___\" est une masse visible de vapeur d'eau...</td>\n",
       "      <td>no error</td>\n",
       "      <td>en</td>\n",
       "      <td>cloud</td>\n",
       "      <td>A \"cloud\" is a visible mass of condensed water...</td>\n",
       "      <td>A \"cloud\" is a visible mass of condensed water...</td>\n",
       "      <td>A \"___\" is a visible mass of condensed water v...</td>\n",
       "      <td>no error</td>\n",
       "    </tr>\n",
       "    <tr>\n",
       "      <th>1</th>\n",
       "      <td>fr</td>\n",
       "      <td>bag</td>\n",
       "      <td>sac</td>\n",
       "      <td>A \"bag\" is used to carry items. Answer: \"bag\".</td>\n",
       "      <td>Un \"sac\" est utilisé pour transporter des obje...</td>\n",
       "      <td>Un \"___\" est utilisé pour transporter des obje...</td>\n",
       "      <td>no error</td>\n",
       "      <td>en</td>\n",
       "      <td>bag</td>\n",
       "      <td>A \"bag\" is used to carry items. Answer: \"bag\".</td>\n",
       "      <td>A \"bag\" is used to carry items. Answer: \"bag\".</td>\n",
       "      <td>A \"___\" is used to carry items. Answer: \"bag\".</td>\n",
       "      <td>no error</td>\n",
       "    </tr>\n",
       "    <tr>\n",
       "      <th>2</th>\n",
       "      <td>fr</td>\n",
       "      <td>mouth</td>\n",
       "      <td>bouche</td>\n",
       "      <td>A \"mouth\" is used to eat food and speak. Answe...</td>\n",
       "      <td>La \"bouche\" sert à manger et à parler. Réponse...</td>\n",
       "      <td>La \"___\" sert à manger et à parler. Réponse : ...</td>\n",
       "      <td>no error</td>\n",
       "      <td>en</td>\n",
       "      <td>mouth</td>\n",
       "      <td>A \"mouth\" is used to eat food and speak. Answe...</td>\n",
       "      <td>A \"mouth\" is used to eat food and speak. Answe...</td>\n",
       "      <td>A \"___\" is used to eat food and speak. Answer:...</td>\n",
       "      <td>no error</td>\n",
       "    </tr>\n",
       "    <tr>\n",
       "      <th>3</th>\n",
       "      <td>fr</td>\n",
       "      <td>soil</td>\n",
       "      <td>sol</td>\n",
       "      <td>\"A \"soil\" is used for planting trees and crops...</td>\n",
       "      <td>\"Un \"sol\" est utilisé pour planter des arbres ...</td>\n",
       "      <td>\"Un \"___\" est utilisé pour planter des arbres ...</td>\n",
       "      <td>no error</td>\n",
       "      <td>en</td>\n",
       "      <td>soil</td>\n",
       "      <td>\"A \"soil\" is used for planting trees and crops...</td>\n",
       "      <td>\"A \"soil\" is used for planting trees and crops...</td>\n",
       "      <td>\"A \"___\" is used for planting trees and crops....</td>\n",
       "      <td>no error</td>\n",
       "    </tr>\n",
       "    <tr>\n",
       "      <th>4</th>\n",
       "      <td>fr</td>\n",
       "      <td>mountain</td>\n",
       "      <td>montagne</td>\n",
       "      <td>A \"mountain\" is a large natural elevation of t...</td>\n",
       "      <td>Une \"montagne\" est une grande élévation nature...</td>\n",
       "      <td>Une \"___\" est une grande élévation naturelle d...</td>\n",
       "      <td>no error</td>\n",
       "      <td>en</td>\n",
       "      <td>mountain</td>\n",
       "      <td>A \"mountain\" is a large natural elevation of t...</td>\n",
       "      <td>A \"mountain\" is a large natural elevation of t...</td>\n",
       "      <td>A \"___\" is a large natural elevation of the ea...</td>\n",
       "      <td>no error</td>\n",
       "    </tr>\n",
       "    <tr>\n",
       "      <th>...</th>\n",
       "      <td>...</td>\n",
       "      <td>...</td>\n",
       "      <td>...</td>\n",
       "      <td>...</td>\n",
       "      <td>...</td>\n",
       "      <td>...</td>\n",
       "      <td>...</td>\n",
       "      <td>...</td>\n",
       "      <td>...</td>\n",
       "      <td>...</td>\n",
       "      <td>...</td>\n",
       "      <td>...</td>\n",
       "      <td>...</td>\n",
       "    </tr>\n",
       "    <tr>\n",
       "      <th>113</th>\n",
       "      <td>fr</td>\n",
       "      <td>rise</td>\n",
       "      <td>hausse</td>\n",
       "      <td>\"A \"rise\" is used to describe an increase or u...</td>\n",
       "      <td>\"Une \"hausse\" est utilisée pour décrire une au...</td>\n",
       "      <td>\"Une \"___\" est utilisée pour décrire une augme...</td>\n",
       "      <td>no error</td>\n",
       "      <td>en</td>\n",
       "      <td>rise</td>\n",
       "      <td>\"A \"rise\" is used to describe an increase or u...</td>\n",
       "      <td>\"A \"rise\" is used to describe an increase or u...</td>\n",
       "      <td>\"A \"___\" is used to describe an increase or up...</td>\n",
       "      <td>no error</td>\n",
       "    </tr>\n",
       "    <tr>\n",
       "      <th>114</th>\n",
       "      <td>fr</td>\n",
       "      <td>left</td>\n",
       "      <td>gauche</td>\n",
       "      <td>'A \"left\" is a direction opposite to right. An...</td>\n",
       "      <td>Une \"gauche\" est une direction opposée à la dr...</td>\n",
       "      <td>Une \"___\" est une direction opposée à la droit...</td>\n",
       "      <td>no error</td>\n",
       "      <td>en</td>\n",
       "      <td>left</td>\n",
       "      <td>'A \"left\" is a direction opposite to right. An...</td>\n",
       "      <td>'A \"left\" is a direction opposite to right. An...</td>\n",
       "      <td>'A \"___\" is a direction opposite to right. Ans...</td>\n",
       "      <td>no error</td>\n",
       "    </tr>\n",
       "    <tr>\n",
       "      <th>115</th>\n",
       "      <td>fr</td>\n",
       "      <td>sound</td>\n",
       "      <td>son</td>\n",
       "      <td>A \"sound\" is something we hear. Answer: \"sound\".</td>\n",
       "      <td>Un \"son\" est quelque chose que l'on entend. Ré...</td>\n",
       "      <td>Un \"___\" est quelque chose que l'on entend. Ré...</td>\n",
       "      <td>no error</td>\n",
       "      <td>en</td>\n",
       "      <td>sound</td>\n",
       "      <td>A \"sound\" is something we hear. Answer: \"sound\".</td>\n",
       "      <td>A \"sound\" is something we hear. Answer: \"sound\".</td>\n",
       "      <td>A \"___\" is something we hear. Answer: \"sound\".</td>\n",
       "      <td>no error</td>\n",
       "    </tr>\n",
       "    <tr>\n",
       "      <th>116</th>\n",
       "      <td>fr</td>\n",
       "      <td>power</td>\n",
       "      <td>pouvoir</td>\n",
       "      <td>\"A \"power\" is used to control or influence peo...</td>\n",
       "      <td>\"Un \"pouvoir\" est utilisé pour contrôler ou in...</td>\n",
       "      <td>\"Un \"___\" est utilisé pour contrôler ou influe...</td>\n",
       "      <td>no error</td>\n",
       "      <td>en</td>\n",
       "      <td>power</td>\n",
       "      <td>\"A \"power\" is used to control or influence peo...</td>\n",
       "      <td>\"A \"power\" is used to control or influence peo...</td>\n",
       "      <td>\"A \"___\" is used to control or influence peopl...</td>\n",
       "      <td>no error</td>\n",
       "    </tr>\n",
       "    <tr>\n",
       "      <th>117</th>\n",
       "      <td>fr</td>\n",
       "      <td>summer</td>\n",
       "      <td>été</td>\n",
       "      <td>\"The \"summer\" is a season known for its warm w...</td>\n",
       "      <td>\"L'\"été\" est une saison connue pour son temps ...</td>\n",
       "      <td>\"L'\"___\" est une saison connue pour son temps ...</td>\n",
       "      <td>no error</td>\n",
       "      <td>en</td>\n",
       "      <td>summer</td>\n",
       "      <td>\"The \"summer\" is a season known for its warm w...</td>\n",
       "      <td>\"The \"summer\" is a season known for its warm w...</td>\n",
       "      <td>\"The \"___\" is a season known for its warm weat...</td>\n",
       "      <td>no error</td>\n",
       "    </tr>\n",
       "  </tbody>\n",
       "</table>\n",
       "<p>100 rows × 13 columns</p>\n",
       "</div>"
      ],
      "text/plain": [
       "    lang_fr        en        fr  \\\n",
       "0        fr     cloud     nuage   \n",
       "1        fr       bag       sac   \n",
       "2        fr     mouth    bouche   \n",
       "3        fr      soil       sol   \n",
       "4        fr  mountain  montagne   \n",
       "..      ...       ...       ...   \n",
       "113      fr      rise    hausse   \n",
       "114      fr      left    gauche   \n",
       "115      fr     sound       son   \n",
       "116      fr     power   pouvoir   \n",
       "117      fr    summer       été   \n",
       "\n",
       "                              blank_prompt_original_fr  \\\n",
       "0    A \"cloud\" is a visible mass of condensed water...   \n",
       "1       A \"bag\" is used to carry items. Answer: \"bag\".   \n",
       "2    A \"mouth\" is used to eat food and speak. Answe...   \n",
       "3    \"A \"soil\" is used for planting trees and crops...   \n",
       "4    A \"mountain\" is a large natural elevation of t...   \n",
       "..                                                 ...   \n",
       "113  \"A \"rise\" is used to describe an increase or u...   \n",
       "114  'A \"left\" is a direction opposite to right. An...   \n",
       "115   A \"sound\" is something we hear. Answer: \"sound\".   \n",
       "116  \"A \"power\" is used to control or influence peo...   \n",
       "117  \"The \"summer\" is a season known for its warm w...   \n",
       "\n",
       "                           blank_prompt_translation_fr  \\\n",
       "0    Un \"nuage\" est une masse visible de vapeur d'e...   \n",
       "1    Un \"sac\" est utilisé pour transporter des obje...   \n",
       "2    La \"bouche\" sert à manger et à parler. Réponse...   \n",
       "3    \"Un \"sol\" est utilisé pour planter des arbres ...   \n",
       "4    Une \"montagne\" est une grande élévation nature...   \n",
       "..                                                 ...   \n",
       "113  \"Une \"hausse\" est utilisée pour décrire une au...   \n",
       "114  Une \"gauche\" est une direction opposée à la dr...   \n",
       "115  Un \"son\" est quelque chose que l'on entend. Ré...   \n",
       "116  \"Un \"pouvoir\" est utilisé pour contrôler ou in...   \n",
       "117  \"L'\"été\" est une saison connue pour son temps ...   \n",
       "\n",
       "                    blank_prompt_translation_masked_fr  error_fr lang_en  \\\n",
       "0    Un \"___\" est une masse visible de vapeur d'eau...  no error      en   \n",
       "1    Un \"___\" est utilisé pour transporter des obje...  no error      en   \n",
       "2    La \"___\" sert à manger et à parler. Réponse : ...  no error      en   \n",
       "3    \"Un \"___\" est utilisé pour planter des arbres ...  no error      en   \n",
       "4    Une \"___\" est une grande élévation naturelle d...  no error      en   \n",
       "..                                                 ...       ...     ...   \n",
       "113  \"Une \"___\" est utilisée pour décrire une augme...  no error      en   \n",
       "114  Une \"___\" est une direction opposée à la droit...  no error      en   \n",
       "115  Un \"___\" est quelque chose que l'on entend. Ré...  no error      en   \n",
       "116  \"Un \"___\" est utilisé pour contrôler ou influe...  no error      en   \n",
       "117  \"L'\"___\" est une saison connue pour son temps ...  no error      en   \n",
       "\n",
       "        en_in                           blank_prompt_original_en  \\\n",
       "0       cloud  A \"cloud\" is a visible mass of condensed water...   \n",
       "1         bag     A \"bag\" is used to carry items. Answer: \"bag\".   \n",
       "2       mouth  A \"mouth\" is used to eat food and speak. Answe...   \n",
       "3        soil  \"A \"soil\" is used for planting trees and crops...   \n",
       "4    mountain  A \"mountain\" is a large natural elevation of t...   \n",
       "..        ...                                                ...   \n",
       "113      rise  \"A \"rise\" is used to describe an increase or u...   \n",
       "114      left  'A \"left\" is a direction opposite to right. An...   \n",
       "115     sound   A \"sound\" is something we hear. Answer: \"sound\".   \n",
       "116     power  \"A \"power\" is used to control or influence peo...   \n",
       "117    summer  \"The \"summer\" is a season known for its warm w...   \n",
       "\n",
       "                           blank_prompt_translation_en  \\\n",
       "0    A \"cloud\" is a visible mass of condensed water...   \n",
       "1       A \"bag\" is used to carry items. Answer: \"bag\".   \n",
       "2    A \"mouth\" is used to eat food and speak. Answe...   \n",
       "3    \"A \"soil\" is used for planting trees and crops...   \n",
       "4    A \"mountain\" is a large natural elevation of t...   \n",
       "..                                                 ...   \n",
       "113  \"A \"rise\" is used to describe an increase or u...   \n",
       "114  'A \"left\" is a direction opposite to right. An...   \n",
       "115   A \"sound\" is something we hear. Answer: \"sound\".   \n",
       "116  \"A \"power\" is used to control or influence peo...   \n",
       "117  \"The \"summer\" is a season known for its warm w...   \n",
       "\n",
       "                    blank_prompt_translation_masked_en  error_en  \n",
       "0    A \"___\" is a visible mass of condensed water v...  no error  \n",
       "1       A \"___\" is used to carry items. Answer: \"bag\".  no error  \n",
       "2    A \"___\" is used to eat food and speak. Answer:...  no error  \n",
       "3    \"A \"___\" is used for planting trees and crops....  no error  \n",
       "4    A \"___\" is a large natural elevation of the ea...  no error  \n",
       "..                                                 ...       ...  \n",
       "113  \"A \"___\" is used to describe an increase or up...  no error  \n",
       "114  'A \"___\" is a direction opposite to right. Ans...  no error  \n",
       "115     A \"___\" is something we hear. Answer: \"sound\".  no error  \n",
       "116  \"A \"___\" is used to control or influence peopl...  no error  \n",
       "117  \"The \"___\" is a season known for its warm weat...  no error  \n",
       "\n",
       "[100 rows x 13 columns]"
      ]
     },
     "execution_count": 8,
     "metadata": {},
     "output_type": "execute_result"
    }
   ],
   "source": [
    "df_en_target_input"
   ]
  },
  {
   "cell_type": "code",
   "execution_count": 9,
   "id": "f0c0a52d",
   "metadata": {
    "execution": {
     "iopub.execute_input": "2024-02-23T21:05:59.144555Z",
     "iopub.status.busy": "2024-02-23T21:05:59.144418Z",
     "iopub.status.idle": "2024-02-23T21:05:59.178321Z",
     "shell.execute_reply": "2024-02-23T21:05:59.177983Z"
    },
    "papermill": {
     "duration": 0.039065,
     "end_time": "2024-02-23T21:05:59.179105",
     "exception": false,
     "start_time": "2024-02-23T21:05:59.140040",
     "status": "completed"
    },
    "tags": []
   },
   "outputs": [],
   "source": [
    "def token_prefixes(token_str: str):\n",
    "    n = len(token_str)\n",
    "    tokens = [token_str[:i] for i in range(1, n+1)]\n",
    "    return tokens \n",
    "\n",
    "def add_spaces(tokens):\n",
    "    return ['▁' + t for t in tokens] + tokens\n",
    "\n",
    "def capitalizations(tokens):\n",
    "    return list(set(tokens))\n",
    "\n",
    "def unicode_prefix_tokid(zh_char = \"云\", tokenizer=tokenizer):\n",
    "    start = zh_char.encode().__str__()[2:-1].split('\\\\x')[1]\n",
    "    unicode_format = '<0x%s>'\n",
    "    start_key = unicode_format%start.upper()\n",
    "    if start_key in tokenizer.get_vocab():\n",
    "        return tokenizer.get_vocab()[start_key]\n",
    "    return None\n",
    "\n",
    "def process_tokens(token_str: str, tokenizer, lang):\n",
    "    with_prefixes = token_prefixes(token_str)\n",
    "    with_spaces = add_spaces(with_prefixes)\n",
    "    with_capitalizations = capitalizations(with_spaces)\n",
    "    final_tokens = []\n",
    "    for tok in with_capitalizations:\n",
    "        if tok in tokenizer.get_vocab():\n",
    "            final_tokens.append(tokenizer.get_vocab()[tok])\n",
    "    if lang in ['zh', 'ru']:\n",
    "        tokid = unicode_prefix_tokid(token_str, tokenizer)\n",
    "        if tokid is not None:\n",
    "            final_tokens.append(tokid)\n",
    "    return final_tokens"
   ]
  },
  {
   "cell_type": "code",
   "execution_count": 10,
   "id": "faa7bb78",
   "metadata": {
    "execution": {
     "iopub.execute_input": "2024-02-23T21:05:59.187241Z",
     "iopub.status.busy": "2024-02-23T21:05:59.187092Z",
     "iopub.status.idle": "2024-02-23T21:05:59.228189Z",
     "shell.execute_reply": "2024-02-23T21:05:59.227875Z"
    },
    "papermill": {
     "duration": 0.045878,
     "end_time": "2024-02-23T21:05:59.229042",
     "exception": false,
     "start_time": "2024-02-23T21:05:59.183164",
     "status": "completed"
    },
    "tags": []
   },
   "outputs": [],
   "source": [
    "\n",
    "id2voc = {id:voc for voc, id in tokenizer.get_vocab().items()}\n",
    "def get_tokens(token_ids, id2voc=id2voc):\n",
    "    return [id2voc[tokid] for tokid in token_ids]\n",
    "\n",
    "def compute_entropy(probas):\n",
    "    return (-probas*torch.log2(probas)).sum(dim=-1)\n",
    "\n",
    "lang2name = {'fr': 'Français', 'de': 'Deutsch', 'ru': 'Русский', 'en': 'English', 'zh': '中文'}\n",
    "def sample(df, ind, k=5, tokenizer=tokenizer, lang1='fr', lang2='de', lang_latent=latent):\n",
    "    df = df.reset_index(drop=True)\n",
    "    temp = df[df.index!=ind]\n",
    "    sample = pd.concat([temp.sample(k-1), df[df.index==ind]], axis=0)\n",
    "    prompt = \"\"\n",
    "    for idx, (df_idx, row) in enumerate(sample.iterrows()):\n",
    "        if idx < k-1:\n",
    "            prompt += f'{lang2name[lang1]}: \"{row[lang1]}\" - {lang2name[lang2]}: \"{row[lang2]}\"\\n'\n",
    "        else:\n",
    "            prompt += f'{lang2name[lang1]}: \"{row[lang1]}\" - {lang2name[lang2]}: \"'\n",
    "            in_token_str = row[lang1]\n",
    "            out_token_str = row[lang2]\n",
    "            out_token_id = process_tokens(out_token_str, tokenizer, lang2)\n",
    "            latent_token_str = row[lang_latent]\n",
    "            latent_token_id = process_tokens(latent_token_str, tokenizer, latent)\n",
    "            intersection = set(out_token_id).intersection(set(latent_token_id))\n",
    "            print(intersection)\n",
    "            if len(out_token_id) == 0 or len(latent_token_id) == 0:\n",
    "                yield None\n",
    "            if lang2 != latent and len(intersection) > 0:\n",
    "                yield None\n",
    "            yield {'prompt': prompt, \n",
    "                'out_token_id': out_token_id, \n",
    "                'out_token_str': out_token_str,\n",
    "                'latent_token_id': latent_token_id, \n",
    "                'latent_token_str': latent_token_str, \n",
    "                'in_token_str': in_token_str}"
   ]
  },
  {
   "cell_type": "code",
   "execution_count": 11,
   "id": "444dd726",
   "metadata": {
    "execution": {
     "iopub.execute_input": "2024-02-23T21:05:59.238912Z",
     "iopub.status.busy": "2024-02-23T21:05:59.238584Z",
     "iopub.status.idle": "2024-02-23T21:05:59.265419Z",
     "shell.execute_reply": "2024-02-23T21:05:59.265109Z"
    },
    "papermill": {
     "duration": 0.031913,
     "end_time": "2024-02-23T21:05:59.266168",
     "exception": false,
     "start_time": "2024-02-23T21:05:59.234255",
     "status": "completed"
    },
    "tags": []
   },
   "outputs": [
    {
     "data": {
      "text/plain": [
       "'en'"
      ]
     },
     "execution_count": 11,
     "metadata": {},
     "output_type": "execute_result"
    }
   ],
   "source": [
    "latent"
   ]
  },
  {
   "cell_type": "code",
   "execution_count": 12,
   "id": "500641f5",
   "metadata": {
    "execution": {
     "iopub.execute_input": "2024-02-23T21:05:59.275669Z",
     "iopub.status.busy": "2024-02-23T21:05:59.275519Z",
     "iopub.status.idle": "2024-02-23T21:06:20.802464Z",
     "shell.execute_reply": "2024-02-23T21:06:20.801779Z"
    },
    "papermill": {
     "duration": 21.532749,
     "end_time": "2024-02-23T21:06:20.803433",
     "exception": false,
     "start_time": "2024-02-23T21:05:59.270684",
     "status": "completed"
    },
    "tags": []
   },
   "outputs": [
    {
     "name": "stderr",
     "output_type": "stream",
     "text": [
      "\r",
      "  0%|                                                                                                                                                                                                                       | 0/100 [00:00<?, ?it/s]"
     ]
    },
    {
     "name": "stderr",
     "output_type": "stream",
     "text": [
      "\r",
      "  1%|██                                                                                                                                                                                                             | 1/100 [00:00<00:21,  4.59it/s]"
     ]
    },
    {
     "name": "stderr",
     "output_type": "stream",
     "text": [
      "\r",
      "  2%|████▏                                                                                                                                                                                                          | 2/100 [00:00<00:17,  5.66it/s]"
     ]
    },
    {
     "name": "stdout",
     "output_type": "stream",
     "text": [
      "set()\n",
      "set()\n"
     ]
    },
    {
     "name": "stderr",
     "output_type": "stream",
     "text": [
      "\r",
      "  3%|██████▏                                                                                                                                                                                                        | 3/100 [00:00<00:19,  5.10it/s]"
     ]
    },
    {
     "name": "stderr",
     "output_type": "stream",
     "text": [
      "\r",
      "  4%|████████▎                                                                                                                                                                                                      | 4/100 [00:00<00:17,  5.40it/s]"
     ]
    },
    {
     "name": "stdout",
     "output_type": "stream",
     "text": [
      "set()\n",
      "{577, 578, 269, 29879}\n"
     ]
    },
    {
     "name": "stderr",
     "output_type": "stream",
     "text": [
      "\r",
      "  5%|██████████▎                                                                                                                                                                                                    | 5/100 [00:01<00:21,  4.35it/s]"
     ]
    },
    {
     "name": "stderr",
     "output_type": "stream",
     "text": [
      "\r",
      "  6%|████████████▍                                                                                                                                                                                                  | 6/100 [00:01<00:19,  4.74it/s]"
     ]
    },
    {
     "name": "stdout",
     "output_type": "stream",
     "text": [
      "{2730, 29885, 286, 4346}\n",
      "set()\n"
     ]
    },
    {
     "name": "stderr",
     "output_type": "stream",
     "text": [
      "\r",
      "  7%|██████████████▍                                                                                                                                                                                                | 7/100 [00:01<00:20,  4.58it/s]"
     ]
    },
    {
     "name": "stderr",
     "output_type": "stream",
     "text": [
      "\r",
      "  8%|████████████████▌                                                                                                                                                                                              | 8/100 [00:01<00:18,  4.88it/s]"
     ]
    },
    {
     "name": "stdout",
     "output_type": "stream",
     "text": [
      "set()\n",
      "set()\n"
     ]
    },
    {
     "name": "stderr",
     "output_type": "stream",
     "text": [
      "\r",
      "  9%|██████████████████▋                                                                                                                                                                                            | 9/100 [00:01<00:18,  4.86it/s]"
     ]
    },
    {
     "name": "stdout",
     "output_type": "stream",
     "text": [
      "set()\n"
     ]
    },
    {
     "name": "stderr",
     "output_type": "stream",
     "text": [
      "\r",
      " 10%|████████████████████▌                                                                                                                                                                                         | 10/100 [00:02<00:20,  4.42it/s]"
     ]
    },
    {
     "name": "stderr",
     "output_type": "stream",
     "text": [
      "\r",
      " 11%|██████████████████████▋                                                                                                                                                                                       | 11/100 [00:02<00:18,  4.78it/s]"
     ]
    },
    {
     "name": "stdout",
     "output_type": "stream",
     "text": [
      "set()\n",
      "set()\n"
     ]
    },
    {
     "name": "stderr",
     "output_type": "stream",
     "text": [
      "\r",
      " 12%|████████████████████████▋                                                                                                                                                                                     | 12/100 [00:02<00:17,  5.03it/s]"
     ]
    },
    {
     "name": "stdout",
     "output_type": "stream",
     "text": [
      "set()\n"
     ]
    },
    {
     "name": "stderr",
     "output_type": "stream",
     "text": [
      "\r",
      " 13%|██████████████████████████▊                                                                                                                                                                                   | 13/100 [00:02<00:18,  4.74it/s]"
     ]
    },
    {
     "name": "stdout",
     "output_type": "stream",
     "text": [
      "{29888, 1701, 363, 1454, 1181, 285}\n",
      "{330, 867, 629, 29887}\n"
     ]
    },
    {
     "name": "stderr",
     "output_type": "stream",
     "text": [
      "\r",
      " 14%|████████████████████████████▊                                                                                                                                                                                 | 14/100 [00:02<00:17,  4.80it/s]"
     ]
    },
    {
     "name": "stderr",
     "output_type": "stream",
     "text": [
      "\r",
      " 15%|██████████████████████████████▉                                                                                                                                                                               | 15/100 [00:03<00:18,  4.55it/s]"
     ]
    },
    {
     "name": "stderr",
     "output_type": "stream",
     "text": [
      "\r",
      " 16%|████████████████████████████████▉                                                                                                                                                                             | 16/100 [00:03<00:17,  4.73it/s]"
     ]
    },
    {
     "name": "stdout",
     "output_type": "stream",
     "text": [
      "set()\n",
      "set()\n"
     ]
    },
    {
     "name": "stderr",
     "output_type": "stream",
     "text": [
      "\r",
      " 17%|███████████████████████████████████                                                                                                                                                                           | 17/100 [00:03<00:17,  4.81it/s]"
     ]
    },
    {
     "name": "stderr",
     "output_type": "stream",
     "text": [
      "\r",
      " 18%|█████████████████████████████████████                                                                                                                                                                         | 18/100 [00:03<00:15,  5.27it/s]"
     ]
    },
    {
     "name": "stdout",
     "output_type": "stream",
     "text": [
      "{872, 4977, 269, 29879}\n",
      "{29880, 301}\n"
     ]
    },
    {
     "name": "stderr",
     "output_type": "stream",
     "text": [
      "\r",
      " 19%|███████████████████████████████████████▏                                                                                                                                                                      | 19/100 [00:03<00:15,  5.30it/s]"
     ]
    },
    {
     "name": "stderr",
     "output_type": "stream",
     "text": [
      "\r",
      " 20%|█████████████████████████████████████████▏                                                                                                                                                                    | 20/100 [00:04<00:15,  5.26it/s]"
     ]
    },
    {
     "name": "stdout",
     "output_type": "stream",
     "text": [
      "set()\n",
      "{288, 12954, 29877, 542}\n"
     ]
    },
    {
     "name": "stderr",
     "output_type": "stream",
     "text": [
      "\r",
      " 21%|███████████████████████████████████████████▎                                                                                                                                                                  | 21/100 [00:04<00:15,  5.13it/s]"
     ]
    },
    {
     "name": "stderr",
     "output_type": "stream",
     "text": [
      "\r",
      " 22%|█████████████████████████████████████████████▎                                                                                                                                                                | 22/100 [00:04<00:14,  5.50it/s]"
     ]
    },
    {
     "name": "stdout",
     "output_type": "stream",
     "text": [
      "set()\n",
      "set()\n"
     ]
    },
    {
     "name": "stderr",
     "output_type": "stream",
     "text": [
      "\r",
      " 23%|███████████████████████████████████████████████▍                                                                                                                                                              | 23/100 [00:04<00:13,  5.57it/s]"
     ]
    },
    {
     "name": "stdout",
     "output_type": "stream",
     "text": [
      "{29880, 425, 433, 301}\n"
     ]
    },
    {
     "name": "stderr",
     "output_type": "stream",
     "text": [
      "\r",
      " 24%|█████████████████████████████████████████████████▍                                                                                                                                                            | 24/100 [00:04<00:15,  4.94it/s]"
     ]
    },
    {
     "name": "stderr",
     "output_type": "stream",
     "text": [
      "\r",
      " 25%|███████████████████████████████████████████████████▌                                                                                                                                                          | 25/100 [00:05<00:14,  5.17it/s]"
     ]
    },
    {
     "name": "stdout",
     "output_type": "stream",
     "text": [
      "set()\n",
      "{374, 10107, 364, 29878}\n"
     ]
    },
    {
     "name": "stderr",
     "output_type": "stream",
     "text": [
      "\r",
      " 26%|█████████████████████████████████████████████████████▌                                                                                                                                                        | 26/100 [00:05<00:14,  5.24it/s]"
     ]
    },
    {
     "name": "stdout",
     "output_type": "stream",
     "text": [
      "{364, 29878}\n"
     ]
    },
    {
     "name": "stderr",
     "output_type": "stream",
     "text": [
      "\r",
      " 27%|███████████████████████████████████████████████████████▌                                                                                                                                                      | 27/100 [00:05<00:14,  5.09it/s]"
     ]
    },
    {
     "name": "stderr",
     "output_type": "stream",
     "text": [
      "\r",
      " 28%|█████████████████████████████████████████████████████████▋                                                                                                                                                    | 28/100 [00:05<00:14,  5.12it/s]"
     ]
    },
    {
     "name": "stdout",
     "output_type": "stream",
     "text": [
      "{29880, 619, 492, 301}\n",
      "set()\n"
     ]
    },
    {
     "name": "stderr",
     "output_type": "stream",
     "text": [
      "\r",
      " 29%|███████████████████████████████████████████████████████████▋                                                                                                                                                  | 29/100 [00:05<00:14,  4.92it/s]"
     ]
    },
    {
     "name": "stderr",
     "output_type": "stream",
     "text": [
      "\r",
      " 30%|█████████████████████████████████████████████████████████████▊                                                                                                                                                | 30/100 [00:05<00:13,  5.38it/s]"
     ]
    },
    {
     "name": "stdout",
     "output_type": "stream",
     "text": [
      "{29888, 1579, 1652, 285}\n",
      "{29873, 260}\n"
     ]
    },
    {
     "name": "stderr",
     "output_type": "stream",
     "text": [
      "\r",
      " 31%|███████████████████████████████████████████████████████████████▊                                                                                                                                              | 31/100 [00:06<00:13,  5.28it/s]"
     ]
    },
    {
     "name": "stderr",
     "output_type": "stream",
     "text": [
      "\r",
      " 32%|█████████████████████████████████████████████████████████████████▉                                                                                                                                            | 32/100 [00:06<00:11,  5.72it/s]"
     ]
    },
    {
     "name": "stdout",
     "output_type": "stream",
     "text": [
      "set()\n",
      "set()\n"
     ]
    },
    {
     "name": "stderr",
     "output_type": "stream",
     "text": [
      "\r",
      " 33%|███████████████████████████████████████████████████████████████████▉                                                                                                                                          | 33/100 [00:06<00:12,  5.34it/s]"
     ]
    },
    {
     "name": "stderr",
     "output_type": "stream",
     "text": [
      "\r",
      " 34%|██████████████████████████████████████████████████████████████████████                                                                                                                                        | 34/100 [00:06<00:12,  5.37it/s]"
     ]
    },
    {
     "name": "stdout",
     "output_type": "stream",
     "text": [
      "set()\n",
      "set()\n"
     ]
    },
    {
     "name": "stderr",
     "output_type": "stream",
     "text": [
      "\r",
      " 35%|████████████████████████████████████████████████████████████████████████                                                                                                                                      | 35/100 [00:06<00:13,  4.93it/s]"
     ]
    },
    {
     "name": "stderr",
     "output_type": "stream",
     "text": [
      "\r",
      " 36%|██████████████████████████████████████████████████████████████████████████▏                                                                                                                                   | 36/100 [00:07<00:11,  5.55it/s]"
     ]
    },
    {
     "name": "stdout",
     "output_type": "stream",
     "text": [
      "set()\n",
      "set()\n"
     ]
    },
    {
     "name": "stderr",
     "output_type": "stream",
     "text": [
      "\r",
      " 37%|████████████████████████████████████████████████████████████████████████████▏                                                                                                                                 | 37/100 [00:07<00:10,  5.74it/s]"
     ]
    },
    {
     "name": "stdout",
     "output_type": "stream",
     "text": [
      "set()\n"
     ]
    },
    {
     "name": "stderr",
     "output_type": "stream",
     "text": [
      "\r",
      " 38%|██████████████████████████████████████████████████████████████████████████████▎                                                                                                                               | 38/100 [00:07<00:11,  5.31it/s]"
     ]
    },
    {
     "name": "stdout",
     "output_type": "stream",
     "text": [
      "{29873, 260}\n"
     ]
    },
    {
     "name": "stderr",
     "output_type": "stream",
     "text": [
      "\r",
      " 39%|████████████████████████████████████████████████████████████████████████████████▎                                                                                                                             | 39/100 [00:07<00:11,  5.12it/s]"
     ]
    },
    {
     "name": "stderr",
     "output_type": "stream",
     "text": [
      "\r",
      " 40%|██████████████████████████████████████████████████████████████████████████████████▍                                                                                                                           | 40/100 [00:07<00:11,  5.21it/s]"
     ]
    },
    {
     "name": "stdout",
     "output_type": "stream",
     "text": [
      "set()\n",
      "set()\n"
     ]
    },
    {
     "name": "stderr",
     "output_type": "stream",
     "text": [
      "\r",
      " 41%|████████████████████████████████████████████████████████████████████████████████████▍                                                                                                                         | 41/100 [00:08<00:11,  5.22it/s]"
     ]
    },
    {
     "name": "stderr",
     "output_type": "stream",
     "text": [
      "\r",
      " 42%|██████████████████████████████████████████████████████████████████████████████████████▌                                                                                                                       | 42/100 [00:08<00:11,  5.19it/s]"
     ]
    },
    {
     "name": "stdout",
     "output_type": "stream",
     "text": [
      "{344, 409, 269, 29879}\n",
      "set()\n"
     ]
    },
    {
     "name": "stderr",
     "output_type": "stream",
     "text": [
      "\r",
      " 43%|████████████████████████████████████████████████████████████████████████████████████████▌                                                                                                                     | 43/100 [00:08<00:10,  5.37it/s]"
     ]
    },
    {
     "name": "stderr",
     "output_type": "stream",
     "text": [
      "\r",
      " 44%|██████████████████████████████████████████████████████████████████████████████████████████▋                                                                                                                   | 44/100 [00:08<00:09,  5.74it/s]"
     ]
    },
    {
     "name": "stdout",
     "output_type": "stream",
     "text": [
      "{29876, 302}\n",
      "set()\n"
     ]
    },
    {
     "name": "stderr",
     "output_type": "stream",
     "text": [
      "\r",
      " 45%|████████████████████████████████████████████████████████████████████████████████████████████▋                                                                                                                 | 45/100 [00:08<00:09,  5.88it/s]"
     ]
    },
    {
     "name": "stdout",
     "output_type": "stream",
     "text": [
      "set()\n"
     ]
    },
    {
     "name": "stderr",
     "output_type": "stream",
     "text": [
      "\r",
      " 46%|██████████████████████████████████████████████████████████████████████████████████████████████▊                                                                                                               | 46/100 [00:08<00:10,  5.22it/s]"
     ]
    },
    {
     "name": "stdout",
     "output_type": "stream",
     "text": [
      "set()\n"
     ]
    },
    {
     "name": "stderr",
     "output_type": "stream",
     "text": [
      "\r",
      " 47%|████████████████████████████████████████████████████████████████████████████████████████████████▊                                                                                                             | 47/100 [00:09<00:10,  5.06it/s]"
     ]
    },
    {
     "name": "stderr",
     "output_type": "stream",
     "text": [
      "\r",
      " 48%|██████████████████████████████████████████████████████████████████████████████████████████████████▉                                                                                                           | 48/100 [00:09<00:08,  5.86it/s]"
     ]
    },
    {
     "name": "stdout",
     "output_type": "stream",
     "text": [
      "set()\n",
      "set()\n"
     ]
    },
    {
     "name": "stderr",
     "output_type": "stream",
     "text": [
      "\r",
      " 49%|████████████████████████████████████████████████████████████████████████████████████████████████████▉                                                                                                         | 49/100 [00:09<00:09,  5.37it/s]"
     ]
    },
    {
     "name": "stdout",
     "output_type": "stream",
     "text": [
      "set()\n"
     ]
    },
    {
     "name": "stderr",
     "output_type": "stream",
     "text": [
      "\r",
      " 50%|███████████████████████████████████████████████████████████████████████████████████████████████████████                                                                                                       | 50/100 [00:09<00:09,  5.13it/s]"
     ]
    },
    {
     "name": "stderr",
     "output_type": "stream",
     "text": [
      "\r",
      " 51%|█████████████████████████████████████████████████████████████████████████████████████████████████████████                                                                                                     | 51/100 [00:09<00:09,  5.26it/s]"
     ]
    },
    {
     "name": "stdout",
     "output_type": "stream",
     "text": [
      "{6025, 1388, 270, 18386, 29881, 1146}\n",
      "set()\n"
     ]
    },
    {
     "name": "stderr",
     "output_type": "stream",
     "text": [
      "\r",
      " 52%|███████████████████████████████████████████████████████████████████████████████████████████████████████████                                                                                                   | 52/100 [00:10<00:09,  5.26it/s]"
     ]
    },
    {
     "name": "stdout",
     "output_type": "stream",
     "text": [
      "{269, 29879}\n"
     ]
    },
    {
     "name": "stderr",
     "output_type": "stream",
     "text": [
      "\r",
      " 53%|█████████████████████████████████████████████████████████████████████████████████████████████████████████████▏                                                                                                | 53/100 [00:10<00:09,  4.92it/s]"
     ]
    },
    {
     "name": "stdout",
     "output_type": "stream",
     "text": [
      "{29880, 301}\n"
     ]
    },
    {
     "name": "stderr",
     "output_type": "stream",
     "text": [
      "\r",
      " 54%|███████████████████████████████████████████████████████████████████████████████████████████████████████████████▏                                                                                              | 54/100 [00:10<00:10,  4.52it/s]"
     ]
    },
    {
     "name": "stdout",
     "output_type": "stream",
     "text": [
      "set()\n",
      "{1217, 15459, 302, 29876, 694, 3643}\n"
     ]
    },
    {
     "name": "stderr",
     "output_type": "stream",
     "text": [
      "\r",
      " 55%|█████████████████████████████████████████████████████████████████████████████████████████████████████████████████▎                                                                                            | 55/100 [00:10<00:09,  4.64it/s]"
     ]
    },
    {
     "name": "stderr",
     "output_type": "stream",
     "text": [
      "\r",
      " 56%|███████████████████████████████████████████████████████████████████████████████████████████████████████████████████▎                                                                                          | 56/100 [00:11<00:09,  4.54it/s]"
     ]
    },
    {
     "name": "stdout",
     "output_type": "stream",
     "text": [
      "{29873, 260}\n"
     ]
    },
    {
     "name": "stderr",
     "output_type": "stream",
     "text": [
      "\r",
      " 57%|█████████████████████████████████████████████████████████████████████████████████████████████████████████████████████▍                                                                                        | 57/100 [00:11<00:10,  4.29it/s]"
     ]
    },
    {
     "name": "stdout",
     "output_type": "stream",
     "text": [
      "set()\n"
     ]
    },
    {
     "name": "stderr",
     "output_type": "stream",
     "text": [
      "\r",
      " 58%|███████████████████████████████████████████████████████████████████████████████████████████████████████████████████████▍                                                                                      | 58/100 [00:11<00:10,  4.19it/s]"
     ]
    },
    {
     "name": "stdout",
     "output_type": "stream",
     "text": [
      "{3737, 2460, 29885, 286}\n"
     ]
    },
    {
     "name": "stderr",
     "output_type": "stream",
     "text": [
      "\r",
      " 59%|█████████████████████████████████████████████████████████████████████████████████████████████████████████████████████████▌                                                                                    | 59/100 [00:11<00:09,  4.12it/s]"
     ]
    },
    {
     "name": "stdout",
     "output_type": "stream",
     "text": [
      "{274, 29883, 1302, 1111}\n"
     ]
    },
    {
     "name": "stderr",
     "output_type": "stream",
     "text": [
      "\r",
      " 60%|███████████████████████████████████████████████████████████████████████████████████████████████████████████████████████████▌                                                                                  | 60/100 [00:12<00:09,  4.28it/s]"
     ]
    },
    {
     "name": "stderr",
     "output_type": "stream",
     "text": [
      "\r",
      " 61%|█████████████████████████████████████████████████████████████████████████████████████████████████████████████████████████████▋                                                                                | 61/100 [00:12<00:08,  4.50it/s]"
     ]
    },
    {
     "name": "stdout",
     "output_type": "stream",
     "text": [
      "set()\n",
      "{432, 4900, 29926, 3623}\n"
     ]
    },
    {
     "name": "stderr",
     "output_type": "stream",
     "text": [
      "\r",
      " 62%|███████████████████████████████████████████████████████████████████████████████████████████████████████████████████████████████▋                                                                              | 62/100 [00:12<00:08,  4.52it/s]"
     ]
    },
    {
     "name": "stderr",
     "output_type": "stream",
     "text": [
      "\r",
      " 63%|█████████████████████████████████████████████████████████████████████████████████████████████████████████████████████████████████▊                                                                            | 63/100 [00:12<00:07,  4.66it/s]"
     ]
    },
    {
     "name": "stdout",
     "output_type": "stream",
     "text": [
      "set()\n",
      "set()\n"
     ]
    },
    {
     "name": "stderr",
     "output_type": "stream",
     "text": [
      "\r",
      " 64%|███████████████████████████████████████████████████████████████████████████████████████████████████████████████████████████████████▊                                                                          | 64/100 [00:12<00:08,  4.29it/s]"
     ]
    },
    {
     "name": "stdout",
     "output_type": "stream",
     "text": [
      "{29872, 321, 429, 735}\n"
     ]
    },
    {
     "name": "stderr",
     "output_type": "stream",
     "text": [
      "\r",
      " 65%|█████████████████████████████████████████████████████████████████████████████████████████████████████████████████████████████████████▉                                                                        | 65/100 [00:13<00:08,  4.37it/s]"
     ]
    },
    {
     "name": "stdout",
     "output_type": "stream",
     "text": [
      "set()\n"
     ]
    },
    {
     "name": "stderr",
     "output_type": "stream",
     "text": [
      "\r",
      " 66%|███████████████████████████████████████████████████████████████████████████████████████████████████████████████████████████████████████▉                                                                      | 66/100 [00:13<00:07,  4.36it/s]"
     ]
    },
    {
     "name": "stdout",
     "output_type": "stream",
     "text": [
      "set()\n"
     ]
    },
    {
     "name": "stderr",
     "output_type": "stream",
     "text": [
      "\r",
      " 67%|██████████████████████████████████████████████████████████████████████████████████████████████████████████████████████████████████████████                                                                    | 67/100 [00:13<00:08,  4.00it/s]"
     ]
    },
    {
     "name": "stdout",
     "output_type": "stream",
     "text": [
      "set()\n"
     ]
    },
    {
     "name": "stderr",
     "output_type": "stream",
     "text": [
      "\r",
      " 68%|████████████████████████████████████████████████████████████████████████████████████████████████████████████████████████████████████████████                                                                  | 68/100 [00:13<00:07,  4.13it/s]"
     ]
    },
    {
     "name": "stdout",
     "output_type": "stream",
     "text": [
      "{289, 6562, 29890, 367, 915}\n"
     ]
    },
    {
     "name": "stderr",
     "output_type": "stream",
     "text": [
      "\r",
      " 69%|██████████████████████████████████████████████████████████████████████████████████████████████████████████████████████████████████████████████▏                                                               | 69/100 [00:14<00:08,  3.62it/s]"
     ]
    },
    {
     "name": "stdout",
     "output_type": "stream",
     "text": [
      "{2174, 715, 18870, 13974, 282, 572, 29886}\n"
     ]
    },
    {
     "name": "stderr",
     "output_type": "stream",
     "text": [
      "\r",
      " 70%|████████████████████████████████████████████████████████████████████████████████████████████████████████████████████████████████████████████████▏                                                             | 70/100 [00:14<00:07,  3.76it/s]"
     ]
    },
    {
     "name": "stdout",
     "output_type": "stream",
     "text": [
      "set()\n",
      "{269, 29879}\n"
     ]
    },
    {
     "name": "stderr",
     "output_type": "stream",
     "text": [
      "\r",
      " 71%|██████████████████████████████████████████████████████████████████████████████████████████████████████████████████████████████████████████████████▎                                                           | 71/100 [00:14<00:07,  4.04it/s]"
     ]
    },
    {
     "name": "stderr",
     "output_type": "stream",
     "text": [
      "\r",
      " 72%|████████████████████████████████████████████████████████████████████████████████████████████████████████████████████████████████████████████████████▎                                                         | 72/100 [00:14<00:06,  4.02it/s]"
     ]
    },
    {
     "name": "stdout",
     "output_type": "stream",
     "text": [
      "set()\n"
     ]
    },
    {
     "name": "stderr",
     "output_type": "stream",
     "text": [
      "\r",
      " 73%|██████████████████████████████████████████████████████████████████████████████████████████████████████████████████████████████████████████████████████▍                                                       | 73/100 [00:15<00:07,  3.74it/s]"
     ]
    },
    {
     "name": "stdout",
     "output_type": "stream",
     "text": [
      "{22880, 9825, 2918, 298, 7251, 29882, 670}\n"
     ]
    },
    {
     "name": "stderr",
     "output_type": "stream",
     "text": [
      "\r",
      " 74%|████████████████████████████████████████████████████████████████████████████████████████████████████████████████████████████████████████████████████████▍                                                     | 74/100 [00:15<00:06,  3.79it/s]"
     ]
    },
    {
     "name": "stdout",
     "output_type": "stream",
     "text": [
      "{2947, 325, 29894, 659, 791, 22044, 1564}\n"
     ]
    },
    {
     "name": "stderr",
     "output_type": "stream",
     "text": [
      "\r",
      " 75%|██████████████████████████████████████████████████████████████████████████████████████████████████████████████████████████████████████████████████████████▌                                                   | 75/100 [00:15<00:06,  3.94it/s]"
     ]
    },
    {
     "name": "stdout",
     "output_type": "stream",
     "text": [
      "set()\n"
     ]
    },
    {
     "name": "stderr",
     "output_type": "stream",
     "text": [
      "\r",
      " 76%|████████████████████████████████████████████████████████████████████████████████████████████████████████████████████████████████████████████████████████████▌                                                 | 76/100 [00:16<00:06,  3.54it/s]"
     ]
    },
    {
     "name": "stderr",
     "output_type": "stream",
     "text": [
      "\r",
      " 77%|██████████████████████████████████████████████████████████████████████████████████████████████████████████████████████████████████████████████████████████████▌                                               | 77/100 [00:16<00:05,  3.98it/s]"
     ]
    },
    {
     "name": "stdout",
     "output_type": "stream",
     "text": [
      "{330, 29887}\n",
      "{269, 29879}\n"
     ]
    },
    {
     "name": "stderr",
     "output_type": "stream",
     "text": [
      "\r",
      " 78%|████████████████████████████████████████████████████████████████████████████████████████████████████████████████████████████████████████████████████████████████▋                                             | 78/100 [00:16<00:05,  3.99it/s]"
     ]
    },
    {
     "name": "stdout",
     "output_type": "stream",
     "text": [
      "{325, 29894}\n"
     ]
    },
    {
     "name": "stderr",
     "output_type": "stream",
     "text": [
      "\r",
      " 79%|██████████████████████████████████████████████████████████████████████████████████████████████████████████████████████████████████████████████████████████████████▋                                           | 79/100 [00:16<00:05,  4.12it/s]"
     ]
    },
    {
     "name": "stdout",
     "output_type": "stream",
     "text": [
      "{260, 3367, 3626, 29873, 534, 9434, 509}\n"
     ]
    },
    {
     "name": "stderr",
     "output_type": "stream",
     "text": [
      "\r",
      " 80%|████████████████████████████████████████████████████████████████████████████████████████████████████████████████████████████████████████████████████████████████████▊                                         | 80/100 [00:16<00:04,  4.22it/s]"
     ]
    },
    {
     "name": "stdout",
     "output_type": "stream",
     "text": [
      "set()\n"
     ]
    },
    {
     "name": "stderr",
     "output_type": "stream",
     "text": [
      "\r",
      " 81%|██████████████████████████████████████████████████████████████████████████████████████████████████████████████████████████████████████████████████████████████████████▊                                       | 81/100 [00:17<00:04,  4.23it/s]"
     ]
    },
    {
     "name": "stdout",
     "output_type": "stream",
     "text": [
      "set()\n",
      "set()\n"
     ]
    },
    {
     "name": "stderr",
     "output_type": "stream",
     "text": [
      "\r",
      " 82%|████████████████████████████████████████████████████████████████████████████████████████████████████████████████████████████████████████████████████████████████████████▉                                     | 82/100 [00:17<00:04,  4.41it/s]"
     ]
    },
    {
     "name": "stderr",
     "output_type": "stream",
     "text": [
      "\r",
      " 83%|██████████████████████████████████████████████████████████████████████████████████████████████████████████████████████████████████████████████████████████████████████████▉                                   | 83/100 [00:17<00:04,  4.22it/s]"
     ]
    },
    {
     "name": "stdout",
     "output_type": "stream",
     "text": [
      "{29874, 263}\n"
     ]
    },
    {
     "name": "stderr",
     "output_type": "stream",
     "text": [
      "\r",
      " 84%|█████████████████████████████████████████████████████████████████████████████████████████████████████████████████████████████████████████████████████████████████████████████                                 | 84/100 [00:17<00:04,  3.87it/s]"
     ]
    },
    {
     "name": "stdout",
     "output_type": "stream",
     "text": [
      "set()\n"
     ]
    },
    {
     "name": "stderr",
     "output_type": "stream",
     "text": [
      "\r",
      " 85%|███████████████████████████████████████████████████████████████████████████████████████████████████████████████████████████████████████████████████████████████████████████████                               | 85/100 [00:18<00:03,  3.94it/s]"
     ]
    },
    {
     "name": "stdout",
     "output_type": "stream",
     "text": [
      "{29881, 270}\n",
      "set()\n"
     ]
    },
    {
     "name": "stderr",
     "output_type": "stream",
     "text": [
      "\r",
      " 86%|█████████████████████████████████████████████████████████████████████████████████████████████████████████████████████████████████████████████████████████████████████████████████▏                            | 86/100 [00:18<00:03,  4.18it/s]"
     ]
    },
    {
     "name": "stderr",
     "output_type": "stream",
     "text": [
      "\r",
      " 87%|███████████████████████████████████████████████████████████████████████████████████████████████████████████████████████████████████████████████████████████████████████████████████▏                          | 87/100 [00:18<00:02,  4.40it/s]"
     ]
    },
    {
     "name": "stderr",
     "output_type": "stream",
     "text": [
      "\r",
      " 88%|█████████████████████████████████████████████████████████████████████████████████████████████████████████████████████████████████████████████████████████████████████████████████████▎                        | 88/100 [00:18<00:02,  4.79it/s]"
     ]
    },
    {
     "name": "stdout",
     "output_type": "stream",
     "text": [
      "{29885, 286}\n",
      "{29872, 321}\n"
     ]
    },
    {
     "name": "stderr",
     "output_type": "stream",
     "text": [
      "\r",
      " 89%|███████████████████████████████████████████████████████████████████████████████████████████████████████████████████████████████████████████████████████████████████████████████████████▎                      | 89/100 [00:19<00:02,  4.52it/s]"
     ]
    },
    {
     "name": "stdout",
     "output_type": "stream",
     "text": [
      "{3240, 364, 337, 276, 29878, 2267}\n"
     ]
    },
    {
     "name": "stderr",
     "output_type": "stream",
     "text": [
      "\r",
      " 90%|█████████████████████████████████████████████████████████████████████████████████████████████████████████████████████████████████████████████████████████████████████████████████████████▍                    | 90/100 [00:19<00:02,  4.23it/s]"
     ]
    },
    {
     "name": "stdout",
     "output_type": "stream",
     "text": [
      "set()\n"
     ]
    },
    {
     "name": "stderr",
     "output_type": "stream",
     "text": [
      "\r",
      " 91%|███████████████████████████████████████████████████████████████████████████████████████████████████████████████████████████████████████████████████████████████████████████████████████████▍                  | 91/100 [00:19<00:02,  4.25it/s]"
     ]
    },
    {
     "name": "stderr",
     "output_type": "stream",
     "text": [
      "\r",
      " 92%|█████████████████████████████████████████████████████████████████████████████████████████████████████████████████████████████████████████████████████████████████████████████████████████████▌                | 92/100 [00:19<00:01,  4.54it/s]"
     ]
    },
    {
     "name": "stdout",
     "output_type": "stream",
     "text": [
      "set()\n",
      "{304, 29873, 260, 517}\n"
     ]
    },
    {
     "name": "stderr",
     "output_type": "stream",
     "text": [
      "\r",
      " 93%|███████████████████████████████████████████████████████████████████████████████████████████████████████████████████████████████████████████████████████████████████████████████████████████████▌              | 93/100 [00:19<00:01,  4.22it/s]"
     ]
    },
    {
     "name": "stdout",
     "output_type": "stream",
     "text": [
      "set()\n"
     ]
    },
    {
     "name": "stderr",
     "output_type": "stream",
     "text": [
      "\r",
      " 94%|█████████████████████████████████████████████████████████████████████████████████████████████████████████████████████████████████████████████████████████████████████████████████████████████████▋            | 94/100 [00:20<00:01,  4.16it/s]"
     ]
    },
    {
     "name": "stderr",
     "output_type": "stream",
     "text": [
      "\r",
      " 95%|███████████████████████████████████████████████████████████████████████████████████████████████████████████████████████████████████████████████████████████████████████████████████████████████████▋          | 95/100 [00:20<00:01,  4.43it/s]"
     ]
    },
    {
     "name": "stdout",
     "output_type": "stream",
     "text": [
      "set()\n",
      "{364, 307, 29878, 10198, 696}\n"
     ]
    },
    {
     "name": "stderr",
     "output_type": "stream",
     "text": [
      "\r",
      " 96%|█████████████████████████████████████████████████████████████████████████████████████████████████████████████████████████████████████████████████████████████████████████████████████████████████████▊        | 96/100 [00:20<00:00,  4.55it/s]"
     ]
    },
    {
     "name": "stdout",
     "output_type": "stream",
     "text": [
      "set()\n"
     ]
    },
    {
     "name": "stderr",
     "output_type": "stream",
     "text": [
      "\r",
      " 97%|███████████████████████████████████████████████████████████████████████████████████████████████████████████████████████████████████████████████████████████████████████████████████████████████████████▊      | 97/100 [00:20<00:00,  4.60it/s]"
     ]
    },
    {
     "name": "stderr",
     "output_type": "stream",
     "text": [
      "\r",
      " 98%|█████████████████████████████████████████████████████████████████████████████████████████████████████████████████████████████████████████████████████████████████████████████████████████████████████████▉    | 98/100 [00:21<00:00,  4.81it/s]"
     ]
    },
    {
     "name": "stdout",
     "output_type": "stream",
     "text": [
      "set()\n",
      "{577, 578, 269, 29879}\n"
     ]
    },
    {
     "name": "stderr",
     "output_type": "stream",
     "text": [
      "\r",
      " 99%|███████████████████████████████████████████████████████████████████████████████████████████████████████████████████████████████████████████████████████████████████████████████████████████████████████████▉  | 99/100 [00:21<00:00,  4.52it/s]"
     ]
    },
    {
     "name": "stdout",
     "output_type": "stream",
     "text": [
      "{1129, 282, 772, 29886}\n"
     ]
    },
    {
     "name": "stderr",
     "output_type": "stream",
     "text": [
      "\r",
      "100%|█████████████████████████████████████████████████████████████████████████████████████████████████████████████████████████████████████████████████████████████████████████████████████████████████████████████| 100/100 [00:21<00:00,  4.60it/s]"
     ]
    },
    {
     "name": "stderr",
     "output_type": "stream",
     "text": [
      "\r",
      "100%|█████████████████████████████████████████████████████████████████████████████████████████████████████████████████████████████████████████████████████████████████████████████████████████████████████████████| 100/100 [00:21<00:00,  4.65it/s]"
     ]
    },
    {
     "name": "stdout",
     "output_type": "stream",
     "text": [
      "set()\n"
     ]
    },
    {
     "name": "stderr",
     "output_type": "stream",
     "text": [
      "\n"
     ]
    }
   ],
   "source": [
    "dataset = []\n",
    "for ind in tqdm(range(len(df_en_target_input))):\n",
    "    d = next(sample(df_en_target_input, ind, lang1=input_lang, lang2=target_lang))\n",
    "    if d is None:\n",
    "        continue\n",
    "    dataset.append(d)"
   ]
  },
  {
   "cell_type": "code",
   "execution_count": 13,
   "id": "d786ab1b",
   "metadata": {
    "execution": {
     "iopub.execute_input": "2024-02-23T21:06:20.826877Z",
     "iopub.status.busy": "2024-02-23T21:06:20.826544Z",
     "iopub.status.idle": "2024-02-23T21:06:20.872724Z",
     "shell.execute_reply": "2024-02-23T21:06:20.872306Z"
    },
    "papermill": {
     "duration": 0.057451,
     "end_time": "2024-02-23T21:06:20.873561",
     "exception": false,
     "start_time": "2024-02-23T21:06:20.816110",
     "status": "completed"
    },
    "tags": []
   },
   "outputs": [],
   "source": [
    "df = pd.DataFrame(dataset)\n",
    "os.makedirs(f'{out_dir}/translation', exist_ok=True)\n",
    "df.to_csv(f'{out_dir}/translation/{model_size}_{input_lang}_{target_lang}_dataset.csv', index=False)"
   ]
  },
  {
   "cell_type": "code",
   "execution_count": 14,
   "id": "00e12355",
   "metadata": {
    "execution": {
     "iopub.execute_input": "2024-02-23T21:06:20.893609Z",
     "iopub.status.busy": "2024-02-23T21:06:20.893284Z",
     "iopub.status.idle": "2024-02-23T21:06:20.945448Z",
     "shell.execute_reply": "2024-02-23T21:06:20.945090Z"
    },
    "papermill": {
     "duration": 0.063039,
     "end_time": "2024-02-23T21:06:20.946257",
     "exception": false,
     "start_time": "2024-02-23T21:06:20.883218",
     "status": "completed"
    },
    "tags": []
   },
   "outputs": [
    {
     "data": {
      "text/html": [
       "<div>\n",
       "<style scoped>\n",
       "    .dataframe tbody tr th:only-of-type {\n",
       "        vertical-align: middle;\n",
       "    }\n",
       "\n",
       "    .dataframe tbody tr th {\n",
       "        vertical-align: top;\n",
       "    }\n",
       "\n",
       "    .dataframe thead th {\n",
       "        text-align: right;\n",
       "    }\n",
       "</style>\n",
       "<table border=\"1\" class=\"dataframe\">\n",
       "  <thead>\n",
       "    <tr style=\"text-align: right;\">\n",
       "      <th></th>\n",
       "      <th>prompt</th>\n",
       "      <th>out_token_id</th>\n",
       "      <th>out_token_str</th>\n",
       "      <th>latent_token_id</th>\n",
       "      <th>latent_token_str</th>\n",
       "      <th>in_token_str</th>\n",
       "    </tr>\n",
       "  </thead>\n",
       "  <tbody>\n",
       "    <tr>\n",
       "      <th>0</th>\n",
       "      <td>English: \"example\" - Français: \"exemple\"\\nEngl...</td>\n",
       "      <td>[4948, 3433, 29876, 302]</td>\n",
       "      <td>nuage</td>\n",
       "      <td>[23642, 1067, 274, 9570, 29883, 695, 15126, 17...</td>\n",
       "      <td>cloud</td>\n",
       "      <td>cloud</td>\n",
       "    </tr>\n",
       "    <tr>\n",
       "      <th>1</th>\n",
       "      <td>English: \"city\" - Français: \"ville\"\\nEnglish: ...</td>\n",
       "      <td>[872, 7067, 4977, 269, 29879]</td>\n",
       "      <td>sac</td>\n",
       "      <td>[9922, 23156, 2291, 289, 19548, 29890]</td>\n",
       "      <td>bag</td>\n",
       "      <td>bag</td>\n",
       "    </tr>\n",
       "    <tr>\n",
       "      <th>2</th>\n",
       "      <td>English: \"dance\" - Français: \"danse\"\\nEnglish:...</td>\n",
       "      <td>[16380, 289, 29890, 1045, 833]</td>\n",
       "      <td>bouche</td>\n",
       "      <td>[286, 29442, 13394, 29885, 2730, 4346, 21026]</td>\n",
       "      <td>mouth</td>\n",
       "      <td>mouth</td>\n",
       "    </tr>\n",
       "    <tr>\n",
       "      <th>3</th>\n",
       "      <td>English: \"light\" - Français: \"lumière\"\\nEnglis...</td>\n",
       "      <td>[274, 29883]</td>\n",
       "      <td>cœur</td>\n",
       "      <td>[29882, 540, 5192, 354, 23057, 8293, 298]</td>\n",
       "      <td>heart</td>\n",
       "      <td>heart</td>\n",
       "    </tr>\n",
       "    <tr>\n",
       "      <th>4</th>\n",
       "      <td>English: \"sound\" - Français: \"son\"\\nEnglish: \"...</td>\n",
       "      <td>[286, 24402, 29885, 5530, 655, 1667, 611, 3396]</td>\n",
       "      <td>main</td>\n",
       "      <td>[29882, 3179, 2350, 1361, 5403, 298, 5905, 447]</td>\n",
       "      <td>hand</td>\n",
       "      <td>hand</td>\n",
       "    </tr>\n",
       "    <tr>\n",
       "      <th>5</th>\n",
       "      <td>English: \"ground\" - Français: \"sol\"\\nEnglish: ...</td>\n",
       "      <td>[432, 8694, 20551, 29926, 2958, 2212, 8121]</td>\n",
       "      <td>jour</td>\n",
       "      <td>[270, 3250, 1388, 1146, 2462, 29881]</td>\n",
       "      <td>day</td>\n",
       "      <td>day</td>\n",
       "    </tr>\n",
       "    <tr>\n",
       "      <th>6</th>\n",
       "      <td>English: \"office\" - Français: \"bureau\"\\nEnglis...</td>\n",
       "      <td>[904, 2852, 29948, 1893]</td>\n",
       "      <td>étoile</td>\n",
       "      <td>[380, 5173, 8508, 303, 5810, 9523, 269, 29879]</td>\n",
       "      <td>star</td>\n",
       "      <td>star</td>\n",
       "    </tr>\n",
       "    <tr>\n",
       "      <th>7</th>\n",
       "      <td>English: \"door\" - Français: \"porte\"\\nEnglish: ...</td>\n",
       "      <td>[337, 276, 690, 1253, 18475, 29878, 620, 364]</td>\n",
       "      <td>ressort</td>\n",
       "      <td>[15099, 4278, 7689, 1028, 6709, 269, 29879, 805]</td>\n",
       "      <td>spring</td>\n",
       "      <td>spring</td>\n",
       "    </tr>\n",
       "    <tr>\n",
       "      <th>8</th>\n",
       "      <td>English: \"virtue\" - Français: \"vertu\"\\nEnglish...</td>\n",
       "      <td>[29880, 8092, 6092, 25081, 301]</td>\n",
       "      <td>lune</td>\n",
       "      <td>[286, 29885, 2730, 18786, 4346]</td>\n",
       "      <td>moon</td>\n",
       "      <td>moon</td>\n",
       "    </tr>\n",
       "    <tr>\n",
       "      <th>9</th>\n",
       "      <td>English: \"spring\" - Français: \"ressort\"\\nEngli...</td>\n",
       "      <td>[289, 29890, 1045, 23734, 833]</td>\n",
       "      <td>bois</td>\n",
       "      <td>[29893, 281, 8879, 827, 6115, 8112]</td>\n",
       "      <td>wood</td>\n",
       "      <td>wood</td>\n",
       "    </tr>\n",
       "    <tr>\n",
       "      <th>10</th>\n",
       "      <td>English: \"moon\" - Français: \"lune\"\\nEnglish: \"...</td>\n",
       "      <td>[521, 305, 5083, 274, 25875, 29883, 10329, 5815]</td>\n",
       "      <td>chanson</td>\n",
       "      <td>[1100, 21453, 1487, 578, 4823, 577, 269, 29879]</td>\n",
       "      <td>song</td>\n",
       "      <td>song</td>\n",
       "    </tr>\n",
       "    <tr>\n",
       "      <th>11</th>\n",
       "      <td>English: \"line\" - Français: \"ligne\"\\nEnglish: ...</td>\n",
       "      <td>[28899, 904, 2852, 29948, 1893]</td>\n",
       "      <td>étang</td>\n",
       "      <td>[1129, 1112, 282, 772, 12509, 2818, 29886]</td>\n",
       "      <td>pond</td>\n",
       "      <td>pond</td>\n",
       "    </tr>\n",
       "    <tr>\n",
       "      <th>12</th>\n",
       "      <td>English: \"household\" - Français: \"ménage\"\\nEng...</td>\n",
       "      <td>[16504, 13469, 373, 898, 288, 265, 29877]</td>\n",
       "      <td>onde</td>\n",
       "      <td>[29893, 27766, 2766, 281, 11324, 10742]</td>\n",
       "      <td>wave</td>\n",
       "      <td>wave</td>\n",
       "    </tr>\n",
       "    <tr>\n",
       "      <th>13</th>\n",
       "      <td>English: \"left\" - Français: \"gauche\"\\nEnglish:...</td>\n",
       "      <td>[330, 29887, 4071, 629, 17170, 867]</td>\n",
       "      <td>grotte</td>\n",
       "      <td>[1113, 274, 5777, 24230, 29883, 18346]</td>\n",
       "      <td>cave</td>\n",
       "      <td>cave</td>\n",
       "    </tr>\n",
       "    <tr>\n",
       "      <th>14</th>\n",
       "      <td>English: \"door\" - Français: \"porte\"\\nEnglish: ...</td>\n",
       "      <td>[286, 29885, 2778, 592, 1050, 1004]</td>\n",
       "      <td>mer</td>\n",
       "      <td>[344, 7205, 409, 269, 29879]</td>\n",
       "      <td>sea</td>\n",
       "      <td>sea</td>\n",
       "    </tr>\n",
       "    <tr>\n",
       "      <th>15</th>\n",
       "      <td>English: \"school\" - Français: \"école\"\\nEnglish...</td>\n",
       "      <td>[330, 3249, 29887, 7171, 5397, 10364, 24816]</td>\n",
       "      <td>gare</td>\n",
       "      <td>[380, 1002, 5173, 19569, 23436, 303, 5073, 952...</td>\n",
       "      <td>station</td>\n",
       "      <td>station</td>\n",
       "    </tr>\n",
       "    <tr>\n",
       "      <th>16</th>\n",
       "      <td>English: \"sound\" - Français: \"son\"\\nEnglish: \"...</td>\n",
       "      <td>[1445, 934, 1777, 7241, 29888, 5713, 977, 285]</td>\n",
       "      <td>filet</td>\n",
       "      <td>[484, 29876, 1212, 7787, 302, 452]</td>\n",
       "      <td>net</td>\n",
       "      <td>net</td>\n",
       "    </tr>\n",
       "    <tr>\n",
       "      <th>17</th>\n",
       "      <td>English: \"spring\" - Français: \"ressort\"\\nEngli...</td>\n",
       "      <td>[15957, 1631, 282, 12343, 2930, 5036, 29886]</td>\n",
       "      <td>pied</td>\n",
       "      <td>[3661, 6661, 1701, 29888, 1181, 5431, 7953, 285]</td>\n",
       "      <td>foot</td>\n",
       "      <td>foot</td>\n",
       "    </tr>\n",
       "    <tr>\n",
       "      <th>18</th>\n",
       "      <td>English: \"spring\" - Français: \"ressort\"\\nEngli...</td>\n",
       "      <td>[470, 288, 272, 29877]</td>\n",
       "      <td>or</td>\n",
       "      <td>[330, 748, 29887, 7684, 1484, 15192]</td>\n",
       "      <td>gold</td>\n",
       "      <td>gold</td>\n",
       "    </tr>\n",
       "    <tr>\n",
       "      <th>19</th>\n",
       "      <td>English: \"bag\" - Français: \"sac\"\\nEnglish: \"de...</td>\n",
       "      <td>[1129, 2011, 637, 1971, 14931, 13732, 282, 772...</td>\n",
       "      <td>porte</td>\n",
       "      <td>[17433, 270, 437, 3050, 1867, 29881]</td>\n",
       "      <td>door</td>\n",
       "      <td>door</td>\n",
       "    </tr>\n",
       "    <tr>\n",
       "      <th>20</th>\n",
       "      <td>English: \"valley\" - Français: \"vallée\"\\nEnglis...</td>\n",
       "      <td>[484, 29876, 12106, 302, 452]</td>\n",
       "      <td>neige</td>\n",
       "      <td>[5807, 15007, 16586, 269, 29879]</td>\n",
       "      <td>snow</td>\n",
       "      <td>snow</td>\n",
       "    </tr>\n",
       "    <tr>\n",
       "      <th>21</th>\n",
       "      <td>English: \"pond\" - Français: \"étang\"\\nEnglish: ...</td>\n",
       "      <td>[521, 923, 1173, 305, 274, 25042, 29823, 29883]</td>\n",
       "      <td>cheval</td>\n",
       "      <td>[5089, 1251, 29882, 4029, 2015, 10435, 298, 11...</td>\n",
       "      <td>horse</td>\n",
       "      <td>horse</td>\n",
       "    </tr>\n",
       "    <tr>\n",
       "      <th>22</th>\n",
       "      <td>English: \"middle\" - Français: \"milieu\"\\nEnglis...</td>\n",
       "      <td>[443, 318, 29884, 348]</td>\n",
       "      <td>un</td>\n",
       "      <td>[373, 697, 288, 265, 650, 29877]</td>\n",
       "      <td>one</td>\n",
       "      <td>one</td>\n",
       "    </tr>\n",
       "    <tr>\n",
       "      <th>23</th>\n",
       "      <td>English: \"eight\" - Français: \"huit\"\\nEnglish: ...</td>\n",
       "      <td>[4239, 270, 311, 316, 29881]</td>\n",
       "      <td>deux</td>\n",
       "      <td>[260, 7516, 3252, 10184, 1023, 29873]</td>\n",
       "      <td>two</td>\n",
       "      <td>two</td>\n",
       "    </tr>\n",
       "    <tr>\n",
       "      <th>24</th>\n",
       "      <td>English: \"bag\" - Français: \"sac\"\\nEnglish: \"va...</td>\n",
       "      <td>[439, 12134, 21408, 29939, 3855, 339]</td>\n",
       "      <td>quatre</td>\n",
       "      <td>[17823, 1701, 29888, 1181, 3023, 12584, 285]</td>\n",
       "      <td>four</td>\n",
       "      <td>four</td>\n",
       "    </tr>\n",
       "    <tr>\n",
       "      <th>25</th>\n",
       "      <td>English: \"tribe\" - Français: \"tribu\"\\nEnglish:...</td>\n",
       "      <td>[274, 4583, 17256, 4670, 16381, 29883, 455]</td>\n",
       "      <td>cinq</td>\n",
       "      <td>[20818, 7241, 29888, 5713, 5320, 285]</td>\n",
       "      <td>five</td>\n",
       "      <td>five</td>\n",
       "    </tr>\n",
       "    <tr>\n",
       "      <th>26</th>\n",
       "      <td>English: \"day\" - Français: \"jour\"\\nEnglish: \"m...</td>\n",
       "      <td>[22888, 29882, 15669, 27052, 6905, 298]</td>\n",
       "      <td>huit</td>\n",
       "      <td>[29319, 9475, 29872, 321, 10096, 15761]</td>\n",
       "      <td>eight</td>\n",
       "      <td>eight</td>\n",
       "    </tr>\n",
       "    <tr>\n",
       "      <th>27</th>\n",
       "      <td>English: \"grid\" - Français: \"grille\"\\nEnglish:...</td>\n",
       "      <td>[270, 6051, 652, 23386, 29881]</td>\n",
       "      <td>dix</td>\n",
       "      <td>[260, 734, 841, 371, 3006, 29873]</td>\n",
       "      <td>ten</td>\n",
       "      <td>ten</td>\n",
       "    </tr>\n",
       "    <tr>\n",
       "      <th>28</th>\n",
       "      <td>English: \"meeting\" - Français: \"réunion\"\\nEngl...</td>\n",
       "      <td>[260, 17949, 29873]</td>\n",
       "      <td>tête</td>\n",
       "      <td>[29882, 540, 354, 2813, 298, 2343]</td>\n",
       "      <td>head</td>\n",
       "      <td>head</td>\n",
       "    </tr>\n",
       "    <tr>\n",
       "      <th>29</th>\n",
       "      <td>English: \"bridge\" - Français: \"pont\"\\nEnglish:...</td>\n",
       "      <td>[9922, 9892, 4980, 27628, 2291, 289, 29890, 25...</td>\n",
       "      <td>bande</td>\n",
       "      <td>[851, 380, 17820, 710, 17010, 303, 10076, 269,...</td>\n",
       "      <td>strip</td>\n",
       "      <td>strip</td>\n",
       "    </tr>\n",
       "    <tr>\n",
       "      <th>30</th>\n",
       "      <td>English: \"east\" - Français: \"est\"\\nEnglish: \"t...</td>\n",
       "      <td>[5796, 16014, 582, 29878, 364]</td>\n",
       "      <td>rue</td>\n",
       "      <td>[851, 380, 710, 11952, 13045, 29352, 303, 1224...</td>\n",
       "      <td>street</td>\n",
       "      <td>street</td>\n",
       "    </tr>\n",
       "    <tr>\n",
       "      <th>31</th>\n",
       "      <td>English: \"thousand\" - Français: \"mille\"\\nEngli...</td>\n",
       "      <td>[30106]</td>\n",
       "      <td>œil</td>\n",
       "      <td>[29872, 321, 10977, 1032]</td>\n",
       "      <td>eye</td>\n",
       "      <td>eye</td>\n",
       "    </tr>\n",
       "    <tr>\n",
       "      <th>32</th>\n",
       "      <td>English: \"red\" - Français: \"rouge\"\\nEnglish: \"...</td>\n",
       "      <td>[521, 305, 18480, 274, 29883, 10329, 11179, 5815]</td>\n",
       "      <td>champ</td>\n",
       "      <td>[29607, 7241, 29888, 5713, 2671, 1746, 285]</td>\n",
       "      <td>field</td>\n",
       "      <td>field</td>\n",
       "    </tr>\n",
       "    <tr>\n",
       "      <th>33</th>\n",
       "      <td>English: \"cloud\" - Français: \"nuage\"\\nEnglish:...</td>\n",
       "      <td>[286, 3184, 29885, 2730, 14817, 4346]</td>\n",
       "      <td>mot</td>\n",
       "      <td>[29893, 1734, 8879, 281, 827, 1742, 13762, 6365]</td>\n",
       "      <td>word</td>\n",
       "      <td>word</td>\n",
       "    </tr>\n",
       "    <tr>\n",
       "      <th>34</th>\n",
       "      <td>English: \"hand\" - Français: \"main\"\\nEnglish: \"...</td>\n",
       "      <td>[286, 19958, 29885, 2460, 3737, 2316, 3533, 23...</td>\n",
       "      <td>mille</td>\n",
       "      <td>[260, 386, 12595, 7693, 10405, 29873, 266]</td>\n",
       "      <td>thousand</td>\n",
       "      <td>thousand</td>\n",
       "    </tr>\n",
       "    <tr>\n",
       "      <th>35</th>\n",
       "      <td>English: \"foot\" - Français: \"pied\"\\nEnglish: \"...</td>\n",
       "      <td>[16380, 289, 6526, 29890, 1045, 833]</td>\n",
       "      <td>bourse</td>\n",
       "      <td>[5566, 735, 14523, 29872, 321, 429, 6543]</td>\n",
       "      <td>exchange</td>\n",
       "      <td>exchange</td>\n",
       "    </tr>\n",
       "    <tr>\n",
       "      <th>36</th>\n",
       "      <td>English: \"platform\" - Français: \"plate-forme\"\\...</td>\n",
       "      <td>[330, 29887, 2531, 1737, 16151, 1885, 479]</td>\n",
       "      <td>genre</td>\n",
       "      <td>[19015, 29895, 9089, 413, 1984, 14380, 8506, 2...</td>\n",
       "      <td>kind</td>\n",
       "      <td>kind</td>\n",
       "    </tr>\n",
       "    <tr>\n",
       "      <th>37</th>\n",
       "      <td>English: \"left\" - Français: \"gauche\"\\nEnglish:...</td>\n",
       "      <td>[904, 24618, 29948, 4582]</td>\n",
       "      <td>école</td>\n",
       "      <td>[1364, 885, 1557, 3762, 816, 269, 29879, 27041]</td>\n",
       "      <td>school</td>\n",
       "      <td>school</td>\n",
       "    </tr>\n",
       "    <tr>\n",
       "      <th>38</th>\n",
       "      <td>English: \"light\" - Français: \"lumière\"\\nEnglis...</td>\n",
       "      <td>[2181, 274, 7283, 12220, 26844, 29883]</td>\n",
       "      <td>cravate</td>\n",
       "      <td>[260, 22134, 2034, 29873, 19538]</td>\n",
       "      <td>tie</td>\n",
       "      <td>tie</td>\n",
       "    </tr>\n",
       "    <tr>\n",
       "      <th>39</th>\n",
       "      <td>English: \"south\" - Français: \"sud\"\\nEnglish: \"...</td>\n",
       "      <td>[1730, 325, 29894, 1403, 3516, 1998]</td>\n",
       "      <td>visage</td>\n",
       "      <td>[17470, 2258, 4024, 29888, 3700, 5444, 2161, 285]</td>\n",
       "      <td>face</td>\n",
       "      <td>face</td>\n",
       "    </tr>\n",
       "    <tr>\n",
       "      <th>40</th>\n",
       "      <td>English: \"bag\" - Français: \"sac\"\\nEnglish: \"da...</td>\n",
       "      <td>[1129, 13185, 29649, 1112, 282, 772, 12509, 29...</td>\n",
       "      <td>pont</td>\n",
       "      <td>[19515, 1506, 29890, 18419, 28635, 289, 12945,...</td>\n",
       "      <td>bridge</td>\n",
       "      <td>bridge</td>\n",
       "    </tr>\n",
       "    <tr>\n",
       "      <th>41</th>\n",
       "      <td>English: \"head\" - Français: \"tête\"\\nEnglish: \"...</td>\n",
       "      <td>[1462, 29879, 12587, 19303, 480, 2146, 269, 13...</td>\n",
       "      <td>supprimer</td>\n",
       "      <td>[628, 270, 6144, 311, 316, 7374, 8143, 29881, ...</td>\n",
       "      <td>delete</td>\n",
       "      <td>delete</td>\n",
       "    </tr>\n",
       "    <tr>\n",
       "      <th>42</th>\n",
       "      <td>English: \"spring\" - Français: \"ressort\"\\nEngli...</td>\n",
       "      <td>[286, 24402, 29885, 5530, 655, 18234, 611, 3503]</td>\n",
       "      <td>maison</td>\n",
       "      <td>[5089, 8697, 1251, 29882, 9261, 3699, 10774, 298]</td>\n",
       "      <td>house</td>\n",
       "      <td>house</td>\n",
       "    </tr>\n",
       "    <tr>\n",
       "      <th>43</th>\n",
       "      <td>English: \"summer\" - Français: \"été\"\\nEnglish: ...</td>\n",
       "      <td>[29878, 1841, 5606, 364]</td>\n",
       "      <td>réunion</td>\n",
       "      <td>[286, 29885, 592, 11781, 17897, 1004, 5870]</td>\n",
       "      <td>meeting</td>\n",
       "      <td>meeting</td>\n",
       "    </tr>\n",
       "    <tr>\n",
       "      <th>44</th>\n",
       "      <td>English: \"flower\" - Français: \"fleur\"\\nEnglish...</td>\n",
       "      <td>[4287, 274, 5777, 1559, 29883, 1113]</td>\n",
       "      <td>carré</td>\n",
       "      <td>[17619, 18074, 6862, 26613, 3044, 10674, 269, ...</td>\n",
       "      <td>square</td>\n",
       "      <td>square</td>\n",
       "    </tr>\n",
       "    <tr>\n",
       "      <th>45</th>\n",
       "      <td>English: \"attempt\" - Français: \"tentative\"\\nEn...</td>\n",
       "      <td>[11928, 4909, 17191, 8441, 325, 29894, 1403, 3...</td>\n",
       "      <td>ville</td>\n",
       "      <td>[4272, 7537, 274, 20752, 12690, 4583, 29883, 455]</td>\n",
       "      <td>city</td>\n",
       "      <td>city</td>\n",
       "    </tr>\n",
       "    <tr>\n",
       "      <th>46</th>\n",
       "      <td>English: \"virtue\" - Français: \"vertu\"\\nEnglish...</td>\n",
       "      <td>[325, 29894, 1403, 3516, 13901]</td>\n",
       "      <td>vitesse</td>\n",
       "      <td>[19322, 1028, 961, 805, 6210, 5965, 269, 29879]</td>\n",
       "      <td>speed</td>\n",
       "      <td>speed</td>\n",
       "    </tr>\n",
       "    <tr>\n",
       "      <th>47</th>\n",
       "      <td>English: \"tea\" - Français: \"thé\"\\nEnglish: \"re...</td>\n",
       "      <td>[899, 269, 577, 2929, 578, 29879]</td>\n",
       "      <td>sol</td>\n",
       "      <td>[330, 2057, 29887, 4071, 5962, 629, 867, 17170]</td>\n",
       "      <td>ground</td>\n",
       "      <td>ground</td>\n",
       "    </tr>\n",
       "    <tr>\n",
       "      <th>48</th>\n",
       "      <td>English: \"tower\" - Français: \"tour\"\\nEnglish: ...</td>\n",
       "      <td>[260, 734, 841, 29873, 12033, 371, 3006]</td>\n",
       "      <td>tentative</td>\n",
       "      <td>[472, 4218, 263, 271, 15127, 21609, 1098, 2987...</td>\n",
       "      <td>attempt</td>\n",
       "      <td>attempt</td>\n",
       "    </tr>\n",
       "    <tr>\n",
       "      <th>49</th>\n",
       "      <td>English: \"delete\" - Français: \"supprimer\"\\nEng...</td>\n",
       "      <td>[439, 29939, 9990, 3855, 712, 802, 339, 9521]</td>\n",
       "      <td>queue</td>\n",
       "      <td>[260, 11062, 18237, 941, 12464, 29873]</td>\n",
       "      <td>tail</td>\n",
       "      <td>tail</td>\n",
       "    </tr>\n",
       "    <tr>\n",
       "      <th>50</th>\n",
       "      <td>English: \"tie\" - Français: \"cravate\"\\nEnglish:...</td>\n",
       "      <td>[270, 766, 6051, 2313, 652, 2218, 17021, 29881]</td>\n",
       "      <td>discours</td>\n",
       "      <td>[12032, 1028, 961, 805, 5965, 269, 29879]</td>\n",
       "      <td>speech</td>\n",
       "      <td>speech</td>\n",
       "    </tr>\n",
       "    <tr>\n",
       "      <th>51</th>\n",
       "      <td>English: \"station\" - Français: \"gare\"\\nEnglish...</td>\n",
       "      <td>[264, 12377, 321, 427, 29872, 23578]</td>\n",
       "      <td>enfant</td>\n",
       "      <td>[521, 5145, 305, 274, 4161, 2278, 29883, 18558]</td>\n",
       "      <td>child</td>\n",
       "      <td>child</td>\n",
       "    </tr>\n",
       "    <tr>\n",
       "      <th>52</th>\n",
       "      <td>English: \"wood\" - Français: \"bois\"\\nEnglish: \"...</td>\n",
       "      <td>[286, 29885, 12031, 8774]</td>\n",
       "      <td>ménage</td>\n",
       "      <td>[5089, 8697, 1251, 29882, 9261, 3699, 10774, 2...</td>\n",
       "      <td>household</td>\n",
       "      <td>household</td>\n",
       "    </tr>\n",
       "    <tr>\n",
       "      <th>53</th>\n",
       "      <td>English: \"cave\" - Français: \"grotte\"\\nEnglish:...</td>\n",
       "      <td>[8399, 1321, 289, 29890, 2423, 6866]</td>\n",
       "      <td>bureau</td>\n",
       "      <td>[2696, 20205, 3344, 974, 288, 1283, 310, 29877...</td>\n",
       "      <td>office</td>\n",
       "      <td>office</td>\n",
       "    </tr>\n",
       "    <tr>\n",
       "      <th>54</th>\n",
       "      <td>English: \"head\" - Français: \"tête\"\\nEnglish: \"...</td>\n",
       "      <td>[29882, 2350, 447, 6208, 298]</td>\n",
       "      <td>hausse</td>\n",
       "      <td>[5161, 3780, 374, 14451, 29878, 10107, 364]</td>\n",
       "      <td>rise</td>\n",
       "      <td>rise</td>\n",
       "    </tr>\n",
       "    <tr>\n",
       "      <th>55</th>\n",
       "      <td>English: \"delete\" - Français: \"supprimer\"\\nEng...</td>\n",
       "      <td>[330, 3249, 29887, 26003, 10364, 13395]</td>\n",
       "      <td>gauche</td>\n",
       "      <td>[2175, 1563, 29880, 454, 280, 25874, 301]</td>\n",
       "      <td>left</td>\n",
       "      <td>left</td>\n",
       "    </tr>\n",
       "    <tr>\n",
       "      <th>56</th>\n",
       "      <td>English: \"judge\" - Français: \"juge\"\\nEnglish: ...</td>\n",
       "      <td>[4370, 904, 7342, 2852, 29948, 1893]</td>\n",
       "      <td>été</td>\n",
       "      <td>[2083, 2533, 11801, 22792, 480, 2146, 269, 29879]</td>\n",
       "      <td>summer</td>\n",
       "      <td>summer</td>\n",
       "    </tr>\n",
       "  </tbody>\n",
       "</table>\n",
       "</div>"
      ],
      "text/plain": [
       "                                               prompt  \\\n",
       "0   English: \"example\" - Français: \"exemple\"\\nEngl...   \n",
       "1   English: \"city\" - Français: \"ville\"\\nEnglish: ...   \n",
       "2   English: \"dance\" - Français: \"danse\"\\nEnglish:...   \n",
       "3   English: \"light\" - Français: \"lumière\"\\nEnglis...   \n",
       "4   English: \"sound\" - Français: \"son\"\\nEnglish: \"...   \n",
       "5   English: \"ground\" - Français: \"sol\"\\nEnglish: ...   \n",
       "6   English: \"office\" - Français: \"bureau\"\\nEnglis...   \n",
       "7   English: \"door\" - Français: \"porte\"\\nEnglish: ...   \n",
       "8   English: \"virtue\" - Français: \"vertu\"\\nEnglish...   \n",
       "9   English: \"spring\" - Français: \"ressort\"\\nEngli...   \n",
       "10  English: \"moon\" - Français: \"lune\"\\nEnglish: \"...   \n",
       "11  English: \"line\" - Français: \"ligne\"\\nEnglish: ...   \n",
       "12  English: \"household\" - Français: \"ménage\"\\nEng...   \n",
       "13  English: \"left\" - Français: \"gauche\"\\nEnglish:...   \n",
       "14  English: \"door\" - Français: \"porte\"\\nEnglish: ...   \n",
       "15  English: \"school\" - Français: \"école\"\\nEnglish...   \n",
       "16  English: \"sound\" - Français: \"son\"\\nEnglish: \"...   \n",
       "17  English: \"spring\" - Français: \"ressort\"\\nEngli...   \n",
       "18  English: \"spring\" - Français: \"ressort\"\\nEngli...   \n",
       "19  English: \"bag\" - Français: \"sac\"\\nEnglish: \"de...   \n",
       "20  English: \"valley\" - Français: \"vallée\"\\nEnglis...   \n",
       "21  English: \"pond\" - Français: \"étang\"\\nEnglish: ...   \n",
       "22  English: \"middle\" - Français: \"milieu\"\\nEnglis...   \n",
       "23  English: \"eight\" - Français: \"huit\"\\nEnglish: ...   \n",
       "24  English: \"bag\" - Français: \"sac\"\\nEnglish: \"va...   \n",
       "25  English: \"tribe\" - Français: \"tribu\"\\nEnglish:...   \n",
       "26  English: \"day\" - Français: \"jour\"\\nEnglish: \"m...   \n",
       "27  English: \"grid\" - Français: \"grille\"\\nEnglish:...   \n",
       "28  English: \"meeting\" - Français: \"réunion\"\\nEngl...   \n",
       "29  English: \"bridge\" - Français: \"pont\"\\nEnglish:...   \n",
       "30  English: \"east\" - Français: \"est\"\\nEnglish: \"t...   \n",
       "31  English: \"thousand\" - Français: \"mille\"\\nEngli...   \n",
       "32  English: \"red\" - Français: \"rouge\"\\nEnglish: \"...   \n",
       "33  English: \"cloud\" - Français: \"nuage\"\\nEnglish:...   \n",
       "34  English: \"hand\" - Français: \"main\"\\nEnglish: \"...   \n",
       "35  English: \"foot\" - Français: \"pied\"\\nEnglish: \"...   \n",
       "36  English: \"platform\" - Français: \"plate-forme\"\\...   \n",
       "37  English: \"left\" - Français: \"gauche\"\\nEnglish:...   \n",
       "38  English: \"light\" - Français: \"lumière\"\\nEnglis...   \n",
       "39  English: \"south\" - Français: \"sud\"\\nEnglish: \"...   \n",
       "40  English: \"bag\" - Français: \"sac\"\\nEnglish: \"da...   \n",
       "41  English: \"head\" - Français: \"tête\"\\nEnglish: \"...   \n",
       "42  English: \"spring\" - Français: \"ressort\"\\nEngli...   \n",
       "43  English: \"summer\" - Français: \"été\"\\nEnglish: ...   \n",
       "44  English: \"flower\" - Français: \"fleur\"\\nEnglish...   \n",
       "45  English: \"attempt\" - Français: \"tentative\"\\nEn...   \n",
       "46  English: \"virtue\" - Français: \"vertu\"\\nEnglish...   \n",
       "47  English: \"tea\" - Français: \"thé\"\\nEnglish: \"re...   \n",
       "48  English: \"tower\" - Français: \"tour\"\\nEnglish: ...   \n",
       "49  English: \"delete\" - Français: \"supprimer\"\\nEng...   \n",
       "50  English: \"tie\" - Français: \"cravate\"\\nEnglish:...   \n",
       "51  English: \"station\" - Français: \"gare\"\\nEnglish...   \n",
       "52  English: \"wood\" - Français: \"bois\"\\nEnglish: \"...   \n",
       "53  English: \"cave\" - Français: \"grotte\"\\nEnglish:...   \n",
       "54  English: \"head\" - Français: \"tête\"\\nEnglish: \"...   \n",
       "55  English: \"delete\" - Français: \"supprimer\"\\nEng...   \n",
       "56  English: \"judge\" - Français: \"juge\"\\nEnglish: ...   \n",
       "\n",
       "                                         out_token_id out_token_str  \\\n",
       "0                            [4948, 3433, 29876, 302]         nuage   \n",
       "1                       [872, 7067, 4977, 269, 29879]           sac   \n",
       "2                      [16380, 289, 29890, 1045, 833]        bouche   \n",
       "3                                        [274, 29883]          cœur   \n",
       "4     [286, 24402, 29885, 5530, 655, 1667, 611, 3396]          main   \n",
       "5         [432, 8694, 20551, 29926, 2958, 2212, 8121]          jour   \n",
       "6                            [904, 2852, 29948, 1893]        étoile   \n",
       "7       [337, 276, 690, 1253, 18475, 29878, 620, 364]       ressort   \n",
       "8                     [29880, 8092, 6092, 25081, 301]          lune   \n",
       "9                      [289, 29890, 1045, 23734, 833]          bois   \n",
       "10   [521, 305, 5083, 274, 25875, 29883, 10329, 5815]       chanson   \n",
       "11                    [28899, 904, 2852, 29948, 1893]         étang   \n",
       "12          [16504, 13469, 373, 898, 288, 265, 29877]          onde   \n",
       "13                [330, 29887, 4071, 629, 17170, 867]        grotte   \n",
       "14                [286, 29885, 2778, 592, 1050, 1004]           mer   \n",
       "15       [330, 3249, 29887, 7171, 5397, 10364, 24816]          gare   \n",
       "16     [1445, 934, 1777, 7241, 29888, 5713, 977, 285]         filet   \n",
       "17       [15957, 1631, 282, 12343, 2930, 5036, 29886]          pied   \n",
       "18                             [470, 288, 272, 29877]            or   \n",
       "19  [1129, 2011, 637, 1971, 14931, 13732, 282, 772...         porte   \n",
       "20                      [484, 29876, 12106, 302, 452]         neige   \n",
       "21    [521, 923, 1173, 305, 274, 25042, 29823, 29883]        cheval   \n",
       "22                             [443, 318, 29884, 348]            un   \n",
       "23                       [4239, 270, 311, 316, 29881]          deux   \n",
       "24              [439, 12134, 21408, 29939, 3855, 339]        quatre   \n",
       "25        [274, 4583, 17256, 4670, 16381, 29883, 455]          cinq   \n",
       "26            [22888, 29882, 15669, 27052, 6905, 298]          huit   \n",
       "27                     [270, 6051, 652, 23386, 29881]           dix   \n",
       "28                                [260, 17949, 29873]          tête   \n",
       "29  [9922, 9892, 4980, 27628, 2291, 289, 29890, 25...         bande   \n",
       "30                     [5796, 16014, 582, 29878, 364]           rue   \n",
       "31                                            [30106]           œil   \n",
       "32  [521, 305, 18480, 274, 29883, 10329, 11179, 5815]         champ   \n",
       "33              [286, 3184, 29885, 2730, 14817, 4346]           mot   \n",
       "34  [286, 19958, 29885, 2460, 3737, 2316, 3533, 23...         mille   \n",
       "35               [16380, 289, 6526, 29890, 1045, 833]        bourse   \n",
       "36         [330, 29887, 2531, 1737, 16151, 1885, 479]         genre   \n",
       "37                          [904, 24618, 29948, 4582]         école   \n",
       "38             [2181, 274, 7283, 12220, 26844, 29883]       cravate   \n",
       "39               [1730, 325, 29894, 1403, 3516, 1998]        visage   \n",
       "40  [1129, 13185, 29649, 1112, 282, 772, 12509, 29...          pont   \n",
       "41  [1462, 29879, 12587, 19303, 480, 2146, 269, 13...     supprimer   \n",
       "42   [286, 24402, 29885, 5530, 655, 18234, 611, 3503]        maison   \n",
       "43                           [29878, 1841, 5606, 364]       réunion   \n",
       "44               [4287, 274, 5777, 1559, 29883, 1113]         carré   \n",
       "45  [11928, 4909, 17191, 8441, 325, 29894, 1403, 3...         ville   \n",
       "46                    [325, 29894, 1403, 3516, 13901]       vitesse   \n",
       "47                  [899, 269, 577, 2929, 578, 29879]           sol   \n",
       "48           [260, 734, 841, 29873, 12033, 371, 3006]     tentative   \n",
       "49      [439, 29939, 9990, 3855, 712, 802, 339, 9521]         queue   \n",
       "50    [270, 766, 6051, 2313, 652, 2218, 17021, 29881]      discours   \n",
       "51               [264, 12377, 321, 427, 29872, 23578]        enfant   \n",
       "52                          [286, 29885, 12031, 8774]        ménage   \n",
       "53               [8399, 1321, 289, 29890, 2423, 6866]        bureau   \n",
       "54                      [29882, 2350, 447, 6208, 298]        hausse   \n",
       "55            [330, 3249, 29887, 26003, 10364, 13395]        gauche   \n",
       "56               [4370, 904, 7342, 2852, 29948, 1893]           été   \n",
       "\n",
       "                                      latent_token_id latent_token_str  \\\n",
       "0   [23642, 1067, 274, 9570, 29883, 695, 15126, 17...            cloud   \n",
       "1              [9922, 23156, 2291, 289, 19548, 29890]              bag   \n",
       "2       [286, 29442, 13394, 29885, 2730, 4346, 21026]            mouth   \n",
       "3           [29882, 540, 5192, 354, 23057, 8293, 298]            heart   \n",
       "4     [29882, 3179, 2350, 1361, 5403, 298, 5905, 447]             hand   \n",
       "5                [270, 3250, 1388, 1146, 2462, 29881]              day   \n",
       "6      [380, 5173, 8508, 303, 5810, 9523, 269, 29879]             star   \n",
       "7    [15099, 4278, 7689, 1028, 6709, 269, 29879, 805]           spring   \n",
       "8                     [286, 29885, 2730, 18786, 4346]             moon   \n",
       "9                 [29893, 281, 8879, 827, 6115, 8112]             wood   \n",
       "10    [1100, 21453, 1487, 578, 4823, 577, 269, 29879]             song   \n",
       "11         [1129, 1112, 282, 772, 12509, 2818, 29886]             pond   \n",
       "12            [29893, 27766, 2766, 281, 11324, 10742]             wave   \n",
       "13             [1113, 274, 5777, 24230, 29883, 18346]             cave   \n",
       "14                       [344, 7205, 409, 269, 29879]              sea   \n",
       "15  [380, 1002, 5173, 19569, 23436, 303, 5073, 952...          station   \n",
       "16                 [484, 29876, 1212, 7787, 302, 452]              net   \n",
       "17   [3661, 6661, 1701, 29888, 1181, 5431, 7953, 285]             foot   \n",
       "18               [330, 748, 29887, 7684, 1484, 15192]             gold   \n",
       "19               [17433, 270, 437, 3050, 1867, 29881]             door   \n",
       "20                   [5807, 15007, 16586, 269, 29879]             snow   \n",
       "21  [5089, 1251, 29882, 4029, 2015, 10435, 298, 11...            horse   \n",
       "22                   [373, 697, 288, 265, 650, 29877]              one   \n",
       "23              [260, 7516, 3252, 10184, 1023, 29873]              two   \n",
       "24       [17823, 1701, 29888, 1181, 3023, 12584, 285]             four   \n",
       "25              [20818, 7241, 29888, 5713, 5320, 285]             five   \n",
       "26            [29319, 9475, 29872, 321, 10096, 15761]            eight   \n",
       "27                  [260, 734, 841, 371, 3006, 29873]              ten   \n",
       "28                 [29882, 540, 354, 2813, 298, 2343]             head   \n",
       "29  [851, 380, 17820, 710, 17010, 303, 10076, 269,...            strip   \n",
       "30  [851, 380, 710, 11952, 13045, 29352, 303, 1224...           street   \n",
       "31                          [29872, 321, 10977, 1032]              eye   \n",
       "32        [29607, 7241, 29888, 5713, 2671, 1746, 285]            field   \n",
       "33   [29893, 1734, 8879, 281, 827, 1742, 13762, 6365]             word   \n",
       "34         [260, 386, 12595, 7693, 10405, 29873, 266]         thousand   \n",
       "35          [5566, 735, 14523, 29872, 321, 429, 6543]         exchange   \n",
       "36  [19015, 29895, 9089, 413, 1984, 14380, 8506, 2...             kind   \n",
       "37    [1364, 885, 1557, 3762, 816, 269, 29879, 27041]           school   \n",
       "38                   [260, 22134, 2034, 29873, 19538]              tie   \n",
       "39  [17470, 2258, 4024, 29888, 3700, 5444, 2161, 285]             face   \n",
       "40  [19515, 1506, 29890, 18419, 28635, 289, 12945,...           bridge   \n",
       "41  [628, 270, 6144, 311, 316, 7374, 8143, 29881, ...           delete   \n",
       "42  [5089, 8697, 1251, 29882, 9261, 3699, 10774, 298]            house   \n",
       "43        [286, 29885, 592, 11781, 17897, 1004, 5870]          meeting   \n",
       "44  [17619, 18074, 6862, 26613, 3044, 10674, 269, ...           square   \n",
       "45  [4272, 7537, 274, 20752, 12690, 4583, 29883, 455]             city   \n",
       "46    [19322, 1028, 961, 805, 6210, 5965, 269, 29879]            speed   \n",
       "47    [330, 2057, 29887, 4071, 5962, 629, 867, 17170]           ground   \n",
       "48  [472, 4218, 263, 271, 15127, 21609, 1098, 2987...          attempt   \n",
       "49             [260, 11062, 18237, 941, 12464, 29873]             tail   \n",
       "50          [12032, 1028, 961, 805, 5965, 269, 29879]           speech   \n",
       "51    [521, 5145, 305, 274, 4161, 2278, 29883, 18558]            child   \n",
       "52  [5089, 8697, 1251, 29882, 9261, 3699, 10774, 2...        household   \n",
       "53  [2696, 20205, 3344, 974, 288, 1283, 310, 29877...           office   \n",
       "54        [5161, 3780, 374, 14451, 29878, 10107, 364]             rise   \n",
       "55          [2175, 1563, 29880, 454, 280, 25874, 301]             left   \n",
       "56  [2083, 2533, 11801, 22792, 480, 2146, 269, 29879]           summer   \n",
       "\n",
       "   in_token_str  \n",
       "0         cloud  \n",
       "1           bag  \n",
       "2         mouth  \n",
       "3         heart  \n",
       "4          hand  \n",
       "5           day  \n",
       "6          star  \n",
       "7        spring  \n",
       "8          moon  \n",
       "9          wood  \n",
       "10         song  \n",
       "11         pond  \n",
       "12         wave  \n",
       "13         cave  \n",
       "14          sea  \n",
       "15      station  \n",
       "16          net  \n",
       "17         foot  \n",
       "18         gold  \n",
       "19         door  \n",
       "20         snow  \n",
       "21        horse  \n",
       "22          one  \n",
       "23          two  \n",
       "24         four  \n",
       "25         five  \n",
       "26        eight  \n",
       "27          ten  \n",
       "28         head  \n",
       "29        strip  \n",
       "30       street  \n",
       "31          eye  \n",
       "32        field  \n",
       "33         word  \n",
       "34     thousand  \n",
       "35     exchange  \n",
       "36         kind  \n",
       "37       school  \n",
       "38          tie  \n",
       "39         face  \n",
       "40       bridge  \n",
       "41       delete  \n",
       "42        house  \n",
       "43      meeting  \n",
       "44       square  \n",
       "45         city  \n",
       "46        speed  \n",
       "47       ground  \n",
       "48      attempt  \n",
       "49         tail  \n",
       "50       speech  \n",
       "51        child  \n",
       "52    household  \n",
       "53       office  \n",
       "54         rise  \n",
       "55         left  \n",
       "56       summer  "
      ]
     },
     "execution_count": 14,
     "metadata": {},
     "output_type": "execute_result"
    }
   ],
   "source": [
    "df"
   ]
  },
  {
   "cell_type": "code",
   "execution_count": 15,
   "id": "94fa55b7",
   "metadata": {
    "execution": {
     "iopub.execute_input": "2024-02-23T21:06:20.969623Z",
     "iopub.status.busy": "2024-02-23T21:06:20.969336Z",
     "iopub.status.idle": "2024-02-23T21:06:20.998697Z",
     "shell.execute_reply": "2024-02-23T21:06:20.998305Z"
    },
    "papermill": {
     "duration": 0.041613,
     "end_time": "2024-02-23T21:06:20.999507",
     "exception": false,
     "start_time": "2024-02-23T21:06:20.957894",
     "status": "completed"
    },
    "tags": []
   },
   "outputs": [],
   "source": [
    "def get_logits(model, prompt,lens):\n",
    "    inputs = tokenizer(prompt, return_tensors=\"pt\").to('cuda')\n",
    "    output = llama(inputs.input_ids, output_hidden_states=True)\n",
    "    hidden_states = output.hidden_states[:-1]\n",
    "    final_lps = output.logits.log_softmax(dim=-1)\n",
    "    tensors=[]\n",
    "    for i in range(len(model.model.layers)):\n",
    "        h = hidden_states[i].squeeze(0)\n",
    "        tensors+=[lens(h, idx=i).detach().cpu()]\n",
    "    tensors= torch.stack(tensors)  \n",
    "    hidden_states = torch.stack(hidden_states).squeeze(1).detach().cpu()\n",
    "    return tensors,hidden_states\n",
    "        "
   ]
  },
  {
   "cell_type": "code",
   "execution_count": 16,
   "id": "25241c49",
   "metadata": {
    "execution": {
     "iopub.execute_input": "2024-02-23T21:06:21.020032Z",
     "iopub.status.busy": "2024-02-23T21:06:21.019904Z",
     "iopub.status.idle": "2024-02-23T21:06:34.290546Z",
     "shell.execute_reply": "2024-02-23T21:06:34.290062Z"
    },
    "papermill": {
     "duration": 13.281592,
     "end_time": "2024-02-23T21:06:34.291377",
     "exception": false,
     "start_time": "2024-02-23T21:06:21.009785",
     "status": "completed"
    },
    "tags": []
   },
   "outputs": [
    {
     "name": "stderr",
     "output_type": "stream",
     "text": [
      "\r",
      "0it [00:00, ?it/s]"
     ]
    },
    {
     "name": "stderr",
     "output_type": "stream",
     "text": [
      "\r",
      "1it [00:00,  1.14it/s]"
     ]
    },
    {
     "name": "stderr",
     "output_type": "stream",
     "text": [
      "\r",
      "2it [00:01,  2.02it/s]"
     ]
    },
    {
     "name": "stderr",
     "output_type": "stream",
     "text": [
      "\r",
      "3it [00:01,  2.61it/s]"
     ]
    },
    {
     "name": "stderr",
     "output_type": "stream",
     "text": [
      "\r",
      "4it [00:01,  3.13it/s]"
     ]
    },
    {
     "name": "stderr",
     "output_type": "stream",
     "text": [
      "\r",
      "5it [00:01,  3.55it/s]"
     ]
    },
    {
     "name": "stderr",
     "output_type": "stream",
     "text": [
      "\r",
      "6it [00:02,  3.83it/s]"
     ]
    },
    {
     "name": "stderr",
     "output_type": "stream",
     "text": [
      "\r",
      "7it [00:02,  4.11it/s]"
     ]
    },
    {
     "name": "stderr",
     "output_type": "stream",
     "text": [
      "\r",
      "8it [00:02,  4.36it/s]"
     ]
    },
    {
     "name": "stderr",
     "output_type": "stream",
     "text": [
      "\r",
      "9it [00:02,  4.55it/s]"
     ]
    },
    {
     "name": "stderr",
     "output_type": "stream",
     "text": [
      "\r",
      "10it [00:02,  4.57it/s]"
     ]
    },
    {
     "name": "stderr",
     "output_type": "stream",
     "text": [
      "\r",
      "11it [00:03,  4.58it/s]"
     ]
    },
    {
     "name": "stderr",
     "output_type": "stream",
     "text": [
      "\r",
      "12it [00:03,  4.70it/s]"
     ]
    },
    {
     "name": "stderr",
     "output_type": "stream",
     "text": [
      "\r",
      "13it [00:03,  4.70it/s]"
     ]
    },
    {
     "name": "stderr",
     "output_type": "stream",
     "text": [
      "\r",
      "14it [00:03,  4.62it/s]"
     ]
    },
    {
     "name": "stderr",
     "output_type": "stream",
     "text": [
      "\r",
      "15it [00:03,  4.61it/s]"
     ]
    },
    {
     "name": "stderr",
     "output_type": "stream",
     "text": [
      "\r",
      "16it [00:04,  4.60it/s]"
     ]
    },
    {
     "name": "stderr",
     "output_type": "stream",
     "text": [
      "\r",
      "17it [00:04,  4.53it/s]"
     ]
    },
    {
     "name": "stderr",
     "output_type": "stream",
     "text": [
      "\r",
      "18it [00:04,  4.60it/s]"
     ]
    },
    {
     "name": "stderr",
     "output_type": "stream",
     "text": [
      "\r",
      "19it [00:04,  4.69it/s]"
     ]
    },
    {
     "name": "stderr",
     "output_type": "stream",
     "text": [
      "\r",
      "20it [00:05,  4.55it/s]"
     ]
    },
    {
     "name": "stderr",
     "output_type": "stream",
     "text": [
      "\r",
      "21it [00:05,  4.58it/s]"
     ]
    },
    {
     "name": "stderr",
     "output_type": "stream",
     "text": [
      "\r",
      "22it [00:05,  4.59it/s]"
     ]
    },
    {
     "name": "stderr",
     "output_type": "stream",
     "text": [
      "\r",
      "23it [00:05,  4.67it/s]"
     ]
    },
    {
     "name": "stderr",
     "output_type": "stream",
     "text": [
      "\r",
      "24it [00:05,  4.64it/s]"
     ]
    },
    {
     "name": "stderr",
     "output_type": "stream",
     "text": [
      "\r",
      "25it [00:06,  4.61it/s]"
     ]
    },
    {
     "name": "stderr",
     "output_type": "stream",
     "text": [
      "\r",
      "26it [00:06,  4.76it/s]"
     ]
    },
    {
     "name": "stderr",
     "output_type": "stream",
     "text": [
      "\r",
      "27it [00:06,  4.68it/s]"
     ]
    },
    {
     "name": "stderr",
     "output_type": "stream",
     "text": [
      "\r",
      "28it [00:06,  4.59it/s]"
     ]
    },
    {
     "name": "stderr",
     "output_type": "stream",
     "text": [
      "\r",
      "29it [00:06,  4.63it/s]"
     ]
    },
    {
     "name": "stderr",
     "output_type": "stream",
     "text": [
      "\r",
      "30it [00:07,  4.62it/s]"
     ]
    },
    {
     "name": "stderr",
     "output_type": "stream",
     "text": [
      "\r",
      "31it [00:07,  4.55it/s]"
     ]
    },
    {
     "name": "stderr",
     "output_type": "stream",
     "text": [
      "\r",
      "32it [00:07,  4.54it/s]"
     ]
    },
    {
     "name": "stderr",
     "output_type": "stream",
     "text": [
      "\r",
      "33it [00:07,  4.73it/s]"
     ]
    },
    {
     "name": "stderr",
     "output_type": "stream",
     "text": [
      "\r",
      "34it [00:07,  4.76it/s]"
     ]
    },
    {
     "name": "stderr",
     "output_type": "stream",
     "text": [
      "\r",
      "35it [00:08,  4.69it/s]"
     ]
    },
    {
     "name": "stderr",
     "output_type": "stream",
     "text": [
      "\r",
      "36it [00:08,  4.69it/s]"
     ]
    },
    {
     "name": "stderr",
     "output_type": "stream",
     "text": [
      "\r",
      "37it [00:08,  4.61it/s]"
     ]
    },
    {
     "name": "stderr",
     "output_type": "stream",
     "text": [
      "\r",
      "38it [00:08,  4.57it/s]"
     ]
    },
    {
     "name": "stderr",
     "output_type": "stream",
     "text": [
      "\r",
      "39it [00:09,  4.15it/s]"
     ]
    },
    {
     "name": "stderr",
     "output_type": "stream",
     "text": [
      "\r",
      "40it [00:09,  4.27it/s]"
     ]
    },
    {
     "name": "stderr",
     "output_type": "stream",
     "text": [
      "\r",
      "41it [00:09,  4.33it/s]"
     ]
    },
    {
     "name": "stderr",
     "output_type": "stream",
     "text": [
      "\r",
      "42it [00:09,  4.08it/s]"
     ]
    },
    {
     "name": "stderr",
     "output_type": "stream",
     "text": [
      "\r",
      "43it [00:10,  3.88it/s]"
     ]
    },
    {
     "name": "stderr",
     "output_type": "stream",
     "text": [
      "\r",
      "44it [00:10,  3.96it/s]"
     ]
    },
    {
     "name": "stderr",
     "output_type": "stream",
     "text": [
      "\r",
      "45it [00:10,  3.98it/s]"
     ]
    },
    {
     "name": "stderr",
     "output_type": "stream",
     "text": [
      "\r",
      "46it [00:10,  4.12it/s]"
     ]
    },
    {
     "name": "stderr",
     "output_type": "stream",
     "text": [
      "\r",
      "47it [00:11,  4.28it/s]"
     ]
    },
    {
     "name": "stderr",
     "output_type": "stream",
     "text": [
      "\r",
      "48it [00:11,  4.23it/s]"
     ]
    },
    {
     "name": "stderr",
     "output_type": "stream",
     "text": [
      "\r",
      "49it [00:11,  4.25it/s]"
     ]
    },
    {
     "name": "stderr",
     "output_type": "stream",
     "text": [
      "\r",
      "50it [00:11,  4.37it/s]"
     ]
    },
    {
     "name": "stderr",
     "output_type": "stream",
     "text": [
      "\r",
      "51it [00:11,  4.58it/s]"
     ]
    },
    {
     "name": "stderr",
     "output_type": "stream",
     "text": [
      "\r",
      "52it [00:12,  4.61it/s]"
     ]
    },
    {
     "name": "stderr",
     "output_type": "stream",
     "text": [
      "\r",
      "53it [00:12,  4.80it/s]"
     ]
    },
    {
     "name": "stderr",
     "output_type": "stream",
     "text": [
      "\r",
      "54it [00:12,  4.95it/s]"
     ]
    },
    {
     "name": "stderr",
     "output_type": "stream",
     "text": [
      "\r",
      "55it [00:12,  5.03it/s]"
     ]
    },
    {
     "name": "stderr",
     "output_type": "stream",
     "text": [
      "\r",
      "56it [00:12,  4.81it/s]"
     ]
    },
    {
     "name": "stderr",
     "output_type": "stream",
     "text": [
      "\r",
      "57it [00:13,  4.69it/s]"
     ]
    },
    {
     "name": "stderr",
     "output_type": "stream",
     "text": [
      "\r",
      "57it [00:13,  4.31it/s]"
     ]
    },
    {
     "name": "stderr",
     "output_type": "stream",
     "text": [
      "\n"
     ]
    }
   ],
   "source": [
    "in_token_probs = []\n",
    "latent_token_probs = []\n",
    "out_token_probs = []\n",
    "entropy = []\n",
    "energy = []\n",
    "latents_all = []\n",
    "\n",
    "for idx, d in tqdm(enumerate(dataset)):\n",
    "    logits,latents = get_logits(llama, d['prompt'],llama_lens)\n",
    "    last = logits[:, -1, :].float().softmax(dim=-1).detach().cpu()\n",
    "    latent_token_probs += [last[:, torch.tensor(d['latent_token_id'])].sum(dim=-1)]\n",
    "    out_token_probs += [last[:, torch.tensor(d['out_token_id'])].sum(dim=-1)]\n",
    "    entropy += [compute_entropy(last)]\n",
    "    latents_all += [latents[:, -1, :].float().detach().cpu().clone()]\n",
    "    latents_normalized = latents[:, -1, :].float()\n",
    "    latents_normalized = latents_normalized / (((latents_normalized**2).mean(dim=-1, keepdim=True))**0.5)\n",
    "    latents_normalized /= (latents_normalized.norm(dim=-1, keepdim=True))\n",
    "    norm = ((U_normalized @ latents_normalized.T)**2).mean(dim=0)**0.5\n",
    "    energy += [norm/avgUU]\n",
    "\n",
    "latent_token_probs = torch.stack(latent_token_probs)\n",
    "out_token_probs = torch.stack(out_token_probs)\n",
    "entropy = torch.stack(entropy)\n",
    "energy = torch.stack(energy)\n",
    "latents = torch.stack(latents_all)"
   ]
  },
  {
   "cell_type": "code",
   "execution_count": 17,
   "id": "680ef0b2",
   "metadata": {
    "execution": {
     "iopub.execute_input": "2024-02-23T21:06:34.318125Z",
     "iopub.status.busy": "2024-02-23T21:06:34.317988Z",
     "iopub.status.idle": "2024-02-23T21:06:34.662483Z",
     "shell.execute_reply": "2024-02-23T21:06:34.662054Z"
    },
    "papermill": {
     "duration": 0.358642,
     "end_time": "2024-02-23T21:06:34.663265",
     "exception": false,
     "start_time": "2024-02-23T21:06:34.304623",
     "status": "completed"
    },
    "tags": []
   },
   "outputs": [
    {
     "name": "stderr",
     "output_type": "stream",
     "text": [
      "/mnt/ssd-1/gpaulo/llm-latent-language/utils.py:52: UserWarning: This figure includes Axes that are not compatible with tight_layout, so results might be incorrect.\n",
      "  plt.tight_layout()\n"
     ]
    },
    {
     "data": {
      "image/png": "[encoded data removed]",
      "text/plain": [
       "<Figure size 500x300 with 3 Axes>"
      ]
     },
     "metadata": {},
     "output_type": "display_data"
    }
   ],
   "source": [
    "size2tik = {'7b': 5, '13b': 5, '70b': 10}\n",
    "fig, ax, ax2 = plot_ci_plus_heatmap(latent_token_probs, entropy, latent, color='tab:orange', tik_step=size2tik[model_size], do_colorbar=True, #, do_colorbar=(model_size=='70b'),\n",
    "nums=[.99, 0.18, 0.025, 0.6])\n",
    "plot_ci(ax2, out_token_probs, target_lang, color='tab:blue', do_lines=False)\n",
    "ax2.set_xlabel('layer')\n",
    "ax2.set_ylabel('probability')\n",
    "if model_size == '7b':\n",
    "    ax2.set_xlim(0, out_token_probs.shape[1]+1)\n",
    "else:\n",
    "    ax2.set_xlim(0, round(out_token_probs.shape[1]/10)*10+1)\n",
    "ax2.set_ylim(0, 1)\n",
    "# make xticks start from 1\n",
    "# put legend on the top left\n",
    "ax2.legend(loc='upper left')\n",
    "os.makedirs(f'{out_dir}/translation', exist_ok=True)\n",
    "\n",
    "plt.savefig(f'{out_dir}/translation/{model_size}_{input_lang}_{target_lang}_probas_ent.jpg', dpi=300, bbox_inches='tight')"
   ]
  },
  {
   "cell_type": "code",
   "execution_count": 18,
   "id": "48c50e4a",
   "metadata": {
    "execution": {
     "iopub.execute_input": "2024-02-23T21:06:34.690698Z",
     "iopub.status.busy": "2024-02-23T21:06:34.690209Z",
     "iopub.status.idle": "2024-02-23T21:06:34.854378Z",
     "shell.execute_reply": "2024-02-23T21:06:34.853934Z"
    },
    "papermill": {
     "duration": 0.178141,
     "end_time": "2024-02-23T21:06:34.855156",
     "exception": false,
     "start_time": "2024-02-23T21:06:34.677015",
     "status": "completed"
    },
    "tags": []
   },
   "outputs": [
    {
     "data": {
      "image/png": "[encoded data removed]",
      "text/plain": [
       "<Figure size 500x300 with 1 Axes>"
      ]
     },
     "metadata": {},
     "output_type": "display_data"
    }
   ],
   "source": [
    "size2tik = {'7b': 5, '13b': 5, '70b': 10}\n",
    "\n",
    "fig, ax2 = plt.subplots(figsize=(5,3))\n",
    "plot_ci(ax2, energy, 'energy', color='tab:green', do_lines=True, tik_step=size2tik[model_size])\n",
    "ax2.set_xlabel('layer')\n",
    "ax2.set_ylabel('energy')\n",
    "if model_size == '7b':\n",
    "    ax2.set_xlim(0, out_token_probs.shape[1]+1)\n",
    "else:\n",
    "    ax2.set_xlim(0, round(out_token_probs.shape[1]/10)*10+1)\n",
    "os.makedirs(f'{out_dir}/translation', exist_ok=True)\n",
    "plt.savefig(f'{out_dir}/translation/{model_size}_{input_lang}_{target_lang}_energy.jpg', dpi=300, bbox_inches='tight')"
   ]
  },
  {
   "cell_type": "code",
   "execution_count": null,
   "id": "de0f66f1",
   "metadata": {
    "papermill": {
     "duration": 0.01242,
     "end_time": "2024-02-23T21:06:34.880829",
     "exception": false,
     "start_time": "2024-02-23T21:06:34.868409",
     "status": "completed"
    },
    "tags": []
   },
   "outputs": [],
   "source": []
  }
 ],
 "metadata": {
  "kernelspec": {
   "display_name": "Python 3 (ipykernel)",
   "language": "python",
   "name": "python3"
  },
  "language_info": {
   "codemirror_mode": {
    "name": "ipython",
    "version": 3
   },
   "file_extension": ".py",
   "mimetype": "text/x-python",
   "name": "python",
   "nbconvert_exporter": "python",
   "pygments_lexer": "ipython3",
   "version": "3.11.5"
  },
  "papermill": {
   "default_parameters": {},
   "duration": 52.014633,
   "end_time": "2024-02-23T21:06:35.909423",
   "environment_variables": {},
   "exception": null,
   "input_path": "Translation.ipynb",
   "output_path": "visuals/executed_notebooks/Translation_logit_13b_en_fr.ipynb",
   "parameters": {
    "input_lang": "en",
    "model_size": "13b",
    "target_lang": "fr",
    "type": "logit"
   },
   "start_time": "2024-02-23T21:05:43.894790",
   "version": "2.5.0"
  },
  "widgets": {
   "application/vnd.jupyter.widget-state+json": {
    "state": {
     "1031da7740154cdf9adcbdb7174346b6": {
      "model_module": "@jupyter-widgets/controls",
      "model_module_version": "2.0.0",
      "model_name": "ProgressStyleModel",
      "state": {
       "_model_module": "@jupyter-widgets/controls",
       "_model_module_version": "2.0.0",
       "_model_name": "ProgressStyleModel",
       "_view_count": null,
       "_view_module": "@jupyter-widgets/base",
       "_view_module_version": "2.0.0",
       "_view_name": "StyleView",
       "bar_color": null,
       "description_width": ""
      }
     },
     "1488a501d62741eca0188794a8f35f51": {
      "model_module": "@jupyter-widgets/controls",
      "model_module_version": "2.0.0",
      "model_name": "HTMLModel",
      "state": {
       "_dom_classes": [],
       "_model_module": "@jupyter-widgets/controls",
       "_model_module_version": "2.0.0",
       "_model_name": "HTMLModel",
       "_view_count": null,
       "_view_module": "@jupyter-widgets/controls",
       "_view_module_version": "2.0.0",
       "_view_name": "HTMLView",
       "description": "",
       "description_allow_html": false,
       "layout": "IPY_MODEL_5914062e73094241bd63570ee806cbc9",
       "placeholder": "​",
       "style": "IPY_MODEL_1ce4086cd57242cda04d432bcd0ca8ef",
       "tabbable": null,
       "tooltip": null,
       "value": "Loading checkpoint shards: 100%"
      }
     },
     "1ce4086cd57242cda04d432bcd0ca8ef": {
      "model_module": "@jupyter-widgets/controls",
      "model_module_version": "2.0.0",
      "model_name": "HTMLStyleModel",
      "state": {
       "_model_module": "@jupyter-widgets/controls",
       "_model_module_version": "2.0.0",
       "_model_name": "HTMLStyleModel",
       "_view_count": null,
       "_view_module": "@jupyter-widgets/base",
       "_view_module_version": "2.0.0",
       "_view_name": "StyleView",
       "background": null,
       "description_width": "",
       "font_size": null,
       "text_color": null
      }
     },
     "551e1a16de5b47d7b6e20145cdfbecaf": {
      "model_module": "@jupyter-widgets/controls",
      "model_module_version": "2.0.0",
      "model_name": "HBoxModel",
      "state": {
       "_dom_classes": [],
       "_model_module": "@jupyter-widgets/controls",
       "_model_module_version": "2.0.0",
       "_model_name": "HBoxModel",
       "_view_count": null,
       "_view_module": "@jupyter-widgets/controls",
       "_view_module_version": "2.0.0",
       "_view_name": "HBoxView",
       "box_style": "",
       "children": [
        "IPY_MODEL_1488a501d62741eca0188794a8f35f51",
        "IPY_MODEL_fb86eef1c29d411c959410c1f001bda4",
        "IPY_MODEL_6cf74fe08963421e91f42222d843482a"
       ],
       "layout": "IPY_MODEL_ffffc3460ca940259529bc6fc5ab85bf",
       "tabbable": null,
       "tooltip": null
      }
     },
     "57817657af764294b242a42b0c94bafd": {
      "model_module": "@jupyter-widgets/controls",
      "model_module_version": "2.0.0",
      "model_name": "HTMLStyleModel",
      "state": {
       "_model_module": "@jupyter-widgets/controls",
       "_model_module_version": "2.0.0",
       "_model_name": "HTMLStyleModel",
       "_view_count": null,
       "_view_module": "@jupyter-widgets/base",
       "_view_module_version": "2.0.0",
       "_view_name": "StyleView",
       "background": null,
       "description_width": "",
       "font_size": null,
       "text_color": null
      }
     },
     "5914062e73094241bd63570ee806cbc9": {
      "model_module": "@jupyter-widgets/base",
      "model_module_version": "2.0.0",
      "model_name": "LayoutModel",
      "state": {
       "_model_module": "@jupyter-widgets/base",
       "_model_module_version": "2.0.0",
       "_model_name": "LayoutModel",
       "_view_count": null,
       "_view_module": "@jupyter-widgets/base",
       "_view_module_version": "2.0.0",
       "_view_name": "LayoutView",
       "align_content": null,
       "align_items": null,
       "align_self": null,
       "border_bottom": null,
       "border_left": null,
       "border_right": null,
       "border_top": null,
       "bottom": null,
       "display": null,
       "flex": null,
       "flex_flow": null,
       "grid_area": null,
       "grid_auto_columns": null,
       "grid_auto_flow": null,
       "grid_auto_rows": null,
       "grid_column": null,
       "grid_gap": null,
       "grid_row": null,
       "grid_template_areas": null,
       "grid_template_columns": null,
       "grid_template_rows": null,
       "height": null,
       "justify_content": null,
       "justify_items": null,
       "left": null,
       "margin": null,
       "max_height": null,
       "max_width": null,
       "min_height": null,
       "min_width": null,
       "object_fit": null,
       "object_position": null,
       "order": null,
       "overflow": null,
       "padding": null,
       "right": null,
       "top": null,
       "visibility": null,
       "width": null
      }
     },
     "6cf74fe08963421e91f42222d843482a": {
      "model_module": "@jupyter-widgets/controls",
      "model_module_version": "2.0.0",
      "model_name": "HTMLModel",
      "state": {
       "_dom_classes": [],
       "_model_module": "@jupyter-widgets/controls",
       "_model_module_version": "2.0.0",
       "_model_name": "HTMLModel",
       "_view_count": null,
       "_view_module": "@jupyter-widgets/controls",
       "_view_module_version": "2.0.0",
       "_view_name": "HTMLView",
       "description": "",
       "description_allow_html": false,
       "layout": "IPY_MODEL_f72d3895aed94b49b720ade9b833c764",
       "placeholder": "​",
       "style": "IPY_MODEL_57817657af764294b242a42b0c94bafd",
       "tabbable": null,
       "tooltip": null,
       "value": " 3/3 [00:07&lt;00:00,  2.41s/it]"
      }
     },
     "80f52942bdd04e75b91d27acbf3e3adc": {
      "model_module": "@jupyter-widgets/base",
      "model_module_version": "2.0.0",
      "model_name": "LayoutModel",
      "state": {
       "_model_module": "@jupyter-widgets/base",
       "_model_module_version": "2.0.0",
       "_model_name": "LayoutModel",
       "_view_count": null,
       "_view_module": "@jupyter-widgets/base",
       "_view_module_version": "2.0.0",
       "_view_name": "LayoutView",
       "align_content": null,
       "align_items": null,
       "align_self": null,
       "border_bottom": null,
       "border_left": null,
       "border_right": null,
       "border_top": null,
       "bottom": null,
       "display": null,
       "flex": null,
       "flex_flow": null,
       "grid_area": null,
       "grid_auto_columns": null,
       "grid_auto_flow": null,
       "grid_auto_rows": null,
       "grid_column": null,
       "grid_gap": null,
       "grid_row": null,
       "grid_template_areas": null,
       "grid_template_columns": null,
       "grid_template_rows": null,
       "height": null,
       "justify_content": null,
       "justify_items": null,
       "left": null,
       "margin": null,
       "max_height": null,
       "max_width": null,
       "min_height": null,
       "min_width": null,
       "object_fit": null,
       "object_position": null,
       "order": null,
       "overflow": null,
       "padding": null,
       "right": null,
       "top": null,
       "visibility": null,
       "width": null
      }
     },
     "f72d3895aed94b49b720ade9b833c764": {
      "model_module": "@jupyter-widgets/base",
      "model_module_version": "2.0.0",
      "model_name": "LayoutModel",
      "state": {
       "_model_module": "@jupyter-widgets/base",
       "_model_module_version": "2.0.0",
       "_model_name": "LayoutModel",
       "_view_count": null,
       "_view_module": "@jupyter-widgets/base",
       "_view_module_version": "2.0.0",
       "_view_name": "LayoutView",
       "align_content": null,
       "align_items": null,
       "align_self": null,
       "border_bottom": null,
       "border_left": null,
       "border_right": null,
       "border_top": null,
       "bottom": null,
       "display": null,
       "flex": null,
       "flex_flow": null,
       "grid_area": null,
       "grid_auto_columns": null,
       "grid_auto_flow": null,
       "grid_auto_rows": null,
       "grid_column": null,
       "grid_gap": null,
       "grid_row": null,
       "grid_template_areas": null,
       "grid_template_columns": null,
       "grid_template_rows": null,
       "height": null,
       "justify_content": null,
       "justify_items": null,
       "left": null,
       "margin": null,
       "max_height": null,
       "max_width": null,
       "min_height": null,
       "min_width": null,
       "object_fit": null,
       "object_position": null,
       "order": null,
       "overflow": null,
       "padding": null,
       "right": null,
       "top": null,
       "visibility": null,
       "width": null
      }
     },
     "fb86eef1c29d411c959410c1f001bda4": {
      "model_module": "@jupyter-widgets/controls",
      "model_module_version": "2.0.0",
      "model_name": "FloatProgressModel",
      "state": {
       "_dom_classes": [],
       "_model_module": "@jupyter-widgets/controls",
       "_model_module_version": "2.0.0",
       "_model_name": "FloatProgressModel",
       "_view_count": null,
       "_view_module": "@jupyter-widgets/controls",
       "_view_module_version": "2.0.0",
       "_view_name": "ProgressView",
       "bar_style": "success",
       "description": "",
       "description_allow_html": false,
       "layout": "IPY_MODEL_80f52942bdd04e75b91d27acbf3e3adc",
       "max": 3.0,
       "min": 0.0,
       "orientation": "horizontal",
       "style": "IPY_MODEL_1031da7740154cdf9adcbdb7174346b6",
       "tabbable": null,
       "tooltip": null,
       "value": 3.0
      }
     },
     "ffffc3460ca940259529bc6fc5ab85bf": {
      "model_module": "@jupyter-widgets/base",
      "model_module_version": "2.0.0",
      "model_name": "LayoutModel",
      "state": {
       "_model_module": "@jupyter-widgets/base",
       "_model_module_version": "2.0.0",
       "_model_name": "LayoutModel",
       "_view_count": null,
       "_view_module": "@jupyter-widgets/base",
       "_view_module_version": "2.0.0",
       "_view_name": "LayoutView",
       "align_content": null,
       "align_items": null,
       "align_self": null,
       "border_bottom": null,
       "border_left": null,
       "border_right": null,
       "border_top": null,
       "bottom": null,
       "display": null,
       "flex": null,
       "flex_flow": null,
       "grid_area": null,
       "grid_auto_columns": null,
       "grid_auto_flow": null,
       "grid_auto_rows": null,
       "grid_column": null,
       "grid_gap": null,
       "grid_row": null,
       "grid_template_areas": null,
       "grid_template_columns": null,
       "grid_template_rows": null,
       "height": null,
       "justify_content": null,
       "justify_items": null,
       "left": null,
       "margin": null,
       "max_height": null,
       "max_width": null,
       "min_height": null,
       "min_width": null,
       "object_fit": null,
       "object_position": null,
       "order": null,
       "overflow": null,
       "padding": null,
       "right": null,
       "top": null,
       "visibility": null,
       "width": null
      }
     }
    },
    "version_major": 2,
    "version_minor": 0
   }
  }
 },
 "nbformat": 4,
 "nbformat_minor": 5
}